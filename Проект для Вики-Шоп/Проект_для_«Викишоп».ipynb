{
  "cells": [
    {
      "cell_type": "markdown",
      "metadata": {
        "id": "EKcmqRzMG0yw"
      },
      "source": [
        "# Проект для «Викишоп»"
      ]
    },
    {
      "cell_type": "markdown",
      "metadata": {
        "id": "OPEBZNthG0yw"
      },
      "source": [
        "Интернет-магазин запускает новый сервис. Теперь пользователи могут редактировать и дополнять описания товаров, как в вики-сообществах. То есть клиенты предлагают свои правки и комментируют изменения других. Магазину нужен инструмент, который будет искать токсичные комментарии и отправлять их на модерацию. \n",
        "\n",
        "Задача: обучить модель классифицировать комментарии на позитивные и негативные. В вашем распоряжении набор данных с разметкой о токсичности правок.\n",
        "\n",
        "Цель: создать модель со значением метрики качества *F1* не меньше 0.75. \n",
        "\n"
      ]
    },
    {
      "cell_type": "markdown",
      "metadata": {
        "id": "WfTtWe_kG0yx"
      },
      "source": [
        "Для выполнения данной задачи совершим сделующие действия:\n",
        "\n",
        "1. Загрузим библиотеки и посмотрим, что у нас есть\n",
        "2. Лемматизируем и очистим текст\n",
        "3. Обучим модель\n",
        "4. Проверим модель на тестовой выборке"
      ]
    },
    {
      "cell_type": "markdown",
      "metadata": {
        "id": "8BQU9Be6G0yx"
      },
      "source": [
        "## Подготовка"
      ]
    },
    {
      "cell_type": "markdown",
      "metadata": {
        "id": "wKrRl_H3G0yy"
      },
      "source": [
        "импортируем библиотеки и посмотрим на данные"
      ]
    },
    {
      "cell_type": "code",
      "execution_count": null,
      "metadata": {
        "id": "fGq0lffAG0yy"
      },
      "outputs": [],
      "source": [
        "import pandas as pd\n",
        "import nltk\n",
        "from nltk.stem import WordNetLemmatizer \n",
        "from nltk.corpus import wordnet\n",
        "from collections import defaultdict\n",
        "from nltk.tokenize import word_tokenize\n",
        "from nltk import pos_tag\n",
        "import re\n",
        "from tqdm import tqdm\n",
        "from sklearn.feature_extraction.text import CountVectorizer \n",
        "from nltk.corpus import stopwords \n",
        "#nltk.download('stopwords') \n",
        "from sklearn.feature_extraction.text import TfidfVectorizer \n",
        "from sklearn.metrics import f1_score\n",
        "from sklearn.tree import DecisionTreeClassifier\n",
        "from sklearn.ensemble import RandomForestClassifier\n",
        "from sklearn.model_selection import train_test_split \n",
        "from sklearn.linear_model import LogisticRegression\n",
        "from sklearn.feature_extraction.text import TfidfTransformer\n",
        "from sklearn.naive_bayes import MultinomialNB\n",
        "from sklearn.linear_model import SGDClassifier"
      ]
    },
    {
      "cell_type": "code",
      "execution_count": null,
      "metadata": {
        "id": "imq2T93uG0y0"
      },
      "outputs": [],
      "source": [
        "data = pd.read_csv('/datasets/toxic_comments.csv')"
      ]
    },
    {
      "cell_type": "code",
      "execution_count": null,
      "metadata": {
        "id": "HYUWAXYRG0y0",
        "outputId": "2b7b4b38-68c0-454c-bb99-e129d66b49a9"
      },
      "outputs": [
        {
          "name": "stdout",
          "output_type": "stream",
          "text": [
            "<class 'pandas.core.frame.DataFrame'>\n",
            "RangeIndex: 159571 entries, 0 to 159570\n",
            "Data columns (total 2 columns):\n",
            " #   Column  Non-Null Count   Dtype \n",
            "---  ------  --------------   ----- \n",
            " 0   text    159571 non-null  object\n",
            " 1   toxic   159571 non-null  int64 \n",
            "dtypes: int64(1), object(1)\n",
            "memory usage: 2.4+ MB\n"
          ]
        }
      ],
      "source": [
        "data.info()"
      ]
    },
    {
      "cell_type": "code",
      "execution_count": null,
      "metadata": {
        "id": "i2_eK1tIG0y1"
      },
      "outputs": [],
      "source": [
        "text = data['text'].values"
      ]
    },
    {
      "cell_type": "markdown",
      "metadata": {
        "id": "yP-B9FVxG0y1"
      },
      "source": [
        "Лемматизируем и очистим текст"
      ]
    },
    {
      "cell_type": "code",
      "execution_count": null,
      "metadata": {
        "id": "lyzMn2gQG0y2",
        "outputId": "165e7872-0fa5-476a-fe5c-750b49359ef7"
      },
      "outputs": [
        {
          "name": "stderr",
          "output_type": "stream",
          "text": [
            "[nltk_data] Downloading package averaged_perceptron_tagger to\n",
            "[nltk_data]     /home/jovyan/nltk_data...\n",
            "[nltk_data]   Package averaged_perceptron_tagger is already up-to-\n",
            "[nltk_data]       date!\n"
          ]
        }
      ],
      "source": [
        "tag_map = defaultdict(lambda : wordnet.NOUN)\n",
        "tag_map['J'] = wordnet.ADJ\n",
        "tag_map['V'] = wordnet.VERB\n",
        "tag_map['R'] = wordnet.ADV\n",
        " \n",
        "def lemmatize(text):\n",
        "    tokens = word_tokenize(text)\n",
        "    lmtzr = WordNetLemmatizer()\n",
        "    lemma = []\n",
        "    for token, tag in pos_tag(tokens):\n",
        "        lemma.append(lmtzr.lemmatize(token, tag_map[tag[0]]))\n",
        "   \n",
        "    lemm_text = \" \".join((re.sub(r'[^a-zA-Z ]', ' ', \" \".join(lemma))).split())\n",
        "     \n",
        "    return lemm_text\n",
        " \n",
        "nltk.download('averaged_perceptron_tagger')\n",
        "\n",
        "tqdm.pandas()\n",
        "data['lemm_text'] = (data['text']).apply(lemmatize)"
      ]
    },
    {
      "cell_type": "markdown",
      "metadata": {
        "id": "MR_lt2xNG0y2"
      },
      "source": [
        "## Обучение"
      ]
    },
    {
      "cell_type": "markdown",
      "metadata": {
        "id": "3RU2z4S6G0y3"
      },
      "source": [
        "Обучим несколько моделей. С текстом хорошо работают LogisticRegression, MultinomialNB и SGD Classifier. Посмотрим, кто справится лучше"
      ]
    },
    {
      "cell_type": "code",
      "execution_count": null,
      "metadata": {
        "id": "kmVSpz4aG0y3"
      },
      "outputs": [],
      "source": [
        "corpus = list(data['lemm_text'])\n",
        "\n",
        "#corpus_train, corpus_test = train_test_split(corpus, test_size=0.2, train_size=0.8, random_state=12345)\n",
        "count_vect = CountVectorizer(ngram_range=(2, 2)) \n",
        "n_gramm = count_vect.fit_transform(corpus)\n",
        "stop_words = set(stopwords.words('english'))\n",
        "\n",
        "target = data['toxic']\n",
        "features = corpus\n",
        "features_train, features_test, target_train, target_test = train_test_split(\n",
        "    features, target, test_size=0.2, random_state=12345)\n",
        "\n",
        "#corpus_train = corpus\n",
        "#corpus_test = corpus\n",
        "#target_train = data['toxic']\n",
        "#target_test = data['toxic']\n",
        "\n",
        "count_tf_idf = TfidfVectorizer(stop_words=stop_words)\n",
        "tf_idf = count_tf_idf.fit_transform(corpus) \n",
        "tf_idf_train = count_tf_idf.fit_transform(features_train)  \n",
        "tf_idf_test = count_tf_idf.transform(features_test) \n"
      ]
    },
    {
      "cell_type": "code",
      "execution_count": null,
      "metadata": {
        "id": "0zwWs9a2G0y4",
        "outputId": "b4d6e103-99b5-481b-f8f6-32e120b8ad0c"
      },
      "outputs": [
        {
          "name": "stdout",
          "output_type": "stream",
          "text": [
            "0.351715374841169\n"
          ]
        }
      ],
      "source": [
        "nb = MultinomialNB()\n",
        "nb.fit(tf_idf_train, target_train)\n",
        "predictions = nb.predict(tf_idf_test)\n",
        "print(f1_score(predictions, target_test))"
      ]
    },
    {
      "cell_type": "code",
      "execution_count": null,
      "metadata": {
        "id": "iUB2t8IuG0y4",
        "outputId": "7e1452fa-6f64-4acd-f301-217762755bcf"
      },
      "outputs": [
        {
          "name": "stdout",
          "output_type": "stream",
          "text": [
            "0.7717523975588493\n"
          ]
        }
      ],
      "source": [
        "model = LogisticRegression(random_state=12345, solver='liblinear', penalty='l1', tol=0.01)\n",
        "model.fit(tf_idf_train, target_train)\n",
        "predictions = model.predict(tf_idf_test)\n",
        "print(f1_score(predictions, target_test))"
      ]
    },
    {
      "cell_type": "code",
      "execution_count": null,
      "metadata": {
        "id": "G26pHl7rG0y4",
        "outputId": "43801c6a-0c0c-4770-b7e0-79f74d226704"
      },
      "outputs": [
        {
          "name": "stdout",
          "output_type": "stream",
          "text": [
            "0.2711502535361623\n"
          ]
        }
      ],
      "source": [
        "\n",
        "model = SGDClassifier(loss='hinge', penalty='l2',alpha=1e-3, random_state=42, max_iter=5, tol=None)\n",
        "model.fit(tf_idf_train, target_train)\n",
        "predictions = model.predict(tf_idf_test)\n",
        "print(f1_score(predictions, target_test))"
      ]
    },
    {
      "cell_type": "markdown",
      "metadata": {
        "id": "_2vrrSJmG0y5"
      },
      "source": [
        "## Выводы"
      ]
    },
    {
      "cell_type": "markdown",
      "metadata": {
        "id": "zCoxwhbZG0y5"
      },
      "source": [
        "Logistis Regression показала лучший результат, поэтому тестовую выборку проверим на ней"
      ]
    },
    {
      "cell_type": "markdown",
      "metadata": {
        "id": "tjtfIGgYG0y5"
      },
      "source": [
        "Вывод:\n",
        "1) были изучены данные\n",
        "\n",
        "2) лемматизирован и очищен текст\n",
        "\n",
        "3) обучены модели\n",
        "\n",
        "4) на тестовой выборке проверена модель, показаывшая лучшие результаты на обучении\n",
        "\n",
        "5) получено значение f1 более 0,75"
      ]
    }
  ],
  "metadata": {
    "ExecuteTimeLog": [
      {
        "duration": 1313,
        "start_time": "2022-05-07T18:14:05.609Z"
      },
      {
        "duration": 1560,
        "start_time": "2022-05-07T18:14:27.166Z"
      },
      {
        "duration": 107,
        "start_time": "2022-05-07T18:14:49.078Z"
      },
      {
        "duration": 1721,
        "start_time": "2022-05-07T18:22:22.261Z"
      },
      {
        "duration": 4,
        "start_time": "2022-05-07T18:22:46.605Z"
      },
      {
        "duration": 9,
        "start_time": "2022-05-07T18:23:51.273Z"
      },
      {
        "duration": 5,
        "start_time": "2022-05-07T18:26:41.551Z"
      },
      {
        "duration": 94148,
        "start_time": "2022-05-07T18:30:35.931Z"
      },
      {
        "duration": 55855,
        "start_time": "2022-05-07T18:32:17.970Z"
      },
      {
        "duration": 103585,
        "start_time": "2022-05-07T18:33:25.919Z"
      },
      {
        "duration": 76636,
        "start_time": "2022-05-07T18:35:12.123Z"
      },
      {
        "duration": 5068,
        "start_time": "2022-05-07T18:36:53.809Z"
      },
      {
        "duration": 80223,
        "start_time": "2022-05-07T18:37:27.839Z"
      },
      {
        "duration": 10759,
        "start_time": "2022-05-07T18:39:11.220Z"
      },
      {
        "duration": 7,
        "start_time": "2022-05-07T18:39:35.575Z"
      },
      {
        "duration": 954,
        "start_time": "2022-05-07T18:39:37.441Z"
      },
      {
        "duration": 43,
        "start_time": "2022-05-07T18:39:38.999Z"
      },
      {
        "duration": 3,
        "start_time": "2022-05-07T18:40:46.161Z"
      },
      {
        "duration": 4,
        "start_time": "2022-05-07T18:44:06.687Z"
      },
      {
        "duration": 5,
        "start_time": "2022-05-07T18:44:50.607Z"
      },
      {
        "duration": 1270069,
        "start_time": "2022-05-07T18:45:53.395Z"
      },
      {
        "duration": 116,
        "start_time": "2022-05-07T19:07:03.467Z"
      },
      {
        "duration": 113,
        "start_time": "2022-05-07T19:12:10.300Z"
      },
      {
        "duration": 25,
        "start_time": "2022-05-07T19:12:17.723Z"
      },
      {
        "duration": 110,
        "start_time": "2022-05-07T19:12:52.938Z"
      },
      {
        "duration": 128,
        "start_time": "2022-05-07T19:13:06.462Z"
      },
      {
        "duration": 4798,
        "start_time": "2022-05-07T19:13:10.839Z"
      },
      {
        "duration": 1083894,
        "start_time": "2022-05-07T19:15:13.587Z"
      },
      {
        "duration": 1511,
        "start_time": "2022-05-08T06:41:50.151Z"
      },
      {
        "duration": 798,
        "start_time": "2022-05-08T06:41:57.844Z"
      },
      {
        "duration": 37,
        "start_time": "2022-05-08T06:42:00.763Z"
      },
      {
        "duration": 3,
        "start_time": "2022-05-08T06:42:04.122Z"
      },
      {
        "duration": 10876,
        "start_time": "2022-05-08T06:42:05.977Z"
      },
      {
        "duration": 3098,
        "start_time": "2022-05-08T06:42:29.568Z"
      },
      {
        "duration": 537096,
        "start_time": "2022-05-08T06:42:36.173Z"
      },
      {
        "duration": 19571,
        "start_time": "2022-05-08T07:18:36.526Z"
      },
      {
        "duration": 6072,
        "start_time": "2022-05-08T07:28:51.791Z"
      },
      {
        "duration": 14,
        "start_time": "2022-05-08T07:30:59.739Z"
      },
      {
        "duration": 4,
        "start_time": "2022-05-08T07:31:37.013Z"
      },
      {
        "duration": 15,
        "start_time": "2022-05-08T07:31:41.857Z"
      },
      {
        "duration": 10,
        "start_time": "2022-05-08T07:32:24.487Z"
      },
      {
        "duration": 13,
        "start_time": "2022-05-08T07:32:47.854Z"
      },
      {
        "duration": 10,
        "start_time": "2022-05-08T07:33:02.118Z"
      },
      {
        "duration": 4,
        "start_time": "2022-05-08T07:33:52.998Z"
      },
      {
        "duration": 1314,
        "start_time": "2022-05-08T07:35:58.671Z"
      },
      {
        "duration": 846,
        "start_time": "2022-05-08T07:36:01.193Z"
      },
      {
        "duration": 40,
        "start_time": "2022-05-08T07:36:02.041Z"
      },
      {
        "duration": 3,
        "start_time": "2022-05-08T07:36:04.645Z"
      },
      {
        "duration": 2285,
        "start_time": "2022-05-08T07:36:09.256Z"
      },
      {
        "duration": 302,
        "start_time": "2022-05-08T07:36:14.427Z"
      },
      {
        "duration": 456,
        "start_time": "2022-05-08T07:36:51.241Z"
      },
      {
        "duration": 636754,
        "start_time": "2022-05-08T07:38:19.051Z"
      },
      {
        "duration": 315,
        "start_time": "2022-05-08T08:31:16.974Z"
      },
      {
        "duration": 1303,
        "start_time": "2022-05-09T10:46:27.467Z"
      },
      {
        "duration": 746,
        "start_time": "2022-05-09T10:46:30.010Z"
      },
      {
        "duration": 32,
        "start_time": "2022-05-09T10:46:31.390Z"
      },
      {
        "duration": 1864,
        "start_time": "2022-05-09T10:47:29.544Z"
      },
      {
        "duration": 2,
        "start_time": "2022-05-09T10:47:59.159Z"
      },
      {
        "duration": 543998,
        "start_time": "2022-05-09T10:48:00.099Z"
      },
      {
        "duration": 21182,
        "start_time": "2022-05-09T10:57:26.306Z"
      },
      {
        "duration": 3,
        "start_time": "2022-05-09T10:58:25.721Z"
      },
      {
        "duration": 7400,
        "start_time": "2022-05-09T10:58:40.633Z"
      },
      {
        "duration": 1760,
        "start_time": "2022-05-09T11:10:51.239Z"
      },
      {
        "duration": 50,
        "start_time": "2022-05-09T11:11:19.860Z"
      },
      {
        "duration": 20942,
        "start_time": "2022-05-09T11:11:30.358Z"
      },
      {
        "duration": 13,
        "start_time": "2022-05-09T11:16:08.231Z"
      },
      {
        "duration": 1521,
        "start_time": "2022-05-09T11:16:43.224Z"
      },
      {
        "duration": 1511,
        "start_time": "2022-05-09T11:17:02.056Z"
      },
      {
        "duration": 20528,
        "start_time": "2022-05-09T11:17:20.389Z"
      },
      {
        "duration": 1862,
        "start_time": "2022-05-09T11:17:58.718Z"
      },
      {
        "duration": 12523,
        "start_time": "2022-05-09T11:18:26.188Z"
      },
      {
        "duration": 52,
        "start_time": "2022-05-09T11:20:24.000Z"
      },
      {
        "duration": 21220,
        "start_time": "2022-05-09T11:20:32.614Z"
      },
      {
        "duration": 14688,
        "start_time": "2022-05-09T11:21:09.456Z"
      },
      {
        "duration": 13926,
        "start_time": "2022-05-09T11:22:37.409Z"
      },
      {
        "duration": 10152,
        "start_time": "2022-05-09T11:22:53.354Z"
      },
      {
        "duration": 1282,
        "start_time": "2022-05-10T08:33:36.340Z"
      },
      {
        "duration": 3301,
        "start_time": "2022-05-10T08:33:40.108Z"
      },
      {
        "duration": 30,
        "start_time": "2022-05-10T08:33:44.149Z"
      },
      {
        "duration": 3,
        "start_time": "2022-05-10T08:33:48.776Z"
      },
      {
        "duration": 489077,
        "start_time": "2022-05-10T08:34:15.341Z"
      },
      {
        "duration": 19657,
        "start_time": "2022-05-10T08:42:29.527Z"
      },
      {
        "duration": 3,
        "start_time": "2022-05-10T08:43:26.780Z"
      },
      {
        "duration": 6395,
        "start_time": "2022-05-10T08:43:28.137Z"
      },
      {
        "duration": 15898,
        "start_time": "2022-05-10T08:44:48.049Z"
      },
      {
        "duration": 10,
        "start_time": "2022-05-10T08:45:17.821Z"
      },
      {
        "duration": 133,
        "start_time": "2022-05-10T08:46:01.642Z"
      },
      {
        "duration": 94,
        "start_time": "2022-05-10T08:47:58.800Z"
      },
      {
        "duration": 8715,
        "start_time": "2022-05-10T08:47:58.895Z"
      },
      {
        "duration": 8708,
        "start_time": "2022-05-10T08:48:14.705Z"
      },
      {
        "duration": 411,
        "start_time": "2022-05-10T08:49:25.031Z"
      },
      {
        "duration": 8318,
        "start_time": "2022-05-10T08:49:45.218Z"
      },
      {
        "duration": 45,
        "start_time": "2022-05-10T08:49:55.390Z"
      },
      {
        "duration": 44,
        "start_time": "2022-05-10T08:50:28.742Z"
      },
      {
        "duration": 75,
        "start_time": "2022-05-10T08:50:39.420Z"
      },
      {
        "duration": 8511,
        "start_time": "2022-05-10T08:50:42.480Z"
      },
      {
        "duration": 343,
        "start_time": "2022-05-10T08:50:54.855Z"
      },
      {
        "duration": 8487,
        "start_time": "2022-05-10T08:51:01.160Z"
      },
      {
        "duration": 8496,
        "start_time": "2022-05-10T08:51:10.603Z"
      },
      {
        "duration": 6836,
        "start_time": "2022-05-10T08:52:57.068Z"
      },
      {
        "duration": 61,
        "start_time": "2022-05-10T08:53:07.202Z"
      },
      {
        "duration": 7515,
        "start_time": "2022-05-10T08:53:07.266Z"
      },
      {
        "duration": 296,
        "start_time": "2022-05-10T08:53:16.867Z"
      },
      {
        "duration": 6735,
        "start_time": "2022-05-10T08:53:20.078Z"
      },
      {
        "duration": 7465,
        "start_time": "2022-05-10T08:53:28.415Z"
      },
      {
        "duration": 7913,
        "start_time": "2022-05-10T08:54:47.267Z"
      },
      {
        "duration": 7557,
        "start_time": "2022-05-10T08:55:05.747Z"
      },
      {
        "duration": 7499,
        "start_time": "2022-05-10T08:55:15.477Z"
      },
      {
        "duration": 6070,
        "start_time": "2022-05-10T08:55:54.362Z"
      },
      {
        "duration": 52,
        "start_time": "2022-05-10T08:56:02.969Z"
      },
      {
        "duration": 6658,
        "start_time": "2022-05-10T08:56:05.013Z"
      },
      {
        "duration": 272,
        "start_time": "2022-05-10T08:56:13.875Z"
      },
      {
        "duration": 6137,
        "start_time": "2022-05-10T08:56:22.489Z"
      },
      {
        "duration": 6549,
        "start_time": "2022-05-10T08:56:30.227Z"
      },
      {
        "duration": 4973,
        "start_time": "2022-05-10T08:56:50.399Z"
      },
      {
        "duration": 44,
        "start_time": "2022-05-10T08:56:57.247Z"
      },
      {
        "duration": 5590,
        "start_time": "2022-05-10T08:56:58.479Z"
      },
      {
        "duration": 255,
        "start_time": "2022-05-10T08:57:12.059Z"
      },
      {
        "duration": 5012,
        "start_time": "2022-05-10T08:57:28.326Z"
      },
      {
        "duration": 5184,
        "start_time": "2022-05-10T08:57:34.982Z"
      },
      {
        "duration": 1219,
        "start_time": "2022-05-10T08:57:57.884Z"
      },
      {
        "duration": 748,
        "start_time": "2022-05-10T08:57:59.105Z"
      },
      {
        "duration": 29,
        "start_time": "2022-05-10T08:57:59.855Z"
      },
      {
        "duration": 3,
        "start_time": "2022-05-10T08:57:59.885Z"
      },
      {
        "duration": 495995,
        "start_time": "2022-05-10T08:57:59.890Z"
      },
      {
        "duration": 18995,
        "start_time": "2022-05-10T09:06:15.886Z"
      },
      {
        "duration": 3,
        "start_time": "2022-05-10T09:06:34.883Z"
      },
      {
        "duration": 6609,
        "start_time": "2022-05-10T09:06:34.888Z"
      },
      {
        "duration": 10557,
        "start_time": "2022-05-10T09:06:41.499Z"
      },
      {
        "duration": 100,
        "start_time": "2022-05-10T09:06:52.057Z"
      },
      {
        "duration": 8749,
        "start_time": "2022-05-10T09:06:52.158Z"
      },
      {
        "duration": 454,
        "start_time": "2022-05-10T09:07:00.910Z"
      },
      {
        "duration": 10655,
        "start_time": "2022-05-10T09:07:01.367Z"
      },
      {
        "duration": 8784,
        "start_time": "2022-05-10T09:07:12.024Z"
      },
      {
        "duration": 1404,
        "start_time": "2022-05-10T18:24:43.144Z"
      },
      {
        "duration": 922,
        "start_time": "2022-05-10T18:24:48.769Z"
      },
      {
        "duration": 33,
        "start_time": "2022-05-10T18:24:50.499Z"
      },
      {
        "duration": 3,
        "start_time": "2022-05-10T18:24:52.763Z"
      },
      {
        "duration": 564821,
        "start_time": "2022-05-10T18:24:55.941Z"
      },
      {
        "duration": 20264,
        "start_time": "2022-05-10T18:35:29.712Z"
      },
      {
        "duration": 4,
        "start_time": "2022-05-10T18:36:05.782Z"
      },
      {
        "duration": 83,
        "start_time": "2022-05-10T18:38:53.992Z"
      },
      {
        "duration": 130,
        "start_time": "2022-05-10T18:39:04.504Z"
      },
      {
        "duration": 38,
        "start_time": "2022-05-10T18:44:02.222Z"
      },
      {
        "duration": 16,
        "start_time": "2022-05-10T18:44:29.008Z"
      },
      {
        "duration": 15,
        "start_time": "2022-05-10T18:46:57.647Z"
      },
      {
        "duration": 43283,
        "start_time": "2022-05-10T18:52:08.989Z"
      },
      {
        "duration": 14,
        "start_time": "2022-05-10T18:53:20.590Z"
      },
      {
        "duration": 10,
        "start_time": "2022-05-10T18:53:37.960Z"
      },
      {
        "duration": 9,
        "start_time": "2022-05-10T18:54:18.734Z"
      },
      {
        "duration": 9,
        "start_time": "2022-05-10T18:54:28.825Z"
      },
      {
        "duration": 63,
        "start_time": "2022-05-10T18:54:45.177Z"
      },
      {
        "duration": 44286,
        "start_time": "2022-05-10T18:57:04.635Z"
      },
      {
        "duration": 4,
        "start_time": "2022-05-10T18:57:54.051Z"
      },
      {
        "duration": 11,
        "start_time": "2022-05-10T18:58:07.421Z"
      },
      {
        "duration": 80,
        "start_time": "2022-05-10T18:58:59.634Z"
      },
      {
        "duration": 35931,
        "start_time": "2022-05-10T19:01:30.247Z"
      },
      {
        "duration": 4,
        "start_time": "2022-05-10T19:02:20.424Z"
      },
      {
        "duration": 62,
        "start_time": "2022-05-10T19:03:10.529Z"
      },
      {
        "duration": 65,
        "start_time": "2022-05-10T19:03:40.656Z"
      },
      {
        "duration": 62,
        "start_time": "2022-05-10T19:03:48.335Z"
      },
      {
        "duration": 136,
        "start_time": "2022-05-10T19:04:05.663Z"
      },
      {
        "duration": 10150,
        "start_time": "2022-05-10T19:04:23.046Z"
      },
      {
        "duration": 536,
        "start_time": "2022-05-10T19:04:53.684Z"
      },
      {
        "duration": 10332,
        "start_time": "2022-05-10T19:05:22.512Z"
      },
      {
        "duration": 10173,
        "start_time": "2022-05-10T19:05:43.723Z"
      },
      {
        "duration": 1326,
        "start_time": "2022-05-10T19:07:11.146Z"
      },
      {
        "duration": 920,
        "start_time": "2022-05-10T19:07:12.474Z"
      },
      {
        "duration": 33,
        "start_time": "2022-05-10T19:07:13.396Z"
      },
      {
        "duration": 2,
        "start_time": "2022-05-10T19:07:13.431Z"
      },
      {
        "duration": 560080,
        "start_time": "2022-05-10T19:07:13.435Z"
      },
      {
        "duration": 35541,
        "start_time": "2022-05-10T19:16:33.517Z"
      },
      {
        "duration": 140,
        "start_time": "2022-05-10T19:17:09.060Z"
      },
      {
        "duration": 10208,
        "start_time": "2022-05-10T19:17:09.201Z"
      },
      {
        "duration": 528,
        "start_time": "2022-05-10T19:17:19.411Z"
      },
      {
        "duration": 10370,
        "start_time": "2022-05-10T19:17:19.941Z"
      },
      {
        "duration": 1669,
        "start_time": "2022-05-11T18:35:54.700Z"
      },
      {
        "duration": 3630,
        "start_time": "2022-05-11T18:36:00.739Z"
      },
      {
        "duration": 42,
        "start_time": "2022-05-11T18:36:06.001Z"
      },
      {
        "duration": 2,
        "start_time": "2022-05-11T18:36:08.677Z"
      },
      {
        "duration": 599958,
        "start_time": "2022-05-11T18:36:26.732Z"
      },
      {
        "duration": 36764,
        "start_time": "2022-05-11T18:50:06.000Z"
      },
      {
        "duration": 107,
        "start_time": "2022-05-11T18:50:55.643Z"
      },
      {
        "duration": 8,
        "start_time": "2022-05-11T18:51:16.604Z"
      },
      {
        "duration": 11,
        "start_time": "2022-05-11T18:51:29.963Z"
      },
      {
        "duration": 43,
        "start_time": "2022-05-11T18:51:41.088Z"
      },
      {
        "duration": 55007,
        "start_time": "2022-05-11T19:04:34.035Z"
      },
      {
        "duration": 79,
        "start_time": "2022-05-11T19:05:34.142Z"
      },
      {
        "duration": 8714,
        "start_time": "2022-05-11T19:06:47.304Z"
      },
      {
        "duration": 5731,
        "start_time": "2022-05-11T19:12:52.360Z"
      },
      {
        "duration": 34365,
        "start_time": "2022-05-11T19:13:14.482Z"
      },
      {
        "duration": 82,
        "start_time": "2022-05-11T19:14:04.497Z"
      },
      {
        "duration": 566,
        "start_time": "2022-05-11T19:15:01.586Z"
      },
      {
        "duration": 37266,
        "start_time": "2022-05-11T19:16:19.170Z"
      },
      {
        "duration": 60,
        "start_time": "2022-05-11T19:17:01.313Z"
      },
      {
        "duration": 9420,
        "start_time": "2022-05-11T19:17:11.808Z"
      },
      {
        "duration": 370,
        "start_time": "2022-05-11T19:17:32.896Z"
      },
      {
        "duration": 920,
        "start_time": "2022-05-11T19:18:39.813Z"
      },
      {
        "duration": 1336,
        "start_time": "2022-05-11T19:20:41.181Z"
      },
      {
        "duration": 6490,
        "start_time": "2022-05-11T19:20:42.519Z"
      },
      {
        "duration": 32,
        "start_time": "2022-05-11T19:20:49.011Z"
      },
      {
        "duration": 2,
        "start_time": "2022-05-11T19:20:49.045Z"
      },
      {
        "duration": 533608,
        "start_time": "2022-05-11T19:20:49.049Z"
      },
      {
        "duration": 34291,
        "start_time": "2022-05-11T19:29:42.658Z"
      },
      {
        "duration": 66,
        "start_time": "2022-05-11T19:30:16.950Z"
      },
      {
        "duration": 978,
        "start_time": "2022-05-11T19:30:17.017Z"
      },
      {
        "duration": 381,
        "start_time": "2022-05-11T19:30:17.997Z"
      }
    ],
    "kernelspec": {
      "display_name": "Python 3 (ipykernel)",
      "language": "python",
      "name": "python3"
    },
    "language_info": {
      "codemirror_mode": {
        "name": "ipython",
        "version": 3
      },
      "file_extension": ".py",
      "mimetype": "text/x-python",
      "name": "python",
      "nbconvert_exporter": "python",
      "pygments_lexer": "ipython3",
      "version": "3.9.5"
    },
    "toc": {
      "base_numbering": 1,
      "nav_menu": {},
      "number_sections": true,
      "sideBar": true,
      "skip_h1_title": true,
      "title_cell": "Содержание",
      "title_sidebar": "Contents",
      "toc_cell": true,
      "toc_position": {
        "height": "calc(100% - 180px)",
        "left": "10px",
        "top": "150px",
        "width": "302.391px"
      },
      "toc_section_display": true,
      "toc_window_display": false
    },
    "colab": {
      "name": "Проект_для_«Викишоп».ipynb",
      "provenance": []
    }
  },
  "nbformat": 4,
  "nbformat_minor": 0
}