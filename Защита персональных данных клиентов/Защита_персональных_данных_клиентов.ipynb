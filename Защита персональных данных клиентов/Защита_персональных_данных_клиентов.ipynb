{
  "cells": [
    {
      "cell_type": "markdown",
      "metadata": {
        "id": "CSqim5Fm3mS0"
      },
      "source": [
        "# Защита персональных данных клиентов"
      ]
    },
    {
      "cell_type": "markdown",
      "metadata": {
        "id": "lV5p_eg53mS2"
      },
      "source": [
        " Необходимо разработать такой метод преобразования данных, чтобы по нему было сложно восстановить персональную информацию.\n"
      ]
    },
    {
      "cell_type": "markdown",
      "metadata": {
        "id": "Kjh9LxQs3mS5"
      },
      "source": [
        "## Загрузка данных"
      ]
    },
    {
      "cell_type": "code",
      "execution_count": null,
      "metadata": {
        "id": "cLJ9rMre3mS7"
      },
      "outputs": [],
      "source": [
        "import pandas as pd\n",
        "import numpy as np\n",
        "from sklearn.metrics import r2_score\n",
        "from sklearn.linear_model import LinearRegression\n",
        "from sklearn.model_selection import train_test_split"
      ]
    },
    {
      "cell_type": "code",
      "execution_count": null,
      "metadata": {
        "id": "hshxhvs-3mTD",
        "outputId": "a259c113-6057-44c4-cd66-abb3c22d258d"
      },
      "outputs": [
        {
          "name": "stdout",
          "output_type": "stream",
          "text": [
            "<class 'pandas.core.frame.DataFrame'>\n",
            "RangeIndex: 5000 entries, 0 to 4999\n",
            "Data columns (total 5 columns):\n",
            " #   Column             Non-Null Count  Dtype  \n",
            "---  ------             --------------  -----  \n",
            " 0   Пол                5000 non-null   int64  \n",
            " 1   Возраст            5000 non-null   float64\n",
            " 2   Зарплата           5000 non-null   float64\n",
            " 3   Члены семьи        5000 non-null   int64  \n",
            " 4   Страховые выплаты  5000 non-null   int64  \n",
            "dtypes: float64(2), int64(3)\n",
            "memory usage: 195.4 KB\n"
          ]
        }
      ],
      "source": [
        "df.info()"
      ]
    },
    {
      "cell_type": "markdown",
      "metadata": {
        "id": "IeCzqPmm3mTN"
      },
      "source": [
        "## Умножение матриц"
      ]
    },
    {
      "cell_type": "markdown",
      "metadata": {
        "id": "5R27JLWM3mTR"
      },
      "source": [
        "Обозначения:\n",
        "\n",
        "- $X$ — матрица признаков (нулевой столбец состоит из единиц)\n",
        "\n",
        "- $y$ — вектор целевого признака\n",
        "\n",
        "- $P$ — матрица, на которую умножаются признаки\n",
        "\n",
        "- $w$ — вектор весов линейной регрессии (нулевой элемент равен сдвигу)"
      ]
    },
    {
      "cell_type": "markdown",
      "metadata": {
        "id": "NQUiap6g3mTT"
      },
      "source": [
        "Предсказания:\n",
        "\n",
        "$$\n",
        "a = Xw\n",
        "$$\n",
        "\n",
        "Задача обучения:\n",
        "\n",
        "$$\n",
        "w = \\arg\\min_w MSE(Xw, y)\n",
        "$$\n",
        "\n",
        "Формула обучения:\n",
        "\n",
        "$$\n",
        "w = (X^T X)^{-1} X^T y\n",
        "$$"
      ]
    },
    {
      "cell_type": "markdown",
      "metadata": {
        "id": "-HwJBUIM3mTa"
      },
      "source": [
        "$$\n",
        "a = Xw = XEw = XPP^{-1}w = (XP)P^{-1}w = (XP)w'\n",
        "$$\n",
        "\n",
        "$$\n",
        "w' = ((XP)^T XP)^{-1} (XP)^T y\n",
        "$$\n",
        "$$\n",
        "w' = (P^T (X^T X) P)^{-1} (XP)^T y\n",
        "$$\n",
        "$$\n",
        "(P^T (X^T X) P)^{-1} = P^{-1}(X^T X)^{-1} (P^T)^{-1}= P^{-1}(X^T X)^{-1} (P^{-1})^T\n",
        "$$\n",
        "$$\n",
        "(XP)^Ty = P^T X^T y\n",
        "$$\n",
        "$$\n",
        "w' = P^{-1}(X^T X)^{-1} (P^T)^{-1} P^T X^T y \n",
        "$$\n",
        "$$\n",
        "(P^T)^{-1} P^T = E \n",
        "$$\n",
        "\n",
        "$$\n",
        "w' = P^{-1}(X^T X)^{-1} X^T y\n",
        "$$"
      ]
    },
    {
      "cell_type": "code",
      "execution_count": null,
      "metadata": {
        "id": "xScF-lt73mTg",
        "outputId": "472c8ed7-468f-4455-a7f7-570b52ea1189"
      },
      "outputs": [
        {
          "name": "stdout",
          "output_type": "stream",
          "text": [
            "[4.83677419 2.48967742 0.73290323 3.94064516 1.        ]\n",
            "[4.83677419 2.48967742 0.73290323 3.94064516 1.        ]\n"
          ]
        }
      ],
      "source": [
        "X = np.array([[1, 2, 5, 4 ], #обычная матрица признаков\n",
        "            [1, 6, 7, 8 ],\n",
        "            [1, 2, 8, 10],\n",
        "            [1, 35, 8, 10],\n",
        "            [1, 17, 38, 10]])\n",
        "P = np.random.randint(1,100, size=(4,4))\n",
        " \n",
        "y = np.array([5, 2, 1, 4, 1])\n",
        "example = X.dot(P)\n",
        "try:\n",
        "    w = np.dot(np.dot(np.linalg.inv(np.dot(X.T, X)), X.T), y)\n",
        "    w1 = np.dot(np.dot(np.linalg.inv(np.dot(example.T, example)), example.T), y)\n",
        "except:\n",
        "    print('Ошибка')\n",
        "a = X @ w\n",
        "print(a)\n",
        "a1 = example @ w1\n",
        "print(a1)"
      ]
    },
    {
      "cell_type": "markdown",
      "metadata": {
        "id": "TlaIxMv-3mTi"
      },
      "source": [
        "<div class=\"alert alert-info\">Все работает!\n",
        "</div>"
      ]
    },
    {
      "cell_type": "markdown",
      "metadata": {
        "id": "-4QoCNH23mTm"
      },
      "source": [
        "## Алгоритм преобразования"
      ]
    },
    {
      "cell_type": "markdown",
      "metadata": {
        "id": "6bnBG0_F3mTn"
      },
      "source": [
        "**Алгоритм**\n",
        "\n",
        "..."
      ]
    },
    {
      "cell_type": "code",
      "execution_count": null,
      "metadata": {
        "id": "AC4HpSPA3mTo",
        "outputId": "16fe0500-ad2c-4ec0-f4aa-a0303bd63aca"
      },
      "outputs": [
        {
          "name": "stdout",
          "output_type": "stream",
          "text": [
            "[[88  6 90 58]\n",
            " [77 45 25 24]\n",
            " [13  4 88 31]\n",
            " [75 58 63 30]]\n",
            "[[ 0.08728611 -0.25289598 -0.15929519  0.19816868]\n",
            " [-0.07504326  0.20166149  0.11946839 -0.13969622]\n",
            " [ 0.06255608 -0.21974637 -0.11319976  0.17182844]\n",
            " [-0.20449939  0.70382847  0.40498526 -0.55284872]]\n",
            "-499312.0000000016\n"
          ]
        }
      ],
      "source": [
        "random_matrix = np.random.randint(1,100, size =(4,4)) #создадим случайную матрицу\n",
        "print(random_matrix)\n",
        "inv_matrix = np.linalg.inv(random_matrix)\n",
        "print(inv_matrix)\n",
        "print(np.linalg.det(random_matrix)) #посмотрим, является ли она обратимой, то есть посмотрим чему равен определитель"
      ]
    },
    {
      "cell_type": "markdown",
      "metadata": {
        "id": "xduizwhK3mTs"
      },
      "source": [
        "<div class=\"alert alert-info\">случайная матрица обратимая, поэтому можем приступать к проверке\n",
        "</div>"
      ]
    },
    {
      "cell_type": "markdown",
      "metadata": {
        "id": "rX92ZXWI3mTt"
      },
      "source": [
        "## Проверка алгоритма"
      ]
    },
    {
      "cell_type": "markdown",
      "metadata": {
        "id": "nweEYnzJ3mTt"
      },
      "source": [
        "<div class=\"alert alert-info\">проверим как работает r2 до и после предобразования\n",
        "</div>"
      ]
    },
    {
      "cell_type": "code",
      "execution_count": null,
      "metadata": {
        "id": "qQi6hxnQ3mTu",
        "outputId": "99d668db-affe-4f11-f7fa-014c966c44da"
      },
      "outputs": [
        {
          "name": "stdout",
          "output_type": "stream",
          "text": [
            "0.42494550286668\n"
          ]
        }
      ],
      "source": [
        "features = df.drop('Страховые выплаты', axis=1) #до преобразования\n",
        "target = df['Страховые выплаты']\n",
        "\n",
        "class LinearRegression:\n",
        "    def fit(self, train_features, train_target):\n",
        "        X = np.concatenate((np.ones((train_features.shape[0], 1)), train_features), axis=1)\n",
        "        y = train_target\n",
        "        w = np.linalg.inv(X.T @ X) @ X.T @ y\n",
        "        self.w = w[1:]\n",
        "        self.w0 = w[0]\n",
        "\n",
        "    def predict(self, test_features):\n",
        "        return test_features.dot(self.w) + self.w0\n",
        "    \n",
        "model = LinearRegression()\n",
        "model.fit(features, target)\n",
        "predictions = model.predict(features)\n",
        "print(r2_score(target, predictions))"
      ]
    },
    {
      "cell_type": "markdown",
      "metadata": {
        "id": "TUuDvmLR3mTw"
      },
      "source": [
        "<div class=\"alert alert-info\">значение r2 не отрицательное, не равно нулю и не больше единицы, значит, линейная регрессия работает\n",
        "</div>"
      ]
    },
    {
      "cell_type": "code",
      "execution_count": null,
      "metadata": {
        "id": "ilEdf5b03mTx",
        "outputId": "0bad2c3f-f4e5-44ab-98eb-70f0f444ad81"
      },
      "outputs": [
        {
          "name": "stdout",
          "output_type": "stream",
          "text": [
            "0.4352275712702667\n"
          ]
        }
      ],
      "source": [
        "features_1 = df.drop('Страховые выплаты', axis=1) #линейная регрессия из sklearn До преобразования\n",
        "target_1 = df['Страховые выплаты']\n",
        "\n",
        "features_train, features_valid, target_train, target_valid = train_test_split(\n",
        "    features_1, target_1, test_size=0.25, random_state=12345) # отделите 25% данных для валидационной выборки\n",
        "\n",
        "model = LinearRegression() # инициализируйте модель LinearRegression\n",
        "model.fit(features_train, target_train) # обучите модель на тренировочной выборке\n",
        "predictions_valid = model.predict(features_valid) # получите предсказания модели на валидационной выборке\n",
        "\n",
        "print(r2_score(target_valid, predictions_valid))"
      ]
    },
    {
      "cell_type": "code",
      "execution_count": null,
      "metadata": {
        "id": "7CkrBdKC3mTz",
        "outputId": "f4424b70-5512-4b5f-d6fd-f26fa38c2f0d"
      },
      "outputs": [
        {
          "name": "stdout",
          "output_type": "stream",
          "text": [
            "0.4249455024727228\n"
          ]
        }
      ],
      "source": [
        "features_new = features.values @ random_matrix #с применением алгоритма\n",
        "target_new = target\n",
        "\n",
        "class LinearRegression:\n",
        "    def fit(self, train_features, train_target):\n",
        "        X = np.concatenate((np.ones((train_features.shape[0], 1)), train_features), axis=1)\n",
        "        y = train_target\n",
        "        w = np.linalg.inv(X.T @ X) @ X.T @ y\n",
        "        self.w = w[1:]\n",
        "        self.w0 = w[0]\n",
        "\n",
        "    def predict(self, test_features):\n",
        "        return test_features.dot(self.w) + self.w0\n",
        "    \n",
        "model = LinearRegression()\n",
        "model.fit(features_new, target_new)\n",
        "predictions = model.predict(features_new)\n",
        "print(r2_score(target_new, predictions))"
      ]
    },
    {
      "cell_type": "code",
      "execution_count": null,
      "metadata": {
        "id": "pPSYzGYK3mT0",
        "outputId": "c7a8162a-4ae9-4754-df60-da93fb5315a9"
      },
      "outputs": [
        {
          "name": "stdout",
          "output_type": "stream",
          "text": [
            "0.4352260213131829\n"
          ]
        }
      ],
      "source": [
        "features_new_1 = features_1.values @ random_matrix #с применением алгоритма\n",
        "target_new_1 = target_1\n",
        "\n",
        "features_train, features_valid, target_train, target_valid = train_test_split(\n",
        "    features_new_1, target_new_1, test_size=0.25, random_state=12345) # отделите 25% данных для валидационной выборки\n",
        "\n",
        "model = LinearRegression() # инициализируйте модель LinearRegression\n",
        "model.fit(features_train, target_train) # обучите модель на тренировочной выборке\n",
        "predictions_valid = model.predict(features_valid) # получите предсказания модели на валидационной выборке\n",
        "\n",
        "print(r2_score(target_valid, predictions_valid))"
      ]
    },
    {
      "cell_type": "markdown",
      "metadata": {
        "id": "dmzVPRGo3mT1"
      },
      "source": [
        "<div class=\"alert alert-info\">Как видно из моделей, до и после преобразования с помощью алгоритма (умножения исходной матрицы признаков на случайную матрицу), r2 показывает одинаковые результаты.\n",
        "</div>"
      ]
    }
  ],
  "metadata": {
    "ExecuteTimeLog": [
      {
        "duration": 382,
        "start_time": "2022-03-29T07:01:09.074Z"
      },
      {
        "duration": 70,
        "start_time": "2022-03-29T07:01:40.831Z"
      },
      {
        "duration": 17,
        "start_time": "2022-03-29T07:01:49.328Z"
      },
      {
        "duration": 12,
        "start_time": "2022-03-29T07:01:59.797Z"
      },
      {
        "duration": 4,
        "start_time": "2022-03-29T07:08:27.498Z"
      },
      {
        "duration": 3,
        "start_time": "2022-03-29T07:08:55.923Z"
      },
      {
        "duration": 378,
        "start_time": "2022-03-29T07:09:15.086Z"
      },
      {
        "duration": 31,
        "start_time": "2022-03-29T07:09:15.467Z"
      },
      {
        "duration": 14,
        "start_time": "2022-03-29T07:09:15.500Z"
      },
      {
        "duration": 4,
        "start_time": "2022-03-29T07:09:15.515Z"
      },
      {
        "duration": 7,
        "start_time": "2022-03-29T07:09:15.521Z"
      },
      {
        "duration": 453,
        "start_time": "2022-04-17T17:41:34.931Z"
      },
      {
        "duration": 31,
        "start_time": "2022-04-17T17:41:36.140Z"
      },
      {
        "duration": 16,
        "start_time": "2022-04-17T17:41:37.040Z"
      },
      {
        "duration": 11,
        "start_time": "2022-04-17T17:45:14.163Z"
      },
      {
        "duration": 172,
        "start_time": "2022-04-17T19:18:08.032Z"
      },
      {
        "duration": 165,
        "start_time": "2022-04-17T19:18:45.145Z"
      },
      {
        "duration": 179,
        "start_time": "2022-04-17T19:18:54.059Z"
      },
      {
        "duration": 8,
        "start_time": "2022-04-17T19:19:26.575Z"
      },
      {
        "duration": 10,
        "start_time": "2022-04-17T19:20:40.173Z"
      },
      {
        "duration": 1089,
        "start_time": "2022-04-18T16:35:53.211Z"
      },
      {
        "duration": 11,
        "start_time": "2022-04-18T16:35:54.302Z"
      },
      {
        "duration": 11,
        "start_time": "2022-04-18T16:35:55.478Z"
      },
      {
        "duration": 7,
        "start_time": "2022-04-18T16:36:00.458Z"
      },
      {
        "duration": 4,
        "start_time": "2022-04-18T16:36:04.092Z"
      },
      {
        "duration": 93,
        "start_time": "2022-04-18T16:40:04.944Z"
      },
      {
        "duration": 16,
        "start_time": "2022-04-18T16:40:27.709Z"
      },
      {
        "duration": 18,
        "start_time": "2022-04-18T16:46:10.110Z"
      },
      {
        "duration": 9,
        "start_time": "2022-04-18T16:46:24.123Z"
      },
      {
        "duration": 11,
        "start_time": "2022-04-18T16:48:12.288Z"
      },
      {
        "duration": 13,
        "start_time": "2022-04-18T16:48:23.817Z"
      },
      {
        "duration": 10,
        "start_time": "2022-04-18T16:48:35.869Z"
      },
      {
        "duration": 9,
        "start_time": "2022-04-18T16:49:00.371Z"
      },
      {
        "duration": 10,
        "start_time": "2022-04-18T16:49:18.129Z"
      },
      {
        "duration": 8,
        "start_time": "2022-04-18T16:49:47.870Z"
      },
      {
        "duration": 9,
        "start_time": "2022-04-18T16:51:00.060Z"
      },
      {
        "duration": 114,
        "start_time": "2022-04-18T16:54:03.648Z"
      },
      {
        "duration": 5,
        "start_time": "2022-04-18T16:54:20.430Z"
      },
      {
        "duration": 6,
        "start_time": "2022-04-18T16:54:41.484Z"
      },
      {
        "duration": 6,
        "start_time": "2022-04-18T16:56:35.515Z"
      },
      {
        "duration": 6,
        "start_time": "2022-04-18T16:57:12.343Z"
      },
      {
        "duration": 5,
        "start_time": "2022-04-18T16:57:34.476Z"
      },
      {
        "duration": 15,
        "start_time": "2022-04-18T16:59:46.810Z"
      },
      {
        "duration": 11,
        "start_time": "2022-04-18T17:00:08.666Z"
      },
      {
        "duration": 17,
        "start_time": "2022-04-18T17:00:29.608Z"
      },
      {
        "duration": 9,
        "start_time": "2022-04-18T17:00:45.568Z"
      },
      {
        "duration": 1133,
        "start_time": "2022-04-18T17:00:57.186Z"
      },
      {
        "duration": 16,
        "start_time": "2022-04-18T17:00:58.321Z"
      },
      {
        "duration": 10,
        "start_time": "2022-04-18T17:00:58.338Z"
      },
      {
        "duration": 18,
        "start_time": "2022-04-18T17:00:58.350Z"
      },
      {
        "duration": 12,
        "start_time": "2022-04-18T17:00:58.371Z"
      },
      {
        "duration": 73,
        "start_time": "2022-04-18T17:00:58.385Z"
      },
      {
        "duration": 99,
        "start_time": "2022-04-18T17:00:58.461Z"
      },
      {
        "duration": 103,
        "start_time": "2022-04-18T17:00:58.563Z"
      },
      {
        "duration": 205,
        "start_time": "2022-04-18T17:00:58.668Z"
      },
      {
        "duration": 1338,
        "start_time": "2022-04-18T21:04:23.492Z"
      },
      {
        "duration": 37,
        "start_time": "2022-04-18T21:04:24.832Z"
      },
      {
        "duration": 11,
        "start_time": "2022-04-18T21:04:24.871Z"
      },
      {
        "duration": 8,
        "start_time": "2022-04-18T21:06:19.210Z"
      },
      {
        "duration": 4,
        "start_time": "2022-04-18T21:07:14.864Z"
      },
      {
        "duration": 20,
        "start_time": "2022-04-18T21:08:19.161Z"
      },
      {
        "duration": 10,
        "start_time": "2022-04-18T21:08:22.657Z"
      },
      {
        "duration": 10,
        "start_time": "2022-04-18T21:08:23.537Z"
      },
      {
        "duration": 9,
        "start_time": "2022-04-18T21:08:24.493Z"
      },
      {
        "duration": 1185,
        "start_time": "2022-04-19T17:31:34.359Z"
      },
      {
        "duration": 73,
        "start_time": "2022-04-19T17:31:35.546Z"
      },
      {
        "duration": 13,
        "start_time": "2022-04-19T17:31:35.621Z"
      },
      {
        "duration": 23,
        "start_time": "2022-04-19T17:31:35.637Z"
      },
      {
        "duration": 12,
        "start_time": "2022-04-19T17:31:35.663Z"
      },
      {
        "duration": 77,
        "start_time": "2022-04-19T17:31:35.676Z"
      },
      {
        "duration": 183,
        "start_time": "2022-04-19T17:31:35.755Z"
      },
      {
        "duration": 98,
        "start_time": "2022-04-19T17:31:35.943Z"
      },
      {
        "duration": 211,
        "start_time": "2022-04-19T17:31:36.043Z"
      }
    ],
    "kernelspec": {
      "display_name": "Python 3 (ipykernel)",
      "language": "python",
      "name": "python3"
    },
    "language_info": {
      "codemirror_mode": {
        "name": "ipython",
        "version": 3
      },
      "file_extension": ".py",
      "mimetype": "text/x-python",
      "name": "python",
      "nbconvert_exporter": "python",
      "pygments_lexer": "ipython3",
      "version": "3.9.5"
    },
    "toc": {
      "base_numbering": 1,
      "nav_menu": {},
      "number_sections": true,
      "sideBar": true,
      "skip_h1_title": true,
      "title_cell": "Содержание",
      "title_sidebar": "Contents",
      "toc_cell": true,
      "toc_position": {},
      "toc_section_display": true,
      "toc_window_display": true
    },
    "colab": {
      "name": "Защита персональных данных клиентов.ipynb",
      "provenance": []
    }
  },
  "nbformat": 4,
  "nbformat_minor": 0
}