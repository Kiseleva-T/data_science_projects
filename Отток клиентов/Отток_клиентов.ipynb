{
  "cells": [
    {
      "cell_type": "markdown",
      "metadata": {
        "id": "a7e1RZ0eV_E5"
      },
      "source": [
        "Из банка стали уходить клиенты. Задача: необходимо проанализировать исторические данные о поведении клиентов и расторжении договоров с банком и построить модель с предельно большим значением f1-меры (не менее 0,59).\n",
        "\n"
      ]
    },
    {
      "cell_type": "markdown",
      "metadata": {
        "id": "QY07voSjV_FA"
      },
      "source": [
        "Импортируем все, что нужно, и посмотрим на данные"
      ]
    },
    {
      "cell_type": "code",
      "execution_count": null,
      "metadata": {
        "id": "gzsJow_EV_FE"
      },
      "outputs": [],
      "source": [
        "import pandas as pd\n",
        "from sklearn.model_selection import train_test_split\n",
        "from sklearn.linear_model import LogisticRegression\n",
        "from sklearn.model_selection import train_test_split\n",
        "from sklearn.tree import DecisionTreeClassifier\n",
        "from sklearn.ensemble import RandomForestClassifier\n",
        "from sklearn.preprocessing import OrdinalEncoder\n",
        "from sklearn.preprocessing import StandardScaler \n",
        "from sklearn.metrics import accuracy_score\n",
        "from sklearn.metrics import f1_score\n",
        "from sklearn.metrics import roc_auc_score\n",
        "from sklearn.metrics import confusion_matrix\n",
        "from sklearn.preprocessing import StandardScaler \n",
        "from sklearn.utils import shuffle\n",
        "from sklearn.metrics import recall_score\n",
        "from sklearn.metrics import precision_score\n",
        "from sklearn.metrics import classification_report\n",
        "from sklearn.dummy import DummyClassifier\n",
        "from sklearn.metrics import roc_curve \n",
        "import matplotlib.pyplot as plt\n",
        "import numpy as np"
      ]
    },
    {
      "cell_type": "markdown",
      "metadata": {
        "id": "U6yC5_mwV_FK"
      },
      "source": [
        "<div class=\"alert alert-block alert-success\">\n",
        "<b>Успех:</b> Импорты на месте\n",
        "</div>\n"
      ]
    },
    {
      "cell_type": "code",
      "execution_count": null,
      "metadata": {
        "id": "JJctc6xQV_FM",
        "outputId": "0f71b319-db70-4100-b4d2-3385b41cc13e"
      },
      "outputs": [
        {
          "name": "stdout",
          "output_type": "stream",
          "text": [
            "<class 'pandas.core.frame.DataFrame'>\n",
            "RangeIndex: 10000 entries, 0 to 9999\n",
            "Data columns (total 14 columns):\n",
            "RowNumber          10000 non-null int64\n",
            "CustomerId         10000 non-null int64\n",
            "Surname            10000 non-null object\n",
            "CreditScore        10000 non-null int64\n",
            "Geography          10000 non-null object\n",
            "Gender             10000 non-null object\n",
            "Age                10000 non-null int64\n",
            "Tenure             9091 non-null float64\n",
            "Balance            10000 non-null float64\n",
            "NumOfProducts      10000 non-null int64\n",
            "HasCrCard          10000 non-null int64\n",
            "IsActiveMember     10000 non-null int64\n",
            "EstimatedSalary    10000 non-null float64\n",
            "Exited             10000 non-null int64\n",
            "dtypes: float64(3), int64(8), object(3)\n",
            "memory usage: 1.1+ MB\n"
          ]
        }
      ],
      "source": [
        "\n",
        "df.info()"
      ]
    },
    {
      "cell_type": "code",
      "execution_count": null,
      "metadata": {
        "id": "kOyBSzzUV_FQ",
        "outputId": "299469e0-75fb-4164-de96-e89ac1cd787a"
      },
      "outputs": [
        {
          "name": "stdout",
          "output_type": "stream",
          "text": [
            "0\n"
          ]
        }
      ],
      "source": [
        "print(df.duplicated().sum())"
      ]
    },
    {
      "cell_type": "code",
      "execution_count": null,
      "metadata": {
        "id": "dkw4aElTV_FS",
        "outputId": "7ff00a39-5618-44bf-dd97-f43f056b5884"
      },
      "outputs": [
        {
          "name": "stdout",
          "output_type": "stream",
          "text": [
            "['Female' 'Male']\n"
          ]
        }
      ],
      "source": [
        "print(df['Gender'].unique())"
      ]
    },
    {
      "cell_type": "markdown",
      "metadata": {
        "id": "_i1XaZ92V_FV"
      },
      "source": [
        "Только в столбце tenure не все строки заполнены.\n",
        "\n",
        "Два столбца имеют тип object."
      ]
    },
    {
      "cell_type": "markdown",
      "metadata": {
        "id": "zuP9b-SsV_FX"
      },
      "source": [
        "Избавимся от того, что нам не нужно"
      ]
    },
    {
      "cell_type": "code",
      "execution_count": null,
      "metadata": {
        "id": "BGvUbsgVV_FY"
      },
      "outputs": [],
      "source": [
        "df = df.drop('Surname', axis=1)\n",
        "df = df.drop('RowNumber', axis=1)\n",
        "df = df.drop('CustomerId', axis=1)\n",
        "df = df.drop('Geography', axis=1)\n",
        "\n"
      ]
    },
    {
      "cell_type": "code",
      "execution_count": null,
      "metadata": {
        "id": "fB-WD1ZjV_Fb"
      },
      "outputs": [],
      "source": [
        "df = df.dropna(subset=['Tenure'])"
      ]
    },
    {
      "cell_type": "markdown",
      "metadata": {
        "id": "ymJeqlnyV_Fd"
      },
      "source": [
        "Переведем категориальные признаки в численные"
      ]
    },
    {
      "cell_type": "code",
      "execution_count": null,
      "metadata": {
        "id": "Oj4K157RV_Ff"
      },
      "outputs": [],
      "source": [
        "df_ohe = pd.get_dummies(df, drop_first=True)"
      ]
    },
    {
      "cell_type": "code",
      "execution_count": null,
      "metadata": {
        "id": "EVFvzyxXV_Fg",
        "outputId": "0a13b949-05dd-4f94-a3fb-4d48431234bc"
      },
      "outputs": [
        {
          "name": "stdout",
          "output_type": "stream",
          "text": [
            "<class 'pandas.core.frame.DataFrame'>\n",
            "Int64Index: 9091 entries, 0 to 9998\n",
            "Data columns (total 10 columns):\n",
            "CreditScore        9091 non-null int64\n",
            "Age                9091 non-null int64\n",
            "Tenure             9091 non-null float64\n",
            "Balance            9091 non-null float64\n",
            "NumOfProducts      9091 non-null int64\n",
            "HasCrCard          9091 non-null int64\n",
            "IsActiveMember     9091 non-null int64\n",
            "EstimatedSalary    9091 non-null float64\n",
            "Exited             9091 non-null int64\n",
            "Gender_Male        9091 non-null uint8\n",
            "dtypes: float64(3), int64(6), uint8(1)\n",
            "memory usage: 719.1 KB\n",
            "None\n"
          ]
        }
      ],
      "source": [
        "print(df_ohe.info())"
      ]
    },
    {
      "cell_type": "markdown",
      "metadata": {
        "id": "vuXhDc5fV_Fi"
      },
      "source": [
        "Разделим на тестовую, тренировочную и валидационную выборки"
      ]
    },
    {
      "cell_type": "code",
      "execution_count": null,
      "metadata": {
        "id": "3eKBhASWV_Fj"
      },
      "outputs": [],
      "source": [
        "df_ohe, test = train_test_split(df_ohe, test_size=0.2, train_size=0.8)\n",
        "train, valid = train_test_split(df_ohe, test_size=0.25, train_size=0.75)"
      ]
    },
    {
      "cell_type": "code",
      "execution_count": null,
      "metadata": {
        "id": "SVuWb9WyV_Fk"
      },
      "outputs": [],
      "source": [
        "features_test = test.drop('Exited', axis=1)\n",
        "target_test = test['Exited']\n",
        "features_train = train.drop('Exited', axis=1)\n",
        "target_train = train['Exited']\n",
        "features_valid = valid.drop('Exited', axis=1)\n",
        "target_valid = valid['Exited']\n",
        "\n"
      ]
    },
    {
      "cell_type": "markdown",
      "metadata": {
        "id": "75xJGasPV_Fl"
      },
      "source": [
        "Отмасштабируем данные"
      ]
    },
    {
      "cell_type": "code",
      "execution_count": null,
      "metadata": {
        "id": "tZD4bEhuV_Fm"
      },
      "outputs": [],
      "source": [
        "numeric = ['Balance', 'EstimatedSalary']\n",
        "scaler = StandardScaler()\n",
        "scaler.fit(features_train[numeric]) \n",
        "features_train[numeric] = scaler.transform(features_train[numeric])\n",
        "features_valid[numeric] = scaler.transform(features_valid[numeric]) \n",
        "features_test[numeric] = scaler.transform(features_test[numeric]) \n"
      ]
    },
    {
      "cell_type": "code",
      "execution_count": null,
      "metadata": {
        "id": "Lx7igkrgV_Fp",
        "outputId": "d4bfe660-fb15-422a-e676-619ffb3ba321"
      },
      "outputs": [
        {
          "name": "stdout",
          "output_type": "stream",
          "text": [
            "<class 'pandas.core.frame.DataFrame'>\n",
            "Int64Index: 1818 entries, 7622 to 9611\n",
            "Data columns (total 10 columns):\n",
            "CreditScore        1818 non-null int64\n",
            "Age                1818 non-null int64\n",
            "Tenure             1818 non-null float64\n",
            "Balance            1818 non-null float64\n",
            "NumOfProducts      1818 non-null int64\n",
            "HasCrCard          1818 non-null int64\n",
            "IsActiveMember     1818 non-null int64\n",
            "EstimatedSalary    1818 non-null float64\n",
            "Exited             1818 non-null int64\n",
            "Gender_Male        1818 non-null uint8\n",
            "dtypes: float64(3), int64(6), uint8(1)\n",
            "memory usage: 143.8 KB\n"
          ]
        }
      ],
      "source": [
        "valid.info()"
      ]
    },
    {
      "cell_type": "code",
      "execution_count": null,
      "metadata": {
        "id": "VdNxkHS5V_Fq",
        "outputId": "c7fa5f5d-0ef0-45d3-870f-1ca69711b9b0"
      },
      "outputs": [
        {
          "name": "stdout",
          "output_type": "stream",
          "text": [
            "<class 'pandas.core.frame.DataFrame'>\n",
            "Int64Index: 5454 entries, 4394 to 1013\n",
            "Data columns (total 10 columns):\n",
            "CreditScore        5454 non-null int64\n",
            "Age                5454 non-null int64\n",
            "Tenure             5454 non-null float64\n",
            "Balance            5454 non-null float64\n",
            "NumOfProducts      5454 non-null int64\n",
            "HasCrCard          5454 non-null int64\n",
            "IsActiveMember     5454 non-null int64\n",
            "EstimatedSalary    5454 non-null float64\n",
            "Exited             5454 non-null int64\n",
            "Gender_Male        5454 non-null uint8\n",
            "dtypes: float64(3), int64(6), uint8(1)\n",
            "memory usage: 431.4 KB\n"
          ]
        }
      ],
      "source": [
        "train.info()"
      ]
    },
    {
      "cell_type": "code",
      "execution_count": null,
      "metadata": {
        "id": "PtBVvPEqV_Fs",
        "outputId": "39523e2f-87c1-4931-eaae-cc8ca934171c"
      },
      "outputs": [
        {
          "name": "stdout",
          "output_type": "stream",
          "text": [
            "<class 'pandas.core.frame.DataFrame'>\n",
            "Int64Index: 1819 entries, 8450 to 7995\n",
            "Data columns (total 10 columns):\n",
            "CreditScore        1819 non-null int64\n",
            "Age                1819 non-null int64\n",
            "Tenure             1819 non-null float64\n",
            "Balance            1819 non-null float64\n",
            "NumOfProducts      1819 non-null int64\n",
            "HasCrCard          1819 non-null int64\n",
            "IsActiveMember     1819 non-null int64\n",
            "EstimatedSalary    1819 non-null float64\n",
            "Exited             1819 non-null int64\n",
            "Gender_Male        1819 non-null uint8\n",
            "dtypes: float64(3), int64(6), uint8(1)\n",
            "memory usage: 143.9 KB\n"
          ]
        }
      ],
      "source": [
        "test.info()"
      ]
    },
    {
      "cell_type": "markdown",
      "metadata": {
        "id": "EbpX-kyBV_Ft"
      },
      "source": [
        "обучим разные модели, посмотрим на значения f1 и roc-auc"
      ]
    },
    {
      "cell_type": "code",
      "execution_count": null,
      "metadata": {
        "id": "lNZgTRErV_Fu",
        "outputId": "35ba8af6-3190-478d-87bb-f60f9f23c621"
      },
      "outputs": [
        {
          "name": "stdout",
          "output_type": "stream",
          "text": [
            "Decision Tree Classifier\n",
            "F1 0.43513513513513513\n",
            "Accuracy 0.77007700770077\n",
            "Roc_auc 0.6516351178927865\n"
          ]
        }
      ],
      "source": [
        "model = DecisionTreeClassifier(random_state=12345)\n",
        "model.fit(features_train, target_train)\n",
        "predicted_valid = model.predict(features_valid)\n",
        "print('Decision Tree Classifier')\n",
        "print('F1', f1_score(target_valid, predicted_valid))\n",
        "print('Accuracy', accuracy_score(target_valid, predicted_valid))\n",
        "proba = model.predict_proba(features_valid)[:,1]\n",
        "print('Roc_auc', roc_auc_score(target_valid, proba))"
      ]
    },
    {
      "cell_type": "code",
      "execution_count": null,
      "metadata": {
        "id": "b3f8V_acV_Fv",
        "outputId": "409d9823-4696-4327-ac9f-6795f7db8482"
      },
      "outputs": [
        {
          "name": "stdout",
          "output_type": "stream",
          "text": [
            "Random Forest Classifier\n",
            "F1 0.5191637630662022\n",
            "Accuracy 0.8481848184818482\n",
            "Roc_auc 0.8168578625293008\n"
          ]
        }
      ],
      "source": [
        "model = RandomForestClassifier(random_state=12345, n_estimators=15)\n",
        "model.fit(features_train, target_train)\n",
        "predicted_valid = model.predict(features_valid)\n",
        "print('Random Forest Classifier')\n",
        "print('F1', f1_score(target_valid, predicted_valid))\n",
        "print('Accuracy', accuracy_score(target_valid, predicted_valid))\n",
        "proba = model.predict_proba(features_valid)[:,1]\n",
        "print('Roc_auc', roc_auc_score(target_valid, proba))"
      ]
    },
    {
      "cell_type": "code",
      "execution_count": null,
      "metadata": {
        "id": "OqaOurYGV_Fx",
        "outputId": "9d6d899d-4898-4bc9-c3e2-6fd595340cce"
      },
      "outputs": [
        {
          "name": "stdout",
          "output_type": "stream",
          "text": [
            "Logistic Regression\n",
            "F1 0.2821576763485477\n",
            "Accuracy 0.8096809680968097\n",
            "Roc_auc 0.737217842875648\n"
          ]
        }
      ],
      "source": [
        "model = LogisticRegression(random_state=12345, solver='liblinear')\n",
        "model.fit(features_train, target_train)\n",
        "predicted_valid = model.predict(features_valid)\n",
        "print('Logistic Regression')\n",
        "print('F1', f1_score(target_valid, predicted_valid))\n",
        "print('Accuracy', accuracy_score(target_valid, predicted_valid))\n",
        "proba = model.predict_proba(features_valid)[:,1]\n",
        "print('Roc_auc', roc_auc_score(target_valid, proba))"
      ]
    },
    {
      "cell_type": "markdown",
      "metadata": {
        "id": "MYIENtCIV_Fy"
      },
      "source": [
        "Доля accuracy во всех моделях высока, но непоказательна - это всего лишь доля правильных ответов. F1 - гармоническое среднее полноты и точности, показывает лучший результат в модели Random Forest clf."
      ]
    },
    {
      "cell_type": "markdown",
      "metadata": {
        "id": "-WHpyABZV_F0"
      },
      "source": [
        "## Борьба с дисбалансом"
      ]
    },
    {
      "cell_type": "markdown",
      "metadata": {
        "id": "KosLbuCyV_F0"
      },
      "source": [
        "начнем с balanced"
      ]
    },
    {
      "cell_type": "code",
      "execution_count": null,
      "metadata": {
        "id": "fT7pU_SjV_F1",
        "outputId": "8140bc78-f3cf-4809-d098-e90ea76675c7"
      },
      "outputs": [
        {
          "name": "stdout",
          "output_type": "stream",
          "text": [
            "Logistic Regression\n",
            "F1 0.4563758389261745\n",
            "Accuracy 0.6881188118811881\n",
            "Roc_auc 0.7400299465739137\n"
          ]
        }
      ],
      "source": [
        "model = LogisticRegression(random_state=12345, solver='liblinear', class_weight='balanced')\n",
        "model.fit(features_train, target_train)\n",
        "predicted_valid = model.predict(features_valid)\n",
        "print('Logistic Regression')\n",
        "print('F1', f1_score(target_valid, predicted_valid))\n",
        "print('Accuracy', accuracy_score(target_valid, predicted_valid))\n",
        "proba = model.predict_proba(features_valid)[:,1]\n",
        "print('Roc_auc', roc_auc_score(target_valid, proba))"
      ]
    },
    {
      "cell_type": "code",
      "execution_count": null,
      "metadata": {
        "id": "g1wNWlrOV_F2",
        "outputId": "00b78d17-05af-4f2a-ff90-45a141c1ef58"
      },
      "outputs": [
        {
          "name": "stdout",
          "output_type": "stream",
          "text": [
            "Decision Tree Classifier\n",
            "F1 0.4293785310734463\n",
            "Accuracy 0.7777777777777778\n",
            "Roc_auc 0.646653732543303\n"
          ]
        }
      ],
      "source": [
        "model = DecisionTreeClassifier(random_state=12345, class_weight='balanced')\n",
        "model.fit(features_train, target_train)\n",
        "predicted_valid = model.predict(features_valid)\n",
        "print('Decision Tree Classifier')\n",
        "print('F1', f1_score(target_valid, predicted_valid))\n",
        "print('Accuracy', accuracy_score(target_valid, predicted_valid))\n",
        "proba = model.predict_proba(features_valid)[:,1]\n",
        "print('Roc_auc', roc_auc_score(target_valid, proba))"
      ]
    },
    {
      "cell_type": "code",
      "execution_count": null,
      "metadata": {
        "id": "SsTEzR1YV_F3",
        "outputId": "a09cefce-4023-4a06-ee18-45d909b38609"
      },
      "outputs": [
        {
          "name": "stdout",
          "output_type": "stream",
          "text": [
            "Random Forest Classifier\n",
            "F1 0.5272407732864676\n",
            "Accuracy 0.852035203520352\n",
            "Roc_auc 0.8127542885552428\n"
          ]
        }
      ],
      "source": [
        "model = RandomForestClassifier(random_state=12345, n_estimators=15, class_weight='balanced')\n",
        "model.fit(features_train, target_train)\n",
        "predicted_valid = model.predict(features_valid)\n",
        "print('Random Forest Classifier')\n",
        "print('F1', f1_score(target_valid, predicted_valid))\n",
        "print('Accuracy', accuracy_score(target_valid, predicted_valid))\n",
        "proba = model.predict_proba(features_valid)[:,1]\n",
        "print('Roc_auc', roc_auc_score(target_valid, proba))"
      ]
    },
    {
      "cell_type": "markdown",
      "metadata": {
        "id": "C0If4IKwV_F4"
      },
      "source": [
        "F1 опять же лучше в случайном лесе."
      ]
    },
    {
      "cell_type": "markdown",
      "metadata": {
        "id": "LtNQd5lxV_F5"
      },
      "source": [
        "Увеличим выборку"
      ]
    },
    {
      "cell_type": "code",
      "execution_count": null,
      "metadata": {
        "id": "oxFpEW1hV_F6"
      },
      "outputs": [],
      "source": [
        "def upsample(features, target, repeat):\n",
        "    features_zeros = features[target == 0]\n",
        "    features_ones = features[target == 1]\n",
        "    target_zeros = target[target == 0]\n",
        "    target_ones = target[target == 1]\n",
        "\n",
        "    features_upsampled = pd.concat([features_zeros] + [features_ones] * repeat)\n",
        "    target_upsampled = pd.concat([target_zeros] + [target_ones] * repeat)\n",
        "    \n",
        "    features_upsampled, target_upsampled = shuffle(\n",
        "        features_upsampled, target_upsampled, random_state=12345)\n",
        "    \n",
        "    return features_upsampled, target_upsampled\n",
        "\n",
        "features_upsampled, target_upsampled = upsample(features_train, target_train, 10)"
      ]
    },
    {
      "cell_type": "code",
      "execution_count": null,
      "metadata": {
        "id": "Vilq0AjJV_F7",
        "outputId": "3fb9bb83-1e4d-4882-fb4e-9ac2b5dd9ced"
      },
      "outputs": [
        {
          "name": "stdout",
          "output_type": "stream",
          "text": [
            "Logistic Regression\n",
            "F1 0.3867469879518072\n",
            "Accuracy 0.44004400440044006\n",
            "Roc_auc 0.7407329724984804\n"
          ]
        }
      ],
      "source": [
        "model = LogisticRegression(random_state=12345, solver='liblinear')\n",
        "model.fit(features_upsampled, target_upsampled)\n",
        "predicted_valid = model.predict(features_valid) \n",
        "print('Logistic Regression')\n",
        "print('F1', f1_score(target_valid, predicted_valid))\n",
        "print('Accuracy', accuracy_score(target_valid, predicted_valid))\n",
        "proba = model.predict_proba(features_valid)[:,1]\n",
        "print('Roc_auc', roc_auc_score(target_valid, proba))"
      ]
    },
    {
      "cell_type": "code",
      "execution_count": null,
      "metadata": {
        "id": "hMeoZ3i5V_F8",
        "outputId": "13d40b6e-b7a8-4ee5-caf0-e4b4a5fe216c"
      },
      "outputs": [
        {
          "name": "stdout",
          "output_type": "stream",
          "text": [
            "Random Forest\n",
            "F1 0.5319148936170214\n",
            "Accuracy 0.8305830583058306\n",
            "Roc_auc 0.8045422854557143\n"
          ]
        }
      ],
      "source": [
        "model = RandomForestClassifier(random_state=12345, n_estimators=15)\n",
        "model.fit(features_upsampled, target_upsampled)\n",
        "predicted_valid = model.predict(features_valid) \n",
        "print('Random Forest')\n",
        "print('F1', f1_score(target_valid, predicted_valid))\n",
        "print('Accuracy', accuracy_score(target_valid, predicted_valid))\n",
        "proba = model.predict_proba(features_valid)[:,1]\n",
        "print('Roc_auc', roc_auc_score(target_valid, proba))"
      ]
    },
    {
      "cell_type": "code",
      "execution_count": null,
      "metadata": {
        "id": "lK4acDZwV_F9",
        "outputId": "a5e02565-4da4-41c7-cab6-b16152f594b8"
      },
      "outputs": [
        {
          "name": "stdout",
          "output_type": "stream",
          "text": [
            "Decision Tree Classifier\n",
            "F1 0.4726735598227474\n",
            "Accuracy 0.8036303630363036\n",
            "Roc_auc 0.6713421774771469\n"
          ]
        }
      ],
      "source": [
        "model = DecisionTreeClassifier(random_state=12345)\n",
        "model.fit(features_upsampled, target_upsampled)\n",
        "predicted_valid = model.predict(features_valid) \n",
        "print('Decision Tree Classifier')\n",
        "print('F1', f1_score(target_valid, predicted_valid))\n",
        "print('Accuracy', accuracy_score(target_valid, predicted_valid))\n",
        "proba = model.predict_proba(features_valid)[:,1]\n",
        "print('Roc_auc', roc_auc_score(target_valid, proba))"
      ]
    },
    {
      "cell_type": "markdown",
      "metadata": {
        "id": "8qP3rbe1V_F-"
      },
      "source": [
        "И опять же F1 лучше в случайном лесе"
      ]
    },
    {
      "cell_type": "markdown",
      "metadata": {
        "id": "iv1CdlovV_F-"
      },
      "source": [
        "Уменьшим выборку"
      ]
    },
    {
      "cell_type": "code",
      "execution_count": null,
      "metadata": {
        "id": "uBv-RWhQV_F_"
      },
      "outputs": [],
      "source": [
        "def downsample(features, target, fraction):\n",
        "    features_zeros = features[target == 0]\n",
        "    features_ones = features[target == 1]\n",
        "    target_zeros = target[target == 0]\n",
        "    target_ones = target[target == 1]\n",
        "\n",
        "    features_downsampled = pd.concat(\n",
        "        [features_zeros.sample(frac=fraction, random_state=12345)] + [features_ones])\n",
        "    target_downsampled = pd.concat(\n",
        "        [target_zeros.sample(frac=fraction, random_state=12345)] + [target_ones])\n",
        "    \n",
        "    features_downsampled, target_downsampled = shuffle(\n",
        "        features_downsampled, target_downsampled, random_state=12345)\n",
        "    \n",
        "    return features_downsampled, target_downsampled\n",
        "\n",
        "features_downsampled, target_downsampled = downsample(features_train, target_train, 0.1)"
      ]
    },
    {
      "cell_type": "code",
      "execution_count": null,
      "metadata": {
        "id": "gVA5OlbwV_GA",
        "outputId": "d06a65b0-f855-458d-f683-96c6489f0a1a"
      },
      "outputs": [
        {
          "name": "stdout",
          "output_type": "stream",
          "text": [
            "Logistic Regression\n",
            "F1 0.3810650887573965\n",
            "Accuracy 0.42464246424642466\n",
            "Roc_auc 0.740033830695044\n"
          ]
        }
      ],
      "source": [
        "model = LogisticRegression(random_state=12345, solver='liblinear')\n",
        "model.fit(features_downsampled, target_downsampled)\n",
        "predicted_valid = model.predict(features_valid)\n",
        "print('Logistic Regression')\n",
        "print('F1', f1_score(target_valid, predicted_valid))\n",
        "print('Accuracy', accuracy_score(target_valid, predicted_valid))\n",
        "proba = model.predict_proba(features_valid)[:,1]\n",
        "print('Roc_auc', roc_auc_score(target_valid, proba))"
      ]
    },
    {
      "cell_type": "code",
      "execution_count": null,
      "metadata": {
        "id": "l9cXm7l2V_GB",
        "outputId": "4b5e32ec-f044-4170-b9e7-f1e162085019"
      },
      "outputs": [
        {
          "name": "stdout",
          "output_type": "stream",
          "text": [
            "Random Forest Classifier\n",
            "F1 0.426829268292683\n",
            "Accuracy 0.5346534653465347\n",
            "Roc_auc 0.7939590264061975\n"
          ]
        }
      ],
      "source": [
        "model = RandomForestClassifier(random_state=12345, n_estimators=15)\n",
        "model.fit(features_downsampled, target_downsampled)\n",
        "predicted_valid = model.predict(features_valid)\n",
        "print('Random Forest Classifier')\n",
        "print('F1', f1_score(target_valid, predicted_valid))\n",
        "print('Accuracy', accuracy_score(target_valid, predicted_valid))\n",
        "proba = model.predict_proba(features_valid)[:,1]\n",
        "print('Roc_auc', roc_auc_score(target_valid, proba))"
      ]
    },
    {
      "cell_type": "code",
      "execution_count": null,
      "metadata": {
        "id": "ddy9Gbj0V_GC",
        "outputId": "91c09ce6-ebbc-46cd-9468-1b0173dfb2d6"
      },
      "outputs": [
        {
          "name": "stdout",
          "output_type": "stream",
          "text": [
            "Decision Tree Classifier\n",
            "F1 0.3979289940828402\n",
            "Accuracy 0.5522552255225522\n",
            "Roc_auc 0.633702130634646\n"
          ]
        }
      ],
      "source": [
        "model = DecisionTreeClassifier(random_state=12345)\n",
        "model.fit(features_downsampled, target_downsampled)\n",
        "predicted_valid = model.predict(features_valid)\n",
        "print('Decision Tree Classifier')\n",
        "print('F1', f1_score(target_valid, predicted_valid))\n",
        "print('Accuracy', accuracy_score(target_valid, predicted_valid))\n",
        "proba = model.predict_proba(features_valid)[:,1]\n",
        "print('Roc_auc', roc_auc_score(target_valid, proba))"
      ]
    },
    {
      "cell_type": "markdown",
      "metadata": {
        "id": "EqUozVr8V_GE"
      },
      "source": [
        "Модель случйного леса опять побеждает"
      ]
    },
    {
      "cell_type": "code",
      "execution_count": null,
      "metadata": {
        "id": "k7FEZ-ZVV_GF",
        "outputId": "af10bcaa-f963-4af5-cfd9-a036c11505c1"
      },
      "outputs": [
        {
          "name": "stdout",
          "output_type": "stream",
          "text": [
            "Матрица Decision Tree Cl\n",
            "[[1239  228]\n",
            " [ 190  161]]\n"
          ]
        }
      ],
      "source": [
        "model = DecisionTreeClassifier(random_state=12345)\n",
        "model.fit(features_train, target_train)\n",
        "predicted_valid = model.predict(features_valid)\n",
        "print('Матрица Decision Tree Cl') \n",
        "print(confusion_matrix(target_valid, predicted_valid))"
      ]
    },
    {
      "cell_type": "code",
      "execution_count": null,
      "metadata": {
        "id": "6NmiqccHV_GG",
        "outputId": "9def23ce-c5a7-4312-8936-0959ca683c63"
      },
      "outputs": [
        {
          "name": "stdout",
          "output_type": "stream",
          "text": [
            "Матрица Random Forest Cl\n",
            "[[1393   74]\n",
            " [ 202  149]]\n"
          ]
        }
      ],
      "source": [
        "model = RandomForestClassifier(random_state=12345, n_estimators=15)\n",
        "model.fit(features_train, target_train)\n",
        "predicted_valid = model.predict(features_valid)\n",
        "print('Матрица Random Forest Cl') \n",
        "print(confusion_matrix(target_valid, predicted_valid))"
      ]
    },
    {
      "cell_type": "code",
      "execution_count": null,
      "metadata": {
        "id": "DzXmz2_oV_GI",
        "outputId": "9ca7a878-1194-4998-dc07-0461187ec51f"
      },
      "outputs": [
        {
          "name": "stdout",
          "output_type": "stream",
          "text": [
            "Матрица Logistic Regression\n",
            "[[1404   63]\n",
            " [ 283   68]]\n"
          ]
        }
      ],
      "source": [
        "model = LogisticRegression(random_state=12345, solver='liblinear')\n",
        "model.fit(features_train, target_train)\n",
        "predicted_valid = model.predict(features_valid)\n",
        "print('Матрица Logistic Regression') \n",
        "print(confusion_matrix(target_valid, predicted_valid))"
      ]
    },
    {
      "cell_type": "code",
      "execution_count": null,
      "metadata": {
        "id": "TBgX8BYuV_GJ",
        "outputId": "82aaa52d-b3b8-4540-859e-b68ad9abd548"
      },
      "outputs": [
        {
          "name": "stdout",
          "output_type": "stream",
          "text": [
            "Decision Tree Classifier\n",
            "Полнота 0.4586894586894587\n",
            "Точность 0.4138817480719794\n"
          ]
        }
      ],
      "source": [
        "model = DecisionTreeClassifier(random_state=12345)\n",
        "model.fit(features_train, target_train)\n",
        "predicted_valid = model.predict(features_valid)\n",
        "print('Decision Tree Classifier')\n",
        "print('Полнота', recall_score(target_valid, predicted_valid))\n",
        "print('Точность', precision_score(target_valid, predicted_valid))"
      ]
    },
    {
      "cell_type": "code",
      "execution_count": null,
      "metadata": {
        "id": "D-_PFj0FV_GK",
        "outputId": "77788574-9854-4507-b29e-202edff939d4"
      },
      "outputs": [
        {
          "name": "stdout",
          "output_type": "stream",
          "text": [
            "Random Forest Classifier\n",
            "Полнота 0.42450142450142453\n",
            "Точность 0.6681614349775785\n"
          ]
        }
      ],
      "source": [
        "model = RandomForestClassifier(random_state=12345, n_estimators=15)\n",
        "model.fit(features_train, target_train)\n",
        "predicted_valid = model.predict(features_valid)\n",
        "print('Random Forest Classifier')\n",
        "print('Полнота', recall_score(target_valid, predicted_valid))\n",
        "print('Точность', precision_score(target_valid, predicted_valid))"
      ]
    },
    {
      "cell_type": "code",
      "execution_count": null,
      "metadata": {
        "id": "OlhK4TvmV_GL",
        "outputId": "7bb53f97-e97c-49be-f46e-cec6c70db940"
      },
      "outputs": [
        {
          "name": "stdout",
          "output_type": "stream",
          "text": [
            "Logistic Regression\n",
            "Полнота 0.19373219373219372\n",
            "Точность 0.5190839694656488\n"
          ]
        }
      ],
      "source": [
        "model = LogisticRegression(random_state=12345, solver='liblinear')\n",
        "model.fit(features_train, target_train)\n",
        "predicted_valid = model.predict(features_valid)\n",
        "print('Logistic Regression')\n",
        "print('Полнота', recall_score(target_valid, predicted_valid))\n",
        "print('Точность', precision_score(target_valid, predicted_valid))"
      ]
    },
    {
      "cell_type": "markdown",
      "metadata": {
        "id": "aTMNi0J4V_GM"
      },
      "source": [
        "Precision - доля объектов, названных классификатором положительными и при этом действительно являющимися положительными, а recall показывает, какую долю объектов положительного класса из всех объектов положительного класса нашел алгоритм."
      ]
    },
    {
      "cell_type": "markdown",
      "metadata": {
        "id": "OQeCzOANV_GQ"
      },
      "source": [
        "## Тестирование модели"
      ]
    },
    {
      "cell_type": "markdown",
      "metadata": {
        "id": "wYwKUYzfV_GQ"
      },
      "source": [
        "F1 близка к нулю, если какой-либо из параметров (полнота или точность) плохо прогнозирует положительный класс (класс 1 - тот, что встречается реже). \n",
        "\n",
        "\n",
        "roc auc score получился 0,77, то есть модель работает достаточно хорошо, по крайней мере, лучше случайной. "
      ]
    },
    {
      "cell_type": "code",
      "execution_count": null,
      "metadata": {
        "id": "bmYXLAmIV_GR",
        "outputId": "c30ddc5d-0e21-4fc7-98e4-b6844d7c7fc0"
      },
      "outputs": [
        {
          "name": "stdout",
          "output_type": "stream",
          "text": [
            "Random Forest Classifier\n",
            "F1 0.5507745266781412\n"
          ]
        }
      ],
      "source": [
        "model = RandomForestClassifier(random_state=12345, n_estimators=125, max_depth=11)\n",
        "model.fit(features_train, target_train)\n",
        "predicted_test = model.predict(features_test)\n",
        "print('Random Forest Classifier')\n",
        "print('F1', f1_score(target_test, predicted_test))"
      ]
    },
    {
      "cell_type": "code",
      "execution_count": null,
      "metadata": {
        "id": "7qDhO-ifV_GS",
        "outputId": "b84bf6b8-4e37-443b-8d21-5cb68308d0b0"
      },
      "outputs": [
        {
          "name": "stdout",
          "output_type": "stream",
          "text": [
            "Random Forest Classifier\n",
            "F1 0.5910364145658263\n"
          ]
        }
      ],
      "source": [
        "model = RandomForestClassifier(random_state=12345, n_estimators=125, max_depth=11, class_weight='balanced')\n",
        "model.fit(features_train, target_train)\n",
        "predicted_test = model.predict(features_test)\n",
        "print('Random Forest Classifier')\n",
        "print('F1', f1_score(target_test, predicted_test))"
      ]
    },
    {
      "cell_type": "code",
      "execution_count": null,
      "metadata": {
        "id": "yTMDRX22V_GT"
      },
      "outputs": [],
      "source": [
        "def upsample(features, target, repeat):\n",
        "    features_zeros = features[target == 0]\n",
        "    features_ones = features[target == 1]\n",
        "    target_zeros = target[target == 0]\n",
        "    target_ones = target[target == 1]\n",
        "\n",
        "    features_upsampled = pd.concat([features_zeros] + [features_ones] * repeat)\n",
        "    target_upsampled = pd.concat([target_zeros] + [target_ones] * repeat)\n",
        "    \n",
        "    features_upsampled, target_upsampled = shuffle(\n",
        "        features_upsampled, target_upsampled, random_state=12345)\n",
        "    \n",
        "    return features_upsampled, target_upsampled\n",
        "\n",
        "features_upsampled, target_upsampled = upsample(features_train, target_train, 10)"
      ]
    },
    {
      "cell_type": "code",
      "execution_count": null,
      "metadata": {
        "id": "BRXibIyCV_GT",
        "outputId": "378e4bc5-3a3b-4803-9342-becd7bd70a4d"
      },
      "outputs": [
        {
          "name": "stdout",
          "output_type": "stream",
          "text": [
            "Random Forest\n",
            "F1 0.5685997171145686\n",
            "Roc_auc 0.8272101715822875\n"
          ]
        }
      ],
      "source": [
        "model = RandomForestClassifier(random_state=12345, n_estimators=125, max_depth=19)\n",
        "model.fit(features_upsampled, target_upsampled)\n",
        "predicted_test = model.predict(features_test) \n",
        "print('Random Forest')\n",
        "print('F1', f1_score(target_test, predicted_test))\n",
        "proba = model.predict_proba(features_test)[:,1]\n",
        "print('Roc_auc', roc_auc_score(target_test, proba))"
      ]
    },
    {
      "cell_type": "code",
      "execution_count": null,
      "metadata": {
        "id": "2Aw8Yw0MV_GU"
      },
      "outputs": [],
      "source": [
        "def downsample(features, target, fraction):\n",
        "    features_zeros = features[target == 0]\n",
        "    features_ones = features[target == 1]\n",
        "    target_zeros = target[target == 0]\n",
        "    target_ones = target[target == 1]\n",
        "\n",
        "    features_downsampled = pd.concat(\n",
        "        [features_zeros.sample(frac=fraction, random_state=12345)] + [features_ones])\n",
        "    target_downsampled = pd.concat(\n",
        "        [target_zeros.sample(frac=fraction, random_state=12345)] + [target_ones])\n",
        "    \n",
        "    features_downsampled, target_downsampled = shuffle(\n",
        "        features_downsampled, target_downsampled, random_state=12345)\n",
        "    \n",
        "    return features_downsampled, target_downsampled\n",
        "\n",
        "features_downsampled, target_downsampled = downsample(features_train, target_train, 0.1)"
      ]
    },
    {
      "cell_type": "code",
      "execution_count": null,
      "metadata": {
        "id": "VUvhldbKV_GV",
        "outputId": "7aca005a-8c3b-4537-92a3-6a18777941d1"
      },
      "outputs": [
        {
          "name": "stdout",
          "output_type": "stream",
          "text": [
            "Random Forest Classifier\n",
            "F1 0.4532803180914513\n",
            "Roc_auc 0.8278743191326512\n"
          ]
        }
      ],
      "source": [
        "model = RandomForestClassifier(random_state=12345, n_estimators=745, max_depth=25)\n",
        "model.fit(features_downsampled, target_downsampled)\n",
        "predicted_test = model.predict(features_test)\n",
        "print('Random Forest Classifier')\n",
        "print('F1', f1_score(target_test, predicted_test))\n",
        "proba = model.predict_proba(features_test)[:,1]\n",
        "print('Roc_auc', roc_auc_score(target_test, proba))"
      ]
    },
    {
      "cell_type": "code",
      "execution_count": null,
      "metadata": {
        "id": "iDbrXCohV_GW",
        "outputId": "fcf7f7d7-04d4-43be-fb81-e5b9d03febb4"
      },
      "outputs": [
        {
          "name": "stdout",
          "output_type": "stream",
          "text": [
            "Матрица Random Forest Cl\n",
            "[[1395   52]\n",
            " [ 206  166]]\n"
          ]
        }
      ],
      "source": [
        "model = RandomForestClassifier(random_state=12345, n_estimators=745, max_depth=15)\n",
        "model.fit(features_train, target_train)\n",
        "predicted_test = model.predict(features_test)\n",
        "print('Матрица Random Forest Cl') \n",
        "print(confusion_matrix(target_test, predicted_test))"
      ]
    },
    {
      "cell_type": "code",
      "execution_count": null,
      "metadata": {
        "id": "mmSa2isVV_GX",
        "outputId": "c6877ec0-1580-411c-fa46-80af413f5c94"
      },
      "outputs": [
        {
          "name": "stdout",
          "output_type": "stream",
          "text": [
            "              precision    recall  f1-score   support\n",
            "\n",
            "  not exited       0.87      0.96      0.92      1447\n",
            "      exited       0.76      0.45      0.56       372\n",
            "\n",
            "    accuracy                           0.86      1819\n",
            "   macro avg       0.82      0.71      0.74      1819\n",
            "weighted avg       0.85      0.86      0.84      1819\n",
            "\n"
          ]
        }
      ],
      "source": [
        "print(classification_report(target_test, predicted_test, target_names=['not exited', 'exited']))"
      ]
    },
    {
      "cell_type": "code",
      "execution_count": null,
      "metadata": {
        "id": "_yOu9THuV_GY",
        "outputId": "38e248eb-0387-4281-c33b-cca030cfb538"
      },
      "outputs": [
        {
          "data": {
            "text/plain": [
              "0.8414572976347059"
            ]
          },
          "execution_count": 43,
          "metadata": {},
          "output_type": "execute_result"
        }
      ],
      "source": [
        "proba = model.predict_proba(features_test)[:,1]\n",
        "roc_auc_score(target_test, proba)"
      ]
    },
    {
      "cell_type": "code",
      "execution_count": null,
      "metadata": {
        "id": "Bd5AHl_1V_Gb",
        "outputId": "92e12392-c0a5-4168-b951-2ef6e9b1cb25"
      },
      "outputs": [
        {
          "data": {
            "text/plain": [
              "0    0.796205\n",
              "1    0.203795\n",
              "Name: Exited, dtype: float64"
            ]
          },
          "execution_count": 44,
          "metadata": {},
          "output_type": "execute_result"
        }
      ],
      "source": [
        "df_ohe['Exited'].value_counts() / df_ohe.shape[0]"
      ]
    },
    {
      "cell_type": "code",
      "execution_count": null,
      "metadata": {
        "id": "OHGkcL2aV_Gc",
        "outputId": "4a4f5821-5fde-433d-e730-04fd93906c3f"
      },
      "outputs": [
        {
          "data": {
            "text/plain": [
              "0.7948294829482948"
            ]
          },
          "execution_count": 45,
          "metadata": {},
          "output_type": "execute_result"
        }
      ],
      "source": [
        "X = df_ohe.drop(['Exited'], axis=1)\n",
        "y = df_ohe['Exited'] \n",
        "X_train, X_test, y_train, y_test = train_test_split(X, y, test_size = 0.25, random_state = 12345)\n",
        "dummy_clf = DummyClassifier(strategy=\"most_frequent\")\n",
        "dummy_clf.fit(X_train, y_train) \n",
        "dummy_clf.score(X_test, y_test)"
      ]
    },
    {
      "cell_type": "code",
      "execution_count": null,
      "metadata": {
        "id": "_3qPi4pNV_Gd",
        "outputId": "33e6cff7-c7de-4a5e-9588-a6b3e6f74476"
      },
      "outputs": [
        {
          "data": {
            "image/png": "[encoded data removed]",
            "text/plain": [
              "<Figure size 432x288 with 1 Axes>"
            ]
          },
          "metadata": {
            "needs_background": "light"
          },
          "output_type": "display_data"
        },
        {
          "data": {
            "image/png": "[encoded data removed]",
            "text/plain": [
              "<Figure size 432x288 with 1 Axes>"
            ]
          },
          "metadata": {
            "needs_background": "light"
          },
          "output_type": "display_data"
        }
      ],
      "source": [
        "model = RandomForestClassifier(random_state=12345, n_estimators=745, max_depth=15)\n",
        "model.fit(features_train, target_train)\n",
        "\n",
        "probabilities_test = model.predict_proba(features_test)\n",
        "probabilities_one_test = probabilities_test[:, 1]\n",
        "\n",
        "fpr, tpr, thresholds = roc_curve(target_test, probabilities_one_test)\n",
        "# ROC-кривая случайной модели выглядит как прямая\n",
        "plt.plot([0, 1], [0, 1], linestyle='--')\n",
        "plt.figure()\n",
        "plt.plot(fpr, tpr)\n",
        "plt.xlim([0.0, 1.0])\n",
        "plt.ylim([0.0, 1.0])\n",
        "plt.xlabel('False Positive Rate')\n",
        "plt.ylabel('True Positive Rate')\n",
        "plt.title('ROC-кривая')\n",
        "plt.show() "
      ]
    },
    {
      "cell_type": "code",
      "execution_count": null,
      "metadata": {
        "id": "307ogNBZV_Ge",
        "outputId": "95a93280-1752-407e-cb28-4fa04f27a288"
      },
      "outputs": [
        {
          "name": "stdout",
          "output_type": "stream",
          "text": [
            "Порог = 0.00 | Точность = 0.205, Полнота = 1.000, F1 = 0.340\n",
            "Порог = 0.10 | Точность = 0.320, Полнота = 0.890, F1 = 0.471\n",
            "Порог = 0.20 | Точность = 0.443, Полнота = 0.753, F1 = 0.558\n",
            "Порог = 0.30 | Точность = 0.560, Полнота = 0.632, F1 = 0.593\n",
            "Порог = 0.40 | Точность = 0.647, Полнота = 0.522, F1 = 0.577\n",
            "Порог = 0.50 | Точность = 0.761, Полнота = 0.446, F1 = 0.563\n",
            "Порог = 0.60 | Точность = 0.873, Полнота = 0.371, F1 = 0.521\n",
            "Порог = 0.70 | Точность = 0.947, Полнота = 0.290, F1 = 0.444\n",
            "Порог = 0.80 | Точность = 0.967, Полнота = 0.237, F1 = 0.380\n",
            "Порог = 0.90 | Точность = 1.000, Полнота = 0.089, F1 = 0.163\n"
          ]
        }
      ],
      "source": [
        "\n",
        "model = RandomForestClassifier(n_estimators=745, random_state=12345, max_depth=15)\n",
        "model.fit(features_train, target_train)\n",
        "probabilities_test = model.predict_proba(features_test)\n",
        "probabilities_one_test = probabilities_test[:, 1]\n",
        "\n",
        "for threshold in np.arange(0, 1, 0.1):\n",
        "    predicted_test = probabilities_one_test > threshold \n",
        "    precision = precision_score(target_test, predicted_test) \n",
        "    recall = recall_score(target_test, predicted_test)\n",
        "    f1 = f1_score(target_test, predicted_test)\n",
        "\n",
        "    print(\"Порог = {:.2f} | Точность = {:.3f}, Полнота = {:.3f}, F1 = {:.3f}\".format(\n",
        "        threshold, precision, recall, f1))"
      ]
    },
    {
      "cell_type": "markdown",
      "metadata": {
        "id": "S0wDfSFKV_Gf"
      },
      "source": [
        "При пороге 0,3 у нас максимальное значение F1 = 0,59"
      ]
    },
    {
      "cell_type": "markdown",
      "metadata": {
        "id": "n5VCDik-V_Gg"
      },
      "source": [
        "Итого:\n",
        "1) был проведен анализ данных в отношении клиентов банка;\n",
        "\n",
        "2) исследованы три модели: decision tree classifier, random forest classifier, logistic regression\n",
        "\n",
        "3) проведена проверка данных моделей без учета дисбаланса\n",
        "\n",
        "4) проведена проверка моделей с учетом дисбаланса\n",
        "\n",
        "5) лучшее значение f1 показала модель Random Forest Classifier, на которой была проверена тестовая выборка\n",
        "\n",
        "6) при пороге 0,3 f1 показывает лучшее значение - 0,59\n",
        "\n",
        "7) при балансировке классов было достигнуто значение f1 - 0,59\n",
        "\n",
        "8) модель работает."
      ]
    }
  ],
  "metadata": {
    "ExecuteTimeLog": [
      {
        "duration": 786,
        "start_time": "2022-02-14T08:45:33.468Z"
      },
      {
        "duration": 35,
        "start_time": "2022-02-14T08:45:58.331Z"
      },
      {
        "duration": 44,
        "start_time": "2022-02-14T08:46:11.530Z"
      },
      {
        "duration": 417,
        "start_time": "2022-02-14T08:46:55.860Z"
      },
      {
        "duration": 298,
        "start_time": "2022-02-14T08:47:03.134Z"
      },
      {
        "duration": 18,
        "start_time": "2022-02-14T08:47:51.132Z"
      },
      {
        "duration": 285,
        "start_time": "2022-02-14T08:53:14.881Z"
      },
      {
        "duration": 11,
        "start_time": "2022-02-14T08:53:28.070Z"
      },
      {
        "duration": 311,
        "start_time": "2022-02-14T08:55:07.673Z"
      },
      {
        "duration": 541,
        "start_time": "2022-02-14T08:55:14.133Z"
      },
      {
        "duration": 371,
        "start_time": "2022-02-14T08:55:17.935Z"
      },
      {
        "duration": 7,
        "start_time": "2022-02-14T08:56:06.975Z"
      },
      {
        "duration": 349,
        "start_time": "2022-02-14T08:56:09.976Z"
      },
      {
        "duration": 7,
        "start_time": "2022-02-14T08:56:50.377Z"
      },
      {
        "duration": 8,
        "start_time": "2022-02-14T08:57:02.621Z"
      },
      {
        "duration": 296,
        "start_time": "2022-02-14T08:57:28.570Z"
      },
      {
        "duration": 286,
        "start_time": "2022-02-14T08:57:34.320Z"
      },
      {
        "duration": 293,
        "start_time": "2022-02-14T08:57:37.489Z"
      },
      {
        "duration": 970,
        "start_time": "2022-02-14T08:58:01.698Z"
      },
      {
        "duration": 1001,
        "start_time": "2022-02-14T08:58:29.190Z"
      },
      {
        "duration": 16,
        "start_time": "2022-02-14T09:00:42.428Z"
      },
      {
        "duration": 10,
        "start_time": "2022-02-14T09:02:46.804Z"
      },
      {
        "duration": 331,
        "start_time": "2022-02-14T09:02:48.724Z"
      },
      {
        "duration": 20,
        "start_time": "2022-02-14T09:02:50.244Z"
      },
      {
        "duration": 1303,
        "start_time": "2022-02-14T09:03:12.853Z"
      },
      {
        "duration": 45,
        "start_time": "2022-02-14T09:03:15.838Z"
      },
      {
        "duration": 16,
        "start_time": "2022-02-14T09:03:18.508Z"
      },
      {
        "duration": 6,
        "start_time": "2022-02-14T09:03:20.012Z"
      },
      {
        "duration": 10,
        "start_time": "2022-02-14T09:03:22.500Z"
      },
      {
        "duration": 282,
        "start_time": "2022-02-14T09:03:25.085Z"
      },
      {
        "duration": 18,
        "start_time": "2022-02-14T09:03:26.630Z"
      },
      {
        "duration": 1461,
        "start_time": "2022-02-14T09:03:44.120Z"
      },
      {
        "duration": 6,
        "start_time": "2022-02-14T09:05:53.752Z"
      },
      {
        "duration": 19,
        "start_time": "2022-02-14T09:05:55.391Z"
      },
      {
        "duration": 11,
        "start_time": "2022-02-14T09:05:56.815Z"
      },
      {
        "duration": 342,
        "start_time": "2022-02-14T09:06:01.537Z"
      },
      {
        "duration": 8792,
        "start_time": "2022-02-14T09:06:39.711Z"
      },
      {
        "duration": 6,
        "start_time": "2022-02-14T09:06:53.743Z"
      },
      {
        "duration": 1197,
        "start_time": "2022-02-14T09:07:41.839Z"
      },
      {
        "duration": 364,
        "start_time": "2022-02-14T09:08:15.643Z"
      },
      {
        "duration": 320,
        "start_time": "2022-02-14T09:09:10.766Z"
      },
      {
        "duration": 1288,
        "start_time": "2022-02-14T09:12:06.780Z"
      },
      {
        "duration": 44,
        "start_time": "2022-02-14T09:12:09.775Z"
      },
      {
        "duration": 15,
        "start_time": "2022-02-14T09:12:12.518Z"
      },
      {
        "duration": 6,
        "start_time": "2022-02-14T09:12:14.404Z"
      },
      {
        "duration": 6,
        "start_time": "2022-02-14T09:12:17.222Z"
      },
      {
        "duration": 6,
        "start_time": "2022-02-14T09:12:48.896Z"
      },
      {
        "duration": 20,
        "start_time": "2022-02-14T09:12:51.804Z"
      },
      {
        "duration": 11,
        "start_time": "2022-02-14T09:12:53.029Z"
      },
      {
        "duration": 5,
        "start_time": "2022-02-14T09:12:59.087Z"
      },
      {
        "duration": 482,
        "start_time": "2022-02-14T09:13:01.118Z"
      },
      {
        "duration": 1328,
        "start_time": "2022-02-14T09:14:56.101Z"
      },
      {
        "duration": 44,
        "start_time": "2022-02-14T09:14:59.246Z"
      },
      {
        "duration": 16,
        "start_time": "2022-02-14T09:15:03.527Z"
      },
      {
        "duration": 5,
        "start_time": "2022-02-14T09:15:04.742Z"
      },
      {
        "duration": 7,
        "start_time": "2022-02-14T09:15:33.576Z"
      },
      {
        "duration": 5,
        "start_time": "2022-02-14T09:15:35.230Z"
      },
      {
        "duration": 6,
        "start_time": "2022-02-14T09:15:36.310Z"
      },
      {
        "duration": 19,
        "start_time": "2022-02-14T09:15:38.279Z"
      },
      {
        "duration": 16,
        "start_time": "2022-02-14T09:15:39.207Z"
      },
      {
        "duration": 5,
        "start_time": "2022-02-14T09:15:43.559Z"
      },
      {
        "duration": 531,
        "start_time": "2022-02-14T09:15:45.456Z"
      },
      {
        "duration": 10,
        "start_time": "2022-02-14T09:16:22.751Z"
      },
      {
        "duration": 14,
        "start_time": "2022-02-14T09:17:39.441Z"
      },
      {
        "duration": 312,
        "start_time": "2022-02-14T09:19:21.704Z"
      },
      {
        "duration": 1391,
        "start_time": "2022-02-14T09:26:46.498Z"
      },
      {
        "duration": 117,
        "start_time": "2022-02-14T09:26:48.978Z"
      },
      {
        "duration": 19,
        "start_time": "2022-02-14T09:26:51.156Z"
      },
      {
        "duration": 6,
        "start_time": "2022-02-14T09:26:52.432Z"
      },
      {
        "duration": 7,
        "start_time": "2022-02-14T09:26:55.016Z"
      },
      {
        "duration": 6,
        "start_time": "2022-02-14T09:26:57.346Z"
      },
      {
        "duration": 6,
        "start_time": "2022-02-14T09:26:58.601Z"
      },
      {
        "duration": 5,
        "start_time": "2022-02-14T09:26:59.634Z"
      },
      {
        "duration": 18,
        "start_time": "2022-02-14T09:27:00.705Z"
      },
      {
        "duration": 10,
        "start_time": "2022-02-14T09:27:02.615Z"
      },
      {
        "duration": 11,
        "start_time": "2022-02-14T09:27:12.481Z"
      },
      {
        "duration": 519,
        "start_time": "2022-02-14T09:27:21.850Z"
      },
      {
        "duration": 310,
        "start_time": "2022-02-14T09:29:59.229Z"
      },
      {
        "duration": 7,
        "start_time": "2022-02-14T09:30:17.897Z"
      },
      {
        "duration": 429,
        "start_time": "2022-02-14T09:30:21.964Z"
      },
      {
        "duration": 400,
        "start_time": "2022-02-14T09:30:58.004Z"
      },
      {
        "duration": 320,
        "start_time": "2022-02-14T09:31:25.077Z"
      },
      {
        "duration": 1952,
        "start_time": "2022-02-14T09:35:32.029Z"
      },
      {
        "duration": 56,
        "start_time": "2022-02-14T09:35:36.080Z"
      },
      {
        "duration": 17,
        "start_time": "2022-02-14T09:35:38.297Z"
      },
      {
        "duration": 5,
        "start_time": "2022-02-14T09:35:39.314Z"
      },
      {
        "duration": 16,
        "start_time": "2022-02-14T09:35:41.837Z"
      },
      {
        "duration": 18,
        "start_time": "2022-02-14T09:35:43.377Z"
      },
      {
        "duration": 10,
        "start_time": "2022-02-14T09:35:44.419Z"
      },
      {
        "duration": 11,
        "start_time": "2022-02-14T09:35:47.720Z"
      },
      {
        "duration": 1350,
        "start_time": "2022-02-14T09:35:52.091Z"
      },
      {
        "duration": 401,
        "start_time": "2022-02-14T09:36:22.210Z"
      },
      {
        "duration": 317,
        "start_time": "2022-02-14T09:38:19.523Z"
      },
      {
        "duration": 1358,
        "start_time": "2022-02-14T09:38:32.241Z"
      },
      {
        "duration": 43,
        "start_time": "2022-02-14T09:38:35.227Z"
      },
      {
        "duration": 16,
        "start_time": "2022-02-14T09:38:37.128Z"
      },
      {
        "duration": 6,
        "start_time": "2022-02-14T09:38:37.982Z"
      },
      {
        "duration": 533,
        "start_time": "2022-02-14T09:38:39.718Z"
      },
      {
        "duration": 324,
        "start_time": "2022-02-14T09:38:58.933Z"
      },
      {
        "duration": 1356,
        "start_time": "2022-02-14T09:39:10.847Z"
      },
      {
        "duration": 45,
        "start_time": "2022-02-14T09:39:13.856Z"
      },
      {
        "duration": 17,
        "start_time": "2022-02-14T09:39:15.945Z"
      },
      {
        "duration": 5,
        "start_time": "2022-02-14T09:39:17.154Z"
      },
      {
        "duration": 511,
        "start_time": "2022-02-14T09:39:19.526Z"
      },
      {
        "duration": 382,
        "start_time": "2022-02-14T09:40:52.674Z"
      },
      {
        "duration": 1346,
        "start_time": "2022-02-14T09:41:18.232Z"
      },
      {
        "duration": 46,
        "start_time": "2022-02-14T09:41:20.910Z"
      },
      {
        "duration": 17,
        "start_time": "2022-02-14T09:41:22.985Z"
      },
      {
        "duration": 5,
        "start_time": "2022-02-14T09:41:23.838Z"
      },
      {
        "duration": 15,
        "start_time": "2022-02-14T09:41:27.435Z"
      },
      {
        "duration": 491,
        "start_time": "2022-02-14T09:41:29.167Z"
      },
      {
        "duration": 9,
        "start_time": "2022-02-14T09:41:40.318Z"
      },
      {
        "duration": 15,
        "start_time": "2022-02-14T09:41:41.983Z"
      },
      {
        "duration": 10,
        "start_time": "2022-02-14T09:41:43.071Z"
      },
      {
        "duration": 1298,
        "start_time": "2022-02-14T09:42:09.482Z"
      },
      {
        "duration": 44,
        "start_time": "2022-02-14T09:42:12.443Z"
      },
      {
        "duration": 18,
        "start_time": "2022-02-14T09:42:14.610Z"
      },
      {
        "duration": 6,
        "start_time": "2022-02-14T09:42:15.479Z"
      },
      {
        "duration": 15,
        "start_time": "2022-02-14T09:42:18.155Z"
      },
      {
        "duration": 8,
        "start_time": "2022-02-14T09:42:28.907Z"
      },
      {
        "duration": 16,
        "start_time": "2022-02-14T09:42:31.058Z"
      },
      {
        "duration": 10,
        "start_time": "2022-02-14T09:42:31.946Z"
      },
      {
        "duration": 12,
        "start_time": "2022-02-14T09:42:35.058Z"
      },
      {
        "duration": 48,
        "start_time": "2022-02-14T09:42:45.813Z"
      },
      {
        "duration": 1340,
        "start_time": "2022-02-14T09:43:54.650Z"
      },
      {
        "duration": 46,
        "start_time": "2022-02-14T09:43:55.993Z"
      },
      {
        "duration": 24,
        "start_time": "2022-02-14T09:43:56.042Z"
      },
      {
        "duration": 5,
        "start_time": "2022-02-14T09:43:56.070Z"
      },
      {
        "duration": 17,
        "start_time": "2022-02-14T09:43:56.078Z"
      },
      {
        "duration": 11,
        "start_time": "2022-02-14T09:43:56.098Z"
      },
      {
        "duration": 62,
        "start_time": "2022-02-14T09:43:56.111Z"
      },
      {
        "duration": 10,
        "start_time": "2022-02-14T09:43:56.177Z"
      },
      {
        "duration": 12,
        "start_time": "2022-02-14T09:43:56.190Z"
      },
      {
        "duration": 3,
        "start_time": "2022-02-14T09:43:56.205Z"
      },
      {
        "duration": 75,
        "start_time": "2022-02-14T09:43:56.210Z"
      },
      {
        "duration": 1323,
        "start_time": "2022-02-14T12:53:41.169Z"
      },
      {
        "duration": 45,
        "start_time": "2022-02-14T12:53:44.210Z"
      },
      {
        "duration": 16,
        "start_time": "2022-02-14T12:53:46.282Z"
      },
      {
        "duration": 6,
        "start_time": "2022-02-14T12:53:47.604Z"
      },
      {
        "duration": 14,
        "start_time": "2022-02-14T12:53:50.515Z"
      },
      {
        "duration": 9,
        "start_time": "2022-02-14T12:53:52.028Z"
      },
      {
        "duration": 22,
        "start_time": "2022-02-14T12:53:54.171Z"
      },
      {
        "duration": 13,
        "start_time": "2022-02-14T12:53:55.346Z"
      },
      {
        "duration": 13,
        "start_time": "2022-02-14T12:53:58.548Z"
      },
      {
        "duration": 35,
        "start_time": "2022-02-14T12:54:20.197Z"
      },
      {
        "duration": 525,
        "start_time": "2022-02-14T12:54:48.020Z"
      },
      {
        "duration": 33,
        "start_time": "2022-02-14T12:54:54.547Z"
      },
      {
        "duration": 35,
        "start_time": "2022-02-14T12:55:33.297Z"
      },
      {
        "duration": 98,
        "start_time": "2022-02-14T12:55:59.324Z"
      },
      {
        "duration": 295,
        "start_time": "2022-02-14T12:56:12.125Z"
      },
      {
        "duration": 98,
        "start_time": "2022-02-14T12:56:52.677Z"
      },
      {
        "duration": 53,
        "start_time": "2022-02-14T12:56:58.480Z"
      },
      {
        "duration": 132,
        "start_time": "2022-02-14T12:57:02.759Z"
      },
      {
        "duration": 389,
        "start_time": "2022-02-14T12:57:07.581Z"
      },
      {
        "duration": 192,
        "start_time": "2022-02-14T12:57:12.968Z"
      },
      {
        "duration": 170,
        "start_time": "2022-02-14T12:57:29.933Z"
      },
      {
        "duration": 137,
        "start_time": "2022-02-14T12:57:46.125Z"
      },
      {
        "duration": 149,
        "start_time": "2022-02-14T12:58:31.710Z"
      },
      {
        "duration": 102,
        "start_time": "2022-02-14T12:59:43.559Z"
      },
      {
        "duration": 54,
        "start_time": "2022-02-14T13:00:00.013Z"
      },
      {
        "duration": 57,
        "start_time": "2022-02-14T13:00:13.151Z"
      },
      {
        "duration": 109,
        "start_time": "2022-02-14T13:02:35.700Z"
      },
      {
        "duration": 47,
        "start_time": "2022-02-14T13:02:44.324Z"
      },
      {
        "duration": 44,
        "start_time": "2022-02-14T13:03:10.530Z"
      },
      {
        "duration": 71,
        "start_time": "2022-02-14T13:03:25.489Z"
      },
      {
        "duration": 36,
        "start_time": "2022-02-14T13:03:58.307Z"
      },
      {
        "duration": 32,
        "start_time": "2022-02-14T13:04:19.138Z"
      },
      {
        "duration": 35,
        "start_time": "2022-02-14T13:04:37.082Z"
      },
      {
        "duration": 437,
        "start_time": "2022-02-14T13:06:39.434Z"
      },
      {
        "duration": 92,
        "start_time": "2022-02-14T13:06:48.412Z"
      },
      {
        "duration": 141,
        "start_time": "2022-02-14T13:09:07.496Z"
      },
      {
        "duration": 132,
        "start_time": "2022-02-14T13:09:25.197Z"
      },
      {
        "duration": 137,
        "start_time": "2022-02-14T13:09:41.262Z"
      },
      {
        "duration": 5,
        "start_time": "2022-02-14T13:10:56.783Z"
      },
      {
        "duration": 21,
        "start_time": "2022-02-14T13:11:56.282Z"
      },
      {
        "duration": 114,
        "start_time": "2022-02-14T13:12:28.752Z"
      },
      {
        "duration": 135,
        "start_time": "2022-02-14T13:12:49.424Z"
      },
      {
        "duration": 143,
        "start_time": "2022-02-14T13:13:04.416Z"
      },
      {
        "duration": 305,
        "start_time": "2022-02-14T13:13:44.405Z"
      },
      {
        "duration": 287,
        "start_time": "2022-02-14T13:13:58.120Z"
      },
      {
        "duration": 302,
        "start_time": "2022-02-14T13:14:08.904Z"
      },
      {
        "duration": 62,
        "start_time": "2022-02-14T13:14:47.097Z"
      },
      {
        "duration": 63,
        "start_time": "2022-02-14T13:15:00.772Z"
      },
      {
        "duration": 63,
        "start_time": "2022-02-14T13:15:17.562Z"
      },
      {
        "duration": 17,
        "start_time": "2022-02-14T13:16:41.763Z"
      },
      {
        "duration": 27,
        "start_time": "2022-02-14T13:17:11.908Z"
      },
      {
        "duration": 25,
        "start_time": "2022-02-14T13:17:32.628Z"
      },
      {
        "duration": 28,
        "start_time": "2022-02-14T13:18:02.651Z"
      },
      {
        "duration": 65,
        "start_time": "2022-02-14T13:18:40.511Z"
      },
      {
        "duration": 64,
        "start_time": "2022-02-14T13:18:54.701Z"
      },
      {
        "duration": 67,
        "start_time": "2022-02-14T13:19:05.876Z"
      },
      {
        "duration": 17,
        "start_time": "2022-02-14T13:19:34.790Z"
      },
      {
        "duration": 17,
        "start_time": "2022-02-14T13:19:48.677Z"
      },
      {
        "duration": 18,
        "start_time": "2022-02-14T13:19:58.787Z"
      },
      {
        "duration": 33,
        "start_time": "2022-02-14T13:24:42.732Z"
      },
      {
        "duration": 136,
        "start_time": "2022-02-14T13:25:02.971Z"
      },
      {
        "duration": 353,
        "start_time": "2022-02-14T13:25:18.447Z"
      },
      {
        "duration": 196,
        "start_time": "2022-02-14T13:25:35.664Z"
      },
      {
        "duration": 212,
        "start_time": "2022-02-14T13:25:46.047Z"
      },
      {
        "duration": 11,
        "start_time": "2022-02-14T13:26:43.969Z"
      },
      {
        "duration": 13,
        "start_time": "2022-02-14T13:26:53.217Z"
      },
      {
        "duration": 6,
        "start_time": "2022-02-14T13:28:11.644Z"
      },
      {
        "duration": 33,
        "start_time": "2022-02-14T13:28:43.569Z"
      },
      {
        "duration": 138,
        "start_time": "2022-02-14T13:29:07.625Z"
      },
      {
        "duration": 116,
        "start_time": "2022-02-14T13:29:31.044Z"
      },
      {
        "duration": 6,
        "start_time": "2022-02-14T13:30:24.257Z"
      },
      {
        "duration": 36,
        "start_time": "2022-02-14T13:30:51.407Z"
      },
      {
        "duration": 140,
        "start_time": "2022-02-14T13:31:15.762Z"
      },
      {
        "duration": 417,
        "start_time": "2022-02-14T13:31:34.341Z"
      },
      {
        "duration": 68,
        "start_time": "2022-02-14T13:31:41.391Z"
      },
      {
        "duration": 1370,
        "start_time": "2022-02-14T13:37:42.014Z"
      },
      {
        "duration": 42,
        "start_time": "2022-02-14T13:37:45.333Z"
      },
      {
        "duration": 15,
        "start_time": "2022-02-14T13:37:47.676Z"
      },
      {
        "duration": 6,
        "start_time": "2022-02-14T13:37:48.909Z"
      },
      {
        "duration": 12,
        "start_time": "2022-02-14T13:37:51.404Z"
      },
      {
        "duration": 8,
        "start_time": "2022-02-14T13:37:52.905Z"
      },
      {
        "duration": 17,
        "start_time": "2022-02-14T13:37:54.309Z"
      },
      {
        "duration": 10,
        "start_time": "2022-02-14T13:37:55.812Z"
      },
      {
        "duration": 11,
        "start_time": "2022-02-14T13:37:58.891Z"
      },
      {
        "duration": 19,
        "start_time": "2022-02-14T13:38:00.470Z"
      },
      {
        "duration": 10,
        "start_time": "2022-02-14T13:38:04.517Z"
      },
      {
        "duration": 11,
        "start_time": "2022-02-14T13:38:09.139Z"
      },
      {
        "duration": 52,
        "start_time": "2022-02-14T13:38:13.132Z"
      },
      {
        "duration": 52,
        "start_time": "2022-02-14T13:38:15.180Z"
      },
      {
        "duration": 52,
        "start_time": "2022-02-14T13:38:16.446Z"
      },
      {
        "duration": 196,
        "start_time": "2022-02-14T13:38:19.035Z"
      },
      {
        "duration": 198,
        "start_time": "2022-02-14T13:38:20.963Z"
      },
      {
        "duration": 194,
        "start_time": "2022-02-14T13:38:23.171Z"
      },
      {
        "duration": 114,
        "start_time": "2022-02-14T13:38:24.651Z"
      },
      {
        "duration": 66,
        "start_time": "2022-02-14T13:38:25.947Z"
      },
      {
        "duration": 76,
        "start_time": "2022-02-14T13:38:27.083Z"
      },
      {
        "duration": 119,
        "start_time": "2022-02-14T13:38:32.341Z"
      },
      {
        "duration": 56,
        "start_time": "2022-02-14T13:38:33.567Z"
      },
      {
        "duration": 56,
        "start_time": "2022-02-14T13:38:34.427Z"
      },
      {
        "duration": 50,
        "start_time": "2022-02-14T13:38:36.635Z"
      },
      {
        "duration": 55,
        "start_time": "2022-02-14T13:38:38.068Z"
      },
      {
        "duration": 48,
        "start_time": "2022-02-14T13:38:40.133Z"
      },
      {
        "duration": 184,
        "start_time": "2022-02-14T13:38:41.124Z"
      },
      {
        "duration": 177,
        "start_time": "2022-02-14T13:38:43.652Z"
      },
      {
        "duration": 190,
        "start_time": "2022-02-14T13:38:44.788Z"
      },
      {
        "duration": 27,
        "start_time": "2022-02-14T13:38:45.772Z"
      },
      {
        "duration": 203,
        "start_time": "2022-02-14T13:38:47.861Z"
      },
      {
        "duration": 192,
        "start_time": "2022-02-14T13:38:48.868Z"
      },
      {
        "duration": 160,
        "start_time": "2022-02-14T13:38:51.601Z"
      },
      {
        "duration": 418,
        "start_time": "2022-02-14T13:38:52.785Z"
      },
      {
        "duration": 429,
        "start_time": "2022-02-14T13:38:55.660Z"
      },
      {
        "duration": 427,
        "start_time": "2022-02-14T13:38:57.243Z"
      },
      {
        "duration": 97,
        "start_time": "2022-02-14T13:39:00.251Z"
      },
      {
        "duration": 92,
        "start_time": "2022-02-14T13:39:02.892Z"
      },
      {
        "duration": 103,
        "start_time": "2022-02-14T13:39:05.001Z"
      },
      {
        "duration": 19,
        "start_time": "2022-02-14T13:39:06.292Z"
      },
      {
        "duration": 34,
        "start_time": "2022-02-14T13:39:09.252Z"
      },
      {
        "duration": 32,
        "start_time": "2022-02-14T13:39:10.307Z"
      },
      {
        "duration": 33,
        "start_time": "2022-02-14T13:39:12.774Z"
      },
      {
        "duration": 78,
        "start_time": "2022-02-14T13:39:13.892Z"
      },
      {
        "duration": 78,
        "start_time": "2022-02-14T13:39:16.415Z"
      },
      {
        "duration": 85,
        "start_time": "2022-02-14T13:39:17.532Z"
      },
      {
        "duration": 21,
        "start_time": "2022-02-14T13:39:19.900Z"
      },
      {
        "duration": 20,
        "start_time": "2022-02-14T13:39:20.732Z"
      },
      {
        "duration": 21,
        "start_time": "2022-02-14T13:39:21.556Z"
      },
      {
        "duration": 51,
        "start_time": "2022-02-14T13:39:23.803Z"
      },
      {
        "duration": 199,
        "start_time": "2022-02-14T13:39:25.251Z"
      },
      {
        "duration": 101,
        "start_time": "2022-02-14T13:39:28.164Z"
      },
      {
        "duration": 53,
        "start_time": "2022-02-14T13:39:30.116Z"
      },
      {
        "duration": 206,
        "start_time": "2022-02-14T13:39:32.235Z"
      },
      {
        "duration": 97,
        "start_time": "2022-02-14T13:39:33.169Z"
      },
      {
        "duration": 72,
        "start_time": "2022-02-14T13:39:36.011Z"
      },
      {
        "duration": 276,
        "start_time": "2022-02-14T13:39:37.108Z"
      },
      {
        "duration": 159,
        "start_time": "2022-02-14T13:39:39.709Z"
      },
      {
        "duration": 55,
        "start_time": "2022-02-14T13:43:15.538Z"
      },
      {
        "duration": 194,
        "start_time": "2022-02-14T13:43:36.225Z"
      },
      {
        "duration": 79,
        "start_time": "2022-02-14T13:43:53.594Z"
      },
      {
        "duration": 124,
        "start_time": "2022-02-14T13:44:10.937Z"
      },
      {
        "duration": 57,
        "start_time": "2022-02-14T13:44:29.679Z"
      },
      {
        "duration": 185,
        "start_time": "2022-02-14T13:44:41.861Z"
      },
      {
        "duration": 142,
        "start_time": "2022-02-14T13:45:03.725Z"
      },
      {
        "duration": 409,
        "start_time": "2022-02-14T13:45:28.442Z"
      },
      {
        "duration": 95,
        "start_time": "2022-02-14T13:45:41.751Z"
      },
      {
        "duration": 30,
        "start_time": "2022-02-14T13:46:01.146Z"
      },
      {
        "duration": 160,
        "start_time": "2022-02-14T13:46:03.007Z"
      },
      {
        "duration": 93,
        "start_time": "2022-02-14T13:46:14.567Z"
      },
      {
        "duration": 25,
        "start_time": "2022-02-14T13:46:27.406Z"
      },
      {
        "duration": 54,
        "start_time": "2022-02-14T13:46:38.797Z"
      },
      {
        "duration": 187,
        "start_time": "2022-02-14T13:46:40.156Z"
      },
      {
        "duration": 203,
        "start_time": "2022-02-14T13:46:41.556Z"
      },
      {
        "duration": 55,
        "start_time": "2022-02-14T13:47:31.909Z"
      },
      {
        "duration": 269,
        "start_time": "2022-02-14T13:47:44.632Z"
      },
      {
        "duration": 95,
        "start_time": "2022-02-14T13:47:51.375Z"
      },
      {
        "duration": 1899,
        "start_time": "2022-02-14T13:48:14.118Z"
      },
      {
        "duration": 47,
        "start_time": "2022-02-14T13:48:16.021Z"
      },
      {
        "duration": 16,
        "start_time": "2022-02-14T13:48:16.072Z"
      },
      {
        "duration": 5,
        "start_time": "2022-02-14T13:48:16.090Z"
      },
      {
        "duration": 11,
        "start_time": "2022-02-14T13:48:16.097Z"
      },
      {
        "duration": 49,
        "start_time": "2022-02-14T13:48:16.110Z"
      },
      {
        "duration": 20,
        "start_time": "2022-02-14T13:48:16.162Z"
      },
      {
        "duration": 11,
        "start_time": "2022-02-14T13:48:16.186Z"
      },
      {
        "duration": 11,
        "start_time": "2022-02-14T13:48:16.200Z"
      },
      {
        "duration": 55,
        "start_time": "2022-02-14T13:48:16.213Z"
      },
      {
        "duration": 9,
        "start_time": "2022-02-14T13:48:16.271Z"
      },
      {
        "duration": 13,
        "start_time": "2022-02-14T13:48:16.282Z"
      },
      {
        "duration": 103,
        "start_time": "2022-02-14T13:48:16.299Z"
      },
      {
        "duration": 243,
        "start_time": "2022-02-14T13:48:16.406Z"
      },
      {
        "duration": 118,
        "start_time": "2022-02-14T13:48:16.651Z"
      },
      {
        "duration": 203,
        "start_time": "2022-02-14T13:48:16.861Z"
      },
      {
        "duration": 53,
        "start_time": "2022-02-14T13:48:17.066Z"
      },
      {
        "duration": 211,
        "start_time": "2022-02-14T13:48:17.122Z"
      },
      {
        "duration": 35,
        "start_time": "2022-02-14T13:48:17.335Z"
      },
      {
        "duration": 195,
        "start_time": "2022-02-14T13:48:17.372Z"
      },
      {
        "duration": 444,
        "start_time": "2022-02-14T13:48:17.660Z"
      },
      {
        "duration": 110,
        "start_time": "2022-02-14T13:48:18.106Z"
      },
      {
        "duration": 17,
        "start_time": "2022-02-14T13:48:18.221Z"
      },
      {
        "duration": 220,
        "start_time": "2022-02-14T13:48:18.241Z"
      },
      {
        "duration": 131,
        "start_time": "2022-02-14T13:48:18.464Z"
      },
      {
        "duration": 33,
        "start_time": "2022-02-14T13:48:18.598Z"
      },
      {
        "duration": 91,
        "start_time": "2022-02-14T13:48:18.634Z"
      },
      {
        "duration": 288,
        "start_time": "2022-02-14T13:48:18.728Z"
      },
      {
        "duration": 148,
        "start_time": "2022-02-14T13:48:19.019Z"
      },
      {
        "duration": 139,
        "start_time": "2022-02-14T13:48:19.170Z"
      },
      {
        "duration": 222,
        "start_time": "2022-02-14T13:48:19.311Z"
      },
      {
        "duration": 225,
        "start_time": "2022-02-14T13:48:19.535Z"
      },
      {
        "duration": 58,
        "start_time": "2022-02-14T13:49:02.806Z"
      },
      {
        "duration": 200,
        "start_time": "2022-02-14T13:49:18.731Z"
      },
      {
        "duration": 102,
        "start_time": "2022-02-14T13:49:31.069Z"
      },
      {
        "duration": 1400,
        "start_time": "2022-02-14T13:52:43.031Z"
      },
      {
        "duration": 45,
        "start_time": "2022-02-14T13:52:44.434Z"
      },
      {
        "duration": 16,
        "start_time": "2022-02-14T13:52:44.483Z"
      },
      {
        "duration": 7,
        "start_time": "2022-02-14T13:52:44.503Z"
      },
      {
        "duration": 51,
        "start_time": "2022-02-14T13:52:44.513Z"
      },
      {
        "duration": 12,
        "start_time": "2022-02-14T13:52:44.566Z"
      },
      {
        "duration": 17,
        "start_time": "2022-02-14T13:52:44.581Z"
      },
      {
        "duration": 10,
        "start_time": "2022-02-14T13:52:44.603Z"
      },
      {
        "duration": 43,
        "start_time": "2022-02-14T13:52:44.616Z"
      },
      {
        "duration": 20,
        "start_time": "2022-02-14T13:52:44.662Z"
      },
      {
        "duration": 11,
        "start_time": "2022-02-14T13:52:44.684Z"
      },
      {
        "duration": 14,
        "start_time": "2022-02-14T13:52:44.698Z"
      },
      {
        "duration": 95,
        "start_time": "2022-02-14T13:52:44.715Z"
      },
      {
        "duration": 220,
        "start_time": "2022-02-14T13:52:44.813Z"
      },
      {
        "duration": 130,
        "start_time": "2022-02-14T13:52:45.035Z"
      },
      {
        "duration": 193,
        "start_time": "2022-02-14T13:52:45.169Z"
      },
      {
        "duration": 141,
        "start_time": "2022-02-14T13:52:45.365Z"
      },
      {
        "duration": 208,
        "start_time": "2022-02-14T13:52:45.508Z"
      },
      {
        "duration": 27,
        "start_time": "2022-02-14T13:52:45.719Z"
      },
      {
        "duration": 200,
        "start_time": "2022-02-14T13:52:45.760Z"
      },
      {
        "duration": 572,
        "start_time": "2022-02-14T13:52:45.964Z"
      },
      {
        "duration": 111,
        "start_time": "2022-02-14T13:52:46.539Z"
      },
      {
        "duration": 18,
        "start_time": "2022-02-14T13:52:46.659Z"
      },
      {
        "duration": 87,
        "start_time": "2022-02-14T13:52:46.680Z"
      },
      {
        "duration": 170,
        "start_time": "2022-02-14T13:52:46.770Z"
      },
      {
        "duration": 28,
        "start_time": "2022-02-14T13:52:46.959Z"
      },
      {
        "duration": 79,
        "start_time": "2022-02-14T13:52:46.989Z"
      },
      {
        "duration": 209,
        "start_time": "2022-02-14T13:52:47.071Z"
      },
      {
        "duration": 87,
        "start_time": "2022-02-14T13:52:47.283Z"
      },
      {
        "duration": 227,
        "start_time": "2022-02-14T13:52:47.374Z"
      },
      {
        "duration": 296,
        "start_time": "2022-02-14T13:52:47.604Z"
      },
      {
        "duration": 88,
        "start_time": "2022-02-14T13:52:47.904Z"
      },
      {
        "duration": 8,
        "start_time": "2022-02-14T13:58:55.859Z"
      },
      {
        "duration": 560,
        "start_time": "2022-02-14T13:59:40.210Z"
      },
      {
        "duration": 12,
        "start_time": "2022-02-14T14:00:00.395Z"
      },
      {
        "duration": 1368,
        "start_time": "2022-02-20T08:49:49.710Z"
      },
      {
        "duration": 43,
        "start_time": "2022-02-20T08:49:51.631Z"
      },
      {
        "duration": 16,
        "start_time": "2022-02-20T08:49:54.084Z"
      },
      {
        "duration": 7,
        "start_time": "2022-02-20T08:49:56.182Z"
      },
      {
        "duration": 12,
        "start_time": "2022-02-20T08:49:58.909Z"
      },
      {
        "duration": 8,
        "start_time": "2022-02-20T08:50:02.206Z"
      },
      {
        "duration": 20,
        "start_time": "2022-02-20T08:50:03.597Z"
      },
      {
        "duration": 10,
        "start_time": "2022-02-20T08:50:05.540Z"
      },
      {
        "duration": 9,
        "start_time": "2022-02-20T08:50:50.094Z"
      },
      {
        "duration": 10,
        "start_time": "2022-02-20T08:51:02.707Z"
      },
      {
        "duration": 17,
        "start_time": "2022-02-20T08:51:04.773Z"
      },
      {
        "duration": 11,
        "start_time": "2022-02-20T08:51:06.565Z"
      },
      {
        "duration": 10,
        "start_time": "2022-02-20T08:51:09.112Z"
      },
      {
        "duration": 12,
        "start_time": "2022-02-20T08:51:18.706Z"
      },
      {
        "duration": 48,
        "start_time": "2022-02-20T08:51:26.262Z"
      },
      {
        "duration": 156,
        "start_time": "2022-02-20T08:51:28.715Z"
      },
      {
        "duration": 66,
        "start_time": "2022-02-20T08:51:31.689Z"
      },
      {
        "duration": 66,
        "start_time": "2022-02-20T08:51:36.086Z"
      },
      {
        "duration": 47,
        "start_time": "2022-02-20T08:51:38.848Z"
      },
      {
        "duration": 158,
        "start_time": "2022-02-20T08:51:41.623Z"
      },
      {
        "duration": 26,
        "start_time": "2022-02-20T08:51:44.434Z"
      },
      {
        "duration": 168,
        "start_time": "2022-02-20T08:51:45.887Z"
      },
      {
        "duration": 353,
        "start_time": "2022-02-20T08:51:48.301Z"
      },
      {
        "duration": 80,
        "start_time": "2022-02-20T08:51:54.089Z"
      },
      {
        "duration": 23,
        "start_time": "2022-02-20T08:51:57.803Z"
      },
      {
        "duration": 64,
        "start_time": "2022-02-20T08:51:59.986Z"
      },
      {
        "duration": 88,
        "start_time": "2022-02-20T08:52:02.931Z"
      },
      {
        "duration": 24,
        "start_time": "2022-02-20T08:52:04.996Z"
      },
      {
        "duration": 60,
        "start_time": "2022-02-20T08:52:09.057Z"
      },
      {
        "duration": 172,
        "start_time": "2022-02-20T08:52:14.746Z"
      },
      {
        "duration": 125,
        "start_time": "2022-02-20T08:52:19.726Z"
      },
      {
        "duration": 45,
        "start_time": "2022-02-20T08:52:23.827Z"
      },
      {
        "duration": 163,
        "start_time": "2022-02-20T08:52:27.519Z"
      },
      {
        "duration": 57,
        "start_time": "2022-02-20T08:52:30.993Z"
      },
      {
        "duration": 12,
        "start_time": "2022-02-20T08:52:33.104Z"
      },
      {
        "duration": 406,
        "start_time": "2022-02-20T08:54:33.960Z"
      },
      {
        "duration": 9,
        "start_time": "2022-02-20T08:55:22.931Z"
      },
      {
        "duration": 29088,
        "start_time": "2022-02-20T08:55:28.348Z"
      },
      {
        "duration": 1377,
        "start_time": "2022-02-20T08:56:12.315Z"
      },
      {
        "duration": 41,
        "start_time": "2022-02-20T08:56:13.695Z"
      },
      {
        "duration": 20,
        "start_time": "2022-02-20T08:56:13.740Z"
      },
      {
        "duration": 5,
        "start_time": "2022-02-20T08:56:13.764Z"
      },
      {
        "duration": 15,
        "start_time": "2022-02-20T08:56:13.771Z"
      },
      {
        "duration": 13,
        "start_time": "2022-02-20T08:56:13.789Z"
      },
      {
        "duration": 44,
        "start_time": "2022-02-20T08:56:13.805Z"
      },
      {
        "duration": 11,
        "start_time": "2022-02-20T08:56:13.851Z"
      },
      {
        "duration": 9,
        "start_time": "2022-02-20T08:56:13.866Z"
      },
      {
        "duration": 11,
        "start_time": "2022-02-20T08:56:13.878Z"
      },
      {
        "duration": 17,
        "start_time": "2022-02-20T08:56:13.892Z"
      },
      {
        "duration": 43,
        "start_time": "2022-02-20T08:56:13.912Z"
      },
      {
        "duration": 9,
        "start_time": "2022-02-20T08:56:13.958Z"
      },
      {
        "duration": 10,
        "start_time": "2022-02-20T08:56:13.969Z"
      },
      {
        "duration": 88,
        "start_time": "2022-02-20T08:56:13.982Z"
      },
      {
        "duration": 170,
        "start_time": "2022-02-20T08:56:14.072Z"
      },
      {
        "duration": 107,
        "start_time": "2022-02-20T08:56:14.249Z"
      },
      {
        "duration": 196,
        "start_time": "2022-02-20T08:56:14.360Z"
      },
      {
        "duration": 47,
        "start_time": "2022-02-20T08:56:14.649Z"
      },
      {
        "duration": 182,
        "start_time": "2022-02-20T08:56:14.698Z"
      },
      {
        "duration": 27,
        "start_time": "2022-02-20T08:56:14.882Z"
      },
      {
        "duration": 146,
        "start_time": "2022-02-20T08:56:14.911Z"
      },
      {
        "duration": 388,
        "start_time": "2022-02-20T08:56:15.151Z"
      },
      {
        "duration": 79,
        "start_time": "2022-02-20T08:56:15.549Z"
      },
      {
        "duration": 33,
        "start_time": "2022-02-20T08:56:15.631Z"
      },
      {
        "duration": 90,
        "start_time": "2022-02-20T08:56:15.666Z"
      },
      {
        "duration": 157,
        "start_time": "2022-02-20T08:56:15.760Z"
      },
      {
        "duration": 46,
        "start_time": "2022-02-20T08:56:15.920Z"
      },
      {
        "duration": 44,
        "start_time": "2022-02-20T08:56:15.968Z"
      },
      {
        "duration": 176,
        "start_time": "2022-02-20T08:56:16.014Z"
      },
      {
        "duration": 69,
        "start_time": "2022-02-20T08:56:16.193Z"
      },
      {
        "duration": 137,
        "start_time": "2022-02-20T08:56:16.351Z"
      },
      {
        "duration": 176,
        "start_time": "2022-02-20T08:56:16.491Z"
      },
      {
        "duration": 82,
        "start_time": "2022-02-20T08:56:16.669Z"
      },
      {
        "duration": 108,
        "start_time": "2022-02-20T08:56:16.754Z"
      },
      {
        "duration": 65987,
        "start_time": "2022-02-20T08:56:16.865Z"
      },
      {
        "duration": 1015,
        "start_time": "2022-02-20T08:57:27.239Z"
      },
      {
        "duration": 1238,
        "start_time": "2022-02-20T08:58:27.407Z"
      },
      {
        "duration": 43,
        "start_time": "2022-02-20T08:59:58.217Z"
      },
      {
        "duration": 80,
        "start_time": "2022-02-20T09:00:40.696Z"
      },
      {
        "duration": 37,
        "start_time": "2022-02-20T09:00:47.289Z"
      },
      {
        "duration": 41,
        "start_time": "2022-02-20T09:00:52.833Z"
      },
      {
        "duration": 43,
        "start_time": "2022-02-20T09:00:58.060Z"
      },
      {
        "duration": 42,
        "start_time": "2022-02-20T09:01:03.116Z"
      },
      {
        "duration": 115,
        "start_time": "2022-02-20T09:01:37.534Z"
      },
      {
        "duration": 205,
        "start_time": "2022-02-20T09:01:43.266Z"
      },
      {
        "duration": 404,
        "start_time": "2022-02-20T09:01:47.948Z"
      },
      {
        "duration": 490,
        "start_time": "2022-02-20T09:01:53.040Z"
      },
      {
        "duration": 970,
        "start_time": "2022-02-20T09:01:58.573Z"
      },
      {
        "duration": 730,
        "start_time": "2022-02-20T09:02:07.587Z"
      },
      {
        "duration": 66,
        "start_time": "2022-02-20T09:03:36.286Z"
      },
      {
        "duration": 58,
        "start_time": "2022-02-20T09:03:55.119Z"
      },
      {
        "duration": 32,
        "start_time": "2022-02-20T09:07:20.740Z"
      },
      {
        "duration": 1152,
        "start_time": "2022-02-20T09:07:28.018Z"
      },
      {
        "duration": 43,
        "start_time": "2022-02-20T09:07:36.005Z"
      },
      {
        "duration": 322,
        "start_time": "2022-02-20T09:11:14.140Z"
      },
      {
        "duration": 553,
        "start_time": "2022-02-20T09:11:32.401Z"
      },
      {
        "duration": 118,
        "start_time": "2022-02-20T09:11:38.102Z"
      },
      {
        "duration": 1243,
        "start_time": "2022-02-20T09:11:42.722Z"
      },
      {
        "duration": 151,
        "start_time": "2022-02-20T09:12:59.721Z"
      },
      {
        "duration": 531,
        "start_time": "2022-02-20T09:13:14.741Z"
      },
      {
        "duration": 11,
        "start_time": "2022-02-20T09:14:06.569Z"
      },
      {
        "duration": 14,
        "start_time": "2022-02-20T09:14:52.308Z"
      },
      {
        "duration": 40,
        "start_time": "2022-02-20T09:33:20.618Z"
      },
      {
        "duration": 1127,
        "start_time": "2022-02-20T09:34:26.581Z"
      },
      {
        "duration": 13,
        "start_time": "2022-02-20T09:34:29.565Z"
      },
      {
        "duration": 59,
        "start_time": "2022-02-20T09:34:37.237Z"
      },
      {
        "duration": 12,
        "start_time": "2022-02-20T09:35:28.869Z"
      },
      {
        "duration": 17,
        "start_time": "2022-02-20T09:35:40.657Z"
      },
      {
        "duration": 55,
        "start_time": "2022-02-20T09:35:44.449Z"
      },
      {
        "duration": 1407,
        "start_time": "2022-02-20T09:40:58.709Z"
      },
      {
        "duration": 46,
        "start_time": "2022-02-20T09:41:00.121Z"
      },
      {
        "duration": 16,
        "start_time": "2022-02-20T09:41:00.171Z"
      },
      {
        "duration": 8,
        "start_time": "2022-02-20T09:41:00.191Z"
      },
      {
        "duration": 18,
        "start_time": "2022-02-20T09:41:00.201Z"
      },
      {
        "duration": 37,
        "start_time": "2022-02-20T09:41:00.221Z"
      },
      {
        "duration": 29,
        "start_time": "2022-02-20T09:41:00.260Z"
      },
      {
        "duration": 17,
        "start_time": "2022-02-20T09:41:00.292Z"
      },
      {
        "duration": 36,
        "start_time": "2022-02-20T09:41:00.313Z"
      },
      {
        "duration": 24,
        "start_time": "2022-02-20T09:41:00.352Z"
      },
      {
        "duration": 32,
        "start_time": "2022-02-20T09:41:00.379Z"
      },
      {
        "duration": 10,
        "start_time": "2022-02-20T09:41:00.413Z"
      },
      {
        "duration": 28,
        "start_time": "2022-02-20T09:41:00.426Z"
      },
      {
        "duration": 10,
        "start_time": "2022-02-20T09:41:00.457Z"
      },
      {
        "duration": 57,
        "start_time": "2022-02-20T09:41:00.469Z"
      },
      {
        "duration": 181,
        "start_time": "2022-02-20T09:41:00.529Z"
      },
      {
        "duration": 140,
        "start_time": "2022-02-20T09:41:00.712Z"
      },
      {
        "duration": 197,
        "start_time": "2022-02-20T09:41:00.856Z"
      },
      {
        "duration": 133,
        "start_time": "2022-02-20T09:41:01.056Z"
      },
      {
        "duration": 174,
        "start_time": "2022-02-20T09:41:01.192Z"
      },
      {
        "duration": 29,
        "start_time": "2022-02-20T09:41:01.368Z"
      },
      {
        "duration": 158,
        "start_time": "2022-02-20T09:41:01.399Z"
      },
      {
        "duration": 635,
        "start_time": "2022-02-20T09:41:01.560Z"
      },
      {
        "duration": 118,
        "start_time": "2022-02-20T09:41:02.198Z"
      },
      {
        "duration": 35,
        "start_time": "2022-02-20T09:41:02.319Z"
      },
      {
        "duration": 98,
        "start_time": "2022-02-20T09:41:02.357Z"
      },
      {
        "duration": 161,
        "start_time": "2022-02-20T09:41:02.463Z"
      },
      {
        "duration": 40,
        "start_time": "2022-02-20T09:41:02.627Z"
      },
      {
        "duration": 45,
        "start_time": "2022-02-20T09:41:02.670Z"
      },
      {
        "duration": 201,
        "start_time": "2022-02-20T09:41:02.718Z"
      },
      {
        "duration": 128,
        "start_time": "2022-02-20T09:41:02.921Z"
      },
      {
        "duration": 139,
        "start_time": "2022-02-20T09:41:03.053Z"
      },
      {
        "duration": 187,
        "start_time": "2022-02-20T09:41:03.195Z"
      },
      {
        "duration": 165,
        "start_time": "2022-02-20T09:41:03.385Z"
      },
      {
        "duration": 103,
        "start_time": "2022-02-20T09:41:03.553Z"
      },
      {
        "duration": 1168,
        "start_time": "2022-02-20T09:41:03.659Z"
      },
      {
        "duration": 27,
        "start_time": "2022-02-20T09:41:04.830Z"
      },
      {
        "duration": 64,
        "start_time": "2022-02-20T09:41:04.860Z"
      },
      {
        "duration": 921,
        "start_time": "2022-02-20T09:41:32.944Z"
      },
      {
        "duration": 2167,
        "start_time": "2022-02-20T09:41:40.553Z"
      },
      {
        "duration": 3378,
        "start_time": "2022-02-20T09:41:51.531Z"
      },
      {
        "duration": 1426,
        "start_time": "2022-02-20T09:51:06.987Z"
      },
      {
        "duration": 48,
        "start_time": "2022-02-20T09:51:08.416Z"
      },
      {
        "duration": 21,
        "start_time": "2022-02-20T09:51:08.468Z"
      },
      {
        "duration": 6,
        "start_time": "2022-02-20T09:51:08.492Z"
      },
      {
        "duration": 48,
        "start_time": "2022-02-20T09:51:08.501Z"
      },
      {
        "duration": 13,
        "start_time": "2022-02-20T09:51:08.553Z"
      },
      {
        "duration": 22,
        "start_time": "2022-02-20T09:51:08.568Z"
      },
      {
        "duration": 14,
        "start_time": "2022-02-20T09:51:08.593Z"
      },
      {
        "duration": 10,
        "start_time": "2022-02-20T09:51:08.611Z"
      },
      {
        "duration": 10,
        "start_time": "2022-02-20T09:51:08.652Z"
      },
      {
        "duration": 34,
        "start_time": "2022-02-20T09:51:08.664Z"
      },
      {
        "duration": 14,
        "start_time": "2022-02-20T09:51:08.701Z"
      },
      {
        "duration": 37,
        "start_time": "2022-02-20T09:51:08.718Z"
      },
      {
        "duration": 11,
        "start_time": "2022-02-20T09:51:08.758Z"
      },
      {
        "duration": 79,
        "start_time": "2022-02-20T09:51:08.771Z"
      },
      {
        "duration": 180,
        "start_time": "2022-02-20T09:51:08.853Z"
      },
      {
        "duration": 212,
        "start_time": "2022-02-20T09:51:09.036Z"
      },
      {
        "duration": 100,
        "start_time": "2022-02-20T09:51:09.252Z"
      },
      {
        "duration": 134,
        "start_time": "2022-02-20T09:51:09.355Z"
      },
      {
        "duration": 225,
        "start_time": "2022-02-20T09:51:09.492Z"
      },
      {
        "duration": 40,
        "start_time": "2022-02-20T09:51:09.720Z"
      },
      {
        "duration": 186,
        "start_time": "2022-02-20T09:51:09.763Z"
      },
      {
        "duration": 440,
        "start_time": "2022-02-20T09:51:09.952Z"
      },
      {
        "duration": 101,
        "start_time": "2022-02-20T09:51:10.395Z"
      },
      {
        "duration": 19,
        "start_time": "2022-02-20T09:51:10.498Z"
      },
      {
        "duration": 129,
        "start_time": "2022-02-20T09:51:10.520Z"
      },
      {
        "duration": 199,
        "start_time": "2022-02-20T09:51:10.663Z"
      },
      {
        "duration": 31,
        "start_time": "2022-02-20T09:51:10.866Z"
      },
      {
        "duration": 70,
        "start_time": "2022-02-20T09:51:10.900Z"
      },
      {
        "duration": 189,
        "start_time": "2022-02-20T09:51:10.975Z"
      },
      {
        "duration": 183,
        "start_time": "2022-02-20T09:51:11.167Z"
      },
      {
        "duration": 48,
        "start_time": "2022-02-20T09:51:11.353Z"
      },
      {
        "duration": 274,
        "start_time": "2022-02-20T09:51:11.404Z"
      },
      {
        "duration": 85,
        "start_time": "2022-02-20T09:51:11.682Z"
      },
      {
        "duration": 110,
        "start_time": "2022-02-20T09:51:11.850Z"
      },
      {
        "duration": 3632,
        "start_time": "2022-02-20T09:51:11.964Z"
      },
      {
        "duration": 11,
        "start_time": "2022-02-20T09:51:15.599Z"
      },
      {
        "duration": 176,
        "start_time": "2022-02-20T09:51:15.613Z"
      },
      {
        "duration": 1433,
        "start_time": "2022-02-20T17:56:24.759Z"
      },
      {
        "duration": 56,
        "start_time": "2022-02-20T17:56:26.195Z"
      },
      {
        "duration": 15,
        "start_time": "2022-02-20T17:56:26.254Z"
      },
      {
        "duration": 5,
        "start_time": "2022-02-20T17:56:26.271Z"
      },
      {
        "duration": 13,
        "start_time": "2022-02-20T17:56:26.279Z"
      },
      {
        "duration": 9,
        "start_time": "2022-02-20T17:56:26.294Z"
      },
      {
        "duration": 55,
        "start_time": "2022-02-20T17:56:26.306Z"
      },
      {
        "duration": 11,
        "start_time": "2022-02-20T17:56:26.365Z"
      },
      {
        "duration": 19,
        "start_time": "2022-02-20T17:56:26.379Z"
      },
      {
        "duration": 16,
        "start_time": "2022-02-20T17:56:26.400Z"
      },
      {
        "duration": 41,
        "start_time": "2022-02-20T17:56:26.418Z"
      },
      {
        "duration": 10,
        "start_time": "2022-02-20T17:56:26.461Z"
      },
      {
        "duration": 10,
        "start_time": "2022-02-20T17:56:26.474Z"
      },
      {
        "duration": 9,
        "start_time": "2022-02-20T17:56:26.486Z"
      },
      {
        "duration": 84,
        "start_time": "2022-02-20T17:56:26.498Z"
      },
      {
        "duration": 171,
        "start_time": "2022-02-20T17:56:26.584Z"
      },
      {
        "duration": 191,
        "start_time": "2022-02-20T17:56:26.757Z"
      },
      {
        "duration": 106,
        "start_time": "2022-02-20T17:56:26.951Z"
      },
      {
        "duration": 132,
        "start_time": "2022-02-20T17:56:27.060Z"
      },
      {
        "duration": 195,
        "start_time": "2022-02-20T17:56:27.195Z"
      },
      {
        "duration": 27,
        "start_time": "2022-02-20T17:56:27.392Z"
      },
      {
        "duration": 236,
        "start_time": "2022-02-20T17:56:27.421Z"
      },
      {
        "duration": 439,
        "start_time": "2022-02-20T17:56:27.663Z"
      },
      {
        "duration": 92,
        "start_time": "2022-02-20T17:56:28.106Z"
      },
      {
        "duration": 20,
        "start_time": "2022-02-20T17:56:28.201Z"
      },
      {
        "duration": 124,
        "start_time": "2022-02-20T17:56:28.224Z"
      },
      {
        "duration": 159,
        "start_time": "2022-02-20T17:56:28.352Z"
      },
      {
        "duration": 45,
        "start_time": "2022-02-20T17:56:28.513Z"
      },
      {
        "duration": 42,
        "start_time": "2022-02-20T17:56:28.560Z"
      },
      {
        "duration": 183,
        "start_time": "2022-02-20T17:56:28.605Z"
      },
      {
        "duration": 157,
        "start_time": "2022-02-20T17:56:28.790Z"
      },
      {
        "duration": 133,
        "start_time": "2022-02-20T17:56:28.951Z"
      },
      {
        "duration": 180,
        "start_time": "2022-02-20T17:56:29.088Z"
      },
      {
        "duration": 87,
        "start_time": "2022-02-20T17:56:29.271Z"
      },
      {
        "duration": 462,
        "start_time": "2022-02-20T17:56:29.450Z"
      },
      {
        "duration": 12,
        "start_time": "2022-02-20T17:56:29.914Z"
      },
      {
        "duration": 53,
        "start_time": "2022-02-20T17:56:29.929Z"
      },
      {
        "duration": 961,
        "start_time": "2022-02-20T17:56:38.113Z"
      },
      {
        "duration": 389,
        "start_time": "2022-02-20T17:56:48.906Z"
      },
      {
        "duration": 655,
        "start_time": "2022-02-20T17:56:54.024Z"
      },
      {
        "duration": 3332,
        "start_time": "2022-02-20T17:56:59.711Z"
      },
      {
        "duration": 3993,
        "start_time": "2022-02-20T17:57:11.056Z"
      },
      {
        "duration": 4017,
        "start_time": "2022-02-20T17:57:26.477Z"
      },
      {
        "duration": 2009,
        "start_time": "2022-02-20T17:57:35.947Z"
      },
      {
        "duration": 3818,
        "start_time": "2022-02-20T17:57:47.831Z"
      },
      {
        "duration": 3946,
        "start_time": "2022-02-20T17:57:57.489Z"
      },
      {
        "duration": 4044,
        "start_time": "2022-02-20T17:58:11.949Z"
      },
      {
        "duration": 4109,
        "start_time": "2022-02-20T17:59:22.754Z"
      },
      {
        "duration": 10159,
        "start_time": "2022-02-20T18:00:00.126Z"
      },
      {
        "duration": 3729,
        "start_time": "2022-02-20T18:00:20.679Z"
      },
      {
        "duration": 4206,
        "start_time": "2022-02-20T18:00:29.719Z"
      },
      {
        "duration": 7255,
        "start_time": "2022-02-20T18:00:38.352Z"
      },
      {
        "duration": 7360,
        "start_time": "2022-02-20T18:03:12.509Z"
      },
      {
        "duration": 6052,
        "start_time": "2022-02-20T18:03:26.126Z"
      },
      {
        "duration": 4902,
        "start_time": "2022-02-20T18:03:41.537Z"
      },
      {
        "duration": 7204,
        "start_time": "2022-02-20T18:03:51.721Z"
      },
      {
        "duration": 7342,
        "start_time": "2022-02-20T18:04:04.921Z"
      },
      {
        "duration": 7507,
        "start_time": "2022-02-20T18:04:18.808Z"
      },
      {
        "duration": 7306,
        "start_time": "2022-02-20T18:04:31.012Z"
      },
      {
        "duration": 7010,
        "start_time": "2022-02-20T18:05:56.052Z"
      },
      {
        "duration": 5860,
        "start_time": "2022-02-20T18:06:09.720Z"
      },
      {
        "duration": 9882,
        "start_time": "2022-02-20T18:06:22.197Z"
      },
      {
        "duration": 8772,
        "start_time": "2022-02-20T18:06:39.105Z"
      },
      {
        "duration": 7137,
        "start_time": "2022-02-20T18:06:52.893Z"
      },
      {
        "duration": 8481,
        "start_time": "2022-02-20T18:07:12.606Z"
      },
      {
        "duration": 6856,
        "start_time": "2022-02-20T18:07:27.255Z"
      },
      {
        "duration": 10136,
        "start_time": "2022-02-20T18:07:39.276Z"
      },
      {
        "duration": 17036,
        "start_time": "2022-02-20T18:07:55.641Z"
      },
      {
        "duration": 780,
        "start_time": "2022-02-20T18:11:44.915Z"
      },
      {
        "duration": 941,
        "start_time": "2022-02-20T18:12:41.437Z"
      },
      {
        "duration": 7054,
        "start_time": "2022-02-20T18:13:02.220Z"
      },
      {
        "duration": 8478,
        "start_time": "2022-02-20T18:15:01.003Z"
      },
      {
        "duration": 7372,
        "start_time": "2022-02-20T18:15:29.506Z"
      },
      {
        "duration": 8086,
        "start_time": "2022-02-20T18:15:49.168Z"
      },
      {
        "duration": 7155,
        "start_time": "2022-02-20T18:16:04.556Z"
      },
      {
        "duration": 7252,
        "start_time": "2022-02-20T18:16:18.374Z"
      },
      {
        "duration": 13,
        "start_time": "2022-02-20T18:16:35.834Z"
      },
      {
        "duration": 10651,
        "start_time": "2022-02-20T18:19:22.580Z"
      },
      {
        "duration": 7504,
        "start_time": "2022-02-20T18:20:20.162Z"
      },
      {
        "duration": 8114,
        "start_time": "2022-02-20T18:20:50.626Z"
      },
      {
        "duration": 7390,
        "start_time": "2022-02-20T18:21:05.803Z"
      },
      {
        "duration": 7254,
        "start_time": "2022-02-20T18:21:20.383Z"
      },
      {
        "duration": 7613,
        "start_time": "2022-02-20T18:21:34.501Z"
      },
      {
        "duration": 6835,
        "start_time": "2022-02-20T18:21:47.284Z"
      },
      {
        "duration": 8184,
        "start_time": "2022-02-20T18:22:15.607Z"
      },
      {
        "duration": 7320,
        "start_time": "2022-02-20T18:24:13.701Z"
      },
      {
        "duration": 18,
        "start_time": "2022-02-20T18:24:28.692Z"
      },
      {
        "duration": 258,
        "start_time": "2022-02-20T18:26:05.251Z"
      },
      {
        "duration": 7,
        "start_time": "2022-02-20T18:26:28.212Z"
      },
      {
        "duration": 16,
        "start_time": "2022-02-20T18:26:35.177Z"
      },
      {
        "duration": 17,
        "start_time": "2022-02-20T18:28:19.790Z"
      },
      {
        "duration": 6,
        "start_time": "2022-02-20T18:30:05.243Z"
      },
      {
        "duration": 8782,
        "start_time": "2022-02-20T18:32:43.872Z"
      },
      {
        "duration": 124,
        "start_time": "2022-02-20T18:33:08.853Z"
      },
      {
        "duration": 7747,
        "start_time": "2022-02-20T18:33:13.946Z"
      },
      {
        "duration": 7857,
        "start_time": "2022-02-20T18:33:53.962Z"
      },
      {
        "duration": 17,
        "start_time": "2022-02-20T18:44:06.316Z"
      },
      {
        "duration": 7401,
        "start_time": "2022-02-20T18:59:43.806Z"
      },
      {
        "duration": 7390,
        "start_time": "2022-02-20T19:00:06.178Z"
      },
      {
        "duration": 7,
        "start_time": "2022-02-20T19:00:35.569Z"
      },
      {
        "duration": 7077,
        "start_time": "2022-02-20T19:00:49.217Z"
      },
      {
        "duration": 7494,
        "start_time": "2022-02-20T19:01:57.185Z"
      },
      {
        "duration": 7292,
        "start_time": "2022-02-20T19:02:15.448Z"
      },
      {
        "duration": 1474,
        "start_time": "2022-02-20T19:06:16.226Z"
      },
      {
        "duration": 45,
        "start_time": "2022-02-20T19:06:17.703Z"
      },
      {
        "duration": 18,
        "start_time": "2022-02-20T19:06:17.752Z"
      },
      {
        "duration": 6,
        "start_time": "2022-02-20T19:06:17.773Z"
      },
      {
        "duration": 12,
        "start_time": "2022-02-20T19:06:17.782Z"
      },
      {
        "duration": 53,
        "start_time": "2022-02-20T19:06:17.796Z"
      },
      {
        "duration": 18,
        "start_time": "2022-02-20T19:06:17.851Z"
      },
      {
        "duration": 10,
        "start_time": "2022-02-20T19:06:17.873Z"
      },
      {
        "duration": 10,
        "start_time": "2022-02-20T19:06:17.888Z"
      },
      {
        "duration": 9,
        "start_time": "2022-02-20T19:06:17.901Z"
      },
      {
        "duration": 17,
        "start_time": "2022-02-20T19:06:17.949Z"
      },
      {
        "duration": 9,
        "start_time": "2022-02-20T19:06:17.969Z"
      },
      {
        "duration": 10,
        "start_time": "2022-02-20T19:06:17.981Z"
      },
      {
        "duration": 9,
        "start_time": "2022-02-20T19:06:17.994Z"
      },
      {
        "duration": 85,
        "start_time": "2022-02-20T19:06:18.006Z"
      },
      {
        "duration": 180,
        "start_time": "2022-02-20T19:06:18.094Z"
      },
      {
        "duration": 83,
        "start_time": "2022-02-20T19:06:18.276Z"
      },
      {
        "duration": 289,
        "start_time": "2022-02-20T19:06:18.363Z"
      },
      {
        "duration": 136,
        "start_time": "2022-02-20T19:06:18.657Z"
      },
      {
        "duration": 173,
        "start_time": "2022-02-20T19:06:18.796Z"
      },
      {
        "duration": 37,
        "start_time": "2022-02-20T19:06:18.972Z"
      },
      {
        "duration": 169,
        "start_time": "2022-02-20T19:06:19.012Z"
      },
      {
        "duration": 421,
        "start_time": "2022-02-20T19:06:19.255Z"
      },
      {
        "duration": 91,
        "start_time": "2022-02-20T19:06:19.679Z"
      },
      {
        "duration": 18,
        "start_time": "2022-02-20T19:06:19.772Z"
      },
      {
        "duration": 64,
        "start_time": "2022-02-20T19:06:19.792Z"
      },
      {
        "duration": 157,
        "start_time": "2022-02-20T19:06:19.858Z"
      },
      {
        "duration": 45,
        "start_time": "2022-02-20T19:06:20.017Z"
      },
      {
        "duration": 44,
        "start_time": "2022-02-20T19:06:20.065Z"
      },
      {
        "duration": 185,
        "start_time": "2022-02-20T19:06:20.112Z"
      },
      {
        "duration": 75,
        "start_time": "2022-02-20T19:06:20.300Z"
      },
      {
        "duration": 138,
        "start_time": "2022-02-20T19:06:20.451Z"
      },
      {
        "duration": 182,
        "start_time": "2022-02-20T19:06:20.592Z"
      },
      {
        "duration": 75,
        "start_time": "2022-02-20T19:06:20.777Z"
      },
      {
        "duration": 7192,
        "start_time": "2022-02-20T19:06:20.856Z"
      },
      {
        "duration": 15,
        "start_time": "2022-02-20T19:06:28.051Z"
      },
      {
        "duration": 339,
        "start_time": "2022-02-20T19:06:28.069Z"
      },
      {
        "duration": 16,
        "start_time": "2022-02-20T19:06:28.411Z"
      },
      {
        "duration": 29,
        "start_time": "2022-02-20T19:06:28.429Z"
      },
      {
        "duration": 7724,
        "start_time": "2022-02-20T19:06:28.461Z"
      },
      {
        "duration": 7125,
        "start_time": "2022-02-20T19:06:36.188Z"
      },
      {
        "duration": 6968,
        "start_time": "2022-02-20T19:06:43.315Z"
      },
      {
        "duration": 162,
        "start_time": "2022-02-20T19:10:30.215Z"
      },
      {
        "duration": 1488,
        "start_time": "2022-02-20T19:10:35.223Z"
      },
      {
        "duration": 14947,
        "start_time": "2022-02-20T19:10:40.663Z"
      },
      {
        "duration": 7323,
        "start_time": "2022-02-20T19:11:11.850Z"
      },
      {
        "duration": 9460,
        "start_time": "2022-02-20T19:11:43.227Z"
      },
      {
        "duration": 7032,
        "start_time": "2022-02-20T19:15:08.493Z"
      },
      {
        "duration": 7214,
        "start_time": "2022-02-20T19:16:08.501Z"
      },
      {
        "duration": 7147,
        "start_time": "2022-02-20T19:16:26.768Z"
      },
      {
        "duration": 1474,
        "start_time": "2022-02-20T19:17:53.147Z"
      },
      {
        "duration": 45,
        "start_time": "2022-02-20T19:17:54.624Z"
      },
      {
        "duration": 18,
        "start_time": "2022-02-20T19:17:54.672Z"
      },
      {
        "duration": 5,
        "start_time": "2022-02-20T19:17:54.693Z"
      },
      {
        "duration": 13,
        "start_time": "2022-02-20T19:17:54.701Z"
      },
      {
        "duration": 38,
        "start_time": "2022-02-20T19:17:54.716Z"
      },
      {
        "duration": 19,
        "start_time": "2022-02-20T19:17:54.757Z"
      },
      {
        "duration": 11,
        "start_time": "2022-02-20T19:17:54.780Z"
      },
      {
        "duration": 9,
        "start_time": "2022-02-20T19:17:54.794Z"
      },
      {
        "duration": 43,
        "start_time": "2022-02-20T19:17:54.806Z"
      },
      {
        "duration": 20,
        "start_time": "2022-02-20T19:17:54.851Z"
      },
      {
        "duration": 9,
        "start_time": "2022-02-20T19:17:54.873Z"
      },
      {
        "duration": 15,
        "start_time": "2022-02-20T19:17:54.884Z"
      },
      {
        "duration": 9,
        "start_time": "2022-02-20T19:17:54.902Z"
      },
      {
        "duration": 46,
        "start_time": "2022-02-20T19:17:54.949Z"
      },
      {
        "duration": 180,
        "start_time": "2022-02-20T19:17:54.998Z"
      },
      {
        "duration": 78,
        "start_time": "2022-02-20T19:17:55.181Z"
      },
      {
        "duration": 289,
        "start_time": "2022-02-20T19:17:55.262Z"
      },
      {
        "duration": 135,
        "start_time": "2022-02-20T19:17:55.554Z"
      },
      {
        "duration": 182,
        "start_time": "2022-02-20T19:17:55.692Z"
      },
      {
        "duration": 27,
        "start_time": "2022-02-20T19:17:55.876Z"
      },
      {
        "duration": 243,
        "start_time": "2022-02-20T19:17:55.905Z"
      },
      {
        "duration": 427,
        "start_time": "2022-02-20T19:17:56.158Z"
      },
      {
        "duration": 95,
        "start_time": "2022-02-20T19:17:56.589Z"
      },
      {
        "duration": 21,
        "start_time": "2022-02-20T19:17:56.687Z"
      },
      {
        "duration": 51,
        "start_time": "2022-02-20T19:17:56.710Z"
      },
      {
        "duration": 163,
        "start_time": "2022-02-20T19:17:56.851Z"
      },
      {
        "duration": 38,
        "start_time": "2022-02-20T19:17:57.016Z"
      },
      {
        "duration": 44,
        "start_time": "2022-02-20T19:17:57.056Z"
      },
      {
        "duration": 191,
        "start_time": "2022-02-20T19:17:57.102Z"
      },
      {
        "duration": 78,
        "start_time": "2022-02-20T19:17:57.296Z"
      },
      {
        "duration": 135,
        "start_time": "2022-02-20T19:17:57.450Z"
      },
      {
        "duration": 183,
        "start_time": "2022-02-20T19:17:57.588Z"
      },
      {
        "duration": 175,
        "start_time": "2022-02-20T19:17:57.774Z"
      },
      {
        "duration": 7317,
        "start_time": "2022-02-20T19:17:57.952Z"
      },
      {
        "duration": 7089,
        "start_time": "2022-02-20T19:18:05.271Z"
      },
      {
        "duration": 13,
        "start_time": "2022-02-20T19:18:12.362Z"
      },
      {
        "duration": 342,
        "start_time": "2022-02-20T19:18:12.378Z"
      },
      {
        "duration": 16,
        "start_time": "2022-02-20T19:18:12.722Z"
      },
      {
        "duration": 15,
        "start_time": "2022-02-20T19:18:12.749Z"
      },
      {
        "duration": 7567,
        "start_time": "2022-02-20T19:18:12.766Z"
      },
      {
        "duration": 7359,
        "start_time": "2022-02-20T19:18:20.335Z"
      },
      {
        "duration": 6915,
        "start_time": "2022-02-20T19:18:27.697Z"
      },
      {
        "duration": 1203,
        "start_time": "2022-02-21T08:14:20.965Z"
      },
      {
        "duration": 28,
        "start_time": "2022-02-21T08:14:22.171Z"
      },
      {
        "duration": 10,
        "start_time": "2022-02-21T08:14:22.201Z"
      },
      {
        "duration": 3,
        "start_time": "2022-02-21T08:14:22.213Z"
      },
      {
        "duration": 17,
        "start_time": "2022-02-21T08:14:22.218Z"
      },
      {
        "duration": 9,
        "start_time": "2022-02-21T08:14:22.237Z"
      },
      {
        "duration": 20,
        "start_time": "2022-02-21T08:14:22.248Z"
      },
      {
        "duration": 10,
        "start_time": "2022-02-21T08:14:22.270Z"
      },
      {
        "duration": 7,
        "start_time": "2022-02-21T08:14:22.283Z"
      },
      {
        "duration": 6,
        "start_time": "2022-02-21T08:14:22.292Z"
      },
      {
        "duration": 16,
        "start_time": "2022-02-21T08:14:22.300Z"
      },
      {
        "duration": 17,
        "start_time": "2022-02-21T08:14:22.318Z"
      },
      {
        "duration": 7,
        "start_time": "2022-02-21T08:14:22.337Z"
      },
      {
        "duration": 6,
        "start_time": "2022-02-21T08:14:22.346Z"
      },
      {
        "duration": 4746,
        "start_time": "2022-02-21T08:14:32.261Z"
      },
      {
        "duration": 18,
        "start_time": "2022-02-21T08:14:41.761Z"
      },
      {
        "duration": 27,
        "start_time": "2022-02-21T08:14:45.913Z"
      },
      {
        "duration": 16,
        "start_time": "2022-02-21T08:14:51.726Z"
      },
      {
        "duration": 15,
        "start_time": "2022-02-21T08:14:58.486Z"
      },
      {
        "duration": 1213,
        "start_time": "2022-02-21T08:44:12.743Z"
      },
      {
        "duration": 39,
        "start_time": "2022-02-21T08:44:17.334Z"
      },
      {
        "duration": 12,
        "start_time": "2022-02-21T08:44:26.468Z"
      },
      {
        "duration": 5,
        "start_time": "2022-02-21T08:44:27.752Z"
      },
      {
        "duration": 11,
        "start_time": "2022-02-21T08:44:31.816Z"
      },
      {
        "duration": 7,
        "start_time": "2022-02-21T08:44:34.336Z"
      },
      {
        "duration": 13,
        "start_time": "2022-02-21T08:44:36.707Z"
      },
      {
        "duration": 9,
        "start_time": "2022-02-21T08:44:39.153Z"
      },
      {
        "duration": 9,
        "start_time": "2022-02-21T08:44:43.113Z"
      },
      {
        "duration": 8,
        "start_time": "2022-02-21T08:44:44.629Z"
      },
      {
        "duration": 18,
        "start_time": "2022-02-21T08:44:47.141Z"
      },
      {
        "duration": 8,
        "start_time": "2022-02-21T08:44:50.366Z"
      },
      {
        "duration": 9,
        "start_time": "2022-02-21T08:44:53.386Z"
      },
      {
        "duration": 8,
        "start_time": "2022-02-21T08:44:55.806Z"
      },
      {
        "duration": 35,
        "start_time": "2022-02-21T08:44:59.859Z"
      },
      {
        "duration": 133,
        "start_time": "2022-02-21T08:45:00.979Z"
      },
      {
        "duration": 94,
        "start_time": "2022-02-21T08:45:10.414Z"
      },
      {
        "duration": 33,
        "start_time": "2022-02-21T08:45:14.607Z"
      },
      {
        "duration": 42,
        "start_time": "2022-02-21T08:45:18.664Z"
      },
      {
        "duration": 127,
        "start_time": "2022-02-21T08:45:20.485Z"
      },
      {
        "duration": 22,
        "start_time": "2022-02-21T08:45:24.304Z"
      },
      {
        "duration": 123,
        "start_time": "2022-02-21T08:45:26.485Z"
      },
      {
        "duration": 323,
        "start_time": "2022-02-21T08:45:28.432Z"
      },
      {
        "duration": 59,
        "start_time": "2022-02-21T08:45:31.614Z"
      },
      {
        "duration": 13,
        "start_time": "2022-02-21T08:45:34.536Z"
      },
      {
        "duration": 21,
        "start_time": "2022-02-21T08:45:36.368Z"
      },
      {
        "duration": 80,
        "start_time": "2022-02-21T08:45:38.477Z"
      },
      {
        "duration": 20,
        "start_time": "2022-02-21T08:45:40.829Z"
      },
      {
        "duration": 36,
        "start_time": "2022-02-21T08:45:45.937Z"
      },
      {
        "duration": 125,
        "start_time": "2022-02-21T08:45:48.066Z"
      },
      {
        "duration": 93,
        "start_time": "2022-02-21T08:45:49.719Z"
      },
      {
        "duration": 38,
        "start_time": "2022-02-21T08:45:52.016Z"
      },
      {
        "duration": 134,
        "start_time": "2022-02-21T08:45:53.284Z"
      },
      {
        "duration": 104,
        "start_time": "2022-02-21T08:45:56.803Z"
      },
      {
        "duration": 5685,
        "start_time": "2022-02-21T08:46:04.937Z"
      },
      {
        "duration": 5418,
        "start_time": "2022-02-21T08:46:15.560Z"
      },
      {
        "duration": 5595,
        "start_time": "2022-02-21T08:46:33.944Z"
      },
      {
        "duration": 10,
        "start_time": "2022-02-21T08:46:43.851Z"
      },
      {
        "duration": 272,
        "start_time": "2022-02-21T08:46:48.934Z"
      },
      {
        "duration": 11,
        "start_time": "2022-02-21T08:47:07.775Z"
      },
      {
        "duration": 13,
        "start_time": "2022-02-21T08:47:09.400Z"
      },
      {
        "duration": 6225,
        "start_time": "2022-02-21T08:47:13.282Z"
      },
      {
        "duration": 5660,
        "start_time": "2022-02-21T08:47:26.423Z"
      },
      {
        "duration": 1421,
        "start_time": "2022-02-21T11:06:35.730Z"
      },
      {
        "duration": 34,
        "start_time": "2022-02-21T11:06:40.678Z"
      },
      {
        "duration": 13,
        "start_time": "2022-02-21T11:06:42.924Z"
      },
      {
        "duration": 5,
        "start_time": "2022-02-21T11:06:43.708Z"
      },
      {
        "duration": 10,
        "start_time": "2022-02-21T11:06:46.380Z"
      },
      {
        "duration": 7,
        "start_time": "2022-02-21T11:06:49.244Z"
      },
      {
        "duration": 13,
        "start_time": "2022-02-21T11:06:52.559Z"
      },
      {
        "duration": 12,
        "start_time": "2022-02-21T11:06:56.275Z"
      },
      {
        "duration": 9,
        "start_time": "2022-02-21T11:07:00.492Z"
      },
      {
        "duration": 7,
        "start_time": "2022-02-21T11:07:02.424Z"
      },
      {
        "duration": 19,
        "start_time": "2022-02-21T11:07:04.695Z"
      },
      {
        "duration": 8,
        "start_time": "2022-02-21T11:07:08.295Z"
      },
      {
        "duration": 8,
        "start_time": "2022-02-21T11:07:10.678Z"
      },
      {
        "duration": 9,
        "start_time": "2022-02-21T11:07:11.712Z"
      },
      {
        "duration": 39,
        "start_time": "2022-02-21T11:07:50.858Z"
      },
      {
        "duration": 140,
        "start_time": "2022-02-21T11:08:00.452Z"
      },
      {
        "duration": 92,
        "start_time": "2022-02-21T11:08:08.021Z"
      },
      {
        "duration": 36,
        "start_time": "2022-02-21T11:08:20.017Z"
      },
      {
        "duration": 79,
        "start_time": "2022-02-21T11:08:33.736Z"
      },
      {
        "duration": 42,
        "start_time": "2022-02-21T11:08:41.480Z"
      },
      {
        "duration": 183,
        "start_time": "2022-02-21T11:08:46.092Z"
      },
      {
        "duration": 21,
        "start_time": "2022-02-21T11:08:50.517Z"
      },
      {
        "duration": 189,
        "start_time": "2022-02-21T11:08:55.529Z"
      },
      {
        "duration": 250,
        "start_time": "2022-02-21T11:08:59.702Z"
      },
      {
        "duration": 87,
        "start_time": "2022-02-21T11:09:04.209Z"
      },
      {
        "duration": 419,
        "start_time": "2022-02-21T11:09:11.695Z"
      },
      {
        "duration": 14,
        "start_time": "2022-02-21T11:09:16.607Z"
      },
      {
        "duration": 71,
        "start_time": "2022-02-21T11:09:18.538Z"
      },
      {
        "duration": 61,
        "start_time": "2022-02-21T11:09:22.318Z"
      },
      {
        "duration": 22,
        "start_time": "2022-02-21T11:09:26.012Z"
      },
      {
        "duration": 37,
        "start_time": "2022-02-21T11:09:30.255Z"
      },
      {
        "duration": 128,
        "start_time": "2022-02-21T11:09:31.509Z"
      },
      {
        "duration": 66,
        "start_time": "2022-02-21T11:09:32.843Z"
      },
      {
        "duration": 52,
        "start_time": "2022-02-21T11:09:36.256Z"
      },
      {
        "duration": 131,
        "start_time": "2022-02-21T11:09:37.769Z"
      },
      {
        "duration": 115,
        "start_time": "2022-02-21T11:09:40.409Z"
      },
      {
        "duration": 8249,
        "start_time": "2022-02-21T11:09:45.668Z"
      },
      {
        "duration": 5367,
        "start_time": "2022-02-21T11:11:04.065Z"
      },
      {
        "duration": 233,
        "start_time": "2022-02-21T11:13:24.150Z"
      },
      {
        "duration": 2423,
        "start_time": "2022-02-21T11:13:30.623Z"
      },
      {
        "duration": 19,
        "start_time": "2022-02-21T12:25:07.506Z"
      },
      {
        "duration": 2318,
        "start_time": "2022-02-21T12:25:37.280Z"
      },
      {
        "duration": 18,
        "start_time": "2022-02-21T12:26:12.307Z"
      },
      {
        "duration": 61,
        "start_time": "2022-02-21T12:27:18.411Z"
      },
      {
        "duration": 5651,
        "start_time": "2022-02-21T12:27:27.852Z"
      },
      {
        "duration": 13,
        "start_time": "2022-02-21T12:27:36.918Z"
      },
      {
        "duration": 4946,
        "start_time": "2022-02-21T12:27:56.957Z"
      },
      {
        "duration": 4705,
        "start_time": "2022-02-21T12:28:18.220Z"
      },
      {
        "duration": 5178,
        "start_time": "2022-02-21T12:28:30.009Z"
      },
      {
        "duration": 11517,
        "start_time": "2022-02-21T12:28:44.606Z"
      },
      {
        "duration": 2452,
        "start_time": "2022-02-21T12:29:24.280Z"
      },
      {
        "duration": 1081,
        "start_time": "2022-02-23T13:38:29.868Z"
      },
      {
        "duration": 31,
        "start_time": "2022-02-23T13:38:34.160Z"
      },
      {
        "duration": 13,
        "start_time": "2022-02-23T13:38:36.756Z"
      },
      {
        "duration": 4,
        "start_time": "2022-02-23T13:38:37.676Z"
      },
      {
        "duration": 8,
        "start_time": "2022-02-23T13:38:40.401Z"
      },
      {
        "duration": 7,
        "start_time": "2022-02-23T13:38:43.064Z"
      },
      {
        "duration": 13,
        "start_time": "2022-02-23T13:38:45.413Z"
      },
      {
        "duration": 7,
        "start_time": "2022-02-23T13:38:50.926Z"
      },
      {
        "duration": 7,
        "start_time": "2022-02-23T13:38:52.119Z"
      },
      {
        "duration": 15,
        "start_time": "2022-02-23T13:38:55.550Z"
      },
      {
        "duration": 7,
        "start_time": "2022-02-23T13:39:01.046Z"
      },
      {
        "duration": 7,
        "start_time": "2022-02-23T13:39:02.684Z"
      },
      {
        "duration": 7,
        "start_time": "2022-02-23T13:39:03.375Z"
      },
      {
        "duration": 40,
        "start_time": "2022-02-23T13:39:06.274Z"
      },
      {
        "duration": 123,
        "start_time": "2022-02-23T13:39:07.296Z"
      },
      {
        "duration": 108,
        "start_time": "2022-02-23T13:39:09.711Z"
      },
      {
        "duration": 39,
        "start_time": "2022-02-23T13:39:17.785Z"
      },
      {
        "duration": 37,
        "start_time": "2022-02-23T13:39:19.184Z"
      },
      {
        "duration": 125,
        "start_time": "2022-02-23T13:39:21.879Z"
      },
      {
        "duration": 19,
        "start_time": "2022-02-23T13:39:24.650Z"
      },
      {
        "duration": 94,
        "start_time": "2022-02-23T13:39:27.230Z"
      },
      {
        "duration": 401,
        "start_time": "2022-02-23T13:39:27.327Z"
      },
      {
        "duration": 56,
        "start_time": "2022-02-23T13:39:31.993Z"
      },
      {
        "duration": 14,
        "start_time": "2022-02-23T13:39:36.342Z"
      },
      {
        "duration": 77,
        "start_time": "2022-02-23T13:39:37.443Z"
      },
      {
        "duration": 58,
        "start_time": "2022-02-23T13:39:39.683Z"
      },
      {
        "duration": 19,
        "start_time": "2022-02-23T13:39:40.611Z"
      },
      {
        "duration": 43,
        "start_time": "2022-02-23T13:39:43.269Z"
      },
      {
        "duration": 118,
        "start_time": "2022-02-23T13:39:43.315Z"
      },
      {
        "duration": 97,
        "start_time": "2022-02-23T13:39:45.824Z"
      },
      {
        "duration": 35,
        "start_time": "2022-02-23T13:39:47.441Z"
      },
      {
        "duration": 109,
        "start_time": "2022-02-23T13:39:49.544Z"
      },
      {
        "duration": 71,
        "start_time": "2022-02-23T13:39:49.654Z"
      },
      {
        "duration": 4901,
        "start_time": "2022-02-23T13:39:55.744Z"
      },
      {
        "duration": 4814,
        "start_time": "2022-02-23T13:40:00.647Z"
      },
      {
        "duration": 20,
        "start_time": "2022-02-23T13:40:08.786Z"
      },
      {
        "duration": 10051,
        "start_time": "2022-02-23T13:40:08.835Z"
      },
      {
        "duration": 17,
        "start_time": "2022-02-23T13:40:29.135Z"
      },
      {
        "duration": 2170,
        "start_time": "2022-02-23T13:40:31.781Z"
      },
      {
        "duration": 5064,
        "start_time": "2022-02-23T13:40:36.500Z"
      },
      {
        "duration": 8,
        "start_time": "2022-02-23T13:40:44.490Z"
      },
      {
        "duration": 255,
        "start_time": "2022-02-23T13:40:44.540Z"
      },
      {
        "duration": 8,
        "start_time": "2022-02-23T13:40:56.270Z"
      },
      {
        "duration": 11,
        "start_time": "2022-02-23T13:40:56.316Z"
      },
      {
        "duration": 5395,
        "start_time": "2022-02-23T13:41:00.028Z"
      },
      {
        "duration": 5316,
        "start_time": "2022-02-23T13:41:10.177Z"
      },
      {
        "duration": 9902,
        "start_time": "2022-02-23T13:41:49.587Z"
      },
      {
        "duration": 11023,
        "start_time": "2022-02-23T13:42:07.574Z"
      },
      {
        "duration": 10831,
        "start_time": "2022-02-23T13:42:24.668Z"
      },
      {
        "duration": 10501,
        "start_time": "2022-02-23T13:42:41.729Z"
      },
      {
        "duration": 10237,
        "start_time": "2022-02-23T13:42:58.617Z"
      },
      {
        "duration": 10168,
        "start_time": "2022-02-23T13:43:13.651Z"
      },
      {
        "duration": 9385,
        "start_time": "2022-02-23T13:43:29.207Z"
      },
      {
        "duration": 8482,
        "start_time": "2022-02-23T13:43:47.131Z"
      },
      {
        "duration": 8485,
        "start_time": "2022-02-23T13:44:07.092Z"
      },
      {
        "duration": 8527,
        "start_time": "2022-02-23T13:44:23.963Z"
      },
      {
        "duration": 8496,
        "start_time": "2022-02-23T13:44:43.657Z"
      },
      {
        "duration": 8854,
        "start_time": "2022-02-23T13:45:07.625Z"
      },
      {
        "duration": 8002,
        "start_time": "2022-02-23T13:45:25.865Z"
      },
      {
        "duration": 9073,
        "start_time": "2022-02-23T13:45:39.265Z"
      },
      {
        "duration": 7972,
        "start_time": "2022-02-23T13:45:53.712Z"
      },
      {
        "duration": 8763,
        "start_time": "2022-02-23T13:46:10.288Z"
      },
      {
        "duration": 9117,
        "start_time": "2022-02-23T13:46:26.887Z"
      },
      {
        "duration": 8878,
        "start_time": "2022-02-23T13:46:41.887Z"
      },
      {
        "duration": 8822,
        "start_time": "2022-02-23T13:46:57.272Z"
      },
      {
        "duration": 9657,
        "start_time": "2022-02-23T13:47:14.065Z"
      },
      {
        "duration": 9834,
        "start_time": "2022-02-23T13:47:33.933Z"
      },
      {
        "duration": 10022,
        "start_time": "2022-02-23T13:47:57.240Z"
      },
      {
        "duration": 9945,
        "start_time": "2022-02-23T13:48:12.319Z"
      },
      {
        "duration": 9780,
        "start_time": "2022-02-23T13:48:27.358Z"
      },
      {
        "duration": 9613,
        "start_time": "2022-02-23T13:48:45.428Z"
      },
      {
        "duration": 9900,
        "start_time": "2022-02-23T13:49:00.780Z"
      },
      {
        "duration": 10132,
        "start_time": "2022-02-23T13:49:19.099Z"
      },
      {
        "duration": 9760,
        "start_time": "2022-02-23T13:49:33.793Z"
      },
      {
        "duration": 9568,
        "start_time": "2022-02-23T13:49:48.009Z"
      },
      {
        "duration": 9915,
        "start_time": "2022-02-23T13:50:08.781Z"
      },
      {
        "duration": 9545,
        "start_time": "2022-02-23T13:50:23.770Z"
      },
      {
        "duration": 8964,
        "start_time": "2022-02-23T13:50:38.714Z"
      },
      {
        "duration": 8815,
        "start_time": "2022-02-23T13:50:53.621Z"
      },
      {
        "duration": 9099,
        "start_time": "2022-02-23T13:51:07.128Z"
      },
      {
        "duration": 9391,
        "start_time": "2022-02-23T13:51:22.000Z"
      },
      {
        "duration": 9296,
        "start_time": "2022-02-23T13:51:40.445Z"
      },
      {
        "duration": 14,
        "start_time": "2022-02-23T13:51:49.744Z"
      },
      {
        "duration": 9539,
        "start_time": "2022-02-23T13:51:58.685Z"
      },
      {
        "duration": 9589,
        "start_time": "2022-02-23T13:52:15.079Z"
      },
      {
        "duration": 9488,
        "start_time": "2022-02-23T13:52:29.684Z"
      },
      {
        "duration": 9293,
        "start_time": "2022-02-23T13:52:55.355Z"
      },
      {
        "duration": 9348,
        "start_time": "2022-02-23T13:53:11.071Z"
      },
      {
        "duration": 9071,
        "start_time": "2022-02-23T13:53:26.632Z"
      },
      {
        "duration": 9066,
        "start_time": "2022-02-23T13:53:42.129Z"
      },
      {
        "duration": 9159,
        "start_time": "2022-02-23T13:54:01.363Z"
      },
      {
        "duration": 9306,
        "start_time": "2022-02-23T13:54:16.119Z"
      },
      {
        "duration": 8998,
        "start_time": "2022-02-23T13:54:33.043Z"
      },
      {
        "duration": 14,
        "start_time": "2022-02-23T13:54:42.043Z"
      },
      {
        "duration": 9162,
        "start_time": "2022-02-23T13:54:49.948Z"
      },
      {
        "duration": 12,
        "start_time": "2022-02-23T13:54:59.120Z"
      },
      {
        "duration": 9486,
        "start_time": "2022-02-23T13:55:06.734Z"
      },
      {
        "duration": 9625,
        "start_time": "2022-02-23T13:55:24.931Z"
      },
      {
        "duration": 9422,
        "start_time": "2022-02-23T13:55:39.489Z"
      },
      {
        "duration": 9536,
        "start_time": "2022-02-23T13:55:55.091Z"
      },
      {
        "duration": 9723,
        "start_time": "2022-02-23T13:56:12.059Z"
      },
      {
        "duration": 9472,
        "start_time": "2022-02-23T13:56:29.334Z"
      },
      {
        "duration": 102354,
        "start_time": "2022-02-23T13:58:57.827Z"
      },
      {
        "duration": 249,
        "start_time": "2022-02-23T14:01:23.750Z"
      },
      {
        "duration": 7154,
        "start_time": "2022-02-23T14:01:35.982Z"
      },
      {
        "duration": 9631,
        "start_time": "2022-02-23T14:03:13.800Z"
      },
      {
        "duration": 32179,
        "start_time": "2022-02-23T14:03:35.761Z"
      },
      {
        "duration": 1376,
        "start_time": "2022-02-23T14:04:19.803Z"
      },
      {
        "duration": 1991,
        "start_time": "2022-02-23T14:25:20.617Z"
      },
      {
        "duration": 2640,
        "start_time": "2022-02-23T14:25:27.136Z"
      },
      {
        "duration": 3201,
        "start_time": "2022-02-23T14:25:49.460Z"
      },
      {
        "duration": 3887,
        "start_time": "2022-02-23T14:26:00.989Z"
      },
      {
        "duration": 4653,
        "start_time": "2022-02-23T14:26:11.773Z"
      },
      {
        "duration": 4937,
        "start_time": "2022-02-23T14:26:29.729Z"
      },
      {
        "duration": 4624,
        "start_time": "2022-02-23T14:26:51.576Z"
      },
      {
        "duration": 4745,
        "start_time": "2022-02-23T14:27:01.316Z"
      },
      {
        "duration": 4613,
        "start_time": "2022-02-23T14:27:13.156Z"
      },
      {
        "duration": 5245,
        "start_time": "2022-02-23T14:27:23.142Z"
      },
      {
        "duration": 5813,
        "start_time": "2022-02-23T14:27:33.556Z"
      },
      {
        "duration": 6524,
        "start_time": "2022-02-23T14:27:50.468Z"
      },
      {
        "duration": 7458,
        "start_time": "2022-02-23T14:28:02.164Z"
      },
      {
        "duration": 4714,
        "start_time": "2022-02-23T14:28:14.586Z"
      },
      {
        "duration": 4724,
        "start_time": "2022-02-23T14:28:26.601Z"
      },
      {
        "duration": 4367,
        "start_time": "2022-02-23T14:28:37.136Z"
      },
      {
        "duration": 16,
        "start_time": "2022-02-23T14:28:41.505Z"
      },
      {
        "duration": 4509,
        "start_time": "2022-02-23T14:28:47.793Z"
      },
      {
        "duration": 4666,
        "start_time": "2022-02-23T14:28:59.697Z"
      },
      {
        "duration": 694,
        "start_time": "2022-02-23T14:29:13.807Z"
      },
      {
        "duration": 8055,
        "start_time": "2022-02-23T14:29:23.272Z"
      },
      {
        "duration": 7193,
        "start_time": "2022-02-23T14:29:40.314Z"
      },
      {
        "duration": 4382,
        "start_time": "2022-02-23T14:29:57.879Z"
      },
      {
        "duration": 4614,
        "start_time": "2022-02-23T14:30:07.019Z"
      },
      {
        "duration": 4687,
        "start_time": "2022-02-23T14:30:18.360Z"
      },
      {
        "duration": 4627,
        "start_time": "2022-02-23T14:30:30.268Z"
      },
      {
        "duration": 4629,
        "start_time": "2022-02-23T14:30:44.636Z"
      },
      {
        "duration": 4617,
        "start_time": "2022-02-23T14:30:54.693Z"
      },
      {
        "duration": 4744,
        "start_time": "2022-02-23T14:31:05.636Z"
      },
      {
        "duration": 281,
        "start_time": "2022-02-23T14:31:21.443Z"
      },
      {
        "duration": 529,
        "start_time": "2022-02-23T14:31:25.883Z"
      },
      {
        "duration": 802,
        "start_time": "2022-02-23T14:31:30.297Z"
      },
      {
        "duration": 1068,
        "start_time": "2022-02-23T14:31:38.400Z"
      },
      {
        "duration": 1181,
        "start_time": "2022-02-23T14:31:46.634Z"
      },
      {
        "duration": 1355,
        "start_time": "2022-02-23T14:31:55.314Z"
      },
      {
        "duration": 1366,
        "start_time": "2022-02-23T14:32:08.906Z"
      },
      {
        "duration": 1297,
        "start_time": "2022-02-23T14:32:17.632Z"
      },
      {
        "duration": 1324,
        "start_time": "2022-02-23T14:32:25.735Z"
      },
      {
        "duration": 1266,
        "start_time": "2022-02-23T14:32:33.196Z"
      },
      {
        "duration": 1396,
        "start_time": "2022-02-23T14:32:45.811Z"
      },
      {
        "duration": 1124,
        "start_time": "2022-02-23T14:32:51.201Z"
      },
      {
        "duration": 1200,
        "start_time": "2022-02-23T14:32:56.743Z"
      },
      {
        "duration": 1284,
        "start_time": "2022-02-23T14:33:03.665Z"
      },
      {
        "duration": 1313,
        "start_time": "2022-02-23T14:33:10.468Z"
      },
      {
        "duration": 1292,
        "start_time": "2022-02-23T14:33:16.483Z"
      },
      {
        "duration": 1370,
        "start_time": "2022-02-23T14:33:22.613Z"
      },
      {
        "duration": 1379,
        "start_time": "2022-02-23T14:33:28.582Z"
      },
      {
        "duration": 1401,
        "start_time": "2022-02-23T14:33:35.273Z"
      },
      {
        "duration": 1395,
        "start_time": "2022-02-23T14:33:42.551Z"
      },
      {
        "duration": 1390,
        "start_time": "2022-02-23T14:33:49.182Z"
      },
      {
        "duration": 1419,
        "start_time": "2022-02-23T14:33:55.993Z"
      },
      {
        "duration": 1477,
        "start_time": "2022-02-23T14:34:09.180Z"
      },
      {
        "duration": 1647,
        "start_time": "2022-02-23T14:34:19.610Z"
      },
      {
        "duration": 1556,
        "start_time": "2022-02-23T14:34:25.460Z"
      },
      {
        "duration": 1625,
        "start_time": "2022-02-23T14:34:32.742Z"
      },
      {
        "duration": 1625,
        "start_time": "2022-02-23T14:34:38.134Z"
      },
      {
        "duration": 1481,
        "start_time": "2022-02-23T14:34:43.868Z"
      },
      {
        "duration": 1511,
        "start_time": "2022-02-23T14:34:50.907Z"
      },
      {
        "duration": 1617,
        "start_time": "2022-02-23T14:34:56.530Z"
      },
      {
        "duration": 1605,
        "start_time": "2022-02-23T14:35:02.075Z"
      },
      {
        "duration": 1683,
        "start_time": "2022-02-23T14:35:08.301Z"
      },
      {
        "duration": 1691,
        "start_time": "2022-02-23T14:35:14.416Z"
      },
      {
        "duration": 1722,
        "start_time": "2022-02-23T14:35:20.324Z"
      },
      {
        "duration": 1719,
        "start_time": "2022-02-23T14:35:26.266Z"
      },
      {
        "duration": 1696,
        "start_time": "2022-02-23T14:35:40.305Z"
      },
      {
        "duration": 1711,
        "start_time": "2022-02-23T14:35:47.199Z"
      },
      {
        "duration": 1231,
        "start_time": "2022-02-23T14:35:59.616Z"
      },
      {
        "duration": 35,
        "start_time": "2022-02-23T14:36:00.849Z"
      },
      {
        "duration": 10,
        "start_time": "2022-02-23T14:36:00.886Z"
      },
      {
        "duration": 6,
        "start_time": "2022-02-23T14:36:00.898Z"
      },
      {
        "duration": 19,
        "start_time": "2022-02-23T14:36:00.906Z"
      },
      {
        "duration": 8,
        "start_time": "2022-02-23T14:36:00.927Z"
      },
      {
        "duration": 22,
        "start_time": "2022-02-23T14:36:00.936Z"
      },
      {
        "duration": 7,
        "start_time": "2022-02-23T14:36:00.961Z"
      },
      {
        "duration": 8,
        "start_time": "2022-02-23T14:36:00.970Z"
      },
      {
        "duration": 12,
        "start_time": "2022-02-23T14:36:00.979Z"
      },
      {
        "duration": 33,
        "start_time": "2022-02-23T14:36:00.993Z"
      },
      {
        "duration": 7,
        "start_time": "2022-02-23T14:36:01.027Z"
      },
      {
        "duration": 10,
        "start_time": "2022-02-23T14:36:01.035Z"
      },
      {
        "duration": 7,
        "start_time": "2022-02-23T14:36:01.047Z"
      },
      {
        "duration": 39,
        "start_time": "2022-02-23T14:36:01.056Z"
      },
      {
        "duration": 153,
        "start_time": "2022-02-23T14:36:01.096Z"
      },
      {
        "duration": 171,
        "start_time": "2022-02-23T14:36:01.251Z"
      },
      {
        "duration": 199,
        "start_time": "2022-02-23T14:36:01.425Z"
      },
      {
        "duration": 127,
        "start_time": "2022-02-23T14:36:01.627Z"
      },
      {
        "duration": 176,
        "start_time": "2022-02-23T14:36:01.756Z"
      },
      {
        "duration": 20,
        "start_time": "2022-02-23T14:36:01.934Z"
      },
      {
        "duration": 166,
        "start_time": "2022-02-23T14:36:01.956Z"
      },
      {
        "duration": 323,
        "start_time": "2022-02-23T14:36:02.132Z"
      },
      {
        "duration": 61,
        "start_time": "2022-02-23T14:36:02.458Z"
      },
      {
        "duration": 14,
        "start_time": "2022-02-23T14:36:02.521Z"
      },
      {
        "duration": 90,
        "start_time": "2022-02-23T14:36:02.537Z"
      },
      {
        "duration": 237,
        "start_time": "2022-02-23T14:36:02.629Z"
      },
      {
        "duration": 17,
        "start_time": "2022-02-23T14:36:02.868Z"
      },
      {
        "duration": 55,
        "start_time": "2022-02-23T14:36:02.887Z"
      },
      {
        "duration": 122,
        "start_time": "2022-02-23T14:36:02.944Z"
      },
      {
        "duration": 152,
        "start_time": "2022-02-23T14:36:03.067Z"
      },
      {
        "duration": 99,
        "start_time": "2022-02-23T14:36:03.222Z"
      },
      {
        "duration": 125,
        "start_time": "2022-02-23T14:36:03.323Z"
      },
      {
        "duration": 169,
        "start_time": "2022-02-23T14:36:03.450Z"
      },
      {
        "duration": 5431,
        "start_time": "2022-02-23T14:36:03.621Z"
      },
      {
        "duration": 4921,
        "start_time": "2022-02-23T14:36:09.054Z"
      },
      {
        "duration": 19,
        "start_time": "2022-02-23T14:36:13.977Z"
      },
      {
        "duration": 1781,
        "start_time": "2022-02-23T14:36:13.998Z"
      },
      {
        "duration": 14,
        "start_time": "2022-02-23T14:36:15.781Z"
      },
      {
        "duration": 2204,
        "start_time": "2022-02-23T14:36:15.797Z"
      },
      {
        "duration": 5156,
        "start_time": "2022-02-23T14:36:18.003Z"
      },
      {
        "duration": 9,
        "start_time": "2022-02-23T14:36:23.161Z"
      },
      {
        "duration": 279,
        "start_time": "2022-02-23T14:36:23.172Z"
      },
      {
        "duration": 8,
        "start_time": "2022-02-23T14:36:23.453Z"
      },
      {
        "duration": 10,
        "start_time": "2022-02-23T14:36:23.462Z"
      },
      {
        "duration": 5586,
        "start_time": "2022-02-23T14:36:23.474Z"
      },
      {
        "duration": 5127,
        "start_time": "2022-02-23T14:36:29.062Z"
      },
      {
        "duration": 4742,
        "start_time": "2022-02-23T14:36:34.191Z"
      },
      {
        "duration": 5039,
        "start_time": "2022-02-23T14:40:32.464Z"
      },
      {
        "duration": 2257,
        "start_time": "2022-02-23T14:40:44.439Z"
      },
      {
        "duration": 836,
        "start_time": "2022-02-23T14:40:52.365Z"
      },
      {
        "duration": 780,
        "start_time": "2022-02-23T14:40:58.133Z"
      },
      {
        "duration": 868,
        "start_time": "2022-02-23T14:41:04.102Z"
      },
      {
        "duration": 824,
        "start_time": "2022-02-23T14:41:10.283Z"
      },
      {
        "duration": 744,
        "start_time": "2022-02-23T14:41:15.965Z"
      },
      {
        "duration": 1165,
        "start_time": "2022-02-23T14:41:27.584Z"
      },
      {
        "duration": 30,
        "start_time": "2022-02-23T14:41:28.752Z"
      },
      {
        "duration": 11,
        "start_time": "2022-02-23T14:41:28.787Z"
      },
      {
        "duration": 4,
        "start_time": "2022-02-23T14:41:28.799Z"
      },
      {
        "duration": 9,
        "start_time": "2022-02-23T14:41:28.819Z"
      },
      {
        "duration": 7,
        "start_time": "2022-02-23T14:41:28.831Z"
      },
      {
        "duration": 12,
        "start_time": "2022-02-23T14:41:28.841Z"
      },
      {
        "duration": 8,
        "start_time": "2022-02-23T14:41:28.856Z"
      },
      {
        "duration": 8,
        "start_time": "2022-02-23T14:41:28.865Z"
      },
      {
        "duration": 49,
        "start_time": "2022-02-23T14:41:28.875Z"
      },
      {
        "duration": 15,
        "start_time": "2022-02-23T14:41:28.926Z"
      },
      {
        "duration": 7,
        "start_time": "2022-02-23T14:41:28.943Z"
      },
      {
        "duration": 7,
        "start_time": "2022-02-23T14:41:28.952Z"
      },
      {
        "duration": 7,
        "start_time": "2022-02-23T14:41:28.961Z"
      },
      {
        "duration": 68,
        "start_time": "2022-02-23T14:41:28.970Z"
      },
      {
        "duration": 135,
        "start_time": "2022-02-23T14:41:29.040Z"
      },
      {
        "duration": 50,
        "start_time": "2022-02-23T14:41:29.177Z"
      },
      {
        "duration": 291,
        "start_time": "2022-02-23T14:41:29.229Z"
      },
      {
        "duration": 121,
        "start_time": "2022-02-23T14:41:29.523Z"
      },
      {
        "duration": 133,
        "start_time": "2022-02-23T14:41:29.646Z"
      },
      {
        "duration": 19,
        "start_time": "2022-02-23T14:41:29.780Z"
      },
      {
        "duration": 122,
        "start_time": "2022-02-23T14:41:29.802Z"
      },
      {
        "duration": 408,
        "start_time": "2022-02-23T14:41:29.928Z"
      },
      {
        "duration": 56,
        "start_time": "2022-02-23T14:41:30.338Z"
      },
      {
        "duration": 28,
        "start_time": "2022-02-23T14:41:30.396Z"
      },
      {
        "duration": 95,
        "start_time": "2022-02-23T14:41:30.426Z"
      },
      {
        "duration": 149,
        "start_time": "2022-02-23T14:41:30.524Z"
      },
      {
        "duration": 18,
        "start_time": "2022-02-23T14:41:30.675Z"
      },
      {
        "duration": 54,
        "start_time": "2022-02-23T14:41:30.695Z"
      },
      {
        "duration": 120,
        "start_time": "2022-02-23T14:41:30.751Z"
      },
      {
        "duration": 54,
        "start_time": "2022-02-23T14:41:30.872Z"
      },
      {
        "duration": 195,
        "start_time": "2022-02-23T14:41:30.929Z"
      },
      {
        "duration": 119,
        "start_time": "2022-02-23T14:41:31.125Z"
      },
      {
        "duration": 172,
        "start_time": "2022-02-23T14:41:31.246Z"
      },
      {
        "duration": 5045,
        "start_time": "2022-02-23T14:41:31.420Z"
      },
      {
        "duration": 742,
        "start_time": "2022-02-23T14:41:36.467Z"
      },
      {
        "duration": 21,
        "start_time": "2022-02-23T14:41:37.211Z"
      },
      {
        "duration": 1739,
        "start_time": "2022-02-23T14:41:37.233Z"
      },
      {
        "duration": 13,
        "start_time": "2022-02-23T14:41:38.974Z"
      },
      {
        "duration": 2207,
        "start_time": "2022-02-23T14:41:38.988Z"
      },
      {
        "duration": 5199,
        "start_time": "2022-02-23T14:41:41.196Z"
      },
      {
        "duration": 9,
        "start_time": "2022-02-23T14:41:46.396Z"
      },
      {
        "duration": 267,
        "start_time": "2022-02-23T14:41:46.407Z"
      },
      {
        "duration": 8,
        "start_time": "2022-02-23T14:41:46.676Z"
      },
      {
        "duration": 27,
        "start_time": "2022-02-23T14:41:46.686Z"
      },
      {
        "duration": 5406,
        "start_time": "2022-02-23T14:41:46.715Z"
      },
      {
        "duration": 5086,
        "start_time": "2022-02-23T14:41:52.122Z"
      },
      {
        "duration": 4881,
        "start_time": "2022-02-23T14:41:57.210Z"
      },
      {
        "duration": 1149,
        "start_time": "2022-02-23T14:42:22.890Z"
      },
      {
        "duration": 35,
        "start_time": "2022-02-23T14:42:24.041Z"
      },
      {
        "duration": 11,
        "start_time": "2022-02-23T14:42:24.078Z"
      },
      {
        "duration": 3,
        "start_time": "2022-02-23T14:42:24.091Z"
      },
      {
        "duration": 27,
        "start_time": "2022-02-23T14:42:24.096Z"
      },
      {
        "duration": 6,
        "start_time": "2022-02-23T14:42:24.125Z"
      },
      {
        "duration": 13,
        "start_time": "2022-02-23T14:42:24.133Z"
      },
      {
        "duration": 7,
        "start_time": "2022-02-23T14:42:24.148Z"
      },
      {
        "duration": 6,
        "start_time": "2022-02-23T14:42:24.157Z"
      },
      {
        "duration": 6,
        "start_time": "2022-02-23T14:42:24.165Z"
      },
      {
        "duration": 16,
        "start_time": "2022-02-23T14:42:24.173Z"
      },
      {
        "duration": 29,
        "start_time": "2022-02-23T14:42:24.191Z"
      },
      {
        "duration": 9,
        "start_time": "2022-02-23T14:42:24.222Z"
      },
      {
        "duration": 6,
        "start_time": "2022-02-23T14:42:24.232Z"
      },
      {
        "duration": 37,
        "start_time": "2022-02-23T14:42:24.240Z"
      },
      {
        "duration": 167,
        "start_time": "2022-02-23T14:42:24.279Z"
      },
      {
        "duration": 85,
        "start_time": "2022-02-23T14:42:24.447Z"
      },
      {
        "duration": 206,
        "start_time": "2022-02-23T14:42:24.621Z"
      },
      {
        "duration": 125,
        "start_time": "2022-02-23T14:42:24.924Z"
      },
      {
        "duration": 145,
        "start_time": "2022-02-23T14:42:25.051Z"
      },
      {
        "duration": 27,
        "start_time": "2022-02-23T14:42:25.198Z"
      },
      {
        "duration": 99,
        "start_time": "2022-02-23T14:42:25.227Z"
      },
      {
        "duration": 412,
        "start_time": "2022-02-23T14:42:25.329Z"
      },
      {
        "duration": 58,
        "start_time": "2022-02-23T14:42:25.744Z"
      },
      {
        "duration": 25,
        "start_time": "2022-02-23T14:42:25.804Z"
      },
      {
        "duration": 93,
        "start_time": "2022-02-23T14:42:25.831Z"
      },
      {
        "duration": 234,
        "start_time": "2022-02-23T14:42:25.930Z"
      },
      {
        "duration": 19,
        "start_time": "2022-02-23T14:42:26.167Z"
      },
      {
        "duration": 57,
        "start_time": "2022-02-23T14:42:26.188Z"
      },
      {
        "duration": 122,
        "start_time": "2022-02-23T14:42:26.247Z"
      },
      {
        "duration": 51,
        "start_time": "2022-02-23T14:42:26.371Z"
      },
      {
        "duration": 128,
        "start_time": "2022-02-23T14:42:26.424Z"
      },
      {
        "duration": 185,
        "start_time": "2022-02-23T14:42:26.553Z"
      },
      {
        "duration": 80,
        "start_time": "2022-02-23T14:42:26.740Z"
      },
      {
        "duration": 5098,
        "start_time": "2022-02-23T14:42:26.823Z"
      },
      {
        "duration": 727,
        "start_time": "2022-02-23T14:42:31.924Z"
      },
      {
        "duration": 16,
        "start_time": "2022-02-23T14:42:32.653Z"
      },
      {
        "duration": 1698,
        "start_time": "2022-02-23T14:42:32.671Z"
      },
      {
        "duration": 15,
        "start_time": "2022-02-23T14:42:34.371Z"
      },
      {
        "duration": 2346,
        "start_time": "2022-02-23T14:42:34.388Z"
      },
      {
        "duration": 5178,
        "start_time": "2022-02-23T14:42:36.736Z"
      },
      {
        "duration": 10,
        "start_time": "2022-02-23T14:42:41.919Z"
      },
      {
        "duration": 281,
        "start_time": "2022-02-23T14:42:41.931Z"
      },
      {
        "duration": 12,
        "start_time": "2022-02-23T14:42:42.213Z"
      },
      {
        "duration": 28,
        "start_time": "2022-02-23T14:42:42.227Z"
      },
      {
        "duration": 5330,
        "start_time": "2022-02-23T14:42:42.257Z"
      },
      {
        "duration": 4984,
        "start_time": "2022-02-23T14:42:47.589Z"
      },
      {
        "duration": 4778,
        "start_time": "2022-02-23T14:42:52.575Z"
      },
      {
        "duration": 766,
        "start_time": "2022-02-23T14:44:39.632Z"
      },
      {
        "duration": 1113,
        "start_time": "2022-02-23T14:44:47.378Z"
      },
      {
        "duration": 34,
        "start_time": "2022-02-23T14:44:48.493Z"
      },
      {
        "duration": 11,
        "start_time": "2022-02-23T14:44:48.529Z"
      },
      {
        "duration": 3,
        "start_time": "2022-02-23T14:44:48.542Z"
      },
      {
        "duration": 9,
        "start_time": "2022-02-23T14:44:48.546Z"
      },
      {
        "duration": 5,
        "start_time": "2022-02-23T14:44:48.557Z"
      },
      {
        "duration": 12,
        "start_time": "2022-02-23T14:44:48.563Z"
      },
      {
        "duration": 7,
        "start_time": "2022-02-23T14:44:48.578Z"
      },
      {
        "duration": 36,
        "start_time": "2022-02-23T14:44:48.587Z"
      },
      {
        "duration": 7,
        "start_time": "2022-02-23T14:44:48.625Z"
      },
      {
        "duration": 14,
        "start_time": "2022-02-23T14:44:48.634Z"
      },
      {
        "duration": 6,
        "start_time": "2022-02-23T14:44:48.649Z"
      },
      {
        "duration": 7,
        "start_time": "2022-02-23T14:44:48.657Z"
      },
      {
        "duration": 6,
        "start_time": "2022-02-23T14:44:48.666Z"
      },
      {
        "duration": 72,
        "start_time": "2022-02-23T14:44:48.673Z"
      },
      {
        "duration": 133,
        "start_time": "2022-02-23T14:44:48.747Z"
      },
      {
        "duration": 137,
        "start_time": "2022-02-23T14:44:48.882Z"
      },
      {
        "duration": 202,
        "start_time": "2022-02-23T14:44:49.022Z"
      },
      {
        "duration": 126,
        "start_time": "2022-02-23T14:44:49.226Z"
      },
      {
        "duration": 159,
        "start_time": "2022-02-23T14:44:49.354Z"
      },
      {
        "duration": 18,
        "start_time": "2022-02-23T14:44:49.514Z"
      },
      {
        "duration": 191,
        "start_time": "2022-02-23T14:44:49.534Z"
      },
      {
        "duration": 265,
        "start_time": "2022-02-23T14:44:49.818Z"
      },
      {
        "duration": 62,
        "start_time": "2022-02-23T14:44:50.086Z"
      },
      {
        "duration": 13,
        "start_time": "2022-02-23T14:44:50.150Z"
      },
      {
        "duration": 62,
        "start_time": "2022-02-23T14:44:50.164Z"
      },
      {
        "duration": 232,
        "start_time": "2022-02-23T14:44:50.228Z"
      },
      {
        "duration": 17,
        "start_time": "2022-02-23T14:44:50.462Z"
      },
      {
        "duration": 50,
        "start_time": "2022-02-23T14:44:50.481Z"
      },
      {
        "duration": 126,
        "start_time": "2022-02-23T14:44:50.533Z"
      },
      {
        "duration": 66,
        "start_time": "2022-02-23T14:44:50.660Z"
      },
      {
        "duration": 124,
        "start_time": "2022-02-23T14:44:50.729Z"
      },
      {
        "duration": 138,
        "start_time": "2022-02-23T14:44:50.855Z"
      },
      {
        "duration": 43,
        "start_time": "2022-02-23T14:44:50.995Z"
      },
      {
        "duration": 925,
        "start_time": "2022-02-23T14:44:51.041Z"
      },
      {
        "duration": 754,
        "start_time": "2022-02-23T14:44:51.968Z"
      },
      {
        "duration": 19,
        "start_time": "2022-02-23T14:44:52.724Z"
      },
      {
        "duration": 1744,
        "start_time": "2022-02-23T14:44:52.744Z"
      },
      {
        "duration": 12,
        "start_time": "2022-02-23T14:44:54.490Z"
      },
      {
        "duration": 2181,
        "start_time": "2022-02-23T14:44:54.503Z"
      },
      {
        "duration": 5163,
        "start_time": "2022-02-23T14:44:56.686Z"
      },
      {
        "duration": 9,
        "start_time": "2022-02-23T14:45:01.850Z"
      },
      {
        "duration": 278,
        "start_time": "2022-02-23T14:45:01.861Z"
      },
      {
        "duration": 8,
        "start_time": "2022-02-23T14:45:02.142Z"
      },
      {
        "duration": 16,
        "start_time": "2022-02-23T14:45:02.151Z"
      },
      {
        "duration": 5458,
        "start_time": "2022-02-23T14:45:02.169Z"
      },
      {
        "duration": 5033,
        "start_time": "2022-02-23T14:45:07.630Z"
      },
      {
        "duration": 1267,
        "start_time": "2022-02-23T14:45:17.394Z"
      },
      {
        "duration": 37,
        "start_time": "2022-02-23T14:45:18.663Z"
      },
      {
        "duration": 21,
        "start_time": "2022-02-23T14:45:18.703Z"
      },
      {
        "duration": 4,
        "start_time": "2022-02-23T14:45:18.726Z"
      },
      {
        "duration": 11,
        "start_time": "2022-02-23T14:45:18.732Z"
      },
      {
        "duration": 8,
        "start_time": "2022-02-23T14:45:18.744Z"
      },
      {
        "duration": 11,
        "start_time": "2022-02-23T14:45:18.753Z"
      },
      {
        "duration": 7,
        "start_time": "2022-02-23T14:45:18.768Z"
      },
      {
        "duration": 46,
        "start_time": "2022-02-23T14:45:18.777Z"
      },
      {
        "duration": 8,
        "start_time": "2022-02-23T14:45:18.825Z"
      },
      {
        "duration": 17,
        "start_time": "2022-02-23T14:45:18.835Z"
      },
      {
        "duration": 7,
        "start_time": "2022-02-23T14:45:18.853Z"
      },
      {
        "duration": 14,
        "start_time": "2022-02-23T14:45:18.862Z"
      },
      {
        "duration": 7,
        "start_time": "2022-02-23T14:45:18.878Z"
      },
      {
        "duration": 71,
        "start_time": "2022-02-23T14:45:18.886Z"
      },
      {
        "duration": 163,
        "start_time": "2022-02-23T14:45:18.958Z"
      },
      {
        "duration": 103,
        "start_time": "2022-02-23T14:45:19.123Z"
      },
      {
        "duration": 198,
        "start_time": "2022-02-23T14:45:19.229Z"
      },
      {
        "duration": 213,
        "start_time": "2022-02-23T14:45:19.429Z"
      },
      {
        "duration": 137,
        "start_time": "2022-02-23T14:45:19.644Z"
      },
      {
        "duration": 19,
        "start_time": "2022-02-23T14:45:19.783Z"
      },
      {
        "duration": 121,
        "start_time": "2022-02-23T14:45:19.804Z"
      },
      {
        "duration": 415,
        "start_time": "2022-02-23T14:45:19.930Z"
      },
      {
        "duration": 57,
        "start_time": "2022-02-23T14:45:20.348Z"
      },
      {
        "duration": 21,
        "start_time": "2022-02-23T14:45:20.407Z"
      },
      {
        "duration": 199,
        "start_time": "2022-02-23T14:45:20.429Z"
      },
      {
        "duration": 150,
        "start_time": "2022-02-23T14:45:20.632Z"
      },
      {
        "duration": 35,
        "start_time": "2022-02-23T14:45:20.785Z"
      },
      {
        "duration": 34,
        "start_time": "2022-02-23T14:45:20.822Z"
      },
      {
        "duration": 127,
        "start_time": "2022-02-23T14:45:20.857Z"
      },
      {
        "duration": 47,
        "start_time": "2022-02-23T14:45:20.986Z"
      },
      {
        "duration": 122,
        "start_time": "2022-02-23T14:45:21.120Z"
      },
      {
        "duration": 126,
        "start_time": "2022-02-23T14:45:21.244Z"
      },
      {
        "duration": 56,
        "start_time": "2022-02-23T14:45:21.372Z"
      },
      {
        "duration": 922,
        "start_time": "2022-02-23T14:45:21.431Z"
      },
      {
        "duration": 742,
        "start_time": "2022-02-23T14:45:22.355Z"
      },
      {
        "duration": 26,
        "start_time": "2022-02-23T14:45:23.099Z"
      },
      {
        "duration": 1742,
        "start_time": "2022-02-23T14:45:23.127Z"
      },
      {
        "duration": 14,
        "start_time": "2022-02-23T14:45:24.871Z"
      },
      {
        "duration": 2261,
        "start_time": "2022-02-23T14:45:24.887Z"
      },
      {
        "duration": 5138,
        "start_time": "2022-02-23T14:45:27.150Z"
      },
      {
        "duration": 9,
        "start_time": "2022-02-23T14:45:32.290Z"
      },
      {
        "duration": 268,
        "start_time": "2022-02-23T14:45:32.301Z"
      },
      {
        "duration": 8,
        "start_time": "2022-02-23T14:45:32.571Z"
      },
      {
        "duration": 11,
        "start_time": "2022-02-23T14:45:32.581Z"
      },
      {
        "duration": 5274,
        "start_time": "2022-02-23T14:45:32.594Z"
      },
      {
        "duration": 5738,
        "start_time": "2022-02-23T14:45:37.870Z"
      },
      {
        "duration": 1168,
        "start_time": "2022-02-23T14:45:50.500Z"
      },
      {
        "duration": 33,
        "start_time": "2022-02-23T14:45:51.670Z"
      },
      {
        "duration": 14,
        "start_time": "2022-02-23T14:45:51.707Z"
      },
      {
        "duration": 4,
        "start_time": "2022-02-23T14:45:51.723Z"
      },
      {
        "duration": 9,
        "start_time": "2022-02-23T14:45:51.729Z"
      },
      {
        "duration": 7,
        "start_time": "2022-02-23T14:45:51.740Z"
      },
      {
        "duration": 21,
        "start_time": "2022-02-23T14:45:51.748Z"
      },
      {
        "duration": 7,
        "start_time": "2022-02-23T14:45:51.772Z"
      },
      {
        "duration": 7,
        "start_time": "2022-02-23T14:45:51.781Z"
      },
      {
        "duration": 36,
        "start_time": "2022-02-23T14:45:51.790Z"
      },
      {
        "duration": 15,
        "start_time": "2022-02-23T14:45:51.828Z"
      },
      {
        "duration": 7,
        "start_time": "2022-02-23T14:45:51.845Z"
      },
      {
        "duration": 7,
        "start_time": "2022-02-23T14:45:51.854Z"
      },
      {
        "duration": 7,
        "start_time": "2022-02-23T14:45:51.862Z"
      },
      {
        "duration": 70,
        "start_time": "2022-02-23T14:45:51.870Z"
      },
      {
        "duration": 136,
        "start_time": "2022-02-23T14:45:51.942Z"
      },
      {
        "duration": 139,
        "start_time": "2022-02-23T14:45:52.080Z"
      },
      {
        "duration": 198,
        "start_time": "2022-02-23T14:45:52.222Z"
      },
      {
        "duration": 126,
        "start_time": "2022-02-23T14:45:52.422Z"
      },
      {
        "duration": 134,
        "start_time": "2022-02-23T14:45:52.550Z"
      },
      {
        "duration": 20,
        "start_time": "2022-02-23T14:45:52.685Z"
      },
      {
        "duration": 121,
        "start_time": "2022-02-23T14:45:52.707Z"
      },
      {
        "duration": 309,
        "start_time": "2022-02-23T14:45:52.921Z"
      },
      {
        "duration": 56,
        "start_time": "2022-02-23T14:45:53.232Z"
      },
      {
        "duration": 35,
        "start_time": "2022-02-23T14:45:53.290Z"
      },
      {
        "duration": 96,
        "start_time": "2022-02-23T14:45:53.329Z"
      },
      {
        "duration": 238,
        "start_time": "2022-02-23T14:45:53.427Z"
      },
      {
        "duration": 19,
        "start_time": "2022-02-23T14:45:53.667Z"
      },
      {
        "duration": 52,
        "start_time": "2022-02-23T14:45:53.688Z"
      },
      {
        "duration": 118,
        "start_time": "2022-02-23T14:45:53.742Z"
      },
      {
        "duration": 64,
        "start_time": "2022-02-23T14:45:53.862Z"
      },
      {
        "duration": 125,
        "start_time": "2022-02-23T14:45:53.928Z"
      },
      {
        "duration": 170,
        "start_time": "2022-02-23T14:45:54.055Z"
      },
      {
        "duration": 103,
        "start_time": "2022-02-23T14:45:54.227Z"
      },
      {
        "duration": 782,
        "start_time": "2022-02-23T14:45:54.419Z"
      },
      {
        "duration": 764,
        "start_time": "2022-02-23T14:45:55.203Z"
      },
      {
        "duration": 20,
        "start_time": "2022-02-23T14:45:55.968Z"
      },
      {
        "duration": 1820,
        "start_time": "2022-02-23T14:45:55.990Z"
      },
      {
        "duration": 17,
        "start_time": "2022-02-23T14:45:57.812Z"
      },
      {
        "duration": 2241,
        "start_time": "2022-02-23T14:45:57.830Z"
      },
      {
        "duration": 5122,
        "start_time": "2022-02-23T14:46:00.073Z"
      },
      {
        "duration": 10,
        "start_time": "2022-02-23T14:46:05.197Z"
      },
      {
        "duration": 269,
        "start_time": "2022-02-23T14:46:05.218Z"
      },
      {
        "duration": 7,
        "start_time": "2022-02-23T14:46:05.488Z"
      },
      {
        "duration": 28,
        "start_time": "2022-02-23T14:46:05.497Z"
      },
      {
        "duration": 5659,
        "start_time": "2022-02-23T14:46:05.527Z"
      },
      {
        "duration": 5125,
        "start_time": "2022-02-23T14:46:11.188Z"
      }
    ],
    "kernelspec": {
      "display_name": "Python 3 (ipykernel)",
      "language": "python",
      "name": "python3"
    },
    "language_info": {
      "codemirror_mode": {
        "name": "ipython",
        "version": 3
      },
      "file_extension": ".py",
      "mimetype": "text/x-python",
      "name": "python",
      "nbconvert_exporter": "python",
      "pygments_lexer": "ipython3",
      "version": "3.9.5"
    },
    "toc": {
      "base_numbering": 1,
      "nav_menu": {},
      "number_sections": true,
      "sideBar": true,
      "skip_h1_title": true,
      "title_cell": "Содержание",
      "title_sidebar": "Contents",
      "toc_cell": true,
      "toc_position": {},
      "toc_section_display": true,
      "toc_window_display": true
    },
    "colab": {
      "name": "Отток клиентов.ipynb",
      "provenance": []
    }
  },
  "nbformat": 4,
  "nbformat_minor": 0
}