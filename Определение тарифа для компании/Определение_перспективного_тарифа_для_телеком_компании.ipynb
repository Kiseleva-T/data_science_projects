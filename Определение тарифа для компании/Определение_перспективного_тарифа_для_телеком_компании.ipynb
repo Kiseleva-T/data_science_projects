{
  "cells": [
    {
      "cell_type": "markdown",
      "source": [
        "Задача: в телеком-компании необходимо провести анализ имеющихся данных для определения лучшего тарифа. Всего их два: смарт и ультра."
      ],
      "metadata": {
        "id": "Ba7B635E-v4N"
      }
    },
    {
      "cell_type": "markdown",
      "source": [
        "Сперва импортируем библиотеки и посмотрим на данные"
      ],
      "metadata": {
        "id": "nl5iPQqz_izj"
      }
    },
    {
      "cell_type": "code",
      "execution_count": null,
      "metadata": {
        "id": "rIV4B-XbozKa"
      },
      "outputs": [],
      "source": [
        "import pandas as pd\n",
        "import numpy as np\n",
        "import seaborn as sns\n",
        "import matplotlib.pyplot as plt\n",
        "from scipy import stats as st"
      ]
    },
    {
      "cell_type": "code",
      "execution_count": null,
      "metadata": {
        "id": "o0QPJbu7ozKb",
        "outputId": "f625a0f9-2613-4c24-8cd5-783444539a56"
      },
      "outputs": [
        {
          "data": {
            "text/html": [
              "<div>\n",
              "<style scoped>\n",
              "    .dataframe tbody tr th:only-of-type {\n",
              "        vertical-align: middle;\n",
              "    }\n",
              "\n",
              "    .dataframe tbody tr th {\n",
              "        vertical-align: top;\n",
              "    }\n",
              "\n",
              "    .dataframe thead th {\n",
              "        text-align: right;\n",
              "    }\n",
              "</style>\n",
              "<table border=\"1\" class=\"dataframe\">\n",
              "  <thead>\n",
              "    <tr style=\"text-align: right;\">\n",
              "      <th></th>\n",
              "      <th>id</th>\n",
              "      <th>call_date</th>\n",
              "      <th>duration</th>\n",
              "      <th>user_id</th>\n",
              "    </tr>\n",
              "  </thead>\n",
              "  <tbody>\n",
              "    <tr>\n",
              "      <td>0</td>\n",
              "      <td>1000_0</td>\n",
              "      <td>2018-07-25</td>\n",
              "      <td>0.00</td>\n",
              "      <td>1000</td>\n",
              "    </tr>\n",
              "    <tr>\n",
              "      <td>1</td>\n",
              "      <td>1000_1</td>\n",
              "      <td>2018-08-17</td>\n",
              "      <td>0.00</td>\n",
              "      <td>1000</td>\n",
              "    </tr>\n",
              "    <tr>\n",
              "      <td>2</td>\n",
              "      <td>1000_2</td>\n",
              "      <td>2018-06-11</td>\n",
              "      <td>2.85</td>\n",
              "      <td>1000</td>\n",
              "    </tr>\n",
              "    <tr>\n",
              "      <td>3</td>\n",
              "      <td>1000_3</td>\n",
              "      <td>2018-09-21</td>\n",
              "      <td>13.80</td>\n",
              "      <td>1000</td>\n",
              "    </tr>\n",
              "    <tr>\n",
              "      <td>4</td>\n",
              "      <td>1000_4</td>\n",
              "      <td>2018-12-15</td>\n",
              "      <td>5.18</td>\n",
              "      <td>1000</td>\n",
              "    </tr>\n",
              "  </tbody>\n",
              "</table>\n",
              "</div>"
            ],
            "text/plain": [
              "       id   call_date  duration  user_id\n",
              "0  1000_0  2018-07-25      0.00     1000\n",
              "1  1000_1  2018-08-17      0.00     1000\n",
              "2  1000_2  2018-06-11      2.85     1000\n",
              "3  1000_3  2018-09-21     13.80     1000\n",
              "4  1000_4  2018-12-15      5.18     1000"
            ]
          },
          "metadata": {},
          "output_type": "display_data"
        },
        {
          "name": "stdout",
          "output_type": "stream",
          "text": [
            "<class 'pandas.core.frame.DataFrame'>\n",
            "RangeIndex: 202607 entries, 0 to 202606\n",
            "Data columns (total 4 columns):\n",
            "id           202607 non-null object\n",
            "call_date    202607 non-null object\n",
            "duration     202607 non-null float64\n",
            "user_id      202607 non-null int64\n",
            "dtypes: float64(1), int64(1), object(2)\n",
            "memory usage: 6.2+ MB\n"
          ]
        }
      ],
      "source": [
        "\n",
        "display(calls.head())\n",
        "calls.info()"
      ]
    },
    {
      "cell_type": "markdown",
      "source": [
        "по условиям компании секунды округляются до минут, мегабайты до гигабайтов"
      ],
      "metadata": {
        "id": "6KpOVg9Q_wFY"
      }
    },
    {
      "cell_type": "code",
      "execution_count": null,
      "metadata": {
        "id": "qO7ZyUWkozKc",
        "outputId": "05d152f2-78a0-4e89-c7ee-20315b42bcf2"
      },
      "outputs": [
        {
          "name": "stdout",
          "output_type": "stream",
          "text": [
            "<class 'pandas.core.frame.DataFrame'>\n",
            "RangeIndex: 202607 entries, 0 to 202606\n",
            "Data columns (total 5 columns):\n",
            "id                  202607 non-null object\n",
            "call_date           202607 non-null object\n",
            "duration            202607 non-null float64\n",
            "user_id             202607 non-null int64\n",
            "duration_minutes    202607 non-null int64\n",
            "dtypes: float64(1), int64(2), object(2)\n",
            "memory usage: 7.7+ MB\n"
          ]
        },
        {
          "data": {
            "text/html": [
              "<div>\n",
              "<style scoped>\n",
              "    .dataframe tbody tr th:only-of-type {\n",
              "        vertical-align: middle;\n",
              "    }\n",
              "\n",
              "    .dataframe tbody tr th {\n",
              "        vertical-align: top;\n",
              "    }\n",
              "\n",
              "    .dataframe thead th {\n",
              "        text-align: right;\n",
              "    }\n",
              "</style>\n",
              "<table border=\"1\" class=\"dataframe\">\n",
              "  <thead>\n",
              "    <tr style=\"text-align: right;\">\n",
              "      <th></th>\n",
              "      <th>id</th>\n",
              "      <th>call_date</th>\n",
              "      <th>duration</th>\n",
              "      <th>user_id</th>\n",
              "      <th>duration_minutes</th>\n",
              "    </tr>\n",
              "  </thead>\n",
              "  <tbody>\n",
              "    <tr>\n",
              "      <td>0</td>\n",
              "      <td>1000_0</td>\n",
              "      <td>2018-07-25</td>\n",
              "      <td>0.00</td>\n",
              "      <td>1000</td>\n",
              "      <td>0</td>\n",
              "    </tr>\n",
              "    <tr>\n",
              "      <td>1</td>\n",
              "      <td>1000_1</td>\n",
              "      <td>2018-08-17</td>\n",
              "      <td>0.00</td>\n",
              "      <td>1000</td>\n",
              "      <td>0</td>\n",
              "    </tr>\n",
              "    <tr>\n",
              "      <td>2</td>\n",
              "      <td>1000_2</td>\n",
              "      <td>2018-06-11</td>\n",
              "      <td>2.85</td>\n",
              "      <td>1000</td>\n",
              "      <td>3</td>\n",
              "    </tr>\n",
              "    <tr>\n",
              "      <td>3</td>\n",
              "      <td>1000_3</td>\n",
              "      <td>2018-09-21</td>\n",
              "      <td>13.80</td>\n",
              "      <td>1000</td>\n",
              "      <td>14</td>\n",
              "    </tr>\n",
              "    <tr>\n",
              "      <td>4</td>\n",
              "      <td>1000_4</td>\n",
              "      <td>2018-12-15</td>\n",
              "      <td>5.18</td>\n",
              "      <td>1000</td>\n",
              "      <td>6</td>\n",
              "    </tr>\n",
              "  </tbody>\n",
              "</table>\n",
              "</div>"
            ],
            "text/plain": [
              "       id   call_date  duration  user_id  duration_minutes\n",
              "0  1000_0  2018-07-25      0.00     1000                 0\n",
              "1  1000_1  2018-08-17      0.00     1000                 0\n",
              "2  1000_2  2018-06-11      2.85     1000                 3\n",
              "3  1000_3  2018-09-21     13.80     1000                14\n",
              "4  1000_4  2018-12-15      5.18     1000                 6"
            ]
          },
          "metadata": {},
          "output_type": "display_data"
        }
      ],
      "source": [
        "#приведем к целому числу значения минут в столбце duration, округлим в большую сторону\n",
        "calls['duration_minutes'] = np.ceil(calls['duration'])\n",
        "calls['duration_minutes'] = calls['duration_minutes'].astype('int')\n",
        "calls.info()\n",
        "display(calls.head())"
      ]
    },
    {
      "cell_type": "code",
      "execution_count": null,
      "metadata": {
        "id": "MYROYpylozKd",
        "outputId": "a71b2bcf-c5d0-46e4-c9f8-a911f551591f"
      },
      "outputs": [
        {
          "data": {
            "text/html": [
              "<div>\n",
              "<style scoped>\n",
              "    .dataframe tbody tr th:only-of-type {\n",
              "        vertical-align: middle;\n",
              "    }\n",
              "\n",
              "    .dataframe tbody tr th {\n",
              "        vertical-align: top;\n",
              "    }\n",
              "\n",
              "    .dataframe thead th {\n",
              "        text-align: right;\n",
              "    }\n",
              "</style>\n",
              "<table border=\"1\" class=\"dataframe\">\n",
              "  <thead>\n",
              "    <tr style=\"text-align: right;\">\n",
              "      <th></th>\n",
              "      <th>id</th>\n",
              "      <th>call_date</th>\n",
              "      <th>duration</th>\n",
              "      <th>user_id</th>\n",
              "      <th>duration_minutes</th>\n",
              "      <th>month</th>\n",
              "    </tr>\n",
              "  </thead>\n",
              "  <tbody>\n",
              "    <tr>\n",
              "      <td>0</td>\n",
              "      <td>1000_0</td>\n",
              "      <td>2018-07-25</td>\n",
              "      <td>0.00</td>\n",
              "      <td>1000</td>\n",
              "      <td>0</td>\n",
              "      <td>July</td>\n",
              "    </tr>\n",
              "    <tr>\n",
              "      <td>1</td>\n",
              "      <td>1000_1</td>\n",
              "      <td>2018-08-17</td>\n",
              "      <td>0.00</td>\n",
              "      <td>1000</td>\n",
              "      <td>0</td>\n",
              "      <td>August</td>\n",
              "    </tr>\n",
              "    <tr>\n",
              "      <td>2</td>\n",
              "      <td>1000_2</td>\n",
              "      <td>2018-06-11</td>\n",
              "      <td>2.85</td>\n",
              "      <td>1000</td>\n",
              "      <td>3</td>\n",
              "      <td>June</td>\n",
              "    </tr>\n",
              "    <tr>\n",
              "      <td>3</td>\n",
              "      <td>1000_3</td>\n",
              "      <td>2018-09-21</td>\n",
              "      <td>13.80</td>\n",
              "      <td>1000</td>\n",
              "      <td>14</td>\n",
              "      <td>September</td>\n",
              "    </tr>\n",
              "    <tr>\n",
              "      <td>4</td>\n",
              "      <td>1000_4</td>\n",
              "      <td>2018-12-15</td>\n",
              "      <td>5.18</td>\n",
              "      <td>1000</td>\n",
              "      <td>6</td>\n",
              "      <td>December</td>\n",
              "    </tr>\n",
              "  </tbody>\n",
              "</table>\n",
              "</div>"
            ],
            "text/plain": [
              "       id   call_date  duration  user_id  duration_minutes      month\n",
              "0  1000_0  2018-07-25      0.00     1000                 0       July\n",
              "1  1000_1  2018-08-17      0.00     1000                 0     August\n",
              "2  1000_2  2018-06-11      2.85     1000                 3       June\n",
              "3  1000_3  2018-09-21     13.80     1000                14  September\n",
              "4  1000_4  2018-12-15      5.18     1000                 6   December"
            ]
          },
          "metadata": {},
          "output_type": "display_data"
        }
      ],
      "source": [
        "# добавим столбец с месяцами\n",
        "calls['month'] = pd.DatetimeIndex(calls['call_date']).month_name()\n",
        "display(calls.head())"
      ]
    },
    {
      "cell_type": "markdown",
      "source": [
        "Сгруппируем звонки по месяцам у каждого пользователя"
      ],
      "metadata": {
        "id": "FF-FJK_M_-CV"
      }
    },
    {
      "cell_type": "code",
      "execution_count": null,
      "metadata": {
        "id": "1YG915K2ozKe",
        "outputId": "986cb614-2908-4337-81dc-091455b829a9"
      },
      "outputs": [
        {
          "data": {
            "text/html": [
              "<div>\n",
              "<style scoped>\n",
              "    .dataframe tbody tr th:only-of-type {\n",
              "        vertical-align: middle;\n",
              "    }\n",
              "\n",
              "    .dataframe tbody tr th {\n",
              "        vertical-align: top;\n",
              "    }\n",
              "\n",
              "    .dataframe thead tr th {\n",
              "        text-align: left;\n",
              "    }\n",
              "</style>\n",
              "<table border=\"1\" class=\"dataframe\">\n",
              "  <thead>\n",
              "    <tr>\n",
              "      <th></th>\n",
              "      <th>user_id</th>\n",
              "      <th>month</th>\n",
              "      <th>id</th>\n",
              "    </tr>\n",
              "    <tr>\n",
              "      <th></th>\n",
              "      <th></th>\n",
              "      <th></th>\n",
              "      <th>count</th>\n",
              "    </tr>\n",
              "  </thead>\n",
              "  <tbody>\n",
              "    <tr>\n",
              "      <td>0</td>\n",
              "      <td>1000</td>\n",
              "      <td>August</td>\n",
              "      <td>52</td>\n",
              "    </tr>\n",
              "    <tr>\n",
              "      <td>1</td>\n",
              "      <td>1000</td>\n",
              "      <td>December</td>\n",
              "      <td>46</td>\n",
              "    </tr>\n",
              "    <tr>\n",
              "      <td>2</td>\n",
              "      <td>1000</td>\n",
              "      <td>July</td>\n",
              "      <td>47</td>\n",
              "    </tr>\n",
              "    <tr>\n",
              "      <td>3</td>\n",
              "      <td>1000</td>\n",
              "      <td>June</td>\n",
              "      <td>43</td>\n",
              "    </tr>\n",
              "    <tr>\n",
              "      <td>4</td>\n",
              "      <td>1000</td>\n",
              "      <td>May</td>\n",
              "      <td>22</td>\n",
              "    </tr>\n",
              "    <tr>\n",
              "      <td>...</td>\n",
              "      <td>...</td>\n",
              "      <td>...</td>\n",
              "      <td>...</td>\n",
              "    </tr>\n",
              "    <tr>\n",
              "      <td>3169</td>\n",
              "      <td>1498</td>\n",
              "      <td>September</td>\n",
              "      <td>59</td>\n",
              "    </tr>\n",
              "    <tr>\n",
              "      <td>3170</td>\n",
              "      <td>1499</td>\n",
              "      <td>December</td>\n",
              "      <td>69</td>\n",
              "    </tr>\n",
              "    <tr>\n",
              "      <td>3171</td>\n",
              "      <td>1499</td>\n",
              "      <td>November</td>\n",
              "      <td>74</td>\n",
              "    </tr>\n",
              "    <tr>\n",
              "      <td>3172</td>\n",
              "      <td>1499</td>\n",
              "      <td>October</td>\n",
              "      <td>68</td>\n",
              "    </tr>\n",
              "    <tr>\n",
              "      <td>3173</td>\n",
              "      <td>1499</td>\n",
              "      <td>September</td>\n",
              "      <td>9</td>\n",
              "    </tr>\n",
              "  </tbody>\n",
              "</table>\n",
              "<p>3174 rows × 3 columns</p>\n",
              "</div>"
            ],
            "text/plain": [
              "     user_id      month    id\n",
              "                        count\n",
              "0       1000     August    52\n",
              "1       1000   December    46\n",
              "2       1000       July    47\n",
              "3       1000       June    43\n",
              "4       1000        May    22\n",
              "...      ...        ...   ...\n",
              "3169    1498  September    59\n",
              "3170    1499   December    69\n",
              "3171    1499   November    74\n",
              "3172    1499    October    68\n",
              "3173    1499  September     9\n",
              "\n",
              "[3174 rows x 3 columns]"
            ]
          },
          "metadata": {},
          "output_type": "display_data"
        }
      ],
      "source": [
        "agg_func = {\n",
        "    'id': ['count']\n",
        "}\n",
        "calls_count = calls.groupby(['user_id','month']).agg(agg_func).reset_index()\n",
        "display(calls_count)"
      ]
    },
    {
      "cell_type": "code",
      "execution_count": null,
      "metadata": {
        "id": "OwkhZjpkozKf"
      },
      "outputs": [],
      "source": [
        "calls_count.columns = ['user_id', 'month', 'calls_counted'] #назовем столбцы, как нам нужно"
      ]
    },
    {
      "cell_type": "code",
      "execution_count": null,
      "metadata": {
        "id": "_yjbWRaoozKg",
        "outputId": "84ab9771-5d33-416c-c361-a124bc37894e"
      },
      "outputs": [
        {
          "name": "stdout",
          "output_type": "stream",
          "text": [
            "<class 'pandas.core.frame.DataFrame'>\n",
            "RangeIndex: 3174 entries, 0 to 3173\n",
            "Data columns (total 3 columns):\n",
            "user_id          3174 non-null int64\n",
            "month            3174 non-null object\n",
            "calls_counted    3174 non-null int64\n",
            "dtypes: int64(2), object(1)\n",
            "memory usage: 74.5+ KB\n"
          ]
        },
        {
          "data": {
            "text/plain": [
              "None"
            ]
          },
          "metadata": {},
          "output_type": "display_data"
        }
      ],
      "source": [
        "display(calls_count.info())"
      ]
    },
    {
      "cell_type": "markdown",
      "source": [
        "посчитаем количество минут разговора в месяц у пользователя"
      ],
      "metadata": {
        "id": "v2ohNK89AK8t"
      }
    },
    {
      "cell_type": "code",
      "execution_count": null,
      "metadata": {
        "id": "jRRKOa_HozKg",
        "outputId": "3da8ddea-4035-465b-8f96-a79d28d1adcd"
      },
      "outputs": [
        {
          "data": {
            "text/html": [
              "<div>\n",
              "<style scoped>\n",
              "    .dataframe tbody tr th:only-of-type {\n",
              "        vertical-align: middle;\n",
              "    }\n",
              "\n",
              "    .dataframe tbody tr th {\n",
              "        vertical-align: top;\n",
              "    }\n",
              "\n",
              "    .dataframe thead tr th {\n",
              "        text-align: left;\n",
              "    }\n",
              "</style>\n",
              "<table border=\"1\" class=\"dataframe\">\n",
              "  <thead>\n",
              "    <tr>\n",
              "      <th></th>\n",
              "      <th>user_id</th>\n",
              "      <th>month</th>\n",
              "      <th>duration_minutes</th>\n",
              "    </tr>\n",
              "    <tr>\n",
              "      <th></th>\n",
              "      <th></th>\n",
              "      <th></th>\n",
              "      <th>sum</th>\n",
              "    </tr>\n",
              "  </thead>\n",
              "  <tbody>\n",
              "    <tr>\n",
              "      <td>0</td>\n",
              "      <td>1000</td>\n",
              "      <td>August</td>\n",
              "      <td>408</td>\n",
              "    </tr>\n",
              "    <tr>\n",
              "      <td>1</td>\n",
              "      <td>1000</td>\n",
              "      <td>December</td>\n",
              "      <td>333</td>\n",
              "    </tr>\n",
              "    <tr>\n",
              "      <td>2</td>\n",
              "      <td>1000</td>\n",
              "      <td>July</td>\n",
              "      <td>340</td>\n",
              "    </tr>\n",
              "    <tr>\n",
              "      <td>3</td>\n",
              "      <td>1000</td>\n",
              "      <td>June</td>\n",
              "      <td>172</td>\n",
              "    </tr>\n",
              "    <tr>\n",
              "      <td>4</td>\n",
              "      <td>1000</td>\n",
              "      <td>May</td>\n",
              "      <td>159</td>\n",
              "    </tr>\n",
              "    <tr>\n",
              "      <td>...</td>\n",
              "      <td>...</td>\n",
              "      <td>...</td>\n",
              "      <td>...</td>\n",
              "    </tr>\n",
              "    <tr>\n",
              "      <td>3169</td>\n",
              "      <td>1498</td>\n",
              "      <td>September</td>\n",
              "      <td>471</td>\n",
              "    </tr>\n",
              "    <tr>\n",
              "      <td>3170</td>\n",
              "      <td>1499</td>\n",
              "      <td>December</td>\n",
              "      <td>492</td>\n",
              "    </tr>\n",
              "    <tr>\n",
              "      <td>3171</td>\n",
              "      <td>1499</td>\n",
              "      <td>November</td>\n",
              "      <td>612</td>\n",
              "    </tr>\n",
              "    <tr>\n",
              "      <td>3172</td>\n",
              "      <td>1499</td>\n",
              "      <td>October</td>\n",
              "      <td>449</td>\n",
              "    </tr>\n",
              "    <tr>\n",
              "      <td>3173</td>\n",
              "      <td>1499</td>\n",
              "      <td>September</td>\n",
              "      <td>70</td>\n",
              "    </tr>\n",
              "  </tbody>\n",
              "</table>\n",
              "<p>3174 rows × 3 columns</p>\n",
              "</div>"
            ],
            "text/plain": [
              "     user_id      month duration_minutes\n",
              "                                     sum\n",
              "0       1000     August              408\n",
              "1       1000   December              333\n",
              "2       1000       July              340\n",
              "3       1000       June              172\n",
              "4       1000        May              159\n",
              "...      ...        ...              ...\n",
              "3169    1498  September              471\n",
              "3170    1499   December              492\n",
              "3171    1499   November              612\n",
              "3172    1499    October              449\n",
              "3173    1499  September               70\n",
              "\n",
              "[3174 rows x 3 columns]"
            ]
          },
          "metadata": {},
          "output_type": "display_data"
        }
      ],
      "source": [
        "agg_func = {\n",
        "    'duration_minutes': ['sum']\n",
        "}\n",
        "calls_sum = calls.groupby(['user_id','month']).agg(agg_func).reset_index()\n",
        "display(calls_sum)"
      ]
    },
    {
      "cell_type": "code",
      "execution_count": null,
      "metadata": {
        "id": "nj7vpABsozKh",
        "outputId": "40937da0-d72b-4220-fe6a-fb24c5d4412f"
      },
      "outputs": [
        {
          "name": "stdout",
          "output_type": "stream",
          "text": [
            "<class 'pandas.core.frame.DataFrame'>\n",
            "RangeIndex: 3174 entries, 0 to 3173\n",
            "Data columns (total 3 columns):\n",
            "user_id         3174 non-null int64\n",
            "month           3174 non-null object\n",
            "calls_summed    3174 non-null int64\n",
            "dtypes: int64(2), object(1)\n",
            "memory usage: 74.5+ KB\n"
          ]
        },
        {
          "data": {
            "text/plain": [
              "None"
            ]
          },
          "metadata": {},
          "output_type": "display_data"
        }
      ],
      "source": [
        "calls_sum.columns = ['user_id', 'month', 'calls_summed']\n",
        "display(calls_sum.info())"
      ]
    },
    {
      "cell_type": "code",
      "execution_count": null,
      "metadata": {
        "id": "-bCMjKPTozKh",
        "outputId": "c97f34da-95d1-4e74-abc6-23a74bc6725c"
      },
      "outputs": [
        {
          "data": {
            "text/html": [
              "<div>\n",
              "<style scoped>\n",
              "    .dataframe tbody tr th:only-of-type {\n",
              "        vertical-align: middle;\n",
              "    }\n",
              "\n",
              "    .dataframe tbody tr th {\n",
              "        vertical-align: top;\n",
              "    }\n",
              "\n",
              "    .dataframe thead th {\n",
              "        text-align: right;\n",
              "    }\n",
              "</style>\n",
              "<table border=\"1\" class=\"dataframe\">\n",
              "  <thead>\n",
              "    <tr style=\"text-align: right;\">\n",
              "      <th></th>\n",
              "      <th>Unnamed: 0</th>\n",
              "      <th>id</th>\n",
              "      <th>mb_used</th>\n",
              "      <th>session_date</th>\n",
              "      <th>user_id</th>\n",
              "    </tr>\n",
              "  </thead>\n",
              "  <tbody>\n",
              "    <tr>\n",
              "      <td>0</td>\n",
              "      <td>0</td>\n",
              "      <td>1000_0</td>\n",
              "      <td>112.95</td>\n",
              "      <td>2018-11-25</td>\n",
              "      <td>1000</td>\n",
              "    </tr>\n",
              "    <tr>\n",
              "      <td>1</td>\n",
              "      <td>1</td>\n",
              "      <td>1000_1</td>\n",
              "      <td>1052.81</td>\n",
              "      <td>2018-09-07</td>\n",
              "      <td>1000</td>\n",
              "    </tr>\n",
              "    <tr>\n",
              "      <td>2</td>\n",
              "      <td>2</td>\n",
              "      <td>1000_2</td>\n",
              "      <td>1197.26</td>\n",
              "      <td>2018-06-25</td>\n",
              "      <td>1000</td>\n",
              "    </tr>\n",
              "    <tr>\n",
              "      <td>3</td>\n",
              "      <td>3</td>\n",
              "      <td>1000_3</td>\n",
              "      <td>550.27</td>\n",
              "      <td>2018-08-22</td>\n",
              "      <td>1000</td>\n",
              "    </tr>\n",
              "    <tr>\n",
              "      <td>4</td>\n",
              "      <td>4</td>\n",
              "      <td>1000_4</td>\n",
              "      <td>302.56</td>\n",
              "      <td>2018-09-24</td>\n",
              "      <td>1000</td>\n",
              "    </tr>\n",
              "  </tbody>\n",
              "</table>\n",
              "</div>"
            ],
            "text/plain": [
              "   Unnamed: 0      id  mb_used session_date  user_id\n",
              "0           0  1000_0   112.95   2018-11-25     1000\n",
              "1           1  1000_1  1052.81   2018-09-07     1000\n",
              "2           2  1000_2  1197.26   2018-06-25     1000\n",
              "3           3  1000_3   550.27   2018-08-22     1000\n",
              "4           4  1000_4   302.56   2018-09-24     1000"
            ]
          },
          "metadata": {},
          "output_type": "display_data"
        },
        {
          "name": "stdout",
          "output_type": "stream",
          "text": [
            "<class 'pandas.core.frame.DataFrame'>\n",
            "RangeIndex: 149396 entries, 0 to 149395\n",
            "Data columns (total 5 columns):\n",
            "Unnamed: 0      149396 non-null int64\n",
            "id              149396 non-null object\n",
            "mb_used         149396 non-null float64\n",
            "session_date    149396 non-null object\n",
            "user_id         149396 non-null int64\n",
            "dtypes: float64(1), int64(2), object(2)\n",
            "memory usage: 5.7+ MB\n"
          ]
        }
      ],
      "source": [
        "\n",
        "display(internet.head())\n",
        "internet.info()"
      ]
    },
    {
      "cell_type": "code",
      "execution_count": null,
      "metadata": {
        "id": "dZIkkD6BozKi"
      },
      "outputs": [],
      "source": [
        "internet.drop('Unnamed: 0', axis=1, inplace=True) #избавимся от столбца unnamed"
      ]
    },
    {
      "cell_type": "code",
      "execution_count": null,
      "metadata": {
        "id": "xHXSUjUvozKi",
        "outputId": "ea339c59-e7dd-4246-aee3-dfe015cd9751"
      },
      "outputs": [
        {
          "data": {
            "text/html": [
              "<div>\n",
              "<style scoped>\n",
              "    .dataframe tbody tr th:only-of-type {\n",
              "        vertical-align: middle;\n",
              "    }\n",
              "\n",
              "    .dataframe tbody tr th {\n",
              "        vertical-align: top;\n",
              "    }\n",
              "\n",
              "    .dataframe thead th {\n",
              "        text-align: right;\n",
              "    }\n",
              "</style>\n",
              "<table border=\"1\" class=\"dataframe\">\n",
              "  <thead>\n",
              "    <tr style=\"text-align: right;\">\n",
              "      <th></th>\n",
              "      <th>id</th>\n",
              "      <th>mb_used</th>\n",
              "      <th>session_date</th>\n",
              "      <th>user_id</th>\n",
              "      <th>month</th>\n",
              "    </tr>\n",
              "  </thead>\n",
              "  <tbody>\n",
              "    <tr>\n",
              "      <td>0</td>\n",
              "      <td>1000_0</td>\n",
              "      <td>112.95</td>\n",
              "      <td>2018-11-25</td>\n",
              "      <td>1000</td>\n",
              "      <td>November</td>\n",
              "    </tr>\n",
              "    <tr>\n",
              "      <td>1</td>\n",
              "      <td>1000_1</td>\n",
              "      <td>1052.81</td>\n",
              "      <td>2018-09-07</td>\n",
              "      <td>1000</td>\n",
              "      <td>September</td>\n",
              "    </tr>\n",
              "    <tr>\n",
              "      <td>2</td>\n",
              "      <td>1000_2</td>\n",
              "      <td>1197.26</td>\n",
              "      <td>2018-06-25</td>\n",
              "      <td>1000</td>\n",
              "      <td>June</td>\n",
              "    </tr>\n",
              "    <tr>\n",
              "      <td>3</td>\n",
              "      <td>1000_3</td>\n",
              "      <td>550.27</td>\n",
              "      <td>2018-08-22</td>\n",
              "      <td>1000</td>\n",
              "      <td>August</td>\n",
              "    </tr>\n",
              "    <tr>\n",
              "      <td>4</td>\n",
              "      <td>1000_4</td>\n",
              "      <td>302.56</td>\n",
              "      <td>2018-09-24</td>\n",
              "      <td>1000</td>\n",
              "      <td>September</td>\n",
              "    </tr>\n",
              "  </tbody>\n",
              "</table>\n",
              "</div>"
            ],
            "text/plain": [
              "       id  mb_used session_date  user_id      month\n",
              "0  1000_0   112.95   2018-11-25     1000   November\n",
              "1  1000_1  1052.81   2018-09-07     1000  September\n",
              "2  1000_2  1197.26   2018-06-25     1000       June\n",
              "3  1000_3   550.27   2018-08-22     1000     August\n",
              "4  1000_4   302.56   2018-09-24     1000  September"
            ]
          },
          "metadata": {},
          "output_type": "display_data"
        }
      ],
      "source": [
        "internet['month'] = pd.DatetimeIndex(internet['session_date']).month_name()\n",
        "display(internet.head())"
      ]
    },
    {
      "cell_type": "markdown",
      "source": [
        "посчитаем, сколько использовано мб интернета в месяц у каждого пользователя"
      ],
      "metadata": {
        "id": "JBa0LLHlAXTd"
      }
    },
    {
      "cell_type": "code",
      "execution_count": null,
      "metadata": {
        "scrolled": true,
        "id": "IsFigDGiozKi",
        "outputId": "8fe3cb51-4ba3-4729-ce5f-ea93f1d22d17"
      },
      "outputs": [
        {
          "data": {
            "text/html": [
              "<div>\n",
              "<style scoped>\n",
              "    .dataframe tbody tr th:only-of-type {\n",
              "        vertical-align: middle;\n",
              "    }\n",
              "\n",
              "    .dataframe tbody tr th {\n",
              "        vertical-align: top;\n",
              "    }\n",
              "\n",
              "    .dataframe thead tr th {\n",
              "        text-align: left;\n",
              "    }\n",
              "</style>\n",
              "<table border=\"1\" class=\"dataframe\">\n",
              "  <thead>\n",
              "    <tr>\n",
              "      <th></th>\n",
              "      <th>user_id</th>\n",
              "      <th>month</th>\n",
              "      <th>mb_used</th>\n",
              "    </tr>\n",
              "    <tr>\n",
              "      <th></th>\n",
              "      <th></th>\n",
              "      <th></th>\n",
              "      <th>sum</th>\n",
              "    </tr>\n",
              "  </thead>\n",
              "  <tbody>\n",
              "    <tr>\n",
              "      <td>0</td>\n",
              "      <td>1000</td>\n",
              "      <td>August</td>\n",
              "      <td>14055.93</td>\n",
              "    </tr>\n",
              "    <tr>\n",
              "      <td>1</td>\n",
              "      <td>1000</td>\n",
              "      <td>December</td>\n",
              "      <td>9817.61</td>\n",
              "    </tr>\n",
              "    <tr>\n",
              "      <td>2</td>\n",
              "      <td>1000</td>\n",
              "      <td>July</td>\n",
              "      <td>14003.64</td>\n",
              "    </tr>\n",
              "    <tr>\n",
              "      <td>3</td>\n",
              "      <td>1000</td>\n",
              "      <td>June</td>\n",
              "      <td>23233.77</td>\n",
              "    </tr>\n",
              "    <tr>\n",
              "      <td>4</td>\n",
              "      <td>1000</td>\n",
              "      <td>May</td>\n",
              "      <td>2253.49</td>\n",
              "    </tr>\n",
              "    <tr>\n",
              "      <td>...</td>\n",
              "      <td>...</td>\n",
              "      <td>...</td>\n",
              "      <td>...</td>\n",
              "    </tr>\n",
              "    <tr>\n",
              "      <td>3198</td>\n",
              "      <td>1498</td>\n",
              "      <td>September</td>\n",
              "      <td>22134.41</td>\n",
              "    </tr>\n",
              "    <tr>\n",
              "      <td>3199</td>\n",
              "      <td>1499</td>\n",
              "      <td>December</td>\n",
              "      <td>13055.58</td>\n",
              "    </tr>\n",
              "    <tr>\n",
              "      <td>3200</td>\n",
              "      <td>1499</td>\n",
              "      <td>November</td>\n",
              "      <td>17963.31</td>\n",
              "    </tr>\n",
              "    <tr>\n",
              "      <td>3201</td>\n",
              "      <td>1499</td>\n",
              "      <td>October</td>\n",
              "      <td>17788.51</td>\n",
              "    </tr>\n",
              "    <tr>\n",
              "      <td>3202</td>\n",
              "      <td>1499</td>\n",
              "      <td>September</td>\n",
              "      <td>1845.75</td>\n",
              "    </tr>\n",
              "  </tbody>\n",
              "</table>\n",
              "<p>3203 rows × 3 columns</p>\n",
              "</div>"
            ],
            "text/plain": [
              "     user_id      month   mb_used\n",
              "                              sum\n",
              "0       1000     August  14055.93\n",
              "1       1000   December   9817.61\n",
              "2       1000       July  14003.64\n",
              "3       1000       June  23233.77\n",
              "4       1000        May   2253.49\n",
              "...      ...        ...       ...\n",
              "3198    1498  September  22134.41\n",
              "3199    1499   December  13055.58\n",
              "3200    1499   November  17963.31\n",
              "3201    1499    October  17788.51\n",
              "3202    1499  September   1845.75\n",
              "\n",
              "[3203 rows x 3 columns]"
            ]
          },
          "metadata": {},
          "output_type": "display_data"
        }
      ],
      "source": [
        "agg_func = {\n",
        "    'mb_used': ['sum']\n",
        "}\n",
        "internet_sum = internet.groupby(['user_id','month']).agg(agg_func).reset_index()\n",
        "\n",
        "display(internet_sum)"
      ]
    },
    {
      "cell_type": "code",
      "execution_count": null,
      "metadata": {
        "scrolled": true,
        "id": "gGmPe90_ozKi",
        "outputId": "f83f3a47-63b7-4471-e607-355835c1d0e0"
      },
      "outputs": [
        {
          "name": "stdout",
          "output_type": "stream",
          "text": [
            "<class 'pandas.core.frame.DataFrame'>\n",
            "RangeIndex: 3203 entries, 0 to 3202\n",
            "Data columns (total 3 columns):\n",
            "user_id           3203 non-null int64\n",
            "month             3203 non-null object\n",
            "mb_used_summed    3203 non-null float64\n",
            "dtypes: float64(1), int64(1), object(1)\n",
            "memory usage: 75.2+ KB\n"
          ]
        },
        {
          "data": {
            "text/plain": [
              "None"
            ]
          },
          "metadata": {},
          "output_type": "display_data"
        }
      ],
      "source": [
        "internet_sum.columns = ['user_id', 'month', 'mb_used_summed']\n",
        "display(internet_sum.info())"
      ]
    },
    {
      "cell_type": "code",
      "execution_count": null,
      "metadata": {
        "id": "4UW8OA1UozKj",
        "outputId": "4c40cf57-c2d8-4f18-bbc4-e284a5ec01f5"
      },
      "outputs": [
        {
          "data": {
            "text/html": [
              "<div>\n",
              "<style scoped>\n",
              "    .dataframe tbody tr th:only-of-type {\n",
              "        vertical-align: middle;\n",
              "    }\n",
              "\n",
              "    .dataframe tbody tr th {\n",
              "        vertical-align: top;\n",
              "    }\n",
              "\n",
              "    .dataframe thead th {\n",
              "        text-align: right;\n",
              "    }\n",
              "</style>\n",
              "<table border=\"1\" class=\"dataframe\">\n",
              "  <thead>\n",
              "    <tr style=\"text-align: right;\">\n",
              "      <th></th>\n",
              "      <th>id</th>\n",
              "      <th>message_date</th>\n",
              "      <th>user_id</th>\n",
              "    </tr>\n",
              "  </thead>\n",
              "  <tbody>\n",
              "    <tr>\n",
              "      <td>0</td>\n",
              "      <td>1000_0</td>\n",
              "      <td>2018-06-27</td>\n",
              "      <td>1000</td>\n",
              "    </tr>\n",
              "    <tr>\n",
              "      <td>1</td>\n",
              "      <td>1000_1</td>\n",
              "      <td>2018-10-08</td>\n",
              "      <td>1000</td>\n",
              "    </tr>\n",
              "    <tr>\n",
              "      <td>2</td>\n",
              "      <td>1000_2</td>\n",
              "      <td>2018-08-04</td>\n",
              "      <td>1000</td>\n",
              "    </tr>\n",
              "    <tr>\n",
              "      <td>3</td>\n",
              "      <td>1000_3</td>\n",
              "      <td>2018-06-16</td>\n",
              "      <td>1000</td>\n",
              "    </tr>\n",
              "    <tr>\n",
              "      <td>4</td>\n",
              "      <td>1000_4</td>\n",
              "      <td>2018-12-05</td>\n",
              "      <td>1000</td>\n",
              "    </tr>\n",
              "  </tbody>\n",
              "</table>\n",
              "</div>"
            ],
            "text/plain": [
              "       id message_date  user_id\n",
              "0  1000_0   2018-06-27     1000\n",
              "1  1000_1   2018-10-08     1000\n",
              "2  1000_2   2018-08-04     1000\n",
              "3  1000_3   2018-06-16     1000\n",
              "4  1000_4   2018-12-05     1000"
            ]
          },
          "metadata": {},
          "output_type": "display_data"
        },
        {
          "name": "stdout",
          "output_type": "stream",
          "text": [
            "<class 'pandas.core.frame.DataFrame'>\n",
            "RangeIndex: 123036 entries, 0 to 123035\n",
            "Data columns (total 3 columns):\n",
            "id              123036 non-null object\n",
            "message_date    123036 non-null object\n",
            "user_id         123036 non-null int64\n",
            "dtypes: int64(1), object(2)\n",
            "memory usage: 2.8+ MB\n"
          ]
        }
      ],
      "source": [
        "\n",
        "display(messages.head())\n",
        "messages.info()"
      ]
    },
    {
      "cell_type": "code",
      "execution_count": null,
      "metadata": {
        "id": "Z53DmFETozKj",
        "outputId": "f115ab1b-c29c-49b2-f22c-2134728c5587"
      },
      "outputs": [
        {
          "data": {
            "text/html": [
              "<div>\n",
              "<style scoped>\n",
              "    .dataframe tbody tr th:only-of-type {\n",
              "        vertical-align: middle;\n",
              "    }\n",
              "\n",
              "    .dataframe tbody tr th {\n",
              "        vertical-align: top;\n",
              "    }\n",
              "\n",
              "    .dataframe thead th {\n",
              "        text-align: right;\n",
              "    }\n",
              "</style>\n",
              "<table border=\"1\" class=\"dataframe\">\n",
              "  <thead>\n",
              "    <tr style=\"text-align: right;\">\n",
              "      <th></th>\n",
              "      <th>id</th>\n",
              "      <th>message_date</th>\n",
              "      <th>user_id</th>\n",
              "      <th>month</th>\n",
              "    </tr>\n",
              "  </thead>\n",
              "  <tbody>\n",
              "    <tr>\n",
              "      <td>0</td>\n",
              "      <td>1000_0</td>\n",
              "      <td>2018-06-27</td>\n",
              "      <td>1000</td>\n",
              "      <td>June</td>\n",
              "    </tr>\n",
              "    <tr>\n",
              "      <td>1</td>\n",
              "      <td>1000_1</td>\n",
              "      <td>2018-10-08</td>\n",
              "      <td>1000</td>\n",
              "      <td>October</td>\n",
              "    </tr>\n",
              "    <tr>\n",
              "      <td>2</td>\n",
              "      <td>1000_2</td>\n",
              "      <td>2018-08-04</td>\n",
              "      <td>1000</td>\n",
              "      <td>August</td>\n",
              "    </tr>\n",
              "    <tr>\n",
              "      <td>3</td>\n",
              "      <td>1000_3</td>\n",
              "      <td>2018-06-16</td>\n",
              "      <td>1000</td>\n",
              "      <td>June</td>\n",
              "    </tr>\n",
              "    <tr>\n",
              "      <td>4</td>\n",
              "      <td>1000_4</td>\n",
              "      <td>2018-12-05</td>\n",
              "      <td>1000</td>\n",
              "      <td>December</td>\n",
              "    </tr>\n",
              "  </tbody>\n",
              "</table>\n",
              "</div>"
            ],
            "text/plain": [
              "       id message_date  user_id     month\n",
              "0  1000_0   2018-06-27     1000      June\n",
              "1  1000_1   2018-10-08     1000   October\n",
              "2  1000_2   2018-08-04     1000    August\n",
              "3  1000_3   2018-06-16     1000      June\n",
              "4  1000_4   2018-12-05     1000  December"
            ]
          },
          "metadata": {},
          "output_type": "display_data"
        }
      ],
      "source": [
        "# добавим столбец с месяцами\n",
        "messages['month'] = pd.DatetimeIndex(messages['message_date']).month_name()\n",
        "display(messages.head())"
      ]
    },
    {
      "cell_type": "markdown",
      "source": [
        "посчитаем, сколько было сообщений в месяц у каждого пользователя"
      ],
      "metadata": {
        "id": "vZRUxouDAjzO"
      }
    },
    {
      "cell_type": "code",
      "execution_count": null,
      "metadata": {
        "id": "EiSbAu99ozKj",
        "outputId": "928dea25-80a9-400d-b77d-a36288e3db03"
      },
      "outputs": [
        {
          "data": {
            "text/html": [
              "<div>\n",
              "<style scoped>\n",
              "    .dataframe tbody tr th:only-of-type {\n",
              "        vertical-align: middle;\n",
              "    }\n",
              "\n",
              "    .dataframe tbody tr th {\n",
              "        vertical-align: top;\n",
              "    }\n",
              "\n",
              "    .dataframe thead tr th {\n",
              "        text-align: left;\n",
              "    }\n",
              "</style>\n",
              "<table border=\"1\" class=\"dataframe\">\n",
              "  <thead>\n",
              "    <tr>\n",
              "      <th></th>\n",
              "      <th>user_id</th>\n",
              "      <th>month</th>\n",
              "      <th>id</th>\n",
              "    </tr>\n",
              "    <tr>\n",
              "      <th></th>\n",
              "      <th></th>\n",
              "      <th></th>\n",
              "      <th>count</th>\n",
              "    </tr>\n",
              "  </thead>\n",
              "  <tbody>\n",
              "    <tr>\n",
              "      <td>0</td>\n",
              "      <td>1000</td>\n",
              "      <td>August</td>\n",
              "      <td>81</td>\n",
              "    </tr>\n",
              "    <tr>\n",
              "      <td>1</td>\n",
              "      <td>1000</td>\n",
              "      <td>December</td>\n",
              "      <td>70</td>\n",
              "    </tr>\n",
              "    <tr>\n",
              "      <td>2</td>\n",
              "      <td>1000</td>\n",
              "      <td>July</td>\n",
              "      <td>75</td>\n",
              "    </tr>\n",
              "    <tr>\n",
              "      <td>3</td>\n",
              "      <td>1000</td>\n",
              "      <td>June</td>\n",
              "      <td>60</td>\n",
              "    </tr>\n",
              "    <tr>\n",
              "      <td>4</td>\n",
              "      <td>1000</td>\n",
              "      <td>May</td>\n",
              "      <td>22</td>\n",
              "    </tr>\n",
              "    <tr>\n",
              "      <td>...</td>\n",
              "      <td>...</td>\n",
              "      <td>...</td>\n",
              "      <td>...</td>\n",
              "    </tr>\n",
              "    <tr>\n",
              "      <td>2712</td>\n",
              "      <td>1498</td>\n",
              "      <td>September</td>\n",
              "      <td>44</td>\n",
              "    </tr>\n",
              "    <tr>\n",
              "      <td>2713</td>\n",
              "      <td>1499</td>\n",
              "      <td>December</td>\n",
              "      <td>66</td>\n",
              "    </tr>\n",
              "    <tr>\n",
              "      <td>2714</td>\n",
              "      <td>1499</td>\n",
              "      <td>November</td>\n",
              "      <td>59</td>\n",
              "    </tr>\n",
              "    <tr>\n",
              "      <td>2715</td>\n",
              "      <td>1499</td>\n",
              "      <td>October</td>\n",
              "      <td>48</td>\n",
              "    </tr>\n",
              "    <tr>\n",
              "      <td>2716</td>\n",
              "      <td>1499</td>\n",
              "      <td>September</td>\n",
              "      <td>11</td>\n",
              "    </tr>\n",
              "  </tbody>\n",
              "</table>\n",
              "<p>2717 rows × 3 columns</p>\n",
              "</div>"
            ],
            "text/plain": [
              "     user_id      month    id\n",
              "                        count\n",
              "0       1000     August    81\n",
              "1       1000   December    70\n",
              "2       1000       July    75\n",
              "3       1000       June    60\n",
              "4       1000        May    22\n",
              "...      ...        ...   ...\n",
              "2712    1498  September    44\n",
              "2713    1499   December    66\n",
              "2714    1499   November    59\n",
              "2715    1499    October    48\n",
              "2716    1499  September    11\n",
              "\n",
              "[2717 rows x 3 columns]"
            ]
          },
          "metadata": {},
          "output_type": "display_data"
        }
      ],
      "source": [
        "agg_func = {\n",
        "    'id': ['count']\n",
        "}\n",
        "texts_count = messages.groupby(['user_id','month']).agg(agg_func).reset_index()\n",
        "\n",
        "display(texts_count)"
      ]
    },
    {
      "cell_type": "code",
      "execution_count": null,
      "metadata": {
        "id": "nWBnvoVoozKk",
        "outputId": "97a84c29-5a4e-4afa-ab06-0e3d585c7d53"
      },
      "outputs": [
        {
          "name": "stdout",
          "output_type": "stream",
          "text": [
            "<class 'pandas.core.frame.DataFrame'>\n",
            "RangeIndex: 2717 entries, 0 to 2716\n",
            "Data columns (total 3 columns):\n",
            "user_id          2717 non-null int64\n",
            "month            2717 non-null object\n",
            "texts_counted    2717 non-null int64\n",
            "dtypes: int64(2), object(1)\n",
            "memory usage: 63.8+ KB\n"
          ]
        },
        {
          "data": {
            "text/plain": [
              "None"
            ]
          },
          "metadata": {},
          "output_type": "display_data"
        }
      ],
      "source": [
        "texts_count.columns = ['user_id', 'month', 'texts_counted']\n",
        "display(texts_count.info())"
      ]
    },
    {
      "cell_type": "code",
      "execution_count": null,
      "metadata": {
        "id": "QCBzabnqozKk",
        "outputId": "55a47b05-2852-4fbd-94d0-43dd7a50821d"
      },
      "outputs": [
        {
          "name": "stdout",
          "output_type": "stream",
          "text": [
            "<class 'pandas.core.frame.DataFrame'>\n",
            "Int64Index: 3174 entries, 0 to 3173\n",
            "Data columns (total 4 columns):\n",
            "user_id          3174 non-null int64\n",
            "month            3174 non-null object\n",
            "calls_counted    3174 non-null int64\n",
            "calls_summed     3174 non-null int64\n",
            "dtypes: int64(3), object(1)\n",
            "memory usage: 124.0+ KB\n"
          ]
        },
        {
          "data": {
            "text/plain": [
              "None"
            ]
          },
          "metadata": {},
          "output_type": "display_data"
        }
      ],
      "source": [
        "data = calls_count.merge(calls_sum, on=['user_id', 'month'], how='outer') # соберем все столбцы вместе\n",
        "display(data.info())"
      ]
    },
    {
      "cell_type": "code",
      "execution_count": null,
      "metadata": {
        "id": "dJPpagvyozKk",
        "outputId": "f04372f2-7992-4bb4-a11c-08786069b2d7"
      },
      "outputs": [
        {
          "data": {
            "text/html": [
              "<div>\n",
              "<style scoped>\n",
              "    .dataframe tbody tr th:only-of-type {\n",
              "        vertical-align: middle;\n",
              "    }\n",
              "\n",
              "    .dataframe tbody tr th {\n",
              "        vertical-align: top;\n",
              "    }\n",
              "\n",
              "    .dataframe thead th {\n",
              "        text-align: right;\n",
              "    }\n",
              "</style>\n",
              "<table border=\"1\" class=\"dataframe\">\n",
              "  <thead>\n",
              "    <tr style=\"text-align: right;\">\n",
              "      <th></th>\n",
              "      <th>user_id</th>\n",
              "      <th>month</th>\n",
              "      <th>calls_counted</th>\n",
              "      <th>calls_summed</th>\n",
              "    </tr>\n",
              "  </thead>\n",
              "  <tbody>\n",
              "    <tr>\n",
              "      <td>0</td>\n",
              "      <td>1000</td>\n",
              "      <td>August</td>\n",
              "      <td>52</td>\n",
              "      <td>408</td>\n",
              "    </tr>\n",
              "    <tr>\n",
              "      <td>1</td>\n",
              "      <td>1000</td>\n",
              "      <td>December</td>\n",
              "      <td>46</td>\n",
              "      <td>333</td>\n",
              "    </tr>\n",
              "    <tr>\n",
              "      <td>2</td>\n",
              "      <td>1000</td>\n",
              "      <td>July</td>\n",
              "      <td>47</td>\n",
              "      <td>340</td>\n",
              "    </tr>\n",
              "    <tr>\n",
              "      <td>3</td>\n",
              "      <td>1000</td>\n",
              "      <td>June</td>\n",
              "      <td>43</td>\n",
              "      <td>172</td>\n",
              "    </tr>\n",
              "    <tr>\n",
              "      <td>4</td>\n",
              "      <td>1000</td>\n",
              "      <td>May</td>\n",
              "      <td>22</td>\n",
              "      <td>159</td>\n",
              "    </tr>\n",
              "  </tbody>\n",
              "</table>\n",
              "</div>"
            ],
            "text/plain": [
              "   user_id     month  calls_counted  calls_summed\n",
              "0     1000    August             52           408\n",
              "1     1000  December             46           333\n",
              "2     1000      July             47           340\n",
              "3     1000      June             43           172\n",
              "4     1000       May             22           159"
            ]
          },
          "metadata": {},
          "output_type": "display_data"
        }
      ],
      "source": [
        "display(data.head())"
      ]
    },
    {
      "cell_type": "code",
      "execution_count": null,
      "metadata": {
        "id": "Xi7FUjzYozKk",
        "outputId": "81aebb78-6a0d-4dff-83c2-d288c490ba1a"
      },
      "outputs": [
        {
          "name": "stdout",
          "output_type": "stream",
          "text": [
            "<class 'pandas.core.frame.DataFrame'>\n",
            "Int64Index: 3213 entries, 0 to 3212\n",
            "Data columns (total 5 columns):\n",
            "user_id          3213 non-null int64\n",
            "month            3213 non-null object\n",
            "calls_counted    3174 non-null float64\n",
            "calls_summed     3174 non-null float64\n",
            "texts_counted    2717 non-null float64\n",
            "dtypes: float64(3), int64(1), object(1)\n",
            "memory usage: 150.6+ KB\n"
          ]
        },
        {
          "data": {
            "text/plain": [
              "None"
            ]
          },
          "metadata": {},
          "output_type": "display_data"
        }
      ],
      "source": [
        "data = data.merge(texts_count, on=['user_id', 'month'], how='outer')\n",
        "display(data.info())"
      ]
    },
    {
      "cell_type": "code",
      "execution_count": null,
      "metadata": {
        "id": "pTURMEoFozKk",
        "outputId": "13ca1fe2-78b5-4ead-f82c-c2e200c09a55"
      },
      "outputs": [
        {
          "data": {
            "text/html": [
              "<div>\n",
              "<style scoped>\n",
              "    .dataframe tbody tr th:only-of-type {\n",
              "        vertical-align: middle;\n",
              "    }\n",
              "\n",
              "    .dataframe tbody tr th {\n",
              "        vertical-align: top;\n",
              "    }\n",
              "\n",
              "    .dataframe thead th {\n",
              "        text-align: right;\n",
              "    }\n",
              "</style>\n",
              "<table border=\"1\" class=\"dataframe\">\n",
              "  <thead>\n",
              "    <tr style=\"text-align: right;\">\n",
              "      <th></th>\n",
              "      <th>user_id</th>\n",
              "      <th>month</th>\n",
              "      <th>calls_counted</th>\n",
              "      <th>calls_summed</th>\n",
              "      <th>texts_counted</th>\n",
              "    </tr>\n",
              "  </thead>\n",
              "  <tbody>\n",
              "    <tr>\n",
              "      <td>0</td>\n",
              "      <td>1000</td>\n",
              "      <td>August</td>\n",
              "      <td>52.0</td>\n",
              "      <td>408.0</td>\n",
              "      <td>81.0</td>\n",
              "    </tr>\n",
              "    <tr>\n",
              "      <td>1</td>\n",
              "      <td>1000</td>\n",
              "      <td>December</td>\n",
              "      <td>46.0</td>\n",
              "      <td>333.0</td>\n",
              "      <td>70.0</td>\n",
              "    </tr>\n",
              "    <tr>\n",
              "      <td>2</td>\n",
              "      <td>1000</td>\n",
              "      <td>July</td>\n",
              "      <td>47.0</td>\n",
              "      <td>340.0</td>\n",
              "      <td>75.0</td>\n",
              "    </tr>\n",
              "    <tr>\n",
              "      <td>3</td>\n",
              "      <td>1000</td>\n",
              "      <td>June</td>\n",
              "      <td>43.0</td>\n",
              "      <td>172.0</td>\n",
              "      <td>60.0</td>\n",
              "    </tr>\n",
              "    <tr>\n",
              "      <td>4</td>\n",
              "      <td>1000</td>\n",
              "      <td>May</td>\n",
              "      <td>22.0</td>\n",
              "      <td>159.0</td>\n",
              "      <td>22.0</td>\n",
              "    </tr>\n",
              "  </tbody>\n",
              "</table>\n",
              "</div>"
            ],
            "text/plain": [
              "   user_id     month  calls_counted  calls_summed  texts_counted\n",
              "0     1000    August           52.0         408.0           81.0\n",
              "1     1000  December           46.0         333.0           70.0\n",
              "2     1000      July           47.0         340.0           75.0\n",
              "3     1000      June           43.0         172.0           60.0\n",
              "4     1000       May           22.0         159.0           22.0"
            ]
          },
          "metadata": {},
          "output_type": "display_data"
        }
      ],
      "source": [
        "display(data.head())"
      ]
    },
    {
      "cell_type": "code",
      "execution_count": null,
      "metadata": {
        "id": "zXlCtMauozKl",
        "outputId": "478181ab-cb0e-4ef5-e970-4d29a2ea87c9"
      },
      "outputs": [
        {
          "name": "stdout",
          "output_type": "stream",
          "text": [
            "<class 'pandas.core.frame.DataFrame'>\n",
            "Int64Index: 3214 entries, 0 to 3213\n",
            "Data columns (total 6 columns):\n",
            "user_id           3214 non-null int64\n",
            "month             3214 non-null object\n",
            "calls_counted     3174 non-null float64\n",
            "calls_summed      3174 non-null float64\n",
            "texts_counted     2717 non-null float64\n",
            "mb_used_summed    3203 non-null float64\n",
            "dtypes: float64(4), int64(1), object(1)\n",
            "memory usage: 175.8+ KB\n"
          ]
        },
        {
          "data": {
            "text/plain": [
              "None"
            ]
          },
          "metadata": {},
          "output_type": "display_data"
        }
      ],
      "source": [
        "data_final = data.merge(internet_sum, on=['user_id', 'month'], how='outer')\n",
        "display(data_final.info())"
      ]
    },
    {
      "cell_type": "code",
      "execution_count": null,
      "metadata": {
        "id": "Ea-Ju2FvozKl",
        "outputId": "b261ae32-e28a-49f3-edb7-b3a5591ed2c9"
      },
      "outputs": [
        {
          "data": {
            "text/html": [
              "<div>\n",
              "<style scoped>\n",
              "    .dataframe tbody tr th:only-of-type {\n",
              "        vertical-align: middle;\n",
              "    }\n",
              "\n",
              "    .dataframe tbody tr th {\n",
              "        vertical-align: top;\n",
              "    }\n",
              "\n",
              "    .dataframe thead th {\n",
              "        text-align: right;\n",
              "    }\n",
              "</style>\n",
              "<table border=\"1\" class=\"dataframe\">\n",
              "  <thead>\n",
              "    <tr style=\"text-align: right;\">\n",
              "      <th></th>\n",
              "      <th>user_id</th>\n",
              "      <th>month</th>\n",
              "      <th>calls_counted</th>\n",
              "      <th>calls_summed</th>\n",
              "      <th>texts_counted</th>\n",
              "      <th>mb_used_summed</th>\n",
              "    </tr>\n",
              "  </thead>\n",
              "  <tbody>\n",
              "    <tr>\n",
              "      <td>0</td>\n",
              "      <td>1000</td>\n",
              "      <td>August</td>\n",
              "      <td>52.0</td>\n",
              "      <td>408.0</td>\n",
              "      <td>81.0</td>\n",
              "      <td>14055.93</td>\n",
              "    </tr>\n",
              "    <tr>\n",
              "      <td>1</td>\n",
              "      <td>1000</td>\n",
              "      <td>December</td>\n",
              "      <td>46.0</td>\n",
              "      <td>333.0</td>\n",
              "      <td>70.0</td>\n",
              "      <td>9817.61</td>\n",
              "    </tr>\n",
              "    <tr>\n",
              "      <td>2</td>\n",
              "      <td>1000</td>\n",
              "      <td>July</td>\n",
              "      <td>47.0</td>\n",
              "      <td>340.0</td>\n",
              "      <td>75.0</td>\n",
              "      <td>14003.64</td>\n",
              "    </tr>\n",
              "    <tr>\n",
              "      <td>3</td>\n",
              "      <td>1000</td>\n",
              "      <td>June</td>\n",
              "      <td>43.0</td>\n",
              "      <td>172.0</td>\n",
              "      <td>60.0</td>\n",
              "      <td>23233.77</td>\n",
              "    </tr>\n",
              "    <tr>\n",
              "      <td>4</td>\n",
              "      <td>1000</td>\n",
              "      <td>May</td>\n",
              "      <td>22.0</td>\n",
              "      <td>159.0</td>\n",
              "      <td>22.0</td>\n",
              "      <td>2253.49</td>\n",
              "    </tr>\n",
              "  </tbody>\n",
              "</table>\n",
              "</div>"
            ],
            "text/plain": [
              "   user_id     month  calls_counted  calls_summed  texts_counted  \\\n",
              "0     1000    August           52.0         408.0           81.0   \n",
              "1     1000  December           46.0         333.0           70.0   \n",
              "2     1000      July           47.0         340.0           75.0   \n",
              "3     1000      June           43.0         172.0           60.0   \n",
              "4     1000       May           22.0         159.0           22.0   \n",
              "\n",
              "   mb_used_summed  \n",
              "0        14055.93  \n",
              "1         9817.61  \n",
              "2        14003.64  \n",
              "3        23233.77  \n",
              "4         2253.49  "
            ]
          },
          "metadata": {},
          "output_type": "display_data"
        }
      ],
      "source": [
        "display(data_final.head())"
      ]
    },
    {
      "cell_type": "code",
      "execution_count": null,
      "metadata": {
        "id": "_7sUvnEyozKl",
        "outputId": "3a3ffc04-1a43-40a6-a77c-d4e5745a4963"
      },
      "outputs": [
        {
          "data": {
            "text/plain": [
              "user_id             0\n",
              "month               0\n",
              "calls_counted      40\n",
              "calls_summed       40\n",
              "texts_counted     497\n",
              "mb_used_summed     11\n",
              "dtype: int64"
            ]
          },
          "metadata": {},
          "output_type": "display_data"
        }
      ],
      "source": [
        "display(data_final.isna().sum()) "
      ]
    },
    {
      "cell_type": "code",
      "execution_count": null,
      "metadata": {
        "id": "yqeKrMzTozKl",
        "outputId": "5d8d5fd3-a6cf-4a2c-9e26-d9f0646b38c3"
      },
      "outputs": [
        {
          "data": {
            "text/plain": [
              "(3214, 6)"
            ]
          },
          "execution_count": 64,
          "metadata": {},
          "output_type": "execute_result"
        }
      ],
      "source": [
        "data_final.shape"
      ]
    },
    {
      "cell_type": "code",
      "execution_count": null,
      "metadata": {
        "id": "MvFw3w4gozKl",
        "outputId": "31cf7cc6-ad68-4ae3-a2d9-6a59ee03d20e"
      },
      "outputs": [
        {
          "data": {
            "text/plain": [
              "498"
            ]
          },
          "execution_count": 65,
          "metadata": {},
          "output_type": "execute_result"
        }
      ],
      "source": [
        "data_final.user_id.nunique()"
      ]
    },
    {
      "cell_type": "code",
      "execution_count": null,
      "metadata": {
        "id": "WGoV9LVRozKm"
      },
      "outputs": [],
      "source": [
        "data_final['calls_counted'] = data_final['calls_counted'].fillna(0)\n",
        "data_final['calls_summed'] = data_final['calls_summed'].fillna(0)\n",
        "data_final['texts_counted'] = data_final['texts_counted'].fillna(0)\n",
        "data_final['mb_used_summed'] = data_final['mb_used_summed'].fillna(0)"
      ]
    },
    {
      "cell_type": "code",
      "execution_count": null,
      "metadata": {
        "id": "wKqkqLMeozKm",
        "outputId": "4f6acd9f-2b2c-4de4-db05-29d679460556"
      },
      "outputs": [
        {
          "data": {
            "text/html": [
              "<div>\n",
              "<style scoped>\n",
              "    .dataframe tbody tr th:only-of-type {\n",
              "        vertical-align: middle;\n",
              "    }\n",
              "\n",
              "    .dataframe tbody tr th {\n",
              "        vertical-align: top;\n",
              "    }\n",
              "\n",
              "    .dataframe thead th {\n",
              "        text-align: right;\n",
              "    }\n",
              "</style>\n",
              "<table border=\"1\" class=\"dataframe\">\n",
              "  <thead>\n",
              "    <tr style=\"text-align: right;\">\n",
              "      <th></th>\n",
              "      <th>user_id</th>\n",
              "      <th>month</th>\n",
              "      <th>calls_counted</th>\n",
              "      <th>calls_summed</th>\n",
              "      <th>texts_counted</th>\n",
              "      <th>mb_used_summed</th>\n",
              "    </tr>\n",
              "  </thead>\n",
              "  <tbody>\n",
              "    <tr>\n",
              "      <td>0</td>\n",
              "      <td>1000</td>\n",
              "      <td>August</td>\n",
              "      <td>52.0</td>\n",
              "      <td>408.0</td>\n",
              "      <td>81.0</td>\n",
              "      <td>14055.93</td>\n",
              "    </tr>\n",
              "    <tr>\n",
              "      <td>1</td>\n",
              "      <td>1000</td>\n",
              "      <td>December</td>\n",
              "      <td>46.0</td>\n",
              "      <td>333.0</td>\n",
              "      <td>70.0</td>\n",
              "      <td>9817.61</td>\n",
              "    </tr>\n",
              "    <tr>\n",
              "      <td>2</td>\n",
              "      <td>1000</td>\n",
              "      <td>July</td>\n",
              "      <td>47.0</td>\n",
              "      <td>340.0</td>\n",
              "      <td>75.0</td>\n",
              "      <td>14003.64</td>\n",
              "    </tr>\n",
              "    <tr>\n",
              "      <td>3</td>\n",
              "      <td>1000</td>\n",
              "      <td>June</td>\n",
              "      <td>43.0</td>\n",
              "      <td>172.0</td>\n",
              "      <td>60.0</td>\n",
              "      <td>23233.77</td>\n",
              "    </tr>\n",
              "    <tr>\n",
              "      <td>4</td>\n",
              "      <td>1000</td>\n",
              "      <td>May</td>\n",
              "      <td>22.0</td>\n",
              "      <td>159.0</td>\n",
              "      <td>22.0</td>\n",
              "      <td>2253.49</td>\n",
              "    </tr>\n",
              "  </tbody>\n",
              "</table>\n",
              "</div>"
            ],
            "text/plain": [
              "   user_id     month  calls_counted  calls_summed  texts_counted  \\\n",
              "0     1000    August           52.0         408.0           81.0   \n",
              "1     1000  December           46.0         333.0           70.0   \n",
              "2     1000      July           47.0         340.0           75.0   \n",
              "3     1000      June           43.0         172.0           60.0   \n",
              "4     1000       May           22.0         159.0           22.0   \n",
              "\n",
              "   mb_used_summed  \n",
              "0        14055.93  \n",
              "1         9817.61  \n",
              "2        14003.64  \n",
              "3        23233.77  \n",
              "4         2253.49  "
            ]
          },
          "metadata": {},
          "output_type": "display_data"
        }
      ],
      "source": [
        "\n",
        "display(data_final.head())"
      ]
    },
    {
      "cell_type": "code",
      "execution_count": null,
      "metadata": {
        "scrolled": true,
        "id": "mxv09a5QozKm",
        "outputId": "93dd300a-b598-4a6d-8a94-690724385131"
      },
      "outputs": [
        {
          "data": {
            "text/html": [
              "<div>\n",
              "<style scoped>\n",
              "    .dataframe tbody tr th:only-of-type {\n",
              "        vertical-align: middle;\n",
              "    }\n",
              "\n",
              "    .dataframe tbody tr th {\n",
              "        vertical-align: top;\n",
              "    }\n",
              "\n",
              "    .dataframe thead th {\n",
              "        text-align: right;\n",
              "    }\n",
              "</style>\n",
              "<table border=\"1\" class=\"dataframe\">\n",
              "  <thead>\n",
              "    <tr style=\"text-align: right;\">\n",
              "      <th></th>\n",
              "      <th>messages_included</th>\n",
              "      <th>mb_per_month_included</th>\n",
              "      <th>minutes_included</th>\n",
              "      <th>rub_monthly_fee</th>\n",
              "      <th>rub_per_gb</th>\n",
              "      <th>rub_per_message</th>\n",
              "      <th>rub_per_minute</th>\n",
              "      <th>tariff_name</th>\n",
              "    </tr>\n",
              "  </thead>\n",
              "  <tbody>\n",
              "    <tr>\n",
              "      <td>0</td>\n",
              "      <td>50</td>\n",
              "      <td>15360</td>\n",
              "      <td>500</td>\n",
              "      <td>550</td>\n",
              "      <td>200</td>\n",
              "      <td>3</td>\n",
              "      <td>3</td>\n",
              "      <td>smart</td>\n",
              "    </tr>\n",
              "    <tr>\n",
              "      <td>1</td>\n",
              "      <td>1000</td>\n",
              "      <td>30720</td>\n",
              "      <td>3000</td>\n",
              "      <td>1950</td>\n",
              "      <td>150</td>\n",
              "      <td>1</td>\n",
              "      <td>1</td>\n",
              "      <td>ultra</td>\n",
              "    </tr>\n",
              "  </tbody>\n",
              "</table>\n",
              "</div>"
            ],
            "text/plain": [
              "   messages_included  mb_per_month_included  minutes_included  \\\n",
              "0                 50                  15360               500   \n",
              "1               1000                  30720              3000   \n",
              "\n",
              "   rub_monthly_fee  rub_per_gb  rub_per_message  rub_per_minute tariff_name  \n",
              "0              550         200                3               3       smart  \n",
              "1             1950         150                1               1       ultra  "
            ]
          },
          "metadata": {},
          "output_type": "display_data"
        },
        {
          "name": "stdout",
          "output_type": "stream",
          "text": [
            "<class 'pandas.core.frame.DataFrame'>\n",
            "RangeIndex: 2 entries, 0 to 1\n",
            "Data columns (total 8 columns):\n",
            "messages_included        2 non-null int64\n",
            "mb_per_month_included    2 non-null int64\n",
            "minutes_included         2 non-null int64\n",
            "rub_monthly_fee          2 non-null int64\n",
            "rub_per_gb               2 non-null int64\n",
            "rub_per_message          2 non-null int64\n",
            "rub_per_minute           2 non-null int64\n",
            "tariff_name              2 non-null object\n",
            "dtypes: int64(7), object(1)\n",
            "memory usage: 256.0+ bytes\n"
          ]
        }
      ],
      "source": [
        "\n",
        "display(tariffs.head())\n",
        "tariffs.info()"
      ]
    },
    {
      "cell_type": "code",
      "execution_count": null,
      "metadata": {
        "id": "cM2e998lozKn",
        "outputId": "83f1503d-bc70-4cba-a0f8-84c4c3fe8d41"
      },
      "outputs": [
        {
          "data": {
            "text/html": [
              "<div>\n",
              "<style scoped>\n",
              "    .dataframe tbody tr th:only-of-type {\n",
              "        vertical-align: middle;\n",
              "    }\n",
              "\n",
              "    .dataframe tbody tr th {\n",
              "        vertical-align: top;\n",
              "    }\n",
              "\n",
              "    .dataframe thead th {\n",
              "        text-align: right;\n",
              "    }\n",
              "</style>\n",
              "<table border=\"1\" class=\"dataframe\">\n",
              "  <thead>\n",
              "    <tr style=\"text-align: right;\">\n",
              "      <th></th>\n",
              "      <th>user_id</th>\n",
              "      <th>age</th>\n",
              "      <th>churn_date</th>\n",
              "      <th>city</th>\n",
              "      <th>first_name</th>\n",
              "      <th>last_name</th>\n",
              "      <th>reg_date</th>\n",
              "      <th>tariff</th>\n",
              "    </tr>\n",
              "  </thead>\n",
              "  <tbody>\n",
              "    <tr>\n",
              "      <td>0</td>\n",
              "      <td>1000</td>\n",
              "      <td>52</td>\n",
              "      <td>NaN</td>\n",
              "      <td>Краснодар</td>\n",
              "      <td>Рафаил</td>\n",
              "      <td>Верещагин</td>\n",
              "      <td>2018-05-25</td>\n",
              "      <td>ultra</td>\n",
              "    </tr>\n",
              "    <tr>\n",
              "      <td>1</td>\n",
              "      <td>1001</td>\n",
              "      <td>41</td>\n",
              "      <td>NaN</td>\n",
              "      <td>Москва</td>\n",
              "      <td>Иван</td>\n",
              "      <td>Ежов</td>\n",
              "      <td>2018-11-01</td>\n",
              "      <td>smart</td>\n",
              "    </tr>\n",
              "    <tr>\n",
              "      <td>2</td>\n",
              "      <td>1002</td>\n",
              "      <td>59</td>\n",
              "      <td>NaN</td>\n",
              "      <td>Стерлитамак</td>\n",
              "      <td>Евгений</td>\n",
              "      <td>Абрамович</td>\n",
              "      <td>2018-06-17</td>\n",
              "      <td>smart</td>\n",
              "    </tr>\n",
              "    <tr>\n",
              "      <td>3</td>\n",
              "      <td>1003</td>\n",
              "      <td>23</td>\n",
              "      <td>NaN</td>\n",
              "      <td>Москва</td>\n",
              "      <td>Белла</td>\n",
              "      <td>Белякова</td>\n",
              "      <td>2018-08-17</td>\n",
              "      <td>ultra</td>\n",
              "    </tr>\n",
              "    <tr>\n",
              "      <td>4</td>\n",
              "      <td>1004</td>\n",
              "      <td>68</td>\n",
              "      <td>NaN</td>\n",
              "      <td>Новокузнецк</td>\n",
              "      <td>Татьяна</td>\n",
              "      <td>Авдеенко</td>\n",
              "      <td>2018-05-14</td>\n",
              "      <td>ultra</td>\n",
              "    </tr>\n",
              "  </tbody>\n",
              "</table>\n",
              "</div>"
            ],
            "text/plain": [
              "   user_id  age churn_date         city first_name  last_name    reg_date  \\\n",
              "0     1000   52        NaN    Краснодар     Рафаил  Верещагин  2018-05-25   \n",
              "1     1001   41        NaN       Москва       Иван       Ежов  2018-11-01   \n",
              "2     1002   59        NaN  Стерлитамак    Евгений  Абрамович  2018-06-17   \n",
              "3     1003   23        NaN       Москва      Белла   Белякова  2018-08-17   \n",
              "4     1004   68        NaN  Новокузнецк    Татьяна   Авдеенко  2018-05-14   \n",
              "\n",
              "  tariff  \n",
              "0  ultra  \n",
              "1  smart  \n",
              "2  smart  \n",
              "3  ultra  \n",
              "4  ultra  "
            ]
          },
          "metadata": {},
          "output_type": "display_data"
        },
        {
          "name": "stdout",
          "output_type": "stream",
          "text": [
            "<class 'pandas.core.frame.DataFrame'>\n",
            "RangeIndex: 500 entries, 0 to 499\n",
            "Data columns (total 8 columns):\n",
            "user_id       500 non-null int64\n",
            "age           500 non-null int64\n",
            "churn_date    38 non-null object\n",
            "city          500 non-null object\n",
            "first_name    500 non-null object\n",
            "last_name     500 non-null object\n",
            "reg_date      500 non-null object\n",
            "tariff        500 non-null object\n",
            "dtypes: int64(2), object(6)\n",
            "memory usage: 31.4+ KB\n"
          ]
        }
      ],
      "source": [
        "\n",
        "display(users.head())\n",
        "users.info()"
      ]
    },
    {
      "cell_type": "code",
      "execution_count": null,
      "metadata": {
        "id": "KLXvQL55ozKn",
        "outputId": "b2c3451d-5cb4-4a89-a982-fe90d2ed7660"
      },
      "outputs": [
        {
          "data": {
            "text/html": [
              "<div>\n",
              "<style scoped>\n",
              "    .dataframe tbody tr th:only-of-type {\n",
              "        vertical-align: middle;\n",
              "    }\n",
              "\n",
              "    .dataframe tbody tr th {\n",
              "        vertical-align: top;\n",
              "    }\n",
              "\n",
              "    .dataframe thead th {\n",
              "        text-align: right;\n",
              "    }\n",
              "</style>\n",
              "<table border=\"1\" class=\"dataframe\">\n",
              "  <thead>\n",
              "    <tr style=\"text-align: right;\">\n",
              "      <th></th>\n",
              "      <th>user_id</th>\n",
              "      <th>age</th>\n",
              "      <th>city</th>\n",
              "      <th>tariff</th>\n",
              "    </tr>\n",
              "  </thead>\n",
              "  <tbody>\n",
              "    <tr>\n",
              "      <td>0</td>\n",
              "      <td>1000</td>\n",
              "      <td>52</td>\n",
              "      <td>Краснодар</td>\n",
              "      <td>ultra</td>\n",
              "    </tr>\n",
              "    <tr>\n",
              "      <td>1</td>\n",
              "      <td>1001</td>\n",
              "      <td>41</td>\n",
              "      <td>Москва</td>\n",
              "      <td>smart</td>\n",
              "    </tr>\n",
              "    <tr>\n",
              "      <td>2</td>\n",
              "      <td>1002</td>\n",
              "      <td>59</td>\n",
              "      <td>Стерлитамак</td>\n",
              "      <td>smart</td>\n",
              "    </tr>\n",
              "    <tr>\n",
              "      <td>3</td>\n",
              "      <td>1003</td>\n",
              "      <td>23</td>\n",
              "      <td>Москва</td>\n",
              "      <td>ultra</td>\n",
              "    </tr>\n",
              "    <tr>\n",
              "      <td>4</td>\n",
              "      <td>1004</td>\n",
              "      <td>68</td>\n",
              "      <td>Новокузнецк</td>\n",
              "      <td>ultra</td>\n",
              "    </tr>\n",
              "    <tr>\n",
              "      <td>5</td>\n",
              "      <td>1005</td>\n",
              "      <td>67</td>\n",
              "      <td>Набережные Челны</td>\n",
              "      <td>smart</td>\n",
              "    </tr>\n",
              "    <tr>\n",
              "      <td>6</td>\n",
              "      <td>1006</td>\n",
              "      <td>21</td>\n",
              "      <td>Ульяновск</td>\n",
              "      <td>smart</td>\n",
              "    </tr>\n",
              "    <tr>\n",
              "      <td>7</td>\n",
              "      <td>1007</td>\n",
              "      <td>65</td>\n",
              "      <td>Москва</td>\n",
              "      <td>smart</td>\n",
              "    </tr>\n",
              "    <tr>\n",
              "      <td>8</td>\n",
              "      <td>1008</td>\n",
              "      <td>63</td>\n",
              "      <td>Челябинск</td>\n",
              "      <td>smart</td>\n",
              "    </tr>\n",
              "    <tr>\n",
              "      <td>9</td>\n",
              "      <td>1009</td>\n",
              "      <td>24</td>\n",
              "      <td>Пермь</td>\n",
              "      <td>smart</td>\n",
              "    </tr>\n",
              "  </tbody>\n",
              "</table>\n",
              "</div>"
            ],
            "text/plain": [
              "   user_id  age              city tariff\n",
              "0     1000   52         Краснодар  ultra\n",
              "1     1001   41            Москва  smart\n",
              "2     1002   59       Стерлитамак  smart\n",
              "3     1003   23            Москва  ultra\n",
              "4     1004   68       Новокузнецк  ultra\n",
              "5     1005   67  Набережные Челны  smart\n",
              "6     1006   21         Ульяновск  smart\n",
              "7     1007   65            Москва  smart\n",
              "8     1008   63         Челябинск  smart\n",
              "9     1009   24             Пермь  smart"
            ]
          },
          "metadata": {},
          "output_type": "display_data"
        }
      ],
      "source": [
        "users.drop('churn_date', axis=1, inplace=True)\n",
        "users.drop('first_name', axis=1, inplace=True)\n",
        "users.drop('last_name', axis=1, inplace=True)\n",
        "users.drop('reg_date', axis=1, inplace=True)\n",
        "display(users.head(10)) "
      ]
    },
    {
      "cell_type": "code",
      "execution_count": null,
      "metadata": {
        "scrolled": true,
        "id": "mQBrEzOXozKn",
        "outputId": "36edd76e-1424-45aa-d632-84bedd9f7d4d"
      },
      "outputs": [
        {
          "name": "stdout",
          "output_type": "stream",
          "text": [
            "<class 'pandas.core.frame.DataFrame'>\n",
            "Int64Index: 3216 entries, 0 to 3215\n",
            "Data columns (total 9 columns):\n",
            "user_id           3216 non-null int64\n",
            "month             3214 non-null object\n",
            "calls_counted     3214 non-null float64\n",
            "calls_summed      3214 non-null float64\n",
            "texts_counted     3214 non-null float64\n",
            "mb_used_summed    3214 non-null float64\n",
            "age               3216 non-null int64\n",
            "city              3216 non-null object\n",
            "tariff            3216 non-null object\n",
            "dtypes: float64(4), int64(2), object(3)\n",
            "memory usage: 251.2+ KB\n"
          ]
        },
        {
          "data": {
            "text/plain": [
              "None"
            ]
          },
          "metadata": {},
          "output_type": "display_data"
        }
      ],
      "source": [
        "#попробуем объединить таблицы\n",
        "df = data_final.merge(users, on=['user_id'], how='outer')\n",
        "\n",
        "display(df.info())"
      ]
    },
    {
      "cell_type": "code",
      "execution_count": null,
      "metadata": {
        "id": "XhvxfG6iozKn",
        "outputId": "15b30aa1-ff79-4d22-a769-4e224fcd733f"
      },
      "outputs": [
        {
          "data": {
            "text/html": [
              "<div>\n",
              "<style scoped>\n",
              "    .dataframe tbody tr th:only-of-type {\n",
              "        vertical-align: middle;\n",
              "    }\n",
              "\n",
              "    .dataframe tbody tr th {\n",
              "        vertical-align: top;\n",
              "    }\n",
              "\n",
              "    .dataframe thead th {\n",
              "        text-align: right;\n",
              "    }\n",
              "</style>\n",
              "<table border=\"1\" class=\"dataframe\">\n",
              "  <thead>\n",
              "    <tr style=\"text-align: right;\">\n",
              "      <th></th>\n",
              "      <th>user_id</th>\n",
              "      <th>month</th>\n",
              "      <th>calls_counted</th>\n",
              "      <th>calls_summed</th>\n",
              "      <th>texts_counted</th>\n",
              "      <th>mb_used_summed</th>\n",
              "      <th>age</th>\n",
              "      <th>city</th>\n",
              "      <th>tariff</th>\n",
              "    </tr>\n",
              "  </thead>\n",
              "  <tbody>\n",
              "    <tr>\n",
              "      <td>0</td>\n",
              "      <td>1000</td>\n",
              "      <td>August</td>\n",
              "      <td>52.0</td>\n",
              "      <td>408.0</td>\n",
              "      <td>81.0</td>\n",
              "      <td>14055.93</td>\n",
              "      <td>52</td>\n",
              "      <td>Краснодар</td>\n",
              "      <td>ultra</td>\n",
              "    </tr>\n",
              "    <tr>\n",
              "      <td>1</td>\n",
              "      <td>1000</td>\n",
              "      <td>December</td>\n",
              "      <td>46.0</td>\n",
              "      <td>333.0</td>\n",
              "      <td>70.0</td>\n",
              "      <td>9817.61</td>\n",
              "      <td>52</td>\n",
              "      <td>Краснодар</td>\n",
              "      <td>ultra</td>\n",
              "    </tr>\n",
              "    <tr>\n",
              "      <td>2</td>\n",
              "      <td>1000</td>\n",
              "      <td>July</td>\n",
              "      <td>47.0</td>\n",
              "      <td>340.0</td>\n",
              "      <td>75.0</td>\n",
              "      <td>14003.64</td>\n",
              "      <td>52</td>\n",
              "      <td>Краснодар</td>\n",
              "      <td>ultra</td>\n",
              "    </tr>\n",
              "    <tr>\n",
              "      <td>3</td>\n",
              "      <td>1000</td>\n",
              "      <td>June</td>\n",
              "      <td>43.0</td>\n",
              "      <td>172.0</td>\n",
              "      <td>60.0</td>\n",
              "      <td>23233.77</td>\n",
              "      <td>52</td>\n",
              "      <td>Краснодар</td>\n",
              "      <td>ultra</td>\n",
              "    </tr>\n",
              "    <tr>\n",
              "      <td>4</td>\n",
              "      <td>1000</td>\n",
              "      <td>May</td>\n",
              "      <td>22.0</td>\n",
              "      <td>159.0</td>\n",
              "      <td>22.0</td>\n",
              "      <td>2253.49</td>\n",
              "      <td>52</td>\n",
              "      <td>Краснодар</td>\n",
              "      <td>ultra</td>\n",
              "    </tr>\n",
              "  </tbody>\n",
              "</table>\n",
              "</div>"
            ],
            "text/plain": [
              "   user_id     month  calls_counted  calls_summed  texts_counted  \\\n",
              "0     1000    August           52.0         408.0           81.0   \n",
              "1     1000  December           46.0         333.0           70.0   \n",
              "2     1000      July           47.0         340.0           75.0   \n",
              "3     1000      June           43.0         172.0           60.0   \n",
              "4     1000       May           22.0         159.0           22.0   \n",
              "\n",
              "   mb_used_summed  age       city tariff  \n",
              "0        14055.93   52  Краснодар  ultra  \n",
              "1         9817.61   52  Краснодар  ultra  \n",
              "2        14003.64   52  Краснодар  ultra  \n",
              "3        23233.77   52  Краснодар  ultra  \n",
              "4         2253.49   52  Краснодар  ultra  "
            ]
          },
          "metadata": {},
          "output_type": "display_data"
        }
      ],
      "source": [
        "display(df.head())"
      ]
    },
    {
      "cell_type": "code",
      "execution_count": null,
      "metadata": {
        "id": "4l4yLm0GozKn",
        "outputId": "723030b7-cd76-406b-912f-08c866b58a76"
      },
      "outputs": [
        {
          "data": {
            "text/html": [
              "<div>\n",
              "<style scoped>\n",
              "    .dataframe tbody tr th:only-of-type {\n",
              "        vertical-align: middle;\n",
              "    }\n",
              "\n",
              "    .dataframe tbody tr th {\n",
              "        vertical-align: top;\n",
              "    }\n",
              "\n",
              "    .dataframe thead th {\n",
              "        text-align: right;\n",
              "    }\n",
              "</style>\n",
              "<table border=\"1\" class=\"dataframe\">\n",
              "  <thead>\n",
              "    <tr style=\"text-align: right;\">\n",
              "      <th></th>\n",
              "      <th>user_id</th>\n",
              "      <th>month</th>\n",
              "      <th>calls_counted</th>\n",
              "      <th>calls_summed</th>\n",
              "      <th>texts_counted</th>\n",
              "      <th>mb_used_summed</th>\n",
              "      <th>age</th>\n",
              "      <th>city</th>\n",
              "      <th>tariff</th>\n",
              "      <th>gb_used</th>\n",
              "    </tr>\n",
              "  </thead>\n",
              "  <tbody>\n",
              "    <tr>\n",
              "      <td>0</td>\n",
              "      <td>1000</td>\n",
              "      <td>August</td>\n",
              "      <td>52.0</td>\n",
              "      <td>408.0</td>\n",
              "      <td>81.0</td>\n",
              "      <td>14055.93</td>\n",
              "      <td>52</td>\n",
              "      <td>Краснодар</td>\n",
              "      <td>ultra</td>\n",
              "      <td>14.0</td>\n",
              "    </tr>\n",
              "    <tr>\n",
              "      <td>1</td>\n",
              "      <td>1000</td>\n",
              "      <td>December</td>\n",
              "      <td>46.0</td>\n",
              "      <td>333.0</td>\n",
              "      <td>70.0</td>\n",
              "      <td>9817.61</td>\n",
              "      <td>52</td>\n",
              "      <td>Краснодар</td>\n",
              "      <td>ultra</td>\n",
              "      <td>10.0</td>\n",
              "    </tr>\n",
              "    <tr>\n",
              "      <td>2</td>\n",
              "      <td>1000</td>\n",
              "      <td>July</td>\n",
              "      <td>47.0</td>\n",
              "      <td>340.0</td>\n",
              "      <td>75.0</td>\n",
              "      <td>14003.64</td>\n",
              "      <td>52</td>\n",
              "      <td>Краснодар</td>\n",
              "      <td>ultra</td>\n",
              "      <td>14.0</td>\n",
              "    </tr>\n",
              "    <tr>\n",
              "      <td>3</td>\n",
              "      <td>1000</td>\n",
              "      <td>June</td>\n",
              "      <td>43.0</td>\n",
              "      <td>172.0</td>\n",
              "      <td>60.0</td>\n",
              "      <td>23233.77</td>\n",
              "      <td>52</td>\n",
              "      <td>Краснодар</td>\n",
              "      <td>ultra</td>\n",
              "      <td>23.0</td>\n",
              "    </tr>\n",
              "    <tr>\n",
              "      <td>4</td>\n",
              "      <td>1000</td>\n",
              "      <td>May</td>\n",
              "      <td>22.0</td>\n",
              "      <td>159.0</td>\n",
              "      <td>22.0</td>\n",
              "      <td>2253.49</td>\n",
              "      <td>52</td>\n",
              "      <td>Краснодар</td>\n",
              "      <td>ultra</td>\n",
              "      <td>3.0</td>\n",
              "    </tr>\n",
              "  </tbody>\n",
              "</table>\n",
              "</div>"
            ],
            "text/plain": [
              "   user_id     month  calls_counted  calls_summed  texts_counted  \\\n",
              "0     1000    August           52.0         408.0           81.0   \n",
              "1     1000  December           46.0         333.0           70.0   \n",
              "2     1000      July           47.0         340.0           75.0   \n",
              "3     1000      June           43.0         172.0           60.0   \n",
              "4     1000       May           22.0         159.0           22.0   \n",
              "\n",
              "   mb_used_summed  age       city tariff  gb_used  \n",
              "0        14055.93   52  Краснодар  ultra     14.0  \n",
              "1         9817.61   52  Краснодар  ultra     10.0  \n",
              "2        14003.64   52  Краснодар  ultra     14.0  \n",
              "3        23233.77   52  Краснодар  ultra     23.0  \n",
              "4         2253.49   52  Краснодар  ultra      3.0  "
            ]
          },
          "metadata": {},
          "output_type": "display_data"
        }
      ],
      "source": [
        "df['gb_used'] = df['mb_used_summed'] / 1024 #сделаем гигабайты из мегабайтов\n",
        "df['gb_used'] = np.ceil(df['gb_used']) #округлим до большего числа\n",
        "#df['gb_used'] = df['gb_used'].astype('int')\n",
        "display(df.head())"
      ]
    },
    {
      "cell_type": "code",
      "execution_count": null,
      "metadata": {
        "id": "R691tptlozKo"
      },
      "outputs": [],
      "source": [
        "df.drop('mb_used_summed', axis=1, inplace=True)\n"
      ]
    },
    {
      "cell_type": "code",
      "execution_count": null,
      "metadata": {
        "id": "bXXjdY7PozKo",
        "outputId": "02144d0d-ae20-4dbd-8a94-59d2cb43b34a"
      },
      "outputs": [
        {
          "data": {
            "text/html": [
              "<div>\n",
              "<style scoped>\n",
              "    .dataframe tbody tr th:only-of-type {\n",
              "        vertical-align: middle;\n",
              "    }\n",
              "\n",
              "    .dataframe tbody tr th {\n",
              "        vertical-align: top;\n",
              "    }\n",
              "\n",
              "    .dataframe thead th {\n",
              "        text-align: right;\n",
              "    }\n",
              "</style>\n",
              "<table border=\"1\" class=\"dataframe\">\n",
              "  <thead>\n",
              "    <tr style=\"text-align: right;\">\n",
              "      <th></th>\n",
              "      <th>user_id</th>\n",
              "      <th>month</th>\n",
              "      <th>calls_counted</th>\n",
              "      <th>calls_summed</th>\n",
              "      <th>texts_counted</th>\n",
              "      <th>age</th>\n",
              "      <th>city</th>\n",
              "      <th>tariff</th>\n",
              "      <th>gb_used</th>\n",
              "    </tr>\n",
              "  </thead>\n",
              "  <tbody>\n",
              "    <tr>\n",
              "      <td>0</td>\n",
              "      <td>1000</td>\n",
              "      <td>August</td>\n",
              "      <td>52.0</td>\n",
              "      <td>408.0</td>\n",
              "      <td>81.0</td>\n",
              "      <td>52</td>\n",
              "      <td>Краснодар</td>\n",
              "      <td>ultra</td>\n",
              "      <td>14.0</td>\n",
              "    </tr>\n",
              "    <tr>\n",
              "      <td>1</td>\n",
              "      <td>1000</td>\n",
              "      <td>December</td>\n",
              "      <td>46.0</td>\n",
              "      <td>333.0</td>\n",
              "      <td>70.0</td>\n",
              "      <td>52</td>\n",
              "      <td>Краснодар</td>\n",
              "      <td>ultra</td>\n",
              "      <td>10.0</td>\n",
              "    </tr>\n",
              "    <tr>\n",
              "      <td>2</td>\n",
              "      <td>1000</td>\n",
              "      <td>July</td>\n",
              "      <td>47.0</td>\n",
              "      <td>340.0</td>\n",
              "      <td>75.0</td>\n",
              "      <td>52</td>\n",
              "      <td>Краснодар</td>\n",
              "      <td>ultra</td>\n",
              "      <td>14.0</td>\n",
              "    </tr>\n",
              "    <tr>\n",
              "      <td>3</td>\n",
              "      <td>1000</td>\n",
              "      <td>June</td>\n",
              "      <td>43.0</td>\n",
              "      <td>172.0</td>\n",
              "      <td>60.0</td>\n",
              "      <td>52</td>\n",
              "      <td>Краснодар</td>\n",
              "      <td>ultra</td>\n",
              "      <td>23.0</td>\n",
              "    </tr>\n",
              "    <tr>\n",
              "      <td>4</td>\n",
              "      <td>1000</td>\n",
              "      <td>May</td>\n",
              "      <td>22.0</td>\n",
              "      <td>159.0</td>\n",
              "      <td>22.0</td>\n",
              "      <td>52</td>\n",
              "      <td>Краснодар</td>\n",
              "      <td>ultra</td>\n",
              "      <td>3.0</td>\n",
              "    </tr>\n",
              "  </tbody>\n",
              "</table>\n",
              "</div>"
            ],
            "text/plain": [
              "   user_id     month  calls_counted  calls_summed  texts_counted  age  \\\n",
              "0     1000    August           52.0         408.0           81.0   52   \n",
              "1     1000  December           46.0         333.0           70.0   52   \n",
              "2     1000      July           47.0         340.0           75.0   52   \n",
              "3     1000      June           43.0         172.0           60.0   52   \n",
              "4     1000       May           22.0         159.0           22.0   52   \n",
              "\n",
              "        city tariff  gb_used  \n",
              "0  Краснодар  ultra     14.0  \n",
              "1  Краснодар  ultra     10.0  \n",
              "2  Краснодар  ultra     14.0  \n",
              "3  Краснодар  ultra     23.0  \n",
              "4  Краснодар  ultra      3.0  "
            ]
          },
          "metadata": {},
          "output_type": "display_data"
        }
      ],
      "source": [
        "display(df.head())"
      ]
    },
    {
      "cell_type": "code",
      "execution_count": null,
      "metadata": {
        "id": "6ywJfrsYozKo",
        "outputId": "bc757156-6399-485e-f865-e28cdf1ecb2f"
      },
      "outputs": [
        {
          "name": "stdout",
          "output_type": "stream",
          "text": [
            "<class 'pandas.core.frame.DataFrame'>\n",
            "Int64Index: 3216 entries, 0 to 3215\n",
            "Data columns (total 9 columns):\n",
            "user_id          3216 non-null int64\n",
            "month            3214 non-null object\n",
            "calls_counted    3214 non-null float64\n",
            "calls_summed     3214 non-null float64\n",
            "texts_counted    3214 non-null float64\n",
            "age              3216 non-null int64\n",
            "city             3216 non-null object\n",
            "tariff           3216 non-null object\n",
            "gb_used          3214 non-null float64\n",
            "dtypes: float64(4), int64(2), object(3)\n",
            "memory usage: 251.2+ KB\n"
          ]
        },
        {
          "data": {
            "text/plain": [
              "None"
            ]
          },
          "metadata": {},
          "output_type": "display_data"
        }
      ],
      "source": [
        "display(df.info())"
      ]
    },
    {
      "cell_type": "code",
      "execution_count": null,
      "metadata": {
        "id": "UEKAsVlEozKo",
        "outputId": "fb1e6847-4f97-4b26-ba3f-5049c3d27e3e"
      },
      "outputs": [
        {
          "name": "stdout",
          "output_type": "stream",
          "text": [
            "user_id          0\n",
            "month            2\n",
            "calls_counted    2\n",
            "calls_summed     2\n",
            "texts_counted    2\n",
            "age              0\n",
            "city             0\n",
            "tariff           0\n",
            "gb_used          2\n",
            "dtype: int64\n"
          ]
        }
      ],
      "source": [
        "print(df.isna().sum()) "
      ]
    },
    {
      "cell_type": "code",
      "execution_count": null,
      "metadata": {
        "id": "Be32FpbbozKo"
      },
      "outputs": [],
      "source": [
        "df['calls_counted'] = df['calls_counted'].fillna(0)\n",
        "df['calls_summed'] = df['calls_summed'].fillna(0)\n",
        "df['texts_counted'] = df['texts_counted'].fillna(0)\n",
        "df['gb_used'] = df['gb_used'].fillna(0)"
      ]
    },
    {
      "cell_type": "code",
      "execution_count": null,
      "metadata": {
        "id": "mI8hHkAfozKo"
      },
      "outputs": [],
      "source": [
        "df['calls_counted'] = df['calls_counted'].astype('int')\n",
        "df['calls_summed'] = df['calls_summed'].astype('int')\n",
        "df['texts_counted'] = df['texts_counted'].astype('int')\n",
        "df['gb_used'] = df['gb_used'].astype('int')"
      ]
    },
    {
      "cell_type": "markdown",
      "source": [
        "создадим функцию для расчета выручки в месяц с каждого пользователя: вычтем бесплатный лимит из суммарного количества звонков, сообщений и интернет-трафика; остаток умножим на значение из тарифного плана; прибавим абонентскую плату, соответствующую тарифному плану."
      ],
      "metadata": {
        "id": "p_loNARHBMrS"
      }
    },
    {
      "cell_type": "code",
      "execution_count": null,
      "metadata": {
        "id": "gosnbt5FozKo"
      },
      "outputs": [],
      "source": [
        "def reven (row ):\n",
        "    call = row['calls_summed']\n",
        "    message = row['texts_counted']\n",
        "    gb = row['gb_used']\n",
        "    tariff = row['tariff']\n",
        "\n",
        "    charge = 0\n",
        "    if tariff == 'smart':\n",
        "        if call > 500:       # для звонков\n",
        "            add_minute = (call-500)*3\n",
        "            charge+= add_minute\n",
        "        else:\n",
        "            charge+=0\n",
        "        if message > 50:     # для сообщений\n",
        "            add_message = (message-50)*3\n",
        "            charge+= add_message\n",
        "        else:\n",
        "            charge+=0\n",
        "        if gb > 15:          # для интернета\n",
        "            add_gb = (gb-15)*200\n",
        "            charge+= add_gb\n",
        "        else:\n",
        "            charge+=0\n",
        "        charge+=550         # прибавляем тариф\n",
        "    else:     # для тарифа Ultra\n",
        "        if call > 3000:\n",
        "            add_minutes = (call-3000)*1\n",
        "            charge+= add_minutes\n",
        "        else:\n",
        "            charge+=0\n",
        "        if message > 1000:\n",
        "            add_messages = (message-1000)*1\n",
        "            charge+= add_messages\n",
        "        else:\n",
        "            charge+=0\n",
        "        if gb > 30:          # для интернета\n",
        "            add_gb = (gb-30)*150\n",
        "            charge+= add_gb\n",
        "        else:\n",
        "            charge+=0\n",
        "        charge+=1950         # прибавляем тариф\n",
        "    return  charge\n",
        "df['revenue'] = df.apply(reven, axis = 1) "
      ]
    },
    {
      "cell_type": "code",
      "execution_count": null,
      "metadata": {
        "id": "1x7hhS81ozKp",
        "outputId": "0c683d6e-be19-4cec-eeab-37e6f46f97ad"
      },
      "outputs": [
        {
          "data": {
            "text/plain": [
              "count    3216.000000\n",
              "mean     1528.902674\n",
              "std       798.224060\n",
              "min       550.000000\n",
              "25%       750.000000\n",
              "50%      1653.500000\n",
              "75%      1950.000000\n",
              "max      6770.000000\n",
              "Name: revenue, dtype: float64"
            ]
          },
          "execution_count": 67,
          "metadata": {},
          "output_type": "execute_result"
        }
      ],
      "source": [
        "df['revenue'].describe()"
      ]
    },
    {
      "cell_type": "code",
      "execution_count": null,
      "metadata": {
        "id": "wL-2JoyYozKp",
        "outputId": "bd213fb4-09e6-489f-acfc-456cf716173e"
      },
      "outputs": [
        {
          "data": {
            "text/html": [
              "<div>\n",
              "<style scoped>\n",
              "    .dataframe tbody tr th:only-of-type {\n",
              "        vertical-align: middle;\n",
              "    }\n",
              "\n",
              "    .dataframe tbody tr th {\n",
              "        vertical-align: top;\n",
              "    }\n",
              "\n",
              "    .dataframe thead th {\n",
              "        text-align: right;\n",
              "    }\n",
              "</style>\n",
              "<table border=\"1\" class=\"dataframe\">\n",
              "  <thead>\n",
              "    <tr style=\"text-align: right;\">\n",
              "      <th></th>\n",
              "      <th>user_id</th>\n",
              "      <th>month</th>\n",
              "      <th>calls_counted</th>\n",
              "      <th>calls_summed</th>\n",
              "      <th>texts_counted</th>\n",
              "      <th>age</th>\n",
              "      <th>city</th>\n",
              "      <th>tariff</th>\n",
              "      <th>gb_used</th>\n",
              "      <th>revenue</th>\n",
              "    </tr>\n",
              "  </thead>\n",
              "  <tbody>\n",
              "    <tr>\n",
              "      <td>0</td>\n",
              "      <td>1000</td>\n",
              "      <td>August</td>\n",
              "      <td>52</td>\n",
              "      <td>408</td>\n",
              "      <td>81</td>\n",
              "      <td>52</td>\n",
              "      <td>Краснодар</td>\n",
              "      <td>ultra</td>\n",
              "      <td>14</td>\n",
              "      <td>1950</td>\n",
              "    </tr>\n",
              "    <tr>\n",
              "      <td>1</td>\n",
              "      <td>1000</td>\n",
              "      <td>December</td>\n",
              "      <td>46</td>\n",
              "      <td>333</td>\n",
              "      <td>70</td>\n",
              "      <td>52</td>\n",
              "      <td>Краснодар</td>\n",
              "      <td>ultra</td>\n",
              "      <td>10</td>\n",
              "      <td>1950</td>\n",
              "    </tr>\n",
              "    <tr>\n",
              "      <td>2</td>\n",
              "      <td>1000</td>\n",
              "      <td>July</td>\n",
              "      <td>47</td>\n",
              "      <td>340</td>\n",
              "      <td>75</td>\n",
              "      <td>52</td>\n",
              "      <td>Краснодар</td>\n",
              "      <td>ultra</td>\n",
              "      <td>14</td>\n",
              "      <td>1950</td>\n",
              "    </tr>\n",
              "    <tr>\n",
              "      <td>3</td>\n",
              "      <td>1000</td>\n",
              "      <td>June</td>\n",
              "      <td>43</td>\n",
              "      <td>172</td>\n",
              "      <td>60</td>\n",
              "      <td>52</td>\n",
              "      <td>Краснодар</td>\n",
              "      <td>ultra</td>\n",
              "      <td>23</td>\n",
              "      <td>1950</td>\n",
              "    </tr>\n",
              "    <tr>\n",
              "      <td>4</td>\n",
              "      <td>1000</td>\n",
              "      <td>May</td>\n",
              "      <td>22</td>\n",
              "      <td>159</td>\n",
              "      <td>22</td>\n",
              "      <td>52</td>\n",
              "      <td>Краснодар</td>\n",
              "      <td>ultra</td>\n",
              "      <td>3</td>\n",
              "      <td>1950</td>\n",
              "    </tr>\n",
              "    <tr>\n",
              "      <td>...</td>\n",
              "      <td>...</td>\n",
              "      <td>...</td>\n",
              "      <td>...</td>\n",
              "      <td>...</td>\n",
              "      <td>...</td>\n",
              "      <td>...</td>\n",
              "      <td>...</td>\n",
              "      <td>...</td>\n",
              "      <td>...</td>\n",
              "      <td>...</td>\n",
              "    </tr>\n",
              "    <tr>\n",
              "      <td>3211</td>\n",
              "      <td>1489</td>\n",
              "      <td>November</td>\n",
              "      <td>0</td>\n",
              "      <td>0</td>\n",
              "      <td>20</td>\n",
              "      <td>35</td>\n",
              "      <td>Санкт-Петербург</td>\n",
              "      <td>smart</td>\n",
              "      <td>18</td>\n",
              "      <td>1150</td>\n",
              "    </tr>\n",
              "    <tr>\n",
              "      <td>3212</td>\n",
              "      <td>1489</td>\n",
              "      <td>October</td>\n",
              "      <td>0</td>\n",
              "      <td>0</td>\n",
              "      <td>21</td>\n",
              "      <td>35</td>\n",
              "      <td>Санкт-Петербург</td>\n",
              "      <td>smart</td>\n",
              "      <td>20</td>\n",
              "      <td>1550</td>\n",
              "    </tr>\n",
              "    <tr>\n",
              "      <td>3213</td>\n",
              "      <td>1489</td>\n",
              "      <td>September</td>\n",
              "      <td>0</td>\n",
              "      <td>0</td>\n",
              "      <td>32</td>\n",
              "      <td>35</td>\n",
              "      <td>Санкт-Петербург</td>\n",
              "      <td>smart</td>\n",
              "      <td>17</td>\n",
              "      <td>950</td>\n",
              "    </tr>\n",
              "    <tr>\n",
              "      <td>3214</td>\n",
              "      <td>1128</td>\n",
              "      <td>NaN</td>\n",
              "      <td>0</td>\n",
              "      <td>0</td>\n",
              "      <td>0</td>\n",
              "      <td>51</td>\n",
              "      <td>Волжский</td>\n",
              "      <td>ultra</td>\n",
              "      <td>0</td>\n",
              "      <td>1950</td>\n",
              "    </tr>\n",
              "    <tr>\n",
              "      <td>3215</td>\n",
              "      <td>1371</td>\n",
              "      <td>NaN</td>\n",
              "      <td>0</td>\n",
              "      <td>0</td>\n",
              "      <td>0</td>\n",
              "      <td>50</td>\n",
              "      <td>Омск</td>\n",
              "      <td>smart</td>\n",
              "      <td>0</td>\n",
              "      <td>550</td>\n",
              "    </tr>\n",
              "  </tbody>\n",
              "</table>\n",
              "<p>3216 rows × 10 columns</p>\n",
              "</div>"
            ],
            "text/plain": [
              "      user_id      month  calls_counted  calls_summed  texts_counted  age  \\\n",
              "0        1000     August             52           408             81   52   \n",
              "1        1000   December             46           333             70   52   \n",
              "2        1000       July             47           340             75   52   \n",
              "3        1000       June             43           172             60   52   \n",
              "4        1000        May             22           159             22   52   \n",
              "...       ...        ...            ...           ...            ...  ...   \n",
              "3211     1489   November              0             0             20   35   \n",
              "3212     1489    October              0             0             21   35   \n",
              "3213     1489  September              0             0             32   35   \n",
              "3214     1128        NaN              0             0              0   51   \n",
              "3215     1371        NaN              0             0              0   50   \n",
              "\n",
              "                 city tariff  gb_used  revenue  \n",
              "0           Краснодар  ultra       14     1950  \n",
              "1           Краснодар  ultra       10     1950  \n",
              "2           Краснодар  ultra       14     1950  \n",
              "3           Краснодар  ultra       23     1950  \n",
              "4           Краснодар  ultra        3     1950  \n",
              "...               ...    ...      ...      ...  \n",
              "3211  Санкт-Петербург  smart       18     1150  \n",
              "3212  Санкт-Петербург  smart       20     1550  \n",
              "3213  Санкт-Петербург  smart       17      950  \n",
              "3214         Волжский  ultra        0     1950  \n",
              "3215             Омск  smart        0      550  \n",
              "\n",
              "[3216 rows x 10 columns]"
            ]
          },
          "metadata": {},
          "output_type": "display_data"
        }
      ],
      "source": [
        "display(df)"
      ]
    },
    {
      "cell_type": "markdown",
      "source": [
        "Посмотрим, как ведут себя пользователи тарифа ультра и тарифа смарт, создадим 2 таблицы"
      ],
      "metadata": {
        "id": "inNb1VriBlT4"
      }
    },
    {
      "cell_type": "code",
      "execution_count": null,
      "metadata": {
        "id": "U25XkhZyozKp",
        "outputId": "d3706b97-1d21-474d-ee6d-f2875186aa1f"
      },
      "outputs": [
        {
          "name": "stdout",
          "output_type": "stream",
          "text": [
            "<class 'pandas.core.frame.DataFrame'>\n",
            "Int64Index: 986 entries, 0 to 3214\n",
            "Data columns (total 10 columns):\n",
            "user_id          986 non-null int64\n",
            "month            985 non-null object\n",
            "calls_counted    986 non-null int64\n",
            "calls_summed     986 non-null int64\n",
            "texts_counted    986 non-null int64\n",
            "age              986 non-null int64\n",
            "city             986 non-null object\n",
            "tariff           986 non-null object\n",
            "gb_used          986 non-null int64\n",
            "revenue          986 non-null int64\n",
            "dtypes: int64(7), object(3)\n",
            "memory usage: 84.7+ KB\n"
          ]
        },
        {
          "data": {
            "text/plain": [
              "None"
            ]
          },
          "metadata": {},
          "output_type": "display_data"
        }
      ],
      "source": [
        "df_ultra = df.query('tariff == \"ultra\"')\n",
        "display(df_ultra.info())"
      ]
    },
    {
      "cell_type": "code",
      "execution_count": null,
      "metadata": {
        "id": "bZeAuBhQozKp",
        "outputId": "6f5ee5eb-9609-40e4-8cb5-351e7c25071f"
      },
      "outputs": [
        {
          "name": "stdout",
          "output_type": "stream",
          "text": [
            "<class 'pandas.core.frame.DataFrame'>\n",
            "Int64Index: 2230 entries, 8 to 3215\n",
            "Data columns (total 10 columns):\n",
            "user_id          2230 non-null int64\n",
            "month            2229 non-null object\n",
            "calls_counted    2230 non-null int64\n",
            "calls_summed     2230 non-null int64\n",
            "texts_counted    2230 non-null int64\n",
            "age              2230 non-null int64\n",
            "city             2230 non-null object\n",
            "tariff           2230 non-null object\n",
            "gb_used          2230 non-null int64\n",
            "revenue          2230 non-null int64\n",
            "dtypes: int64(7), object(3)\n",
            "memory usage: 191.6+ KB\n"
          ]
        },
        {
          "data": {
            "text/plain": [
              "None"
            ]
          },
          "metadata": {},
          "output_type": "display_data"
        }
      ],
      "source": [
        "df_smart = df.query('tariff == \"smart\"')\n",
        "display(df_smart.info())"
      ]
    },
    {
      "cell_type": "code",
      "execution_count": null,
      "metadata": {
        "id": "Q8LoA2JWozKq",
        "outputId": "edc52da4-8568-4d94-e779-e2163e960535"
      },
      "outputs": [
        {
          "data": {
            "image/png": "[encoded data removed]",
            "text/plain": [
              "<Figure size 432x288 with 1 Axes>"
            ]
          },
          "metadata": {
            "needs_background": "light"
          },
          "output_type": "display_data"
        }
      ],
      "source": [
        "sns_plot = sns.distplot(df_ultra['calls_summed'])\n",
        "ultra_calls = sns_plot.get_figure()"
      ]
    },
    {
      "cell_type": "code",
      "execution_count": null,
      "metadata": {
        "id": "WhC3qnF8ozKq",
        "outputId": "32b44d98-b82c-45b0-dc80-24cd46703ddd"
      },
      "outputs": [
        {
          "data": {
            "image/png": "[encoded data removed]",
            "text/plain": [
              "<Figure size 432x288 with 1 Axes>"
            ]
          },
          "metadata": {
            "needs_background": "light"
          },
          "output_type": "display_data"
        }
      ],
      "source": [
        "sns_plot = sns.distplot(df_ultra['texts_counted'])\n",
        "ultra_texts = sns_plot.get_figure()"
      ]
    },
    {
      "cell_type": "code",
      "execution_count": null,
      "metadata": {
        "id": "r4iV8xc2ozKq",
        "outputId": "9f87e560-8e2d-4277-f587-f5948dc26644"
      },
      "outputs": [
        {
          "data": {
            "image/png": "[encoded data removed]",
            "text/plain": [
              "<Figure size 432x288 with 1 Axes>"
            ]
          },
          "metadata": {
            "needs_background": "light"
          },
          "output_type": "display_data"
        }
      ],
      "source": [
        "sns_plot = sns.distplot(df_ultra['gb_used'])\n",
        "ultra_gb = sns_plot.get_figure()"
      ]
    },
    {
      "cell_type": "code",
      "execution_count": null,
      "metadata": {
        "id": "K-TDC4IzozKq",
        "outputId": "9f114f7b-4c2f-41b8-c4da-dbfd18fd044d"
      },
      "outputs": [
        {
          "data": {
            "image/png": "[encoded data removed]",
            "text/plain": [
              "<Figure size 432x288 with 1 Axes>"
            ]
          },
          "metadata": {
            "needs_background": "light"
          },
          "output_type": "display_data"
        }
      ],
      "source": [
        "sns_plot = sns.distplot(df_smart['calls_summed'])\n",
        "smart_calls = sns_plot.get_figure()"
      ]
    },
    {
      "cell_type": "code",
      "execution_count": null,
      "metadata": {
        "id": "aR6ExB3MozKr",
        "outputId": "b9e0d894-9040-4727-d181-7a69abff2164"
      },
      "outputs": [
        {
          "data": {
            "image/png": "[encoded data removed]",
            "text/plain": [
              "<Figure size 432x288 with 1 Axes>"
            ]
          },
          "metadata": {
            "needs_background": "light"
          },
          "output_type": "display_data"
        }
      ],
      "source": [
        "sns_plot = sns.distplot(df_smart['texts_counted'])\n",
        "smart_texts = sns_plot.get_figure()"
      ]
    },
    {
      "cell_type": "code",
      "execution_count": null,
      "metadata": {
        "id": "ytTzCg_XozKr",
        "outputId": "bf51efa0-2af2-4e50-fd64-d853ada34a0a"
      },
      "outputs": [
        {
          "data": {
            "image/png": "[encoded data removed]",
            "text/plain": [
              "<Figure size 432x288 with 1 Axes>"
            ]
          },
          "metadata": {
            "needs_background": "light"
          },
          "output_type": "display_data"
        }
      ],
      "source": [
        "sns_plot = sns.distplot(df_smart['gb_used'])\n",
        "smart_gb = sns_plot.get_figure()"
      ]
    },
    {
      "cell_type": "code",
      "execution_count": null,
      "metadata": {
        "id": "ppqjrlkAozKr",
        "outputId": "c069043c-646b-40a4-cb37-382ec78c90bd"
      },
      "outputs": [
        {
          "name": "stdout",
          "output_type": "stream",
          "text": [
            "среднее количество минут разговора:  526.0892494929006\n",
            "стандартное отклонение:  317.8875485911392\n",
            "дисперсия:  101052.49354928387\n"
          ]
        }
      ],
      "source": [
        "print('среднее количество минут разговора: ', df_ultra['calls_summed'].mean()) #среднее количество минут разговора у абонентов ультра\n",
        "variance = np.var(df_ultra['calls_summed'], ddof=1)\n",
        "standard_deviation = np.std(df_ultra['calls_summed'], ddof=1)\n",
        "print('стандартное отклонение: ',standard_deviation)\n",
        "print('дисперсия: ',variance) "
      ]
    },
    {
      "cell_type": "code",
      "execution_count": null,
      "metadata": {
        "id": "Lp6BVxm0ozKr",
        "outputId": "277effb6-a400-4a06-fcbd-02b1f05a2dd7"
      },
      "outputs": [
        {
          "name": "stdout",
          "output_type": "stream",
          "text": [
            "среднее количество сообщений:  49.31338742393509\n",
            "стандартное отклонение:  47.80603962530092\n",
            "дисперсия:  2285.4174246558414\n"
          ]
        }
      ],
      "source": [
        "print('среднее количество сообщений: ', df_ultra['texts_counted'].mean()) #среднее количество сообщений у абонентов ультра\n",
        "variance_texts = np.var(df_ultra['texts_counted'], ddof=1)\n",
        "standard_deviation_texts = np.std(df_ultra['texts_counted'], ddof=1)\n",
        "print('стандартное отклонение: ', standard_deviation_texts)\n",
        "print('дисперсия: ', variance_texts) "
      ]
    },
    {
      "cell_type": "code",
      "execution_count": null,
      "metadata": {
        "id": "-e2rEo-rozKr",
        "outputId": "dc1763df-4280-4d7f-d0c8-29d7bab21c0b"
      },
      "outputs": [
        {
          "name": "stdout",
          "output_type": "stream",
          "text": [
            "среднее количество гб:  19.474645030425965\n",
            "стандартное отклонение:  9.868056763624352\n",
            "дисперсия:  97.37854429011234\n"
          ]
        }
      ],
      "source": [
        "print('среднее количество гб: ', df_ultra['gb_used'].mean()) #среднее количество траффика у абонентов ультра\n",
        "variance_gb = np.var(df_ultra['gb_used'], ddof=1)\n",
        "standard_deviation_gb = np.std(df_ultra['gb_used'], ddof=1)\n",
        "print('стандартное отклонение: ', standard_deviation_gb)\n",
        "print('дисперсия: ', variance_gb) "
      ]
    },
    {
      "cell_type": "code",
      "execution_count": null,
      "metadata": {
        "id": "uaBjUvSuozKs",
        "outputId": "b59666f8-63ec-4b24-abc4-02a13210d149"
      },
      "outputs": [
        {
          "name": "stdout",
          "output_type": "stream",
          "text": [
            "среднее количество минут разговора:  417.747533632287\n",
            "стандартное отклонение:  190.4767540579285\n",
            "дисперсия:  36281.393836444586\n"
          ]
        }
      ],
      "source": [
        "print('среднее количество минут разговора: ', df_smart['calls_summed'].mean()) #среднее количество минут разговора у абонентов смарт\n",
        "variance_calls_smart = np.var(df_smart['calls_summed'], ddof=1)\n",
        "standard_deviation_calls_smart = np.std(df_smart['calls_summed'], ddof=1)\n",
        "print('стандартное отклонение: ', standard_deviation_calls_smart)\n",
        "print('дисперсия: ', variance_calls_smart) "
      ]
    },
    {
      "cell_type": "code",
      "execution_count": null,
      "metadata": {
        "id": "VuaCG0EnozKs",
        "outputId": "8cc53f7e-597e-4cad-dfc8-2574dbca8885"
      },
      "outputs": [
        {
          "name": "stdout",
          "output_type": "stream",
          "text": [
            "среднее количество сообщений:  33.36905829596412\n",
            "стандартное отклонение:  28.230395954185852\n",
            "дисперсия:  796.955255730113\n"
          ]
        }
      ],
      "source": [
        "print('среднее количество сообщений: ', df_smart['texts_counted'].mean()) #среднее количество сообщений у абонентов смарт\n",
        "variance_texts_smart = np.var(df_smart['texts_counted'], ddof=1)\n",
        "standard_deviation_texts_smart = np.std(df_smart['texts_counted'], ddof=1)\n",
        "print('стандартное отклонение: ', standard_deviation_texts_smart)\n",
        "print('дисперсия: ', variance_texts_smart) "
      ]
    },
    {
      "cell_type": "code",
      "execution_count": null,
      "metadata": {
        "id": "5ryT_PLCozKs",
        "outputId": "54a36049-c61b-4c40-9dc8-1186c1db8504"
      },
      "outputs": [
        {
          "name": "stdout",
          "output_type": "stream",
          "text": [
            "среднее количество гб:  16.32152466367713\n",
            "стандартное отклонение:  5.7561665225657155\n",
            "дисперсия:  33.133453035506285\n"
          ]
        }
      ],
      "source": [
        "print('среднее количество гб: ', df_smart['gb_used'].mean()) #среднее количество траффика у абонентов смарт\n",
        "variance_gb_smart = np.var(df_smart['gb_used'], ddof=1)\n",
        "standard_deviation_gb_smart = np.std(df_smart['gb_used'], ddof=1)\n",
        "print('стандартное отклонение: ', standard_deviation_gb_smart)\n",
        "print('дисперсия: ', variance_gb_smart) "
      ]
    },
    {
      "cell_type": "markdown",
      "metadata": {
        "id": "QEUXP81zozKs"
      },
      "source": [
        "Низкие значения стандартного отклонения говорят о том, что отдельные значения ближе к среднему. \n",
        "Высокие значения говорят нам о том, что отдельные наблюдения далеки от среднего значения данных.\n",
        "\n",
        "Разброс значений в количестве сообщений и в минутах разговора обоих тарифов достаточно велико.\n",
        "\n",
        "вывод: абоненты ультра больше звонят, пишут сообщений и используют больше гб мобильного интернета, чем абоненты смарт"
      ]
    },
    {
      "cell_type": "markdown",
      "metadata": {
        "id": "ULH-QhK6ozKt"
      },
      "source": [
        "Нулевая гипотеза всегда формулируется так, чтобы использовать знак равенства."
      ]
    },
    {
      "cell_type": "markdown",
      "metadata": {
        "id": "CA3l4777ozKt"
      },
      "source": [
        "Нулевая гипотеза: средняя выручка пользователей из Москвы не отличается от средней выручки пользователей из других регионов.\n",
        "Альтернативная гипотеза: средняя выручка пользователей из Москвы отличается от средней выручки пользователей из других регионов."
      ]
    },
    {
      "cell_type": "code",
      "execution_count": null,
      "metadata": {
        "id": "LgKjA9qkozKt",
        "outputId": "3a4c72e0-a4b1-477d-e0c0-3ccef6b7031a"
      },
      "outputs": [
        {
          "name": "stdout",
          "output_type": "stream",
          "text": [
            "p-значение:  0.5400751614511182\n",
            "Не получилось отвергнуть нулевую гипотезу\n"
          ]
        }
      ],
      "source": [
        "alpha = .05 \n",
        "sample_1 = df.query('city == \"Москва\"')['revenue']\n",
        "sample_2 =df.query('city != \"Москва\"')['revenue']\n",
        "results = st.ttest_ind(\n",
        "    sample_1, \n",
        "    sample_2)\n",
        "print('p-значение: ', results.pvalue)\n",
        "\n",
        "if results.pvalue < alpha:\n",
        "    print(\"Отвергаем нулевую гипотезу\")\n",
        "else:\n",
        "    print(\"Не получилось отвергнуть нулевую гипотезу\")"
      ]
    },
    {
      "cell_type": "markdown",
      "metadata": {
        "id": "ms9awroFozKt"
      },
      "source": [
        "Чтобы понять почему, ниже я привожу данные о количестве пользователей из Москвы и из других регионов. Так как пользователей из Москвы всего 611, то вывод верен: средняя выручка пользователей из Москвы не отличается от средней выручки пользователей из других регионов."
      ]
    },
    {
      "cell_type": "code",
      "execution_count": null,
      "metadata": {
        "id": "qlptcFl_ozKt",
        "outputId": "110afb3e-3279-4d63-ab25-d4056973a79b"
      },
      "outputs": [
        {
          "name": "stdout",
          "output_type": "stream",
          "text": [
            "<class 'pandas.core.frame.DataFrame'>\n",
            "Int64Index: 611 entries, 8 to 3124\n",
            "Data columns (total 10 columns):\n",
            "user_id          611 non-null int64\n",
            "month            611 non-null object\n",
            "calls_counted    611 non-null int64\n",
            "calls_summed     611 non-null int64\n",
            "texts_counted    611 non-null int64\n",
            "age              611 non-null int64\n",
            "city             611 non-null object\n",
            "tariff           611 non-null object\n",
            "gb_used          611 non-null int64\n",
            "revenue          611 non-null int64\n",
            "dtypes: int64(7), object(3)\n",
            "memory usage: 52.5+ KB\n",
            "1546.7135842880523\n"
          ]
        }
      ],
      "source": [
        "df_moscow = df.query('city == \"Москва\"')\n",
        "df_moscow.info()\n",
        "print(df_moscow['revenue'].mean())"
      ]
    },
    {
      "cell_type": "code",
      "execution_count": null,
      "metadata": {
        "id": "FXN3VOc8ozKt",
        "outputId": "0e2a81aa-ac5d-4a49-fe03-edc925f7e059"
      },
      "outputs": [
        {
          "name": "stdout",
          "output_type": "stream",
          "text": [
            "<class 'pandas.core.frame.DataFrame'>\n",
            "Int64Index: 2605 entries, 0 to 3215\n",
            "Data columns (total 10 columns):\n",
            "user_id          2605 non-null int64\n",
            "month            2603 non-null object\n",
            "calls_counted    2605 non-null int64\n",
            "calls_summed     2605 non-null int64\n",
            "texts_counted    2605 non-null int64\n",
            "age              2605 non-null int64\n",
            "city             2605 non-null object\n",
            "tariff           2605 non-null object\n",
            "gb_used          2605 non-null int64\n",
            "revenue          2605 non-null int64\n",
            "dtypes: int64(7), object(3)\n",
            "memory usage: 223.9+ KB\n",
            "1524.7251439539348\n"
          ]
        }
      ],
      "source": [
        "df_others = df.query('city != \"Москва\"')\n",
        "df_others.info()\n",
        "print(df_others['revenue'].mean())"
      ]
    },
    {
      "cell_type": "markdown",
      "metadata": {
        "id": "s9VEORJbozKt"
      },
      "source": [
        "Нулевая гипотеза: средняя выручка пользователей тарифа Ультра не отличается от средней выручки пользователей тарифа Смарт.\n",
        "Альтернативная гипотеза: средняя выручка пользователей тарифа Ультра отличается от средй выручки пользователей тарифа Смарт.\n",
        "Так как выборки разного размера (количество пользователей тарифа Смарт - 2230, тарифа Ультра - 986), то я введу параметр equal_var = False."
      ]
    },
    {
      "cell_type": "code",
      "execution_count": null,
      "metadata": {
        "id": "N5IeHwuaozKu",
        "outputId": "c4a24c23-0314-4a86-86f6-0174ce36c2e5"
      },
      "outputs": [
        {
          "name": "stdout",
          "output_type": "stream",
          "text": [
            "p-значение:  1.927011394420941e-250\n",
            "Отвергаем нулевую гипотезу\n"
          ]
        }
      ],
      "source": [
        "alpha = .05 \n",
        "sample_smart = df.query('tariff == \"smart\"')['revenue']\n",
        "sample_ultra =df.query('tariff == \"ultra\"')['revenue']\n",
        "results = st.ttest_ind(\n",
        "    sample_smart, \n",
        "    sample_ultra,\n",
        "    equal_var = False)\n",
        "print('p-значение: ', results.pvalue)\n",
        "\n",
        "if results.pvalue < alpha:\n",
        "    print(\"Отвергаем нулевую гипотезу\")\n",
        "else:\n",
        "    print(\"Не получилось отвергнуть нулевую гипотезу\")"
      ]
    },
    {
      "cell_type": "markdown",
      "metadata": {
        "id": "kIFJQf0UozKu"
      },
      "source": [
        "Вывод: средняя выручка пользователей тарифа Ультра отличается от средй выручки пользователей тарифа Смарт."
      ]
    },
    {
      "cell_type": "code",
      "execution_count": null,
      "metadata": {
        "id": "95zdqKf3ozKu",
        "outputId": "3a201c9b-a128-4f22-c81a-08363cf810ae"
      },
      "outputs": [
        {
          "name": "stdout",
          "output_type": "stream",
          "text": [
            "2041050\n"
          ]
        }
      ],
      "source": [
        "print(df_ultra['revenue'].sum())"
      ]
    },
    {
      "cell_type": "code",
      "execution_count": null,
      "metadata": {
        "id": "Pb_zRT0sozKu",
        "outputId": "5a22d692-5071-4d27-cd45-bf460deb617b"
      },
      "outputs": [
        {
          "name": "stdout",
          "output_type": "stream",
          "text": [
            "2875901\n"
          ]
        }
      ],
      "source": [
        "print(df_smart['revenue'].sum())"
      ]
    },
    {
      "cell_type": "code",
      "execution_count": null,
      "metadata": {
        "id": "BYLs8eVMozKu",
        "outputId": "55c6eda9-0bc6-4dcc-f408-06fb7a075824"
      },
      "outputs": [
        {
          "name": "stdout",
          "output_type": "stream",
          "text": [
            "2070.030425963489\n"
          ]
        }
      ],
      "source": [
        "print(df_ultra['revenue'].mean())"
      ]
    },
    {
      "cell_type": "code",
      "execution_count": null,
      "metadata": {
        "id": "Fn3nTs56ozKu",
        "outputId": "b49218ae-e5cd-465c-bec2-d24816f3381e"
      },
      "outputs": [
        {
          "name": "stdout",
          "output_type": "stream",
          "text": [
            "1289.6417040358745\n"
          ]
        }
      ],
      "source": [
        "print(df_smart['revenue'].mean())"
      ]
    },
    {
      "cell_type": "markdown",
      "metadata": {
        "id": "YRHQN1QHozKv"
      },
      "source": [
        "Чтобы скорректировать рекламный бюджет, коммерческий департамент хочет понять, какой тариф приносит больше денег."
      ]
    },
    {
      "cell_type": "markdown",
      "metadata": {
        "id": "h0omstXxozKv"
      },
      "source": [
        "Вывод:\n",
        "\n",
        "Тариф Смарт приносит больше денег: \n",
        "1) он достаточно дешевый, поэтому большее количество людей им пользуется (2230 против 986 у тарифа Ультра), в результате в сумме за 2018 год он принес больше денег компании, чем тариф Ультра \n",
        "\n",
        "2) ежемесячная плата составляет 550 р, при подсчете средней выручки пользователей тарифа Смарт получается, что каждый пользователей в среднем тратит около 1290 р в месяц, что составляет более 100% от ежемесяной платы (у тарифа Ультра при ежемесячно плате в 1950 р, средняя выручка составляет 2070 р)"
      ]
    },
    {
      "cell_type": "code",
      "execution_count": null,
      "metadata": {
        "id": "VQ9JsCJYozKv"
      },
      "outputs": [],
      "source": [
        ""
      ]
    }
  ],
  "metadata": {
    "ExecuteTimeLog": [
      {
        "duration": 708,
        "start_time": "2021-12-27T12:20:37.025Z"
      },
      {
        "duration": 139,
        "start_time": "2021-12-27T12:21:18.696Z"
      },
      {
        "duration": 93,
        "start_time": "2021-12-27T12:23:07.285Z"
      },
      {
        "duration": 200,
        "start_time": "2021-12-27T12:23:19.415Z"
      },
      {
        "duration": 190,
        "start_time": "2021-12-27T12:23:28.896Z"
      },
      {
        "duration": 147,
        "start_time": "2021-12-27T12:23:55.814Z"
      },
      {
        "duration": 106,
        "start_time": "2021-12-27T12:24:09.630Z"
      },
      {
        "duration": 25,
        "start_time": "2021-12-27T12:24:55.725Z"
      },
      {
        "duration": 36,
        "start_time": "2021-12-27T12:26:34.921Z"
      },
      {
        "duration": 3,
        "start_time": "2021-12-27T12:31:15.743Z"
      },
      {
        "duration": 162,
        "start_time": "2021-12-27T12:31:18.317Z"
      },
      {
        "duration": 151,
        "start_time": "2021-12-27T12:31:21.281Z"
      },
      {
        "duration": 100,
        "start_time": "2021-12-27T12:31:23.716Z"
      },
      {
        "duration": 24,
        "start_time": "2021-12-27T12:31:26.291Z"
      },
      {
        "duration": 36,
        "start_time": "2021-12-27T12:31:29.599Z"
      },
      {
        "duration": 36,
        "start_time": "2021-12-27T12:31:33.954Z"
      },
      {
        "duration": 35,
        "start_time": "2021-12-27T12:31:36.596Z"
      },
      {
        "duration": 36,
        "start_time": "2021-12-27T12:31:39.184Z"
      },
      {
        "duration": 3,
        "start_time": "2021-12-27T13:04:27.396Z"
      },
      {
        "duration": 582,
        "start_time": "2021-12-27T13:04:36.772Z"
      },
      {
        "duration": 191,
        "start_time": "2021-12-27T13:04:37.356Z"
      },
      {
        "duration": 163,
        "start_time": "2021-12-27T13:04:37.550Z"
      },
      {
        "duration": 105,
        "start_time": "2021-12-27T13:04:37.715Z"
      },
      {
        "duration": 25,
        "start_time": "2021-12-27T13:04:37.822Z"
      },
      {
        "duration": 96,
        "start_time": "2021-12-27T13:04:37.849Z"
      },
      {
        "duration": 30,
        "start_time": "2021-12-27T13:13:10.448Z"
      },
      {
        "duration": 30,
        "start_time": "2021-12-27T13:14:15.120Z"
      },
      {
        "duration": 36,
        "start_time": "2021-12-27T13:15:02.629Z"
      },
      {
        "duration": 94,
        "start_time": "2021-12-27T13:25:21.064Z"
      },
      {
        "duration": 59,
        "start_time": "2021-12-27T13:31:09.929Z"
      },
      {
        "duration": 81,
        "start_time": "2021-12-27T13:32:35.559Z"
      },
      {
        "duration": 45,
        "start_time": "2021-12-27T13:56:27.473Z"
      },
      {
        "duration": 14,
        "start_time": "2021-12-27T13:56:45.962Z"
      },
      {
        "duration": 15,
        "start_time": "2021-12-27T13:57:36.207Z"
      },
      {
        "duration": 23,
        "start_time": "2021-12-27T13:58:07.185Z"
      },
      {
        "duration": 13,
        "start_time": "2021-12-27T13:58:28.683Z"
      },
      {
        "duration": 110,
        "start_time": "2021-12-27T13:59:21.936Z"
      },
      {
        "duration": 18,
        "start_time": "2021-12-27T13:59:36.817Z"
      },
      {
        "duration": 189,
        "start_time": "2021-12-27T14:04:12.796Z"
      },
      {
        "duration": 194,
        "start_time": "2021-12-27T14:04:21.860Z"
      },
      {
        "duration": 54,
        "start_time": "2021-12-27T14:04:31.083Z"
      },
      {
        "duration": 52,
        "start_time": "2021-12-27T14:07:00.295Z"
      },
      {
        "duration": 50,
        "start_time": "2021-12-27T14:07:04.451Z"
      },
      {
        "duration": 53,
        "start_time": "2021-12-27T14:07:28.164Z"
      },
      {
        "duration": 58,
        "start_time": "2021-12-27T14:13:17.480Z"
      },
      {
        "duration": 10,
        "start_time": "2021-12-27T14:14:55.747Z"
      },
      {
        "duration": 44,
        "start_time": "2021-12-27T14:15:09.851Z"
      },
      {
        "duration": 54,
        "start_time": "2021-12-27T14:15:17.861Z"
      },
      {
        "duration": 42,
        "start_time": "2021-12-27T14:16:14.074Z"
      },
      {
        "duration": 55,
        "start_time": "2021-12-27T14:19:05.122Z"
      },
      {
        "duration": 62,
        "start_time": "2021-12-27T14:24:16.893Z"
      },
      {
        "duration": 74,
        "start_time": "2021-12-27T14:24:51.296Z"
      },
      {
        "duration": 72,
        "start_time": "2021-12-27T14:25:35.952Z"
      },
      {
        "duration": 14,
        "start_time": "2021-12-27T14:31:19.575Z"
      },
      {
        "duration": 73,
        "start_time": "2021-12-27T14:31:22.322Z"
      },
      {
        "duration": 43,
        "start_time": "2021-12-27T14:35:30.120Z"
      },
      {
        "duration": 62,
        "start_time": "2021-12-27T14:36:06.653Z"
      },
      {
        "duration": 549,
        "start_time": "2021-12-28T12:56:09.687Z"
      },
      {
        "duration": 159,
        "start_time": "2021-12-28T12:56:10.238Z"
      },
      {
        "duration": 31,
        "start_time": "2021-12-28T12:56:10.399Z"
      },
      {
        "duration": 79,
        "start_time": "2021-12-28T12:56:10.432Z"
      },
      {
        "duration": 147,
        "start_time": "2021-12-28T12:56:10.513Z"
      },
      {
        "duration": 8,
        "start_time": "2021-12-28T12:56:10.661Z"
      },
      {
        "duration": 72,
        "start_time": "2021-12-28T12:56:10.670Z"
      },
      {
        "duration": 93,
        "start_time": "2021-12-28T12:56:10.743Z"
      },
      {
        "duration": 52,
        "start_time": "2021-12-28T12:56:10.838Z"
      },
      {
        "duration": 35,
        "start_time": "2021-12-28T12:56:10.891Z"
      },
      {
        "duration": 69,
        "start_time": "2021-12-28T12:56:10.927Z"
      },
      {
        "duration": 74,
        "start_time": "2021-12-28T12:56:10.998Z"
      },
      {
        "duration": 55,
        "start_time": "2021-12-28T12:56:11.073Z"
      },
      {
        "duration": 47,
        "start_time": "2021-12-28T12:56:11.129Z"
      },
      {
        "duration": 57,
        "start_time": "2021-12-28T12:56:11.177Z"
      },
      {
        "duration": 17,
        "start_time": "2021-12-28T13:21:54.533Z"
      },
      {
        "duration": 20,
        "start_time": "2021-12-28T13:22:55.943Z"
      },
      {
        "duration": 11,
        "start_time": "2021-12-28T13:23:25.302Z"
      },
      {
        "duration": 337,
        "start_time": "2021-12-28T13:23:50.104Z"
      },
      {
        "duration": 536,
        "start_time": "2021-12-28T13:24:08.782Z"
      },
      {
        "duration": 165,
        "start_time": "2021-12-28T13:24:09.319Z"
      },
      {
        "duration": 41,
        "start_time": "2021-12-28T13:24:09.486Z"
      },
      {
        "duration": 82,
        "start_time": "2021-12-28T13:24:09.529Z"
      },
      {
        "duration": 144,
        "start_time": "2021-12-28T13:24:09.612Z"
      },
      {
        "duration": 9,
        "start_time": "2021-12-28T13:24:09.758Z"
      },
      {
        "duration": 81,
        "start_time": "2021-12-28T13:24:09.768Z"
      },
      {
        "duration": 99,
        "start_time": "2021-12-28T13:24:09.852Z"
      },
      {
        "duration": 54,
        "start_time": "2021-12-28T13:24:09.952Z"
      },
      {
        "duration": 29,
        "start_time": "2021-12-28T13:24:10.008Z"
      },
      {
        "duration": 47,
        "start_time": "2021-12-28T13:24:10.039Z"
      },
      {
        "duration": 20,
        "start_time": "2021-12-28T13:24:10.088Z"
      },
      {
        "duration": 11,
        "start_time": "2021-12-28T13:24:10.109Z"
      },
      {
        "duration": 78,
        "start_time": "2021-12-28T13:24:10.122Z"
      },
      {
        "duration": 62,
        "start_time": "2021-12-28T13:24:10.201Z"
      },
      {
        "duration": 51,
        "start_time": "2021-12-28T13:24:10.264Z"
      },
      {
        "duration": 51,
        "start_time": "2021-12-28T13:24:10.317Z"
      },
      {
        "duration": 19,
        "start_time": "2021-12-28T13:27:01.688Z"
      },
      {
        "duration": 17,
        "start_time": "2021-12-28T13:27:46.709Z"
      },
      {
        "duration": 5,
        "start_time": "2021-12-28T13:50:38.243Z"
      },
      {
        "duration": 372,
        "start_time": "2021-12-28T13:50:48.734Z"
      },
      {
        "duration": 5,
        "start_time": "2021-12-28T13:50:58.122Z"
      },
      {
        "duration": 14,
        "start_time": "2021-12-28T13:51:17.091Z"
      },
      {
        "duration": 14,
        "start_time": "2021-12-28T13:51:30.467Z"
      },
      {
        "duration": 14,
        "start_time": "2021-12-28T13:53:16.803Z"
      },
      {
        "duration": 20,
        "start_time": "2021-12-28T13:54:07.511Z"
      },
      {
        "duration": 17,
        "start_time": "2021-12-28T13:54:25.257Z"
      },
      {
        "duration": 15,
        "start_time": "2021-12-28T13:54:38.598Z"
      },
      {
        "duration": 53,
        "start_time": "2021-12-28T14:07:50.958Z"
      },
      {
        "duration": 18,
        "start_time": "2021-12-28T14:10:14.387Z"
      },
      {
        "duration": 21,
        "start_time": "2021-12-28T14:11:35.647Z"
      },
      {
        "duration": 19,
        "start_time": "2021-12-28T14:13:08.969Z"
      },
      {
        "duration": 104,
        "start_time": "2021-12-28T14:18:11.691Z"
      },
      {
        "duration": 10,
        "start_time": "2021-12-28T14:18:19.521Z"
      },
      {
        "duration": 17,
        "start_time": "2021-12-28T14:19:13.002Z"
      },
      {
        "duration": 284,
        "start_time": "2021-12-28T14:19:29.907Z"
      },
      {
        "duration": 271,
        "start_time": "2021-12-28T14:20:32.435Z"
      },
      {
        "duration": 276,
        "start_time": "2021-12-28T14:20:38.905Z"
      },
      {
        "duration": 20,
        "start_time": "2021-12-28T14:21:26.468Z"
      },
      {
        "duration": 278,
        "start_time": "2021-12-28T14:22:07.091Z"
      },
      {
        "duration": 307,
        "start_time": "2021-12-28T14:23:27.075Z"
      },
      {
        "duration": 2033,
        "start_time": "2021-12-28T14:24:33.772Z"
      },
      {
        "duration": 415,
        "start_time": "2021-12-28T14:24:48.172Z"
      },
      {
        "duration": 283,
        "start_time": "2021-12-28T14:25:59.445Z"
      },
      {
        "duration": 18,
        "start_time": "2021-12-28T14:26:08.067Z"
      },
      {
        "duration": 438,
        "start_time": "2021-12-28T14:29:47.443Z"
      },
      {
        "duration": 46,
        "start_time": "2021-12-28T14:30:07.789Z"
      },
      {
        "duration": 555,
        "start_time": "2021-12-28T14:30:19.985Z"
      },
      {
        "duration": 432,
        "start_time": "2021-12-28T14:30:39.314Z"
      },
      {
        "duration": 297,
        "start_time": "2021-12-28T14:35:45.300Z"
      },
      {
        "duration": 376,
        "start_time": "2021-12-28T14:36:26.284Z"
      },
      {
        "duration": 88,
        "start_time": "2021-12-28T14:40:18.948Z"
      },
      {
        "duration": 22,
        "start_time": "2021-12-28T14:41:30.014Z"
      },
      {
        "duration": 165,
        "start_time": "2021-12-28T14:41:56.263Z"
      },
      {
        "duration": 21,
        "start_time": "2021-12-28T14:42:20.044Z"
      },
      {
        "duration": 28,
        "start_time": "2021-12-28T14:43:11.380Z"
      },
      {
        "duration": 27,
        "start_time": "2021-12-28T14:43:36.672Z"
      },
      {
        "duration": 662,
        "start_time": "2021-12-28T14:43:49.550Z"
      },
      {
        "duration": 17,
        "start_time": "2021-12-28T14:46:11.264Z"
      },
      {
        "duration": 104,
        "start_time": "2021-12-28T14:46:26.583Z"
      },
      {
        "duration": 18,
        "start_time": "2021-12-28T14:46:40.160Z"
      },
      {
        "duration": 17,
        "start_time": "2021-12-28T14:46:50.630Z"
      },
      {
        "duration": 60,
        "start_time": "2021-12-28T14:48:11.048Z"
      },
      {
        "duration": 439,
        "start_time": "2021-12-28T17:23:01.720Z"
      },
      {
        "duration": 752,
        "start_time": "2021-12-28T17:23:11.895Z"
      },
      {
        "duration": 250,
        "start_time": "2021-12-28T17:23:14.323Z"
      },
      {
        "duration": 46,
        "start_time": "2021-12-28T17:23:17.489Z"
      },
      {
        "duration": 139,
        "start_time": "2021-12-28T17:23:23.510Z"
      },
      {
        "duration": 59,
        "start_time": "2021-12-28T17:23:27.347Z"
      },
      {
        "duration": 25,
        "start_time": "2021-12-28T17:24:00.927Z"
      },
      {
        "duration": 183,
        "start_time": "2021-12-28T17:24:51.050Z"
      },
      {
        "duration": 25,
        "start_time": "2021-12-28T17:27:26.433Z"
      },
      {
        "duration": 547,
        "start_time": "2021-12-28T17:28:12.863Z"
      },
      {
        "duration": 327,
        "start_time": "2021-12-28T17:30:38.442Z"
      },
      {
        "duration": 1488,
        "start_time": "2021-12-28T17:32:47.613Z"
      },
      {
        "duration": 240,
        "start_time": "2021-12-28T17:32:50.895Z"
      },
      {
        "duration": 40,
        "start_time": "2021-12-28T17:32:58.840Z"
      },
      {
        "duration": 125,
        "start_time": "2021-12-28T17:33:05.770Z"
      },
      {
        "duration": 7899,
        "start_time": "2021-12-28T17:39:16.326Z"
      },
      {
        "duration": 7825,
        "start_time": "2021-12-28T17:39:33.810Z"
      },
      {
        "duration": 1608,
        "start_time": "2021-12-28T17:40:01.693Z"
      },
      {
        "duration": 241,
        "start_time": "2021-12-28T17:40:04.536Z"
      },
      {
        "duration": 43,
        "start_time": "2021-12-28T17:40:07.282Z"
      },
      {
        "duration": 134,
        "start_time": "2021-12-28T17:40:10.136Z"
      },
      {
        "duration": 204,
        "start_time": "2021-12-28T17:40:17.574Z"
      },
      {
        "duration": 15,
        "start_time": "2021-12-28T17:40:20.914Z"
      },
      {
        "duration": 103,
        "start_time": "2021-12-28T17:40:22.677Z"
      },
      {
        "duration": 138,
        "start_time": "2021-12-28T17:40:25.531Z"
      },
      {
        "duration": 83,
        "start_time": "2021-12-28T17:40:28.120Z"
      },
      {
        "duration": 30,
        "start_time": "2021-12-28T17:40:30.840Z"
      },
      {
        "duration": 43,
        "start_time": "2021-12-28T17:40:35.869Z"
      },
      {
        "duration": 36,
        "start_time": "2021-12-28T17:40:39.280Z"
      },
      {
        "duration": 19,
        "start_time": "2021-12-28T17:40:44.736Z"
      },
      {
        "duration": 8128,
        "start_time": "2021-12-28T17:40:49.782Z"
      },
      {
        "duration": 13141,
        "start_time": "2021-12-28T17:41:15.802Z"
      },
      {
        "duration": 13906,
        "start_time": "2021-12-28T17:41:47.123Z"
      },
      {
        "duration": 15545,
        "start_time": "2021-12-28T17:42:15.289Z"
      },
      {
        "duration": 11,
        "start_time": "2021-12-28T17:42:40.234Z"
      },
      {
        "duration": 1406,
        "start_time": "2021-12-28T17:47:33.868Z"
      },
      {
        "duration": 58,
        "start_time": "2021-12-28T17:49:45.601Z"
      },
      {
        "duration": 33,
        "start_time": "2021-12-28T17:50:06.603Z"
      },
      {
        "duration": 43,
        "start_time": "2021-12-28T17:50:34.350Z"
      },
      {
        "duration": 59,
        "start_time": "2021-12-28T17:50:48.350Z"
      },
      {
        "duration": 360,
        "start_time": "2021-12-28T17:53:02.718Z"
      },
      {
        "duration": 3,
        "start_time": "2021-12-28T17:53:53.849Z"
      },
      {
        "duration": 274,
        "start_time": "2021-12-28T17:53:53.854Z"
      },
      {
        "duration": 43,
        "start_time": "2021-12-28T17:53:58.395Z"
      },
      {
        "duration": 132,
        "start_time": "2021-12-28T17:54:01.113Z"
      },
      {
        "duration": 57,
        "start_time": "2021-12-28T17:54:03.610Z"
      },
      {
        "duration": 25,
        "start_time": "2021-12-28T17:54:06.066Z"
      },
      {
        "duration": 11382,
        "start_time": "2021-12-28T17:54:08.668Z"
      },
      {
        "duration": 54,
        "start_time": "2021-12-28T17:54:29.017Z"
      },
      {
        "duration": 49,
        "start_time": "2021-12-28T17:56:32.927Z"
      },
      {
        "duration": 93,
        "start_time": "2021-12-28T17:56:48.698Z"
      },
      {
        "duration": 298,
        "start_time": "2021-12-28T17:56:57.689Z"
      },
      {
        "duration": 14,
        "start_time": "2021-12-28T17:57:01.489Z"
      },
      {
        "duration": 157,
        "start_time": "2021-12-28T17:57:03.828Z"
      },
      {
        "duration": 68,
        "start_time": "2021-12-28T17:57:45.344Z"
      },
      {
        "duration": 41,
        "start_time": "2021-12-28T17:58:16.274Z"
      },
      {
        "duration": 8252,
        "start_time": "2021-12-28T18:00:03.732Z"
      },
      {
        "duration": 39,
        "start_time": "2021-12-28T18:00:48.976Z"
      },
      {
        "duration": 44,
        "start_time": "2021-12-28T18:01:57.597Z"
      },
      {
        "duration": 8624,
        "start_time": "2021-12-28T18:02:26.517Z"
      },
      {
        "duration": 9,
        "start_time": "2021-12-28T18:02:58.917Z"
      },
      {
        "duration": 9616,
        "start_time": "2021-12-28T18:03:20.344Z"
      },
      {
        "duration": 5,
        "start_time": "2021-12-28T18:04:07.431Z"
      },
      {
        "duration": 347,
        "start_time": "2021-12-28T18:04:23.838Z"
      },
      {
        "duration": 303,
        "start_time": "2021-12-28T18:04:29.624Z"
      },
      {
        "duration": 12,
        "start_time": "2021-12-28T18:04:56.591Z"
      },
      {
        "duration": 14,
        "start_time": "2021-12-28T18:05:38.501Z"
      },
      {
        "duration": 54,
        "start_time": "2021-12-28T18:07:13.117Z"
      },
      {
        "duration": 56,
        "start_time": "2021-12-28T18:08:11.219Z"
      },
      {
        "duration": 50,
        "start_time": "2021-12-28T18:08:49.683Z"
      },
      {
        "duration": 1580,
        "start_time": "2021-12-28T18:11:08.613Z"
      },
      {
        "duration": 241,
        "start_time": "2021-12-28T18:11:10.196Z"
      },
      {
        "duration": 44,
        "start_time": "2021-12-28T18:11:10.440Z"
      },
      {
        "duration": 166,
        "start_time": "2021-12-28T18:11:10.487Z"
      },
      {
        "duration": 120,
        "start_time": "2021-12-28T18:11:10.655Z"
      },
      {
        "duration": 57,
        "start_time": "2021-12-28T18:11:10.777Z"
      },
      {
        "duration": 199,
        "start_time": "2021-12-28T18:11:10.837Z"
      },
      {
        "duration": 12,
        "start_time": "2021-12-28T18:11:11.039Z"
      },
      {
        "duration": 124,
        "start_time": "2021-12-28T18:11:11.055Z"
      },
      {
        "duration": 77,
        "start_time": "2021-12-28T18:11:11.182Z"
      },
      {
        "duration": 9,
        "start_time": "2021-12-28T18:11:11.261Z"
      },
      {
        "duration": 9,
        "start_time": "2021-12-28T18:11:11.272Z"
      },
      {
        "duration": 50,
        "start_time": "2021-12-28T18:11:11.283Z"
      },
      {
        "duration": 30,
        "start_time": "2021-12-28T18:11:11.336Z"
      },
      {
        "duration": 227,
        "start_time": "2021-12-28T18:11:11.369Z"
      },
      {
        "duration": 93,
        "start_time": "2021-12-28T18:11:11.599Z"
      },
      {
        "duration": 88,
        "start_time": "2021-12-28T18:11:11.695Z"
      },
      {
        "duration": 38,
        "start_time": "2021-12-28T18:11:11.786Z"
      },
      {
        "duration": 48,
        "start_time": "2021-12-28T18:11:11.830Z"
      },
      {
        "duration": 77,
        "start_time": "2021-12-28T18:11:11.881Z"
      },
      {
        "duration": 20,
        "start_time": "2021-12-28T18:11:11.960Z"
      },
      {
        "duration": 12,
        "start_time": "2021-12-28T18:11:11.982Z"
      },
      {
        "duration": 1430,
        "start_time": "2021-12-28T18:14:05.230Z"
      },
      {
        "duration": 318,
        "start_time": "2021-12-28T18:16:04.791Z"
      },
      {
        "duration": 25,
        "start_time": "2021-12-28T18:16:32.730Z"
      },
      {
        "duration": 28,
        "start_time": "2021-12-28T18:18:42.407Z"
      },
      {
        "duration": 89,
        "start_time": "2021-12-28T18:21:29.360Z"
      },
      {
        "duration": 114,
        "start_time": "2021-12-28T18:21:55.505Z"
      },
      {
        "duration": 671,
        "start_time": "2021-12-28T18:22:36.760Z"
      },
      {
        "duration": 1590,
        "start_time": "2021-12-28T18:22:56.381Z"
      },
      {
        "duration": 271,
        "start_time": "2021-12-28T18:22:57.974Z"
      },
      {
        "duration": 69,
        "start_time": "2021-12-28T18:22:58.248Z"
      },
      {
        "duration": 205,
        "start_time": "2021-12-28T18:22:58.320Z"
      },
      {
        "duration": 132,
        "start_time": "2021-12-28T18:22:58.528Z"
      },
      {
        "duration": 71,
        "start_time": "2021-12-28T18:22:58.662Z"
      },
      {
        "duration": 231,
        "start_time": "2021-12-28T18:22:58.736Z"
      },
      {
        "duration": 13,
        "start_time": "2021-12-28T18:22:58.970Z"
      },
      {
        "duration": 138,
        "start_time": "2021-12-28T18:22:58.987Z"
      },
      {
        "duration": 89,
        "start_time": "2021-12-28T18:22:59.128Z"
      },
      {
        "duration": 11,
        "start_time": "2021-12-28T18:22:59.220Z"
      },
      {
        "duration": 8,
        "start_time": "2021-12-28T18:22:59.234Z"
      },
      {
        "duration": 73,
        "start_time": "2021-12-28T18:22:59.244Z"
      },
      {
        "duration": 21,
        "start_time": "2021-12-28T18:22:59.319Z"
      },
      {
        "duration": 178,
        "start_time": "2021-12-28T18:22:59.344Z"
      },
      {
        "duration": 106,
        "start_time": "2021-12-28T18:22:59.525Z"
      },
      {
        "duration": 52,
        "start_time": "2021-12-28T18:22:59.634Z"
      },
      {
        "duration": 57,
        "start_time": "2021-12-28T18:22:59.688Z"
      },
      {
        "duration": 47,
        "start_time": "2021-12-28T18:22:59.748Z"
      },
      {
        "duration": 41,
        "start_time": "2021-12-28T18:22:59.818Z"
      },
      {
        "duration": 21,
        "start_time": "2021-12-28T18:22:59.862Z"
      },
      {
        "duration": 29,
        "start_time": "2021-12-28T18:22:59.918Z"
      },
      {
        "duration": 70,
        "start_time": "2021-12-28T18:22:59.950Z"
      },
      {
        "duration": 4,
        "start_time": "2021-12-28T18:23:00.023Z"
      },
      {
        "duration": 1445,
        "start_time": "2021-12-28T18:25:46.384Z"
      },
      {
        "duration": 284,
        "start_time": "2021-12-28T18:27:55.734Z"
      },
      {
        "duration": 1972,
        "start_time": "2021-12-28T18:28:07.827Z"
      },
      {
        "duration": 242,
        "start_time": "2021-12-28T18:28:09.802Z"
      },
      {
        "duration": 69,
        "start_time": "2021-12-28T18:28:10.049Z"
      },
      {
        "duration": 243,
        "start_time": "2021-12-28T18:28:10.121Z"
      },
      {
        "duration": 116,
        "start_time": "2021-12-28T18:28:10.367Z"
      },
      {
        "duration": 70,
        "start_time": "2021-12-28T18:28:10.486Z"
      },
      {
        "duration": 203,
        "start_time": "2021-12-28T18:28:10.559Z"
      },
      {
        "duration": 14,
        "start_time": "2021-12-28T18:28:10.765Z"
      },
      {
        "duration": 107,
        "start_time": "2021-12-28T18:28:10.817Z"
      },
      {
        "duration": 67,
        "start_time": "2021-12-28T18:28:10.927Z"
      },
      {
        "duration": 27,
        "start_time": "2021-12-28T18:28:10.997Z"
      },
      {
        "duration": 11,
        "start_time": "2021-12-28T18:28:11.027Z"
      },
      {
        "duration": 40,
        "start_time": "2021-12-28T18:28:11.041Z"
      },
      {
        "duration": 42,
        "start_time": "2021-12-28T18:28:11.083Z"
      },
      {
        "duration": 148,
        "start_time": "2021-12-28T18:28:11.128Z"
      },
      {
        "duration": 101,
        "start_time": "2021-12-28T18:28:11.280Z"
      },
      {
        "duration": 76,
        "start_time": "2021-12-28T18:28:11.383Z"
      },
      {
        "duration": 34,
        "start_time": "2021-12-28T18:28:11.461Z"
      },
      {
        "duration": 57,
        "start_time": "2021-12-28T18:28:11.498Z"
      },
      {
        "duration": 35,
        "start_time": "2021-12-28T18:28:11.558Z"
      },
      {
        "duration": 40,
        "start_time": "2021-12-28T18:28:11.595Z"
      },
      {
        "duration": 41,
        "start_time": "2021-12-28T18:28:11.638Z"
      },
      {
        "duration": 50,
        "start_time": "2021-12-28T18:28:11.681Z"
      },
      {
        "duration": 3,
        "start_time": "2021-12-28T18:28:11.733Z"
      },
      {
        "duration": 1530,
        "start_time": "2021-12-28T18:30:33.049Z"
      },
      {
        "duration": 242,
        "start_time": "2021-12-28T18:30:36.287Z"
      },
      {
        "duration": 41,
        "start_time": "2021-12-28T18:30:39.918Z"
      },
      {
        "duration": 129,
        "start_time": "2021-12-28T18:30:43.264Z"
      },
      {
        "duration": 90,
        "start_time": "2021-12-28T18:30:46.300Z"
      },
      {
        "duration": 188,
        "start_time": "2021-12-28T18:30:48.992Z"
      },
      {
        "duration": 98,
        "start_time": "2021-12-28T18:30:51.922Z"
      },
      {
        "duration": 57,
        "start_time": "2021-12-28T18:30:56.527Z"
      },
      {
        "duration": 10,
        "start_time": "2021-12-28T18:31:04.095Z"
      },
      {
        "duration": 5,
        "start_time": "2021-12-28T18:31:06.749Z"
      },
      {
        "duration": 22,
        "start_time": "2021-12-28T18:31:08.598Z"
      },
      {
        "duration": 20,
        "start_time": "2021-12-28T18:31:12.218Z"
      },
      {
        "duration": 139,
        "start_time": "2021-12-28T18:31:15.188Z"
      },
      {
        "duration": 85,
        "start_time": "2021-12-28T18:31:18.181Z"
      },
      {
        "duration": 54,
        "start_time": "2021-12-28T18:31:21.615Z"
      },
      {
        "duration": 38,
        "start_time": "2021-12-28T18:31:24.458Z"
      },
      {
        "duration": 44,
        "start_time": "2021-12-28T18:31:29.820Z"
      },
      {
        "duration": 44,
        "start_time": "2021-12-28T18:31:33.780Z"
      },
      {
        "duration": 20,
        "start_time": "2021-12-28T18:31:36.512Z"
      },
      {
        "duration": 959,
        "start_time": "2021-12-28T18:31:39.325Z"
      },
      {
        "duration": 434,
        "start_time": "2021-12-28T18:31:55.323Z"
      },
      {
        "duration": 301,
        "start_time": "2021-12-28T18:33:07.092Z"
      },
      {
        "duration": 852,
        "start_time": "2021-12-28T18:33:23.960Z"
      },
      {
        "duration": 102,
        "start_time": "2021-12-28T18:33:41.383Z"
      },
      {
        "duration": 24,
        "start_time": "2021-12-28T18:33:46.085Z"
      },
      {
        "duration": 337,
        "start_time": "2021-12-28T18:34:28.122Z"
      },
      {
        "duration": 1456,
        "start_time": "2021-12-28T18:35:00.162Z"
      },
      {
        "duration": 263,
        "start_time": "2021-12-28T18:35:01.621Z"
      },
      {
        "duration": 63,
        "start_time": "2021-12-28T18:35:01.888Z"
      },
      {
        "duration": 150,
        "start_time": "2021-12-28T18:35:01.955Z"
      },
      {
        "duration": 120,
        "start_time": "2021-12-28T18:35:02.108Z"
      },
      {
        "duration": 48,
        "start_time": "2021-12-28T18:35:02.231Z"
      },
      {
        "duration": 242,
        "start_time": "2021-12-28T18:35:02.282Z"
      },
      {
        "duration": 12,
        "start_time": "2021-12-28T18:35:02.526Z"
      },
      {
        "duration": 200,
        "start_time": "2021-12-28T18:35:02.544Z"
      },
      {
        "duration": 89,
        "start_time": "2021-12-28T18:35:02.747Z"
      },
      {
        "duration": 13,
        "start_time": "2021-12-28T18:35:02.839Z"
      },
      {
        "duration": 6,
        "start_time": "2021-12-28T18:35:02.855Z"
      },
      {
        "duration": 64,
        "start_time": "2021-12-28T18:35:02.865Z"
      },
      {
        "duration": 21,
        "start_time": "2021-12-28T18:35:02.932Z"
      },
      {
        "duration": 160,
        "start_time": "2021-12-28T18:35:02.957Z"
      },
      {
        "duration": 108,
        "start_time": "2021-12-28T18:35:03.120Z"
      },
      {
        "duration": 107,
        "start_time": "2021-12-28T18:35:03.232Z"
      },
      {
        "duration": 33,
        "start_time": "2021-12-28T18:35:03.343Z"
      },
      {
        "duration": 49,
        "start_time": "2021-12-28T18:35:03.380Z"
      },
      {
        "duration": 54,
        "start_time": "2021-12-28T18:35:03.432Z"
      },
      {
        "duration": 22,
        "start_time": "2021-12-28T18:35:03.518Z"
      },
      {
        "duration": 28,
        "start_time": "2021-12-28T18:35:03.544Z"
      },
      {
        "duration": 46,
        "start_time": "2021-12-28T18:35:03.618Z"
      },
      {
        "duration": 4,
        "start_time": "2021-12-28T18:35:03.667Z"
      },
      {
        "duration": 68,
        "start_time": "2021-12-28T18:35:45.822Z"
      },
      {
        "duration": 295,
        "start_time": "2021-12-28T18:36:36.810Z"
      },
      {
        "duration": 1467,
        "start_time": "2021-12-28T18:37:09.031Z"
      },
      {
        "duration": 241,
        "start_time": "2021-12-28T18:37:12.185Z"
      },
      {
        "duration": 45,
        "start_time": "2021-12-28T18:37:16.209Z"
      },
      {
        "duration": 132,
        "start_time": "2021-12-28T18:37:20.003Z"
      },
      {
        "duration": 95,
        "start_time": "2021-12-28T18:37:25.075Z"
      },
      {
        "duration": 47,
        "start_time": "2021-12-28T18:37:27.964Z"
      },
      {
        "duration": 202,
        "start_time": "2021-12-28T18:37:31.188Z"
      },
      {
        "duration": 14,
        "start_time": "2021-12-28T18:37:34.516Z"
      },
      {
        "duration": 98,
        "start_time": "2021-12-28T18:37:37.002Z"
      },
      {
        "duration": 70,
        "start_time": "2021-12-28T18:37:40.355Z"
      },
      {
        "duration": 11,
        "start_time": "2021-12-28T18:37:43.504Z"
      },
      {
        "duration": 5,
        "start_time": "2021-12-28T18:37:46.104Z"
      },
      {
        "duration": 25,
        "start_time": "2021-12-28T18:37:48.160Z"
      },
      {
        "duration": 21,
        "start_time": "2021-12-28T18:37:51.218Z"
      },
      {
        "duration": 139,
        "start_time": "2021-12-28T18:37:54.299Z"
      },
      {
        "duration": 83,
        "start_time": "2021-12-28T18:37:57.366Z"
      },
      {
        "duration": 56,
        "start_time": "2021-12-28T18:37:59.839Z"
      },
      {
        "duration": 43,
        "start_time": "2021-12-28T18:38:02.968Z"
      },
      {
        "duration": 43,
        "start_time": "2021-12-28T18:38:05.628Z"
      },
      {
        "duration": 36,
        "start_time": "2021-12-28T18:38:10.947Z"
      },
      {
        "duration": 19,
        "start_time": "2021-12-28T18:38:13.715Z"
      },
      {
        "duration": 955,
        "start_time": "2021-12-28T18:38:25.335Z"
      },
      {
        "duration": 1944,
        "start_time": "2021-12-28T18:43:26.184Z"
      },
      {
        "duration": 368,
        "start_time": "2021-12-28T18:43:30.033Z"
      },
      {
        "duration": 61,
        "start_time": "2021-12-28T18:43:33.869Z"
      },
      {
        "duration": 188,
        "start_time": "2021-12-28T18:43:36.977Z"
      },
      {
        "duration": 106,
        "start_time": "2021-12-28T18:43:40.863Z"
      },
      {
        "duration": 26,
        "start_time": "2021-12-28T18:44:39.671Z"
      },
      {
        "duration": 66,
        "start_time": "2021-12-28T18:44:48.731Z"
      },
      {
        "duration": 24,
        "start_time": "2021-12-28T18:45:14.435Z"
      },
      {
        "duration": 291,
        "start_time": "2021-12-28T18:45:28.506Z"
      },
      {
        "duration": 14,
        "start_time": "2021-12-28T18:45:31.586Z"
      },
      {
        "duration": 99,
        "start_time": "2021-12-28T18:45:34.127Z"
      },
      {
        "duration": 66,
        "start_time": "2021-12-28T18:45:37.574Z"
      },
      {
        "duration": 18,
        "start_time": "2021-12-28T18:46:14.217Z"
      },
      {
        "duration": 11,
        "start_time": "2021-12-28T18:46:18.093Z"
      },
      {
        "duration": 6,
        "start_time": "2021-12-28T18:46:22.122Z"
      },
      {
        "duration": 22,
        "start_time": "2021-12-28T18:46:24.245Z"
      },
      {
        "duration": 21,
        "start_time": "2021-12-28T18:46:26.849Z"
      },
      {
        "duration": 148,
        "start_time": "2021-12-28T18:46:34.395Z"
      },
      {
        "duration": 143,
        "start_time": "2021-12-28T18:46:37.952Z"
      },
      {
        "duration": 56,
        "start_time": "2021-12-28T18:46:41.686Z"
      },
      {
        "duration": 18,
        "start_time": "2021-12-28T18:47:06.632Z"
      },
      {
        "duration": 39,
        "start_time": "2021-12-28T18:47:11.270Z"
      },
      {
        "duration": 54,
        "start_time": "2021-12-28T18:47:13.870Z"
      },
      {
        "duration": 58,
        "start_time": "2021-12-28T18:47:18.385Z"
      },
      {
        "duration": 19,
        "start_time": "2021-12-28T18:47:21.756Z"
      },
      {
        "duration": 451,
        "start_time": "2021-12-28T18:49:47.411Z"
      },
      {
        "duration": 311,
        "start_time": "2021-12-28T18:50:07.086Z"
      },
      {
        "duration": 341,
        "start_time": "2021-12-28T18:51:24.267Z"
      },
      {
        "duration": 343,
        "start_time": "2021-12-28T18:51:32.597Z"
      },
      {
        "duration": 24,
        "start_time": "2021-12-28T18:53:18.419Z"
      },
      {
        "duration": 25,
        "start_time": "2021-12-28T18:55:47.542Z"
      },
      {
        "duration": 379,
        "start_time": "2021-12-28T18:58:23.007Z"
      },
      {
        "duration": 324,
        "start_time": "2021-12-28T19:00:48.326Z"
      },
      {
        "duration": 108,
        "start_time": "2021-12-28T19:02:43.473Z"
      },
      {
        "duration": 110,
        "start_time": "2021-12-28T19:02:55.590Z"
      },
      {
        "duration": 104,
        "start_time": "2021-12-28T19:03:48.693Z"
      },
      {
        "duration": 61,
        "start_time": "2021-12-28T19:03:48.800Z"
      },
      {
        "duration": 89,
        "start_time": "2021-12-28T19:04:32.457Z"
      },
      {
        "duration": 1485,
        "start_time": "2021-12-28T19:04:49.463Z"
      },
      {
        "duration": 251,
        "start_time": "2021-12-28T19:04:52.667Z"
      },
      {
        "duration": 40,
        "start_time": "2021-12-28T19:04:55.365Z"
      },
      {
        "duration": 128,
        "start_time": "2021-12-28T19:04:58.169Z"
      },
      {
        "duration": 104,
        "start_time": "2021-12-28T19:05:01.113Z"
      },
      {
        "duration": 19,
        "start_time": "2021-12-28T19:05:03.396Z"
      },
      {
        "duration": 49,
        "start_time": "2021-12-28T19:05:06.491Z"
      },
      {
        "duration": 19,
        "start_time": "2021-12-28T19:05:09.557Z"
      },
      {
        "duration": 204,
        "start_time": "2021-12-28T19:05:12.173Z"
      },
      {
        "duration": 12,
        "start_time": "2021-12-28T19:05:15.121Z"
      },
      {
        "duration": 99,
        "start_time": "2021-12-28T19:05:18.131Z"
      },
      {
        "duration": 64,
        "start_time": "2021-12-28T19:05:20.872Z"
      },
      {
        "duration": 20,
        "start_time": "2021-12-28T19:05:23.899Z"
      },
      {
        "duration": 15,
        "start_time": "2021-12-28T19:05:26.832Z"
      },
      {
        "duration": 5,
        "start_time": "2021-12-28T19:05:29.729Z"
      },
      {
        "duration": 18,
        "start_time": "2021-12-28T19:05:30.929Z"
      },
      {
        "duration": 20,
        "start_time": "2021-12-28T19:05:33.400Z"
      },
      {
        "duration": 135,
        "start_time": "2021-12-28T19:05:35.538Z"
      },
      {
        "duration": 86,
        "start_time": "2021-12-28T19:05:37.947Z"
      },
      {
        "duration": 51,
        "start_time": "2021-12-28T19:05:43.505Z"
      },
      {
        "duration": 17,
        "start_time": "2021-12-28T19:05:46.067Z"
      },
      {
        "duration": 33,
        "start_time": "2021-12-28T19:05:48.057Z"
      },
      {
        "duration": 42,
        "start_time": "2021-12-28T19:05:50.663Z"
      },
      {
        "duration": 36,
        "start_time": "2021-12-28T19:05:53.456Z"
      },
      {
        "duration": 24,
        "start_time": "2021-12-28T19:05:55.614Z"
      },
      {
        "duration": 163,
        "start_time": "2021-12-28T19:06:12.078Z"
      },
      {
        "duration": 111,
        "start_time": "2021-12-28T19:06:33.330Z"
      },
      {
        "duration": 78,
        "start_time": "2021-12-28T19:06:47.043Z"
      },
      {
        "duration": 92,
        "start_time": "2021-12-28T19:07:57.047Z"
      },
      {
        "duration": 1519,
        "start_time": "2022-01-10T12:51:06.604Z"
      },
      {
        "duration": 226,
        "start_time": "2022-01-10T12:51:09.707Z"
      },
      {
        "duration": 42,
        "start_time": "2022-01-10T12:51:12.717Z"
      },
      {
        "duration": 124,
        "start_time": "2022-01-10T12:51:16.189Z"
      },
      {
        "duration": 92,
        "start_time": "2022-01-10T12:51:19.117Z"
      },
      {
        "duration": 18,
        "start_time": "2022-01-10T12:51:35.860Z"
      },
      {
        "duration": 46,
        "start_time": "2022-01-10T12:51:38.839Z"
      },
      {
        "duration": 18,
        "start_time": "2022-01-10T12:51:41.837Z"
      },
      {
        "duration": 186,
        "start_time": "2022-01-10T12:51:45.399Z"
      },
      {
        "duration": 11,
        "start_time": "2022-01-10T12:51:52.581Z"
      },
      {
        "duration": 107,
        "start_time": "2022-01-10T12:51:55.541Z"
      },
      {
        "duration": 65,
        "start_time": "2022-01-10T12:52:01.717Z"
      },
      {
        "duration": 19,
        "start_time": "2022-01-10T12:52:08.332Z"
      },
      {
        "duration": 10,
        "start_time": "2022-01-10T12:52:12.355Z"
      },
      {
        "duration": 4,
        "start_time": "2022-01-10T12:52:15.652Z"
      },
      {
        "duration": 18,
        "start_time": "2022-01-10T12:52:19.581Z"
      },
      {
        "duration": 19,
        "start_time": "2022-01-10T12:52:22.901Z"
      },
      {
        "duration": 129,
        "start_time": "2022-01-10T12:52:27.662Z"
      },
      {
        "duration": 84,
        "start_time": "2022-01-10T12:52:35.927Z"
      },
      {
        "duration": 52,
        "start_time": "2022-01-10T12:52:38.996Z"
      },
      {
        "duration": 22,
        "start_time": "2022-01-10T12:52:43.661Z"
      },
      {
        "duration": 34,
        "start_time": "2022-01-10T12:52:48.444Z"
      },
      {
        "duration": 70,
        "start_time": "2022-01-10T12:52:50.477Z"
      },
      {
        "duration": 35,
        "start_time": "2022-01-10T12:52:54.590Z"
      },
      {
        "duration": 21,
        "start_time": "2022-01-10T12:52:57.454Z"
      },
      {
        "duration": 29,
        "start_time": "2022-01-10T12:54:05.880Z"
      },
      {
        "duration": 403,
        "start_time": "2022-01-10T12:54:47.823Z"
      },
      {
        "duration": 4,
        "start_time": "2022-01-10T12:56:38.909Z"
      },
      {
        "duration": 1534,
        "start_time": "2022-01-10T12:56:51.572Z"
      },
      {
        "duration": 231,
        "start_time": "2022-01-10T12:56:55.382Z"
      },
      {
        "duration": 43,
        "start_time": "2022-01-10T12:57:02.020Z"
      },
      {
        "duration": 135,
        "start_time": "2022-01-10T12:57:05.501Z"
      },
      {
        "duration": 72,
        "start_time": "2022-01-10T12:58:40.157Z"
      },
      {
        "duration": 335,
        "start_time": "2022-01-10T12:58:54.535Z"
      },
      {
        "duration": 63,
        "start_time": "2022-01-10T12:59:10.869Z"
      },
      {
        "duration": 47,
        "start_time": "2022-01-10T13:00:26.022Z"
      },
      {
        "duration": 14,
        "start_time": "2022-01-10T13:00:44.957Z"
      },
      {
        "duration": 12,
        "start_time": "2022-01-10T13:00:51.615Z"
      },
      {
        "duration": 1679,
        "start_time": "2022-01-10T13:09:33.048Z"
      },
      {
        "duration": 231,
        "start_time": "2022-01-10T13:09:34.730Z"
      },
      {
        "duration": 58,
        "start_time": "2022-01-10T13:09:34.965Z"
      },
      {
        "duration": 142,
        "start_time": "2022-01-10T13:09:35.026Z"
      },
      {
        "duration": 107,
        "start_time": "2022-01-10T13:09:35.171Z"
      },
      {
        "duration": 14,
        "start_time": "2022-01-10T13:09:35.281Z"
      },
      {
        "duration": 17,
        "start_time": "2022-01-10T13:09:35.322Z"
      },
      {
        "duration": 62,
        "start_time": "2022-01-10T13:09:35.343Z"
      },
      {
        "duration": 28,
        "start_time": "2022-01-10T13:09:35.409Z"
      },
      {
        "duration": 203,
        "start_time": "2022-01-10T13:09:35.440Z"
      },
      {
        "duration": 12,
        "start_time": "2022-01-10T13:09:35.645Z"
      },
      {
        "duration": 123,
        "start_time": "2022-01-10T13:09:35.659Z"
      },
      {
        "duration": 85,
        "start_time": "2022-01-10T13:09:35.785Z"
      },
      {
        "duration": 19,
        "start_time": "2022-01-10T13:09:35.873Z"
      },
      {
        "duration": 30,
        "start_time": "2022-01-10T13:09:35.895Z"
      },
      {
        "duration": 14,
        "start_time": "2022-01-10T13:09:35.927Z"
      },
      {
        "duration": 26,
        "start_time": "2022-01-10T13:09:35.943Z"
      },
      {
        "duration": 29,
        "start_time": "2022-01-10T13:09:35.972Z"
      },
      {
        "duration": 156,
        "start_time": "2022-01-10T13:09:36.004Z"
      },
      {
        "duration": 91,
        "start_time": "2022-01-10T13:09:36.162Z"
      },
      {
        "duration": 67,
        "start_time": "2022-01-10T13:09:36.255Z"
      },
      {
        "duration": 37,
        "start_time": "2022-01-10T13:09:36.325Z"
      },
      {
        "duration": 42,
        "start_time": "2022-01-10T13:09:36.367Z"
      },
      {
        "duration": 54,
        "start_time": "2022-01-10T13:09:36.411Z"
      },
      {
        "duration": 35,
        "start_time": "2022-01-10T13:09:36.468Z"
      },
      {
        "duration": 19,
        "start_time": "2022-01-10T13:09:36.505Z"
      },
      {
        "duration": 21,
        "start_time": "2022-01-10T13:09:36.527Z"
      },
      {
        "duration": 400,
        "start_time": "2022-01-10T13:09:36.550Z"
      },
      {
        "duration": 487,
        "start_time": "2022-01-10T13:09:36.952Z"
      },
      {
        "duration": 2329,
        "start_time": "2022-01-10T13:09:37.441Z"
      },
      {
        "duration": 52,
        "start_time": "2022-01-10T13:09:39.773Z"
      },
      {
        "duration": 4,
        "start_time": "2022-01-10T13:09:39.828Z"
      },
      {
        "duration": 536,
        "start_time": "2022-01-10T13:10:28.125Z"
      },
      {
        "duration": 1467,
        "start_time": "2022-01-10T13:11:22.211Z"
      },
      {
        "duration": 251,
        "start_time": "2022-01-10T13:11:26.072Z"
      },
      {
        "duration": 40,
        "start_time": "2022-01-10T13:11:29.545Z"
      },
      {
        "duration": 122,
        "start_time": "2022-01-10T13:11:32.432Z"
      },
      {
        "duration": 189,
        "start_time": "2022-01-10T13:11:42.551Z"
      },
      {
        "duration": 13,
        "start_time": "2022-01-10T13:11:46.083Z"
      },
      {
        "duration": 95,
        "start_time": "2022-01-10T13:11:48.960Z"
      },
      {
        "duration": 135,
        "start_time": "2022-01-10T13:11:56.239Z"
      },
      {
        "duration": 81,
        "start_time": "2022-01-10T13:12:00.537Z"
      },
      {
        "duration": 3471,
        "start_time": "2022-01-10T13:12:15.570Z"
      },
      {
        "duration": 374,
        "start_time": "2022-01-10T13:14:20.257Z"
      },
      {
        "duration": 1612,
        "start_time": "2022-01-10T13:14:31.393Z"
      },
      {
        "duration": 232,
        "start_time": "2022-01-10T13:14:34.521Z"
      },
      {
        "duration": 42,
        "start_time": "2022-01-10T13:14:39.929Z"
      },
      {
        "duration": 130,
        "start_time": "2022-01-10T13:14:43.313Z"
      },
      {
        "duration": 243,
        "start_time": "2022-01-10T13:14:52.064Z"
      },
      {
        "duration": 11,
        "start_time": "2022-01-10T13:14:55.786Z"
      },
      {
        "duration": 98,
        "start_time": "2022-01-10T13:14:58.962Z"
      },
      {
        "duration": 125,
        "start_time": "2022-01-10T13:15:07.224Z"
      },
      {
        "duration": 84,
        "start_time": "2022-01-10T13:15:12.675Z"
      },
      {
        "duration": 647,
        "start_time": "2022-01-10T13:15:18.483Z"
      },
      {
        "duration": 55,
        "start_time": "2022-01-10T13:15:22.712Z"
      },
      {
        "duration": 18,
        "start_time": "2022-01-10T13:15:28.076Z"
      },
      {
        "duration": 399,
        "start_time": "2022-01-10T13:15:51.369Z"
      },
      {
        "duration": 1544,
        "start_time": "2022-01-10T13:21:24.148Z"
      },
      {
        "duration": 233,
        "start_time": "2022-01-10T13:21:27.404Z"
      },
      {
        "duration": 49,
        "start_time": "2022-01-10T13:21:30.520Z"
      },
      {
        "duration": 124,
        "start_time": "2022-01-10T13:21:33.872Z"
      },
      {
        "duration": 93,
        "start_time": "2022-01-10T13:21:41.499Z"
      },
      {
        "duration": 12,
        "start_time": "2022-01-10T13:21:49.340Z"
      },
      {
        "duration": 18,
        "start_time": "2022-01-10T13:21:51.576Z"
      },
      {
        "duration": 50,
        "start_time": "2022-01-10T13:21:54.500Z"
      },
      {
        "duration": 20,
        "start_time": "2022-01-10T13:21:57.366Z"
      },
      {
        "duration": 184,
        "start_time": "2022-01-10T13:22:00.429Z"
      },
      {
        "duration": 12,
        "start_time": "2022-01-10T13:22:03.518Z"
      },
      {
        "duration": 110,
        "start_time": "2022-01-10T13:22:05.423Z"
      },
      {
        "duration": 62,
        "start_time": "2022-01-10T13:22:12.533Z"
      },
      {
        "duration": 19,
        "start_time": "2022-01-10T13:22:16.256Z"
      },
      {
        "duration": 10,
        "start_time": "2022-01-10T13:22:21.860Z"
      },
      {
        "duration": 5,
        "start_time": "2022-01-10T13:22:26.147Z"
      },
      {
        "duration": 17,
        "start_time": "2022-01-10T13:22:27.892Z"
      },
      {
        "duration": 19,
        "start_time": "2022-01-10T13:22:29.916Z"
      },
      {
        "duration": 134,
        "start_time": "2022-01-10T13:22:33.743Z"
      },
      {
        "duration": 86,
        "start_time": "2022-01-10T13:22:37.582Z"
      },
      {
        "duration": 58,
        "start_time": "2022-01-10T13:22:41.417Z"
      },
      {
        "duration": 18,
        "start_time": "2022-01-10T13:22:44.609Z"
      },
      {
        "duration": 34,
        "start_time": "2022-01-10T13:22:47.549Z"
      },
      {
        "duration": 63,
        "start_time": "2022-01-10T13:22:50.165Z"
      },
      {
        "duration": 36,
        "start_time": "2022-01-10T13:22:53.503Z"
      },
      {
        "duration": 19,
        "start_time": "2022-01-10T13:22:56.151Z"
      },
      {
        "duration": 61,
        "start_time": "2022-01-10T13:26:34.300Z"
      },
      {
        "duration": 12,
        "start_time": "2022-01-10T13:26:54.568Z"
      },
      {
        "duration": 57,
        "start_time": "2022-01-10T13:30:10.475Z"
      },
      {
        "duration": 12,
        "start_time": "2022-01-10T13:30:13.595Z"
      },
      {
        "duration": 1439,
        "start_time": "2022-01-10T13:30:16.025Z"
      },
      {
        "duration": 4,
        "start_time": "2022-01-10T13:30:31.912Z"
      },
      {
        "duration": 1460,
        "start_time": "2022-01-10T13:30:41.512Z"
      },
      {
        "duration": 228,
        "start_time": "2022-01-10T13:30:44.673Z"
      },
      {
        "duration": 40,
        "start_time": "2022-01-10T13:30:47.642Z"
      },
      {
        "duration": 125,
        "start_time": "2022-01-10T13:30:51.059Z"
      },
      {
        "duration": 105,
        "start_time": "2022-01-10T13:30:53.706Z"
      },
      {
        "duration": 13,
        "start_time": "2022-01-10T13:30:57.738Z"
      },
      {
        "duration": 1463,
        "start_time": "2022-01-10T13:31:00.683Z"
      },
      {
        "duration": 4,
        "start_time": "2022-01-10T13:31:32.588Z"
      },
      {
        "duration": 49,
        "start_time": "2022-01-10T13:31:35.036Z"
      },
      {
        "duration": 1777,
        "start_time": "2022-01-10T13:31:42.826Z"
      },
      {
        "duration": 3,
        "start_time": "2022-01-10T13:31:48.978Z"
      },
      {
        "duration": 195,
        "start_time": "2022-01-10T13:31:51.298Z"
      },
      {
        "duration": 13,
        "start_time": "2022-01-10T13:33:32.210Z"
      },
      {
        "duration": 100,
        "start_time": "2022-01-10T13:33:34.659Z"
      },
      {
        "duration": 64,
        "start_time": "2022-01-10T13:33:38.371Z"
      },
      {
        "duration": 42,
        "start_time": "2022-01-10T13:33:44.690Z"
      },
      {
        "duration": 412,
        "start_time": "2022-01-10T13:34:02.346Z"
      },
      {
        "duration": 319,
        "start_time": "2022-01-10T13:34:27.707Z"
      },
      {
        "duration": 29,
        "start_time": "2022-01-10T13:34:31.705Z"
      },
      {
        "duration": 11,
        "start_time": "2022-01-10T13:34:40.218Z"
      },
      {
        "duration": 320,
        "start_time": "2022-01-10T13:34:42.594Z"
      },
      {
        "duration": 332,
        "start_time": "2022-01-10T13:36:02.211Z"
      },
      {
        "duration": 326,
        "start_time": "2022-01-10T13:36:24.718Z"
      },
      {
        "duration": 23,
        "start_time": "2022-01-10T13:39:10.988Z"
      },
      {
        "duration": 326,
        "start_time": "2022-01-10T13:41:14.833Z"
      },
      {
        "duration": 383,
        "start_time": "2022-01-10T13:41:26.238Z"
      },
      {
        "duration": 14,
        "start_time": "2022-01-10T13:41:45.375Z"
      },
      {
        "duration": 8087,
        "start_time": "2022-01-10T13:45:41.379Z"
      },
      {
        "duration": 7788,
        "start_time": "2022-01-10T13:46:12.308Z"
      },
      {
        "duration": 5,
        "start_time": "2022-01-10T13:48:51.138Z"
      },
      {
        "duration": 13,
        "start_time": "2022-01-10T13:48:55.330Z"
      },
      {
        "duration": 435,
        "start_time": "2022-01-10T13:49:35.277Z"
      },
      {
        "duration": 9576,
        "start_time": "2022-01-10T13:49:51.852Z"
      },
      {
        "duration": 9,
        "start_time": "2022-01-10T13:50:48.520Z"
      },
      {
        "duration": 10,
        "start_time": "2022-01-10T13:51:15.500Z"
      },
      {
        "duration": 9,
        "start_time": "2022-01-10T13:51:33.349Z"
      },
      {
        "duration": 1467,
        "start_time": "2022-01-10T13:51:57.548Z"
      },
      {
        "duration": 244,
        "start_time": "2022-01-10T13:52:00.702Z"
      },
      {
        "duration": 40,
        "start_time": "2022-01-10T13:52:03.588Z"
      },
      {
        "duration": 155,
        "start_time": "2022-01-10T13:52:06.470Z"
      },
      {
        "duration": 101,
        "start_time": "2022-01-10T13:52:09.366Z"
      },
      {
        "duration": 13,
        "start_time": "2022-01-10T13:52:12.723Z"
      },
      {
        "duration": 49,
        "start_time": "2022-01-10T13:52:18.424Z"
      },
      {
        "duration": 186,
        "start_time": "2022-01-10T13:52:24.753Z"
      },
      {
        "duration": 13,
        "start_time": "2022-01-10T13:52:28.598Z"
      },
      {
        "duration": 112,
        "start_time": "2022-01-10T13:52:31.743Z"
      },
      {
        "duration": 63,
        "start_time": "2022-01-10T13:52:34.426Z"
      },
      {
        "duration": 9,
        "start_time": "2022-01-10T13:52:37.851Z"
      },
      {
        "duration": 485,
        "start_time": "2022-01-10T13:57:29.003Z"
      },
      {
        "duration": 12,
        "start_time": "2022-01-10T13:57:34.987Z"
      },
      {
        "duration": 1389,
        "start_time": "2022-01-10T13:57:53.181Z"
      },
      {
        "duration": 236,
        "start_time": "2022-01-10T13:57:55.912Z"
      },
      {
        "duration": 62,
        "start_time": "2022-01-10T13:57:58.434Z"
      },
      {
        "duration": 135,
        "start_time": "2022-01-10T13:58:01.394Z"
      },
      {
        "duration": 93,
        "start_time": "2022-01-10T13:58:04.015Z"
      },
      {
        "duration": 14,
        "start_time": "2022-01-10T13:58:06.992Z"
      },
      {
        "duration": 50,
        "start_time": "2022-01-10T13:58:15.243Z"
      },
      {
        "duration": 184,
        "start_time": "2022-01-10T13:58:19.392Z"
      },
      {
        "duration": 12,
        "start_time": "2022-01-10T13:58:22.944Z"
      },
      {
        "duration": 96,
        "start_time": "2022-01-10T13:58:24.768Z"
      },
      {
        "duration": 65,
        "start_time": "2022-01-10T13:58:27.556Z"
      },
      {
        "duration": 17,
        "start_time": "2022-01-10T13:58:30.095Z"
      },
      {
        "duration": 509,
        "start_time": "2022-01-10T13:58:32.816Z"
      },
      {
        "duration": 10035,
        "start_time": "2022-01-10T13:59:22.229Z"
      },
      {
        "duration": 10,
        "start_time": "2022-01-10T14:01:33.088Z"
      },
      {
        "duration": 6502,
        "start_time": "2022-01-10T14:01:38.327Z"
      },
      {
        "duration": 5288,
        "start_time": "2022-01-10T14:01:50.914Z"
      },
      {
        "duration": 4373,
        "start_time": "2022-01-10T14:03:30.829Z"
      },
      {
        "duration": 7,
        "start_time": "2022-01-10T14:05:28.858Z"
      },
      {
        "duration": 12,
        "start_time": "2022-01-10T14:05:33.456Z"
      },
      {
        "duration": 7,
        "start_time": "2022-01-10T14:05:35.565Z"
      },
      {
        "duration": 4,
        "start_time": "2022-01-10T14:06:00.177Z"
      },
      {
        "duration": 3,
        "start_time": "2022-01-10T14:06:03.755Z"
      },
      {
        "duration": 148,
        "start_time": "2022-01-10T14:06:05.839Z"
      },
      {
        "duration": 87,
        "start_time": "2022-01-10T14:06:09.395Z"
      },
      {
        "duration": 60,
        "start_time": "2022-01-10T14:06:18.069Z"
      },
      {
        "duration": 31,
        "start_time": "2022-01-10T14:06:30.733Z"
      },
      {
        "duration": 54,
        "start_time": "2022-01-10T14:06:34.053Z"
      },
      {
        "duration": 56,
        "start_time": "2022-01-10T14:06:40.446Z"
      },
      {
        "duration": 20,
        "start_time": "2022-01-10T14:06:43.246Z"
      },
      {
        "duration": 4,
        "start_time": "2022-01-10T14:08:58.653Z"
      },
      {
        "duration": 11,
        "start_time": "2022-01-10T14:09:00.861Z"
      },
      {
        "duration": 12,
        "start_time": "2022-01-10T14:09:31.334Z"
      },
      {
        "duration": 5,
        "start_time": "2022-01-10T14:10:20.227Z"
      },
      {
        "duration": 330,
        "start_time": "2022-01-10T14:13:10.839Z"
      },
      {
        "duration": 335,
        "start_time": "2022-01-10T14:14:57.559Z"
      },
      {
        "duration": 18,
        "start_time": "2022-01-10T14:15:19.395Z"
      },
      {
        "duration": 18,
        "start_time": "2022-01-10T14:16:02.186Z"
      },
      {
        "duration": 333,
        "start_time": "2022-01-10T14:16:32.128Z"
      },
      {
        "duration": 334,
        "start_time": "2022-01-10T14:17:38.876Z"
      },
      {
        "duration": 454,
        "start_time": "2022-01-10T14:18:29.867Z"
      },
      {
        "duration": 17,
        "start_time": "2022-01-10T14:19:01.424Z"
      },
      {
        "duration": 317,
        "start_time": "2022-01-10T14:19:18.453Z"
      },
      {
        "duration": 23,
        "start_time": "2022-01-10T14:19:57.214Z"
      },
      {
        "duration": 19,
        "start_time": "2022-01-10T14:20:18.164Z"
      },
      {
        "duration": 337,
        "start_time": "2022-01-10T14:20:41.332Z"
      },
      {
        "duration": 335,
        "start_time": "2022-01-10T14:21:12.173Z"
      },
      {
        "duration": 345,
        "start_time": "2022-01-10T14:21:22.668Z"
      },
      {
        "duration": 498,
        "start_time": "2022-01-10T14:25:21.906Z"
      },
      {
        "duration": 316,
        "start_time": "2022-01-10T14:29:39.626Z"
      },
      {
        "duration": 1409,
        "start_time": "2022-01-10T14:30:49.180Z"
      },
      {
        "duration": 236,
        "start_time": "2022-01-10T14:30:52.739Z"
      },
      {
        "duration": 42,
        "start_time": "2022-01-10T14:30:55.830Z"
      },
      {
        "duration": 139,
        "start_time": "2022-01-10T14:30:58.390Z"
      },
      {
        "duration": 98,
        "start_time": "2022-01-10T14:31:00.718Z"
      },
      {
        "duration": 15,
        "start_time": "2022-01-10T14:31:03.687Z"
      },
      {
        "duration": 52,
        "start_time": "2022-01-10T14:31:08.288Z"
      },
      {
        "duration": 180,
        "start_time": "2022-01-10T14:31:12.525Z"
      },
      {
        "duration": 14,
        "start_time": "2022-01-10T14:31:15.773Z"
      },
      {
        "duration": 96,
        "start_time": "2022-01-10T14:31:18.206Z"
      },
      {
        "duration": 59,
        "start_time": "2022-01-10T14:31:20.598Z"
      },
      {
        "duration": 129,
        "start_time": "2022-01-10T14:31:25.430Z"
      },
      {
        "duration": 82,
        "start_time": "2022-01-10T14:31:28.728Z"
      },
      {
        "duration": 54,
        "start_time": "2022-01-10T14:31:32.361Z"
      },
      {
        "duration": 37,
        "start_time": "2022-01-10T14:31:39.582Z"
      },
      {
        "duration": 13,
        "start_time": "2022-01-10T14:32:19.269Z"
      },
      {
        "duration": 55,
        "start_time": "2022-01-10T14:32:40.190Z"
      },
      {
        "duration": 15,
        "start_time": "2022-01-10T14:32:56.968Z"
      },
      {
        "duration": 55,
        "start_time": "2022-01-10T14:33:14.185Z"
      },
      {
        "duration": 17,
        "start_time": "2022-01-10T14:33:29.806Z"
      },
      {
        "duration": 1585,
        "start_time": "2022-01-10T17:04:01.194Z"
      },
      {
        "duration": 250,
        "start_time": "2022-01-10T17:04:04.950Z"
      },
      {
        "duration": 41,
        "start_time": "2022-01-10T17:04:08.407Z"
      },
      {
        "duration": 135,
        "start_time": "2022-01-10T17:04:11.072Z"
      },
      {
        "duration": 484,
        "start_time": "2022-01-10T17:06:48.541Z"
      },
      {
        "duration": 95,
        "start_time": "2022-01-10T17:06:55.705Z"
      },
      {
        "duration": 12,
        "start_time": "2022-01-10T17:07:02.280Z"
      },
      {
        "duration": 13,
        "start_time": "2022-01-10T17:07:02.307Z"
      },
      {
        "duration": 11,
        "start_time": "2022-01-10T17:07:08.032Z"
      },
      {
        "duration": 4,
        "start_time": "2022-01-10T17:07:08.070Z"
      },
      {
        "duration": 629,
        "start_time": "2022-01-10T17:08:03.815Z"
      },
      {
        "duration": -202,
        "start_time": "2022-01-10T17:08:04.649Z"
      },
      {
        "duration": 4,
        "start_time": "2022-01-10T17:09:50.000Z"
      },
      {
        "duration": 10,
        "start_time": "2022-01-10T17:09:52.524Z"
      },
      {
        "duration": 3,
        "start_time": "2022-01-10T17:09:52.562Z"
      },
      {
        "duration": 50,
        "start_time": "2022-01-10T17:10:14.088Z"
      },
      {
        "duration": 13,
        "start_time": "2022-01-10T17:10:51.070Z"
      },
      {
        "duration": 210,
        "start_time": "2022-01-10T17:10:59.908Z"
      },
      {
        "duration": 12,
        "start_time": "2022-01-10T17:11:00.121Z"
      },
      {
        "duration": 325,
        "start_time": "2022-01-10T17:11:02.771Z"
      },
      {
        "duration": 1484,
        "start_time": "2022-01-10T17:11:23.357Z"
      },
      {
        "duration": 278,
        "start_time": "2022-01-10T17:11:27.056Z"
      },
      {
        "duration": 44,
        "start_time": "2022-01-10T17:11:30.218Z"
      },
      {
        "duration": 250,
        "start_time": "2022-01-10T17:11:33.575Z"
      },
      {
        "duration": 101,
        "start_time": "2022-01-10T17:11:36.542Z"
      },
      {
        "duration": 4,
        "start_time": "2022-01-10T17:11:40.476Z"
      },
      {
        "duration": 14,
        "start_time": "2022-01-10T17:11:42.191Z"
      },
      {
        "duration": 49,
        "start_time": "2022-01-10T17:11:45.162Z"
      },
      {
        "duration": 11,
        "start_time": "2022-01-10T17:11:48.846Z"
      },
      {
        "duration": 194,
        "start_time": "2022-01-10T17:11:48.889Z"
      },
      {
        "duration": 13,
        "start_time": "2022-01-10T17:11:57.988Z"
      },
      {
        "duration": 103,
        "start_time": "2022-01-10T17:12:01.409Z"
      },
      {
        "duration": 65,
        "start_time": "2022-01-10T17:12:09.220Z"
      },
      {
        "duration": 11,
        "start_time": "2022-01-10T17:12:51.768Z"
      },
      {
        "duration": 215,
        "start_time": "2022-01-10T17:12:59.684Z"
      },
      {
        "duration": 138,
        "start_time": "2022-01-10T17:13:03.351Z"
      },
      {
        "duration": 58,
        "start_time": "2022-01-10T17:13:06.368Z"
      },
      {
        "duration": 3,
        "start_time": "2022-01-10T17:13:06.429Z"
      },
      {
        "duration": 12,
        "start_time": "2022-01-10T17:13:46.342Z"
      },
      {
        "duration": 18,
        "start_time": "2022-01-10T17:13:51.651Z"
      },
      {
        "duration": 11,
        "start_time": "2022-01-10T17:14:04.080Z"
      },
      {
        "duration": 19,
        "start_time": "2022-01-10T17:14:04.116Z"
      },
      {
        "duration": 19,
        "start_time": "2022-01-10T17:14:14.445Z"
      },
      {
        "duration": 15,
        "start_time": "2022-01-10T17:14:14.492Z"
      },
      {
        "duration": 14,
        "start_time": "2022-01-10T17:14:48.733Z"
      },
      {
        "duration": 26,
        "start_time": "2022-01-10T17:15:07.311Z"
      },
      {
        "duration": 19,
        "start_time": "2022-01-10T17:15:13.491Z"
      },
      {
        "duration": 2343,
        "start_time": "2022-01-10T17:15:31.838Z"
      },
      {
        "duration": 271,
        "start_time": "2022-01-10T17:15:35.971Z"
      },
      {
        "duration": 42,
        "start_time": "2022-01-10T17:15:38.777Z"
      },
      {
        "duration": 133,
        "start_time": "2022-01-10T17:15:41.569Z"
      },
      {
        "duration": 99,
        "start_time": "2022-01-10T17:15:44.547Z"
      },
      {
        "duration": 4,
        "start_time": "2022-01-10T17:15:47.189Z"
      },
      {
        "duration": 12,
        "start_time": "2022-01-10T17:15:48.805Z"
      },
      {
        "duration": 51,
        "start_time": "2022-01-10T17:15:48.846Z"
      },
      {
        "duration": 12,
        "start_time": "2022-01-10T17:15:57.416Z"
      },
      {
        "duration": 310,
        "start_time": "2022-01-10T17:15:59.802Z"
      },
      {
        "duration": 11,
        "start_time": "2022-01-10T17:16:04.378Z"
      },
      {
        "duration": 167,
        "start_time": "2022-01-10T17:16:05.980Z"
      },
      {
        "duration": 77,
        "start_time": "2022-01-10T17:16:08.695Z"
      },
      {
        "duration": 16,
        "start_time": "2022-01-10T17:16:11.892Z"
      },
      {
        "duration": 190,
        "start_time": "2022-01-10T17:16:14.118Z"
      },
      {
        "duration": 85,
        "start_time": "2022-01-10T17:16:16.246Z"
      },
      {
        "duration": 54,
        "start_time": "2022-01-10T17:16:23.393Z"
      },
      {
        "duration": 11,
        "start_time": "2022-01-10T17:16:25.702Z"
      },
      {
        "duration": 17,
        "start_time": "2022-01-10T17:16:28.919Z"
      },
      {
        "duration": 11,
        "start_time": "2022-01-10T17:16:32.344Z"
      },
      {
        "duration": 21,
        "start_time": "2022-01-10T17:16:34.892Z"
      },
      {
        "duration": 13,
        "start_time": "2022-01-10T17:16:38.542Z"
      },
      {
        "duration": 18,
        "start_time": "2022-01-10T17:16:47.517Z"
      },
      {
        "duration": 13,
        "start_time": "2022-01-10T17:16:50.204Z"
      },
      {
        "duration": 8908,
        "start_time": "2022-01-10T17:19:46.866Z"
      },
      {
        "duration": 16,
        "start_time": "2022-01-10T17:19:59.351Z"
      },
      {
        "duration": 376,
        "start_time": "2022-01-10T17:20:38.423Z"
      },
      {
        "duration": 921,
        "start_time": "2022-01-10T17:20:55.358Z"
      },
      {
        "duration": -210,
        "start_time": "2022-01-10T17:20:56.493Z"
      },
      {
        "duration": 17,
        "start_time": "2022-01-10T17:22:04.301Z"
      },
      {
        "duration": 40,
        "start_time": "2022-01-10T17:22:04.338Z"
      },
      {
        "duration": 10,
        "start_time": "2022-01-10T17:22:22.486Z"
      },
      {
        "duration": 5,
        "start_time": "2022-01-10T17:23:24.036Z"
      },
      {
        "duration": 8,
        "start_time": "2022-01-10T17:24:40.208Z"
      },
      {
        "duration": 20,
        "start_time": "2022-01-10T17:24:41.748Z"
      },
      {
        "duration": 32,
        "start_time": "2022-01-10T17:24:47.378Z"
      },
      {
        "duration": 53,
        "start_time": "2022-01-10T17:24:52.909Z"
      },
      {
        "duration": 41,
        "start_time": "2022-01-10T17:25:00.088Z"
      },
      {
        "duration": 30,
        "start_time": "2022-01-10T17:25:03.164Z"
      },
      {
        "duration": 20,
        "start_time": "2022-01-10T17:25:50.407Z"
      },
      {
        "duration": 36,
        "start_time": "2022-01-10T17:25:56.648Z"
      },
      {
        "duration": 21,
        "start_time": "2022-01-10T17:26:06.119Z"
      },
      {
        "duration": 18,
        "start_time": "2022-01-10T17:27:54.102Z"
      },
      {
        "duration": 5,
        "start_time": "2022-01-10T17:27:54.161Z"
      },
      {
        "duration": 26,
        "start_time": "2022-01-10T17:30:57.661Z"
      },
      {
        "duration": 1543,
        "start_time": "2022-01-10T17:34:50.938Z"
      },
      {
        "duration": 255,
        "start_time": "2022-01-10T17:34:55.218Z"
      },
      {
        "duration": 41,
        "start_time": "2022-01-10T17:34:55.476Z"
      },
      {
        "duration": 46,
        "start_time": "2022-01-10T17:34:58.771Z"
      },
      {
        "duration": 138,
        "start_time": "2022-01-10T17:35:01.539Z"
      },
      {
        "duration": 99,
        "start_time": "2022-01-10T17:35:04.098Z"
      },
      {
        "duration": 4,
        "start_time": "2022-01-10T17:35:06.842Z"
      },
      {
        "duration": 13,
        "start_time": "2022-01-10T17:35:06.888Z"
      },
      {
        "duration": 59,
        "start_time": "2022-01-10T17:35:18.978Z"
      },
      {
        "duration": 11,
        "start_time": "2022-01-10T17:35:22.345Z"
      },
      {
        "duration": 205,
        "start_time": "2022-01-10T17:35:25.564Z"
      },
      {
        "duration": 11,
        "start_time": "2022-01-10T17:35:25.771Z"
      },
      {
        "duration": 102,
        "start_time": "2022-01-10T17:35:29.785Z"
      },
      {
        "duration": 58,
        "start_time": "2022-01-10T17:35:33.086Z"
      },
      {
        "duration": 13,
        "start_time": "2022-01-10T17:35:36.039Z"
      },
      {
        "duration": 130,
        "start_time": "2022-01-10T17:35:39.186Z"
      },
      {
        "duration": 87,
        "start_time": "2022-01-10T17:35:43.199Z"
      },
      {
        "duration": 54,
        "start_time": "2022-01-10T17:35:46.973Z"
      },
      {
        "duration": 11,
        "start_time": "2022-01-10T17:35:50.832Z"
      },
      {
        "duration": 24,
        "start_time": "2022-01-10T17:35:53.927Z"
      },
      {
        "duration": 11,
        "start_time": "2022-01-10T17:35:56.988Z"
      },
      {
        "duration": 24,
        "start_time": "2022-01-10T17:36:00.100Z"
      },
      {
        "duration": 13,
        "start_time": "2022-01-10T17:36:03.108Z"
      },
      {
        "duration": 31,
        "start_time": "2022-01-10T17:36:05.889Z"
      },
      {
        "duration": 21,
        "start_time": "2022-01-10T17:36:10.521Z"
      },
      {
        "duration": 9,
        "start_time": "2022-01-10T17:36:41.520Z"
      },
      {
        "duration": 8,
        "start_time": "2022-01-10T17:36:43.977Z"
      },
      {
        "duration": 15,
        "start_time": "2022-01-10T17:36:52.621Z"
      },
      {
        "duration": 35,
        "start_time": "2022-01-10T17:37:06.032Z"
      },
      {
        "duration": 53,
        "start_time": "2022-01-10T17:37:09.968Z"
      },
      {
        "duration": 36,
        "start_time": "2022-01-10T17:37:13.825Z"
      },
      {
        "duration": 19,
        "start_time": "2022-01-10T17:37:23.851Z"
      },
      {
        "duration": 20,
        "start_time": "2022-01-10T17:37:30.041Z"
      },
      {
        "duration": 17,
        "start_time": "2022-01-10T17:37:35.912Z"
      },
      {
        "duration": 36,
        "start_time": "2022-01-10T17:37:35.957Z"
      },
      {
        "duration": 526,
        "start_time": "2022-01-10T17:38:43.727Z"
      },
      {
        "duration": 23,
        "start_time": "2022-01-10T17:39:35.424Z"
      },
      {
        "duration": 1769,
        "start_time": "2022-01-11T13:16:32.431Z"
      },
      {
        "duration": 328,
        "start_time": "2022-01-11T13:16:35.660Z"
      },
      {
        "duration": 112,
        "start_time": "2022-01-11T13:16:38.792Z"
      },
      {
        "duration": 223,
        "start_time": "2022-01-11T13:16:41.629Z"
      },
      {
        "duration": 138,
        "start_time": "2022-01-11T13:16:44.016Z"
      },
      {
        "duration": 9,
        "start_time": "2022-01-11T13:16:46.299Z"
      },
      {
        "duration": 11,
        "start_time": "2022-01-11T13:16:48.029Z"
      },
      {
        "duration": 67,
        "start_time": "2022-01-11T13:16:50.644Z"
      },
      {
        "duration": 12,
        "start_time": "2022-01-11T13:16:53.197Z"
      },
      {
        "duration": 340,
        "start_time": "2022-01-11T13:16:55.531Z"
      },
      {
        "duration": 14,
        "start_time": "2022-01-11T13:16:58.388Z"
      },
      {
        "duration": 167,
        "start_time": "2022-01-11T13:17:00.707Z"
      },
      {
        "duration": 102,
        "start_time": "2022-01-11T13:17:02.794Z"
      },
      {
        "duration": 12,
        "start_time": "2022-01-11T13:17:05.618Z"
      },
      {
        "duration": 181,
        "start_time": "2022-01-11T13:17:07.915Z"
      },
      {
        "duration": 108,
        "start_time": "2022-01-11T13:17:10.300Z"
      },
      {
        "duration": 91,
        "start_time": "2022-01-11T13:17:12.523Z"
      },
      {
        "duration": 11,
        "start_time": "2022-01-11T13:17:14.730Z"
      },
      {
        "duration": 23,
        "start_time": "2022-01-11T13:17:17.077Z"
      },
      {
        "duration": 15,
        "start_time": "2022-01-11T13:17:19.451Z"
      },
      {
        "duration": 21,
        "start_time": "2022-01-11T13:17:22.092Z"
      },
      {
        "duration": 19,
        "start_time": "2022-01-11T13:17:24.147Z"
      },
      {
        "duration": 24,
        "start_time": "2022-01-11T13:17:26.314Z"
      },
      {
        "duration": 15,
        "start_time": "2022-01-11T13:17:29.403Z"
      },
      {
        "duration": 8,
        "start_time": "2022-01-11T13:17:32.411Z"
      },
      {
        "duration": 15,
        "start_time": "2022-01-11T13:17:34.666Z"
      },
      {
        "duration": 14,
        "start_time": "2022-01-11T13:17:36.923Z"
      },
      {
        "duration": 37,
        "start_time": "2022-01-11T13:18:00.028Z"
      },
      {
        "duration": 91,
        "start_time": "2022-01-11T13:18:05.038Z"
      },
      {
        "duration": 49,
        "start_time": "2022-01-11T13:18:08.588Z"
      },
      {
        "duration": 25,
        "start_time": "2022-01-11T13:18:12.332Z"
      },
      {
        "duration": 38,
        "start_time": "2022-01-11T13:18:34.357Z"
      },
      {
        "duration": 19,
        "start_time": "2022-01-11T13:18:37.309Z"
      },
      {
        "duration": 35,
        "start_time": "2022-01-11T13:18:39.878Z"
      },
      {
        "duration": 529,
        "start_time": "2022-01-11T13:19:13.636Z"
      },
      {
        "duration": 8,
        "start_time": "2022-01-11T13:19:27.524Z"
      },
      {
        "duration": 37,
        "start_time": "2022-01-11T13:19:42.647Z"
      },
      {
        "duration": 119,
        "start_time": "2022-01-11T13:23:56.530Z"
      },
      {
        "duration": 130,
        "start_time": "2022-01-11T13:24:14.358Z"
      },
      {
        "duration": 147,
        "start_time": "2022-01-11T13:24:33.574Z"
      },
      {
        "duration": 131,
        "start_time": "2022-01-11T13:24:50.807Z"
      },
      {
        "duration": 170,
        "start_time": "2022-01-11T13:30:34.893Z"
      },
      {
        "duration": 640,
        "start_time": "2022-01-11T13:31:27.702Z"
      },
      {
        "duration": 45,
        "start_time": "2022-01-11T13:32:02.458Z"
      },
      {
        "duration": 29,
        "start_time": "2022-01-11T13:32:14.588Z"
      },
      {
        "duration": 231,
        "start_time": "2022-01-11T13:35:21.857Z"
      },
      {
        "duration": 38,
        "start_time": "2022-01-11T13:35:25.333Z"
      },
      {
        "duration": 24,
        "start_time": "2022-01-11T13:35:38.500Z"
      },
      {
        "duration": 1636,
        "start_time": "2022-01-11T13:40:56.999Z"
      },
      {
        "duration": 279,
        "start_time": "2022-01-11T13:40:59.078Z"
      },
      {
        "duration": 47,
        "start_time": "2022-01-11T13:41:03.490Z"
      },
      {
        "duration": 178,
        "start_time": "2022-01-11T13:41:19.132Z"
      },
      {
        "duration": 112,
        "start_time": "2022-01-11T13:41:23.102Z"
      },
      {
        "duration": 4,
        "start_time": "2022-01-11T13:41:26.410Z"
      },
      {
        "duration": 13,
        "start_time": "2022-01-11T13:41:28.322Z"
      },
      {
        "duration": 76,
        "start_time": "2022-01-11T13:41:31.864Z"
      },
      {
        "duration": 30,
        "start_time": "2022-01-11T13:41:34.582Z"
      },
      {
        "duration": 269,
        "start_time": "2022-01-11T13:41:36.666Z"
      },
      {
        "duration": 14,
        "start_time": "2022-01-11T13:41:39.054Z"
      },
      {
        "duration": 117,
        "start_time": "2022-01-11T13:41:40.619Z"
      },
      {
        "duration": 73,
        "start_time": "2022-01-11T13:41:42.982Z"
      },
      {
        "duration": 17,
        "start_time": "2022-01-11T13:41:45.282Z"
      },
      {
        "duration": 178,
        "start_time": "2022-01-11T13:41:47.332Z"
      },
      {
        "duration": 164,
        "start_time": "2022-01-11T13:41:49.096Z"
      },
      {
        "duration": 69,
        "start_time": "2022-01-11T13:41:51.777Z"
      },
      {
        "duration": 11,
        "start_time": "2022-01-11T13:41:54.011Z"
      },
      {
        "duration": 19,
        "start_time": "2022-01-11T13:41:55.842Z"
      },
      {
        "duration": 10,
        "start_time": "2022-01-11T13:41:57.883Z"
      },
      {
        "duration": 24,
        "start_time": "2022-01-11T13:42:00.850Z"
      },
      {
        "duration": 19,
        "start_time": "2022-01-11T13:42:03.124Z"
      },
      {
        "duration": 22,
        "start_time": "2022-01-11T13:42:05.373Z"
      },
      {
        "duration": 14,
        "start_time": "2022-01-11T13:42:08.988Z"
      },
      {
        "duration": 10,
        "start_time": "2022-01-11T13:42:11.188Z"
      },
      {
        "duration": 8,
        "start_time": "2022-01-11T13:42:13.315Z"
      },
      {
        "duration": 14,
        "start_time": "2022-01-11T13:42:15.029Z"
      },
      {
        "duration": 34,
        "start_time": "2022-01-11T13:42:17.427Z"
      },
      {
        "duration": 45,
        "start_time": "2022-01-11T13:42:19.845Z"
      },
      {
        "duration": 36,
        "start_time": "2022-01-11T13:42:22.500Z"
      },
      {
        "duration": 19,
        "start_time": "2022-01-11T13:42:24.828Z"
      },
      {
        "duration": 23,
        "start_time": "2022-01-11T13:42:26.994Z"
      },
      {
        "duration": 18,
        "start_time": "2022-01-11T13:42:42.604Z"
      },
      {
        "duration": 36,
        "start_time": "2022-01-11T13:42:45.045Z"
      },
      {
        "duration": 8,
        "start_time": "2022-01-11T13:42:49.052Z"
      },
      {
        "duration": 26,
        "start_time": "2022-01-11T13:42:50.612Z"
      },
      {
        "duration": 497,
        "start_time": "2022-01-11T13:42:53.554Z"
      },
      {
        "duration": 13,
        "start_time": "2022-01-11T13:43:21.251Z"
      },
      {
        "duration": 7,
        "start_time": "2022-01-11T13:44:11.092Z"
      },
      {
        "duration": 14,
        "start_time": "2022-01-11T13:45:38.774Z"
      },
      {
        "duration": 8,
        "start_time": "2022-01-11T13:45:55.285Z"
      },
      {
        "duration": 11123,
        "start_time": "2022-01-11T13:47:19.230Z"
      },
      {
        "duration": 1191,
        "start_time": "2022-01-11T13:47:29.165Z"
      },
      {
        "duration": 1188,
        "start_time": "2022-01-11T13:47:29.169Z"
      },
      {
        "duration": 1188,
        "start_time": "2022-01-11T13:47:29.172Z"
      },
      {
        "duration": 11,
        "start_time": "2022-01-11T13:48:11.395Z"
      },
      {
        "duration": 11,
        "start_time": "2022-01-11T13:48:15.173Z"
      },
      {
        "duration": 180,
        "start_time": "2022-01-11T13:48:19.073Z"
      },
      {
        "duration": 21,
        "start_time": "2022-01-11T13:48:21.110Z"
      },
      {
        "duration": 27,
        "start_time": "2022-01-11T13:50:06.834Z"
      },
      {
        "duration": 117,
        "start_time": "2022-01-11T14:02:54.985Z"
      },
      {
        "duration": 187,
        "start_time": "2022-01-11T14:03:09.414Z"
      },
      {
        "duration": 27,
        "start_time": "2022-01-11T14:03:12.040Z"
      },
      {
        "duration": 663,
        "start_time": "2022-01-11T14:04:53.008Z"
      },
      {
        "duration": 26,
        "start_time": "2022-01-11T14:04:55.217Z"
      },
      {
        "duration": 189,
        "start_time": "2022-01-11T14:05:06.744Z"
      },
      {
        "duration": 26,
        "start_time": "2022-01-11T14:05:08.897Z"
      },
      {
        "duration": 201,
        "start_time": "2022-01-11T14:07:42.623Z"
      },
      {
        "duration": 39,
        "start_time": "2022-01-11T14:07:45.276Z"
      },
      {
        "duration": 179,
        "start_time": "2022-01-11T14:09:20.007Z"
      },
      {
        "duration": 30,
        "start_time": "2022-01-11T14:09:21.962Z"
      },
      {
        "duration": 469,
        "start_time": "2022-01-11T14:35:33.317Z"
      },
      {
        "duration": 22,
        "start_time": "2022-01-11T14:35:48.138Z"
      },
      {
        "duration": 15,
        "start_time": "2022-01-11T14:36:02.743Z"
      },
      {
        "duration": 23,
        "start_time": "2022-01-11T14:36:21.014Z"
      },
      {
        "duration": 5,
        "start_time": "2022-01-11T14:44:24.395Z"
      },
      {
        "duration": 7,
        "start_time": "2022-01-11T14:46:04.543Z"
      },
      {
        "duration": 4,
        "start_time": "2022-01-11T14:46:15.485Z"
      },
      {
        "duration": 6,
        "start_time": "2022-01-11T14:51:05.325Z"
      },
      {
        "duration": 2448,
        "start_time": "2022-01-12T13:22:16.112Z"
      },
      {
        "duration": 353,
        "start_time": "2022-01-12T13:22:21.026Z"
      },
      {
        "duration": 28,
        "start_time": "2022-01-12T13:22:23.747Z"
      },
      {
        "duration": 86,
        "start_time": "2022-01-12T13:22:25.984Z"
      },
      {
        "duration": 69,
        "start_time": "2022-01-12T13:22:28.243Z"
      },
      {
        "duration": 3,
        "start_time": "2022-01-12T13:22:30.557Z"
      },
      {
        "duration": 7,
        "start_time": "2022-01-12T13:22:32.246Z"
      },
      {
        "duration": 31,
        "start_time": "2022-01-12T13:22:34.216Z"
      },
      {
        "duration": 7,
        "start_time": "2022-01-12T13:22:36.356Z"
      },
      {
        "duration": 175,
        "start_time": "2022-01-12T13:22:38.545Z"
      },
      {
        "duration": 12,
        "start_time": "2022-01-12T13:22:41.184Z"
      },
      {
        "duration": 72,
        "start_time": "2022-01-12T13:22:42.879Z"
      },
      {
        "duration": 42,
        "start_time": "2022-01-12T13:22:48.234Z"
      },
      {
        "duration": 6,
        "start_time": "2022-01-12T13:22:51.208Z"
      },
      {
        "duration": 248,
        "start_time": "2022-01-12T13:22:53.586Z"
      },
      {
        "duration": 60,
        "start_time": "2022-01-12T13:22:56.759Z"
      },
      {
        "duration": 36,
        "start_time": "2022-01-12T13:22:59.488Z"
      },
      {
        "duration": 7,
        "start_time": "2022-01-12T13:23:01.841Z"
      },
      {
        "duration": 25,
        "start_time": "2022-01-12T13:23:03.810Z"
      },
      {
        "duration": 7,
        "start_time": "2022-01-12T13:23:05.753Z"
      },
      {
        "duration": 13,
        "start_time": "2022-01-12T13:23:07.713Z"
      },
      {
        "duration": 9,
        "start_time": "2022-01-12T13:23:09.487Z"
      },
      {
        "duration": 11,
        "start_time": "2022-01-12T13:23:11.695Z"
      },
      {
        "duration": 8,
        "start_time": "2022-01-12T13:23:14.042Z"
      },
      {
        "duration": 5,
        "start_time": "2022-01-12T13:23:17.055Z"
      },
      {
        "duration": 5,
        "start_time": "2022-01-12T13:23:19.599Z"
      },
      {
        "duration": 8,
        "start_time": "2022-01-12T13:23:21.426Z"
      },
      {
        "duration": 44,
        "start_time": "2022-01-12T13:23:23.946Z"
      },
      {
        "duration": 46,
        "start_time": "2022-01-12T13:23:26.674Z"
      },
      {
        "duration": 21,
        "start_time": "2022-01-12T13:23:29.496Z"
      },
      {
        "duration": 11,
        "start_time": "2022-01-12T13:23:31.801Z"
      },
      {
        "duration": 13,
        "start_time": "2022-01-12T13:23:35.878Z"
      },
      {
        "duration": 10,
        "start_time": "2022-01-12T13:23:38.440Z"
      },
      {
        "duration": 16,
        "start_time": "2022-01-12T13:23:41.130Z"
      },
      {
        "duration": 6,
        "start_time": "2022-01-12T13:23:44.894Z"
      },
      {
        "duration": 11,
        "start_time": "2022-01-12T13:23:47.376Z"
      },
      {
        "duration": 7,
        "start_time": "2022-01-12T13:23:49.592Z"
      },
      {
        "duration": 5,
        "start_time": "2022-01-12T13:23:51.439Z"
      },
      {
        "duration": 6,
        "start_time": "2022-01-12T13:23:53.600Z"
      },
      {
        "duration": 6,
        "start_time": "2022-01-12T13:23:55.063Z"
      },
      {
        "duration": 102,
        "start_time": "2022-01-12T13:23:57.073Z"
      },
      {
        "duration": 15,
        "start_time": "2022-01-12T13:23:58.657Z"
      },
      {
        "duration": 15,
        "start_time": "2022-01-12T13:24:05.511Z"
      },
      {
        "duration": 11,
        "start_time": "2022-01-12T13:24:07.926Z"
      },
      {
        "duration": 3,
        "start_time": "2022-01-12T13:24:43.764Z"
      },
      {
        "duration": 4,
        "start_time": "2022-01-12T13:25:46.939Z"
      },
      {
        "duration": 4,
        "start_time": "2022-01-12T13:26:51.850Z"
      },
      {
        "duration": 3,
        "start_time": "2022-01-12T13:27:15.666Z"
      },
      {
        "duration": 4,
        "start_time": "2022-01-12T13:27:49.983Z"
      },
      {
        "duration": 5,
        "start_time": "2022-01-12T13:29:28.633Z"
      },
      {
        "duration": 1050,
        "start_time": "2022-01-13T17:18:34.290Z"
      },
      {
        "duration": 172,
        "start_time": "2022-01-13T17:18:36.347Z"
      },
      {
        "duration": 32,
        "start_time": "2022-01-13T17:18:38.435Z"
      },
      {
        "duration": 92,
        "start_time": "2022-01-13T17:18:41.748Z"
      },
      {
        "duration": 69,
        "start_time": "2022-01-13T17:18:43.816Z"
      },
      {
        "duration": 3,
        "start_time": "2022-01-13T17:18:45.848Z"
      },
      {
        "duration": 8,
        "start_time": "2022-01-13T17:18:47.301Z"
      },
      {
        "duration": 35,
        "start_time": "2022-01-13T17:18:49.312Z"
      },
      {
        "duration": 8,
        "start_time": "2022-01-13T17:18:51.250Z"
      },
      {
        "duration": 144,
        "start_time": "2022-01-13T17:18:53.506Z"
      },
      {
        "duration": 9,
        "start_time": "2022-01-13T17:18:58.328Z"
      },
      {
        "duration": 68,
        "start_time": "2022-01-13T17:18:59.441Z"
      },
      {
        "duration": 46,
        "start_time": "2022-01-13T17:19:00.797Z"
      },
      {
        "duration": 8,
        "start_time": "2022-01-13T17:19:03.822Z"
      },
      {
        "duration": 100,
        "start_time": "2022-01-13T17:19:05.737Z"
      },
      {
        "duration": 54,
        "start_time": "2022-01-13T17:19:07.136Z"
      },
      {
        "duration": 37,
        "start_time": "2022-01-13T17:19:08.973Z"
      },
      {
        "duration": 8,
        "start_time": "2022-01-13T17:19:11.350Z"
      },
      {
        "duration": 12,
        "start_time": "2022-01-13T17:19:12.410Z"
      },
      {
        "duration": 7,
        "start_time": "2022-01-13T17:19:14.804Z"
      },
      {
        "duration": 14,
        "start_time": "2022-01-13T17:19:15.727Z"
      },
      {
        "duration": 11,
        "start_time": "2022-01-13T17:19:17.757Z"
      },
      {
        "duration": 12,
        "start_time": "2022-01-13T17:19:18.666Z"
      },
      {
        "duration": 9,
        "start_time": "2022-01-13T17:19:20.773Z"
      },
      {
        "duration": 6,
        "start_time": "2022-01-13T17:19:22.523Z"
      },
      {
        "duration": 6,
        "start_time": "2022-01-13T17:19:25.563Z"
      },
      {
        "duration": 9,
        "start_time": "2022-01-13T17:19:27.845Z"
      },
      {
        "duration": 25,
        "start_time": "2022-01-13T17:19:29.992Z"
      },
      {
        "duration": 89,
        "start_time": "2022-01-13T17:19:31.761Z"
      },
      {
        "duration": 24,
        "start_time": "2022-01-13T17:19:36.907Z"
      },
      {
        "duration": 13,
        "start_time": "2022-01-13T17:19:38.809Z"
      },
      {
        "duration": 13,
        "start_time": "2022-01-13T17:19:40.553Z"
      },
      {
        "duration": 12,
        "start_time": "2022-01-13T17:19:42.449Z"
      },
      {
        "duration": 16,
        "start_time": "2022-01-13T17:19:44.431Z"
      },
      {
        "duration": 6,
        "start_time": "2022-01-13T17:19:46.292Z"
      },
      {
        "duration": 12,
        "start_time": "2022-01-13T17:19:48.193Z"
      },
      {
        "duration": 8,
        "start_time": "2022-01-13T17:19:50.415Z"
      },
      {
        "duration": 6,
        "start_time": "2022-01-13T17:19:52.955Z"
      },
      {
        "duration": 5,
        "start_time": "2022-01-13T17:19:55.742Z"
      },
      {
        "duration": 6,
        "start_time": "2022-01-13T17:19:57.453Z"
      },
      {
        "duration": 94,
        "start_time": "2022-01-13T17:19:58.917Z"
      },
      {
        "duration": 16,
        "start_time": "2022-01-13T17:20:00.886Z"
      },
      {
        "duration": 10,
        "start_time": "2022-01-13T17:20:04.826Z"
      },
      {
        "duration": 11,
        "start_time": "2022-01-13T17:20:07.351Z"
      },
      {
        "duration": 5,
        "start_time": "2022-01-13T17:20:10.524Z"
      },
      {
        "duration": 4,
        "start_time": "2022-01-13T17:20:11.761Z"
      },
      {
        "duration": 4,
        "start_time": "2022-01-13T17:20:13.505Z"
      },
      {
        "duration": 4,
        "start_time": "2022-01-13T17:20:14.498Z"
      },
      {
        "duration": 4,
        "start_time": "2022-01-13T17:20:15.161Z"
      },
      {
        "duration": 3,
        "start_time": "2022-01-13T17:20:15.753Z"
      },
      {
        "duration": 1141,
        "start_time": "2022-01-13T17:23:59.496Z"
      },
      {
        "duration": 197,
        "start_time": "2022-01-13T17:24:00.639Z"
      },
      {
        "duration": 31,
        "start_time": "2022-01-13T17:24:00.838Z"
      },
      {
        "duration": 110,
        "start_time": "2022-01-13T17:24:00.870Z"
      },
      {
        "duration": 75,
        "start_time": "2022-01-13T17:24:00.992Z"
      },
      {
        "duration": 2,
        "start_time": "2022-01-13T17:24:01.069Z"
      },
      {
        "duration": 23,
        "start_time": "2022-01-13T17:24:01.092Z"
      },
      {
        "duration": 65,
        "start_time": "2022-01-13T17:24:01.119Z"
      },
      {
        "duration": 11,
        "start_time": "2022-01-13T17:24:01.186Z"
      },
      {
        "duration": 197,
        "start_time": "2022-01-13T17:24:01.199Z"
      },
      {
        "duration": 10,
        "start_time": "2022-01-13T17:24:01.399Z"
      },
      {
        "duration": 132,
        "start_time": "2022-01-13T17:24:01.411Z"
      },
      {
        "duration": 56,
        "start_time": "2022-01-13T17:24:01.545Z"
      },
      {
        "duration": 8,
        "start_time": "2022-01-13T17:24:01.604Z"
      },
      {
        "duration": 125,
        "start_time": "2022-01-13T17:24:01.613Z"
      },
      {
        "duration": 62,
        "start_time": "2022-01-13T17:24:01.739Z"
      },
      {
        "duration": 50,
        "start_time": "2022-01-13T17:24:01.803Z"
      },
      {
        "duration": 11,
        "start_time": "2022-01-13T17:24:01.856Z"
      },
      {
        "duration": 13,
        "start_time": "2022-01-13T17:24:01.891Z"
      },
      {
        "duration": 22,
        "start_time": "2022-01-13T17:24:01.906Z"
      },
      {
        "duration": 26,
        "start_time": "2022-01-13T17:24:01.930Z"
      },
      {
        "duration": 34,
        "start_time": "2022-01-13T17:24:01.958Z"
      },
      {
        "duration": 43,
        "start_time": "2022-01-13T17:24:01.996Z"
      },
      {
        "duration": 27,
        "start_time": "2022-01-13T17:24:02.042Z"
      },
      {
        "duration": 36,
        "start_time": "2022-01-13T17:24:02.071Z"
      },
      {
        "duration": 21,
        "start_time": "2022-01-13T17:24:02.109Z"
      },
      {
        "duration": 56,
        "start_time": "2022-01-13T17:24:02.132Z"
      },
      {
        "duration": 33,
        "start_time": "2022-01-13T17:24:02.189Z"
      },
      {
        "duration": 102,
        "start_time": "2022-01-13T17:24:02.224Z"
      },
      {
        "duration": 56,
        "start_time": "2022-01-13T17:24:02.327Z"
      },
      {
        "duration": 42,
        "start_time": "2022-01-13T17:24:02.386Z"
      },
      {
        "duration": 51,
        "start_time": "2022-01-13T17:24:02.430Z"
      },
      {
        "duration": 50,
        "start_time": "2022-01-13T17:24:02.483Z"
      },
      {
        "duration": 38,
        "start_time": "2022-01-13T17:24:02.535Z"
      },
      {
        "duration": 8,
        "start_time": "2022-01-13T17:24:02.576Z"
      },
      {
        "duration": 33,
        "start_time": "2022-01-13T17:24:02.586Z"
      },
      {
        "duration": 43,
        "start_time": "2022-01-13T17:24:02.621Z"
      },
      {
        "duration": 39,
        "start_time": "2022-01-13T17:24:02.666Z"
      },
      {
        "duration": 21,
        "start_time": "2022-01-13T17:24:02.707Z"
      },
      {
        "duration": 32,
        "start_time": "2022-01-13T17:24:02.730Z"
      },
      {
        "duration": 156,
        "start_time": "2022-01-13T17:24:02.765Z"
      },
      {
        "duration": 20,
        "start_time": "2022-01-13T17:24:02.923Z"
      },
      {
        "duration": 36,
        "start_time": "2022-01-13T17:24:02.945Z"
      },
      {
        "duration": 25,
        "start_time": "2022-01-13T17:24:02.983Z"
      },
      {
        "duration": 14,
        "start_time": "2022-01-13T17:24:03.010Z"
      },
      {
        "duration": 27,
        "start_time": "2022-01-13T17:24:03.026Z"
      },
      {
        "duration": 54,
        "start_time": "2022-01-13T17:24:03.055Z"
      },
      {
        "duration": 43,
        "start_time": "2022-01-13T17:24:03.112Z"
      },
      {
        "duration": 17,
        "start_time": "2022-01-13T17:24:03.157Z"
      },
      {
        "duration": 22,
        "start_time": "2022-01-13T17:24:03.176Z"
      },
      {
        "duration": 13,
        "start_time": "2022-01-13T17:24:03.200Z"
      },
      {
        "duration": 16,
        "start_time": "2022-01-13T17:24:03.215Z"
      },
      {
        "duration": 203,
        "start_time": "2022-01-13T17:26:32.216Z"
      },
      {
        "duration": 214,
        "start_time": "2022-01-13T17:27:01.229Z"
      },
      {
        "duration": 239,
        "start_time": "2022-01-13T17:27:23.935Z"
      },
      {
        "duration": 230,
        "start_time": "2022-01-13T17:27:30.001Z"
      },
      {
        "duration": 207,
        "start_time": "2022-01-13T17:27:58.506Z"
      },
      {
        "duration": 5,
        "start_time": "2022-01-13T17:28:52.111Z"
      },
      {
        "duration": 5,
        "start_time": "2022-01-13T17:29:37.732Z"
      },
      {
        "duration": 5,
        "start_time": "2022-01-13T17:30:10.811Z"
      },
      {
        "duration": 201,
        "start_time": "2022-01-13T17:30:44.225Z"
      },
      {
        "duration": 219,
        "start_time": "2022-01-13T17:31:00.572Z"
      },
      {
        "duration": 301,
        "start_time": "2022-01-13T17:31:14.717Z"
      },
      {
        "duration": 5,
        "start_time": "2022-01-13T17:31:54.758Z"
      },
      {
        "duration": 4,
        "start_time": "2022-01-13T17:32:09.215Z"
      },
      {
        "duration": 5,
        "start_time": "2022-01-13T17:32:44.713Z"
      },
      {
        "duration": 5,
        "start_time": "2022-01-13T17:33:20.808Z"
      },
      {
        "duration": 3,
        "start_time": "2022-01-13T17:53:08.165Z"
      },
      {
        "duration": 12,
        "start_time": "2022-01-13T18:21:02.127Z"
      },
      {
        "duration": 153,
        "start_time": "2022-01-13T18:23:08.789Z"
      },
      {
        "duration": 13,
        "start_time": "2022-01-13T18:23:33.829Z"
      },
      {
        "duration": 1448,
        "start_time": "2022-01-15T10:45:35.551Z"
      },
      {
        "duration": 277,
        "start_time": "2022-01-15T10:45:37.002Z"
      },
      {
        "duration": 87,
        "start_time": "2022-01-15T10:45:37.282Z"
      },
      {
        "duration": 166,
        "start_time": "2022-01-15T10:45:37.372Z"
      },
      {
        "duration": 128,
        "start_time": "2022-01-15T10:45:37.540Z"
      },
      {
        "duration": 4,
        "start_time": "2022-01-15T10:45:37.671Z"
      },
      {
        "duration": 13,
        "start_time": "2022-01-15T10:45:37.677Z"
      },
      {
        "duration": 48,
        "start_time": "2022-01-15T10:45:37.718Z"
      },
      {
        "duration": 11,
        "start_time": "2022-01-15T10:45:37.769Z"
      },
      {
        "duration": 250,
        "start_time": "2022-01-15T10:45:37.782Z"
      },
      {
        "duration": 12,
        "start_time": "2022-01-15T10:45:38.034Z"
      },
      {
        "duration": 131,
        "start_time": "2022-01-15T10:45:38.048Z"
      },
      {
        "duration": 79,
        "start_time": "2022-01-15T10:45:38.181Z"
      },
      {
        "duration": 11,
        "start_time": "2022-01-15T10:45:38.263Z"
      },
      {
        "duration": 166,
        "start_time": "2022-01-15T10:45:38.277Z"
      },
      {
        "duration": 109,
        "start_time": "2022-01-15T10:45:38.445Z"
      },
      {
        "duration": 84,
        "start_time": "2022-01-15T10:45:38.557Z"
      },
      {
        "duration": 12,
        "start_time": "2022-01-15T10:45:38.643Z"
      },
      {
        "duration": 19,
        "start_time": "2022-01-15T10:45:38.657Z"
      },
      {
        "duration": 39,
        "start_time": "2022-01-15T10:45:38.678Z"
      },
      {
        "duration": 20,
        "start_time": "2022-01-15T10:45:38.719Z"
      },
      {
        "duration": 13,
        "start_time": "2022-01-15T10:45:38.741Z"
      },
      {
        "duration": 57,
        "start_time": "2022-01-15T10:45:38.760Z"
      },
      {
        "duration": 14,
        "start_time": "2022-01-15T10:45:38.821Z"
      },
      {
        "duration": 8,
        "start_time": "2022-01-15T10:45:38.838Z"
      },
      {
        "duration": 7,
        "start_time": "2022-01-15T10:45:38.849Z"
      },
      {
        "duration": 16,
        "start_time": "2022-01-15T10:45:38.858Z"
      },
      {
        "duration": 30,
        "start_time": "2022-01-15T10:45:38.917Z"
      },
      {
        "duration": 42,
        "start_time": "2022-01-15T10:45:38.949Z"
      },
      {
        "duration": 44,
        "start_time": "2022-01-15T10:45:38.994Z"
      },
      {
        "duration": 19,
        "start_time": "2022-01-15T10:45:39.041Z"
      },
      {
        "duration": 21,
        "start_time": "2022-01-15T10:45:39.062Z"
      },
      {
        "duration": 46,
        "start_time": "2022-01-15T10:45:39.086Z"
      },
      {
        "duration": 25,
        "start_time": "2022-01-15T10:45:39.134Z"
      },
      {
        "duration": 7,
        "start_time": "2022-01-15T10:45:39.161Z"
      },
      {
        "duration": 48,
        "start_time": "2022-01-15T10:45:39.170Z"
      },
      {
        "duration": 12,
        "start_time": "2022-01-15T10:45:39.221Z"
      },
      {
        "duration": 7,
        "start_time": "2022-01-15T10:45:39.235Z"
      },
      {
        "duration": 7,
        "start_time": "2022-01-15T10:45:39.245Z"
      },
      {
        "duration": 10,
        "start_time": "2022-01-15T10:45:39.254Z"
      },
      {
        "duration": 209,
        "start_time": "2022-01-15T10:45:39.267Z"
      },
      {
        "duration": 25,
        "start_time": "2022-01-15T10:45:39.479Z"
      },
      {
        "duration": 16,
        "start_time": "2022-01-15T10:45:39.517Z"
      },
      {
        "duration": 15,
        "start_time": "2022-01-15T10:45:39.535Z"
      },
      {
        "duration": 5,
        "start_time": "2022-01-15T10:45:39.552Z"
      },
      {
        "duration": 59,
        "start_time": "2022-01-15T10:45:39.559Z"
      },
      {
        "duration": 7,
        "start_time": "2022-01-15T10:45:39.620Z"
      },
      {
        "duration": 8,
        "start_time": "2022-01-15T10:45:39.629Z"
      },
      {
        "duration": 10,
        "start_time": "2022-01-15T10:45:39.640Z"
      },
      {
        "duration": 8,
        "start_time": "2022-01-15T10:45:39.652Z"
      },
      {
        "duration": 56,
        "start_time": "2022-01-15T10:45:39.662Z"
      },
      {
        "duration": 6,
        "start_time": "2022-01-15T10:45:39.721Z"
      },
      {
        "duration": 454,
        "start_time": "2022-01-15T10:45:39.729Z"
      },
      {
        "duration": 355,
        "start_time": "2022-01-15T10:45:40.186Z"
      },
      {
        "duration": 341,
        "start_time": "2022-01-15T10:45:40.544Z"
      },
      {
        "duration": 6,
        "start_time": "2022-01-15T10:45:40.887Z"
      },
      {
        "duration": 24,
        "start_time": "2022-01-15T10:45:40.896Z"
      },
      {
        "duration": 7,
        "start_time": "2022-01-15T10:45:40.923Z"
      },
      {
        "duration": 345,
        "start_time": "2022-01-15T10:45:40.933Z"
      },
      {
        "duration": 358,
        "start_time": "2022-01-15T10:45:41.281Z"
      },
      {
        "duration": 339,
        "start_time": "2022-01-15T10:45:41.642Z"
      },
      {
        "duration": 7,
        "start_time": "2022-01-15T10:45:41.983Z"
      },
      {
        "duration": 26,
        "start_time": "2022-01-15T10:45:41.993Z"
      },
      {
        "duration": 8,
        "start_time": "2022-01-15T10:45:42.022Z"
      },
      {
        "duration": 5,
        "start_time": "2022-01-15T10:45:42.033Z"
      },
      {
        "duration": 16,
        "start_time": "2022-01-15T10:45:42.041Z"
      },
      {
        "duration": 114,
        "start_time": "2022-01-15T10:45:42.059Z"
      },
      {
        "duration": 372,
        "start_time": "2022-01-15T10:49:07.753Z"
      },
      {
        "duration": 343,
        "start_time": "2022-01-15T10:49:08.128Z"
      },
      {
        "duration": 303,
        "start_time": "2022-01-15T10:50:46.153Z"
      },
      {
        "duration": 325,
        "start_time": "2022-01-15T10:58:02.705Z"
      },
      {
        "duration": 337,
        "start_time": "2022-01-15T10:58:30.311Z"
      },
      {
        "duration": 365,
        "start_time": "2022-01-15T10:59:17.245Z"
      },
      {
        "duration": 390,
        "start_time": "2022-01-15T10:59:45.096Z"
      },
      {
        "duration": 371,
        "start_time": "2022-01-15T11:00:11.084Z"
      },
      {
        "duration": 14,
        "start_time": "2022-01-15T11:18:39.926Z"
      },
      {
        "duration": 13,
        "start_time": "2022-01-15T11:18:48.295Z"
      },
      {
        "duration": 16,
        "start_time": "2022-01-15T11:25:10.824Z"
      },
      {
        "duration": 12,
        "start_time": "2022-01-15T11:31:43.787Z"
      },
      {
        "duration": 13,
        "start_time": "2022-01-15T11:32:42.078Z"
      },
      {
        "duration": 5,
        "start_time": "2022-01-15T11:33:47.997Z"
      },
      {
        "duration": 5,
        "start_time": "2022-01-15T11:34:04.681Z"
      },
      {
        "duration": 5,
        "start_time": "2022-01-15T11:34:34.477Z"
      },
      {
        "duration": 4,
        "start_time": "2022-01-15T11:34:44.716Z"
      },
      {
        "duration": 15,
        "start_time": "2022-01-15T17:05:58.095Z"
      },
      {
        "duration": 15,
        "start_time": "2022-01-15T17:06:01.605Z"
      },
      {
        "duration": 8,
        "start_time": "2022-01-15T17:35:32.788Z"
      },
      {
        "duration": 8,
        "start_time": "2022-01-15T17:36:39.351Z"
      },
      {
        "duration": 9,
        "start_time": "2022-01-15T17:37:41.238Z"
      },
      {
        "duration": 8,
        "start_time": "2022-01-15T17:38:36.347Z"
      },
      {
        "duration": 8,
        "start_time": "2022-01-15T17:39:36.513Z"
      },
      {
        "duration": 9,
        "start_time": "2022-01-15T17:40:33.765Z"
      },
      {
        "duration": 1471,
        "start_time": "2022-01-15T18:11:36.925Z"
      },
      {
        "duration": 250,
        "start_time": "2022-01-15T18:11:38.399Z"
      },
      {
        "duration": 62,
        "start_time": "2022-01-15T18:11:38.655Z"
      },
      {
        "duration": 142,
        "start_time": "2022-01-15T18:11:38.719Z"
      },
      {
        "duration": 111,
        "start_time": "2022-01-15T18:11:38.863Z"
      },
      {
        "duration": 4,
        "start_time": "2022-01-15T18:11:38.976Z"
      },
      {
        "duration": 11,
        "start_time": "2022-01-15T18:11:38.983Z"
      },
      {
        "duration": 50,
        "start_time": "2022-01-15T18:11:39.017Z"
      },
      {
        "duration": 11,
        "start_time": "2022-01-15T18:11:39.069Z"
      },
      {
        "duration": 317,
        "start_time": "2022-01-15T18:11:39.083Z"
      },
      {
        "duration": 21,
        "start_time": "2022-01-15T18:11:39.402Z"
      },
      {
        "duration": 112,
        "start_time": "2022-01-15T18:11:39.425Z"
      },
      {
        "duration": 79,
        "start_time": "2022-01-15T18:11:39.539Z"
      },
      {
        "duration": 11,
        "start_time": "2022-01-15T18:11:39.620Z"
      },
      {
        "duration": 151,
        "start_time": "2022-01-15T18:11:39.634Z"
      },
      {
        "duration": 90,
        "start_time": "2022-01-15T18:11:39.787Z"
      },
      {
        "duration": 71,
        "start_time": "2022-01-15T18:11:39.879Z"
      },
      {
        "duration": 11,
        "start_time": "2022-01-15T18:11:39.953Z"
      },
      {
        "duration": 18,
        "start_time": "2022-01-15T18:11:39.966Z"
      },
      {
        "duration": 37,
        "start_time": "2022-01-15T18:11:39.986Z"
      },
      {
        "duration": 20,
        "start_time": "2022-01-15T18:11:40.026Z"
      },
      {
        "duration": 13,
        "start_time": "2022-01-15T18:11:40.052Z"
      },
      {
        "duration": 55,
        "start_time": "2022-01-15T18:11:40.069Z"
      },
      {
        "duration": 13,
        "start_time": "2022-01-15T18:11:40.127Z"
      },
      {
        "duration": 16,
        "start_time": "2022-01-15T18:11:40.142Z"
      },
      {
        "duration": 7,
        "start_time": "2022-01-15T18:11:40.160Z"
      },
      {
        "duration": 49,
        "start_time": "2022-01-15T18:11:40.169Z"
      },
      {
        "duration": 32,
        "start_time": "2022-01-15T18:11:40.221Z"
      },
      {
        "duration": 44,
        "start_time": "2022-01-15T18:11:40.256Z"
      },
      {
        "duration": 47,
        "start_time": "2022-01-15T18:11:40.303Z"
      },
      {
        "duration": 20,
        "start_time": "2022-01-15T18:11:40.353Z"
      },
      {
        "duration": 55,
        "start_time": "2022-01-15T18:11:40.376Z"
      },
      {
        "duration": 16,
        "start_time": "2022-01-15T18:11:40.433Z"
      },
      {
        "duration": 25,
        "start_time": "2022-01-15T18:11:40.451Z"
      },
      {
        "duration": 7,
        "start_time": "2022-01-15T18:11:40.478Z"
      },
      {
        "duration": 16,
        "start_time": "2022-01-15T18:11:40.518Z"
      },
      {
        "duration": 12,
        "start_time": "2022-01-15T18:11:40.537Z"
      },
      {
        "duration": 7,
        "start_time": "2022-01-15T18:11:40.551Z"
      },
      {
        "duration": 9,
        "start_time": "2022-01-15T18:11:40.560Z"
      },
      {
        "duration": 52,
        "start_time": "2022-01-15T18:11:40.571Z"
      },
      {
        "duration": 177,
        "start_time": "2022-01-15T18:11:40.626Z"
      },
      {
        "duration": 29,
        "start_time": "2022-01-15T18:11:40.805Z"
      },
      {
        "duration": 16,
        "start_time": "2022-01-15T18:11:40.836Z"
      },
      {
        "duration": 15,
        "start_time": "2022-01-15T18:11:40.854Z"
      },
      {
        "duration": 353,
        "start_time": "2022-01-15T18:11:40.871Z"
      },
      {
        "duration": 326,
        "start_time": "2022-01-15T18:11:41.227Z"
      },
      {
        "duration": 354,
        "start_time": "2022-01-15T18:11:41.555Z"
      },
      {
        "duration": 362,
        "start_time": "2022-01-15T18:11:41.911Z"
      },
      {
        "duration": 351,
        "start_time": "2022-01-15T18:11:42.275Z"
      },
      {
        "duration": 370,
        "start_time": "2022-01-15T18:11:42.628Z"
      },
      {
        "duration": 17,
        "start_time": "2022-01-15T18:11:43.000Z"
      },
      {
        "duration": 7,
        "start_time": "2022-01-15T18:11:43.020Z"
      },
      {
        "duration": 8,
        "start_time": "2022-01-15T18:11:43.029Z"
      },
      {
        "duration": 8,
        "start_time": "2022-01-15T18:11:43.040Z"
      },
      {
        "duration": 8,
        "start_time": "2022-01-15T18:11:43.051Z"
      },
      {
        "duration": 59,
        "start_time": "2022-01-15T18:11:43.061Z"
      },
      {
        "duration": 99,
        "start_time": "2022-01-15T18:11:43.122Z"
      },
      {
        "duration": 12,
        "start_time": "2022-01-15T18:11:43.223Z"
      },
      {
        "duration": 15,
        "start_time": "2022-01-15T18:11:43.237Z"
      },
      {
        "duration": 14,
        "start_time": "2022-01-15T18:11:43.254Z"
      },
      {
        "duration": 6,
        "start_time": "2022-01-15T18:11:43.270Z"
      },
      {
        "duration": 4,
        "start_time": "2022-01-15T18:11:43.317Z"
      },
      {
        "duration": 10,
        "start_time": "2022-01-15T18:11:43.323Z"
      },
      {
        "duration": 6,
        "start_time": "2022-01-15T18:11:43.336Z"
      },
      {
        "duration": 13,
        "start_time": "2022-01-15T18:13:29.448Z"
      },
      {
        "duration": 14,
        "start_time": "2022-01-15T18:13:45.509Z"
      },
      {
        "duration": 1518,
        "start_time": "2022-01-15T18:16:36.683Z"
      },
      {
        "duration": 241,
        "start_time": "2022-01-15T18:16:38.203Z"
      },
      {
        "duration": 41,
        "start_time": "2022-01-15T18:16:38.447Z"
      },
      {
        "duration": 155,
        "start_time": "2022-01-15T18:16:38.490Z"
      },
      {
        "duration": 114,
        "start_time": "2022-01-15T18:16:38.647Z"
      },
      {
        "duration": 5,
        "start_time": "2022-01-15T18:16:38.764Z"
      },
      {
        "duration": 14,
        "start_time": "2022-01-15T18:16:38.771Z"
      },
      {
        "duration": 68,
        "start_time": "2022-01-15T18:16:38.789Z"
      },
      {
        "duration": 13,
        "start_time": "2022-01-15T18:16:38.860Z"
      },
      {
        "duration": 245,
        "start_time": "2022-01-15T18:16:38.875Z"
      },
      {
        "duration": 13,
        "start_time": "2022-01-15T18:16:39.122Z"
      },
      {
        "duration": 112,
        "start_time": "2022-01-15T18:16:39.137Z"
      },
      {
        "duration": 85,
        "start_time": "2022-01-15T18:16:39.252Z"
      },
      {
        "duration": 12,
        "start_time": "2022-01-15T18:16:39.340Z"
      },
      {
        "duration": 155,
        "start_time": "2022-01-15T18:16:39.355Z"
      },
      {
        "duration": 82,
        "start_time": "2022-01-15T18:16:39.517Z"
      },
      {
        "duration": 55,
        "start_time": "2022-01-15T18:16:39.618Z"
      },
      {
        "duration": 10,
        "start_time": "2022-01-15T18:16:39.675Z"
      },
      {
        "duration": 41,
        "start_time": "2022-01-15T18:16:39.687Z"
      },
      {
        "duration": 11,
        "start_time": "2022-01-15T18:16:39.730Z"
      },
      {
        "duration": 19,
        "start_time": "2022-01-15T18:16:39.743Z"
      },
      {
        "duration": 54,
        "start_time": "2022-01-15T18:16:39.764Z"
      },
      {
        "duration": 20,
        "start_time": "2022-01-15T18:16:39.825Z"
      },
      {
        "duration": 14,
        "start_time": "2022-01-15T18:16:39.849Z"
      },
      {
        "duration": 9,
        "start_time": "2022-01-15T18:16:39.866Z"
      },
      {
        "duration": 8,
        "start_time": "2022-01-15T18:16:39.918Z"
      },
      {
        "duration": 15,
        "start_time": "2022-01-15T18:16:39.928Z"
      },
      {
        "duration": 31,
        "start_time": "2022-01-15T18:16:39.945Z"
      },
      {
        "duration": 56,
        "start_time": "2022-01-15T18:16:39.978Z"
      },
      {
        "duration": 21,
        "start_time": "2022-01-15T18:16:40.037Z"
      },
      {
        "duration": 56,
        "start_time": "2022-01-15T18:16:40.061Z"
      },
      {
        "duration": 16,
        "start_time": "2022-01-15T18:16:40.120Z"
      },
      {
        "duration": 25,
        "start_time": "2022-01-15T18:16:40.139Z"
      },
      {
        "duration": 502,
        "start_time": "2022-01-15T18:16:40.166Z"
      },
      {
        "duration": -1098,
        "start_time": "2022-01-15T18:16:41.769Z"
      },
      {
        "duration": -1102,
        "start_time": "2022-01-15T18:16:41.774Z"
      },
      {
        "duration": -1109,
        "start_time": "2022-01-15T18:16:41.782Z"
      },
      {
        "duration": -1109,
        "start_time": "2022-01-15T18:16:41.784Z"
      },
      {
        "duration": -1113,
        "start_time": "2022-01-15T18:16:41.789Z"
      },
      {
        "duration": -1114,
        "start_time": "2022-01-15T18:16:41.791Z"
      },
      {
        "duration": -1114,
        "start_time": "2022-01-15T18:16:41.793Z"
      },
      {
        "duration": -1115,
        "start_time": "2022-01-15T18:16:41.795Z"
      },
      {
        "duration": -1115,
        "start_time": "2022-01-15T18:16:41.796Z"
      },
      {
        "duration": -1115,
        "start_time": "2022-01-15T18:16:41.798Z"
      },
      {
        "duration": -1116,
        "start_time": "2022-01-15T18:16:41.800Z"
      },
      {
        "duration": -1115,
        "start_time": "2022-01-15T18:16:41.801Z"
      },
      {
        "duration": -1118,
        "start_time": "2022-01-15T18:16:41.805Z"
      },
      {
        "duration": -1118,
        "start_time": "2022-01-15T18:16:41.807Z"
      },
      {
        "duration": -1119,
        "start_time": "2022-01-15T18:16:41.809Z"
      },
      {
        "duration": -1120,
        "start_time": "2022-01-15T18:16:41.811Z"
      },
      {
        "duration": -1120,
        "start_time": "2022-01-15T18:16:41.813Z"
      },
      {
        "duration": -1120,
        "start_time": "2022-01-15T18:16:41.814Z"
      },
      {
        "duration": -1121,
        "start_time": "2022-01-15T18:16:41.816Z"
      },
      {
        "duration": -1121,
        "start_time": "2022-01-15T18:16:41.818Z"
      },
      {
        "duration": -1129,
        "start_time": "2022-01-15T18:16:41.827Z"
      },
      {
        "duration": -1129,
        "start_time": "2022-01-15T18:16:41.829Z"
      },
      {
        "duration": -1130,
        "start_time": "2022-01-15T18:16:41.831Z"
      },
      {
        "duration": -1129,
        "start_time": "2022-01-15T18:16:41.832Z"
      },
      {
        "duration": -1130,
        "start_time": "2022-01-15T18:16:41.834Z"
      },
      {
        "duration": -1120,
        "start_time": "2022-01-15T18:16:41.836Z"
      },
      {
        "duration": -1120,
        "start_time": "2022-01-15T18:16:41.838Z"
      },
      {
        "duration": -1121,
        "start_time": "2022-01-15T18:16:41.840Z"
      },
      {
        "duration": -1121,
        "start_time": "2022-01-15T18:16:41.841Z"
      },
      {
        "duration": 1526,
        "start_time": "2022-01-15T18:17:00.100Z"
      },
      {
        "duration": 250,
        "start_time": "2022-01-15T18:17:01.629Z"
      },
      {
        "duration": 53,
        "start_time": "2022-01-15T18:17:01.882Z"
      },
      {
        "duration": 143,
        "start_time": "2022-01-15T18:17:01.938Z"
      },
      {
        "duration": 107,
        "start_time": "2022-01-15T18:17:02.083Z"
      },
      {
        "duration": 3,
        "start_time": "2022-01-15T18:17:02.193Z"
      },
      {
        "duration": 25,
        "start_time": "2022-01-15T18:17:02.198Z"
      },
      {
        "duration": 52,
        "start_time": "2022-01-15T18:17:02.225Z"
      },
      {
        "duration": 38,
        "start_time": "2022-01-15T18:17:02.281Z"
      },
      {
        "duration": 199,
        "start_time": "2022-01-15T18:17:02.323Z"
      },
      {
        "duration": 12,
        "start_time": "2022-01-15T18:17:02.524Z"
      },
      {
        "duration": 116,
        "start_time": "2022-01-15T18:17:02.539Z"
      },
      {
        "duration": 76,
        "start_time": "2022-01-15T18:17:02.657Z"
      },
      {
        "duration": 11,
        "start_time": "2022-01-15T18:17:02.735Z"
      },
      {
        "duration": 149,
        "start_time": "2022-01-15T18:17:02.748Z"
      },
      {
        "duration": 95,
        "start_time": "2022-01-15T18:17:02.899Z"
      },
      {
        "duration": 74,
        "start_time": "2022-01-15T18:17:02.996Z"
      },
      {
        "duration": 11,
        "start_time": "2022-01-15T18:17:03.073Z"
      },
      {
        "duration": 44,
        "start_time": "2022-01-15T18:17:03.087Z"
      },
      {
        "duration": 12,
        "start_time": "2022-01-15T18:17:03.134Z"
      },
      {
        "duration": 22,
        "start_time": "2022-01-15T18:17:03.148Z"
      },
      {
        "duration": 51,
        "start_time": "2022-01-15T18:17:03.173Z"
      },
      {
        "duration": 23,
        "start_time": "2022-01-15T18:17:03.227Z"
      },
      {
        "duration": 13,
        "start_time": "2022-01-15T18:17:03.253Z"
      },
      {
        "duration": 9,
        "start_time": "2022-01-15T18:17:03.268Z"
      },
      {
        "duration": 42,
        "start_time": "2022-01-15T18:17:03.280Z"
      },
      {
        "duration": 14,
        "start_time": "2022-01-15T18:17:03.328Z"
      },
      {
        "duration": 29,
        "start_time": "2022-01-15T18:17:03.346Z"
      },
      {
        "duration": 57,
        "start_time": "2022-01-15T18:17:03.378Z"
      },
      {
        "duration": 17,
        "start_time": "2022-01-15T18:17:03.438Z"
      },
      {
        "duration": 20,
        "start_time": "2022-01-15T18:17:03.457Z"
      },
      {
        "duration": 40,
        "start_time": "2022-01-15T18:17:03.479Z"
      },
      {
        "duration": 24,
        "start_time": "2022-01-15T18:17:03.521Z"
      },
      {
        "duration": 7,
        "start_time": "2022-01-15T18:17:03.547Z"
      },
      {
        "duration": 22,
        "start_time": "2022-01-15T18:17:03.556Z"
      },
      {
        "duration": 44,
        "start_time": "2022-01-15T18:17:03.581Z"
      },
      {
        "duration": 9,
        "start_time": "2022-01-15T18:17:03.628Z"
      },
      {
        "duration": 9,
        "start_time": "2022-01-15T18:17:03.640Z"
      },
      {
        "duration": 10,
        "start_time": "2022-01-15T18:17:03.652Z"
      },
      {
        "duration": 213,
        "start_time": "2022-01-15T18:17:03.665Z"
      },
      {
        "duration": 36,
        "start_time": "2022-01-15T18:17:03.881Z"
      },
      {
        "duration": 21,
        "start_time": "2022-01-15T18:17:03.920Z"
      },
      {
        "duration": 20,
        "start_time": "2022-01-15T18:17:03.943Z"
      },
      {
        "duration": 354,
        "start_time": "2022-01-15T18:17:03.966Z"
      },
      {
        "duration": 346,
        "start_time": "2022-01-15T18:17:04.322Z"
      },
      {
        "duration": 451,
        "start_time": "2022-01-15T18:17:04.671Z"
      },
      {
        "duration": 379,
        "start_time": "2022-01-15T18:17:05.124Z"
      },
      {
        "duration": 350,
        "start_time": "2022-01-15T18:17:05.505Z"
      },
      {
        "duration": 371,
        "start_time": "2022-01-15T18:17:05.857Z"
      },
      {
        "duration": 8,
        "start_time": "2022-01-15T18:17:06.230Z"
      },
      {
        "duration": 11,
        "start_time": "2022-01-15T18:17:06.240Z"
      },
      {
        "duration": 9,
        "start_time": "2022-01-15T18:17:06.254Z"
      },
      {
        "duration": 9,
        "start_time": "2022-01-15T18:17:06.266Z"
      },
      {
        "duration": 9,
        "start_time": "2022-01-15T18:17:06.318Z"
      },
      {
        "duration": 8,
        "start_time": "2022-01-15T18:17:06.329Z"
      },
      {
        "duration": 123,
        "start_time": "2022-01-15T18:17:06.340Z"
      },
      {
        "duration": 13,
        "start_time": "2022-01-15T18:17:06.466Z"
      },
      {
        "duration": 40,
        "start_time": "2022-01-15T18:17:06.481Z"
      },
      {
        "duration": 15,
        "start_time": "2022-01-15T18:17:06.524Z"
      },
      {
        "duration": 5,
        "start_time": "2022-01-15T18:17:06.542Z"
      },
      {
        "duration": 6,
        "start_time": "2022-01-15T18:17:06.550Z"
      },
      {
        "duration": 13,
        "start_time": "2022-01-15T18:17:06.558Z"
      },
      {
        "duration": 6,
        "start_time": "2022-01-15T18:17:06.618Z"
      },
      {
        "duration": 1499,
        "start_time": "2022-01-18T09:18:34.951Z"
      },
      {
        "duration": 261,
        "start_time": "2022-01-18T09:18:36.453Z"
      },
      {
        "duration": 62,
        "start_time": "2022-01-18T09:18:36.716Z"
      },
      {
        "duration": 135,
        "start_time": "2022-01-18T09:18:36.781Z"
      },
      {
        "duration": 113,
        "start_time": "2022-01-18T09:18:36.918Z"
      },
      {
        "duration": 5,
        "start_time": "2022-01-18T09:18:37.033Z"
      },
      {
        "duration": 28,
        "start_time": "2022-01-18T09:18:37.040Z"
      },
      {
        "duration": 47,
        "start_time": "2022-01-18T09:18:37.070Z"
      },
      {
        "duration": 8,
        "start_time": "2022-01-18T09:18:37.119Z"
      },
      {
        "duration": 171,
        "start_time": "2022-01-18T09:18:37.129Z"
      },
      {
        "duration": 9,
        "start_time": "2022-01-18T09:18:37.302Z"
      },
      {
        "duration": 88,
        "start_time": "2022-01-18T09:18:37.312Z"
      },
      {
        "duration": 60,
        "start_time": "2022-01-18T09:18:37.402Z"
      },
      {
        "duration": 9,
        "start_time": "2022-01-18T09:18:37.464Z"
      },
      {
        "duration": 212,
        "start_time": "2022-01-18T09:18:37.475Z"
      },
      {
        "duration": 72,
        "start_time": "2022-01-18T09:18:37.689Z"
      },
      {
        "duration": 39,
        "start_time": "2022-01-18T09:18:37.762Z"
      },
      {
        "duration": 7,
        "start_time": "2022-01-18T09:18:37.803Z"
      },
      {
        "duration": 25,
        "start_time": "2022-01-18T09:18:37.812Z"
      },
      {
        "duration": 42,
        "start_time": "2022-01-18T09:18:37.839Z"
      },
      {
        "duration": 36,
        "start_time": "2022-01-18T09:18:37.883Z"
      },
      {
        "duration": 12,
        "start_time": "2022-01-18T09:18:37.921Z"
      },
      {
        "duration": 48,
        "start_time": "2022-01-18T09:18:37.935Z"
      },
      {
        "duration": 19,
        "start_time": "2022-01-18T09:18:37.985Z"
      },
      {
        "duration": 20,
        "start_time": "2022-01-18T09:18:38.006Z"
      },
      {
        "duration": 24,
        "start_time": "2022-01-18T09:18:38.028Z"
      },
      {
        "duration": 28,
        "start_time": "2022-01-18T09:18:38.056Z"
      },
      {
        "duration": 46,
        "start_time": "2022-01-18T09:18:38.086Z"
      },
      {
        "duration": 59,
        "start_time": "2022-01-18T09:18:38.134Z"
      },
      {
        "duration": 12,
        "start_time": "2022-01-18T09:18:38.195Z"
      },
      {
        "duration": 34,
        "start_time": "2022-01-18T09:18:38.209Z"
      },
      {
        "duration": 33,
        "start_time": "2022-01-18T09:18:38.245Z"
      },
      {
        "duration": 40,
        "start_time": "2022-01-18T09:18:38.279Z"
      },
      {
        "duration": 6,
        "start_time": "2022-01-18T09:18:38.321Z"
      },
      {
        "duration": 31,
        "start_time": "2022-01-18T09:18:38.329Z"
      },
      {
        "duration": 28,
        "start_time": "2022-01-18T09:18:38.362Z"
      },
      {
        "duration": 14,
        "start_time": "2022-01-18T09:18:38.392Z"
      },
      {
        "duration": 15,
        "start_time": "2022-01-18T09:18:38.408Z"
      },
      {
        "duration": 26,
        "start_time": "2022-01-18T09:18:38.425Z"
      },
      {
        "duration": 120,
        "start_time": "2022-01-18T09:18:38.453Z"
      },
      {
        "duration": 17,
        "start_time": "2022-01-18T09:18:38.574Z"
      },
      {
        "duration": 21,
        "start_time": "2022-01-18T09:18:38.593Z"
      },
      {
        "duration": 29,
        "start_time": "2022-01-18T09:18:38.616Z"
      },
      {
        "duration": 217,
        "start_time": "2022-01-18T09:18:38.647Z"
      },
      {
        "duration": 301,
        "start_time": "2022-01-18T09:18:38.867Z"
      },
      {
        "duration": 215,
        "start_time": "2022-01-18T09:18:39.170Z"
      },
      {
        "duration": 237,
        "start_time": "2022-01-18T09:18:39.386Z"
      },
      {
        "duration": 329,
        "start_time": "2022-01-18T09:18:39.624Z"
      },
      {
        "duration": 337,
        "start_time": "2022-01-18T09:18:39.960Z"
      },
      {
        "duration": 6,
        "start_time": "2022-01-18T09:18:40.299Z"
      },
      {
        "duration": 18,
        "start_time": "2022-01-18T09:18:40.307Z"
      },
      {
        "duration": 10,
        "start_time": "2022-01-18T09:18:40.327Z"
      },
      {
        "duration": 23,
        "start_time": "2022-01-18T09:18:40.339Z"
      },
      {
        "duration": 6,
        "start_time": "2022-01-18T09:18:40.364Z"
      },
      {
        "duration": 8,
        "start_time": "2022-01-18T09:18:40.372Z"
      },
      {
        "duration": 103,
        "start_time": "2022-01-18T09:18:40.382Z"
      },
      {
        "duration": 10,
        "start_time": "2022-01-18T09:18:40.487Z"
      },
      {
        "duration": 10,
        "start_time": "2022-01-18T09:18:40.499Z"
      },
      {
        "duration": 11,
        "start_time": "2022-01-18T09:18:40.512Z"
      },
      {
        "duration": 36,
        "start_time": "2022-01-18T09:18:40.525Z"
      },
      {
        "duration": 4,
        "start_time": "2022-01-18T09:18:40.563Z"
      },
      {
        "duration": 20,
        "start_time": "2022-01-18T09:18:40.569Z"
      },
      {
        "duration": 7,
        "start_time": "2022-01-18T09:18:40.591Z"
      },
      {
        "duration": 5,
        "start_time": "2022-01-18T09:20:34.429Z"
      },
      {
        "duration": 5,
        "start_time": "2022-01-18T09:20:39.506Z"
      },
      {
        "duration": 6,
        "start_time": "2022-01-18T09:21:47.137Z"
      },
      {
        "duration": 9,
        "start_time": "2022-01-18T09:21:51.544Z"
      }
    ],
    "kernelspec": {
      "display_name": "Python 3 (ipykernel)",
      "language": "python",
      "name": "python3"
    },
    "language_info": {
      "codemirror_mode": {
        "name": "ipython",
        "version": 3
      },
      "file_extension": ".py",
      "mimetype": "text/x-python",
      "name": "python",
      "nbconvert_exporter": "python",
      "pygments_lexer": "ipython3",
      "version": "3.9.5"
    },
    "toc": {
      "base_numbering": 1,
      "nav_menu": {},
      "number_sections": true,
      "sideBar": true,
      "skip_h1_title": true,
      "title_cell": "Table of Contents",
      "title_sidebar": "Contents",
      "toc_cell": false,
      "toc_position": {},
      "toc_section_display": true,
      "toc_window_display": false
    },
    "colab": {
      "name": "Определение перспективного тарифа для телеком-компании.ipynb",
      "provenance": []
    }
  },
  "nbformat": 4,
  "nbformat_minor": 0
}