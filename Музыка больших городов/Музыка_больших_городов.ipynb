{
  "cells": [
    {
      "cell_type": "markdown",
      "source": [
        "## **Музыка больших городов**"
      ],
      "metadata": {
        "id": "UFnjBuKw932s"
      }
    },
    {
      "cell_type": "markdown",
      "metadata": {
        "id": "VUC88oWjTJw2"
      },
      "source": [
        "\n",
        "**Цель исследования** — проверка трех гипотез:\n",
        "1. Активность пользователей зависит от дня недели. \n",
        "2. В понедельник утром и в пятницу вечером в Москве преобладают одни жанры, а в Петербурге — другие. \n",
        "3. Москва и Петербург предпочитают разные жанры музыки. В Москве чаще слушают поп-музыку, в Петербурге — русский рэп.\n",
        "\n",
        "\n",
        "\n"
      ]
    },
    {
      "cell_type": "markdown",
      "source": [
        "Посмотрим, что у нас есть в данных"
      ],
      "metadata": {
        "id": "uJqEuLfTAGLB"
      }
    },
    {
      "cell_type": "code",
      "execution_count": null,
      "metadata": {
        "id": "AXN7PHPN_Zcs"
      },
      "outputs": [],
      "source": [
        "import pandas as pd # импорт библиотеки pandas"
      ]
    },
    {
      "cell_type": "markdown",
      "metadata": {
        "id": "rDoOMd3uTqnZ"
      },
      "source": [
        "Выведем на экран первые десять строк таблицы:"
      ]
    },
    {
      "cell_type": "code",
      "execution_count": null,
      "metadata": {
        "id": "oWTVX3gW_Zct",
        "outputId": "8abef49f-d26e-421d-dfec-65b3b6992acc"
      },
      "outputs": [
        {
          "data": {
            "text/html": [
              "<div>\n",
              "<style scoped>\n",
              "    .dataframe tbody tr th:only-of-type {\n",
              "        vertical-align: middle;\n",
              "    }\n",
              "\n",
              "    .dataframe tbody tr th {\n",
              "        vertical-align: top;\n",
              "    }\n",
              "\n",
              "    .dataframe thead th {\n",
              "        text-align: right;\n",
              "    }\n",
              "</style>\n",
              "<table border=\"1\" class=\"dataframe\">\n",
              "  <thead>\n",
              "    <tr style=\"text-align: right;\">\n",
              "      <th></th>\n",
              "      <th>userID</th>\n",
              "      <th>Track</th>\n",
              "      <th>artist</th>\n",
              "      <th>genre</th>\n",
              "      <th>City</th>\n",
              "      <th>time</th>\n",
              "      <th>Day</th>\n",
              "    </tr>\n",
              "  </thead>\n",
              "  <tbody>\n",
              "    <tr>\n",
              "      <th>0</th>\n",
              "      <td>FFB692EC</td>\n",
              "      <td>Kamigata To Boots</td>\n",
              "      <td>The Mass Missile</td>\n",
              "      <td>rock</td>\n",
              "      <td>Saint-Petersburg</td>\n",
              "      <td>20:28:33</td>\n",
              "      <td>Wednesday</td>\n",
              "    </tr>\n",
              "    <tr>\n",
              "      <th>1</th>\n",
              "      <td>55204538</td>\n",
              "      <td>Delayed Because of Accident</td>\n",
              "      <td>Andreas Rönnberg</td>\n",
              "      <td>rock</td>\n",
              "      <td>Moscow</td>\n",
              "      <td>14:07:09</td>\n",
              "      <td>Friday</td>\n",
              "    </tr>\n",
              "    <tr>\n",
              "      <th>2</th>\n",
              "      <td>20EC38</td>\n",
              "      <td>Funiculì funiculà</td>\n",
              "      <td>Mario Lanza</td>\n",
              "      <td>pop</td>\n",
              "      <td>Saint-Petersburg</td>\n",
              "      <td>20:58:07</td>\n",
              "      <td>Wednesday</td>\n",
              "    </tr>\n",
              "    <tr>\n",
              "      <th>3</th>\n",
              "      <td>A3DD03C9</td>\n",
              "      <td>Dragons in the Sunset</td>\n",
              "      <td>Fire + Ice</td>\n",
              "      <td>folk</td>\n",
              "      <td>Saint-Petersburg</td>\n",
              "      <td>08:37:09</td>\n",
              "      <td>Monday</td>\n",
              "    </tr>\n",
              "    <tr>\n",
              "      <th>4</th>\n",
              "      <td>E2DC1FAE</td>\n",
              "      <td>Soul People</td>\n",
              "      <td>Space Echo</td>\n",
              "      <td>dance</td>\n",
              "      <td>Moscow</td>\n",
              "      <td>08:34:34</td>\n",
              "      <td>Monday</td>\n",
              "    </tr>\n",
              "    <tr>\n",
              "      <th>5</th>\n",
              "      <td>842029A1</td>\n",
              "      <td>Преданная</td>\n",
              "      <td>IMPERVTOR</td>\n",
              "      <td>rusrap</td>\n",
              "      <td>Saint-Petersburg</td>\n",
              "      <td>13:09:41</td>\n",
              "      <td>Friday</td>\n",
              "    </tr>\n",
              "    <tr>\n",
              "      <th>6</th>\n",
              "      <td>4CB90AA5</td>\n",
              "      <td>True</td>\n",
              "      <td>Roman Messer</td>\n",
              "      <td>dance</td>\n",
              "      <td>Moscow</td>\n",
              "      <td>13:00:07</td>\n",
              "      <td>Wednesday</td>\n",
              "    </tr>\n",
              "    <tr>\n",
              "      <th>7</th>\n",
              "      <td>F03E1C1F</td>\n",
              "      <td>Feeling This Way</td>\n",
              "      <td>Polina Griffith</td>\n",
              "      <td>dance</td>\n",
              "      <td>Moscow</td>\n",
              "      <td>20:47:49</td>\n",
              "      <td>Wednesday</td>\n",
              "    </tr>\n",
              "    <tr>\n",
              "      <th>8</th>\n",
              "      <td>8FA1D3BE</td>\n",
              "      <td>И вновь продолжается бой</td>\n",
              "      <td>NaN</td>\n",
              "      <td>ruspop</td>\n",
              "      <td>Moscow</td>\n",
              "      <td>09:17:40</td>\n",
              "      <td>Friday</td>\n",
              "    </tr>\n",
              "    <tr>\n",
              "      <th>9</th>\n",
              "      <td>E772D5C0</td>\n",
              "      <td>Pessimist</td>\n",
              "      <td>NaN</td>\n",
              "      <td>dance</td>\n",
              "      <td>Saint-Petersburg</td>\n",
              "      <td>21:20:49</td>\n",
              "      <td>Wednesday</td>\n",
              "    </tr>\n",
              "  </tbody>\n",
              "</table>\n",
              "</div>"
            ],
            "text/plain": [
              "     userID                        Track            artist   genre  \\\n",
              "0  FFB692EC            Kamigata To Boots  The Mass Missile    rock   \n",
              "1  55204538  Delayed Because of Accident  Andreas Rönnberg    rock   \n",
              "2    20EC38            Funiculì funiculà       Mario Lanza     pop   \n",
              "3  A3DD03C9        Dragons in the Sunset        Fire + Ice    folk   \n",
              "4  E2DC1FAE                  Soul People        Space Echo   dance   \n",
              "5  842029A1                    Преданная         IMPERVTOR  rusrap   \n",
              "6  4CB90AA5                         True      Roman Messer   dance   \n",
              "7  F03E1C1F             Feeling This Way   Polina Griffith   dance   \n",
              "8  8FA1D3BE     И вновь продолжается бой               NaN  ruspop   \n",
              "9  E772D5C0                    Pessimist               NaN   dance   \n",
              "\n",
              "             City        time        Day  \n",
              "0  Saint-Petersburg  20:28:33  Wednesday  \n",
              "1            Moscow  14:07:09     Friday  \n",
              "2  Saint-Petersburg  20:58:07  Wednesday  \n",
              "3  Saint-Petersburg  08:37:09     Monday  \n",
              "4            Moscow  08:34:34     Monday  \n",
              "5  Saint-Petersburg  13:09:41     Friday  \n",
              "6            Moscow  13:00:07  Wednesday  \n",
              "7            Moscow  20:47:49  Wednesday  \n",
              "8            Moscow  09:17:40     Friday  \n",
              "9  Saint-Petersburg  21:20:49  Wednesday  "
            ]
          },
          "execution_count": 3,
          "metadata": {},
          "output_type": "execute_result"
        }
      ],
      "source": [
        "df.head(10) # получение первых 10 строк таблицы df"
      ]
    },
    {
      "cell_type": "code",
      "execution_count": null,
      "metadata": {
        "id": "DSf2kIb-_Zct",
        "outputId": "4e64470b-ae64-4783-a770-ccb424ab9a08"
      },
      "outputs": [
        {
          "name": "stdout",
          "output_type": "stream",
          "text": [
            "<class 'pandas.core.frame.DataFrame'>\n",
            "RangeIndex: 65079 entries, 0 to 65078\n",
            "Data columns (total 7 columns):\n",
            " #   Column    Non-Null Count  Dtype \n",
            "---  ------    --------------  ----- \n",
            " 0     userID  65079 non-null  object\n",
            " 1   Track     63848 non-null  object\n",
            " 2   artist    57876 non-null  object\n",
            " 3   genre     63881 non-null  object\n",
            " 4     City    65079 non-null  object\n",
            " 5   time      65079 non-null  object\n",
            " 6   Day       65079 non-null  object\n",
            "dtypes: object(7)\n",
            "memory usage: 3.5+ MB\n"
          ]
        }
      ],
      "source": [
        "df.info()"
      ]
    },
    {
      "cell_type": "markdown",
      "metadata": {
        "id": "TaQ2Iwbr_Zct"
      },
      "source": [
        "Итак, в таблице семь столбцов. Тип данных во всех столбцах — `object`.\n",
        "\n",
        "Согласно документации к данным:\n",
        "* `userID` — идентификатор пользователя;\n",
        "* `Track` — название трека;  \n",
        "* `artist` — имя исполнителя;\n",
        "* `genre` — название жанра;\n",
        "* `City` — город пользователя;\n",
        "* `time` — время начала прослушивания;\n",
        "* `Day` — день недели.\n",
        "\n",
        "В названиях колонок видны нарушения стиля.\n",
        "\n",
        "Количество значений в столбцах различается. Значит, в данных есть пропущенные значения.\n"
      ]
    },
    {
      "cell_type": "markdown",
      "metadata": {
        "id": "SjYF6Ub9_Zct"
      },
      "source": [
        "## Предобработка данных\n"
      ]
    },
    {
      "cell_type": "markdown",
      "metadata": {
        "id": "dIaKXr29_Zct"
      },
      "source": [
        "### Стиль заголовков\n"
      ]
    },
    {
      "cell_type": "code",
      "execution_count": null,
      "metadata": {
        "id": "oKOTdF_Q_Zct",
        "outputId": "672be337-7643-4017-8b62-d6f06789f34c"
      },
      "outputs": [
        {
          "name": "stdout",
          "output_type": "stream",
          "text": [
            "Index(['  userID', 'Track', 'artist', 'genre', '  City  ', 'time', 'Day'], dtype='object')\n"
          ]
        }
      ],
      "source": [
        "print(df.columns) # перечень названий столбцов таблицы df"
      ]
    },
    {
      "cell_type": "code",
      "execution_count": null,
      "metadata": {
        "id": "ISlFqs5y_Zct"
      },
      "outputs": [],
      "source": [
        "df = df.rename(columns={'  userID': 'user_id', 'Track': 'track', '  City  ': 'city', 'Day' : 'day'\n",
        "}) # переименование столбцов"
      ]
    },
    {
      "cell_type": "code",
      "execution_count": null,
      "metadata": {
        "id": "d4NOAmTW_Zct",
        "outputId": "8304dcc7-ee9f-4bfb-8d86-c5525cf015c6"
      },
      "outputs": [
        {
          "name": "stdout",
          "output_type": "stream",
          "text": [
            "Index(['user_id', 'track', 'artist', 'genre', 'city', 'time', 'day'], dtype='object')\n"
          ]
        }
      ],
      "source": [
        "print(df.columns) # проверка результатов - перечень названий столбцов"
      ]
    },
    {
      "cell_type": "markdown",
      "metadata": {
        "id": "5ISfbcfY_Zct"
      },
      "source": [
        "### Пропуски значений\n"
      ]
    },
    {
      "cell_type": "code",
      "execution_count": null,
      "metadata": {
        "id": "RskX29qr_Zct",
        "outputId": "972f7406-cb30-4fe6-f9be-27c0eddeb5fd"
      },
      "outputs": [
        {
          "name": "stdout",
          "output_type": "stream",
          "text": [
            "user_id       0\n",
            "track      1231\n",
            "artist     7203\n",
            "genre      1198\n",
            "city          0\n",
            "time          0\n",
            "day           0\n",
            "dtype: int64\n"
          ]
        }
      ],
      "source": [
        "print(df.isna().sum())  # подсчёт пропусков"
      ]
    },
    {
      "cell_type": "markdown",
      "metadata": {
        "id": "qubhgnlO_Zct"
      },
      "source": [
        "Пропуски в `track` и `artist` не важны для данного проекта. Заполним пропуски uknown.\n",
        "\n",
        "Но пропуски в `genre` могут помешать сравнению музыкальных вкусов в Москве и Санкт-Петербурге. "
      ]
    },
    {
      "cell_type": "markdown",
      "metadata": {
        "id": "fSv2laPA_Zct"
      },
      "source": [
        "Заменим пропущенные значения в столбцах `track`, `artist` и `genre` на строку `'unknown'`с помощью цикла for."
      ]
    },
    {
      "cell_type": "code",
      "execution_count": null,
      "metadata": {
        "id": "KplB5qWs_Zct"
      },
      "outputs": [],
      "source": [
        "columns_to_replace = ['track', 'artist','genre'] # перебор названий столбцов в цикле и замена пропущенных значений на 'unknown'\n",
        "for column in columns_to_replace:\n",
        "    df[column] =df[column].fillna('unknown')\n"
      ]
    },
    {
      "cell_type": "code",
      "execution_count": null,
      "metadata": {
        "id": "Tq4nYRX4_Zct",
        "outputId": "d77b3ea1-03c8-49cc-bd0b-97e0fbf349bf"
      },
      "outputs": [
        {
          "name": "stdout",
          "output_type": "stream",
          "text": [
            "user_id    0\n",
            "track      0\n",
            "artist     0\n",
            "genre      0\n",
            "city       0\n",
            "time       0\n",
            "day        0\n",
            "dtype: int64\n"
          ]
        }
      ],
      "source": [
        "print(df.isna().sum()) # подсчёт пропусков"
      ]
    },
    {
      "cell_type": "markdown",
      "metadata": {
        "id": "BWKRtBJ3_Zct"
      },
      "source": [
        "### Дубликаты\n"
      ]
    },
    {
      "cell_type": "code",
      "execution_count": null,
      "metadata": {
        "id": "36eES_S0_Zct",
        "outputId": "df1b4e67-2db5-4651-b8cd-9d71333fe803"
      },
      "outputs": [
        {
          "name": "stdout",
          "output_type": "stream",
          "text": [
            "3826\n"
          ]
        }
      ],
      "source": [
        "print(df.duplicated().sum())  # подсчёт явных дубликатов"
      ]
    },
    {
      "cell_type": "markdown",
      "metadata": {
        "id": "Ot25h6XR_Zct"
      },
      "source": [
        "Удалим дубликаты"
      ]
    },
    {
      "cell_type": "code",
      "execution_count": null,
      "metadata": {
        "id": "exFHq6tt_Zct"
      },
      "outputs": [],
      "source": [
        "df = df.drop_duplicates().reset_index(drop=True) # удаление явных дубликатов (с удалением старых индексов и формированием новых)"
      ]
    },
    {
      "cell_type": "code",
      "execution_count": null,
      "metadata": {
        "id": "-8PuNWQ0_Zct",
        "outputId": "a5fa5fe8-2ad8-4d65-ba9a-054850d49fa1"
      },
      "outputs": [
        {
          "name": "stdout",
          "output_type": "stream",
          "text": [
            "0\n"
          ]
        }
      ],
      "source": [
        "print(df.duplicated().sum()) # проверка на отсутствие дубликатов"
      ]
    },
    {
      "cell_type": "markdown",
      "metadata": {
        "id": "QlFBsxAr_Zct"
      },
      "source": [
        "Теперь посмотрим на неявные дубликаты в столбце genre."
      ]
    },
    {
      "cell_type": "code",
      "execution_count": null,
      "metadata": {
        "id": "JIUcqzZN_Zct",
        "outputId": "7bb6b77f-5566-40ab-bea9-98431540ab8b"
      },
      "outputs": [
        {
          "name": "stdout",
          "output_type": "stream",
          "text": [
            "['acid', 'acoustic', 'action', 'adult', 'africa', 'afrikaans', 'alternative', 'alternativepunk', 'ambient', 'americana', 'animated', 'anime', 'arabesk', 'arabic', 'arena', 'argentinetango', 'art', 'audiobook', 'author', 'avantgarde', 'axé', 'baile', 'balkan', 'beats', 'bigroom', 'black', 'bluegrass', 'blues', 'bollywood', 'bossa', 'brazilian', 'breakbeat', 'breaks', 'broadway', 'cantautori', 'cantopop', 'canzone', 'caribbean', 'caucasian', 'celtic', 'chamber', 'chanson', 'children', 'chill', 'chinese', 'choral', 'christian', 'christmas', 'classical', 'classicmetal', 'club', 'colombian', 'comedy', 'conjazz', 'contemporary', 'country', 'cuban', 'dance', 'dancehall', 'dancepop', 'dark', 'death', 'deep', 'deutschrock', 'deutschspr', 'dirty', 'disco', 'dnb', 'documentary', 'downbeat', 'downtempo', 'drum', 'dub', 'dubstep', 'eastern', 'easy', 'electronic', 'electropop', 'emo', 'entehno', 'epicmetal', 'estrada', 'ethnic', 'eurofolk', 'european', 'experimental', 'extrememetal', 'fado', 'fairytail', 'film', 'fitness', 'flamenco', 'folk', 'folklore', 'folkmetal', 'folkrock', 'folktronica', 'forró', 'frankreich', 'französisch', 'french', 'funk', 'future', 'gangsta', 'garage', 'german', 'ghazal', 'gitarre', 'glitch', 'gospel', 'gothic', 'grime', 'grunge', 'gypsy', 'handsup', \"hard'n'heavy\", 'hardcore', 'hardstyle', 'hardtechno', 'hip', 'hip-hop', 'hiphop', 'historisch', 'holiday', 'hop', 'horror', 'house', 'hymn', 'idm', 'independent', 'indian', 'indie', 'indipop', 'industrial', 'inspirational', 'instrumental', 'international', 'irish', 'jam', 'japanese', 'jazz', 'jewish', 'jpop', 'jungle', 'k-pop', 'karadeniz', 'karaoke', 'kayokyoku', 'korean', 'laiko', 'latin', 'latino', 'leftfield', 'local', 'lounge', 'loungeelectronic', 'lovers', 'malaysian', 'mandopop', 'marschmusik', 'meditative', 'mediterranean', 'melodic', 'metal', 'metalcore', 'mexican', 'middle', 'minimal', 'miscellaneous', 'modern', 'mood', 'mpb', 'muslim', 'native', 'neoklassik', 'neue', 'new', 'newage', 'newwave', 'nu', 'nujazz', 'numetal', 'oceania', 'old', 'opera', 'orchestral', 'other', 'piano', 'podcasts', 'pop', 'popdance', 'popelectronic', 'popeurodance', 'poprussian', 'post', 'posthardcore', 'postrock', 'power', 'progmetal', 'progressive', 'psychedelic', 'punjabi', 'punk', 'quebecois', 'ragga', 'ram', 'rancheras', 'rap', 'rave', 'reggae', 'reggaeton', 'regional', 'relax', 'religious', 'retro', 'rhythm', 'rnb', 'rnr', 'rock', 'rockabilly', 'rockalternative', 'rockindie', 'rockother', 'romance', 'roots', 'ruspop', 'rusrap', 'rusrock', 'russian', 'salsa', 'samba', 'scenic', 'schlager', 'self', 'sertanejo', 'shanson', 'shoegazing', 'showtunes', 'singer', 'ska', 'skarock', 'slow', 'smooth', 'soft', 'soul', 'soulful', 'sound', 'soundtrack', 'southern', 'specialty', 'speech', 'spiritual', 'sport', 'stonerrock', 'surf', 'swing', 'synthpop', 'synthrock', 'sängerportrait', 'tango', 'tanzorchester', 'taraftar', 'tatar', 'tech', 'techno', 'teen', 'thrash', 'top', 'traditional', 'tradjazz', 'trance', 'tribal', 'trip', 'triphop', 'tropical', 'türk', 'türkçe', 'ukrrock', 'unknown', 'urban', 'uzbek', 'variété', 'vi', 'videogame', 'vocal', 'western', 'world', 'worldbeat', 'ïîï', 'электроника']\n"
          ]
        }
      ],
      "source": [
        "print(sorted(df['genre'].unique()))  # Просмотр уникальных названий жанров"
      ]
    },
    {
      "cell_type": "markdown",
      "metadata": {
        "id": "qej-Qmuo_Zct"
      },
      "source": [
        "С помощью функции заменим неявные дубликаты hiphop на правильное название жанра.\n",
        "\n"
      ]
    },
    {
      "cell_type": "code",
      "execution_count": null,
      "metadata": {
        "id": "ErNDkmns_Zct"
      },
      "outputs": [],
      "source": [
        "def replace_wrong_genres(wrong_genres, correct_genre): \n",
        "    for wrong_genre in wrong_genres: \n",
        "        df['genre'] = df['genre'].replace(wrong_genre, correct_genre) \n",
        "\n",
        "duplicates = ['hip', 'hop', 'hip-hop'] # список неправильных имён\n",
        "genre = 'hiphop' # правильное имя\n",
        "\n"
      ]
    },
    {
      "cell_type": "code",
      "execution_count": null,
      "metadata": {
        "id": "YN5i2hpmSo09"
      },
      "outputs": [],
      "source": [
        "replace_wrong_genres(duplicates, genre)  # Устранение неявных дубликатов"
      ]
    },
    {
      "cell_type": "code",
      "execution_count": null,
      "metadata": {
        "id": "wvixALnFG15m",
        "outputId": "c22ab185-220a-439a-cd61-0ef317130074"
      },
      "outputs": [
        {
          "name": "stdout",
          "output_type": "stream",
          "text": [
            "['acid', 'acoustic', 'action', 'adult', 'africa', 'afrikaans', 'alternative', 'alternativepunk', 'ambient', 'americana', 'animated', 'anime', 'arabesk', 'arabic', 'arena', 'argentinetango', 'art', 'audiobook', 'author', 'avantgarde', 'axé', 'baile', 'balkan', 'beats', 'bigroom', 'black', 'bluegrass', 'blues', 'bollywood', 'bossa', 'brazilian', 'breakbeat', 'breaks', 'broadway', 'cantautori', 'cantopop', 'canzone', 'caribbean', 'caucasian', 'celtic', 'chamber', 'chanson', 'children', 'chill', 'chinese', 'choral', 'christian', 'christmas', 'classical', 'classicmetal', 'club', 'colombian', 'comedy', 'conjazz', 'contemporary', 'country', 'cuban', 'dance', 'dancehall', 'dancepop', 'dark', 'death', 'deep', 'deutschrock', 'deutschspr', 'dirty', 'disco', 'dnb', 'documentary', 'downbeat', 'downtempo', 'drum', 'dub', 'dubstep', 'eastern', 'easy', 'electronic', 'electropop', 'emo', 'entehno', 'epicmetal', 'estrada', 'ethnic', 'eurofolk', 'european', 'experimental', 'extrememetal', 'fado', 'fairytail', 'film', 'fitness', 'flamenco', 'folk', 'folklore', 'folkmetal', 'folkrock', 'folktronica', 'forró', 'frankreich', 'französisch', 'french', 'funk', 'future', 'gangsta', 'garage', 'german', 'ghazal', 'gitarre', 'glitch', 'gospel', 'gothic', 'grime', 'grunge', 'gypsy', 'handsup', \"hard'n'heavy\", 'hardcore', 'hardstyle', 'hardtechno', 'hiphop', 'historisch', 'holiday', 'horror', 'house', 'hymn', 'idm', 'independent', 'indian', 'indie', 'indipop', 'industrial', 'inspirational', 'instrumental', 'international', 'irish', 'jam', 'japanese', 'jazz', 'jewish', 'jpop', 'jungle', 'k-pop', 'karadeniz', 'karaoke', 'kayokyoku', 'korean', 'laiko', 'latin', 'latino', 'leftfield', 'local', 'lounge', 'loungeelectronic', 'lovers', 'malaysian', 'mandopop', 'marschmusik', 'meditative', 'mediterranean', 'melodic', 'metal', 'metalcore', 'mexican', 'middle', 'minimal', 'miscellaneous', 'modern', 'mood', 'mpb', 'muslim', 'native', 'neoklassik', 'neue', 'new', 'newage', 'newwave', 'nu', 'nujazz', 'numetal', 'oceania', 'old', 'opera', 'orchestral', 'other', 'piano', 'podcasts', 'pop', 'popdance', 'popelectronic', 'popeurodance', 'poprussian', 'post', 'posthardcore', 'postrock', 'power', 'progmetal', 'progressive', 'psychedelic', 'punjabi', 'punk', 'quebecois', 'ragga', 'ram', 'rancheras', 'rap', 'rave', 'reggae', 'reggaeton', 'regional', 'relax', 'religious', 'retro', 'rhythm', 'rnb', 'rnr', 'rock', 'rockabilly', 'rockalternative', 'rockindie', 'rockother', 'romance', 'roots', 'ruspop', 'rusrap', 'rusrock', 'russian', 'salsa', 'samba', 'scenic', 'schlager', 'self', 'sertanejo', 'shanson', 'shoegazing', 'showtunes', 'singer', 'ska', 'skarock', 'slow', 'smooth', 'soft', 'soul', 'soulful', 'sound', 'soundtrack', 'southern', 'specialty', 'speech', 'spiritual', 'sport', 'stonerrock', 'surf', 'swing', 'synthpop', 'synthrock', 'sängerportrait', 'tango', 'tanzorchester', 'taraftar', 'tatar', 'tech', 'techno', 'teen', 'thrash', 'top', 'traditional', 'tradjazz', 'trance', 'tribal', 'trip', 'triphop', 'tropical', 'türk', 'türkçe', 'ukrrock', 'unknown', 'urban', 'uzbek', 'variété', 'vi', 'videogame', 'vocal', 'western', 'world', 'worldbeat', 'ïîï', 'электроника']\n"
          ]
        }
      ],
      "source": [
        "print(sorted(df['genre'].unique())) # Проверка на неявные дубликаты"
      ]
    },
    {
      "cell_type": "markdown",
      "metadata": {
        "id": "WttZHXH0SqKk"
      },
      "source": [
        "## Проверка гипотез"
      ]
    },
    {
      "cell_type": "markdown",
      "metadata": {
        "id": "Im936VVi_Zcu"
      },
      "source": [
        "### Сравнение поведения пользователей двух столиц"
      ]
    },
    {
      "cell_type": "markdown",
      "metadata": {
        "id": "nwt_MuaL_Zcu"
      },
      "source": [
        "Первая гипотеза : активность пользователей зависит от дня недели.\n"
      ]
    },
    {
      "cell_type": "code",
      "execution_count": null,
      "metadata": {
        "id": "0_Qs96oh_Zcu",
        "scrolled": true,
        "outputId": "cc8ea997-d3c6-4def-b0cf-3f94a1b38ef6"
      },
      "outputs": [
        {
          "data": {
            "text/plain": [
              "city\n",
              "Moscow              42741\n",
              "Saint-Petersburg    18512\n",
              "Name: user_id, dtype: int64"
            ]
          },
          "execution_count": 18,
          "metadata": {},
          "output_type": "execute_result"
        }
      ],
      "source": [
        "df.groupby('city')['user_id'].count()\n",
        " # Подсчёт прослушиваний в каждом городе"
      ]
    },
    {
      "cell_type": "markdown",
      "metadata": {
        "id": "dzli3w8o_Zcu"
      },
      "source": [
        "В Москве прослушиваний больше, чем в Петербурге. \n",
        "\n",
        "Теперь посмотрим на данные, сгруппированные по дню недели.\n"
      ]
    },
    {
      "cell_type": "code",
      "execution_count": null,
      "metadata": {
        "id": "uZMKjiJz_Zcu",
        "outputId": "6b78a33b-a4cb-47cb-8fd0-adca0112d44b"
      },
      "outputs": [
        {
          "data": {
            "text/plain": [
              "day\n",
              "Friday       21840\n",
              "Monday       21354\n",
              "Wednesday    18059\n",
              "Name: user_id, dtype: int64"
            ]
          },
          "execution_count": 19,
          "metadata": {},
          "output_type": "execute_result"
        }
      ],
      "source": [
        "df.groupby('day')['user_id'].count()\n",
        "  # Подсчёт прослушиваний в каждый из трёх дней"
      ]
    },
    {
      "cell_type": "markdown",
      "metadata": {
        "id": "cC2tNrlL_Zcu"
      },
      "source": [
        "В среднем пользователи из двух городов менее активны по средам. "
      ]
    },
    {
      "cell_type": "markdown",
      "metadata": {
        "id": "POzs8bGa_Zcu"
      },
      "source": [
        "С помощью функции сгруппируем пользователей по дням недели и городам.  \n",
        "\n"
      ]
    },
    {
      "cell_type": "code",
      "execution_count": null,
      "metadata": {
        "id": "Nz3GdQB1_Zcu"
      },
      "outputs": [],
      "source": [
        " # <создание функции number_tracks()>\n",
        "# Объявляется функция с двумя параметрами: day, city.\n",
        "def number_tracks (day, city):\n",
        "    track_list = df[df['day'] == day]\n",
        "    track_list = track_list[track_list['city'] == city]\n",
        "    track_list_count = track_list['user_id'].count()\n",
        "    return track_list_count\n",
        "\n",
        "# В переменной track_list сохраняются те строки таблицы df, для которых \n",
        "# значение в столбце 'day' равно параметру day и одновременно значение\n",
        "# в столбце 'city' равно параметру city.\n",
        "   \n",
        "# В переменной track_list_count сохраняется число значений столбца 'user_id',\n",
        "# рассчитанное методом count() для таблицы track_list.\n",
        "# Функция возвращает число - значение track_list_count."
      ]
    },
    {
      "cell_type": "code",
      "execution_count": null,
      "metadata": {
        "id": "rJcRATNQ_Zcu",
        "scrolled": true,
        "outputId": "408a7826-222a-4094-9386-6517b42d0194"
      },
      "outputs": [
        {
          "data": {
            "text/plain": [
              "15740"
            ]
          },
          "execution_count": 21,
          "metadata": {},
          "output_type": "execute_result"
        }
      ],
      "source": [
        "number_tracks('Monday', 'Moscow') # количество прослушиваний в Москве по понедельникам"
      ]
    },
    {
      "cell_type": "code",
      "execution_count": null,
      "metadata": {
        "id": "hq_ncZ5T_Zcu",
        "outputId": "0bc5bbd3-9625-4226-cc50-89f9706006ed"
      },
      "outputs": [
        {
          "data": {
            "text/plain": [
              "5614"
            ]
          },
          "execution_count": 22,
          "metadata": {},
          "output_type": "execute_result"
        }
      ],
      "source": [
        "number_tracks('Monday', 'Saint-Petersburg')  # количество прослушиваний в Санкт-Петербурге по понедельникам"
      ]
    },
    {
      "cell_type": "code",
      "execution_count": null,
      "metadata": {
        "id": "_NTy2VPU_Zcu",
        "outputId": "f993811c-0d1e-4bd7-fde8-dbfe71375630"
      },
      "outputs": [
        {
          "data": {
            "text/plain": [
              "11056"
            ]
          },
          "execution_count": 23,
          "metadata": {},
          "output_type": "execute_result"
        }
      ],
      "source": [
        "number_tracks('Wednesday', 'Moscow')  # количество прослушиваний в Москве по средам"
      ]
    },
    {
      "cell_type": "code",
      "execution_count": null,
      "metadata": {
        "id": "j2y3TAwo_Zcu",
        "outputId": "e64cddc5-e931-48e8-ac54-e6a1a94d08a7"
      },
      "outputs": [
        {
          "data": {
            "text/plain": [
              "7003"
            ]
          },
          "execution_count": 24,
          "metadata": {},
          "output_type": "execute_result"
        }
      ],
      "source": [
        "number_tracks('Wednesday', 'Saint-Petersburg') # количество прослушиваний в Санкт-Петербурге по средам"
      ]
    },
    {
      "cell_type": "code",
      "execution_count": null,
      "metadata": {
        "id": "vYDw5u_K_Zcu",
        "outputId": "485f9c2b-4b75-4658-f77f-e41118b2e67f"
      },
      "outputs": [
        {
          "data": {
            "text/plain": [
              "15945"
            ]
          },
          "execution_count": 25,
          "metadata": {},
          "output_type": "execute_result"
        }
      ],
      "source": [
        "number_tracks('Friday', 'Moscow') # количество прослушиваний в Москве по пятницам"
      ]
    },
    {
      "cell_type": "code",
      "execution_count": null,
      "metadata": {
        "id": "8_yzFtW3_Zcu",
        "outputId": "e3f7ff29-8e6b-42f2-9d39-fbc2f8f77173"
      },
      "outputs": [
        {
          "data": {
            "text/plain": [
              "5895"
            ]
          },
          "execution_count": 26,
          "metadata": {},
          "output_type": "execute_result"
        }
      ],
      "source": [
        "number_tracks('Friday', 'Saint-Petersburg') # количество прослушиваний в Санкт-Петербурге по пятницам"
      ]
    },
    {
      "cell_type": "markdown",
      "metadata": {
        "id": "7QXffbO-_Zcu"
      },
      "source": [
        "Создадим таблицу с полученными результатами."
      ]
    },
    {
      "cell_type": "code",
      "execution_count": null,
      "metadata": {
        "id": "APAcLpOr_Zcu",
        "outputId": "c1a1568f-89ff-4a55-c625-6196d0b7f8eb"
      },
      "outputs": [
        {
          "data": {
            "text/html": [
              "<div>\n",
              "<style scoped>\n",
              "    .dataframe tbody tr th:only-of-type {\n",
              "        vertical-align: middle;\n",
              "    }\n",
              "\n",
              "    .dataframe tbody tr th {\n",
              "        vertical-align: top;\n",
              "    }\n",
              "\n",
              "    .dataframe thead th {\n",
              "        text-align: right;\n",
              "    }\n",
              "</style>\n",
              "<table border=\"1\" class=\"dataframe\">\n",
              "  <thead>\n",
              "    <tr style=\"text-align: right;\">\n",
              "      <th></th>\n",
              "      <th>city</th>\n",
              "      <th>Monday</th>\n",
              "      <th>Wednesday</th>\n",
              "      <th>Friday</th>\n",
              "    </tr>\n",
              "  </thead>\n",
              "  <tbody>\n",
              "    <tr>\n",
              "      <th>0</th>\n",
              "      <td>Moscow</td>\n",
              "      <td>15740</td>\n",
              "      <td>11056</td>\n",
              "      <td>15945</td>\n",
              "    </tr>\n",
              "    <tr>\n",
              "      <th>1</th>\n",
              "      <td>Saint-Petersburg</td>\n",
              "      <td>5614</td>\n",
              "      <td>7003</td>\n",
              "      <td>5895</td>\n",
              "    </tr>\n",
              "  </tbody>\n",
              "</table>\n",
              "</div>"
            ],
            "text/plain": [
              "               city  Monday  Wednesday  Friday\n",
              "0            Moscow   15740      11056   15945\n",
              "1  Saint-Petersburg    5614       7003    5895"
            ]
          },
          "metadata": {},
          "output_type": "display_data"
        }
      ],
      "source": [
        "data = [['Moscow', 15740, 11056, 15945],\n",
        "       ['Saint-Petersburg', 5614, 7003, 5895]]\n",
        "columns = ['city', 'Monday', 'Wednesday', 'Friday']\n",
        "display(pd.DataFrame(columns = columns, data = data)) # Таблица с результатами"
      ]
    },
    {
      "cell_type": "markdown",
      "metadata": {
        "id": "-EgPIHYu_Zcu"
      },
      "source": [
        "**Выводы**\n",
        "\n",
        "Данные показывают разницу поведения пользователей:\n",
        "\n",
        "- В Москве пик прослушиваний приходится на понедельник и пятницу, а в среду заметен спад.\n",
        "- В Петербурге, наоборот, больше слушают музыку по средам. Активность в понедельник и пятницу здесь почти в равной мере уступает среде.\n",
        "\n",
        "Значит, первая гипотеза подтверждается."
      ]
    },
    {
      "cell_type": "markdown",
      "metadata": {
        "id": "atZAxtq4_Zcu"
      },
      "source": [
        "### Музыка в начале и в конце недели"
      ]
    },
    {
      "cell_type": "markdown",
      "metadata": {
        "id": "eXrQqXFH_Zcu"
      },
      "source": [
        "Вторая гипотеза: утром в понедельник и в пятницу вечером в Москве преобладают одни жанры, а в Петербурге — другие. "
      ]
    },
    {
      "cell_type": "markdown",
      "metadata": {
        "id": "S8UcW6Hw_Zcu"
      },
      "source": [
        "Создадим две таблицы."
      ]
    },
    {
      "cell_type": "code",
      "execution_count": null,
      "metadata": {
        "id": "qeaFfM_P_Zcu"
      },
      "outputs": [],
      "source": [
        "moscow_general = df[df['city'] == 'Moscow']\n",
        "# получение таблицы moscow_general из тех строк таблицы df, \n",
        "# для которых значение в столбце 'city' равно 'Moscow'\n"
      ]
    },
    {
      "cell_type": "code",
      "execution_count": null,
      "metadata": {
        "id": "ORaVRKto_Zcu"
      },
      "outputs": [],
      "source": [
        "spb_general = df[df['city'] == 'Saint-Petersburg'] \n",
        "# получение таблицы spb_general из тех строк таблицы df,\n",
        "# для которых значение в столбце 'city' равно 'Saint-Petersburg'\n"
      ]
    },
    {
      "cell_type": "markdown",
      "metadata": {
        "id": "MEJV-CX2_Zcu"
      },
      "source": [
        "Чтобы проверить вторую гипотезу, создадим функцию `genre_weekday()` с четырьмя параметрами:\n",
        "* таблица (датафрейм) с данными,\n",
        "* день недели,\n",
        "* начальная временная метка в формате 'hh:mm', \n",
        "* последняя временная метка в формате 'hh:mm', \n",
        "\n",
        "которая покажет информацию о топ-10 жанрах тех треков, которые прослушивали в указанное время."
      ]
    },
    {
      "cell_type": "code",
      "execution_count": null,
      "metadata": {
        "id": "laJT9BYl_Zcu"
      },
      "outputs": [],
      "source": [
        "\n",
        "# Объявление функции genre_weekday() с параметрами table, day, time1, time2,\n",
        "# которая возвращает информацию о самых популярных жанрах в указанный день в\n",
        "# заданное время:\n",
        "\n",
        "def genre_weekday(table, day, time1, time2):\n",
        "    genre_df = table[table['day'] == day]\n",
        "    genre_df = genre_df[genre_df['time'] > time1]\n",
        "    genre_df = genre_df[genre_df['time'] < time2]\n",
        "       \n",
        "  \n",
        "    genre_df_count = genre_df.groupby('genre')['track'].count()\n",
        "\n",
        "    genre_df_sorted = genre_df_count.sort_values(ascending=False)\n",
        "    return genre_df_sorted.head(10)\n"
      ]
    },
    {
      "cell_type": "markdown",
      "metadata": {
        "id": "la2s2_PF_Zcu"
      },
      "source": [
        "Cравним результаты функции `genre_weekday()` для Москвы и Санкт-Петербурга в понедельник утром (с 7:00 до 11:00) и в пятницу вечером (с 17:00 до 23:00):"
      ]
    },
    {
      "cell_type": "code",
      "execution_count": null,
      "metadata": {
        "id": "yz7itPUQ_Zcu",
        "outputId": "bac66010-2d22-4472-c09e-e6b964fa903e"
      },
      "outputs": [
        {
          "data": {
            "text/plain": [
              "genre\n",
              "pop            781\n",
              "dance          549\n",
              "electronic     480\n",
              "rock           474\n",
              "hiphop         286\n",
              "ruspop         186\n",
              "world          181\n",
              "rusrap         175\n",
              "alternative    164\n",
              "unknown        161\n",
              "Name: track, dtype: int64"
            ]
          },
          "execution_count": 31,
          "metadata": {},
          "output_type": "execute_result"
        }
      ],
      "source": [
        "genre_weekday(moscow_general, 'Monday', '07:00', '11:00')\n"
      ]
    },
    {
      "cell_type": "code",
      "execution_count": null,
      "metadata": {
        "id": "kwUcHPdy_Zcu",
        "outputId": "a843884d-f877-4dde-d2ba-84a9276553ae"
      },
      "outputs": [
        {
          "data": {
            "text/plain": [
              "genre\n",
              "pop            218\n",
              "dance          182\n",
              "rock           162\n",
              "electronic     147\n",
              "hiphop          80\n",
              "ruspop          64\n",
              "alternative     58\n",
              "rusrap          55\n",
              "jazz            44\n",
              "classical       40\n",
              "Name: track, dtype: int64"
            ]
          },
          "execution_count": 32,
          "metadata": {},
          "output_type": "execute_result"
        }
      ],
      "source": [
        "genre_weekday(spb_general, 'Monday', '07:00', '11:00')\n",
        "# вызов функции для утра понедельника в Петербурге (вместо df — таблица spb_general)"
      ]
    },
    {
      "cell_type": "code",
      "execution_count": null,
      "metadata": {
        "id": "EzXVRE1o_Zcu",
        "outputId": "4ee0ae53-301e-4085-fcdf-4bc079d41daf"
      },
      "outputs": [
        {
          "data": {
            "text/plain": [
              "genre\n",
              "pop            713\n",
              "rock           517\n",
              "dance          495\n",
              "electronic     482\n",
              "hiphop         273\n",
              "world          208\n",
              "ruspop         170\n",
              "alternative    163\n",
              "classical      163\n",
              "rusrap         142\n",
              "Name: track, dtype: int64"
            ]
          },
          "execution_count": 33,
          "metadata": {},
          "output_type": "execute_result"
        }
      ],
      "source": [
        "genre_weekday(moscow_general, 'Friday', '18:00', '23:00')\n",
        "# вызов функции для вечера пятницы в Москве"
      ]
    },
    {
      "cell_type": "code",
      "execution_count": null,
      "metadata": {
        "id": "JZaEKu5v_Zcu",
        "outputId": "da103c8e-4af5-4583-9681-d6d0c19ac396"
      },
      "outputs": [
        {
          "data": {
            "text/plain": [
              "genre\n",
              "pop            256\n",
              "electronic     216\n",
              "rock           216\n",
              "dance          210\n",
              "hiphop          97\n",
              "alternative     63\n",
              "jazz            61\n",
              "classical       60\n",
              "rusrap          59\n",
              "world           54\n",
              "Name: track, dtype: int64"
            ]
          },
          "execution_count": 34,
          "metadata": {},
          "output_type": "execute_result"
        }
      ],
      "source": [
        "genre_weekday(spb_general, 'Friday', '18:00', '23:00')\n",
        "# вызов функции для вечера пятницы в Петербурге"
      ]
    },
    {
      "cell_type": "markdown",
      "metadata": {
        "id": "wrCe4MNX_Zcu"
      },
      "source": [
        "**Выводы**\n",
        "\n",
        "Если сравнить топ-10 жанров в понедельник утром, можно сделать такие выводы:\n",
        "1. В Москве и Санкт-Петербурге с небольшими отличиями (жанр 'world'  в Москве и жанры 'jazz' и 'classic' в Санкт-Петербурге) слушают похожую музыку.\n",
        "2. В Москве так много пропущенных значений, что unknown вошел в топ-10, что не есть хорошо и ставит под сомнение исследование."
      ]
    },
    {
      "cell_type": "markdown",
      "metadata": {
        "id": "JolODAqr_Zcu"
      },
      "source": [
        "### Жанровые предпочтения в Москве и Петербурге\n",
        "\n",
        "Третья гипотеза: Москва и Петербург предпочитают разные жанры музыки. В Москве чаще слушают поп-музыку, в Петербурге — русский рэп."
      ]
    },
    {
      "cell_type": "markdown",
      "metadata": {
        "id": "DlegSvaT_Zcu"
      },
      "source": [
        "Сгруппируем таблицу `moscow_general` по жанру."
      ]
    },
    {
      "cell_type": "code",
      "execution_count": null,
      "metadata": {
        "id": "r19lIPke_Zcu"
      },
      "outputs": [],
      "source": [
        "moscow = moscow_general.groupby('genre')['genre'].count()\n",
        "moscow_genres = moscow.sort_values(ascending=False)\n",
        "# одной строкой: группировка таблицы moscow_general по столбцу 'genre', \n",
        "# подсчёт числа значений 'genre' в этой группировке методом count(), \n",
        "# сортировка получившегося Series в порядке убывания и сохранение в moscow_genres"
      ]
    },
    {
      "cell_type": "code",
      "execution_count": null,
      "metadata": {
        "id": "WhCSooF8_Zcv",
        "outputId": "4f5227ce-cda3-4e97-caeb-d11121ba0137"
      },
      "outputs": [
        {
          "data": {
            "text/plain": [
              "genre\n",
              "pop            5892\n",
              "dance          4435\n",
              "rock           3965\n",
              "electronic     3786\n",
              "hiphop         2096\n",
              "classical      1616\n",
              "world          1432\n",
              "alternative    1379\n",
              "ruspop         1372\n",
              "rusrap         1161\n",
              "Name: genre, dtype: int64"
            ]
          },
          "metadata": {},
          "output_type": "display_data"
        }
      ],
      "source": [
        "display(moscow_genres.head(10))\n",
        "# просмотр первых 10 строк moscow_genres"
      ]
    },
    {
      "cell_type": "markdown",
      "metadata": {
        "id": "cnPG2vnN_Zcv"
      },
      "source": [
        "Сгруппируем таблицу `spb_general` по жанру. \n"
      ]
    },
    {
      "cell_type": "code",
      "execution_count": null,
      "metadata": {
        "id": "gluLIpE7_Zcv"
      },
      "outputs": [],
      "source": [
        "spb = spb_general.groupby('genre')['genre'].count()\n",
        "spb_genres = spb.sort_values(ascending = False)\n"
      ]
    },
    {
      "cell_type": "code",
      "execution_count": null,
      "metadata": {
        "id": "uaGJHjVU_Zcv",
        "outputId": "c1b3f70c-7805-499d-e853-17f533336b2e"
      },
      "outputs": [
        {
          "data": {
            "text/plain": [
              "genre\n",
              "pop            2431\n",
              "dance          1932\n",
              "rock           1879\n",
              "electronic     1736\n",
              "hiphop          960\n",
              "alternative     649\n",
              "classical       646\n",
              "rusrap          564\n",
              "ruspop          538\n",
              "world           515\n",
              "Name: genre, dtype: int64"
            ]
          },
          "metadata": {},
          "output_type": "display_data"
        }
      ],
      "source": [
        "display(spb_genres.head(10))\n",
        "# просмотр первых 10 строк spb_genres"
      ]
    },
    {
      "cell_type": "markdown",
      "metadata": {
        "id": "RY51YJYu_Zcv"
      },
      "source": [
        "**Выводы**"
      ]
    },
    {
      "cell_type": "markdown",
      "metadata": {
        "id": "nVhnJEm__Zcv"
      },
      "source": [
        "Гипотеза частично подтвердилась:\n",
        "* Поп-музыка — самый популярный жанр в Москве, как и предполагала гипотеза. Более того, в топ-10 жанров встречается близкий жанр — русская популярная музыка.\n",
        "* Вопреки ожиданиям, рэп одинаково популярен в Москве и Петербурге. \n"
      ]
    },
    {
      "cell_type": "markdown",
      "metadata": {
        "id": "ykKQ0N65_Zcv"
      },
      "source": [
        "## Итоги исследования"
      ]
    },
    {
      "cell_type": "markdown",
      "metadata": {
        "id": "tjUwbHb3_Zcv"
      },
      "source": [
        "Были проверены три гипотезы:\n",
        "\n",
        "1. День недели по-разному влияет на активность пользователей в Москве и Петербурге. \n",
        "2. Музыкальные предпочтения не сильно меняются в течение недели — будь то Москва или Петербург. Небольшие различия заметны в начале недели, по понедельникам:\n",
        "* в Москве слушают музыку жанра “world”,\n",
        "* в Петербурге — джаз и классику.\n",
        "3. Во вкусах пользователей Москвы и Петербурга больше общего чем различий. \n",
        "\n",
        "Вывод:\n",
        "Первая гипотеза полностью подтвердилась.\n",
        "\n",
        "Вторая гипотеза подтвердилась частично.\n",
        "\n",
        "Третья гипотеза не подтвердилась. Различия несуществены.\n",
        "\n"
      ]
    }
  ],
  "metadata": {
    "ExecuteTimeLog": [
      {
        "duration": 592,
        "start_time": "2021-11-16T08:23:03.046Z"
      },
      {
        "duration": 645,
        "start_time": "2021-11-19T08:35:04.573Z"
      },
      {
        "duration": 138,
        "start_time": "2021-11-19T08:35:05.220Z"
      },
      {
        "duration": 342,
        "start_time": "2021-11-19T08:35:05.360Z"
      },
      {
        "duration": 122,
        "start_time": "2021-11-19T08:35:05.583Z"
      },
      {
        "duration": 121,
        "start_time": "2021-11-19T08:35:05.586Z"
      },
      {
        "duration": 118,
        "start_time": "2021-11-19T08:35:05.590Z"
      },
      {
        "duration": 115,
        "start_time": "2021-11-19T08:35:05.594Z"
      },
      {
        "duration": 108,
        "start_time": "2021-11-19T08:35:05.602Z"
      },
      {
        "duration": 104,
        "start_time": "2021-11-19T08:35:05.607Z"
      },
      {
        "duration": 101,
        "start_time": "2021-11-19T08:35:05.611Z"
      },
      {
        "duration": 99,
        "start_time": "2021-11-19T08:35:05.614Z"
      },
      {
        "duration": 97,
        "start_time": "2021-11-19T08:35:05.617Z"
      },
      {
        "duration": 96,
        "start_time": "2021-11-19T08:35:05.619Z"
      },
      {
        "duration": 94,
        "start_time": "2021-11-19T08:35:05.622Z"
      },
      {
        "duration": 91,
        "start_time": "2021-11-19T08:35:05.626Z"
      },
      {
        "duration": 84,
        "start_time": "2021-11-19T08:35:05.634Z"
      },
      {
        "duration": 83,
        "start_time": "2021-11-19T08:35:05.637Z"
      },
      {
        "duration": 80,
        "start_time": "2021-11-19T08:35:05.641Z"
      },
      {
        "duration": 78,
        "start_time": "2021-11-19T08:35:05.644Z"
      },
      {
        "duration": 77,
        "start_time": "2021-11-19T08:35:05.647Z"
      },
      {
        "duration": 75,
        "start_time": "2021-11-19T08:35:05.650Z"
      },
      {
        "duration": 74,
        "start_time": "2021-11-19T08:35:05.652Z"
      },
      {
        "duration": 73,
        "start_time": "2021-11-19T08:35:05.654Z"
      },
      {
        "duration": 70,
        "start_time": "2021-11-19T08:35:05.658Z"
      },
      {
        "duration": 69,
        "start_time": "2021-11-19T08:35:05.661Z"
      },
      {
        "duration": 65,
        "start_time": "2021-11-19T08:35:05.665Z"
      },
      {
        "duration": 64,
        "start_time": "2021-11-19T08:35:05.668Z"
      },
      {
        "duration": 61,
        "start_time": "2021-11-19T08:35:05.672Z"
      },
      {
        "duration": 58,
        "start_time": "2021-11-19T08:35:05.676Z"
      },
      {
        "duration": 55,
        "start_time": "2021-11-19T08:35:05.680Z"
      },
      {
        "duration": 54,
        "start_time": "2021-11-19T08:35:05.682Z"
      },
      {
        "duration": 52,
        "start_time": "2021-11-19T08:35:05.685Z"
      },
      {
        "duration": 50,
        "start_time": "2021-11-19T08:35:05.688Z"
      },
      {
        "duration": 48,
        "start_time": "2021-11-19T08:35:05.691Z"
      },
      {
        "duration": 47,
        "start_time": "2021-11-19T08:35:05.693Z"
      },
      {
        "duration": 45,
        "start_time": "2021-11-19T08:35:05.696Z"
      },
      {
        "duration": 44,
        "start_time": "2021-11-19T08:35:05.698Z"
      },
      {
        "duration": 41,
        "start_time": "2021-11-19T08:35:05.702Z"
      },
      {
        "duration": 13,
        "start_time": "2021-11-19T09:08:03.247Z"
      },
      {
        "duration": 10,
        "start_time": "2021-11-19T09:08:03.262Z"
      },
      {
        "duration": 34,
        "start_time": "2021-11-19T09:08:03.274Z"
      },
      {
        "duration": 4,
        "start_time": "2021-11-19T09:08:03.310Z"
      },
      {
        "duration": 36,
        "start_time": "2021-11-19T09:08:03.316Z"
      },
      {
        "duration": 17,
        "start_time": "2021-11-19T09:08:03.353Z"
      },
      {
        "duration": 20,
        "start_time": "2021-11-19T09:08:03.372Z"
      },
      {
        "duration": 87,
        "start_time": "2021-11-19T09:08:03.395Z"
      },
      {
        "duration": 77,
        "start_time": "2021-11-19T09:08:03.484Z"
      },
      {
        "duration": 48,
        "start_time": "2021-11-19T09:08:03.563Z"
      },
      {
        "duration": 5,
        "start_time": "2021-11-19T09:08:03.613Z"
      },
      {
        "duration": 3,
        "start_time": "2021-11-19T09:08:03.620Z"
      },
      {
        "duration": 9,
        "start_time": "2021-11-19T09:08:03.644Z"
      },
      {
        "duration": 9,
        "start_time": "2021-11-19T09:08:03.655Z"
      },
      {
        "duration": 269,
        "start_time": "2021-11-19T09:08:03.665Z"
      },
      {
        "duration": 226,
        "start_time": "2021-11-19T09:08:03.710Z"
      },
      {
        "duration": 215,
        "start_time": "2021-11-19T09:08:03.722Z"
      },
      {
        "duration": 212,
        "start_time": "2021-11-19T09:08:03.726Z"
      },
      {
        "duration": 208,
        "start_time": "2021-11-19T09:08:03.731Z"
      },
      {
        "duration": 205,
        "start_time": "2021-11-19T09:08:03.735Z"
      },
      {
        "duration": 192,
        "start_time": "2021-11-19T09:08:03.749Z"
      },
      {
        "duration": 188,
        "start_time": "2021-11-19T09:08:03.753Z"
      },
      {
        "duration": 186,
        "start_time": "2021-11-19T09:08:03.756Z"
      },
      {
        "duration": 184,
        "start_time": "2021-11-19T09:08:03.759Z"
      },
      {
        "duration": 182,
        "start_time": "2021-11-19T09:08:03.762Z"
      },
      {
        "duration": 180,
        "start_time": "2021-11-19T09:08:03.765Z"
      },
      {
        "duration": 177,
        "start_time": "2021-11-19T09:08:03.768Z"
      },
      {
        "duration": 176,
        "start_time": "2021-11-19T09:08:03.770Z"
      },
      {
        "duration": 175,
        "start_time": "2021-11-19T09:08:03.772Z"
      },
      {
        "duration": 174,
        "start_time": "2021-11-19T09:08:03.774Z"
      },
      {
        "duration": 173,
        "start_time": "2021-11-19T09:08:03.776Z"
      },
      {
        "duration": 171,
        "start_time": "2021-11-19T09:08:03.779Z"
      },
      {
        "duration": 169,
        "start_time": "2021-11-19T09:08:03.781Z"
      },
      {
        "duration": 168,
        "start_time": "2021-11-19T09:08:03.783Z"
      },
      {
        "duration": 161,
        "start_time": "2021-11-19T09:08:03.791Z"
      },
      {
        "duration": 565,
        "start_time": "2021-11-19T09:09:36.383Z"
      },
      {
        "duration": 141,
        "start_time": "2021-11-19T09:09:36.950Z"
      },
      {
        "duration": 318,
        "start_time": "2021-11-19T09:09:37.096Z"
      },
      {
        "duration": 238,
        "start_time": "2021-11-19T09:09:37.179Z"
      },
      {
        "duration": 235,
        "start_time": "2021-11-19T09:09:37.183Z"
      },
      {
        "duration": 231,
        "start_time": "2021-11-19T09:09:37.188Z"
      },
      {
        "duration": 227,
        "start_time": "2021-11-19T09:09:37.193Z"
      },
      {
        "duration": 224,
        "start_time": "2021-11-19T09:09:37.197Z"
      },
      {
        "duration": 215,
        "start_time": "2021-11-19T09:09:37.207Z"
      },
      {
        "duration": 212,
        "start_time": "2021-11-19T09:09:37.211Z"
      },
      {
        "duration": 208,
        "start_time": "2021-11-19T09:09:37.216Z"
      },
      {
        "duration": 204,
        "start_time": "2021-11-19T09:09:37.220Z"
      },
      {
        "duration": 201,
        "start_time": "2021-11-19T09:09:37.224Z"
      },
      {
        "duration": 197,
        "start_time": "2021-11-19T09:09:37.229Z"
      },
      {
        "duration": 194,
        "start_time": "2021-11-19T09:09:37.233Z"
      },
      {
        "duration": 190,
        "start_time": "2021-11-19T09:09:37.238Z"
      },
      {
        "duration": 186,
        "start_time": "2021-11-19T09:09:37.243Z"
      },
      {
        "duration": 184,
        "start_time": "2021-11-19T09:09:37.246Z"
      },
      {
        "duration": 183,
        "start_time": "2021-11-19T09:09:37.248Z"
      },
      {
        "duration": 182,
        "start_time": "2021-11-19T09:09:37.250Z"
      },
      {
        "duration": 180,
        "start_time": "2021-11-19T09:09:37.253Z"
      },
      {
        "duration": 179,
        "start_time": "2021-11-19T09:09:37.255Z"
      },
      {
        "duration": 177,
        "start_time": "2021-11-19T09:09:37.258Z"
      },
      {
        "duration": 175,
        "start_time": "2021-11-19T09:09:37.261Z"
      },
      {
        "duration": 174,
        "start_time": "2021-11-19T09:09:37.263Z"
      },
      {
        "duration": 173,
        "start_time": "2021-11-19T09:09:37.265Z"
      },
      {
        "duration": 171,
        "start_time": "2021-11-19T09:09:37.268Z"
      },
      {
        "duration": 170,
        "start_time": "2021-11-19T09:09:37.270Z"
      },
      {
        "duration": 169,
        "start_time": "2021-11-19T09:09:37.272Z"
      },
      {
        "duration": 168,
        "start_time": "2021-11-19T09:09:37.274Z"
      },
      {
        "duration": 167,
        "start_time": "2021-11-19T09:09:37.276Z"
      },
      {
        "duration": 166,
        "start_time": "2021-11-19T09:09:37.278Z"
      },
      {
        "duration": 164,
        "start_time": "2021-11-19T09:09:37.280Z"
      },
      {
        "duration": 163,
        "start_time": "2021-11-19T09:09:37.282Z"
      },
      {
        "duration": 161,
        "start_time": "2021-11-19T09:09:37.285Z"
      },
      {
        "duration": 160,
        "start_time": "2021-11-19T09:09:37.287Z"
      },
      {
        "duration": 159,
        "start_time": "2021-11-19T09:09:37.289Z"
      },
      {
        "duration": 157,
        "start_time": "2021-11-19T09:09:37.292Z"
      },
      {
        "duration": 345,
        "start_time": "2021-11-19T09:25:10.927Z"
      },
      {
        "duration": 291,
        "start_time": "2021-11-19T09:25:33.789Z"
      },
      {
        "duration": 289,
        "start_time": "2021-11-19T09:27:45.180Z"
      },
      {
        "duration": 616,
        "start_time": "2021-11-19T09:28:23.803Z"
      },
      {
        "duration": 150,
        "start_time": "2021-11-19T09:28:24.422Z"
      },
      {
        "duration": 21,
        "start_time": "2021-11-19T09:28:24.574Z"
      },
      {
        "duration": 9,
        "start_time": "2021-11-19T09:28:24.597Z"
      },
      {
        "duration": 5,
        "start_time": "2021-11-19T09:28:24.608Z"
      },
      {
        "duration": 56,
        "start_time": "2021-11-19T09:28:24.616Z"
      },
      {
        "duration": 4,
        "start_time": "2021-11-19T09:28:24.674Z"
      },
      {
        "duration": 41,
        "start_time": "2021-11-19T09:28:24.681Z"
      },
      {
        "duration": 49,
        "start_time": "2021-11-19T09:28:24.725Z"
      },
      {
        "duration": 38,
        "start_time": "2021-11-19T09:28:24.776Z"
      },
      {
        "duration": 100,
        "start_time": "2021-11-19T09:28:24.816Z"
      },
      {
        "duration": 110,
        "start_time": "2021-11-19T09:28:24.918Z"
      },
      {
        "duration": 87,
        "start_time": "2021-11-19T09:28:25.030Z"
      },
      {
        "duration": 8,
        "start_time": "2021-11-19T09:28:25.119Z"
      },
      {
        "duration": 12,
        "start_time": "2021-11-19T09:28:25.129Z"
      },
      {
        "duration": 27,
        "start_time": "2021-11-19T09:28:25.143Z"
      },
      {
        "duration": 8,
        "start_time": "2021-11-19T09:28:25.172Z"
      },
      {
        "duration": 340,
        "start_time": "2021-11-19T09:28:25.182Z"
      },
      {
        "duration": -316,
        "start_time": "2021-11-19T09:28:25.842Z"
      },
      {
        "duration": -317,
        "start_time": "2021-11-19T09:28:25.844Z"
      },
      {
        "duration": -318,
        "start_time": "2021-11-19T09:28:25.846Z"
      },
      {
        "duration": -321,
        "start_time": "2021-11-19T09:28:25.851Z"
      },
      {
        "duration": -328,
        "start_time": "2021-11-19T09:28:25.859Z"
      },
      {
        "duration": -329,
        "start_time": "2021-11-19T09:28:25.861Z"
      },
      {
        "duration": -329,
        "start_time": "2021-11-19T09:28:25.862Z"
      },
      {
        "duration": -329,
        "start_time": "2021-11-19T09:28:25.864Z"
      },
      {
        "duration": -338,
        "start_time": "2021-11-19T09:28:25.874Z"
      },
      {
        "duration": -340,
        "start_time": "2021-11-19T09:28:25.877Z"
      },
      {
        "duration": -340,
        "start_time": "2021-11-19T09:28:25.878Z"
      },
      {
        "duration": -340,
        "start_time": "2021-11-19T09:28:25.880Z"
      },
      {
        "duration": -344,
        "start_time": "2021-11-19T09:28:25.885Z"
      },
      {
        "duration": -350,
        "start_time": "2021-11-19T09:28:25.892Z"
      },
      {
        "duration": -351,
        "start_time": "2021-11-19T09:28:25.894Z"
      },
      {
        "duration": -351,
        "start_time": "2021-11-19T09:28:25.895Z"
      },
      {
        "duration": -351,
        "start_time": "2021-11-19T09:28:25.897Z"
      },
      {
        "duration": -360,
        "start_time": "2021-11-19T09:28:25.907Z"
      },
      {
        "duration": -361,
        "start_time": "2021-11-19T09:28:25.909Z"
      },
      {
        "duration": -362,
        "start_time": "2021-11-19T09:28:25.911Z"
      },
      {
        "duration": 620,
        "start_time": "2021-11-19T09:30:25.476Z"
      },
      {
        "duration": 152,
        "start_time": "2021-11-19T09:30:26.097Z"
      },
      {
        "duration": 23,
        "start_time": "2021-11-19T09:30:26.251Z"
      },
      {
        "duration": 8,
        "start_time": "2021-11-19T09:30:26.276Z"
      },
      {
        "duration": 7,
        "start_time": "2021-11-19T09:30:26.285Z"
      },
      {
        "duration": 31,
        "start_time": "2021-11-19T09:30:26.293Z"
      },
      {
        "duration": 5,
        "start_time": "2021-11-19T09:30:26.327Z"
      },
      {
        "duration": 42,
        "start_time": "2021-11-19T09:30:26.334Z"
      },
      {
        "duration": 20,
        "start_time": "2021-11-19T09:30:26.379Z"
      },
      {
        "duration": 24,
        "start_time": "2021-11-19T09:30:26.401Z"
      },
      {
        "duration": 92,
        "start_time": "2021-11-19T09:30:26.427Z"
      },
      {
        "duration": 84,
        "start_time": "2021-11-19T09:30:26.521Z"
      },
      {
        "duration": 62,
        "start_time": "2021-11-19T09:30:26.607Z"
      },
      {
        "duration": 6,
        "start_time": "2021-11-19T09:30:26.670Z"
      },
      {
        "duration": 15,
        "start_time": "2021-11-19T09:30:26.678Z"
      },
      {
        "duration": 22,
        "start_time": "2021-11-19T09:30:26.695Z"
      },
      {
        "duration": 12,
        "start_time": "2021-11-19T09:30:26.719Z"
      },
      {
        "duration": 42,
        "start_time": "2021-11-19T09:30:26.733Z"
      },
      {
        "duration": 354,
        "start_time": "2021-11-19T09:30:26.776Z"
      },
      {
        "duration": -308,
        "start_time": "2021-11-19T09:30:27.441Z"
      },
      {
        "duration": -307,
        "start_time": "2021-11-19T09:30:27.442Z"
      },
      {
        "duration": -308,
        "start_time": "2021-11-19T09:30:27.444Z"
      },
      {
        "duration": -308,
        "start_time": "2021-11-19T09:30:27.446Z"
      },
      {
        "duration": -308,
        "start_time": "2021-11-19T09:30:27.447Z"
      },
      {
        "duration": -308,
        "start_time": "2021-11-19T09:30:27.449Z"
      },
      {
        "duration": -309,
        "start_time": "2021-11-19T09:30:27.451Z"
      },
      {
        "duration": -310,
        "start_time": "2021-11-19T09:30:27.454Z"
      },
      {
        "duration": -315,
        "start_time": "2021-11-19T09:30:27.460Z"
      },
      {
        "duration": -315,
        "start_time": "2021-11-19T09:30:27.462Z"
      },
      {
        "duration": -315,
        "start_time": "2021-11-19T09:30:27.463Z"
      },
      {
        "duration": -316,
        "start_time": "2021-11-19T09:30:27.465Z"
      },
      {
        "duration": -317,
        "start_time": "2021-11-19T09:30:27.468Z"
      },
      {
        "duration": -322,
        "start_time": "2021-11-19T09:30:27.474Z"
      },
      {
        "duration": -322,
        "start_time": "2021-11-19T09:30:27.476Z"
      },
      {
        "duration": -323,
        "start_time": "2021-11-19T09:30:27.478Z"
      },
      {
        "duration": -323,
        "start_time": "2021-11-19T09:30:27.480Z"
      },
      {
        "duration": -323,
        "start_time": "2021-11-19T09:30:27.481Z"
      },
      {
        "duration": -324,
        "start_time": "2021-11-19T09:30:27.483Z"
      },
      {
        "duration": 556,
        "start_time": "2021-11-19T09:33:13.495Z"
      },
      {
        "duration": 138,
        "start_time": "2021-11-19T09:33:14.053Z"
      },
      {
        "duration": 16,
        "start_time": "2021-11-19T09:33:14.194Z"
      },
      {
        "duration": 7,
        "start_time": "2021-11-19T09:33:14.213Z"
      },
      {
        "duration": 6,
        "start_time": "2021-11-19T09:33:14.222Z"
      },
      {
        "duration": 47,
        "start_time": "2021-11-19T09:33:14.229Z"
      },
      {
        "duration": 8,
        "start_time": "2021-11-19T09:33:14.277Z"
      },
      {
        "duration": 27,
        "start_time": "2021-11-19T09:33:14.286Z"
      },
      {
        "duration": 18,
        "start_time": "2021-11-19T09:33:14.316Z"
      },
      {
        "duration": 35,
        "start_time": "2021-11-19T09:33:14.336Z"
      },
      {
        "duration": 60,
        "start_time": "2021-11-19T09:33:14.373Z"
      },
      {
        "duration": 88,
        "start_time": "2021-11-19T09:33:14.435Z"
      },
      {
        "duration": 57,
        "start_time": "2021-11-19T09:33:14.525Z"
      },
      {
        "duration": 5,
        "start_time": "2021-11-19T09:33:14.584Z"
      },
      {
        "duration": 4,
        "start_time": "2021-11-19T09:33:14.591Z"
      },
      {
        "duration": 15,
        "start_time": "2021-11-19T09:33:14.596Z"
      },
      {
        "duration": 8,
        "start_time": "2021-11-19T09:33:14.613Z"
      },
      {
        "duration": 63,
        "start_time": "2021-11-19T09:33:14.622Z"
      },
      {
        "duration": 26,
        "start_time": "2021-11-19T09:33:14.687Z"
      },
      {
        "duration": 99,
        "start_time": "2021-11-19T09:33:14.715Z"
      },
      {
        "duration": -287,
        "start_time": "2021-11-19T09:33:15.104Z"
      },
      {
        "duration": -287,
        "start_time": "2021-11-19T09:33:15.105Z"
      },
      {
        "duration": -291,
        "start_time": "2021-11-19T09:33:15.111Z"
      },
      {
        "duration": -294,
        "start_time": "2021-11-19T09:33:15.115Z"
      },
      {
        "duration": -294,
        "start_time": "2021-11-19T09:33:15.117Z"
      },
      {
        "duration": -295,
        "start_time": "2021-11-19T09:33:15.119Z"
      },
      {
        "duration": -296,
        "start_time": "2021-11-19T09:33:15.121Z"
      },
      {
        "duration": -296,
        "start_time": "2021-11-19T09:33:15.122Z"
      },
      {
        "duration": -297,
        "start_time": "2021-11-19T09:33:15.125Z"
      },
      {
        "duration": -297,
        "start_time": "2021-11-19T09:33:15.126Z"
      },
      {
        "duration": -298,
        "start_time": "2021-11-19T09:33:15.128Z"
      },
      {
        "duration": -299,
        "start_time": "2021-11-19T09:33:15.131Z"
      },
      {
        "duration": -299,
        "start_time": "2021-11-19T09:33:15.132Z"
      },
      {
        "duration": -299,
        "start_time": "2021-11-19T09:33:15.134Z"
      },
      {
        "duration": -299,
        "start_time": "2021-11-19T09:33:15.135Z"
      },
      {
        "duration": -303,
        "start_time": "2021-11-19T09:33:15.141Z"
      },
      {
        "duration": -304,
        "start_time": "2021-11-19T09:33:15.143Z"
      },
      {
        "duration": -305,
        "start_time": "2021-11-19T09:33:15.146Z"
      },
      {
        "duration": 595,
        "start_time": "2021-11-19T09:34:27.167Z"
      },
      {
        "duration": 137,
        "start_time": "2021-11-19T09:34:27.764Z"
      },
      {
        "duration": 15,
        "start_time": "2021-11-19T09:34:27.905Z"
      },
      {
        "duration": 46,
        "start_time": "2021-11-19T09:34:27.921Z"
      },
      {
        "duration": 28,
        "start_time": "2021-11-19T09:34:27.969Z"
      },
      {
        "duration": 50,
        "start_time": "2021-11-19T09:34:27.998Z"
      },
      {
        "duration": 14,
        "start_time": "2021-11-19T09:34:28.051Z"
      },
      {
        "duration": 52,
        "start_time": "2021-11-19T09:34:28.067Z"
      },
      {
        "duration": 45,
        "start_time": "2021-11-19T09:34:28.121Z"
      },
      {
        "duration": 40,
        "start_time": "2021-11-19T09:34:28.168Z"
      },
      {
        "duration": 72,
        "start_time": "2021-11-19T09:34:28.210Z"
      },
      {
        "duration": 62,
        "start_time": "2021-11-19T09:34:28.283Z"
      },
      {
        "duration": 60,
        "start_time": "2021-11-19T09:34:28.346Z"
      },
      {
        "duration": 6,
        "start_time": "2021-11-19T09:34:28.408Z"
      },
      {
        "duration": 35,
        "start_time": "2021-11-19T09:34:28.415Z"
      },
      {
        "duration": 25,
        "start_time": "2021-11-19T09:34:28.451Z"
      },
      {
        "duration": 30,
        "start_time": "2021-11-19T09:34:28.478Z"
      },
      {
        "duration": 37,
        "start_time": "2021-11-19T09:34:28.510Z"
      },
      {
        "duration": 6593,
        "start_time": "2021-11-19T09:34:28.549Z"
      },
      {
        "duration": -325,
        "start_time": "2021-11-19T09:34:35.470Z"
      },
      {
        "duration": -328,
        "start_time": "2021-11-19T09:34:35.474Z"
      },
      {
        "duration": -329,
        "start_time": "2021-11-19T09:34:35.476Z"
      },
      {
        "duration": -328,
        "start_time": "2021-11-19T09:34:35.477Z"
      },
      {
        "duration": -329,
        "start_time": "2021-11-19T09:34:35.479Z"
      },
      {
        "duration": -329,
        "start_time": "2021-11-19T09:34:35.480Z"
      },
      {
        "duration": -330,
        "start_time": "2021-11-19T09:34:35.482Z"
      },
      {
        "duration": -329,
        "start_time": "2021-11-19T09:34:35.483Z"
      },
      {
        "duration": -333,
        "start_time": "2021-11-19T09:34:35.488Z"
      },
      {
        "duration": -334,
        "start_time": "2021-11-19T09:34:35.490Z"
      },
      {
        "duration": -334,
        "start_time": "2021-11-19T09:34:35.491Z"
      },
      {
        "duration": -334,
        "start_time": "2021-11-19T09:34:35.493Z"
      },
      {
        "duration": -334,
        "start_time": "2021-11-19T09:34:35.494Z"
      },
      {
        "duration": -335,
        "start_time": "2021-11-19T09:34:35.496Z"
      },
      {
        "duration": -335,
        "start_time": "2021-11-19T09:34:35.497Z"
      },
      {
        "duration": -336,
        "start_time": "2021-11-19T09:34:35.499Z"
      },
      {
        "duration": -341,
        "start_time": "2021-11-19T09:34:35.505Z"
      },
      {
        "duration": -342,
        "start_time": "2021-11-19T09:34:35.507Z"
      },
      {
        "duration": -342,
        "start_time": "2021-11-19T09:34:35.508Z"
      },
      {
        "duration": 573,
        "start_time": "2021-11-19T09:35:15.192Z"
      },
      {
        "duration": 139,
        "start_time": "2021-11-19T09:35:15.766Z"
      },
      {
        "duration": 18,
        "start_time": "2021-11-19T09:35:15.907Z"
      },
      {
        "duration": 31,
        "start_time": "2021-11-19T09:35:15.926Z"
      },
      {
        "duration": 27,
        "start_time": "2021-11-19T09:35:15.959Z"
      },
      {
        "duration": 47,
        "start_time": "2021-11-19T09:35:15.988Z"
      },
      {
        "duration": 32,
        "start_time": "2021-11-19T09:35:16.037Z"
      },
      {
        "duration": 35,
        "start_time": "2021-11-19T09:35:16.072Z"
      },
      {
        "duration": 32,
        "start_time": "2021-11-19T09:35:16.109Z"
      },
      {
        "duration": 47,
        "start_time": "2021-11-19T09:35:16.142Z"
      },
      {
        "duration": 80,
        "start_time": "2021-11-19T09:35:16.191Z"
      },
      {
        "duration": 69,
        "start_time": "2021-11-19T09:35:16.272Z"
      },
      {
        "duration": 62,
        "start_time": "2021-11-19T09:35:16.343Z"
      },
      {
        "duration": 6,
        "start_time": "2021-11-19T09:35:16.407Z"
      },
      {
        "duration": 32,
        "start_time": "2021-11-19T09:35:16.415Z"
      },
      {
        "duration": 26,
        "start_time": "2021-11-19T09:35:16.450Z"
      },
      {
        "duration": 19,
        "start_time": "2021-11-19T09:35:16.478Z"
      },
      {
        "duration": 43,
        "start_time": "2021-11-19T09:35:16.499Z"
      },
      {
        "duration": 79,
        "start_time": "2021-11-19T09:35:16.544Z"
      },
      {
        "duration": -279,
        "start_time": "2021-11-19T09:35:16.905Z"
      },
      {
        "duration": -280,
        "start_time": "2021-11-19T09:35:16.907Z"
      },
      {
        "duration": -283,
        "start_time": "2021-11-19T09:35:16.911Z"
      },
      {
        "duration": -285,
        "start_time": "2021-11-19T09:35:16.913Z"
      },
      {
        "duration": -287,
        "start_time": "2021-11-19T09:35:16.916Z"
      },
      {
        "duration": -288,
        "start_time": "2021-11-19T09:35:16.918Z"
      },
      {
        "duration": -289,
        "start_time": "2021-11-19T09:35:16.920Z"
      },
      {
        "duration": -290,
        "start_time": "2021-11-19T09:35:16.922Z"
      },
      {
        "duration": -290,
        "start_time": "2021-11-19T09:35:16.923Z"
      },
      {
        "duration": -291,
        "start_time": "2021-11-19T09:35:16.925Z"
      },
      {
        "duration": -300,
        "start_time": "2021-11-19T09:35:16.935Z"
      },
      {
        "duration": -302,
        "start_time": "2021-11-19T09:35:16.938Z"
      },
      {
        "duration": -303,
        "start_time": "2021-11-19T09:35:16.940Z"
      },
      {
        "duration": -304,
        "start_time": "2021-11-19T09:35:16.942Z"
      },
      {
        "duration": -305,
        "start_time": "2021-11-19T09:35:16.944Z"
      },
      {
        "duration": -307,
        "start_time": "2021-11-19T09:35:16.947Z"
      },
      {
        "duration": -311,
        "start_time": "2021-11-19T09:35:16.951Z"
      },
      {
        "duration": -312,
        "start_time": "2021-11-19T09:35:16.953Z"
      },
      {
        "duration": -317,
        "start_time": "2021-11-19T09:35:16.959Z"
      },
      {
        "duration": 579,
        "start_time": "2021-11-19T09:35:38.220Z"
      },
      {
        "duration": 201,
        "start_time": "2021-11-19T09:35:38.801Z"
      },
      {
        "duration": 24,
        "start_time": "2021-11-19T09:35:39.005Z"
      },
      {
        "duration": 15,
        "start_time": "2021-11-19T09:35:39.031Z"
      },
      {
        "duration": 25,
        "start_time": "2021-11-19T09:35:39.048Z"
      },
      {
        "duration": 40,
        "start_time": "2021-11-19T09:35:39.075Z"
      },
      {
        "duration": 29,
        "start_time": "2021-11-19T09:35:39.117Z"
      },
      {
        "duration": 42,
        "start_time": "2021-11-19T09:35:39.149Z"
      },
      {
        "duration": 29,
        "start_time": "2021-11-19T09:35:39.193Z"
      },
      {
        "duration": 45,
        "start_time": "2021-11-19T09:35:39.224Z"
      },
      {
        "duration": 59,
        "start_time": "2021-11-19T09:35:39.271Z"
      },
      {
        "duration": 88,
        "start_time": "2021-11-19T09:35:39.332Z"
      },
      {
        "duration": 54,
        "start_time": "2021-11-19T09:35:39.422Z"
      },
      {
        "duration": 6,
        "start_time": "2021-11-19T09:35:39.478Z"
      },
      {
        "duration": 4,
        "start_time": "2021-11-19T09:35:39.486Z"
      },
      {
        "duration": 15,
        "start_time": "2021-11-19T09:35:39.491Z"
      },
      {
        "duration": 7,
        "start_time": "2021-11-19T09:35:39.508Z"
      },
      {
        "duration": 47,
        "start_time": "2021-11-19T09:35:39.516Z"
      },
      {
        "duration": 6661,
        "start_time": "2021-11-19T09:35:39.565Z"
      },
      {
        "duration": -313,
        "start_time": "2021-11-19T09:35:46.542Z"
      },
      {
        "duration": -318,
        "start_time": "2021-11-19T09:35:46.548Z"
      },
      {
        "duration": -319,
        "start_time": "2021-11-19T09:35:46.550Z"
      },
      {
        "duration": -320,
        "start_time": "2021-11-19T09:35:46.552Z"
      },
      {
        "duration": -322,
        "start_time": "2021-11-19T09:35:46.555Z"
      },
      {
        "duration": -323,
        "start_time": "2021-11-19T09:35:46.557Z"
      },
      {
        "duration": -323,
        "start_time": "2021-11-19T09:35:46.558Z"
      },
      {
        "duration": -324,
        "start_time": "2021-11-19T09:35:46.560Z"
      },
      {
        "duration": -325,
        "start_time": "2021-11-19T09:35:46.562Z"
      },
      {
        "duration": -326,
        "start_time": "2021-11-19T09:35:46.564Z"
      },
      {
        "duration": -326,
        "start_time": "2021-11-19T09:35:46.565Z"
      },
      {
        "duration": -327,
        "start_time": "2021-11-19T09:35:46.567Z"
      },
      {
        "duration": -327,
        "start_time": "2021-11-19T09:35:46.568Z"
      },
      {
        "duration": -328,
        "start_time": "2021-11-19T09:35:46.570Z"
      },
      {
        "duration": -329,
        "start_time": "2021-11-19T09:35:46.572Z"
      },
      {
        "duration": -329,
        "start_time": "2021-11-19T09:35:46.573Z"
      },
      {
        "duration": -330,
        "start_time": "2021-11-19T09:35:46.575Z"
      },
      {
        "duration": -335,
        "start_time": "2021-11-19T09:35:46.581Z"
      },
      {
        "duration": -336,
        "start_time": "2021-11-19T09:35:46.583Z"
      },
      {
        "duration": 17,
        "start_time": "2021-11-19T09:36:04.157Z"
      },
      {
        "duration": 257,
        "start_time": "2021-11-19T09:36:56.874Z"
      },
      {
        "duration": 32,
        "start_time": "2021-11-19T09:37:04.638Z"
      },
      {
        "duration": 83,
        "start_time": "2021-11-19T09:37:25.451Z"
      },
      {
        "duration": 3,
        "start_time": "2021-11-19T09:38:36.043Z"
      },
      {
        "duration": 586,
        "start_time": "2021-11-19T09:38:50.572Z"
      },
      {
        "duration": 143,
        "start_time": "2021-11-19T09:38:51.160Z"
      },
      {
        "duration": 18,
        "start_time": "2021-11-19T09:38:51.306Z"
      },
      {
        "duration": 12,
        "start_time": "2021-11-19T09:38:51.326Z"
      },
      {
        "duration": 5,
        "start_time": "2021-11-19T09:38:51.340Z"
      },
      {
        "duration": 38,
        "start_time": "2021-11-19T09:38:51.347Z"
      },
      {
        "duration": 4,
        "start_time": "2021-11-19T09:38:51.387Z"
      },
      {
        "duration": 38,
        "start_time": "2021-11-19T09:38:51.394Z"
      },
      {
        "duration": 39,
        "start_time": "2021-11-19T09:38:51.434Z"
      },
      {
        "duration": 21,
        "start_time": "2021-11-19T09:38:51.475Z"
      },
      {
        "duration": 74,
        "start_time": "2021-11-19T09:38:51.498Z"
      },
      {
        "duration": 73,
        "start_time": "2021-11-19T09:38:51.574Z"
      },
      {
        "duration": 63,
        "start_time": "2021-11-19T09:38:51.649Z"
      },
      {
        "duration": 7,
        "start_time": "2021-11-19T09:38:51.714Z"
      },
      {
        "duration": 6,
        "start_time": "2021-11-19T09:38:51.723Z"
      },
      {
        "duration": 38,
        "start_time": "2021-11-19T09:38:51.731Z"
      },
      {
        "duration": 7,
        "start_time": "2021-11-19T09:38:51.771Z"
      },
      {
        "duration": 48,
        "start_time": "2021-11-19T09:38:51.780Z"
      },
      {
        "duration": 49,
        "start_time": "2021-11-19T09:38:51.830Z"
      },
      {
        "duration": 5,
        "start_time": "2021-11-19T09:38:51.881Z"
      },
      {
        "duration": 40,
        "start_time": "2021-11-19T09:38:51.888Z"
      },
      {
        "duration": 25,
        "start_time": "2021-11-19T09:38:51.930Z"
      },
      {
        "duration": 33,
        "start_time": "2021-11-19T09:38:51.959Z"
      },
      {
        "duration": 27,
        "start_time": "2021-11-19T09:38:51.995Z"
      },
      {
        "duration": 23,
        "start_time": "2021-11-19T09:38:52.024Z"
      },
      {
        "duration": 34,
        "start_time": "2021-11-19T09:38:52.049Z"
      },
      {
        "duration": 315,
        "start_time": "2021-11-19T09:38:52.085Z"
      },
      {
        "duration": -345,
        "start_time": "2021-11-19T09:38:52.747Z"
      },
      {
        "duration": -348,
        "start_time": "2021-11-19T09:38:52.752Z"
      },
      {
        "duration": -350,
        "start_time": "2021-11-19T09:38:52.755Z"
      },
      {
        "duration": -351,
        "start_time": "2021-11-19T09:38:52.758Z"
      },
      {
        "duration": -350,
        "start_time": "2021-11-19T09:38:52.759Z"
      },
      {
        "duration": -351,
        "start_time": "2021-11-19T09:38:52.761Z"
      },
      {
        "duration": -352,
        "start_time": "2021-11-19T09:38:52.763Z"
      },
      {
        "duration": -354,
        "start_time": "2021-11-19T09:38:52.767Z"
      },
      {
        "duration": -358,
        "start_time": "2021-11-19T09:38:52.772Z"
      },
      {
        "duration": -359,
        "start_time": "2021-11-19T09:38:52.774Z"
      },
      {
        "duration": -359,
        "start_time": "2021-11-19T09:38:52.776Z"
      },
      {
        "duration": 44,
        "start_time": "2021-11-19T09:42:03.597Z"
      },
      {
        "duration": 104,
        "start_time": "2021-11-19T09:44:14.110Z"
      },
      {
        "duration": 10,
        "start_time": "2021-11-19T09:44:24.884Z"
      },
      {
        "duration": 4,
        "start_time": "2021-11-19T09:46:11.576Z"
      },
      {
        "duration": 4,
        "start_time": "2021-11-19T09:46:48.792Z"
      },
      {
        "duration": 268,
        "start_time": "2021-11-19T09:49:07.169Z"
      },
      {
        "duration": 11,
        "start_time": "2021-11-19T09:49:41.109Z"
      },
      {
        "duration": 12,
        "start_time": "2021-11-19T09:49:59.558Z"
      },
      {
        "duration": 4,
        "start_time": "2021-11-19T09:50:46.747Z"
      },
      {
        "duration": 10,
        "start_time": "2021-11-19T09:51:10.729Z"
      },
      {
        "duration": 10,
        "start_time": "2021-11-19T09:51:17.013Z"
      },
      {
        "duration": 10,
        "start_time": "2021-11-19T09:51:20.883Z"
      },
      {
        "duration": 11,
        "start_time": "2021-11-19T09:51:25.273Z"
      },
      {
        "duration": 5,
        "start_time": "2021-11-19T09:53:06.075Z"
      },
      {
        "duration": 11,
        "start_time": "2021-11-19T09:53:08.815Z"
      },
      {
        "duration": 3,
        "start_time": "2021-11-19T09:53:51.241Z"
      },
      {
        "duration": 9,
        "start_time": "2021-11-19T09:53:54.141Z"
      },
      {
        "duration": 3,
        "start_time": "2021-11-19T09:56:37.257Z"
      },
      {
        "duration": 251,
        "start_time": "2021-11-19T09:56:42.066Z"
      },
      {
        "duration": 23,
        "start_time": "2021-11-19T09:57:02.359Z"
      },
      {
        "duration": 21,
        "start_time": "2021-11-19T09:57:06.025Z"
      },
      {
        "duration": 23,
        "start_time": "2021-11-19T09:57:08.994Z"
      },
      {
        "duration": 22,
        "start_time": "2021-11-19T09:57:11.956Z"
      },
      {
        "duration": 14,
        "start_time": "2021-11-19T09:57:14.063Z"
      },
      {
        "duration": 5,
        "start_time": "2021-11-19T09:57:33.527Z"
      },
      {
        "duration": 17,
        "start_time": "2021-11-19T09:57:36.462Z"
      },
      {
        "duration": 6,
        "start_time": "2021-11-19T09:57:51.730Z"
      },
      {
        "duration": 12,
        "start_time": "2021-11-19T09:57:54.529Z"
      },
      {
        "duration": 3,
        "start_time": "2021-11-19T09:59:24.277Z"
      },
      {
        "duration": 687,
        "start_time": "2021-11-19T09:59:27.137Z"
      },
      {
        "duration": 4,
        "start_time": "2021-11-19T09:59:50.229Z"
      },
      {
        "duration": 23,
        "start_time": "2021-11-19T09:59:53.193Z"
      },
      {
        "duration": 4,
        "start_time": "2021-11-19T10:00:02.969Z"
      },
      {
        "duration": 18,
        "start_time": "2021-11-19T10:00:06.157Z"
      },
      {
        "duration": 5,
        "start_time": "2021-11-19T10:00:18.053Z"
      },
      {
        "duration": 22,
        "start_time": "2021-11-19T10:00:20.401Z"
      },
      {
        "duration": 5,
        "start_time": "2021-11-19T10:00:46.732Z"
      },
      {
        "duration": 15,
        "start_time": "2021-11-19T10:00:49.656Z"
      },
      {
        "duration": 4,
        "start_time": "2021-11-19T10:01:23.089Z"
      },
      {
        "duration": 553,
        "start_time": "2021-11-19T10:01:25.638Z"
      },
      {
        "duration": 4,
        "start_time": "2021-11-19T10:01:33.938Z"
      },
      {
        "duration": 511,
        "start_time": "2021-11-19T10:01:38.794Z"
      },
      {
        "duration": 11,
        "start_time": "2021-11-19T10:02:27.684Z"
      },
      {
        "duration": 570,
        "start_time": "2021-11-19T10:02:30.800Z"
      },
      {
        "duration": 3,
        "start_time": "2021-11-19T10:03:00.712Z"
      },
      {
        "duration": 513,
        "start_time": "2021-11-19T10:03:04.003Z"
      },
      {
        "duration": 4,
        "start_time": "2021-11-19T10:03:32.432Z"
      },
      {
        "duration": 533,
        "start_time": "2021-11-19T10:03:34.825Z"
      },
      {
        "duration": 4,
        "start_time": "2021-11-19T10:03:47.474Z"
      },
      {
        "duration": 494,
        "start_time": "2021-11-19T10:03:49.827Z"
      },
      {
        "duration": 4,
        "start_time": "2021-11-19T10:04:05.472Z"
      },
      {
        "duration": 488,
        "start_time": "2021-11-19T10:04:09.050Z"
      },
      {
        "duration": 4,
        "start_time": "2021-11-19T10:05:32.641Z"
      },
      {
        "duration": 564,
        "start_time": "2021-11-19T10:05:34.901Z"
      },
      {
        "duration": 4,
        "start_time": "2021-11-19T10:07:56.392Z"
      },
      {
        "duration": 7319,
        "start_time": "2021-11-19T10:07:59.643Z"
      },
      {
        "duration": -325,
        "start_time": "2021-11-19T10:08:07.289Z"
      },
      {
        "duration": 4,
        "start_time": "2021-11-19T10:08:09.045Z"
      },
      {
        "duration": 85,
        "start_time": "2021-11-19T10:08:23.318Z"
      },
      {
        "duration": 6910,
        "start_time": "2021-11-19T10:08:56.548Z"
      },
      {
        "duration": 87,
        "start_time": "2021-11-19T10:10:23.487Z"
      },
      {
        "duration": 87,
        "start_time": "2021-11-19T10:11:10.597Z"
      },
      {
        "duration": 76,
        "start_time": "2021-11-19T10:12:16.561Z"
      },
      {
        "duration": 103,
        "start_time": "2021-11-19T10:12:51.219Z"
      },
      {
        "duration": 6643,
        "start_time": "2021-11-19T10:13:31.801Z"
      },
      {
        "duration": 88,
        "start_time": "2021-11-19T10:13:43.487Z"
      },
      {
        "duration": 86,
        "start_time": "2021-11-19T10:13:54.198Z"
      },
      {
        "duration": 92,
        "start_time": "2021-11-19T10:14:33.679Z"
      },
      {
        "duration": 107,
        "start_time": "2021-11-19T10:15:10.859Z"
      },
      {
        "duration": 93,
        "start_time": "2021-11-19T10:15:15.806Z"
      },
      {
        "duration": 95,
        "start_time": "2021-11-19T10:16:21.507Z"
      },
      {
        "duration": 4,
        "start_time": "2021-11-19T10:16:51.513Z"
      },
      {
        "duration": 8,
        "start_time": "2021-11-19T10:16:59.067Z"
      },
      {
        "duration": 10,
        "start_time": "2021-11-19T10:17:01.886Z"
      },
      {
        "duration": 3,
        "start_time": "2021-11-19T10:17:28.741Z"
      },
      {
        "duration": 516,
        "start_time": "2021-11-19T10:17:32.177Z"
      },
      {
        "duration": 5,
        "start_time": "2021-11-19T10:17:40.264Z"
      },
      {
        "duration": 9,
        "start_time": "2021-11-19T10:17:42.490Z"
      },
      {
        "duration": 9,
        "start_time": "2021-11-19T10:18:22.354Z"
      },
      {
        "duration": 9,
        "start_time": "2021-11-19T10:18:24.629Z"
      },
      {
        "duration": 11,
        "start_time": "2021-11-19T10:18:26.557Z"
      },
      {
        "duration": 3,
        "start_time": "2021-11-19T10:23:26.318Z"
      },
      {
        "duration": 16,
        "start_time": "2021-11-19T10:23:30.363Z"
      },
      {
        "duration": 4,
        "start_time": "2021-11-19T10:23:41.874Z"
      },
      {
        "duration": 574,
        "start_time": "2021-11-19T10:23:44.978Z"
      },
      {
        "duration": 4,
        "start_time": "2021-11-19T10:23:52.653Z"
      },
      {
        "duration": 9,
        "start_time": "2021-11-19T10:23:56.032Z"
      },
      {
        "duration": 89,
        "start_time": "2021-11-19T10:26:01.968Z"
      },
      {
        "duration": 3,
        "start_time": "2021-11-19T10:26:20.344Z"
      },
      {
        "duration": 8,
        "start_time": "2021-11-19T10:26:24.042Z"
      },
      {
        "duration": 4,
        "start_time": "2021-11-19T10:29:32.981Z"
      },
      {
        "duration": 7536,
        "start_time": "2021-11-19T10:29:35.788Z"
      },
      {
        "duration": 7505,
        "start_time": "2021-11-19T10:30:53.968Z"
      },
      {
        "duration": 6,
        "start_time": "2021-11-19T10:31:09.741Z"
      },
      {
        "duration": 9,
        "start_time": "2021-11-19T10:31:12.729Z"
      },
      {
        "duration": 4,
        "start_time": "2021-11-19T10:38:38.182Z"
      },
      {
        "duration": 9,
        "start_time": "2021-11-19T10:38:41.312Z"
      },
      {
        "duration": 5,
        "start_time": "2021-11-19T10:41:17.525Z"
      },
      {
        "duration": 7181,
        "start_time": "2021-11-19T10:41:21.007Z"
      },
      {
        "duration": -346,
        "start_time": "2021-11-19T10:41:28.537Z"
      },
      {
        "duration": -350,
        "start_time": "2021-11-19T10:41:28.543Z"
      },
      {
        "duration": 287,
        "start_time": "2021-11-19T10:41:44.903Z"
      },
      {
        "duration": 6812,
        "start_time": "2021-11-19T10:42:26.374Z"
      },
      {
        "duration": 3,
        "start_time": "2021-11-19T10:43:08.856Z"
      },
      {
        "duration": -348,
        "start_time": "2021-11-19T10:43:18.230Z"
      },
      {
        "duration": -348,
        "start_time": "2021-11-19T10:43:18.232Z"
      },
      {
        "duration": 4,
        "start_time": "2021-11-19T10:43:28.619Z"
      },
      {
        "duration": 6605,
        "start_time": "2021-11-19T10:43:32.319Z"
      },
      {
        "duration": 4,
        "start_time": "2021-11-19T10:43:58.551Z"
      },
      {
        "duration": 6404,
        "start_time": "2021-11-19T10:44:02.253Z"
      },
      {
        "duration": 3,
        "start_time": "2021-11-19T10:47:03.035Z"
      },
      {
        "duration": 6436,
        "start_time": "2021-11-19T10:47:07.571Z"
      },
      {
        "duration": 4,
        "start_time": "2021-11-19T10:47:28.162Z"
      },
      {
        "duration": 6522,
        "start_time": "2021-11-19T10:47:34.023Z"
      },
      {
        "duration": 3,
        "start_time": "2021-11-19T10:48:31.251Z"
      },
      {
        "duration": 12,
        "start_time": "2021-11-19T10:48:35.958Z"
      },
      {
        "duration": 4,
        "start_time": "2021-11-19T10:49:03.367Z"
      },
      {
        "duration": 506,
        "start_time": "2021-11-19T10:49:07.325Z"
      },
      {
        "duration": 3,
        "start_time": "2021-11-19T10:51:15.477Z"
      },
      {
        "duration": 7499,
        "start_time": "2021-11-19T10:51:21.885Z"
      },
      {
        "duration": 3,
        "start_time": "2021-11-19T10:52:39.908Z"
      },
      {
        "duration": 6487,
        "start_time": "2021-11-19T10:52:44.202Z"
      },
      {
        "duration": 5,
        "start_time": "2021-11-19T10:53:46.780Z"
      },
      {
        "duration": 6344,
        "start_time": "2021-11-19T10:53:52.977Z"
      },
      {
        "duration": 5,
        "start_time": "2021-11-19T10:56:44.070Z"
      },
      {
        "duration": 6737,
        "start_time": "2021-11-19T10:56:48.296Z"
      },
      {
        "duration": 5,
        "start_time": "2021-11-19T10:57:02.129Z"
      },
      {
        "duration": 9,
        "start_time": "2021-11-19T10:57:13.925Z"
      },
      {
        "duration": 4,
        "start_time": "2021-11-19T11:29:33.940Z"
      },
      {
        "duration": 11,
        "start_time": "2021-11-19T11:29:38.519Z"
      },
      {
        "duration": 5,
        "start_time": "2021-11-19T11:30:01.828Z"
      },
      {
        "duration": 6764,
        "start_time": "2021-11-19T11:30:05.142Z"
      },
      {
        "duration": 4,
        "start_time": "2021-11-19T11:30:36.258Z"
      },
      {
        "duration": 16,
        "start_time": "2021-11-19T11:30:40.468Z"
      },
      {
        "duration": 3,
        "start_time": "2021-11-19T11:31:09.803Z"
      },
      {
        "duration": 3607,
        "start_time": "2021-11-19T11:31:14.050Z"
      },
      {
        "duration": 90,
        "start_time": "2021-11-19T11:31:38.970Z"
      },
      {
        "duration": 7,
        "start_time": "2021-11-19T11:31:48.261Z"
      },
      {
        "duration": 3546,
        "start_time": "2021-11-19T11:31:52.998Z"
      },
      {
        "duration": 5,
        "start_time": "2021-11-19T11:32:25.722Z"
      },
      {
        "duration": 10,
        "start_time": "2021-11-19T11:32:30.726Z"
      },
      {
        "duration": 24,
        "start_time": "2021-11-19T12:05:14.352Z"
      },
      {
        "duration": 16,
        "start_time": "2021-11-19T12:05:18.620Z"
      },
      {
        "duration": 25,
        "start_time": "2021-11-19T12:05:21.593Z"
      },
      {
        "duration": 28,
        "start_time": "2021-11-19T12:05:24.062Z"
      },
      {
        "duration": 55,
        "start_time": "2021-11-19T12:05:26.352Z"
      },
      {
        "duration": 40,
        "start_time": "2021-11-19T12:05:29.667Z"
      },
      {
        "duration": 542,
        "start_time": "2021-11-19T12:05:34.153Z"
      },
      {
        "duration": 310,
        "start_time": "2021-11-19T12:06:17.525Z"
      },
      {
        "duration": 265,
        "start_time": "2021-11-19T12:06:37.060Z"
      },
      {
        "duration": 289,
        "start_time": "2021-11-19T12:09:54.433Z"
      },
      {
        "duration": 312,
        "start_time": "2021-11-19T12:11:06.186Z"
      },
      {
        "duration": 26,
        "start_time": "2021-11-19T12:13:08.401Z"
      },
      {
        "duration": 263,
        "start_time": "2021-11-19T12:13:13.545Z"
      },
      {
        "duration": 256,
        "start_time": "2021-11-19T12:13:28.070Z"
      },
      {
        "duration": 279,
        "start_time": "2021-11-19T12:13:50.208Z"
      },
      {
        "duration": 307,
        "start_time": "2021-11-19T12:14:01.909Z"
      },
      {
        "duration": 255,
        "start_time": "2021-11-19T12:14:37.015Z"
      },
      {
        "duration": 1449,
        "start_time": "2021-11-19T12:15:09.236Z"
      },
      {
        "duration": 304,
        "start_time": "2021-11-19T12:15:31.771Z"
      },
      {
        "duration": 258,
        "start_time": "2021-11-19T12:15:47.163Z"
      },
      {
        "duration": 6,
        "start_time": "2021-11-19T12:18:21.289Z"
      },
      {
        "duration": 7,
        "start_time": "2021-11-19T12:18:29.989Z"
      },
      {
        "duration": 9,
        "start_time": "2021-11-19T12:18:55.033Z"
      },
      {
        "duration": 13,
        "start_time": "2021-11-19T12:26:29.532Z"
      },
      {
        "duration": 10,
        "start_time": "2021-11-19T12:26:39.706Z"
      },
      {
        "duration": 83,
        "start_time": "2021-11-19T12:26:46.078Z"
      },
      {
        "duration": 6,
        "start_time": "2021-11-19T12:26:53.412Z"
      },
      {
        "duration": 502,
        "start_time": "2021-11-19T12:27:05.738Z"
      },
      {
        "duration": 6,
        "start_time": "2021-11-19T12:29:17.122Z"
      },
      {
        "duration": 5,
        "start_time": "2021-11-19T12:29:25.321Z"
      },
      {
        "duration": 544,
        "start_time": "2021-11-19T12:29:28.333Z"
      },
      {
        "duration": 5,
        "start_time": "2021-11-19T12:29:59.724Z"
      },
      {
        "duration": 686,
        "start_time": "2021-11-19T12:30:04.005Z"
      },
      {
        "duration": 4,
        "start_time": "2021-11-19T12:31:04.517Z"
      },
      {
        "duration": 735,
        "start_time": "2021-11-19T12:31:08.415Z"
      },
      {
        "duration": 5,
        "start_time": "2021-11-19T12:31:28.418Z"
      },
      {
        "duration": 578,
        "start_time": "2021-11-19T12:31:33.114Z"
      },
      {
        "duration": 5,
        "start_time": "2021-11-19T12:31:45.730Z"
      },
      {
        "duration": 5407,
        "start_time": "2021-11-19T12:31:50.053Z"
      },
      {
        "duration": 6,
        "start_time": "2021-11-19T12:35:10.009Z"
      },
      {
        "duration": 565,
        "start_time": "2021-11-19T12:35:16.056Z"
      },
      {
        "duration": 4,
        "start_time": "2021-11-19T12:35:30.042Z"
      },
      {
        "duration": 544,
        "start_time": "2021-11-19T12:35:33.968Z"
      },
      {
        "duration": 4,
        "start_time": "2021-11-19T12:36:56.650Z"
      },
      {
        "duration": 578,
        "start_time": "2021-11-19T12:37:01.822Z"
      },
      {
        "duration": 25,
        "start_time": "2021-11-19T12:42:53.259Z"
      },
      {
        "duration": 26,
        "start_time": "2021-11-19T12:42:56.335Z"
      },
      {
        "duration": 51,
        "start_time": "2021-11-19T12:43:08.369Z"
      },
      {
        "duration": 29,
        "start_time": "2021-11-19T12:43:15.691Z"
      },
      {
        "duration": 25,
        "start_time": "2021-11-19T12:43:21.423Z"
      },
      {
        "duration": 296,
        "start_time": "2021-11-19T12:43:30.432Z"
      },
      {
        "duration": 68,
        "start_time": "2021-11-19T12:44:18.969Z"
      },
      {
        "duration": 11,
        "start_time": "2021-11-19T12:44:22.950Z"
      },
      {
        "duration": 261,
        "start_time": "2021-11-19T12:44:54.566Z"
      },
      {
        "duration": 28,
        "start_time": "2021-11-19T12:45:10.919Z"
      },
      {
        "duration": 14,
        "start_time": "2021-11-19T12:45:14.266Z"
      },
      {
        "duration": 74,
        "start_time": "2021-11-19T12:46:12.373Z"
      },
      {
        "duration": 14,
        "start_time": "2021-11-19T12:46:15.800Z"
      },
      {
        "duration": 55,
        "start_time": "2021-11-19T12:46:43.413Z"
      },
      {
        "duration": 24,
        "start_time": "2021-11-19T12:46:45.383Z"
      },
      {
        "duration": 45,
        "start_time": "2021-11-19T12:47:17.304Z"
      },
      {
        "duration": 11,
        "start_time": "2021-11-19T12:47:19.905Z"
      },
      {
        "duration": 387,
        "start_time": "2021-11-19T12:49:16.640Z"
      },
      {
        "duration": 21,
        "start_time": "2021-11-19T12:49:27.669Z"
      },
      {
        "duration": 17,
        "start_time": "2021-11-19T12:49:30.768Z"
      },
      {
        "duration": 4,
        "start_time": "2021-11-19T12:50:01.058Z"
      },
      {
        "duration": 23,
        "start_time": "2021-11-19T12:50:04.536Z"
      },
      {
        "duration": 30,
        "start_time": "2021-11-19T12:50:08.458Z"
      },
      {
        "duration": 26,
        "start_time": "2021-11-19T12:50:11.811Z"
      },
      {
        "duration": 19,
        "start_time": "2021-11-19T12:50:14.096Z"
      },
      {
        "duration": 90,
        "start_time": "2021-11-19T12:50:19.093Z"
      },
      {
        "duration": 42,
        "start_time": "2021-11-19T12:50:26.518Z"
      },
      {
        "duration": 14,
        "start_time": "2021-11-19T12:50:29.509Z"
      },
      {
        "duration": 28,
        "start_time": "2021-11-19T12:50:44.933Z"
      },
      {
        "duration": 19,
        "start_time": "2021-11-19T12:50:48.577Z"
      },
      {
        "duration": 71,
        "start_time": "2021-11-19T12:51:57.966Z"
      },
      {
        "duration": 13,
        "start_time": "2021-11-19T12:52:01.099Z"
      },
      {
        "duration": 270,
        "start_time": "2021-11-19T12:53:07.373Z"
      },
      {
        "duration": 5,
        "start_time": "2021-11-19T12:54:39.025Z"
      },
      {
        "duration": 592,
        "start_time": "2021-11-19T12:54:42.241Z"
      },
      {
        "duration": 5,
        "start_time": "2021-11-19T12:55:07.131Z"
      },
      {
        "duration": 25,
        "start_time": "2021-11-19T12:55:10.421Z"
      },
      {
        "duration": 4,
        "start_time": "2021-11-19T12:58:31.219Z"
      },
      {
        "duration": 599,
        "start_time": "2021-11-19T12:58:38.599Z"
      },
      {
        "duration": 4,
        "start_time": "2021-11-19T12:58:47.326Z"
      },
      {
        "duration": 27,
        "start_time": "2021-11-19T12:58:49.470Z"
      },
      {
        "duration": 17,
        "start_time": "2021-11-19T12:59:15.701Z"
      },
      {
        "duration": 19,
        "start_time": "2021-11-19T12:59:18.538Z"
      },
      {
        "duration": 24,
        "start_time": "2021-11-19T12:59:21.164Z"
      },
      {
        "duration": 7,
        "start_time": "2021-11-19T12:59:43.448Z"
      },
      {
        "duration": 24,
        "start_time": "2021-11-19T12:59:46.031Z"
      },
      {
        "duration": 42,
        "start_time": "2021-11-19T12:59:50.255Z"
      },
      {
        "duration": 6,
        "start_time": "2021-11-19T13:00:01.521Z"
      },
      {
        "duration": 20,
        "start_time": "2021-11-19T13:00:03.619Z"
      },
      {
        "duration": 27,
        "start_time": "2021-11-19T13:00:34.039Z"
      },
      {
        "duration": 68,
        "start_time": "2021-11-19T13:01:15.576Z"
      },
      {
        "duration": 16,
        "start_time": "2021-11-19T13:01:18.645Z"
      },
      {
        "duration": 39,
        "start_time": "2021-11-19T13:01:34.731Z"
      },
      {
        "duration": 17,
        "start_time": "2021-11-19T13:01:36.870Z"
      },
      {
        "duration": 73,
        "start_time": "2021-11-19T13:02:02.153Z"
      },
      {
        "duration": 11,
        "start_time": "2021-11-19T13:02:04.297Z"
      },
      {
        "duration": 275,
        "start_time": "2021-11-19T13:02:17.917Z"
      },
      {
        "duration": 50,
        "start_time": "2021-11-19T13:03:22.052Z"
      },
      {
        "duration": 10,
        "start_time": "2021-11-19T13:03:25.526Z"
      },
      {
        "duration": 5,
        "start_time": "2021-11-19T13:05:57.056Z"
      },
      {
        "duration": 21,
        "start_time": "2021-11-19T13:05:59.927Z"
      },
      {
        "duration": 13,
        "start_time": "2021-11-19T13:06:02.936Z"
      },
      {
        "duration": 18,
        "start_time": "2021-11-19T13:06:05.843Z"
      },
      {
        "duration": 14,
        "start_time": "2021-11-19T13:06:08.157Z"
      },
      {
        "duration": 4,
        "start_time": "2021-11-19T13:06:26.745Z"
      },
      {
        "duration": 648,
        "start_time": "2021-11-19T13:06:30.125Z"
      },
      {
        "duration": 6,
        "start_time": "2021-11-19T13:06:40.281Z"
      },
      {
        "duration": 754,
        "start_time": "2021-11-19T13:06:43.361Z"
      },
      {
        "duration": 5,
        "start_time": "2021-11-19T13:06:54.700Z"
      },
      {
        "duration": 509,
        "start_time": "2021-11-19T13:06:58.057Z"
      },
      {
        "duration": 80,
        "start_time": "2021-11-19T13:07:17.141Z"
      },
      {
        "duration": 6,
        "start_time": "2021-11-19T13:07:25.367Z"
      },
      {
        "duration": 686,
        "start_time": "2021-11-19T13:07:27.759Z"
      },
      {
        "duration": 10,
        "start_time": "2021-11-19T13:09:04.690Z"
      },
      {
        "duration": 22,
        "start_time": "2021-11-19T13:09:07.496Z"
      },
      {
        "duration": 25,
        "start_time": "2021-11-19T13:09:12.603Z"
      },
      {
        "duration": 61,
        "start_time": "2021-11-19T13:10:04.455Z"
      },
      {
        "duration": 11,
        "start_time": "2021-11-19T13:10:06.429Z"
      },
      {
        "duration": 6,
        "start_time": "2021-11-19T13:17:32.284Z"
      },
      {
        "duration": 28,
        "start_time": "2021-11-19T13:17:34.169Z"
      },
      {
        "duration": 15,
        "start_time": "2021-11-19T13:17:37.342Z"
      },
      {
        "duration": 10,
        "start_time": "2021-11-19T13:19:35.178Z"
      },
      {
        "duration": 4721,
        "start_time": "2021-11-19T13:19:42.563Z"
      },
      {
        "duration": 4379,
        "start_time": "2021-11-19T13:22:14.014Z"
      },
      {
        "duration": 8,
        "start_time": "2021-11-19T13:22:20.291Z"
      },
      {
        "duration": 4649,
        "start_time": "2021-11-19T13:22:22.385Z"
      },
      {
        "duration": 6,
        "start_time": "2021-11-19T13:25:17.668Z"
      },
      {
        "duration": 3603,
        "start_time": "2021-11-19T13:25:20.196Z"
      },
      {
        "duration": 11,
        "start_time": "2021-11-19T13:26:13.211Z"
      },
      {
        "duration": 6,
        "start_time": "2021-11-19T13:27:56.791Z"
      },
      {
        "duration": 4607,
        "start_time": "2021-11-19T13:28:04.967Z"
      },
      {
        "duration": 4,
        "start_time": "2021-11-19T13:29:00.757Z"
      },
      {
        "duration": 4813,
        "start_time": "2021-11-19T13:29:03.604Z"
      },
      {
        "duration": 5,
        "start_time": "2021-11-19T13:29:26.506Z"
      },
      {
        "duration": 3832,
        "start_time": "2021-11-19T13:29:31.320Z"
      },
      {
        "duration": 4,
        "start_time": "2021-11-19T13:29:49.041Z"
      },
      {
        "duration": 3913,
        "start_time": "2021-11-19T13:29:53.587Z"
      },
      {
        "duration": 4,
        "start_time": "2021-11-19T13:31:22.994Z"
      },
      {
        "duration": 5051,
        "start_time": "2021-11-19T13:31:26.298Z"
      },
      {
        "duration": 4,
        "start_time": "2021-11-19T13:31:54.210Z"
      },
      {
        "duration": 3538,
        "start_time": "2021-11-19T13:32:01.125Z"
      },
      {
        "duration": 4,
        "start_time": "2021-11-19T13:34:07.739Z"
      },
      {
        "duration": 4594,
        "start_time": "2021-11-19T13:34:11.351Z"
      },
      {
        "duration": 4,
        "start_time": "2021-11-19T13:34:56.914Z"
      },
      {
        "duration": 4082,
        "start_time": "2021-11-19T13:35:01.128Z"
      },
      {
        "duration": 7,
        "start_time": "2021-11-19T13:35:22.072Z"
      },
      {
        "duration": 3784,
        "start_time": "2021-11-19T13:35:32.759Z"
      },
      {
        "duration": 11,
        "start_time": "2021-11-19T13:38:42.020Z"
      },
      {
        "duration": 16,
        "start_time": "2021-11-19T13:38:43.835Z"
      },
      {
        "duration": 5,
        "start_time": "2021-11-19T13:38:48.567Z"
      },
      {
        "duration": 24,
        "start_time": "2021-11-19T13:38:51.786Z"
      },
      {
        "duration": 44,
        "start_time": "2021-11-19T13:38:58.335Z"
      },
      {
        "duration": 20,
        "start_time": "2021-11-19T13:39:00.686Z"
      },
      {
        "duration": 17,
        "start_time": "2021-11-19T13:39:03.265Z"
      },
      {
        "duration": 20,
        "start_time": "2021-11-19T13:39:49.153Z"
      },
      {
        "duration": 283,
        "start_time": "2021-11-19T13:40:07.793Z"
      },
      {
        "duration": 316,
        "start_time": "2021-11-19T13:40:17.786Z"
      },
      {
        "duration": 41,
        "start_time": "2021-11-19T13:40:33.010Z"
      },
      {
        "duration": 15,
        "start_time": "2021-11-19T13:40:35.663Z"
      },
      {
        "duration": 4,
        "start_time": "2021-11-19T14:08:31.146Z"
      },
      {
        "duration": 28,
        "start_time": "2021-11-19T14:08:33.759Z"
      },
      {
        "duration": 18,
        "start_time": "2021-11-19T14:08:38.728Z"
      },
      {
        "duration": 328,
        "start_time": "2021-11-19T14:09:06.501Z"
      },
      {
        "duration": 351,
        "start_time": "2021-11-19T14:09:26.716Z"
      },
      {
        "duration": 52,
        "start_time": "2021-11-19T14:09:45.957Z"
      },
      {
        "duration": 10,
        "start_time": "2021-11-19T14:09:49.800Z"
      },
      {
        "duration": 38,
        "start_time": "2021-11-19T14:10:30.196Z"
      },
      {
        "duration": 11,
        "start_time": "2021-11-19T14:10:32.600Z"
      },
      {
        "duration": 50,
        "start_time": "2021-11-19T14:10:45.129Z"
      },
      {
        "duration": 11,
        "start_time": "2021-11-19T14:10:47.372Z"
      },
      {
        "duration": 31,
        "start_time": "2021-11-19T14:10:58.415Z"
      },
      {
        "duration": 11,
        "start_time": "2021-11-19T14:11:00.712Z"
      },
      {
        "duration": 4,
        "start_time": "2021-11-19T14:14:14.715Z"
      },
      {
        "duration": 30,
        "start_time": "2021-11-19T14:14:20.151Z"
      },
      {
        "duration": 18,
        "start_time": "2021-11-19T14:14:24.078Z"
      },
      {
        "duration": 30,
        "start_time": "2021-11-19T14:14:26.348Z"
      },
      {
        "duration": 19,
        "start_time": "2021-11-19T14:14:28.764Z"
      },
      {
        "duration": 5,
        "start_time": "2021-11-19T14:15:11.532Z"
      },
      {
        "duration": 21,
        "start_time": "2021-11-19T14:15:14.999Z"
      },
      {
        "duration": 4,
        "start_time": "2021-11-19T14:16:15.928Z"
      },
      {
        "duration": 21,
        "start_time": "2021-11-19T14:16:18.429Z"
      },
      {
        "duration": 15,
        "start_time": "2021-11-19T14:16:23.541Z"
      },
      {
        "duration": 17,
        "start_time": "2021-11-19T14:16:26.485Z"
      },
      {
        "duration": 14,
        "start_time": "2021-11-19T14:16:31.229Z"
      },
      {
        "duration": 47,
        "start_time": "2021-11-19T14:17:02.347Z"
      },
      {
        "duration": 11,
        "start_time": "2021-11-19T14:17:05.695Z"
      },
      {
        "duration": 60,
        "start_time": "2021-11-19T14:17:53.220Z"
      },
      {
        "duration": 10,
        "start_time": "2021-11-19T14:17:56.175Z"
      },
      {
        "duration": 52,
        "start_time": "2021-11-19T14:18:16.840Z"
      },
      {
        "duration": 10,
        "start_time": "2021-11-19T14:18:19.923Z"
      },
      {
        "duration": 90,
        "start_time": "2021-11-19T14:20:24.900Z"
      },
      {
        "duration": 19,
        "start_time": "2021-11-19T14:22:10.905Z"
      },
      {
        "duration": 14,
        "start_time": "2021-11-19T14:22:13.712Z"
      },
      {
        "duration": 44,
        "start_time": "2021-11-19T14:22:33.794Z"
      },
      {
        "duration": 11,
        "start_time": "2021-11-19T14:22:35.838Z"
      },
      {
        "duration": 267,
        "start_time": "2021-11-19T14:23:21.808Z"
      },
      {
        "duration": -420,
        "start_time": "2021-11-19T14:23:22.497Z"
      },
      {
        "duration": 40,
        "start_time": "2021-11-19T14:23:41.994Z"
      },
      {
        "duration": 12,
        "start_time": "2021-11-19T14:23:44.901Z"
      },
      {
        "duration": 86,
        "start_time": "2021-11-19T14:23:52.469Z"
      },
      {
        "duration": 18,
        "start_time": "2021-11-19T14:24:38.703Z"
      },
      {
        "duration": 10,
        "start_time": "2021-11-19T14:24:41.757Z"
      },
      {
        "duration": 258,
        "start_time": "2021-11-19T14:24:52.412Z"
      },
      {
        "duration": 22,
        "start_time": "2021-11-19T14:25:22.889Z"
      },
      {
        "duration": 10,
        "start_time": "2021-11-19T14:25:25.436Z"
      },
      {
        "duration": 22,
        "start_time": "2021-11-19T14:25:42.015Z"
      },
      {
        "duration": 10,
        "start_time": "2021-11-19T14:25:43.924Z"
      },
      {
        "duration": 45,
        "start_time": "2021-11-19T14:26:07.445Z"
      },
      {
        "duration": 9,
        "start_time": "2021-11-19T14:26:10.976Z"
      },
      {
        "duration": 13,
        "start_time": "2021-11-19T14:30:53.552Z"
      },
      {
        "duration": 20,
        "start_time": "2021-11-19T14:30:58.852Z"
      },
      {
        "duration": 16,
        "start_time": "2021-11-19T14:31:57.865Z"
      },
      {
        "duration": 41,
        "start_time": "2021-11-19T14:32:07.993Z"
      },
      {
        "duration": 11,
        "start_time": "2021-11-19T14:32:09.918Z"
      },
      {
        "duration": 285,
        "start_time": "2021-11-19T14:32:24.990Z"
      },
      {
        "duration": 39,
        "start_time": "2021-11-19T14:32:53.056Z"
      },
      {
        "duration": 11,
        "start_time": "2021-11-19T14:32:57.553Z"
      },
      {
        "duration": 47,
        "start_time": "2021-11-19T14:33:43.727Z"
      },
      {
        "duration": 19,
        "start_time": "2021-11-19T14:33:45.105Z"
      },
      {
        "duration": 23,
        "start_time": "2021-11-19T14:33:56.343Z"
      },
      {
        "duration": 11,
        "start_time": "2021-11-19T14:33:58.217Z"
      },
      {
        "duration": 259,
        "start_time": "2021-11-19T14:36:15.843Z"
      },
      {
        "duration": 13,
        "start_time": "2021-11-19T14:36:23.124Z"
      },
      {
        "duration": 6,
        "start_time": "2021-11-19T14:36:27.546Z"
      },
      {
        "duration": 9,
        "start_time": "2021-11-19T14:36:42.047Z"
      },
      {
        "duration": 5,
        "start_time": "2021-11-19T14:36:44.776Z"
      },
      {
        "duration": 487,
        "start_time": "2021-11-20T12:03:06.741Z"
      },
      {
        "duration": 115,
        "start_time": "2021-11-20T12:03:07.230Z"
      },
      {
        "duration": 17,
        "start_time": "2021-11-20T12:03:07.347Z"
      },
      {
        "duration": 7,
        "start_time": "2021-11-20T12:03:07.365Z"
      },
      {
        "duration": 15,
        "start_time": "2021-11-20T12:03:07.374Z"
      },
      {
        "duration": 15,
        "start_time": "2021-11-20T12:03:07.390Z"
      },
      {
        "duration": 8,
        "start_time": "2021-11-20T12:03:07.407Z"
      },
      {
        "duration": 19,
        "start_time": "2021-11-20T12:03:07.417Z"
      },
      {
        "duration": 15,
        "start_time": "2021-11-20T12:03:07.438Z"
      },
      {
        "duration": 38,
        "start_time": "2021-11-20T12:03:07.455Z"
      },
      {
        "duration": 49,
        "start_time": "2021-11-20T12:03:07.494Z"
      },
      {
        "duration": 67,
        "start_time": "2021-11-20T12:03:07.544Z"
      },
      {
        "duration": 42,
        "start_time": "2021-11-20T12:03:07.613Z"
      },
      {
        "duration": 5,
        "start_time": "2021-11-20T12:03:07.656Z"
      },
      {
        "duration": 3,
        "start_time": "2021-11-20T12:03:07.663Z"
      },
      {
        "duration": 26,
        "start_time": "2021-11-20T12:03:07.667Z"
      },
      {
        "duration": 6,
        "start_time": "2021-11-20T12:03:07.695Z"
      },
      {
        "duration": 9,
        "start_time": "2021-11-20T12:03:07.702Z"
      },
      {
        "duration": 8,
        "start_time": "2021-11-20T12:03:07.713Z"
      },
      {
        "duration": 3,
        "start_time": "2021-11-20T12:03:07.723Z"
      },
      {
        "duration": 17,
        "start_time": "2021-11-20T12:03:07.727Z"
      },
      {
        "duration": 11,
        "start_time": "2021-11-20T12:03:07.745Z"
      },
      {
        "duration": 36,
        "start_time": "2021-11-20T12:03:07.759Z"
      },
      {
        "duration": 11,
        "start_time": "2021-11-20T12:03:07.796Z"
      },
      {
        "duration": 13,
        "start_time": "2021-11-20T12:03:07.809Z"
      },
      {
        "duration": 11,
        "start_time": "2021-11-20T12:03:07.823Z"
      },
      {
        "duration": 7,
        "start_time": "2021-11-20T12:03:07.836Z"
      },
      {
        "duration": 47,
        "start_time": "2021-11-20T12:03:07.844Z"
      },
      {
        "duration": 7,
        "start_time": "2021-11-20T12:03:07.892Z"
      },
      {
        "duration": 3,
        "start_time": "2021-11-20T12:03:07.901Z"
      },
      {
        "duration": 18,
        "start_time": "2021-11-20T12:03:07.905Z"
      },
      {
        "duration": 10,
        "start_time": "2021-11-20T12:03:07.925Z"
      },
      {
        "duration": 13,
        "start_time": "2021-11-20T12:03:07.936Z"
      },
      {
        "duration": 9,
        "start_time": "2021-11-20T12:03:07.950Z"
      },
      {
        "duration": 8,
        "start_time": "2021-11-20T12:03:07.987Z"
      },
      {
        "duration": 4,
        "start_time": "2021-11-20T12:03:07.997Z"
      },
      {
        "duration": 6,
        "start_time": "2021-11-20T12:03:08.003Z"
      },
      {
        "duration": 4,
        "start_time": "2021-11-20T12:03:08.011Z"
      },
      {
        "duration": 10,
        "start_time": "2021-11-20T12:03:34.191Z"
      },
      {
        "duration": 20,
        "start_time": "2021-11-20T12:03:37.397Z"
      },
      {
        "duration": 83,
        "start_time": "2021-11-20T12:15:18.660Z"
      },
      {
        "duration": 290,
        "start_time": "2021-11-20T12:15:32.599Z"
      },
      {
        "duration": 234,
        "start_time": "2021-11-20T12:17:53.368Z"
      },
      {
        "duration": 256,
        "start_time": "2021-11-20T12:18:09.360Z"
      },
      {
        "duration": 238,
        "start_time": "2021-11-20T12:18:42.187Z"
      },
      {
        "duration": 241,
        "start_time": "2021-11-20T12:18:48.491Z"
      },
      {
        "duration": 233,
        "start_time": "2021-11-20T12:21:28.774Z"
      },
      {
        "duration": 238,
        "start_time": "2021-11-20T12:22:27.446Z"
      },
      {
        "duration": 299,
        "start_time": "2021-11-20T12:23:02.039Z"
      },
      {
        "duration": 606,
        "start_time": "2021-11-20T12:23:13.810Z"
      },
      {
        "duration": 136,
        "start_time": "2021-11-20T12:23:14.418Z"
      },
      {
        "duration": 18,
        "start_time": "2021-11-20T12:23:14.556Z"
      },
      {
        "duration": 25,
        "start_time": "2021-11-20T12:23:14.575Z"
      },
      {
        "duration": 10,
        "start_time": "2021-11-20T12:23:14.601Z"
      },
      {
        "duration": 43,
        "start_time": "2021-11-20T12:23:14.613Z"
      },
      {
        "duration": 2,
        "start_time": "2021-11-20T12:23:14.658Z"
      },
      {
        "duration": 23,
        "start_time": "2021-11-20T12:23:14.663Z"
      },
      {
        "duration": 18,
        "start_time": "2021-11-20T12:23:14.688Z"
      },
      {
        "duration": 45,
        "start_time": "2021-11-20T12:23:14.708Z"
      },
      {
        "duration": 56,
        "start_time": "2021-11-20T12:23:14.755Z"
      },
      {
        "duration": 88,
        "start_time": "2021-11-20T12:23:14.813Z"
      },
      {
        "duration": 63,
        "start_time": "2021-11-20T12:23:14.903Z"
      },
      {
        "duration": 6,
        "start_time": "2021-11-20T12:23:14.968Z"
      },
      {
        "duration": 4,
        "start_time": "2021-11-20T12:23:14.975Z"
      },
      {
        "duration": 10,
        "start_time": "2021-11-20T12:23:14.981Z"
      },
      {
        "duration": 5,
        "start_time": "2021-11-20T12:23:14.993Z"
      },
      {
        "duration": 45,
        "start_time": "2021-11-20T12:23:15.000Z"
      },
      {
        "duration": 11,
        "start_time": "2021-11-20T12:23:15.047Z"
      },
      {
        "duration": 4,
        "start_time": "2021-11-20T12:23:15.059Z"
      },
      {
        "duration": 27,
        "start_time": "2021-11-20T12:23:15.065Z"
      },
      {
        "duration": 14,
        "start_time": "2021-11-20T12:23:15.094Z"
      },
      {
        "duration": 44,
        "start_time": "2021-11-20T12:23:15.111Z"
      },
      {
        "duration": 15,
        "start_time": "2021-11-20T12:23:15.156Z"
      },
      {
        "duration": 15,
        "start_time": "2021-11-20T12:23:15.173Z"
      },
      {
        "duration": 14,
        "start_time": "2021-11-20T12:23:15.190Z"
      },
      {
        "duration": 39,
        "start_time": "2021-11-20T12:23:15.206Z"
      },
      {
        "duration": 11,
        "start_time": "2021-11-20T12:23:15.246Z"
      },
      {
        "duration": 8,
        "start_time": "2021-11-20T12:23:15.258Z"
      },
      {
        "duration": 4,
        "start_time": "2021-11-20T12:23:15.268Z"
      },
      {
        "duration": 22,
        "start_time": "2021-11-20T12:23:15.273Z"
      },
      {
        "duration": 48,
        "start_time": "2021-11-20T12:23:15.297Z"
      },
      {
        "duration": 20,
        "start_time": "2021-11-20T12:23:15.347Z"
      },
      {
        "duration": 12,
        "start_time": "2021-11-20T12:23:15.368Z"
      },
      {
        "duration": 7,
        "start_time": "2021-11-20T12:23:15.381Z"
      },
      {
        "duration": 4,
        "start_time": "2021-11-20T12:23:15.390Z"
      },
      {
        "duration": 6,
        "start_time": "2021-11-20T12:23:15.396Z"
      },
      {
        "duration": 45,
        "start_time": "2021-11-20T12:23:15.404Z"
      },
      {
        "duration": 388,
        "start_time": "2021-11-21T14:54:23.144Z"
      },
      {
        "duration": 342,
        "start_time": "2021-11-21T14:54:28.337Z"
      },
      {
        "duration": 662,
        "start_time": "2021-11-21T14:54:38.683Z"
      },
      {
        "duration": 152,
        "start_time": "2021-11-21T14:54:39.347Z"
      },
      {
        "duration": 23,
        "start_time": "2021-11-21T14:54:39.500Z"
      },
      {
        "duration": 23,
        "start_time": "2021-11-21T14:54:39.525Z"
      },
      {
        "duration": 3,
        "start_time": "2021-11-21T14:54:39.550Z"
      },
      {
        "duration": 28,
        "start_time": "2021-11-21T14:54:39.555Z"
      },
      {
        "duration": 23,
        "start_time": "2021-11-21T14:54:39.585Z"
      },
      {
        "duration": 30,
        "start_time": "2021-11-21T14:54:39.611Z"
      },
      {
        "duration": 17,
        "start_time": "2021-11-21T14:54:39.643Z"
      },
      {
        "duration": 25,
        "start_time": "2021-11-21T14:54:39.661Z"
      },
      {
        "duration": 77,
        "start_time": "2021-11-21T14:54:39.687Z"
      },
      {
        "duration": 82,
        "start_time": "2021-11-21T14:54:39.766Z"
      },
      {
        "duration": 47,
        "start_time": "2021-11-21T14:54:39.849Z"
      },
      {
        "duration": 10,
        "start_time": "2021-11-21T14:54:39.907Z"
      },
      {
        "duration": 6,
        "start_time": "2021-11-21T14:54:39.919Z"
      },
      {
        "duration": 20,
        "start_time": "2021-11-21T14:54:39.927Z"
      },
      {
        "duration": 9,
        "start_time": "2021-11-21T14:54:39.948Z"
      },
      {
        "duration": 13,
        "start_time": "2021-11-21T14:54:39.959Z"
      },
      {
        "duration": 25,
        "start_time": "2021-11-21T14:54:39.973Z"
      },
      {
        "duration": 8,
        "start_time": "2021-11-21T14:54:40.000Z"
      },
      {
        "duration": 27,
        "start_time": "2021-11-21T14:54:40.010Z"
      },
      {
        "duration": 13,
        "start_time": "2021-11-21T14:54:40.039Z"
      },
      {
        "duration": 13,
        "start_time": "2021-11-21T14:54:40.056Z"
      },
      {
        "duration": 48,
        "start_time": "2021-11-21T14:54:40.071Z"
      },
      {
        "duration": 18,
        "start_time": "2021-11-21T14:54:40.122Z"
      },
      {
        "duration": 14,
        "start_time": "2021-11-21T14:54:40.142Z"
      },
      {
        "duration": 9,
        "start_time": "2021-11-21T14:54:40.158Z"
      },
      {
        "duration": 42,
        "start_time": "2021-11-21T14:54:40.168Z"
      },
      {
        "duration": 19,
        "start_time": "2021-11-21T14:54:40.213Z"
      },
      {
        "duration": 6,
        "start_time": "2021-11-21T14:54:40.234Z"
      },
      {
        "duration": 28,
        "start_time": "2021-11-21T14:54:40.241Z"
      },
      {
        "duration": 14,
        "start_time": "2021-11-21T14:54:40.271Z"
      },
      {
        "duration": 30,
        "start_time": "2021-11-21T14:54:40.287Z"
      },
      {
        "duration": 13,
        "start_time": "2021-11-21T14:54:40.319Z"
      },
      {
        "duration": 8,
        "start_time": "2021-11-21T14:54:40.333Z"
      },
      {
        "duration": 6,
        "start_time": "2021-11-21T14:54:40.343Z"
      },
      {
        "duration": 11,
        "start_time": "2021-11-21T14:54:40.350Z"
      },
      {
        "duration": 5,
        "start_time": "2021-11-21T14:54:40.363Z"
      },
      {
        "duration": 385,
        "start_time": "2021-11-21T15:06:50.636Z"
      },
      {
        "duration": 319,
        "start_time": "2021-11-21T15:09:41.488Z"
      },
      {
        "duration": 349,
        "start_time": "2021-11-21T15:13:49.254Z"
      },
      {
        "duration": 363,
        "start_time": "2021-11-21T15:13:56.412Z"
      },
      {
        "duration": 539,
        "start_time": "2021-11-21T15:15:26.307Z"
      },
      {
        "duration": 123,
        "start_time": "2021-11-21T15:15:37.313Z"
      },
      {
        "duration": 117,
        "start_time": "2021-11-21T15:15:45.424Z"
      },
      {
        "duration": 328,
        "start_time": "2021-11-21T15:15:57.953Z"
      },
      {
        "duration": 514,
        "start_time": "2021-11-21T15:16:35.335Z"
      },
      {
        "duration": 671,
        "start_time": "2021-11-21T15:21:37.165Z"
      },
      {
        "duration": 348,
        "start_time": "2021-11-21T15:24:37.239Z"
      },
      {
        "duration": 358,
        "start_time": "2021-11-21T15:24:47.343Z"
      },
      {
        "duration": 334,
        "start_time": "2021-11-21T15:25:27.705Z"
      },
      {
        "duration": 15,
        "start_time": "2021-11-21T15:28:49.332Z"
      },
      {
        "duration": 17,
        "start_time": "2021-11-21T15:28:56.818Z"
      },
      {
        "duration": 37,
        "start_time": "2021-11-21T15:29:06.203Z"
      },
      {
        "duration": 13,
        "start_time": "2021-11-21T15:29:13.281Z"
      },
      {
        "duration": 22,
        "start_time": "2021-11-21T15:29:31.869Z"
      },
      {
        "duration": 14,
        "start_time": "2021-11-21T15:33:13.451Z"
      },
      {
        "duration": 34,
        "start_time": "2021-11-21T15:33:17.699Z"
      },
      {
        "duration": 17,
        "start_time": "2021-11-21T15:34:00.204Z"
      },
      {
        "duration": 530,
        "start_time": "2021-11-21T15:36:43.446Z"
      },
      {
        "duration": 23,
        "start_time": "2021-11-21T15:36:55.008Z"
      },
      {
        "duration": 150,
        "start_time": "2021-11-21T15:39:18.405Z"
      },
      {
        "duration": 105,
        "start_time": "2021-11-21T15:41:13.196Z"
      },
      {
        "duration": 99,
        "start_time": "2021-11-21T19:34:42.951Z"
      },
      {
        "duration": -1033,
        "start_time": "2021-11-21T19:34:44.086Z"
      },
      {
        "duration": -1037,
        "start_time": "2021-11-21T19:34:44.091Z"
      },
      {
        "duration": -1045,
        "start_time": "2021-11-21T19:34:44.099Z"
      },
      {
        "duration": -1048,
        "start_time": "2021-11-21T19:34:44.103Z"
      },
      {
        "duration": -1051,
        "start_time": "2021-11-21T19:34:44.107Z"
      },
      {
        "duration": -1054,
        "start_time": "2021-11-21T19:34:44.111Z"
      },
      {
        "duration": -1058,
        "start_time": "2021-11-21T19:34:44.116Z"
      },
      {
        "duration": -1062,
        "start_time": "2021-11-21T19:34:44.121Z"
      },
      {
        "duration": -1067,
        "start_time": "2021-11-21T19:34:44.127Z"
      },
      {
        "duration": -1070,
        "start_time": "2021-11-21T19:34:44.131Z"
      },
      {
        "duration": -1071,
        "start_time": "2021-11-21T19:34:44.134Z"
      },
      {
        "duration": -1074,
        "start_time": "2021-11-21T19:34:44.138Z"
      },
      {
        "duration": -1078,
        "start_time": "2021-11-21T19:34:44.143Z"
      },
      {
        "duration": -1080,
        "start_time": "2021-11-21T19:34:44.146Z"
      },
      {
        "duration": -1083,
        "start_time": "2021-11-21T19:34:44.150Z"
      },
      {
        "duration": -1086,
        "start_time": "2021-11-21T19:34:44.153Z"
      },
      {
        "duration": -1087,
        "start_time": "2021-11-21T19:34:44.155Z"
      },
      {
        "duration": -1090,
        "start_time": "2021-11-21T19:34:44.159Z"
      },
      {
        "duration": -1092,
        "start_time": "2021-11-21T19:34:44.162Z"
      },
      {
        "duration": -1094,
        "start_time": "2021-11-21T19:34:44.165Z"
      },
      {
        "duration": -1096,
        "start_time": "2021-11-21T19:34:44.168Z"
      },
      {
        "duration": -1098,
        "start_time": "2021-11-21T19:34:44.171Z"
      },
      {
        "duration": -1118,
        "start_time": "2021-11-21T19:34:44.192Z"
      },
      {
        "duration": 294,
        "start_time": "2021-11-21T19:34:43.076Z"
      },
      {
        "duration": -1081,
        "start_time": "2021-11-21T19:34:44.453Z"
      },
      {
        "duration": -1084,
        "start_time": "2021-11-21T19:34:44.457Z"
      },
      {
        "duration": -1087,
        "start_time": "2021-11-21T19:34:44.461Z"
      },
      {
        "duration": -1089,
        "start_time": "2021-11-21T19:34:44.464Z"
      },
      {
        "duration": -1095,
        "start_time": "2021-11-21T19:34:44.470Z"
      },
      {
        "duration": -1097,
        "start_time": "2021-11-21T19:34:44.473Z"
      },
      {
        "duration": -1100,
        "start_time": "2021-11-21T19:34:44.477Z"
      },
      {
        "duration": -1102,
        "start_time": "2021-11-21T19:34:44.480Z"
      },
      {
        "duration": -1105,
        "start_time": "2021-11-21T19:34:44.484Z"
      },
      {
        "duration": -1109,
        "start_time": "2021-11-21T19:34:44.489Z"
      },
      {
        "duration": -1113,
        "start_time": "2021-11-21T19:34:44.493Z"
      },
      {
        "duration": -1116,
        "start_time": "2021-11-21T19:34:44.497Z"
      },
      {
        "duration": -1118,
        "start_time": "2021-11-21T19:34:44.500Z"
      },
      {
        "duration": -1120,
        "start_time": "2021-11-21T19:34:44.503Z"
      },
      {
        "duration": 578,
        "start_time": "2021-11-21T19:34:57.509Z"
      },
      {
        "duration": 136,
        "start_time": "2021-11-21T19:34:58.089Z"
      },
      {
        "duration": 16,
        "start_time": "2021-11-21T19:34:58.230Z"
      },
      {
        "duration": 70,
        "start_time": "2021-11-21T19:34:58.248Z"
      },
      {
        "duration": 8,
        "start_time": "2021-11-21T19:34:58.320Z"
      },
      {
        "duration": 33,
        "start_time": "2021-11-21T19:34:58.330Z"
      },
      {
        "duration": 25,
        "start_time": "2021-11-21T19:34:58.366Z"
      },
      {
        "duration": 68,
        "start_time": "2021-11-21T19:34:58.393Z"
      },
      {
        "duration": 39,
        "start_time": "2021-11-21T19:34:58.463Z"
      },
      {
        "duration": 62,
        "start_time": "2021-11-21T19:34:58.504Z"
      },
      {
        "duration": 70,
        "start_time": "2021-11-21T19:34:58.568Z"
      },
      {
        "duration": 81,
        "start_time": "2021-11-21T19:34:58.640Z"
      },
      {
        "duration": 50,
        "start_time": "2021-11-21T19:34:58.723Z"
      },
      {
        "duration": 311,
        "start_time": "2021-11-21T19:34:58.775Z"
      },
      {
        "duration": -974,
        "start_time": "2021-11-21T19:35:00.063Z"
      },
      {
        "duration": -978,
        "start_time": "2021-11-21T19:35:00.068Z"
      },
      {
        "duration": -989,
        "start_time": "2021-11-21T19:35:00.080Z"
      },
      {
        "duration": -991,
        "start_time": "2021-11-21T19:35:00.083Z"
      },
      {
        "duration": -994,
        "start_time": "2021-11-21T19:35:00.087Z"
      },
      {
        "duration": -998,
        "start_time": "2021-11-21T19:35:00.091Z"
      },
      {
        "duration": -1000,
        "start_time": "2021-11-21T19:35:00.094Z"
      },
      {
        "duration": -1003,
        "start_time": "2021-11-21T19:35:00.098Z"
      },
      {
        "duration": -1004,
        "start_time": "2021-11-21T19:35:00.101Z"
      },
      {
        "duration": -1007,
        "start_time": "2021-11-21T19:35:00.105Z"
      },
      {
        "duration": -1010,
        "start_time": "2021-11-21T19:35:00.109Z"
      },
      {
        "duration": -1019,
        "start_time": "2021-11-21T19:35:00.119Z"
      },
      {
        "duration": -1022,
        "start_time": "2021-11-21T19:35:00.123Z"
      },
      {
        "duration": -1024,
        "start_time": "2021-11-21T19:35:00.126Z"
      },
      {
        "duration": -1027,
        "start_time": "2021-11-21T19:35:00.130Z"
      },
      {
        "duration": -1033,
        "start_time": "2021-11-21T19:35:00.137Z"
      },
      {
        "duration": -1035,
        "start_time": "2021-11-21T19:35:00.140Z"
      },
      {
        "duration": -1037,
        "start_time": "2021-11-21T19:35:00.143Z"
      },
      {
        "duration": -1040,
        "start_time": "2021-11-21T19:35:00.147Z"
      },
      {
        "duration": -1042,
        "start_time": "2021-11-21T19:35:00.150Z"
      },
      {
        "duration": -1045,
        "start_time": "2021-11-21T19:35:00.154Z"
      },
      {
        "duration": -1048,
        "start_time": "2021-11-21T19:35:00.158Z"
      },
      {
        "duration": -1049,
        "start_time": "2021-11-21T19:35:00.160Z"
      },
      {
        "duration": -1052,
        "start_time": "2021-11-21T19:35:00.164Z"
      },
      {
        "duration": 403,
        "start_time": "2021-11-21T19:37:22.789Z"
      },
      {
        "duration": 29,
        "start_time": "2021-11-21T19:37:46.382Z"
      },
      {
        "duration": 29,
        "start_time": "2021-11-21T19:37:56.447Z"
      },
      {
        "duration": 50,
        "start_time": "2021-11-21T19:37:58.335Z"
      },
      {
        "duration": 51,
        "start_time": "2021-11-21T19:41:19.190Z"
      },
      {
        "duration": 70,
        "start_time": "2021-11-21T19:41:19.243Z"
      },
      {
        "duration": 56,
        "start_time": "2021-11-21T19:41:19.316Z"
      },
      {
        "duration": 65,
        "start_time": "2021-11-21T19:41:19.374Z"
      },
      {
        "duration": 6,
        "start_time": "2021-11-21T19:41:19.440Z"
      },
      {
        "duration": 6,
        "start_time": "2021-11-21T19:41:19.448Z"
      },
      {
        "duration": 12,
        "start_time": "2021-11-21T19:41:19.456Z"
      },
      {
        "duration": 9,
        "start_time": "2021-11-21T19:41:19.471Z"
      },
      {
        "duration": 31,
        "start_time": "2021-11-21T19:41:19.483Z"
      },
      {
        "duration": 16,
        "start_time": "2021-11-21T19:41:19.516Z"
      },
      {
        "duration": 15,
        "start_time": "2021-11-21T19:41:19.534Z"
      },
      {
        "duration": 29,
        "start_time": "2021-11-21T19:41:19.551Z"
      },
      {
        "duration": 36,
        "start_time": "2021-11-21T19:41:19.582Z"
      },
      {
        "duration": 22,
        "start_time": "2021-11-21T19:41:19.620Z"
      },
      {
        "duration": 19,
        "start_time": "2021-11-21T19:41:19.644Z"
      },
      {
        "duration": 57,
        "start_time": "2021-11-21T19:41:19.665Z"
      },
      {
        "duration": 28,
        "start_time": "2021-11-21T19:41:19.724Z"
      },
      {
        "duration": 11,
        "start_time": "2021-11-21T19:41:19.755Z"
      },
      {
        "duration": 40,
        "start_time": "2021-11-21T19:41:19.768Z"
      },
      {
        "duration": 17,
        "start_time": "2021-11-21T19:41:19.810Z"
      },
      {
        "duration": 6,
        "start_time": "2021-11-21T19:41:19.829Z"
      },
      {
        "duration": 37,
        "start_time": "2021-11-21T19:41:19.837Z"
      },
      {
        "duration": 36,
        "start_time": "2021-11-21T19:41:19.878Z"
      },
      {
        "duration": 29,
        "start_time": "2021-11-21T19:41:19.917Z"
      },
      {
        "duration": 15,
        "start_time": "2021-11-21T19:41:19.948Z"
      },
      {
        "duration": 11,
        "start_time": "2021-11-21T19:41:19.965Z"
      },
      {
        "duration": 29,
        "start_time": "2021-11-21T19:41:19.978Z"
      },
      {
        "duration": 13,
        "start_time": "2021-11-21T19:41:20.009Z"
      },
      {
        "duration": 10,
        "start_time": "2021-11-21T19:41:20.024Z"
      },
      {
        "duration": 648,
        "start_time": "2021-11-21T19:41:58.724Z"
      },
      {
        "duration": 207,
        "start_time": "2021-11-21T19:41:59.374Z"
      },
      {
        "duration": 23,
        "start_time": "2021-11-21T19:41:59.584Z"
      },
      {
        "duration": 42,
        "start_time": "2021-11-21T19:41:59.610Z"
      },
      {
        "duration": 14,
        "start_time": "2021-11-21T19:41:59.654Z"
      },
      {
        "duration": 36,
        "start_time": "2021-11-21T19:41:59.670Z"
      },
      {
        "duration": 19,
        "start_time": "2021-11-21T19:41:59.708Z"
      },
      {
        "duration": 40,
        "start_time": "2021-11-21T19:41:59.730Z"
      },
      {
        "duration": 17,
        "start_time": "2021-11-21T19:41:59.772Z"
      },
      {
        "duration": 28,
        "start_time": "2021-11-21T19:41:59.791Z"
      },
      {
        "duration": 66,
        "start_time": "2021-11-21T19:41:59.821Z"
      },
      {
        "duration": 81,
        "start_time": "2021-11-21T19:41:59.889Z"
      },
      {
        "duration": 66,
        "start_time": "2021-11-21T19:41:59.972Z"
      },
      {
        "duration": 342,
        "start_time": "2021-11-21T19:42:00.040Z"
      },
      {
        "duration": -959,
        "start_time": "2021-11-21T19:42:01.344Z"
      },
      {
        "duration": -964,
        "start_time": "2021-11-21T19:42:01.350Z"
      },
      {
        "duration": -967,
        "start_time": "2021-11-21T19:42:01.354Z"
      },
      {
        "duration": -976,
        "start_time": "2021-11-21T19:42:01.364Z"
      },
      {
        "duration": -982,
        "start_time": "2021-11-21T19:42:01.371Z"
      },
      {
        "duration": -985,
        "start_time": "2021-11-21T19:42:01.375Z"
      },
      {
        "duration": -988,
        "start_time": "2021-11-21T19:42:01.379Z"
      },
      {
        "duration": -990,
        "start_time": "2021-11-21T19:42:01.382Z"
      },
      {
        "duration": -995,
        "start_time": "2021-11-21T19:42:01.388Z"
      },
      {
        "duration": -998,
        "start_time": "2021-11-21T19:42:01.392Z"
      },
      {
        "duration": -1000,
        "start_time": "2021-11-21T19:42:01.395Z"
      },
      {
        "duration": -1005,
        "start_time": "2021-11-21T19:42:01.401Z"
      },
      {
        "duration": -1007,
        "start_time": "2021-11-21T19:42:01.404Z"
      },
      {
        "duration": -1009,
        "start_time": "2021-11-21T19:42:01.408Z"
      },
      {
        "duration": -1011,
        "start_time": "2021-11-21T19:42:01.411Z"
      },
      {
        "duration": -1013,
        "start_time": "2021-11-21T19:42:01.414Z"
      },
      {
        "duration": -1025,
        "start_time": "2021-11-21T19:42:01.427Z"
      },
      {
        "duration": -1027,
        "start_time": "2021-11-21T19:42:01.430Z"
      },
      {
        "duration": -1029,
        "start_time": "2021-11-21T19:42:01.433Z"
      },
      {
        "duration": -1032,
        "start_time": "2021-11-21T19:42:01.437Z"
      },
      {
        "duration": -1034,
        "start_time": "2021-11-21T19:42:01.440Z"
      },
      {
        "duration": -1037,
        "start_time": "2021-11-21T19:42:01.444Z"
      },
      {
        "duration": -1040,
        "start_time": "2021-11-21T19:42:01.448Z"
      },
      {
        "duration": -1044,
        "start_time": "2021-11-21T19:42:01.453Z"
      },
      {
        "duration": 273,
        "start_time": "2021-11-21T19:50:22.770Z"
      },
      {
        "duration": 454,
        "start_time": "2022-06-15T10:50:53.992Z"
      },
      {
        "duration": 552,
        "start_time": "2022-06-15T10:50:54.448Z"
      },
      {
        "duration": 20,
        "start_time": "2022-06-15T10:50:55.002Z"
      },
      {
        "duration": 36,
        "start_time": "2022-06-15T10:50:55.024Z"
      },
      {
        "duration": 37,
        "start_time": "2022-06-15T10:50:55.063Z"
      },
      {
        "duration": 18,
        "start_time": "2022-06-15T10:50:55.102Z"
      },
      {
        "duration": 11,
        "start_time": "2022-06-15T10:50:55.122Z"
      },
      {
        "duration": 43,
        "start_time": "2022-06-15T10:50:55.135Z"
      },
      {
        "duration": 36,
        "start_time": "2022-06-15T10:50:55.180Z"
      },
      {
        "duration": 40,
        "start_time": "2022-06-15T10:50:55.218Z"
      },
      {
        "duration": 109,
        "start_time": "2022-06-15T10:50:55.260Z"
      },
      {
        "duration": 109,
        "start_time": "2022-06-15T10:50:55.371Z"
      },
      {
        "duration": 97,
        "start_time": "2022-06-15T10:50:55.482Z"
      },
      {
        "duration": 7,
        "start_time": "2022-06-15T10:50:55.584Z"
      },
      {
        "duration": 6,
        "start_time": "2022-06-15T10:50:55.593Z"
      },
      {
        "duration": 17,
        "start_time": "2022-06-15T10:50:55.602Z"
      },
      {
        "duration": 11,
        "start_time": "2022-06-15T10:50:55.621Z"
      },
      {
        "duration": 40,
        "start_time": "2022-06-15T10:50:55.634Z"
      },
      {
        "duration": 31,
        "start_time": "2022-06-15T10:50:55.677Z"
      },
      {
        "duration": 14,
        "start_time": "2022-06-15T10:50:55.710Z"
      },
      {
        "duration": 37,
        "start_time": "2022-06-15T10:50:55.726Z"
      },
      {
        "duration": 20,
        "start_time": "2022-06-15T10:50:55.765Z"
      },
      {
        "duration": 22,
        "start_time": "2022-06-15T10:50:55.787Z"
      },
      {
        "duration": 18,
        "start_time": "2022-06-15T10:50:55.810Z"
      },
      {
        "duration": 42,
        "start_time": "2022-06-15T10:50:55.830Z"
      },
      {
        "duration": 20,
        "start_time": "2022-06-15T10:50:55.874Z"
      },
      {
        "duration": 9,
        "start_time": "2022-06-15T10:50:55.896Z"
      },
      {
        "duration": 15,
        "start_time": "2022-06-15T10:50:55.908Z"
      },
      {
        "duration": 51,
        "start_time": "2022-06-15T10:50:55.926Z"
      },
      {
        "duration": 10,
        "start_time": "2022-06-15T10:50:55.980Z"
      },
      {
        "duration": 32,
        "start_time": "2022-06-15T10:50:55.992Z"
      },
      {
        "duration": 18,
        "start_time": "2022-06-15T10:50:56.026Z"
      },
      {
        "duration": 39,
        "start_time": "2022-06-15T10:50:56.046Z"
      },
      {
        "duration": 14,
        "start_time": "2022-06-15T10:50:56.088Z"
      },
      {
        "duration": 11,
        "start_time": "2022-06-15T10:50:56.104Z"
      },
      {
        "duration": 13,
        "start_time": "2022-06-15T10:50:56.116Z"
      },
      {
        "duration": 28,
        "start_time": "2022-06-15T10:50:56.131Z"
      },
      {
        "duration": 12,
        "start_time": "2022-06-15T10:50:56.161Z"
      }
    ],
    "colab": {
      "collapsed_sections": [
        "E0vqbgi9ay0H",
        "VUC88oWjTJw2"
      ],
      "name": "Музыка_больших_городов.ipynb",
      "provenance": []
    },
    "kernelspec": {
      "display_name": "Python 3 (ipykernel)",
      "language": "python",
      "name": "python3"
    },
    "language_info": {
      "codemirror_mode": {
        "name": "ipython",
        "version": 3
      },
      "file_extension": ".py",
      "mimetype": "text/x-python",
      "name": "python",
      "nbconvert_exporter": "python",
      "pygments_lexer": "ipython3",
      "version": "3.9.5"
    },
    "toc": {
      "base_numbering": 1,
      "nav_menu": {},
      "number_sections": true,
      "sideBar": true,
      "skip_h1_title": true,
      "title_cell": "Table of Contents",
      "title_sidebar": "Contents",
      "toc_cell": false,
      "toc_position": {},
      "toc_section_display": true,
      "toc_window_display": false
    }
  },
  "nbformat": 4,
  "nbformat_minor": 0
}