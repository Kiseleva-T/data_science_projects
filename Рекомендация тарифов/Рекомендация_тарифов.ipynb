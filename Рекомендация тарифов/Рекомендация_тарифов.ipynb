{
  "cells": [
    {
      "cell_type": "markdown",
      "metadata": {
        "id": "UAUBGLBZSXUX"
      },
      "source": [
        "# Рекомендация тарифов"
      ]
    },
    {
      "cell_type": "markdown",
      "metadata": {
        "id": "hxfJgsOZSXUZ"
      },
      "source": [
        "Для пользователей тарифов из проекта \"Определение перспективного тарифа\" необходимо создать модель классификации, которая подберет подходящий тариф.\n",
        "\n",
        "Значение accuracy должно бьть не менее 0,75."
      ]
    },
    {
      "cell_type": "markdown",
      "metadata": {
        "id": "ZsjGGfQaSXUd"
      },
      "source": [
        "<div class=\"alert alert-info\">Импортируем все, что нам нужно прочитаем файл\n",
        "</div>"
      ]
    },
    {
      "cell_type": "code",
      "execution_count": null,
      "metadata": {
        "id": "8C1GTdIySXUg"
      },
      "outputs": [],
      "source": [
        "import pandas as pd\n",
        "from sklearn.tree import DecisionTreeClassifier\n",
        "from sklearn.ensemble import RandomForestClassifier\n",
        "from sklearn.linear_model import LogisticRegression\n",
        "from sklearn.metrics import accuracy_score\n",
        "from sklearn.model_selection import train_test_split\n",
        "from sklearn.dummy import DummyClassifier"
      ]
    },
    {
      "cell_type": "code",
      "execution_count": null,
      "metadata": {
        "id": "g5svPYoXSXUl",
        "outputId": "c20108fa-4aa7-4c6f-8e7c-f96233c36629"
      },
      "outputs": [
        {
          "data": {
            "text/html": [
              "<div>\n",
              "<style scoped>\n",
              "    .dataframe tbody tr th:only-of-type {\n",
              "        vertical-align: middle;\n",
              "    }\n",
              "\n",
              "    .dataframe tbody tr th {\n",
              "        vertical-align: top;\n",
              "    }\n",
              "\n",
              "    .dataframe thead th {\n",
              "        text-align: right;\n",
              "    }\n",
              "</style>\n",
              "<table border=\"1\" class=\"dataframe\">\n",
              "  <thead>\n",
              "    <tr style=\"text-align: right;\">\n",
              "      <th></th>\n",
              "      <th>calls</th>\n",
              "      <th>minutes</th>\n",
              "      <th>messages</th>\n",
              "      <th>mb_used</th>\n",
              "      <th>is_ultra</th>\n",
              "    </tr>\n",
              "  </thead>\n",
              "  <tbody>\n",
              "    <tr>\n",
              "      <td>0</td>\n",
              "      <td>40.0</td>\n",
              "      <td>311.90</td>\n",
              "      <td>83.0</td>\n",
              "      <td>19915.42</td>\n",
              "      <td>0</td>\n",
              "    </tr>\n",
              "    <tr>\n",
              "      <td>1</td>\n",
              "      <td>85.0</td>\n",
              "      <td>516.75</td>\n",
              "      <td>56.0</td>\n",
              "      <td>22696.96</td>\n",
              "      <td>0</td>\n",
              "    </tr>\n",
              "    <tr>\n",
              "      <td>2</td>\n",
              "      <td>77.0</td>\n",
              "      <td>467.66</td>\n",
              "      <td>86.0</td>\n",
              "      <td>21060.45</td>\n",
              "      <td>0</td>\n",
              "    </tr>\n",
              "    <tr>\n",
              "      <td>3</td>\n",
              "      <td>106.0</td>\n",
              "      <td>745.53</td>\n",
              "      <td>81.0</td>\n",
              "      <td>8437.39</td>\n",
              "      <td>1</td>\n",
              "    </tr>\n",
              "    <tr>\n",
              "      <td>4</td>\n",
              "      <td>66.0</td>\n",
              "      <td>418.74</td>\n",
              "      <td>1.0</td>\n",
              "      <td>14502.75</td>\n",
              "      <td>0</td>\n",
              "    </tr>\n",
              "    <tr>\n",
              "      <td>...</td>\n",
              "      <td>...</td>\n",
              "      <td>...</td>\n",
              "      <td>...</td>\n",
              "      <td>...</td>\n",
              "      <td>...</td>\n",
              "    </tr>\n",
              "    <tr>\n",
              "      <td>3209</td>\n",
              "      <td>122.0</td>\n",
              "      <td>910.98</td>\n",
              "      <td>20.0</td>\n",
              "      <td>35124.90</td>\n",
              "      <td>1</td>\n",
              "    </tr>\n",
              "    <tr>\n",
              "      <td>3210</td>\n",
              "      <td>25.0</td>\n",
              "      <td>190.36</td>\n",
              "      <td>0.0</td>\n",
              "      <td>3275.61</td>\n",
              "      <td>0</td>\n",
              "    </tr>\n",
              "    <tr>\n",
              "      <td>3211</td>\n",
              "      <td>97.0</td>\n",
              "      <td>634.44</td>\n",
              "      <td>70.0</td>\n",
              "      <td>13974.06</td>\n",
              "      <td>0</td>\n",
              "    </tr>\n",
              "    <tr>\n",
              "      <td>3212</td>\n",
              "      <td>64.0</td>\n",
              "      <td>462.32</td>\n",
              "      <td>90.0</td>\n",
              "      <td>31239.78</td>\n",
              "      <td>0</td>\n",
              "    </tr>\n",
              "    <tr>\n",
              "      <td>3213</td>\n",
              "      <td>80.0</td>\n",
              "      <td>566.09</td>\n",
              "      <td>6.0</td>\n",
              "      <td>29480.52</td>\n",
              "      <td>1</td>\n",
              "    </tr>\n",
              "  </tbody>\n",
              "</table>\n",
              "<p>3214 rows × 5 columns</p>\n",
              "</div>"
            ],
            "text/plain": [
              "      calls  minutes  messages   mb_used  is_ultra\n",
              "0      40.0   311.90      83.0  19915.42         0\n",
              "1      85.0   516.75      56.0  22696.96         0\n",
              "2      77.0   467.66      86.0  21060.45         0\n",
              "3     106.0   745.53      81.0   8437.39         1\n",
              "4      66.0   418.74       1.0  14502.75         0\n",
              "...     ...      ...       ...       ...       ...\n",
              "3209  122.0   910.98      20.0  35124.90         1\n",
              "3210   25.0   190.36       0.0   3275.61         0\n",
              "3211   97.0   634.44      70.0  13974.06         0\n",
              "3212   64.0   462.32      90.0  31239.78         0\n",
              "3213   80.0   566.09       6.0  29480.52         1\n",
              "\n",
              "[3214 rows x 5 columns]"
            ]
          },
          "metadata": {},
          "output_type": "display_data"
        }
      ],
      "source": [
        "\n",
        "display(df)"
      ]
    },
    {
      "cell_type": "code",
      "execution_count": null,
      "metadata": {
        "id": "y4zbksUoSXUs",
        "outputId": "c67a3cab-d849-4698-e0cb-3bce5cf55ae6"
      },
      "outputs": [
        {
          "name": "stdout",
          "output_type": "stream",
          "text": [
            "<class 'pandas.core.frame.DataFrame'>\n",
            "RangeIndex: 3214 entries, 0 to 3213\n",
            "Data columns (total 5 columns):\n",
            "calls       3214 non-null float64\n",
            "minutes     3214 non-null float64\n",
            "messages    3214 non-null float64\n",
            "mb_used     3214 non-null float64\n",
            "is_ultra    3214 non-null int64\n",
            "dtypes: float64(4), int64(1)\n",
            "memory usage: 125.7 KB\n"
          ]
        }
      ],
      "source": [
        "df.info()"
      ]
    },
    {
      "cell_type": "markdown",
      "metadata": {
        "id": "ppAbbKJrSXUv"
      },
      "source": [
        "<div class=\"alert alert-info\">признаки - все, кроме столбца is_ultra, соответственно цель - is_ultra\n",
        "</div>"
      ]
    },
    {
      "cell_type": "code",
      "execution_count": null,
      "metadata": {
        "id": "hSNj68BsSXUz",
        "outputId": "8b884083-0a5e-41a7-8339-b6407e73e4f3"
      },
      "outputs": [
        {
          "name": "stdout",
          "output_type": "stream",
          "text": [
            "(3214, 4)\n",
            "(3214,)\n"
          ]
        }
      ],
      "source": [
        "features = df.drop(['is_ultra'], axis=1)\n",
        "target = df['is_ultra'] # < напишите код здесь >\n",
        "\n",
        "print(features.shape)\n",
        "print(target.shape)"
      ]
    },
    {
      "cell_type": "code",
      "execution_count": null,
      "metadata": {
        "id": "bP3KZfdGSXU1",
        "outputId": "fbe9eb33-7c1a-4eef-d56b-084d215cc02f"
      },
      "outputs": [
        {
          "name": "stdout",
          "output_type": "stream",
          "text": [
            "0\n"
          ]
        }
      ],
      "source": [
        "print(df.duplicated().sum())"
      ]
    },
    {
      "cell_type": "code",
      "execution_count": null,
      "metadata": {
        "id": "U3HOyxHiSXU7"
      },
      "outputs": [],
      "source": [
        "#делим данные на выборки\n",
        "df, df_test = train_test_split(df, test_size=0.2, train_size=0.8)\n",
        "df_train, df_valid = train_test_split(df, test_size=0.25, train_size=0.75)"
      ]
    },
    {
      "cell_type": "code",
      "execution_count": null,
      "metadata": {
        "id": "tVzPJAFNSXU8",
        "outputId": "3e89ddf1-e367-49a4-af88-2f6111c4f096"
      },
      "outputs": [
        {
          "name": "stdout",
          "output_type": "stream",
          "text": [
            "<class 'pandas.core.frame.DataFrame'>\n",
            "Int64Index: 643 entries, 781 to 512\n",
            "Data columns (total 5 columns):\n",
            "calls       643 non-null float64\n",
            "minutes     643 non-null float64\n",
            "messages    643 non-null float64\n",
            "mb_used     643 non-null float64\n",
            "is_ultra    643 non-null int64\n",
            "dtypes: float64(4), int64(1)\n",
            "memory usage: 30.1 KB\n"
          ]
        }
      ],
      "source": [
        "df_test.info()"
      ]
    },
    {
      "cell_type": "code",
      "execution_count": null,
      "metadata": {
        "id": "Z_Z3fRznSXU9",
        "outputId": "87025b6b-d421-4478-df32-accf9af9e108"
      },
      "outputs": [
        {
          "name": "stdout",
          "output_type": "stream",
          "text": [
            "<class 'pandas.core.frame.DataFrame'>\n",
            "Int64Index: 1928 entries, 2509 to 2205\n",
            "Data columns (total 5 columns):\n",
            "calls       1928 non-null float64\n",
            "minutes     1928 non-null float64\n",
            "messages    1928 non-null float64\n",
            "mb_used     1928 non-null float64\n",
            "is_ultra    1928 non-null int64\n",
            "dtypes: float64(4), int64(1)\n",
            "memory usage: 90.4 KB\n"
          ]
        }
      ],
      "source": [
        "df_train.info()"
      ]
    },
    {
      "cell_type": "code",
      "execution_count": null,
      "metadata": {
        "id": "E8dSHN3mSXU_",
        "outputId": "8034e3e9-7873-4bbd-824d-7fe0bf33d3f2"
      },
      "outputs": [
        {
          "name": "stdout",
          "output_type": "stream",
          "text": [
            "<class 'pandas.core.frame.DataFrame'>\n",
            "Int64Index: 643 entries, 2027 to 1011\n",
            "Data columns (total 5 columns):\n",
            "calls       643 non-null float64\n",
            "minutes     643 non-null float64\n",
            "messages    643 non-null float64\n",
            "mb_used     643 non-null float64\n",
            "is_ultra    643 non-null int64\n",
            "dtypes: float64(4), int64(1)\n",
            "memory usage: 30.1 KB\n"
          ]
        }
      ],
      "source": [
        "df_valid.info()"
      ]
    },
    {
      "cell_type": "code",
      "execution_count": null,
      "metadata": {
        "id": "gShdBrYNSXVF"
      },
      "outputs": [],
      "source": [
        "features_test = df_test.drop(['is_ultra'], axis=1)\n",
        "target_test = df_test['is_ultra']\n",
        "features_train = df_train.drop(['is_ultra'], axis=1)\n",
        "target_train = df_train['is_ultra']\n",
        "features_valid = df_valid.drop(['is_ultra'], axis=1)\n",
        "target_valid = df_valid['is_ultra']"
      ]
    },
    {
      "cell_type": "markdown",
      "source": [
        "обучим разные модели"
      ],
      "metadata": {
        "id": "AtcKiJvxTJ__"
      }
    },
    {
      "cell_type": "code",
      "execution_count": null,
      "metadata": {
        "id": "GrywPKUhSXVG",
        "outputId": "6bb23b36-bb2f-4825-a5ad-ed73795c9d4b"
      },
      "outputs": [
        {
          "name": "stdout",
          "output_type": "stream",
          "text": [
            "Accuracy наилучшей модели на валидационной выборке: 0.8195956454121306\n"
          ]
        }
      ],
      "source": [
        "best_model = None\n",
        "best_result = 0\n",
        "for depth in range(1, 11):\n",
        "    model = DecisionTreeClassifier(random_state=12345, max_depth=depth)\n",
        "    model.fit(features_train, target_train)\n",
        "    result = model.score(features_valid, target_valid)\n",
        "    # < обучаем модель >\n",
        "    if result > best_result:\n",
        "        best_model = model.fit(features_train, target_train) #сохраняем наилучшую модель\n",
        "        best_result = model.score(features_valid, target_valid)\n",
        "    predictions_valid = model.predict(features_valid) # < находим предсказания на валидационной выборке >\n",
        "print(\"Accuracy наилучшей модели на валидационной выборке:\", best_result)"
      ]
    },
    {
      "cell_type": "code",
      "execution_count": null,
      "metadata": {
        "id": "A3P2AIF9SXVI",
        "outputId": "3de8987c-bdfd-4a4c-d566-d9ea1b37b913"
      },
      "outputs": [
        {
          "name": "stdout",
          "output_type": "stream",
          "text": [
            "Accuracy наилучшей модели на валидационной выборке: 0.8164852255054432\n"
          ]
        }
      ],
      "source": [
        "best_model = None\n",
        "best_result = 0\n",
        "for est in range(1, 11):\n",
        "    model = RandomForestClassifier(random_state=12345, n_estimators=est) # обучаем модель с заданным количеством деревьев\n",
        "    model.fit(features_train, target_train) # обучаем модель на тренировочной выборке\n",
        "    result = model.score(features_valid, target_valid) # считаем качество модели на валидационной выборке\n",
        "    if result > best_result:\n",
        "        best_model = model.fit(features_train, target_train) #сохраняем наилучшую модель\n",
        "        best_result = model.score(features_valid, target_valid) #сохраняем наилучшее значение accuracy на валидационных данных\n",
        "\n",
        "print(\"Accuracy наилучшей модели на валидационной выборке:\", best_result)"
      ]
    },
    {
      "cell_type": "code",
      "execution_count": null,
      "metadata": {
        "id": "4g3LVRGpSXVL"
      },
      "outputs": [],
      "source": [
        "# import warnings filter\n",
        "from warnings import simplefilter\n",
        "# ignore all future warnings\n",
        "simplefilter(action='ignore', category=FutureWarning)"
      ]
    },
    {
      "cell_type": "code",
      "execution_count": null,
      "metadata": {
        "id": "p61r1LYHSXVM",
        "outputId": "413c6d17-fa59-4a6e-bd24-8d68bd8a36bf"
      },
      "outputs": [
        {
          "name": "stdout",
          "output_type": "stream",
          "text": [
            "Accuracy модели логистической регрессии на валидационной выборке: 0.7013996889580093\n"
          ]
        }
      ],
      "source": [
        "model = LogisticRegression(random_state=12345)  #модель логистической регрессии с параметром random_state=12345\n",
        "model.fit(features_train, target_train) # обучаем модель на тренировочной выборке\n",
        "result = model.score(features_valid, target_valid) # получаем метрику качества модели на валидационной выборке\n",
        "\n",
        "print(\"Accuracy модели логистической регрессии на валидационной выборке:\", result)"
      ]
    },
    {
      "cell_type": "markdown",
      "metadata": {
        "id": "k_I3X6KmSXVO"
      },
      "source": [
        "Проверим модель на тестовой выборке"
      ]
    },
    {
      "cell_type": "code",
      "execution_count": null,
      "metadata": {
        "id": "cnQi31n2SXVO",
        "outputId": "cb4afa6a-abe6-4062-ad18-90a140e49b3b"
      },
      "outputs": [
        {
          "name": "stdout",
          "output_type": "stream",
          "text": [
            "Accuracy наилучшей модели на тестовой выборке: 0.7667185069984448\n"
          ]
        }
      ],
      "source": [
        "best_model = None\n",
        "best_result = 0\n",
        "for est in range(1, 10):\n",
        "    model = RandomForestClassifier(random_state=12345, n_estimators=est)\n",
        "    model.fit(features_train, target_train)\n",
        "    result = model.score(features_valid, target_valid)\n",
        "    # < обучаем модель >\n",
        "\n",
        "    predictions_test = model.predict(features_test) # < находим предсказания на тестовой выборке >\n",
        "    if result > best_result:\n",
        "        best_model = model.fit(features_train, target_train) #сохраняем наилучшую модель\n",
        "        best_result = model.score(features_test, target_test) #сохраняем наилучшее значение accuracy на тестовых данных\n",
        "\n",
        "print(\"Accuracy наилучшей модели на тестовой выборке:\", best_result)\n",
        "    "
      ]
    },
    {
      "cell_type": "code",
      "execution_count": null,
      "metadata": {
        "id": "oE3XKHscSXVQ",
        "outputId": "00f53e10-fbd4-49ef-f514-2db2419b8735"
      },
      "outputs": [
        {
          "name": "stdout",
          "output_type": "stream",
          "text": [
            "Accuracy наилучшей модели на тестовой выборке: 0.7838258164852255\n"
          ]
        }
      ],
      "source": [
        "best_model = None\n",
        "best_result = 0\n",
        "for depth in range(1, 10):\n",
        "    model = DecisionTreeClassifier(random_state=12345, max_depth=depth)\n",
        "    model.fit(features_train, target_train)\n",
        "    result = model.score(features_valid, target_valid)\n",
        "    # < обучаем модель >\n",
        "    predictions_test = model.predict(features_test) # < находим предсказания на тестовой выборке >\n",
        "    if result > best_result:\n",
        "        best_model = model.fit(features_train, target_train) #сохраняем наилучшую модель\n",
        "        best_result = model.score(features_test, target_test) #сохраняем наилучшее значение accuracy на тестовых данных\n",
        "\n",
        "print(\"Accuracy наилучшей модели на тестовой выборке:\", best_result)\n",
        "    "
      ]
    },
    {
      "cell_type": "markdown",
      "metadata": {
        "id": "268_Fi0_SXVR"
      },
      "source": [
        "<div class=\"alert alert-info\"> DecisionTreeClassifier и RandomForestClassifier показали лучшие результаты; на тестовой выборке лучше выглядит DecisionTreeClassifier с 0,78\n",
        "</div>"
      ]
    }
  ],
  "metadata": {
    "ExecuteTimeLog": [
      {
        "duration": 822,
        "start_time": "2022-02-01T13:38:32.864Z"
      },
      {
        "duration": 899,
        "start_time": "2022-02-03T07:51:00.856Z"
      },
      {
        "duration": 9,
        "start_time": "2022-02-03T07:51:21.925Z"
      },
      {
        "duration": 7309,
        "start_time": "2022-02-03T07:53:21.259Z"
      },
      {
        "duration": 7,
        "start_time": "2022-02-03T07:54:28.327Z"
      },
      {
        "duration": 1372,
        "start_time": "2022-02-03T08:20:21.429Z"
      },
      {
        "duration": 43,
        "start_time": "2022-02-03T08:20:22.804Z"
      },
      {
        "duration": 9,
        "start_time": "2022-02-03T08:20:22.850Z"
      },
      {
        "duration": 7,
        "start_time": "2022-02-03T08:20:22.870Z"
      },
      {
        "duration": 4,
        "start_time": "2022-02-03T08:24:42.034Z"
      },
      {
        "duration": 43,
        "start_time": "2022-02-03T08:24:52.928Z"
      },
      {
        "duration": 4,
        "start_time": "2022-02-03T08:31:31.979Z"
      },
      {
        "duration": 11,
        "start_time": "2022-02-03T10:27:21.667Z"
      },
      {
        "duration": 8,
        "start_time": "2022-02-03T10:30:14.000Z"
      },
      {
        "duration": 34,
        "start_time": "2022-02-03T10:30:48.188Z"
      },
      {
        "duration": 942,
        "start_time": "2022-02-06T09:51:43.078Z"
      },
      {
        "duration": 30,
        "start_time": "2022-02-06T09:51:44.022Z"
      },
      {
        "duration": 5,
        "start_time": "2022-02-06T09:51:44.054Z"
      },
      {
        "duration": 5,
        "start_time": "2022-02-06T09:51:44.061Z"
      },
      {
        "duration": 22,
        "start_time": "2022-02-06T09:51:44.068Z"
      },
      {
        "duration": 4,
        "start_time": "2022-02-06T09:51:44.092Z"
      },
      {
        "duration": 38,
        "start_time": "2022-02-06T09:51:44.098Z"
      },
      {
        "duration": 7218,
        "start_time": "2022-02-06T09:52:34.800Z"
      },
      {
        "duration": 5,
        "start_time": "2022-02-06T09:54:27.751Z"
      },
      {
        "duration": 36,
        "start_time": "2022-02-06T09:54:34.193Z"
      },
      {
        "duration": 6,
        "start_time": "2022-02-06T09:54:38.141Z"
      },
      {
        "duration": 26,
        "start_time": "2022-02-06T09:54:39.709Z"
      },
      {
        "duration": 25,
        "start_time": "2022-02-06T09:55:12.364Z"
      },
      {
        "duration": 405,
        "start_time": "2022-02-06T09:58:26.177Z"
      },
      {
        "duration": 337,
        "start_time": "2022-02-06T09:58:52.092Z"
      },
      {
        "duration": 581,
        "start_time": "2022-02-06T09:59:24.920Z"
      },
      {
        "duration": 4606,
        "start_time": "2022-02-06T09:59:40.548Z"
      },
      {
        "duration": 24,
        "start_time": "2022-02-06T10:02:40.057Z"
      },
      {
        "duration": 46,
        "start_time": "2022-02-06T10:03:22.898Z"
      },
      {
        "duration": 10,
        "start_time": "2022-02-06T10:04:04.387Z"
      },
      {
        "duration": 248,
        "start_time": "2022-02-06T10:05:08.268Z"
      },
      {
        "duration": 3,
        "start_time": "2022-02-06T10:05:45.769Z"
      },
      {
        "duration": 15,
        "start_time": "2022-02-06T10:06:30.824Z"
      },
      {
        "duration": 3,
        "start_time": "2022-02-06T10:08:21.941Z"
      },
      {
        "duration": 9,
        "start_time": "2022-02-06T10:08:23.278Z"
      },
      {
        "duration": 28,
        "start_time": "2022-02-06T10:12:06.202Z"
      },
      {
        "duration": 2,
        "start_time": "2022-02-06T10:15:42.346Z"
      },
      {
        "duration": 463,
        "start_time": "2022-02-06T10:18:20.255Z"
      },
      {
        "duration": 264,
        "start_time": "2022-02-06T10:18:28.256Z"
      },
      {
        "duration": 8,
        "start_time": "2022-02-06T10:18:34.218Z"
      },
      {
        "duration": 6,
        "start_time": "2022-02-06T10:19:13.010Z"
      },
      {
        "duration": 7,
        "start_time": "2022-02-06T10:19:21.938Z"
      },
      {
        "duration": 7,
        "start_time": "2022-02-06T10:19:31.269Z"
      },
      {
        "duration": 6,
        "start_time": "2022-02-06T10:20:12.938Z"
      },
      {
        "duration": 9,
        "start_time": "2022-02-06T10:20:31.488Z"
      },
      {
        "duration": 327,
        "start_time": "2022-02-06T10:20:51.639Z"
      },
      {
        "duration": 6,
        "start_time": "2022-02-06T10:21:17.488Z"
      },
      {
        "duration": 6,
        "start_time": "2022-02-06T10:23:01.199Z"
      },
      {
        "duration": 6,
        "start_time": "2022-02-06T10:23:07.913Z"
      },
      {
        "duration": 290,
        "start_time": "2022-02-06T10:23:50.174Z"
      },
      {
        "duration": 4,
        "start_time": "2022-02-06T10:24:39.786Z"
      },
      {
        "duration": 8,
        "start_time": "2022-02-06T10:27:19.057Z"
      },
      {
        "duration": 957,
        "start_time": "2022-02-06T10:28:07.968Z"
      },
      {
        "duration": 30,
        "start_time": "2022-02-06T10:28:08.927Z"
      },
      {
        "duration": 6,
        "start_time": "2022-02-06T10:28:08.960Z"
      },
      {
        "duration": 6,
        "start_time": "2022-02-06T10:28:08.967Z"
      },
      {
        "duration": 43,
        "start_time": "2022-02-06T10:28:08.974Z"
      },
      {
        "duration": 5,
        "start_time": "2022-02-06T10:28:09.027Z"
      },
      {
        "duration": 54,
        "start_time": "2022-02-06T10:28:09.033Z"
      },
      {
        "duration": 311,
        "start_time": "2022-02-06T10:28:09.089Z"
      },
      {
        "duration": 2,
        "start_time": "2022-02-06T10:28:09.402Z"
      },
      {
        "duration": 8,
        "start_time": "2022-02-06T10:28:09.406Z"
      },
      {
        "duration": 37,
        "start_time": "2022-02-06T10:28:09.416Z"
      },
      {
        "duration": 2,
        "start_time": "2022-02-06T10:28:09.455Z"
      },
      {
        "duration": 8,
        "start_time": "2022-02-06T10:28:09.458Z"
      },
      {
        "duration": 41,
        "start_time": "2022-02-06T10:31:31.322Z"
      },
      {
        "duration": 42,
        "start_time": "2022-02-06T10:33:13.096Z"
      },
      {
        "duration": 5,
        "start_time": "2022-02-06T10:34:47.038Z"
      },
      {
        "duration": 40,
        "start_time": "2022-02-06T10:34:50.106Z"
      },
      {
        "duration": 30,
        "start_time": "2022-02-06T10:34:52.644Z"
      },
      {
        "duration": 133,
        "start_time": "2022-02-06T10:34:56.621Z"
      },
      {
        "duration": 2,
        "start_time": "2022-02-06T10:35:00.409Z"
      },
      {
        "duration": 7,
        "start_time": "2022-02-06T10:35:01.905Z"
      },
      {
        "duration": 25,
        "start_time": "2022-02-06T10:35:06.250Z"
      },
      {
        "duration": 3,
        "start_time": "2022-02-06T10:35:10.103Z"
      },
      {
        "duration": 8,
        "start_time": "2022-02-06T10:35:12.172Z"
      },
      {
        "duration": 29,
        "start_time": "2022-02-06T10:37:40.200Z"
      },
      {
        "duration": 101,
        "start_time": "2022-02-06T10:39:03.380Z"
      },
      {
        "duration": 93,
        "start_time": "2022-02-06T10:39:29.218Z"
      },
      {
        "duration": 24,
        "start_time": "2022-02-06T10:39:34.187Z"
      },
      {
        "duration": 24,
        "start_time": "2022-02-06T10:39:53.512Z"
      },
      {
        "duration": 247,
        "start_time": "2022-02-06T10:40:06.746Z"
      },
      {
        "duration": 23,
        "start_time": "2022-02-06T10:40:11.169Z"
      },
      {
        "duration": 8,
        "start_time": "2022-02-06T10:40:15.481Z"
      },
      {
        "duration": 107,
        "start_time": "2022-02-06T10:41:43.617Z"
      },
      {
        "duration": 25,
        "start_time": "2022-02-06T10:41:49.214Z"
      },
      {
        "duration": 151,
        "start_time": "2022-02-06T10:42:47.091Z"
      },
      {
        "duration": 84,
        "start_time": "2022-02-06T10:43:36.655Z"
      },
      {
        "duration": 10,
        "start_time": "2022-02-06T15:38:46.676Z"
      },
      {
        "duration": 1045,
        "start_time": "2022-02-06T15:41:42.895Z"
      },
      {
        "duration": 31,
        "start_time": "2022-02-06T15:41:43.941Z"
      },
      {
        "duration": 6,
        "start_time": "2022-02-06T15:41:43.976Z"
      },
      {
        "duration": 7,
        "start_time": "2022-02-06T15:41:43.983Z"
      },
      {
        "duration": 9,
        "start_time": "2022-02-06T15:41:43.991Z"
      },
      {
        "duration": 493,
        "start_time": "2022-02-06T15:41:44.002Z"
      },
      {
        "duration": -106,
        "start_time": "2022-02-06T15:41:44.603Z"
      },
      {
        "duration": -106,
        "start_time": "2022-02-06T15:41:44.604Z"
      },
      {
        "duration": -106,
        "start_time": "2022-02-06T15:41:44.605Z"
      },
      {
        "duration": -104,
        "start_time": "2022-02-06T15:41:44.605Z"
      },
      {
        "duration": -107,
        "start_time": "2022-02-06T15:41:44.609Z"
      },
      {
        "duration": -108,
        "start_time": "2022-02-06T15:41:44.610Z"
      },
      {
        "duration": 28,
        "start_time": "2022-02-06T15:43:10.772Z"
      },
      {
        "duration": 123,
        "start_time": "2022-02-06T15:43:14.187Z"
      },
      {
        "duration": 979,
        "start_time": "2022-02-06T15:43:23.366Z"
      },
      {
        "duration": 30,
        "start_time": "2022-02-06T15:43:24.347Z"
      },
      {
        "duration": 6,
        "start_time": "2022-02-06T15:43:24.379Z"
      },
      {
        "duration": 5,
        "start_time": "2022-02-06T15:43:24.387Z"
      },
      {
        "duration": 7,
        "start_time": "2022-02-06T15:43:24.393Z"
      },
      {
        "duration": 341,
        "start_time": "2022-02-06T15:43:24.401Z"
      },
      {
        "duration": -96,
        "start_time": "2022-02-06T15:43:24.840Z"
      },
      {
        "duration": -122,
        "start_time": "2022-02-06T15:43:24.867Z"
      },
      {
        "duration": -123,
        "start_time": "2022-02-06T15:43:24.869Z"
      },
      {
        "duration": -123,
        "start_time": "2022-02-06T15:43:24.871Z"
      },
      {
        "duration": -123,
        "start_time": "2022-02-06T15:43:24.872Z"
      },
      {
        "duration": -122,
        "start_time": "2022-02-06T15:43:24.872Z"
      },
      {
        "duration": 5,
        "start_time": "2022-02-06T15:44:40.530Z"
      },
      {
        "duration": 38,
        "start_time": "2022-02-06T15:44:58.293Z"
      },
      {
        "duration": 104,
        "start_time": "2022-02-06T15:45:03.309Z"
      },
      {
        "duration": 61,
        "start_time": "2022-02-06T15:45:10.659Z"
      },
      {
        "duration": 104,
        "start_time": "2022-02-06T15:45:12.569Z"
      },
      {
        "duration": 3,
        "start_time": "2022-02-06T15:45:16.561Z"
      },
      {
        "duration": 7,
        "start_time": "2022-02-06T15:45:18.027Z"
      },
      {
        "duration": 91,
        "start_time": "2022-02-06T15:45:24.009Z"
      },
      {
        "duration": 106,
        "start_time": "2022-02-06T15:46:44.961Z"
      },
      {
        "duration": 34,
        "start_time": "2022-02-06T15:48:10.759Z"
      },
      {
        "duration": 270,
        "start_time": "2022-02-06T15:48:42.651Z"
      },
      {
        "duration": 2,
        "start_time": "2022-02-06T15:48:45.639Z"
      },
      {
        "duration": 8,
        "start_time": "2022-02-06T15:48:47.157Z"
      },
      {
        "duration": 966,
        "start_time": "2022-02-06T15:48:58.372Z"
      },
      {
        "duration": 31,
        "start_time": "2022-02-06T15:48:59.340Z"
      },
      {
        "duration": 6,
        "start_time": "2022-02-06T15:48:59.372Z"
      },
      {
        "duration": 5,
        "start_time": "2022-02-06T15:48:59.380Z"
      },
      {
        "duration": 9,
        "start_time": "2022-02-06T15:48:59.386Z"
      },
      {
        "duration": 10,
        "start_time": "2022-02-06T15:48:59.397Z"
      },
      {
        "duration": 41,
        "start_time": "2022-02-06T15:48:59.408Z"
      },
      {
        "duration": 160,
        "start_time": "2022-02-06T15:48:59.451Z"
      },
      {
        "duration": 2,
        "start_time": "2022-02-06T15:48:59.613Z"
      },
      {
        "duration": 14,
        "start_time": "2022-02-06T15:48:59.617Z"
      },
      {
        "duration": 107,
        "start_time": "2022-02-06T15:48:59.633Z"
      },
      {
        "duration": 32,
        "start_time": "2022-02-06T15:48:59.741Z"
      },
      {
        "duration": 2,
        "start_time": "2022-02-06T15:48:59.775Z"
      },
      {
        "duration": 9,
        "start_time": "2022-02-06T15:48:59.778Z"
      },
      {
        "duration": 1027,
        "start_time": "2022-02-06T15:49:30.611Z"
      },
      {
        "duration": 30,
        "start_time": "2022-02-06T15:49:31.640Z"
      },
      {
        "duration": 5,
        "start_time": "2022-02-06T15:49:31.672Z"
      },
      {
        "duration": 9,
        "start_time": "2022-02-06T15:49:31.679Z"
      },
      {
        "duration": 6,
        "start_time": "2022-02-06T15:49:31.690Z"
      },
      {
        "duration": 5,
        "start_time": "2022-02-06T15:49:31.698Z"
      },
      {
        "duration": 46,
        "start_time": "2022-02-06T15:49:31.705Z"
      },
      {
        "duration": 134,
        "start_time": "2022-02-06T15:49:31.754Z"
      },
      {
        "duration": 2,
        "start_time": "2022-02-06T15:49:31.891Z"
      },
      {
        "duration": 9,
        "start_time": "2022-02-06T15:49:31.895Z"
      },
      {
        "duration": 111,
        "start_time": "2022-02-06T15:49:31.906Z"
      },
      {
        "duration": 38,
        "start_time": "2022-02-06T15:49:32.019Z"
      },
      {
        "duration": 8,
        "start_time": "2022-02-06T15:49:32.058Z"
      },
      {
        "duration": 1036,
        "start_time": "2022-02-06T15:51:15.297Z"
      },
      {
        "duration": 29,
        "start_time": "2022-02-06T15:51:16.335Z"
      },
      {
        "duration": 6,
        "start_time": "2022-02-06T15:51:16.366Z"
      },
      {
        "duration": 6,
        "start_time": "2022-02-06T15:51:16.374Z"
      },
      {
        "duration": 6,
        "start_time": "2022-02-06T15:51:16.381Z"
      },
      {
        "duration": 5,
        "start_time": "2022-02-06T15:51:16.389Z"
      },
      {
        "duration": 58,
        "start_time": "2022-02-06T15:51:16.395Z"
      },
      {
        "duration": 102,
        "start_time": "2022-02-06T15:51:16.455Z"
      },
      {
        "duration": 2,
        "start_time": "2022-02-06T15:51:16.559Z"
      },
      {
        "duration": 14,
        "start_time": "2022-02-06T15:51:16.562Z"
      },
      {
        "duration": 105,
        "start_time": "2022-02-06T15:51:16.578Z"
      },
      {
        "duration": 33,
        "start_time": "2022-02-06T15:51:16.684Z"
      },
      {
        "duration": 11,
        "start_time": "2022-02-06T15:51:16.719Z"
      },
      {
        "duration": 983,
        "start_time": "2022-02-06T15:53:34.491Z"
      },
      {
        "duration": 30,
        "start_time": "2022-02-06T15:53:35.476Z"
      },
      {
        "duration": 7,
        "start_time": "2022-02-06T15:53:35.508Z"
      },
      {
        "duration": 12,
        "start_time": "2022-02-06T15:53:35.517Z"
      },
      {
        "duration": 6,
        "start_time": "2022-02-06T15:53:35.531Z"
      },
      {
        "duration": 6,
        "start_time": "2022-02-06T15:53:35.538Z"
      },
      {
        "duration": 42,
        "start_time": "2022-02-06T15:53:35.546Z"
      },
      {
        "duration": 162,
        "start_time": "2022-02-06T15:53:35.590Z"
      },
      {
        "duration": 2,
        "start_time": "2022-02-06T15:53:35.754Z"
      },
      {
        "duration": 10,
        "start_time": "2022-02-06T15:53:35.757Z"
      },
      {
        "duration": 96,
        "start_time": "2022-02-06T15:53:35.768Z"
      },
      {
        "duration": 29,
        "start_time": "2022-02-06T15:53:35.866Z"
      },
      {
        "duration": 7,
        "start_time": "2022-02-06T15:53:35.896Z"
      },
      {
        "duration": 66,
        "start_time": "2022-02-06T17:57:32.164Z"
      },
      {
        "duration": 1280,
        "start_time": "2022-02-06T17:59:03.649Z"
      },
      {
        "duration": 163,
        "start_time": "2022-02-06T17:59:09.412Z"
      },
      {
        "duration": 1038,
        "start_time": "2022-02-06T17:59:19.657Z"
      },
      {
        "duration": 32,
        "start_time": "2022-02-06T17:59:20.696Z"
      },
      {
        "duration": 6,
        "start_time": "2022-02-06T17:59:20.730Z"
      },
      {
        "duration": 6,
        "start_time": "2022-02-06T17:59:20.738Z"
      },
      {
        "duration": 13,
        "start_time": "2022-02-06T17:59:20.746Z"
      },
      {
        "duration": 279,
        "start_time": "2022-02-06T17:59:20.760Z"
      },
      {
        "duration": 831,
        "start_time": "2022-02-06T17:59:20.210Z"
      },
      {
        "duration": 828,
        "start_time": "2022-02-06T17:59:20.215Z"
      },
      {
        "duration": 825,
        "start_time": "2022-02-06T17:59:20.219Z"
      },
      {
        "duration": 800,
        "start_time": "2022-02-06T17:59:20.245Z"
      },
      {
        "duration": 799,
        "start_time": "2022-02-06T17:59:20.247Z"
      },
      {
        "duration": 799,
        "start_time": "2022-02-06T17:59:20.248Z"
      },
      {
        "duration": 798,
        "start_time": "2022-02-06T17:59:20.250Z"
      },
      {
        "duration": 798,
        "start_time": "2022-02-06T17:59:20.251Z"
      },
      {
        "duration": 3,
        "start_time": "2022-02-06T17:59:46.854Z"
      },
      {
        "duration": 3,
        "start_time": "2022-02-06T17:59:55.815Z"
      },
      {
        "duration": 3,
        "start_time": "2022-02-06T18:00:01.220Z"
      },
      {
        "duration": 7,
        "start_time": "2022-02-06T18:01:20.400Z"
      },
      {
        "duration": 7,
        "start_time": "2022-02-06T18:01:51.386Z"
      },
      {
        "duration": 7,
        "start_time": "2022-02-06T18:02:16.781Z"
      },
      {
        "duration": 1034,
        "start_time": "2022-02-06T18:03:56.565Z"
      },
      {
        "duration": 34,
        "start_time": "2022-02-06T18:03:57.601Z"
      },
      {
        "duration": 6,
        "start_time": "2022-02-06T18:03:57.637Z"
      },
      {
        "duration": 6,
        "start_time": "2022-02-06T18:03:57.645Z"
      },
      {
        "duration": 5,
        "start_time": "2022-02-06T18:03:57.659Z"
      },
      {
        "duration": 5,
        "start_time": "2022-02-06T18:03:57.666Z"
      },
      {
        "duration": 44,
        "start_time": "2022-02-06T18:03:57.673Z"
      },
      {
        "duration": 150,
        "start_time": "2022-02-06T18:03:57.720Z"
      },
      {
        "duration": 2,
        "start_time": "2022-02-06T18:03:57.872Z"
      },
      {
        "duration": 15,
        "start_time": "2022-02-06T18:03:57.876Z"
      },
      {
        "duration": 116,
        "start_time": "2022-02-06T18:03:57.893Z"
      },
      {
        "duration": 48,
        "start_time": "2022-02-06T18:03:58.011Z"
      },
      {
        "duration": 8,
        "start_time": "2022-02-06T18:03:58.061Z"
      },
      {
        "duration": 9,
        "start_time": "2022-02-06T20:14:15.382Z"
      },
      {
        "duration": 340,
        "start_time": "2022-02-07T06:51:36.405Z"
      },
      {
        "duration": 1337,
        "start_time": "2022-02-07T06:51:41.382Z"
      },
      {
        "duration": 62,
        "start_time": "2022-02-07T06:51:44.325Z"
      },
      {
        "duration": 9,
        "start_time": "2022-02-07T06:51:46.884Z"
      },
      {
        "duration": 6,
        "start_time": "2022-02-07T06:51:49.436Z"
      },
      {
        "duration": 9,
        "start_time": "2022-02-07T06:51:51.736Z"
      },
      {
        "duration": 8,
        "start_time": "2022-02-07T06:53:04.349Z"
      },
      {
        "duration": 8,
        "start_time": "2022-02-07T06:53:29.413Z"
      },
      {
        "duration": 9,
        "start_time": "2022-02-07T06:53:39.559Z"
      },
      {
        "duration": 8,
        "start_time": "2022-02-07T06:53:50.466Z"
      },
      {
        "duration": 1282,
        "start_time": "2022-02-07T06:54:19.168Z"
      },
      {
        "duration": 42,
        "start_time": "2022-02-07T06:54:20.452Z"
      },
      {
        "duration": 9,
        "start_time": "2022-02-07T06:54:20.496Z"
      },
      {
        "duration": 24,
        "start_time": "2022-02-07T06:54:20.508Z"
      },
      {
        "duration": 6,
        "start_time": "2022-02-07T06:54:20.535Z"
      },
      {
        "duration": 8,
        "start_time": "2022-02-07T06:54:20.543Z"
      },
      {
        "duration": 11,
        "start_time": "2022-02-07T06:54:20.553Z"
      },
      {
        "duration": 13,
        "start_time": "2022-02-07T06:54:20.567Z"
      },
      {
        "duration": 9,
        "start_time": "2022-02-07T06:54:20.582Z"
      },
      {
        "duration": 44,
        "start_time": "2022-02-07T06:54:20.593Z"
      },
      {
        "duration": 115,
        "start_time": "2022-02-07T06:54:20.639Z"
      },
      {
        "duration": 461,
        "start_time": "2022-02-07T06:54:20.756Z"
      },
      {
        "duration": 3,
        "start_time": "2022-02-07T06:54:21.219Z"
      },
      {
        "duration": 17,
        "start_time": "2022-02-07T06:54:21.232Z"
      },
      {
        "duration": 361,
        "start_time": "2022-02-07T06:54:21.251Z"
      },
      {
        "duration": 98,
        "start_time": "2022-02-07T06:54:21.614Z"
      },
      {
        "duration": 23,
        "start_time": "2022-02-07T06:54:21.714Z"
      },
      {
        "duration": 13,
        "start_time": "2022-02-07T06:56:35.391Z"
      },
      {
        "duration": 1340,
        "start_time": "2022-02-07T07:17:27.421Z"
      },
      {
        "duration": 42,
        "start_time": "2022-02-07T07:17:28.763Z"
      },
      {
        "duration": 9,
        "start_time": "2022-02-07T07:17:28.809Z"
      },
      {
        "duration": 8,
        "start_time": "2022-02-07T07:17:28.832Z"
      },
      {
        "duration": 11,
        "start_time": "2022-02-07T07:17:28.843Z"
      },
      {
        "duration": 11,
        "start_time": "2022-02-07T07:17:28.857Z"
      },
      {
        "duration": 8,
        "start_time": "2022-02-07T07:17:28.870Z"
      },
      {
        "duration": 56,
        "start_time": "2022-02-07T07:17:28.882Z"
      },
      {
        "duration": 13,
        "start_time": "2022-02-07T07:17:28.941Z"
      },
      {
        "duration": 13,
        "start_time": "2022-02-07T07:17:28.956Z"
      },
      {
        "duration": 120,
        "start_time": "2022-02-07T07:17:28.971Z"
      },
      {
        "duration": 492,
        "start_time": "2022-02-07T07:17:29.094Z"
      },
      {
        "duration": 3,
        "start_time": "2022-02-07T07:17:29.589Z"
      },
      {
        "duration": 38,
        "start_time": "2022-02-07T07:17:29.594Z"
      },
      {
        "duration": 569,
        "start_time": "2022-02-07T07:17:29.634Z"
      },
      {
        "duration": 115,
        "start_time": "2022-02-07T07:17:30.205Z"
      },
      {
        "duration": 16,
        "start_time": "2022-02-07T07:17:30.322Z"
      },
      {
        "duration": 21,
        "start_time": "2022-02-07T07:17:30.341Z"
      },
      {
        "duration": 1033,
        "start_time": "2022-02-07T09:56:51.816Z"
      },
      {
        "duration": 32,
        "start_time": "2022-02-07T09:56:52.850Z"
      },
      {
        "duration": 6,
        "start_time": "2022-02-07T09:56:52.885Z"
      },
      {
        "duration": 5,
        "start_time": "2022-02-07T09:56:52.893Z"
      },
      {
        "duration": 6,
        "start_time": "2022-02-07T09:56:52.913Z"
      },
      {
        "duration": 5,
        "start_time": "2022-02-07T09:56:52.920Z"
      },
      {
        "duration": 5,
        "start_time": "2022-02-07T09:56:52.927Z"
      },
      {
        "duration": 5,
        "start_time": "2022-02-07T09:56:52.934Z"
      },
      {
        "duration": 6,
        "start_time": "2022-02-07T09:56:52.941Z"
      },
      {
        "duration": 6,
        "start_time": "2022-02-07T09:56:52.948Z"
      },
      {
        "duration": 113,
        "start_time": "2022-02-07T09:56:52.956Z"
      },
      {
        "duration": 356,
        "start_time": "2022-02-07T09:56:53.070Z"
      },
      {
        "duration": 2,
        "start_time": "2022-02-07T09:56:53.428Z"
      },
      {
        "duration": 11,
        "start_time": "2022-02-07T09:56:53.431Z"
      },
      {
        "duration": 398,
        "start_time": "2022-02-07T09:56:53.443Z"
      },
      {
        "duration": 95,
        "start_time": "2022-02-07T09:56:53.842Z"
      },
      {
        "duration": 8,
        "start_time": "2022-02-07T09:56:53.939Z"
      },
      {
        "duration": 10,
        "start_time": "2022-02-07T09:56:53.948Z"
      },
      {
        "duration": 8,
        "start_time": "2022-02-07T09:59:22.452Z"
      },
      {
        "duration": 7,
        "start_time": "2022-02-07T09:59:41.629Z"
      },
      {
        "duration": 8,
        "start_time": "2022-02-07T09:59:49.176Z"
      },
      {
        "duration": 973,
        "start_time": "2022-02-07T10:14:59.811Z"
      },
      {
        "duration": 34,
        "start_time": "2022-02-07T10:15:00.786Z"
      },
      {
        "duration": 7,
        "start_time": "2022-02-07T10:15:00.823Z"
      },
      {
        "duration": 7,
        "start_time": "2022-02-07T10:15:00.832Z"
      },
      {
        "duration": 20,
        "start_time": "2022-02-07T10:15:00.841Z"
      },
      {
        "duration": 19,
        "start_time": "2022-02-07T10:15:00.863Z"
      },
      {
        "duration": 15,
        "start_time": "2022-02-07T10:15:00.884Z"
      },
      {
        "duration": 25,
        "start_time": "2022-02-07T10:15:00.901Z"
      },
      {
        "duration": 12,
        "start_time": "2022-02-07T10:15:00.929Z"
      },
      {
        "duration": 22,
        "start_time": "2022-02-07T10:15:00.943Z"
      },
      {
        "duration": 84,
        "start_time": "2022-02-07T10:15:00.967Z"
      },
      {
        "duration": 290,
        "start_time": "2022-02-07T10:15:01.053Z"
      },
      {
        "duration": 2,
        "start_time": "2022-02-07T10:15:01.345Z"
      },
      {
        "duration": 12,
        "start_time": "2022-02-07T10:15:01.348Z"
      },
      {
        "duration": 225,
        "start_time": "2022-02-07T10:15:01.372Z"
      },
      {
        "duration": 72,
        "start_time": "2022-02-07T10:15:01.599Z"
      },
      {
        "duration": 8,
        "start_time": "2022-02-07T10:15:01.673Z"
      },
      {
        "duration": 34,
        "start_time": "2022-02-07T10:15:01.682Z"
      },
      {
        "duration": 409,
        "start_time": "2022-02-07T10:15:29.222Z"
      },
      {
        "duration": 9,
        "start_time": "2022-02-07T10:15:37.938Z"
      },
      {
        "duration": 1006,
        "start_time": "2022-02-07T10:18:27.375Z"
      },
      {
        "duration": 31,
        "start_time": "2022-02-07T10:18:28.383Z"
      },
      {
        "duration": 5,
        "start_time": "2022-02-07T10:18:28.416Z"
      },
      {
        "duration": 5,
        "start_time": "2022-02-07T10:18:28.422Z"
      },
      {
        "duration": 6,
        "start_time": "2022-02-07T10:18:28.429Z"
      },
      {
        "duration": 5,
        "start_time": "2022-02-07T10:18:28.436Z"
      },
      {
        "duration": 5,
        "start_time": "2022-02-07T10:18:28.442Z"
      },
      {
        "duration": 25,
        "start_time": "2022-02-07T10:18:28.449Z"
      },
      {
        "duration": 5,
        "start_time": "2022-02-07T10:18:28.476Z"
      },
      {
        "duration": 8,
        "start_time": "2022-02-07T10:18:28.482Z"
      },
      {
        "duration": 65,
        "start_time": "2022-02-07T10:18:28.491Z"
      },
      {
        "duration": 287,
        "start_time": "2022-02-07T10:18:28.558Z"
      },
      {
        "duration": 3,
        "start_time": "2022-02-07T10:18:28.847Z"
      },
      {
        "duration": 10,
        "start_time": "2022-02-07T10:18:28.851Z"
      },
      {
        "duration": 315,
        "start_time": "2022-02-07T10:18:28.862Z"
      },
      {
        "duration": 67,
        "start_time": "2022-02-07T10:18:29.179Z"
      },
      {
        "duration": 7,
        "start_time": "2022-02-07T10:18:29.248Z"
      },
      {
        "duration": 9,
        "start_time": "2022-02-07T10:18:29.271Z"
      },
      {
        "duration": 1065,
        "start_time": "2022-02-07T11:22:54.775Z"
      },
      {
        "duration": 31,
        "start_time": "2022-02-07T11:22:55.842Z"
      },
      {
        "duration": 6,
        "start_time": "2022-02-07T11:22:55.875Z"
      },
      {
        "duration": 5,
        "start_time": "2022-02-07T11:22:55.883Z"
      },
      {
        "duration": 7,
        "start_time": "2022-02-07T11:22:55.890Z"
      },
      {
        "duration": 5,
        "start_time": "2022-02-07T11:22:55.912Z"
      },
      {
        "duration": 6,
        "start_time": "2022-02-07T11:22:55.919Z"
      },
      {
        "duration": 6,
        "start_time": "2022-02-07T11:22:55.927Z"
      },
      {
        "duration": 5,
        "start_time": "2022-02-07T11:22:55.935Z"
      },
      {
        "duration": 6,
        "start_time": "2022-02-07T11:22:55.942Z"
      },
      {
        "duration": 104,
        "start_time": "2022-02-07T11:22:55.950Z"
      },
      {
        "duration": 349,
        "start_time": "2022-02-07T11:22:56.056Z"
      },
      {
        "duration": 6,
        "start_time": "2022-02-07T11:22:56.407Z"
      },
      {
        "duration": 16,
        "start_time": "2022-02-07T11:22:56.415Z"
      },
      {
        "duration": 371,
        "start_time": "2022-02-07T11:22:56.433Z"
      },
      {
        "duration": 64,
        "start_time": "2022-02-07T11:22:56.806Z"
      },
      {
        "duration": 10,
        "start_time": "2022-02-07T11:22:56.872Z"
      },
      {
        "duration": 368,
        "start_time": "2022-02-07T11:22:56.883Z"
      },
      {
        "duration": 1565,
        "start_time": "2022-02-07T11:22:55.688Z"
      },
      {
        "duration": 10,
        "start_time": "2022-02-07T11:24:28.205Z"
      },
      {
        "duration": 9,
        "start_time": "2022-02-07T11:24:55.250Z"
      },
      {
        "duration": 9,
        "start_time": "2022-02-07T11:25:13.130Z"
      },
      {
        "duration": 9,
        "start_time": "2022-02-07T11:25:18.416Z"
      },
      {
        "duration": 802,
        "start_time": "2022-02-07T11:27:22.294Z"
      },
      {
        "duration": 924,
        "start_time": "2022-02-07T11:27:32.348Z"
      },
      {
        "duration": 14,
        "start_time": "2022-02-07T11:27:48.273Z"
      },
      {
        "duration": 10,
        "start_time": "2022-02-07T11:27:55.558Z"
      },
      {
        "duration": 10,
        "start_time": "2022-02-07T11:27:58.244Z"
      },
      {
        "duration": 9,
        "start_time": "2022-02-07T11:28:02.128Z"
      },
      {
        "duration": 11,
        "start_time": "2022-02-07T11:29:53.198Z"
      },
      {
        "duration": 11,
        "start_time": "2022-02-07T11:30:04.978Z"
      },
      {
        "duration": 11,
        "start_time": "2022-02-07T11:30:33.096Z"
      },
      {
        "duration": 7,
        "start_time": "2022-02-07T11:30:41.436Z"
      },
      {
        "duration": 10,
        "start_time": "2022-02-07T11:30:48.178Z"
      },
      {
        "duration": 9,
        "start_time": "2022-02-07T11:30:56.656Z"
      },
      {
        "duration": 293,
        "start_time": "2022-02-07T11:33:15.624Z"
      },
      {
        "duration": 292,
        "start_time": "2022-02-07T11:33:33.847Z"
      },
      {
        "duration": 273,
        "start_time": "2022-02-07T11:33:42.879Z"
      },
      {
        "duration": 10,
        "start_time": "2022-02-07T11:33:55.871Z"
      },
      {
        "duration": 277,
        "start_time": "2022-02-07T11:34:45.725Z"
      },
      {
        "duration": 286,
        "start_time": "2022-02-07T11:34:54.308Z"
      },
      {
        "duration": 1045,
        "start_time": "2022-02-07T11:35:02.815Z"
      },
      {
        "duration": 9,
        "start_time": "2022-02-07T11:36:05.143Z"
      },
      {
        "duration": 10,
        "start_time": "2022-02-07T11:36:18.052Z"
      },
      {
        "duration": 9,
        "start_time": "2022-02-07T11:37:30.933Z"
      },
      {
        "duration": 414,
        "start_time": "2022-02-07T11:37:53.121Z"
      },
      {
        "duration": 464,
        "start_time": "2022-02-07T11:38:07.537Z"
      },
      {
        "duration": 478,
        "start_time": "2022-02-07T11:38:19.529Z"
      },
      {
        "duration": 276,
        "start_time": "2022-02-07T11:39:37.815Z"
      },
      {
        "duration": 381,
        "start_time": "2022-02-07T11:39:57.640Z"
      },
      {
        "duration": 9,
        "start_time": "2022-02-07T11:41:03.500Z"
      },
      {
        "duration": 1152,
        "start_time": "2022-02-07T11:41:09.440Z"
      },
      {
        "duration": 2057,
        "start_time": "2022-02-07T11:41:54.870Z"
      },
      {
        "duration": 9,
        "start_time": "2022-02-07T11:42:04.989Z"
      },
      {
        "duration": 10,
        "start_time": "2022-02-07T11:43:51.613Z"
      },
      {
        "duration": 4,
        "start_time": "2022-02-07T11:44:18.935Z"
      },
      {
        "duration": 6,
        "start_time": "2022-02-07T11:44:41.920Z"
      },
      {
        "duration": 11,
        "start_time": "2022-02-07T11:44:52.508Z"
      },
      {
        "duration": 9,
        "start_time": "2022-02-07T11:45:42.273Z"
      },
      {
        "duration": 9,
        "start_time": "2022-02-07T11:45:57.292Z"
      },
      {
        "duration": 10,
        "start_time": "2022-02-07T11:48:07.382Z"
      },
      {
        "duration": 9,
        "start_time": "2022-02-07T11:48:13.645Z"
      },
      {
        "duration": 9,
        "start_time": "2022-02-07T11:48:18.010Z"
      },
      {
        "duration": 3,
        "start_time": "2022-02-07T11:50:14.205Z"
      },
      {
        "duration": 1299,
        "start_time": "2022-02-07T12:21:33.577Z"
      },
      {
        "duration": 42,
        "start_time": "2022-02-07T12:21:34.878Z"
      },
      {
        "duration": 8,
        "start_time": "2022-02-07T12:21:34.923Z"
      },
      {
        "duration": 6,
        "start_time": "2022-02-07T12:21:34.933Z"
      },
      {
        "duration": 7,
        "start_time": "2022-02-07T12:21:34.960Z"
      },
      {
        "duration": 7,
        "start_time": "2022-02-07T12:21:34.969Z"
      },
      {
        "duration": 7,
        "start_time": "2022-02-07T12:21:34.979Z"
      },
      {
        "duration": 7,
        "start_time": "2022-02-07T12:21:34.990Z"
      },
      {
        "duration": 7,
        "start_time": "2022-02-07T12:21:35.000Z"
      },
      {
        "duration": 54,
        "start_time": "2022-02-07T12:21:35.010Z"
      },
      {
        "duration": 105,
        "start_time": "2022-02-07T12:21:35.067Z"
      },
      {
        "duration": 444,
        "start_time": "2022-02-07T12:21:35.174Z"
      },
      {
        "duration": 3,
        "start_time": "2022-02-07T12:21:35.621Z"
      },
      {
        "duration": 15,
        "start_time": "2022-02-07T12:21:35.626Z"
      },
      {
        "duration": 466,
        "start_time": "2022-02-07T12:21:35.659Z"
      },
      {
        "duration": 97,
        "start_time": "2022-02-07T12:21:36.128Z"
      },
      {
        "duration": 12,
        "start_time": "2022-02-07T12:21:36.227Z"
      },
      {
        "duration": 20,
        "start_time": "2022-02-07T12:21:36.241Z"
      },
      {
        "duration": 16,
        "start_time": "2022-02-07T12:21:36.263Z"
      },
      {
        "duration": 12,
        "start_time": "2022-02-07T12:25:32.802Z"
      },
      {
        "duration": 12,
        "start_time": "2022-02-07T12:25:43.851Z"
      },
      {
        "duration": 12,
        "start_time": "2022-02-07T12:25:48.899Z"
      },
      {
        "duration": 1458,
        "start_time": "2022-02-07T12:31:13.949Z"
      },
      {
        "duration": 43,
        "start_time": "2022-02-07T12:31:15.410Z"
      },
      {
        "duration": 11,
        "start_time": "2022-02-07T12:31:15.460Z"
      },
      {
        "duration": 9,
        "start_time": "2022-02-07T12:31:15.475Z"
      },
      {
        "duration": 11,
        "start_time": "2022-02-07T12:31:15.487Z"
      },
      {
        "duration": 9,
        "start_time": "2022-02-07T12:31:15.501Z"
      },
      {
        "duration": 46,
        "start_time": "2022-02-07T12:31:15.513Z"
      },
      {
        "duration": 11,
        "start_time": "2022-02-07T12:31:15.562Z"
      },
      {
        "duration": 8,
        "start_time": "2022-02-07T12:31:15.577Z"
      },
      {
        "duration": 9,
        "start_time": "2022-02-07T12:31:15.588Z"
      },
      {
        "duration": 152,
        "start_time": "2022-02-07T12:31:15.599Z"
      },
      {
        "duration": 511,
        "start_time": "2022-02-07T12:31:15.758Z"
      },
      {
        "duration": 3,
        "start_time": "2022-02-07T12:31:16.272Z"
      },
      {
        "duration": 27,
        "start_time": "2022-02-07T12:31:16.278Z"
      },
      {
        "duration": 363,
        "start_time": "2022-02-07T12:31:16.308Z"
      },
      {
        "duration": 103,
        "start_time": "2022-02-07T12:31:16.673Z"
      },
      {
        "duration": 12,
        "start_time": "2022-02-07T12:31:16.779Z"
      },
      {
        "duration": 3,
        "start_time": "2022-02-07T12:31:16.794Z"
      },
      {
        "duration": 17,
        "start_time": "2022-02-07T12:31:16.799Z"
      },
      {
        "duration": 1380,
        "start_time": "2022-02-07T12:31:41.682Z"
      },
      {
        "duration": 43,
        "start_time": "2022-02-07T12:31:43.065Z"
      },
      {
        "duration": 11,
        "start_time": "2022-02-07T12:31:43.112Z"
      },
      {
        "duration": 11,
        "start_time": "2022-02-07T12:31:43.126Z"
      },
      {
        "duration": 9,
        "start_time": "2022-02-07T12:31:43.160Z"
      },
      {
        "duration": 10,
        "start_time": "2022-02-07T12:31:43.171Z"
      },
      {
        "duration": 16,
        "start_time": "2022-02-07T12:31:43.184Z"
      },
      {
        "duration": 11,
        "start_time": "2022-02-07T12:31:43.203Z"
      },
      {
        "duration": 10,
        "start_time": "2022-02-07T12:31:43.259Z"
      },
      {
        "duration": 12,
        "start_time": "2022-02-07T12:31:43.272Z"
      },
      {
        "duration": 135,
        "start_time": "2022-02-07T12:31:43.287Z"
      },
      {
        "duration": 399,
        "start_time": "2022-02-07T12:31:43.425Z"
      },
      {
        "duration": 3,
        "start_time": "2022-02-07T12:31:43.827Z"
      },
      {
        "duration": 35,
        "start_time": "2022-02-07T12:31:43.833Z"
      },
      {
        "duration": 400,
        "start_time": "2022-02-07T12:31:43.871Z"
      },
      {
        "duration": 128,
        "start_time": "2022-02-07T12:31:44.273Z"
      },
      {
        "duration": 12,
        "start_time": "2022-02-07T12:31:44.404Z"
      },
      {
        "duration": 5,
        "start_time": "2022-02-07T12:31:44.419Z"
      },
      {
        "duration": 52,
        "start_time": "2022-02-07T12:31:44.428Z"
      },
      {
        "duration": 14,
        "start_time": "2022-02-07T12:32:22.860Z"
      },
      {
        "duration": 13,
        "start_time": "2022-02-07T12:32:27.574Z"
      },
      {
        "duration": 1522,
        "start_time": "2022-02-07T12:32:33.641Z"
      },
      {
        "duration": 44,
        "start_time": "2022-02-07T12:32:35.166Z"
      },
      {
        "duration": 10,
        "start_time": "2022-02-07T12:32:35.213Z"
      },
      {
        "duration": 11,
        "start_time": "2022-02-07T12:32:35.226Z"
      },
      {
        "duration": 25,
        "start_time": "2022-02-07T12:32:35.239Z"
      },
      {
        "duration": 8,
        "start_time": "2022-02-07T12:32:35.266Z"
      },
      {
        "duration": 8,
        "start_time": "2022-02-07T12:32:35.276Z"
      },
      {
        "duration": 11,
        "start_time": "2022-02-07T12:32:35.287Z"
      },
      {
        "duration": 10,
        "start_time": "2022-02-07T12:32:35.301Z"
      },
      {
        "duration": 46,
        "start_time": "2022-02-07T12:32:35.314Z"
      },
      {
        "duration": 117,
        "start_time": "2022-02-07T12:32:35.363Z"
      },
      {
        "duration": 583,
        "start_time": "2022-02-07T12:32:35.483Z"
      },
      {
        "duration": 4,
        "start_time": "2022-02-07T12:32:36.068Z"
      },
      {
        "duration": 20,
        "start_time": "2022-02-07T12:32:36.074Z"
      },
      {
        "duration": 577,
        "start_time": "2022-02-07T12:32:36.096Z"
      },
      {
        "duration": 140,
        "start_time": "2022-02-07T12:32:36.676Z"
      },
      {
        "duration": 12,
        "start_time": "2022-02-07T12:32:36.818Z"
      },
      {
        "duration": 3,
        "start_time": "2022-02-07T12:32:36.833Z"
      },
      {
        "duration": 14,
        "start_time": "2022-02-07T12:32:36.860Z"
      }
    ],
    "kernelspec": {
      "display_name": "Python 3 (ipykernel)",
      "language": "python",
      "name": "python3"
    },
    "language_info": {
      "codemirror_mode": {
        "name": "ipython",
        "version": 3
      },
      "file_extension": ".py",
      "mimetype": "text/x-python",
      "name": "python",
      "nbconvert_exporter": "python",
      "pygments_lexer": "ipython3",
      "version": "3.9.5"
    },
    "toc": {
      "base_numbering": 1,
      "nav_menu": {},
      "number_sections": true,
      "sideBar": true,
      "skip_h1_title": true,
      "title_cell": "Table of Contents",
      "title_sidebar": "Contents",
      "toc_cell": false,
      "toc_position": {},
      "toc_section_display": true,
      "toc_window_display": false
    },
    "colab": {
      "name": "Рекомендация тарифов.ipynb",
      "provenance": []
    }
  },
  "nbformat": 4,
  "nbformat_minor": 0
}