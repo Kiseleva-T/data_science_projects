{
  "cells": [
    {
      "cell_type": "markdown",
      "metadata": {
        "id": "O7iV4HCO8QXe"
      },
      "source": [
        "# Восстановление золота из руды"
      ]
    },
    {
      "cell_type": "markdown",
      "metadata": {
        "id": "evIIOr4E8QXh"
      },
      "source": [
        "Необходио создать модель, которая предскажет коэффициент восстановления золота из золотосодержащей руды.\n",
        "\n"
      ]
    },
    {
      "cell_type": "markdown",
      "metadata": {
        "id": "LlYNbb0s8QXn"
      },
      "source": [
        "## Подготовка данных"
      ]
    },
    {
      "cell_type": "markdown",
      "metadata": {
        "id": "Nxn0Q6Qs8QXq"
      },
      "source": [
        "Импортируем все, что нужно, и посмотрим, что у нас есть"
      ]
    },
    {
      "cell_type": "code",
      "execution_count": null,
      "metadata": {
        "id": "HkDJ16DS8QXt"
      },
      "outputs": [],
      "source": [
        "import pandas as pd\n",
        "import numpy as np\n",
        "from sklearn.linear_model import LinearRegression\n",
        "from sklearn.metrics import mean_absolute_error\n",
        "from sklearn.model_selection import cross_val_score\n",
        "from sklearn.tree import DecisionTreeRegressor\n",
        "from sklearn.ensemble import RandomForestRegressor\n",
        "from sklearn.model_selection import train_test_split\n",
        "import matplotlib.pyplot as plt\n",
        "import seaborn as sns\n",
        "from sklearn.metrics import make_scorer\n",
        "from sklearn.model_selection import GridSearchCV\n",
        "from sklearn.metrics import r2_score\n",
        "import warnings\n",
        "\n",
        "warnings.filterwarnings('ignore')"
      ]
    },
    {
      "cell_type": "code",
      "execution_count": null,
      "metadata": {
        "id": "dEZ13l_78QX0",
        "outputId": "95b0d748-f37b-4725-fa10-f3f56c8fa5f3"
      },
      "outputs": [
        {
          "name": "stdout",
          "output_type": "stream",
          "text": [
            "<class 'pandas.core.frame.DataFrame'>\n",
            "RangeIndex: 14149 entries, 0 to 14148\n",
            "Data columns (total 87 columns):\n",
            " #   Column                                              Non-Null Count  Dtype  \n",
            "---  ------                                              --------------  -----  \n",
            " 0   date                                                14149 non-null  object \n",
            " 1   final.output.concentrate_ag                         14148 non-null  float64\n",
            " 2   final.output.concentrate_pb                         14148 non-null  float64\n",
            " 3   final.output.concentrate_sol                        13938 non-null  float64\n",
            " 4   final.output.concentrate_au                         14149 non-null  float64\n",
            " 5   final.output.recovery                               14149 non-null  float64\n",
            " 6   final.output.tail_ag                                14149 non-null  float64\n",
            " 7   final.output.tail_pb                                14049 non-null  float64\n",
            " 8   final.output.tail_sol                               14144 non-null  float64\n",
            " 9   final.output.tail_au                                14149 non-null  float64\n",
            " 10  primary_cleaner.input.sulfate                       14129 non-null  float64\n",
            " 11  primary_cleaner.input.depressant                    14117 non-null  float64\n",
            " 12  primary_cleaner.input.feed_size                     14149 non-null  float64\n",
            " 13  primary_cleaner.input.xanthate                      14049 non-null  float64\n",
            " 14  primary_cleaner.output.concentrate_ag               14149 non-null  float64\n",
            " 15  primary_cleaner.output.concentrate_pb               14063 non-null  float64\n",
            " 16  primary_cleaner.output.concentrate_sol              13863 non-null  float64\n",
            " 17  primary_cleaner.output.concentrate_au               14149 non-null  float64\n",
            " 18  primary_cleaner.output.tail_ag                      14148 non-null  float64\n",
            " 19  primary_cleaner.output.tail_pb                      14134 non-null  float64\n",
            " 20  primary_cleaner.output.tail_sol                     14103 non-null  float64\n",
            " 21  primary_cleaner.output.tail_au                      14149 non-null  float64\n",
            " 22  primary_cleaner.state.floatbank8_a_air              14145 non-null  float64\n",
            " 23  primary_cleaner.state.floatbank8_a_level            14148 non-null  float64\n",
            " 24  primary_cleaner.state.floatbank8_b_air              14145 non-null  float64\n",
            " 25  primary_cleaner.state.floatbank8_b_level            14148 non-null  float64\n",
            " 26  primary_cleaner.state.floatbank8_c_air              14147 non-null  float64\n",
            " 27  primary_cleaner.state.floatbank8_c_level            14148 non-null  float64\n",
            " 28  primary_cleaner.state.floatbank8_d_air              14146 non-null  float64\n",
            " 29  primary_cleaner.state.floatbank8_d_level            14148 non-null  float64\n",
            " 30  rougher.calculation.sulfate_to_au_concentrate       14148 non-null  float64\n",
            " 31  rougher.calculation.floatbank10_sulfate_to_au_feed  14148 non-null  float64\n",
            " 32  rougher.calculation.floatbank11_sulfate_to_au_feed  14148 non-null  float64\n",
            " 33  rougher.calculation.au_pb_ratio                     14149 non-null  float64\n",
            " 34  rougher.input.feed_ag                               14149 non-null  float64\n",
            " 35  rougher.input.feed_pb                               14049 non-null  float64\n",
            " 36  rougher.input.feed_rate                             14141 non-null  float64\n",
            " 37  rougher.input.feed_size                             14005 non-null  float64\n",
            " 38  rougher.input.feed_sol                              14071 non-null  float64\n",
            " 39  rougher.input.feed_au                               14149 non-null  float64\n",
            " 40  rougher.input.floatbank10_sulfate                   14120 non-null  float64\n",
            " 41  rougher.input.floatbank10_xanthate                  14141 non-null  float64\n",
            " 42  rougher.input.floatbank11_sulfate                   14113 non-null  float64\n",
            " 43  rougher.input.floatbank11_xanthate                  13721 non-null  float64\n",
            " 44  rougher.output.concentrate_ag                       14149 non-null  float64\n",
            " 45  rougher.output.concentrate_pb                       14149 non-null  float64\n",
            " 46  rougher.output.concentrate_sol                      14127 non-null  float64\n",
            " 47  rougher.output.concentrate_au                       14149 non-null  float64\n",
            " 48  rougher.output.recovery                             14149 non-null  float64\n",
            " 49  rougher.output.tail_ag                              14148 non-null  float64\n",
            " 50  rougher.output.tail_pb                              14149 non-null  float64\n",
            " 51  rougher.output.tail_sol                             14149 non-null  float64\n",
            " 52  rougher.output.tail_au                              14149 non-null  float64\n",
            " 53  rougher.state.floatbank10_a_air                     14148 non-null  float64\n",
            " 54  rougher.state.floatbank10_a_level                   14148 non-null  float64\n",
            " 55  rougher.state.floatbank10_b_air                     14148 non-null  float64\n",
            " 56  rougher.state.floatbank10_b_level                   14148 non-null  float64\n",
            " 57  rougher.state.floatbank10_c_air                     14148 non-null  float64\n",
            " 58  rougher.state.floatbank10_c_level                   14148 non-null  float64\n",
            " 59  rougher.state.floatbank10_d_air                     14149 non-null  float64\n",
            " 60  rougher.state.floatbank10_d_level                   14149 non-null  float64\n",
            " 61  rougher.state.floatbank10_e_air                     13713 non-null  float64\n",
            " 62  rougher.state.floatbank10_e_level                   14149 non-null  float64\n",
            " 63  rougher.state.floatbank10_f_air                     14149 non-null  float64\n",
            " 64  rougher.state.floatbank10_f_level                   14149 non-null  float64\n",
            " 65  secondary_cleaner.output.tail_ag                    14147 non-null  float64\n",
            " 66  secondary_cleaner.output.tail_pb                    14139 non-null  float64\n",
            " 67  secondary_cleaner.output.tail_sol                   12544 non-null  float64\n",
            " 68  secondary_cleaner.output.tail_au                    14149 non-null  float64\n",
            " 69  secondary_cleaner.state.floatbank2_a_air            13932 non-null  float64\n",
            " 70  secondary_cleaner.state.floatbank2_a_level          14148 non-null  float64\n",
            " 71  secondary_cleaner.state.floatbank2_b_air            14128 non-null  float64\n",
            " 72  secondary_cleaner.state.floatbank2_b_level          14148 non-null  float64\n",
            " 73  secondary_cleaner.state.floatbank3_a_air            14145 non-null  float64\n",
            " 74  secondary_cleaner.state.floatbank3_a_level          14148 non-null  float64\n",
            " 75  secondary_cleaner.state.floatbank3_b_air            14148 non-null  float64\n",
            " 76  secondary_cleaner.state.floatbank3_b_level          14148 non-null  float64\n",
            " 77  secondary_cleaner.state.floatbank4_a_air            14143 non-null  float64\n",
            " 78  secondary_cleaner.state.floatbank4_a_level          14148 non-null  float64\n",
            " 79  secondary_cleaner.state.floatbank4_b_air            14148 non-null  float64\n",
            " 80  secondary_cleaner.state.floatbank4_b_level          14148 non-null  float64\n",
            " 81  secondary_cleaner.state.floatbank5_a_air            14148 non-null  float64\n",
            " 82  secondary_cleaner.state.floatbank5_a_level          14148 non-null  float64\n",
            " 83  secondary_cleaner.state.floatbank5_b_air            14148 non-null  float64\n",
            " 84  secondary_cleaner.state.floatbank5_b_level          14148 non-null  float64\n",
            " 85  secondary_cleaner.state.floatbank6_a_air            14147 non-null  float64\n",
            " 86  secondary_cleaner.state.floatbank6_a_level          14148 non-null  float64\n",
            "dtypes: float64(86), object(1)\n",
            "memory usage: 9.4+ MB\n"
          ]
        }
      ],
      "source": [
        "df_train.info()"
      ]
    },
    {
      "cell_type": "code",
      "execution_count": null,
      "metadata": {
        "id": "KlEKrdnU8QX3",
        "outputId": "6d6230e6-1431-4f06-8c1c-97ecfb9f699a"
      },
      "outputs": [
        {
          "name": "stdout",
          "output_type": "stream",
          "text": [
            "<class 'pandas.core.frame.DataFrame'>\n",
            "RangeIndex: 5290 entries, 0 to 5289\n",
            "Data columns (total 53 columns):\n",
            " #   Column                                      Non-Null Count  Dtype  \n",
            "---  ------                                      --------------  -----  \n",
            " 0   date                                        5290 non-null   object \n",
            " 1   primary_cleaner.input.sulfate               5286 non-null   float64\n",
            " 2   primary_cleaner.input.depressant            5285 non-null   float64\n",
            " 3   primary_cleaner.input.feed_size             5290 non-null   float64\n",
            " 4   primary_cleaner.input.xanthate              5286 non-null   float64\n",
            " 5   primary_cleaner.state.floatbank8_a_air      5290 non-null   float64\n",
            " 6   primary_cleaner.state.floatbank8_a_level    5290 non-null   float64\n",
            " 7   primary_cleaner.state.floatbank8_b_air      5290 non-null   float64\n",
            " 8   primary_cleaner.state.floatbank8_b_level    5290 non-null   float64\n",
            " 9   primary_cleaner.state.floatbank8_c_air      5290 non-null   float64\n",
            " 10  primary_cleaner.state.floatbank8_c_level    5290 non-null   float64\n",
            " 11  primary_cleaner.state.floatbank8_d_air      5290 non-null   float64\n",
            " 12  primary_cleaner.state.floatbank8_d_level    5290 non-null   float64\n",
            " 13  rougher.input.feed_ag                       5290 non-null   float64\n",
            " 14  rougher.input.feed_pb                       5290 non-null   float64\n",
            " 15  rougher.input.feed_rate                     5287 non-null   float64\n",
            " 16  rougher.input.feed_size                     5289 non-null   float64\n",
            " 17  rougher.input.feed_sol                      5269 non-null   float64\n",
            " 18  rougher.input.feed_au                       5290 non-null   float64\n",
            " 19  rougher.input.floatbank10_sulfate           5285 non-null   float64\n",
            " 20  rougher.input.floatbank10_xanthate          5290 non-null   float64\n",
            " 21  rougher.input.floatbank11_sulfate           5282 non-null   float64\n",
            " 22  rougher.input.floatbank11_xanthate          5265 non-null   float64\n",
            " 23  rougher.state.floatbank10_a_air             5290 non-null   float64\n",
            " 24  rougher.state.floatbank10_a_level           5290 non-null   float64\n",
            " 25  rougher.state.floatbank10_b_air             5290 non-null   float64\n",
            " 26  rougher.state.floatbank10_b_level           5290 non-null   float64\n",
            " 27  rougher.state.floatbank10_c_air             5290 non-null   float64\n",
            " 28  rougher.state.floatbank10_c_level           5290 non-null   float64\n",
            " 29  rougher.state.floatbank10_d_air             5290 non-null   float64\n",
            " 30  rougher.state.floatbank10_d_level           5290 non-null   float64\n",
            " 31  rougher.state.floatbank10_e_air             5290 non-null   float64\n",
            " 32  rougher.state.floatbank10_e_level           5290 non-null   float64\n",
            " 33  rougher.state.floatbank10_f_air             5290 non-null   float64\n",
            " 34  rougher.state.floatbank10_f_level           5290 non-null   float64\n",
            " 35  secondary_cleaner.state.floatbank2_a_air    5287 non-null   float64\n",
            " 36  secondary_cleaner.state.floatbank2_a_level  5290 non-null   float64\n",
            " 37  secondary_cleaner.state.floatbank2_b_air    5288 non-null   float64\n",
            " 38  secondary_cleaner.state.floatbank2_b_level  5290 non-null   float64\n",
            " 39  secondary_cleaner.state.floatbank3_a_air    5281 non-null   float64\n",
            " 40  secondary_cleaner.state.floatbank3_a_level  5290 non-null   float64\n",
            " 41  secondary_cleaner.state.floatbank3_b_air    5290 non-null   float64\n",
            " 42  secondary_cleaner.state.floatbank3_b_level  5290 non-null   float64\n",
            " 43  secondary_cleaner.state.floatbank4_a_air    5290 non-null   float64\n",
            " 44  secondary_cleaner.state.floatbank4_a_level  5290 non-null   float64\n",
            " 45  secondary_cleaner.state.floatbank4_b_air    5290 non-null   float64\n",
            " 46  secondary_cleaner.state.floatbank4_b_level  5290 non-null   float64\n",
            " 47  secondary_cleaner.state.floatbank5_a_air    5290 non-null   float64\n",
            " 48  secondary_cleaner.state.floatbank5_a_level  5290 non-null   float64\n",
            " 49  secondary_cleaner.state.floatbank5_b_air    5290 non-null   float64\n",
            " 50  secondary_cleaner.state.floatbank5_b_level  5290 non-null   float64\n",
            " 51  secondary_cleaner.state.floatbank6_a_air    5290 non-null   float64\n",
            " 52  secondary_cleaner.state.floatbank6_a_level  5290 non-null   float64\n",
            "dtypes: float64(52), object(1)\n",
            "memory usage: 2.1+ MB\n"
          ]
        }
      ],
      "source": [
        "df_test.info()"
      ]
    },
    {
      "cell_type": "code",
      "execution_count": null,
      "metadata": {
        "id": "y7UeZggc8QX6",
        "outputId": "73bb1d32-dd68-48d9-d41b-adb7ac8e52f9"
      },
      "outputs": [
        {
          "name": "stdout",
          "output_type": "stream",
          "text": [
            "<class 'pandas.core.frame.DataFrame'>\n",
            "RangeIndex: 19439 entries, 0 to 19438\n",
            "Data columns (total 87 columns):\n",
            " #   Column                                              Non-Null Count  Dtype  \n",
            "---  ------                                              --------------  -----  \n",
            " 0   date                                                19439 non-null  object \n",
            " 1   final.output.concentrate_ag                         19438 non-null  float64\n",
            " 2   final.output.concentrate_pb                         19438 non-null  float64\n",
            " 3   final.output.concentrate_sol                        19228 non-null  float64\n",
            " 4   final.output.concentrate_au                         19439 non-null  float64\n",
            " 5   final.output.recovery                               19439 non-null  float64\n",
            " 6   final.output.tail_ag                                19438 non-null  float64\n",
            " 7   final.output.tail_pb                                19338 non-null  float64\n",
            " 8   final.output.tail_sol                               19433 non-null  float64\n",
            " 9   final.output.tail_au                                19439 non-null  float64\n",
            " 10  primary_cleaner.input.sulfate                       19415 non-null  float64\n",
            " 11  primary_cleaner.input.depressant                    19402 non-null  float64\n",
            " 12  primary_cleaner.input.feed_size                     19439 non-null  float64\n",
            " 13  primary_cleaner.input.xanthate                      19335 non-null  float64\n",
            " 14  primary_cleaner.output.concentrate_ag               19439 non-null  float64\n",
            " 15  primary_cleaner.output.concentrate_pb               19323 non-null  float64\n",
            " 16  primary_cleaner.output.concentrate_sol              19069 non-null  float64\n",
            " 17  primary_cleaner.output.concentrate_au               19439 non-null  float64\n",
            " 18  primary_cleaner.output.tail_ag                      19435 non-null  float64\n",
            " 19  primary_cleaner.output.tail_pb                      19418 non-null  float64\n",
            " 20  primary_cleaner.output.tail_sol                     19377 non-null  float64\n",
            " 21  primary_cleaner.output.tail_au                      19439 non-null  float64\n",
            " 22  primary_cleaner.state.floatbank8_a_air              19435 non-null  float64\n",
            " 23  primary_cleaner.state.floatbank8_a_level            19438 non-null  float64\n",
            " 24  primary_cleaner.state.floatbank8_b_air              19435 non-null  float64\n",
            " 25  primary_cleaner.state.floatbank8_b_level            19438 non-null  float64\n",
            " 26  primary_cleaner.state.floatbank8_c_air              19437 non-null  float64\n",
            " 27  primary_cleaner.state.floatbank8_c_level            19438 non-null  float64\n",
            " 28  primary_cleaner.state.floatbank8_d_air              19436 non-null  float64\n",
            " 29  primary_cleaner.state.floatbank8_d_level            19438 non-null  float64\n",
            " 30  rougher.calculation.sulfate_to_au_concentrate       19437 non-null  float64\n",
            " 31  rougher.calculation.floatbank10_sulfate_to_au_feed  19437 non-null  float64\n",
            " 32  rougher.calculation.floatbank11_sulfate_to_au_feed  19437 non-null  float64\n",
            " 33  rougher.calculation.au_pb_ratio                     19439 non-null  float64\n",
            " 34  rougher.input.feed_ag                               19439 non-null  float64\n",
            " 35  rougher.input.feed_pb                               19339 non-null  float64\n",
            " 36  rougher.input.feed_rate                             19428 non-null  float64\n",
            " 37  rougher.input.feed_size                             19294 non-null  float64\n",
            " 38  rougher.input.feed_sol                              19340 non-null  float64\n",
            " 39  rougher.input.feed_au                               19439 non-null  float64\n",
            " 40  rougher.input.floatbank10_sulfate                   19405 non-null  float64\n",
            " 41  rougher.input.floatbank10_xanthate                  19431 non-null  float64\n",
            " 42  rougher.input.floatbank11_sulfate                   19395 non-null  float64\n",
            " 43  rougher.input.floatbank11_xanthate                  18986 non-null  float64\n",
            " 44  rougher.output.concentrate_ag                       19439 non-null  float64\n",
            " 45  rougher.output.concentrate_pb                       19439 non-null  float64\n",
            " 46  rougher.output.concentrate_sol                      19416 non-null  float64\n",
            " 47  rougher.output.concentrate_au                       19439 non-null  float64\n",
            " 48  rougher.output.recovery                             19439 non-null  float64\n",
            " 49  rougher.output.tail_ag                              19438 non-null  float64\n",
            " 50  rougher.output.tail_pb                              19439 non-null  float64\n",
            " 51  rougher.output.tail_sol                             19439 non-null  float64\n",
            " 52  rougher.output.tail_au                              19439 non-null  float64\n",
            " 53  rougher.state.floatbank10_a_air                     19438 non-null  float64\n",
            " 54  rougher.state.floatbank10_a_level                   19438 non-null  float64\n",
            " 55  rougher.state.floatbank10_b_air                     19438 non-null  float64\n",
            " 56  rougher.state.floatbank10_b_level                   19438 non-null  float64\n",
            " 57  rougher.state.floatbank10_c_air                     19438 non-null  float64\n",
            " 58  rougher.state.floatbank10_c_level                   19438 non-null  float64\n",
            " 59  rougher.state.floatbank10_d_air                     19439 non-null  float64\n",
            " 60  rougher.state.floatbank10_d_level                   19439 non-null  float64\n",
            " 61  rougher.state.floatbank10_e_air                     19003 non-null  float64\n",
            " 62  rougher.state.floatbank10_e_level                   19439 non-null  float64\n",
            " 63  rougher.state.floatbank10_f_air                     19439 non-null  float64\n",
            " 64  rougher.state.floatbank10_f_level                   19439 non-null  float64\n",
            " 65  secondary_cleaner.output.tail_ag                    19437 non-null  float64\n",
            " 66  secondary_cleaner.output.tail_pb                    19427 non-null  float64\n",
            " 67  secondary_cleaner.output.tail_sol                   17691 non-null  float64\n",
            " 68  secondary_cleaner.output.tail_au                    19439 non-null  float64\n",
            " 69  secondary_cleaner.state.floatbank2_a_air            19219 non-null  float64\n",
            " 70  secondary_cleaner.state.floatbank2_a_level          19438 non-null  float64\n",
            " 71  secondary_cleaner.state.floatbank2_b_air            19416 non-null  float64\n",
            " 72  secondary_cleaner.state.floatbank2_b_level          19438 non-null  float64\n",
            " 73  secondary_cleaner.state.floatbank3_a_air            19426 non-null  float64\n",
            " 74  secondary_cleaner.state.floatbank3_a_level          19438 non-null  float64\n",
            " 75  secondary_cleaner.state.floatbank3_b_air            19438 non-null  float64\n",
            " 76  secondary_cleaner.state.floatbank3_b_level          19438 non-null  float64\n",
            " 77  secondary_cleaner.state.floatbank4_a_air            19433 non-null  float64\n",
            " 78  secondary_cleaner.state.floatbank4_a_level          19438 non-null  float64\n",
            " 79  secondary_cleaner.state.floatbank4_b_air            19438 non-null  float64\n",
            " 80  secondary_cleaner.state.floatbank4_b_level          19438 non-null  float64\n",
            " 81  secondary_cleaner.state.floatbank5_a_air            19438 non-null  float64\n",
            " 82  secondary_cleaner.state.floatbank5_a_level          19438 non-null  float64\n",
            " 83  secondary_cleaner.state.floatbank5_b_air            19438 non-null  float64\n",
            " 84  secondary_cleaner.state.floatbank5_b_level          19438 non-null  float64\n",
            " 85  secondary_cleaner.state.floatbank6_a_air            19437 non-null  float64\n",
            " 86  secondary_cleaner.state.floatbank6_a_level          19438 non-null  float64\n",
            "dtypes: float64(86), object(1)\n",
            "memory usage: 12.9+ MB\n"
          ]
        }
      ],
      "source": [
        "df_full.info()"
      ]
    },
    {
      "cell_type": "markdown",
      "metadata": {
        "id": "KklPI_tX8QX8"
      },
      "source": [
        "Т.к. у нас есть пустые строки, заполним их методом backfill, который берет за основу данные из следующего заполненного."
      ]
    },
    {
      "cell_type": "code",
      "execution_count": null,
      "metadata": {
        "id": "O_HOJyb-8QX-"
      },
      "outputs": [],
      "source": [
        "df_train = df_train.fillna(method='backfill')"
      ]
    },
    {
      "cell_type": "code",
      "execution_count": null,
      "metadata": {
        "id": "I72Xe8XQ8QYA"
      },
      "outputs": [],
      "source": [
        "df_test = df_test.fillna(method='backfill')"
      ]
    },
    {
      "cell_type": "code",
      "execution_count": null,
      "metadata": {
        "id": "oxQcxW6W8QYB"
      },
      "outputs": [],
      "source": [
        "df_full = df_full.fillna(method='backfill')"
      ]
    },
    {
      "cell_type": "markdown",
      "metadata": {
        "id": "9LUxK-F68QYI"
      },
      "source": [
        "В тестовой выборке отсутствет больше 30 столбцов данных, среди которых столбцы таргеты - rougher.output.recovery и final.output.recovery, которые нам понадобятся в дальнейшем. "
      ]
    },
    {
      "cell_type": "markdown",
      "metadata": {
        "id": "Qt2fPf-l8QYJ"
      },
      "source": [
        "Проверим, что эффективность обогащения рассчитана правильно. Вычислим её на обучающей выборке для признака rougher.output.recovery. Найдем MAE между  расчётами и значением признака. "
      ]
    },
    {
      "cell_type": "code",
      "execution_count": null,
      "metadata": {
        "id": "22JTY_ao8QYK"
      },
      "outputs": [],
      "source": [
        "C = df_train['rougher.output.concentrate_au']\n",
        "F = df_train['rougher.input.feed_au']\n",
        "T = df_train['rougher.output.tail_au']\n",
        "df_train['rougher.output.recovery_fact'] = (C * (F - T) / (F * (C - T))*100)"
      ]
    },
    {
      "cell_type": "code",
      "execution_count": null,
      "metadata": {
        "id": "m7kaGmYq8QYL"
      },
      "outputs": [],
      "source": [
        "recovery_fact = df_train['rougher.output.recovery_fact']\n",
        "recovery_was = df_train['rougher.output.recovery']\n"
      ]
    },
    {
      "cell_type": "code",
      "execution_count": null,
      "metadata": {
        "id": "kHvNvDVV8QYM",
        "outputId": "1fc60819-5475-4ec0-b72b-9da1fd8e0be5"
      },
      "outputs": [
        {
          "name": "stdout",
          "output_type": "stream",
          "text": [
            "9.73512347450521e-15\n"
          ]
        }
      ],
      "source": [
        "print(mean_absolute_error(recovery_was,recovery_fact))"
      ]
    },
    {
      "cell_type": "code",
      "execution_count": null,
      "metadata": {
        "id": "cgtvGWqW8QYO",
        "outputId": "59107bbb-80c9-40c6-ba32-e56e95b63b6d"
      },
      "outputs": [
        {
          "data": {
            "text/plain": [
              "count    14149.000000\n",
              "mean        82.704502\n",
              "std         14.479156\n",
              "min         -0.000000\n",
              "25%         79.993067\n",
              "50%         85.299462\n",
              "75%         90.165021\n",
              "max        100.000000\n",
              "Name: rougher.output.recovery_fact, dtype: float64"
            ]
          },
          "execution_count": 14,
          "metadata": {},
          "output_type": "execute_result"
        }
      ],
      "source": [
        "recovery_fact.describe()"
      ]
    },
    {
      "cell_type": "code",
      "execution_count": null,
      "metadata": {
        "id": "e4VhA6hQ8QYP",
        "outputId": "08a8de1e-5dd8-4999-9da6-3f09113a2242"
      },
      "outputs": [
        {
          "data": {
            "text/plain": [
              "count    14149.000000\n",
              "mean        82.704502\n",
              "std         14.479156\n",
              "min          0.000000\n",
              "25%         79.993067\n",
              "50%         85.299462\n",
              "75%         90.165021\n",
              "max        100.000000\n",
              "Name: rougher.output.recovery, dtype: float64"
            ]
          },
          "execution_count": 15,
          "metadata": {},
          "output_type": "execute_result"
        }
      ],
      "source": [
        "recovery_was.describe()"
      ]
    },
    {
      "cell_type": "markdown",
      "metadata": {
        "id": "jwpXDWWr8QYQ"
      },
      "source": [
        "mae = 9*10 в -15 степени, что означает, что формула обогащения расчитана правильно. Как можно видеть в предыдущих ячейках, данные практически не различаются.\n"
      ]
    },
    {
      "cell_type": "markdown",
      "metadata": {
        "id": "qa1WLmfb8QYQ"
      },
      "source": [
        "## Анализ данных"
      ]
    },
    {
      "cell_type": "markdown",
      "metadata": {
        "id": "S2bo_Pob8QYR"
      },
      "source": [
        "Посмотрим, как меняется концентрация металлов (Au, Ag, Pb) на различных этапах очистки. "
      ]
    },
    {
      "cell_type": "code",
      "execution_count": null,
      "metadata": {
        "id": "HufWcLdl8QYS",
        "outputId": "b90f5081-68b4-47dd-aab7-3894c6607c3a"
      },
      "outputs": [
        {
          "data": {
            "image/png": "[encoded data removed]",
            "text/plain": [
              "<Figure size 432x288 with 1 Axes>"
            ]
          },
          "metadata": {
            "needs_background": "light"
          },
          "output_type": "display_data"
        }
      ],
      "source": [
        "au_concentrate = [df_full['rougher.input.feed_au'].mean(), \n",
        "                  df_full['rougher.output.concentrate_au'].mean(),\n",
        "                  df_full['primary_cleaner.output.concentrate_au'].mean(), \n",
        "                  df_full['final.output.concentrate_au'].mean()]\n",
        "time = ['rouger_input', 'rougher_output', 'primary_cleaner', 'final_output']\n",
        "plt.plot(time, au_concentrate)\n",
        "plt.title('Concentrate_au')\n",
        "plt.show()"
      ]
    },
    {
      "cell_type": "code",
      "execution_count": null,
      "metadata": {
        "id": "VF-Cylb78QYT",
        "outputId": "4da83391-8500-41e2-9eb7-be0ff132f2f8"
      },
      "outputs": [
        {
          "data": {
            "image/png": "[encoded data removed]",
            "text/plain": [
              "<Figure size 432x288 with 1 Axes>"
            ]
          },
          "metadata": {
            "needs_background": "light"
          },
          "output_type": "display_data"
        }
      ],
      "source": [
        "ag_concentrate = [df_full['rougher.input.feed_ag'].mean(), \n",
        "                  df_full['rougher.output.concentrate_ag'].mean(),\n",
        "                  df_full['primary_cleaner.output.concentrate_ag'].mean(), \n",
        "                  df_full['final.output.concentrate_ag'].mean()]\n",
        "time = ['rouger_input', 'rougher_output', 'primary_cleaner', 'final_output']\n",
        "plt.plot(time, ag_concentrate)\n",
        "plt.title('Concentrate_ag')\n",
        "plt.show()"
      ]
    },
    {
      "cell_type": "code",
      "execution_count": null,
      "metadata": {
        "id": "avnmqv188QYU",
        "outputId": "456a065e-6456-4d9a-f9fc-f121e930a9d9"
      },
      "outputs": [
        {
          "data": {
            "image/png": "[encoded data removed]",
            "text/plain": [
              "<Figure size 432x288 with 1 Axes>"
            ]
          },
          "metadata": {
            "needs_background": "light"
          },
          "output_type": "display_data"
        }
      ],
      "source": [
        "pb_concentrate = [df_full['rougher.input.feed_pb'].mean(), \n",
        "                  df_full['rougher.output.concentrate_pb'].mean(),\n",
        "                  df_full['primary_cleaner.output.concentrate_pb'].mean(), \n",
        "                  df_full['final.output.concentrate_pb'].mean()]\n",
        "time = ['rouger_input', 'rougher_output', 'primary_cleaner', 'final_output']\n",
        "plt.plot(time, pb_concentrate)\n",
        "plt.title('Concentrate_pb')\n",
        "plt.show()"
      ]
    },
    {
      "cell_type": "markdown",
      "metadata": {
        "id": "SXmA2CM28QYW"
      },
      "source": [
        "Концентрация золота и свинца растет, серебра падает."
      ]
    },
    {
      "cell_type": "markdown",
      "metadata": {
        "id": "qBp_-Xi88QYY"
      },
      "source": [
        "Сравним распределения размеров гранул сырья на обучающей и тестовой выборках. Если распределения сильно отличаются друг от друга, оценка модели будет неправильной."
      ]
    },
    {
      "cell_type": "code",
      "execution_count": null,
      "metadata": {
        "id": "pgi0OgY-8QYY",
        "outputId": "d8faa656-4f5f-421b-d00f-337b4f1e22d9"
      },
      "outputs": [
        {
          "data": {
            "image/png": "[encoded data removed]",
            "text/plain": [
              "<Figure size 432x288 with 1 Axes>"
            ]
          },
          "metadata": {
            "needs_background": "light"
          },
          "output_type": "display_data"
        }
      ],
      "source": [
        "size_train = df_train['primary_cleaner.input.feed_size']\n",
        "size_test = df_test['primary_cleaner.input.feed_size']\n",
        "\n",
        "\n",
        "plt.hist([size_train, size_test], bins=10)\n",
        "plt.show()"
      ]
    },
    {
      "cell_type": "markdown",
      "metadata": {
        "id": "zweSE9fY8QYa"
      },
      "source": [
        "Распределение размеров сырья практически одинаковое."
      ]
    },
    {
      "cell_type": "markdown",
      "metadata": {
        "id": "xGcThJdB8QYb"
      },
      "source": [
        "Исследуем суммарную концентрацию всех веществ на разных стадиях: в сырье, в черновом и финальном концентратах."
      ]
    },
    {
      "cell_type": "code",
      "execution_count": null,
      "metadata": {
        "id": "AC-RLTfP8QYb"
      },
      "outputs": [],
      "source": [
        "df_train['feed_conc'] = df_train['rougher.input.feed_ag'] + df_train['rougher.input.feed_pb'] + df_train['rougher.input.feed_sol'] + df_train['rougher.input.feed_au']"
      ]
    },
    {
      "cell_type": "code",
      "execution_count": null,
      "metadata": {
        "id": "AQKTl7q08QYc",
        "outputId": "30ef25c5-c9d2-4661-cafe-3668932da404"
      },
      "outputs": [
        {
          "data": {
            "text/plain": [
              "<AxesSubplot:>"
            ]
          },
          "execution_count": 21,
          "metadata": {},
          "output_type": "execute_result"
        },
        {
          "data": {
            "image/png": "[encoded data removed]",
            "text/plain": [
              "<Figure size 432x288 with 1 Axes>"
            ]
          },
          "metadata": {
            "needs_background": "light"
          },
          "output_type": "display_data"
        }
      ],
      "source": [
        "df_train['feed_conc'].hist()\n"
      ]
    },
    {
      "cell_type": "code",
      "execution_count": null,
      "metadata": {
        "id": "8K9D2yXj8QYd",
        "outputId": "431e92d3-0204-40f2-a0e4-ccaa469915e4"
      },
      "outputs": [
        {
          "data": {
            "text/html": [
              "<div>\n",
              "<style scoped>\n",
              "    .dataframe tbody tr th:only-of-type {\n",
              "        vertical-align: middle;\n",
              "    }\n",
              "\n",
              "    .dataframe tbody tr th {\n",
              "        vertical-align: top;\n",
              "    }\n",
              "\n",
              "    .dataframe thead th {\n",
              "        text-align: right;\n",
              "    }\n",
              "</style>\n",
              "<table border=\"1\" class=\"dataframe\">\n",
              "  <thead>\n",
              "    <tr style=\"text-align: right;\">\n",
              "      <th></th>\n",
              "      <th>date</th>\n",
              "      <th>final.output.concentrate_ag</th>\n",
              "      <th>final.output.concentrate_pb</th>\n",
              "      <th>final.output.concentrate_sol</th>\n",
              "      <th>final.output.concentrate_au</th>\n",
              "      <th>final.output.recovery</th>\n",
              "      <th>final.output.tail_ag</th>\n",
              "      <th>final.output.tail_pb</th>\n",
              "      <th>final.output.tail_sol</th>\n",
              "      <th>final.output.tail_au</th>\n",
              "      <th>...</th>\n",
              "      <th>secondary_cleaner.state.floatbank4_b_air</th>\n",
              "      <th>secondary_cleaner.state.floatbank4_b_level</th>\n",
              "      <th>secondary_cleaner.state.floatbank5_a_air</th>\n",
              "      <th>secondary_cleaner.state.floatbank5_a_level</th>\n",
              "      <th>secondary_cleaner.state.floatbank5_b_air</th>\n",
              "      <th>secondary_cleaner.state.floatbank5_b_level</th>\n",
              "      <th>secondary_cleaner.state.floatbank6_a_air</th>\n",
              "      <th>secondary_cleaner.state.floatbank6_a_level</th>\n",
              "      <th>rougher.output.recovery_fact</th>\n",
              "      <th>feed_conc</th>\n",
              "    </tr>\n",
              "  </thead>\n",
              "  <tbody>\n",
              "  </tbody>\n",
              "</table>\n",
              "<p>0 rows × 89 columns</p>\n",
              "</div>"
            ],
            "text/plain": [
              "Empty DataFrame\n",
              "Columns: [date, final.output.concentrate_ag, final.output.concentrate_pb, final.output.concentrate_sol, final.output.concentrate_au, final.output.recovery, final.output.tail_ag, final.output.tail_pb, final.output.tail_sol, final.output.tail_au, primary_cleaner.input.sulfate, primary_cleaner.input.depressant, primary_cleaner.input.feed_size, primary_cleaner.input.xanthate, primary_cleaner.output.concentrate_ag, primary_cleaner.output.concentrate_pb, primary_cleaner.output.concentrate_sol, primary_cleaner.output.concentrate_au, primary_cleaner.output.tail_ag, primary_cleaner.output.tail_pb, primary_cleaner.output.tail_sol, primary_cleaner.output.tail_au, primary_cleaner.state.floatbank8_a_air, primary_cleaner.state.floatbank8_a_level, primary_cleaner.state.floatbank8_b_air, primary_cleaner.state.floatbank8_b_level, primary_cleaner.state.floatbank8_c_air, primary_cleaner.state.floatbank8_c_level, primary_cleaner.state.floatbank8_d_air, primary_cleaner.state.floatbank8_d_level, rougher.calculation.sulfate_to_au_concentrate, rougher.calculation.floatbank10_sulfate_to_au_feed, rougher.calculation.floatbank11_sulfate_to_au_feed, rougher.calculation.au_pb_ratio, rougher.input.feed_ag, rougher.input.feed_pb, rougher.input.feed_rate, rougher.input.feed_size, rougher.input.feed_sol, rougher.input.feed_au, rougher.input.floatbank10_sulfate, rougher.input.floatbank10_xanthate, rougher.input.floatbank11_sulfate, rougher.input.floatbank11_xanthate, rougher.output.concentrate_ag, rougher.output.concentrate_pb, rougher.output.concentrate_sol, rougher.output.concentrate_au, rougher.output.recovery, rougher.output.tail_ag, rougher.output.tail_pb, rougher.output.tail_sol, rougher.output.tail_au, rougher.state.floatbank10_a_air, rougher.state.floatbank10_a_level, rougher.state.floatbank10_b_air, rougher.state.floatbank10_b_level, rougher.state.floatbank10_c_air, rougher.state.floatbank10_c_level, rougher.state.floatbank10_d_air, rougher.state.floatbank10_d_level, rougher.state.floatbank10_e_air, rougher.state.floatbank10_e_level, rougher.state.floatbank10_f_air, rougher.state.floatbank10_f_level, secondary_cleaner.output.tail_ag, secondary_cleaner.output.tail_pb, secondary_cleaner.output.tail_sol, secondary_cleaner.output.tail_au, secondary_cleaner.state.floatbank2_a_air, secondary_cleaner.state.floatbank2_a_level, secondary_cleaner.state.floatbank2_b_air, secondary_cleaner.state.floatbank2_b_level, secondary_cleaner.state.floatbank3_a_air, secondary_cleaner.state.floatbank3_a_level, secondary_cleaner.state.floatbank3_b_air, secondary_cleaner.state.floatbank3_b_level, secondary_cleaner.state.floatbank4_a_air, secondary_cleaner.state.floatbank4_a_level, secondary_cleaner.state.floatbank4_b_air, secondary_cleaner.state.floatbank4_b_level, secondary_cleaner.state.floatbank5_a_air, secondary_cleaner.state.floatbank5_a_level, secondary_cleaner.state.floatbank5_b_air, secondary_cleaner.state.floatbank5_b_level, secondary_cleaner.state.floatbank6_a_air, secondary_cleaner.state.floatbank6_a_level, rougher.output.recovery_fact, feed_conc]\n",
              "Index: []\n",
              "\n",
              "[0 rows x 89 columns]"
            ]
          },
          "metadata": {},
          "output_type": "display_data"
        }
      ],
      "source": [
        "display(df_train.loc[df_train['feed_conc'] == 0])"
      ]
    },
    {
      "cell_type": "code",
      "execution_count": null,
      "metadata": {
        "id": "vND2eqmy8QYg"
      },
      "outputs": [],
      "source": [
        "df_train['rougher_conc'] = df_train['rougher.output.concentrate_ag'] + df_train['rougher.output.concentrate_pb'] + df_train['rougher.output.concentrate_sol'] + df_train['rougher.output.concentrate_au']"
      ]
    },
    {
      "cell_type": "code",
      "execution_count": null,
      "metadata": {
        "id": "LOrIBN378QYg",
        "outputId": "bc168b69-8a9f-4659-f9a9-8892f653b15e"
      },
      "outputs": [
        {
          "data": {
            "text/plain": [
              "<AxesSubplot:>"
            ]
          },
          "execution_count": 24,
          "metadata": {},
          "output_type": "execute_result"
        },
        {
          "data": {
            "image/png": "[encoded data removed]",
            "text/plain": [
              "<Figure size 432x288 with 1 Axes>"
            ]
          },
          "metadata": {
            "needs_background": "light"
          },
          "output_type": "display_data"
        }
      ],
      "source": [
        "df_train['rougher_conc'].hist()"
      ]
    },
    {
      "cell_type": "code",
      "execution_count": null,
      "metadata": {
        "id": "UHVavMCs8QYh",
        "outputId": "d476d6e8-c9f7-4c00-8587-5ee1736c75f0"
      },
      "outputs": [
        {
          "data": {
            "text/html": [
              "<div>\n",
              "<style scoped>\n",
              "    .dataframe tbody tr th:only-of-type {\n",
              "        vertical-align: middle;\n",
              "    }\n",
              "\n",
              "    .dataframe tbody tr th {\n",
              "        vertical-align: top;\n",
              "    }\n",
              "\n",
              "    .dataframe thead th {\n",
              "        text-align: right;\n",
              "    }\n",
              "</style>\n",
              "<table border=\"1\" class=\"dataframe\">\n",
              "  <thead>\n",
              "    <tr style=\"text-align: right;\">\n",
              "      <th></th>\n",
              "      <th>date</th>\n",
              "      <th>final.output.concentrate_ag</th>\n",
              "      <th>final.output.concentrate_pb</th>\n",
              "      <th>final.output.concentrate_sol</th>\n",
              "      <th>final.output.concentrate_au</th>\n",
              "      <th>final.output.recovery</th>\n",
              "      <th>final.output.tail_ag</th>\n",
              "      <th>final.output.tail_pb</th>\n",
              "      <th>final.output.tail_sol</th>\n",
              "      <th>final.output.tail_au</th>\n",
              "      <th>...</th>\n",
              "      <th>secondary_cleaner.state.floatbank4_b_level</th>\n",
              "      <th>secondary_cleaner.state.floatbank5_a_air</th>\n",
              "      <th>secondary_cleaner.state.floatbank5_a_level</th>\n",
              "      <th>secondary_cleaner.state.floatbank5_b_air</th>\n",
              "      <th>secondary_cleaner.state.floatbank5_b_level</th>\n",
              "      <th>secondary_cleaner.state.floatbank6_a_air</th>\n",
              "      <th>secondary_cleaner.state.floatbank6_a_level</th>\n",
              "      <th>rougher.output.recovery_fact</th>\n",
              "      <th>feed_conc</th>\n",
              "      <th>rougher_conc</th>\n",
              "    </tr>\n",
              "  </thead>\n",
              "  <tbody>\n",
              "    <tr>\n",
              "      <th>45</th>\n",
              "      <td>2016-01-16 21:00:00</td>\n",
              "      <td>4.566664</td>\n",
              "      <td>10.406178</td>\n",
              "      <td>4.588698</td>\n",
              "      <td>46.614456</td>\n",
              "      <td>68.403877</td>\n",
              "      <td>10.705777</td>\n",
              "      <td>1.509070</td>\n",
              "      <td>17.875134</td>\n",
              "      <td>2.509776</td>\n",
              "      <td>...</td>\n",
              "      <td>-550.570104</td>\n",
              "      <td>10.052072</td>\n",
              "      <td>-500.797905</td>\n",
              "      <td>7.984500</td>\n",
              "      <td>-499.581046</td>\n",
              "      <td>11.982025</td>\n",
              "      <td>-599.161228</td>\n",
              "      <td>-0.0</td>\n",
              "      <td>58.602038</td>\n",
              "      <td>0.0</td>\n",
              "    </tr>\n",
              "    <tr>\n",
              "      <th>46</th>\n",
              "      <td>2016-01-16 22:00:00</td>\n",
              "      <td>4.577832</td>\n",
              "      <td>10.691605</td>\n",
              "      <td>5.274175</td>\n",
              "      <td>46.250638</td>\n",
              "      <td>70.675633</td>\n",
              "      <td>10.728531</td>\n",
              "      <td>1.641216</td>\n",
              "      <td>18.349339</td>\n",
              "      <td>2.540843</td>\n",
              "      <td>...</td>\n",
              "      <td>-550.496522</td>\n",
              "      <td>9.953139</td>\n",
              "      <td>-500.330920</td>\n",
              "      <td>8.012074</td>\n",
              "      <td>-500.133530</td>\n",
              "      <td>11.975316</td>\n",
              "      <td>-598.839683</td>\n",
              "      <td>-0.0</td>\n",
              "      <td>59.921613</td>\n",
              "      <td>0.0</td>\n",
              "    </tr>\n",
              "    <tr>\n",
              "      <th>47</th>\n",
              "      <td>2016-01-16 23:00:00</td>\n",
              "      <td>4.591462</td>\n",
              "      <td>10.628846</td>\n",
              "      <td>5.688961</td>\n",
              "      <td>46.663335</td>\n",
              "      <td>55.088448</td>\n",
              "      <td>10.694584</td>\n",
              "      <td>1.671644</td>\n",
              "      <td>17.910312</td>\n",
              "      <td>2.686782</td>\n",
              "      <td>...</td>\n",
              "      <td>-550.095619</td>\n",
              "      <td>9.981163</td>\n",
              "      <td>-502.869109</td>\n",
              "      <td>7.941184</td>\n",
              "      <td>-500.623610</td>\n",
              "      <td>12.018837</td>\n",
              "      <td>-600.916665</td>\n",
              "      <td>-0.0</td>\n",
              "      <td>27.102702</td>\n",
              "      <td>0.0</td>\n",
              "    </tr>\n",
              "    <tr>\n",
              "      <th>48</th>\n",
              "      <td>2016-01-17 00:00:00</td>\n",
              "      <td>5.296830</td>\n",
              "      <td>10.597469</td>\n",
              "      <td>3.997737</td>\n",
              "      <td>44.015642</td>\n",
              "      <td>41.962008</td>\n",
              "      <td>11.975654</td>\n",
              "      <td>1.846558</td>\n",
              "      <td>8.138408</td>\n",
              "      <td>2.889469</td>\n",
              "      <td>...</td>\n",
              "      <td>-550.778624</td>\n",
              "      <td>9.989726</td>\n",
              "      <td>-499.607365</td>\n",
              "      <td>7.958252</td>\n",
              "      <td>-498.882560</td>\n",
              "      <td>11.967977</td>\n",
              "      <td>-599.440603</td>\n",
              "      <td>-0.0</td>\n",
              "      <td>25.352358</td>\n",
              "      <td>0.0</td>\n",
              "    </tr>\n",
              "    <tr>\n",
              "      <th>49</th>\n",
              "      <td>2016-01-17 02:00:00</td>\n",
              "      <td>8.162896</td>\n",
              "      <td>8.877528</td>\n",
              "      <td>3.997737</td>\n",
              "      <td>40.715973</td>\n",
              "      <td>49.884856</td>\n",
              "      <td>10.381465</td>\n",
              "      <td>1.024030</td>\n",
              "      <td>12.974257</td>\n",
              "      <td>2.739224</td>\n",
              "      <td>...</td>\n",
              "      <td>-550.549773</td>\n",
              "      <td>9.941869</td>\n",
              "      <td>-503.282068</td>\n",
              "      <td>8.018850</td>\n",
              "      <td>-500.970716</td>\n",
              "      <td>11.991078</td>\n",
              "      <td>-598.475929</td>\n",
              "      <td>-0.0</td>\n",
              "      <td>40.721375</td>\n",
              "      <td>0.0</td>\n",
              "    </tr>\n",
              "    <tr>\n",
              "      <th>...</th>\n",
              "      <td>...</td>\n",
              "      <td>...</td>\n",
              "      <td>...</td>\n",
              "      <td>...</td>\n",
              "      <td>...</td>\n",
              "      <td>...</td>\n",
              "      <td>...</td>\n",
              "      <td>...</td>\n",
              "      <td>...</td>\n",
              "      <td>...</td>\n",
              "      <td>...</td>\n",
              "      <td>...</td>\n",
              "      <td>...</td>\n",
              "      <td>...</td>\n",
              "      <td>...</td>\n",
              "      <td>...</td>\n",
              "      <td>...</td>\n",
              "      <td>...</td>\n",
              "      <td>...</td>\n",
              "      <td>...</td>\n",
              "      <td>...</td>\n",
              "    </tr>\n",
              "    <tr>\n",
              "      <th>10330</th>\n",
              "      <td>2018-02-11 23:59:59</td>\n",
              "      <td>4.909904</td>\n",
              "      <td>9.941006</td>\n",
              "      <td>8.191698</td>\n",
              "      <td>47.660737</td>\n",
              "      <td>83.597741</td>\n",
              "      <td>8.853800</td>\n",
              "      <td>0.717677</td>\n",
              "      <td>13.399798</td>\n",
              "      <td>1.515512</td>\n",
              "      <td>...</td>\n",
              "      <td>-500.386063</td>\n",
              "      <td>10.998883</td>\n",
              "      <td>-499.846204</td>\n",
              "      <td>8.972741</td>\n",
              "      <td>-500.118532</td>\n",
              "      <td>10.966205</td>\n",
              "      <td>-500.707126</td>\n",
              "      <td>-0.0</td>\n",
              "      <td>58.106496</td>\n",
              "      <td>0.0</td>\n",
              "    </tr>\n",
              "    <tr>\n",
              "      <th>10331</th>\n",
              "      <td>2018-02-12 00:59:59</td>\n",
              "      <td>4.797572</td>\n",
              "      <td>9.889303</td>\n",
              "      <td>8.326773</td>\n",
              "      <td>47.801056</td>\n",
              "      <td>84.738648</td>\n",
              "      <td>8.503813</td>\n",
              "      <td>0.757507</td>\n",
              "      <td>13.591903</td>\n",
              "      <td>1.573222</td>\n",
              "      <td>...</td>\n",
              "      <td>-499.891798</td>\n",
              "      <td>11.010768</td>\n",
              "      <td>-494.562898</td>\n",
              "      <td>9.028307</td>\n",
              "      <td>-499.007596</td>\n",
              "      <td>10.978016</td>\n",
              "      <td>-497.924873</td>\n",
              "      <td>-0.0</td>\n",
              "      <td>59.500740</td>\n",
              "      <td>0.0</td>\n",
              "    </tr>\n",
              "    <tr>\n",
              "      <th>10332</th>\n",
              "      <td>2018-02-12 01:59:59</td>\n",
              "      <td>4.329492</td>\n",
              "      <td>9.413122</td>\n",
              "      <td>8.173988</td>\n",
              "      <td>49.412576</td>\n",
              "      <td>73.519948</td>\n",
              "      <td>8.846540</td>\n",
              "      <td>1.479231</td>\n",
              "      <td>13.094763</td>\n",
              "      <td>2.760905</td>\n",
              "      <td>...</td>\n",
              "      <td>-499.873967</td>\n",
              "      <td>11.034954</td>\n",
              "      <td>-493.250025</td>\n",
              "      <td>9.029441</td>\n",
              "      <td>-480.953533</td>\n",
              "      <td>11.021042</td>\n",
              "      <td>-499.685577</td>\n",
              "      <td>-0.0</td>\n",
              "      <td>60.129638</td>\n",
              "      <td>0.0</td>\n",
              "    </tr>\n",
              "    <tr>\n",
              "      <th>10333</th>\n",
              "      <td>2018-02-12 02:59:59</td>\n",
              "      <td>4.317169</td>\n",
              "      <td>9.642271</td>\n",
              "      <td>8.396492</td>\n",
              "      <td>48.839994</td>\n",
              "      <td>78.415342</td>\n",
              "      <td>8.485093</td>\n",
              "      <td>1.155559</td>\n",
              "      <td>13.380461</td>\n",
              "      <td>2.198065</td>\n",
              "      <td>...</td>\n",
              "      <td>-500.084773</td>\n",
              "      <td>10.972473</td>\n",
              "      <td>-511.806312</td>\n",
              "      <td>8.991251</td>\n",
              "      <td>-500.706169</td>\n",
              "      <td>10.990072</td>\n",
              "      <td>-499.775802</td>\n",
              "      <td>-0.0</td>\n",
              "      <td>59.267147</td>\n",
              "      <td>0.0</td>\n",
              "    </tr>\n",
              "    <tr>\n",
              "      <th>10334</th>\n",
              "      <td>2018-02-12 03:59:59</td>\n",
              "      <td>4.772368</td>\n",
              "      <td>10.273324</td>\n",
              "      <td>8.756321</td>\n",
              "      <td>47.346243</td>\n",
              "      <td>81.353620</td>\n",
              "      <td>8.900304</td>\n",
              "      <td>0.954961</td>\n",
              "      <td>13.374091</td>\n",
              "      <td>1.847744</td>\n",
              "      <td>...</td>\n",
              "      <td>-499.902077</td>\n",
              "      <td>10.982694</td>\n",
              "      <td>-499.780753</td>\n",
              "      <td>8.932517</td>\n",
              "      <td>-500.147271</td>\n",
              "      <td>11.001657</td>\n",
              "      <td>-499.736922</td>\n",
              "      <td>-0.0</td>\n",
              "      <td>59.490974</td>\n",
              "      <td>0.0</td>\n",
              "    </tr>\n",
              "  </tbody>\n",
              "</table>\n",
              "<p>297 rows × 90 columns</p>\n",
              "</div>"
            ],
            "text/plain": [
              "                      date  final.output.concentrate_ag  \\\n",
              "45     2016-01-16 21:00:00                     4.566664   \n",
              "46     2016-01-16 22:00:00                     4.577832   \n",
              "47     2016-01-16 23:00:00                     4.591462   \n",
              "48     2016-01-17 00:00:00                     5.296830   \n",
              "49     2016-01-17 02:00:00                     8.162896   \n",
              "...                    ...                          ...   \n",
              "10330  2018-02-11 23:59:59                     4.909904   \n",
              "10331  2018-02-12 00:59:59                     4.797572   \n",
              "10332  2018-02-12 01:59:59                     4.329492   \n",
              "10333  2018-02-12 02:59:59                     4.317169   \n",
              "10334  2018-02-12 03:59:59                     4.772368   \n",
              "\n",
              "       final.output.concentrate_pb  final.output.concentrate_sol  \\\n",
              "45                       10.406178                      4.588698   \n",
              "46                       10.691605                      5.274175   \n",
              "47                       10.628846                      5.688961   \n",
              "48                       10.597469                      3.997737   \n",
              "49                        8.877528                      3.997737   \n",
              "...                            ...                           ...   \n",
              "10330                     9.941006                      8.191698   \n",
              "10331                     9.889303                      8.326773   \n",
              "10332                     9.413122                      8.173988   \n",
              "10333                     9.642271                      8.396492   \n",
              "10334                    10.273324                      8.756321   \n",
              "\n",
              "       final.output.concentrate_au  final.output.recovery  \\\n",
              "45                       46.614456              68.403877   \n",
              "46                       46.250638              70.675633   \n",
              "47                       46.663335              55.088448   \n",
              "48                       44.015642              41.962008   \n",
              "49                       40.715973              49.884856   \n",
              "...                            ...                    ...   \n",
              "10330                    47.660737              83.597741   \n",
              "10331                    47.801056              84.738648   \n",
              "10332                    49.412576              73.519948   \n",
              "10333                    48.839994              78.415342   \n",
              "10334                    47.346243              81.353620   \n",
              "\n",
              "       final.output.tail_ag  final.output.tail_pb  final.output.tail_sol  \\\n",
              "45                10.705777              1.509070              17.875134   \n",
              "46                10.728531              1.641216              18.349339   \n",
              "47                10.694584              1.671644              17.910312   \n",
              "48                11.975654              1.846558               8.138408   \n",
              "49                10.381465              1.024030              12.974257   \n",
              "...                     ...                   ...                    ...   \n",
              "10330              8.853800              0.717677              13.399798   \n",
              "10331              8.503813              0.757507              13.591903   \n",
              "10332              8.846540              1.479231              13.094763   \n",
              "10333              8.485093              1.155559              13.380461   \n",
              "10334              8.900304              0.954961              13.374091   \n",
              "\n",
              "       final.output.tail_au  ...  secondary_cleaner.state.floatbank4_b_level  \\\n",
              "45                 2.509776  ...                                 -550.570104   \n",
              "46                 2.540843  ...                                 -550.496522   \n",
              "47                 2.686782  ...                                 -550.095619   \n",
              "48                 2.889469  ...                                 -550.778624   \n",
              "49                 2.739224  ...                                 -550.549773   \n",
              "...                     ...  ...                                         ...   \n",
              "10330              1.515512  ...                                 -500.386063   \n",
              "10331              1.573222  ...                                 -499.891798   \n",
              "10332              2.760905  ...                                 -499.873967   \n",
              "10333              2.198065  ...                                 -500.084773   \n",
              "10334              1.847744  ...                                 -499.902077   \n",
              "\n",
              "       secondary_cleaner.state.floatbank5_a_air  \\\n",
              "45                                    10.052072   \n",
              "46                                     9.953139   \n",
              "47                                     9.981163   \n",
              "48                                     9.989726   \n",
              "49                                     9.941869   \n",
              "...                                         ...   \n",
              "10330                                 10.998883   \n",
              "10331                                 11.010768   \n",
              "10332                                 11.034954   \n",
              "10333                                 10.972473   \n",
              "10334                                 10.982694   \n",
              "\n",
              "       secondary_cleaner.state.floatbank5_a_level  \\\n",
              "45                                    -500.797905   \n",
              "46                                    -500.330920   \n",
              "47                                    -502.869109   \n",
              "48                                    -499.607365   \n",
              "49                                    -503.282068   \n",
              "...                                           ...   \n",
              "10330                                 -499.846204   \n",
              "10331                                 -494.562898   \n",
              "10332                                 -493.250025   \n",
              "10333                                 -511.806312   \n",
              "10334                                 -499.780753   \n",
              "\n",
              "       secondary_cleaner.state.floatbank5_b_air  \\\n",
              "45                                     7.984500   \n",
              "46                                     8.012074   \n",
              "47                                     7.941184   \n",
              "48                                     7.958252   \n",
              "49                                     8.018850   \n",
              "...                                         ...   \n",
              "10330                                  8.972741   \n",
              "10331                                  9.028307   \n",
              "10332                                  9.029441   \n",
              "10333                                  8.991251   \n",
              "10334                                  8.932517   \n",
              "\n",
              "       secondary_cleaner.state.floatbank5_b_level  \\\n",
              "45                                    -499.581046   \n",
              "46                                    -500.133530   \n",
              "47                                    -500.623610   \n",
              "48                                    -498.882560   \n",
              "49                                    -500.970716   \n",
              "...                                           ...   \n",
              "10330                                 -500.118532   \n",
              "10331                                 -499.007596   \n",
              "10332                                 -480.953533   \n",
              "10333                                 -500.706169   \n",
              "10334                                 -500.147271   \n",
              "\n",
              "       secondary_cleaner.state.floatbank6_a_air  \\\n",
              "45                                    11.982025   \n",
              "46                                    11.975316   \n",
              "47                                    12.018837   \n",
              "48                                    11.967977   \n",
              "49                                    11.991078   \n",
              "...                                         ...   \n",
              "10330                                 10.966205   \n",
              "10331                                 10.978016   \n",
              "10332                                 11.021042   \n",
              "10333                                 10.990072   \n",
              "10334                                 11.001657   \n",
              "\n",
              "       secondary_cleaner.state.floatbank6_a_level  \\\n",
              "45                                    -599.161228   \n",
              "46                                    -598.839683   \n",
              "47                                    -600.916665   \n",
              "48                                    -599.440603   \n",
              "49                                    -598.475929   \n",
              "...                                           ...   \n",
              "10330                                 -500.707126   \n",
              "10331                                 -497.924873   \n",
              "10332                                 -499.685577   \n",
              "10333                                 -499.775802   \n",
              "10334                                 -499.736922   \n",
              "\n",
              "       rougher.output.recovery_fact  feed_conc  rougher_conc  \n",
              "45                             -0.0  58.602038           0.0  \n",
              "46                             -0.0  59.921613           0.0  \n",
              "47                             -0.0  27.102702           0.0  \n",
              "48                             -0.0  25.352358           0.0  \n",
              "49                             -0.0  40.721375           0.0  \n",
              "...                             ...        ...           ...  \n",
              "10330                          -0.0  58.106496           0.0  \n",
              "10331                          -0.0  59.500740           0.0  \n",
              "10332                          -0.0  60.129638           0.0  \n",
              "10333                          -0.0  59.267147           0.0  \n",
              "10334                          -0.0  59.490974           0.0  \n",
              "\n",
              "[297 rows x 90 columns]"
            ]
          },
          "metadata": {},
          "output_type": "display_data"
        }
      ],
      "source": [
        "display(df_train.loc[df_train['rougher_conc'] == 0])"
      ]
    },
    {
      "cell_type": "code",
      "execution_count": null,
      "metadata": {
        "id": "3Eo57uX18QYj",
        "outputId": "d3db4218-5d86-4b4b-9577-9af404d7f9de"
      },
      "outputs": [
        {
          "data": {
            "text/html": [
              "<div>\n",
              "<style scoped>\n",
              "    .dataframe tbody tr th:only-of-type {\n",
              "        vertical-align: middle;\n",
              "    }\n",
              "\n",
              "    .dataframe tbody tr th {\n",
              "        vertical-align: top;\n",
              "    }\n",
              "\n",
              "    .dataframe thead th {\n",
              "        text-align: right;\n",
              "    }\n",
              "</style>\n",
              "<table border=\"1\" class=\"dataframe\">\n",
              "  <thead>\n",
              "    <tr style=\"text-align: right;\">\n",
              "      <th></th>\n",
              "      <th>date</th>\n",
              "      <th>final.output.concentrate_ag</th>\n",
              "      <th>final.output.concentrate_pb</th>\n",
              "      <th>final.output.concentrate_sol</th>\n",
              "      <th>final.output.concentrate_au</th>\n",
              "      <th>final.output.recovery</th>\n",
              "      <th>final.output.tail_ag</th>\n",
              "      <th>final.output.tail_pb</th>\n",
              "      <th>final.output.tail_sol</th>\n",
              "      <th>final.output.tail_au</th>\n",
              "      <th>...</th>\n",
              "      <th>secondary_cleaner.state.floatbank4_b_level</th>\n",
              "      <th>secondary_cleaner.state.floatbank5_a_air</th>\n",
              "      <th>secondary_cleaner.state.floatbank5_a_level</th>\n",
              "      <th>secondary_cleaner.state.floatbank5_b_air</th>\n",
              "      <th>secondary_cleaner.state.floatbank5_b_level</th>\n",
              "      <th>secondary_cleaner.state.floatbank6_a_air</th>\n",
              "      <th>secondary_cleaner.state.floatbank6_a_level</th>\n",
              "      <th>rougher.output.recovery_fact</th>\n",
              "      <th>feed_conc</th>\n",
              "      <th>rougher_conc</th>\n",
              "    </tr>\n",
              "  </thead>\n",
              "  <tbody>\n",
              "    <tr>\n",
              "      <th>0</th>\n",
              "      <td>2016-01-15 00:00:00</td>\n",
              "      <td>6.055403</td>\n",
              "      <td>9.889648</td>\n",
              "      <td>5.507324</td>\n",
              "      <td>42.192020</td>\n",
              "      <td>70.541216</td>\n",
              "      <td>10.411962</td>\n",
              "      <td>0.895447</td>\n",
              "      <td>16.904297</td>\n",
              "      <td>2.143149</td>\n",
              "      <td>...</td>\n",
              "      <td>-504.715942</td>\n",
              "      <td>9.925633</td>\n",
              "      <td>-498.310211</td>\n",
              "      <td>8.079666</td>\n",
              "      <td>-500.470978</td>\n",
              "      <td>14.151341</td>\n",
              "      <td>-605.841980</td>\n",
              "      <td>87.107763</td>\n",
              "      <td>51.680034</td>\n",
              "      <td>66.424950</td>\n",
              "    </tr>\n",
              "    <tr>\n",
              "      <th>1</th>\n",
              "      <td>2016-01-15 01:00:00</td>\n",
              "      <td>6.029369</td>\n",
              "      <td>9.968944</td>\n",
              "      <td>5.257781</td>\n",
              "      <td>42.701629</td>\n",
              "      <td>69.266198</td>\n",
              "      <td>10.462676</td>\n",
              "      <td>0.927452</td>\n",
              "      <td>16.634514</td>\n",
              "      <td>2.224930</td>\n",
              "      <td>...</td>\n",
              "      <td>-501.331529</td>\n",
              "      <td>10.039245</td>\n",
              "      <td>-500.169983</td>\n",
              "      <td>7.984757</td>\n",
              "      <td>-500.582168</td>\n",
              "      <td>13.998353</td>\n",
              "      <td>-599.787184</td>\n",
              "      <td>86.843261</td>\n",
              "      <td>50.659114</td>\n",
              "      <td>67.012710</td>\n",
              "    </tr>\n",
              "    <tr>\n",
              "      <th>2</th>\n",
              "      <td>2016-01-15 02:00:00</td>\n",
              "      <td>6.055926</td>\n",
              "      <td>10.213995</td>\n",
              "      <td>5.383759</td>\n",
              "      <td>42.657501</td>\n",
              "      <td>68.116445</td>\n",
              "      <td>10.507046</td>\n",
              "      <td>0.953716</td>\n",
              "      <td>16.208849</td>\n",
              "      <td>2.257889</td>\n",
              "      <td>...</td>\n",
              "      <td>-501.133383</td>\n",
              "      <td>10.070913</td>\n",
              "      <td>-500.129135</td>\n",
              "      <td>8.013877</td>\n",
              "      <td>-500.517572</td>\n",
              "      <td>14.028663</td>\n",
              "      <td>-601.427363</td>\n",
              "      <td>86.842308</td>\n",
              "      <td>50.609929</td>\n",
              "      <td>66.103793</td>\n",
              "    </tr>\n",
              "    <tr>\n",
              "      <th>3</th>\n",
              "      <td>2016-01-15 03:00:00</td>\n",
              "      <td>6.047977</td>\n",
              "      <td>9.977019</td>\n",
              "      <td>4.858634</td>\n",
              "      <td>42.689819</td>\n",
              "      <td>68.347543</td>\n",
              "      <td>10.422762</td>\n",
              "      <td>0.883763</td>\n",
              "      <td>16.532835</td>\n",
              "      <td>2.146849</td>\n",
              "      <td>...</td>\n",
              "      <td>-501.193686</td>\n",
              "      <td>9.970366</td>\n",
              "      <td>-499.201640</td>\n",
              "      <td>7.977324</td>\n",
              "      <td>-500.255908</td>\n",
              "      <td>14.005551</td>\n",
              "      <td>-599.996129</td>\n",
              "      <td>87.226430</td>\n",
              "      <td>51.061546</td>\n",
              "      <td>65.752751</td>\n",
              "    </tr>\n",
              "    <tr>\n",
              "      <th>4</th>\n",
              "      <td>2016-01-15 04:00:00</td>\n",
              "      <td>6.148599</td>\n",
              "      <td>10.142511</td>\n",
              "      <td>4.939416</td>\n",
              "      <td>42.774141</td>\n",
              "      <td>66.927016</td>\n",
              "      <td>10.360302</td>\n",
              "      <td>0.792826</td>\n",
              "      <td>16.525686</td>\n",
              "      <td>2.055292</td>\n",
              "      <td>...</td>\n",
              "      <td>-501.053894</td>\n",
              "      <td>9.925709</td>\n",
              "      <td>-501.686727</td>\n",
              "      <td>7.894242</td>\n",
              "      <td>-500.356035</td>\n",
              "      <td>13.996647</td>\n",
              "      <td>-601.496691</td>\n",
              "      <td>86.688794</td>\n",
              "      <td>47.859163</td>\n",
              "      <td>65.908382</td>\n",
              "    </tr>\n",
              "    <tr>\n",
              "      <th>...</th>\n",
              "      <td>...</td>\n",
              "      <td>...</td>\n",
              "      <td>...</td>\n",
              "      <td>...</td>\n",
              "      <td>...</td>\n",
              "      <td>...</td>\n",
              "      <td>...</td>\n",
              "      <td>...</td>\n",
              "      <td>...</td>\n",
              "      <td>...</td>\n",
              "      <td>...</td>\n",
              "      <td>...</td>\n",
              "      <td>...</td>\n",
              "      <td>...</td>\n",
              "      <td>...</td>\n",
              "      <td>...</td>\n",
              "      <td>...</td>\n",
              "      <td>...</td>\n",
              "      <td>...</td>\n",
              "      <td>...</td>\n",
              "      <td>...</td>\n",
              "    </tr>\n",
              "    <tr>\n",
              "      <th>14144</th>\n",
              "      <td>2018-08-18 06:59:59</td>\n",
              "      <td>3.224920</td>\n",
              "      <td>11.356233</td>\n",
              "      <td>6.803482</td>\n",
              "      <td>46.713954</td>\n",
              "      <td>73.755150</td>\n",
              "      <td>8.769645</td>\n",
              "      <td>3.141541</td>\n",
              "      <td>10.403181</td>\n",
              "      <td>1.529220</td>\n",
              "      <td>...</td>\n",
              "      <td>-499.740028</td>\n",
              "      <td>18.006038</td>\n",
              "      <td>-499.834374</td>\n",
              "      <td>13.001114</td>\n",
              "      <td>-500.155694</td>\n",
              "      <td>20.007840</td>\n",
              "      <td>-501.296428</td>\n",
              "      <td>89.574376</td>\n",
              "      <td>53.415050</td>\n",
              "      <td>70.781325</td>\n",
              "    </tr>\n",
              "    <tr>\n",
              "      <th>14145</th>\n",
              "      <td>2018-08-18 07:59:59</td>\n",
              "      <td>3.195978</td>\n",
              "      <td>11.349355</td>\n",
              "      <td>6.862249</td>\n",
              "      <td>46.866780</td>\n",
              "      <td>69.049291</td>\n",
              "      <td>8.897321</td>\n",
              "      <td>3.130493</td>\n",
              "      <td>10.549470</td>\n",
              "      <td>1.612542</td>\n",
              "      <td>...</td>\n",
              "      <td>-500.251357</td>\n",
              "      <td>17.998535</td>\n",
              "      <td>-500.395178</td>\n",
              "      <td>12.954048</td>\n",
              "      <td>-499.895163</td>\n",
              "      <td>19.968498</td>\n",
              "      <td>-501.041608</td>\n",
              "      <td>87.724007</td>\n",
              "      <td>53.696482</td>\n",
              "      <td>70.539603</td>\n",
              "    </tr>\n",
              "    <tr>\n",
              "      <th>14146</th>\n",
              "      <td>2018-08-18 08:59:59</td>\n",
              "      <td>3.109998</td>\n",
              "      <td>11.434366</td>\n",
              "      <td>6.886013</td>\n",
              "      <td>46.795691</td>\n",
              "      <td>67.002189</td>\n",
              "      <td>8.529606</td>\n",
              "      <td>2.911418</td>\n",
              "      <td>11.115147</td>\n",
              "      <td>1.596616</td>\n",
              "      <td>...</td>\n",
              "      <td>-499.857027</td>\n",
              "      <td>18.019543</td>\n",
              "      <td>-500.451156</td>\n",
              "      <td>13.023431</td>\n",
              "      <td>-499.914391</td>\n",
              "      <td>19.990885</td>\n",
              "      <td>-501.518452</td>\n",
              "      <td>88.890579</td>\n",
              "      <td>54.589604</td>\n",
              "      <td>55.376330</td>\n",
              "    </tr>\n",
              "    <tr>\n",
              "      <th>14147</th>\n",
              "      <td>2018-08-18 09:59:59</td>\n",
              "      <td>3.367241</td>\n",
              "      <td>11.625587</td>\n",
              "      <td>6.799433</td>\n",
              "      <td>46.408188</td>\n",
              "      <td>65.523246</td>\n",
              "      <td>8.777171</td>\n",
              "      <td>2.819214</td>\n",
              "      <td>10.463847</td>\n",
              "      <td>1.602879</td>\n",
              "      <td>...</td>\n",
              "      <td>-500.314711</td>\n",
              "      <td>17.979515</td>\n",
              "      <td>-499.272871</td>\n",
              "      <td>12.992404</td>\n",
              "      <td>-499.976268</td>\n",
              "      <td>20.013986</td>\n",
              "      <td>-500.625471</td>\n",
              "      <td>89.858126</td>\n",
              "      <td>54.027355</td>\n",
              "      <td>69.201689</td>\n",
              "    </tr>\n",
              "    <tr>\n",
              "      <th>14148</th>\n",
              "      <td>2018-08-18 10:59:59</td>\n",
              "      <td>3.598375</td>\n",
              "      <td>11.737832</td>\n",
              "      <td>6.717509</td>\n",
              "      <td>46.299438</td>\n",
              "      <td>70.281454</td>\n",
              "      <td>8.406690</td>\n",
              "      <td>2.517518</td>\n",
              "      <td>10.652193</td>\n",
              "      <td>1.389434</td>\n",
              "      <td>...</td>\n",
              "      <td>-500.220296</td>\n",
              "      <td>17.963512</td>\n",
              "      <td>-499.939490</td>\n",
              "      <td>12.990306</td>\n",
              "      <td>-500.080993</td>\n",
              "      <td>19.990336</td>\n",
              "      <td>-499.191575</td>\n",
              "      <td>89.514960</td>\n",
              "      <td>53.535054</td>\n",
              "      <td>69.544003</td>\n",
              "    </tr>\n",
              "  </tbody>\n",
              "</table>\n",
              "<p>14149 rows × 90 columns</p>\n",
              "</div>"
            ],
            "text/plain": [
              "                      date  final.output.concentrate_ag  \\\n",
              "0      2016-01-15 00:00:00                     6.055403   \n",
              "1      2016-01-15 01:00:00                     6.029369   \n",
              "2      2016-01-15 02:00:00                     6.055926   \n",
              "3      2016-01-15 03:00:00                     6.047977   \n",
              "4      2016-01-15 04:00:00                     6.148599   \n",
              "...                    ...                          ...   \n",
              "14144  2018-08-18 06:59:59                     3.224920   \n",
              "14145  2018-08-18 07:59:59                     3.195978   \n",
              "14146  2018-08-18 08:59:59                     3.109998   \n",
              "14147  2018-08-18 09:59:59                     3.367241   \n",
              "14148  2018-08-18 10:59:59                     3.598375   \n",
              "\n",
              "       final.output.concentrate_pb  final.output.concentrate_sol  \\\n",
              "0                         9.889648                      5.507324   \n",
              "1                         9.968944                      5.257781   \n",
              "2                        10.213995                      5.383759   \n",
              "3                         9.977019                      4.858634   \n",
              "4                        10.142511                      4.939416   \n",
              "...                            ...                           ...   \n",
              "14144                    11.356233                      6.803482   \n",
              "14145                    11.349355                      6.862249   \n",
              "14146                    11.434366                      6.886013   \n",
              "14147                    11.625587                      6.799433   \n",
              "14148                    11.737832                      6.717509   \n",
              "\n",
              "       final.output.concentrate_au  final.output.recovery  \\\n",
              "0                        42.192020              70.541216   \n",
              "1                        42.701629              69.266198   \n",
              "2                        42.657501              68.116445   \n",
              "3                        42.689819              68.347543   \n",
              "4                        42.774141              66.927016   \n",
              "...                            ...                    ...   \n",
              "14144                    46.713954              73.755150   \n",
              "14145                    46.866780              69.049291   \n",
              "14146                    46.795691              67.002189   \n",
              "14147                    46.408188              65.523246   \n",
              "14148                    46.299438              70.281454   \n",
              "\n",
              "       final.output.tail_ag  final.output.tail_pb  final.output.tail_sol  \\\n",
              "0                 10.411962              0.895447              16.904297   \n",
              "1                 10.462676              0.927452              16.634514   \n",
              "2                 10.507046              0.953716              16.208849   \n",
              "3                 10.422762              0.883763              16.532835   \n",
              "4                 10.360302              0.792826              16.525686   \n",
              "...                     ...                   ...                    ...   \n",
              "14144              8.769645              3.141541              10.403181   \n",
              "14145              8.897321              3.130493              10.549470   \n",
              "14146              8.529606              2.911418              11.115147   \n",
              "14147              8.777171              2.819214              10.463847   \n",
              "14148              8.406690              2.517518              10.652193   \n",
              "\n",
              "       final.output.tail_au  ...  secondary_cleaner.state.floatbank4_b_level  \\\n",
              "0                  2.143149  ...                                 -504.715942   \n",
              "1                  2.224930  ...                                 -501.331529   \n",
              "2                  2.257889  ...                                 -501.133383   \n",
              "3                  2.146849  ...                                 -501.193686   \n",
              "4                  2.055292  ...                                 -501.053894   \n",
              "...                     ...  ...                                         ...   \n",
              "14144              1.529220  ...                                 -499.740028   \n",
              "14145              1.612542  ...                                 -500.251357   \n",
              "14146              1.596616  ...                                 -499.857027   \n",
              "14147              1.602879  ...                                 -500.314711   \n",
              "14148              1.389434  ...                                 -500.220296   \n",
              "\n",
              "       secondary_cleaner.state.floatbank5_a_air  \\\n",
              "0                                      9.925633   \n",
              "1                                     10.039245   \n",
              "2                                     10.070913   \n",
              "3                                      9.970366   \n",
              "4                                      9.925709   \n",
              "...                                         ...   \n",
              "14144                                 18.006038   \n",
              "14145                                 17.998535   \n",
              "14146                                 18.019543   \n",
              "14147                                 17.979515   \n",
              "14148                                 17.963512   \n",
              "\n",
              "       secondary_cleaner.state.floatbank5_a_level  \\\n",
              "0                                     -498.310211   \n",
              "1                                     -500.169983   \n",
              "2                                     -500.129135   \n",
              "3                                     -499.201640   \n",
              "4                                     -501.686727   \n",
              "...                                           ...   \n",
              "14144                                 -499.834374   \n",
              "14145                                 -500.395178   \n",
              "14146                                 -500.451156   \n",
              "14147                                 -499.272871   \n",
              "14148                                 -499.939490   \n",
              "\n",
              "       secondary_cleaner.state.floatbank5_b_air  \\\n",
              "0                                      8.079666   \n",
              "1                                      7.984757   \n",
              "2                                      8.013877   \n",
              "3                                      7.977324   \n",
              "4                                      7.894242   \n",
              "...                                         ...   \n",
              "14144                                 13.001114   \n",
              "14145                                 12.954048   \n",
              "14146                                 13.023431   \n",
              "14147                                 12.992404   \n",
              "14148                                 12.990306   \n",
              "\n",
              "       secondary_cleaner.state.floatbank5_b_level  \\\n",
              "0                                     -500.470978   \n",
              "1                                     -500.582168   \n",
              "2                                     -500.517572   \n",
              "3                                     -500.255908   \n",
              "4                                     -500.356035   \n",
              "...                                           ...   \n",
              "14144                                 -500.155694   \n",
              "14145                                 -499.895163   \n",
              "14146                                 -499.914391   \n",
              "14147                                 -499.976268   \n",
              "14148                                 -500.080993   \n",
              "\n",
              "       secondary_cleaner.state.floatbank6_a_air  \\\n",
              "0                                     14.151341   \n",
              "1                                     13.998353   \n",
              "2                                     14.028663   \n",
              "3                                     14.005551   \n",
              "4                                     13.996647   \n",
              "...                                         ...   \n",
              "14144                                 20.007840   \n",
              "14145                                 19.968498   \n",
              "14146                                 19.990885   \n",
              "14147                                 20.013986   \n",
              "14148                                 19.990336   \n",
              "\n",
              "       secondary_cleaner.state.floatbank6_a_level  \\\n",
              "0                                     -605.841980   \n",
              "1                                     -599.787184   \n",
              "2                                     -601.427363   \n",
              "3                                     -599.996129   \n",
              "4                                     -601.496691   \n",
              "...                                           ...   \n",
              "14144                                 -501.296428   \n",
              "14145                                 -501.041608   \n",
              "14146                                 -501.518452   \n",
              "14147                                 -500.625471   \n",
              "14148                                 -499.191575   \n",
              "\n",
              "       rougher.output.recovery_fact  feed_conc  rougher_conc  \n",
              "0                         87.107763  51.680034     66.424950  \n",
              "1                         86.843261  50.659114     67.012710  \n",
              "2                         86.842308  50.609929     66.103793  \n",
              "3                         87.226430  51.061546     65.752751  \n",
              "4                         86.688794  47.859163     65.908382  \n",
              "...                             ...        ...           ...  \n",
              "14144                     89.574376  53.415050     70.781325  \n",
              "14145                     87.724007  53.696482     70.539603  \n",
              "14146                     88.890579  54.589604     55.376330  \n",
              "14147                     89.858126  54.027355     69.201689  \n",
              "14148                     89.514960  53.535054     69.544003  \n",
              "\n",
              "[14149 rows x 90 columns]"
            ]
          },
          "execution_count": 26,
          "metadata": {},
          "output_type": "execute_result"
        }
      ],
      "source": [
        "df_train.dropna(subset=['rougher_conc'])"
      ]
    },
    {
      "cell_type": "code",
      "execution_count": null,
      "metadata": {
        "id": "15KcTrqg8QYk"
      },
      "outputs": [],
      "source": [
        "df_train['final_conc'] = df_train['final.output.concentrate_ag'] + df_train['final.output.concentrate_pb'] + df_train['final.output.concentrate_sol'] + df_train['final.output.concentrate_au']"
      ]
    },
    {
      "cell_type": "code",
      "execution_count": null,
      "metadata": {
        "id": "5sXYsvvF8QYl",
        "outputId": "b5b33f83-41bf-4fca-c740-0b7f291338cb"
      },
      "outputs": [
        {
          "data": {
            "text/plain": [
              "<AxesSubplot:>"
            ]
          },
          "execution_count": 28,
          "metadata": {},
          "output_type": "execute_result"
        },
        {
          "data": {
            "image/png": "[encoded data removed]",
            "text/plain": [
              "<Figure size 432x288 with 1 Axes>"
            ]
          },
          "metadata": {
            "needs_background": "light"
          },
          "output_type": "display_data"
        }
      ],
      "source": [
        "df_train['final_conc'].hist()"
      ]
    },
    {
      "cell_type": "code",
      "execution_count": null,
      "metadata": {
        "id": "NQ9cPSzU8QYm",
        "outputId": "9a8b823a-1a3d-4194-89bd-ee446b6f1242"
      },
      "outputs": [
        {
          "data": {
            "text/html": [
              "<div>\n",
              "<style scoped>\n",
              "    .dataframe tbody tr th:only-of-type {\n",
              "        vertical-align: middle;\n",
              "    }\n",
              "\n",
              "    .dataframe tbody tr th {\n",
              "        vertical-align: top;\n",
              "    }\n",
              "\n",
              "    .dataframe thead th {\n",
              "        text-align: right;\n",
              "    }\n",
              "</style>\n",
              "<table border=\"1\" class=\"dataframe\">\n",
              "  <thead>\n",
              "    <tr style=\"text-align: right;\">\n",
              "      <th></th>\n",
              "      <th>date</th>\n",
              "      <th>final.output.concentrate_ag</th>\n",
              "      <th>final.output.concentrate_pb</th>\n",
              "      <th>final.output.concentrate_sol</th>\n",
              "      <th>final.output.concentrate_au</th>\n",
              "      <th>final.output.recovery</th>\n",
              "      <th>final.output.tail_ag</th>\n",
              "      <th>final.output.tail_pb</th>\n",
              "      <th>final.output.tail_sol</th>\n",
              "      <th>final.output.tail_au</th>\n",
              "      <th>...</th>\n",
              "      <th>secondary_cleaner.state.floatbank5_a_air</th>\n",
              "      <th>secondary_cleaner.state.floatbank5_a_level</th>\n",
              "      <th>secondary_cleaner.state.floatbank5_b_air</th>\n",
              "      <th>secondary_cleaner.state.floatbank5_b_level</th>\n",
              "      <th>secondary_cleaner.state.floatbank6_a_air</th>\n",
              "      <th>secondary_cleaner.state.floatbank6_a_level</th>\n",
              "      <th>rougher.output.recovery_fact</th>\n",
              "      <th>feed_conc</th>\n",
              "      <th>rougher_conc</th>\n",
              "      <th>final_conc</th>\n",
              "    </tr>\n",
              "  </thead>\n",
              "  <tbody>\n",
              "    <tr>\n",
              "      <th>644</th>\n",
              "      <td>2016-02-13 11:00:00</td>\n",
              "      <td>0.0</td>\n",
              "      <td>0.0</td>\n",
              "      <td>0.0</td>\n",
              "      <td>0.0</td>\n",
              "      <td>0.0</td>\n",
              "      <td>8.894029</td>\n",
              "      <td>0.843584</td>\n",
              "      <td>15.417342</td>\n",
              "      <td>1.779052</td>\n",
              "      <td>...</td>\n",
              "      <td>22.995012</td>\n",
              "      <td>-399.370680</td>\n",
              "      <td>20.966863</td>\n",
              "      <td>-399.308354</td>\n",
              "      <td>24.987274</td>\n",
              "      <td>-399.619808</td>\n",
              "      <td>68.960993</td>\n",
              "      <td>46.703740</td>\n",
              "      <td>56.574778</td>\n",
              "      <td>0.0</td>\n",
              "    </tr>\n",
              "    <tr>\n",
              "      <th>1193</th>\n",
              "      <td>2016-03-11 10:00:00</td>\n",
              "      <td>0.0</td>\n",
              "      <td>0.0</td>\n",
              "      <td>0.0</td>\n",
              "      <td>0.0</td>\n",
              "      <td>0.0</td>\n",
              "      <td>10.817313</td>\n",
              "      <td>1.462800</td>\n",
              "      <td>16.407607</td>\n",
              "      <td>2.984504</td>\n",
              "      <td>...</td>\n",
              "      <td>11.982937</td>\n",
              "      <td>-449.856468</td>\n",
              "      <td>9.927727</td>\n",
              "      <td>-450.521700</td>\n",
              "      <td>19.971682</td>\n",
              "      <td>-500.685521</td>\n",
              "      <td>82.787322</td>\n",
              "      <td>53.368945</td>\n",
              "      <td>61.681632</td>\n",
              "      <td>0.0</td>\n",
              "    </tr>\n",
              "    <tr>\n",
              "      <th>1194</th>\n",
              "      <td>2016-03-11 11:00:00</td>\n",
              "      <td>0.0</td>\n",
              "      <td>0.0</td>\n",
              "      <td>0.0</td>\n",
              "      <td>0.0</td>\n",
              "      <td>0.0</td>\n",
              "      <td>10.436792</td>\n",
              "      <td>1.207636</td>\n",
              "      <td>17.800392</td>\n",
              "      <td>2.747294</td>\n",
              "      <td>...</td>\n",
              "      <td>11.844983</td>\n",
              "      <td>-450.881424</td>\n",
              "      <td>9.916784</td>\n",
              "      <td>-449.542871</td>\n",
              "      <td>20.004767</td>\n",
              "      <td>-500.137068</td>\n",
              "      <td>83.515262</td>\n",
              "      <td>51.963364</td>\n",
              "      <td>60.214950</td>\n",
              "      <td>0.0</td>\n",
              "    </tr>\n",
              "    <tr>\n",
              "      <th>1195</th>\n",
              "      <td>2016-03-11 12:00:00</td>\n",
              "      <td>0.0</td>\n",
              "      <td>0.0</td>\n",
              "      <td>0.0</td>\n",
              "      <td>0.0</td>\n",
              "      <td>0.0</td>\n",
              "      <td>10.637073</td>\n",
              "      <td>1.405778</td>\n",
              "      <td>17.195897</td>\n",
              "      <td>2.791440</td>\n",
              "      <td>...</td>\n",
              "      <td>12.091144</td>\n",
              "      <td>-496.404140</td>\n",
              "      <td>9.976074</td>\n",
              "      <td>-496.783155</td>\n",
              "      <td>19.921634</td>\n",
              "      <td>-500.769011</td>\n",
              "      <td>83.702224</td>\n",
              "      <td>48.892687</td>\n",
              "      <td>58.592426</td>\n",
              "      <td>0.0</td>\n",
              "    </tr>\n",
              "    <tr>\n",
              "      <th>1196</th>\n",
              "      <td>2016-03-11 13:00:00</td>\n",
              "      <td>0.0</td>\n",
              "      <td>0.0</td>\n",
              "      <td>0.0</td>\n",
              "      <td>0.0</td>\n",
              "      <td>0.0</td>\n",
              "      <td>10.530320</td>\n",
              "      <td>1.461550</td>\n",
              "      <td>17.556860</td>\n",
              "      <td>2.682127</td>\n",
              "      <td>...</td>\n",
              "      <td>12.078809</td>\n",
              "      <td>-499.903743</td>\n",
              "      <td>10.075259</td>\n",
              "      <td>-499.540325</td>\n",
              "      <td>20.039788</td>\n",
              "      <td>-499.932405</td>\n",
              "      <td>84.836821</td>\n",
              "      <td>49.265736</td>\n",
              "      <td>58.363177</td>\n",
              "      <td>0.0</td>\n",
              "    </tr>\n",
              "    <tr>\n",
              "      <th>1682</th>\n",
              "      <td>2016-04-09 17:00:00</td>\n",
              "      <td>0.0</td>\n",
              "      <td>0.0</td>\n",
              "      <td>0.0</td>\n",
              "      <td>0.0</td>\n",
              "      <td>0.0</td>\n",
              "      <td>2.943613</td>\n",
              "      <td>1.089791</td>\n",
              "      <td>4.050067</td>\n",
              "      <td>2.443084</td>\n",
              "      <td>...</td>\n",
              "      <td>12.012947</td>\n",
              "      <td>-498.936345</td>\n",
              "      <td>9.989854</td>\n",
              "      <td>-800.001639</td>\n",
              "      <td>19.960963</td>\n",
              "      <td>-500.498255</td>\n",
              "      <td>-0.000000</td>\n",
              "      <td>44.882879</td>\n",
              "      <td>0.000000</td>\n",
              "      <td>0.0</td>\n",
              "    </tr>\n",
              "    <tr>\n",
              "      <th>2019</th>\n",
              "      <td>2016-05-01 23:59:59</td>\n",
              "      <td>0.0</td>\n",
              "      <td>0.0</td>\n",
              "      <td>0.0</td>\n",
              "      <td>0.0</td>\n",
              "      <td>0.0</td>\n",
              "      <td>2.229996</td>\n",
              "      <td>0.439314</td>\n",
              "      <td>2.996147</td>\n",
              "      <td>1.049438</td>\n",
              "      <td>...</td>\n",
              "      <td>8.851882</td>\n",
              "      <td>-503.279765</td>\n",
              "      <td>9.037939</td>\n",
              "      <td>-500.400661</td>\n",
              "      <td>15.999356</td>\n",
              "      <td>-509.449510</td>\n",
              "      <td>65.593784</td>\n",
              "      <td>57.115449</td>\n",
              "      <td>82.097253</td>\n",
              "      <td>0.0</td>\n",
              "    </tr>\n",
              "    <tr>\n",
              "      <th>2020</th>\n",
              "      <td>2016-05-02 00:59:59</td>\n",
              "      <td>0.0</td>\n",
              "      <td>0.0</td>\n",
              "      <td>0.0</td>\n",
              "      <td>0.0</td>\n",
              "      <td>0.0</td>\n",
              "      <td>8.816376</td>\n",
              "      <td>1.692314</td>\n",
              "      <td>12.001629</td>\n",
              "      <td>3.949153</td>\n",
              "      <td>...</td>\n",
              "      <td>8.972976</td>\n",
              "      <td>-498.876974</td>\n",
              "      <td>9.070907</td>\n",
              "      <td>-499.455708</td>\n",
              "      <td>16.026009</td>\n",
              "      <td>-492.939580</td>\n",
              "      <td>76.468239</td>\n",
              "      <td>56.001311</td>\n",
              "      <td>80.583896</td>\n",
              "      <td>0.0</td>\n",
              "    </tr>\n",
              "    <tr>\n",
              "      <th>2236</th>\n",
              "      <td>2016-05-11 01:59:59</td>\n",
              "      <td>0.0</td>\n",
              "      <td>0.0</td>\n",
              "      <td>0.0</td>\n",
              "      <td>0.0</td>\n",
              "      <td>0.0</td>\n",
              "      <td>7.567252</td>\n",
              "      <td>1.991327</td>\n",
              "      <td>12.977099</td>\n",
              "      <td>3.170143</td>\n",
              "      <td>...</td>\n",
              "      <td>11.025995</td>\n",
              "      <td>-501.002632</td>\n",
              "      <td>6.093285</td>\n",
              "      <td>-500.452445</td>\n",
              "      <td>20.023462</td>\n",
              "      <td>-500.365653</td>\n",
              "      <td>69.679278</td>\n",
              "      <td>56.164944</td>\n",
              "      <td>76.009105</td>\n",
              "      <td>0.0</td>\n",
              "    </tr>\n",
              "    <tr>\n",
              "      <th>3394</th>\n",
              "      <td>2016-07-06 04:59:59</td>\n",
              "      <td>0.0</td>\n",
              "      <td>0.0</td>\n",
              "      <td>0.0</td>\n",
              "      <td>0.0</td>\n",
              "      <td>0.0</td>\n",
              "      <td>6.266939</td>\n",
              "      <td>2.146631</td>\n",
              "      <td>7.240419</td>\n",
              "      <td>3.552111</td>\n",
              "      <td>...</td>\n",
              "      <td>16.993432</td>\n",
              "      <td>-501.022669</td>\n",
              "      <td>14.951274</td>\n",
              "      <td>-499.908216</td>\n",
              "      <td>24.984095</td>\n",
              "      <td>-499.000500</td>\n",
              "      <td>65.867550</td>\n",
              "      <td>51.820284</td>\n",
              "      <td>70.389606</td>\n",
              "      <td>0.0</td>\n",
              "    </tr>\n",
              "    <tr>\n",
              "      <th>3395</th>\n",
              "      <td>2016-07-06 05:59:59</td>\n",
              "      <td>0.0</td>\n",
              "      <td>0.0</td>\n",
              "      <td>0.0</td>\n",
              "      <td>0.0</td>\n",
              "      <td>0.0</td>\n",
              "      <td>6.156921</td>\n",
              "      <td>2.036552</td>\n",
              "      <td>8.240251</td>\n",
              "      <td>3.398861</td>\n",
              "      <td>...</td>\n",
              "      <td>16.938729</td>\n",
              "      <td>-500.901347</td>\n",
              "      <td>15.060903</td>\n",
              "      <td>-500.161562</td>\n",
              "      <td>24.958637</td>\n",
              "      <td>-499.600205</td>\n",
              "      <td>68.843299</td>\n",
              "      <td>43.460811</td>\n",
              "      <td>75.028906</td>\n",
              "      <td>0.0</td>\n",
              "    </tr>\n",
              "    <tr>\n",
              "      <th>3396</th>\n",
              "      <td>2016-07-06 06:59:59</td>\n",
              "      <td>0.0</td>\n",
              "      <td>0.0</td>\n",
              "      <td>0.0</td>\n",
              "      <td>0.0</td>\n",
              "      <td>0.0</td>\n",
              "      <td>2.537365</td>\n",
              "      <td>0.939253</td>\n",
              "      <td>5.531964</td>\n",
              "      <td>2.174925</td>\n",
              "      <td>...</td>\n",
              "      <td>16.607490</td>\n",
              "      <td>-498.514638</td>\n",
              "      <td>11.109718</td>\n",
              "      <td>-499.611735</td>\n",
              "      <td>25.025326</td>\n",
              "      <td>-499.049808</td>\n",
              "      <td>51.848537</td>\n",
              "      <td>44.494328</td>\n",
              "      <td>81.550911</td>\n",
              "      <td>0.0</td>\n",
              "    </tr>\n",
              "    <tr>\n",
              "      <th>3397</th>\n",
              "      <td>2016-07-06 08:59:59</td>\n",
              "      <td>0.0</td>\n",
              "      <td>0.0</td>\n",
              "      <td>0.0</td>\n",
              "      <td>0.0</td>\n",
              "      <td>0.0</td>\n",
              "      <td>3.096506</td>\n",
              "      <td>1.131179</td>\n",
              "      <td>4.534668</td>\n",
              "      <td>1.889405</td>\n",
              "      <td>...</td>\n",
              "      <td>16.108189</td>\n",
              "      <td>-499.633768</td>\n",
              "      <td>7.118001</td>\n",
              "      <td>-498.021312</td>\n",
              "      <td>24.972537</td>\n",
              "      <td>-499.106327</td>\n",
              "      <td>66.901459</td>\n",
              "      <td>48.750469</td>\n",
              "      <td>79.137508</td>\n",
              "      <td>0.0</td>\n",
              "    </tr>\n",
              "    <tr>\n",
              "      <th>3400</th>\n",
              "      <td>2016-07-06 12:59:59</td>\n",
              "      <td>0.0</td>\n",
              "      <td>0.0</td>\n",
              "      <td>0.0</td>\n",
              "      <td>0.0</td>\n",
              "      <td>0.0</td>\n",
              "      <td>6.478243</td>\n",
              "      <td>2.473995</td>\n",
              "      <td>12.423850</td>\n",
              "      <td>4.054269</td>\n",
              "      <td>...</td>\n",
              "      <td>16.074222</td>\n",
              "      <td>-495.402269</td>\n",
              "      <td>7.103943</td>\n",
              "      <td>-494.064445</td>\n",
              "      <td>25.024849</td>\n",
              "      <td>-495.267385</td>\n",
              "      <td>63.063015</td>\n",
              "      <td>53.400670</td>\n",
              "      <td>71.437930</td>\n",
              "      <td>0.0</td>\n",
              "    </tr>\n",
              "    <tr>\n",
              "      <th>4215</th>\n",
              "      <td>2016-08-11 20:59:59</td>\n",
              "      <td>0.0</td>\n",
              "      <td>0.0</td>\n",
              "      <td>0.0</td>\n",
              "      <td>0.0</td>\n",
              "      <td>0.0</td>\n",
              "      <td>1.353362</td>\n",
              "      <td>0.470696</td>\n",
              "      <td>1.235183</td>\n",
              "      <td>1.021143</td>\n",
              "      <td>...</td>\n",
              "      <td>9.137868</td>\n",
              "      <td>-419.643823</td>\n",
              "      <td>4.933871</td>\n",
              "      <td>-402.132394</td>\n",
              "      <td>23.005263</td>\n",
              "      <td>-502.319385</td>\n",
              "      <td>34.915704</td>\n",
              "      <td>61.331725</td>\n",
              "      <td>80.824756</td>\n",
              "      <td>0.0</td>\n",
              "    </tr>\n",
              "    <tr>\n",
              "      <th>4314</th>\n",
              "      <td>2016-08-15 23:59:59</td>\n",
              "      <td>0.0</td>\n",
              "      <td>0.0</td>\n",
              "      <td>0.0</td>\n",
              "      <td>0.0</td>\n",
              "      <td>0.0</td>\n",
              "      <td>10.796039</td>\n",
              "      <td>2.582106</td>\n",
              "      <td>11.105074</td>\n",
              "      <td>3.231677</td>\n",
              "      <td>...</td>\n",
              "      <td>15.086155</td>\n",
              "      <td>-396.783371</td>\n",
              "      <td>4.961631</td>\n",
              "      <td>-400.638627</td>\n",
              "      <td>23.037383</td>\n",
              "      <td>-498.990216</td>\n",
              "      <td>87.214508</td>\n",
              "      <td>64.180280</td>\n",
              "      <td>69.024288</td>\n",
              "      <td>0.0</td>\n",
              "    </tr>\n",
              "    <tr>\n",
              "      <th>4564</th>\n",
              "      <td>2016-08-26 20:59:59</td>\n",
              "      <td>0.0</td>\n",
              "      <td>0.0</td>\n",
              "      <td>0.0</td>\n",
              "      <td>0.0</td>\n",
              "      <td>0.0</td>\n",
              "      <td>3.697301</td>\n",
              "      <td>1.378608</td>\n",
              "      <td>3.952049</td>\n",
              "      <td>2.579844</td>\n",
              "      <td>...</td>\n",
              "      <td>9.913467</td>\n",
              "      <td>-501.698056</td>\n",
              "      <td>5.011314</td>\n",
              "      <td>-500.390274</td>\n",
              "      <td>24.919704</td>\n",
              "      <td>-502.454004</td>\n",
              "      <td>88.826382</td>\n",
              "      <td>55.733560</td>\n",
              "      <td>38.335303</td>\n",
              "      <td>0.0</td>\n",
              "    </tr>\n",
              "    <tr>\n",
              "      <th>4652</th>\n",
              "      <td>2016-08-30 18:59:59</td>\n",
              "      <td>0.0</td>\n",
              "      <td>0.0</td>\n",
              "      <td>0.0</td>\n",
              "      <td>0.0</td>\n",
              "      <td>0.0</td>\n",
              "      <td>7.904183</td>\n",
              "      <td>3.193653</td>\n",
              "      <td>3.656295</td>\n",
              "      <td>4.823467</td>\n",
              "      <td>...</td>\n",
              "      <td>8.043159</td>\n",
              "      <td>-500.391386</td>\n",
              "      <td>4.878516</td>\n",
              "      <td>-499.922582</td>\n",
              "      <td>31.480460</td>\n",
              "      <td>-501.107878</td>\n",
              "      <td>91.428776</td>\n",
              "      <td>35.160922</td>\n",
              "      <td>28.135446</td>\n",
              "      <td>0.0</td>\n",
              "    </tr>\n",
              "    <tr>\n",
              "      <th>4653</th>\n",
              "      <td>2016-08-30 19:59:59</td>\n",
              "      <td>0.0</td>\n",
              "      <td>0.0</td>\n",
              "      <td>0.0</td>\n",
              "      <td>0.0</td>\n",
              "      <td>0.0</td>\n",
              "      <td>7.950315</td>\n",
              "      <td>3.216058</td>\n",
              "      <td>3.705181</td>\n",
              "      <td>4.844750</td>\n",
              "      <td>...</td>\n",
              "      <td>8.075202</td>\n",
              "      <td>-499.957983</td>\n",
              "      <td>4.897192</td>\n",
              "      <td>-500.423686</td>\n",
              "      <td>30.958862</td>\n",
              "      <td>-498.808359</td>\n",
              "      <td>80.393709</td>\n",
              "      <td>29.928733</td>\n",
              "      <td>48.207629</td>\n",
              "      <td>0.0</td>\n",
              "    </tr>\n",
              "    <tr>\n",
              "      <th>4722</th>\n",
              "      <td>2017-01-02 16:59:59</td>\n",
              "      <td>0.0</td>\n",
              "      <td>0.0</td>\n",
              "      <td>0.0</td>\n",
              "      <td>0.0</td>\n",
              "      <td>0.0</td>\n",
              "      <td>10.512889</td>\n",
              "      <td>1.950646</td>\n",
              "      <td>11.188996</td>\n",
              "      <td>2.508362</td>\n",
              "      <td>...</td>\n",
              "      <td>17.395327</td>\n",
              "      <td>-499.938041</td>\n",
              "      <td>8.054456</td>\n",
              "      <td>-500.574345</td>\n",
              "      <td>19.972880</td>\n",
              "      <td>-601.259265</td>\n",
              "      <td>84.427525</td>\n",
              "      <td>55.353011</td>\n",
              "      <td>76.938935</td>\n",
              "      <td>0.0</td>\n",
              "    </tr>\n",
              "    <tr>\n",
              "      <th>4723</th>\n",
              "      <td>2017-01-02 17:59:59</td>\n",
              "      <td>0.0</td>\n",
              "      <td>0.0</td>\n",
              "      <td>0.0</td>\n",
              "      <td>0.0</td>\n",
              "      <td>0.0</td>\n",
              "      <td>9.955941</td>\n",
              "      <td>1.935196</td>\n",
              "      <td>11.133852</td>\n",
              "      <td>2.797546</td>\n",
              "      <td>...</td>\n",
              "      <td>17.070479</td>\n",
              "      <td>-496.127166</td>\n",
              "      <td>8.045207</td>\n",
              "      <td>-470.953271</td>\n",
              "      <td>20.014482</td>\n",
              "      <td>-591.060032</td>\n",
              "      <td>84.555676</td>\n",
              "      <td>54.416755</td>\n",
              "      <td>76.075400</td>\n",
              "      <td>0.0</td>\n",
              "    </tr>\n",
              "    <tr>\n",
              "      <th>4724</th>\n",
              "      <td>2017-01-02 18:59:59</td>\n",
              "      <td>0.0</td>\n",
              "      <td>0.0</td>\n",
              "      <td>0.0</td>\n",
              "      <td>0.0</td>\n",
              "      <td>0.0</td>\n",
              "      <td>10.106171</td>\n",
              "      <td>1.712132</td>\n",
              "      <td>11.092376</td>\n",
              "      <td>2.385774</td>\n",
              "      <td>...</td>\n",
              "      <td>17.173301</td>\n",
              "      <td>-504.678878</td>\n",
              "      <td>8.077081</td>\n",
              "      <td>-484.275794</td>\n",
              "      <td>19.991623</td>\n",
              "      <td>-609.490127</td>\n",
              "      <td>83.055260</td>\n",
              "      <td>53.833074</td>\n",
              "      <td>78.063224</td>\n",
              "      <td>0.0</td>\n",
              "    </tr>\n",
              "    <tr>\n",
              "      <th>4965</th>\n",
              "      <td>2017-01-18 13:59:59</td>\n",
              "      <td>0.0</td>\n",
              "      <td>0.0</td>\n",
              "      <td>0.0</td>\n",
              "      <td>0.0</td>\n",
              "      <td>0.0</td>\n",
              "      <td>0.135709</td>\n",
              "      <td>0.248237</td>\n",
              "      <td>10.817715</td>\n",
              "      <td>0.541934</td>\n",
              "      <td>...</td>\n",
              "      <td>-0.176485</td>\n",
              "      <td>-500.816086</td>\n",
              "      <td>8.093619</td>\n",
              "      <td>-500.197658</td>\n",
              "      <td>19.986522</td>\n",
              "      <td>-602.355855</td>\n",
              "      <td>85.340000</td>\n",
              "      <td>51.138807</td>\n",
              "      <td>81.583286</td>\n",
              "      <td>0.0</td>\n",
              "    </tr>\n",
              "    <tr>\n",
              "      <th>4966</th>\n",
              "      <td>2017-01-18 14:59:59</td>\n",
              "      <td>0.0</td>\n",
              "      <td>0.0</td>\n",
              "      <td>0.0</td>\n",
              "      <td>0.0</td>\n",
              "      <td>0.0</td>\n",
              "      <td>7.804423</td>\n",
              "      <td>3.130217</td>\n",
              "      <td>5.586386</td>\n",
              "      <td>3.420555</td>\n",
              "      <td>...</td>\n",
              "      <td>-0.178880</td>\n",
              "      <td>-491.880038</td>\n",
              "      <td>8.035219</td>\n",
              "      <td>-481.808531</td>\n",
              "      <td>19.941542</td>\n",
              "      <td>-595.360820</td>\n",
              "      <td>80.886673</td>\n",
              "      <td>53.901216</td>\n",
              "      <td>80.309850</td>\n",
              "      <td>0.0</td>\n",
              "    </tr>\n",
              "    <tr>\n",
              "      <th>4967</th>\n",
              "      <td>2017-01-18 15:59:59</td>\n",
              "      <td>0.0</td>\n",
              "      <td>0.0</td>\n",
              "      <td>0.0</td>\n",
              "      <td>0.0</td>\n",
              "      <td>0.0</td>\n",
              "      <td>4.990116</td>\n",
              "      <td>2.905931</td>\n",
              "      <td>5.256589</td>\n",
              "      <td>4.213483</td>\n",
              "      <td>...</td>\n",
              "      <td>-0.173919</td>\n",
              "      <td>-446.036106</td>\n",
              "      <td>3.145675</td>\n",
              "      <td>-240.872031</td>\n",
              "      <td>2.319944</td>\n",
              "      <td>-642.122184</td>\n",
              "      <td>83.489926</td>\n",
              "      <td>45.755537</td>\n",
              "      <td>74.960131</td>\n",
              "      <td>0.0</td>\n",
              "    </tr>\n",
              "    <tr>\n",
              "      <th>4968</th>\n",
              "      <td>2017-01-18 16:59:59</td>\n",
              "      <td>0.0</td>\n",
              "      <td>0.0</td>\n",
              "      <td>0.0</td>\n",
              "      <td>0.0</td>\n",
              "      <td>0.0</td>\n",
              "      <td>3.166338</td>\n",
              "      <td>2.024801</td>\n",
              "      <td>4.348096</td>\n",
              "      <td>3.584731</td>\n",
              "      <td>...</td>\n",
              "      <td>-0.173552</td>\n",
              "      <td>-563.737693</td>\n",
              "      <td>0.679409</td>\n",
              "      <td>-746.432635</td>\n",
              "      <td>0.259505</td>\n",
              "      <td>-809.057864</td>\n",
              "      <td>86.094650</td>\n",
              "      <td>51.073804</td>\n",
              "      <td>72.865254</td>\n",
              "      <td>0.0</td>\n",
              "    </tr>\n",
              "    <tr>\n",
              "      <th>4969</th>\n",
              "      <td>2017-01-18 20:59:59</td>\n",
              "      <td>0.0</td>\n",
              "      <td>0.0</td>\n",
              "      <td>0.0</td>\n",
              "      <td>0.0</td>\n",
              "      <td>0.0</td>\n",
              "      <td>2.750531</td>\n",
              "      <td>1.193930</td>\n",
              "      <td>2.370671</td>\n",
              "      <td>1.714487</td>\n",
              "      <td>...</td>\n",
              "      <td>-0.187038</td>\n",
              "      <td>-507.170200</td>\n",
              "      <td>0.692224</td>\n",
              "      <td>-500.585885</td>\n",
              "      <td>19.998121</td>\n",
              "      <td>-808.143270</td>\n",
              "      <td>83.846128</td>\n",
              "      <td>49.011234</td>\n",
              "      <td>75.407392</td>\n",
              "      <td>0.0</td>\n",
              "    </tr>\n",
              "    <tr>\n",
              "      <th>5139</th>\n",
              "      <td>2017-01-26 09:59:59</td>\n",
              "      <td>0.0</td>\n",
              "      <td>0.0</td>\n",
              "      <td>0.0</td>\n",
              "      <td>0.0</td>\n",
              "      <td>0.0</td>\n",
              "      <td>10.617218</td>\n",
              "      <td>2.747829</td>\n",
              "      <td>9.417774</td>\n",
              "      <td>2.990722</td>\n",
              "      <td>...</td>\n",
              "      <td>22.977603</td>\n",
              "      <td>-499.840145</td>\n",
              "      <td>20.017758</td>\n",
              "      <td>-499.845860</td>\n",
              "      <td>25.001965</td>\n",
              "      <td>-599.982239</td>\n",
              "      <td>87.318224</td>\n",
              "      <td>56.736779</td>\n",
              "      <td>81.462697</td>\n",
              "      <td>0.0</td>\n",
              "    </tr>\n",
              "    <tr>\n",
              "      <th>5140</th>\n",
              "      <td>2017-01-26 10:59:59</td>\n",
              "      <td>0.0</td>\n",
              "      <td>0.0</td>\n",
              "      <td>0.0</td>\n",
              "      <td>0.0</td>\n",
              "      <td>0.0</td>\n",
              "      <td>10.864712</td>\n",
              "      <td>2.841514</td>\n",
              "      <td>9.153641</td>\n",
              "      <td>3.115444</td>\n",
              "      <td>...</td>\n",
              "      <td>23.013882</td>\n",
              "      <td>-499.773163</td>\n",
              "      <td>19.981647</td>\n",
              "      <td>-500.137454</td>\n",
              "      <td>25.006088</td>\n",
              "      <td>-600.019283</td>\n",
              "      <td>86.903688</td>\n",
              "      <td>56.258034</td>\n",
              "      <td>81.806790</td>\n",
              "      <td>0.0</td>\n",
              "    </tr>\n",
              "    <tr>\n",
              "      <th>5784</th>\n",
              "      <td>2017-02-24 03:59:59</td>\n",
              "      <td>0.0</td>\n",
              "      <td>0.0</td>\n",
              "      <td>0.0</td>\n",
              "      <td>0.0</td>\n",
              "      <td>0.0</td>\n",
              "      <td>1.764912</td>\n",
              "      <td>0.620707</td>\n",
              "      <td>1.132730</td>\n",
              "      <td>0.619892</td>\n",
              "      <td>...</td>\n",
              "      <td>23.023228</td>\n",
              "      <td>-451.347752</td>\n",
              "      <td>20.007511</td>\n",
              "      <td>-450.038643</td>\n",
              "      <td>25.008392</td>\n",
              "      <td>-500.220216</td>\n",
              "      <td>92.332421</td>\n",
              "      <td>65.394965</td>\n",
              "      <td>78.190858</td>\n",
              "      <td>0.0</td>\n",
              "    </tr>\n",
              "    <tr>\n",
              "      <th>5871</th>\n",
              "      <td>2017-02-28 14:59:59</td>\n",
              "      <td>0.0</td>\n",
              "      <td>0.0</td>\n",
              "      <td>0.0</td>\n",
              "      <td>0.0</td>\n",
              "      <td>0.0</td>\n",
              "      <td>6.289242</td>\n",
              "      <td>2.166043</td>\n",
              "      <td>1.634677</td>\n",
              "      <td>3.043306</td>\n",
              "      <td>...</td>\n",
              "      <td>20.682065</td>\n",
              "      <td>-443.596068</td>\n",
              "      <td>18.017448</td>\n",
              "      <td>-386.843550</td>\n",
              "      <td>25.021448</td>\n",
              "      <td>-499.457263</td>\n",
              "      <td>68.935992</td>\n",
              "      <td>53.407404</td>\n",
              "      <td>87.656661</td>\n",
              "      <td>0.0</td>\n",
              "    </tr>\n",
              "    <tr>\n",
              "      <th>5872</th>\n",
              "      <td>2017-02-28 15:59:59</td>\n",
              "      <td>0.0</td>\n",
              "      <td>0.0</td>\n",
              "      <td>0.0</td>\n",
              "      <td>0.0</td>\n",
              "      <td>0.0</td>\n",
              "      <td>9.824167</td>\n",
              "      <td>3.652339</td>\n",
              "      <td>4.377406</td>\n",
              "      <td>5.599697</td>\n",
              "      <td>...</td>\n",
              "      <td>20.176891</td>\n",
              "      <td>-454.657471</td>\n",
              "      <td>19.257933</td>\n",
              "      <td>-449.820792</td>\n",
              "      <td>24.979159</td>\n",
              "      <td>-501.400800</td>\n",
              "      <td>60.551132</td>\n",
              "      <td>56.013915</td>\n",
              "      <td>87.918479</td>\n",
              "      <td>0.0</td>\n",
              "    </tr>\n",
              "    <tr>\n",
              "      <th>6016</th>\n",
              "      <td>2017-03-06 17:59:59</td>\n",
              "      <td>0.0</td>\n",
              "      <td>0.0</td>\n",
              "      <td>0.0</td>\n",
              "      <td>0.0</td>\n",
              "      <td>0.0</td>\n",
              "      <td>8.788438</td>\n",
              "      <td>2.970928</td>\n",
              "      <td>7.091474</td>\n",
              "      <td>3.440660</td>\n",
              "      <td>...</td>\n",
              "      <td>23.636238</td>\n",
              "      <td>-450.648239</td>\n",
              "      <td>19.957525</td>\n",
              "      <td>-449.878949</td>\n",
              "      <td>24.999677</td>\n",
              "      <td>-500.240701</td>\n",
              "      <td>93.230826</td>\n",
              "      <td>53.300638</td>\n",
              "      <td>71.562927</td>\n",
              "      <td>0.0</td>\n",
              "    </tr>\n",
              "    <tr>\n",
              "      <th>6017</th>\n",
              "      <td>2017-03-06 18:59:59</td>\n",
              "      <td>0.0</td>\n",
              "      <td>0.0</td>\n",
              "      <td>0.0</td>\n",
              "      <td>0.0</td>\n",
              "      <td>0.0</td>\n",
              "      <td>8.865775</td>\n",
              "      <td>2.954853</td>\n",
              "      <td>7.439434</td>\n",
              "      <td>3.476479</td>\n",
              "      <td>...</td>\n",
              "      <td>23.654748</td>\n",
              "      <td>-449.556038</td>\n",
              "      <td>20.001880</td>\n",
              "      <td>-449.899258</td>\n",
              "      <td>24.992970</td>\n",
              "      <td>-499.427043</td>\n",
              "      <td>90.460752</td>\n",
              "      <td>53.469934</td>\n",
              "      <td>72.407240</td>\n",
              "      <td>0.0</td>\n",
              "    </tr>\n",
              "    <tr>\n",
              "      <th>6018</th>\n",
              "      <td>2017-03-06 19:59:59</td>\n",
              "      <td>0.0</td>\n",
              "      <td>0.0</td>\n",
              "      <td>0.0</td>\n",
              "      <td>0.0</td>\n",
              "      <td>0.0</td>\n",
              "      <td>8.499353</td>\n",
              "      <td>2.827313</td>\n",
              "      <td>8.296913</td>\n",
              "      <td>3.443548</td>\n",
              "      <td>...</td>\n",
              "      <td>23.673025</td>\n",
              "      <td>-449.945883</td>\n",
              "      <td>20.014044</td>\n",
              "      <td>-449.745174</td>\n",
              "      <td>24.990666</td>\n",
              "      <td>-500.726526</td>\n",
              "      <td>90.621375</td>\n",
              "      <td>54.112593</td>\n",
              "      <td>73.405420</td>\n",
              "      <td>0.0</td>\n",
              "    </tr>\n",
              "    <tr>\n",
              "      <th>6019</th>\n",
              "      <td>2017-03-06 20:59:59</td>\n",
              "      <td>0.0</td>\n",
              "      <td>0.0</td>\n",
              "      <td>0.0</td>\n",
              "      <td>0.0</td>\n",
              "      <td>0.0</td>\n",
              "      <td>8.168545</td>\n",
              "      <td>2.779809</td>\n",
              "      <td>8.939608</td>\n",
              "      <td>3.451607</td>\n",
              "      <td>...</td>\n",
              "      <td>23.734240</td>\n",
              "      <td>-450.039391</td>\n",
              "      <td>20.002802</td>\n",
              "      <td>-450.185386</td>\n",
              "      <td>24.999566</td>\n",
              "      <td>-500.059471</td>\n",
              "      <td>89.572296</td>\n",
              "      <td>54.122333</td>\n",
              "      <td>73.686489</td>\n",
              "      <td>0.0</td>\n",
              "    </tr>\n",
              "    <tr>\n",
              "      <th>6254</th>\n",
              "      <td>2017-03-17 10:59:59</td>\n",
              "      <td>0.0</td>\n",
              "      <td>0.0</td>\n",
              "      <td>0.0</td>\n",
              "      <td>0.0</td>\n",
              "      <td>0.0</td>\n",
              "      <td>9.365576</td>\n",
              "      <td>3.180765</td>\n",
              "      <td>4.904181</td>\n",
              "      <td>4.489633</td>\n",
              "      <td>...</td>\n",
              "      <td>20.696742</td>\n",
              "      <td>-446.237788</td>\n",
              "      <td>19.952652</td>\n",
              "      <td>-445.274527</td>\n",
              "      <td>25.009526</td>\n",
              "      <td>-499.299024</td>\n",
              "      <td>85.325665</td>\n",
              "      <td>61.578323</td>\n",
              "      <td>70.064479</td>\n",
              "      <td>0.0</td>\n",
              "    </tr>\n",
              "    <tr>\n",
              "      <th>6430</th>\n",
              "      <td>2017-03-28 02:59:59</td>\n",
              "      <td>0.0</td>\n",
              "      <td>0.0</td>\n",
              "      <td>0.0</td>\n",
              "      <td>0.0</td>\n",
              "      <td>0.0</td>\n",
              "      <td>6.052901</td>\n",
              "      <td>1.855451</td>\n",
              "      <td>6.201678</td>\n",
              "      <td>2.423505</td>\n",
              "      <td>...</td>\n",
              "      <td>29.144954</td>\n",
              "      <td>-449.497572</td>\n",
              "      <td>24.036333</td>\n",
              "      <td>-450.062637</td>\n",
              "      <td>25.004345</td>\n",
              "      <td>-497.467197</td>\n",
              "      <td>88.320545</td>\n",
              "      <td>64.683886</td>\n",
              "      <td>75.331692</td>\n",
              "      <td>0.0</td>\n",
              "    </tr>\n",
              "    <tr>\n",
              "      <th>7050</th>\n",
              "      <td>2017-04-23 15:59:59</td>\n",
              "      <td>0.0</td>\n",
              "      <td>0.0</td>\n",
              "      <td>0.0</td>\n",
              "      <td>0.0</td>\n",
              "      <td>0.0</td>\n",
              "      <td>8.156377</td>\n",
              "      <td>2.846728</td>\n",
              "      <td>11.214544</td>\n",
              "      <td>2.668218</td>\n",
              "      <td>...</td>\n",
              "      <td>26.034525</td>\n",
              "      <td>-450.185761</td>\n",
              "      <td>24.013252</td>\n",
              "      <td>-450.093931</td>\n",
              "      <td>29.985963</td>\n",
              "      <td>-500.076336</td>\n",
              "      <td>84.182930</td>\n",
              "      <td>57.716489</td>\n",
              "      <td>68.650384</td>\n",
              "      <td>0.0</td>\n",
              "    </tr>\n",
              "    <tr>\n",
              "      <th>7051</th>\n",
              "      <td>2017-04-23 16:59:59</td>\n",
              "      <td>0.0</td>\n",
              "      <td>0.0</td>\n",
              "      <td>0.0</td>\n",
              "      <td>0.0</td>\n",
              "      <td>0.0</td>\n",
              "      <td>8.128279</td>\n",
              "      <td>2.836579</td>\n",
              "      <td>10.817374</td>\n",
              "      <td>2.557334</td>\n",
              "      <td>...</td>\n",
              "      <td>26.003582</td>\n",
              "      <td>-449.323595</td>\n",
              "      <td>24.009039</td>\n",
              "      <td>-449.969615</td>\n",
              "      <td>30.007134</td>\n",
              "      <td>-499.524684</td>\n",
              "      <td>84.958999</td>\n",
              "      <td>58.748005</td>\n",
              "      <td>67.287680</td>\n",
              "      <td>0.0</td>\n",
              "    </tr>\n",
              "    <tr>\n",
              "      <th>7052</th>\n",
              "      <td>2017-04-23 17:59:59</td>\n",
              "      <td>0.0</td>\n",
              "      <td>0.0</td>\n",
              "      <td>0.0</td>\n",
              "      <td>0.0</td>\n",
              "      <td>0.0</td>\n",
              "      <td>8.103931</td>\n",
              "      <td>2.747705</td>\n",
              "      <td>10.788530</td>\n",
              "      <td>2.550075</td>\n",
              "      <td>...</td>\n",
              "      <td>25.986338</td>\n",
              "      <td>-451.070811</td>\n",
              "      <td>23.997589</td>\n",
              "      <td>-449.992990</td>\n",
              "      <td>30.014246</td>\n",
              "      <td>-500.261487</td>\n",
              "      <td>84.256396</td>\n",
              "      <td>57.758462</td>\n",
              "      <td>67.715366</td>\n",
              "      <td>0.0</td>\n",
              "    </tr>\n",
              "    <tr>\n",
              "      <th>7053</th>\n",
              "      <td>2017-04-23 18:59:59</td>\n",
              "      <td>0.0</td>\n",
              "      <td>0.0</td>\n",
              "      <td>0.0</td>\n",
              "      <td>0.0</td>\n",
              "      <td>0.0</td>\n",
              "      <td>8.304655</td>\n",
              "      <td>2.890794</td>\n",
              "      <td>11.387238</td>\n",
              "      <td>2.746293</td>\n",
              "      <td>...</td>\n",
              "      <td>25.985947</td>\n",
              "      <td>-450.184325</td>\n",
              "      <td>24.023299</td>\n",
              "      <td>-450.107963</td>\n",
              "      <td>29.989302</td>\n",
              "      <td>-499.837103</td>\n",
              "      <td>83.730630</td>\n",
              "      <td>56.937236</td>\n",
              "      <td>70.543396</td>\n",
              "      <td>0.0</td>\n",
              "    </tr>\n",
              "    <tr>\n",
              "      <th>7054</th>\n",
              "      <td>2017-04-23 19:59:59</td>\n",
              "      <td>0.0</td>\n",
              "      <td>0.0</td>\n",
              "      <td>0.0</td>\n",
              "      <td>0.0</td>\n",
              "      <td>0.0</td>\n",
              "      <td>8.326885</td>\n",
              "      <td>3.056401</td>\n",
              "      <td>10.965152</td>\n",
              "      <td>2.801452</td>\n",
              "      <td>...</td>\n",
              "      <td>26.026115</td>\n",
              "      <td>-449.768130</td>\n",
              "      <td>24.007241</td>\n",
              "      <td>-450.263454</td>\n",
              "      <td>30.004095</td>\n",
              "      <td>-499.921109</td>\n",
              "      <td>83.487803</td>\n",
              "      <td>58.120443</td>\n",
              "      <td>70.856237</td>\n",
              "      <td>0.0</td>\n",
              "    </tr>\n",
              "    <tr>\n",
              "      <th>7406</th>\n",
              "      <td>2017-05-09 04:59:59</td>\n",
              "      <td>0.0</td>\n",
              "      <td>0.0</td>\n",
              "      <td>0.0</td>\n",
              "      <td>0.0</td>\n",
              "      <td>0.0</td>\n",
              "      <td>9.862797</td>\n",
              "      <td>3.133213</td>\n",
              "      <td>8.386767</td>\n",
              "      <td>3.668582</td>\n",
              "      <td>...</td>\n",
              "      <td>25.983521</td>\n",
              "      <td>-449.556130</td>\n",
              "      <td>23.994969</td>\n",
              "      <td>-449.810833</td>\n",
              "      <td>29.998974</td>\n",
              "      <td>-499.541003</td>\n",
              "      <td>76.274777</td>\n",
              "      <td>58.217049</td>\n",
              "      <td>77.877832</td>\n",
              "      <td>0.0</td>\n",
              "    </tr>\n",
              "    <tr>\n",
              "      <th>7518</th>\n",
              "      <td>2017-05-20 22:59:59</td>\n",
              "      <td>0.0</td>\n",
              "      <td>0.0</td>\n",
              "      <td>0.0</td>\n",
              "      <td>0.0</td>\n",
              "      <td>0.0</td>\n",
              "      <td>8.498030</td>\n",
              "      <td>3.997512</td>\n",
              "      <td>7.064919</td>\n",
              "      <td>6.578668</td>\n",
              "      <td>...</td>\n",
              "      <td>11.005697</td>\n",
              "      <td>-499.659386</td>\n",
              "      <td>9.986170</td>\n",
              "      <td>-500.117621</td>\n",
              "      <td>19.990086</td>\n",
              "      <td>-500.215013</td>\n",
              "      <td>73.783131</td>\n",
              "      <td>56.000346</td>\n",
              "      <td>57.561670</td>\n",
              "      <td>0.0</td>\n",
              "    </tr>\n",
              "    <tr>\n",
              "      <th>7519</th>\n",
              "      <td>2017-05-20 23:59:59</td>\n",
              "      <td>0.0</td>\n",
              "      <td>0.0</td>\n",
              "      <td>0.0</td>\n",
              "      <td>0.0</td>\n",
              "      <td>0.0</td>\n",
              "      <td>5.853507</td>\n",
              "      <td>2.566240</td>\n",
              "      <td>5.372024</td>\n",
              "      <td>4.083495</td>\n",
              "      <td>...</td>\n",
              "      <td>10.933236</td>\n",
              "      <td>-501.259343</td>\n",
              "      <td>9.964885</td>\n",
              "      <td>-499.773254</td>\n",
              "      <td>19.981354</td>\n",
              "      <td>-499.611812</td>\n",
              "      <td>70.770235</td>\n",
              "      <td>50.355734</td>\n",
              "      <td>57.519911</td>\n",
              "      <td>0.0</td>\n",
              "    </tr>\n",
              "    <tr>\n",
              "      <th>7556</th>\n",
              "      <td>2017-05-23 19:59:59</td>\n",
              "      <td>0.0</td>\n",
              "      <td>0.0</td>\n",
              "      <td>0.0</td>\n",
              "      <td>0.0</td>\n",
              "      <td>0.0</td>\n",
              "      <td>6.045862</td>\n",
              "      <td>2.572548</td>\n",
              "      <td>5.979258</td>\n",
              "      <td>3.673219</td>\n",
              "      <td>...</td>\n",
              "      <td>26.000855</td>\n",
              "      <td>-499.736015</td>\n",
              "      <td>23.934192</td>\n",
              "      <td>-499.760094</td>\n",
              "      <td>17.989344</td>\n",
              "      <td>-502.178010</td>\n",
              "      <td>80.824520</td>\n",
              "      <td>66.668672</td>\n",
              "      <td>71.833407</td>\n",
              "      <td>0.0</td>\n",
              "    </tr>\n",
              "    <tr>\n",
              "      <th>8665</th>\n",
              "      <td>2017-07-14 09:59:59</td>\n",
              "      <td>0.0</td>\n",
              "      <td>0.0</td>\n",
              "      <td>0.0</td>\n",
              "      <td>0.0</td>\n",
              "      <td>0.0</td>\n",
              "      <td>7.599488</td>\n",
              "      <td>2.743608</td>\n",
              "      <td>5.500996</td>\n",
              "      <td>4.079079</td>\n",
              "      <td>...</td>\n",
              "      <td>17.943597</td>\n",
              "      <td>-500.869351</td>\n",
              "      <td>12.996144</td>\n",
              "      <td>-500.096848</td>\n",
              "      <td>14.996873</td>\n",
              "      <td>-499.676482</td>\n",
              "      <td>71.450445</td>\n",
              "      <td>30.700024</td>\n",
              "      <td>77.180557</td>\n",
              "      <td>0.0</td>\n",
              "    </tr>\n",
              "    <tr>\n",
              "      <th>8884</th>\n",
              "      <td>2017-07-23 23:59:59</td>\n",
              "      <td>0.0</td>\n",
              "      <td>0.0</td>\n",
              "      <td>0.0</td>\n",
              "      <td>0.0</td>\n",
              "      <td>0.0</td>\n",
              "      <td>3.735853</td>\n",
              "      <td>1.375197</td>\n",
              "      <td>4.186355</td>\n",
              "      <td>2.076641</td>\n",
              "      <td>...</td>\n",
              "      <td>15.962232</td>\n",
              "      <td>-500.225250</td>\n",
              "      <td>10.062110</td>\n",
              "      <td>-499.793051</td>\n",
              "      <td>14.843935</td>\n",
              "      <td>-499.842959</td>\n",
              "      <td>69.552453</td>\n",
              "      <td>45.389238</td>\n",
              "      <td>44.613220</td>\n",
              "      <td>0.0</td>\n",
              "    </tr>\n",
              "    <tr>\n",
              "      <th>8898</th>\n",
              "      <td>2017-07-24 13:59:59</td>\n",
              "      <td>0.0</td>\n",
              "      <td>0.0</td>\n",
              "      <td>0.0</td>\n",
              "      <td>0.0</td>\n",
              "      <td>0.0</td>\n",
              "      <td>7.685263</td>\n",
              "      <td>2.708151</td>\n",
              "      <td>10.191240</td>\n",
              "      <td>2.301790</td>\n",
              "      <td>...</td>\n",
              "      <td>12.027372</td>\n",
              "      <td>-493.246532</td>\n",
              "      <td>7.672037</td>\n",
              "      <td>-497.898119</td>\n",
              "      <td>12.381912</td>\n",
              "      <td>-504.537397</td>\n",
              "      <td>83.096540</td>\n",
              "      <td>54.427053</td>\n",
              "      <td>76.122611</td>\n",
              "      <td>0.0</td>\n",
              "    </tr>\n",
              "    <tr>\n",
              "      <th>8899</th>\n",
              "      <td>2017-07-25 07:59:59</td>\n",
              "      <td>0.0</td>\n",
              "      <td>0.0</td>\n",
              "      <td>0.0</td>\n",
              "      <td>0.0</td>\n",
              "      <td>0.0</td>\n",
              "      <td>8.068584</td>\n",
              "      <td>2.539054</td>\n",
              "      <td>5.926178</td>\n",
              "      <td>3.010061</td>\n",
              "      <td>...</td>\n",
              "      <td>16.017481</td>\n",
              "      <td>-502.033957</td>\n",
              "      <td>9.997870</td>\n",
              "      <td>-500.032109</td>\n",
              "      <td>15.012719</td>\n",
              "      <td>-500.166375</td>\n",
              "      <td>81.281817</td>\n",
              "      <td>32.575580</td>\n",
              "      <td>36.273669</td>\n",
              "      <td>0.0</td>\n",
              "    </tr>\n",
              "    <tr>\n",
              "      <th>8900</th>\n",
              "      <td>2017-07-25 08:59:59</td>\n",
              "      <td>0.0</td>\n",
              "      <td>0.0</td>\n",
              "      <td>0.0</td>\n",
              "      <td>0.0</td>\n",
              "      <td>0.0</td>\n",
              "      <td>8.768794</td>\n",
              "      <td>2.922438</td>\n",
              "      <td>4.864586</td>\n",
              "      <td>3.216211</td>\n",
              "      <td>...</td>\n",
              "      <td>16.015712</td>\n",
              "      <td>-500.333611</td>\n",
              "      <td>9.996034</td>\n",
              "      <td>-499.903756</td>\n",
              "      <td>15.005399</td>\n",
              "      <td>-499.665857</td>\n",
              "      <td>88.128148</td>\n",
              "      <td>27.084195</td>\n",
              "      <td>27.200275</td>\n",
              "      <td>0.0</td>\n",
              "    </tr>\n",
              "    <tr>\n",
              "      <th>8919</th>\n",
              "      <td>2017-07-26 03:59:59</td>\n",
              "      <td>0.0</td>\n",
              "      <td>0.0</td>\n",
              "      <td>0.0</td>\n",
              "      <td>0.0</td>\n",
              "      <td>0.0</td>\n",
              "      <td>7.074876</td>\n",
              "      <td>3.211672</td>\n",
              "      <td>11.439958</td>\n",
              "      <td>3.660732</td>\n",
              "      <td>...</td>\n",
              "      <td>16.030213</td>\n",
              "      <td>-500.482032</td>\n",
              "      <td>10.001274</td>\n",
              "      <td>-500.142881</td>\n",
              "      <td>14.996052</td>\n",
              "      <td>-500.206741</td>\n",
              "      <td>76.331765</td>\n",
              "      <td>53.329106</td>\n",
              "      <td>76.118163</td>\n",
              "      <td>0.0</td>\n",
              "    </tr>\n",
              "    <tr>\n",
              "      <th>8920</th>\n",
              "      <td>2017-07-26 04:59:59</td>\n",
              "      <td>0.0</td>\n",
              "      <td>0.0</td>\n",
              "      <td>0.0</td>\n",
              "      <td>0.0</td>\n",
              "      <td>0.0</td>\n",
              "      <td>6.928070</td>\n",
              "      <td>3.158062</td>\n",
              "      <td>11.352802</td>\n",
              "      <td>3.485946</td>\n",
              "      <td>...</td>\n",
              "      <td>15.965493</td>\n",
              "      <td>-500.537624</td>\n",
              "      <td>10.004768</td>\n",
              "      <td>-500.178703</td>\n",
              "      <td>14.985647</td>\n",
              "      <td>-499.120826</td>\n",
              "      <td>80.716925</td>\n",
              "      <td>52.348749</td>\n",
              "      <td>77.222621</td>\n",
              "      <td>0.0</td>\n",
              "    </tr>\n",
              "    <tr>\n",
              "      <th>9320</th>\n",
              "      <td>2017-08-12 03:59:59</td>\n",
              "      <td>0.0</td>\n",
              "      <td>0.0</td>\n",
              "      <td>0.0</td>\n",
              "      <td>0.0</td>\n",
              "      <td>0.0</td>\n",
              "      <td>6.296368</td>\n",
              "      <td>2.933790</td>\n",
              "      <td>9.373527</td>\n",
              "      <td>4.489584</td>\n",
              "      <td>...</td>\n",
              "      <td>11.974298</td>\n",
              "      <td>-499.083691</td>\n",
              "      <td>9.970505</td>\n",
              "      <td>-499.761608</td>\n",
              "      <td>15.009898</td>\n",
              "      <td>-499.872109</td>\n",
              "      <td>75.759559</td>\n",
              "      <td>46.635418</td>\n",
              "      <td>65.818944</td>\n",
              "      <td>0.0</td>\n",
              "    </tr>\n",
              "    <tr>\n",
              "      <th>9893</th>\n",
              "      <td>2018-01-15 20:59:59</td>\n",
              "      <td>0.0</td>\n",
              "      <td>0.0</td>\n",
              "      <td>0.0</td>\n",
              "      <td>0.0</td>\n",
              "      <td>0.0</td>\n",
              "      <td>11.408594</td>\n",
              "      <td>2.205271</td>\n",
              "      <td>3.469389</td>\n",
              "      <td>5.819537</td>\n",
              "      <td>...</td>\n",
              "      <td>11.002853</td>\n",
              "      <td>-500.029477</td>\n",
              "      <td>9.006599</td>\n",
              "      <td>-499.812437</td>\n",
              "      <td>10.981683</td>\n",
              "      <td>-499.607997</td>\n",
              "      <td>26.959908</td>\n",
              "      <td>52.381155</td>\n",
              "      <td>77.369044</td>\n",
              "      <td>0.0</td>\n",
              "    </tr>\n",
              "    <tr>\n",
              "      <th>9894</th>\n",
              "      <td>2018-01-15 21:59:59</td>\n",
              "      <td>0.0</td>\n",
              "      <td>0.0</td>\n",
              "      <td>0.0</td>\n",
              "      <td>0.0</td>\n",
              "      <td>0.0</td>\n",
              "      <td>10.738721</td>\n",
              "      <td>1.426022</td>\n",
              "      <td>6.409904</td>\n",
              "      <td>3.837274</td>\n",
              "      <td>...</td>\n",
              "      <td>11.033133</td>\n",
              "      <td>-500.405550</td>\n",
              "      <td>9.025031</td>\n",
              "      <td>-500.224485</td>\n",
              "      <td>10.997373</td>\n",
              "      <td>-500.277262</td>\n",
              "      <td>78.786772</td>\n",
              "      <td>59.410599</td>\n",
              "      <td>79.597733</td>\n",
              "      <td>0.0</td>\n",
              "    </tr>\n",
              "    <tr>\n",
              "      <th>10020</th>\n",
              "      <td>2018-01-25 10:59:59</td>\n",
              "      <td>0.0</td>\n",
              "      <td>0.0</td>\n",
              "      <td>0.0</td>\n",
              "      <td>0.0</td>\n",
              "      <td>0.0</td>\n",
              "      <td>2.444457</td>\n",
              "      <td>0.612787</td>\n",
              "      <td>1.751687</td>\n",
              "      <td>1.210944</td>\n",
              "      <td>...</td>\n",
              "      <td>10.929622</td>\n",
              "      <td>-499.380783</td>\n",
              "      <td>9.016132</td>\n",
              "      <td>-500.127563</td>\n",
              "      <td>10.996343</td>\n",
              "      <td>-500.089294</td>\n",
              "      <td>65.003857</td>\n",
              "      <td>33.929636</td>\n",
              "      <td>49.797341</td>\n",
              "      <td>0.0</td>\n",
              "    </tr>\n",
              "  </tbody>\n",
              "</table>\n",
              "<p>58 rows × 91 columns</p>\n",
              "</div>"
            ],
            "text/plain": [
              "                      date  final.output.concentrate_ag  \\\n",
              "644    2016-02-13 11:00:00                          0.0   \n",
              "1193   2016-03-11 10:00:00                          0.0   \n",
              "1194   2016-03-11 11:00:00                          0.0   \n",
              "1195   2016-03-11 12:00:00                          0.0   \n",
              "1196   2016-03-11 13:00:00                          0.0   \n",
              "1682   2016-04-09 17:00:00                          0.0   \n",
              "2019   2016-05-01 23:59:59                          0.0   \n",
              "2020   2016-05-02 00:59:59                          0.0   \n",
              "2236   2016-05-11 01:59:59                          0.0   \n",
              "3394   2016-07-06 04:59:59                          0.0   \n",
              "3395   2016-07-06 05:59:59                          0.0   \n",
              "3396   2016-07-06 06:59:59                          0.0   \n",
              "3397   2016-07-06 08:59:59                          0.0   \n",
              "3400   2016-07-06 12:59:59                          0.0   \n",
              "4215   2016-08-11 20:59:59                          0.0   \n",
              "4314   2016-08-15 23:59:59                          0.0   \n",
              "4564   2016-08-26 20:59:59                          0.0   \n",
              "4652   2016-08-30 18:59:59                          0.0   \n",
              "4653   2016-08-30 19:59:59                          0.0   \n",
              "4722   2017-01-02 16:59:59                          0.0   \n",
              "4723   2017-01-02 17:59:59                          0.0   \n",
              "4724   2017-01-02 18:59:59                          0.0   \n",
              "4965   2017-01-18 13:59:59                          0.0   \n",
              "4966   2017-01-18 14:59:59                          0.0   \n",
              "4967   2017-01-18 15:59:59                          0.0   \n",
              "4968   2017-01-18 16:59:59                          0.0   \n",
              "4969   2017-01-18 20:59:59                          0.0   \n",
              "5139   2017-01-26 09:59:59                          0.0   \n",
              "5140   2017-01-26 10:59:59                          0.0   \n",
              "5784   2017-02-24 03:59:59                          0.0   \n",
              "5871   2017-02-28 14:59:59                          0.0   \n",
              "5872   2017-02-28 15:59:59                          0.0   \n",
              "6016   2017-03-06 17:59:59                          0.0   \n",
              "6017   2017-03-06 18:59:59                          0.0   \n",
              "6018   2017-03-06 19:59:59                          0.0   \n",
              "6019   2017-03-06 20:59:59                          0.0   \n",
              "6254   2017-03-17 10:59:59                          0.0   \n",
              "6430   2017-03-28 02:59:59                          0.0   \n",
              "7050   2017-04-23 15:59:59                          0.0   \n",
              "7051   2017-04-23 16:59:59                          0.0   \n",
              "7052   2017-04-23 17:59:59                          0.0   \n",
              "7053   2017-04-23 18:59:59                          0.0   \n",
              "7054   2017-04-23 19:59:59                          0.0   \n",
              "7406   2017-05-09 04:59:59                          0.0   \n",
              "7518   2017-05-20 22:59:59                          0.0   \n",
              "7519   2017-05-20 23:59:59                          0.0   \n",
              "7556   2017-05-23 19:59:59                          0.0   \n",
              "8665   2017-07-14 09:59:59                          0.0   \n",
              "8884   2017-07-23 23:59:59                          0.0   \n",
              "8898   2017-07-24 13:59:59                          0.0   \n",
              "8899   2017-07-25 07:59:59                          0.0   \n",
              "8900   2017-07-25 08:59:59                          0.0   \n",
              "8919   2017-07-26 03:59:59                          0.0   \n",
              "8920   2017-07-26 04:59:59                          0.0   \n",
              "9320   2017-08-12 03:59:59                          0.0   \n",
              "9893   2018-01-15 20:59:59                          0.0   \n",
              "9894   2018-01-15 21:59:59                          0.0   \n",
              "10020  2018-01-25 10:59:59                          0.0   \n",
              "\n",
              "       final.output.concentrate_pb  final.output.concentrate_sol  \\\n",
              "644                            0.0                           0.0   \n",
              "1193                           0.0                           0.0   \n",
              "1194                           0.0                           0.0   \n",
              "1195                           0.0                           0.0   \n",
              "1196                           0.0                           0.0   \n",
              "1682                           0.0                           0.0   \n",
              "2019                           0.0                           0.0   \n",
              "2020                           0.0                           0.0   \n",
              "2236                           0.0                           0.0   \n",
              "3394                           0.0                           0.0   \n",
              "3395                           0.0                           0.0   \n",
              "3396                           0.0                           0.0   \n",
              "3397                           0.0                           0.0   \n",
              "3400                           0.0                           0.0   \n",
              "4215                           0.0                           0.0   \n",
              "4314                           0.0                           0.0   \n",
              "4564                           0.0                           0.0   \n",
              "4652                           0.0                           0.0   \n",
              "4653                           0.0                           0.0   \n",
              "4722                           0.0                           0.0   \n",
              "4723                           0.0                           0.0   \n",
              "4724                           0.0                           0.0   \n",
              "4965                           0.0                           0.0   \n",
              "4966                           0.0                           0.0   \n",
              "4967                           0.0                           0.0   \n",
              "4968                           0.0                           0.0   \n",
              "4969                           0.0                           0.0   \n",
              "5139                           0.0                           0.0   \n",
              "5140                           0.0                           0.0   \n",
              "5784                           0.0                           0.0   \n",
              "5871                           0.0                           0.0   \n",
              "5872                           0.0                           0.0   \n",
              "6016                           0.0                           0.0   \n",
              "6017                           0.0                           0.0   \n",
              "6018                           0.0                           0.0   \n",
              "6019                           0.0                           0.0   \n",
              "6254                           0.0                           0.0   \n",
              "6430                           0.0                           0.0   \n",
              "7050                           0.0                           0.0   \n",
              "7051                           0.0                           0.0   \n",
              "7052                           0.0                           0.0   \n",
              "7053                           0.0                           0.0   \n",
              "7054                           0.0                           0.0   \n",
              "7406                           0.0                           0.0   \n",
              "7518                           0.0                           0.0   \n",
              "7519                           0.0                           0.0   \n",
              "7556                           0.0                           0.0   \n",
              "8665                           0.0                           0.0   \n",
              "8884                           0.0                           0.0   \n",
              "8898                           0.0                           0.0   \n",
              "8899                           0.0                           0.0   \n",
              "8900                           0.0                           0.0   \n",
              "8919                           0.0                           0.0   \n",
              "8920                           0.0                           0.0   \n",
              "9320                           0.0                           0.0   \n",
              "9893                           0.0                           0.0   \n",
              "9894                           0.0                           0.0   \n",
              "10020                          0.0                           0.0   \n",
              "\n",
              "       final.output.concentrate_au  final.output.recovery  \\\n",
              "644                            0.0                    0.0   \n",
              "1193                           0.0                    0.0   \n",
              "1194                           0.0                    0.0   \n",
              "1195                           0.0                    0.0   \n",
              "1196                           0.0                    0.0   \n",
              "1682                           0.0                    0.0   \n",
              "2019                           0.0                    0.0   \n",
              "2020                           0.0                    0.0   \n",
              "2236                           0.0                    0.0   \n",
              "3394                           0.0                    0.0   \n",
              "3395                           0.0                    0.0   \n",
              "3396                           0.0                    0.0   \n",
              "3397                           0.0                    0.0   \n",
              "3400                           0.0                    0.0   \n",
              "4215                           0.0                    0.0   \n",
              "4314                           0.0                    0.0   \n",
              "4564                           0.0                    0.0   \n",
              "4652                           0.0                    0.0   \n",
              "4653                           0.0                    0.0   \n",
              "4722                           0.0                    0.0   \n",
              "4723                           0.0                    0.0   \n",
              "4724                           0.0                    0.0   \n",
              "4965                           0.0                    0.0   \n",
              "4966                           0.0                    0.0   \n",
              "4967                           0.0                    0.0   \n",
              "4968                           0.0                    0.0   \n",
              "4969                           0.0                    0.0   \n",
              "5139                           0.0                    0.0   \n",
              "5140                           0.0                    0.0   \n",
              "5784                           0.0                    0.0   \n",
              "5871                           0.0                    0.0   \n",
              "5872                           0.0                    0.0   \n",
              "6016                           0.0                    0.0   \n",
              "6017                           0.0                    0.0   \n",
              "6018                           0.0                    0.0   \n",
              "6019                           0.0                    0.0   \n",
              "6254                           0.0                    0.0   \n",
              "6430                           0.0                    0.0   \n",
              "7050                           0.0                    0.0   \n",
              "7051                           0.0                    0.0   \n",
              "7052                           0.0                    0.0   \n",
              "7053                           0.0                    0.0   \n",
              "7054                           0.0                    0.0   \n",
              "7406                           0.0                    0.0   \n",
              "7518                           0.0                    0.0   \n",
              "7519                           0.0                    0.0   \n",
              "7556                           0.0                    0.0   \n",
              "8665                           0.0                    0.0   \n",
              "8884                           0.0                    0.0   \n",
              "8898                           0.0                    0.0   \n",
              "8899                           0.0                    0.0   \n",
              "8900                           0.0                    0.0   \n",
              "8919                           0.0                    0.0   \n",
              "8920                           0.0                    0.0   \n",
              "9320                           0.0                    0.0   \n",
              "9893                           0.0                    0.0   \n",
              "9894                           0.0                    0.0   \n",
              "10020                          0.0                    0.0   \n",
              "\n",
              "       final.output.tail_ag  final.output.tail_pb  final.output.tail_sol  \\\n",
              "644                8.894029              0.843584              15.417342   \n",
              "1193              10.817313              1.462800              16.407607   \n",
              "1194              10.436792              1.207636              17.800392   \n",
              "1195              10.637073              1.405778              17.195897   \n",
              "1196              10.530320              1.461550              17.556860   \n",
              "1682               2.943613              1.089791               4.050067   \n",
              "2019               2.229996              0.439314               2.996147   \n",
              "2020               8.816376              1.692314              12.001629   \n",
              "2236               7.567252              1.991327              12.977099   \n",
              "3394               6.266939              2.146631               7.240419   \n",
              "3395               6.156921              2.036552               8.240251   \n",
              "3396               2.537365              0.939253               5.531964   \n",
              "3397               3.096506              1.131179               4.534668   \n",
              "3400               6.478243              2.473995              12.423850   \n",
              "4215               1.353362              0.470696               1.235183   \n",
              "4314              10.796039              2.582106              11.105074   \n",
              "4564               3.697301              1.378608               3.952049   \n",
              "4652               7.904183              3.193653               3.656295   \n",
              "4653               7.950315              3.216058               3.705181   \n",
              "4722              10.512889              1.950646              11.188996   \n",
              "4723               9.955941              1.935196              11.133852   \n",
              "4724              10.106171              1.712132              11.092376   \n",
              "4965               0.135709              0.248237              10.817715   \n",
              "4966               7.804423              3.130217               5.586386   \n",
              "4967               4.990116              2.905931               5.256589   \n",
              "4968               3.166338              2.024801               4.348096   \n",
              "4969               2.750531              1.193930               2.370671   \n",
              "5139              10.617218              2.747829               9.417774   \n",
              "5140              10.864712              2.841514               9.153641   \n",
              "5784               1.764912              0.620707               1.132730   \n",
              "5871               6.289242              2.166043               1.634677   \n",
              "5872               9.824167              3.652339               4.377406   \n",
              "6016               8.788438              2.970928               7.091474   \n",
              "6017               8.865775              2.954853               7.439434   \n",
              "6018               8.499353              2.827313               8.296913   \n",
              "6019               8.168545              2.779809               8.939608   \n",
              "6254               9.365576              3.180765               4.904181   \n",
              "6430               6.052901              1.855451               6.201678   \n",
              "7050               8.156377              2.846728              11.214544   \n",
              "7051               8.128279              2.836579              10.817374   \n",
              "7052               8.103931              2.747705              10.788530   \n",
              "7053               8.304655              2.890794              11.387238   \n",
              "7054               8.326885              3.056401              10.965152   \n",
              "7406               9.862797              3.133213               8.386767   \n",
              "7518               8.498030              3.997512               7.064919   \n",
              "7519               5.853507              2.566240               5.372024   \n",
              "7556               6.045862              2.572548               5.979258   \n",
              "8665               7.599488              2.743608               5.500996   \n",
              "8884               3.735853              1.375197               4.186355   \n",
              "8898               7.685263              2.708151              10.191240   \n",
              "8899               8.068584              2.539054               5.926178   \n",
              "8900               8.768794              2.922438               4.864586   \n",
              "8919               7.074876              3.211672              11.439958   \n",
              "8920               6.928070              3.158062              11.352802   \n",
              "9320               6.296368              2.933790               9.373527   \n",
              "9893              11.408594              2.205271               3.469389   \n",
              "9894              10.738721              1.426022               6.409904   \n",
              "10020              2.444457              0.612787               1.751687   \n",
              "\n",
              "       final.output.tail_au  ...  secondary_cleaner.state.floatbank5_a_air  \\\n",
              "644                1.779052  ...                                 22.995012   \n",
              "1193               2.984504  ...                                 11.982937   \n",
              "1194               2.747294  ...                                 11.844983   \n",
              "1195               2.791440  ...                                 12.091144   \n",
              "1196               2.682127  ...                                 12.078809   \n",
              "1682               2.443084  ...                                 12.012947   \n",
              "2019               1.049438  ...                                  8.851882   \n",
              "2020               3.949153  ...                                  8.972976   \n",
              "2236               3.170143  ...                                 11.025995   \n",
              "3394               3.552111  ...                                 16.993432   \n",
              "3395               3.398861  ...                                 16.938729   \n",
              "3396               2.174925  ...                                 16.607490   \n",
              "3397               1.889405  ...                                 16.108189   \n",
              "3400               4.054269  ...                                 16.074222   \n",
              "4215               1.021143  ...                                  9.137868   \n",
              "4314               3.231677  ...                                 15.086155   \n",
              "4564               2.579844  ...                                  9.913467   \n",
              "4652               4.823467  ...                                  8.043159   \n",
              "4653               4.844750  ...                                  8.075202   \n",
              "4722               2.508362  ...                                 17.395327   \n",
              "4723               2.797546  ...                                 17.070479   \n",
              "4724               2.385774  ...                                 17.173301   \n",
              "4965               0.541934  ...                                 -0.176485   \n",
              "4966               3.420555  ...                                 -0.178880   \n",
              "4967               4.213483  ...                                 -0.173919   \n",
              "4968               3.584731  ...                                 -0.173552   \n",
              "4969               1.714487  ...                                 -0.187038   \n",
              "5139               2.990722  ...                                 22.977603   \n",
              "5140               3.115444  ...                                 23.013882   \n",
              "5784               0.619892  ...                                 23.023228   \n",
              "5871               3.043306  ...                                 20.682065   \n",
              "5872               5.599697  ...                                 20.176891   \n",
              "6016               3.440660  ...                                 23.636238   \n",
              "6017               3.476479  ...                                 23.654748   \n",
              "6018               3.443548  ...                                 23.673025   \n",
              "6019               3.451607  ...                                 23.734240   \n",
              "6254               4.489633  ...                                 20.696742   \n",
              "6430               2.423505  ...                                 29.144954   \n",
              "7050               2.668218  ...                                 26.034525   \n",
              "7051               2.557334  ...                                 26.003582   \n",
              "7052               2.550075  ...                                 25.986338   \n",
              "7053               2.746293  ...                                 25.985947   \n",
              "7054               2.801452  ...                                 26.026115   \n",
              "7406               3.668582  ...                                 25.983521   \n",
              "7518               6.578668  ...                                 11.005697   \n",
              "7519               4.083495  ...                                 10.933236   \n",
              "7556               3.673219  ...                                 26.000855   \n",
              "8665               4.079079  ...                                 17.943597   \n",
              "8884               2.076641  ...                                 15.962232   \n",
              "8898               2.301790  ...                                 12.027372   \n",
              "8899               3.010061  ...                                 16.017481   \n",
              "8900               3.216211  ...                                 16.015712   \n",
              "8919               3.660732  ...                                 16.030213   \n",
              "8920               3.485946  ...                                 15.965493   \n",
              "9320               4.489584  ...                                 11.974298   \n",
              "9893               5.819537  ...                                 11.002853   \n",
              "9894               3.837274  ...                                 11.033133   \n",
              "10020              1.210944  ...                                 10.929622   \n",
              "\n",
              "       secondary_cleaner.state.floatbank5_a_level  \\\n",
              "644                                   -399.370680   \n",
              "1193                                  -449.856468   \n",
              "1194                                  -450.881424   \n",
              "1195                                  -496.404140   \n",
              "1196                                  -499.903743   \n",
              "1682                                  -498.936345   \n",
              "2019                                  -503.279765   \n",
              "2020                                  -498.876974   \n",
              "2236                                  -501.002632   \n",
              "3394                                  -501.022669   \n",
              "3395                                  -500.901347   \n",
              "3396                                  -498.514638   \n",
              "3397                                  -499.633768   \n",
              "3400                                  -495.402269   \n",
              "4215                                  -419.643823   \n",
              "4314                                  -396.783371   \n",
              "4564                                  -501.698056   \n",
              "4652                                  -500.391386   \n",
              "4653                                  -499.957983   \n",
              "4722                                  -499.938041   \n",
              "4723                                  -496.127166   \n",
              "4724                                  -504.678878   \n",
              "4965                                  -500.816086   \n",
              "4966                                  -491.880038   \n",
              "4967                                  -446.036106   \n",
              "4968                                  -563.737693   \n",
              "4969                                  -507.170200   \n",
              "5139                                  -499.840145   \n",
              "5140                                  -499.773163   \n",
              "5784                                  -451.347752   \n",
              "5871                                  -443.596068   \n",
              "5872                                  -454.657471   \n",
              "6016                                  -450.648239   \n",
              "6017                                  -449.556038   \n",
              "6018                                  -449.945883   \n",
              "6019                                  -450.039391   \n",
              "6254                                  -446.237788   \n",
              "6430                                  -449.497572   \n",
              "7050                                  -450.185761   \n",
              "7051                                  -449.323595   \n",
              "7052                                  -451.070811   \n",
              "7053                                  -450.184325   \n",
              "7054                                  -449.768130   \n",
              "7406                                  -449.556130   \n",
              "7518                                  -499.659386   \n",
              "7519                                  -501.259343   \n",
              "7556                                  -499.736015   \n",
              "8665                                  -500.869351   \n",
              "8884                                  -500.225250   \n",
              "8898                                  -493.246532   \n",
              "8899                                  -502.033957   \n",
              "8900                                  -500.333611   \n",
              "8919                                  -500.482032   \n",
              "8920                                  -500.537624   \n",
              "9320                                  -499.083691   \n",
              "9893                                  -500.029477   \n",
              "9894                                  -500.405550   \n",
              "10020                                 -499.380783   \n",
              "\n",
              "       secondary_cleaner.state.floatbank5_b_air  \\\n",
              "644                                   20.966863   \n",
              "1193                                   9.927727   \n",
              "1194                                   9.916784   \n",
              "1195                                   9.976074   \n",
              "1196                                  10.075259   \n",
              "1682                                   9.989854   \n",
              "2019                                   9.037939   \n",
              "2020                                   9.070907   \n",
              "2236                                   6.093285   \n",
              "3394                                  14.951274   \n",
              "3395                                  15.060903   \n",
              "3396                                  11.109718   \n",
              "3397                                   7.118001   \n",
              "3400                                   7.103943   \n",
              "4215                                   4.933871   \n",
              "4314                                   4.961631   \n",
              "4564                                   5.011314   \n",
              "4652                                   4.878516   \n",
              "4653                                   4.897192   \n",
              "4722                                   8.054456   \n",
              "4723                                   8.045207   \n",
              "4724                                   8.077081   \n",
              "4965                                   8.093619   \n",
              "4966                                   8.035219   \n",
              "4967                                   3.145675   \n",
              "4968                                   0.679409   \n",
              "4969                                   0.692224   \n",
              "5139                                  20.017758   \n",
              "5140                                  19.981647   \n",
              "5784                                  20.007511   \n",
              "5871                                  18.017448   \n",
              "5872                                  19.257933   \n",
              "6016                                  19.957525   \n",
              "6017                                  20.001880   \n",
              "6018                                  20.014044   \n",
              "6019                                  20.002802   \n",
              "6254                                  19.952652   \n",
              "6430                                  24.036333   \n",
              "7050                                  24.013252   \n",
              "7051                                  24.009039   \n",
              "7052                                  23.997589   \n",
              "7053                                  24.023299   \n",
              "7054                                  24.007241   \n",
              "7406                                  23.994969   \n",
              "7518                                   9.986170   \n",
              "7519                                   9.964885   \n",
              "7556                                  23.934192   \n",
              "8665                                  12.996144   \n",
              "8884                                  10.062110   \n",
              "8898                                   7.672037   \n",
              "8899                                   9.997870   \n",
              "8900                                   9.996034   \n",
              "8919                                  10.001274   \n",
              "8920                                  10.004768   \n",
              "9320                                   9.970505   \n",
              "9893                                   9.006599   \n",
              "9894                                   9.025031   \n",
              "10020                                  9.016132   \n",
              "\n",
              "       secondary_cleaner.state.floatbank5_b_level  \\\n",
              "644                                   -399.308354   \n",
              "1193                                  -450.521700   \n",
              "1194                                  -449.542871   \n",
              "1195                                  -496.783155   \n",
              "1196                                  -499.540325   \n",
              "1682                                  -800.001639   \n",
              "2019                                  -500.400661   \n",
              "2020                                  -499.455708   \n",
              "2236                                  -500.452445   \n",
              "3394                                  -499.908216   \n",
              "3395                                  -500.161562   \n",
              "3396                                  -499.611735   \n",
              "3397                                  -498.021312   \n",
              "3400                                  -494.064445   \n",
              "4215                                  -402.132394   \n",
              "4314                                  -400.638627   \n",
              "4564                                  -500.390274   \n",
              "4652                                  -499.922582   \n",
              "4653                                  -500.423686   \n",
              "4722                                  -500.574345   \n",
              "4723                                  -470.953271   \n",
              "4724                                  -484.275794   \n",
              "4965                                  -500.197658   \n",
              "4966                                  -481.808531   \n",
              "4967                                  -240.872031   \n",
              "4968                                  -746.432635   \n",
              "4969                                  -500.585885   \n",
              "5139                                  -499.845860   \n",
              "5140                                  -500.137454   \n",
              "5784                                  -450.038643   \n",
              "5871                                  -386.843550   \n",
              "5872                                  -449.820792   \n",
              "6016                                  -449.878949   \n",
              "6017                                  -449.899258   \n",
              "6018                                  -449.745174   \n",
              "6019                                  -450.185386   \n",
              "6254                                  -445.274527   \n",
              "6430                                  -450.062637   \n",
              "7050                                  -450.093931   \n",
              "7051                                  -449.969615   \n",
              "7052                                  -449.992990   \n",
              "7053                                  -450.107963   \n",
              "7054                                  -450.263454   \n",
              "7406                                  -449.810833   \n",
              "7518                                  -500.117621   \n",
              "7519                                  -499.773254   \n",
              "7556                                  -499.760094   \n",
              "8665                                  -500.096848   \n",
              "8884                                  -499.793051   \n",
              "8898                                  -497.898119   \n",
              "8899                                  -500.032109   \n",
              "8900                                  -499.903756   \n",
              "8919                                  -500.142881   \n",
              "8920                                  -500.178703   \n",
              "9320                                  -499.761608   \n",
              "9893                                  -499.812437   \n",
              "9894                                  -500.224485   \n",
              "10020                                 -500.127563   \n",
              "\n",
              "       secondary_cleaner.state.floatbank6_a_air  \\\n",
              "644                                   24.987274   \n",
              "1193                                  19.971682   \n",
              "1194                                  20.004767   \n",
              "1195                                  19.921634   \n",
              "1196                                  20.039788   \n",
              "1682                                  19.960963   \n",
              "2019                                  15.999356   \n",
              "2020                                  16.026009   \n",
              "2236                                  20.023462   \n",
              "3394                                  24.984095   \n",
              "3395                                  24.958637   \n",
              "3396                                  25.025326   \n",
              "3397                                  24.972537   \n",
              "3400                                  25.024849   \n",
              "4215                                  23.005263   \n",
              "4314                                  23.037383   \n",
              "4564                                  24.919704   \n",
              "4652                                  31.480460   \n",
              "4653                                  30.958862   \n",
              "4722                                  19.972880   \n",
              "4723                                  20.014482   \n",
              "4724                                  19.991623   \n",
              "4965                                  19.986522   \n",
              "4966                                  19.941542   \n",
              "4967                                   2.319944   \n",
              "4968                                   0.259505   \n",
              "4969                                  19.998121   \n",
              "5139                                  25.001965   \n",
              "5140                                  25.006088   \n",
              "5784                                  25.008392   \n",
              "5871                                  25.021448   \n",
              "5872                                  24.979159   \n",
              "6016                                  24.999677   \n",
              "6017                                  24.992970   \n",
              "6018                                  24.990666   \n",
              "6019                                  24.999566   \n",
              "6254                                  25.009526   \n",
              "6430                                  25.004345   \n",
              "7050                                  29.985963   \n",
              "7051                                  30.007134   \n",
              "7052                                  30.014246   \n",
              "7053                                  29.989302   \n",
              "7054                                  30.004095   \n",
              "7406                                  29.998974   \n",
              "7518                                  19.990086   \n",
              "7519                                  19.981354   \n",
              "7556                                  17.989344   \n",
              "8665                                  14.996873   \n",
              "8884                                  14.843935   \n",
              "8898                                  12.381912   \n",
              "8899                                  15.012719   \n",
              "8900                                  15.005399   \n",
              "8919                                  14.996052   \n",
              "8920                                  14.985647   \n",
              "9320                                  15.009898   \n",
              "9893                                  10.981683   \n",
              "9894                                  10.997373   \n",
              "10020                                 10.996343   \n",
              "\n",
              "       secondary_cleaner.state.floatbank6_a_level  \\\n",
              "644                                   -399.619808   \n",
              "1193                                  -500.685521   \n",
              "1194                                  -500.137068   \n",
              "1195                                  -500.769011   \n",
              "1196                                  -499.932405   \n",
              "1682                                  -500.498255   \n",
              "2019                                  -509.449510   \n",
              "2020                                  -492.939580   \n",
              "2236                                  -500.365653   \n",
              "3394                                  -499.000500   \n",
              "3395                                  -499.600205   \n",
              "3396                                  -499.049808   \n",
              "3397                                  -499.106327   \n",
              "3400                                  -495.267385   \n",
              "4215                                  -502.319385   \n",
              "4314                                  -498.990216   \n",
              "4564                                  -502.454004   \n",
              "4652                                  -501.107878   \n",
              "4653                                  -498.808359   \n",
              "4722                                  -601.259265   \n",
              "4723                                  -591.060032   \n",
              "4724                                  -609.490127   \n",
              "4965                                  -602.355855   \n",
              "4966                                  -595.360820   \n",
              "4967                                  -642.122184   \n",
              "4968                                  -809.057864   \n",
              "4969                                  -808.143270   \n",
              "5139                                  -599.982239   \n",
              "5140                                  -600.019283   \n",
              "5784                                  -500.220216   \n",
              "5871                                  -499.457263   \n",
              "5872                                  -501.400800   \n",
              "6016                                  -500.240701   \n",
              "6017                                  -499.427043   \n",
              "6018                                  -500.726526   \n",
              "6019                                  -500.059471   \n",
              "6254                                  -499.299024   \n",
              "6430                                  -497.467197   \n",
              "7050                                  -500.076336   \n",
              "7051                                  -499.524684   \n",
              "7052                                  -500.261487   \n",
              "7053                                  -499.837103   \n",
              "7054                                  -499.921109   \n",
              "7406                                  -499.541003   \n",
              "7518                                  -500.215013   \n",
              "7519                                  -499.611812   \n",
              "7556                                  -502.178010   \n",
              "8665                                  -499.676482   \n",
              "8884                                  -499.842959   \n",
              "8898                                  -504.537397   \n",
              "8899                                  -500.166375   \n",
              "8900                                  -499.665857   \n",
              "8919                                  -500.206741   \n",
              "8920                                  -499.120826   \n",
              "9320                                  -499.872109   \n",
              "9893                                  -499.607997   \n",
              "9894                                  -500.277262   \n",
              "10020                                 -500.089294   \n",
              "\n",
              "       rougher.output.recovery_fact  feed_conc  rougher_conc  final_conc  \n",
              "644                       68.960993  46.703740     56.574778         0.0  \n",
              "1193                      82.787322  53.368945     61.681632         0.0  \n",
              "1194                      83.515262  51.963364     60.214950         0.0  \n",
              "1195                      83.702224  48.892687     58.592426         0.0  \n",
              "1196                      84.836821  49.265736     58.363177         0.0  \n",
              "1682                      -0.000000  44.882879      0.000000         0.0  \n",
              "2019                      65.593784  57.115449     82.097253         0.0  \n",
              "2020                      76.468239  56.001311     80.583896         0.0  \n",
              "2236                      69.679278  56.164944     76.009105         0.0  \n",
              "3394                      65.867550  51.820284     70.389606         0.0  \n",
              "3395                      68.843299  43.460811     75.028906         0.0  \n",
              "3396                      51.848537  44.494328     81.550911         0.0  \n",
              "3397                      66.901459  48.750469     79.137508         0.0  \n",
              "3400                      63.063015  53.400670     71.437930         0.0  \n",
              "4215                      34.915704  61.331725     80.824756         0.0  \n",
              "4314                      87.214508  64.180280     69.024288         0.0  \n",
              "4564                      88.826382  55.733560     38.335303         0.0  \n",
              "4652                      91.428776  35.160922     28.135446         0.0  \n",
              "4653                      80.393709  29.928733     48.207629         0.0  \n",
              "4722                      84.427525  55.353011     76.938935         0.0  \n",
              "4723                      84.555676  54.416755     76.075400         0.0  \n",
              "4724                      83.055260  53.833074     78.063224         0.0  \n",
              "4965                      85.340000  51.138807     81.583286         0.0  \n",
              "4966                      80.886673  53.901216     80.309850         0.0  \n",
              "4967                      83.489926  45.755537     74.960131         0.0  \n",
              "4968                      86.094650  51.073804     72.865254         0.0  \n",
              "4969                      83.846128  49.011234     75.407392         0.0  \n",
              "5139                      87.318224  56.736779     81.462697         0.0  \n",
              "5140                      86.903688  56.258034     81.806790         0.0  \n",
              "5784                      92.332421  65.394965     78.190858         0.0  \n",
              "5871                      68.935992  53.407404     87.656661         0.0  \n",
              "5872                      60.551132  56.013915     87.918479         0.0  \n",
              "6016                      93.230826  53.300638     71.562927         0.0  \n",
              "6017                      90.460752  53.469934     72.407240         0.0  \n",
              "6018                      90.621375  54.112593     73.405420         0.0  \n",
              "6019                      89.572296  54.122333     73.686489         0.0  \n",
              "6254                      85.325665  61.578323     70.064479         0.0  \n",
              "6430                      88.320545  64.683886     75.331692         0.0  \n",
              "7050                      84.182930  57.716489     68.650384         0.0  \n",
              "7051                      84.958999  58.748005     67.287680         0.0  \n",
              "7052                      84.256396  57.758462     67.715366         0.0  \n",
              "7053                      83.730630  56.937236     70.543396         0.0  \n",
              "7054                      83.487803  58.120443     70.856237         0.0  \n",
              "7406                      76.274777  58.217049     77.877832         0.0  \n",
              "7518                      73.783131  56.000346     57.561670         0.0  \n",
              "7519                      70.770235  50.355734     57.519911         0.0  \n",
              "7556                      80.824520  66.668672     71.833407         0.0  \n",
              "8665                      71.450445  30.700024     77.180557         0.0  \n",
              "8884                      69.552453  45.389238     44.613220         0.0  \n",
              "8898                      83.096540  54.427053     76.122611         0.0  \n",
              "8899                      81.281817  32.575580     36.273669         0.0  \n",
              "8900                      88.128148  27.084195     27.200275         0.0  \n",
              "8919                      76.331765  53.329106     76.118163         0.0  \n",
              "8920                      80.716925  52.348749     77.222621         0.0  \n",
              "9320                      75.759559  46.635418     65.818944         0.0  \n",
              "9893                      26.959908  52.381155     77.369044         0.0  \n",
              "9894                      78.786772  59.410599     79.597733         0.0  \n",
              "10020                     65.003857  33.929636     49.797341         0.0  \n",
              "\n",
              "[58 rows x 91 columns]"
            ]
          },
          "metadata": {},
          "output_type": "display_data"
        }
      ],
      "source": [
        "display(df_train.loc[df_train['final_conc'] == 0])\n"
      ]
    },
    {
      "cell_type": "code",
      "execution_count": null,
      "metadata": {
        "id": "JjpNk2mT8QYn"
      },
      "outputs": [],
      "source": [
        "df_train = df_train.loc[df_train['feed_conc'] != 0] "
      ]
    },
    {
      "cell_type": "code",
      "execution_count": null,
      "metadata": {
        "id": "GQSlRkvp8QYn",
        "outputId": "fc770dd4-392a-4f7a-cf76-7ff718ca21ea"
      },
      "outputs": [
        {
          "data": {
            "text/html": [
              "<div>\n",
              "<style scoped>\n",
              "    .dataframe tbody tr th:only-of-type {\n",
              "        vertical-align: middle;\n",
              "    }\n",
              "\n",
              "    .dataframe tbody tr th {\n",
              "        vertical-align: top;\n",
              "    }\n",
              "\n",
              "    .dataframe thead th {\n",
              "        text-align: right;\n",
              "    }\n",
              "</style>\n",
              "<table border=\"1\" class=\"dataframe\">\n",
              "  <thead>\n",
              "    <tr style=\"text-align: right;\">\n",
              "      <th></th>\n",
              "      <th>date</th>\n",
              "      <th>final.output.concentrate_ag</th>\n",
              "      <th>final.output.concentrate_pb</th>\n",
              "      <th>final.output.concentrate_sol</th>\n",
              "      <th>final.output.concentrate_au</th>\n",
              "      <th>final.output.recovery</th>\n",
              "      <th>final.output.tail_ag</th>\n",
              "      <th>final.output.tail_pb</th>\n",
              "      <th>final.output.tail_sol</th>\n",
              "      <th>final.output.tail_au</th>\n",
              "      <th>...</th>\n",
              "      <th>secondary_cleaner.state.floatbank5_a_air</th>\n",
              "      <th>secondary_cleaner.state.floatbank5_a_level</th>\n",
              "      <th>secondary_cleaner.state.floatbank5_b_air</th>\n",
              "      <th>secondary_cleaner.state.floatbank5_b_level</th>\n",
              "      <th>secondary_cleaner.state.floatbank6_a_air</th>\n",
              "      <th>secondary_cleaner.state.floatbank6_a_level</th>\n",
              "      <th>rougher.output.recovery_fact</th>\n",
              "      <th>feed_conc</th>\n",
              "      <th>rougher_conc</th>\n",
              "      <th>final_conc</th>\n",
              "    </tr>\n",
              "  </thead>\n",
              "  <tbody>\n",
              "    <tr>\n",
              "      <th>0</th>\n",
              "      <td>2016-01-15 00:00:00</td>\n",
              "      <td>6.055403</td>\n",
              "      <td>9.889648</td>\n",
              "      <td>5.507324</td>\n",
              "      <td>42.192020</td>\n",
              "      <td>70.541216</td>\n",
              "      <td>10.411962</td>\n",
              "      <td>0.895447</td>\n",
              "      <td>16.904297</td>\n",
              "      <td>2.143149</td>\n",
              "      <td>...</td>\n",
              "      <td>9.925633</td>\n",
              "      <td>-498.310211</td>\n",
              "      <td>8.079666</td>\n",
              "      <td>-500.470978</td>\n",
              "      <td>14.151341</td>\n",
              "      <td>-605.841980</td>\n",
              "      <td>87.107763</td>\n",
              "      <td>51.680034</td>\n",
              "      <td>66.424950</td>\n",
              "      <td>63.644396</td>\n",
              "    </tr>\n",
              "    <tr>\n",
              "      <th>1</th>\n",
              "      <td>2016-01-15 01:00:00</td>\n",
              "      <td>6.029369</td>\n",
              "      <td>9.968944</td>\n",
              "      <td>5.257781</td>\n",
              "      <td>42.701629</td>\n",
              "      <td>69.266198</td>\n",
              "      <td>10.462676</td>\n",
              "      <td>0.927452</td>\n",
              "      <td>16.634514</td>\n",
              "      <td>2.224930</td>\n",
              "      <td>...</td>\n",
              "      <td>10.039245</td>\n",
              "      <td>-500.169983</td>\n",
              "      <td>7.984757</td>\n",
              "      <td>-500.582168</td>\n",
              "      <td>13.998353</td>\n",
              "      <td>-599.787184</td>\n",
              "      <td>86.843261</td>\n",
              "      <td>50.659114</td>\n",
              "      <td>67.012710</td>\n",
              "      <td>63.957723</td>\n",
              "    </tr>\n",
              "    <tr>\n",
              "      <th>2</th>\n",
              "      <td>2016-01-15 02:00:00</td>\n",
              "      <td>6.055926</td>\n",
              "      <td>10.213995</td>\n",
              "      <td>5.383759</td>\n",
              "      <td>42.657501</td>\n",
              "      <td>68.116445</td>\n",
              "      <td>10.507046</td>\n",
              "      <td>0.953716</td>\n",
              "      <td>16.208849</td>\n",
              "      <td>2.257889</td>\n",
              "      <td>...</td>\n",
              "      <td>10.070913</td>\n",
              "      <td>-500.129135</td>\n",
              "      <td>8.013877</td>\n",
              "      <td>-500.517572</td>\n",
              "      <td>14.028663</td>\n",
              "      <td>-601.427363</td>\n",
              "      <td>86.842308</td>\n",
              "      <td>50.609929</td>\n",
              "      <td>66.103793</td>\n",
              "      <td>64.311180</td>\n",
              "    </tr>\n",
              "    <tr>\n",
              "      <th>3</th>\n",
              "      <td>2016-01-15 03:00:00</td>\n",
              "      <td>6.047977</td>\n",
              "      <td>9.977019</td>\n",
              "      <td>4.858634</td>\n",
              "      <td>42.689819</td>\n",
              "      <td>68.347543</td>\n",
              "      <td>10.422762</td>\n",
              "      <td>0.883763</td>\n",
              "      <td>16.532835</td>\n",
              "      <td>2.146849</td>\n",
              "      <td>...</td>\n",
              "      <td>9.970366</td>\n",
              "      <td>-499.201640</td>\n",
              "      <td>7.977324</td>\n",
              "      <td>-500.255908</td>\n",
              "      <td>14.005551</td>\n",
              "      <td>-599.996129</td>\n",
              "      <td>87.226430</td>\n",
              "      <td>51.061546</td>\n",
              "      <td>65.752751</td>\n",
              "      <td>63.573449</td>\n",
              "    </tr>\n",
              "    <tr>\n",
              "      <th>4</th>\n",
              "      <td>2016-01-15 04:00:00</td>\n",
              "      <td>6.148599</td>\n",
              "      <td>10.142511</td>\n",
              "      <td>4.939416</td>\n",
              "      <td>42.774141</td>\n",
              "      <td>66.927016</td>\n",
              "      <td>10.360302</td>\n",
              "      <td>0.792826</td>\n",
              "      <td>16.525686</td>\n",
              "      <td>2.055292</td>\n",
              "      <td>...</td>\n",
              "      <td>9.925709</td>\n",
              "      <td>-501.686727</td>\n",
              "      <td>7.894242</td>\n",
              "      <td>-500.356035</td>\n",
              "      <td>13.996647</td>\n",
              "      <td>-601.496691</td>\n",
              "      <td>86.688794</td>\n",
              "      <td>47.859163</td>\n",
              "      <td>65.908382</td>\n",
              "      <td>64.004667</td>\n",
              "    </tr>\n",
              "    <tr>\n",
              "      <th>...</th>\n",
              "      <td>...</td>\n",
              "      <td>...</td>\n",
              "      <td>...</td>\n",
              "      <td>...</td>\n",
              "      <td>...</td>\n",
              "      <td>...</td>\n",
              "      <td>...</td>\n",
              "      <td>...</td>\n",
              "      <td>...</td>\n",
              "      <td>...</td>\n",
              "      <td>...</td>\n",
              "      <td>...</td>\n",
              "      <td>...</td>\n",
              "      <td>...</td>\n",
              "      <td>...</td>\n",
              "      <td>...</td>\n",
              "      <td>...</td>\n",
              "      <td>...</td>\n",
              "      <td>...</td>\n",
              "      <td>...</td>\n",
              "      <td>...</td>\n",
              "    </tr>\n",
              "    <tr>\n",
              "      <th>14144</th>\n",
              "      <td>2018-08-18 06:59:59</td>\n",
              "      <td>3.224920</td>\n",
              "      <td>11.356233</td>\n",
              "      <td>6.803482</td>\n",
              "      <td>46.713954</td>\n",
              "      <td>73.755150</td>\n",
              "      <td>8.769645</td>\n",
              "      <td>3.141541</td>\n",
              "      <td>10.403181</td>\n",
              "      <td>1.529220</td>\n",
              "      <td>...</td>\n",
              "      <td>18.006038</td>\n",
              "      <td>-499.834374</td>\n",
              "      <td>13.001114</td>\n",
              "      <td>-500.155694</td>\n",
              "      <td>20.007840</td>\n",
              "      <td>-501.296428</td>\n",
              "      <td>89.574376</td>\n",
              "      <td>53.415050</td>\n",
              "      <td>70.781325</td>\n",
              "      <td>68.098589</td>\n",
              "    </tr>\n",
              "    <tr>\n",
              "      <th>14145</th>\n",
              "      <td>2018-08-18 07:59:59</td>\n",
              "      <td>3.195978</td>\n",
              "      <td>11.349355</td>\n",
              "      <td>6.862249</td>\n",
              "      <td>46.866780</td>\n",
              "      <td>69.049291</td>\n",
              "      <td>8.897321</td>\n",
              "      <td>3.130493</td>\n",
              "      <td>10.549470</td>\n",
              "      <td>1.612542</td>\n",
              "      <td>...</td>\n",
              "      <td>17.998535</td>\n",
              "      <td>-500.395178</td>\n",
              "      <td>12.954048</td>\n",
              "      <td>-499.895163</td>\n",
              "      <td>19.968498</td>\n",
              "      <td>-501.041608</td>\n",
              "      <td>87.724007</td>\n",
              "      <td>53.696482</td>\n",
              "      <td>70.539603</td>\n",
              "      <td>68.274362</td>\n",
              "    </tr>\n",
              "    <tr>\n",
              "      <th>14146</th>\n",
              "      <td>2018-08-18 08:59:59</td>\n",
              "      <td>3.109998</td>\n",
              "      <td>11.434366</td>\n",
              "      <td>6.886013</td>\n",
              "      <td>46.795691</td>\n",
              "      <td>67.002189</td>\n",
              "      <td>8.529606</td>\n",
              "      <td>2.911418</td>\n",
              "      <td>11.115147</td>\n",
              "      <td>1.596616</td>\n",
              "      <td>...</td>\n",
              "      <td>18.019543</td>\n",
              "      <td>-500.451156</td>\n",
              "      <td>13.023431</td>\n",
              "      <td>-499.914391</td>\n",
              "      <td>19.990885</td>\n",
              "      <td>-501.518452</td>\n",
              "      <td>88.890579</td>\n",
              "      <td>54.589604</td>\n",
              "      <td>55.376330</td>\n",
              "      <td>68.226068</td>\n",
              "    </tr>\n",
              "    <tr>\n",
              "      <th>14147</th>\n",
              "      <td>2018-08-18 09:59:59</td>\n",
              "      <td>3.367241</td>\n",
              "      <td>11.625587</td>\n",
              "      <td>6.799433</td>\n",
              "      <td>46.408188</td>\n",
              "      <td>65.523246</td>\n",
              "      <td>8.777171</td>\n",
              "      <td>2.819214</td>\n",
              "      <td>10.463847</td>\n",
              "      <td>1.602879</td>\n",
              "      <td>...</td>\n",
              "      <td>17.979515</td>\n",
              "      <td>-499.272871</td>\n",
              "      <td>12.992404</td>\n",
              "      <td>-499.976268</td>\n",
              "      <td>20.013986</td>\n",
              "      <td>-500.625471</td>\n",
              "      <td>89.858126</td>\n",
              "      <td>54.027355</td>\n",
              "      <td>69.201689</td>\n",
              "      <td>68.200449</td>\n",
              "    </tr>\n",
              "    <tr>\n",
              "      <th>14148</th>\n",
              "      <td>2018-08-18 10:59:59</td>\n",
              "      <td>3.598375</td>\n",
              "      <td>11.737832</td>\n",
              "      <td>6.717509</td>\n",
              "      <td>46.299438</td>\n",
              "      <td>70.281454</td>\n",
              "      <td>8.406690</td>\n",
              "      <td>2.517518</td>\n",
              "      <td>10.652193</td>\n",
              "      <td>1.389434</td>\n",
              "      <td>...</td>\n",
              "      <td>17.963512</td>\n",
              "      <td>-499.939490</td>\n",
              "      <td>12.990306</td>\n",
              "      <td>-500.080993</td>\n",
              "      <td>19.990336</td>\n",
              "      <td>-499.191575</td>\n",
              "      <td>89.514960</td>\n",
              "      <td>53.535054</td>\n",
              "      <td>69.544003</td>\n",
              "      <td>68.353154</td>\n",
              "    </tr>\n",
              "  </tbody>\n",
              "</table>\n",
              "<p>13852 rows × 91 columns</p>\n",
              "</div>"
            ],
            "text/plain": [
              "                      date  final.output.concentrate_ag  \\\n",
              "0      2016-01-15 00:00:00                     6.055403   \n",
              "1      2016-01-15 01:00:00                     6.029369   \n",
              "2      2016-01-15 02:00:00                     6.055926   \n",
              "3      2016-01-15 03:00:00                     6.047977   \n",
              "4      2016-01-15 04:00:00                     6.148599   \n",
              "...                    ...                          ...   \n",
              "14144  2018-08-18 06:59:59                     3.224920   \n",
              "14145  2018-08-18 07:59:59                     3.195978   \n",
              "14146  2018-08-18 08:59:59                     3.109998   \n",
              "14147  2018-08-18 09:59:59                     3.367241   \n",
              "14148  2018-08-18 10:59:59                     3.598375   \n",
              "\n",
              "       final.output.concentrate_pb  final.output.concentrate_sol  \\\n",
              "0                         9.889648                      5.507324   \n",
              "1                         9.968944                      5.257781   \n",
              "2                        10.213995                      5.383759   \n",
              "3                         9.977019                      4.858634   \n",
              "4                        10.142511                      4.939416   \n",
              "...                            ...                           ...   \n",
              "14144                    11.356233                      6.803482   \n",
              "14145                    11.349355                      6.862249   \n",
              "14146                    11.434366                      6.886013   \n",
              "14147                    11.625587                      6.799433   \n",
              "14148                    11.737832                      6.717509   \n",
              "\n",
              "       final.output.concentrate_au  final.output.recovery  \\\n",
              "0                        42.192020              70.541216   \n",
              "1                        42.701629              69.266198   \n",
              "2                        42.657501              68.116445   \n",
              "3                        42.689819              68.347543   \n",
              "4                        42.774141              66.927016   \n",
              "...                            ...                    ...   \n",
              "14144                    46.713954              73.755150   \n",
              "14145                    46.866780              69.049291   \n",
              "14146                    46.795691              67.002189   \n",
              "14147                    46.408188              65.523246   \n",
              "14148                    46.299438              70.281454   \n",
              "\n",
              "       final.output.tail_ag  final.output.tail_pb  final.output.tail_sol  \\\n",
              "0                 10.411962              0.895447              16.904297   \n",
              "1                 10.462676              0.927452              16.634514   \n",
              "2                 10.507046              0.953716              16.208849   \n",
              "3                 10.422762              0.883763              16.532835   \n",
              "4                 10.360302              0.792826              16.525686   \n",
              "...                     ...                   ...                    ...   \n",
              "14144              8.769645              3.141541              10.403181   \n",
              "14145              8.897321              3.130493              10.549470   \n",
              "14146              8.529606              2.911418              11.115147   \n",
              "14147              8.777171              2.819214              10.463847   \n",
              "14148              8.406690              2.517518              10.652193   \n",
              "\n",
              "       final.output.tail_au  ...  secondary_cleaner.state.floatbank5_a_air  \\\n",
              "0                  2.143149  ...                                  9.925633   \n",
              "1                  2.224930  ...                                 10.039245   \n",
              "2                  2.257889  ...                                 10.070913   \n",
              "3                  2.146849  ...                                  9.970366   \n",
              "4                  2.055292  ...                                  9.925709   \n",
              "...                     ...  ...                                       ...   \n",
              "14144              1.529220  ...                                 18.006038   \n",
              "14145              1.612542  ...                                 17.998535   \n",
              "14146              1.596616  ...                                 18.019543   \n",
              "14147              1.602879  ...                                 17.979515   \n",
              "14148              1.389434  ...                                 17.963512   \n",
              "\n",
              "       secondary_cleaner.state.floatbank5_a_level  \\\n",
              "0                                     -498.310211   \n",
              "1                                     -500.169983   \n",
              "2                                     -500.129135   \n",
              "3                                     -499.201640   \n",
              "4                                     -501.686727   \n",
              "...                                           ...   \n",
              "14144                                 -499.834374   \n",
              "14145                                 -500.395178   \n",
              "14146                                 -500.451156   \n",
              "14147                                 -499.272871   \n",
              "14148                                 -499.939490   \n",
              "\n",
              "       secondary_cleaner.state.floatbank5_b_air  \\\n",
              "0                                      8.079666   \n",
              "1                                      7.984757   \n",
              "2                                      8.013877   \n",
              "3                                      7.977324   \n",
              "4                                      7.894242   \n",
              "...                                         ...   \n",
              "14144                                 13.001114   \n",
              "14145                                 12.954048   \n",
              "14146                                 13.023431   \n",
              "14147                                 12.992404   \n",
              "14148                                 12.990306   \n",
              "\n",
              "       secondary_cleaner.state.floatbank5_b_level  \\\n",
              "0                                     -500.470978   \n",
              "1                                     -500.582168   \n",
              "2                                     -500.517572   \n",
              "3                                     -500.255908   \n",
              "4                                     -500.356035   \n",
              "...                                           ...   \n",
              "14144                                 -500.155694   \n",
              "14145                                 -499.895163   \n",
              "14146                                 -499.914391   \n",
              "14147                                 -499.976268   \n",
              "14148                                 -500.080993   \n",
              "\n",
              "       secondary_cleaner.state.floatbank6_a_air  \\\n",
              "0                                     14.151341   \n",
              "1                                     13.998353   \n",
              "2                                     14.028663   \n",
              "3                                     14.005551   \n",
              "4                                     13.996647   \n",
              "...                                         ...   \n",
              "14144                                 20.007840   \n",
              "14145                                 19.968498   \n",
              "14146                                 19.990885   \n",
              "14147                                 20.013986   \n",
              "14148                                 19.990336   \n",
              "\n",
              "       secondary_cleaner.state.floatbank6_a_level  \\\n",
              "0                                     -605.841980   \n",
              "1                                     -599.787184   \n",
              "2                                     -601.427363   \n",
              "3                                     -599.996129   \n",
              "4                                     -601.496691   \n",
              "...                                           ...   \n",
              "14144                                 -501.296428   \n",
              "14145                                 -501.041608   \n",
              "14146                                 -501.518452   \n",
              "14147                                 -500.625471   \n",
              "14148                                 -499.191575   \n",
              "\n",
              "       rougher.output.recovery_fact  feed_conc  rougher_conc  final_conc  \n",
              "0                         87.107763  51.680034     66.424950   63.644396  \n",
              "1                         86.843261  50.659114     67.012710   63.957723  \n",
              "2                         86.842308  50.609929     66.103793   64.311180  \n",
              "3                         87.226430  51.061546     65.752751   63.573449  \n",
              "4                         86.688794  47.859163     65.908382   64.004667  \n",
              "...                             ...        ...           ...         ...  \n",
              "14144                     89.574376  53.415050     70.781325   68.098589  \n",
              "14145                     87.724007  53.696482     70.539603   68.274362  \n",
              "14146                     88.890579  54.589604     55.376330   68.226068  \n",
              "14147                     89.858126  54.027355     69.201689   68.200449  \n",
              "14148                     89.514960  53.535054     69.544003   68.353154  \n",
              "\n",
              "[13852 rows x 91 columns]"
            ]
          },
          "execution_count": 31,
          "metadata": {},
          "output_type": "execute_result"
        }
      ],
      "source": [
        "df_train.loc[df_train['rougher_conc'] != 0] "
      ]
    },
    {
      "cell_type": "code",
      "execution_count": null,
      "metadata": {
        "id": "EB9jn89x8QYo",
        "outputId": "cc17f62f-8d59-4479-ff09-0bf4d690b4b7"
      },
      "outputs": [
        {
          "data": {
            "text/html": [
              "<div>\n",
              "<style scoped>\n",
              "    .dataframe tbody tr th:only-of-type {\n",
              "        vertical-align: middle;\n",
              "    }\n",
              "\n",
              "    .dataframe tbody tr th {\n",
              "        vertical-align: top;\n",
              "    }\n",
              "\n",
              "    .dataframe thead th {\n",
              "        text-align: right;\n",
              "    }\n",
              "</style>\n",
              "<table border=\"1\" class=\"dataframe\">\n",
              "  <thead>\n",
              "    <tr style=\"text-align: right;\">\n",
              "      <th></th>\n",
              "      <th>date</th>\n",
              "      <th>final.output.concentrate_ag</th>\n",
              "      <th>final.output.concentrate_pb</th>\n",
              "      <th>final.output.concentrate_sol</th>\n",
              "      <th>final.output.concentrate_au</th>\n",
              "      <th>final.output.recovery</th>\n",
              "      <th>final.output.tail_ag</th>\n",
              "      <th>final.output.tail_pb</th>\n",
              "      <th>final.output.tail_sol</th>\n",
              "      <th>final.output.tail_au</th>\n",
              "      <th>...</th>\n",
              "      <th>secondary_cleaner.state.floatbank5_a_air</th>\n",
              "      <th>secondary_cleaner.state.floatbank5_a_level</th>\n",
              "      <th>secondary_cleaner.state.floatbank5_b_air</th>\n",
              "      <th>secondary_cleaner.state.floatbank5_b_level</th>\n",
              "      <th>secondary_cleaner.state.floatbank6_a_air</th>\n",
              "      <th>secondary_cleaner.state.floatbank6_a_level</th>\n",
              "      <th>rougher.output.recovery_fact</th>\n",
              "      <th>feed_conc</th>\n",
              "      <th>rougher_conc</th>\n",
              "      <th>final_conc</th>\n",
              "    </tr>\n",
              "  </thead>\n",
              "  <tbody>\n",
              "    <tr>\n",
              "      <th>0</th>\n",
              "      <td>2016-01-15 00:00:00</td>\n",
              "      <td>6.055403</td>\n",
              "      <td>9.889648</td>\n",
              "      <td>5.507324</td>\n",
              "      <td>42.192020</td>\n",
              "      <td>70.541216</td>\n",
              "      <td>10.411962</td>\n",
              "      <td>0.895447</td>\n",
              "      <td>16.904297</td>\n",
              "      <td>2.143149</td>\n",
              "      <td>...</td>\n",
              "      <td>9.925633</td>\n",
              "      <td>-498.310211</td>\n",
              "      <td>8.079666</td>\n",
              "      <td>-500.470978</td>\n",
              "      <td>14.151341</td>\n",
              "      <td>-605.841980</td>\n",
              "      <td>87.107763</td>\n",
              "      <td>51.680034</td>\n",
              "      <td>66.424950</td>\n",
              "      <td>63.644396</td>\n",
              "    </tr>\n",
              "    <tr>\n",
              "      <th>1</th>\n",
              "      <td>2016-01-15 01:00:00</td>\n",
              "      <td>6.029369</td>\n",
              "      <td>9.968944</td>\n",
              "      <td>5.257781</td>\n",
              "      <td>42.701629</td>\n",
              "      <td>69.266198</td>\n",
              "      <td>10.462676</td>\n",
              "      <td>0.927452</td>\n",
              "      <td>16.634514</td>\n",
              "      <td>2.224930</td>\n",
              "      <td>...</td>\n",
              "      <td>10.039245</td>\n",
              "      <td>-500.169983</td>\n",
              "      <td>7.984757</td>\n",
              "      <td>-500.582168</td>\n",
              "      <td>13.998353</td>\n",
              "      <td>-599.787184</td>\n",
              "      <td>86.843261</td>\n",
              "      <td>50.659114</td>\n",
              "      <td>67.012710</td>\n",
              "      <td>63.957723</td>\n",
              "    </tr>\n",
              "    <tr>\n",
              "      <th>2</th>\n",
              "      <td>2016-01-15 02:00:00</td>\n",
              "      <td>6.055926</td>\n",
              "      <td>10.213995</td>\n",
              "      <td>5.383759</td>\n",
              "      <td>42.657501</td>\n",
              "      <td>68.116445</td>\n",
              "      <td>10.507046</td>\n",
              "      <td>0.953716</td>\n",
              "      <td>16.208849</td>\n",
              "      <td>2.257889</td>\n",
              "      <td>...</td>\n",
              "      <td>10.070913</td>\n",
              "      <td>-500.129135</td>\n",
              "      <td>8.013877</td>\n",
              "      <td>-500.517572</td>\n",
              "      <td>14.028663</td>\n",
              "      <td>-601.427363</td>\n",
              "      <td>86.842308</td>\n",
              "      <td>50.609929</td>\n",
              "      <td>66.103793</td>\n",
              "      <td>64.311180</td>\n",
              "    </tr>\n",
              "    <tr>\n",
              "      <th>3</th>\n",
              "      <td>2016-01-15 03:00:00</td>\n",
              "      <td>6.047977</td>\n",
              "      <td>9.977019</td>\n",
              "      <td>4.858634</td>\n",
              "      <td>42.689819</td>\n",
              "      <td>68.347543</td>\n",
              "      <td>10.422762</td>\n",
              "      <td>0.883763</td>\n",
              "      <td>16.532835</td>\n",
              "      <td>2.146849</td>\n",
              "      <td>...</td>\n",
              "      <td>9.970366</td>\n",
              "      <td>-499.201640</td>\n",
              "      <td>7.977324</td>\n",
              "      <td>-500.255908</td>\n",
              "      <td>14.005551</td>\n",
              "      <td>-599.996129</td>\n",
              "      <td>87.226430</td>\n",
              "      <td>51.061546</td>\n",
              "      <td>65.752751</td>\n",
              "      <td>63.573449</td>\n",
              "    </tr>\n",
              "    <tr>\n",
              "      <th>4</th>\n",
              "      <td>2016-01-15 04:00:00</td>\n",
              "      <td>6.148599</td>\n",
              "      <td>10.142511</td>\n",
              "      <td>4.939416</td>\n",
              "      <td>42.774141</td>\n",
              "      <td>66.927016</td>\n",
              "      <td>10.360302</td>\n",
              "      <td>0.792826</td>\n",
              "      <td>16.525686</td>\n",
              "      <td>2.055292</td>\n",
              "      <td>...</td>\n",
              "      <td>9.925709</td>\n",
              "      <td>-501.686727</td>\n",
              "      <td>7.894242</td>\n",
              "      <td>-500.356035</td>\n",
              "      <td>13.996647</td>\n",
              "      <td>-601.496691</td>\n",
              "      <td>86.688794</td>\n",
              "      <td>47.859163</td>\n",
              "      <td>65.908382</td>\n",
              "      <td>64.004667</td>\n",
              "    </tr>\n",
              "    <tr>\n",
              "      <th>...</th>\n",
              "      <td>...</td>\n",
              "      <td>...</td>\n",
              "      <td>...</td>\n",
              "      <td>...</td>\n",
              "      <td>...</td>\n",
              "      <td>...</td>\n",
              "      <td>...</td>\n",
              "      <td>...</td>\n",
              "      <td>...</td>\n",
              "      <td>...</td>\n",
              "      <td>...</td>\n",
              "      <td>...</td>\n",
              "      <td>...</td>\n",
              "      <td>...</td>\n",
              "      <td>...</td>\n",
              "      <td>...</td>\n",
              "      <td>...</td>\n",
              "      <td>...</td>\n",
              "      <td>...</td>\n",
              "      <td>...</td>\n",
              "      <td>...</td>\n",
              "    </tr>\n",
              "    <tr>\n",
              "      <th>14144</th>\n",
              "      <td>2018-08-18 06:59:59</td>\n",
              "      <td>3.224920</td>\n",
              "      <td>11.356233</td>\n",
              "      <td>6.803482</td>\n",
              "      <td>46.713954</td>\n",
              "      <td>73.755150</td>\n",
              "      <td>8.769645</td>\n",
              "      <td>3.141541</td>\n",
              "      <td>10.403181</td>\n",
              "      <td>1.529220</td>\n",
              "      <td>...</td>\n",
              "      <td>18.006038</td>\n",
              "      <td>-499.834374</td>\n",
              "      <td>13.001114</td>\n",
              "      <td>-500.155694</td>\n",
              "      <td>20.007840</td>\n",
              "      <td>-501.296428</td>\n",
              "      <td>89.574376</td>\n",
              "      <td>53.415050</td>\n",
              "      <td>70.781325</td>\n",
              "      <td>68.098589</td>\n",
              "    </tr>\n",
              "    <tr>\n",
              "      <th>14145</th>\n",
              "      <td>2018-08-18 07:59:59</td>\n",
              "      <td>3.195978</td>\n",
              "      <td>11.349355</td>\n",
              "      <td>6.862249</td>\n",
              "      <td>46.866780</td>\n",
              "      <td>69.049291</td>\n",
              "      <td>8.897321</td>\n",
              "      <td>3.130493</td>\n",
              "      <td>10.549470</td>\n",
              "      <td>1.612542</td>\n",
              "      <td>...</td>\n",
              "      <td>17.998535</td>\n",
              "      <td>-500.395178</td>\n",
              "      <td>12.954048</td>\n",
              "      <td>-499.895163</td>\n",
              "      <td>19.968498</td>\n",
              "      <td>-501.041608</td>\n",
              "      <td>87.724007</td>\n",
              "      <td>53.696482</td>\n",
              "      <td>70.539603</td>\n",
              "      <td>68.274362</td>\n",
              "    </tr>\n",
              "    <tr>\n",
              "      <th>14146</th>\n",
              "      <td>2018-08-18 08:59:59</td>\n",
              "      <td>3.109998</td>\n",
              "      <td>11.434366</td>\n",
              "      <td>6.886013</td>\n",
              "      <td>46.795691</td>\n",
              "      <td>67.002189</td>\n",
              "      <td>8.529606</td>\n",
              "      <td>2.911418</td>\n",
              "      <td>11.115147</td>\n",
              "      <td>1.596616</td>\n",
              "      <td>...</td>\n",
              "      <td>18.019543</td>\n",
              "      <td>-500.451156</td>\n",
              "      <td>13.023431</td>\n",
              "      <td>-499.914391</td>\n",
              "      <td>19.990885</td>\n",
              "      <td>-501.518452</td>\n",
              "      <td>88.890579</td>\n",
              "      <td>54.589604</td>\n",
              "      <td>55.376330</td>\n",
              "      <td>68.226068</td>\n",
              "    </tr>\n",
              "    <tr>\n",
              "      <th>14147</th>\n",
              "      <td>2018-08-18 09:59:59</td>\n",
              "      <td>3.367241</td>\n",
              "      <td>11.625587</td>\n",
              "      <td>6.799433</td>\n",
              "      <td>46.408188</td>\n",
              "      <td>65.523246</td>\n",
              "      <td>8.777171</td>\n",
              "      <td>2.819214</td>\n",
              "      <td>10.463847</td>\n",
              "      <td>1.602879</td>\n",
              "      <td>...</td>\n",
              "      <td>17.979515</td>\n",
              "      <td>-499.272871</td>\n",
              "      <td>12.992404</td>\n",
              "      <td>-499.976268</td>\n",
              "      <td>20.013986</td>\n",
              "      <td>-500.625471</td>\n",
              "      <td>89.858126</td>\n",
              "      <td>54.027355</td>\n",
              "      <td>69.201689</td>\n",
              "      <td>68.200449</td>\n",
              "    </tr>\n",
              "    <tr>\n",
              "      <th>14148</th>\n",
              "      <td>2018-08-18 10:59:59</td>\n",
              "      <td>3.598375</td>\n",
              "      <td>11.737832</td>\n",
              "      <td>6.717509</td>\n",
              "      <td>46.299438</td>\n",
              "      <td>70.281454</td>\n",
              "      <td>8.406690</td>\n",
              "      <td>2.517518</td>\n",
              "      <td>10.652193</td>\n",
              "      <td>1.389434</td>\n",
              "      <td>...</td>\n",
              "      <td>17.963512</td>\n",
              "      <td>-499.939490</td>\n",
              "      <td>12.990306</td>\n",
              "      <td>-500.080993</td>\n",
              "      <td>19.990336</td>\n",
              "      <td>-499.191575</td>\n",
              "      <td>89.514960</td>\n",
              "      <td>53.535054</td>\n",
              "      <td>69.544003</td>\n",
              "      <td>68.353154</td>\n",
              "    </tr>\n",
              "  </tbody>\n",
              "</table>\n",
              "<p>14091 rows × 91 columns</p>\n",
              "</div>"
            ],
            "text/plain": [
              "                      date  final.output.concentrate_ag  \\\n",
              "0      2016-01-15 00:00:00                     6.055403   \n",
              "1      2016-01-15 01:00:00                     6.029369   \n",
              "2      2016-01-15 02:00:00                     6.055926   \n",
              "3      2016-01-15 03:00:00                     6.047977   \n",
              "4      2016-01-15 04:00:00                     6.148599   \n",
              "...                    ...                          ...   \n",
              "14144  2018-08-18 06:59:59                     3.224920   \n",
              "14145  2018-08-18 07:59:59                     3.195978   \n",
              "14146  2018-08-18 08:59:59                     3.109998   \n",
              "14147  2018-08-18 09:59:59                     3.367241   \n",
              "14148  2018-08-18 10:59:59                     3.598375   \n",
              "\n",
              "       final.output.concentrate_pb  final.output.concentrate_sol  \\\n",
              "0                         9.889648                      5.507324   \n",
              "1                         9.968944                      5.257781   \n",
              "2                        10.213995                      5.383759   \n",
              "3                         9.977019                      4.858634   \n",
              "4                        10.142511                      4.939416   \n",
              "...                            ...                           ...   \n",
              "14144                    11.356233                      6.803482   \n",
              "14145                    11.349355                      6.862249   \n",
              "14146                    11.434366                      6.886013   \n",
              "14147                    11.625587                      6.799433   \n",
              "14148                    11.737832                      6.717509   \n",
              "\n",
              "       final.output.concentrate_au  final.output.recovery  \\\n",
              "0                        42.192020              70.541216   \n",
              "1                        42.701629              69.266198   \n",
              "2                        42.657501              68.116445   \n",
              "3                        42.689819              68.347543   \n",
              "4                        42.774141              66.927016   \n",
              "...                            ...                    ...   \n",
              "14144                    46.713954              73.755150   \n",
              "14145                    46.866780              69.049291   \n",
              "14146                    46.795691              67.002189   \n",
              "14147                    46.408188              65.523246   \n",
              "14148                    46.299438              70.281454   \n",
              "\n",
              "       final.output.tail_ag  final.output.tail_pb  final.output.tail_sol  \\\n",
              "0                 10.411962              0.895447              16.904297   \n",
              "1                 10.462676              0.927452              16.634514   \n",
              "2                 10.507046              0.953716              16.208849   \n",
              "3                 10.422762              0.883763              16.532835   \n",
              "4                 10.360302              0.792826              16.525686   \n",
              "...                     ...                   ...                    ...   \n",
              "14144              8.769645              3.141541              10.403181   \n",
              "14145              8.897321              3.130493              10.549470   \n",
              "14146              8.529606              2.911418              11.115147   \n",
              "14147              8.777171              2.819214              10.463847   \n",
              "14148              8.406690              2.517518              10.652193   \n",
              "\n",
              "       final.output.tail_au  ...  secondary_cleaner.state.floatbank5_a_air  \\\n",
              "0                  2.143149  ...                                  9.925633   \n",
              "1                  2.224930  ...                                 10.039245   \n",
              "2                  2.257889  ...                                 10.070913   \n",
              "3                  2.146849  ...                                  9.970366   \n",
              "4                  2.055292  ...                                  9.925709   \n",
              "...                     ...  ...                                       ...   \n",
              "14144              1.529220  ...                                 18.006038   \n",
              "14145              1.612542  ...                                 17.998535   \n",
              "14146              1.596616  ...                                 18.019543   \n",
              "14147              1.602879  ...                                 17.979515   \n",
              "14148              1.389434  ...                                 17.963512   \n",
              "\n",
              "       secondary_cleaner.state.floatbank5_a_level  \\\n",
              "0                                     -498.310211   \n",
              "1                                     -500.169983   \n",
              "2                                     -500.129135   \n",
              "3                                     -499.201640   \n",
              "4                                     -501.686727   \n",
              "...                                           ...   \n",
              "14144                                 -499.834374   \n",
              "14145                                 -500.395178   \n",
              "14146                                 -500.451156   \n",
              "14147                                 -499.272871   \n",
              "14148                                 -499.939490   \n",
              "\n",
              "       secondary_cleaner.state.floatbank5_b_air  \\\n",
              "0                                      8.079666   \n",
              "1                                      7.984757   \n",
              "2                                      8.013877   \n",
              "3                                      7.977324   \n",
              "4                                      7.894242   \n",
              "...                                         ...   \n",
              "14144                                 13.001114   \n",
              "14145                                 12.954048   \n",
              "14146                                 13.023431   \n",
              "14147                                 12.992404   \n",
              "14148                                 12.990306   \n",
              "\n",
              "       secondary_cleaner.state.floatbank5_b_level  \\\n",
              "0                                     -500.470978   \n",
              "1                                     -500.582168   \n",
              "2                                     -500.517572   \n",
              "3                                     -500.255908   \n",
              "4                                     -500.356035   \n",
              "...                                           ...   \n",
              "14144                                 -500.155694   \n",
              "14145                                 -499.895163   \n",
              "14146                                 -499.914391   \n",
              "14147                                 -499.976268   \n",
              "14148                                 -500.080993   \n",
              "\n",
              "       secondary_cleaner.state.floatbank6_a_air  \\\n",
              "0                                     14.151341   \n",
              "1                                     13.998353   \n",
              "2                                     14.028663   \n",
              "3                                     14.005551   \n",
              "4                                     13.996647   \n",
              "...                                         ...   \n",
              "14144                                 20.007840   \n",
              "14145                                 19.968498   \n",
              "14146                                 19.990885   \n",
              "14147                                 20.013986   \n",
              "14148                                 19.990336   \n",
              "\n",
              "       secondary_cleaner.state.floatbank6_a_level  \\\n",
              "0                                     -605.841980   \n",
              "1                                     -599.787184   \n",
              "2                                     -601.427363   \n",
              "3                                     -599.996129   \n",
              "4                                     -601.496691   \n",
              "...                                           ...   \n",
              "14144                                 -501.296428   \n",
              "14145                                 -501.041608   \n",
              "14146                                 -501.518452   \n",
              "14147                                 -500.625471   \n",
              "14148                                 -499.191575   \n",
              "\n",
              "       rougher.output.recovery_fact  feed_conc  rougher_conc  final_conc  \n",
              "0                         87.107763  51.680034     66.424950   63.644396  \n",
              "1                         86.843261  50.659114     67.012710   63.957723  \n",
              "2                         86.842308  50.609929     66.103793   64.311180  \n",
              "3                         87.226430  51.061546     65.752751   63.573449  \n",
              "4                         86.688794  47.859163     65.908382   64.004667  \n",
              "...                             ...        ...           ...         ...  \n",
              "14144                     89.574376  53.415050     70.781325   68.098589  \n",
              "14145                     87.724007  53.696482     70.539603   68.274362  \n",
              "14146                     88.890579  54.589604     55.376330   68.226068  \n",
              "14147                     89.858126  54.027355     69.201689   68.200449  \n",
              "14148                     89.514960  53.535054     69.544003   68.353154  \n",
              "\n",
              "[14091 rows x 91 columns]"
            ]
          },
          "execution_count": 32,
          "metadata": {},
          "output_type": "execute_result"
        }
      ],
      "source": [
        "df_train.loc[df_train['final_conc'] != 0]"
      ]
    },
    {
      "cell_type": "code",
      "execution_count": null,
      "metadata": {
        "id": "pO6Z_t2x8QYp"
      },
      "outputs": [],
      "source": [
        "df_test['feed_conc'] = df_test['rougher.input.feed_ag'] + df_test['rougher.input.feed_pb'] + df_test['rougher.input.feed_sol'] + df_test['rougher.input.feed_au']"
      ]
    },
    {
      "cell_type": "code",
      "execution_count": null,
      "metadata": {
        "id": "YP0yqtjL8QYp",
        "outputId": "5259b224-3e1c-492b-f148-39f5c28a7c95"
      },
      "outputs": [
        {
          "data": {
            "text/plain": [
              "<AxesSubplot:>"
            ]
          },
          "execution_count": 34,
          "metadata": {},
          "output_type": "execute_result"
        },
        {
          "data": {
            "image/png": "[encoded data removed]",
            "text/plain": [
              "<Figure size 432x288 with 1 Axes>"
            ]
          },
          "metadata": {
            "needs_background": "light"
          },
          "output_type": "display_data"
        }
      ],
      "source": [
        "df_test['feed_conc'].hist()"
      ]
    },
    {
      "cell_type": "code",
      "execution_count": null,
      "metadata": {
        "id": "gNKEPawn8QYq",
        "outputId": "47e41055-7627-4f65-990b-ae81c55d5c55"
      },
      "outputs": [
        {
          "data": {
            "text/html": [
              "<div>\n",
              "<style scoped>\n",
              "    .dataframe tbody tr th:only-of-type {\n",
              "        vertical-align: middle;\n",
              "    }\n",
              "\n",
              "    .dataframe tbody tr th {\n",
              "        vertical-align: top;\n",
              "    }\n",
              "\n",
              "    .dataframe thead th {\n",
              "        text-align: right;\n",
              "    }\n",
              "</style>\n",
              "<table border=\"1\" class=\"dataframe\">\n",
              "  <thead>\n",
              "    <tr style=\"text-align: right;\">\n",
              "      <th></th>\n",
              "      <th>date</th>\n",
              "      <th>primary_cleaner.input.sulfate</th>\n",
              "      <th>primary_cleaner.input.depressant</th>\n",
              "      <th>primary_cleaner.input.feed_size</th>\n",
              "      <th>primary_cleaner.input.xanthate</th>\n",
              "      <th>primary_cleaner.state.floatbank8_a_air</th>\n",
              "      <th>primary_cleaner.state.floatbank8_a_level</th>\n",
              "      <th>primary_cleaner.state.floatbank8_b_air</th>\n",
              "      <th>primary_cleaner.state.floatbank8_b_level</th>\n",
              "      <th>primary_cleaner.state.floatbank8_c_air</th>\n",
              "      <th>...</th>\n",
              "      <th>secondary_cleaner.state.floatbank4_a_level</th>\n",
              "      <th>secondary_cleaner.state.floatbank4_b_air</th>\n",
              "      <th>secondary_cleaner.state.floatbank4_b_level</th>\n",
              "      <th>secondary_cleaner.state.floatbank5_a_air</th>\n",
              "      <th>secondary_cleaner.state.floatbank5_a_level</th>\n",
              "      <th>secondary_cleaner.state.floatbank5_b_air</th>\n",
              "      <th>secondary_cleaner.state.floatbank5_b_level</th>\n",
              "      <th>secondary_cleaner.state.floatbank6_a_air</th>\n",
              "      <th>secondary_cleaner.state.floatbank6_a_level</th>\n",
              "      <th>feed_conc</th>\n",
              "    </tr>\n",
              "  </thead>\n",
              "  <tbody>\n",
              "    <tr>\n",
              "      <th>0</th>\n",
              "      <td>2016-09-01 00:59:59</td>\n",
              "      <td>210.800909</td>\n",
              "      <td>14.993118</td>\n",
              "      <td>8.080000</td>\n",
              "      <td>1.005021</td>\n",
              "      <td>1398.981301</td>\n",
              "      <td>-500.225577</td>\n",
              "      <td>1399.144926</td>\n",
              "      <td>-499.919735</td>\n",
              "      <td>1400.102998</td>\n",
              "      <td>...</td>\n",
              "      <td>-497.795834</td>\n",
              "      <td>8.016656</td>\n",
              "      <td>-501.289139</td>\n",
              "      <td>7.946562</td>\n",
              "      <td>-432.317850</td>\n",
              "      <td>4.872511</td>\n",
              "      <td>-500.037437</td>\n",
              "      <td>26.705889</td>\n",
              "      <td>-499.709414</td>\n",
              "      <td>72.871822</td>\n",
              "    </tr>\n",
              "    <tr>\n",
              "      <th>1</th>\n",
              "      <td>2016-09-01 01:59:59</td>\n",
              "      <td>215.392455</td>\n",
              "      <td>14.987471</td>\n",
              "      <td>8.080000</td>\n",
              "      <td>0.990469</td>\n",
              "      <td>1398.777912</td>\n",
              "      <td>-500.057435</td>\n",
              "      <td>1398.055362</td>\n",
              "      <td>-499.778182</td>\n",
              "      <td>1396.151033</td>\n",
              "      <td>...</td>\n",
              "      <td>-498.695773</td>\n",
              "      <td>8.130979</td>\n",
              "      <td>-499.634209</td>\n",
              "      <td>7.958270</td>\n",
              "      <td>-525.839648</td>\n",
              "      <td>4.878850</td>\n",
              "      <td>-500.162375</td>\n",
              "      <td>25.019940</td>\n",
              "      <td>-499.819438</td>\n",
              "      <td>71.669225</td>\n",
              "    </tr>\n",
              "    <tr>\n",
              "      <th>2</th>\n",
              "      <td>2016-09-01 02:59:59</td>\n",
              "      <td>215.259946</td>\n",
              "      <td>12.884934</td>\n",
              "      <td>7.786667</td>\n",
              "      <td>0.996043</td>\n",
              "      <td>1398.493666</td>\n",
              "      <td>-500.868360</td>\n",
              "      <td>1398.860436</td>\n",
              "      <td>-499.764529</td>\n",
              "      <td>1398.075709</td>\n",
              "      <td>...</td>\n",
              "      <td>-498.767484</td>\n",
              "      <td>8.096893</td>\n",
              "      <td>-500.827423</td>\n",
              "      <td>8.071056</td>\n",
              "      <td>-500.801673</td>\n",
              "      <td>4.905125</td>\n",
              "      <td>-499.828510</td>\n",
              "      <td>24.994862</td>\n",
              "      <td>-500.622559</td>\n",
              "      <td>73.202598</td>\n",
              "    </tr>\n",
              "    <tr>\n",
              "      <th>3</th>\n",
              "      <td>2016-09-01 03:59:59</td>\n",
              "      <td>215.336236</td>\n",
              "      <td>12.006805</td>\n",
              "      <td>7.640000</td>\n",
              "      <td>0.863514</td>\n",
              "      <td>1399.618111</td>\n",
              "      <td>-498.863574</td>\n",
              "      <td>1397.440120</td>\n",
              "      <td>-499.211024</td>\n",
              "      <td>1400.129303</td>\n",
              "      <td>...</td>\n",
              "      <td>-498.350935</td>\n",
              "      <td>8.074946</td>\n",
              "      <td>-499.474407</td>\n",
              "      <td>7.897085</td>\n",
              "      <td>-500.868509</td>\n",
              "      <td>4.931400</td>\n",
              "      <td>-499.963623</td>\n",
              "      <td>24.948919</td>\n",
              "      <td>-498.709987</td>\n",
              "      <td>70.757057</td>\n",
              "    </tr>\n",
              "    <tr>\n",
              "      <th>4</th>\n",
              "      <td>2016-09-01 04:59:59</td>\n",
              "      <td>199.099327</td>\n",
              "      <td>10.682530</td>\n",
              "      <td>7.530000</td>\n",
              "      <td>0.805575</td>\n",
              "      <td>1401.268123</td>\n",
              "      <td>-500.808305</td>\n",
              "      <td>1398.128818</td>\n",
              "      <td>-499.504543</td>\n",
              "      <td>1402.172226</td>\n",
              "      <td>...</td>\n",
              "      <td>-500.786497</td>\n",
              "      <td>8.054678</td>\n",
              "      <td>-500.397500</td>\n",
              "      <td>8.107890</td>\n",
              "      <td>-509.526725</td>\n",
              "      <td>4.957674</td>\n",
              "      <td>-500.360026</td>\n",
              "      <td>25.003331</td>\n",
              "      <td>-500.856333</td>\n",
              "      <td>68.654396</td>\n",
              "    </tr>\n",
              "    <tr>\n",
              "      <th>...</th>\n",
              "      <td>...</td>\n",
              "      <td>...</td>\n",
              "      <td>...</td>\n",
              "      <td>...</td>\n",
              "      <td>...</td>\n",
              "      <td>...</td>\n",
              "      <td>...</td>\n",
              "      <td>...</td>\n",
              "      <td>...</td>\n",
              "      <td>...</td>\n",
              "      <td>...</td>\n",
              "      <td>...</td>\n",
              "      <td>...</td>\n",
              "      <td>...</td>\n",
              "      <td>...</td>\n",
              "      <td>...</td>\n",
              "      <td>...</td>\n",
              "      <td>...</td>\n",
              "      <td>...</td>\n",
              "      <td>...</td>\n",
              "      <td>...</td>\n",
              "    </tr>\n",
              "    <tr>\n",
              "      <th>5285</th>\n",
              "      <td>2017-12-31 19:59:59</td>\n",
              "      <td>173.957757</td>\n",
              "      <td>15.963399</td>\n",
              "      <td>8.070000</td>\n",
              "      <td>0.896701</td>\n",
              "      <td>1401.930554</td>\n",
              "      <td>-499.728848</td>\n",
              "      <td>1401.441445</td>\n",
              "      <td>-499.193423</td>\n",
              "      <td>1399.810313</td>\n",
              "      <td>...</td>\n",
              "      <td>-500.157454</td>\n",
              "      <td>12.069155</td>\n",
              "      <td>-499.673279</td>\n",
              "      <td>7.977259</td>\n",
              "      <td>-499.516126</td>\n",
              "      <td>5.933319</td>\n",
              "      <td>-499.965973</td>\n",
              "      <td>8.987171</td>\n",
              "      <td>-499.755909</td>\n",
              "      <td>68.910849</td>\n",
              "    </tr>\n",
              "    <tr>\n",
              "      <th>5286</th>\n",
              "      <td>2017-12-31 20:59:59</td>\n",
              "      <td>172.910270</td>\n",
              "      <td>16.002605</td>\n",
              "      <td>8.070000</td>\n",
              "      <td>0.896519</td>\n",
              "      <td>1447.075722</td>\n",
              "      <td>-494.716823</td>\n",
              "      <td>1448.851892</td>\n",
              "      <td>-465.963026</td>\n",
              "      <td>1443.890424</td>\n",
              "      <td>...</td>\n",
              "      <td>-496.031539</td>\n",
              "      <td>13.365371</td>\n",
              "      <td>-499.122723</td>\n",
              "      <td>9.288553</td>\n",
              "      <td>-496.892967</td>\n",
              "      <td>7.372897</td>\n",
              "      <td>-499.942956</td>\n",
              "      <td>8.986832</td>\n",
              "      <td>-499.903761</td>\n",
              "      <td>67.166899</td>\n",
              "    </tr>\n",
              "    <tr>\n",
              "      <th>5287</th>\n",
              "      <td>2017-12-31 21:59:59</td>\n",
              "      <td>171.135718</td>\n",
              "      <td>15.993669</td>\n",
              "      <td>8.070000</td>\n",
              "      <td>1.165996</td>\n",
              "      <td>1498.836182</td>\n",
              "      <td>-501.770403</td>\n",
              "      <td>1499.572353</td>\n",
              "      <td>-495.516347</td>\n",
              "      <td>1502.749213</td>\n",
              "      <td>...</td>\n",
              "      <td>-499.791312</td>\n",
              "      <td>15.101425</td>\n",
              "      <td>-499.936252</td>\n",
              "      <td>10.989181</td>\n",
              "      <td>-498.347898</td>\n",
              "      <td>9.020944</td>\n",
              "      <td>-500.040448</td>\n",
              "      <td>8.982038</td>\n",
              "      <td>-497.789882</td>\n",
              "      <td>66.955814</td>\n",
              "    </tr>\n",
              "    <tr>\n",
              "      <th>5288</th>\n",
              "      <td>2017-12-31 22:59:59</td>\n",
              "      <td>179.697158</td>\n",
              "      <td>15.438979</td>\n",
              "      <td>8.070000</td>\n",
              "      <td>1.501068</td>\n",
              "      <td>1498.466243</td>\n",
              "      <td>-500.483984</td>\n",
              "      <td>1497.986986</td>\n",
              "      <td>-519.200340</td>\n",
              "      <td>1496.569047</td>\n",
              "      <td>...</td>\n",
              "      <td>-499.958750</td>\n",
              "      <td>15.026853</td>\n",
              "      <td>-499.723143</td>\n",
              "      <td>11.011607</td>\n",
              "      <td>-499.985046</td>\n",
              "      <td>9.009783</td>\n",
              "      <td>-499.937902</td>\n",
              "      <td>9.012660</td>\n",
              "      <td>-500.154284</td>\n",
              "      <td>67.420094</td>\n",
              "    </tr>\n",
              "    <tr>\n",
              "      <th>5289</th>\n",
              "      <td>2017-12-31 23:59:59</td>\n",
              "      <td>181.556856</td>\n",
              "      <td>14.995850</td>\n",
              "      <td>8.070000</td>\n",
              "      <td>1.623454</td>\n",
              "      <td>1498.096303</td>\n",
              "      <td>-499.796922</td>\n",
              "      <td>1501.743791</td>\n",
              "      <td>-505.146931</td>\n",
              "      <td>1499.535978</td>\n",
              "      <td>...</td>\n",
              "      <td>-500.728588</td>\n",
              "      <td>14.914199</td>\n",
              "      <td>-499.948518</td>\n",
              "      <td>10.986607</td>\n",
              "      <td>-500.658027</td>\n",
              "      <td>8.989497</td>\n",
              "      <td>-500.337588</td>\n",
              "      <td>8.988632</td>\n",
              "      <td>-500.764937</td>\n",
              "      <td>65.583618</td>\n",
              "    </tr>\n",
              "  </tbody>\n",
              "</table>\n",
              "<p>5290 rows × 54 columns</p>\n",
              "</div>"
            ],
            "text/plain": [
              "                     date  primary_cleaner.input.sulfate  \\\n",
              "0     2016-09-01 00:59:59                     210.800909   \n",
              "1     2016-09-01 01:59:59                     215.392455   \n",
              "2     2016-09-01 02:59:59                     215.259946   \n",
              "3     2016-09-01 03:59:59                     215.336236   \n",
              "4     2016-09-01 04:59:59                     199.099327   \n",
              "...                   ...                            ...   \n",
              "5285  2017-12-31 19:59:59                     173.957757   \n",
              "5286  2017-12-31 20:59:59                     172.910270   \n",
              "5287  2017-12-31 21:59:59                     171.135718   \n",
              "5288  2017-12-31 22:59:59                     179.697158   \n",
              "5289  2017-12-31 23:59:59                     181.556856   \n",
              "\n",
              "      primary_cleaner.input.depressant  primary_cleaner.input.feed_size  \\\n",
              "0                            14.993118                         8.080000   \n",
              "1                            14.987471                         8.080000   \n",
              "2                            12.884934                         7.786667   \n",
              "3                            12.006805                         7.640000   \n",
              "4                            10.682530                         7.530000   \n",
              "...                                ...                              ...   \n",
              "5285                         15.963399                         8.070000   \n",
              "5286                         16.002605                         8.070000   \n",
              "5287                         15.993669                         8.070000   \n",
              "5288                         15.438979                         8.070000   \n",
              "5289                         14.995850                         8.070000   \n",
              "\n",
              "      primary_cleaner.input.xanthate  primary_cleaner.state.floatbank8_a_air  \\\n",
              "0                           1.005021                             1398.981301   \n",
              "1                           0.990469                             1398.777912   \n",
              "2                           0.996043                             1398.493666   \n",
              "3                           0.863514                             1399.618111   \n",
              "4                           0.805575                             1401.268123   \n",
              "...                              ...                                     ...   \n",
              "5285                        0.896701                             1401.930554   \n",
              "5286                        0.896519                             1447.075722   \n",
              "5287                        1.165996                             1498.836182   \n",
              "5288                        1.501068                             1498.466243   \n",
              "5289                        1.623454                             1498.096303   \n",
              "\n",
              "      primary_cleaner.state.floatbank8_a_level  \\\n",
              "0                                  -500.225577   \n",
              "1                                  -500.057435   \n",
              "2                                  -500.868360   \n",
              "3                                  -498.863574   \n",
              "4                                  -500.808305   \n",
              "...                                        ...   \n",
              "5285                               -499.728848   \n",
              "5286                               -494.716823   \n",
              "5287                               -501.770403   \n",
              "5288                               -500.483984   \n",
              "5289                               -499.796922   \n",
              "\n",
              "      primary_cleaner.state.floatbank8_b_air  \\\n",
              "0                                1399.144926   \n",
              "1                                1398.055362   \n",
              "2                                1398.860436   \n",
              "3                                1397.440120   \n",
              "4                                1398.128818   \n",
              "...                                      ...   \n",
              "5285                             1401.441445   \n",
              "5286                             1448.851892   \n",
              "5287                             1499.572353   \n",
              "5288                             1497.986986   \n",
              "5289                             1501.743791   \n",
              "\n",
              "      primary_cleaner.state.floatbank8_b_level  \\\n",
              "0                                  -499.919735   \n",
              "1                                  -499.778182   \n",
              "2                                  -499.764529   \n",
              "3                                  -499.211024   \n",
              "4                                  -499.504543   \n",
              "...                                        ...   \n",
              "5285                               -499.193423   \n",
              "5286                               -465.963026   \n",
              "5287                               -495.516347   \n",
              "5288                               -519.200340   \n",
              "5289                               -505.146931   \n",
              "\n",
              "      primary_cleaner.state.floatbank8_c_air  ...  \\\n",
              "0                                1400.102998  ...   \n",
              "1                                1396.151033  ...   \n",
              "2                                1398.075709  ...   \n",
              "3                                1400.129303  ...   \n",
              "4                                1402.172226  ...   \n",
              "...                                      ...  ...   \n",
              "5285                             1399.810313  ...   \n",
              "5286                             1443.890424  ...   \n",
              "5287                             1502.749213  ...   \n",
              "5288                             1496.569047  ...   \n",
              "5289                             1499.535978  ...   \n",
              "\n",
              "      secondary_cleaner.state.floatbank4_a_level  \\\n",
              "0                                    -497.795834   \n",
              "1                                    -498.695773   \n",
              "2                                    -498.767484   \n",
              "3                                    -498.350935   \n",
              "4                                    -500.786497   \n",
              "...                                          ...   \n",
              "5285                                 -500.157454   \n",
              "5286                                 -496.031539   \n",
              "5287                                 -499.791312   \n",
              "5288                                 -499.958750   \n",
              "5289                                 -500.728588   \n",
              "\n",
              "      secondary_cleaner.state.floatbank4_b_air  \\\n",
              "0                                     8.016656   \n",
              "1                                     8.130979   \n",
              "2                                     8.096893   \n",
              "3                                     8.074946   \n",
              "4                                     8.054678   \n",
              "...                                        ...   \n",
              "5285                                 12.069155   \n",
              "5286                                 13.365371   \n",
              "5287                                 15.101425   \n",
              "5288                                 15.026853   \n",
              "5289                                 14.914199   \n",
              "\n",
              "      secondary_cleaner.state.floatbank4_b_level  \\\n",
              "0                                    -501.289139   \n",
              "1                                    -499.634209   \n",
              "2                                    -500.827423   \n",
              "3                                    -499.474407   \n",
              "4                                    -500.397500   \n",
              "...                                          ...   \n",
              "5285                                 -499.673279   \n",
              "5286                                 -499.122723   \n",
              "5287                                 -499.936252   \n",
              "5288                                 -499.723143   \n",
              "5289                                 -499.948518   \n",
              "\n",
              "      secondary_cleaner.state.floatbank5_a_air  \\\n",
              "0                                     7.946562   \n",
              "1                                     7.958270   \n",
              "2                                     8.071056   \n",
              "3                                     7.897085   \n",
              "4                                     8.107890   \n",
              "...                                        ...   \n",
              "5285                                  7.977259   \n",
              "5286                                  9.288553   \n",
              "5287                                 10.989181   \n",
              "5288                                 11.011607   \n",
              "5289                                 10.986607   \n",
              "\n",
              "      secondary_cleaner.state.floatbank5_a_level  \\\n",
              "0                                    -432.317850   \n",
              "1                                    -525.839648   \n",
              "2                                    -500.801673   \n",
              "3                                    -500.868509   \n",
              "4                                    -509.526725   \n",
              "...                                          ...   \n",
              "5285                                 -499.516126   \n",
              "5286                                 -496.892967   \n",
              "5287                                 -498.347898   \n",
              "5288                                 -499.985046   \n",
              "5289                                 -500.658027   \n",
              "\n",
              "      secondary_cleaner.state.floatbank5_b_air  \\\n",
              "0                                     4.872511   \n",
              "1                                     4.878850   \n",
              "2                                     4.905125   \n",
              "3                                     4.931400   \n",
              "4                                     4.957674   \n",
              "...                                        ...   \n",
              "5285                                  5.933319   \n",
              "5286                                  7.372897   \n",
              "5287                                  9.020944   \n",
              "5288                                  9.009783   \n",
              "5289                                  8.989497   \n",
              "\n",
              "      secondary_cleaner.state.floatbank5_b_level  \\\n",
              "0                                    -500.037437   \n",
              "1                                    -500.162375   \n",
              "2                                    -499.828510   \n",
              "3                                    -499.963623   \n",
              "4                                    -500.360026   \n",
              "...                                          ...   \n",
              "5285                                 -499.965973   \n",
              "5286                                 -499.942956   \n",
              "5287                                 -500.040448   \n",
              "5288                                 -499.937902   \n",
              "5289                                 -500.337588   \n",
              "\n",
              "      secondary_cleaner.state.floatbank6_a_air  \\\n",
              "0                                    26.705889   \n",
              "1                                    25.019940   \n",
              "2                                    24.994862   \n",
              "3                                    24.948919   \n",
              "4                                    25.003331   \n",
              "...                                        ...   \n",
              "5285                                  8.987171   \n",
              "5286                                  8.986832   \n",
              "5287                                  8.982038   \n",
              "5288                                  9.012660   \n",
              "5289                                  8.988632   \n",
              "\n",
              "      secondary_cleaner.state.floatbank6_a_level  feed_conc  \n",
              "0                                    -499.709414  72.871822  \n",
              "1                                    -499.819438  71.669225  \n",
              "2                                    -500.622559  73.202598  \n",
              "3                                    -498.709987  70.757057  \n",
              "4                                    -500.856333  68.654396  \n",
              "...                                          ...        ...  \n",
              "5285                                 -499.755909  68.910849  \n",
              "5286                                 -499.903761  67.166899  \n",
              "5287                                 -497.789882  66.955814  \n",
              "5288                                 -500.154284  67.420094  \n",
              "5289                                 -500.764937  65.583618  \n",
              "\n",
              "[5290 rows x 54 columns]"
            ]
          },
          "execution_count": 35,
          "metadata": {},
          "output_type": "execute_result"
        }
      ],
      "source": [
        "df_test.loc[df_test['feed_conc'] != 0]"
      ]
    },
    {
      "cell_type": "markdown",
      "metadata": {
        "id": "yI4dQUKO8QYr"
      },
      "source": [
        "Исследовав концентрацию веществ на разных стадиях, провели работу по удалению строк с нулевыми значениями, тк не может быть нулевой концентрации веществ"
      ]
    },
    {
      "cell_type": "markdown",
      "metadata": {
        "id": "hmz28rFK8QYs"
      },
      "source": [
        "## Модель"
      ]
    },
    {
      "cell_type": "code",
      "execution_count": null,
      "metadata": {
        "id": "GGabymaW8QYt"
      },
      "outputs": [],
      "source": [
        "df_train.drop([col for col in df_train.columns if col not in df_test], axis=1, inplace=True)"
      ]
    },
    {
      "cell_type": "code",
      "execution_count": null,
      "metadata": {
        "id": "fESefhbh8QYu"
      },
      "outputs": [],
      "source": [
        "df_train = df_train.merge(df_full[['date','rougher.output.recovery', 'final.output.recovery']], on='date')"
      ]
    },
    {
      "cell_type": "code",
      "execution_count": null,
      "metadata": {
        "id": "1p5yca2A8QYw",
        "outputId": "e38aafc7-e3b0-4162-dc5d-2edbef57c381"
      },
      "outputs": [
        {
          "name": "stdout",
          "output_type": "stream",
          "text": [
            "<class 'pandas.core.frame.DataFrame'>\n",
            "Int64Index: 14149 entries, 0 to 14148\n",
            "Data columns (total 56 columns):\n",
            " #   Column                                      Non-Null Count  Dtype  \n",
            "---  ------                                      --------------  -----  \n",
            " 0   date                                        14149 non-null  object \n",
            " 1   primary_cleaner.input.sulfate               14149 non-null  float64\n",
            " 2   primary_cleaner.input.depressant            14149 non-null  float64\n",
            " 3   primary_cleaner.input.feed_size             14149 non-null  float64\n",
            " 4   primary_cleaner.input.xanthate              14149 non-null  float64\n",
            " 5   primary_cleaner.state.floatbank8_a_air      14149 non-null  float64\n",
            " 6   primary_cleaner.state.floatbank8_a_level    14149 non-null  float64\n",
            " 7   primary_cleaner.state.floatbank8_b_air      14149 non-null  float64\n",
            " 8   primary_cleaner.state.floatbank8_b_level    14149 non-null  float64\n",
            " 9   primary_cleaner.state.floatbank8_c_air      14149 non-null  float64\n",
            " 10  primary_cleaner.state.floatbank8_c_level    14149 non-null  float64\n",
            " 11  primary_cleaner.state.floatbank8_d_air      14149 non-null  float64\n",
            " 12  primary_cleaner.state.floatbank8_d_level    14149 non-null  float64\n",
            " 13  rougher.input.feed_ag                       14149 non-null  float64\n",
            " 14  rougher.input.feed_pb                       14149 non-null  float64\n",
            " 15  rougher.input.feed_rate                     14149 non-null  float64\n",
            " 16  rougher.input.feed_size                     14149 non-null  float64\n",
            " 17  rougher.input.feed_sol                      14149 non-null  float64\n",
            " 18  rougher.input.feed_au                       14149 non-null  float64\n",
            " 19  rougher.input.floatbank10_sulfate           14149 non-null  float64\n",
            " 20  rougher.input.floatbank10_xanthate          14149 non-null  float64\n",
            " 21  rougher.input.floatbank11_sulfate           14149 non-null  float64\n",
            " 22  rougher.input.floatbank11_xanthate          14149 non-null  float64\n",
            " 23  rougher.state.floatbank10_a_air             14149 non-null  float64\n",
            " 24  rougher.state.floatbank10_a_level           14149 non-null  float64\n",
            " 25  rougher.state.floatbank10_b_air             14149 non-null  float64\n",
            " 26  rougher.state.floatbank10_b_level           14149 non-null  float64\n",
            " 27  rougher.state.floatbank10_c_air             14149 non-null  float64\n",
            " 28  rougher.state.floatbank10_c_level           14149 non-null  float64\n",
            " 29  rougher.state.floatbank10_d_air             14149 non-null  float64\n",
            " 30  rougher.state.floatbank10_d_level           14149 non-null  float64\n",
            " 31  rougher.state.floatbank10_e_air             14149 non-null  float64\n",
            " 32  rougher.state.floatbank10_e_level           14149 non-null  float64\n",
            " 33  rougher.state.floatbank10_f_air             14149 non-null  float64\n",
            " 34  rougher.state.floatbank10_f_level           14149 non-null  float64\n",
            " 35  secondary_cleaner.state.floatbank2_a_air    14149 non-null  float64\n",
            " 36  secondary_cleaner.state.floatbank2_a_level  14149 non-null  float64\n",
            " 37  secondary_cleaner.state.floatbank2_b_air    14149 non-null  float64\n",
            " 38  secondary_cleaner.state.floatbank2_b_level  14149 non-null  float64\n",
            " 39  secondary_cleaner.state.floatbank3_a_air    14149 non-null  float64\n",
            " 40  secondary_cleaner.state.floatbank3_a_level  14149 non-null  float64\n",
            " 41  secondary_cleaner.state.floatbank3_b_air    14149 non-null  float64\n",
            " 42  secondary_cleaner.state.floatbank3_b_level  14149 non-null  float64\n",
            " 43  secondary_cleaner.state.floatbank4_a_air    14149 non-null  float64\n",
            " 44  secondary_cleaner.state.floatbank4_a_level  14149 non-null  float64\n",
            " 45  secondary_cleaner.state.floatbank4_b_air    14149 non-null  float64\n",
            " 46  secondary_cleaner.state.floatbank4_b_level  14149 non-null  float64\n",
            " 47  secondary_cleaner.state.floatbank5_a_air    14149 non-null  float64\n",
            " 48  secondary_cleaner.state.floatbank5_a_level  14149 non-null  float64\n",
            " 49  secondary_cleaner.state.floatbank5_b_air    14149 non-null  float64\n",
            " 50  secondary_cleaner.state.floatbank5_b_level  14149 non-null  float64\n",
            " 51  secondary_cleaner.state.floatbank6_a_air    14149 non-null  float64\n",
            " 52  secondary_cleaner.state.floatbank6_a_level  14149 non-null  float64\n",
            " 53  feed_conc                                   14149 non-null  float64\n",
            " 54  rougher.output.recovery                     14149 non-null  float64\n",
            " 55  final.output.recovery                       14149 non-null  float64\n",
            "dtypes: float64(55), object(1)\n",
            "memory usage: 6.2+ MB\n"
          ]
        }
      ],
      "source": [
        "df_train.info()"
      ]
    },
    {
      "cell_type": "markdown",
      "metadata": {
        "id": "5xUetQpx8QYx"
      },
      "source": [
        "Удалили столбцы, которых нет в тестовой выборке, и добавили столбцы с таргетами"
      ]
    },
    {
      "cell_type": "markdown",
      "metadata": {
        "id": "TL7mPAvu8QYy"
      },
      "source": [
        "Функция для вычисления итоговой sMAPE."
      ]
    },
    {
      "cell_type": "code",
      "execution_count": null,
      "metadata": {
        "id": "HvUJoYtm8QYy"
      },
      "outputs": [],
      "source": [
        "def sMAPE(target, predictions):\n",
        "    return 100/len(target) * np.sum(2 * np.abs(predictions-target) / (np.abs(target) + np.abs(predictions)))\n",
        "smape =  make_scorer(sMAPE, greater_is_better=False)"
      ]
    },
    {
      "cell_type": "code",
      "execution_count": null,
      "metadata": {
        "id": "Uv3JY-X68QY0"
      },
      "outputs": [],
      "source": [
        "features_r = df_full.drop(['date', 'rougher.output.recovery'], axis=1)\n",
        "target_r = df_full['rougher.output.recovery']"
      ]
    },
    {
      "cell_type": "code",
      "execution_count": null,
      "metadata": {
        "id": "2ziJYZ5v8QY0"
      },
      "outputs": [],
      "source": [
        "features_f = df_full.drop(['date', 'final.output.recovery'], axis=1)\n",
        "target_f = df_full['final.output.recovery']"
      ]
    },
    {
      "cell_type": "markdown",
      "metadata": {
        "id": "GoWWbCby8QY1"
      },
      "source": [
        "Обучим разные модели и оценим их качество кросс-валидацией. Выберем лучшую модель и проверим её на тестовой выборке."
      ]
    },
    {
      "cell_type": "code",
      "execution_count": null,
      "metadata": {
        "id": "56SZnhSQ8QY1",
        "outputId": "f5292cbd-d4eb-49fd-e2ad-87d07b095ca0"
      },
      "outputs": [
        {
          "name": "stderr",
          "output_type": "stream",
          "text": [
            "[Parallel(n_jobs=1)]: Using backend SequentialBackend with 1 concurrent workers.\n",
            "[Parallel(n_jobs=1)]: Done   5 out of   5 | elapsed:   11.0s finished\n",
            "[Parallel(n_jobs=1)]: Using backend SequentialBackend with 1 concurrent workers.\n"
          ]
        },
        {
          "name": "stdout",
          "output_type": "stream",
          "text": [
            "Средняя оценка качества модели: 2.8570081868541006\n"
          ]
        },
        {
          "name": "stderr",
          "output_type": "stream",
          "text": [
            "[Parallel(n_jobs=1)]: Done   5 out of   5 | elapsed:   12.0s finished\n"
          ]
        }
      ],
      "source": [
        "model = DecisionTreeRegressor(random_state=0)\n",
        "scores_r = cross_val_score(model, features_r, target_r, scoring=smape, cv=5, verbose=1) \n",
        "scores_f = cross_val_score(model, features_f, target_f, scoring=smape, cv=5, verbose=1) \n",
        "final_score = pd.Series(0.25*scores_r+0.75*scores_f).mean()\n",
        "print('Средняя оценка качества модели:', final_score *(-1))"
      ]
    },
    {
      "cell_type": "code",
      "execution_count": null,
      "metadata": {
        "id": "3XDVtqvN8QY4",
        "outputId": "6b3fe3a8-85cc-4f07-9e37-2e6b26d2fe12"
      },
      "outputs": [
        {
          "name": "stderr",
          "output_type": "stream",
          "text": [
            "[Parallel(n_jobs=1)]: Using backend SequentialBackend with 1 concurrent workers.\n",
            "[Parallel(n_jobs=1)]: Done   5 out of   5 | elapsed:    3.0s finished\n",
            "[Parallel(n_jobs=1)]: Using backend SequentialBackend with 1 concurrent workers.\n"
          ]
        },
        {
          "name": "stdout",
          "output_type": "stream",
          "text": [
            "Средняя оценка качества модели: 6.118472279862077\n"
          ]
        },
        {
          "name": "stderr",
          "output_type": "stream",
          "text": [
            "[Parallel(n_jobs=1)]: Done   5 out of   5 | elapsed:    3.1s finished\n"
          ]
        }
      ],
      "source": [
        "model = LinearRegression()\n",
        "scores_r = cross_val_score(model, features_r, target_r, scoring=smape, cv=5, verbose=1) \n",
        "scores_f = cross_val_score(model, features_f, target_f, scoring=smape, cv=5, verbose=1) \n",
        "final_score = pd.Series(0.25*scores_r+0.75*scores_f).mean()\n",
        "print('Средняя оценка качества модели:', final_score *(-1))"
      ]
    },
    {
      "cell_type": "code",
      "execution_count": null,
      "metadata": {
        "id": "1zxVywd88QY5",
        "outputId": "99f7f1f8-cc32-46ce-c81f-02b83929955b"
      },
      "outputs": [
        {
          "name": "stderr",
          "output_type": "stream",
          "text": [
            "[Parallel(n_jobs=1)]: Using backend SequentialBackend with 1 concurrent workers.\n",
            "[Parallel(n_jobs=1)]: Done   5 out of   5 | elapsed: 11.7min finished\n",
            "[Parallel(n_jobs=1)]: Using backend SequentialBackend with 1 concurrent workers.\n"
          ]
        }
      ],
      "source": [
        "model = RandomForestRegressor()\n",
        "scores_r = cross_val_score(model, features_r, target_r, scoring=smape, cv=5, verbose=1) \n",
        "scores_f = cross_val_score(model, features_f, target_f, scoring=smape, cv=5, verbose=1) \n",
        "final_score = pd.Series(0.25*scores_r+0.75*scores_f).mean()\n",
        "print('Средняя оценка качества модели:', final_score *(-1))"
      ]
    },
    {
      "cell_type": "markdown",
      "metadata": {
        "id": "5IyEP7qF8QY-"
      },
      "source": [
        "Добавляем столбцы с таргетами в тестовую выборку"
      ]
    },
    {
      "cell_type": "code",
      "execution_count": null,
      "metadata": {
        "id": "JLX93_wW8QY_"
      },
      "outputs": [],
      "source": [
        "df_test = df_test.merge(df_full[['date','rougher.output.recovery', 'final.output.recovery']], on='date')"
      ]
    },
    {
      "cell_type": "code",
      "execution_count": null,
      "metadata": {
        "id": "Rj3g7vRk8QZA"
      },
      "outputs": [],
      "source": [
        "features_test_r = df_test.drop(['date', 'rougher.output.recovery'], axis=1)\n",
        "target_test_r = df_test['rougher.output.recovery']\n"
      ]
    },
    {
      "cell_type": "code",
      "execution_count": null,
      "metadata": {
        "id": "FLp0YGRs8QZB"
      },
      "outputs": [],
      "source": [
        "features_test_f = df_test.drop(['date', 'final.output.recovery'], axis=1)\n",
        "target_test_f = df_test['final.output.recovery']"
      ]
    },
    {
      "cell_type": "code",
      "execution_count": null,
      "metadata": {
        "id": "mJEUbjEI8QZC"
      },
      "outputs": [],
      "source": [
        "features_train_r = df_train.drop(['date', 'rougher.output.recovery'], axis=1)\n",
        "target_train_r = df_train['rougher.output.recovery']"
      ]
    },
    {
      "cell_type": "code",
      "execution_count": null,
      "metadata": {
        "id": "6ye2-fAS8QZD"
      },
      "outputs": [],
      "source": [
        "features_train_f = df_train.drop(['date', 'final.output.recovery'], axis=1)\n",
        "target_train_f = df_train['final.output.recovery']"
      ]
    },
    {
      "cell_type": "code",
      "execution_count": null,
      "metadata": {
        "id": "JAJPkqeX8QZE"
      },
      "outputs": [],
      "source": [
        "model = RandomForestRegressor()\n",
        "model.fit(features_train_r, target_train_r)\n",
        "predicted_test_r = model.predict(features_test_r)\n",
        "print(r2_score(target_test_r, predicted_test_r))"
      ]
    },
    {
      "cell_type": "markdown",
      "metadata": {
        "id": "9E7x2uto8QZE"
      },
      "source": [
        "<div class=\"alert alert-info\"> отрицательное значение говорит, что модель никуда не годится, попробуем другие\n",
        "</div>"
      ]
    },
    {
      "cell_type": "code",
      "execution_count": null,
      "metadata": {
        "id": "J6-eufrU8QZF"
      },
      "outputs": [],
      "source": [
        "model = LinearRegression()\n",
        "model.fit(features_train_r, target_train_r)\n",
        "predicted_test_r = model.predict(features_test_r)\n",
        "print(r2_score(target_test_r, predicted_test_r))"
      ]
    },
    {
      "cell_type": "code",
      "execution_count": null,
      "metadata": {
        "id": "a2AjIy228QZG"
      },
      "outputs": [],
      "source": [
        "model = DecisionTreeRegressor()\n",
        "model.fit(features_train_r, target_train_r)\n",
        "predicted_test_r = model.predict(features_test_r)\n",
        "print(r2_score(target_test_r, predicted_test_r))"
      ]
    },
    {
      "cell_type": "code",
      "execution_count": null,
      "metadata": {
        "id": "0x2996oj8QZG"
      },
      "outputs": [],
      "source": [
        "model = RandomForestRegressor()\n",
        "model.fit(features_train_f, target_train_f)\n",
        "predicted_test_f = model.predict(features_test_f)\n",
        "print(r2_score(target_test_f, predicted_test_f))"
      ]
    },
    {
      "cell_type": "markdown",
      "metadata": {
        "id": "vCO-86198QZI"
      },
      "source": [
        "модель RandomForestRegressor показала наилучшие результаты, что подтверждается на тестовой выборке."
      ]
    },
    {
      "cell_type": "markdown",
      "metadata": {
        "id": "5OFZlQqm8QZJ"
      },
      "source": [
        "ИТОГО:\n",
        "\n",
        "1) был проведен анализ восстаноления золота из руды\n",
        "\n",
        "2) проверена формула вычисления эффективности обогащения, проанализированы признаки, недоступные в тестовой выборке, проведена предобработка данных\n",
        "\n",
        "3) было исследовано, как меняется концентрация металлов на разных стадиях очистки, как меняется распределение размеров гранул, исследованы суммарные концентрации металлов\n",
        "\n",
        "4) написана функция sMAPE, были обучены 3 модели, из которых RandomForestRegresso на кросс-валидации показала лучшие результаты, которые были проверены на тестовой выборке на тестовой выборке"
      ]
    }
  ],
  "metadata": {
    "ExecuteTimeLog": [
      {
        "duration": 558,
        "start_time": "2022-03-12T18:32:15.915Z"
      },
      {
        "duration": 962,
        "start_time": "2022-03-12T18:33:46.946Z"
      },
      {
        "duration": 719,
        "start_time": "2022-03-12T18:35:05.707Z"
      },
      {
        "duration": 15,
        "start_time": "2022-03-12T18:35:22.218Z"
      },
      {
        "duration": 11,
        "start_time": "2022-03-12T18:35:45.006Z"
      },
      {
        "duration": 16,
        "start_time": "2022-03-12T18:35:59.064Z"
      },
      {
        "duration": 10,
        "start_time": "2022-03-12T18:43:14.890Z"
      },
      {
        "duration": 127,
        "start_time": "2022-03-12T18:50:17.836Z"
      },
      {
        "duration": 38,
        "start_time": "2022-03-12T18:50:24.037Z"
      },
      {
        "duration": 10,
        "start_time": "2022-03-12T18:50:24.088Z"
      },
      {
        "duration": 121,
        "start_time": "2022-03-12T18:50:28.614Z"
      },
      {
        "duration": 12,
        "start_time": "2022-03-12T18:50:49.953Z"
      },
      {
        "duration": 15,
        "start_time": "2022-03-12T18:51:04.155Z"
      },
      {
        "duration": 4,
        "start_time": "2022-03-12T18:52:07.180Z"
      },
      {
        "duration": 14,
        "start_time": "2022-03-12T18:52:22.227Z"
      },
      {
        "duration": 516,
        "start_time": "2022-03-12T18:52:37.570Z"
      },
      {
        "duration": 745,
        "start_time": "2022-03-12T18:52:38.088Z"
      },
      {
        "duration": 16,
        "start_time": "2022-03-12T18:52:38.835Z"
      },
      {
        "duration": 9,
        "start_time": "2022-03-12T18:52:38.853Z"
      },
      {
        "duration": 17,
        "start_time": "2022-03-12T18:52:38.864Z"
      },
      {
        "duration": 10,
        "start_time": "2022-03-12T18:52:38.883Z"
      },
      {
        "duration": 39,
        "start_time": "2022-03-12T18:52:38.895Z"
      },
      {
        "duration": 22,
        "start_time": "2022-03-12T18:52:38.937Z"
      },
      {
        "duration": 8,
        "start_time": "2022-03-12T18:52:38.961Z"
      },
      {
        "duration": 1006,
        "start_time": "2022-03-12T19:28:39.502Z"
      },
      {
        "duration": 974,
        "start_time": "2022-03-12T19:28:40.510Z"
      },
      {
        "duration": 22,
        "start_time": "2022-03-12T19:28:41.487Z"
      },
      {
        "duration": 27,
        "start_time": "2022-03-12T19:28:41.512Z"
      },
      {
        "duration": 21,
        "start_time": "2022-03-12T19:28:41.541Z"
      },
      {
        "duration": 13,
        "start_time": "2022-03-12T19:28:41.564Z"
      },
      {
        "duration": 5,
        "start_time": "2022-03-12T19:28:41.579Z"
      },
      {
        "duration": 24,
        "start_time": "2022-03-12T19:28:41.586Z"
      },
      {
        "duration": 25,
        "start_time": "2022-03-12T19:28:41.613Z"
      },
      {
        "duration": 259,
        "start_time": "2022-03-12T19:29:24.605Z"
      },
      {
        "duration": 6,
        "start_time": "2022-03-12T19:31:36.052Z"
      },
      {
        "duration": 419,
        "start_time": "2022-03-12T19:31:37.159Z"
      },
      {
        "duration": 1273,
        "start_time": "2022-03-12T19:36:46.287Z"
      },
      {
        "duration": 10,
        "start_time": "2022-03-12T19:37:22.282Z"
      },
      {
        "duration": 736,
        "start_time": "2022-03-12T19:37:24.393Z"
      },
      {
        "duration": 26,
        "start_time": "2022-03-12T19:37:25.749Z"
      },
      {
        "duration": 10,
        "start_time": "2022-03-12T19:37:25.787Z"
      },
      {
        "duration": 20,
        "start_time": "2022-03-12T19:37:28.727Z"
      },
      {
        "duration": 12,
        "start_time": "2022-03-12T19:37:31.519Z"
      },
      {
        "duration": 5,
        "start_time": "2022-03-12T19:37:32.197Z"
      },
      {
        "duration": 16,
        "start_time": "2022-03-12T19:37:32.755Z"
      },
      {
        "duration": 8,
        "start_time": "2022-03-12T19:37:34.730Z"
      },
      {
        "duration": 561,
        "start_time": "2022-03-12T19:37:34.774Z"
      },
      {
        "duration": 538,
        "start_time": "2022-03-12T19:37:59.896Z"
      },
      {
        "duration": 169,
        "start_time": "2022-03-12T19:39:38.828Z"
      },
      {
        "duration": 4,
        "start_time": "2022-03-12T19:44:43.839Z"
      },
      {
        "duration": 5380,
        "start_time": "2022-03-12T19:44:55.687Z"
      },
      {
        "duration": 5483,
        "start_time": "2022-03-12T19:45:10.903Z"
      },
      {
        "duration": 5374,
        "start_time": "2022-03-12T19:45:52.573Z"
      },
      {
        "duration": 3311,
        "start_time": "2022-03-12T19:48:40.551Z"
      },
      {
        "duration": 52,
        "start_time": "2022-03-12T19:48:43.864Z"
      },
      {
        "duration": 132,
        "start_time": "2022-03-12T19:48:50.838Z"
      },
      {
        "duration": 149,
        "start_time": "2022-03-12T19:49:09.441Z"
      },
      {
        "duration": 2,
        "start_time": "2022-03-12T19:51:18.992Z"
      },
      {
        "duration": 1661,
        "start_time": "2022-03-13T12:31:34.367Z"
      },
      {
        "duration": 1235,
        "start_time": "2022-03-13T12:31:36.031Z"
      },
      {
        "duration": 28,
        "start_time": "2022-03-13T12:31:37.270Z"
      },
      {
        "duration": 16,
        "start_time": "2022-03-13T12:31:37.301Z"
      },
      {
        "duration": 30,
        "start_time": "2022-03-13T12:31:37.319Z"
      },
      {
        "duration": 16,
        "start_time": "2022-03-13T12:31:37.383Z"
      },
      {
        "duration": 6,
        "start_time": "2022-03-13T12:31:37.402Z"
      },
      {
        "duration": 23,
        "start_time": "2022-03-13T12:31:37.413Z"
      },
      {
        "duration": 9,
        "start_time": "2022-03-13T12:31:37.439Z"
      },
      {
        "duration": 3446,
        "start_time": "2022-03-13T12:31:37.451Z"
      },
      {
        "duration": 350,
        "start_time": "2022-03-13T12:31:40.899Z"
      },
      {
        "duration": 4,
        "start_time": "2022-03-13T12:32:32.218Z"
      },
      {
        "duration": 260,
        "start_time": "2022-03-13T12:34:15.747Z"
      },
      {
        "duration": 312,
        "start_time": "2022-03-13T12:35:35.873Z"
      },
      {
        "duration": 585,
        "start_time": "2022-03-13T12:36:27.308Z"
      },
      {
        "duration": 4,
        "start_time": "2022-03-13T13:06:40.067Z"
      },
      {
        "duration": 325,
        "start_time": "2022-03-13T13:06:52.089Z"
      },
      {
        "duration": 237,
        "start_time": "2022-03-13T13:07:09.312Z"
      },
      {
        "duration": 1382,
        "start_time": "2022-03-13T13:07:28.527Z"
      },
      {
        "duration": 852,
        "start_time": "2022-03-13T13:07:29.912Z"
      },
      {
        "duration": 33,
        "start_time": "2022-03-13T13:07:30.767Z"
      },
      {
        "duration": 19,
        "start_time": "2022-03-13T13:07:30.804Z"
      },
      {
        "duration": 56,
        "start_time": "2022-03-13T13:07:30.826Z"
      },
      {
        "duration": 12,
        "start_time": "2022-03-13T13:07:30.885Z"
      },
      {
        "duration": 12,
        "start_time": "2022-03-13T13:07:30.899Z"
      },
      {
        "duration": 32,
        "start_time": "2022-03-13T13:07:30.914Z"
      },
      {
        "duration": 9,
        "start_time": "2022-03-13T13:07:30.949Z"
      },
      {
        "duration": 3438,
        "start_time": "2022-03-13T13:07:30.960Z"
      },
      {
        "duration": 486,
        "start_time": "2022-03-13T13:07:34.400Z"
      },
      {
        "duration": 8,
        "start_time": "2022-03-13T13:14:27.675Z"
      },
      {
        "duration": 18,
        "start_time": "2022-03-13T13:14:45.773Z"
      },
      {
        "duration": 6153,
        "start_time": "2022-03-13T13:21:23.129Z"
      },
      {
        "duration": 233,
        "start_time": "2022-03-13T13:26:07.672Z"
      },
      {
        "duration": 7183,
        "start_time": "2022-03-13T13:26:20.856Z"
      },
      {
        "duration": 5460,
        "start_time": "2022-03-13T13:26:53.616Z"
      },
      {
        "duration": 237,
        "start_time": "2022-03-13T13:27:11.452Z"
      },
      {
        "duration": 6406,
        "start_time": "2022-03-13T13:27:19.074Z"
      },
      {
        "duration": 7,
        "start_time": "2022-03-13T13:29:26.729Z"
      },
      {
        "duration": 216,
        "start_time": "2022-03-13T13:29:27.901Z"
      },
      {
        "duration": -2219,
        "start_time": "2022-03-13T13:29:30.339Z"
      },
      {
        "duration": 1410,
        "start_time": "2022-03-13T13:29:56.344Z"
      },
      {
        "duration": 890,
        "start_time": "2022-03-13T13:29:57.756Z"
      },
      {
        "duration": 34,
        "start_time": "2022-03-13T13:29:58.649Z"
      },
      {
        "duration": 15,
        "start_time": "2022-03-13T13:29:58.686Z"
      },
      {
        "duration": 26,
        "start_time": "2022-03-13T13:29:58.704Z"
      },
      {
        "duration": 23,
        "start_time": "2022-03-13T13:29:58.732Z"
      },
      {
        "duration": 43,
        "start_time": "2022-03-13T13:29:58.758Z"
      },
      {
        "duration": 38,
        "start_time": "2022-03-13T13:29:58.805Z"
      },
      {
        "duration": 35,
        "start_time": "2022-03-13T13:29:58.846Z"
      },
      {
        "duration": 3801,
        "start_time": "2022-03-13T13:29:58.884Z"
      },
      {
        "duration": 401,
        "start_time": "2022-03-13T13:30:02.688Z"
      },
      {
        "duration": 97,
        "start_time": "2022-03-13T13:30:03.092Z"
      },
      {
        "duration": 383,
        "start_time": "2022-03-13T13:30:03.193Z"
      },
      {
        "duration": -2212,
        "start_time": "2022-03-13T13:30:05.791Z"
      },
      {
        "duration": 8,
        "start_time": "2022-03-13T13:31:38.825Z"
      },
      {
        "duration": 282,
        "start_time": "2022-03-13T13:31:39.472Z"
      },
      {
        "duration": 19,
        "start_time": "2022-03-13T13:31:45.597Z"
      },
      {
        "duration": 4,
        "start_time": "2022-03-13T13:32:07.472Z"
      },
      {
        "duration": 249,
        "start_time": "2022-03-13T13:32:21.107Z"
      },
      {
        "duration": 12,
        "start_time": "2022-03-13T13:32:52.837Z"
      },
      {
        "duration": 263,
        "start_time": "2022-03-13T13:33:06.989Z"
      },
      {
        "duration": 460,
        "start_time": "2022-03-13T13:35:23.118Z"
      },
      {
        "duration": 4,
        "start_time": "2022-03-13T13:36:54.048Z"
      },
      {
        "duration": 344,
        "start_time": "2022-03-13T13:36:55.231Z"
      },
      {
        "duration": 12,
        "start_time": "2022-03-13T13:37:04.612Z"
      },
      {
        "duration": 1795,
        "start_time": "2022-03-13T13:39:00.369Z"
      },
      {
        "duration": 1634,
        "start_time": "2022-03-13T13:39:15.067Z"
      },
      {
        "duration": 360,
        "start_time": "2022-03-13T13:58:04.178Z"
      },
      {
        "duration": 5,
        "start_time": "2022-03-13T13:58:28.249Z"
      },
      {
        "duration": 1340,
        "start_time": "2022-03-13T13:58:37.275Z"
      },
      {
        "duration": 865,
        "start_time": "2022-03-13T13:58:38.618Z"
      },
      {
        "duration": 24,
        "start_time": "2022-03-13T13:58:39.486Z"
      },
      {
        "duration": 16,
        "start_time": "2022-03-13T13:58:39.512Z"
      },
      {
        "duration": 57,
        "start_time": "2022-03-13T13:58:39.531Z"
      },
      {
        "duration": 13,
        "start_time": "2022-03-13T13:58:39.591Z"
      },
      {
        "duration": 6,
        "start_time": "2022-03-13T13:58:39.606Z"
      },
      {
        "duration": 24,
        "start_time": "2022-03-13T13:58:39.615Z"
      },
      {
        "duration": 40,
        "start_time": "2022-03-13T13:58:39.642Z"
      },
      {
        "duration": 3284,
        "start_time": "2022-03-13T13:58:39.685Z"
      },
      {
        "duration": 320,
        "start_time": "2022-03-13T13:58:42.972Z"
      },
      {
        "duration": 8,
        "start_time": "2022-03-13T13:58:43.383Z"
      },
      {
        "duration": 36,
        "start_time": "2022-03-13T13:58:43.394Z"
      },
      {
        "duration": 58,
        "start_time": "2022-03-13T13:58:43.433Z"
      },
      {
        "duration": 65,
        "start_time": "2022-03-13T13:59:53.855Z"
      },
      {
        "duration": 23,
        "start_time": "2022-03-13T14:00:05.008Z"
      },
      {
        "duration": 55,
        "start_time": "2022-03-13T14:01:19.713Z"
      },
      {
        "duration": 21,
        "start_time": "2022-03-13T14:01:20.698Z"
      },
      {
        "duration": 1309,
        "start_time": "2022-03-13T14:02:28.300Z"
      },
      {
        "duration": 865,
        "start_time": "2022-03-13T14:02:29.611Z"
      },
      {
        "duration": 24,
        "start_time": "2022-03-13T14:02:30.479Z"
      },
      {
        "duration": 36,
        "start_time": "2022-03-13T14:02:30.506Z"
      },
      {
        "duration": 37,
        "start_time": "2022-03-13T14:02:30.545Z"
      },
      {
        "duration": 14,
        "start_time": "2022-03-13T14:02:30.585Z"
      },
      {
        "duration": 14,
        "start_time": "2022-03-13T14:02:30.602Z"
      },
      {
        "duration": 26,
        "start_time": "2022-03-13T14:02:30.619Z"
      },
      {
        "duration": 12,
        "start_time": "2022-03-13T14:02:30.648Z"
      },
      {
        "duration": 3500,
        "start_time": "2022-03-13T14:02:30.662Z"
      },
      {
        "duration": 419,
        "start_time": "2022-03-13T14:02:34.165Z"
      },
      {
        "duration": 9,
        "start_time": "2022-03-13T14:02:34.588Z"
      },
      {
        "duration": 94,
        "start_time": "2022-03-13T14:02:34.600Z"
      },
      {
        "duration": 19,
        "start_time": "2022-03-13T14:02:34.696Z"
      },
      {
        "duration": 75,
        "start_time": "2022-03-13T14:02:34.717Z"
      },
      {
        "duration": 24,
        "start_time": "2022-03-13T14:02:34.794Z"
      },
      {
        "duration": 1038,
        "start_time": "2022-03-13T14:15:11.449Z"
      },
      {
        "duration": 1501,
        "start_time": "2022-03-13T14:17:09.726Z"
      },
      {
        "duration": 1052,
        "start_time": "2022-03-13T14:17:11.230Z"
      },
      {
        "duration": 29,
        "start_time": "2022-03-13T14:17:12.286Z"
      },
      {
        "duration": 20,
        "start_time": "2022-03-13T14:17:12.318Z"
      },
      {
        "duration": 61,
        "start_time": "2022-03-13T14:17:12.342Z"
      },
      {
        "duration": 14,
        "start_time": "2022-03-13T14:17:12.406Z"
      },
      {
        "duration": 15,
        "start_time": "2022-03-13T14:17:12.423Z"
      },
      {
        "duration": 48,
        "start_time": "2022-03-13T14:17:12.442Z"
      },
      {
        "duration": 12,
        "start_time": "2022-03-13T14:17:12.493Z"
      },
      {
        "duration": 3690,
        "start_time": "2022-03-13T14:17:12.508Z"
      },
      {
        "duration": 386,
        "start_time": "2022-03-13T14:17:16.201Z"
      },
      {
        "duration": 92,
        "start_time": "2022-03-13T14:17:16.591Z"
      },
      {
        "duration": 25,
        "start_time": "2022-03-13T14:17:16.686Z"
      },
      {
        "duration": 17,
        "start_time": "2022-03-13T14:17:16.783Z"
      },
      {
        "duration": 80,
        "start_time": "2022-03-13T14:17:16.803Z"
      },
      {
        "duration": 34,
        "start_time": "2022-03-13T14:17:16.886Z"
      },
      {
        "duration": 388,
        "start_time": "2022-03-13T14:17:16.922Z"
      },
      {
        "duration": 280,
        "start_time": "2022-03-13T14:18:03.082Z"
      },
      {
        "duration": 225,
        "start_time": "2022-03-13T14:19:36.494Z"
      },
      {
        "duration": 222,
        "start_time": "2022-03-13T14:20:15.557Z"
      },
      {
        "duration": 79,
        "start_time": "2022-03-13T14:21:15.669Z"
      },
      {
        "duration": 5648,
        "start_time": "2022-03-13T14:21:35.089Z"
      },
      {
        "duration": 7077,
        "start_time": "2022-03-13T14:21:55.606Z"
      },
      {
        "duration": 404,
        "start_time": "2022-03-13T14:23:14.481Z"
      },
      {
        "duration": 5443,
        "start_time": "2022-03-13T14:23:53.289Z"
      },
      {
        "duration": 107,
        "start_time": "2022-03-13T14:32:18.617Z"
      },
      {
        "duration": 2361,
        "start_time": "2022-03-14T16:40:29.934Z"
      },
      {
        "duration": 1205,
        "start_time": "2022-03-14T16:40:33.941Z"
      },
      {
        "duration": 32,
        "start_time": "2022-03-14T16:40:35.341Z"
      },
      {
        "duration": 21,
        "start_time": "2022-03-14T16:40:36.379Z"
      },
      {
        "duration": 35,
        "start_time": "2022-03-14T16:40:36.990Z"
      },
      {
        "duration": 16,
        "start_time": "2022-03-14T16:40:40.849Z"
      },
      {
        "duration": 707,
        "start_time": "2022-03-14T16:40:41.710Z"
      },
      {
        "duration": 1152,
        "start_time": "2022-03-14T16:40:42.474Z"
      },
      {
        "duration": 1503,
        "start_time": "2022-03-14T16:40:43.628Z"
      },
      {
        "duration": 3729,
        "start_time": "2022-03-14T16:40:46.745Z"
      },
      {
        "duration": 573,
        "start_time": "2022-03-14T16:40:50.477Z"
      },
      {
        "duration": 8,
        "start_time": "2022-03-14T16:40:55.224Z"
      },
      {
        "duration": 18,
        "start_time": "2022-03-14T16:40:56.358Z"
      },
      {
        "duration": 9,
        "start_time": "2022-03-14T16:40:59.887Z"
      },
      {
        "duration": 61,
        "start_time": "2022-03-14T16:41:01.620Z"
      },
      {
        "duration": 27,
        "start_time": "2022-03-14T16:41:03.233Z"
      },
      {
        "duration": 208,
        "start_time": "2022-03-14T16:47:05.193Z"
      },
      {
        "duration": 2569,
        "start_time": "2022-03-14T16:47:39.275Z"
      },
      {
        "duration": 218,
        "start_time": "2022-03-14T16:47:46.154Z"
      },
      {
        "duration": 293,
        "start_time": "2022-03-14T16:48:33.415Z"
      },
      {
        "duration": 208,
        "start_time": "2022-03-14T16:49:12.831Z"
      },
      {
        "duration": 568,
        "start_time": "2022-03-14T17:03:59.517Z"
      },
      {
        "duration": 448,
        "start_time": "2022-03-14T17:04:10.526Z"
      },
      {
        "duration": 308,
        "start_time": "2022-03-14T17:04:33.837Z"
      },
      {
        "duration": 422,
        "start_time": "2022-03-14T17:05:45.180Z"
      },
      {
        "duration": 155,
        "start_time": "2022-03-14T17:09:28.546Z"
      },
      {
        "duration": 2877,
        "start_time": "2022-03-14T17:16:11.577Z"
      },
      {
        "duration": 228,
        "start_time": "2022-03-14T17:16:31.037Z"
      },
      {
        "duration": 296,
        "start_time": "2022-03-14T17:16:54.168Z"
      },
      {
        "duration": 1829,
        "start_time": "2022-03-14T17:17:15.483Z"
      },
      {
        "duration": 1490,
        "start_time": "2022-03-14T17:18:01.947Z"
      },
      {
        "duration": 1701,
        "start_time": "2022-03-14T17:18:19.743Z"
      },
      {
        "duration": 936,
        "start_time": "2022-03-14T17:18:27.488Z"
      },
      {
        "duration": 6,
        "start_time": "2022-03-14T17:20:21.336Z"
      },
      {
        "duration": 53,
        "start_time": "2022-03-14T17:21:25.975Z"
      },
      {
        "duration": 1869,
        "start_time": "2022-03-14T17:25:52.991Z"
      },
      {
        "duration": 880,
        "start_time": "2022-03-14T17:25:55.875Z"
      },
      {
        "duration": 25,
        "start_time": "2022-03-14T17:25:57.535Z"
      },
      {
        "duration": 229,
        "start_time": "2022-03-14T17:25:58.410Z"
      },
      {
        "duration": 28,
        "start_time": "2022-03-14T17:25:59.480Z"
      },
      {
        "duration": 13,
        "start_time": "2022-03-14T17:26:03.441Z"
      },
      {
        "duration": 6,
        "start_time": "2022-03-14T17:26:04.686Z"
      },
      {
        "duration": 17,
        "start_time": "2022-03-14T17:26:05.716Z"
      },
      {
        "duration": 11,
        "start_time": "2022-03-14T17:26:10.277Z"
      },
      {
        "duration": 3480,
        "start_time": "2022-03-14T17:26:11.260Z"
      },
      {
        "duration": 455,
        "start_time": "2022-03-14T17:26:16.701Z"
      },
      {
        "duration": 8,
        "start_time": "2022-03-14T17:26:31.432Z"
      },
      {
        "duration": 1110,
        "start_time": "2022-03-14T17:26:32.845Z"
      },
      {
        "duration": 582,
        "start_time": "2022-03-14T17:26:57.879Z"
      },
      {
        "duration": 7,
        "start_time": "2022-03-14T17:27:05.882Z"
      },
      {
        "duration": 876,
        "start_time": "2022-03-14T17:27:07.092Z"
      },
      {
        "duration": 8,
        "start_time": "2022-03-14T17:27:09.897Z"
      },
      {
        "duration": 1016,
        "start_time": "2022-03-14T17:27:14.023Z"
      },
      {
        "duration": 155,
        "start_time": "2022-03-14T17:28:09.445Z"
      },
      {
        "duration": 237,
        "start_time": "2022-03-14T17:28:15.751Z"
      },
      {
        "duration": 231,
        "start_time": "2022-03-14T17:28:17.151Z"
      },
      {
        "duration": 220,
        "start_time": "2022-03-14T17:28:18.718Z"
      },
      {
        "duration": 327,
        "start_time": "2022-03-14T17:28:23.037Z"
      },
      {
        "duration": 11,
        "start_time": "2022-03-14T17:28:28.440Z"
      },
      {
        "duration": 383,
        "start_time": "2022-03-14T17:28:29.568Z"
      },
      {
        "duration": 6,
        "start_time": "2022-03-14T17:28:32.867Z"
      },
      {
        "duration": 56,
        "start_time": "2022-03-14T17:28:35.595Z"
      },
      {
        "duration": 27388,
        "start_time": "2022-03-14T17:29:34.952Z"
      },
      {
        "duration": 1846,
        "start_time": "2022-03-14T17:30:27.432Z"
      },
      {
        "duration": 904,
        "start_time": "2022-03-14T17:30:29.281Z"
      },
      {
        "duration": 24,
        "start_time": "2022-03-14T17:30:30.188Z"
      },
      {
        "duration": 472,
        "start_time": "2022-03-14T17:30:30.216Z"
      },
      {
        "duration": 436,
        "start_time": "2022-03-14T17:30:30.690Z"
      },
      {
        "duration": 527,
        "start_time": "2022-03-14T17:30:31.128Z"
      },
      {
        "duration": 453,
        "start_time": "2022-03-14T17:30:31.657Z"
      },
      {
        "duration": 380,
        "start_time": "2022-03-14T17:30:32.113Z"
      },
      {
        "duration": 511,
        "start_time": "2022-03-14T17:30:32.496Z"
      },
      {
        "duration": 4506,
        "start_time": "2022-03-14T17:30:33.009Z"
      },
      {
        "duration": 442,
        "start_time": "2022-03-14T17:30:37.518Z"
      },
      {
        "duration": 542,
        "start_time": "2022-03-14T17:30:37.964Z"
      },
      {
        "duration": 664,
        "start_time": "2022-03-14T17:30:38.509Z"
      },
      {
        "duration": 620,
        "start_time": "2022-03-14T17:30:39.176Z"
      },
      {
        "duration": 1090,
        "start_time": "2022-03-14T17:30:39.798Z"
      },
      {
        "duration": 826,
        "start_time": "2022-03-14T17:30:40.891Z"
      },
      {
        "duration": 443,
        "start_time": "2022-03-14T17:30:41.719Z"
      },
      {
        "duration": 1683,
        "start_time": "2022-03-14T17:30:42.164Z"
      },
      {
        "duration": 1444,
        "start_time": "2022-03-14T17:30:43.850Z"
      },
      {
        "duration": 1100,
        "start_time": "2022-03-14T17:30:45.297Z"
      },
      {
        "duration": 397,
        "start_time": "2022-03-14T17:30:46.399Z"
      },
      {
        "duration": 269,
        "start_time": "2022-03-14T17:31:07.731Z"
      },
      {
        "duration": 6,
        "start_time": "2022-03-14T17:31:29.693Z"
      },
      {
        "duration": 54,
        "start_time": "2022-03-14T17:32:20.054Z"
      },
      {
        "duration": 7,
        "start_time": "2022-03-14T17:33:27.172Z"
      },
      {
        "duration": 300,
        "start_time": "2022-03-14T17:33:43.664Z"
      },
      {
        "duration": 5,
        "start_time": "2022-03-14T17:34:14.848Z"
      },
      {
        "duration": 19976,
        "start_time": "2022-03-14T17:34:54.422Z"
      },
      {
        "duration": 1252,
        "start_time": "2022-03-14T17:36:47.248Z"
      },
      {
        "duration": 9,
        "start_time": "2022-03-14T17:36:57.979Z"
      },
      {
        "duration": 39,
        "start_time": "2022-03-14T17:37:56.538Z"
      },
      {
        "duration": 26,
        "start_time": "2022-03-14T17:39:08.825Z"
      },
      {
        "duration": 10,
        "start_time": "2022-03-14T17:39:35.418Z"
      },
      {
        "duration": 8,
        "start_time": "2022-03-14T17:42:12.779Z"
      },
      {
        "duration": 15078,
        "start_time": "2022-03-14T17:42:42.162Z"
      },
      {
        "duration": 906,
        "start_time": "2022-03-14T17:44:09.472Z"
      },
      {
        "duration": 13,
        "start_time": "2022-03-14T17:44:20.430Z"
      },
      {
        "duration": 54,
        "start_time": "2022-03-14T17:44:30.372Z"
      },
      {
        "duration": 52,
        "start_time": "2022-03-14T17:44:48.269Z"
      },
      {
        "duration": 5,
        "start_time": "2022-03-14T17:47:09.623Z"
      },
      {
        "duration": 6,
        "start_time": "2022-03-14T17:48:58.521Z"
      },
      {
        "duration": 308,
        "start_time": "2022-03-14T17:49:16.854Z"
      },
      {
        "duration": 57,
        "start_time": "2022-03-14T17:49:54.426Z"
      },
      {
        "duration": 1286,
        "start_time": "2022-03-15T17:11:14.049Z"
      },
      {
        "duration": 876,
        "start_time": "2022-03-15T17:11:15.337Z"
      },
      {
        "duration": 25,
        "start_time": "2022-03-15T17:11:16.216Z"
      },
      {
        "duration": 24,
        "start_time": "2022-03-15T17:11:16.244Z"
      },
      {
        "duration": 37,
        "start_time": "2022-03-15T17:11:16.270Z"
      },
      {
        "duration": 15,
        "start_time": "2022-03-15T17:11:16.309Z"
      },
      {
        "duration": 5,
        "start_time": "2022-03-15T17:11:16.327Z"
      },
      {
        "duration": 39,
        "start_time": "2022-03-15T17:11:16.336Z"
      },
      {
        "duration": 11,
        "start_time": "2022-03-15T17:11:16.378Z"
      },
      {
        "duration": 2881,
        "start_time": "2022-03-15T17:11:16.391Z"
      },
      {
        "duration": 293,
        "start_time": "2022-03-15T17:11:19.274Z"
      },
      {
        "duration": 365,
        "start_time": "2022-03-15T17:11:19.575Z"
      },
      {
        "duration": 158,
        "start_time": "2022-03-15T17:11:19.942Z"
      },
      {
        "duration": 159,
        "start_time": "2022-03-15T17:11:20.102Z"
      },
      {
        "duration": 152,
        "start_time": "2022-03-15T17:11:20.263Z"
      },
      {
        "duration": 224,
        "start_time": "2022-03-15T17:11:20.417Z"
      },
      {
        "duration": 20,
        "start_time": "2022-03-15T17:11:20.644Z"
      },
      {
        "duration": 390,
        "start_time": "2022-03-15T17:11:20.666Z"
      },
      {
        "duration": 18,
        "start_time": "2022-03-15T17:11:21.064Z"
      },
      {
        "duration": 35,
        "start_time": "2022-03-15T17:11:21.084Z"
      },
      {
        "duration": 5,
        "start_time": "2022-03-15T17:11:21.121Z"
      },
      {
        "duration": 199,
        "start_time": "2022-03-15T17:11:21.128Z"
      },
      {
        "duration": 32,
        "start_time": "2022-03-15T17:11:21.331Z"
      },
      {
        "duration": 33,
        "start_time": "2022-03-15T17:11:21.365Z"
      },
      {
        "duration": 6,
        "start_time": "2022-03-15T17:11:21.400Z"
      },
      {
        "duration": 201,
        "start_time": "2022-03-15T17:11:21.407Z"
      },
      {
        "duration": 32,
        "start_time": "2022-03-15T17:11:21.610Z"
      },
      {
        "duration": 20,
        "start_time": "2022-03-15T17:11:21.643Z"
      },
      {
        "duration": 37,
        "start_time": "2022-03-15T17:11:21.665Z"
      },
      {
        "duration": 34,
        "start_time": "2022-03-15T17:11:21.704Z"
      },
      {
        "duration": 25,
        "start_time": "2022-03-15T17:11:21.740Z"
      },
      {
        "duration": 192,
        "start_time": "2022-03-15T17:11:21.767Z"
      },
      {
        "duration": 29,
        "start_time": "2022-03-15T17:11:21.961Z"
      },
      {
        "duration": 9,
        "start_time": "2022-03-15T17:12:29.211Z"
      },
      {
        "duration": 18,
        "start_time": "2022-03-15T17:13:07.656Z"
      },
      {
        "duration": 15,
        "start_time": "2022-03-15T17:13:51.518Z"
      },
      {
        "duration": 2,
        "start_time": "2022-03-15T17:15:56.339Z"
      },
      {
        "duration": 4,
        "start_time": "2022-03-15T17:38:25.698Z"
      },
      {
        "duration": 3,
        "start_time": "2022-03-15T17:39:48.311Z"
      },
      {
        "duration": 5795,
        "start_time": "2022-03-15T17:42:59.460Z"
      },
      {
        "duration": 5538,
        "start_time": "2022-03-15T17:43:16.706Z"
      },
      {
        "duration": 5535,
        "start_time": "2022-03-15T17:46:03.270Z"
      },
      {
        "duration": 4,
        "start_time": "2022-03-15T17:58:36.844Z"
      },
      {
        "duration": 14,
        "start_time": "2022-03-15T17:58:40.577Z"
      },
      {
        "duration": 946,
        "start_time": "2022-03-15T17:58:41.682Z"
      },
      {
        "duration": 3,
        "start_time": "2022-03-15T17:59:21.847Z"
      },
      {
        "duration": 15,
        "start_time": "2022-03-15T17:59:24.719Z"
      },
      {
        "duration": 990,
        "start_time": "2022-03-15T17:59:25.573Z"
      },
      {
        "duration": 6,
        "start_time": "2022-03-15T17:59:34.833Z"
      },
      {
        "duration": 12,
        "start_time": "2022-03-15T17:59:37.095Z"
      },
      {
        "duration": 6015,
        "start_time": "2022-03-15T17:59:37.852Z"
      },
      {
        "duration": 4953,
        "start_time": "2022-03-15T17:59:52.618Z"
      },
      {
        "duration": 63937,
        "start_time": "2022-03-15T18:00:28.723Z"
      },
      {
        "duration": 58344,
        "start_time": "2022-03-15T18:01:34.155Z"
      },
      {
        "duration": 57707,
        "start_time": "2022-03-15T18:03:41.766Z"
      },
      {
        "duration": 198,
        "start_time": "2022-03-15T18:07:46.945Z"
      },
      {
        "duration": 2668,
        "start_time": "2022-03-15T18:08:18.554Z"
      },
      {
        "duration": 3,
        "start_time": "2022-03-15T18:09:17.576Z"
      },
      {
        "duration": 3454,
        "start_time": "2022-03-15T18:09:19.200Z"
      },
      {
        "duration": 65839,
        "start_time": "2022-03-15T18:12:31.439Z"
      },
      {
        "duration": 176,
        "start_time": "2022-03-15T18:17:52.407Z"
      },
      {
        "duration": 183,
        "start_time": "2022-03-15T18:18:15.863Z"
      },
      {
        "duration": 4,
        "start_time": "2022-03-15T18:18:21.940Z"
      },
      {
        "duration": 289,
        "start_time": "2022-03-15T18:21:21.337Z"
      },
      {
        "duration": 169,
        "start_time": "2022-03-15T18:21:28.814Z"
      },
      {
        "duration": 2193,
        "start_time": "2022-03-15T18:21:36.264Z"
      },
      {
        "duration": 4,
        "start_time": "2022-03-15T18:21:58.309Z"
      },
      {
        "duration": 8547,
        "start_time": "2022-03-15T18:22:05.040Z"
      },
      {
        "duration": 176,
        "start_time": "2022-03-15T18:22:52.658Z"
      },
      {
        "duration": 3952,
        "start_time": "2022-03-15T18:23:00.016Z"
      },
      {
        "duration": 51327,
        "start_time": "2022-03-15T18:23:31.563Z"
      },
      {
        "duration": 8,
        "start_time": "2022-03-15T18:25:13.075Z"
      },
      {
        "duration": 9,
        "start_time": "2022-03-15T18:25:13.819Z"
      },
      {
        "duration": 21061,
        "start_time": "2022-03-15T18:26:02.753Z"
      },
      {
        "duration": 5090,
        "start_time": "2022-03-15T18:26:40.378Z"
      },
      {
        "duration": 111604,
        "start_time": "2022-03-15T18:26:52.915Z"
      },
      {
        "duration": 5,
        "start_time": "2022-03-15T18:43:11.245Z"
      },
      {
        "duration": 8,
        "start_time": "2022-03-15T18:43:12.321Z"
      },
      {
        "duration": 173,
        "start_time": "2022-03-15T18:43:54.844Z"
      },
      {
        "duration": 173,
        "start_time": "2022-03-15T18:44:18.125Z"
      },
      {
        "duration": 4,
        "start_time": "2022-03-15T18:44:46.735Z"
      },
      {
        "duration": 5,
        "start_time": "2022-03-15T18:44:47.463Z"
      },
      {
        "duration": 183,
        "start_time": "2022-03-15T18:44:48.001Z"
      },
      {
        "duration": 4,
        "start_time": "2022-03-15T18:45:21.789Z"
      },
      {
        "duration": 3903,
        "start_time": "2022-03-15T18:45:22.333Z"
      },
      {
        "duration": -1880,
        "start_time": "2022-03-15T18:45:28.117Z"
      },
      {
        "duration": 17,
        "start_time": "2022-03-15T18:45:50.766Z"
      },
      {
        "duration": 17,
        "start_time": "2022-03-15T18:45:54.349Z"
      },
      {
        "duration": 1272,
        "start_time": "2022-03-15T18:46:16.654Z"
      },
      {
        "duration": 736,
        "start_time": "2022-03-15T18:46:19.400Z"
      },
      {
        "duration": 19,
        "start_time": "2022-03-15T18:46:20.597Z"
      },
      {
        "duration": 11,
        "start_time": "2022-03-15T18:46:21.477Z"
      },
      {
        "duration": 17,
        "start_time": "2022-03-15T18:46:22.328Z"
      },
      {
        "duration": 12,
        "start_time": "2022-03-15T18:46:26.122Z"
      },
      {
        "duration": 4,
        "start_time": "2022-03-15T18:46:26.170Z"
      },
      {
        "duration": 16,
        "start_time": "2022-03-15T18:46:27.600Z"
      },
      {
        "duration": 9,
        "start_time": "2022-03-15T18:46:28.670Z"
      },
      {
        "duration": 2741,
        "start_time": "2022-03-15T18:46:29.644Z"
      },
      {
        "duration": 321,
        "start_time": "2022-03-15T18:46:35.243Z"
      },
      {
        "duration": 190,
        "start_time": "2022-03-15T18:46:36.961Z"
      },
      {
        "duration": 135,
        "start_time": "2022-03-15T18:46:41.153Z"
      },
      {
        "duration": 187,
        "start_time": "2022-03-15T18:46:42.562Z"
      },
      {
        "duration": 186,
        "start_time": "2022-03-15T18:46:45.005Z"
      },
      {
        "duration": 189,
        "start_time": "2022-03-15T18:46:49.632Z"
      },
      {
        "duration": 9,
        "start_time": "2022-03-15T18:46:53.471Z"
      },
      {
        "duration": 259,
        "start_time": "2022-03-15T18:46:54.412Z"
      },
      {
        "duration": 16,
        "start_time": "2022-03-15T18:46:57.481Z"
      },
      {
        "duration": 38,
        "start_time": "2022-03-15T18:47:00.175Z"
      },
      {
        "duration": 6,
        "start_time": "2022-03-15T18:47:04.928Z"
      },
      {
        "duration": 165,
        "start_time": "2022-03-15T18:47:05.828Z"
      },
      {
        "duration": 23,
        "start_time": "2022-03-15T18:47:08.572Z"
      },
      {
        "duration": 34,
        "start_time": "2022-03-15T18:47:11.253Z"
      },
      {
        "duration": 5,
        "start_time": "2022-03-15T18:47:14.368Z"
      },
      {
        "duration": 179,
        "start_time": "2022-03-15T18:47:14.404Z"
      },
      {
        "duration": 29,
        "start_time": "2022-03-15T18:47:18.490Z"
      },
      {
        "duration": 9,
        "start_time": "2022-03-15T18:47:21.847Z"
      },
      {
        "duration": 36,
        "start_time": "2022-03-15T18:47:23.533Z"
      },
      {
        "duration": 5,
        "start_time": "2022-03-15T18:47:28.412Z"
      },
      {
        "duration": 200,
        "start_time": "2022-03-15T18:47:31.022Z"
      },
      {
        "duration": 30,
        "start_time": "2022-03-15T18:47:33.878Z"
      },
      {
        "duration": 8,
        "start_time": "2022-03-15T18:47:38.615Z"
      },
      {
        "duration": 18,
        "start_time": "2022-03-15T18:47:39.594Z"
      },
      {
        "duration": 18,
        "start_time": "2022-03-15T18:47:40.791Z"
      },
      {
        "duration": 3,
        "start_time": "2022-03-15T18:47:47.327Z"
      },
      {
        "duration": 3,
        "start_time": "2022-03-15T18:47:48.309Z"
      },
      {
        "duration": 11,
        "start_time": "2022-03-15T18:47:49.061Z"
      },
      {
        "duration": 9,
        "start_time": "2022-03-15T18:47:49.100Z"
      },
      {
        "duration": 17738,
        "start_time": "2022-03-15T18:47:52.337Z"
      },
      {
        "duration": 4696,
        "start_time": "2022-03-15T18:48:17.267Z"
      },
      {
        "duration": 103386,
        "start_time": "2022-03-15T18:48:29.784Z"
      },
      {
        "duration": 4,
        "start_time": "2022-03-15T18:50:19.315Z"
      },
      {
        "duration": 5,
        "start_time": "2022-03-15T18:50:20.547Z"
      },
      {
        "duration": 278,
        "start_time": "2022-03-15T18:50:26.421Z"
      },
      {
        "duration": 175,
        "start_time": "2022-03-15T18:50:48.159Z"
      },
      {
        "duration": 6,
        "start_time": "2022-03-15T18:51:22.557Z"
      },
      {
        "duration": 166,
        "start_time": "2022-03-15T18:51:34.164Z"
      },
      {
        "duration": 6,
        "start_time": "2022-03-15T18:51:47.872Z"
      },
      {
        "duration": 8,
        "start_time": "2022-03-15T18:51:48.503Z"
      },
      {
        "duration": 194,
        "start_time": "2022-03-15T18:51:49.357Z"
      },
      {
        "duration": 13,
        "start_time": "2022-03-15T18:52:30.842Z"
      },
      {
        "duration": 6,
        "start_time": "2022-03-15T18:52:31.862Z"
      },
      {
        "duration": 6,
        "start_time": "2022-03-15T18:52:32.498Z"
      },
      {
        "duration": 168,
        "start_time": "2022-03-15T18:52:33.374Z"
      },
      {
        "duration": 5,
        "start_time": "2022-03-15T18:52:55.288Z"
      },
      {
        "duration": 5,
        "start_time": "2022-03-15T18:52:55.903Z"
      },
      {
        "duration": 12252,
        "start_time": "2022-03-15T18:52:56.620Z"
      },
      {
        "duration": 12537,
        "start_time": "2022-03-15T18:53:16.058Z"
      },
      {
        "duration": 4,
        "start_time": "2022-03-15T18:54:31.864Z"
      },
      {
        "duration": 1161,
        "start_time": "2022-03-15T18:57:58.166Z"
      },
      {
        "duration": 730,
        "start_time": "2022-03-15T18:57:59.329Z"
      },
      {
        "duration": 16,
        "start_time": "2022-03-15T18:58:00.061Z"
      },
      {
        "duration": 11,
        "start_time": "2022-03-15T18:58:00.080Z"
      },
      {
        "duration": 16,
        "start_time": "2022-03-15T18:58:00.093Z"
      },
      {
        "duration": 14,
        "start_time": "2022-03-15T18:58:00.111Z"
      },
      {
        "duration": 37,
        "start_time": "2022-03-15T18:58:00.127Z"
      },
      {
        "duration": 16,
        "start_time": "2022-03-15T18:58:00.166Z"
      },
      {
        "duration": 8,
        "start_time": "2022-03-15T18:58:00.185Z"
      },
      {
        "duration": 2872,
        "start_time": "2022-03-15T18:58:00.195Z"
      },
      {
        "duration": 298,
        "start_time": "2022-03-15T18:58:03.069Z"
      },
      {
        "duration": 190,
        "start_time": "2022-03-15T18:58:03.463Z"
      },
      {
        "duration": 133,
        "start_time": "2022-03-15T18:58:03.655Z"
      },
      {
        "duration": 137,
        "start_time": "2022-03-15T18:58:03.789Z"
      },
      {
        "duration": 140,
        "start_time": "2022-03-15T18:58:03.928Z"
      },
      {
        "duration": 201,
        "start_time": "2022-03-15T18:58:04.069Z"
      },
      {
        "duration": 7,
        "start_time": "2022-03-15T18:58:04.272Z"
      },
      {
        "duration": 263,
        "start_time": "2022-03-15T18:58:04.281Z"
      },
      {
        "duration": 28,
        "start_time": "2022-03-15T18:58:04.546Z"
      },
      {
        "duration": 38,
        "start_time": "2022-03-15T18:58:04.575Z"
      },
      {
        "duration": 5,
        "start_time": "2022-03-15T18:58:04.615Z"
      },
      {
        "duration": 193,
        "start_time": "2022-03-15T18:58:04.622Z"
      },
      {
        "duration": 22,
        "start_time": "2022-03-15T18:58:04.816Z"
      },
      {
        "duration": 41,
        "start_time": "2022-03-15T18:58:04.840Z"
      },
      {
        "duration": 4,
        "start_time": "2022-03-15T18:58:04.882Z"
      },
      {
        "duration": 199,
        "start_time": "2022-03-15T18:58:04.887Z"
      },
      {
        "duration": 45,
        "start_time": "2022-03-15T18:58:05.091Z"
      },
      {
        "duration": 24,
        "start_time": "2022-03-15T18:58:05.139Z"
      },
      {
        "duration": 33,
        "start_time": "2022-03-15T18:58:05.165Z"
      },
      {
        "duration": 33,
        "start_time": "2022-03-15T18:58:05.199Z"
      },
      {
        "duration": 29,
        "start_time": "2022-03-15T18:58:05.234Z"
      },
      {
        "duration": 184,
        "start_time": "2022-03-15T18:58:05.265Z"
      },
      {
        "duration": 33,
        "start_time": "2022-03-15T18:58:05.451Z"
      },
      {
        "duration": 7,
        "start_time": "2022-03-15T18:58:05.486Z"
      },
      {
        "duration": 22,
        "start_time": "2022-03-15T18:58:05.495Z"
      },
      {
        "duration": 16,
        "start_time": "2022-03-15T18:58:05.519Z"
      },
      {
        "duration": 30,
        "start_time": "2022-03-15T18:58:05.537Z"
      },
      {
        "duration": 10,
        "start_time": "2022-03-15T18:58:05.568Z"
      },
      {
        "duration": 20,
        "start_time": "2022-03-15T18:58:05.579Z"
      },
      {
        "duration": 9864,
        "start_time": "2022-03-15T18:58:05.600Z"
      },
      {
        "duration": 2813,
        "start_time": "2022-03-15T18:58:15.465Z"
      },
      {
        "duration": 60332,
        "start_time": "2022-03-15T18:58:18.364Z"
      },
      {
        "duration": 12,
        "start_time": "2022-03-15T18:59:18.697Z"
      },
      {
        "duration": 5,
        "start_time": "2022-03-15T18:59:18.711Z"
      },
      {
        "duration": 5,
        "start_time": "2022-03-15T18:59:18.718Z"
      },
      {
        "duration": 12769,
        "start_time": "2022-03-15T18:59:18.725Z"
      },
      {
        "duration": 2643,
        "start_time": "2022-03-15T19:03:42.149Z"
      },
      {
        "duration": 1555,
        "start_time": "2022-03-16T16:32:11.166Z"
      },
      {
        "duration": 913,
        "start_time": "2022-03-16T16:32:12.724Z"
      },
      {
        "duration": 34,
        "start_time": "2022-03-16T16:32:13.640Z"
      },
      {
        "duration": 16,
        "start_time": "2022-03-16T16:32:14.808Z"
      },
      {
        "duration": 30,
        "start_time": "2022-03-16T16:32:15.593Z"
      },
      {
        "duration": 14,
        "start_time": "2022-03-16T16:33:28.070Z"
      },
      {
        "duration": 6,
        "start_time": "2022-03-16T16:33:29.089Z"
      },
      {
        "duration": 20,
        "start_time": "2022-03-16T16:33:29.693Z"
      },
      {
        "duration": 69,
        "start_time": "2022-03-16T16:44:22.312Z"
      },
      {
        "duration": 79,
        "start_time": "2022-03-16T16:44:33.046Z"
      },
      {
        "duration": 80,
        "start_time": "2022-03-16T16:46:00.388Z"
      },
      {
        "duration": 81,
        "start_time": "2022-03-16T16:46:49.140Z"
      },
      {
        "duration": 15,
        "start_time": "2022-03-16T16:46:58.967Z"
      },
      {
        "duration": 70,
        "start_time": "2022-03-16T16:47:01.384Z"
      },
      {
        "duration": 12,
        "start_time": "2022-03-16T16:47:49.074Z"
      },
      {
        "duration": 349,
        "start_time": "2022-03-16T16:48:27.140Z"
      },
      {
        "duration": 4,
        "start_time": "2022-03-16T16:48:57.351Z"
      },
      {
        "duration": 8,
        "start_time": "2022-03-16T16:49:09.761Z"
      },
      {
        "duration": 12,
        "start_time": "2022-03-16T16:49:21.971Z"
      },
      {
        "duration": 270,
        "start_time": "2022-03-16T16:50:38.185Z"
      },
      {
        "duration": 12,
        "start_time": "2022-03-16T16:50:49.348Z"
      },
      {
        "duration": 294,
        "start_time": "2022-03-16T16:50:52.061Z"
      },
      {
        "duration": 12,
        "start_time": "2022-03-16T16:52:42.080Z"
      },
      {
        "duration": 211,
        "start_time": "2022-03-16T16:53:20.474Z"
      },
      {
        "duration": 7,
        "start_time": "2022-03-16T16:53:31.803Z"
      },
      {
        "duration": 9,
        "start_time": "2022-03-16T16:53:57.044Z"
      },
      {
        "duration": 229,
        "start_time": "2022-03-16T16:54:01.616Z"
      },
      {
        "duration": 222,
        "start_time": "2022-03-16T16:56:48.765Z"
      },
      {
        "duration": 13,
        "start_time": "2022-03-16T16:57:40.275Z"
      },
      {
        "duration": 211,
        "start_time": "2022-03-16T16:57:51.494Z"
      },
      {
        "duration": 11,
        "start_time": "2022-03-16T17:02:04.608Z"
      },
      {
        "duration": 11,
        "start_time": "2022-03-16T17:02:07.849Z"
      },
      {
        "duration": 1101,
        "start_time": "2022-03-16T17:02:13.551Z"
      },
      {
        "duration": 4,
        "start_time": "2022-03-16T17:05:13.893Z"
      },
      {
        "duration": 3,
        "start_time": "2022-03-16T17:05:17.653Z"
      },
      {
        "duration": 5,
        "start_time": "2022-03-16T17:05:20.732Z"
      },
      {
        "duration": 297,
        "start_time": "2022-03-16T17:06:10.747Z"
      },
      {
        "duration": 336,
        "start_time": "2022-03-16T17:06:17.865Z"
      },
      {
        "duration": 1618,
        "start_time": "2022-03-16T17:07:01.622Z"
      },
      {
        "duration": 899,
        "start_time": "2022-03-16T17:07:04.904Z"
      },
      {
        "duration": 28,
        "start_time": "2022-03-16T17:07:06.294Z"
      },
      {
        "duration": 17,
        "start_time": "2022-03-16T17:07:07.242Z"
      },
      {
        "duration": 26,
        "start_time": "2022-03-16T17:07:08.042Z"
      },
      {
        "duration": 14,
        "start_time": "2022-03-16T17:07:12.220Z"
      },
      {
        "duration": 6,
        "start_time": "2022-03-16T17:07:12.910Z"
      },
      {
        "duration": 17,
        "start_time": "2022-03-16T17:07:13.500Z"
      },
      {
        "duration": 12,
        "start_time": "2022-03-16T17:07:20.946Z"
      },
      {
        "duration": 4,
        "start_time": "2022-03-16T17:07:23.167Z"
      },
      {
        "duration": 16,
        "start_time": "2022-03-16T17:07:25.110Z"
      },
      {
        "duration": 4,
        "start_time": "2022-03-16T17:07:28.409Z"
      },
      {
        "duration": 569,
        "start_time": "2022-03-16T17:07:32.060Z"
      },
      {
        "duration": 4,
        "start_time": "2022-03-16T17:07:38.570Z"
      },
      {
        "duration": 6,
        "start_time": "2022-03-16T17:07:41.695Z"
      },
      {
        "duration": 1635,
        "start_time": "2022-03-16T17:09:30.719Z"
      },
      {
        "duration": 894,
        "start_time": "2022-03-16T17:09:33.835Z"
      },
      {
        "duration": 25,
        "start_time": "2022-03-16T17:09:35.005Z"
      },
      {
        "duration": 16,
        "start_time": "2022-03-16T17:09:35.692Z"
      },
      {
        "duration": 37,
        "start_time": "2022-03-16T17:09:36.226Z"
      },
      {
        "duration": 13,
        "start_time": "2022-03-16T17:09:39.858Z"
      },
      {
        "duration": 6,
        "start_time": "2022-03-16T17:09:40.577Z"
      },
      {
        "duration": 17,
        "start_time": "2022-03-16T17:09:41.229Z"
      },
      {
        "duration": 13,
        "start_time": "2022-03-16T17:09:44.263Z"
      },
      {
        "duration": 4,
        "start_time": "2022-03-16T17:09:45.751Z"
      },
      {
        "duration": 4,
        "start_time": "2022-03-16T17:09:48.647Z"
      },
      {
        "duration": 4,
        "start_time": "2022-03-16T17:09:49.783Z"
      },
      {
        "duration": 6,
        "start_time": "2022-03-16T17:09:50.716Z"
      },
      {
        "duration": 6,
        "start_time": "2022-03-16T17:13:34.162Z"
      },
      {
        "duration": 8,
        "start_time": "2022-03-16T17:16:10.904Z"
      },
      {
        "duration": 4,
        "start_time": "2022-03-16T17:16:12.193Z"
      },
      {
        "duration": 4,
        "start_time": "2022-03-16T17:16:12.935Z"
      },
      {
        "duration": 4,
        "start_time": "2022-03-16T17:16:13.560Z"
      },
      {
        "duration": 5,
        "start_time": "2022-03-16T17:16:14.085Z"
      },
      {
        "duration": 6,
        "start_time": "2022-03-16T17:16:38.878Z"
      },
      {
        "duration": 1618,
        "start_time": "2022-03-16T17:17:57.680Z"
      },
      {
        "duration": 873,
        "start_time": "2022-03-16T17:18:00.235Z"
      },
      {
        "duration": 25,
        "start_time": "2022-03-16T17:18:01.223Z"
      },
      {
        "duration": 17,
        "start_time": "2022-03-16T17:18:02.003Z"
      },
      {
        "duration": 27,
        "start_time": "2022-03-16T17:18:02.730Z"
      },
      {
        "duration": 15,
        "start_time": "2022-03-16T17:18:07.006Z"
      },
      {
        "duration": 6,
        "start_time": "2022-03-16T17:18:07.629Z"
      },
      {
        "duration": 18,
        "start_time": "2022-03-16T17:18:08.137Z"
      },
      {
        "duration": 12,
        "start_time": "2022-03-16T17:18:11.374Z"
      },
      {
        "duration": 4,
        "start_time": "2022-03-16T17:18:12.842Z"
      },
      {
        "duration": 6,
        "start_time": "2022-03-16T17:18:17.847Z"
      },
      {
        "duration": 76,
        "start_time": "2022-03-16T17:18:31.687Z"
      },
      {
        "duration": 7,
        "start_time": "2022-03-16T17:18:42.955Z"
      },
      {
        "duration": 4,
        "start_time": "2022-03-16T17:18:43.804Z"
      },
      {
        "duration": 4,
        "start_time": "2022-03-16T17:18:44.446Z"
      },
      {
        "duration": 4,
        "start_time": "2022-03-16T17:18:44.990Z"
      },
      {
        "duration": 6,
        "start_time": "2022-03-16T17:18:45.414Z"
      },
      {
        "duration": 7,
        "start_time": "2022-03-16T17:19:33.273Z"
      },
      {
        "duration": 4,
        "start_time": "2022-03-16T17:19:33.922Z"
      },
      {
        "duration": 4,
        "start_time": "2022-03-16T17:19:34.481Z"
      },
      {
        "duration": 3,
        "start_time": "2022-03-16T17:19:34.926Z"
      },
      {
        "duration": 5,
        "start_time": "2022-03-16T17:19:35.334Z"
      },
      {
        "duration": 70,
        "start_time": "2022-03-16T17:20:21.739Z"
      },
      {
        "duration": 9,
        "start_time": "2022-03-16T17:22:11.707Z"
      },
      {
        "duration": 4,
        "start_time": "2022-03-16T17:22:12.723Z"
      },
      {
        "duration": 4,
        "start_time": "2022-03-16T17:22:13.369Z"
      },
      {
        "duration": 4,
        "start_time": "2022-03-16T17:22:13.909Z"
      },
      {
        "duration": 5,
        "start_time": "2022-03-16T17:22:14.324Z"
      },
      {
        "duration": 74,
        "start_time": "2022-03-16T17:22:56.175Z"
      },
      {
        "duration": 68,
        "start_time": "2022-03-16T17:24:45.429Z"
      },
      {
        "duration": 15,
        "start_time": "2022-03-16T17:24:56.923Z"
      },
      {
        "duration": 13,
        "start_time": "2022-03-16T17:25:06.910Z"
      },
      {
        "duration": 4,
        "start_time": "2022-03-16T17:25:10.493Z"
      },
      {
        "duration": 3,
        "start_time": "2022-03-16T17:25:10.533Z"
      },
      {
        "duration": 3,
        "start_time": "2022-03-16T17:25:11.700Z"
      },
      {
        "duration": 5,
        "start_time": "2022-03-16T17:25:12.500Z"
      },
      {
        "duration": 9,
        "start_time": "2022-03-16T17:27:13.438Z"
      },
      {
        "duration": 4,
        "start_time": "2022-03-16T17:27:16.138Z"
      },
      {
        "duration": 4,
        "start_time": "2022-03-16T17:27:16.637Z"
      },
      {
        "duration": 4,
        "start_time": "2022-03-16T17:27:17.089Z"
      },
      {
        "duration": 6,
        "start_time": "2022-03-16T17:27:17.522Z"
      },
      {
        "duration": 2200,
        "start_time": "2022-03-16T17:29:31.791Z"
      },
      {
        "duration": 874,
        "start_time": "2022-03-16T17:29:34.780Z"
      },
      {
        "duration": 26,
        "start_time": "2022-03-16T17:29:36.137Z"
      },
      {
        "duration": 17,
        "start_time": "2022-03-16T17:29:37.054Z"
      },
      {
        "duration": 26,
        "start_time": "2022-03-16T17:29:37.094Z"
      },
      {
        "duration": 15,
        "start_time": "2022-03-16T17:29:40.758Z"
      },
      {
        "duration": 6,
        "start_time": "2022-03-16T17:29:41.366Z"
      },
      {
        "duration": 18,
        "start_time": "2022-03-16T17:29:41.856Z"
      },
      {
        "duration": 11,
        "start_time": "2022-03-16T17:29:47.916Z"
      },
      {
        "duration": 4,
        "start_time": "2022-03-16T17:29:49.356Z"
      },
      {
        "duration": 5,
        "start_time": "2022-03-16T17:29:53.589Z"
      },
      {
        "duration": 1567,
        "start_time": "2022-03-16T17:34:40.834Z"
      },
      {
        "duration": 830,
        "start_time": "2022-03-16T17:34:43.671Z"
      },
      {
        "duration": 23,
        "start_time": "2022-03-16T17:34:44.662Z"
      },
      {
        "duration": 16,
        "start_time": "2022-03-16T17:34:45.373Z"
      },
      {
        "duration": 26,
        "start_time": "2022-03-16T17:34:46.131Z"
      },
      {
        "duration": 11,
        "start_time": "2022-03-16T17:34:51.724Z"
      },
      {
        "duration": 4,
        "start_time": "2022-03-16T17:34:53.110Z"
      },
      {
        "duration": 6,
        "start_time": "2022-03-16T17:34:57.733Z"
      },
      {
        "duration": 223,
        "start_time": "2022-03-16T17:36:14.498Z"
      },
      {
        "duration": 224,
        "start_time": "2022-03-16T17:36:14.724Z"
      },
      {
        "duration": 220,
        "start_time": "2022-03-16T17:36:17.885Z"
      },
      {
        "duration": 1625,
        "start_time": "2022-03-16T17:41:00.292Z"
      },
      {
        "duration": 924,
        "start_time": "2022-03-16T17:41:01.920Z"
      },
      {
        "duration": 29,
        "start_time": "2022-03-16T17:41:02.847Z"
      },
      {
        "duration": 17,
        "start_time": "2022-03-16T17:41:02.879Z"
      },
      {
        "duration": 50,
        "start_time": "2022-03-16T17:41:02.899Z"
      },
      {
        "duration": 22,
        "start_time": "2022-03-16T17:41:02.952Z"
      },
      {
        "duration": 8,
        "start_time": "2022-03-16T17:41:02.977Z"
      },
      {
        "duration": 20,
        "start_time": "2022-03-16T17:41:02.988Z"
      },
      {
        "duration": 12,
        "start_time": "2022-03-16T17:41:03.013Z"
      },
      {
        "duration": 10,
        "start_time": "2022-03-16T17:41:03.029Z"
      },
      {
        "duration": 4,
        "start_time": "2022-03-16T17:41:03.074Z"
      },
      {
        "duration": 8,
        "start_time": "2022-03-16T17:41:03.081Z"
      },
      {
        "duration": 17,
        "start_time": "2022-03-16T17:41:03.092Z"
      },
      {
        "duration": 251,
        "start_time": "2022-03-16T17:41:03.111Z"
      },
      {
        "duration": 238,
        "start_time": "2022-03-16T17:41:03.365Z"
      },
      {
        "duration": 232,
        "start_time": "2022-03-16T17:41:03.607Z"
      },
      {
        "duration": 337,
        "start_time": "2022-03-16T17:41:03.843Z"
      },
      {
        "duration": 8,
        "start_time": "2022-03-16T17:41:04.183Z"
      },
      {
        "duration": 411,
        "start_time": "2022-03-16T17:41:04.194Z"
      },
      {
        "duration": 22,
        "start_time": "2022-03-16T17:41:04.608Z"
      },
      {
        "duration": 77,
        "start_time": "2022-03-16T17:41:04.632Z"
      },
      {
        "duration": 6,
        "start_time": "2022-03-16T17:41:04.711Z"
      },
      {
        "duration": 315,
        "start_time": "2022-03-16T17:41:04.719Z"
      },
      {
        "duration": 46,
        "start_time": "2022-03-16T17:41:05.037Z"
      },
      {
        "duration": 49,
        "start_time": "2022-03-16T17:41:05.086Z"
      },
      {
        "duration": 7,
        "start_time": "2022-03-16T17:41:05.138Z"
      },
      {
        "duration": 319,
        "start_time": "2022-03-16T17:41:05.178Z"
      },
      {
        "duration": 47,
        "start_time": "2022-03-16T17:41:05.500Z"
      },
      {
        "duration": 31,
        "start_time": "2022-03-16T17:41:05.550Z"
      },
      {
        "duration": 57,
        "start_time": "2022-03-16T17:41:05.583Z"
      },
      {
        "duration": 71,
        "start_time": "2022-03-16T17:41:05.642Z"
      },
      {
        "duration": 6,
        "start_time": "2022-03-16T17:41:05.715Z"
      },
      {
        "duration": 318,
        "start_time": "2022-03-16T17:41:05.723Z"
      },
      {
        "duration": 57,
        "start_time": "2022-03-16T17:41:06.043Z"
      },
      {
        "duration": 11,
        "start_time": "2022-03-16T17:41:06.103Z"
      },
      {
        "duration": 29,
        "start_time": "2022-03-16T17:41:06.116Z"
      },
      {
        "duration": 41,
        "start_time": "2022-03-16T17:41:06.148Z"
      },
      {
        "duration": 4,
        "start_time": "2022-03-16T17:41:06.192Z"
      },
      {
        "duration": 21,
        "start_time": "2022-03-16T17:41:06.199Z"
      },
      {
        "duration": 20,
        "start_time": "2022-03-16T17:41:06.223Z"
      },
      {
        "duration": 22266,
        "start_time": "2022-03-16T17:41:06.245Z"
      },
      {
        "duration": 6661,
        "start_time": "2022-03-16T17:41:28.513Z"
      },
      {
        "duration": 134009,
        "start_time": "2022-03-16T17:41:35.179Z"
      },
      {
        "duration": 19,
        "start_time": "2022-03-16T17:43:49.190Z"
      },
      {
        "duration": 7,
        "start_time": "2022-03-16T17:43:49.211Z"
      },
      {
        "duration": 12,
        "start_time": "2022-03-16T17:43:49.221Z"
      },
      {
        "duration": 2742,
        "start_time": "2022-03-16T17:43:49.235Z"
      },
      {
        "duration": 5191,
        "start_time": "2022-03-16T17:50:09.569Z"
      },
      {
        "duration": 1621,
        "start_time": "2022-03-16T17:50:23.441Z"
      },
      {
        "duration": 915,
        "start_time": "2022-03-16T17:50:28.859Z"
      },
      {
        "duration": 25,
        "start_time": "2022-03-16T17:50:29.776Z"
      },
      {
        "duration": 17,
        "start_time": "2022-03-16T17:50:30.923Z"
      },
      {
        "duration": 25,
        "start_time": "2022-03-16T17:50:31.397Z"
      },
      {
        "duration": 15,
        "start_time": "2022-03-16T17:50:35.073Z"
      },
      {
        "duration": 7,
        "start_time": "2022-03-16T17:50:35.829Z"
      },
      {
        "duration": 17,
        "start_time": "2022-03-16T17:50:36.398Z"
      },
      {
        "duration": 12,
        "start_time": "2022-03-16T17:50:39.126Z"
      },
      {
        "duration": 4,
        "start_time": "2022-03-16T17:50:41.063Z"
      },
      {
        "duration": 6,
        "start_time": "2022-03-16T17:50:44.321Z"
      },
      {
        "duration": 7,
        "start_time": "2022-03-16T17:50:59.957Z"
      },
      {
        "duration": 5,
        "start_time": "2022-03-16T17:51:03.777Z"
      },
      {
        "duration": 6,
        "start_time": "2022-03-16T17:51:06.084Z"
      },
      {
        "duration": 101,
        "start_time": "2022-03-16T17:51:12.781Z"
      },
      {
        "duration": 88,
        "start_time": "2022-03-16T17:51:19.620Z"
      },
      {
        "duration": 7,
        "start_time": "2022-03-16T17:51:31.325Z"
      },
      {
        "duration": 4,
        "start_time": "2022-03-16T17:51:33.367Z"
      },
      {
        "duration": 28,
        "start_time": "2022-03-16T17:51:33.374Z"
      },
      {
        "duration": 4,
        "start_time": "2022-03-16T17:51:33.444Z"
      },
      {
        "duration": 6,
        "start_time": "2022-03-16T17:51:34.682Z"
      },
      {
        "duration": 8,
        "start_time": "2022-03-16T17:54:04.284Z"
      },
      {
        "duration": 4,
        "start_time": "2022-03-16T17:54:05.175Z"
      },
      {
        "duration": 4,
        "start_time": "2022-03-16T17:54:05.654Z"
      },
      {
        "duration": 4,
        "start_time": "2022-03-16T17:54:06.063Z"
      },
      {
        "duration": 5,
        "start_time": "2022-03-16T17:54:06.462Z"
      },
      {
        "duration": 6,
        "start_time": "2022-03-16T17:54:49.592Z"
      },
      {
        "duration": 5,
        "start_time": "2022-03-16T17:54:50.323Z"
      },
      {
        "duration": 4,
        "start_time": "2022-03-16T17:54:50.806Z"
      },
      {
        "duration": 3,
        "start_time": "2022-03-16T17:54:51.288Z"
      },
      {
        "duration": 5,
        "start_time": "2022-03-16T17:54:51.681Z"
      },
      {
        "duration": 364,
        "start_time": "2022-03-16T17:55:14.878Z"
      },
      {
        "duration": 1599,
        "start_time": "2022-03-16T17:55:28.431Z"
      },
      {
        "duration": 912,
        "start_time": "2022-03-16T17:55:34.849Z"
      },
      {
        "duration": 25,
        "start_time": "2022-03-16T17:55:35.812Z"
      },
      {
        "duration": 17,
        "start_time": "2022-03-16T17:55:36.496Z"
      },
      {
        "duration": 25,
        "start_time": "2022-03-16T17:55:37.342Z"
      },
      {
        "duration": 15,
        "start_time": "2022-03-16T17:55:40.876Z"
      },
      {
        "duration": 7,
        "start_time": "2022-03-16T17:55:41.485Z"
      },
      {
        "duration": 16,
        "start_time": "2022-03-16T17:55:41.926Z"
      },
      {
        "duration": 11,
        "start_time": "2022-03-16T17:55:44.384Z"
      },
      {
        "duration": 4,
        "start_time": "2022-03-16T17:55:45.655Z"
      },
      {
        "duration": 6,
        "start_time": "2022-03-16T17:55:50.184Z"
      },
      {
        "duration": 15,
        "start_time": "2022-03-16T17:55:51.410Z"
      },
      {
        "duration": 15,
        "start_time": "2022-03-16T17:56:47.573Z"
      },
      {
        "duration": 1622,
        "start_time": "2022-03-16T17:57:57.604Z"
      },
      {
        "duration": 1078,
        "start_time": "2022-03-16T17:58:00.992Z"
      },
      {
        "duration": 26,
        "start_time": "2022-03-16T17:58:02.072Z"
      },
      {
        "duration": 20,
        "start_time": "2022-03-16T17:58:02.717Z"
      },
      {
        "duration": 28,
        "start_time": "2022-03-16T17:58:03.378Z"
      },
      {
        "duration": 18,
        "start_time": "2022-03-16T17:58:30.480Z"
      },
      {
        "duration": 12,
        "start_time": "2022-03-16T17:58:33.821Z"
      },
      {
        "duration": 4,
        "start_time": "2022-03-16T17:58:34.906Z"
      },
      {
        "duration": 6,
        "start_time": "2022-03-16T17:58:35.870Z"
      },
      {
        "duration": 15,
        "start_time": "2022-03-16T17:58:39.147Z"
      },
      {
        "duration": 13,
        "start_time": "2022-03-16T17:58:43.361Z"
      },
      {
        "duration": 1554,
        "start_time": "2022-03-16T17:59:21.702Z"
      },
      {
        "duration": 903,
        "start_time": "2022-03-16T17:59:24.810Z"
      },
      {
        "duration": 24,
        "start_time": "2022-03-16T17:59:26.328Z"
      },
      {
        "duration": 15,
        "start_time": "2022-03-16T17:59:27.486Z"
      },
      {
        "duration": 25,
        "start_time": "2022-03-16T17:59:28.245Z"
      },
      {
        "duration": 13,
        "start_time": "2022-03-16T17:59:38.027Z"
      },
      {
        "duration": 6,
        "start_time": "2022-03-16T17:59:38.734Z"
      },
      {
        "duration": 22,
        "start_time": "2022-03-16T17:59:41.786Z"
      },
      {
        "duration": 12,
        "start_time": "2022-03-16T18:03:53.725Z"
      },
      {
        "duration": 4,
        "start_time": "2022-03-16T18:03:54.778Z"
      },
      {
        "duration": 6,
        "start_time": "2022-03-16T18:03:55.826Z"
      },
      {
        "duration": 16,
        "start_time": "2022-03-16T18:04:01.320Z"
      },
      {
        "duration": 12,
        "start_time": "2022-03-16T18:04:04.818Z"
      },
      {
        "duration": 6,
        "start_time": "2022-03-16T18:04:17.818Z"
      },
      {
        "duration": 4,
        "start_time": "2022-03-16T18:04:18.630Z"
      },
      {
        "duration": 6,
        "start_time": "2022-03-16T18:04:19.244Z"
      },
      {
        "duration": 11,
        "start_time": "2022-03-16T18:04:20.230Z"
      },
      {
        "duration": 11,
        "start_time": "2022-03-16T18:04:24.930Z"
      },
      {
        "duration": 7,
        "start_time": "2022-03-16T18:04:30.449Z"
      },
      {
        "duration": 4,
        "start_time": "2022-03-16T18:04:31.081Z"
      },
      {
        "duration": 7,
        "start_time": "2022-03-16T18:04:31.679Z"
      },
      {
        "duration": 11,
        "start_time": "2022-03-16T18:04:32.448Z"
      },
      {
        "duration": 12,
        "start_time": "2022-03-16T18:04:35.355Z"
      },
      {
        "duration": 1597,
        "start_time": "2022-03-16T18:06:24.253Z"
      },
      {
        "duration": 967,
        "start_time": "2022-03-16T18:06:25.853Z"
      },
      {
        "duration": 25,
        "start_time": "2022-03-16T18:06:26.823Z"
      },
      {
        "duration": 87,
        "start_time": "2022-03-16T18:06:26.851Z"
      },
      {
        "duration": 188,
        "start_time": "2022-03-16T18:06:26.940Z"
      },
      {
        "duration": 140,
        "start_time": "2022-03-16T18:06:27.130Z"
      },
      {
        "duration": 120,
        "start_time": "2022-03-16T18:06:27.272Z"
      },
      {
        "duration": 164,
        "start_time": "2022-03-16T18:06:27.395Z"
      },
      {
        "duration": 84,
        "start_time": "2022-03-16T18:06:27.563Z"
      },
      {
        "duration": 173,
        "start_time": "2022-03-16T18:06:27.651Z"
      },
      {
        "duration": 72,
        "start_time": "2022-03-16T18:06:27.827Z"
      },
      {
        "duration": 69,
        "start_time": "2022-03-16T18:06:27.902Z"
      },
      {
        "duration": 26,
        "start_time": "2022-03-16T18:06:27.974Z"
      },
      {
        "duration": 297,
        "start_time": "2022-03-16T18:06:28.003Z"
      },
      {
        "duration": 232,
        "start_time": "2022-03-16T18:06:28.302Z"
      },
      {
        "duration": 237,
        "start_time": "2022-03-16T18:06:28.537Z"
      },
      {
        "duration": 345,
        "start_time": "2022-03-16T18:06:28.776Z"
      },
      {
        "duration": 61,
        "start_time": "2022-03-16T18:06:29.124Z"
      },
      {
        "duration": 533,
        "start_time": "2022-03-16T18:06:29.188Z"
      },
      {
        "duration": 29,
        "start_time": "2022-03-16T18:06:29.725Z"
      },
      {
        "duration": 85,
        "start_time": "2022-03-16T18:06:29.774Z"
      },
      {
        "duration": 7,
        "start_time": "2022-03-16T18:06:29.861Z"
      },
      {
        "duration": 391,
        "start_time": "2022-03-16T18:06:29.871Z"
      },
      {
        "duration": 39,
        "start_time": "2022-03-16T18:06:30.266Z"
      },
      {
        "duration": 206,
        "start_time": "2022-03-16T18:06:30.307Z"
      },
      {
        "duration": 6,
        "start_time": "2022-03-16T18:06:30.516Z"
      },
      {
        "duration": 353,
        "start_time": "2022-03-16T18:06:30.529Z"
      },
      {
        "duration": 47,
        "start_time": "2022-03-16T18:06:30.886Z"
      },
      {
        "duration": 209,
        "start_time": "2022-03-16T18:06:30.936Z"
      },
      {
        "duration": 126,
        "start_time": "2022-03-16T18:06:31.148Z"
      },
      {
        "duration": 72,
        "start_time": "2022-03-16T18:06:31.277Z"
      },
      {
        "duration": 20,
        "start_time": "2022-03-16T18:06:31.352Z"
      },
      {
        "duration": 355,
        "start_time": "2022-03-16T18:06:31.375Z"
      },
      {
        "duration": 61,
        "start_time": "2022-03-16T18:06:31.733Z"
      },
      {
        "duration": 58,
        "start_time": "2022-03-16T18:06:31.796Z"
      },
      {
        "duration": 193,
        "start_time": "2022-03-16T18:06:31.857Z"
      },
      {
        "duration": 165,
        "start_time": "2022-03-16T18:06:32.053Z"
      },
      {
        "duration": 32,
        "start_time": "2022-03-16T18:06:32.222Z"
      },
      {
        "duration": 87,
        "start_time": "2022-03-16T18:06:32.257Z"
      },
      {
        "duration": 73,
        "start_time": "2022-03-16T18:06:32.347Z"
      },
      {
        "duration": 23197,
        "start_time": "2022-03-16T18:06:32.423Z"
      },
      {
        "duration": 5951,
        "start_time": "2022-03-16T18:06:55.623Z"
      },
      {
        "duration": 135498,
        "start_time": "2022-03-16T18:07:01.577Z"
      },
      {
        "duration": 20,
        "start_time": "2022-03-16T18:09:17.078Z"
      },
      {
        "duration": 696,
        "start_time": "2022-03-16T18:09:17.101Z"
      },
      {
        "duration": 631,
        "start_time": "2022-03-16T18:09:17.800Z"
      },
      {
        "duration": 18022,
        "start_time": "2022-03-16T18:09:18.434Z"
      },
      {
        "duration": 77,
        "start_time": "2022-03-16T18:23:21.638Z"
      },
      {
        "duration": 5777,
        "start_time": "2022-03-16T18:23:44.937Z"
      },
      {
        "duration": 1639,
        "start_time": "2022-03-16T18:24:08.044Z"
      },
      {
        "duration": 968,
        "start_time": "2022-03-16T18:24:11.482Z"
      },
      {
        "duration": 29,
        "start_time": "2022-03-16T18:24:12.505Z"
      },
      {
        "duration": 18,
        "start_time": "2022-03-16T18:24:13.311Z"
      },
      {
        "duration": 28,
        "start_time": "2022-03-16T18:24:14.270Z"
      },
      {
        "duration": 15,
        "start_time": "2022-03-16T18:24:18.410Z"
      },
      {
        "duration": 6,
        "start_time": "2022-03-16T18:24:20.130Z"
      },
      {
        "duration": 17,
        "start_time": "2022-03-16T18:24:20.850Z"
      },
      {
        "duration": 90,
        "start_time": "2022-03-16T18:25:06.762Z"
      },
      {
        "duration": 12,
        "start_time": "2022-03-16T18:25:19.966Z"
      },
      {
        "duration": 5,
        "start_time": "2022-03-16T18:25:21.589Z"
      },
      {
        "duration": 7,
        "start_time": "2022-03-16T18:25:22.634Z"
      },
      {
        "duration": 15,
        "start_time": "2022-03-16T18:25:41.420Z"
      },
      {
        "duration": 11,
        "start_time": "2022-03-16T18:25:48.135Z"
      },
      {
        "duration": 7,
        "start_time": "2022-03-16T18:26:31.608Z"
      },
      {
        "duration": 4,
        "start_time": "2022-03-16T18:26:32.895Z"
      },
      {
        "duration": 6,
        "start_time": "2022-03-16T18:26:33.522Z"
      },
      {
        "duration": 11,
        "start_time": "2022-03-16T18:26:40.974Z"
      },
      {
        "duration": 11,
        "start_time": "2022-03-16T18:26:42.103Z"
      },
      {
        "duration": 1729,
        "start_time": "2022-03-16T18:28:44.634Z"
      },
      {
        "duration": 908,
        "start_time": "2022-03-16T18:28:46.366Z"
      },
      {
        "duration": 28,
        "start_time": "2022-03-16T18:28:47.277Z"
      },
      {
        "duration": 324,
        "start_time": "2022-03-16T18:28:47.309Z"
      },
      {
        "duration": 154,
        "start_time": "2022-03-16T18:28:47.636Z"
      },
      {
        "duration": 232,
        "start_time": "2022-03-16T18:28:47.792Z"
      },
      {
        "duration": 211,
        "start_time": "2022-03-16T18:28:48.027Z"
      },
      {
        "duration": 203,
        "start_time": "2022-03-16T18:28:48.243Z"
      },
      {
        "duration": 178,
        "start_time": "2022-03-16T18:28:48.449Z"
      },
      {
        "duration": 122,
        "start_time": "2022-03-16T18:28:48.630Z"
      },
      {
        "duration": 100,
        "start_time": "2022-03-16T18:28:48.755Z"
      },
      {
        "duration": 332,
        "start_time": "2022-03-16T18:28:48.857Z"
      },
      {
        "duration": 430,
        "start_time": "2022-03-16T18:28:49.192Z"
      },
      {
        "duration": 489,
        "start_time": "2022-03-16T18:28:49.625Z"
      },
      {
        "duration": 417,
        "start_time": "2022-03-16T18:28:50.117Z"
      },
      {
        "duration": 549,
        "start_time": "2022-03-16T18:28:50.537Z"
      },
      {
        "duration": 558,
        "start_time": "2022-03-16T18:28:51.088Z"
      },
      {
        "duration": 89,
        "start_time": "2022-03-16T18:28:51.649Z"
      },
      {
        "duration": 507,
        "start_time": "2022-03-16T18:28:51.741Z"
      },
      {
        "duration": 34,
        "start_time": "2022-03-16T18:28:52.251Z"
      },
      {
        "duration": 334,
        "start_time": "2022-03-16T18:28:52.288Z"
      },
      {
        "duration": 263,
        "start_time": "2022-03-16T18:28:52.624Z"
      },
      {
        "duration": 700,
        "start_time": "2022-03-16T18:28:52.892Z"
      },
      {
        "duration": 263,
        "start_time": "2022-03-16T18:28:53.596Z"
      },
      {
        "duration": 297,
        "start_time": "2022-03-16T18:28:53.862Z"
      },
      {
        "duration": 258,
        "start_time": "2022-03-16T18:28:54.161Z"
      },
      {
        "duration": 414,
        "start_time": "2022-03-16T18:28:54.421Z"
      },
      {
        "duration": 59,
        "start_time": "2022-03-16T18:28:54.838Z"
      },
      {
        "duration": 89,
        "start_time": "2022-03-16T18:28:54.900Z"
      },
      {
        "duration": 212,
        "start_time": "2022-03-16T18:28:54.992Z"
      },
      {
        "duration": 207,
        "start_time": "2022-03-16T18:28:55.207Z"
      },
      {
        "duration": 473,
        "start_time": "2022-03-16T18:28:55.416Z"
      },
      {
        "duration": 619,
        "start_time": "2022-03-16T18:28:55.891Z"
      },
      {
        "duration": 60,
        "start_time": "2022-03-16T18:28:56.513Z"
      },
      {
        "duration": 120,
        "start_time": "2022-03-16T18:28:56.575Z"
      },
      {
        "duration": 237,
        "start_time": "2022-03-16T18:28:56.697Z"
      },
      {
        "duration": 106,
        "start_time": "2022-03-16T18:28:56.937Z"
      },
      {
        "duration": 57,
        "start_time": "2022-03-16T18:28:57.045Z"
      },
      {
        "duration": 84,
        "start_time": "2022-03-16T18:28:57.104Z"
      },
      {
        "duration": 99,
        "start_time": "2022-03-16T18:28:57.191Z"
      },
      {
        "duration": 23261,
        "start_time": "2022-03-16T18:28:57.292Z"
      },
      {
        "duration": 5326,
        "start_time": "2022-03-16T18:29:20.556Z"
      },
      {
        "duration": 138991,
        "start_time": "2022-03-16T18:29:25.977Z"
      },
      {
        "duration": 18,
        "start_time": "2022-03-16T18:31:44.974Z"
      },
      {
        "duration": 427,
        "start_time": "2022-03-16T18:31:44.994Z"
      },
      {
        "duration": 368,
        "start_time": "2022-03-16T18:31:45.423Z"
      },
      {
        "duration": 16538,
        "start_time": "2022-03-16T18:31:45.793Z"
      },
      {
        "duration": 1659,
        "start_time": "2022-03-16T18:34:07.068Z"
      },
      {
        "duration": 865,
        "start_time": "2022-03-16T18:34:10.850Z"
      },
      {
        "duration": 27,
        "start_time": "2022-03-16T18:34:11.717Z"
      },
      {
        "duration": 17,
        "start_time": "2022-03-16T18:34:12.158Z"
      },
      {
        "duration": 28,
        "start_time": "2022-03-16T18:34:12.695Z"
      },
      {
        "duration": 14,
        "start_time": "2022-03-16T18:34:16.266Z"
      },
      {
        "duration": 7,
        "start_time": "2022-03-16T18:34:16.991Z"
      },
      {
        "duration": 148,
        "start_time": "2022-03-16T18:34:17.032Z"
      },
      {
        "duration": 13,
        "start_time": "2022-03-16T18:34:20.138Z"
      },
      {
        "duration": 4,
        "start_time": "2022-03-16T18:34:21.160Z"
      },
      {
        "duration": 964,
        "start_time": "2022-03-16T18:34:21.932Z"
      },
      {
        "duration": 14,
        "start_time": "2022-03-16T18:34:26.469Z"
      },
      {
        "duration": 11,
        "start_time": "2022-03-16T18:34:27.214Z"
      },
      {
        "duration": 223,
        "start_time": "2022-03-16T18:34:30.791Z"
      },
      {
        "duration": 224,
        "start_time": "2022-03-16T18:34:32.110Z"
      },
      {
        "duration": 223,
        "start_time": "2022-03-16T18:34:34.328Z"
      },
      {
        "duration": 321,
        "start_time": "2022-03-16T18:34:37.976Z"
      },
      {
        "duration": 7,
        "start_time": "2022-03-16T18:34:41.318Z"
      },
      {
        "duration": 397,
        "start_time": "2022-03-16T18:34:42.118Z"
      },
      {
        "duration": 20,
        "start_time": "2022-03-16T18:34:43.970Z"
      },
      {
        "duration": 60,
        "start_time": "2022-03-16T18:34:45.983Z"
      },
      {
        "duration": 7,
        "start_time": "2022-03-16T18:34:49.030Z"
      },
      {
        "duration": 290,
        "start_time": "2022-03-16T18:34:50.013Z"
      },
      {
        "duration": 35,
        "start_time": "2022-03-16T18:34:53.136Z"
      },
      {
        "duration": 49,
        "start_time": "2022-03-16T18:34:55.033Z"
      },
      {
        "duration": 6,
        "start_time": "2022-03-16T18:34:56.784Z"
      },
      {
        "duration": 308,
        "start_time": "2022-03-16T18:34:57.547Z"
      },
      {
        "duration": 47,
        "start_time": "2022-03-16T18:34:58.850Z"
      },
      {
        "duration": 12,
        "start_time": "2022-03-16T18:35:01.470Z"
      },
      {
        "duration": 54,
        "start_time": "2022-03-16T18:35:02.381Z"
      },
      {
        "duration": 52,
        "start_time": "2022-03-16T18:35:05.462Z"
      },
      {
        "duration": 7,
        "start_time": "2022-03-16T18:35:08.331Z"
      },
      {
        "duration": 308,
        "start_time": "2022-03-16T18:35:09.328Z"
      },
      {
        "duration": 67,
        "start_time": "2022-03-16T18:35:11.189Z"
      },
      {
        "duration": 10,
        "start_time": "2022-03-16T18:35:16.306Z"
      },
      {
        "duration": 29,
        "start_time": "2022-03-16T18:35:18.214Z"
      },
      {
        "duration": 24,
        "start_time": "2022-03-16T18:35:19.310Z"
      },
      {
        "duration": 5,
        "start_time": "2022-03-16T18:35:23.105Z"
      },
      {
        "duration": 13,
        "start_time": "2022-03-16T18:35:24.631Z"
      },
      {
        "duration": 596,
        "start_time": "2022-03-16T18:35:25.919Z"
      },
      {
        "duration": 1619,
        "start_time": "2022-03-16T18:36:20.098Z"
      },
      {
        "duration": 880,
        "start_time": "2022-03-16T18:36:21.720Z"
      },
      {
        "duration": 25,
        "start_time": "2022-03-16T18:36:22.603Z"
      },
      {
        "duration": 180,
        "start_time": "2022-03-16T18:36:22.630Z"
      },
      {
        "duration": 198,
        "start_time": "2022-03-16T18:36:22.812Z"
      },
      {
        "duration": 131,
        "start_time": "2022-03-16T18:36:23.013Z"
      },
      {
        "duration": 38,
        "start_time": "2022-03-16T18:36:23.148Z"
      },
      {
        "duration": 51,
        "start_time": "2022-03-16T18:36:23.190Z"
      },
      {
        "duration": 100,
        "start_time": "2022-03-16T18:36:23.245Z"
      },
      {
        "duration": 59,
        "start_time": "2022-03-16T18:36:23.348Z"
      },
      {
        "duration": 38,
        "start_time": "2022-03-16T18:36:23.410Z"
      },
      {
        "duration": 123,
        "start_time": "2022-03-16T18:36:23.450Z"
      },
      {
        "duration": 125,
        "start_time": "2022-03-16T18:36:23.576Z"
      },
      {
        "duration": 261,
        "start_time": "2022-03-16T18:36:23.704Z"
      },
      {
        "duration": 233,
        "start_time": "2022-03-16T18:36:23.968Z"
      },
      {
        "duration": 295,
        "start_time": "2022-03-16T18:36:24.203Z"
      },
      {
        "duration": 344,
        "start_time": "2022-03-16T18:36:24.501Z"
      },
      {
        "duration": 7,
        "start_time": "2022-03-16T18:36:24.848Z"
      },
      {
        "duration": 610,
        "start_time": "2022-03-16T18:36:24.875Z"
      },
      {
        "duration": 21,
        "start_time": "2022-03-16T18:36:25.488Z"
      },
      {
        "duration": 136,
        "start_time": "2022-03-16T18:36:25.511Z"
      },
      {
        "duration": 34,
        "start_time": "2022-03-16T18:36:25.649Z"
      },
      {
        "duration": 330,
        "start_time": "2022-03-16T18:36:25.686Z"
      },
      {
        "duration": 35,
        "start_time": "2022-03-16T18:36:26.019Z"
      },
      {
        "duration": 178,
        "start_time": "2022-03-16T18:36:26.056Z"
      },
      {
        "duration": 69,
        "start_time": "2022-03-16T18:36:26.237Z"
      },
      {
        "duration": 362,
        "start_time": "2022-03-16T18:36:26.311Z"
      },
      {
        "duration": 47,
        "start_time": "2022-03-16T18:36:26.676Z"
      },
      {
        "duration": 101,
        "start_time": "2022-03-16T18:36:26.725Z"
      },
      {
        "duration": 142,
        "start_time": "2022-03-16T18:36:26.830Z"
      },
      {
        "duration": 58,
        "start_time": "2022-03-16T18:36:26.974Z"
      },
      {
        "duration": 58,
        "start_time": "2022-03-16T18:36:27.034Z"
      },
      {
        "duration": 431,
        "start_time": "2022-03-16T18:36:27.095Z"
      },
      {
        "duration": 55,
        "start_time": "2022-03-16T18:36:27.528Z"
      },
      {
        "duration": 141,
        "start_time": "2022-03-16T18:36:27.585Z"
      },
      {
        "duration": 126,
        "start_time": "2022-03-16T18:36:27.728Z"
      },
      {
        "duration": 61,
        "start_time": "2022-03-16T18:36:27.856Z"
      },
      {
        "duration": 158,
        "start_time": "2022-03-16T18:36:27.919Z"
      },
      {
        "duration": 204,
        "start_time": "2022-03-16T18:36:28.079Z"
      },
      {
        "duration": 455,
        "start_time": "2022-03-16T18:36:28.286Z"
      },
      {
        "duration": -2726,
        "start_time": "2022-03-16T18:36:31.470Z"
      },
      {
        "duration": -2727,
        "start_time": "2022-03-16T18:36:31.472Z"
      },
      {
        "duration": -2726,
        "start_time": "2022-03-16T18:36:31.473Z"
      },
      {
        "duration": -2725,
        "start_time": "2022-03-16T18:36:31.474Z"
      },
      {
        "duration": -2726,
        "start_time": "2022-03-16T18:36:31.476Z"
      },
      {
        "duration": -2725,
        "start_time": "2022-03-16T18:36:31.477Z"
      },
      {
        "duration": -2725,
        "start_time": "2022-03-16T18:36:31.479Z"
      },
      {
        "duration": 13,
        "start_time": "2022-03-16T18:38:14.138Z"
      },
      {
        "duration": 9,
        "start_time": "2022-03-16T18:38:16.418Z"
      },
      {
        "duration": 23913,
        "start_time": "2022-03-16T18:38:36.359Z"
      },
      {
        "duration": 8344,
        "start_time": "2022-03-16T18:39:02.334Z"
      },
      {
        "duration": 160593,
        "start_time": "2022-03-16T18:39:13.135Z"
      },
      {
        "duration": 19,
        "start_time": "2022-03-16T18:41:58.248Z"
      },
      {
        "duration": 7,
        "start_time": "2022-03-16T18:41:59.268Z"
      },
      {
        "duration": 764,
        "start_time": "2022-03-16T18:41:59.313Z"
      },
      {
        "duration": 28430,
        "start_time": "2022-03-16T18:42:02.508Z"
      },
      {
        "duration": 1711,
        "start_time": "2022-03-16T18:43:01.271Z"
      },
      {
        "duration": 954,
        "start_time": "2022-03-16T18:43:02.984Z"
      },
      {
        "duration": 36,
        "start_time": "2022-03-16T18:43:03.942Z"
      },
      {
        "duration": 734,
        "start_time": "2022-03-16T18:43:03.982Z"
      },
      {
        "duration": 713,
        "start_time": "2022-03-16T18:43:04.719Z"
      },
      {
        "duration": 1000,
        "start_time": "2022-03-16T18:43:05.434Z"
      },
      {
        "duration": 717,
        "start_time": "2022-03-16T18:43:06.437Z"
      },
      {
        "duration": 493,
        "start_time": "2022-03-16T18:43:07.159Z"
      },
      {
        "duration": 197,
        "start_time": "2022-03-16T18:43:07.655Z"
      },
      {
        "duration": 284,
        "start_time": "2022-03-16T18:43:07.855Z"
      },
      {
        "duration": 163,
        "start_time": "2022-03-16T18:43:08.142Z"
      },
      {
        "duration": 583,
        "start_time": "2022-03-16T18:43:08.308Z"
      },
      {
        "duration": 313,
        "start_time": "2022-03-16T18:43:08.894Z"
      },
      {
        "duration": 785,
        "start_time": "2022-03-16T18:43:09.210Z"
      },
      {
        "duration": 369,
        "start_time": "2022-03-16T18:43:09.997Z"
      },
      {
        "duration": 712,
        "start_time": "2022-03-16T18:43:10.369Z"
      },
      {
        "duration": 565,
        "start_time": "2022-03-16T18:43:11.084Z"
      },
      {
        "duration": 170,
        "start_time": "2022-03-16T18:43:11.651Z"
      },
      {
        "duration": 1142,
        "start_time": "2022-03-16T18:43:11.823Z"
      },
      {
        "duration": 24,
        "start_time": "2022-03-16T18:43:12.968Z"
      },
      {
        "duration": 211,
        "start_time": "2022-03-16T18:43:12.995Z"
      },
      {
        "duration": 67,
        "start_time": "2022-03-16T18:43:13.208Z"
      },
      {
        "duration": 802,
        "start_time": "2022-03-16T18:43:13.280Z"
      },
      {
        "duration": 307,
        "start_time": "2022-03-16T18:43:14.085Z"
      },
      {
        "duration": 360,
        "start_time": "2022-03-16T18:43:14.395Z"
      },
      {
        "duration": 359,
        "start_time": "2022-03-16T18:43:14.758Z"
      },
      {
        "duration": 1138,
        "start_time": "2022-03-16T18:43:15.119Z"
      },
      {
        "duration": 553,
        "start_time": "2022-03-16T18:43:16.260Z"
      },
      {
        "duration": 1180,
        "start_time": "2022-03-16T18:43:16.816Z"
      },
      {
        "duration": 927,
        "start_time": "2022-03-16T18:43:17.999Z"
      },
      {
        "duration": 1629,
        "start_time": "2022-03-16T18:43:18.929Z"
      },
      {
        "duration": 469,
        "start_time": "2022-03-16T18:43:20.561Z"
      },
      {
        "duration": 610,
        "start_time": "2022-03-16T18:43:21.032Z"
      },
      {
        "duration": 676,
        "start_time": "2022-03-16T18:43:21.645Z"
      },
      {
        "duration": 1303,
        "start_time": "2022-03-16T18:43:22.324Z"
      },
      {
        "duration": 876,
        "start_time": "2022-03-16T18:43:23.630Z"
      },
      {
        "duration": 1044,
        "start_time": "2022-03-16T18:43:24.509Z"
      },
      {
        "duration": 98,
        "start_time": "2022-03-16T18:43:25.556Z"
      },
      {
        "duration": 406,
        "start_time": "2022-03-16T18:43:25.657Z"
      },
      {
        "duration": 1052,
        "start_time": "2022-03-16T18:43:26.066Z"
      },
      {
        "duration": 25493,
        "start_time": "2022-03-16T18:43:27.121Z"
      },
      {
        "duration": 6758,
        "start_time": "2022-03-16T18:43:52.617Z"
      },
      {
        "duration": 135849,
        "start_time": "2022-03-16T18:43:59.378Z"
      },
      {
        "duration": 20,
        "start_time": "2022-03-16T18:46:15.230Z"
      },
      {
        "duration": 537,
        "start_time": "2022-03-16T18:46:15.253Z"
      },
      {
        "duration": 432,
        "start_time": "2022-03-16T18:46:15.793Z"
      },
      {
        "duration": 25500,
        "start_time": "2022-03-16T18:46:16.228Z"
      },
      {
        "duration": 2239,
        "start_time": "2022-03-17T19:21:42.437Z"
      },
      {
        "duration": 748,
        "start_time": "2022-03-17T19:21:44.678Z"
      },
      {
        "duration": 18,
        "start_time": "2022-03-17T19:21:45.428Z"
      },
      {
        "duration": 13,
        "start_time": "2022-03-17T19:21:45.449Z"
      },
      {
        "duration": 17,
        "start_time": "2022-03-17T19:21:45.464Z"
      },
      {
        "duration": 37,
        "start_time": "2022-03-17T19:21:45.482Z"
      },
      {
        "duration": 5,
        "start_time": "2022-03-17T19:21:45.521Z"
      },
      {
        "duration": 19,
        "start_time": "2022-03-17T19:21:45.527Z"
      },
      {
        "duration": 7,
        "start_time": "2022-03-17T19:21:45.548Z"
      },
      {
        "duration": 3,
        "start_time": "2022-03-17T19:21:45.558Z"
      },
      {
        "duration": 6,
        "start_time": "2022-03-17T19:21:45.562Z"
      },
      {
        "duration": 40,
        "start_time": "2022-03-17T19:21:45.570Z"
      },
      {
        "duration": 10,
        "start_time": "2022-03-17T19:21:45.612Z"
      },
      {
        "duration": 147,
        "start_time": "2022-03-17T19:21:45.623Z"
      },
      {
        "duration": 127,
        "start_time": "2022-03-17T19:21:45.772Z"
      },
      {
        "duration": 124,
        "start_time": "2022-03-17T19:21:45.902Z"
      },
      {
        "duration": 164,
        "start_time": "2022-03-17T19:21:46.029Z"
      },
      {
        "duration": 13,
        "start_time": "2022-03-17T19:21:46.195Z"
      },
      {
        "duration": 157,
        "start_time": "2022-03-17T19:21:46.210Z"
      },
      {
        "duration": 15,
        "start_time": "2022-03-17T19:21:46.370Z"
      },
      {
        "duration": 49,
        "start_time": "2022-03-17T19:21:46.387Z"
      },
      {
        "duration": 6,
        "start_time": "2022-03-17T19:21:46.438Z"
      },
      {
        "duration": 230,
        "start_time": "2022-03-17T19:21:46.445Z"
      },
      {
        "duration": 33,
        "start_time": "2022-03-17T19:21:46.676Z"
      },
      {
        "duration": 33,
        "start_time": "2022-03-17T19:21:46.711Z"
      },
      {
        "duration": 4,
        "start_time": "2022-03-17T19:21:46.746Z"
      },
      {
        "duration": 171,
        "start_time": "2022-03-17T19:21:46.752Z"
      },
      {
        "duration": 35,
        "start_time": "2022-03-17T19:21:46.926Z"
      },
      {
        "duration": 7,
        "start_time": "2022-03-17T19:21:46.963Z"
      },
      {
        "duration": 55,
        "start_time": "2022-03-17T19:21:46.972Z"
      },
      {
        "duration": 33,
        "start_time": "2022-03-17T19:21:47.029Z"
      },
      {
        "duration": 4,
        "start_time": "2022-03-17T19:21:47.064Z"
      },
      {
        "duration": 161,
        "start_time": "2022-03-17T19:21:47.070Z"
      },
      {
        "duration": 28,
        "start_time": "2022-03-17T19:21:47.233Z"
      },
      {
        "duration": 8,
        "start_time": "2022-03-17T19:21:47.263Z"
      },
      {
        "duration": 17,
        "start_time": "2022-03-17T19:21:47.273Z"
      },
      {
        "duration": 14,
        "start_time": "2022-03-17T19:21:47.309Z"
      },
      {
        "duration": 3,
        "start_time": "2022-03-17T19:21:47.325Z"
      },
      {
        "duration": 11,
        "start_time": "2022-03-17T19:21:47.330Z"
      },
      {
        "duration": 12,
        "start_time": "2022-03-17T19:21:47.342Z"
      },
      {
        "duration": 18870,
        "start_time": "2022-03-17T19:21:47.356Z"
      },
      {
        "duration": 5583,
        "start_time": "2022-03-17T19:22:06.228Z"
      },
      {
        "duration": 1033084,
        "start_time": "2022-03-17T19:22:11.813Z"
      },
      {
        "duration": 18,
        "start_time": "2022-03-17T19:39:24.899Z"
      },
      {
        "duration": 5,
        "start_time": "2022-03-17T19:39:24.918Z"
      },
      {
        "duration": 4,
        "start_time": "2022-03-17T19:39:24.925Z"
      },
      {
        "duration": 193853,
        "start_time": "2022-03-17T19:39:24.930Z"
      },
      {
        "duration": 4,
        "start_time": "2022-03-17T19:42:38.786Z"
      },
      {
        "duration": 126,
        "start_time": "2022-03-17T19:42:38.792Z"
      },
      {
        "duration": 9,
        "start_time": "2022-03-17T20:00:38.640Z"
      },
      {
        "duration": 4,
        "start_time": "2022-03-17T20:01:11.290Z"
      },
      {
        "duration": 10,
        "start_time": "2022-03-17T20:01:21.945Z"
      },
      {
        "duration": 10,
        "start_time": "2022-03-17T20:01:23.645Z"
      },
      {
        "duration": 2312,
        "start_time": "2022-03-17T20:20:19.718Z"
      },
      {
        "duration": 788,
        "start_time": "2022-03-17T20:20:22.032Z"
      },
      {
        "duration": 21,
        "start_time": "2022-03-17T20:20:22.821Z"
      },
      {
        "duration": 14,
        "start_time": "2022-03-17T20:20:22.844Z"
      },
      {
        "duration": 19,
        "start_time": "2022-03-17T20:20:22.861Z"
      },
      {
        "duration": 12,
        "start_time": "2022-03-17T20:20:22.909Z"
      },
      {
        "duration": 6,
        "start_time": "2022-03-17T20:20:22.923Z"
      },
      {
        "duration": 17,
        "start_time": "2022-03-17T20:20:22.931Z"
      },
      {
        "duration": 16,
        "start_time": "2022-03-17T20:20:22.950Z"
      },
      {
        "duration": 42,
        "start_time": "2022-03-17T20:20:22.968Z"
      },
      {
        "duration": 8,
        "start_time": "2022-03-17T20:20:23.012Z"
      },
      {
        "duration": 3,
        "start_time": "2022-03-17T20:20:23.022Z"
      },
      {
        "duration": 5,
        "start_time": "2022-03-17T20:20:23.027Z"
      },
      {
        "duration": 7,
        "start_time": "2022-03-17T20:20:23.036Z"
      },
      {
        "duration": 7,
        "start_time": "2022-03-17T20:20:23.045Z"
      },
      {
        "duration": 157,
        "start_time": "2022-03-17T20:20:23.054Z"
      },
      {
        "duration": 118,
        "start_time": "2022-03-17T20:20:23.213Z"
      },
      {
        "duration": 116,
        "start_time": "2022-03-17T20:20:23.332Z"
      },
      {
        "duration": 173,
        "start_time": "2022-03-17T20:20:23.450Z"
      },
      {
        "duration": 6,
        "start_time": "2022-03-17T20:20:23.625Z"
      },
      {
        "duration": 169,
        "start_time": "2022-03-17T20:20:23.632Z"
      },
      {
        "duration": 19,
        "start_time": "2022-03-17T20:20:23.803Z"
      },
      {
        "duration": 33,
        "start_time": "2022-03-17T20:20:23.824Z"
      },
      {
        "duration": 5,
        "start_time": "2022-03-17T20:20:23.859Z"
      },
      {
        "duration": 222,
        "start_time": "2022-03-17T20:20:23.866Z"
      },
      {
        "duration": 32,
        "start_time": "2022-03-17T20:20:24.090Z"
      },
      {
        "duration": 31,
        "start_time": "2022-03-17T20:20:24.124Z"
      },
      {
        "duration": 4,
        "start_time": "2022-03-17T20:20:24.157Z"
      },
      {
        "duration": 165,
        "start_time": "2022-03-17T20:20:24.163Z"
      },
      {
        "duration": 33,
        "start_time": "2022-03-17T20:20:24.330Z"
      },
      {
        "duration": 7,
        "start_time": "2022-03-17T20:20:24.365Z"
      },
      {
        "duration": 60,
        "start_time": "2022-03-17T20:20:24.374Z"
      },
      {
        "duration": 34,
        "start_time": "2022-03-17T20:20:24.436Z"
      },
      {
        "duration": 4,
        "start_time": "2022-03-17T20:20:24.471Z"
      },
      {
        "duration": 163,
        "start_time": "2022-03-17T20:20:24.477Z"
      },
      {
        "duration": 30,
        "start_time": "2022-03-17T20:20:24.642Z"
      },
      {
        "duration": 7,
        "start_time": "2022-03-17T20:20:24.673Z"
      },
      {
        "duration": 39,
        "start_time": "2022-03-17T20:20:24.682Z"
      },
      {
        "duration": 15,
        "start_time": "2022-03-17T20:20:24.723Z"
      },
      {
        "duration": 4,
        "start_time": "2022-03-17T20:20:24.740Z"
      },
      {
        "duration": 9,
        "start_time": "2022-03-17T20:20:24.749Z"
      },
      {
        "duration": 11,
        "start_time": "2022-03-17T20:20:24.760Z"
      },
      {
        "duration": 18120,
        "start_time": "2022-03-17T20:20:24.773Z"
      },
      {
        "duration": 4616,
        "start_time": "2022-03-17T20:20:42.894Z"
      },
      {
        "duration": 1030680,
        "start_time": "2022-03-17T20:20:47.512Z"
      },
      {
        "duration": 22,
        "start_time": "2022-03-17T20:37:58.193Z"
      },
      {
        "duration": 5,
        "start_time": "2022-03-17T20:37:58.216Z"
      },
      {
        "duration": 4,
        "start_time": "2022-03-17T20:37:58.223Z"
      },
      {
        "duration": 191060,
        "start_time": "2022-03-17T20:37:58.229Z"
      },
      {
        "duration": 1841,
        "start_time": "2022-03-19T17:49:41.568Z"
      },
      {
        "duration": 881,
        "start_time": "2022-03-19T17:49:44.668Z"
      },
      {
        "duration": 19,
        "start_time": "2022-03-19T17:49:45.551Z"
      },
      {
        "duration": 14,
        "start_time": "2022-03-19T17:49:46.405Z"
      },
      {
        "duration": 18,
        "start_time": "2022-03-19T17:49:49.245Z"
      },
      {
        "duration": 11,
        "start_time": "2022-03-19T17:50:19.428Z"
      },
      {
        "duration": 5,
        "start_time": "2022-03-19T17:50:19.487Z"
      },
      {
        "duration": 15,
        "start_time": "2022-03-19T17:50:20.402Z"
      },
      {
        "duration": 8,
        "start_time": "2022-03-19T17:50:28.751Z"
      },
      {
        "duration": 3,
        "start_time": "2022-03-19T17:50:28.798Z"
      },
      {
        "duration": 6,
        "start_time": "2022-03-19T17:50:30.138Z"
      },
      {
        "duration": 14,
        "start_time": "2022-03-19T17:50:34.354Z"
      },
      {
        "duration": 11,
        "start_time": "2022-03-19T17:50:35.286Z"
      },
      {
        "duration": 117,
        "start_time": "2022-03-19T17:50:39.043Z"
      },
      {
        "duration": 99,
        "start_time": "2022-03-19T17:50:43.985Z"
      },
      {
        "duration": 103,
        "start_time": "2022-03-19T17:50:44.086Z"
      },
      {
        "duration": 126,
        "start_time": "2022-03-19T17:50:58.982Z"
      },
      {
        "duration": 5,
        "start_time": "2022-03-19T17:51:05.406Z"
      },
      {
        "duration": 204,
        "start_time": "2022-03-19T17:51:06.342Z"
      },
      {
        "duration": 4,
        "start_time": "2022-03-19T17:51:39.575Z"
      },
      {
        "duration": 1390,
        "start_time": "2022-03-19T17:51:48.780Z"
      },
      {
        "duration": 739,
        "start_time": "2022-03-19T17:51:50.945Z"
      },
      {
        "duration": 19,
        "start_time": "2022-03-19T17:51:51.806Z"
      },
      {
        "duration": 12,
        "start_time": "2022-03-19T17:51:51.849Z"
      },
      {
        "duration": 17,
        "start_time": "2022-03-19T17:51:54.672Z"
      },
      {
        "duration": 11,
        "start_time": "2022-03-19T17:51:58.884Z"
      },
      {
        "duration": 5,
        "start_time": "2022-03-19T17:51:59.504Z"
      },
      {
        "duration": 15,
        "start_time": "2022-03-19T17:51:59.544Z"
      },
      {
        "duration": 8,
        "start_time": "2022-03-19T17:52:07.647Z"
      },
      {
        "duration": 3,
        "start_time": "2022-03-19T17:52:07.683Z"
      },
      {
        "duration": 5,
        "start_time": "2022-03-19T17:52:10.030Z"
      },
      {
        "duration": 9,
        "start_time": "2022-03-19T17:52:12.565Z"
      },
      {
        "duration": 7,
        "start_time": "2022-03-19T17:52:13.237Z"
      },
      {
        "duration": 107,
        "start_time": "2022-03-19T17:52:17.037Z"
      },
      {
        "duration": 99,
        "start_time": "2022-03-19T17:52:19.506Z"
      },
      {
        "duration": 97,
        "start_time": "2022-03-19T17:52:22.001Z"
      },
      {
        "duration": 121,
        "start_time": "2022-03-19T17:52:25.539Z"
      },
      {
        "duration": 5,
        "start_time": "2022-03-19T17:52:29.278Z"
      },
      {
        "duration": 133,
        "start_time": "2022-03-19T17:52:38.502Z"
      },
      {
        "duration": 19,
        "start_time": "2022-03-19T17:52:41.595Z"
      },
      {
        "duration": 5,
        "start_time": "2022-03-19T17:53:14.327Z"
      },
      {
        "duration": 273,
        "start_time": "2022-03-19T17:53:14.367Z"
      },
      {
        "duration": 51,
        "start_time": "2022-03-19T17:53:22.773Z"
      },
      {
        "duration": 47,
        "start_time": "2022-03-19T17:53:28.228Z"
      },
      {
        "duration": 6,
        "start_time": "2022-03-19T17:53:31.871Z"
      },
      {
        "duration": 203,
        "start_time": "2022-03-19T17:53:32.529Z"
      },
      {
        "duration": 78,
        "start_time": "2022-03-19T17:53:45.951Z"
      },
      {
        "duration": 7,
        "start_time": "2022-03-19T17:53:56.789Z"
      },
      {
        "duration": 34,
        "start_time": "2022-03-19T17:53:59.269Z"
      },
      {
        "duration": 37,
        "start_time": "2022-03-19T17:54:07.149Z"
      },
      {
        "duration": 5,
        "start_time": "2022-03-19T17:54:10.824Z"
      },
      {
        "duration": 122,
        "start_time": "2022-03-19T17:54:12.656Z"
      },
      {
        "duration": 8,
        "start_time": "2022-03-19T17:54:19.466Z"
      },
      {
        "duration": 16,
        "start_time": "2022-03-19T17:54:22.388Z"
      },
      {
        "duration": 17,
        "start_time": "2022-03-19T17:54:34.450Z"
      },
      {
        "duration": 6,
        "start_time": "2022-03-19T17:54:42.801Z"
      },
      {
        "duration": 8,
        "start_time": "2022-03-19T17:54:52.405Z"
      },
      {
        "duration": 10,
        "start_time": "2022-03-19T17:54:52.455Z"
      },
      {
        "duration": 22432,
        "start_time": "2022-03-19T17:55:29.758Z"
      },
      {
        "duration": 16095,
        "start_time": "2022-03-19T17:56:18.983Z"
      },
      {
        "duration": 22378,
        "start_time": "2022-03-19T17:56:52.481Z"
      },
      {
        "duration": 22388,
        "start_time": "2022-03-19T17:57:24.046Z"
      },
      {
        "duration": 5088,
        "start_time": "2022-03-19T18:02:47.760Z"
      },
      {
        "duration": 5615,
        "start_time": "2022-03-19T18:03:09.122Z"
      },
      {
        "duration": 71310,
        "start_time": "2022-03-19T18:03:26.086Z"
      },
      {
        "duration": 1445,
        "start_time": "2022-03-19T18:06:52.152Z"
      },
      {
        "duration": 749,
        "start_time": "2022-03-19T18:06:55.124Z"
      },
      {
        "duration": 19,
        "start_time": "2022-03-19T18:06:57.479Z"
      },
      {
        "duration": 14,
        "start_time": "2022-03-19T18:06:59.499Z"
      },
      {
        "duration": 17,
        "start_time": "2022-03-19T18:07:03.334Z"
      },
      {
        "duration": 12,
        "start_time": "2022-03-19T18:07:08.432Z"
      },
      {
        "duration": 4,
        "start_time": "2022-03-19T18:07:09.237Z"
      },
      {
        "duration": 16,
        "start_time": "2022-03-19T18:07:09.815Z"
      },
      {
        "duration": 8,
        "start_time": "2022-03-19T18:07:15.437Z"
      },
      {
        "duration": 3,
        "start_time": "2022-03-19T18:07:15.478Z"
      },
      {
        "duration": 6,
        "start_time": "2022-03-19T18:07:16.862Z"
      },
      {
        "duration": 11,
        "start_time": "2022-03-19T18:07:20.093Z"
      },
      {
        "duration": 8,
        "start_time": "2022-03-19T18:07:20.167Z"
      },
      {
        "duration": 125,
        "start_time": "2022-03-19T18:07:23.568Z"
      },
      {
        "duration": 98,
        "start_time": "2022-03-19T18:07:25.744Z"
      },
      {
        "duration": 99,
        "start_time": "2022-03-19T18:07:27.939Z"
      },
      {
        "duration": 141,
        "start_time": "2022-03-19T18:07:31.149Z"
      },
      {
        "duration": 5,
        "start_time": "2022-03-19T18:07:34.693Z"
      },
      {
        "duration": 128,
        "start_time": "2022-03-19T18:07:35.470Z"
      },
      {
        "duration": 20,
        "start_time": "2022-03-19T18:07:38.964Z"
      },
      {
        "duration": 5,
        "start_time": "2022-03-19T18:08:26.380Z"
      },
      {
        "duration": 196,
        "start_time": "2022-03-19T18:08:27.223Z"
      },
      {
        "duration": 36,
        "start_time": "2022-03-19T18:08:28.484Z"
      },
      {
        "duration": 32,
        "start_time": "2022-03-19T18:08:33.578Z"
      },
      {
        "duration": 5,
        "start_time": "2022-03-19T18:08:36.592Z"
      },
      {
        "duration": 123,
        "start_time": "2022-03-19T18:08:36.647Z"
      },
      {
        "duration": 83,
        "start_time": "2022-03-19T18:08:39.247Z"
      },
      {
        "duration": 7,
        "start_time": "2022-03-19T18:08:42.469Z"
      },
      {
        "duration": 36,
        "start_time": "2022-03-19T18:08:43.310Z"
      },
      {
        "duration": 35,
        "start_time": "2022-03-19T18:08:46.022Z"
      },
      {
        "duration": 5,
        "start_time": "2022-03-19T18:08:49.524Z"
      },
      {
        "duration": 125,
        "start_time": "2022-03-19T18:08:50.623Z"
      },
      {
        "duration": 30,
        "start_time": "2022-03-19T18:08:52.268Z"
      },
      {
        "duration": 8,
        "start_time": "2022-03-19T18:08:56.120Z"
      },
      {
        "duration": 16,
        "start_time": "2022-03-19T18:08:58.506Z"
      },
      {
        "duration": 14,
        "start_time": "2022-03-19T18:09:01.120Z"
      },
      {
        "duration": 3,
        "start_time": "2022-03-19T18:09:04.736Z"
      },
      {
        "duration": 9,
        "start_time": "2022-03-19T18:09:09.089Z"
      },
      {
        "duration": 11,
        "start_time": "2022-03-19T18:09:10.606Z"
      },
      {
        "duration": 16169,
        "start_time": "2022-03-19T18:09:13.698Z"
      },
      {
        "duration": 5832,
        "start_time": "2022-03-19T18:09:34.500Z"
      },
      {
        "duration": 0,
        "start_time": "2022-03-19T18:10:33.883Z"
      },
      {
        "duration": 159364,
        "start_time": "2022-03-19T18:10:34.317Z"
      },
      {
        "duration": 251742,
        "start_time": "2022-03-19T18:13:24.582Z"
      },
      {
        "duration": 375936,
        "start_time": "2022-03-19T18:17:50.450Z"
      },
      {
        "duration": 442239,
        "start_time": "2022-03-19T18:24:23.648Z"
      },
      {
        "duration": 360654,
        "start_time": "2022-03-19T18:31:47.838Z"
      },
      {
        "duration": 25,
        "start_time": "2022-03-19T18:37:51.468Z"
      },
      {
        "duration": 87249,
        "start_time": "2022-03-19T18:38:59.906Z"
      },
      {
        "duration": 1383,
        "start_time": "2022-03-19T18:40:30.965Z"
      },
      {
        "duration": 752,
        "start_time": "2022-03-19T18:40:32.350Z"
      },
      {
        "duration": 18,
        "start_time": "2022-03-19T18:40:33.103Z"
      },
      {
        "duration": 13,
        "start_time": "2022-03-19T18:40:33.133Z"
      },
      {
        "duration": 16,
        "start_time": "2022-03-19T18:40:33.148Z"
      },
      {
        "duration": 12,
        "start_time": "2022-03-19T18:40:33.165Z"
      },
      {
        "duration": 4,
        "start_time": "2022-03-19T18:40:33.179Z"
      },
      {
        "duration": 15,
        "start_time": "2022-03-19T18:40:33.185Z"
      },
      {
        "duration": 43,
        "start_time": "2022-03-19T18:40:33.202Z"
      },
      {
        "duration": 9,
        "start_time": "2022-03-19T18:40:33.247Z"
      },
      {
        "duration": 13,
        "start_time": "2022-03-19T18:40:33.257Z"
      },
      {
        "duration": 7,
        "start_time": "2022-03-19T18:40:33.271Z"
      },
      {
        "duration": 9,
        "start_time": "2022-03-19T18:40:33.279Z"
      },
      {
        "duration": 12,
        "start_time": "2022-03-19T18:40:33.289Z"
      },
      {
        "duration": 31,
        "start_time": "2022-03-19T18:40:33.302Z"
      },
      {
        "duration": 112,
        "start_time": "2022-03-19T18:40:33.334Z"
      },
      {
        "duration": 104,
        "start_time": "2022-03-19T18:40:33.448Z"
      },
      {
        "duration": 96,
        "start_time": "2022-03-19T18:40:33.554Z"
      },
      {
        "duration": 137,
        "start_time": "2022-03-19T18:40:33.651Z"
      },
      {
        "duration": 5,
        "start_time": "2022-03-19T18:40:33.790Z"
      },
      {
        "duration": 142,
        "start_time": "2022-03-19T18:40:33.796Z"
      },
      {
        "duration": 21,
        "start_time": "2022-03-19T18:40:33.939Z"
      },
      {
        "duration": 5,
        "start_time": "2022-03-19T18:40:33.961Z"
      },
      {
        "duration": 212,
        "start_time": "2022-03-19T18:40:33.967Z"
      },
      {
        "duration": 35,
        "start_time": "2022-03-19T18:40:34.181Z"
      },
      {
        "duration": 43,
        "start_time": "2022-03-19T18:40:34.217Z"
      },
      {
        "duration": 4,
        "start_time": "2022-03-19T18:40:34.262Z"
      },
      {
        "duration": 142,
        "start_time": "2022-03-19T18:40:34.269Z"
      },
      {
        "duration": 80,
        "start_time": "2022-03-19T18:40:34.413Z"
      },
      {
        "duration": 8,
        "start_time": "2022-03-19T18:40:34.495Z"
      },
      {
        "duration": 36,
        "start_time": "2022-03-19T18:40:34.504Z"
      },
      {
        "duration": 33,
        "start_time": "2022-03-19T18:40:34.541Z"
      },
      {
        "duration": 4,
        "start_time": "2022-03-19T18:40:34.576Z"
      },
      {
        "duration": 134,
        "start_time": "2022-03-19T18:40:34.582Z"
      },
      {
        "duration": 36,
        "start_time": "2022-03-19T18:40:34.718Z"
      },
      {
        "duration": 7,
        "start_time": "2022-03-19T18:40:34.756Z"
      },
      {
        "duration": 16,
        "start_time": "2022-03-19T18:40:34.765Z"
      },
      {
        "duration": 14,
        "start_time": "2022-03-19T18:40:34.783Z"
      },
      {
        "duration": 3,
        "start_time": "2022-03-19T18:40:34.798Z"
      },
      {
        "duration": 34,
        "start_time": "2022-03-19T18:40:34.803Z"
      },
      {
        "duration": 10,
        "start_time": "2022-03-19T18:40:34.839Z"
      },
      {
        "duration": 15963,
        "start_time": "2022-03-19T18:40:34.851Z"
      },
      {
        "duration": 4319,
        "start_time": "2022-03-19T18:40:50.815Z"
      },
      {
        "duration": 1360,
        "start_time": "2022-03-19T18:47:58.673Z"
      },
      {
        "duration": 744,
        "start_time": "2022-03-19T18:48:00.035Z"
      },
      {
        "duration": 17,
        "start_time": "2022-03-19T18:48:00.780Z"
      },
      {
        "duration": 13,
        "start_time": "2022-03-19T18:48:00.799Z"
      },
      {
        "duration": 34,
        "start_time": "2022-03-19T18:48:00.813Z"
      },
      {
        "duration": 11,
        "start_time": "2022-03-19T18:48:00.848Z"
      },
      {
        "duration": 11,
        "start_time": "2022-03-19T18:48:00.861Z"
      },
      {
        "duration": 15,
        "start_time": "2022-03-19T18:48:00.873Z"
      },
      {
        "duration": 13,
        "start_time": "2022-03-19T18:48:00.890Z"
      },
      {
        "duration": 34,
        "start_time": "2022-03-19T18:48:00.906Z"
      },
      {
        "duration": 13,
        "start_time": "2022-03-19T18:48:00.942Z"
      },
      {
        "duration": 11,
        "start_time": "2022-03-19T18:48:00.956Z"
      },
      {
        "duration": 7,
        "start_time": "2022-03-19T18:48:00.969Z"
      },
      {
        "duration": 10,
        "start_time": "2022-03-19T18:48:00.977Z"
      },
      {
        "duration": 9,
        "start_time": "2022-03-19T18:48:00.988Z"
      },
      {
        "duration": 126,
        "start_time": "2022-03-19T18:48:00.998Z"
      },
      {
        "duration": 108,
        "start_time": "2022-03-19T18:48:01.126Z"
      },
      {
        "duration": 110,
        "start_time": "2022-03-19T18:48:01.236Z"
      },
      {
        "duration": 138,
        "start_time": "2022-03-19T18:48:01.347Z"
      },
      {
        "duration": 5,
        "start_time": "2022-03-19T18:48:01.486Z"
      },
      {
        "duration": 147,
        "start_time": "2022-03-19T18:48:01.492Z"
      },
      {
        "duration": 20,
        "start_time": "2022-03-19T18:48:01.640Z"
      },
      {
        "duration": 5,
        "start_time": "2022-03-19T18:48:01.662Z"
      },
      {
        "duration": 223,
        "start_time": "2022-03-19T18:48:01.669Z"
      },
      {
        "duration": 41,
        "start_time": "2022-03-19T18:48:01.893Z"
      },
      {
        "duration": 31,
        "start_time": "2022-03-19T18:48:01.935Z"
      },
      {
        "duration": 6,
        "start_time": "2022-03-19T18:48:01.967Z"
      },
      {
        "duration": 143,
        "start_time": "2022-03-19T18:48:01.976Z"
      },
      {
        "duration": 88,
        "start_time": "2022-03-19T18:48:02.121Z"
      },
      {
        "duration": 7,
        "start_time": "2022-03-19T18:48:02.211Z"
      },
      {
        "duration": 36,
        "start_time": "2022-03-19T18:48:02.220Z"
      },
      {
        "duration": 35,
        "start_time": "2022-03-19T18:48:02.259Z"
      },
      {
        "duration": 5,
        "start_time": "2022-03-19T18:48:02.296Z"
      },
      {
        "duration": 162,
        "start_time": "2022-03-19T18:48:02.303Z"
      },
      {
        "duration": 29,
        "start_time": "2022-03-19T18:48:02.466Z"
      },
      {
        "duration": 8,
        "start_time": "2022-03-19T18:48:02.496Z"
      },
      {
        "duration": 38,
        "start_time": "2022-03-19T18:48:02.505Z"
      },
      {
        "duration": 15,
        "start_time": "2022-03-19T18:48:02.544Z"
      },
      {
        "duration": 3,
        "start_time": "2022-03-19T18:48:02.561Z"
      },
      {
        "duration": 14,
        "start_time": "2022-03-19T18:48:02.565Z"
      },
      {
        "duration": 17,
        "start_time": "2022-03-19T18:48:02.580Z"
      },
      {
        "duration": 16120,
        "start_time": "2022-03-19T18:48:02.599Z"
      },
      {
        "duration": 4314,
        "start_time": "2022-03-19T18:48:18.722Z"
      },
      {
        "duration": 953908,
        "start_time": "2022-03-19T18:48:23.038Z"
      },
      {
        "duration": 580390,
        "start_time": "2022-03-19T19:04:16.947Z"
      },
      {
        "duration": 12,
        "start_time": "2022-03-19T19:13:57.339Z"
      },
      {
        "duration": 5,
        "start_time": "2022-03-19T19:13:57.353Z"
      },
      {
        "duration": 4,
        "start_time": "2022-03-19T19:13:57.359Z"
      },
      {
        "duration": 1797,
        "start_time": "2022-03-19T19:13:57.365Z"
      },
      {
        "duration": 10878,
        "start_time": "2022-03-19T19:14:08.539Z"
      },
      {
        "duration": 35506,
        "start_time": "2022-03-19T19:17:12.028Z"
      },
      {
        "duration": 19,
        "start_time": "2022-03-19T19:17:48.241Z"
      },
      {
        "duration": 116036,
        "start_time": "2022-03-19T19:17:51.960Z"
      },
      {
        "duration": 5,
        "start_time": "2022-03-19T19:20:09.129Z"
      },
      {
        "duration": 118960,
        "start_time": "2022-03-19T19:20:18.429Z"
      },
      {
        "duration": 4,
        "start_time": "2022-03-19T19:25:02.628Z"
      },
      {
        "duration": 116935,
        "start_time": "2022-03-19T19:25:12.891Z"
      },
      {
        "duration": 25093,
        "start_time": "2022-03-19T19:28:59.697Z"
      },
      {
        "duration": 49684,
        "start_time": "2022-03-19T19:30:03.180Z"
      },
      {
        "duration": 13,
        "start_time": "2022-03-19T19:36:12.634Z"
      },
      {
        "duration": 1513,
        "start_time": "2022-03-19T19:36:37.868Z"
      },
      {
        "duration": 7,
        "start_time": "2022-03-19T19:36:51.328Z"
      },
      {
        "duration": 67960,
        "start_time": "2022-03-19T19:38:16.193Z"
      },
      {
        "duration": 4,
        "start_time": "2022-03-19T19:39:31.109Z"
      },
      {
        "duration": 67415,
        "start_time": "2022-03-19T19:39:40.179Z"
      },
      {
        "duration": 66949,
        "start_time": "2022-03-19T19:40:59.224Z"
      },
      {
        "duration": 69788,
        "start_time": "2022-03-19T19:42:59.609Z"
      },
      {
        "duration": 67404,
        "start_time": "2022-03-19T19:44:25.605Z"
      },
      {
        "duration": 69439,
        "start_time": "2022-03-19T19:45:41.377Z"
      },
      {
        "duration": 12,
        "start_time": "2022-03-19T19:51:48.901Z"
      },
      {
        "duration": 192931,
        "start_time": "2022-03-19T19:51:56.106Z"
      },
      {
        "duration": 57769,
        "start_time": "2022-03-19T19:55:39.465Z"
      },
      {
        "duration": 418799,
        "start_time": "2022-03-19T19:56:41.223Z"
      },
      {
        "duration": 10,
        "start_time": "2022-03-19T20:05:30.012Z"
      },
      {
        "duration": 226,
        "start_time": "2022-03-19T20:05:36.510Z"
      },
      {
        "duration": 1127,
        "start_time": "2022-03-19T20:05:57.846Z"
      },
      {
        "duration": 103,
        "start_time": "2022-03-19T20:07:37.238Z"
      },
      {
        "duration": 2413,
        "start_time": "2022-03-20T06:08:22.533Z"
      },
      {
        "duration": 952,
        "start_time": "2022-03-20T06:08:24.949Z"
      },
      {
        "duration": 45,
        "start_time": "2022-03-20T06:08:25.903Z"
      },
      {
        "duration": 20,
        "start_time": "2022-03-20T06:08:25.950Z"
      },
      {
        "duration": 26,
        "start_time": "2022-03-20T06:08:25.974Z"
      },
      {
        "duration": 48,
        "start_time": "2022-03-20T06:08:26.002Z"
      },
      {
        "duration": 6,
        "start_time": "2022-03-20T06:08:26.052Z"
      },
      {
        "duration": 22,
        "start_time": "2022-03-20T06:08:26.060Z"
      },
      {
        "duration": 22,
        "start_time": "2022-03-20T06:08:26.084Z"
      },
      {
        "duration": 44,
        "start_time": "2022-03-20T06:08:26.108Z"
      },
      {
        "duration": 18,
        "start_time": "2022-03-20T06:08:26.154Z"
      },
      {
        "duration": 3,
        "start_time": "2022-03-20T06:08:26.175Z"
      },
      {
        "duration": 7,
        "start_time": "2022-03-20T06:08:26.180Z"
      },
      {
        "duration": 11,
        "start_time": "2022-03-20T06:08:26.192Z"
      },
      {
        "duration": 47,
        "start_time": "2022-03-20T06:08:26.205Z"
      },
      {
        "duration": 199,
        "start_time": "2022-03-20T06:08:26.255Z"
      },
      {
        "duration": 179,
        "start_time": "2022-03-20T06:08:26.456Z"
      },
      {
        "duration": 175,
        "start_time": "2022-03-20T06:08:26.637Z"
      },
      {
        "duration": 238,
        "start_time": "2022-03-20T06:08:26.815Z"
      },
      {
        "duration": 6,
        "start_time": "2022-03-20T06:08:27.056Z"
      },
      {
        "duration": 328,
        "start_time": "2022-03-20T06:08:27.064Z"
      },
      {
        "duration": 28,
        "start_time": "2022-03-20T06:08:27.395Z"
      },
      {
        "duration": 30,
        "start_time": "2022-03-20T06:08:27.425Z"
      },
      {
        "duration": 214,
        "start_time": "2022-03-20T06:08:27.457Z"
      },
      {
        "duration": 50,
        "start_time": "2022-03-20T06:08:27.673Z"
      },
      {
        "duration": 70,
        "start_time": "2022-03-20T06:08:27.725Z"
      },
      {
        "duration": 6,
        "start_time": "2022-03-20T06:08:27.797Z"
      },
      {
        "duration": 252,
        "start_time": "2022-03-20T06:08:27.805Z"
      },
      {
        "duration": 132,
        "start_time": "2022-03-20T06:08:28.060Z"
      },
      {
        "duration": 10,
        "start_time": "2022-03-20T06:08:28.194Z"
      },
      {
        "duration": 60,
        "start_time": "2022-03-20T06:08:28.206Z"
      },
      {
        "duration": 49,
        "start_time": "2022-03-20T06:08:28.268Z"
      },
      {
        "duration": 27,
        "start_time": "2022-03-20T06:08:28.319Z"
      },
      {
        "duration": 229,
        "start_time": "2022-03-20T06:08:28.349Z"
      },
      {
        "duration": 62,
        "start_time": "2022-03-20T06:08:28.581Z"
      },
      {
        "duration": 9,
        "start_time": "2022-03-20T06:08:28.651Z"
      },
      {
        "duration": 23,
        "start_time": "2022-03-20T06:08:28.663Z"
      },
      {
        "duration": 21,
        "start_time": "2022-03-20T06:08:28.688Z"
      },
      {
        "duration": 5,
        "start_time": "2022-03-20T06:08:28.711Z"
      },
      {
        "duration": 12,
        "start_time": "2022-03-20T06:08:28.744Z"
      },
      {
        "duration": 12,
        "start_time": "2022-03-20T06:08:28.763Z"
      },
      {
        "duration": 22888,
        "start_time": "2022-03-20T06:08:28.778Z"
      },
      {
        "duration": 10077,
        "start_time": "2022-03-20T06:08:51.668Z"
      },
      {
        "duration": 1340066,
        "start_time": "2022-03-20T06:09:01.747Z"
      },
      {
        "duration": 22424880,
        "start_time": "2022-03-20T06:31:21.815Z"
      },
      {
        "duration": 0,
        "start_time": "2022-03-20T12:45:06.698Z"
      },
      {
        "duration": 0,
        "start_time": "2022-03-20T12:45:06.699Z"
      },
      {
        "duration": 0,
        "start_time": "2022-03-20T12:45:06.701Z"
      },
      {
        "duration": 0,
        "start_time": "2022-03-20T12:45:06.702Z"
      },
      {
        "duration": 0,
        "start_time": "2022-03-20T12:45:06.704Z"
      },
      {
        "duration": 0,
        "start_time": "2022-03-20T12:45:06.706Z"
      },
      {
        "duration": 0,
        "start_time": "2022-03-20T12:45:06.707Z"
      },
      {
        "duration": 0,
        "start_time": "2022-03-20T12:45:06.708Z"
      },
      {
        "duration": 0,
        "start_time": "2022-03-20T12:45:06.710Z"
      },
      {
        "duration": 2117,
        "start_time": "2022-03-20T12:45:26.109Z"
      },
      {
        "duration": 976,
        "start_time": "2022-03-20T12:45:28.229Z"
      },
      {
        "duration": 26,
        "start_time": "2022-03-20T12:45:29.208Z"
      },
      {
        "duration": 22,
        "start_time": "2022-03-20T12:45:29.248Z"
      },
      {
        "duration": 27,
        "start_time": "2022-03-20T12:45:29.272Z"
      },
      {
        "duration": 13,
        "start_time": "2022-03-20T12:45:36.411Z"
      },
      {
        "duration": 6,
        "start_time": "2022-03-20T12:45:37.084Z"
      },
      {
        "duration": 18,
        "start_time": "2022-03-20T12:45:37.584Z"
      },
      {
        "duration": 13,
        "start_time": "2022-03-20T12:45:42.312Z"
      },
      {
        "duration": 4,
        "start_time": "2022-03-20T12:45:42.356Z"
      },
      {
        "duration": 6,
        "start_time": "2022-03-20T12:45:43.780Z"
      },
      {
        "duration": 14,
        "start_time": "2022-03-20T12:45:47.062Z"
      },
      {
        "duration": 10,
        "start_time": "2022-03-20T12:45:47.103Z"
      },
      {
        "duration": 186,
        "start_time": "2022-03-20T12:45:50.625Z"
      },
      {
        "duration": 174,
        "start_time": "2022-03-20T12:45:54.565Z"
      },
      {
        "duration": 169,
        "start_time": "2022-03-20T12:45:57.159Z"
      },
      {
        "duration": 229,
        "start_time": "2022-03-20T12:46:00.386Z"
      },
      {
        "duration": 7,
        "start_time": "2022-03-20T12:46:03.932Z"
      },
      {
        "duration": 245,
        "start_time": "2022-03-20T12:46:05.114Z"
      },
      {
        "duration": 29,
        "start_time": "2022-03-20T12:46:08.369Z"
      },
      {
        "duration": 7,
        "start_time": "2022-03-20T12:46:11.776Z"
      },
      {
        "duration": 295,
        "start_time": "2022-03-20T12:46:12.641Z"
      },
      {
        "duration": 56,
        "start_time": "2022-03-20T12:46:14.469Z"
      },
      {
        "duration": 56,
        "start_time": "2022-03-20T12:46:19.621Z"
      },
      {
        "duration": 7,
        "start_time": "2022-03-20T12:46:22.910Z"
      },
      {
        "duration": 227,
        "start_time": "2022-03-20T12:46:23.887Z"
      },
      {
        "duration": 122,
        "start_time": "2022-03-20T12:46:26.565Z"
      },
      {
        "duration": 11,
        "start_time": "2022-03-20T12:46:29.476Z"
      },
      {
        "duration": 55,
        "start_time": "2022-03-20T12:46:30.362Z"
      },
      {
        "duration": 52,
        "start_time": "2022-03-20T12:46:33.157Z"
      },
      {
        "duration": 7,
        "start_time": "2022-03-20T12:46:35.658Z"
      },
      {
        "duration": 217,
        "start_time": "2022-03-20T12:46:36.387Z"
      },
      {
        "duration": 54,
        "start_time": "2022-03-20T12:46:39.001Z"
      },
      {
        "duration": 11,
        "start_time": "2022-03-20T12:46:43.256Z"
      },
      {
        "duration": 27,
        "start_time": "2022-03-20T12:46:48.136Z"
      },
      {
        "duration": 20,
        "start_time": "2022-03-20T12:46:51.878Z"
      },
      {
        "duration": 6,
        "start_time": "2022-03-20T12:46:55.542Z"
      },
      {
        "duration": 13,
        "start_time": "2022-03-20T12:46:58.892Z"
      },
      {
        "duration": 12,
        "start_time": "2022-03-20T12:47:00.700Z"
      },
      {
        "duration": 23713,
        "start_time": "2022-03-20T12:47:05.476Z"
      },
      {
        "duration": 9800,
        "start_time": "2022-03-20T12:47:35.344Z"
      },
      {
        "duration": 1392769,
        "start_time": "2022-03-20T12:47:51.755Z"
      },
      {
        "duration": 22,
        "start_time": "2022-03-20T13:15:01.538Z"
      },
      {
        "duration": 6,
        "start_time": "2022-03-20T13:15:01.580Z"
      },
      {
        "duration": 6,
        "start_time": "2022-03-20T13:15:03.090Z"
      },
      {
        "duration": 10,
        "start_time": "2022-03-20T13:15:12.542Z"
      },
      {
        "duration": 8,
        "start_time": "2022-03-20T13:15:15.444Z"
      },
      {
        "duration": 96351,
        "start_time": "2022-03-20T13:15:16.852Z"
      },
      {
        "duration": 550,
        "start_time": "2022-03-20T13:17:00.505Z"
      },
      {
        "duration": 1599,
        "start_time": "2022-03-20T13:17:02.277Z"
      },
      {
        "duration": 100080,
        "start_time": "2022-03-20T13:17:06.902Z"
      },
      {
        "duration": 2294,
        "start_time": "2022-03-20T14:35:15.266Z"
      },
      {
        "duration": 879,
        "start_time": "2022-03-20T14:35:17.563Z"
      },
      {
        "duration": 37,
        "start_time": "2022-03-20T14:35:18.445Z"
      },
      {
        "duration": 20,
        "start_time": "2022-03-20T14:35:18.485Z"
      },
      {
        "duration": 26,
        "start_time": "2022-03-20T14:35:18.509Z"
      },
      {
        "duration": 44,
        "start_time": "2022-03-20T14:35:18.537Z"
      },
      {
        "duration": 5,
        "start_time": "2022-03-20T14:35:18.584Z"
      },
      {
        "duration": 20,
        "start_time": "2022-03-20T14:35:18.591Z"
      },
      {
        "duration": 21,
        "start_time": "2022-03-20T14:35:18.613Z"
      },
      {
        "duration": 43,
        "start_time": "2022-03-20T14:35:18.636Z"
      },
      {
        "duration": 17,
        "start_time": "2022-03-20T14:35:18.681Z"
      },
      {
        "duration": 8,
        "start_time": "2022-03-20T14:35:18.701Z"
      },
      {
        "duration": 11,
        "start_time": "2022-03-20T14:35:18.713Z"
      },
      {
        "duration": 14,
        "start_time": "2022-03-20T14:35:18.731Z"
      },
      {
        "duration": 15,
        "start_time": "2022-03-20T14:35:18.775Z"
      },
      {
        "duration": 213,
        "start_time": "2022-03-20T14:35:18.792Z"
      },
      {
        "duration": 297,
        "start_time": "2022-03-20T14:35:19.009Z"
      },
      {
        "duration": 188,
        "start_time": "2022-03-20T14:35:19.309Z"
      },
      {
        "duration": 238,
        "start_time": "2022-03-20T14:35:19.500Z"
      },
      {
        "duration": 7,
        "start_time": "2022-03-20T14:35:19.741Z"
      },
      {
        "duration": 331,
        "start_time": "2022-03-20T14:35:19.750Z"
      },
      {
        "duration": 27,
        "start_time": "2022-03-20T14:35:20.083Z"
      },
      {
        "duration": 8,
        "start_time": "2022-03-20T14:35:20.113Z"
      },
      {
        "duration": 321,
        "start_time": "2022-03-20T14:35:20.123Z"
      },
      {
        "duration": 67,
        "start_time": "2022-03-20T14:35:20.446Z"
      },
      {
        "duration": 60,
        "start_time": "2022-03-20T14:35:20.515Z"
      },
      {
        "duration": 7,
        "start_time": "2022-03-20T14:35:20.577Z"
      },
      {
        "duration": 243,
        "start_time": "2022-03-20T14:35:20.586Z"
      },
      {
        "duration": 138,
        "start_time": "2022-03-20T14:35:20.832Z"
      },
      {
        "duration": 9,
        "start_time": "2022-03-20T14:35:20.973Z"
      },
      {
        "duration": 55,
        "start_time": "2022-03-20T14:35:20.984Z"
      },
      {
        "duration": 93,
        "start_time": "2022-03-20T14:35:21.041Z"
      },
      {
        "duration": 8,
        "start_time": "2022-03-20T14:35:21.137Z"
      },
      {
        "duration": 344,
        "start_time": "2022-03-20T14:35:21.148Z"
      },
      {
        "duration": 64,
        "start_time": "2022-03-20T14:35:21.495Z"
      },
      {
        "duration": 3,
        "start_time": "2022-03-20T14:35:21.575Z"
      },
      {
        "duration": 94,
        "start_time": "2022-03-20T14:35:26.557Z"
      },
      {
        "duration": 57,
        "start_time": "2022-03-20T14:35:43.926Z"
      },
      {
        "duration": 20,
        "start_time": "2022-03-20T14:36:11.704Z"
      },
      {
        "duration": 2396,
        "start_time": "2022-03-20T14:39:42.013Z"
      },
      {
        "duration": 1306,
        "start_time": "2022-03-20T14:39:44.412Z"
      },
      {
        "duration": 36,
        "start_time": "2022-03-20T14:39:45.721Z"
      },
      {
        "duration": 27,
        "start_time": "2022-03-20T14:39:45.773Z"
      },
      {
        "duration": 38,
        "start_time": "2022-03-20T14:39:45.803Z"
      },
      {
        "duration": 35,
        "start_time": "2022-03-20T14:39:45.844Z"
      },
      {
        "duration": 6,
        "start_time": "2022-03-20T14:39:45.882Z"
      },
      {
        "duration": 32,
        "start_time": "2022-03-20T14:39:45.891Z"
      },
      {
        "duration": 23,
        "start_time": "2022-03-20T14:39:45.926Z"
      },
      {
        "duration": 12,
        "start_time": "2022-03-20T14:39:45.979Z"
      },
      {
        "duration": 13,
        "start_time": "2022-03-20T14:39:45.993Z"
      },
      {
        "duration": 4,
        "start_time": "2022-03-20T14:39:46.009Z"
      },
      {
        "duration": 8,
        "start_time": "2022-03-20T14:39:46.016Z"
      },
      {
        "duration": 49,
        "start_time": "2022-03-20T14:39:46.025Z"
      },
      {
        "duration": 11,
        "start_time": "2022-03-20T14:39:46.076Z"
      },
      {
        "duration": 204,
        "start_time": "2022-03-20T14:39:46.090Z"
      },
      {
        "duration": 186,
        "start_time": "2022-03-20T14:39:46.296Z"
      },
      {
        "duration": 176,
        "start_time": "2022-03-20T14:39:46.485Z"
      },
      {
        "duration": 230,
        "start_time": "2022-03-20T14:39:46.663Z"
      },
      {
        "duration": 7,
        "start_time": "2022-03-20T14:39:46.895Z"
      },
      {
        "duration": 255,
        "start_time": "2022-03-20T14:39:46.905Z"
      },
      {
        "duration": 36,
        "start_time": "2022-03-20T14:39:47.163Z"
      },
      {
        "duration": 6,
        "start_time": "2022-03-20T14:39:47.201Z"
      },
      {
        "duration": 302,
        "start_time": "2022-03-20T14:39:47.209Z"
      },
      {
        "duration": 71,
        "start_time": "2022-03-20T14:39:47.513Z"
      },
      {
        "duration": 51,
        "start_time": "2022-03-20T14:39:47.586Z"
      },
      {
        "duration": 7,
        "start_time": "2022-03-20T14:39:47.639Z"
      },
      {
        "duration": 239,
        "start_time": "2022-03-20T14:39:47.673Z"
      },
      {
        "duration": 139,
        "start_time": "2022-03-20T14:39:47.915Z"
      },
      {
        "duration": 10,
        "start_time": "2022-03-20T14:39:48.057Z"
      },
      {
        "duration": 72,
        "start_time": "2022-03-20T14:39:48.070Z"
      },
      {
        "duration": 79,
        "start_time": "2022-03-20T14:39:48.144Z"
      },
      {
        "duration": 8,
        "start_time": "2022-03-20T14:39:48.225Z"
      },
      {
        "duration": 236,
        "start_time": "2022-03-20T14:39:48.235Z"
      },
      {
        "duration": 44,
        "start_time": "2022-03-20T14:39:48.474Z"
      },
      {
        "duration": 6,
        "start_time": "2022-03-20T14:39:48.520Z"
      },
      {
        "duration": 11,
        "start_time": "2022-03-20T14:39:48.528Z"
      },
      {
        "duration": 52,
        "start_time": "2022-03-20T14:39:48.541Z"
      },
      {
        "duration": 25,
        "start_time": "2022-03-20T14:39:48.595Z"
      },
      {
        "duration": 6,
        "start_time": "2022-03-20T14:39:48.623Z"
      },
      {
        "duration": 47,
        "start_time": "2022-03-20T14:39:48.631Z"
      },
      {
        "duration": 24,
        "start_time": "2022-03-20T14:39:48.680Z"
      },
      {
        "duration": 22548,
        "start_time": "2022-03-20T14:39:48.706Z"
      },
      {
        "duration": 5822,
        "start_time": "2022-03-20T14:40:11.256Z"
      },
      {
        "duration": 2098,
        "start_time": "2022-03-20T14:45:48.522Z"
      },
      {
        "duration": 892,
        "start_time": "2022-03-20T14:45:50.624Z"
      },
      {
        "duration": 28,
        "start_time": "2022-03-20T14:45:51.518Z"
      },
      {
        "duration": 36,
        "start_time": "2022-03-20T14:45:51.549Z"
      },
      {
        "duration": 27,
        "start_time": "2022-03-20T14:45:51.588Z"
      },
      {
        "duration": 57,
        "start_time": "2022-03-20T14:45:51.617Z"
      },
      {
        "duration": 5,
        "start_time": "2022-03-20T14:45:51.676Z"
      },
      {
        "duration": 19,
        "start_time": "2022-03-20T14:45:51.683Z"
      },
      {
        "duration": 22,
        "start_time": "2022-03-20T14:45:51.705Z"
      },
      {
        "duration": 59,
        "start_time": "2022-03-20T14:45:51.731Z"
      },
      {
        "duration": 19,
        "start_time": "2022-03-20T14:45:51.794Z"
      },
      {
        "duration": 5,
        "start_time": "2022-03-20T14:45:51.817Z"
      },
      {
        "duration": 9,
        "start_time": "2022-03-20T14:45:51.826Z"
      },
      {
        "duration": 12,
        "start_time": "2022-03-20T14:45:51.873Z"
      },
      {
        "duration": 13,
        "start_time": "2022-03-20T14:45:51.887Z"
      },
      {
        "duration": 220,
        "start_time": "2022-03-20T14:45:51.903Z"
      },
      {
        "duration": 195,
        "start_time": "2022-03-20T14:45:52.125Z"
      },
      {
        "duration": 188,
        "start_time": "2022-03-20T14:45:52.322Z"
      },
      {
        "duration": 250,
        "start_time": "2022-03-20T14:45:52.512Z"
      },
      {
        "duration": 11,
        "start_time": "2022-03-20T14:45:52.765Z"
      },
      {
        "duration": 266,
        "start_time": "2022-03-20T14:45:52.778Z"
      },
      {
        "duration": 41,
        "start_time": "2022-03-20T14:45:53.045Z"
      },
      {
        "duration": 6,
        "start_time": "2022-03-20T14:45:53.088Z"
      },
      {
        "duration": 331,
        "start_time": "2022-03-20T14:45:53.096Z"
      },
      {
        "duration": 117,
        "start_time": "2022-03-20T14:45:53.430Z"
      },
      {
        "duration": 65,
        "start_time": "2022-03-20T14:45:53.550Z"
      },
      {
        "duration": 9,
        "start_time": "2022-03-20T14:45:53.617Z"
      },
      {
        "duration": 252,
        "start_time": "2022-03-20T14:45:53.628Z"
      },
      {
        "duration": 139,
        "start_time": "2022-03-20T14:45:53.883Z"
      },
      {
        "duration": 13,
        "start_time": "2022-03-20T14:45:54.025Z"
      },
      {
        "duration": 55,
        "start_time": "2022-03-20T14:45:54.040Z"
      },
      {
        "duration": 119,
        "start_time": "2022-03-20T14:45:54.097Z"
      },
      {
        "duration": 10,
        "start_time": "2022-03-20T14:45:54.220Z"
      },
      {
        "duration": 243,
        "start_time": "2022-03-20T14:45:54.233Z"
      },
      {
        "duration": 45,
        "start_time": "2022-03-20T14:45:54.478Z"
      },
      {
        "duration": 10,
        "start_time": "2022-03-20T14:45:54.526Z"
      },
      {
        "duration": 55,
        "start_time": "2022-03-20T14:45:54.538Z"
      },
      {
        "duration": 23,
        "start_time": "2022-03-20T14:45:54.595Z"
      },
      {
        "duration": 5,
        "start_time": "2022-03-20T14:45:54.621Z"
      },
      {
        "duration": 14,
        "start_time": "2022-03-20T14:45:54.628Z"
      },
      {
        "duration": 12,
        "start_time": "2022-03-20T14:45:54.673Z"
      },
      {
        "duration": 24111,
        "start_time": "2022-03-20T14:45:54.688Z"
      },
      {
        "duration": 2451,
        "start_time": "2022-03-20T14:46:23.136Z"
      },
      {
        "duration": 990,
        "start_time": "2022-03-20T14:46:25.590Z"
      },
      {
        "duration": 31,
        "start_time": "2022-03-20T14:46:26.583Z"
      },
      {
        "duration": 21,
        "start_time": "2022-03-20T14:46:26.616Z"
      },
      {
        "duration": 56,
        "start_time": "2022-03-20T14:46:26.640Z"
      },
      {
        "duration": 22,
        "start_time": "2022-03-20T14:46:26.699Z"
      },
      {
        "duration": 9,
        "start_time": "2022-03-20T14:46:26.725Z"
      },
      {
        "duration": 50,
        "start_time": "2022-03-20T14:46:26.738Z"
      },
      {
        "duration": 26,
        "start_time": "2022-03-20T14:46:26.790Z"
      },
      {
        "duration": 14,
        "start_time": "2022-03-20T14:46:26.818Z"
      },
      {
        "duration": 52,
        "start_time": "2022-03-20T14:46:26.835Z"
      },
      {
        "duration": 5,
        "start_time": "2022-03-20T14:46:26.889Z"
      },
      {
        "duration": 8,
        "start_time": "2022-03-20T14:46:26.898Z"
      },
      {
        "duration": 12,
        "start_time": "2022-03-20T14:46:26.916Z"
      },
      {
        "duration": 50,
        "start_time": "2022-03-20T14:46:26.930Z"
      },
      {
        "duration": 212,
        "start_time": "2022-03-20T14:46:26.982Z"
      },
      {
        "duration": 197,
        "start_time": "2022-03-20T14:46:27.196Z"
      },
      {
        "duration": 195,
        "start_time": "2022-03-20T14:46:27.395Z"
      },
      {
        "duration": 258,
        "start_time": "2022-03-20T14:46:27.592Z"
      },
      {
        "duration": 22,
        "start_time": "2022-03-20T14:46:27.852Z"
      },
      {
        "duration": 268,
        "start_time": "2022-03-20T14:46:27.876Z"
      },
      {
        "duration": 45,
        "start_time": "2022-03-20T14:46:28.146Z"
      },
      {
        "duration": 7,
        "start_time": "2022-03-20T14:46:28.193Z"
      },
      {
        "duration": 335,
        "start_time": "2022-03-20T14:46:28.203Z"
      },
      {
        "duration": 65,
        "start_time": "2022-03-20T14:46:28.540Z"
      },
      {
        "duration": 76,
        "start_time": "2022-03-20T14:46:28.608Z"
      },
      {
        "duration": 7,
        "start_time": "2022-03-20T14:46:28.687Z"
      },
      {
        "duration": 259,
        "start_time": "2022-03-20T14:46:28.696Z"
      },
      {
        "duration": 137,
        "start_time": "2022-03-20T14:46:28.958Z"
      },
      {
        "duration": 11,
        "start_time": "2022-03-20T14:46:29.099Z"
      },
      {
        "duration": 64,
        "start_time": "2022-03-20T14:46:29.114Z"
      },
      {
        "duration": 53,
        "start_time": "2022-03-20T14:46:29.181Z"
      },
      {
        "duration": 6,
        "start_time": "2022-03-20T14:46:29.237Z"
      },
      {
        "duration": 291,
        "start_time": "2022-03-20T14:46:29.246Z"
      },
      {
        "duration": 58,
        "start_time": "2022-03-20T14:46:29.539Z"
      },
      {
        "duration": 10,
        "start_time": "2022-03-20T14:46:29.599Z"
      },
      {
        "duration": 36,
        "start_time": "2022-03-20T14:46:29.611Z"
      },
      {
        "duration": 40,
        "start_time": "2022-03-20T14:46:29.650Z"
      },
      {
        "duration": 5,
        "start_time": "2022-03-20T14:46:29.692Z"
      },
      {
        "duration": 13,
        "start_time": "2022-03-20T14:46:29.700Z"
      },
      {
        "duration": 13,
        "start_time": "2022-03-20T14:46:29.721Z"
      },
      {
        "duration": 22962,
        "start_time": "2022-03-20T14:46:29.774Z"
      },
      {
        "duration": 6238,
        "start_time": "2022-03-20T14:46:52.739Z"
      }
    ],
    "kernelspec": {
      "display_name": "Python 3 (ipykernel)",
      "language": "python",
      "name": "python3"
    },
    "language_info": {
      "codemirror_mode": {
        "name": "ipython",
        "version": 3
      },
      "file_extension": ".py",
      "mimetype": "text/x-python",
      "name": "python",
      "nbconvert_exporter": "python",
      "pygments_lexer": "ipython3",
      "version": "3.9.5"
    },
    "toc": {
      "base_numbering": 1,
      "nav_menu": {},
      "number_sections": true,
      "sideBar": true,
      "skip_h1_title": true,
      "title_cell": "Содержание",
      "title_sidebar": "Contents",
      "toc_cell": true,
      "toc_position": {},
      "toc_section_display": true,
      "toc_window_display": true
    },
    "colab": {
      "name": "Концентрация золота.ipynb",
      "provenance": []
    }
  },
  "nbformat": 4,
  "nbformat_minor": 0
}