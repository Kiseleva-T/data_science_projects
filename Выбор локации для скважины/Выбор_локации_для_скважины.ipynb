{
  "cells": [
    {
      "cell_type": "markdown",
      "metadata": {
        "id": "Bwj-fM4UZabn"
      },
      "source": [
        "# Выбор локации для скважины"
      ]
    },
    {
      "cell_type": "markdown",
      "metadata": {
        "id": "3BDWflqZZabp"
      },
      "source": [
        "Задача: Нужно решить, где бурить новую скважину.\n",
        "\n",
        "Есть данные о пробах нефти в трёх регионах: в каждом 10 000 месторождений, где измерили качество нефти и объём её запасов. \n",
        "\n"
      ]
    },
    {
      "cell_type": "markdown",
      "metadata": {
        "id": "b8qa66uYZabs"
      },
      "source": [
        "## Загрузка и подготовка данных"
      ]
    },
    {
      "cell_type": "markdown",
      "metadata": {
        "id": "loinPCuuZabu"
      },
      "source": [
        "Импортируем библиотеки и посмотрим на данные"
      ]
    },
    {
      "cell_type": "code",
      "execution_count": null,
      "metadata": {
        "id": "zumxP_X6Zabw"
      },
      "outputs": [],
      "source": [
        "import pandas as pd\n",
        "from sklearn.model_selection import train_test_split\n",
        "import numpy as np\n",
        "from scipy import stats as st\n",
        "from sklearn.preprocessing import StandardScaler \n",
        "from sklearn.linear_model import LinearRegression\n",
        "from sklearn.metrics import mean_squared_error\n",
        "import warnings\n",
        "warnings.simplefilter(action='ignore', category=FutureWarning)"
      ]
    },
    {
      "cell_type": "code",
      "execution_count": null,
      "metadata": {
        "id": "G8jpeJegZab5",
        "outputId": "de8c88c1-e05a-41fb-9ea9-8bdf0b9de100"
      },
      "outputs": [
        {
          "name": "stdout",
          "output_type": "stream",
          "text": [
            "<class 'pandas.core.frame.DataFrame'>\n",
            "RangeIndex: 100000 entries, 0 to 99999\n",
            "Data columns (total 5 columns):\n",
            "id         100000 non-null object\n",
            "f0         100000 non-null float64\n",
            "f1         100000 non-null float64\n",
            "f2         100000 non-null float64\n",
            "product    100000 non-null float64\n",
            "dtypes: float64(4), object(1)\n",
            "memory usage: 3.8+ MB\n"
          ]
        },
        {
          "data": {
            "text/plain": [
              "None"
            ]
          },
          "metadata": {},
          "output_type": "display_data"
        },
        {
          "name": "stdout",
          "output_type": "stream",
          "text": [
            "<class 'pandas.core.frame.DataFrame'>\n",
            "RangeIndex: 100000 entries, 0 to 99999\n",
            "Data columns (total 5 columns):\n",
            "id         100000 non-null object\n",
            "f0         100000 non-null float64\n",
            "f1         100000 non-null float64\n",
            "f2         100000 non-null float64\n",
            "product    100000 non-null float64\n",
            "dtypes: float64(4), object(1)\n",
            "memory usage: 3.8+ MB\n"
          ]
        },
        {
          "data": {
            "text/plain": [
              "None"
            ]
          },
          "metadata": {},
          "output_type": "display_data"
        },
        {
          "name": "stdout",
          "output_type": "stream",
          "text": [
            "<class 'pandas.core.frame.DataFrame'>\n",
            "RangeIndex: 100000 entries, 0 to 99999\n",
            "Data columns (total 5 columns):\n",
            "id         100000 non-null object\n",
            "f0         100000 non-null float64\n",
            "f1         100000 non-null float64\n",
            "f2         100000 non-null float64\n",
            "product    100000 non-null float64\n",
            "dtypes: float64(4), object(1)\n",
            "memory usage: 3.8+ MB\n"
          ]
        },
        {
          "data": {
            "text/plain": [
              "None"
            ]
          },
          "metadata": {},
          "output_type": "display_data"
        }
      ],
      "source": [
        "display(df_0.info())\n",
        "display(df_1.info())\n",
        "display(df_2.info())"
      ]
    },
    {
      "cell_type": "code",
      "execution_count": null,
      "metadata": {
        "id": "fjPyEMK7ZacC",
        "outputId": "f90375c5-cbe9-4d7f-bc8c-393c395eea4c"
      },
      "outputs": [
        {
          "data": {
            "text/html": [
              "<div>\n",
              "<style scoped>\n",
              "    .dataframe tbody tr th:only-of-type {\n",
              "        vertical-align: middle;\n",
              "    }\n",
              "\n",
              "    .dataframe tbody tr th {\n",
              "        vertical-align: top;\n",
              "    }\n",
              "\n",
              "    .dataframe thead th {\n",
              "        text-align: right;\n",
              "    }\n",
              "</style>\n",
              "<table border=\"1\" class=\"dataframe\">\n",
              "  <thead>\n",
              "    <tr style=\"text-align: right;\">\n",
              "      <th></th>\n",
              "      <th>f0</th>\n",
              "      <th>f1</th>\n",
              "      <th>f2</th>\n",
              "      <th>product</th>\n",
              "    </tr>\n",
              "  </thead>\n",
              "  <tbody>\n",
              "    <tr>\n",
              "      <td>f0</td>\n",
              "      <td>1.000000</td>\n",
              "      <td>-0.440723</td>\n",
              "      <td>-0.003153</td>\n",
              "      <td>0.143536</td>\n",
              "    </tr>\n",
              "    <tr>\n",
              "      <td>f1</td>\n",
              "      <td>-0.440723</td>\n",
              "      <td>1.000000</td>\n",
              "      <td>0.001724</td>\n",
              "      <td>-0.192356</td>\n",
              "    </tr>\n",
              "    <tr>\n",
              "      <td>f2</td>\n",
              "      <td>-0.003153</td>\n",
              "      <td>0.001724</td>\n",
              "      <td>1.000000</td>\n",
              "      <td>0.483663</td>\n",
              "    </tr>\n",
              "    <tr>\n",
              "      <td>product</td>\n",
              "      <td>0.143536</td>\n",
              "      <td>-0.192356</td>\n",
              "      <td>0.483663</td>\n",
              "      <td>1.000000</td>\n",
              "    </tr>\n",
              "  </tbody>\n",
              "</table>\n",
              "</div>"
            ],
            "text/plain": [
              "               f0        f1        f2   product\n",
              "f0       1.000000 -0.440723 -0.003153  0.143536\n",
              "f1      -0.440723  1.000000  0.001724 -0.192356\n",
              "f2      -0.003153  0.001724  1.000000  0.483663\n",
              "product  0.143536 -0.192356  0.483663  1.000000"
            ]
          },
          "execution_count": 4,
          "metadata": {},
          "output_type": "execute_result"
        }
      ],
      "source": [
        "df_0.corr()"
      ]
    },
    {
      "cell_type": "code",
      "execution_count": null,
      "metadata": {
        "id": "Ojy-lMT1ZacE",
        "outputId": "4ff8ee26-21db-4a87-a4c7-c313217a8d9b"
      },
      "outputs": [
        {
          "data": {
            "text/html": [
              "<div>\n",
              "<style scoped>\n",
              "    .dataframe tbody tr th:only-of-type {\n",
              "        vertical-align: middle;\n",
              "    }\n",
              "\n",
              "    .dataframe tbody tr th {\n",
              "        vertical-align: top;\n",
              "    }\n",
              "\n",
              "    .dataframe thead th {\n",
              "        text-align: right;\n",
              "    }\n",
              "</style>\n",
              "<table border=\"1\" class=\"dataframe\">\n",
              "  <thead>\n",
              "    <tr style=\"text-align: right;\">\n",
              "      <th></th>\n",
              "      <th>f0</th>\n",
              "      <th>f1</th>\n",
              "      <th>f2</th>\n",
              "      <th>product</th>\n",
              "    </tr>\n",
              "  </thead>\n",
              "  <tbody>\n",
              "    <tr>\n",
              "      <td>f0</td>\n",
              "      <td>1.000000</td>\n",
              "      <td>0.182287</td>\n",
              "      <td>-0.001777</td>\n",
              "      <td>-0.030491</td>\n",
              "    </tr>\n",
              "    <tr>\n",
              "      <td>f1</td>\n",
              "      <td>0.182287</td>\n",
              "      <td>1.000000</td>\n",
              "      <td>-0.002595</td>\n",
              "      <td>-0.010155</td>\n",
              "    </tr>\n",
              "    <tr>\n",
              "      <td>f2</td>\n",
              "      <td>-0.001777</td>\n",
              "      <td>-0.002595</td>\n",
              "      <td>1.000000</td>\n",
              "      <td>0.999397</td>\n",
              "    </tr>\n",
              "    <tr>\n",
              "      <td>product</td>\n",
              "      <td>-0.030491</td>\n",
              "      <td>-0.010155</td>\n",
              "      <td>0.999397</td>\n",
              "      <td>1.000000</td>\n",
              "    </tr>\n",
              "  </tbody>\n",
              "</table>\n",
              "</div>"
            ],
            "text/plain": [
              "               f0        f1        f2   product\n",
              "f0       1.000000  0.182287 -0.001777 -0.030491\n",
              "f1       0.182287  1.000000 -0.002595 -0.010155\n",
              "f2      -0.001777 -0.002595  1.000000  0.999397\n",
              "product -0.030491 -0.010155  0.999397  1.000000"
            ]
          },
          "execution_count": 5,
          "metadata": {},
          "output_type": "execute_result"
        }
      ],
      "source": [
        "df_1.corr()"
      ]
    },
    {
      "cell_type": "code",
      "execution_count": null,
      "metadata": {
        "id": "L_JVf6z9ZacG",
        "outputId": "07c0e720-10c9-4bac-8e1e-2fc304cc5851"
      },
      "outputs": [
        {
          "data": {
            "text/html": [
              "<div>\n",
              "<style scoped>\n",
              "    .dataframe tbody tr th:only-of-type {\n",
              "        vertical-align: middle;\n",
              "    }\n",
              "\n",
              "    .dataframe tbody tr th {\n",
              "        vertical-align: top;\n",
              "    }\n",
              "\n",
              "    .dataframe thead th {\n",
              "        text-align: right;\n",
              "    }\n",
              "</style>\n",
              "<table border=\"1\" class=\"dataframe\">\n",
              "  <thead>\n",
              "    <tr style=\"text-align: right;\">\n",
              "      <th></th>\n",
              "      <th>f0</th>\n",
              "      <th>f1</th>\n",
              "      <th>f2</th>\n",
              "      <th>product</th>\n",
              "    </tr>\n",
              "  </thead>\n",
              "  <tbody>\n",
              "    <tr>\n",
              "      <td>f0</td>\n",
              "      <td>1.000000</td>\n",
              "      <td>0.000528</td>\n",
              "      <td>-0.000448</td>\n",
              "      <td>-0.001987</td>\n",
              "    </tr>\n",
              "    <tr>\n",
              "      <td>f1</td>\n",
              "      <td>0.000528</td>\n",
              "      <td>1.000000</td>\n",
              "      <td>0.000779</td>\n",
              "      <td>-0.001012</td>\n",
              "    </tr>\n",
              "    <tr>\n",
              "      <td>f2</td>\n",
              "      <td>-0.000448</td>\n",
              "      <td>0.000779</td>\n",
              "      <td>1.000000</td>\n",
              "      <td>0.445871</td>\n",
              "    </tr>\n",
              "    <tr>\n",
              "      <td>product</td>\n",
              "      <td>-0.001987</td>\n",
              "      <td>-0.001012</td>\n",
              "      <td>0.445871</td>\n",
              "      <td>1.000000</td>\n",
              "    </tr>\n",
              "  </tbody>\n",
              "</table>\n",
              "</div>"
            ],
            "text/plain": [
              "               f0        f1        f2   product\n",
              "f0       1.000000  0.000528 -0.000448 -0.001987\n",
              "f1       0.000528  1.000000  0.000779 -0.001012\n",
              "f2      -0.000448  0.000779  1.000000  0.445871\n",
              "product -0.001987 -0.001012  0.445871  1.000000"
            ]
          },
          "execution_count": 6,
          "metadata": {},
          "output_type": "execute_result"
        }
      ],
      "source": [
        "df_2.corr()"
      ]
    },
    {
      "cell_type": "code",
      "execution_count": null,
      "metadata": {
        "id": "d09oIar2ZacH",
        "outputId": "115a6df9-0d23-4961-d793-31cd4b844981"
      },
      "outputs": [
        {
          "data": {
            "text/plain": [
              "array([[<matplotlib.axes._subplots.AxesSubplot object at 0x7f52af63b090>,\n",
              "        <matplotlib.axes._subplots.AxesSubplot object at 0x7f52a7006dd0>,\n",
              "        <matplotlib.axes._subplots.AxesSubplot object at 0x7f52a6fbea10>,\n",
              "        <matplotlib.axes._subplots.AxesSubplot object at 0x7f52a6f7ed90>],\n",
              "       [<matplotlib.axes._subplots.AxesSubplot object at 0x7f52a6f35a50>,\n",
              "        <matplotlib.axes._subplots.AxesSubplot object at 0x7f52a6ef2dd0>,\n",
              "        <matplotlib.axes._subplots.AxesSubplot object at 0x7f52a6eaaa90>,\n",
              "        <matplotlib.axes._subplots.AxesSubplot object at 0x7f52a6e652d0>],\n",
              "       [<matplotlib.axes._subplots.AxesSubplot object at 0x7f52a6e65e10>,\n",
              "        <matplotlib.axes._subplots.AxesSubplot object at 0x7f52a6e287d0>,\n",
              "        <matplotlib.axes._subplots.AxesSubplot object at 0x7f52a6d92b10>,\n",
              "        <matplotlib.axes._subplots.AxesSubplot object at 0x7f52a6d4fe90>],\n",
              "       [<matplotlib.axes._subplots.AxesSubplot object at 0x7f52a6d86b50>,\n",
              "        <matplotlib.axes._subplots.AxesSubplot object at 0x7f52a6d43ed0>,\n",
              "        <matplotlib.axes._subplots.AxesSubplot object at 0x7f52a6cf9b90>,\n",
              "        <matplotlib.axes._subplots.AxesSubplot object at 0x7f52a6cb9f10>]],\n",
              "      dtype=object)"
            ]
          },
          "execution_count": 7,
          "metadata": {},
          "output_type": "execute_result"
        },
        {
          "data": {
            "image/png": "[encoded data removed]",
            "text/plain": [
              "<Figure size 288x288 with 16 Axes>"
            ]
          },
          "metadata": {
            "needs_background": "light"
          },
          "output_type": "display_data"
        }
      ],
      "source": [
        "pd.plotting.scatter_matrix(df_0, figsize=(4, 4)) "
      ]
    },
    {
      "cell_type": "code",
      "execution_count": null,
      "metadata": {
        "id": "odjwyroeZacJ",
        "outputId": "6a7ec39a-7607-4c01-907f-fa34b91e359f"
      },
      "outputs": [
        {
          "data": {
            "text/plain": [
              "array([[<matplotlib.axes._subplots.AxesSubplot object at 0x7f52a51f7e90>,\n",
              "        <matplotlib.axes._subplots.AxesSubplot object at 0x7f52a51afd10>,\n",
              "        <matplotlib.axes._subplots.AxesSubplot object at 0x7f52a51d48d0>,\n",
              "        <matplotlib.axes._subplots.AxesSubplot object at 0x7f52a5195c10>],\n",
              "       [<matplotlib.axes._subplots.AxesSubplot object at 0x7f52a514b8d0>,\n",
              "        <matplotlib.axes._subplots.AxesSubplot object at 0x7f52a510bc50>,\n",
              "        <matplotlib.axes._subplots.AxesSubplot object at 0x7f52a50c0790>,\n",
              "        <matplotlib.axes._subplots.AxesSubplot object at 0x7f52a5072f90>],\n",
              "       [<matplotlib.axes._subplots.AxesSubplot object at 0x7f52a507cb10>,\n",
              "        <matplotlib.axes._subplots.AxesSubplot object at 0x7f52a503d4d0>,\n",
              "        <matplotlib.axes._subplots.AxesSubplot object at 0x7f52a4fa9810>,\n",
              "        <matplotlib.axes._subplots.AxesSubplot object at 0x7f52a4f5cf90>],\n",
              "       [<matplotlib.axes._subplots.AxesSubplot object at 0x7f52a4f1d850>,\n",
              "        <matplotlib.axes._subplots.AxesSubplot object at 0x7f52a4edfbd0>,\n",
              "        <matplotlib.axes._subplots.AxesSubplot object at 0x7f52a4f13890>,\n",
              "        <matplotlib.axes._subplots.AxesSubplot object at 0x7f52a4ed3c10>]],\n",
              "      dtype=object)"
            ]
          },
          "execution_count": 8,
          "metadata": {},
          "output_type": "execute_result"
        },
        {
          "data": {
            "image/png": "[encoded data removed]",
            "text/plain": [
              "<Figure size 288x288 with 16 Axes>"
            ]
          },
          "metadata": {
            "needs_background": "light"
          },
          "output_type": "display_data"
        }
      ],
      "source": [
        "pd.plotting.scatter_matrix(df_1, figsize=(4, 4)) "
      ]
    },
    {
      "cell_type": "code",
      "execution_count": null,
      "metadata": {
        "id": "ce_PpdoyZacL",
        "outputId": "6983cd53-d296-4b88-a509-359144227c93"
      },
      "outputs": [
        {
          "data": {
            "text/plain": [
              "array([[<matplotlib.axes._subplots.AxesSubplot object at 0x7f52b002cf10>,\n",
              "        <matplotlib.axes._subplots.AxesSubplot object at 0x7f52a3affa50>,\n",
              "        <matplotlib.axes._subplots.AxesSubplot object at 0x7f52a3a11690>,\n",
              "        <matplotlib.axes._subplots.AxesSubplot object at 0x7f52a39c4e90>],\n",
              "       [<matplotlib.axes._subplots.AxesSubplot object at 0x7f52a39856d0>,\n",
              "        <matplotlib.axes._subplots.AxesSubplot object at 0x7f52a39b8ed0>,\n",
              "        <matplotlib.axes._subplots.AxesSubplot object at 0x7f52a397a710>,\n",
              "        <matplotlib.axes._subplots.AxesSubplot object at 0x7f52a392df10>],\n",
              "       [<matplotlib.axes._subplots.AxesSubplot object at 0x7f52a3938a90>,\n",
              "        <matplotlib.axes._subplots.AxesSubplot object at 0x7f52a38f8450>,\n",
              "        <matplotlib.axes._subplots.AxesSubplot object at 0x7f52a3864790>,\n",
              "        <matplotlib.axes._subplots.AxesSubplot object at 0x7f52a3816f90>],\n",
              "       [<matplotlib.axes._subplots.AxesSubplot object at 0x7f52a37d97d0>,\n",
              "        <matplotlib.axes._subplots.AxesSubplot object at 0x7f52a378dfd0>,\n",
              "        <matplotlib.axes._subplots.AxesSubplot object at 0x7f52a374f810>,\n",
              "        <matplotlib.axes._subplots.AxesSubplot object at 0x7f52a3782f90>]],\n",
              "      dtype=object)"
            ]
          },
          "execution_count": 9,
          "metadata": {},
          "output_type": "execute_result"
        },
        {
          "data": {
            "image/png": "[encoded data removed]",
            "text/plain": [
              "<Figure size 288x288 with 16 Axes>"
            ]
          },
          "metadata": {
            "needs_background": "light"
          },
          "output_type": "display_data"
        }
      ],
      "source": [
        "pd.plotting.scatter_matrix(df_2, figsize=(4, 4)) "
      ]
    },
    {
      "cell_type": "markdown",
      "metadata": {
        "id": "nxIveq10ZacM"
      },
      "source": [
        "Бросается в глаза прямая корреляция f2 и product в регионе 1\n",
        "    \n",
        "  \n",
        "</div>"
      ]
    },
    {
      "cell_type": "markdown",
      "metadata": {
        "id": "BVGDb6ixZacO"
      },
      "source": [
        "Так как столбец id  нам никак не поможет в исследовании, то думаю, совершенно безболезненно избавиться от него "
      ]
    },
    {
      "cell_type": "code",
      "execution_count": null,
      "metadata": {
        "id": "tu6dKQ_4ZacO"
      },
      "outputs": [],
      "source": [
        "df_0 = df_0.drop('id', axis=1)\n",
        "df_1 = df_1.drop('id', axis=1)\n",
        "df_2 = df_2.drop('id', axis=1)"
      ]
    },
    {
      "cell_type": "markdown",
      "metadata": {
        "id": "hr0I_mO_ZacQ"
      },
      "source": [
        "Разобьем данные на выборки"
      ]
    },
    {
      "cell_type": "code",
      "execution_count": null,
      "metadata": {
        "id": "E7q5WYw3ZacR"
      },
      "outputs": [],
      "source": [
        "train_0, valid_0 = train_test_split(df_0, test_size=0.25, random_state=12345)\n",
        "train_1, valid_1 = train_test_split(df_1, test_size=0.25, random_state=12345)\n",
        "train_2, valid_2 = train_test_split(df_2, test_size=0.25, random_state=12345)"
      ]
    },
    {
      "cell_type": "code",
      "execution_count": null,
      "metadata": {
        "id": "pW-ROFLTZacT"
      },
      "outputs": [],
      "source": [
        "features_train_0 = train_0.drop('product', axis=1)\n",
        "target_train_0 = train_0['product']\n",
        "features_valid_0 = valid_0.drop('product', axis=1)\n",
        "target_valid_0 = valid_0['product']\n",
        "features_train_1 = train_1.drop('product', axis=1)\n",
        "target_train_1 = train_1['product']\n",
        "features_valid_1 = valid_1.drop('product', axis=1)\n",
        "target_valid_1 = valid_1['product']\n",
        "features_train_2 = train_2.drop('product', axis=1)\n",
        "target_train_2 = train_2['product']\n",
        "features_valid_2 = valid_2.drop('product', axis=1)\n",
        "target_valid_2 = valid_2['product']"
      ]
    },
    {
      "cell_type": "code",
      "execution_count": null,
      "metadata": {
        "id": "qriHcMGQZacU",
        "outputId": "bb8b0683-b797-4843-e6d2-f9726957e0e2"
      },
      "outputs": [
        {
          "name": "stdout",
          "output_type": "stream",
          "text": [
            "<class 'pandas.core.frame.DataFrame'>\n",
            "Int64Index: 75000 entries, 27212 to 86498\n",
            "Data columns (total 4 columns):\n",
            "f0         75000 non-null float64\n",
            "f1         75000 non-null float64\n",
            "f2         75000 non-null float64\n",
            "product    75000 non-null float64\n",
            "dtypes: float64(4)\n",
            "memory usage: 2.9 MB\n"
          ]
        }
      ],
      "source": [
        "train_0.info()"
      ]
    },
    {
      "cell_type": "markdown",
      "metadata": {
        "id": "m-HbPqKlZacX"
      },
      "source": [
        "## Обучите и проверьте модель для каждого региона"
      ]
    },
    {
      "cell_type": "markdown",
      "metadata": {
        "id": "tf4fskadZacY"
      },
      "source": [
        "обучим и проверим модель линейной регресии"
      ]
    },
    {
      "cell_type": "code",
      "execution_count": null,
      "metadata": {
        "id": "aNM_NwBVZacY",
        "outputId": "dc6f9d75-1575-4209-9669-0ccc3f12a0f6"
      },
      "outputs": [
        {
          "name": "stdout",
          "output_type": "stream",
          "text": [
            "Region 0\n",
            "92.50000000000001\n",
            "92.59256778438038\n",
            "RMSE модели линейной регрессии на валидационной выборке: 37.5794217150813\n"
          ]
        }
      ],
      "source": [
        "model_0 = LinearRegression() \n",
        "model_0.fit(features_train_0, target_train_0) \n",
        "predictions_valid_0 = model_0.predict(features_valid_0)\n",
        "result_0 = mean_squared_error(target_valid_0, predictions_valid_0)**0.5 \n",
        "print('Region 0')\n",
        "print(df_0['product'].mean())\n",
        "print(predictions_valid_0.mean())\n",
        "print(\"RMSE модели линейной регрессии на валидационной выборке:\", result_0)"
      ]
    },
    {
      "cell_type": "code",
      "execution_count": null,
      "metadata": {
        "id": "ABLeVacnZaca",
        "outputId": "14c92fc0-d59e-49ac-e94a-bec3022eeb33"
      },
      "outputs": [
        {
          "name": "stdout",
          "output_type": "stream",
          "text": [
            "Region 1\n",
            "68.82500000000002\n",
            "68.728546895446\n",
            "RMSE модели линейной регрессии на валидационной выборке: 0.893099286775616\n"
          ]
        }
      ],
      "source": [
        "model_1 = LinearRegression() \n",
        "model_1.fit(features_train_1, target_train_1) \n",
        "predictions_valid_1 = model_1.predict(features_valid_1)\n",
        "result_1 = mean_squared_error(target_valid_1, predictions_valid_1)**0.5 \n",
        "print('Region 1')\n",
        "print(df_1['product'].mean())\n",
        "print(predictions_valid_1.mean())\n",
        "print(\"RMSE модели линейной регрессии на валидационной выборке:\", result_1)"
      ]
    },
    {
      "cell_type": "code",
      "execution_count": null,
      "metadata": {
        "id": "eKiZS7VZZacb",
        "outputId": "b64ed7e8-51be-42d2-e2a5-8062cfae2cac"
      },
      "outputs": [
        {
          "name": "stdout",
          "output_type": "stream",
          "text": [
            "Region 2\n",
            "95.00000000000004\n",
            "94.96504596800489\n",
            "RMSE модели линейной регрессии на валидационной выборке: 40.02970873393434\n"
          ]
        }
      ],
      "source": [
        "model_2 = LinearRegression() \n",
        "model_2.fit(features_train_2, target_train_2) \n",
        "predictions_valid_2 = model_2.predict(features_valid_2)\n",
        "result_2 = mean_squared_error(target_valid_2, predictions_valid_2)**0.5 \n",
        "print('Region 2')\n",
        "print(df_2['product'].mean())\n",
        "print(predictions_valid_2.mean())\n",
        "print(\"RMSE модели линейной регрессии на валидационной выборке:\", result_2)"
      ]
    },
    {
      "cell_type": "markdown",
      "metadata": {
        "id": "lDGLXXkRZacd"
      },
      "source": [
        "Величина RMSE показывает, насколько правильный ответ отличается от предсказания. Значение RMSE должно быть как можно меньше. В наших данных минимальное значение RMSE показывает только регион 1."
      ]
    },
    {
      "cell_type": "markdown",
      "metadata": {
        "id": "nwrBSLmfZacf"
      },
      "source": [
        "## Подготовка к расчёту прибыли"
      ]
    },
    {
      "cell_type": "code",
      "execution_count": null,
      "metadata": {
        "id": "pgXtz9TgZacf",
        "outputId": "e21a6e24-99a2-4791-826e-bcf0373ee393"
      },
      "outputs": [
        {
          "name": "stdout",
          "output_type": "stream",
          "text": [
            "111.11111111111111\n"
          ]
        }
      ],
      "source": [
        "number_of_wells = 200 #количество скважин, которые нужно отобрать\n",
        "wells_for_scouting = 500 #количество скважин для разведки\n",
        "budget = 10000000000 #бюджет на разработку скважин в регионе\n",
        "budget_per_well = budget/number_of_wells #бюджет на одну скважину\n",
        "income_per_barrel = 450 #доход с одного барреля\n",
        "income = 450000 #доход с одной единицы в столбце 'product'\n",
        "volume = budget_per_well/income #объем, который необходим для безубыточной деятельности\n",
        "print(volume)"
      ]
    },
    {
      "cell_type": "code",
      "execution_count": null,
      "metadata": {
        "id": "SSMiyNK5Zach",
        "outputId": "d37be6ce-a0a6-4cfb-d355-026bb7c4707c"
      },
      "outputs": [
        {
          "name": "stdout",
          "output_type": "stream",
          "text": [
            "Средний запас сырья в Регионе 0: 92.50000000000001\n",
            "Средний запас сырья в Регионе 1: 68.82500000000002\n",
            "Средний запас сырья в Регионе 2: 95.00000000000004\n"
          ]
        }
      ],
      "source": [
        "print('Средний запас сырья в Регионе 0:', df_0['product'].mean())\n",
        "print('Средний запас сырья в Регионе 1:', df_1['product'].mean())\n",
        "print('Средний запас сырья в Регионе 2:', df_2['product'].mean())"
      ]
    },
    {
      "cell_type": "markdown",
      "metadata": {
        "id": "Rfkze4J1Zaci"
      },
      "source": [
        "Вывод: для безуботочной деятельности необходим объем в размере 111 тысяч баррелей, вместе с тем ни один из регионов не дотягивает до этих показателей в среднем. "
      ]
    },
    {
      "cell_type": "markdown",
      "metadata": {
        "id": "8qK74FGTZacj"
      },
      "source": [
        "## Расчёт прибыли и рисков "
      ]
    },
    {
      "cell_type": "markdown",
      "metadata": {
        "id": "Py0jpkNsZack"
      },
      "source": [
        "Сделаем функцию для расчета прибыли. Для этого будем выбирать топ-200 скважин, прибыль считаем по валицадионной выборке."
      ]
    },
    {
      "cell_type": "code",
      "execution_count": null,
      "metadata": {
        "id": "NVq3QfjjZacl"
      },
      "outputs": [],
      "source": [
        "def revenue(target, predict):\n",
        "    predict_sorted = pd.Series(predict).sort_values(ascending=False)\n",
        "    selected = target.reset_index(drop=True)[predict_sorted.index][:number_of_wells]\n",
        "    \n",
        "    profit = (income * selected.sum()) - budget\n",
        "    return profit"
      ]
    },
    {
      "cell_type": "code",
      "execution_count": null,
      "metadata": {
        "id": "vXg3k8mBZacl",
        "outputId": "83cf8ed4-9172-45e3-d635-07cd61550c23"
      },
      "outputs": [
        {
          "name": "stdout",
          "output_type": "stream",
          "text": [
            "3320826043.1398525\n"
          ]
        }
      ],
      "source": [
        "\n",
        "revenue_0 = revenue(target_valid_0, predictions_valid_0)\n",
        "print(revenue_0)\n"
      ]
    },
    {
      "cell_type": "code",
      "execution_count": null,
      "metadata": {
        "id": "OWeJZ9VMZacm",
        "outputId": "39fef8dc-b068-4723-cbf5-91ee2c93bfa0"
      },
      "outputs": [
        {
          "name": "stdout",
          "output_type": "stream",
          "text": [
            "2415086696.681511\n"
          ]
        }
      ],
      "source": [
        "revenue_1 = revenue(target_valid_1, predictions_valid_1)\n",
        "print(revenue_1)"
      ]
    },
    {
      "cell_type": "code",
      "execution_count": null,
      "metadata": {
        "id": "5haeA6XFZacn",
        "outputId": "d61368ff-d0d9-4f6d-81e4-1fa2d3f64d02"
      },
      "outputs": [
        {
          "name": "stdout",
          "output_type": "stream",
          "text": [
            "2710349963.5998325\n"
          ]
        }
      ],
      "source": [
        "revenue_2 = revenue(target_valid_2, predictions_valid_2)\n",
        "print(revenue_2)"
      ]
    },
    {
      "cell_type": "markdown",
      "metadata": {
        "id": "pxCoXJUyZaco"
      },
      "source": [
        "сделаем функцию для расчета прибыли  и рисков, применив bootstrap"
      ]
    },
    {
      "cell_type": "code",
      "execution_count": null,
      "metadata": {
        "id": "aHUh5YwGZacp"
      },
      "outputs": [],
      "source": [
        "def count_revenue(target, predict):\n",
        "    state = np.random.RandomState(12345)\n",
        "    values = []\n",
        "    for i in range(1000):\n",
        "        target_sample = pd.Series(target).reset_index(drop=True).sample(n=wells_for_scouting, replace=True, random_state = state)\n",
        "        predictions_sample = pd.Series(predict[target_sample.index])\n",
        "        revenue_sample = revenue(target_sample, predictions_sample)\n",
        "        values.append(revenue_sample)\n",
        "        \n",
        "    values = pd.Series(values)\n",
        "    confidence_interval = st.t.interval(0.95, len(values)-1, values.mean(), values.sem())\n",
        "    lower = values.quantile(0.025)\n",
        "    upper = values.quantile(0.975)\n",
        "    count = 0\n",
        "    for i in range(len(values)):\n",
        "        if values[i] < 0:\n",
        "            count +=1\n",
        "            risks = count/len(values)*100 #риск убытков в процентах\n",
        "    print('Средняя прибыль =', values.mean()) \n",
        "    print('95%-ый доверительный интервал:', confidence_interval) \n",
        "    print('Риск убытков =', risks)\n",
        "    return values.mean(), lower, upper, risks\n",
        "    "
      ]
    },
    {
      "cell_type": "code",
      "execution_count": null,
      "metadata": {
        "id": "mkFDCEreZacq",
        "outputId": "07f26a04-1db9-46bf-8d8b-500949e84e55"
      },
      "outputs": [
        {
          "name": "stdout",
          "output_type": "stream",
          "text": [
            "Средняя прибыль = 396164984.8023711\n",
            "95%-ый доверительный интервал: (379620315.1479725, 412709654.45676965)\n",
            "Риск убытков = 6.9\n"
          ]
        },
        {
          "data": {
            "text/plain": [
              "(396164984.8023711, -111215545.89049526, 909766941.5534225, 6.9)"
            ]
          },
          "execution_count": 24,
          "metadata": {},
          "output_type": "execute_result"
        }
      ],
      "source": [
        "count_revenue(target_valid_0, predictions_valid_0)"
      ]
    },
    {
      "cell_type": "markdown",
      "metadata": {
        "id": "BOfHKuoEZacr"
      },
      "source": [
        "С наибольшей вероятностью прибыль в регионе 0 будет находиться между -111 млн и 910 млн рублей при среднем значении в 396 млн; риск убытков составляет 6,9%"
      ]
    },
    {
      "cell_type": "code",
      "execution_count": null,
      "metadata": {
        "id": "hOkTmSsTZacr",
        "outputId": "a71548e6-7285-4fc5-a931-04f47412ec00"
      },
      "outputs": [
        {
          "name": "stdout",
          "output_type": "stream",
          "text": [
            "Средняя прибыль = 456045105.7866609\n",
            "95%-ый доверительный интервал: (443147248.6639007, 468942962.90942115)\n",
            "Риск убытков = 1.5\n"
          ]
        },
        {
          "data": {
            "text/plain": [
              "(456045105.7866609, 33820509.39898549, 852289453.866036, 1.5)"
            ]
          },
          "execution_count": 25,
          "metadata": {},
          "output_type": "execute_result"
        }
      ],
      "source": [
        "count_revenue(target_valid_1, predictions_valid_1)"
      ]
    },
    {
      "cell_type": "markdown",
      "metadata": {
        "id": "HQBQ-Av8Zacs"
      },
      "source": [
        "С наибольшей вероятностью прибыль в регионе 1 будет находиться между 34 млн и 852 млн рублей при среднем значении в 456 млн; риск убытков - 1,5%"
      ]
    },
    {
      "cell_type": "code",
      "execution_count": null,
      "metadata": {
        "id": "g6T4dsgnZact",
        "outputId": "d3a0b94a-a6ec-4629-a886-e7ec4304a2f6"
      },
      "outputs": [
        {
          "name": "stdout",
          "output_type": "stream",
          "text": [
            "Средняя прибыль = 404403866.56835675\n",
            "95%-ый доверительный интервал: (387445797.47128034, 421361935.66543317)\n",
            "Риск убытков = 7.6\n"
          ]
        },
        {
          "data": {
            "text/plain": [
              "(404403866.56835675, -163350413.39559925, 950359574.9237995, 7.6)"
            ]
          },
          "execution_count": 26,
          "metadata": {},
          "output_type": "execute_result"
        }
      ],
      "source": [
        "count_revenue(target_valid_2, predictions_valid_2)"
      ]
    },
    {
      "cell_type": "markdown",
      "metadata": {
        "id": "Xa7E1DE-Zacu"
      },
      "source": [
        "С наибольшей вероятностью прибыль в регионе 2 будет находиться между -163 млн и 950 млн рублей при среднем значении в 404 млн, риск убытков - 7,6%"
      ]
    },
    {
      "cell_type": "markdown",
      "metadata": {
        "id": "lzn3SslgZacu"
      },
      "source": [
        "ИТОГО:\n",
        "\n",
        "1) были изучены данные по 3 регионам\n",
        "\n",
        "2) были изучены данные модели логистической регрессии и RMSE\n",
        "\n",
        "3) минимальное значение RMSE было получено на данных региона 1\n",
        "\n",
        "4) была состалена функция расчета прибыли и рисков по регионам с использованием bootstrap\n",
        "\n",
        "5) изучив все данные, можно сделать вывод, что наиболее выгодным регионом является регион 1: RMSE = 0,89, средняя прибыль составляет 456 млн, 2,5% квартиль составляет 33 млн (а не уходит в минус как в регионах 0 и 2), риск убытков = 1,5%."
      ]
    }
  ],
  "metadata": {
    "ExecuteTimeLog": [
      {
        "duration": 1374,
        "start_time": "2022-03-02T06:42:27.379Z"
      },
      {
        "duration": 624,
        "start_time": "2022-03-02T06:44:06.277Z"
      },
      {
        "duration": 25,
        "start_time": "2022-03-02T06:44:23.943Z"
      },
      {
        "duration": 32,
        "start_time": "2022-03-02T06:44:46.560Z"
      },
      {
        "duration": 44,
        "start_time": "2022-03-02T06:45:26.355Z"
      },
      {
        "duration": 260,
        "start_time": "2022-03-03T14:56:37.049Z"
      },
      {
        "duration": 1119,
        "start_time": "2022-03-03T14:56:40.729Z"
      },
      {
        "duration": 345,
        "start_time": "2022-03-03T14:56:42.117Z"
      },
      {
        "duration": 30,
        "start_time": "2022-03-03T14:56:44.031Z"
      },
      {
        "duration": 16,
        "start_time": "2022-03-03T14:56:46.557Z"
      },
      {
        "duration": 48,
        "start_time": "2022-03-03T14:57:04.094Z"
      },
      {
        "duration": 44,
        "start_time": "2022-03-03T14:57:46.949Z"
      },
      {
        "duration": 3,
        "start_time": "2022-03-03T15:48:42.090Z"
      },
      {
        "duration": 370,
        "start_time": "2022-03-03T15:48:43.089Z"
      },
      {
        "duration": 1138,
        "start_time": "2022-03-03T15:49:01.521Z"
      },
      {
        "duration": 374,
        "start_time": "2022-03-03T15:49:04.266Z"
      },
      {
        "duration": 34,
        "start_time": "2022-03-03T15:49:05.201Z"
      },
      {
        "duration": 47,
        "start_time": "2022-03-03T15:49:08.137Z"
      },
      {
        "duration": 29,
        "start_time": "2022-03-03T15:51:52.672Z"
      },
      {
        "duration": 1085,
        "start_time": "2022-03-03T15:53:57.768Z"
      },
      {
        "duration": 378,
        "start_time": "2022-03-03T15:53:59.734Z"
      },
      {
        "duration": 29,
        "start_time": "2022-03-03T15:54:00.620Z"
      },
      {
        "duration": 45,
        "start_time": "2022-03-03T15:54:03.114Z"
      },
      {
        "duration": 44,
        "start_time": "2022-03-03T15:54:04.246Z"
      },
      {
        "duration": 28,
        "start_time": "2022-03-03T15:54:05.306Z"
      },
      {
        "duration": 318,
        "start_time": "2022-03-03T15:54:06.730Z"
      },
      {
        "duration": 235,
        "start_time": "2022-03-03T15:55:55.990Z"
      },
      {
        "duration": 145,
        "start_time": "2022-03-03T15:56:14.212Z"
      },
      {
        "duration": 10,
        "start_time": "2022-03-03T15:56:49.736Z"
      },
      {
        "duration": 3,
        "start_time": "2022-03-03T15:58:18.716Z"
      },
      {
        "duration": 1068,
        "start_time": "2022-03-03T16:00:27.608Z"
      },
      {
        "duration": 410,
        "start_time": "2022-03-03T16:00:28.678Z"
      },
      {
        "duration": 35,
        "start_time": "2022-03-03T16:00:29.090Z"
      },
      {
        "duration": 61,
        "start_time": "2022-03-03T16:00:29.128Z"
      },
      {
        "duration": 47,
        "start_time": "2022-03-03T16:00:29.193Z"
      },
      {
        "duration": 47,
        "start_time": "2022-03-03T16:00:29.242Z"
      },
      {
        "duration": 164,
        "start_time": "2022-03-03T16:00:29.290Z"
      },
      {
        "duration": 346,
        "start_time": "2022-03-03T16:01:54.595Z"
      },
      {
        "duration": 1033,
        "start_time": "2022-03-03T16:04:23.419Z"
      },
      {
        "duration": 375,
        "start_time": "2022-03-03T16:04:24.454Z"
      },
      {
        "duration": 35,
        "start_time": "2022-03-03T16:04:24.831Z"
      },
      {
        "duration": 44,
        "start_time": "2022-03-03T16:04:24.868Z"
      },
      {
        "duration": 58,
        "start_time": "2022-03-03T16:04:24.914Z"
      },
      {
        "duration": 27,
        "start_time": "2022-03-03T16:04:24.974Z"
      },
      {
        "duration": 157,
        "start_time": "2022-03-03T16:04:25.003Z"
      },
      {
        "duration": 357,
        "start_time": "2022-03-03T16:04:25.162Z"
      },
      {
        "duration": 1073,
        "start_time": "2022-03-03T16:09:16.183Z"
      },
      {
        "duration": 391,
        "start_time": "2022-03-03T16:09:17.990Z"
      },
      {
        "duration": 32,
        "start_time": "2022-03-03T16:09:19.353Z"
      },
      {
        "duration": 46,
        "start_time": "2022-03-03T16:09:22.022Z"
      },
      {
        "duration": 47,
        "start_time": "2022-03-03T16:09:24.522Z"
      },
      {
        "duration": 29,
        "start_time": "2022-03-03T16:09:25.618Z"
      },
      {
        "duration": 145,
        "start_time": "2022-03-03T16:09:26.509Z"
      },
      {
        "duration": 345,
        "start_time": "2022-03-03T16:09:30.508Z"
      },
      {
        "duration": 268,
        "start_time": "2022-03-03T16:09:52.985Z"
      },
      {
        "duration": 16,
        "start_time": "2022-03-03T16:13:50.848Z"
      },
      {
        "duration": 1083,
        "start_time": "2022-03-03T16:14:57.179Z"
      },
      {
        "duration": 370,
        "start_time": "2022-03-03T16:14:59.166Z"
      },
      {
        "duration": 31,
        "start_time": "2022-03-03T16:15:00.709Z"
      },
      {
        "duration": 46,
        "start_time": "2022-03-03T16:15:03.152Z"
      },
      {
        "duration": 10,
        "start_time": "2022-03-03T16:15:04.102Z"
      },
      {
        "duration": 18,
        "start_time": "2022-03-03T16:16:04.390Z"
      },
      {
        "duration": 8,
        "start_time": "2022-03-03T16:16:05.149Z"
      },
      {
        "duration": 26,
        "start_time": "2022-03-03T16:16:07.283Z"
      },
      {
        "duration": 15,
        "start_time": "2022-03-03T16:16:08.134Z"
      },
      {
        "duration": 40,
        "start_time": "2022-03-03T16:16:10.097Z"
      },
      {
        "duration": 13,
        "start_time": "2022-03-03T16:16:12.894Z"
      },
      {
        "duration": 12,
        "start_time": "2022-03-03T16:16:55.780Z"
      },
      {
        "duration": 14,
        "start_time": "2022-03-03T16:17:18.741Z"
      },
      {
        "duration": 14,
        "start_time": "2022-03-03T16:18:12.686Z"
      },
      {
        "duration": 19,
        "start_time": "2022-03-03T16:18:49.519Z"
      },
      {
        "duration": 343,
        "start_time": "2022-03-03T16:28:27.405Z"
      },
      {
        "duration": 3,
        "start_time": "2022-03-03T16:28:35.714Z"
      },
      {
        "duration": 1454,
        "start_time": "2022-03-07T10:01:08.149Z"
      },
      {
        "duration": 433,
        "start_time": "2022-03-07T10:01:11.036Z"
      },
      {
        "duration": 43,
        "start_time": "2022-03-07T10:01:11.884Z"
      },
      {
        "duration": 20,
        "start_time": "2022-03-07T10:01:14.472Z"
      },
      {
        "duration": 15,
        "start_time": "2022-03-07T10:01:15.189Z"
      },
      {
        "duration": 37,
        "start_time": "2022-03-07T10:01:18.348Z"
      },
      {
        "duration": 24,
        "start_time": "2022-03-07T10:01:19.132Z"
      },
      {
        "duration": 64,
        "start_time": "2022-03-07T10:01:22.875Z"
      },
      {
        "duration": 86,
        "start_time": "2022-03-07T10:01:23.900Z"
      },
      {
        "duration": 18,
        "start_time": "2022-03-07T10:01:25.972Z"
      },
      {
        "duration": 18,
        "start_time": "2022-03-07T10:01:26.929Z"
      },
      {
        "duration": 4,
        "start_time": "2022-03-07T10:01:31.209Z"
      },
      {
        "duration": 321,
        "start_time": "2022-03-07T10:13:37.864Z"
      },
      {
        "duration": 5,
        "start_time": "2022-03-07T10:20:05.427Z"
      },
      {
        "duration": 254,
        "start_time": "2022-03-07T10:23:31.612Z"
      },
      {
        "duration": 23,
        "start_time": "2022-03-07T10:24:50.279Z"
      },
      {
        "duration": 31,
        "start_time": "2022-03-07T10:24:52.355Z"
      },
      {
        "duration": 18,
        "start_time": "2022-03-07T10:24:54.567Z"
      },
      {
        "duration": 4,
        "start_time": "2022-03-07T10:24:57.156Z"
      },
      {
        "duration": 195,
        "start_time": "2022-03-07T10:25:00.868Z"
      },
      {
        "duration": 430,
        "start_time": "2022-03-07T10:25:11.672Z"
      },
      {
        "duration": 354,
        "start_time": "2022-03-07T10:25:37.559Z"
      },
      {
        "duration": 399,
        "start_time": "2022-03-07T10:25:51.960Z"
      },
      {
        "duration": 328,
        "start_time": "2022-03-07T10:27:10.771Z"
      },
      {
        "duration": 345,
        "start_time": "2022-03-07T10:27:54.919Z"
      },
      {
        "duration": 5,
        "start_time": "2022-03-07T10:29:44.144Z"
      },
      {
        "duration": 8,
        "start_time": "2022-03-07T10:29:59.372Z"
      },
      {
        "duration": 1461,
        "start_time": "2022-03-07T10:31:30.640Z"
      },
      {
        "duration": 429,
        "start_time": "2022-03-07T10:31:33.785Z"
      },
      {
        "duration": 42,
        "start_time": "2022-03-07T10:31:34.638Z"
      },
      {
        "duration": 22,
        "start_time": "2022-03-07T10:31:36.989Z"
      },
      {
        "duration": 14,
        "start_time": "2022-03-07T10:31:37.648Z"
      },
      {
        "duration": 37,
        "start_time": "2022-03-07T10:31:39.430Z"
      },
      {
        "duration": 19,
        "start_time": "2022-03-07T10:31:40.231Z"
      },
      {
        "duration": 57,
        "start_time": "2022-03-07T10:31:40.991Z"
      },
      {
        "duration": 21,
        "start_time": "2022-03-07T10:31:44.068Z"
      },
      {
        "duration": 21,
        "start_time": "2022-03-07T10:31:45.908Z"
      },
      {
        "duration": 20,
        "start_time": "2022-03-07T10:31:51.902Z"
      },
      {
        "duration": 5,
        "start_time": "2022-03-07T10:31:54.665Z"
      },
      {
        "duration": 8,
        "start_time": "2022-03-07T10:31:56.999Z"
      },
      {
        "duration": 81,
        "start_time": "2022-03-07T10:47:10.735Z"
      },
      {
        "duration": 6,
        "start_time": "2022-03-07T10:47:17.873Z"
      },
      {
        "duration": 390,
        "start_time": "2022-03-07T10:47:36.290Z"
      },
      {
        "duration": 9,
        "start_time": "2022-03-07T10:47:49.872Z"
      },
      {
        "duration": 225,
        "start_time": "2022-03-07T10:47:50.952Z"
      },
      {
        "duration": 7,
        "start_time": "2022-03-07T10:49:24.801Z"
      },
      {
        "duration": 198,
        "start_time": "2022-03-07T10:49:57.370Z"
      },
      {
        "duration": 7,
        "start_time": "2022-03-07T10:50:11.194Z"
      },
      {
        "duration": 250,
        "start_time": "2022-03-07T10:50:12.642Z"
      },
      {
        "duration": 7,
        "start_time": "2022-03-07T10:50:40.766Z"
      },
      {
        "duration": 187,
        "start_time": "2022-03-07T10:50:42.025Z"
      },
      {
        "duration": 326,
        "start_time": "2022-03-07T10:54:54.585Z"
      },
      {
        "duration": 371,
        "start_time": "2022-03-07T10:55:20.878Z"
      },
      {
        "duration": 18,
        "start_time": "2022-03-07T10:58:23.297Z"
      },
      {
        "duration": 16,
        "start_time": "2022-03-07T10:58:45.200Z"
      },
      {
        "duration": 16,
        "start_time": "2022-03-07T10:59:29.704Z"
      },
      {
        "duration": 15,
        "start_time": "2022-03-07T10:59:56.924Z"
      },
      {
        "duration": 188,
        "start_time": "2022-03-07T11:07:39.847Z"
      },
      {
        "duration": 225,
        "start_time": "2022-03-07T11:08:35.516Z"
      },
      {
        "duration": 208,
        "start_time": "2022-03-07T11:09:06.453Z"
      },
      {
        "duration": 292,
        "start_time": "2022-03-07T11:10:23.830Z"
      },
      {
        "duration": 197,
        "start_time": "2022-03-07T11:13:03.122Z"
      },
      {
        "duration": 197,
        "start_time": "2022-03-07T11:15:28.515Z"
      },
      {
        "duration": 269,
        "start_time": "2022-03-07T11:15:41.465Z"
      },
      {
        "duration": 236,
        "start_time": "2022-03-07T11:16:11.789Z"
      },
      {
        "duration": 899,
        "start_time": "2022-03-07T11:16:23.172Z"
      },
      {
        "duration": 15,
        "start_time": "2022-03-07T11:19:22.017Z"
      },
      {
        "duration": 15,
        "start_time": "2022-03-07T11:19:27.239Z"
      },
      {
        "duration": 14,
        "start_time": "2022-03-07T11:19:33.349Z"
      },
      {
        "duration": 262,
        "start_time": "2022-03-07T11:20:11.407Z"
      },
      {
        "duration": 262,
        "start_time": "2022-03-07T11:21:30.040Z"
      },
      {
        "duration": 193,
        "start_time": "2022-03-07T11:22:20.611Z"
      },
      {
        "duration": 192,
        "start_time": "2022-03-07T11:22:40.764Z"
      },
      {
        "duration": 215,
        "start_time": "2022-03-07T11:48:57.077Z"
      },
      {
        "duration": 199,
        "start_time": "2022-03-07T11:49:10.485Z"
      },
      {
        "duration": 200,
        "start_time": "2022-03-07T11:49:33.180Z"
      },
      {
        "duration": 209,
        "start_time": "2022-03-07T11:51:07.537Z"
      },
      {
        "duration": 6,
        "start_time": "2022-03-07T11:59:09.978Z"
      },
      {
        "duration": 6,
        "start_time": "2022-03-07T11:59:37.981Z"
      },
      {
        "duration": 6,
        "start_time": "2022-03-07T11:59:51.066Z"
      },
      {
        "duration": 4,
        "start_time": "2022-03-07T12:01:58.759Z"
      },
      {
        "duration": 9,
        "start_time": "2022-03-07T12:03:55.594Z"
      },
      {
        "duration": 233,
        "start_time": "2022-03-07T12:04:18.421Z"
      },
      {
        "duration": 10,
        "start_time": "2022-03-07T12:04:29.797Z"
      },
      {
        "duration": 8,
        "start_time": "2022-03-07T12:04:40.813Z"
      },
      {
        "duration": 9,
        "start_time": "2022-03-07T12:05:00.112Z"
      },
      {
        "duration": 8,
        "start_time": "2022-03-07T12:05:31.083Z"
      },
      {
        "duration": 4,
        "start_time": "2022-03-07T12:06:10.771Z"
      },
      {
        "duration": 9,
        "start_time": "2022-03-07T12:06:11.624Z"
      },
      {
        "duration": 9,
        "start_time": "2022-03-07T12:06:12.627Z"
      },
      {
        "duration": 12,
        "start_time": "2022-03-07T12:06:14.025Z"
      },
      {
        "duration": 4,
        "start_time": "2022-03-07T12:09:06.698Z"
      },
      {
        "duration": 229,
        "start_time": "2022-03-07T12:09:08.225Z"
      },
      {
        "duration": 5,
        "start_time": "2022-03-07T12:10:01.641Z"
      },
      {
        "duration": 6,
        "start_time": "2022-03-07T12:10:07.829Z"
      },
      {
        "duration": 190,
        "start_time": "2022-03-07T12:10:20.543Z"
      },
      {
        "duration": 278,
        "start_time": "2022-03-07T12:11:04.986Z"
      },
      {
        "duration": 211,
        "start_time": "2022-03-07T12:12:50.972Z"
      },
      {
        "duration": 1359,
        "start_time": "2022-03-07T12:13:09.430Z"
      },
      {
        "duration": 456,
        "start_time": "2022-03-07T12:13:11.592Z"
      },
      {
        "duration": 47,
        "start_time": "2022-03-07T12:13:12.632Z"
      },
      {
        "duration": 23,
        "start_time": "2022-03-07T12:13:16.412Z"
      },
      {
        "duration": 14,
        "start_time": "2022-03-07T12:13:17.342Z"
      },
      {
        "duration": 40,
        "start_time": "2022-03-07T12:13:18.603Z"
      },
      {
        "duration": 20,
        "start_time": "2022-03-07T12:13:19.493Z"
      },
      {
        "duration": 50,
        "start_time": "2022-03-07T12:13:20.602Z"
      },
      {
        "duration": 25,
        "start_time": "2022-03-07T12:13:26.629Z"
      },
      {
        "duration": 93,
        "start_time": "2022-03-07T12:13:28.292Z"
      },
      {
        "duration": 20,
        "start_time": "2022-03-07T12:13:29.327Z"
      },
      {
        "duration": 6,
        "start_time": "2022-03-07T12:13:32.997Z"
      },
      {
        "duration": 8,
        "start_time": "2022-03-07T12:13:34.111Z"
      },
      {
        "duration": 4,
        "start_time": "2022-03-07T12:13:59.410Z"
      },
      {
        "duration": 323,
        "start_time": "2022-03-07T12:14:08.874Z"
      },
      {
        "duration": 11,
        "start_time": "2022-03-07T12:14:20.675Z"
      },
      {
        "duration": 11,
        "start_time": "2022-03-07T12:14:33.134Z"
      },
      {
        "duration": 8,
        "start_time": "2022-03-07T12:14:33.175Z"
      },
      {
        "duration": 10,
        "start_time": "2022-03-07T12:14:40.582Z"
      },
      {
        "duration": 4,
        "start_time": "2022-03-07T12:14:55.373Z"
      },
      {
        "duration": 9,
        "start_time": "2022-03-07T12:14:56.099Z"
      },
      {
        "duration": 9,
        "start_time": "2022-03-07T12:14:57.038Z"
      },
      {
        "duration": 9,
        "start_time": "2022-03-07T12:15:00.170Z"
      },
      {
        "duration": 5,
        "start_time": "2022-03-07T12:15:25.803Z"
      },
      {
        "duration": 9,
        "start_time": "2022-03-07T12:15:26.375Z"
      },
      {
        "duration": 8,
        "start_time": "2022-03-07T12:15:34.473Z"
      },
      {
        "duration": 9,
        "start_time": "2022-03-07T12:15:38.195Z"
      },
      {
        "duration": 66,
        "start_time": "2022-03-07T12:19:09.841Z"
      },
      {
        "duration": 7,
        "start_time": "2022-03-07T12:19:18.929Z"
      },
      {
        "duration": 1318,
        "start_time": "2022-03-07T12:19:48.447Z"
      },
      {
        "duration": 1326,
        "start_time": "2022-03-07T12:20:06.587Z"
      },
      {
        "duration": 1446,
        "start_time": "2022-03-07T12:20:15.874Z"
      },
      {
        "duration": 5,
        "start_time": "2022-03-07T12:24:04.871Z"
      },
      {
        "duration": 5,
        "start_time": "2022-03-07T12:24:53.414Z"
      },
      {
        "duration": 8,
        "start_time": "2022-03-07T12:24:54.457Z"
      },
      {
        "duration": 5,
        "start_time": "2022-03-07T12:25:05.849Z"
      },
      {
        "duration": 10,
        "start_time": "2022-03-07T12:25:06.734Z"
      },
      {
        "duration": 5,
        "start_time": "2022-03-07T12:25:12.177Z"
      },
      {
        "duration": 9,
        "start_time": "2022-03-07T12:25:12.805Z"
      },
      {
        "duration": 9,
        "start_time": "2022-03-07T12:25:13.947Z"
      },
      {
        "duration": 9,
        "start_time": "2022-03-07T12:25:16.259Z"
      },
      {
        "duration": 6,
        "start_time": "2022-03-07T12:25:18.778Z"
      },
      {
        "duration": 1300,
        "start_time": "2022-03-07T12:25:19.592Z"
      },
      {
        "duration": 1310,
        "start_time": "2022-03-07T12:25:23.914Z"
      },
      {
        "duration": 1344,
        "start_time": "2022-03-07T12:25:27.112Z"
      },
      {
        "duration": 4,
        "start_time": "2022-03-07T12:26:29.775Z"
      },
      {
        "duration": 8,
        "start_time": "2022-03-07T12:26:30.475Z"
      },
      {
        "duration": 4,
        "start_time": "2022-03-07T12:26:37.596Z"
      },
      {
        "duration": 9,
        "start_time": "2022-03-07T12:26:40.394Z"
      },
      {
        "duration": 8,
        "start_time": "2022-03-07T12:26:41.286Z"
      },
      {
        "duration": 10,
        "start_time": "2022-03-07T12:26:41.332Z"
      },
      {
        "duration": 6,
        "start_time": "2022-03-07T12:37:14.563Z"
      },
      {
        "duration": 1318,
        "start_time": "2022-03-07T12:37:15.551Z"
      },
      {
        "duration": 1309,
        "start_time": "2022-03-07T12:37:16.873Z"
      },
      {
        "duration": 1305,
        "start_time": "2022-03-07T12:37:19.564Z"
      },
      {
        "duration": 255,
        "start_time": "2022-03-07T13:03:28.728Z"
      },
      {
        "duration": 7,
        "start_time": "2022-03-07T13:05:07.153Z"
      },
      {
        "duration": 435,
        "start_time": "2022-03-07T13:05:08.253Z"
      },
      {
        "duration": 61,
        "start_time": "2022-03-07T13:05:26.979Z"
      },
      {
        "duration": 6,
        "start_time": "2022-03-07T13:05:41.388Z"
      },
      {
        "duration": 388,
        "start_time": "2022-03-07T13:05:45.150Z"
      },
      {
        "duration": 10,
        "start_time": "2022-03-07T13:05:53.725Z"
      },
      {
        "duration": 548,
        "start_time": "2022-03-07T13:05:54.977Z"
      },
      {
        "duration": 7,
        "start_time": "2022-03-07T13:06:31.470Z"
      },
      {
        "duration": 392,
        "start_time": "2022-03-07T13:06:32.952Z"
      },
      {
        "duration": 7,
        "start_time": "2022-03-07T13:06:39.484Z"
      },
      {
        "duration": 397,
        "start_time": "2022-03-07T13:06:40.260Z"
      },
      {
        "duration": 7,
        "start_time": "2022-03-07T13:06:52.230Z"
      },
      {
        "duration": 1292,
        "start_time": "2022-03-07T13:06:53.310Z"
      },
      {
        "duration": 463,
        "start_time": "2022-03-07T13:07:12.532Z"
      },
      {
        "duration": 6,
        "start_time": "2022-03-07T13:08:43.614Z"
      },
      {
        "duration": 1682,
        "start_time": "2022-03-07T13:08:44.877Z"
      },
      {
        "duration": 8,
        "start_time": "2022-03-07T13:09:05.975Z"
      },
      {
        "duration": 1447,
        "start_time": "2022-03-07T13:09:07.480Z"
      },
      {
        "duration": 6,
        "start_time": "2022-03-07T13:09:18.285Z"
      },
      {
        "duration": 1335,
        "start_time": "2022-03-07T13:09:19.405Z"
      },
      {
        "duration": 474,
        "start_time": "2022-03-07T13:09:22.292Z"
      },
      {
        "duration": 5,
        "start_time": "2022-03-07T13:18:23.985Z"
      },
      {
        "duration": 244,
        "start_time": "2022-03-07T13:18:24.737Z"
      },
      {
        "duration": -890,
        "start_time": "2022-03-07T13:18:25.873Z"
      },
      {
        "duration": 8,
        "start_time": "2022-03-07T13:18:32.651Z"
      },
      {
        "duration": 4,
        "start_time": "2022-03-07T13:19:16.680Z"
      },
      {
        "duration": 485,
        "start_time": "2022-03-07T13:19:17.998Z"
      },
      {
        "duration": 5,
        "start_time": "2022-03-07T13:19:52.491Z"
      },
      {
        "duration": 9,
        "start_time": "2022-03-07T13:19:53.471Z"
      },
      {
        "duration": 10,
        "start_time": "2022-03-07T13:19:53.520Z"
      },
      {
        "duration": 273,
        "start_time": "2022-03-07T13:20:03.449Z"
      },
      {
        "duration": 7,
        "start_time": "2022-03-07T13:20:24.786Z"
      },
      {
        "duration": 202,
        "start_time": "2022-03-07T13:20:25.545Z"
      },
      {
        "duration": -900,
        "start_time": "2022-03-07T13:20:26.649Z"
      },
      {
        "duration": 5,
        "start_time": "2022-03-07T13:20:42.338Z"
      },
      {
        "duration": 425,
        "start_time": "2022-03-07T13:20:43.414Z"
      },
      {
        "duration": 465,
        "start_time": "2022-03-07T13:21:00.213Z"
      },
      {
        "duration": 1529,
        "start_time": "2022-03-08T09:42:38.679Z"
      },
      {
        "duration": 465,
        "start_time": "2022-03-08T09:42:41.812Z"
      },
      {
        "duration": 46,
        "start_time": "2022-03-08T09:42:43.600Z"
      },
      {
        "duration": 21,
        "start_time": "2022-03-08T09:42:46.006Z"
      },
      {
        "duration": 15,
        "start_time": "2022-03-08T09:42:49.411Z"
      },
      {
        "duration": 41,
        "start_time": "2022-03-08T09:42:54.209Z"
      },
      {
        "duration": 19,
        "start_time": "2022-03-08T09:42:56.067Z"
      },
      {
        "duration": 55,
        "start_time": "2022-03-08T09:42:57.268Z"
      },
      {
        "duration": 73,
        "start_time": "2022-03-08T09:43:05.610Z"
      },
      {
        "duration": 64,
        "start_time": "2022-03-08T09:43:07.013Z"
      },
      {
        "duration": 29,
        "start_time": "2022-03-08T09:43:09.138Z"
      },
      {
        "duration": 5,
        "start_time": "2022-03-08T09:43:13.364Z"
      },
      {
        "duration": 8,
        "start_time": "2022-03-08T09:43:14.824Z"
      },
      {
        "duration": 5,
        "start_time": "2022-03-08T09:43:18.480Z"
      },
      {
        "duration": 749,
        "start_time": "2022-03-08T09:43:20.530Z"
      },
      {
        "duration": 4,
        "start_time": "2022-03-08T09:43:34.591Z"
      },
      {
        "duration": 8,
        "start_time": "2022-03-08T09:43:38.634Z"
      },
      {
        "duration": 11,
        "start_time": "2022-03-08T09:43:40.240Z"
      },
      {
        "duration": 9,
        "start_time": "2022-03-08T09:43:41.101Z"
      },
      {
        "duration": 8,
        "start_time": "2022-03-08T09:43:46.411Z"
      },
      {
        "duration": 1728,
        "start_time": "2022-03-08T09:43:49.069Z"
      },
      {
        "duration": 6,
        "start_time": "2022-03-08T09:44:47.915Z"
      },
      {
        "duration": 1313,
        "start_time": "2022-03-08T09:44:50.231Z"
      },
      {
        "duration": 1348,
        "start_time": "2022-03-08T09:44:53.352Z"
      },
      {
        "duration": 1356,
        "start_time": "2022-03-08T09:44:56.744Z"
      },
      {
        "duration": 10,
        "start_time": "2022-03-08T09:51:20.331Z"
      },
      {
        "duration": 10,
        "start_time": "2022-03-08T09:52:14.679Z"
      },
      {
        "duration": 9,
        "start_time": "2022-03-08T09:52:22.842Z"
      },
      {
        "duration": 9,
        "start_time": "2022-03-08T10:32:30.175Z"
      },
      {
        "duration": 1495,
        "start_time": "2022-03-08T10:32:31.313Z"
      },
      {
        "duration": 1453,
        "start_time": "2022-03-08T10:32:35.342Z"
      },
      {
        "duration": 1977,
        "start_time": "2022-03-08T10:32:39.406Z"
      },
      {
        "duration": 302,
        "start_time": "2022-03-08T10:33:19.164Z"
      },
      {
        "duration": 329,
        "start_time": "2022-03-08T10:33:37.010Z"
      },
      {
        "duration": 7,
        "start_time": "2022-03-08T10:33:56.787Z"
      },
      {
        "duration": 1490,
        "start_time": "2022-03-08T10:33:57.858Z"
      },
      {
        "duration": 1397,
        "start_time": "2022-03-08T10:34:21.305Z"
      },
      {
        "duration": 1404,
        "start_time": "2022-03-08T10:34:32.490Z"
      },
      {
        "duration": 367,
        "start_time": "2022-03-08T10:42:53.930Z"
      },
      {
        "duration": 4,
        "start_time": "2022-03-08T10:43:04.341Z"
      },
      {
        "duration": 16,
        "start_time": "2022-03-08T10:43:06.418Z"
      },
      {
        "duration": 13,
        "start_time": "2022-03-08T10:43:18.656Z"
      },
      {
        "duration": 13,
        "start_time": "2022-03-08T10:43:39.469Z"
      },
      {
        "duration": 16,
        "start_time": "2022-03-08T10:43:57.720Z"
      },
      {
        "duration": 7,
        "start_time": "2022-03-08T10:44:02.187Z"
      },
      {
        "duration": 625,
        "start_time": "2022-03-08T10:44:04.639Z"
      },
      {
        "duration": 8,
        "start_time": "2022-03-08T10:44:34.280Z"
      },
      {
        "duration": 4656,
        "start_time": "2022-03-08T10:44:35.566Z"
      },
      {
        "duration": 4106,
        "start_time": "2022-03-08T10:44:53.193Z"
      },
      {
        "duration": 4192,
        "start_time": "2022-03-08T10:45:03.244Z"
      },
      {
        "duration": 5,
        "start_time": "2022-03-08T10:55:34.969Z"
      },
      {
        "duration": 13,
        "start_time": "2022-03-08T10:55:35.983Z"
      },
      {
        "duration": 13,
        "start_time": "2022-03-08T10:55:37.007Z"
      },
      {
        "duration": 17,
        "start_time": "2022-03-08T10:55:38.254Z"
      },
      {
        "duration": 11,
        "start_time": "2022-03-08T10:55:43.849Z"
      },
      {
        "duration": 5922,
        "start_time": "2022-03-08T10:55:44.901Z"
      },
      {
        "duration": 4556,
        "start_time": "2022-03-08T10:55:54.922Z"
      },
      {
        "duration": 4492,
        "start_time": "2022-03-08T10:56:02.973Z"
      },
      {
        "duration": 5,
        "start_time": "2022-03-08T10:58:09.003Z"
      },
      {
        "duration": 14,
        "start_time": "2022-03-08T10:58:09.859Z"
      },
      {
        "duration": 14,
        "start_time": "2022-03-08T10:58:18.418Z"
      },
      {
        "duration": 13,
        "start_time": "2022-03-08T10:58:19.513Z"
      },
      {
        "duration": 8,
        "start_time": "2022-03-08T10:58:32.986Z"
      },
      {
        "duration": 4604,
        "start_time": "2022-03-08T10:58:33.737Z"
      },
      {
        "duration": 6,
        "start_time": "2022-03-08T11:03:20.062Z"
      },
      {
        "duration": 6,
        "start_time": "2022-03-08T11:05:32.277Z"
      },
      {
        "duration": 14,
        "start_time": "2022-03-08T11:05:33.646Z"
      },
      {
        "duration": 14,
        "start_time": "2022-03-08T11:05:40.935Z"
      },
      {
        "duration": 1511,
        "start_time": "2022-03-08T11:07:08.312Z"
      },
      {
        "duration": 4,
        "start_time": "2022-03-08T11:07:20.888Z"
      },
      {
        "duration": 1368,
        "start_time": "2022-03-08T11:07:28.625Z"
      },
      {
        "duration": 475,
        "start_time": "2022-03-08T11:07:30.786Z"
      },
      {
        "duration": 53,
        "start_time": "2022-03-08T11:07:32.603Z"
      },
      {
        "duration": 24,
        "start_time": "2022-03-08T11:07:36.586Z"
      },
      {
        "duration": 55,
        "start_time": "2022-03-08T11:07:45.894Z"
      },
      {
        "duration": 19,
        "start_time": "2022-03-08T11:07:49.590Z"
      },
      {
        "duration": 58,
        "start_time": "2022-03-08T11:07:55.135Z"
      },
      {
        "duration": 107,
        "start_time": "2022-03-08T11:08:00.269Z"
      },
      {
        "duration": 23,
        "start_time": "2022-03-08T11:08:03.269Z"
      },
      {
        "duration": 18,
        "start_time": "2022-03-08T11:08:04.821Z"
      },
      {
        "duration": 6,
        "start_time": "2022-03-08T11:08:09.111Z"
      },
      {
        "duration": 9,
        "start_time": "2022-03-08T11:08:11.820Z"
      },
      {
        "duration": 4,
        "start_time": "2022-03-08T11:08:16.273Z"
      },
      {
        "duration": 15,
        "start_time": "2022-03-08T11:08:27.735Z"
      },
      {
        "duration": 16,
        "start_time": "2022-03-08T11:10:19.870Z"
      },
      {
        "duration": 16,
        "start_time": "2022-03-08T11:10:23.214Z"
      },
      {
        "duration": 8,
        "start_time": "2022-03-08T11:10:26.559Z"
      },
      {
        "duration": 4448,
        "start_time": "2022-03-08T11:10:27.720Z"
      },
      {
        "duration": 4887,
        "start_time": "2022-03-08T11:10:35.421Z"
      },
      {
        "duration": 4577,
        "start_time": "2022-03-08T11:10:42.588Z"
      },
      {
        "duration": 4,
        "start_time": "2022-03-08T11:11:31.212Z"
      },
      {
        "duration": 27,
        "start_time": "2022-03-08T11:11:31.981Z"
      },
      {
        "duration": 26,
        "start_time": "2022-03-08T11:11:35.207Z"
      },
      {
        "duration": 24,
        "start_time": "2022-03-08T11:11:36.019Z"
      },
      {
        "duration": 5,
        "start_time": "2022-03-08T11:11:43.687Z"
      },
      {
        "duration": 14,
        "start_time": "2022-03-08T11:11:44.392Z"
      },
      {
        "duration": 13,
        "start_time": "2022-03-08T11:11:45.291Z"
      },
      {
        "duration": 13,
        "start_time": "2022-03-08T11:11:45.999Z"
      },
      {
        "duration": 8,
        "start_time": "2022-03-08T11:14:32.522Z"
      },
      {
        "duration": 738,
        "start_time": "2022-03-08T11:14:34.162Z"
      },
      {
        "duration": 8,
        "start_time": "2022-03-08T11:15:02.554Z"
      },
      {
        "duration": 999,
        "start_time": "2022-03-08T11:15:03.966Z"
      },
      {
        "duration": 7,
        "start_time": "2022-03-08T11:15:23.062Z"
      },
      {
        "duration": 4651,
        "start_time": "2022-03-08T11:15:24.087Z"
      },
      {
        "duration": 9,
        "start_time": "2022-03-08T11:16:33.392Z"
      },
      {
        "duration": 4646,
        "start_time": "2022-03-08T11:16:34.177Z"
      },
      {
        "duration": 5,
        "start_time": "2022-03-08T11:17:12.302Z"
      },
      {
        "duration": 18,
        "start_time": "2022-03-08T11:17:13.082Z"
      },
      {
        "duration": 13,
        "start_time": "2022-03-08T11:17:14.142Z"
      },
      {
        "duration": 25,
        "start_time": "2022-03-08T11:17:34.078Z"
      },
      {
        "duration": 18,
        "start_time": "2022-03-08T11:17:35.388Z"
      },
      {
        "duration": 20,
        "start_time": "2022-03-08T11:17:39.993Z"
      },
      {
        "duration": 5,
        "start_time": "2022-03-08T11:17:55.151Z"
      },
      {
        "duration": 8,
        "start_time": "2022-03-08T11:17:56.225Z"
      },
      {
        "duration": 6,
        "start_time": "2022-03-08T11:17:59.372Z"
      },
      {
        "duration": 13,
        "start_time": "2022-03-08T11:18:00.798Z"
      },
      {
        "duration": 13,
        "start_time": "2022-03-08T11:18:03.700Z"
      },
      {
        "duration": 13,
        "start_time": "2022-03-08T11:18:04.729Z"
      },
      {
        "duration": 7,
        "start_time": "2022-03-08T11:18:08.089Z"
      },
      {
        "duration": 4569,
        "start_time": "2022-03-08T11:18:09.482Z"
      },
      {
        "duration": 4449,
        "start_time": "2022-03-08T11:18:17.944Z"
      },
      {
        "duration": 1386,
        "start_time": "2022-03-08T11:24:28.356Z"
      },
      {
        "duration": 465,
        "start_time": "2022-03-08T11:24:30.680Z"
      },
      {
        "duration": 50,
        "start_time": "2022-03-08T11:24:31.540Z"
      },
      {
        "duration": 23,
        "start_time": "2022-03-08T11:24:35.242Z"
      },
      {
        "duration": 39,
        "start_time": "2022-03-08T11:24:39.987Z"
      },
      {
        "duration": 19,
        "start_time": "2022-03-08T11:24:41.399Z"
      },
      {
        "duration": 55,
        "start_time": "2022-03-08T11:24:46.496Z"
      },
      {
        "duration": 20,
        "start_time": "2022-03-08T11:24:53.938Z"
      },
      {
        "duration": 20,
        "start_time": "2022-03-08T11:25:02.400Z"
      },
      {
        "duration": 18,
        "start_time": "2022-03-08T11:25:14.594Z"
      },
      {
        "duration": 5,
        "start_time": "2022-03-08T11:25:20.298Z"
      },
      {
        "duration": 9,
        "start_time": "2022-03-08T11:25:21.765Z"
      },
      {
        "duration": 4,
        "start_time": "2022-03-08T11:25:52.304Z"
      },
      {
        "duration": 13,
        "start_time": "2022-03-08T11:26:28.869Z"
      },
      {
        "duration": 14,
        "start_time": "2022-03-08T11:26:31.541Z"
      },
      {
        "duration": 13,
        "start_time": "2022-03-08T11:26:32.426Z"
      },
      {
        "duration": 8,
        "start_time": "2022-03-08T11:26:39.126Z"
      },
      {
        "duration": 4571,
        "start_time": "2022-03-08T11:26:41.993Z"
      },
      {
        "duration": 744,
        "start_time": "2022-03-08T11:27:23.327Z"
      },
      {
        "duration": 585,
        "start_time": "2022-03-08T11:27:35.332Z"
      },
      {
        "duration": 7,
        "start_time": "2022-03-08T11:28:01.103Z"
      },
      {
        "duration": 4178,
        "start_time": "2022-03-08T11:28:02.177Z"
      },
      {
        "duration": 4137,
        "start_time": "2022-03-08T11:28:15.127Z"
      },
      {
        "duration": 522,
        "start_time": "2022-03-08T11:30:18.648Z"
      },
      {
        "duration": 501,
        "start_time": "2022-03-08T11:30:40.897Z"
      },
      {
        "duration": 132,
        "start_time": "2022-03-08T11:31:03.777Z"
      },
      {
        "duration": 101,
        "start_time": "2022-03-08T11:31:09.693Z"
      },
      {
        "duration": 7,
        "start_time": "2022-03-08T11:31:39.827Z"
      },
      {
        "duration": 4189,
        "start_time": "2022-03-08T11:31:42.809Z"
      },
      {
        "duration": 8,
        "start_time": "2022-03-08T11:33:50.477Z"
      },
      {
        "duration": 4244,
        "start_time": "2022-03-08T11:33:52.269Z"
      },
      {
        "duration": 4189,
        "start_time": "2022-03-08T11:34:01.385Z"
      },
      {
        "duration": 1383,
        "start_time": "2022-03-08T11:40:11.218Z"
      },
      {
        "duration": 478,
        "start_time": "2022-03-08T11:40:14.017Z"
      },
      {
        "duration": 51,
        "start_time": "2022-03-08T11:40:14.497Z"
      },
      {
        "duration": 24,
        "start_time": "2022-03-08T11:40:19.007Z"
      },
      {
        "duration": 39,
        "start_time": "2022-03-08T11:40:21.353Z"
      },
      {
        "duration": 19,
        "start_time": "2022-03-08T11:40:23.508Z"
      },
      {
        "duration": 53,
        "start_time": "2022-03-08T11:40:25.693Z"
      },
      {
        "duration": 23,
        "start_time": "2022-03-08T11:40:28.994Z"
      },
      {
        "duration": 21,
        "start_time": "2022-03-08T11:40:31.594Z"
      },
      {
        "duration": 19,
        "start_time": "2022-03-08T11:40:32.807Z"
      },
      {
        "duration": 6,
        "start_time": "2022-03-08T11:40:35.634Z"
      },
      {
        "duration": 7,
        "start_time": "2022-03-08T11:40:37.752Z"
      },
      {
        "duration": 4,
        "start_time": "2022-03-08T11:40:40.424Z"
      },
      {
        "duration": 14,
        "start_time": "2022-03-08T11:40:45.417Z"
      },
      {
        "duration": 15,
        "start_time": "2022-03-08T11:40:46.634Z"
      },
      {
        "duration": 15,
        "start_time": "2022-03-08T11:40:47.775Z"
      },
      {
        "duration": 5,
        "start_time": "2022-03-08T11:43:37.194Z"
      },
      {
        "duration": 5,
        "start_time": "2022-03-08T11:43:40.185Z"
      },
      {
        "duration": 12,
        "start_time": "2022-03-08T11:43:42.109Z"
      },
      {
        "duration": 13,
        "start_time": "2022-03-08T11:43:42.941Z"
      },
      {
        "duration": 13,
        "start_time": "2022-03-08T11:43:43.724Z"
      },
      {
        "duration": 8,
        "start_time": "2022-03-08T11:43:52.978Z"
      },
      {
        "duration": 4384,
        "start_time": "2022-03-08T11:43:55.132Z"
      },
      {
        "duration": 66,
        "start_time": "2022-03-08T11:50:52.409Z"
      },
      {
        "duration": 21,
        "start_time": "2022-03-08T11:51:07.196Z"
      },
      {
        "duration": 21,
        "start_time": "2022-03-08T11:51:19.514Z"
      },
      {
        "duration": 20,
        "start_time": "2022-03-08T11:51:41.552Z"
      },
      {
        "duration": 21,
        "start_time": "2022-03-08T11:51:50.242Z"
      },
      {
        "duration": 19,
        "start_time": "2022-03-08T11:51:59.296Z"
      },
      {
        "duration": 5,
        "start_time": "2022-03-08T11:52:13.503Z"
      },
      {
        "duration": 12,
        "start_time": "2022-03-08T11:52:14.492Z"
      },
      {
        "duration": 14,
        "start_time": "2022-03-08T11:52:15.331Z"
      },
      {
        "duration": 1452,
        "start_time": "2022-03-08T11:57:28.571Z"
      },
      {
        "duration": 487,
        "start_time": "2022-03-08T11:57:30.740Z"
      },
      {
        "duration": 68,
        "start_time": "2022-03-08T11:57:31.230Z"
      },
      {
        "duration": 24,
        "start_time": "2022-03-08T11:57:34.608Z"
      },
      {
        "duration": 41,
        "start_time": "2022-03-08T11:57:36.816Z"
      },
      {
        "duration": 19,
        "start_time": "2022-03-08T11:57:37.964Z"
      },
      {
        "duration": 11,
        "start_time": "2022-03-08T11:58:05.681Z"
      },
      {
        "duration": 58,
        "start_time": "2022-03-08T11:58:19.827Z"
      },
      {
        "duration": 65,
        "start_time": "2022-03-08T11:58:22.512Z"
      },
      {
        "duration": 201,
        "start_time": "2022-03-08T11:58:22.582Z"
      },
      {
        "duration": 24,
        "start_time": "2022-03-08T11:58:26.071Z"
      },
      {
        "duration": 5,
        "start_time": "2022-03-08T11:58:28.680Z"
      },
      {
        "duration": 8,
        "start_time": "2022-03-08T11:58:30.498Z"
      },
      {
        "duration": 5,
        "start_time": "2022-03-08T11:58:33.454Z"
      },
      {
        "duration": 16,
        "start_time": "2022-03-08T11:58:34.394Z"
      },
      {
        "duration": 14,
        "start_time": "2022-03-08T11:58:37.061Z"
      },
      {
        "duration": 14,
        "start_time": "2022-03-08T11:58:37.078Z"
      },
      {
        "duration": 8,
        "start_time": "2022-03-08T11:58:40.407Z"
      },
      {
        "duration": 4263,
        "start_time": "2022-03-08T11:58:42.758Z"
      },
      {
        "duration": 4158,
        "start_time": "2022-03-08T11:58:50.847Z"
      },
      {
        "duration": 6517,
        "start_time": "2022-03-08T11:59:00.886Z"
      },
      {
        "duration": 7,
        "start_time": "2022-03-08T12:04:13.007Z"
      },
      {
        "duration": 4375,
        "start_time": "2022-03-08T12:04:13.985Z"
      },
      {
        "duration": 5,
        "start_time": "2022-03-08T12:04:56.573Z"
      },
      {
        "duration": 12,
        "start_time": "2022-03-08T12:04:57.479Z"
      },
      {
        "duration": 9,
        "start_time": "2022-03-08T12:11:09.451Z"
      },
      {
        "duration": 4213,
        "start_time": "2022-03-08T12:11:10.476Z"
      },
      {
        "duration": 8,
        "start_time": "2022-03-08T12:11:23.923Z"
      },
      {
        "duration": 4,
        "start_time": "2022-03-08T12:15:54.381Z"
      },
      {
        "duration": 13,
        "start_time": "2022-03-08T12:15:55.167Z"
      },
      {
        "duration": 13,
        "start_time": "2022-03-08T12:15:56.128Z"
      },
      {
        "duration": 13,
        "start_time": "2022-03-08T12:15:56.910Z"
      },
      {
        "duration": 5,
        "start_time": "2022-03-08T12:17:02.094Z"
      },
      {
        "duration": 13,
        "start_time": "2022-03-08T12:17:02.133Z"
      },
      {
        "duration": 14,
        "start_time": "2022-03-08T12:17:03.878Z"
      },
      {
        "duration": 14,
        "start_time": "2022-03-08T12:17:04.706Z"
      },
      {
        "duration": 8,
        "start_time": "2022-03-08T12:17:08.765Z"
      },
      {
        "duration": 4326,
        "start_time": "2022-03-08T12:17:11.243Z"
      },
      {
        "duration": 4407,
        "start_time": "2022-03-08T12:17:19.534Z"
      },
      {
        "duration": 5,
        "start_time": "2022-03-08T12:17:33.036Z"
      },
      {
        "duration": 12,
        "start_time": "2022-03-08T12:17:33.830Z"
      },
      {
        "duration": 13,
        "start_time": "2022-03-08T12:17:34.745Z"
      },
      {
        "duration": 13,
        "start_time": "2022-03-08T12:17:36.594Z"
      },
      {
        "duration": 7,
        "start_time": "2022-03-08T12:17:39.278Z"
      },
      {
        "duration": 4434,
        "start_time": "2022-03-08T12:17:41.059Z"
      },
      {
        "duration": 5,
        "start_time": "2022-03-08T12:18:06.721Z"
      },
      {
        "duration": 12,
        "start_time": "2022-03-08T12:18:07.409Z"
      },
      {
        "duration": 12,
        "start_time": "2022-03-08T12:18:08.118Z"
      },
      {
        "duration": 13,
        "start_time": "2022-03-08T12:18:08.718Z"
      },
      {
        "duration": 8,
        "start_time": "2022-03-08T12:18:11.065Z"
      },
      {
        "duration": 4959,
        "start_time": "2022-03-08T12:18:12.197Z"
      },
      {
        "duration": 5,
        "start_time": "2022-03-08T12:18:37.091Z"
      },
      {
        "duration": 14,
        "start_time": "2022-03-08T12:18:37.651Z"
      },
      {
        "duration": 14,
        "start_time": "2022-03-08T12:18:38.657Z"
      },
      {
        "duration": 14,
        "start_time": "2022-03-08T12:18:40.268Z"
      },
      {
        "duration": 1439,
        "start_time": "2022-03-08T12:20:56.873Z"
      },
      {
        "duration": 509,
        "start_time": "2022-03-08T12:21:00.731Z"
      },
      {
        "duration": 67,
        "start_time": "2022-03-08T12:21:01.243Z"
      },
      {
        "duration": 24,
        "start_time": "2022-03-08T12:21:06.684Z"
      },
      {
        "duration": 53,
        "start_time": "2022-03-08T12:21:10.479Z"
      },
      {
        "duration": 25,
        "start_time": "2022-03-08T12:21:13.972Z"
      },
      {
        "duration": 12,
        "start_time": "2022-03-08T12:21:15.261Z"
      },
      {
        "duration": 74,
        "start_time": "2022-03-08T12:21:28.664Z"
      },
      {
        "duration": 25,
        "start_time": "2022-03-08T12:21:44.226Z"
      },
      {
        "duration": 21,
        "start_time": "2022-03-08T12:21:45.480Z"
      },
      {
        "duration": 24,
        "start_time": "2022-03-08T12:21:46.808Z"
      },
      {
        "duration": 5,
        "start_time": "2022-03-08T12:21:49.316Z"
      },
      {
        "duration": 8,
        "start_time": "2022-03-08T12:21:50.480Z"
      },
      {
        "duration": 5,
        "start_time": "2022-03-08T12:21:53.298Z"
      },
      {
        "duration": 16,
        "start_time": "2022-03-08T12:21:54.402Z"
      },
      {
        "duration": 13,
        "start_time": "2022-03-08T12:21:54.441Z"
      },
      {
        "duration": 13,
        "start_time": "2022-03-08T12:21:55.350Z"
      },
      {
        "duration": 1776,
        "start_time": "2022-03-08T12:22:05.855Z"
      },
      {
        "duration": 699,
        "start_time": "2022-03-08T12:22:09.214Z"
      },
      {
        "duration": 65,
        "start_time": "2022-03-08T12:22:10.104Z"
      },
      {
        "duration": 32,
        "start_time": "2022-03-08T12:22:12.952Z"
      },
      {
        "duration": 38,
        "start_time": "2022-03-08T12:22:14.969Z"
      },
      {
        "duration": 20,
        "start_time": "2022-03-08T12:22:16.715Z"
      },
      {
        "duration": 9,
        "start_time": "2022-03-08T12:22:17.423Z"
      },
      {
        "duration": 52,
        "start_time": "2022-03-08T12:22:20.728Z"
      },
      {
        "duration": 37,
        "start_time": "2022-03-08T12:22:23.739Z"
      },
      {
        "duration": 22,
        "start_time": "2022-03-08T12:22:25.847Z"
      },
      {
        "duration": 5,
        "start_time": "2022-03-08T12:22:28.369Z"
      },
      {
        "duration": 9,
        "start_time": "2022-03-08T12:22:29.145Z"
      },
      {
        "duration": 5,
        "start_time": "2022-03-08T12:22:32.162Z"
      },
      {
        "duration": 14,
        "start_time": "2022-03-08T12:22:33.128Z"
      },
      {
        "duration": 15,
        "start_time": "2022-03-08T12:22:35.079Z"
      },
      {
        "duration": 16,
        "start_time": "2022-03-08T12:22:36.980Z"
      },
      {
        "duration": 8,
        "start_time": "2022-03-08T12:22:39.737Z"
      },
      {
        "duration": 4379,
        "start_time": "2022-03-08T12:22:41.787Z"
      },
      {
        "duration": 4282,
        "start_time": "2022-03-08T12:22:49.243Z"
      },
      {
        "duration": 5,
        "start_time": "2022-03-08T12:28:00.556Z"
      },
      {
        "duration": 14,
        "start_time": "2022-03-08T12:28:01.309Z"
      },
      {
        "duration": 15,
        "start_time": "2022-03-08T12:28:01.352Z"
      },
      {
        "duration": 6,
        "start_time": "2022-03-08T12:28:11.705Z"
      },
      {
        "duration": 15,
        "start_time": "2022-03-08T12:28:12.379Z"
      },
      {
        "duration": 5,
        "start_time": "2022-03-08T12:28:23.886Z"
      },
      {
        "duration": 15,
        "start_time": "2022-03-08T12:28:24.906Z"
      },
      {
        "duration": 5,
        "start_time": "2022-03-08T12:28:37.511Z"
      },
      {
        "duration": 835,
        "start_time": "2022-03-08T12:28:38.107Z"
      },
      {
        "duration": 5,
        "start_time": "2022-03-08T12:28:46.946Z"
      },
      {
        "duration": 32,
        "start_time": "2022-03-08T12:28:47.465Z"
      },
      {
        "duration": 4,
        "start_time": "2022-03-08T12:28:59.801Z"
      },
      {
        "duration": 608,
        "start_time": "2022-03-08T12:29:00.941Z"
      },
      {
        "duration": 5,
        "start_time": "2022-03-08T12:29:15.291Z"
      },
      {
        "duration": 30,
        "start_time": "2022-03-08T12:29:16.144Z"
      },
      {
        "duration": 5,
        "start_time": "2022-03-08T12:29:38.664Z"
      },
      {
        "duration": 14,
        "start_time": "2022-03-08T12:29:39.192Z"
      },
      {
        "duration": 5,
        "start_time": "2022-03-08T12:30:00.581Z"
      },
      {
        "duration": 14,
        "start_time": "2022-03-08T12:30:01.566Z"
      },
      {
        "duration": 13,
        "start_time": "2022-03-08T12:30:08.510Z"
      },
      {
        "duration": 13,
        "start_time": "2022-03-08T12:30:11.920Z"
      },
      {
        "duration": 7,
        "start_time": "2022-03-08T12:30:15.062Z"
      },
      {
        "duration": 5333,
        "start_time": "2022-03-08T12:30:17.174Z"
      },
      {
        "duration": 5,
        "start_time": "2022-03-08T12:30:35.765Z"
      },
      {
        "duration": 11,
        "start_time": "2022-03-08T12:30:37.195Z"
      },
      {
        "duration": 14,
        "start_time": "2022-03-08T12:30:38.196Z"
      },
      {
        "duration": 15,
        "start_time": "2022-03-08T12:30:39.992Z"
      },
      {
        "duration": 9,
        "start_time": "2022-03-08T12:30:42.619Z"
      },
      {
        "duration": 5121,
        "start_time": "2022-03-08T12:30:44.186Z"
      },
      {
        "duration": 5119,
        "start_time": "2022-03-08T12:30:52.156Z"
      },
      {
        "duration": 5,
        "start_time": "2022-03-08T12:35:55.723Z"
      },
      {
        "duration": 608,
        "start_time": "2022-03-08T12:35:56.453Z"
      },
      {
        "duration": 6,
        "start_time": "2022-03-08T12:36:14.917Z"
      },
      {
        "duration": 11,
        "start_time": "2022-03-08T12:36:15.544Z"
      },
      {
        "duration": 11,
        "start_time": "2022-03-08T12:36:17.802Z"
      },
      {
        "duration": 12,
        "start_time": "2022-03-08T12:36:18.768Z"
      },
      {
        "duration": 8,
        "start_time": "2022-03-08T12:36:25.367Z"
      },
      {
        "duration": 5094,
        "start_time": "2022-03-08T12:36:28.599Z"
      },
      {
        "duration": 3873,
        "start_time": "2022-03-08T12:36:38.628Z"
      },
      {
        "duration": 5,
        "start_time": "2022-03-08T12:41:56.503Z"
      },
      {
        "duration": 12,
        "start_time": "2022-03-08T12:41:57.327Z"
      },
      {
        "duration": 12,
        "start_time": "2022-03-08T12:41:58.739Z"
      },
      {
        "duration": 14,
        "start_time": "2022-03-08T12:42:00.991Z"
      },
      {
        "duration": 8,
        "start_time": "2022-03-08T12:42:03.929Z"
      },
      {
        "duration": 3828,
        "start_time": "2022-03-08T12:42:05.946Z"
      },
      {
        "duration": 3748,
        "start_time": "2022-03-08T12:42:13.351Z"
      },
      {
        "duration": 3652,
        "start_time": "2022-03-08T12:42:20.425Z"
      },
      {
        "duration": 1542,
        "start_time": "2022-03-08T12:42:38.733Z"
      },
      {
        "duration": 627,
        "start_time": "2022-03-08T12:42:40.279Z"
      },
      {
        "duration": 85,
        "start_time": "2022-03-08T12:42:40.910Z"
      },
      {
        "duration": 25,
        "start_time": "2022-03-08T12:42:40.999Z"
      },
      {
        "duration": 86,
        "start_time": "2022-03-08T12:42:41.027Z"
      },
      {
        "duration": 24,
        "start_time": "2022-03-08T12:42:41.116Z"
      },
      {
        "duration": 30,
        "start_time": "2022-03-08T12:42:41.143Z"
      },
      {
        "duration": 201,
        "start_time": "2022-03-08T12:42:41.176Z"
      },
      {
        "duration": 98,
        "start_time": "2022-03-08T12:42:41.382Z"
      },
      {
        "duration": 173,
        "start_time": "2022-03-08T12:42:41.501Z"
      },
      {
        "duration": 101,
        "start_time": "2022-03-08T12:42:41.677Z"
      },
      {
        "duration": 19,
        "start_time": "2022-03-08T12:42:41.781Z"
      },
      {
        "duration": 6,
        "start_time": "2022-03-08T12:42:41.803Z"
      },
      {
        "duration": 18,
        "start_time": "2022-03-08T12:42:41.812Z"
      },
      {
        "duration": 41,
        "start_time": "2022-03-08T12:42:41.833Z"
      },
      {
        "duration": 15,
        "start_time": "2022-03-08T12:42:41.877Z"
      },
      {
        "duration": 8,
        "start_time": "2022-03-08T12:42:41.895Z"
      },
      {
        "duration": 3662,
        "start_time": "2022-03-08T12:42:41.906Z"
      },
      {
        "duration": 3545,
        "start_time": "2022-03-08T12:42:45.569Z"
      },
      {
        "duration": 3613,
        "start_time": "2022-03-08T12:42:49.116Z"
      },
      {
        "duration": 1302,
        "start_time": "2022-03-08T19:14:18.543Z"
      },
      {
        "duration": 452,
        "start_time": "2022-03-08T19:14:19.848Z"
      },
      {
        "duration": 46,
        "start_time": "2022-03-08T19:14:20.303Z"
      },
      {
        "duration": 22,
        "start_time": "2022-03-08T19:14:21.824Z"
      },
      {
        "duration": 36,
        "start_time": "2022-03-08T19:14:23.119Z"
      },
      {
        "duration": 26,
        "start_time": "2022-03-08T19:14:23.564Z"
      },
      {
        "duration": 9,
        "start_time": "2022-03-08T19:14:24.053Z"
      },
      {
        "duration": 71,
        "start_time": "2022-03-08T19:15:25.999Z"
      },
      {
        "duration": 68,
        "start_time": "2022-03-08T19:15:29.171Z"
      },
      {
        "duration": 181,
        "start_time": "2022-03-08T19:17:17.407Z"
      },
      {
        "duration": 49,
        "start_time": "2022-03-08T19:17:18.441Z"
      },
      {
        "duration": 18,
        "start_time": "2022-03-08T19:17:19.054Z"
      },
      {
        "duration": 5,
        "start_time": "2022-03-08T19:19:46.253Z"
      },
      {
        "duration": 8,
        "start_time": "2022-03-08T19:19:46.953Z"
      },
      {
        "duration": 4,
        "start_time": "2022-03-08T19:21:28.395Z"
      },
      {
        "duration": 12,
        "start_time": "2022-03-08T19:21:29.686Z"
      },
      {
        "duration": 11,
        "start_time": "2022-03-08T19:21:30.272Z"
      },
      {
        "duration": 12,
        "start_time": "2022-03-08T19:21:30.479Z"
      },
      {
        "duration": 7,
        "start_time": "2022-03-08T19:21:52.364Z"
      },
      {
        "duration": 3545,
        "start_time": "2022-03-08T19:21:52.992Z"
      },
      {
        "duration": 3373,
        "start_time": "2022-03-08T19:21:56.539Z"
      },
      {
        "duration": 3502,
        "start_time": "2022-03-08T19:21:59.915Z"
      },
      {
        "duration": 1273,
        "start_time": "2022-03-09T06:45:25.262Z"
      },
      {
        "duration": 408,
        "start_time": "2022-03-09T06:45:27.323Z"
      },
      {
        "duration": 47,
        "start_time": "2022-03-09T06:45:29.151Z"
      },
      {
        "duration": 493,
        "start_time": "2022-03-09T06:46:27.404Z"
      },
      {
        "duration": 8,
        "start_time": "2022-03-09T06:46:52.452Z"
      },
      {
        "duration": 12,
        "start_time": "2022-03-09T06:47:29.913Z"
      },
      {
        "duration": 20,
        "start_time": "2022-03-09T06:47:58.438Z"
      },
      {
        "duration": 16,
        "start_time": "2022-03-09T06:48:28.746Z"
      },
      {
        "duration": 17,
        "start_time": "2022-03-09T06:48:57.641Z"
      },
      {
        "duration": 28608,
        "start_time": "2022-03-09T06:50:14.893Z"
      },
      {
        "duration": 25471,
        "start_time": "2022-03-09T06:52:23.342Z"
      },
      {
        "duration": 32668,
        "start_time": "2022-03-09T06:52:58.955Z"
      },
      {
        "duration": 29755,
        "start_time": "2022-03-09T06:53:48.858Z"
      },
      {
        "duration": 27142,
        "start_time": "2022-03-09T06:55:02.987Z"
      },
      {
        "duration": 19,
        "start_time": "2022-03-09T07:01:27.048Z"
      },
      {
        "duration": 38,
        "start_time": "2022-03-09T07:01:31.889Z"
      },
      {
        "duration": 19,
        "start_time": "2022-03-09T07:01:32.683Z"
      },
      {
        "duration": 10,
        "start_time": "2022-03-09T07:01:34.512Z"
      },
      {
        "duration": 25,
        "start_time": "2022-03-09T07:03:19.204Z"
      },
      {
        "duration": 20,
        "start_time": "2022-03-09T07:03:20.387Z"
      },
      {
        "duration": 19,
        "start_time": "2022-03-09T07:03:22.798Z"
      },
      {
        "duration": 6,
        "start_time": "2022-03-09T07:03:27.608Z"
      },
      {
        "duration": 8,
        "start_time": "2022-03-09T07:03:30.271Z"
      },
      {
        "duration": 5,
        "start_time": "2022-03-09T07:03:34.970Z"
      },
      {
        "duration": 13,
        "start_time": "2022-03-09T07:03:36.772Z"
      },
      {
        "duration": 11,
        "start_time": "2022-03-09T07:03:37.867Z"
      },
      {
        "duration": 12,
        "start_time": "2022-03-09T07:03:38.608Z"
      },
      {
        "duration": 7,
        "start_time": "2022-03-09T07:03:42.210Z"
      },
      {
        "duration": 3350,
        "start_time": "2022-03-09T07:03:44.266Z"
      },
      {
        "duration": 7,
        "start_time": "2022-03-09T07:04:21.320Z"
      },
      {
        "duration": 3366,
        "start_time": "2022-03-09T07:04:22.270Z"
      },
      {
        "duration": 87,
        "start_time": "2022-03-09T07:05:30.162Z"
      },
      {
        "duration": 108,
        "start_time": "2022-03-09T07:05:40.779Z"
      },
      {
        "duration": 97,
        "start_time": "2022-03-09T07:05:54.397Z"
      },
      {
        "duration": 290,
        "start_time": "2022-03-09T07:06:10.728Z"
      },
      {
        "duration": 3248,
        "start_time": "2022-03-09T07:08:24.420Z"
      },
      {
        "duration": 3380,
        "start_time": "2022-03-09T07:08:44.208Z"
      },
      {
        "duration": 1354,
        "start_time": "2022-03-09T07:09:00.985Z"
      },
      {
        "duration": 452,
        "start_time": "2022-03-09T07:09:02.341Z"
      },
      {
        "duration": 45,
        "start_time": "2022-03-09T07:09:02.796Z"
      },
      {
        "duration": 21,
        "start_time": "2022-03-09T07:09:02.844Z"
      },
      {
        "duration": 17,
        "start_time": "2022-03-09T07:09:02.867Z"
      },
      {
        "duration": 16,
        "start_time": "2022-03-09T07:09:02.886Z"
      },
      {
        "duration": 24929,
        "start_time": "2022-03-09T07:09:02.905Z"
      },
      {
        "duration": 25260,
        "start_time": "2022-03-09T07:09:27.838Z"
      },
      {
        "duration": 25272,
        "start_time": "2022-03-09T07:09:53.101Z"
      },
      {
        "duration": 22,
        "start_time": "2022-03-09T07:10:18.377Z"
      },
      {
        "duration": 57,
        "start_time": "2022-03-09T07:10:18.402Z"
      },
      {
        "duration": 20,
        "start_time": "2022-03-09T07:10:18.462Z"
      },
      {
        "duration": 10,
        "start_time": "2022-03-09T07:10:18.484Z"
      },
      {
        "duration": 60,
        "start_time": "2022-03-09T07:10:18.497Z"
      },
      {
        "duration": 105,
        "start_time": "2022-03-09T07:10:18.560Z"
      },
      {
        "duration": 186,
        "start_time": "2022-03-09T07:10:18.668Z"
      },
      {
        "duration": 96,
        "start_time": "2022-03-09T07:10:18.857Z"
      },
      {
        "duration": 12,
        "start_time": "2022-03-09T07:10:18.955Z"
      },
      {
        "duration": 6,
        "start_time": "2022-03-09T07:10:18.970Z"
      },
      {
        "duration": 14,
        "start_time": "2022-03-09T07:10:18.978Z"
      },
      {
        "duration": 10,
        "start_time": "2022-03-09T07:10:18.994Z"
      },
      {
        "duration": 52,
        "start_time": "2022-03-09T07:10:19.006Z"
      },
      {
        "duration": 10,
        "start_time": "2022-03-09T07:10:19.063Z"
      },
      {
        "duration": 3452,
        "start_time": "2022-03-09T07:10:19.076Z"
      },
      {
        "duration": 3360,
        "start_time": "2022-03-09T07:10:22.531Z"
      },
      {
        "duration": 3362,
        "start_time": "2022-03-09T07:10:25.893Z"
      },
      {
        "duration": 401,
        "start_time": "2022-03-09T07:11:52.704Z"
      },
      {
        "duration": 9,
        "start_time": "2022-03-09T07:12:09.027Z"
      },
      {
        "duration": 3387,
        "start_time": "2022-03-09T07:12:10.185Z"
      },
      {
        "duration": 8,
        "start_time": "2022-03-09T07:12:22.084Z"
      },
      {
        "duration": 3355,
        "start_time": "2022-03-09T07:12:25.653Z"
      },
      {
        "duration": 8,
        "start_time": "2022-03-09T07:14:03.504Z"
      },
      {
        "duration": 3414,
        "start_time": "2022-03-09T07:14:04.470Z"
      },
      {
        "duration": 7,
        "start_time": "2022-03-09T07:16:08.861Z"
      },
      {
        "duration": 3390,
        "start_time": "2022-03-09T07:16:10.237Z"
      },
      {
        "duration": 9,
        "start_time": "2022-03-09T07:16:27.473Z"
      },
      {
        "duration": 3407,
        "start_time": "2022-03-09T07:16:29.017Z"
      },
      {
        "duration": 3371,
        "start_time": "2022-03-09T07:16:44.516Z"
      },
      {
        "duration": 3395,
        "start_time": "2022-03-09T07:17:07.001Z"
      },
      {
        "duration": 1264,
        "start_time": "2022-03-09T07:17:25.277Z"
      },
      {
        "duration": 419,
        "start_time": "2022-03-09T07:17:26.544Z"
      },
      {
        "duration": 45,
        "start_time": "2022-03-09T07:17:26.967Z"
      },
      {
        "duration": 45,
        "start_time": "2022-03-09T07:17:27.016Z"
      },
      {
        "duration": 15,
        "start_time": "2022-03-09T07:17:27.064Z"
      },
      {
        "duration": 16,
        "start_time": "2022-03-09T07:17:27.081Z"
      },
      {
        "duration": 25246,
        "start_time": "2022-03-09T07:17:27.100Z"
      },
      {
        "duration": 25458,
        "start_time": "2022-03-09T07:17:52.352Z"
      },
      {
        "duration": 25758,
        "start_time": "2022-03-09T07:18:17.814Z"
      },
      {
        "duration": 21,
        "start_time": "2022-03-09T07:18:43.575Z"
      },
      {
        "duration": 58,
        "start_time": "2022-03-09T07:18:43.598Z"
      },
      {
        "duration": 18,
        "start_time": "2022-03-09T07:18:43.658Z"
      },
      {
        "duration": 13,
        "start_time": "2022-03-09T07:18:43.679Z"
      },
      {
        "duration": 157,
        "start_time": "2022-03-09T07:18:43.694Z"
      },
      {
        "duration": 98,
        "start_time": "2022-03-09T07:18:43.854Z"
      },
      {
        "duration": 113,
        "start_time": "2022-03-09T07:18:43.955Z"
      },
      {
        "duration": 96,
        "start_time": "2022-03-09T07:18:44.158Z"
      },
      {
        "duration": 11,
        "start_time": "2022-03-09T07:18:44.257Z"
      },
      {
        "duration": 4,
        "start_time": "2022-03-09T07:18:44.271Z"
      },
      {
        "duration": 21,
        "start_time": "2022-03-09T07:18:44.278Z"
      },
      {
        "duration": 49,
        "start_time": "2022-03-09T07:18:44.302Z"
      },
      {
        "duration": 14,
        "start_time": "2022-03-09T07:18:44.354Z"
      },
      {
        "duration": 9,
        "start_time": "2022-03-09T07:18:44.371Z"
      },
      {
        "duration": 3589,
        "start_time": "2022-03-09T07:18:44.383Z"
      },
      {
        "duration": 3408,
        "start_time": "2022-03-09T07:18:47.975Z"
      },
      {
        "duration": 3416,
        "start_time": "2022-03-09T07:18:51.386Z"
      }
    ],
    "kernelspec": {
      "display_name": "Python 3 (ipykernel)",
      "language": "python",
      "name": "python3"
    },
    "language_info": {
      "codemirror_mode": {
        "name": "ipython",
        "version": 3
      },
      "file_extension": ".py",
      "mimetype": "text/x-python",
      "name": "python",
      "nbconvert_exporter": "python",
      "pygments_lexer": "ipython3",
      "version": "3.9.5"
    },
    "toc": {
      "base_numbering": 1,
      "nav_menu": {},
      "number_sections": true,
      "sideBar": true,
      "skip_h1_title": true,
      "title_cell": "Table of Contents",
      "title_sidebar": "Contents",
      "toc_cell": false,
      "toc_position": {},
      "toc_section_display": true,
      "toc_window_display": false
    },
    "colab": {
      "name": "Выбор локации для скважины.ipynb",
      "provenance": []
    }
  },
  "nbformat": 4,
  "nbformat_minor": 0
}