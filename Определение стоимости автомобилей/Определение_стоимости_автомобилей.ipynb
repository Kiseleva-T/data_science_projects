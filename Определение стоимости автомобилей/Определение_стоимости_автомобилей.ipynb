{
  "cells": [
    {
      "cell_type": "markdown",
      "metadata": {
        "id": "bo0gJ31v3M-Z"
      },
      "source": [
        "# Определение стоимости автомобилей"
      ]
    },
    {
      "cell_type": "markdown",
      "metadata": {
        "id": "3n4JvL0l3M-f"
      },
      "source": [
        "Сервис по продаже автомобилей с пробегом разрабатывает приложение для привлечения новых клиентов. В нём можно быстро узнать рыночную стоимость своего автомобиля. Имеющиеся данные: технические характеристики, комплектации и цены автомобилей. \n",
        "\n",
        "Задача: построить модель для определения стоимости. \n",
        "\n",
        "Заказчику важны:\n",
        "\n",
        "- качество предсказания;\n",
        "- скорость предсказания;\n",
        "- время обучения."
      ]
    },
    {
      "cell_type": "markdown",
      "metadata": {
        "id": "idVSkoAF3M-g"
      },
      "source": [
        "## Подготовка данных"
      ]
    },
    {
      "cell_type": "markdown",
      "metadata": {
        "id": "N8hHYRIh3M-h"
      },
      "source": [
        "<div class=\"alert alert-info\">Импортируем библиотеки и посмотрим, что у нас есть в данных\n",
        "</div>"
      ]
    },
    {
      "cell_type": "code",
      "execution_count": null,
      "metadata": {
        "id": "6gyV11Us3M-i"
      },
      "outputs": [],
      "source": [
        "import pandas as pd\n",
        "import numpy as np\n",
        "from math import sqrt\n",
        "from sklearn.model_selection import train_test_split\n",
        "from catboost import CatBoostRegressor\n",
        "from sklearn.metrics import mean_squared_error\n",
        "from sklearn.tree import DecisionTreeRegressor\n",
        "from sklearn.preprocessing import StandardScaler \n",
        "from sklearn.ensemble import RandomForestRegressor\n",
        "from sklearn.linear_model import LinearRegression\n",
        "from lightgbm import LGBMRegressor\n",
        "import time\n",
        "from sklearn.preprocessing import OrdinalEncoder\n",
        "import warnings\n",
        "warnings.simplefilter(\"ignore\", UserWarning)"
      ]
    },
    {
      "cell_type": "code",
      "execution_count": null,
      "metadata": {
        "id": "VhDaR9eX3M-j"
      },
      "outputs": [],
      "source": [
        "df = pd.read_csv('/datasets/autos.csv')"
      ]
    },
    {
      "cell_type": "code",
      "execution_count": null,
      "metadata": {
        "id": "2qgAph1K3M-j",
        "outputId": "abcabc57-f333-4810-c1c8-3386c398bbc9"
      },
      "outputs": [
        {
          "name": "stdout",
          "output_type": "stream",
          "text": [
            "<class 'pandas.core.frame.DataFrame'>\n",
            "RangeIndex: 354369 entries, 0 to 354368\n",
            "Data columns (total 16 columns):\n",
            " #   Column             Non-Null Count   Dtype \n",
            "---  ------             --------------   ----- \n",
            " 0   DateCrawled        354369 non-null  object\n",
            " 1   Price              354369 non-null  int64 \n",
            " 2   VehicleType        316879 non-null  object\n",
            " 3   RegistrationYear   354369 non-null  int64 \n",
            " 4   Gearbox            334536 non-null  object\n",
            " 5   Power              354369 non-null  int64 \n",
            " 6   Model              334664 non-null  object\n",
            " 7   Kilometer          354369 non-null  int64 \n",
            " 8   RegistrationMonth  354369 non-null  int64 \n",
            " 9   FuelType           321474 non-null  object\n",
            " 10  Brand              354369 non-null  object\n",
            " 11  NotRepaired        283215 non-null  object\n",
            " 12  DateCreated        354369 non-null  object\n",
            " 13  NumberOfPictures   354369 non-null  int64 \n",
            " 14  PostalCode         354369 non-null  int64 \n",
            " 15  LastSeen           354369 non-null  object\n",
            "dtypes: int64(7), object(9)\n",
            "memory usage: 43.3+ MB\n"
          ]
        }
      ],
      "source": [
        "df.info()"
      ]
    },
    {
      "cell_type": "markdown",
      "metadata": {
        "id": "F6PMvV3U3M-k"
      },
      "source": [
        "<div class=\"alert alert-info\">много пропусков в категориальных данных, тк мы не знаем, что там должно быть, заполним их неизвестным\n",
        "</div>"
      ]
    },
    {
      "cell_type": "code",
      "execution_count": null,
      "metadata": {
        "id": "iJytvXGG3M-l"
      },
      "outputs": [],
      "source": [
        "df = df.fillna('unknown')"
      ]
    },
    {
      "cell_type": "markdown",
      "metadata": {
        "id": "CfNb68_s3M-l"
      },
      "source": [
        "<div class=\"alert alert-info\">посмотрим, есть ли какая-нибудь корреляция\n",
        "</div>"
      ]
    },
    {
      "cell_type": "code",
      "execution_count": null,
      "metadata": {
        "id": "rRe7jkMa3M-l",
        "outputId": "5c54037f-1e31-4bc0-f70a-7c5bdd3ca6d1"
      },
      "outputs": [
        {
          "data": {
            "text/html": [
              "<div>\n",
              "<style scoped>\n",
              "    .dataframe tbody tr th:only-of-type {\n",
              "        vertical-align: middle;\n",
              "    }\n",
              "\n",
              "    .dataframe tbody tr th {\n",
              "        vertical-align: top;\n",
              "    }\n",
              "\n",
              "    .dataframe thead th {\n",
              "        text-align: right;\n",
              "    }\n",
              "</style>\n",
              "<table border=\"1\" class=\"dataframe\">\n",
              "  <thead>\n",
              "    <tr style=\"text-align: right;\">\n",
              "      <th></th>\n",
              "      <th>Price</th>\n",
              "      <th>RegistrationYear</th>\n",
              "      <th>Power</th>\n",
              "      <th>Kilometer</th>\n",
              "      <th>RegistrationMonth</th>\n",
              "      <th>NumberOfPictures</th>\n",
              "      <th>PostalCode</th>\n",
              "    </tr>\n",
              "  </thead>\n",
              "  <tbody>\n",
              "    <tr>\n",
              "      <th>Price</th>\n",
              "      <td>1.000000</td>\n",
              "      <td>0.026916</td>\n",
              "      <td>0.158872</td>\n",
              "      <td>-0.333199</td>\n",
              "      <td>0.110581</td>\n",
              "      <td>NaN</td>\n",
              "      <td>0.076055</td>\n",
              "    </tr>\n",
              "    <tr>\n",
              "      <th>RegistrationYear</th>\n",
              "      <td>0.026916</td>\n",
              "      <td>1.000000</td>\n",
              "      <td>-0.000828</td>\n",
              "      <td>-0.053447</td>\n",
              "      <td>-0.011619</td>\n",
              "      <td>NaN</td>\n",
              "      <td>-0.003459</td>\n",
              "    </tr>\n",
              "    <tr>\n",
              "      <th>Power</th>\n",
              "      <td>0.158872</td>\n",
              "      <td>-0.000828</td>\n",
              "      <td>1.000000</td>\n",
              "      <td>0.024002</td>\n",
              "      <td>0.043380</td>\n",
              "      <td>NaN</td>\n",
              "      <td>0.021665</td>\n",
              "    </tr>\n",
              "    <tr>\n",
              "      <th>Kilometer</th>\n",
              "      <td>-0.333199</td>\n",
              "      <td>-0.053447</td>\n",
              "      <td>0.024002</td>\n",
              "      <td>1.000000</td>\n",
              "      <td>0.009571</td>\n",
              "      <td>NaN</td>\n",
              "      <td>-0.007698</td>\n",
              "    </tr>\n",
              "    <tr>\n",
              "      <th>RegistrationMonth</th>\n",
              "      <td>0.110581</td>\n",
              "      <td>-0.011619</td>\n",
              "      <td>0.043380</td>\n",
              "      <td>0.009571</td>\n",
              "      <td>1.000000</td>\n",
              "      <td>NaN</td>\n",
              "      <td>0.013995</td>\n",
              "    </tr>\n",
              "    <tr>\n",
              "      <th>NumberOfPictures</th>\n",
              "      <td>NaN</td>\n",
              "      <td>NaN</td>\n",
              "      <td>NaN</td>\n",
              "      <td>NaN</td>\n",
              "      <td>NaN</td>\n",
              "      <td>NaN</td>\n",
              "      <td>NaN</td>\n",
              "    </tr>\n",
              "    <tr>\n",
              "      <th>PostalCode</th>\n",
              "      <td>0.076055</td>\n",
              "      <td>-0.003459</td>\n",
              "      <td>0.021665</td>\n",
              "      <td>-0.007698</td>\n",
              "      <td>0.013995</td>\n",
              "      <td>NaN</td>\n",
              "      <td>1.000000</td>\n",
              "    </tr>\n",
              "  </tbody>\n",
              "</table>\n",
              "</div>"
            ],
            "text/plain": [
              "                      Price  RegistrationYear     Power  Kilometer  \\\n",
              "Price              1.000000          0.026916  0.158872  -0.333199   \n",
              "RegistrationYear   0.026916          1.000000 -0.000828  -0.053447   \n",
              "Power              0.158872         -0.000828  1.000000   0.024002   \n",
              "Kilometer         -0.333199         -0.053447  0.024002   1.000000   \n",
              "RegistrationMonth  0.110581         -0.011619  0.043380   0.009571   \n",
              "NumberOfPictures        NaN               NaN       NaN        NaN   \n",
              "PostalCode         0.076055         -0.003459  0.021665  -0.007698   \n",
              "\n",
              "                   RegistrationMonth  NumberOfPictures  PostalCode  \n",
              "Price                       0.110581               NaN    0.076055  \n",
              "RegistrationYear           -0.011619               NaN   -0.003459  \n",
              "Power                       0.043380               NaN    0.021665  \n",
              "Kilometer                   0.009571               NaN   -0.007698  \n",
              "RegistrationMonth           1.000000               NaN    0.013995  \n",
              "NumberOfPictures                 NaN               NaN         NaN  \n",
              "PostalCode                  0.013995               NaN    1.000000  "
            ]
          },
          "execution_count": 5,
          "metadata": {},
          "output_type": "execute_result"
        }
      ],
      "source": [
        "df.corr()"
      ]
    },
    {
      "cell_type": "markdown",
      "metadata": {
        "id": "vdwjLr0p3M-m"
      },
      "source": [
        "<div class=\"alert alert-info\">небольшая прямая корреляция цены и мощности, и непрямая корреляция побольше цены и километража, количество фоток никак не влияет; думаю, можно избавиться от следующих столбцов:\n",
        "</div>"
      ]
    },
    {
      "cell_type": "code",
      "execution_count": null,
      "metadata": {
        "id": "Rih7rVdt3M-m"
      },
      "outputs": [],
      "source": [
        "df = df.drop(['RegistrationMonth', 'DateCreated', 'LastSeen', 'DateCrawled', 'NumberOfPictures', 'PostalCode'], axis=1)"
      ]
    },
    {
      "cell_type": "code",
      "execution_count": null,
      "metadata": {
        "id": "Uxo-WX8g3M-m",
        "outputId": "5c5404a9-f0cf-4200-8e59-b48e78e268dc"
      },
      "outputs": [
        {
          "name": "stdout",
          "output_type": "stream",
          "text": [
            "<class 'pandas.core.frame.DataFrame'>\n",
            "RangeIndex: 354369 entries, 0 to 354368\n",
            "Data columns (total 10 columns):\n",
            " #   Column            Non-Null Count   Dtype \n",
            "---  ------            --------------   ----- \n",
            " 0   Price             354369 non-null  int64 \n",
            " 1   VehicleType       354369 non-null  object\n",
            " 2   RegistrationYear  354369 non-null  int64 \n",
            " 3   Gearbox           354369 non-null  object\n",
            " 4   Power             354369 non-null  int64 \n",
            " 5   Model             354369 non-null  object\n",
            " 6   Kilometer         354369 non-null  int64 \n",
            " 7   FuelType          354369 non-null  object\n",
            " 8   Brand             354369 non-null  object\n",
            " 9   NotRepaired       354369 non-null  object\n",
            "dtypes: int64(4), object(6)\n",
            "memory usage: 27.0+ MB\n"
          ]
        }
      ],
      "source": [
        "df.info()"
      ]
    },
    {
      "cell_type": "code",
      "execution_count": null,
      "metadata": {
        "id": "zJDMshg63M-n",
        "outputId": "df31a841-3bf2-4d78-b3b6-3505bf5a6f16"
      },
      "outputs": [
        {
          "data": {
            "text/plain": [
              "array([1993, 2011, 2004, 2001, 2008, 1995, 1980, 2014, 1998, 2005, 1910,\n",
              "       2016, 2007, 2009, 2002, 2018, 1997, 1990, 2017, 1981, 2003, 1994,\n",
              "       1991, 1984, 2006, 1999, 2012, 2010, 2000, 1992, 2013, 1996, 1985,\n",
              "       1989, 2015, 1982, 1976, 1983, 1973, 1111, 1969, 1971, 1987, 1986,\n",
              "       1988, 1970, 1965, 1945, 1925, 1974, 1979, 1955, 1978, 1972, 1968,\n",
              "       1977, 1961, 1960, 1966, 1975, 1963, 1964, 5000, 1954, 1958, 1967,\n",
              "       1959, 9999, 1956, 3200, 1000, 1941, 8888, 1500, 2200, 4100, 1962,\n",
              "       1929, 1957, 1940, 3000, 2066, 1949, 2019, 1937, 1951, 1800, 1953,\n",
              "       1234, 8000, 5300, 9000, 2900, 6000, 5900, 5911, 1933, 1400, 1950,\n",
              "       4000, 1948, 1952, 1200, 8500, 1932, 1255, 3700, 3800, 4800, 1942,\n",
              "       7000, 1935, 1936, 6500, 1923, 2290, 2500, 1930, 1001, 9450, 1944,\n",
              "       1943, 1934, 1938, 1688, 2800, 1253, 1928, 1919, 5555, 5600, 1600,\n",
              "       2222, 1039, 9996, 1300, 8455, 1931, 1915, 4500, 1920, 1602, 7800,\n",
              "       9229, 1947, 1927, 7100, 8200, 1946, 7500, 3500])"
            ]
          },
          "execution_count": 8,
          "metadata": {},
          "output_type": "execute_result"
        }
      ],
      "source": [
        "df['RegistrationYear'].unique()"
      ]
    },
    {
      "cell_type": "markdown",
      "metadata": {
        "id": "nEEg86173M-n"
      },
      "source": [
        "<div class=\"alert alert-info\">так как у нас присутствуют очень странные значения, то, думаю, можно ограничиться годами с 1923 по 2022\n",
        "</div>"
      ]
    },
    {
      "cell_type": "code",
      "execution_count": null,
      "metadata": {
        "id": "juqzn6x73M-n"
      },
      "outputs": [],
      "source": [
        "df = df[(df.RegistrationYear<2022)&(df.RegistrationYear>1923)]"
      ]
    },
    {
      "cell_type": "code",
      "execution_count": null,
      "metadata": {
        "id": "YoXrfIgE3M-n",
        "outputId": "6d28885d-c1f3-4cac-aabc-c8f07859639b"
      },
      "outputs": [
        {
          "name": "stdout",
          "output_type": "stream",
          "text": [
            "<class 'pandas.core.frame.DataFrame'>\n",
            "Int64Index: 354092 entries, 0 to 354368\n",
            "Data columns (total 10 columns):\n",
            " #   Column            Non-Null Count   Dtype \n",
            "---  ------            --------------   ----- \n",
            " 0   Price             354092 non-null  int64 \n",
            " 1   VehicleType       354092 non-null  object\n",
            " 2   RegistrationYear  354092 non-null  int64 \n",
            " 3   Gearbox           354092 non-null  object\n",
            " 4   Power             354092 non-null  int64 \n",
            " 5   Model             354092 non-null  object\n",
            " 6   Kilometer         354092 non-null  int64 \n",
            " 7   FuelType          354092 non-null  object\n",
            " 8   Brand             354092 non-null  object\n",
            " 9   NotRepaired       354092 non-null  object\n",
            "dtypes: int64(4), object(6)\n",
            "memory usage: 29.7+ MB\n"
          ]
        }
      ],
      "source": [
        "df.info()"
      ]
    },
    {
      "cell_type": "code",
      "execution_count": null,
      "metadata": {
        "id": "G-dcFxYQ3M-o",
        "outputId": "4846924f-3898-49c0-a049-5a3b362a56ad"
      },
      "outputs": [
        {
          "data": {
            "text/plain": [
              "array([    0,   190,   163,    75,    69,   102,   109,    50,   125,\n",
              "         101,   105,   140,   115,   131,    60,   136,   160,   231,\n",
              "          90,   118,   193,    99,   113,   218,   122,   129,    70,\n",
              "         306,    95,    61,   177,    80,   170,    55,   143,    64,\n",
              "         286,   232,   150,   156,    82,   155,    54,   185,    87,\n",
              "         180,    86,    84,   224,   235,   200,   178,   265,    77,\n",
              "         110,   144,   120,   116,   184,   126,   204,    88,   194,\n",
              "         305,   197,   179,   250,    45,   313,    41,   165,    98,\n",
              "         130,   114,   211,    56,   201,   213,    58,   107,    83,\n",
              "         174,   100,   220,    85,    73,   192,    68,    66,   299,\n",
              "          74,    52,   147,    65,   310,    71,    97,   239,   203,\n",
              "           5,   300,   103,   258,   320,    63,    81,   148,    44,\n",
              "         145,   230,   280,   260,   104,   188,   333,   186,   117,\n",
              "         141,    59,   132,   234,   158,    39,    92,    51,   135,\n",
              "          53,   209,    43,   146,    67,   106,   166,   276,   344,\n",
              "          72,   249,   237,   245,   111,   326,   279,    23,   138,\n",
              "         175,    96,   226,    26,    37,   301,   334,   128,   133,\n",
              "         124,    33,   219,   241,   167,    94,   182,   196,   238,\n",
              "        1398,   228,   112,    48,   272,   139,  1799,    40,   240,\n",
              "          79,   256,   360,   243,   375,   252,   396,   340,   108,\n",
              "         121,   345,   187,   289,   222,   198,   284,   450,   233,\n",
              "         387,   152,   347,   172,    57,   137,   212,   476,   314,\n",
              "          30,     7,    47,   173,   290,   207,   205,   171,   750,\n",
              "          78,    91,    89,   349,   325,    76,   151,   350,   953,\n",
              "          93,   142,   500,   343,   199,   119,   164,    16,   264,\n",
              "         367,   208,   210,    46,   435,  1001,   225,   127,   176,\n",
              "         161,   603,   307,   354,    35,   206,   771,   355,   273,\n",
              "         223,   255,   123,   154,   149,  7515,  1400,   268,   620,\n",
              "         169,   400,   275,    34,     2,   242,  1779,   285,   162,\n",
              "         328,  1753,   329,   134,   420,   247,   168, 10317,   215,\n",
              "          18,   330,   283,    62,    10,   214,   183,   254,    15,\n",
              "         321,   322,   315,   952,   600,   181,   426,   599,   379,\n",
              "         999,    22,   157,    42,   195,   553,     4,   309,   507,\n",
              "         381,   271,   440,   189,   401,  1111,  2729,    21,   236,\n",
              "        1240,  1704,   521,     1,  1900,   270,    24,   159,   292,\n",
              "         808,   515,  1200,   303,    29,    38,  1993,    14,   216,\n",
              "         610,   504,    49,   267,   331,   363,   261,   385,  1011,\n",
              "         253,   696, 10520,   376,   227,   311,    27,   217,    20,\n",
              "        1999,    11,  1056,    25,   394,    12,   298,   296,  1659,\n",
              "         294,   551,  6920,   246,    17,  1625,   368,   390,   221,\n",
              "        1367,   259,   606,   327,  2017,  1597,   266,   374,   392,\n",
              "           9,   405,    13,   262,   601,   430,   295,     8,   411,\n",
              "         900,   541,  7512,   382, 10218,  7544,  1102,   287,    19,\n",
              "         751,   297,  1090,   457,   282,   602,   388,     6,  1000,\n",
              "        5411,   335,  1360,   202,  3750,   805,  1062,  1024, 11530,\n",
              "         364,  1796,   269,   460,  1002,   288,  1780, 12012, 17932,\n",
              "         316,  2005,  1800,  1399,   191,   278,  1300,   380,   257,\n",
              "         449,  1256,   153,  1653,   520,   560,   281, 12510,     3,\n",
              "        1500,   386,    32,  1202,  2016,  1436,  1405,   671,   274,\n",
              "        1288,  1055, 10912, 15016,  6226,  1115,   277,  1105,   341,\n",
              "        1223,  2340,  8404,  1968,   338,   445,  1920,   370,   517,\n",
              "        4400, 10710, 10522,  9010,   431,  1164, 11509,   371,  1501,\n",
              "         428, 11635,    36,   304,   348,  1703,  1910,  1995,   579,\n",
              "       10000,   580,   408,    31,  1005,   358,  1403,   489,  5575,\n",
              "       19211,   585,   960,   365,   353,   490,   352,  1801,   346,\n",
              "         550,  3199,   800,  7508,  1312,   357,  1937,   950,  4700,\n",
              "        1600,  3454, 19208,   251,   850,   337,   700,  8011,  2331,\n",
              "        2789,   487,   519,  2461,  6006,  3500,  5815,  6018,  1781,\n",
              "        1503,   612,  1596,   229,  1506,  5809, 15020,  5867,  2172,\n",
              "        1598, 17410,  1363,   584,  1054,   851,  1339,   318,   510,\n",
              "         525,  1700,    28,  1151,   685,  6011,   317,   703,  1771,\n",
              "       15001,   514,   362,   332,  5000,   324,  6045,   530,   425,\n",
              "         308,  6010,   475,   903,   640,  2000,   248,   651,  2799,\n",
              "       17011,   505,  1103,  1521,   351, 16051,   398,  9000,  1998,\n",
              "       10311,   409,  1230, 17019, 12684,  8259,  1895,   901,  1317,\n",
              "         871,   909,  2201,  1595,   776, 17700, 11011,  1199,   459,\n",
              "        1162,  1120, 15033,  1896,   339,   361,   574,  6512,   454,\n",
              "         650, 13616,   604,   607, 16312,  1082,   336, 20000,   416,\n",
              "         678,  6012,  1401,  1021,  1870, 13636,  1250,  9710,   323,\n",
              "        1158,  2009,   902,  6062,  1275,   572,   244,   399,  1016,\n",
              "         743,  1221,  2402, 16011,  1362,   544,   645,   907,   702,\n",
              "       12512,  1986,  1003,  1432,  9013,  9011,   442,  1017,  1394,\n",
              "       15017, 10910,  1992,   540,  2018, 11025,  1433,  1701,  2792,\n",
              "        1502,  1239,  1390, 14009,  1160,  1351, 11111,  1783,  9007,\n",
              "         923,  1149,   754,  1988,   402,  2004,  5420,  1793,  1324,\n",
              "         356,  7511,  1299,   293, 19312,  1079,  1689,   998,  1100,\n",
              "        9012,  1933,   508, 16311,   682,  1252,  1922,  7529,   732,\n",
              "        2389,  2200,  1707,  1416,  8500,  1012,   485, 10110,   421,\n",
              "        4507,  1631,  7518,   377,  1004,  2007,  2598,  1548,  1241])"
            ]
          },
          "execution_count": 11,
          "metadata": {},
          "output_type": "execute_result"
        }
      ],
      "source": [
        "df.Power.unique()"
      ]
    },
    {
      "cell_type": "code",
      "execution_count": null,
      "metadata": {
        "id": "inFdw4lf3M-p"
      },
      "outputs": [],
      "source": [
        "df.loc[(df.Power < 20) | (df.Power > 2000), 'Power'] = df.groupby('Model')['Power'].transform('median')"
      ]
    },
    {
      "cell_type": "code",
      "execution_count": null,
      "metadata": {
        "id": "ASH_vRIK3M-p",
        "outputId": "5a5256da-1f66-494c-d6f6-c45f87a73ad1"
      },
      "outputs": [
        {
          "name": "stdout",
          "output_type": "stream",
          "text": [
            "<class 'pandas.core.frame.DataFrame'>\n",
            "Int64Index: 354092 entries, 0 to 354368\n",
            "Data columns (total 10 columns):\n",
            " #   Column            Non-Null Count   Dtype  \n",
            "---  ------            --------------   -----  \n",
            " 0   Price             354092 non-null  int64  \n",
            " 1   VehicleType       354092 non-null  object \n",
            " 2   RegistrationYear  354092 non-null  int64  \n",
            " 3   Gearbox           354092 non-null  object \n",
            " 4   Power             354092 non-null  float64\n",
            " 5   Model             354092 non-null  object \n",
            " 6   Kilometer         354092 non-null  int64  \n",
            " 7   FuelType          354092 non-null  object \n",
            " 8   Brand             354092 non-null  object \n",
            " 9   NotRepaired       354092 non-null  object \n",
            "dtypes: float64(1), int64(3), object(6)\n",
            "memory usage: 37.8+ MB\n"
          ]
        }
      ],
      "source": [
        "df.info()"
      ]
    },
    {
      "cell_type": "markdown",
      "metadata": {
        "id": "Ph15h8QD3M-p"
      },
      "source": [
        "<div class=\"alert alert-info\"> оставим все цены больше 100\n",
        "</div>"
      ]
    },
    {
      "cell_type": "code",
      "execution_count": null,
      "metadata": {
        "id": "HS99X66y3M-p"
      },
      "outputs": [],
      "source": [
        "df = df[(df.Price>100)]"
      ]
    },
    {
      "cell_type": "code",
      "execution_count": null,
      "metadata": {
        "id": "XEEzLCPv3M-p",
        "outputId": "e15bc6d4-1a9a-48a6-b9ce-798193f21ffa"
      },
      "outputs": [
        {
          "name": "stdout",
          "output_type": "stream",
          "text": [
            "<class 'pandas.core.frame.DataFrame'>\n",
            "Int64Index: 339877 entries, 0 to 354368\n",
            "Data columns (total 10 columns):\n",
            " #   Column            Non-Null Count   Dtype  \n",
            "---  ------            --------------   -----  \n",
            " 0   Price             339877 non-null  int64  \n",
            " 1   VehicleType       339877 non-null  object \n",
            " 2   RegistrationYear  339877 non-null  int64  \n",
            " 3   Gearbox           339877 non-null  object \n",
            " 4   Power             339877 non-null  float64\n",
            " 5   Model             339877 non-null  object \n",
            " 6   Kilometer         339877 non-null  int64  \n",
            " 7   FuelType          339877 non-null  object \n",
            " 8   Brand             339877 non-null  object \n",
            " 9   NotRepaired       339877 non-null  object \n",
            "dtypes: float64(1), int64(3), object(6)\n",
            "memory usage: 28.5+ MB\n"
          ]
        }
      ],
      "source": [
        "df.info()"
      ]
    },
    {
      "cell_type": "markdown",
      "metadata": {
        "id": "jCciRaVS3M-q"
      },
      "source": [
        "## Обучение моделей"
      ]
    },
    {
      "cell_type": "markdown",
      "metadata": {
        "id": "0tcLes-j3M-r"
      },
      "source": [
        "<div class=\"alert alert-info\">обучим несколько моделей регресии\n",
        "</div>"
      ]
    },
    {
      "cell_type": "code",
      "execution_count": null,
      "metadata": {
        "id": "5pNf7Oo_3M-r"
      },
      "outputs": [],
      "source": [
        "df_2 = df.copy()\n",
        "encoder = OrdinalEncoder()\n",
        "df_2[[\"VehicleType\", \"Gearbox\", \"FuelType\", \"Model\", \"Brand\", \"NotRepaired\"]] = encoder.fit_transform(df_2[[\"VehicleType\", \"Gearbox\", \"FuelType\", \"Model\", \"Brand\", \"NotRepaired\"]])"
      ]
    },
    {
      "cell_type": "code",
      "execution_count": null,
      "metadata": {
        "id": "N4GP_4-l3M-r",
        "outputId": "d38f2f07-e801-4bcd-8daf-bef9d6645463"
      },
      "outputs": [
        {
          "data": {
            "text/html": [
              "<div>\n",
              "<style scoped>\n",
              "    .dataframe tbody tr th:only-of-type {\n",
              "        vertical-align: middle;\n",
              "    }\n",
              "\n",
              "    .dataframe tbody tr th {\n",
              "        vertical-align: top;\n",
              "    }\n",
              "\n",
              "    .dataframe thead th {\n",
              "        text-align: right;\n",
              "    }\n",
              "</style>\n",
              "<table border=\"1\" class=\"dataframe\">\n",
              "  <thead>\n",
              "    <tr style=\"text-align: right;\">\n",
              "      <th></th>\n",
              "      <th>Price</th>\n",
              "      <th>VehicleType</th>\n",
              "      <th>RegistrationYear</th>\n",
              "      <th>Gearbox</th>\n",
              "      <th>Power</th>\n",
              "      <th>Model</th>\n",
              "      <th>Kilometer</th>\n",
              "      <th>FuelType</th>\n",
              "      <th>Brand</th>\n",
              "      <th>NotRepaired</th>\n",
              "    </tr>\n",
              "  </thead>\n",
              "  <tbody>\n",
              "    <tr>\n",
              "      <th>0</th>\n",
              "      <td>480</td>\n",
              "      <td>7.0</td>\n",
              "      <td>1993</td>\n",
              "      <td>1.0</td>\n",
              "      <td>95.0</td>\n",
              "      <td>116.0</td>\n",
              "      <td>150000</td>\n",
              "      <td>6.0</td>\n",
              "      <td>38.0</td>\n",
              "      <td>1.0</td>\n",
              "    </tr>\n",
              "    <tr>\n",
              "      <th>1</th>\n",
              "      <td>18300</td>\n",
              "      <td>2.0</td>\n",
              "      <td>2011</td>\n",
              "      <td>1.0</td>\n",
              "      <td>190.0</td>\n",
              "      <td>228.0</td>\n",
              "      <td>125000</td>\n",
              "      <td>2.0</td>\n",
              "      <td>1.0</td>\n",
              "      <td>2.0</td>\n",
              "    </tr>\n",
              "    <tr>\n",
              "      <th>2</th>\n",
              "      <td>9800</td>\n",
              "      <td>6.0</td>\n",
              "      <td>2004</td>\n",
              "      <td>0.0</td>\n",
              "      <td>163.0</td>\n",
              "      <td>117.0</td>\n",
              "      <td>125000</td>\n",
              "      <td>2.0</td>\n",
              "      <td>14.0</td>\n",
              "      <td>1.0</td>\n",
              "    </tr>\n",
              "    <tr>\n",
              "      <th>3</th>\n",
              "      <td>1500</td>\n",
              "      <td>5.0</td>\n",
              "      <td>2001</td>\n",
              "      <td>1.0</td>\n",
              "      <td>75.0</td>\n",
              "      <td>116.0</td>\n",
              "      <td>150000</td>\n",
              "      <td>6.0</td>\n",
              "      <td>38.0</td>\n",
              "      <td>0.0</td>\n",
              "    </tr>\n",
              "    <tr>\n",
              "      <th>4</th>\n",
              "      <td>3600</td>\n",
              "      <td>5.0</td>\n",
              "      <td>2008</td>\n",
              "      <td>1.0</td>\n",
              "      <td>69.0</td>\n",
              "      <td>101.0</td>\n",
              "      <td>90000</td>\n",
              "      <td>2.0</td>\n",
              "      <td>31.0</td>\n",
              "      <td>0.0</td>\n",
              "    </tr>\n",
              "  </tbody>\n",
              "</table>\n",
              "</div>"
            ],
            "text/plain": [
              "   Price  VehicleType  RegistrationYear  Gearbox  Power  Model  Kilometer  \\\n",
              "0    480          7.0              1993      1.0   95.0  116.0     150000   \n",
              "1  18300          2.0              2011      1.0  190.0  228.0     125000   \n",
              "2   9800          6.0              2004      0.0  163.0  117.0     125000   \n",
              "3   1500          5.0              2001      1.0   75.0  116.0     150000   \n",
              "4   3600          5.0              2008      1.0   69.0  101.0      90000   \n",
              "\n",
              "   FuelType  Brand  NotRepaired  \n",
              "0       6.0   38.0          1.0  \n",
              "1       2.0    1.0          2.0  \n",
              "2       2.0   14.0          1.0  \n",
              "3       6.0   38.0          0.0  \n",
              "4       2.0   31.0          0.0  "
            ]
          },
          "execution_count": 17,
          "metadata": {},
          "output_type": "execute_result"
        }
      ],
      "source": [
        "df_2.head()"
      ]
    },
    {
      "cell_type": "code",
      "execution_count": null,
      "metadata": {
        "id": "dZuLVHWR3M-s",
        "outputId": "25fdfc46-630d-4be1-f7a9-a8569c8fc714"
      },
      "outputs": [
        {
          "data": {
            "text/html": [
              "<div>\n",
              "<style scoped>\n",
              "    .dataframe tbody tr th:only-of-type {\n",
              "        vertical-align: middle;\n",
              "    }\n",
              "\n",
              "    .dataframe tbody tr th {\n",
              "        vertical-align: top;\n",
              "    }\n",
              "\n",
              "    .dataframe thead th {\n",
              "        text-align: right;\n",
              "    }\n",
              "</style>\n",
              "<table border=\"1\" class=\"dataframe\">\n",
              "  <thead>\n",
              "    <tr style=\"text-align: right;\">\n",
              "      <th></th>\n",
              "      <th>Price</th>\n",
              "      <th>VehicleType</th>\n",
              "      <th>RegistrationYear</th>\n",
              "      <th>Gearbox</th>\n",
              "      <th>Power</th>\n",
              "      <th>Model</th>\n",
              "      <th>Kilometer</th>\n",
              "      <th>FuelType</th>\n",
              "      <th>Brand</th>\n",
              "      <th>NotRepaired</th>\n",
              "    </tr>\n",
              "  </thead>\n",
              "  <tbody>\n",
              "    <tr>\n",
              "      <th>0</th>\n",
              "      <td>480</td>\n",
              "      <td>unknown</td>\n",
              "      <td>1993</td>\n",
              "      <td>manual</td>\n",
              "      <td>95.0</td>\n",
              "      <td>golf</td>\n",
              "      <td>150000</td>\n",
              "      <td>petrol</td>\n",
              "      <td>volkswagen</td>\n",
              "      <td>unknown</td>\n",
              "    </tr>\n",
              "    <tr>\n",
              "      <th>1</th>\n",
              "      <td>18300</td>\n",
              "      <td>coupe</td>\n",
              "      <td>2011</td>\n",
              "      <td>manual</td>\n",
              "      <td>190.0</td>\n",
              "      <td>unknown</td>\n",
              "      <td>125000</td>\n",
              "      <td>gasoline</td>\n",
              "      <td>audi</td>\n",
              "      <td>yes</td>\n",
              "    </tr>\n",
              "    <tr>\n",
              "      <th>2</th>\n",
              "      <td>9800</td>\n",
              "      <td>suv</td>\n",
              "      <td>2004</td>\n",
              "      <td>auto</td>\n",
              "      <td>163.0</td>\n",
              "      <td>grand</td>\n",
              "      <td>125000</td>\n",
              "      <td>gasoline</td>\n",
              "      <td>jeep</td>\n",
              "      <td>unknown</td>\n",
              "    </tr>\n",
              "    <tr>\n",
              "      <th>3</th>\n",
              "      <td>1500</td>\n",
              "      <td>small</td>\n",
              "      <td>2001</td>\n",
              "      <td>manual</td>\n",
              "      <td>75.0</td>\n",
              "      <td>golf</td>\n",
              "      <td>150000</td>\n",
              "      <td>petrol</td>\n",
              "      <td>volkswagen</td>\n",
              "      <td>no</td>\n",
              "    </tr>\n",
              "    <tr>\n",
              "      <th>4</th>\n",
              "      <td>3600</td>\n",
              "      <td>small</td>\n",
              "      <td>2008</td>\n",
              "      <td>manual</td>\n",
              "      <td>69.0</td>\n",
              "      <td>fabia</td>\n",
              "      <td>90000</td>\n",
              "      <td>gasoline</td>\n",
              "      <td>skoda</td>\n",
              "      <td>no</td>\n",
              "    </tr>\n",
              "  </tbody>\n",
              "</table>\n",
              "</div>"
            ],
            "text/plain": [
              "   Price VehicleType  RegistrationYear Gearbox  Power    Model  Kilometer  \\\n",
              "0    480     unknown              1993  manual   95.0     golf     150000   \n",
              "1  18300       coupe              2011  manual  190.0  unknown     125000   \n",
              "2   9800         suv              2004    auto  163.0    grand     125000   \n",
              "3   1500       small              2001  manual   75.0     golf     150000   \n",
              "4   3600       small              2008  manual   69.0    fabia      90000   \n",
              "\n",
              "   FuelType       Brand NotRepaired  \n",
              "0    petrol  volkswagen     unknown  \n",
              "1  gasoline        audi         yes  \n",
              "2  gasoline        jeep     unknown  \n",
              "3    petrol  volkswagen          no  \n",
              "4  gasoline       skoda          no  "
            ]
          },
          "execution_count": 18,
          "metadata": {},
          "output_type": "execute_result"
        }
      ],
      "source": [
        "df.head()"
      ]
    },
    {
      "cell_type": "code",
      "execution_count": null,
      "metadata": {
        "id": "b2CB2pn13M-s"
      },
      "outputs": [],
      "source": [
        "df_1 = pd.get_dummies(df, drop_first=True)\n",
        "pd.options.mode.chained_assignment = None\n"
      ]
    },
    {
      "cell_type": "code",
      "execution_count": null,
      "metadata": {
        "id": "CTGVyRoC3M-t"
      },
      "outputs": [],
      "source": [
        "df_1, df1_test = train_test_split(df_1, test_size=0.2, train_size=0.8)\n",
        "df1_train, df1_valid = train_test_split(df_1, test_size=0.25, train_size=0.75)"
      ]
    },
    {
      "cell_type": "code",
      "execution_count": null,
      "metadata": {
        "id": "_WtqZJuf3M-t"
      },
      "outputs": [],
      "source": [
        "features1_test = df1_test.drop(['Price'], axis=1)\n",
        "target1_test = df1_test['Price']\n",
        "features1_train = df1_train.drop(['Price'], axis=1)\n",
        "target1_train = df1_train['Price']\n",
        "features1_valid = df1_valid.drop(['Price'], axis=1)\n",
        "target1_valid = df1_valid['Price']"
      ]
    },
    {
      "cell_type": "code",
      "execution_count": null,
      "metadata": {
        "id": "x74FFj1a3M-t"
      },
      "outputs": [],
      "source": [
        "numeric = ['RegistrationYear', 'Power', 'Kilometer']\n",
        "\n",
        "scaler = StandardScaler()\n",
        "scaler.fit(features1_train[numeric]) \n",
        "features1_train[numeric] = scaler.transform(features1_train[numeric])\n",
        "features1_valid[numeric] = scaler.transform(features1_valid[numeric])\n",
        "features1_test[numeric] = scaler.transform(features1_test[numeric])"
      ]
    },
    {
      "cell_type": "code",
      "execution_count": null,
      "metadata": {
        "id": "syZfJMis3M-t"
      },
      "outputs": [],
      "source": [
        "df_2, df2_test = train_test_split(df_2, test_size=0.2, train_size=0.8)\n",
        "df2_train, df2_valid = train_test_split(df_2, test_size=0.25, train_size=0.75)"
      ]
    },
    {
      "cell_type": "code",
      "execution_count": null,
      "metadata": {
        "id": "zXSAMyF33M-t"
      },
      "outputs": [],
      "source": [
        "features2_test = df2_test.drop(['Price'], axis=1)\n",
        "target2_test = df2_test['Price']\n",
        "features2_train = df2_train.drop(['Price'], axis=1)\n",
        "target2_train = df2_train['Price']\n",
        "features2_valid = df2_valid.drop(['Price'], axis=1)\n",
        "target2_valid = df2_valid['Price']"
      ]
    },
    {
      "cell_type": "code",
      "execution_count": null,
      "metadata": {
        "id": "dZ9UXelA3M-t"
      },
      "outputs": [],
      "source": [
        "numeric = ['RegistrationYear', 'Power', 'Kilometer']\n",
        "\n",
        "scaler = StandardScaler()\n",
        "scaler.fit(features2_train[numeric]) \n",
        "features2_train[numeric] = scaler.transform(features2_train[numeric])\n",
        "features2_valid[numeric] = scaler.transform(features2_valid[numeric])\n",
        "features2_test[numeric] = scaler.transform(features2_test[numeric])"
      ]
    },
    {
      "cell_type": "code",
      "execution_count": null,
      "metadata": {
        "id": "3v_aBV0U3M-u",
        "outputId": "d53b8a35-bc9c-42cf-83ca-9d7b4df6fffb"
      },
      "outputs": [
        {
          "name": "stdout",
          "output_type": "stream",
          "text": [
            "RMSE DecisionTreeRegressor 2041.8110004507569\n"
          ]
        }
      ],
      "source": [
        "#%%time\n",
        "#start_time= time.time()\n",
        "model = DecisionTreeRegressor(random_state=12345, max_depth=10) \n",
        "model.fit(features2_train, target2_train)\n",
        "predictions1_valid = model.predict(features2_valid) \n",
        "print('RMSE DecisionTreeRegressor', mean_squared_error(target2_valid, predictions1_valid)**0.5)\n",
        "#end_time= time.time()\n",
        "#time_RMSE_dtr_train = end_time - start_time"
      ]
    },
    {
      "cell_type": "code",
      "execution_count": null,
      "metadata": {
        "id": "TgBg56v-3M-u",
        "outputId": "cb699061-307f-4fcb-824e-660e5680efa5"
      },
      "outputs": [
        {
          "name": "stdout",
          "output_type": "stream",
          "text": [
            "RMSE RandomForestRegressor 2413.9242167515636\n"
          ]
        }
      ],
      "source": [
        "#%%time\n",
        "#start_time= time.time()\n",
        "model = RandomForestRegressor(random_state=12345, n_estimators=10, max_depth=5) \n",
        "model.fit(features2_train, target2_train)\n",
        "predictions2_valid = model.predict(features2_valid) \n",
        "print('RMSE RandomForestRegressor', mean_squared_error(target2_valid, predictions2_valid)**0.5)\n",
        "#end_time= time.time()\n",
        "#time_RMSE_rfr_train = end_time - start_time"
      ]
    },
    {
      "cell_type": "code",
      "execution_count": null,
      "metadata": {
        "id": "xGzT7RSw3M-u",
        "outputId": "510f96d2-aee5-49ae-9cbd-f7019265dbdc"
      },
      "outputs": [
        {
          "name": "stdout",
          "output_type": "stream",
          "text": [
            "RMSE LinearRegression 2765.351841156755\n"
          ]
        }
      ],
      "source": [
        "#%%time\n",
        "start_time= time.time()\n",
        "model = LinearRegression() \n",
        "model.fit(features1_train, target1_train) \n",
        "predictions3_valid = model.predict(features1_valid) \n",
        "\n",
        "print('RMSE LinearRegression', mean_squared_error(target1_valid, predictions3_valid)**0.5)\n",
        "#end_time= time.time()\n",
        "#time_RMSE_lr_train = end_time - start_time"
      ]
    },
    {
      "cell_type": "code",
      "execution_count": null,
      "metadata": {
        "id": "w_RaXmq53M-v"
      },
      "outputs": [],
      "source": [
        "df, df_test = train_test_split(df, test_size=0.2, train_size=0.8)\n",
        "df_train, df_valid = train_test_split(df, test_size=0.25, train_size=0.75)"
      ]
    },
    {
      "cell_type": "code",
      "execution_count": null,
      "metadata": {
        "id": "OhEz-xje3M-v"
      },
      "outputs": [],
      "source": [
        "features_test = df_test.drop(['Price'], axis=1)\n",
        "target_test = df_test['Price']\n",
        "features_train = df_train.drop(['Price'], axis=1)\n",
        "target_train = df_train['Price']\n",
        "features_valid = df_valid.drop(['Price'], axis=1)\n",
        "target_valid = df_valid['Price']\n",
        "\n",
        "cat_features = ['VehicleType', 'Gearbox', 'Model',\n",
        "                'FuelType', 'Brand', 'NotRepaired']"
      ]
    },
    {
      "cell_type": "code",
      "execution_count": null,
      "metadata": {
        "id": "A8EGEZq_3M-v",
        "outputId": "f008b9b6-f68e-4a1f-e43e-b64b6601abe3"
      },
      "outputs": [
        {
          "data": {
            "text/html": [
              "<div>\n",
              "<style scoped>\n",
              "    .dataframe tbody tr th:only-of-type {\n",
              "        vertical-align: middle;\n",
              "    }\n",
              "\n",
              "    .dataframe tbody tr th {\n",
              "        vertical-align: top;\n",
              "    }\n",
              "\n",
              "    .dataframe thead th {\n",
              "        text-align: right;\n",
              "    }\n",
              "</style>\n",
              "<table border=\"1\" class=\"dataframe\">\n",
              "  <thead>\n",
              "    <tr style=\"text-align: right;\">\n",
              "      <th></th>\n",
              "      <th>Price</th>\n",
              "      <th>VehicleType</th>\n",
              "      <th>RegistrationYear</th>\n",
              "      <th>Gearbox</th>\n",
              "      <th>Power</th>\n",
              "      <th>Model</th>\n",
              "      <th>Kilometer</th>\n",
              "      <th>FuelType</th>\n",
              "      <th>Brand</th>\n",
              "      <th>NotRepaired</th>\n",
              "    </tr>\n",
              "  </thead>\n",
              "  <tbody>\n",
              "    <tr>\n",
              "      <th>199556</th>\n",
              "      <td>4800</td>\n",
              "      <td>convertible</td>\n",
              "      <td>1999</td>\n",
              "      <td>auto</td>\n",
              "      <td>193.0</td>\n",
              "      <td>unknown</td>\n",
              "      <td>150000</td>\n",
              "      <td>lpg</td>\n",
              "      <td>toyota</td>\n",
              "      <td>unknown</td>\n",
              "    </tr>\n",
              "    <tr>\n",
              "      <th>322964</th>\n",
              "      <td>15999</td>\n",
              "      <td>unknown</td>\n",
              "      <td>2017</td>\n",
              "      <td>unknown</td>\n",
              "      <td>75.0</td>\n",
              "      <td>unknown</td>\n",
              "      <td>125000</td>\n",
              "      <td>unknown</td>\n",
              "      <td>bmw</td>\n",
              "      <td>unknown</td>\n",
              "    </tr>\n",
              "    <tr>\n",
              "      <th>113795</th>\n",
              "      <td>13900</td>\n",
              "      <td>wagon</td>\n",
              "      <td>2012</td>\n",
              "      <td>manual</td>\n",
              "      <td>80.0</td>\n",
              "      <td>golf</td>\n",
              "      <td>50000</td>\n",
              "      <td>petrol</td>\n",
              "      <td>volkswagen</td>\n",
              "      <td>no</td>\n",
              "    </tr>\n",
              "    <tr>\n",
              "      <th>333944</th>\n",
              "      <td>450</td>\n",
              "      <td>small</td>\n",
              "      <td>1998</td>\n",
              "      <td>manual</td>\n",
              "      <td>60.0</td>\n",
              "      <td>corsa</td>\n",
              "      <td>150000</td>\n",
              "      <td>petrol</td>\n",
              "      <td>opel</td>\n",
              "      <td>unknown</td>\n",
              "    </tr>\n",
              "    <tr>\n",
              "      <th>330236</th>\n",
              "      <td>19999</td>\n",
              "      <td>wagon</td>\n",
              "      <td>2010</td>\n",
              "      <td>auto</td>\n",
              "      <td>239.0</td>\n",
              "      <td>a4</td>\n",
              "      <td>150000</td>\n",
              "      <td>gasoline</td>\n",
              "      <td>audi</td>\n",
              "      <td>no</td>\n",
              "    </tr>\n",
              "  </tbody>\n",
              "</table>\n",
              "</div>"
            ],
            "text/plain": [
              "        Price  VehicleType  RegistrationYear  Gearbox  Power    Model  \\\n",
              "199556   4800  convertible              1999     auto  193.0  unknown   \n",
              "322964  15999      unknown              2017  unknown   75.0  unknown   \n",
              "113795  13900        wagon              2012   manual   80.0     golf   \n",
              "333944    450        small              1998   manual   60.0    corsa   \n",
              "330236  19999        wagon              2010     auto  239.0       a4   \n",
              "\n",
              "        Kilometer  FuelType       Brand NotRepaired  \n",
              "199556     150000       lpg      toyota     unknown  \n",
              "322964     125000   unknown         bmw     unknown  \n",
              "113795      50000    petrol  volkswagen          no  \n",
              "333944     150000    petrol        opel     unknown  \n",
              "330236     150000  gasoline        audi          no  "
            ]
          },
          "execution_count": 31,
          "metadata": {},
          "output_type": "execute_result"
        }
      ],
      "source": [
        "df.head()"
      ]
    },
    {
      "cell_type": "code",
      "execution_count": null,
      "metadata": {
        "id": "BCNXfQjA3M-v",
        "outputId": "9e5f1a31-39a6-4c5e-bd7b-a485057d49c5"
      },
      "outputs": [
        {
          "name": "stdout",
          "output_type": "stream",
          "text": [
            "0:\tlearn: 2641.3121466\ttotal: 155ms\tremaining: 15.3s\n",
            "10:\tlearn: 1939.6681342\ttotal: 925ms\tremaining: 7.48s\n",
            "20:\tlearn: 1833.0908370\ttotal: 1.64s\tremaining: 6.19s\n",
            "30:\tlearn: 1782.3563399\ttotal: 2.37s\tremaining: 5.27s\n",
            "40:\tlearn: 1747.7946597\ttotal: 3.09s\tremaining: 4.44s\n",
            "50:\tlearn: 1723.8487132\ttotal: 3.8s\tremaining: 3.65s\n",
            "60:\tlearn: 1702.7945756\ttotal: 4.52s\tremaining: 2.89s\n",
            "70:\tlearn: 1689.0559530\ttotal: 5.22s\tremaining: 2.13s\n",
            "80:\tlearn: 1673.0363431\ttotal: 5.92s\tremaining: 1.39s\n",
            "90:\tlearn: 1663.2385631\ttotal: 6.63s\tremaining: 655ms\n",
            "99:\tlearn: 1655.2194851\ttotal: 7.27s\tremaining: 0us\n",
            "1732.5660818240046\n"
          ]
        }
      ],
      "source": [
        "#%%time\n",
        "#start_time= time.time()\n",
        "model = CatBoostRegressor(loss_function=\"RMSE\", iterations=100, learning_rate=1, depth=6)\n",
        "\n",
        "model.fit(features_train, target_train, cat_features=cat_features, verbose=10)\n",
        "\n",
        "probabilities_valid = model.predict(features_valid)\n",
        "\n",
        "print(mean_squared_error(target_valid, probabilities_valid)**0.5)\n",
        "#end_time= time.time()\n",
        "#time_RMSE_cbr_train = end_time - start_time"
      ]
    },
    {
      "cell_type": "code",
      "execution_count": null,
      "metadata": {
        "scrolled": true,
        "id": "UKC8e3zY3M-v",
        "outputId": "746fc6f0-7c2d-44e2-e027-54cc07c60f5f"
      },
      "outputs": [
        {
          "name": "stdout",
          "output_type": "stream",
          "text": [
            "1771.0099604285692\n"
          ]
        }
      ],
      "source": [
        "#%%time\n",
        "#start_time= time.time()\n",
        "model=LGBMRegressor(learning_rate=1, max_depth=4)\n",
        "\n",
        "model.fit(features2_train, target2_train, categorical_feature=cat_features)\n",
        "\n",
        "valid_preds = model.predict(features2_valid)\n",
        "print(mean_squared_error(target2_valid, valid_preds)**0.5)\n",
        "#end_time= time.time()\n",
        "#time_RMSE_lgbm_train = end_time - start_time"
      ]
    },
    {
      "cell_type": "markdown",
      "metadata": {
        "id": "AdraRVzr3M-w"
      },
      "source": [
        "## Анализ моделей"
      ]
    },
    {
      "cell_type": "code",
      "execution_count": null,
      "metadata": {
        "id": "w0TWvmMg3M-z",
        "outputId": "b84ce9f5-2d21-4879-cacd-ad61d36df6fc"
      },
      "outputs": [
        {
          "name": "stdout",
          "output_type": "stream",
          "text": [
            "2038.6059489773854\n",
            "CPU times: user 391 ms, sys: 890 µs, total: 392 ms\n",
            "Wall time: 407 ms\n"
          ]
        }
      ],
      "source": [
        "%%time\n",
        "start_time= time.time()\n",
        "model = DecisionTreeRegressor(random_state=12345, max_depth=10) \n",
        "model.fit(features2_train, target2_train)\n",
        "end_time_train = time.time()\n",
        "time_RMSE_dtr_train = end_time_train - start_time\n",
        "predicted_test_dtr = model.predict(features2_test)\n",
        "result_dtr = mean_squared_error(target2_test, predicted_test_dtr)**0.5\n",
        "print(result_dtr)\n",
        "end_time= time.time()\n",
        "time_RMSE_dtr= end_time - end_time_train"
      ]
    },
    {
      "cell_type": "code",
      "execution_count": null,
      "metadata": {
        "id": "mh87XrhT3M-z",
        "outputId": "484f0a5b-2bf4-4001-f2eb-5e1a9dab75b5"
      },
      "outputs": [
        {
          "name": "stdout",
          "output_type": "stream",
          "text": [
            "1920.0198978158483\n",
            "CPU times: user 12.9 s, sys: 0 ns, total: 12.9 s\n",
            "Wall time: 12.9 s\n"
          ]
        }
      ],
      "source": [
        "%%time\n",
        "start_time= time.time()\n",
        "model = RandomForestRegressor(random_state=12345, n_estimators=50, max_depth=10) \n",
        "model.fit(features2_train, target2_train)\n",
        "end_time_train = time.time()\n",
        "time_RMSE_rfr_train = end_time_train - start_time\n",
        "predicted_test_rfr = model.predict(features2_test) \n",
        "result_rfr = mean_squared_error(target2_test, predicted_test_rfr)**0.5\n",
        "print(result_rfr)\n",
        "end_time= time.time()\n",
        "time_RMSE_rfr= end_time - end_time_train"
      ]
    },
    {
      "cell_type": "code",
      "execution_count": null,
      "metadata": {
        "id": "5fECa7wM3M-0",
        "outputId": "9c082c20-f773-4e8b-b98d-e5ecfba74946"
      },
      "outputs": [
        {
          "name": "stdout",
          "output_type": "stream",
          "text": [
            "2732.3529157361777\n",
            "CPU times: user 19.3 s, sys: 10 s, total: 29.3 s\n",
            "Wall time: 29.3 s\n"
          ]
        }
      ],
      "source": [
        "%%time\n",
        "start_time= time.time()\n",
        "model = LinearRegression() \n",
        "model.fit(features1_train, target1_train)\n",
        "end_time_train = time.time()\n",
        "time_RMSE_lr_train = end_time_train - start_time\n",
        "predicted_test_lr = model.predict(features1_test) \n",
        "result_lr = mean_squared_error(target1_test, predicted_test_lr)**0.5\n",
        "print(result_lr)\n",
        "end_time= time.time()\n",
        "time_RMSE_lr= end_time - end_time_train"
      ]
    },
    {
      "cell_type": "code",
      "execution_count": null,
      "metadata": {
        "id": "4d6FdUIl3M-0",
        "outputId": "1a2b32b2-fe32-43e6-dd14-956d6728d573"
      },
      "outputs": [
        {
          "name": "stdout",
          "output_type": "stream",
          "text": [
            "0:\tlearn: 2641.3121466\ttotal: 103ms\tremaining: 10.2s\n",
            "10:\tlearn: 1939.6681342\ttotal: 923ms\tremaining: 7.47s\n",
            "20:\tlearn: 1833.0908370\ttotal: 1.69s\tremaining: 6.35s\n",
            "30:\tlearn: 1782.3563399\ttotal: 2.47s\tremaining: 5.49s\n",
            "40:\tlearn: 1747.7946597\ttotal: 3.25s\tremaining: 4.68s\n",
            "50:\tlearn: 1723.8487132\ttotal: 4.04s\tremaining: 3.88s\n",
            "60:\tlearn: 1702.7945756\ttotal: 4.82s\tremaining: 3.08s\n",
            "70:\tlearn: 1689.0559530\ttotal: 5.57s\tremaining: 2.27s\n",
            "80:\tlearn: 1673.0363431\ttotal: 6.35s\tremaining: 1.49s\n",
            "90:\tlearn: 1663.2385631\ttotal: 7.09s\tremaining: 701ms\n",
            "99:\tlearn: 1655.2194851\ttotal: 7.77s\tremaining: 0us\n",
            "1726.9916419217534\n",
            "CPU times: user 8.2 s, sys: 35.3 ms, total: 8.24 s\n",
            "Wall time: 9.43 s\n"
          ]
        }
      ],
      "source": [
        "%%time\n",
        "start_time= time.time()\n",
        "model = CatBoostRegressor(iterations=100, learning_rate=1) \n",
        "model.fit(features_train, target_train, cat_features=cat_features, verbose=10)\n",
        "end_time_train = time.time()\n",
        "time_RMSE_cbr_train = end_time_train - start_time\n",
        "predicted_test_cbr = model.predict(features_test) \n",
        "result_cbr = mean_squared_error(target_test, predicted_test_cbr)**0.5\n",
        "print(result_cbr)\n",
        "end_time= time.time()\n",
        "time_RMSE_cbr= end_time - end_time_train"
      ]
    },
    {
      "cell_type": "code",
      "execution_count": null,
      "metadata": {
        "id": "do5KhFa13M-0",
        "outputId": "ec9108be-4001-42ed-f83e-773799054bcf"
      },
      "outputs": [
        {
          "name": "stdout",
          "output_type": "stream",
          "text": [
            "1779.8055977559645\n",
            "CPU times: user 14.1 s, sys: 80.4 ms, total: 14.2 s\n",
            "Wall time: 14.2 s\n"
          ]
        }
      ],
      "source": [
        "%%time\n",
        "start_time= time.time()\n",
        "model = LGBMRegressor(learning_rate=1, max_depth=4)\n",
        "model.fit(features2_train, target2_train, categorical_feature=cat_features)\n",
        "end_time_train = time.time()\n",
        "time_RMSE_lgbm_train = end_time_train - start_time\n",
        "predicted_test_lgbm = model.predict(features2_test) \n",
        "result_lgbm = mean_squared_error(target2_test, predicted_test_lgbm)**0.5\n",
        "print(result_lgbm)\n",
        "end_time= time.time()\n",
        "time_RMSE_lgbm= end_time - end_time_train"
      ]
    },
    {
      "cell_type": "code",
      "execution_count": null,
      "metadata": {
        "id": "Yhi4bGsL3M-0"
      },
      "outputs": [],
      "source": [
        "df_voila = pd.DataFrame({'модель': ['DecisionTreeRegressor', 'RandomForestRegressor', 'LinearRegression', 'CatBoostRegressor', 'LGBM Regressor'],\n",
        "                         'время обучения (с)': [time_RMSE_dtr_train, time_RMSE_rfr_train, time_RMSE_lr_train, time_RMSE_cbr_train, time_RMSE_lgbm_train],\n",
        "                         'время предсказания (c)': [time_RMSE_dtr, time_RMSE_rfr, time_RMSE_lr, time_RMSE_cbr, time_RMSE_lgbm],\n",
        "                         'RMSE': [result_dtr, result_rfr, result_lr, result_cbr, result_lgbm]})"
      ]
    },
    {
      "cell_type": "code",
      "execution_count": null,
      "metadata": {
        "id": "HJ9dxpIb3M-1",
        "outputId": "daf37094-af54-4563-c0a4-5a4cfe33c633"
      },
      "outputs": [
        {
          "data": {
            "text/html": [
              "<div>\n",
              "<style scoped>\n",
              "    .dataframe tbody tr th:only-of-type {\n",
              "        vertical-align: middle;\n",
              "    }\n",
              "\n",
              "    .dataframe tbody tr th {\n",
              "        vertical-align: top;\n",
              "    }\n",
              "\n",
              "    .dataframe thead th {\n",
              "        text-align: right;\n",
              "    }\n",
              "</style>\n",
              "<table border=\"1\" class=\"dataframe\">\n",
              "  <thead>\n",
              "    <tr style=\"text-align: right;\">\n",
              "      <th></th>\n",
              "      <th>модель</th>\n",
              "      <th>время обучения (с)</th>\n",
              "      <th>время предсказания (c)</th>\n",
              "      <th>RMSE</th>\n",
              "    </tr>\n",
              "  </thead>\n",
              "  <tbody>\n",
              "    <tr>\n",
              "      <th>0</th>\n",
              "      <td>DecisionTreeRegressor</td>\n",
              "      <td>0.393423</td>\n",
              "      <td>0.013473</td>\n",
              "      <td>2038.605949</td>\n",
              "    </tr>\n",
              "    <tr>\n",
              "      <th>1</th>\n",
              "      <td>RandomForestRegressor</td>\n",
              "      <td>12.651493</td>\n",
              "      <td>0.289699</td>\n",
              "      <td>1920.019898</td>\n",
              "    </tr>\n",
              "    <tr>\n",
              "      <th>2</th>\n",
              "      <td>LinearRegression</td>\n",
              "      <td>29.134376</td>\n",
              "      <td>0.130051</td>\n",
              "      <td>2732.352916</td>\n",
              "    </tr>\n",
              "    <tr>\n",
              "      <th>3</th>\n",
              "      <td>CatBoostRegressor</td>\n",
              "      <td>9.349045</td>\n",
              "      <td>0.083059</td>\n",
              "      <td>1726.991642</td>\n",
              "    </tr>\n",
              "    <tr>\n",
              "      <th>4</th>\n",
              "      <td>LGBM Regressor</td>\n",
              "      <td>13.684433</td>\n",
              "      <td>0.499548</td>\n",
              "      <td>1779.805598</td>\n",
              "    </tr>\n",
              "  </tbody>\n",
              "</table>\n",
              "</div>"
            ],
            "text/plain": [
              "                  модель  время обучения (с)  время предсказания (c)  \\\n",
              "0  DecisionTreeRegressor            0.393423                0.013473   \n",
              "1  RandomForestRegressor           12.651493                0.289699   \n",
              "2       LinearRegression           29.134376                0.130051   \n",
              "3      CatBoostRegressor            9.349045                0.083059   \n",
              "4         LGBM Regressor           13.684433                0.499548   \n",
              "\n",
              "          RMSE  \n",
              "0  2038.605949  \n",
              "1  1920.019898  \n",
              "2  2732.352916  \n",
              "3  1726.991642  \n",
              "4  1779.805598  "
            ]
          },
          "metadata": {},
          "output_type": "display_data"
        }
      ],
      "source": [
        "display(df_voila)"
      ]
    },
    {
      "cell_type": "markdown",
      "metadata": {
        "id": "9ZyzRY7o3M-1"
      },
      "source": [
        "<div class=\"alert alert-info\">Итого:\n",
        "    \n",
        "1) был проведен анализ данных, удалены странные выбивающиеся значения\n",
        "\n",
        "2) обучено и проверено 5 моделей: Decision Tree Regressor, Random FOrest Regressor, Linear Regression, CatBoost Regressor, LGBM Regressor\n",
        "    \n",
        "3) посчитано время выполнения предсказания и RMSE\n",
        "</div>"
      ]
    }
  ],
  "metadata": {
    "ExecuteTimeLog": [
      {
        "duration": 1288,
        "start_time": "2022-04-20T12:29:30.090Z"
      },
      {
        "duration": 92,
        "start_time": "2022-04-20T12:30:06.380Z"
      },
      {
        "duration": 819,
        "start_time": "2022-04-20T12:30:16.716Z"
      },
      {
        "duration": 140,
        "start_time": "2022-04-20T12:30:28.327Z"
      },
      {
        "duration": 1202,
        "start_time": "2022-04-21T12:15:23.168Z"
      },
      {
        "duration": 773,
        "start_time": "2022-04-21T12:15:26.049Z"
      },
      {
        "duration": 139,
        "start_time": "2022-04-21T12:15:27.405Z"
      },
      {
        "duration": 40,
        "start_time": "2022-04-21T12:16:50.641Z"
      },
      {
        "duration": 35,
        "start_time": "2022-04-21T12:17:16.375Z"
      },
      {
        "duration": 2130,
        "start_time": "2022-04-21T12:18:48.197Z"
      },
      {
        "duration": 150,
        "start_time": "2022-04-21T12:19:00.899Z"
      },
      {
        "duration": 130,
        "start_time": "2022-04-21T12:19:12.323Z"
      },
      {
        "duration": 57,
        "start_time": "2022-04-21T12:27:22.783Z"
      },
      {
        "duration": 322,
        "start_time": "2022-04-21T12:27:27.499Z"
      },
      {
        "duration": 601,
        "start_time": "2022-04-21T12:27:40.216Z"
      },
      {
        "duration": 23,
        "start_time": "2022-04-21T12:31:03.932Z"
      },
      {
        "duration": 298,
        "start_time": "2022-04-21T12:31:08.366Z"
      },
      {
        "duration": 13,
        "start_time": "2022-04-21T12:31:38.610Z"
      },
      {
        "duration": 1302,
        "start_time": "2022-04-21T12:31:51.341Z"
      },
      {
        "duration": 807,
        "start_time": "2022-04-21T12:31:53.772Z"
      },
      {
        "duration": 134,
        "start_time": "2022-04-21T12:31:54.672Z"
      },
      {
        "duration": 105,
        "start_time": "2022-04-21T12:31:57.183Z"
      },
      {
        "duration": 47,
        "start_time": "2022-04-21T12:31:58.292Z"
      },
      {
        "duration": 439,
        "start_time": "2022-04-21T12:32:01.012Z"
      },
      {
        "duration": 102,
        "start_time": "2022-04-21T12:34:36.298Z"
      },
      {
        "duration": 848,
        "start_time": "2022-04-21T12:36:07.923Z"
      },
      {
        "duration": 185,
        "start_time": "2022-04-21T12:36:09.263Z"
      },
      {
        "duration": 820,
        "start_time": "2022-04-21T12:36:33.803Z"
      },
      {
        "duration": 12656,
        "start_time": "2022-04-21T12:36:49.095Z"
      },
      {
        "duration": 6584,
        "start_time": "2022-04-21T12:38:03.195Z"
      },
      {
        "duration": 3,
        "start_time": "2022-04-21T12:39:59.414Z"
      },
      {
        "duration": 838,
        "start_time": "2022-04-21T12:41:45.661Z"
      },
      {
        "duration": 534,
        "start_time": "2022-04-21T12:41:47.812Z"
      },
      {
        "duration": 2713,
        "start_time": "2022-04-21T12:43:04.821Z"
      },
      {
        "duration": 0,
        "start_time": "2022-04-21T12:43:07.536Z"
      },
      {
        "duration": 1836,
        "start_time": "2022-04-21T12:43:26.900Z"
      },
      {
        "duration": 7653,
        "start_time": "2022-04-21T12:44:33.466Z"
      },
      {
        "duration": 3,
        "start_time": "2022-04-21T12:45:06.093Z"
      },
      {
        "duration": 7450,
        "start_time": "2022-04-21T12:45:07.479Z"
      },
      {
        "duration": 17,
        "start_time": "2022-04-21T12:47:23.618Z"
      },
      {
        "duration": 879,
        "start_time": "2022-04-21T12:48:06.440Z"
      },
      {
        "duration": 6920,
        "start_time": "2022-04-21T12:48:33.614Z"
      },
      {
        "duration": 784,
        "start_time": "2022-04-21T12:51:07.920Z"
      },
      {
        "duration": 734,
        "start_time": "2022-04-21T12:51:09.788Z"
      },
      {
        "duration": 6155,
        "start_time": "2022-04-21T12:51:12.840Z"
      },
      {
        "duration": 72259,
        "start_time": "2022-04-21T12:52:14.004Z"
      },
      {
        "duration": 23027,
        "start_time": "2022-04-21T12:53:34.046Z"
      },
      {
        "duration": 8,
        "start_time": "2022-04-21T12:54:33.651Z"
      },
      {
        "duration": 1296,
        "start_time": "2022-04-21T12:54:40.721Z"
      },
      {
        "duration": 883,
        "start_time": "2022-04-21T12:54:42.020Z"
      },
      {
        "duration": 163,
        "start_time": "2022-04-21T12:54:42.905Z"
      },
      {
        "duration": 137,
        "start_time": "2022-04-21T12:54:43.071Z"
      },
      {
        "duration": 62,
        "start_time": "2022-04-21T12:54:43.211Z"
      },
      {
        "duration": 108,
        "start_time": "2022-04-21T12:54:43.276Z"
      },
      {
        "duration": 1068,
        "start_time": "2022-04-21T12:54:43.387Z"
      },
      {
        "duration": 135,
        "start_time": "2022-04-21T12:54:44.456Z"
      },
      {
        "duration": 0,
        "start_time": "2022-04-21T12:54:44.592Z"
      },
      {
        "duration": 0,
        "start_time": "2022-04-21T12:54:44.593Z"
      },
      {
        "duration": 234,
        "start_time": "2022-04-21T12:55:47.295Z"
      },
      {
        "duration": 766,
        "start_time": "2022-04-21T12:55:59.262Z"
      },
      {
        "duration": 7563,
        "start_time": "2022-04-21T12:56:01.870Z"
      },
      {
        "duration": 22741,
        "start_time": "2022-04-21T12:56:15.581Z"
      },
      {
        "duration": 3,
        "start_time": "2022-04-21T13:00:16.716Z"
      },
      {
        "duration": 40446,
        "start_time": "2022-04-21T13:00:29.616Z"
      },
      {
        "duration": 4,
        "start_time": "2022-04-21T13:16:10.497Z"
      },
      {
        "duration": 1166,
        "start_time": "2022-04-21T13:24:21.983Z"
      },
      {
        "duration": 818,
        "start_time": "2022-04-21T13:24:24.749Z"
      },
      {
        "duration": 157,
        "start_time": "2022-04-21T13:24:26.831Z"
      },
      {
        "duration": 87,
        "start_time": "2022-04-21T13:24:29.858Z"
      },
      {
        "duration": 48,
        "start_time": "2022-04-21T13:24:31.167Z"
      },
      {
        "duration": 86,
        "start_time": "2022-04-21T13:24:32.260Z"
      },
      {
        "duration": 906,
        "start_time": "2022-04-21T13:24:58.662Z"
      },
      {
        "duration": 815,
        "start_time": "2022-04-21T13:25:00.788Z"
      },
      {
        "duration": 6390,
        "start_time": "2022-04-21T13:25:02.854Z"
      },
      {
        "duration": 20511,
        "start_time": "2022-04-21T13:25:12.612Z"
      },
      {
        "duration": 38060,
        "start_time": "2022-04-21T13:26:30.496Z"
      },
      {
        "duration": 109,
        "start_time": "2022-04-21T13:27:12.855Z"
      },
      {
        "duration": 7623,
        "start_time": "2022-04-21T13:27:18.124Z"
      },
      {
        "duration": 7647,
        "start_time": "2022-04-21T13:33:48.669Z"
      },
      {
        "duration": 9756,
        "start_time": "2022-04-21T13:34:23.052Z"
      },
      {
        "duration": 7670,
        "start_time": "2022-04-21T13:34:41.324Z"
      },
      {
        "duration": 197,
        "start_time": "2022-04-21T13:44:19.204Z"
      },
      {
        "duration": 29,
        "start_time": "2022-04-21T13:51:22.070Z"
      },
      {
        "duration": 24,
        "start_time": "2022-04-21T13:53:12.173Z"
      },
      {
        "duration": 115,
        "start_time": "2022-04-21T13:53:49.790Z"
      },
      {
        "duration": 25,
        "start_time": "2022-04-21T13:56:27.655Z"
      },
      {
        "duration": 10,
        "start_time": "2022-04-21T13:57:01.845Z"
      },
      {
        "duration": 48,
        "start_time": "2022-04-21T13:57:39.780Z"
      },
      {
        "duration": 2051,
        "start_time": "2022-04-21T13:57:44.211Z"
      },
      {
        "duration": 2621,
        "start_time": "2022-04-21T13:59:17.648Z"
      },
      {
        "duration": 1588,
        "start_time": "2022-04-23T10:22:55.945Z"
      },
      {
        "duration": 758,
        "start_time": "2022-04-23T10:22:58.938Z"
      },
      {
        "duration": 138,
        "start_time": "2022-04-23T10:23:00.986Z"
      },
      {
        "duration": 92,
        "start_time": "2022-04-23T10:23:09.796Z"
      },
      {
        "duration": 80,
        "start_time": "2022-04-23T10:23:21.185Z"
      },
      {
        "duration": 41,
        "start_time": "2022-04-23T10:24:54.226Z"
      },
      {
        "duration": 85,
        "start_time": "2022-04-23T10:24:55.502Z"
      },
      {
        "duration": 741,
        "start_time": "2022-04-23T10:25:01.634Z"
      },
      {
        "duration": 608,
        "start_time": "2022-04-23T10:25:03.888Z"
      },
      {
        "duration": 651,
        "start_time": "2022-04-23T10:25:13.255Z"
      },
      {
        "duration": 5587,
        "start_time": "2022-04-23T10:25:16.105Z"
      },
      {
        "duration": 18088,
        "start_time": "2022-04-23T10:25:24.343Z"
      },
      {
        "duration": 24981,
        "start_time": "2022-04-23T10:25:46.442Z"
      },
      {
        "duration": 94,
        "start_time": "2022-04-23T10:26:15.237Z"
      },
      {
        "duration": 6664,
        "start_time": "2022-04-23T10:26:19.873Z"
      },
      {
        "duration": 36,
        "start_time": "2022-04-23T10:26:30.217Z"
      },
      {
        "duration": 20,
        "start_time": "2022-04-23T10:26:30.256Z"
      },
      {
        "duration": 30,
        "start_time": "2022-04-23T10:26:46.509Z"
      },
      {
        "duration": 2325,
        "start_time": "2022-04-23T10:26:47.299Z"
      },
      {
        "duration": 1628,
        "start_time": "2022-04-23T10:36:18.505Z"
      },
      {
        "duration": 818,
        "start_time": "2022-04-23T10:36:21.090Z"
      },
      {
        "duration": 137,
        "start_time": "2022-04-23T10:36:22.711Z"
      },
      {
        "duration": 96,
        "start_time": "2022-04-23T10:36:26.740Z"
      },
      {
        "duration": 131,
        "start_time": "2022-04-23T10:36:30.402Z"
      },
      {
        "duration": 41,
        "start_time": "2022-04-23T10:36:33.352Z"
      },
      {
        "duration": 84,
        "start_time": "2022-04-23T10:36:35.617Z"
      },
      {
        "duration": 716,
        "start_time": "2022-04-23T10:36:43.431Z"
      },
      {
        "duration": 752,
        "start_time": "2022-04-23T10:36:51.117Z"
      },
      {
        "duration": 5192,
        "start_time": "2022-04-23T10:36:54.012Z"
      },
      {
        "duration": 17594,
        "start_time": "2022-04-23T10:37:01.913Z"
      },
      {
        "duration": 25993,
        "start_time": "2022-04-23T10:37:21.931Z"
      },
      {
        "duration": 90,
        "start_time": "2022-04-23T10:37:50.478Z"
      },
      {
        "duration": 6586,
        "start_time": "2022-04-23T10:37:56.213Z"
      },
      {
        "duration": 35,
        "start_time": "2022-04-23T10:38:14.395Z"
      },
      {
        "duration": 1186,
        "start_time": "2022-04-23T10:38:16.543Z"
      },
      {
        "duration": 4,
        "start_time": "2022-04-23T10:44:48.871Z"
      },
      {
        "duration": 53791,
        "start_time": "2022-04-23T10:47:31.963Z"
      },
      {
        "duration": 4,
        "start_time": "2022-04-23T10:52:02.533Z"
      },
      {
        "duration": 54009,
        "start_time": "2022-04-23T10:52:33.803Z"
      },
      {
        "duration": 14,
        "start_time": "2022-04-23T10:54:51.798Z"
      },
      {
        "duration": 53546,
        "start_time": "2022-04-23T10:55:20.799Z"
      },
      {
        "duration": 163,
        "start_time": "2022-04-23T10:56:36.683Z"
      },
      {
        "duration": 53980,
        "start_time": "2022-04-23T10:56:53.451Z"
      },
      {
        "duration": 735241,
        "start_time": "2022-04-23T10:58:50.528Z"
      },
      {
        "duration": 13479,
        "start_time": "2022-04-23T11:11:33.203Z"
      },
      {
        "duration": 172,
        "start_time": "2022-04-23T11:11:49.121Z"
      },
      {
        "duration": 4,
        "start_time": "2022-04-23T11:12:54.753Z"
      },
      {
        "duration": 53202,
        "start_time": "2022-04-23T11:13:00.580Z"
      },
      {
        "duration": 607193,
        "start_time": "2022-04-23T11:14:22.492Z"
      },
      {
        "duration": 140412,
        "start_time": "2022-04-23T11:25:43.916Z"
      },
      {
        "duration": 29531,
        "start_time": "2022-04-23T11:49:42.640Z"
      },
      {
        "duration": 227,
        "start_time": "2022-04-23T11:50:28.959Z"
      },
      {
        "duration": 186,
        "start_time": "2022-04-23T11:51:05.956Z"
      },
      {
        "duration": 199193,
        "start_time": "2022-04-23T11:54:47.438Z"
      },
      {
        "duration": 3505023,
        "start_time": "2022-04-23T12:14:35.857Z"
      },
      {
        "duration": 1992,
        "start_time": "2022-04-23T17:10:39.179Z"
      },
      {
        "duration": 884,
        "start_time": "2022-04-23T17:10:41.994Z"
      },
      {
        "duration": 156,
        "start_time": "2022-04-23T17:10:44.536Z"
      },
      {
        "duration": 90,
        "start_time": "2022-04-23T17:10:52.190Z"
      },
      {
        "duration": 82,
        "start_time": "2022-04-23T17:10:56.329Z"
      },
      {
        "duration": 39,
        "start_time": "2022-04-23T17:11:08.033Z"
      },
      {
        "duration": 96,
        "start_time": "2022-04-23T17:11:09.184Z"
      },
      {
        "duration": 108,
        "start_time": "2022-04-23T18:04:24.115Z"
      },
      {
        "duration": 4,
        "start_time": "2022-04-23T18:04:32.842Z"
      },
      {
        "duration": 829,
        "start_time": "2022-04-23T18:04:35.927Z"
      },
      {
        "duration": 140,
        "start_time": "2022-04-23T18:04:37.330Z"
      },
      {
        "duration": 1553,
        "start_time": "2022-04-23T18:04:50.274Z"
      },
      {
        "duration": 886,
        "start_time": "2022-04-23T18:04:53.615Z"
      },
      {
        "duration": 141,
        "start_time": "2022-04-23T18:04:55.715Z"
      },
      {
        "duration": 91,
        "start_time": "2022-04-23T18:04:58.840Z"
      },
      {
        "duration": 86,
        "start_time": "2022-04-23T18:05:01.513Z"
      },
      {
        "duration": 43,
        "start_time": "2022-04-23T18:05:04.374Z"
      },
      {
        "duration": 95,
        "start_time": "2022-04-23T18:05:06.110Z"
      },
      {
        "duration": 1040,
        "start_time": "2022-04-23T18:05:09.598Z"
      },
      {
        "duration": 27,
        "start_time": "2022-04-23T18:05:11.526Z"
      },
      {
        "duration": 692,
        "start_time": "2022-04-23T18:05:29.245Z"
      },
      {
        "duration": 5538,
        "start_time": "2022-04-23T18:05:41.325Z"
      },
      {
        "duration": 18735,
        "start_time": "2022-04-23T18:05:49.466Z"
      },
      {
        "duration": 64477,
        "start_time": "2022-04-23T18:06:29.766Z"
      },
      {
        "duration": 1538,
        "start_time": "2022-04-23T18:10:20.185Z"
      },
      {
        "duration": 859,
        "start_time": "2022-04-23T18:10:23.168Z"
      },
      {
        "duration": 137,
        "start_time": "2022-04-23T18:10:25.590Z"
      },
      {
        "duration": 97,
        "start_time": "2022-04-23T18:10:29.391Z"
      },
      {
        "duration": 85,
        "start_time": "2022-04-23T18:10:32.103Z"
      },
      {
        "duration": 48,
        "start_time": "2022-04-23T18:10:36.320Z"
      },
      {
        "duration": 88,
        "start_time": "2022-04-23T18:10:38.349Z"
      },
      {
        "duration": 984,
        "start_time": "2022-04-23T18:10:44.839Z"
      },
      {
        "duration": 124,
        "start_time": "2022-04-23T18:10:56.104Z"
      },
      {
        "duration": 673,
        "start_time": "2022-04-23T18:14:11.227Z"
      },
      {
        "duration": 117,
        "start_time": "2022-04-23T18:17:12.225Z"
      },
      {
        "duration": 103,
        "start_time": "2022-04-23T18:17:26.758Z"
      },
      {
        "duration": 23,
        "start_time": "2022-04-23T18:17:42.186Z"
      },
      {
        "duration": 124,
        "start_time": "2022-04-23T18:17:47.412Z"
      },
      {
        "duration": 5275,
        "start_time": "2022-04-23T18:18:03.707Z"
      },
      {
        "duration": 179,
        "start_time": "2022-04-23T18:18:26.442Z"
      },
      {
        "duration": 14087,
        "start_time": "2022-04-23T18:18:35.820Z"
      },
      {
        "duration": 43161,
        "start_time": "2022-04-23T18:19:06.467Z"
      },
      {
        "duration": 94,
        "start_time": "2022-04-23T18:23:23.893Z"
      },
      {
        "duration": 15,
        "start_time": "2022-04-23T18:23:26.105Z"
      },
      {
        "duration": 5153,
        "start_time": "2022-04-23T18:23:37.187Z"
      },
      {
        "duration": 104,
        "start_time": "2022-04-23T18:26:27.583Z"
      },
      {
        "duration": 30,
        "start_time": "2022-04-23T18:26:51.466Z"
      },
      {
        "duration": 92,
        "start_time": "2022-04-23T18:27:22.568Z"
      },
      {
        "duration": 3459,
        "start_time": "2022-04-23T18:27:23.573Z"
      },
      {
        "duration": 3103,
        "start_time": "2022-04-23T18:27:37.424Z"
      },
      {
        "duration": 4109,
        "start_time": "2022-04-23T18:33:41.283Z"
      },
      {
        "duration": 4316,
        "start_time": "2022-04-23T18:34:02.241Z"
      },
      {
        "duration": 30212,
        "start_time": "2022-04-23T18:35:02.455Z"
      },
      {
        "duration": 14467,
        "start_time": "2022-04-23T18:35:37.625Z"
      },
      {
        "duration": 14,
        "start_time": "2022-04-23T18:36:32.296Z"
      },
      {
        "duration": 55297,
        "start_time": "2022-04-23T18:36:40.139Z"
      },
      {
        "duration": 6807,
        "start_time": "2022-04-23T18:39:24.481Z"
      },
      {
        "duration": 16,
        "start_time": "2022-04-23T18:40:02.573Z"
      },
      {
        "duration": 42461,
        "start_time": "2022-04-23T18:40:18.143Z"
      },
      {
        "duration": 193139,
        "start_time": "2022-04-23T18:41:03.765Z"
      },
      {
        "duration": 10,
        "start_time": "2022-04-23T18:45:10.277Z"
      },
      {
        "duration": 3,
        "start_time": "2022-04-23T18:45:34.416Z"
      },
      {
        "duration": 23391,
        "start_time": "2022-04-23T18:45:41.859Z"
      },
      {
        "duration": 8095,
        "start_time": "2022-04-23T18:46:09.257Z"
      },
      {
        "duration": 129160,
        "start_time": "2022-04-23T18:46:25.969Z"
      },
      {
        "duration": 320768,
        "start_time": "2022-04-23T18:48:57.587Z"
      },
      {
        "duration": 5289,
        "start_time": "2022-04-23T18:55:32.234Z"
      },
      {
        "duration": 14416,
        "start_time": "2022-04-23T18:55:40.325Z"
      },
      {
        "duration": 40926,
        "start_time": "2022-04-23T18:55:59.206Z"
      },
      {
        "duration": 196333,
        "start_time": "2022-04-23T18:56:43.748Z"
      },
      {
        "duration": 8580,
        "start_time": "2022-04-23T19:00:04.960Z"
      },
      {
        "duration": 305350,
        "start_time": "2022-04-23T19:00:21.701Z"
      },
      {
        "duration": 1405,
        "start_time": "2022-04-24T09:19:43.145Z"
      },
      {
        "duration": 734,
        "start_time": "2022-04-24T09:19:46.871Z"
      },
      {
        "duration": 124,
        "start_time": "2022-04-24T09:19:49.597Z"
      },
      {
        "duration": 84,
        "start_time": "2022-04-24T09:19:52.376Z"
      },
      {
        "duration": 83,
        "start_time": "2022-04-24T09:19:55.332Z"
      },
      {
        "duration": 44,
        "start_time": "2022-04-24T09:19:58.307Z"
      },
      {
        "duration": 84,
        "start_time": "2022-04-24T09:20:00.515Z"
      },
      {
        "duration": 733,
        "start_time": "2022-04-24T09:20:13.567Z"
      },
      {
        "duration": 14,
        "start_time": "2022-04-24T09:20:15.586Z"
      },
      {
        "duration": 628,
        "start_time": "2022-04-24T09:20:20.004Z"
      },
      {
        "duration": 113,
        "start_time": "2022-04-24T09:20:22.028Z"
      },
      {
        "duration": 117,
        "start_time": "2022-04-24T09:20:26.228Z"
      },
      {
        "duration": 4249,
        "start_time": "2022-04-24T09:20:28.081Z"
      },
      {
        "duration": 4239,
        "start_time": "2022-04-24T09:21:03.425Z"
      },
      {
        "duration": 15154,
        "start_time": "2022-04-24T09:21:29.369Z"
      },
      {
        "duration": 27797,
        "start_time": "2022-04-24T09:21:55.506Z"
      },
      {
        "duration": 113,
        "start_time": "2022-04-24T09:22:28.362Z"
      },
      {
        "duration": 23,
        "start_time": "2022-04-24T09:22:29.583Z"
      },
      {
        "duration": 5408,
        "start_time": "2022-04-24T09:22:31.076Z"
      },
      {
        "duration": 112,
        "start_time": "2022-04-24T09:22:45.777Z"
      },
      {
        "duration": 3324,
        "start_time": "2022-04-24T09:22:47.480Z"
      },
      {
        "duration": 3324,
        "start_time": "2022-04-24T09:23:15.981Z"
      },
      {
        "duration": 4108,
        "start_time": "2022-04-24T09:23:24.880Z"
      },
      {
        "duration": 13712,
        "start_time": "2022-04-24T09:23:36.444Z"
      },
      {
        "duration": 217452,
        "start_time": "2022-04-24T09:23:54.466Z"
      },
      {
        "duration": 2943,
        "start_time": "2022-04-24T09:27:45.868Z"
      },
      {
        "duration": 161,
        "start_time": "2022-04-24T09:33:08.757Z"
      },
      {
        "duration": 1349,
        "start_time": "2022-04-24T09:33:51.666Z"
      },
      {
        "duration": 736,
        "start_time": "2022-04-24T09:33:54.405Z"
      },
      {
        "duration": 119,
        "start_time": "2022-04-24T09:33:55.768Z"
      },
      {
        "duration": 84,
        "start_time": "2022-04-24T09:33:58.964Z"
      },
      {
        "duration": 79,
        "start_time": "2022-04-24T09:34:01.720Z"
      },
      {
        "duration": 42,
        "start_time": "2022-04-24T09:34:04.338Z"
      },
      {
        "duration": 81,
        "start_time": "2022-04-24T09:34:05.018Z"
      },
      {
        "duration": 663,
        "start_time": "2022-04-24T09:34:07.779Z"
      },
      {
        "duration": 13,
        "start_time": "2022-04-24T09:34:10.169Z"
      },
      {
        "duration": 609,
        "start_time": "2022-04-24T09:34:12.115Z"
      },
      {
        "duration": 111,
        "start_time": "2022-04-24T09:34:13.722Z"
      },
      {
        "duration": 110,
        "start_time": "2022-04-24T09:34:15.617Z"
      },
      {
        "duration": 4078,
        "start_time": "2022-04-24T09:34:17.345Z"
      },
      {
        "duration": 14053,
        "start_time": "2022-04-24T09:34:25.443Z"
      },
      {
        "duration": 17456,
        "start_time": "2022-04-24T09:34:41.372Z"
      },
      {
        "duration": 114,
        "start_time": "2022-04-24T09:35:01.767Z"
      },
      {
        "duration": 23,
        "start_time": "2022-04-24T09:35:02.982Z"
      },
      {
        "duration": 12598,
        "start_time": "2022-04-24T09:35:06.456Z"
      },
      {
        "duration": 7049,
        "start_time": "2022-04-24T09:35:24.762Z"
      },
      {
        "duration": 4208,
        "start_time": "2022-04-24T09:35:37.883Z"
      },
      {
        "duration": 14225,
        "start_time": "2022-04-24T09:36:01.980Z"
      },
      {
        "duration": 210455,
        "start_time": "2022-04-24T09:36:19.981Z"
      },
      {
        "duration": 8798,
        "start_time": "2022-04-24T09:39:57.611Z"
      },
      {
        "duration": 1322,
        "start_time": "2022-04-24T10:42:06.873Z"
      },
      {
        "duration": 707,
        "start_time": "2022-04-24T10:42:08.196Z"
      },
      {
        "duration": 117,
        "start_time": "2022-04-24T10:42:08.904Z"
      },
      {
        "duration": 89,
        "start_time": "2022-04-24T10:42:09.022Z"
      },
      {
        "duration": 74,
        "start_time": "2022-04-24T10:42:09.113Z"
      },
      {
        "duration": 50,
        "start_time": "2022-04-24T10:42:09.188Z"
      },
      {
        "duration": 93,
        "start_time": "2022-04-24T10:42:09.239Z"
      },
      {
        "duration": 692,
        "start_time": "2022-04-24T10:42:09.334Z"
      },
      {
        "duration": 621,
        "start_time": "2022-04-24T10:42:10.028Z"
      },
      {
        "duration": 118,
        "start_time": "2022-04-24T10:42:10.652Z"
      },
      {
        "duration": 120,
        "start_time": "2022-04-24T10:42:10.772Z"
      },
      {
        "duration": 4064,
        "start_time": "2022-04-24T10:42:10.894Z"
      },
      {
        "duration": 14325,
        "start_time": "2022-04-24T10:42:14.959Z"
      },
      {
        "duration": 21136,
        "start_time": "2022-04-24T10:42:29.286Z"
      },
      {
        "duration": 289,
        "start_time": "2022-04-24T10:42:50.424Z"
      },
      {
        "duration": 21,
        "start_time": "2022-04-24T10:42:50.715Z"
      },
      {
        "duration": 5281,
        "start_time": "2022-04-24T10:42:50.738Z"
      },
      {
        "duration": 6993,
        "start_time": "2022-04-24T10:42:56.020Z"
      },
      {
        "duration": 4213,
        "start_time": "2022-04-24T10:43:03.015Z"
      },
      {
        "duration": 14442,
        "start_time": "2022-04-24T10:43:07.230Z"
      },
      {
        "duration": 18232,
        "start_time": "2022-04-24T10:43:21.674Z"
      },
      {
        "duration": 210356,
        "start_time": "2022-04-24T10:43:39.908Z"
      },
      {
        "duration": 6746,
        "start_time": "2022-04-24T10:47:10.266Z"
      },
      {
        "duration": 1320,
        "start_time": "2022-04-25T07:03:57.982Z"
      },
      {
        "duration": 748,
        "start_time": "2022-04-25T07:03:59.304Z"
      },
      {
        "duration": 132,
        "start_time": "2022-04-25T07:04:00.054Z"
      },
      {
        "duration": 102,
        "start_time": "2022-04-25T07:04:00.188Z"
      },
      {
        "duration": 89,
        "start_time": "2022-04-25T07:04:00.292Z"
      },
      {
        "duration": 52,
        "start_time": "2022-04-25T07:04:00.382Z"
      },
      {
        "duration": 88,
        "start_time": "2022-04-25T07:04:00.436Z"
      },
      {
        "duration": 890,
        "start_time": "2022-04-25T07:04:00.525Z"
      },
      {
        "duration": 641,
        "start_time": "2022-04-25T07:04:01.416Z"
      },
      {
        "duration": 126,
        "start_time": "2022-04-25T07:04:02.059Z"
      },
      {
        "duration": 126,
        "start_time": "2022-04-25T07:04:02.187Z"
      },
      {
        "duration": 4310,
        "start_time": "2022-04-25T07:04:02.314Z"
      },
      {
        "duration": 14213,
        "start_time": "2022-04-25T07:04:06.625Z"
      },
      {
        "duration": 26568,
        "start_time": "2022-04-25T07:04:20.840Z"
      },
      {
        "duration": 223,
        "start_time": "2022-04-25T07:04:47.410Z"
      },
      {
        "duration": 23,
        "start_time": "2022-04-25T07:04:47.635Z"
      },
      {
        "duration": 4890,
        "start_time": "2022-04-25T07:04:47.660Z"
      },
      {
        "duration": 333670,
        "start_time": "2022-04-25T07:04:52.552Z"
      },
      {
        "duration": 4218,
        "start_time": "2022-04-25T07:10:26.224Z"
      },
      {
        "duration": 13854,
        "start_time": "2022-04-25T07:10:30.444Z"
      },
      {
        "duration": 25507,
        "start_time": "2022-04-25T07:10:44.300Z"
      },
      {
        "duration": 210357,
        "start_time": "2022-04-25T07:11:09.810Z"
      },
      {
        "duration": 176239,
        "start_time": "2022-04-25T07:14:40.169Z"
      },
      {
        "duration": 1798,
        "start_time": "2022-04-25T17:41:23.215Z"
      },
      {
        "duration": 1584,
        "start_time": "2022-04-25T17:41:26.022Z"
      },
      {
        "duration": 231,
        "start_time": "2022-04-25T17:41:28.689Z"
      },
      {
        "duration": 209,
        "start_time": "2022-04-25T17:41:32.881Z"
      },
      {
        "duration": 124,
        "start_time": "2022-04-25T17:41:35.877Z"
      },
      {
        "duration": 155,
        "start_time": "2022-04-25T17:41:40.501Z"
      },
      {
        "duration": 2143,
        "start_time": "2022-04-25T17:42:17.679Z"
      },
      {
        "duration": 9,
        "start_time": "2022-04-25T17:42:23.274Z"
      },
      {
        "duration": 42,
        "start_time": "2022-04-25T17:44:26.724Z"
      },
      {
        "duration": 102,
        "start_time": "2022-04-25T17:44:45.223Z"
      },
      {
        "duration": 74,
        "start_time": "2022-04-25T17:45:36.382Z"
      },
      {
        "duration": 143,
        "start_time": "2022-04-25T17:45:37.226Z"
      },
      {
        "duration": 45,
        "start_time": "2022-04-25T17:46:35.280Z"
      },
      {
        "duration": 10,
        "start_time": "2022-04-25T17:46:36.031Z"
      },
      {
        "duration": 19,
        "start_time": "2022-04-25T17:46:46.244Z"
      },
      {
        "duration": 1709,
        "start_time": "2022-04-25T17:46:57.404Z"
      },
      {
        "duration": 896,
        "start_time": "2022-04-25T17:47:00.808Z"
      },
      {
        "duration": 162,
        "start_time": "2022-04-25T17:47:02.293Z"
      },
      {
        "duration": 291,
        "start_time": "2022-04-25T17:47:05.974Z"
      },
      {
        "duration": 124,
        "start_time": "2022-04-25T17:47:08.974Z"
      },
      {
        "duration": 101,
        "start_time": "2022-04-25T17:47:16.372Z"
      },
      {
        "duration": 94,
        "start_time": "2022-04-25T17:47:20.652Z"
      },
      {
        "duration": 7,
        "start_time": "2022-04-25T17:47:24.097Z"
      },
      {
        "duration": 38,
        "start_time": "2022-04-25T17:47:35.481Z"
      },
      {
        "duration": 88,
        "start_time": "2022-04-25T17:47:37.773Z"
      },
      {
        "duration": 85,
        "start_time": "2022-04-25T17:50:40.272Z"
      },
      {
        "duration": 122,
        "start_time": "2022-04-25T17:50:57.330Z"
      },
      {
        "duration": 1413,
        "start_time": "2022-04-25T17:51:17.115Z"
      },
      {
        "duration": 1689,
        "start_time": "2022-04-25T17:51:19.146Z"
      },
      {
        "duration": 237,
        "start_time": "2022-04-25T17:51:21.527Z"
      },
      {
        "duration": 209,
        "start_time": "2022-04-25T17:51:24.973Z"
      },
      {
        "duration": 91,
        "start_time": "2022-04-25T17:51:27.827Z"
      },
      {
        "duration": 133,
        "start_time": "2022-04-25T17:51:30.877Z"
      },
      {
        "duration": 88,
        "start_time": "2022-04-25T17:51:33.483Z"
      },
      {
        "duration": 9,
        "start_time": "2022-04-25T17:51:36.775Z"
      },
      {
        "duration": 149,
        "start_time": "2022-04-25T17:51:43.959Z"
      },
      {
        "duration": 1704,
        "start_time": "2022-04-25T17:52:33.988Z"
      },
      {
        "duration": 913,
        "start_time": "2022-04-25T17:52:37.050Z"
      },
      {
        "duration": 169,
        "start_time": "2022-04-25T17:52:39.024Z"
      },
      {
        "duration": 208,
        "start_time": "2022-04-25T17:52:42.585Z"
      },
      {
        "duration": 95,
        "start_time": "2022-04-25T17:52:45.422Z"
      },
      {
        "duration": 128,
        "start_time": "2022-04-25T17:52:50.002Z"
      },
      {
        "duration": 98,
        "start_time": "2022-04-25T17:52:52.357Z"
      },
      {
        "duration": 9,
        "start_time": "2022-04-25T17:52:55.128Z"
      },
      {
        "duration": 164,
        "start_time": "2022-04-25T17:52:56.709Z"
      },
      {
        "duration": 7,
        "start_time": "2022-04-25T17:53:13.291Z"
      },
      {
        "duration": 1600,
        "start_time": "2022-04-25T17:53:20.306Z"
      },
      {
        "duration": 1085,
        "start_time": "2022-04-25T17:53:22.711Z"
      },
      {
        "duration": 173,
        "start_time": "2022-04-25T17:53:24.843Z"
      },
      {
        "duration": 201,
        "start_time": "2022-04-25T17:53:28.076Z"
      },
      {
        "duration": 91,
        "start_time": "2022-04-25T17:53:31.304Z"
      },
      {
        "duration": 129,
        "start_time": "2022-04-25T17:53:35.969Z"
      },
      {
        "duration": 87,
        "start_time": "2022-04-25T17:53:38.483Z"
      },
      {
        "duration": 7,
        "start_time": "2022-04-25T17:53:43.324Z"
      },
      {
        "duration": 187,
        "start_time": "2022-04-25T17:53:54.302Z"
      },
      {
        "duration": 42,
        "start_time": "2022-04-25T17:54:17.009Z"
      },
      {
        "duration": 4,
        "start_time": "2022-04-25T17:55:23.912Z"
      },
      {
        "duration": 12,
        "start_time": "2022-04-25T17:55:34.682Z"
      },
      {
        "duration": 4,
        "start_time": "2022-04-25T17:55:47.512Z"
      },
      {
        "duration": 9,
        "start_time": "2022-04-25T17:55:48.184Z"
      },
      {
        "duration": 1398,
        "start_time": "2022-04-25T17:56:03.213Z"
      },
      {
        "duration": 1136,
        "start_time": "2022-04-25T17:56:05.470Z"
      },
      {
        "duration": 147,
        "start_time": "2022-04-25T17:56:07.291Z"
      },
      {
        "duration": 245,
        "start_time": "2022-04-25T17:56:10.786Z"
      },
      {
        "duration": 122,
        "start_time": "2022-04-25T17:56:13.715Z"
      },
      {
        "duration": 116,
        "start_time": "2022-04-25T17:56:16.764Z"
      },
      {
        "duration": 116,
        "start_time": "2022-04-25T17:56:19.672Z"
      },
      {
        "duration": 10,
        "start_time": "2022-04-25T17:56:23.399Z"
      },
      {
        "duration": 26,
        "start_time": "2022-04-25T17:56:52.196Z"
      },
      {
        "duration": 160,
        "start_time": "2022-04-25T17:56:53.351Z"
      },
      {
        "duration": 12,
        "start_time": "2022-04-25T17:57:26.947Z"
      },
      {
        "duration": 25,
        "start_time": "2022-04-25T18:02:02.527Z"
      },
      {
        "duration": 93,
        "start_time": "2022-04-25T18:02:09.693Z"
      },
      {
        "duration": 9,
        "start_time": "2022-04-25T18:02:26.321Z"
      },
      {
        "duration": 7,
        "start_time": "2022-04-25T18:03:20.010Z"
      },
      {
        "duration": 168,
        "start_time": "2022-04-25T18:03:44.738Z"
      },
      {
        "duration": 11,
        "start_time": "2022-04-25T18:03:56.833Z"
      },
      {
        "duration": 13,
        "start_time": "2022-04-25T18:04:03.094Z"
      },
      {
        "duration": 14,
        "start_time": "2022-04-25T18:04:06.733Z"
      },
      {
        "duration": 7,
        "start_time": "2022-04-25T18:04:13.574Z"
      },
      {
        "duration": 9,
        "start_time": "2022-04-25T18:05:20.898Z"
      },
      {
        "duration": 13,
        "start_time": "2022-04-25T18:05:28.773Z"
      },
      {
        "duration": 5,
        "start_time": "2022-04-25T18:05:35.076Z"
      },
      {
        "duration": 9,
        "start_time": "2022-04-25T18:05:35.809Z"
      },
      {
        "duration": 1687,
        "start_time": "2022-04-25T18:05:48.269Z"
      },
      {
        "duration": 1322,
        "start_time": "2022-04-25T18:05:50.898Z"
      },
      {
        "duration": 150,
        "start_time": "2022-04-25T18:05:52.888Z"
      },
      {
        "duration": 209,
        "start_time": "2022-04-25T18:05:55.787Z"
      },
      {
        "duration": 96,
        "start_time": "2022-04-25T18:05:58.683Z"
      },
      {
        "duration": 101,
        "start_time": "2022-04-25T18:06:01.586Z"
      },
      {
        "duration": 107,
        "start_time": "2022-04-25T18:06:03.769Z"
      },
      {
        "duration": 7,
        "start_time": "2022-04-25T18:06:07.719Z"
      },
      {
        "duration": 32,
        "start_time": "2022-04-25T18:06:10.172Z"
      },
      {
        "duration": 96,
        "start_time": "2022-04-25T18:06:12.568Z"
      },
      {
        "duration": 8,
        "start_time": "2022-04-25T18:06:16.425Z"
      },
      {
        "duration": 22,
        "start_time": "2022-04-25T18:06:20.924Z"
      },
      {
        "duration": 94,
        "start_time": "2022-04-25T18:06:22.308Z"
      },
      {
        "duration": 30,
        "start_time": "2022-04-25T18:06:24.966Z"
      },
      {
        "duration": 123,
        "start_time": "2022-04-25T18:06:25.980Z"
      },
      {
        "duration": 5,
        "start_time": "2022-04-25T18:08:16.086Z"
      },
      {
        "duration": 850,
        "start_time": "2022-04-25T18:09:16.115Z"
      },
      {
        "duration": 83,
        "start_time": "2022-04-25T18:09:21.579Z"
      },
      {
        "duration": 14,
        "start_time": "2022-04-25T18:09:24.075Z"
      },
      {
        "duration": 75,
        "start_time": "2022-04-25T18:09:44.122Z"
      },
      {
        "duration": 347,
        "start_time": "2022-04-25T18:09:55.062Z"
      },
      {
        "duration": 1334,
        "start_time": "2022-04-25T18:09:57.393Z"
      },
      {
        "duration": 64,
        "start_time": "2022-04-25T18:10:01.128Z"
      },
      {
        "duration": 101,
        "start_time": "2022-04-25T18:10:20.879Z"
      },
      {
        "duration": 21,
        "start_time": "2022-04-25T18:10:22.482Z"
      },
      {
        "duration": 5068,
        "start_time": "2022-04-25T18:10:24.271Z"
      },
      {
        "duration": 358947,
        "start_time": "2022-04-25T18:10:37.530Z"
      },
      {
        "duration": 1882,
        "start_time": "2022-04-25T18:40:20.390Z"
      },
      {
        "duration": 199221,
        "start_time": "2022-04-25T18:43:46.353Z"
      },
      {
        "duration": 84,
        "start_time": "2022-04-25T18:48:50.314Z"
      },
      {
        "duration": 91,
        "start_time": "2022-04-25T18:49:50.171Z"
      },
      {
        "duration": 97,
        "start_time": "2022-04-25T18:50:42.315Z"
      },
      {
        "duration": 1970,
        "start_time": "2022-04-25T18:51:16.631Z"
      },
      {
        "duration": 1946,
        "start_time": "2022-04-25T18:51:30.585Z"
      },
      {
        "duration": 225,
        "start_time": "2022-04-25T18:51:49.423Z"
      },
      {
        "duration": 317,
        "start_time": "2022-04-25T18:53:05.619Z"
      },
      {
        "duration": 10598,
        "start_time": "2022-04-25T18:53:11.516Z"
      },
      {
        "duration": 69,
        "start_time": "2022-04-25T19:02:14.568Z"
      },
      {
        "duration": 89,
        "start_time": "2022-04-25T19:02:38.547Z"
      },
      {
        "duration": 961,
        "start_time": "2022-04-25T19:02:53.304Z"
      },
      {
        "duration": 85,
        "start_time": "2022-04-25T19:02:59.433Z"
      },
      {
        "duration": 77,
        "start_time": "2022-04-25T19:03:08.711Z"
      },
      {
        "duration": 82,
        "start_time": "2022-04-25T19:04:22.600Z"
      },
      {
        "duration": 78,
        "start_time": "2022-04-25T19:06:08.465Z"
      },
      {
        "duration": 4960,
        "start_time": "2022-04-25T19:06:22.287Z"
      },
      {
        "duration": 104,
        "start_time": "2022-04-25T19:07:10.497Z"
      },
      {
        "duration": 9,
        "start_time": "2022-04-25T19:08:36.476Z"
      },
      {
        "duration": 75,
        "start_time": "2022-04-25T19:08:49.063Z"
      },
      {
        "duration": 80,
        "start_time": "2022-04-25T19:09:00.664Z"
      },
      {
        "duration": 20,
        "start_time": "2022-04-25T19:09:17.590Z"
      },
      {
        "duration": 26,
        "start_time": "2022-04-25T19:09:39.568Z"
      },
      {
        "duration": 20,
        "start_time": "2022-04-25T19:10:06.033Z"
      },
      {
        "duration": 3760,
        "start_time": "2022-04-25T19:10:18.788Z"
      },
      {
        "duration": 305,
        "start_time": "2022-04-25T19:10:52.311Z"
      },
      {
        "duration": 10406,
        "start_time": "2022-04-25T19:10:56.057Z"
      },
      {
        "duration": 94,
        "start_time": "2022-04-25T19:11:10.054Z"
      },
      {
        "duration": 167925,
        "start_time": "2022-04-25T19:11:15.241Z"
      },
      {
        "duration": 4903,
        "start_time": "2022-04-25T19:14:17.252Z"
      },
      {
        "duration": 1421,
        "start_time": "2022-04-26T17:27:03.173Z"
      },
      {
        "duration": 912,
        "start_time": "2022-04-26T17:27:06.350Z"
      },
      {
        "duration": 170,
        "start_time": "2022-04-26T17:27:08.131Z"
      },
      {
        "duration": 205,
        "start_time": "2022-04-26T17:27:12.275Z"
      },
      {
        "duration": 91,
        "start_time": "2022-04-26T17:27:14.516Z"
      },
      {
        "duration": 102,
        "start_time": "2022-04-26T17:27:18.216Z"
      },
      {
        "duration": 100,
        "start_time": "2022-04-26T17:27:21.161Z"
      },
      {
        "duration": 9,
        "start_time": "2022-04-26T17:27:24.230Z"
      },
      {
        "duration": 29,
        "start_time": "2022-04-26T17:28:31.978Z"
      },
      {
        "duration": 108,
        "start_time": "2022-04-26T17:28:33.158Z"
      },
      {
        "duration": 9,
        "start_time": "2022-04-26T17:28:36.378Z"
      },
      {
        "duration": 24,
        "start_time": "2022-04-26T17:29:20.087Z"
      },
      {
        "duration": 89,
        "start_time": "2022-04-26T17:29:21.194Z"
      },
      {
        "duration": 129,
        "start_time": "2022-04-26T17:29:48.066Z"
      },
      {
        "duration": 20,
        "start_time": "2022-04-26T17:29:53.661Z"
      },
      {
        "duration": 78,
        "start_time": "2022-04-26T17:29:57.358Z"
      },
      {
        "duration": 633,
        "start_time": "2022-04-26T17:30:10.202Z"
      },
      {
        "duration": 49,
        "start_time": "2022-04-26T17:30:13.779Z"
      },
      {
        "duration": 19,
        "start_time": "2022-04-26T17:30:15.847Z"
      },
      {
        "duration": 82,
        "start_time": "2022-04-26T17:30:18.140Z"
      },
      {
        "duration": 400,
        "start_time": "2022-04-26T17:30:21.603Z"
      },
      {
        "duration": 2343,
        "start_time": "2022-04-26T17:30:26.829Z"
      },
      {
        "duration": 1603,
        "start_time": "2022-04-26T17:30:32.500Z"
      },
      {
        "duration": 239548,
        "start_time": "2022-04-26T17:30:37.285Z"
      },
      {
        "duration": 145,
        "start_time": "2022-04-26T17:34:42.199Z"
      },
      {
        "duration": 112,
        "start_time": "2022-04-26T17:34:44.203Z"
      },
      {
        "duration": 24,
        "start_time": "2022-04-26T17:34:46.963Z"
      },
      {
        "duration": 5651,
        "start_time": "2022-04-26T17:34:48.455Z"
      },
      {
        "duration": 436191,
        "start_time": "2022-04-26T17:34:57.247Z"
      },
      {
        "duration": 378590,
        "start_time": "2022-04-26T17:42:14.764Z"
      },
      {
        "duration": 5328,
        "start_time": "2022-04-26T17:48:33.357Z"
      },
      {
        "duration": 5895,
        "start_time": "2022-04-26T17:50:06.267Z"
      },
      {
        "duration": 394431,
        "start_time": "2022-04-26T17:50:25.712Z"
      },
      {
        "duration": 0,
        "start_time": "2022-04-26T17:57:00.146Z"
      },
      {
        "duration": 5029,
        "start_time": "2022-04-26T17:57:04.109Z"
      },
      {
        "duration": 0,
        "start_time": "2022-04-26T17:59:44.950Z"
      },
      {
        "duration": 390180,
        "start_time": "2022-04-26T17:59:59.876Z"
      },
      {
        "duration": 12,
        "start_time": "2022-04-26T18:06:30.058Z"
      },
      {
        "duration": 8570,
        "start_time": "2022-04-26T18:06:55.974Z"
      },
      {
        "duration": 326639,
        "start_time": "2022-04-26T18:07:09.821Z"
      },
      {
        "duration": 155877,
        "start_time": "2022-04-26T18:12:36.462Z"
      },
      {
        "duration": 366,
        "start_time": "2022-04-26T18:15:46.269Z"
      },
      {
        "duration": 12027,
        "start_time": "2022-04-26T18:15:50.445Z"
      },
      {
        "duration": 72,
        "start_time": "2022-04-26T18:16:34.365Z"
      },
      {
        "duration": 4856,
        "start_time": "2022-04-26T18:16:42.130Z"
      },
      {
        "duration": 4855,
        "start_time": "2022-04-26T18:16:59.550Z"
      },
      {
        "duration": 156688,
        "start_time": "2022-04-26T18:17:23.658Z"
      },
      {
        "duration": 5,
        "start_time": "2022-04-26T18:26:50.780Z"
      },
      {
        "duration": 10,
        "start_time": "2022-04-26T18:26:51.826Z"
      },
      {
        "duration": 4,
        "start_time": "2022-04-26T18:27:16.244Z"
      },
      {
        "duration": 8,
        "start_time": "2022-04-26T18:27:17.115Z"
      },
      {
        "duration": 1574,
        "start_time": "2022-04-26T18:31:23.445Z"
      },
      {
        "duration": 959,
        "start_time": "2022-04-26T18:31:25.021Z"
      },
      {
        "duration": 158,
        "start_time": "2022-04-26T18:31:25.982Z"
      },
      {
        "duration": 244,
        "start_time": "2022-04-26T18:31:26.145Z"
      },
      {
        "duration": 110,
        "start_time": "2022-04-26T18:31:26.391Z"
      },
      {
        "duration": 104,
        "start_time": "2022-04-26T18:31:26.503Z"
      },
      {
        "duration": 115,
        "start_time": "2022-04-26T18:31:26.609Z"
      },
      {
        "duration": 15,
        "start_time": "2022-04-26T18:31:26.726Z"
      },
      {
        "duration": 30,
        "start_time": "2022-04-26T18:31:26.743Z"
      },
      {
        "duration": 135,
        "start_time": "2022-04-26T18:31:26.776Z"
      },
      {
        "duration": 29,
        "start_time": "2022-04-26T18:31:26.912Z"
      },
      {
        "duration": 29,
        "start_time": "2022-04-26T18:31:26.944Z"
      },
      {
        "duration": 100,
        "start_time": "2022-04-26T18:31:26.975Z"
      },
      {
        "duration": 20,
        "start_time": "2022-04-26T18:31:27.077Z"
      },
      {
        "duration": 112,
        "start_time": "2022-04-26T18:31:27.099Z"
      },
      {
        "duration": 717,
        "start_time": "2022-04-26T18:31:27.213Z"
      },
      {
        "duration": 58,
        "start_time": "2022-04-26T18:31:27.932Z"
      },
      {
        "duration": 17,
        "start_time": "2022-04-26T18:31:27.992Z"
      },
      {
        "duration": 115,
        "start_time": "2022-04-26T18:31:28.011Z"
      },
      {
        "duration": 475,
        "start_time": "2022-04-26T18:31:28.128Z"
      },
      {
        "duration": 2650,
        "start_time": "2022-04-26T18:31:28.604Z"
      },
      {
        "duration": 1647,
        "start_time": "2022-04-26T18:31:31.256Z"
      },
      {
        "duration": 234357,
        "start_time": "2022-04-26T18:31:32.904Z"
      },
      {
        "duration": 81,
        "start_time": "2022-04-26T18:35:27.263Z"
      },
      {
        "duration": 278,
        "start_time": "2022-04-26T18:35:27.346Z"
      },
      {
        "duration": 23,
        "start_time": "2022-04-26T18:35:27.626Z"
      },
      {
        "duration": 6047,
        "start_time": "2022-04-26T18:35:27.651Z"
      },
      {
        "duration": 153249,
        "start_time": "2022-04-26T18:35:33.702Z"
      },
      {
        "duration": 418,
        "start_time": "2022-04-26T18:38:06.953Z"
      },
      {
        "duration": 6,
        "start_time": "2022-04-26T18:38:07.373Z"
      },
      {
        "duration": 0,
        "start_time": "2022-04-26T18:38:07.381Z"
      },
      {
        "duration": 0,
        "start_time": "2022-04-26T18:38:07.382Z"
      },
      {
        "duration": 0,
        "start_time": "2022-04-26T18:38:07.383Z"
      },
      {
        "duration": 0,
        "start_time": "2022-04-26T18:38:07.384Z"
      },
      {
        "duration": 0,
        "start_time": "2022-04-26T18:38:07.385Z"
      },
      {
        "duration": 13234,
        "start_time": "2022-04-26T18:38:21.545Z"
      },
      {
        "duration": 154,
        "start_time": "2022-04-26T18:38:39.783Z"
      },
      {
        "duration": 4789,
        "start_time": "2022-04-26T18:38:42.232Z"
      },
      {
        "duration": 43755,
        "start_time": "2022-04-26T18:38:49.685Z"
      },
      {
        "duration": 5,
        "start_time": "2022-04-26T18:39:36.755Z"
      },
      {
        "duration": 13,
        "start_time": "2022-04-26T18:39:37.474Z"
      },
      {
        "duration": 1432,
        "start_time": "2022-04-26T18:46:23.427Z"
      },
      {
        "duration": 865,
        "start_time": "2022-04-26T18:46:24.862Z"
      },
      {
        "duration": 154,
        "start_time": "2022-04-26T18:46:25.729Z"
      },
      {
        "duration": 202,
        "start_time": "2022-04-26T18:46:25.886Z"
      },
      {
        "duration": 92,
        "start_time": "2022-04-26T18:46:26.090Z"
      },
      {
        "duration": 106,
        "start_time": "2022-04-26T18:46:26.183Z"
      },
      {
        "duration": 112,
        "start_time": "2022-04-26T18:46:26.290Z"
      },
      {
        "duration": 8,
        "start_time": "2022-04-26T18:46:26.404Z"
      },
      {
        "duration": 43,
        "start_time": "2022-04-26T18:46:26.414Z"
      },
      {
        "duration": 104,
        "start_time": "2022-04-26T18:46:26.461Z"
      },
      {
        "duration": 9,
        "start_time": "2022-04-26T18:46:26.567Z"
      },
      {
        "duration": 22,
        "start_time": "2022-04-26T18:46:26.578Z"
      },
      {
        "duration": 116,
        "start_time": "2022-04-26T18:46:26.602Z"
      },
      {
        "duration": 36,
        "start_time": "2022-04-26T18:46:26.720Z"
      },
      {
        "duration": 94,
        "start_time": "2022-04-26T18:46:26.758Z"
      },
      {
        "duration": 647,
        "start_time": "2022-04-26T18:46:26.854Z"
      },
      {
        "duration": 55,
        "start_time": "2022-04-26T18:46:27.503Z"
      },
      {
        "duration": 14,
        "start_time": "2022-04-26T18:46:27.559Z"
      },
      {
        "duration": 88,
        "start_time": "2022-04-26T18:46:27.575Z"
      },
      {
        "duration": 368,
        "start_time": "2022-04-26T18:46:27.665Z"
      },
      {
        "duration": 2157,
        "start_time": "2022-04-26T18:46:28.036Z"
      },
      {
        "duration": 1413,
        "start_time": "2022-04-26T18:46:30.194Z"
      },
      {
        "duration": 226625,
        "start_time": "2022-04-26T18:46:31.609Z"
      },
      {
        "duration": 109,
        "start_time": "2022-04-26T18:50:18.239Z"
      },
      {
        "duration": 144,
        "start_time": "2022-04-26T18:50:18.437Z"
      },
      {
        "duration": 18,
        "start_time": "2022-04-26T18:50:18.583Z"
      },
      {
        "duration": 5416,
        "start_time": "2022-04-26T18:50:18.603Z"
      },
      {
        "duration": 6040,
        "start_time": "2022-04-26T18:50:24.022Z"
      },
      {
        "duration": 450,
        "start_time": "2022-04-26T18:50:30.064Z"
      },
      {
        "duration": 12068,
        "start_time": "2022-04-26T18:50:30.516Z"
      },
      {
        "duration": 74,
        "start_time": "2022-04-26T18:50:42.586Z"
      },
      {
        "duration": 5176,
        "start_time": "2022-04-26T18:50:42.744Z"
      },
      {
        "duration": 7827,
        "start_time": "2022-04-26T18:50:47.922Z"
      },
      {
        "duration": 4,
        "start_time": "2022-04-26T18:50:55.751Z"
      },
      {
        "duration": 15,
        "start_time": "2022-04-26T18:50:55.757Z"
      },
      {
        "duration": 1661,
        "start_time": "2022-04-26T19:27:10.178Z"
      },
      {
        "duration": 951,
        "start_time": "2022-04-26T19:27:11.842Z"
      },
      {
        "duration": 152,
        "start_time": "2022-04-26T19:27:12.796Z"
      },
      {
        "duration": 218,
        "start_time": "2022-04-26T19:27:12.951Z"
      },
      {
        "duration": 94,
        "start_time": "2022-04-26T19:27:13.172Z"
      },
      {
        "duration": 119,
        "start_time": "2022-04-26T19:27:13.269Z"
      },
      {
        "duration": 103,
        "start_time": "2022-04-26T19:27:13.389Z"
      },
      {
        "duration": 8,
        "start_time": "2022-04-26T19:27:13.494Z"
      },
      {
        "duration": 51,
        "start_time": "2022-04-26T19:27:13.504Z"
      },
      {
        "duration": 185,
        "start_time": "2022-04-26T19:27:13.559Z"
      },
      {
        "duration": 13,
        "start_time": "2022-04-26T19:27:13.748Z"
      },
      {
        "duration": 33,
        "start_time": "2022-04-26T19:27:13.764Z"
      },
      {
        "duration": 191,
        "start_time": "2022-04-26T19:27:13.799Z"
      },
      {
        "duration": 47,
        "start_time": "2022-04-26T19:27:13.993Z"
      },
      {
        "duration": 155,
        "start_time": "2022-04-26T19:27:14.043Z"
      },
      {
        "duration": 654,
        "start_time": "2022-04-26T19:27:14.201Z"
      },
      {
        "duration": 50,
        "start_time": "2022-04-26T19:27:14.857Z"
      },
      {
        "duration": 29,
        "start_time": "2022-04-26T19:27:14.909Z"
      },
      {
        "duration": 102,
        "start_time": "2022-04-26T19:27:14.941Z"
      },
      {
        "duration": 394,
        "start_time": "2022-04-26T19:27:15.045Z"
      },
      {
        "duration": 1608,
        "start_time": "2022-04-26T19:27:15.441Z"
      },
      {
        "duration": 197,
        "start_time": "2022-04-26T19:27:17.051Z"
      },
      {
        "duration": 191,
        "start_time": "2022-04-26T19:27:17.250Z"
      },
      {
        "duration": 24,
        "start_time": "2022-04-26T19:27:17.443Z"
      },
      {
        "duration": 5691,
        "start_time": "2022-04-26T19:27:17.469Z"
      },
      {
        "duration": 132383,
        "start_time": "2022-04-26T19:27:23.162Z"
      },
      {
        "duration": 447,
        "start_time": "2022-04-26T19:29:35.547Z"
      },
      {
        "duration": 14044,
        "start_time": "2022-04-26T19:29:35.997Z"
      },
      {
        "duration": 197,
        "start_time": "2022-04-26T19:29:50.043Z"
      },
      {
        "duration": 5388,
        "start_time": "2022-04-26T19:29:50.242Z"
      },
      {
        "duration": 129902,
        "start_time": "2022-04-26T19:29:55.633Z"
      },
      {
        "duration": 5,
        "start_time": "2022-04-26T19:32:05.538Z"
      },
      {
        "duration": 15,
        "start_time": "2022-04-26T19:32:05.546Z"
      },
      {
        "duration": 1602,
        "start_time": "2022-04-27T07:25:08.843Z"
      },
      {
        "duration": 875,
        "start_time": "2022-04-27T07:25:10.448Z"
      },
      {
        "duration": 157,
        "start_time": "2022-04-27T07:25:11.325Z"
      },
      {
        "duration": 203,
        "start_time": "2022-04-27T07:25:11.484Z"
      },
      {
        "duration": 101,
        "start_time": "2022-04-27T07:25:11.689Z"
      },
      {
        "duration": 115,
        "start_time": "2022-04-27T07:25:11.792Z"
      },
      {
        "duration": 105,
        "start_time": "2022-04-27T07:25:11.909Z"
      },
      {
        "duration": 22,
        "start_time": "2022-04-27T07:25:12.017Z"
      },
      {
        "duration": 50,
        "start_time": "2022-04-27T07:25:12.041Z"
      },
      {
        "duration": 120,
        "start_time": "2022-04-27T07:25:12.094Z"
      },
      {
        "duration": 15,
        "start_time": "2022-04-27T07:25:12.216Z"
      },
      {
        "duration": 41,
        "start_time": "2022-04-27T07:25:12.234Z"
      },
      {
        "duration": 85,
        "start_time": "2022-04-27T07:25:12.277Z"
      },
      {
        "duration": 27,
        "start_time": "2022-04-27T07:25:12.365Z"
      },
      {
        "duration": 106,
        "start_time": "2022-04-27T07:25:12.394Z"
      },
      {
        "duration": 625,
        "start_time": "2022-04-27T07:25:12.502Z"
      },
      {
        "duration": 73,
        "start_time": "2022-04-27T07:25:13.129Z"
      },
      {
        "duration": 18,
        "start_time": "2022-04-27T07:25:13.204Z"
      },
      {
        "duration": 112,
        "start_time": "2022-04-27T07:25:13.224Z"
      },
      {
        "duration": 67,
        "start_time": "2022-04-27T07:39:13.691Z"
      },
      {
        "duration": 17,
        "start_time": "2022-04-27T07:39:40.496Z"
      },
      {
        "duration": 5,
        "start_time": "2022-04-27T07:40:05.106Z"
      },
      {
        "duration": 3,
        "start_time": "2022-04-27T07:40:10.619Z"
      },
      {
        "duration": 6,
        "start_time": "2022-04-27T07:40:16.262Z"
      },
      {
        "duration": 3,
        "start_time": "2022-04-27T07:40:21.729Z"
      },
      {
        "duration": 4,
        "start_time": "2022-04-27T07:40:29.620Z"
      },
      {
        "duration": 339,
        "start_time": "2022-04-27T07:42:37.987Z"
      },
      {
        "duration": 4,
        "start_time": "2022-04-27T07:43:24.115Z"
      },
      {
        "duration": 757,
        "start_time": "2022-04-27T07:43:24.121Z"
      },
      {
        "duration": 143,
        "start_time": "2022-04-27T07:43:24.879Z"
      },
      {
        "duration": 166,
        "start_time": "2022-04-27T07:43:25.023Z"
      },
      {
        "duration": 74,
        "start_time": "2022-04-27T07:43:25.192Z"
      },
      {
        "duration": 91,
        "start_time": "2022-04-27T07:43:25.267Z"
      },
      {
        "duration": 140,
        "start_time": "2022-04-27T07:43:25.361Z"
      },
      {
        "duration": 9,
        "start_time": "2022-04-27T07:43:25.504Z"
      },
      {
        "duration": 62,
        "start_time": "2022-04-27T07:43:25.516Z"
      },
      {
        "duration": 147,
        "start_time": "2022-04-27T07:43:25.581Z"
      },
      {
        "duration": 26,
        "start_time": "2022-04-27T07:43:25.730Z"
      },
      {
        "duration": 26,
        "start_time": "2022-04-27T07:43:25.757Z"
      },
      {
        "duration": 96,
        "start_time": "2022-04-27T07:43:25.786Z"
      },
      {
        "duration": 34,
        "start_time": "2022-04-27T07:43:25.885Z"
      },
      {
        "duration": 138,
        "start_time": "2022-04-27T07:43:25.921Z"
      },
      {
        "duration": 600,
        "start_time": "2022-04-27T07:43:26.061Z"
      },
      {
        "duration": 919,
        "start_time": "2022-04-27T07:43:36.487Z"
      },
      {
        "duration": 198,
        "start_time": "2022-04-27T07:43:42.291Z"
      },
      {
        "duration": 53,
        "start_time": "2022-04-27T07:43:46.594Z"
      },
      {
        "duration": 848,
        "start_time": "2022-04-27T07:44:15.484Z"
      },
      {
        "duration": 5,
        "start_time": "2022-04-27T07:44:19.120Z"
      },
      {
        "duration": 1193,
        "start_time": "2022-04-27T07:44:19.127Z"
      },
      {
        "duration": 241,
        "start_time": "2022-04-27T07:44:20.323Z"
      },
      {
        "duration": 166,
        "start_time": "2022-04-27T07:44:20.566Z"
      },
      {
        "duration": 83,
        "start_time": "2022-04-27T07:44:20.735Z"
      },
      {
        "duration": 102,
        "start_time": "2022-04-27T07:44:20.820Z"
      },
      {
        "duration": 96,
        "start_time": "2022-04-27T07:44:20.924Z"
      },
      {
        "duration": 6,
        "start_time": "2022-04-27T07:44:21.022Z"
      },
      {
        "duration": 48,
        "start_time": "2022-04-27T07:44:21.030Z"
      },
      {
        "duration": 89,
        "start_time": "2022-04-27T07:44:21.080Z"
      },
      {
        "duration": 9,
        "start_time": "2022-04-27T07:44:21.172Z"
      },
      {
        "duration": 22,
        "start_time": "2022-04-27T07:44:21.183Z"
      },
      {
        "duration": 105,
        "start_time": "2022-04-27T07:44:21.207Z"
      },
      {
        "duration": 21,
        "start_time": "2022-04-27T07:44:21.315Z"
      },
      {
        "duration": 94,
        "start_time": "2022-04-27T07:44:21.337Z"
      },
      {
        "duration": 604,
        "start_time": "2022-04-27T07:44:21.434Z"
      },
      {
        "duration": 76,
        "start_time": "2022-04-27T07:44:26.466Z"
      },
      {
        "duration": 17,
        "start_time": "2022-04-27T07:44:27.334Z"
      },
      {
        "duration": 18,
        "start_time": "2022-04-27T07:44:42.675Z"
      },
      {
        "duration": 6,
        "start_time": "2022-04-27T07:44:47.728Z"
      },
      {
        "duration": 45,
        "start_time": "2022-04-27T07:44:53.651Z"
      },
      {
        "duration": 54,
        "start_time": "2022-04-27T07:45:15.935Z"
      },
      {
        "duration": 11,
        "start_time": "2022-04-27T07:45:31.991Z"
      },
      {
        "duration": 77,
        "start_time": "2022-04-27T07:45:35.486Z"
      },
      {
        "duration": 575,
        "start_time": "2022-04-27T07:46:10.009Z"
      },
      {
        "duration": 1301,
        "start_time": "2022-04-27T07:46:28.588Z"
      },
      {
        "duration": 109,
        "start_time": "2022-04-27T07:46:34.153Z"
      },
      {
        "duration": 18,
        "start_time": "2022-04-27T07:46:58.845Z"
      },
      {
        "duration": 19,
        "start_time": "2022-04-27T07:47:15.349Z"
      },
      {
        "duration": 6,
        "start_time": "2022-04-27T07:47:31.130Z"
      },
      {
        "duration": 7,
        "start_time": "2022-04-27T07:47:38.852Z"
      },
      {
        "duration": 7,
        "start_time": "2022-04-27T07:47:44.837Z"
      },
      {
        "duration": 5,
        "start_time": "2022-04-27T07:48:16.210Z"
      },
      {
        "duration": 16,
        "start_time": "2022-04-27T07:48:42.091Z"
      },
      {
        "duration": 8,
        "start_time": "2022-04-27T07:48:50.234Z"
      },
      {
        "duration": 7,
        "start_time": "2022-04-27T07:49:25.468Z"
      },
      {
        "duration": 6,
        "start_time": "2022-04-27T07:49:38.427Z"
      },
      {
        "duration": 161,
        "start_time": "2022-04-27T07:56:54.549Z"
      },
      {
        "duration": 10,
        "start_time": "2022-04-27T07:57:01.570Z"
      },
      {
        "duration": 123,
        "start_time": "2022-04-27T07:57:06.303Z"
      },
      {
        "duration": 23,
        "start_time": "2022-04-27T07:57:07.376Z"
      },
      {
        "duration": 21288,
        "start_time": "2022-04-27T07:57:11.228Z"
      },
      {
        "duration": 17764,
        "start_time": "2022-04-27T07:57:39.188Z"
      },
      {
        "duration": 118742,
        "start_time": "2022-04-27T07:57:58.239Z"
      },
      {
        "duration": 146,
        "start_time": "2022-04-27T08:00:34.135Z"
      },
      {
        "duration": 340,
        "start_time": "2022-04-27T08:00:48.068Z"
      },
      {
        "duration": 11323,
        "start_time": "2022-04-27T08:00:49.540Z"
      },
      {
        "duration": 10684,
        "start_time": "2022-04-27T08:04:06.028Z"
      },
      {
        "duration": 5933,
        "start_time": "2022-04-27T08:04:51.897Z"
      },
      {
        "duration": 151,
        "start_time": "2022-04-27T08:16:35.715Z"
      },
      {
        "duration": 1385,
        "start_time": "2022-04-27T16:06:03.346Z"
      },
      {
        "duration": 712,
        "start_time": "2022-04-27T16:06:07.671Z"
      },
      {
        "duration": 104,
        "start_time": "2022-04-27T16:06:09.555Z"
      },
      {
        "duration": 141,
        "start_time": "2022-04-27T16:06:12.706Z"
      },
      {
        "duration": 79,
        "start_time": "2022-04-27T16:06:14.916Z"
      },
      {
        "duration": 88,
        "start_time": "2022-04-27T16:06:18.581Z"
      },
      {
        "duration": 70,
        "start_time": "2022-04-27T16:06:21.749Z"
      },
      {
        "duration": 6,
        "start_time": "2022-04-27T16:06:25.032Z"
      },
      {
        "duration": 27,
        "start_time": "2022-04-27T16:06:27.462Z"
      },
      {
        "duration": 73,
        "start_time": "2022-04-27T16:06:28.331Z"
      },
      {
        "duration": 7,
        "start_time": "2022-04-27T16:06:30.603Z"
      },
      {
        "duration": 190,
        "start_time": "2022-04-27T16:14:59.456Z"
      },
      {
        "duration": 86,
        "start_time": "2022-04-27T16:16:04.862Z"
      },
      {
        "duration": 84,
        "start_time": "2022-04-27T16:18:59.779Z"
      },
      {
        "duration": 90,
        "start_time": "2022-04-27T16:20:33.972Z"
      },
      {
        "duration": 83,
        "start_time": "2022-04-27T16:23:17.632Z"
      },
      {
        "duration": 70,
        "start_time": "2022-04-27T16:23:27.976Z"
      },
      {
        "duration": 67,
        "start_time": "2022-04-27T16:23:55.644Z"
      },
      {
        "duration": 15,
        "start_time": "2022-04-27T16:31:02.130Z"
      },
      {
        "duration": 534,
        "start_time": "2022-04-27T16:31:23.945Z"
      },
      {
        "duration": 728,
        "start_time": "2022-04-27T16:31:45.521Z"
      },
      {
        "duration": 9,
        "start_time": "2022-04-27T16:32:22.727Z"
      },
      {
        "duration": 115,
        "start_time": "2022-04-27T16:32:46.526Z"
      },
      {
        "duration": 164,
        "start_time": "2022-04-27T16:35:48.349Z"
      },
      {
        "duration": 99,
        "start_time": "2022-04-27T16:36:14.129Z"
      },
      {
        "duration": 111,
        "start_time": "2022-04-27T16:36:39.177Z"
      },
      {
        "duration": 105,
        "start_time": "2022-04-27T16:37:07.524Z"
      },
      {
        "duration": 200,
        "start_time": "2022-04-27T16:37:27.049Z"
      },
      {
        "duration": 109,
        "start_time": "2022-04-27T16:37:39.735Z"
      },
      {
        "duration": 114,
        "start_time": "2022-04-27T16:37:53.716Z"
      },
      {
        "duration": 15,
        "start_time": "2022-04-27T16:38:35.495Z"
      },
      {
        "duration": 61,
        "start_time": "2022-04-27T16:47:27.119Z"
      },
      {
        "duration": 10,
        "start_time": "2022-04-27T16:48:03.146Z"
      },
      {
        "duration": 58,
        "start_time": "2022-04-27T16:48:15.767Z"
      },
      {
        "duration": 11,
        "start_time": "2022-04-27T16:48:16.938Z"
      },
      {
        "duration": 6,
        "start_time": "2022-04-27T16:50:19.622Z"
      },
      {
        "duration": 116,
        "start_time": "2022-04-27T16:51:53.960Z"
      },
      {
        "duration": 119,
        "start_time": "2022-04-27T16:53:38.818Z"
      },
      {
        "duration": 68,
        "start_time": "2022-04-27T16:58:13.071Z"
      },
      {
        "duration": 17,
        "start_time": "2022-04-27T16:58:17.698Z"
      },
      {
        "duration": 67,
        "start_time": "2022-04-27T16:58:20.055Z"
      },
      {
        "duration": 24,
        "start_time": "2022-04-27T16:58:29.561Z"
      },
      {
        "duration": 60,
        "start_time": "2022-04-27T16:58:30.614Z"
      },
      {
        "duration": 1940,
        "start_time": "2022-04-27T17:00:58.624Z"
      },
      {
        "duration": 123,
        "start_time": "2022-04-27T17:04:38.914Z"
      },
      {
        "duration": 10,
        "start_time": "2022-04-27T17:04:50.827Z"
      },
      {
        "duration": 120,
        "start_time": "2022-04-27T17:06:09.095Z"
      },
      {
        "duration": 107,
        "start_time": "2022-04-27T17:08:16.270Z"
      },
      {
        "duration": 1618,
        "start_time": "2022-04-27T17:08:23.398Z"
      },
      {
        "duration": 103,
        "start_time": "2022-04-27T17:11:44.749Z"
      },
      {
        "duration": 108,
        "start_time": "2022-04-27T17:11:55.468Z"
      },
      {
        "duration": 689,
        "start_time": "2022-04-27T17:12:05.899Z"
      },
      {
        "duration": 692,
        "start_time": "2022-04-27T17:12:21.639Z"
      },
      {
        "duration": 53,
        "start_time": "2022-04-27T17:12:24.515Z"
      },
      {
        "duration": 16,
        "start_time": "2022-04-27T17:12:26.315Z"
      },
      {
        "duration": 10,
        "start_time": "2022-04-27T17:13:03.738Z"
      },
      {
        "duration": 400,
        "start_time": "2022-04-27T17:13:55.186Z"
      },
      {
        "duration": 81,
        "start_time": "2022-04-27T17:15:31.183Z"
      },
      {
        "duration": 39,
        "start_time": "2022-04-27T17:15:38.965Z"
      },
      {
        "duration": 501,
        "start_time": "2022-04-27T17:16:47.405Z"
      },
      {
        "duration": 14,
        "start_time": "2022-04-27T17:16:57.491Z"
      },
      {
        "duration": 25,
        "start_time": "2022-04-27T17:17:19.606Z"
      },
      {
        "duration": 136,
        "start_time": "2022-04-27T17:18:23.311Z"
      },
      {
        "duration": 508,
        "start_time": "2022-04-27T17:20:39.692Z"
      },
      {
        "duration": 13,
        "start_time": "2022-04-27T17:20:53.097Z"
      },
      {
        "duration": 1826,
        "start_time": "2022-04-27T17:21:59.731Z"
      },
      {
        "duration": 383,
        "start_time": "2022-04-27T17:22:12.619Z"
      },
      {
        "duration": 397,
        "start_time": "2022-04-27T17:31:58.327Z"
      },
      {
        "duration": 13,
        "start_time": "2022-04-27T17:47:31.431Z"
      },
      {
        "duration": 10,
        "start_time": "2022-04-27T17:48:29.316Z"
      },
      {
        "duration": 32,
        "start_time": "2022-04-27T17:50:10.666Z"
      },
      {
        "duration": 513,
        "start_time": "2022-04-27T18:15:47.340Z"
      },
      {
        "duration": 511,
        "start_time": "2022-04-27T18:15:49.196Z"
      },
      {
        "duration": 101,
        "start_time": "2022-04-27T18:15:52.525Z"
      },
      {
        "duration": 116,
        "start_time": "2022-04-27T18:15:56.638Z"
      },
      {
        "duration": 3267,
        "start_time": "2022-04-27T18:16:01.698Z"
      },
      {
        "duration": 11891,
        "start_time": "2022-04-27T18:16:07.999Z"
      },
      {
        "duration": 14185,
        "start_time": "2022-04-27T18:16:21.943Z"
      },
      {
        "duration": 86,
        "start_time": "2022-04-27T18:16:41.822Z"
      },
      {
        "duration": 16,
        "start_time": "2022-04-27T18:16:42.887Z"
      },
      {
        "duration": 4583,
        "start_time": "2022-04-27T18:16:44.675Z"
      },
      {
        "duration": 271,
        "start_time": "2022-04-27T18:17:12.871Z"
      },
      {
        "duration": 275,
        "start_time": "2022-04-27T18:17:26.827Z"
      },
      {
        "duration": 161,
        "start_time": "2022-04-27T18:18:04.823Z"
      },
      {
        "duration": 363,
        "start_time": "2022-04-27T18:18:26.695Z"
      },
      {
        "duration": 15,
        "start_time": "2022-04-27T18:19:07.229Z"
      },
      {
        "duration": 11,
        "start_time": "2022-04-27T18:19:15.049Z"
      },
      {
        "duration": 115,
        "start_time": "2022-04-27T18:19:29.168Z"
      },
      {
        "duration": 123,
        "start_time": "2022-04-27T18:21:44.840Z"
      },
      {
        "duration": 4118,
        "start_time": "2022-04-27T18:21:58.420Z"
      },
      {
        "duration": 3385,
        "start_time": "2022-04-27T18:22:08.268Z"
      },
      {
        "duration": 100571,
        "start_time": "2022-04-27T18:22:15.484Z"
      },
      {
        "duration": 51,
        "start_time": "2022-04-27T18:28:05.772Z"
      },
      {
        "duration": 98,
        "start_time": "2022-04-27T18:29:01.542Z"
      },
      {
        "duration": 97,
        "start_time": "2022-04-27T18:30:09.996Z"
      },
      {
        "duration": 28,
        "start_time": "2022-04-27T18:32:12.935Z"
      },
      {
        "duration": 26,
        "start_time": "2022-04-27T18:32:21.059Z"
      },
      {
        "duration": 22,
        "start_time": "2022-04-27T18:32:26.562Z"
      },
      {
        "duration": 6,
        "start_time": "2022-04-27T18:32:49.027Z"
      },
      {
        "duration": 50,
        "start_time": "2022-04-27T18:35:34.202Z"
      },
      {
        "duration": 1516,
        "start_time": "2022-04-27T18:35:53.720Z"
      },
      {
        "duration": 722,
        "start_time": "2022-04-27T18:35:56.541Z"
      },
      {
        "duration": 110,
        "start_time": "2022-04-27T18:35:58.152Z"
      },
      {
        "duration": 162,
        "start_time": "2022-04-27T18:36:01.372Z"
      },
      {
        "duration": 81,
        "start_time": "2022-04-27T18:36:04.223Z"
      },
      {
        "duration": 91,
        "start_time": "2022-04-27T18:36:07.483Z"
      },
      {
        "duration": 65,
        "start_time": "2022-04-27T18:36:10.144Z"
      },
      {
        "duration": 7,
        "start_time": "2022-04-27T18:36:12.928Z"
      },
      {
        "duration": 25,
        "start_time": "2022-04-27T18:36:16.265Z"
      },
      {
        "duration": 123,
        "start_time": "2022-04-27T18:36:18.362Z"
      },
      {
        "duration": 11,
        "start_time": "2022-04-27T18:36:19.941Z"
      },
      {
        "duration": 188,
        "start_time": "2022-04-27T18:36:24.646Z"
      },
      {
        "duration": 99,
        "start_time": "2022-04-27T18:37:05.882Z"
      },
      {
        "duration": 47,
        "start_time": "2022-04-27T18:37:18.752Z"
      },
      {
        "duration": 36,
        "start_time": "2022-04-27T18:37:37.294Z"
      },
      {
        "duration": 35,
        "start_time": "2022-04-27T18:39:09.387Z"
      },
      {
        "duration": 32,
        "start_time": "2022-04-27T18:41:46.980Z"
      },
      {
        "duration": 31,
        "start_time": "2022-04-27T18:41:54.248Z"
      },
      {
        "duration": 71,
        "start_time": "2022-04-27T18:41:56.874Z"
      },
      {
        "duration": 9,
        "start_time": "2022-04-27T18:42:26.797Z"
      },
      {
        "duration": 112,
        "start_time": "2022-04-27T18:43:10.800Z"
      },
      {
        "duration": 10,
        "start_time": "2022-04-27T18:44:56.559Z"
      },
      {
        "duration": 11,
        "start_time": "2022-04-27T18:45:06.769Z"
      },
      {
        "duration": 10,
        "start_time": "2022-04-27T18:46:57.308Z"
      },
      {
        "duration": 22,
        "start_time": "2022-04-27T18:47:46.384Z"
      },
      {
        "duration": 21,
        "start_time": "2022-04-27T18:48:02.720Z"
      },
      {
        "duration": 18,
        "start_time": "2022-04-27T18:48:18.252Z"
      },
      {
        "duration": 22,
        "start_time": "2022-04-27T18:48:51.135Z"
      },
      {
        "duration": 66,
        "start_time": "2022-04-27T18:48:51.987Z"
      },
      {
        "duration": 29,
        "start_time": "2022-04-27T18:49:54.131Z"
      },
      {
        "duration": 68,
        "start_time": "2022-04-27T18:49:55.217Z"
      },
      {
        "duration": 34,
        "start_time": "2022-04-27T18:53:05.050Z"
      },
      {
        "duration": 107,
        "start_time": "2022-04-27T19:02:47.012Z"
      },
      {
        "duration": 98,
        "start_time": "2022-04-27T19:04:02.413Z"
      },
      {
        "duration": 2,
        "start_time": "2022-04-27T19:04:12.716Z"
      },
      {
        "duration": 1468,
        "start_time": "2022-04-27T19:09:09.949Z"
      },
      {
        "duration": 769,
        "start_time": "2022-04-27T19:09:11.420Z"
      },
      {
        "duration": 117,
        "start_time": "2022-04-27T19:09:12.190Z"
      },
      {
        "duration": 177,
        "start_time": "2022-04-27T19:09:12.309Z"
      },
      {
        "duration": 91,
        "start_time": "2022-04-27T19:09:12.488Z"
      },
      {
        "duration": 105,
        "start_time": "2022-04-27T19:09:12.581Z"
      },
      {
        "duration": 89,
        "start_time": "2022-04-27T19:09:12.688Z"
      },
      {
        "duration": 26,
        "start_time": "2022-04-27T19:09:12.779Z"
      },
      {
        "duration": 42,
        "start_time": "2022-04-27T19:09:12.807Z"
      },
      {
        "duration": 82,
        "start_time": "2022-04-27T19:09:12.852Z"
      },
      {
        "duration": 32,
        "start_time": "2022-04-27T19:09:12.935Z"
      },
      {
        "duration": 44,
        "start_time": "2022-04-27T19:09:12.968Z"
      },
      {
        "duration": 75,
        "start_time": "2022-04-27T19:09:13.013Z"
      },
      {
        "duration": 36,
        "start_time": "2022-04-27T19:09:13.090Z"
      },
      {
        "duration": 102,
        "start_time": "2022-04-27T19:09:13.128Z"
      },
      {
        "duration": 20,
        "start_time": "2022-04-27T19:09:13.232Z"
      },
      {
        "duration": 803,
        "start_time": "2022-04-27T19:09:13.253Z"
      },
      {
        "duration": 633,
        "start_time": "2022-04-27T19:09:14.058Z"
      },
      {
        "duration": 115,
        "start_time": "2022-04-27T19:09:14.692Z"
      },
      {
        "duration": 169,
        "start_time": "2022-04-27T19:09:14.808Z"
      },
      {
        "duration": 4657,
        "start_time": "2022-04-27T19:09:14.978Z"
      },
      {
        "duration": 14970,
        "start_time": "2022-04-27T19:09:19.637Z"
      },
      {
        "duration": 19722,
        "start_time": "2022-04-27T19:09:34.609Z"
      },
      {
        "duration": 320,
        "start_time": "2022-04-27T19:09:54.334Z"
      },
      {
        "duration": 25,
        "start_time": "2022-04-27T19:09:54.656Z"
      },
      {
        "duration": 9274,
        "start_time": "2022-04-27T19:09:54.682Z"
      },
      {
        "duration": 11,
        "start_time": "2022-04-27T19:10:03.958Z"
      },
      {
        "duration": 14253,
        "start_time": "2022-04-27T19:10:03.972Z"
      },
      {
        "duration": 4364,
        "start_time": "2022-04-27T19:10:18.228Z"
      },
      {
        "duration": 131095,
        "start_time": "2022-04-27T19:10:22.594Z"
      },
      {
        "duration": 19841,
        "start_time": "2022-04-27T19:12:33.691Z"
      },
      {
        "duration": 8590,
        "start_time": "2022-04-27T19:12:53.535Z"
      },
      {
        "duration": 5499,
        "start_time": "2022-04-27T19:13:02.127Z"
      },
      {
        "duration": 5,
        "start_time": "2022-04-27T19:13:07.627Z"
      },
      {
        "duration": 12,
        "start_time": "2022-04-27T19:13:07.633Z"
      },
      {
        "duration": 1458,
        "start_time": "2022-04-27T19:14:03.738Z"
      },
      {
        "duration": 792,
        "start_time": "2022-04-27T19:14:05.198Z"
      },
      {
        "duration": 132,
        "start_time": "2022-04-27T19:14:05.992Z"
      },
      {
        "duration": 178,
        "start_time": "2022-04-27T19:14:06.126Z"
      },
      {
        "duration": 92,
        "start_time": "2022-04-27T19:14:06.306Z"
      },
      {
        "duration": 104,
        "start_time": "2022-04-27T19:14:06.400Z"
      },
      {
        "duration": 79,
        "start_time": "2022-04-27T19:14:06.506Z"
      },
      {
        "duration": 6,
        "start_time": "2022-04-27T19:14:06.586Z"
      },
      {
        "duration": 44,
        "start_time": "2022-04-27T19:14:06.593Z"
      },
      {
        "duration": 66,
        "start_time": "2022-04-27T19:14:06.640Z"
      },
      {
        "duration": 21,
        "start_time": "2022-04-27T19:14:06.708Z"
      },
      {
        "duration": 33,
        "start_time": "2022-04-27T19:14:06.731Z"
      },
      {
        "duration": 90,
        "start_time": "2022-04-27T19:14:06.766Z"
      },
      {
        "duration": 22,
        "start_time": "2022-04-27T19:14:06.858Z"
      },
      {
        "duration": 84,
        "start_time": "2022-04-27T19:14:06.882Z"
      },
      {
        "duration": 9,
        "start_time": "2022-04-27T19:14:06.968Z"
      },
      {
        "duration": 732,
        "start_time": "2022-04-27T19:14:06.979Z"
      },
      {
        "duration": 626,
        "start_time": "2022-04-27T19:14:07.713Z"
      },
      {
        "duration": 119,
        "start_time": "2022-04-27T19:14:08.341Z"
      },
      {
        "duration": 153,
        "start_time": "2022-04-27T19:14:08.462Z"
      },
      {
        "duration": 4272,
        "start_time": "2022-04-27T19:14:08.617Z"
      },
      {
        "duration": 14505,
        "start_time": "2022-04-27T19:14:12.891Z"
      },
      {
        "duration": 19452,
        "start_time": "2022-04-27T19:14:27.398Z"
      },
      {
        "duration": 227,
        "start_time": "2022-04-27T19:14:46.926Z"
      },
      {
        "duration": 27,
        "start_time": "2022-04-27T19:14:47.155Z"
      },
      {
        "duration": 9013,
        "start_time": "2022-04-27T19:14:47.184Z"
      },
      {
        "duration": 11,
        "start_time": "2022-04-27T19:14:56.199Z"
      },
      {
        "duration": 12027,
        "start_time": "2022-04-27T19:14:56.211Z"
      },
      {
        "duration": 4201,
        "start_time": "2022-04-27T19:15:08.241Z"
      },
      {
        "duration": 124029,
        "start_time": "2022-04-27T19:15:12.443Z"
      },
      {
        "duration": 16651,
        "start_time": "2022-04-27T19:17:16.474Z"
      },
      {
        "duration": 8788,
        "start_time": "2022-04-27T19:17:33.128Z"
      },
      {
        "duration": 5110,
        "start_time": "2022-04-27T19:17:41.917Z"
      },
      {
        "duration": 4,
        "start_time": "2022-04-27T19:17:47.029Z"
      },
      {
        "duration": 12,
        "start_time": "2022-04-27T19:17:47.034Z"
      },
      {
        "duration": 1316,
        "start_time": "2022-04-28T06:52:20.957Z"
      },
      {
        "duration": 882,
        "start_time": "2022-04-28T06:52:22.276Z"
      },
      {
        "duration": 148,
        "start_time": "2022-04-28T06:52:23.160Z"
      },
      {
        "duration": 211,
        "start_time": "2022-04-28T06:52:23.310Z"
      },
      {
        "duration": 96,
        "start_time": "2022-04-28T06:52:23.523Z"
      },
      {
        "duration": 112,
        "start_time": "2022-04-28T06:52:23.621Z"
      },
      {
        "duration": 96,
        "start_time": "2022-04-28T06:52:23.734Z"
      },
      {
        "duration": 7,
        "start_time": "2022-04-28T06:52:23.832Z"
      },
      {
        "duration": 27,
        "start_time": "2022-04-28T06:52:23.840Z"
      },
      {
        "duration": 119,
        "start_time": "2022-04-28T06:52:23.869Z"
      },
      {
        "duration": 21,
        "start_time": "2022-04-28T06:52:23.990Z"
      },
      {
        "duration": 32,
        "start_time": "2022-04-28T06:52:24.013Z"
      },
      {
        "duration": 109,
        "start_time": "2022-04-28T06:52:24.047Z"
      },
      {
        "duration": 6,
        "start_time": "2022-04-28T06:52:51.532Z"
      },
      {
        "duration": 15,
        "start_time": "2022-04-28T06:52:56.843Z"
      },
      {
        "duration": 26,
        "start_time": "2022-04-28T06:53:56.958Z"
      },
      {
        "duration": 8,
        "start_time": "2022-04-28T06:54:07.400Z"
      },
      {
        "duration": 35,
        "start_time": "2022-04-28T06:54:22.924Z"
      },
      {
        "duration": 68,
        "start_time": "2022-04-28T06:54:56.804Z"
      },
      {
        "duration": 5,
        "start_time": "2022-04-28T06:55:20.787Z"
      },
      {
        "duration": 5,
        "start_time": "2022-04-28T06:55:27.568Z"
      },
      {
        "duration": 12,
        "start_time": "2022-04-28T06:55:49.135Z"
      },
      {
        "duration": 10,
        "start_time": "2022-04-28T06:56:04.121Z"
      },
      {
        "duration": 13,
        "start_time": "2022-04-28T06:56:09.369Z"
      },
      {
        "duration": 19,
        "start_time": "2022-04-28T06:56:12.842Z"
      },
      {
        "duration": 117,
        "start_time": "2022-04-28T06:56:24.146Z"
      },
      {
        "duration": 43,
        "start_time": "2022-04-28T06:56:29.675Z"
      },
      {
        "duration": 12,
        "start_time": "2022-04-28T06:56:32.367Z"
      },
      {
        "duration": 22,
        "start_time": "2022-04-28T06:57:08.836Z"
      },
      {
        "duration": 4,
        "start_time": "2022-04-28T07:02:43.487Z"
      },
      {
        "duration": 862,
        "start_time": "2022-04-28T07:02:43.493Z"
      },
      {
        "duration": 152,
        "start_time": "2022-04-28T07:02:44.357Z"
      },
      {
        "duration": 184,
        "start_time": "2022-04-28T07:02:44.512Z"
      },
      {
        "duration": 83,
        "start_time": "2022-04-28T07:02:44.698Z"
      },
      {
        "duration": 103,
        "start_time": "2022-04-28T07:02:44.783Z"
      },
      {
        "duration": 112,
        "start_time": "2022-04-28T07:02:44.888Z"
      },
      {
        "duration": 9,
        "start_time": "2022-04-28T07:02:45.007Z"
      },
      {
        "duration": 31,
        "start_time": "2022-04-28T07:02:45.018Z"
      },
      {
        "duration": 121,
        "start_time": "2022-04-28T07:02:45.051Z"
      },
      {
        "duration": 16,
        "start_time": "2022-04-28T07:02:45.173Z"
      },
      {
        "duration": 59,
        "start_time": "2022-04-28T07:02:45.192Z"
      },
      {
        "duration": 103,
        "start_time": "2022-04-28T07:02:45.253Z"
      },
      {
        "duration": 25,
        "start_time": "2022-04-28T07:02:45.358Z"
      },
      {
        "duration": 131,
        "start_time": "2022-04-28T07:02:45.384Z"
      },
      {
        "duration": 15,
        "start_time": "2022-04-28T07:02:45.517Z"
      },
      {
        "duration": 57,
        "start_time": "2022-04-28T07:03:05.022Z"
      },
      {
        "duration": 150,
        "start_time": "2022-04-28T07:43:31.408Z"
      },
      {
        "duration": 1407,
        "start_time": "2022-04-28T07:43:51.746Z"
      },
      {
        "duration": 935,
        "start_time": "2022-04-28T07:43:54.496Z"
      },
      {
        "duration": 147,
        "start_time": "2022-04-28T07:43:56.002Z"
      },
      {
        "duration": 193,
        "start_time": "2022-04-28T07:43:59.012Z"
      },
      {
        "duration": 95,
        "start_time": "2022-04-28T07:44:01.588Z"
      },
      {
        "duration": 119,
        "start_time": "2022-04-28T07:44:04.094Z"
      },
      {
        "duration": 82,
        "start_time": "2022-04-28T07:44:06.481Z"
      },
      {
        "duration": 6,
        "start_time": "2022-04-28T07:44:09.390Z"
      },
      {
        "duration": 29,
        "start_time": "2022-04-28T07:44:12.552Z"
      },
      {
        "duration": 84,
        "start_time": "2022-04-28T07:44:13.569Z"
      },
      {
        "duration": 8,
        "start_time": "2022-04-28T07:44:15.259Z"
      },
      {
        "duration": 56,
        "start_time": "2022-04-28T07:44:20.430Z"
      },
      {
        "duration": 83,
        "start_time": "2022-04-28T07:44:26.292Z"
      },
      {
        "duration": 27,
        "start_time": "2022-04-28T07:44:38.596Z"
      },
      {
        "duration": 81,
        "start_time": "2022-04-28T07:44:39.892Z"
      },
      {
        "duration": 95,
        "start_time": "2022-04-28T07:44:47.759Z"
      },
      {
        "duration": 1932,
        "start_time": "2022-04-28T07:45:15.633Z"
      },
      {
        "duration": 1418,
        "start_time": "2022-04-28T07:45:48.014Z"
      },
      {
        "duration": 718,
        "start_time": "2022-04-28T07:46:41.950Z"
      },
      {
        "duration": 797,
        "start_time": "2022-04-28T07:48:27.750Z"
      },
      {
        "duration": 11,
        "start_time": "2022-04-28T07:48:43.514Z"
      },
      {
        "duration": 10,
        "start_time": "2022-04-28T07:49:01.939Z"
      },
      {
        "duration": 769,
        "start_time": "2022-04-28T07:50:05.907Z"
      },
      {
        "duration": 14770,
        "start_time": "2022-04-28T07:50:31.803Z"
      },
      {
        "duration": 16170,
        "start_time": "2022-04-28T07:50:57.897Z"
      },
      {
        "duration": 12,
        "start_time": "2022-04-28T07:51:25.265Z"
      },
      {
        "duration": 122,
        "start_time": "2022-04-28T07:52:40.336Z"
      },
      {
        "duration": 15698,
        "start_time": "2022-04-28T07:52:52.947Z"
      },
      {
        "duration": 31,
        "start_time": "2022-04-28T07:53:14.466Z"
      },
      {
        "duration": 76,
        "start_time": "2022-04-28T07:53:49.686Z"
      },
      {
        "duration": 15754,
        "start_time": "2022-04-28T07:53:59.874Z"
      },
      {
        "duration": 786,
        "start_time": "2022-04-28T07:54:40.071Z"
      },
      {
        "duration": 89,
        "start_time": "2022-04-28T07:56:42.399Z"
      },
      {
        "duration": 12,
        "start_time": "2022-04-28T07:56:59.564Z"
      },
      {
        "duration": 15,
        "start_time": "2022-04-28T07:57:29.916Z"
      },
      {
        "duration": 20,
        "start_time": "2022-04-28T07:57:48.267Z"
      },
      {
        "duration": 15,
        "start_time": "2022-04-28T07:59:15.353Z"
      },
      {
        "duration": 14,
        "start_time": "2022-04-28T07:59:29.600Z"
      },
      {
        "duration": 11,
        "start_time": "2022-04-28T07:59:52.786Z"
      },
      {
        "duration": 12,
        "start_time": "2022-04-28T08:00:08.895Z"
      },
      {
        "duration": 735,
        "start_time": "2022-04-28T08:00:36.087Z"
      },
      {
        "duration": 16,
        "start_time": "2022-04-28T08:01:21.423Z"
      },
      {
        "duration": 14,
        "start_time": "2022-04-28T08:01:53.238Z"
      },
      {
        "duration": 10,
        "start_time": "2022-04-28T08:03:17.465Z"
      },
      {
        "duration": 11,
        "start_time": "2022-04-28T08:04:16.277Z"
      },
      {
        "duration": 4,
        "start_time": "2022-04-28T08:04:40.942Z"
      },
      {
        "duration": 1323,
        "start_time": "2022-04-28T08:04:59.630Z"
      },
      {
        "duration": 916,
        "start_time": "2022-04-28T08:05:02.954Z"
      },
      {
        "duration": 141,
        "start_time": "2022-04-28T08:05:05.397Z"
      },
      {
        "duration": 200,
        "start_time": "2022-04-28T08:05:08.134Z"
      },
      {
        "duration": 91,
        "start_time": "2022-04-28T08:05:11.008Z"
      },
      {
        "duration": 112,
        "start_time": "2022-04-28T08:05:13.996Z"
      },
      {
        "duration": 94,
        "start_time": "2022-04-28T08:05:16.739Z"
      },
      {
        "duration": 7,
        "start_time": "2022-04-28T08:05:32.992Z"
      },
      {
        "duration": 32,
        "start_time": "2022-04-28T08:05:37.057Z"
      },
      {
        "duration": 90,
        "start_time": "2022-04-28T08:05:38.580Z"
      },
      {
        "duration": 8,
        "start_time": "2022-04-28T08:05:40.913Z"
      },
      {
        "duration": 53,
        "start_time": "2022-04-28T08:05:51.742Z"
      },
      {
        "duration": 84,
        "start_time": "2022-04-28T08:05:53.893Z"
      },
      {
        "duration": 25,
        "start_time": "2022-04-28T08:05:56.910Z"
      },
      {
        "duration": 86,
        "start_time": "2022-04-28T08:05:57.856Z"
      },
      {
        "duration": 109,
        "start_time": "2022-04-28T08:06:15.890Z"
      },
      {
        "duration": 15,
        "start_time": "2022-04-28T08:06:26.346Z"
      },
      {
        "duration": 15,
        "start_time": "2022-04-28T08:06:59.757Z"
      },
      {
        "duration": 19,
        "start_time": "2022-04-28T08:07:10.769Z"
      },
      {
        "duration": 720,
        "start_time": "2022-04-28T08:07:33.624Z"
      },
      {
        "duration": 733,
        "start_time": "2022-04-28T08:08:00.714Z"
      },
      {
        "duration": 708,
        "start_time": "2022-04-28T08:08:52.218Z"
      },
      {
        "duration": 743,
        "start_time": "2022-04-28T08:09:42.115Z"
      },
      {
        "duration": 833,
        "start_time": "2022-04-28T08:09:51.943Z"
      },
      {
        "duration": 732,
        "start_time": "2022-04-28T08:10:20.894Z"
      },
      {
        "duration": 749,
        "start_time": "2022-04-28T08:11:36.538Z"
      },
      {
        "duration": 985,
        "start_time": "2022-04-28T08:12:03.563Z"
      },
      {
        "duration": 701,
        "start_time": "2022-04-28T08:12:57.493Z"
      },
      {
        "duration": 12,
        "start_time": "2022-04-28T08:13:16.713Z"
      },
      {
        "duration": 88,
        "start_time": "2022-04-28T08:13:33.373Z"
      },
      {
        "duration": 110,
        "start_time": "2022-04-28T08:13:42.209Z"
      },
      {
        "duration": 10,
        "start_time": "2022-04-28T08:13:50.669Z"
      },
      {
        "duration": 758,
        "start_time": "2022-04-28T08:14:00.607Z"
      },
      {
        "duration": 12,
        "start_time": "2022-04-28T08:14:31.842Z"
      },
      {
        "duration": 635,
        "start_time": "2022-04-28T08:14:42.343Z"
      },
      {
        "duration": 632,
        "start_time": "2022-04-28T08:14:57.767Z"
      },
      {
        "duration": 10,
        "start_time": "2022-04-28T08:15:01.021Z"
      },
      {
        "duration": 668,
        "start_time": "2022-04-28T08:15:18.767Z"
      },
      {
        "duration": 14,
        "start_time": "2022-04-28T08:15:20.392Z"
      },
      {
        "duration": 788,
        "start_time": "2022-04-28T08:15:42.791Z"
      },
      {
        "duration": 649,
        "start_time": "2022-04-28T08:15:48.946Z"
      },
      {
        "duration": 679,
        "start_time": "2022-04-28T08:16:13.022Z"
      },
      {
        "duration": 12,
        "start_time": "2022-04-28T08:16:44.792Z"
      },
      {
        "duration": 15,
        "start_time": "2022-04-28T08:17:09.331Z"
      },
      {
        "duration": 14,
        "start_time": "2022-04-28T08:17:22.331Z"
      },
      {
        "duration": 652,
        "start_time": "2022-04-28T08:17:37.003Z"
      },
      {
        "duration": 679,
        "start_time": "2022-04-28T08:18:07.874Z"
      },
      {
        "duration": 853,
        "start_time": "2022-04-28T08:20:46.054Z"
      },
      {
        "duration": 672,
        "start_time": "2022-04-28T08:23:25.765Z"
      },
      {
        "duration": 668,
        "start_time": "2022-04-28T08:24:22.478Z"
      },
      {
        "duration": 11,
        "start_time": "2022-04-28T08:25:19.187Z"
      },
      {
        "duration": 762,
        "start_time": "2022-04-28T08:25:45.723Z"
      },
      {
        "duration": 751,
        "start_time": "2022-04-28T08:26:04.867Z"
      },
      {
        "duration": 710,
        "start_time": "2022-04-28T08:26:48.517Z"
      },
      {
        "duration": 21,
        "start_time": "2022-04-28T08:27:25.055Z"
      },
      {
        "duration": 12,
        "start_time": "2022-04-28T08:34:03.697Z"
      },
      {
        "duration": 91,
        "start_time": "2022-04-28T09:08:32.966Z"
      },
      {
        "duration": 11,
        "start_time": "2022-04-28T09:08:49.546Z"
      },
      {
        "duration": 14,
        "start_time": "2022-04-28T10:03:22.055Z"
      },
      {
        "duration": 15,
        "start_time": "2022-04-28T10:03:32.482Z"
      },
      {
        "duration": 14,
        "start_time": "2022-04-28T10:04:19.874Z"
      },
      {
        "duration": 737,
        "start_time": "2022-04-28T10:04:30.818Z"
      },
      {
        "duration": 14930,
        "start_time": "2022-04-28T10:05:46.975Z"
      },
      {
        "duration": 10,
        "start_time": "2022-04-28T10:06:17.082Z"
      },
      {
        "duration": 15662,
        "start_time": "2022-04-28T10:06:28.672Z"
      },
      {
        "duration": 28,
        "start_time": "2022-04-28T10:06:45.859Z"
      },
      {
        "duration": 713,
        "start_time": "2022-04-28T10:08:05.304Z"
      },
      {
        "duration": 10,
        "start_time": "2022-04-28T10:08:20.085Z"
      },
      {
        "duration": 13,
        "start_time": "2022-04-28T10:15:50.830Z"
      },
      {
        "duration": 11,
        "start_time": "2022-04-28T10:24:37.375Z"
      },
      {
        "duration": 1063,
        "start_time": "2022-04-28T10:24:44.104Z"
      },
      {
        "duration": 13,
        "start_time": "2022-04-28T10:24:57.475Z"
      },
      {
        "duration": 1382,
        "start_time": "2022-04-28T10:29:28.878Z"
      },
      {
        "duration": 873,
        "start_time": "2022-04-28T10:29:32.341Z"
      },
      {
        "duration": 147,
        "start_time": "2022-04-28T10:29:34.036Z"
      },
      {
        "duration": 205,
        "start_time": "2022-04-28T10:29:37.015Z"
      },
      {
        "duration": 86,
        "start_time": "2022-04-28T10:29:39.687Z"
      },
      {
        "duration": 110,
        "start_time": "2022-04-28T10:29:42.307Z"
      },
      {
        "duration": 111,
        "start_time": "2022-04-28T10:29:44.574Z"
      },
      {
        "duration": 6,
        "start_time": "2022-04-28T10:29:47.191Z"
      },
      {
        "duration": 29,
        "start_time": "2022-04-28T10:29:50.552Z"
      },
      {
        "duration": 93,
        "start_time": "2022-04-28T10:29:51.561Z"
      },
      {
        "duration": 8,
        "start_time": "2022-04-28T10:29:53.193Z"
      },
      {
        "duration": 58,
        "start_time": "2022-04-28T10:29:57.652Z"
      },
      {
        "duration": 94,
        "start_time": "2022-04-28T10:30:00.116Z"
      },
      {
        "duration": 27,
        "start_time": "2022-04-28T10:30:03.003Z"
      },
      {
        "duration": 94,
        "start_time": "2022-04-28T10:30:04.132Z"
      },
      {
        "duration": 1116,
        "start_time": "2022-04-28T10:30:12.211Z"
      },
      {
        "duration": 15,
        "start_time": "2022-04-28T10:30:15.467Z"
      },
      {
        "duration": 46,
        "start_time": "2022-04-28T10:30:21.293Z"
      },
      {
        "duration": 97,
        "start_time": "2022-04-28T10:30:22.366Z"
      },
      {
        "duration": 18,
        "start_time": "2022-04-28T10:30:23.374Z"
      },
      {
        "duration": 179,
        "start_time": "2022-04-28T10:30:28.678Z"
      },
      {
        "duration": 94,
        "start_time": "2022-04-28T10:30:30.556Z"
      },
      {
        "duration": 22,
        "start_time": "2022-04-28T10:30:31.818Z"
      },
      {
        "duration": 160,
        "start_time": "2022-04-28T10:30:35.344Z"
      },
      {
        "duration": 414,
        "start_time": "2022-04-28T10:30:38.648Z"
      },
      {
        "duration": 1513,
        "start_time": "2022-04-28T10:30:41.351Z"
      },
      {
        "duration": 152,
        "start_time": "2022-04-28T10:30:45.337Z"
      },
      {
        "duration": 78,
        "start_time": "2022-04-28T10:30:57.798Z"
      },
      {
        "duration": 15,
        "start_time": "2022-04-28T10:30:59.401Z"
      },
      {
        "duration": 3656,
        "start_time": "2022-04-28T10:31:01.667Z"
      },
      {
        "duration": 13,
        "start_time": "2022-04-28T10:32:11.601Z"
      },
      {
        "duration": 1568,
        "start_time": "2022-04-28T10:36:05.973Z"
      },
      {
        "duration": 15,
        "start_time": "2022-04-28T10:36:13.740Z"
      },
      {
        "duration": 3029,
        "start_time": "2022-04-28T10:36:32.299Z"
      },
      {
        "duration": 14,
        "start_time": "2022-04-28T10:37:24.719Z"
      },
      {
        "duration": 596,
        "start_time": "2022-04-28T10:37:45.099Z"
      },
      {
        "duration": 19,
        "start_time": "2022-04-28T10:37:47.065Z"
      },
      {
        "duration": 15,
        "start_time": "2022-04-28T10:37:53.020Z"
      },
      {
        "duration": 1370,
        "start_time": "2022-04-28T10:38:06.647Z"
      },
      {
        "duration": 842,
        "start_time": "2022-04-28T10:38:08.871Z"
      },
      {
        "duration": 136,
        "start_time": "2022-04-28T10:38:10.599Z"
      },
      {
        "duration": 190,
        "start_time": "2022-04-28T10:38:14.239Z"
      },
      {
        "duration": 85,
        "start_time": "2022-04-28T10:38:16.975Z"
      },
      {
        "duration": 106,
        "start_time": "2022-04-28T10:38:20.015Z"
      },
      {
        "duration": 114,
        "start_time": "2022-04-28T10:38:22.288Z"
      },
      {
        "duration": 7,
        "start_time": "2022-04-28T10:38:24.990Z"
      },
      {
        "duration": 28,
        "start_time": "2022-04-28T10:38:28.213Z"
      },
      {
        "duration": 87,
        "start_time": "2022-04-28T10:38:29.099Z"
      },
      {
        "duration": 9,
        "start_time": "2022-04-28T10:38:30.788Z"
      },
      {
        "duration": 56,
        "start_time": "2022-04-28T10:38:34.829Z"
      },
      {
        "duration": 84,
        "start_time": "2022-04-28T10:38:37.369Z"
      },
      {
        "duration": 24,
        "start_time": "2022-04-28T10:38:40.842Z"
      },
      {
        "duration": 89,
        "start_time": "2022-04-28T10:38:42.469Z"
      },
      {
        "duration": 12,
        "start_time": "2022-04-28T10:38:47.485Z"
      },
      {
        "duration": 597,
        "start_time": "2022-04-28T10:38:52.570Z"
      },
      {
        "duration": 1108,
        "start_time": "2022-04-28T10:43:28.429Z"
      },
      {
        "duration": 13,
        "start_time": "2022-04-28T10:43:31.035Z"
      },
      {
        "duration": 36,
        "start_time": "2022-04-28T10:43:35.756Z"
      },
      {
        "duration": 102,
        "start_time": "2022-04-28T10:43:36.687Z"
      },
      {
        "duration": 14,
        "start_time": "2022-04-28T10:43:37.640Z"
      },
      {
        "duration": 177,
        "start_time": "2022-04-28T10:43:39.711Z"
      },
      {
        "duration": 101,
        "start_time": "2022-04-28T10:43:40.862Z"
      },
      {
        "duration": 24,
        "start_time": "2022-04-28T10:43:41.970Z"
      },
      {
        "duration": 172,
        "start_time": "2022-04-28T10:43:43.397Z"
      },
      {
        "duration": 448,
        "start_time": "2022-04-28T10:43:49.014Z"
      },
      {
        "duration": 1731,
        "start_time": "2022-04-28T10:43:50.764Z"
      },
      {
        "duration": 86,
        "start_time": "2022-04-28T10:43:55.801Z"
      },
      {
        "duration": 102,
        "start_time": "2022-04-28T10:44:01.600Z"
      },
      {
        "duration": 17,
        "start_time": "2022-04-28T10:44:02.629Z"
      },
      {
        "duration": 25,
        "start_time": "2022-04-28T10:44:44.685Z"
      },
      {
        "duration": 12,
        "start_time": "2022-04-28T10:44:59.920Z"
      },
      {
        "duration": 13,
        "start_time": "2022-04-28T10:45:03.108Z"
      },
      {
        "duration": 4161,
        "start_time": "2022-04-28T10:45:09.684Z"
      },
      {
        "duration": 13,
        "start_time": "2022-04-28T10:45:19.958Z"
      },
      {
        "duration": 57402,
        "start_time": "2022-04-28T10:45:24.798Z"
      },
      {
        "duration": 1397,
        "start_time": "2022-04-28T10:49:05.204Z"
      },
      {
        "duration": 872,
        "start_time": "2022-04-28T10:49:08.085Z"
      },
      {
        "duration": 147,
        "start_time": "2022-04-28T10:49:09.581Z"
      },
      {
        "duration": 272,
        "start_time": "2022-04-28T10:49:12.727Z"
      },
      {
        "duration": 111,
        "start_time": "2022-04-28T10:49:15.608Z"
      },
      {
        "duration": 127,
        "start_time": "2022-04-28T10:49:18.258Z"
      },
      {
        "duration": 94,
        "start_time": "2022-04-28T10:49:20.554Z"
      },
      {
        "duration": 7,
        "start_time": "2022-04-28T10:49:23.037Z"
      },
      {
        "duration": 31,
        "start_time": "2022-04-28T10:49:25.306Z"
      },
      {
        "duration": 92,
        "start_time": "2022-04-28T10:49:26.754Z"
      },
      {
        "duration": 8,
        "start_time": "2022-04-28T10:49:28.115Z"
      },
      {
        "duration": 65,
        "start_time": "2022-04-28T10:49:31.528Z"
      },
      {
        "duration": 85,
        "start_time": "2022-04-28T10:49:34.401Z"
      },
      {
        "duration": 26,
        "start_time": "2022-04-28T10:49:37.331Z"
      },
      {
        "duration": 91,
        "start_time": "2022-04-28T10:49:38.534Z"
      },
      {
        "duration": 1243,
        "start_time": "2022-04-28T10:50:03.544Z"
      },
      {
        "duration": 23,
        "start_time": "2022-04-28T10:50:06.974Z"
      },
      {
        "duration": 16,
        "start_time": "2022-04-28T10:50:15.789Z"
      },
      {
        "duration": 877,
        "start_time": "2022-04-28T10:50:47.496Z"
      },
      {
        "duration": 12,
        "start_time": "2022-04-28T10:50:49.520Z"
      },
      {
        "duration": 13,
        "start_time": "2022-04-28T10:50:50.704Z"
      },
      {
        "duration": 1373,
        "start_time": "2022-04-28T10:51:03.681Z"
      },
      {
        "duration": 863,
        "start_time": "2022-04-28T10:51:06.930Z"
      },
      {
        "duration": 133,
        "start_time": "2022-04-28T10:51:08.421Z"
      },
      {
        "duration": 195,
        "start_time": "2022-04-28T10:51:11.718Z"
      },
      {
        "duration": 83,
        "start_time": "2022-04-28T10:51:14.186Z"
      },
      {
        "duration": 111,
        "start_time": "2022-04-28T10:51:16.966Z"
      },
      {
        "duration": 81,
        "start_time": "2022-04-28T10:51:19.587Z"
      },
      {
        "duration": 6,
        "start_time": "2022-04-28T10:51:21.495Z"
      },
      {
        "duration": 28,
        "start_time": "2022-04-28T10:51:24.341Z"
      },
      {
        "duration": 85,
        "start_time": "2022-04-28T10:51:25.200Z"
      },
      {
        "duration": 7,
        "start_time": "2022-04-28T10:51:26.750Z"
      },
      {
        "duration": 65,
        "start_time": "2022-04-28T10:51:30.275Z"
      },
      {
        "duration": 83,
        "start_time": "2022-04-28T10:51:32.683Z"
      },
      {
        "duration": 29,
        "start_time": "2022-04-28T10:51:35.316Z"
      },
      {
        "duration": 91,
        "start_time": "2022-04-28T10:51:36.917Z"
      },
      {
        "duration": 1069,
        "start_time": "2022-04-28T10:51:49.124Z"
      },
      {
        "duration": 14,
        "start_time": "2022-04-28T10:51:51.588Z"
      },
      {
        "duration": 13,
        "start_time": "2022-04-28T10:51:53.282Z"
      },
      {
        "duration": 1358,
        "start_time": "2022-04-28T10:55:48.765Z"
      },
      {
        "duration": 827,
        "start_time": "2022-04-28T10:55:51.200Z"
      },
      {
        "duration": 129,
        "start_time": "2022-04-28T10:55:52.597Z"
      },
      {
        "duration": 191,
        "start_time": "2022-04-28T10:55:55.472Z"
      },
      {
        "duration": 83,
        "start_time": "2022-04-28T10:55:57.868Z"
      },
      {
        "duration": 116,
        "start_time": "2022-04-28T10:56:00.536Z"
      },
      {
        "duration": 87,
        "start_time": "2022-04-28T10:56:02.602Z"
      },
      {
        "duration": 7,
        "start_time": "2022-04-28T10:56:04.966Z"
      },
      {
        "duration": 31,
        "start_time": "2022-04-28T10:56:07.412Z"
      },
      {
        "duration": 83,
        "start_time": "2022-04-28T10:56:09.175Z"
      },
      {
        "duration": 8,
        "start_time": "2022-04-28T10:56:10.406Z"
      },
      {
        "duration": 50,
        "start_time": "2022-04-28T10:56:14.157Z"
      },
      {
        "duration": 84,
        "start_time": "2022-04-28T10:56:16.629Z"
      },
      {
        "duration": 26,
        "start_time": "2022-04-28T10:56:19.467Z"
      },
      {
        "duration": 79,
        "start_time": "2022-04-28T10:56:20.885Z"
      },
      {
        "duration": 1121,
        "start_time": "2022-04-28T10:56:32.558Z"
      },
      {
        "duration": 13,
        "start_time": "2022-04-28T10:56:35.330Z"
      },
      {
        "duration": 11,
        "start_time": "2022-04-28T10:56:36.651Z"
      },
      {
        "duration": 1041,
        "start_time": "2022-04-28T10:56:44.128Z"
      },
      {
        "duration": 659,
        "start_time": "2022-04-28T10:56:46.210Z"
      },
      {
        "duration": 121,
        "start_time": "2022-04-28T10:56:47.658Z"
      },
      {
        "duration": 157,
        "start_time": "2022-04-28T10:56:49.114Z"
      },
      {
        "duration": 88,
        "start_time": "2022-04-28T10:56:51.574Z"
      },
      {
        "duration": 22,
        "start_time": "2022-04-28T10:56:52.426Z"
      },
      {
        "duration": 152,
        "start_time": "2022-04-28T10:56:53.509Z"
      },
      {
        "duration": 386,
        "start_time": "2022-04-28T10:56:57.488Z"
      },
      {
        "duration": 1464,
        "start_time": "2022-04-28T10:56:59.586Z"
      },
      {
        "duration": 20598,
        "start_time": "2022-04-28T10:57:03.576Z"
      },
      {
        "duration": 128,
        "start_time": "2022-04-28T10:57:27.255Z"
      },
      {
        "duration": 30,
        "start_time": "2022-04-28T10:57:36.383Z"
      },
      {
        "duration": 11,
        "start_time": "2022-04-28T10:57:38.985Z"
      },
      {
        "duration": 8364,
        "start_time": "2022-04-28T10:57:52.226Z"
      },
      {
        "duration": 4336,
        "start_time": "2022-04-28T10:58:06.309Z"
      },
      {
        "duration": 3386,
        "start_time": "2022-04-28T10:58:18.301Z"
      },
      {
        "duration": 11,
        "start_time": "2022-04-28T10:58:34.026Z"
      },
      {
        "duration": 3369,
        "start_time": "2022-04-28T10:58:46.405Z"
      },
      {
        "duration": 383,
        "start_time": "2022-04-28T11:03:47.381Z"
      },
      {
        "duration": 12920,
        "start_time": "2022-04-28T11:03:50.217Z"
      },
      {
        "duration": 21119,
        "start_time": "2022-04-28T11:04:06.256Z"
      },
      {
        "duration": 8512,
        "start_time": "2022-04-28T11:04:34.480Z"
      },
      {
        "duration": 3277,
        "start_time": "2022-04-28T11:05:09.512Z"
      },
      {
        "duration": 4,
        "start_time": "2022-04-28T11:05:16.616Z"
      },
      {
        "duration": 9,
        "start_time": "2022-04-28T11:05:19.138Z"
      },
      {
        "duration": 1342,
        "start_time": "2022-04-28T11:06:03.319Z"
      },
      {
        "duration": 877,
        "start_time": "2022-04-28T11:06:04.663Z"
      },
      {
        "duration": 136,
        "start_time": "2022-04-28T11:06:05.542Z"
      },
      {
        "duration": 197,
        "start_time": "2022-04-28T11:06:05.680Z"
      },
      {
        "duration": 95,
        "start_time": "2022-04-28T11:06:05.879Z"
      },
      {
        "duration": 118,
        "start_time": "2022-04-28T11:06:05.975Z"
      },
      {
        "duration": 91,
        "start_time": "2022-04-28T11:06:06.095Z"
      },
      {
        "duration": 6,
        "start_time": "2022-04-28T11:06:06.187Z"
      },
      {
        "duration": 121,
        "start_time": "2022-04-28T11:06:06.195Z"
      },
      {
        "duration": 83,
        "start_time": "2022-04-28T11:06:06.318Z"
      },
      {
        "duration": 7,
        "start_time": "2022-04-28T11:06:06.403Z"
      },
      {
        "duration": 62,
        "start_time": "2022-04-28T11:06:06.411Z"
      },
      {
        "duration": 84,
        "start_time": "2022-04-28T11:06:06.475Z"
      },
      {
        "duration": 26,
        "start_time": "2022-04-28T11:06:06.574Z"
      },
      {
        "duration": 92,
        "start_time": "2022-04-28T11:06:06.602Z"
      },
      {
        "duration": 1036,
        "start_time": "2022-04-28T11:06:06.696Z"
      },
      {
        "duration": 13,
        "start_time": "2022-04-28T11:06:07.735Z"
      },
      {
        "duration": 25,
        "start_time": "2022-04-28T11:06:07.750Z"
      },
      {
        "duration": 1024,
        "start_time": "2022-04-28T11:06:07.777Z"
      },
      {
        "duration": 672,
        "start_time": "2022-04-28T11:06:08.803Z"
      },
      {
        "duration": 125,
        "start_time": "2022-04-28T11:06:09.477Z"
      },
      {
        "duration": 164,
        "start_time": "2022-04-28T11:06:09.603Z"
      },
      {
        "duration": 89,
        "start_time": "2022-04-28T11:06:09.769Z"
      },
      {
        "duration": 30,
        "start_time": "2022-04-28T11:06:09.860Z"
      },
      {
        "duration": 176,
        "start_time": "2022-04-28T11:06:09.891Z"
      },
      {
        "duration": 409,
        "start_time": "2022-04-28T11:06:10.069Z"
      },
      {
        "duration": 1493,
        "start_time": "2022-04-28T11:06:10.480Z"
      },
      {
        "duration": 20899,
        "start_time": "2022-04-28T11:06:11.975Z"
      },
      {
        "duration": 248,
        "start_time": "2022-04-28T11:06:32.876Z"
      },
      {
        "duration": 28,
        "start_time": "2022-04-28T11:06:33.126Z"
      },
      {
        "duration": 18,
        "start_time": "2022-04-28T11:06:33.156Z"
      },
      {
        "duration": 9224,
        "start_time": "2022-04-28T11:06:33.176Z"
      },
      {
        "duration": 3275,
        "start_time": "2022-04-28T11:06:42.401Z"
      },
      {
        "duration": 411,
        "start_time": "2022-04-28T11:06:45.678Z"
      },
      {
        "duration": 12945,
        "start_time": "2022-04-28T11:06:46.091Z"
      },
      {
        "duration": 29337,
        "start_time": "2022-04-28T11:06:59.038Z"
      },
      {
        "duration": 9511,
        "start_time": "2022-04-28T11:07:28.396Z"
      },
      {
        "duration": 14275,
        "start_time": "2022-04-28T11:07:37.909Z"
      },
      {
        "duration": 5,
        "start_time": "2022-04-28T11:07:52.186Z"
      },
      {
        "duration": 17,
        "start_time": "2022-04-28T11:07:52.192Z"
      }
    ],
    "kernelspec": {
      "display_name": "Python 3 (ipykernel)",
      "language": "python",
      "name": "python3"
    },
    "language_info": {
      "codemirror_mode": {
        "name": "ipython",
        "version": 3
      },
      "file_extension": ".py",
      "mimetype": "text/x-python",
      "name": "python",
      "nbconvert_exporter": "python",
      "pygments_lexer": "ipython3",
      "version": "3.9.5"
    },
    "toc": {
      "base_numbering": 1,
      "nav_menu": {},
      "number_sections": true,
      "sideBar": true,
      "skip_h1_title": true,
      "title_cell": "Table of Contents",
      "title_sidebar": "Contents",
      "toc_cell": false,
      "toc_position": {},
      "toc_section_display": true,
      "toc_window_display": false
    },
    "colab": {
      "name": "Определение стоимости автомобилей.ipynb",
      "provenance": []
    }
  },
  "nbformat": 4,
  "nbformat_minor": 0
}