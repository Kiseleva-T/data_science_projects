{
  "cells": [
    {
      "cell_type": "markdown",
      "metadata": {
        "id": "Aj7bnCSO343_"
      },
      "source": [
        "# Исследование надёжности заёмщиков\n",
        "\n",
        "Посталвенная задача: выяснить, как влияет семейное положение и количество детей на факт погашения кредита в срок и влияет ли вообще.\n",
        "\n"
      ]
    },
    {
      "cell_type": "markdown",
      "metadata": {
        "id": "i3cLDV-V344A"
      },
      "source": [
        "Импортируем библиотеки и посмотрим на данные"
      ]
    },
    {
      "cell_type": "code",
      "execution_count": null,
      "metadata": {
        "id": "13YT7xmr344B",
        "outputId": "9dfea693-d462-437b-8935-25e4cc4fed00"
      },
      "outputs": [
        {
          "name": "stdout",
          "output_type": "stream",
          "text": [
            "<class 'pandas.core.frame.DataFrame'>\n",
            "RangeIndex: 21525 entries, 0 to 21524\n",
            "Data columns (total 12 columns):\n",
            "children            21525 non-null int64\n",
            "days_employed       19351 non-null float64\n",
            "dob_years           21525 non-null int64\n",
            "education           21525 non-null object\n",
            "education_id        21525 non-null int64\n",
            "family_status       21525 non-null object\n",
            "family_status_id    21525 non-null int64\n",
            "gender              21525 non-null object\n",
            "income_type         21525 non-null object\n",
            "debt                21525 non-null int64\n",
            "total_income        19351 non-null float64\n",
            "purpose             21525 non-null object\n",
            "dtypes: float64(2), int64(5), object(5)\n",
            "memory usage: 2.0+ MB\n",
            "возраст [42 36 33 32 53 27 43 50 35 41 40 65 54 56 26 48 24 21 57 67 28 63 62 47\n",
            " 34 68 25 31 30 20 49 37 45 61 64 44 52 46 23 38 39 51  0 59 29 60 55 58\n",
            " 71 22 73 66 69 19 72 70 74 75]\n",
            "образование ['высшее' 'среднее' 'Среднее' 'СРЕДНЕЕ' 'ВЫСШЕЕ' 'неоконченное высшее'\n",
            " 'начальное' 'Высшее' 'НЕОКОНЧЕННОЕ ВЫСШЕЕ' 'Неоконченное высшее'\n",
            " 'НАЧАЛЬНОЕ' 'Начальное' 'Ученая степень' 'УЧЕНАЯ СТЕПЕНЬ'\n",
            " 'ученая степень']\n",
            "семейное положение ['женат / замужем' 'гражданский брак' 'вдовец / вдова' 'в разводе'\n",
            " 'Не женат / не замужем']\n",
            "вид дохода ['сотрудник' 'пенсионер' 'компаньон' 'госслужащий' 'безработный'\n",
            " 'предприниматель' 'студент' 'в декрете']\n",
            "цель ['покупка жилья' 'приобретение автомобиля' 'дополнительное образование'\n",
            " 'сыграть свадьбу' 'операции с жильем' 'образование'\n",
            " 'на проведение свадьбы' 'покупка жилья для семьи' 'покупка недвижимости'\n",
            " 'покупка коммерческой недвижимости' 'покупка жилой недвижимости'\n",
            " 'строительство собственной недвижимости' 'недвижимость'\n",
            " 'строительство недвижимости' 'на покупку подержанного автомобиля'\n",
            " 'на покупку своего автомобиля' 'операции с коммерческой недвижимостью'\n",
            " 'строительство жилой недвижимости' 'жилье'\n",
            " 'операции со своей недвижимостью' 'автомобили' 'заняться образованием'\n",
            " 'сделка с подержанным автомобилем' 'получение образования' 'автомобиль'\n",
            " 'свадьба' 'получение дополнительного образования' 'покупка своего жилья'\n",
            " 'операции с недвижимостью' 'получение высшего образования'\n",
            " 'свой автомобиль' 'сделка с автомобилем' 'профильное образование'\n",
            " 'высшее образование' 'покупка жилья для сдачи' 'на покупку автомобиля'\n",
            " 'ремонт жилью' 'заняться высшим образованием']\n",
            "долг [0 1]\n",
            "образование ['высшее' 'среднее' 'неоконченное высшее' 'начальное' 'ученая степень']\n",
            "семейное положение [0 1 2 3 4]\n",
            "пол ['F' 'M' 'XNA']\n",
            " 0     14149\n",
            " 1      4818\n",
            " 2      2055\n",
            " 3       330\n",
            " 20       76\n",
            "-1        47\n",
            " 4        41\n",
            " 5         9\n",
            "Name: children, dtype: int64\n",
            "F      14236\n",
            "M       7288\n",
            "XNA        1\n",
            "Name: gender, dtype: int64\n",
            "0    14149\n",
            "1     4865\n",
            "2     2131\n",
            "3      330\n",
            "4       41\n",
            "5        9\n",
            "Name: children, dtype: int64\n",
            "F    14237\n",
            "M     7288\n",
            "Name: gender, dtype: int64\n",
            "пол ['F' 'M']\n",
            "43.29337979094077\n",
            "пол ['F' 'M']\n",
            "<class 'pandas.core.frame.DataFrame'>\n",
            "RangeIndex: 21525 entries, 0 to 21524\n",
            "Data columns (total 13 columns):\n",
            "children               21525 non-null int64\n",
            "days_employed          19351 non-null float64\n",
            "dob_years              21525 non-null float64\n",
            "education              21525 non-null object\n",
            "education_id           21525 non-null int64\n",
            "family_status          21525 non-null object\n",
            "family_status_id       21525 non-null int64\n",
            "gender                 21525 non-null object\n",
            "income_type            21525 non-null object\n",
            "debt                   21525 non-null int64\n",
            "total_income           19351 non-null float64\n",
            "purpose                21525 non-null object\n",
            "education_lowercase    21525 non-null object\n",
            "dtypes: float64(3), int64(4), object(6)\n",
            "memory usage: 2.1+ MB\n"
          ]
        }
      ],
      "source": [
        "import pandas as pd\n",
        "\n",
        "data.info()\n",
        "\n",
        "print('возраст', data['dob_years'].unique()) # возраст 0\n",
        "print('образование', data['education'].unique()) \n",
        "print('семейное положение', data['family_status'].unique()) \n",
        "print('вид дохода', data['income_type'].unique())\n",
        "print('цель', data['purpose'].unique())\n",
        "print('долг', data['debt'].unique()) \n",
        "data['education_lowercase'] = data['education'].str.lower()\n",
        "print('образование', data['education_lowercase'].unique())\n",
        "print('семейное положение', data['family_status_id'].unique())\n",
        "print('пол', data['gender'].unique())\n",
        "print(data['children'].value_counts()) #76 человек с 20 детьми, явно какая-то ошибка или опечатка\n",
        "print(data['gender'].value_counts())\n",
        "data.loc[data['gender'] == 'XNA', 'gender'] = 'F' \n",
        "data.loc[data['children'] == 20, 'children'] = 2 \n",
        "data.loc[data['children'] == -1, 'children'] = 1\n",
        "print(data['children'].value_counts())\n",
        "print(data['gender'].value_counts())\n",
        "print('пол', data['gender'].unique())\n",
        "print(data['dob_years'].mean())\n",
        "data.loc[data['dob_years'] == 0, 'dob_years'] = data['dob_years'].mean()\n",
        "print('пол', data['gender'].unique())\n",
        "\n",
        "data.info()"
      ]
    },
    {
      "cell_type": "markdown",
      "metadata": {
        "id": "hDMpe7kU344C"
      },
      "source": [
        "методом unique() хочу проверить, какие значения есть в столбцах; интересные значения в детях 20, -1. Опечатка? в столбце возраст встречается значение 0, заполним его средним"
      ]
    },
    {
      "cell_type": "markdown",
      "metadata": {
        "id": "sH7J2Xg9344E"
      },
      "source": [
        "## Шаг 2. Предобработка данных"
      ]
    },
    {
      "cell_type": "markdown",
      "metadata": {
        "id": "ZOCLZoyE344E"
      },
      "source": [
        "### Обработка пропусков"
      ]
    },
    {
      "cell_type": "code",
      "execution_count": null,
      "metadata": {
        "id": "XWj0WIZW344F",
        "outputId": "fc2173b7-01ba-4d82-e80e-5639bb5f3823"
      },
      "outputs": [
        {
          "name": "stdout",
          "output_type": "stream",
          "text": [
            "children                  0\n",
            "days_employed          2174\n",
            "dob_years                 0\n",
            "education                 0\n",
            "education_id              0\n",
            "family_status             0\n",
            "family_status_id          0\n",
            "gender                    0\n",
            "income_type               0\n",
            "debt                      0\n",
            "total_income           2174\n",
            "purpose                   0\n",
            "education_lowercase       0\n",
            "dtype: int64\n",
            "children               0\n",
            "days_employed          0\n",
            "dob_years              0\n",
            "education              0\n",
            "education_id           0\n",
            "family_status          0\n",
            "family_status_id       0\n",
            "gender                 0\n",
            "income_type            0\n",
            "debt                   0\n",
            "total_income           0\n",
            "purpose                0\n",
            "education_lowercase    0\n",
            "dtype: int64\n"
          ]
        }
      ],
      "source": [
        "print(data.isna().sum())\n",
        "data['days_employed'] = abs(data['days_employed'])\n",
        "\n",
        "\n",
        "\n",
        "total_income_mean = data.groupby('income_type')['days_employed'].mean() \n",
        "\n",
        "# для каждого типа занятости из серии, составленной выше\n",
        "for value in total_income_mean.index:\n",
        "    # в нашем датафрейме мы выбираем только те строки, где тип занятости соответствует выбранному выше (по очереди), и берем из стаж\n",
        "    # и приравниваем их к самим себе (сохраняем), только заполняя пропуски доходом из таблички со средним доходом\n",
        "    data.loc[data['income_type'] == value,'total_income'] = data.loc[data['income_type'] == value,'total_income'].fillna(total_income_mean.loc[value]) \n",
        "\n",
        "days_employed_mean = data.groupby('income_type')['days_employed'].mean()\n",
        "for value in days_employed_mean.index:\n",
        "    data.loc[data['income_type'] == value, 'days_employed'] = data.loc[data['income_type'] == value, 'days_employed'].fillna(days_employed_mean.loc[value])\n",
        "print(data.isna().sum())"
      ]
    },
    {
      "cell_type": "markdown",
      "metadata": {
        "id": "Q0rftPJr344F"
      },
      "source": [
        "**Вывод**"
      ]
    },
    {
      "cell_type": "markdown",
      "metadata": {
        "id": "rJK0fZGd344G"
      },
      "source": [
        "Заменила отсутствующие данные медианой"
      ]
    },
    {
      "cell_type": "markdown",
      "metadata": {
        "id": "OnzW2AjF344H"
      },
      "source": [
        "### Замена типа данных"
      ]
    },
    {
      "cell_type": "code",
      "execution_count": null,
      "metadata": {
        "id": "q3Mttyfo344H",
        "outputId": "e4a1554c-ec6d-49df-df82-2c4ef98f7f74"
      },
      "outputs": [
        {
          "name": "stdout",
          "output_type": "stream",
          "text": [
            "<class 'pandas.core.frame.DataFrame'>\n",
            "RangeIndex: 21525 entries, 0 to 21524\n",
            "Data columns (total 13 columns):\n",
            "children               21525 non-null int64\n",
            "days_employed          21525 non-null int64\n",
            "dob_years              21525 non-null int64\n",
            "education              21525 non-null object\n",
            "education_id           21525 non-null int64\n",
            "family_status          21525 non-null object\n",
            "family_status_id       21525 non-null int64\n",
            "gender                 21525 non-null object\n",
            "income_type            21525 non-null object\n",
            "debt                   21525 non-null int64\n",
            "total_income           21525 non-null int64\n",
            "purpose                21525 non-null object\n",
            "education_lowercase    21525 non-null object\n",
            "dtypes: int64(7), object(6)\n",
            "memory usage: 2.1+ MB\n"
          ]
        }
      ],
      "source": [
        "data['days_employed'] = data['days_employed'].astype('int')\n",
        "data['dob_years'] = data['dob_years'].astype('int')\n",
        "data['total_income'] = data['total_income'].astype('int')\n",
        "data.info()"
      ]
    },
    {
      "cell_type": "markdown",
      "metadata": {
        "id": "EdWlsT7p344I"
      },
      "source": [
        "изменили тип данных days_employed и dob_years на целочисленные; так как тип является типом float, использую метод astype(int)"
      ]
    },
    {
      "cell_type": "markdown",
      "metadata": {
        "id": "LN6QiREK344I"
      },
      "source": [
        "### Обработка дубликатов"
      ]
    },
    {
      "cell_type": "code",
      "execution_count": null,
      "metadata": {
        "id": "UZtiLx19344I",
        "outputId": "6c9564c1-21a9-4cd7-c689-bf56814be63d"
      },
      "outputs": [
        {
          "name": "stdout",
          "output_type": "stream",
          "text": [
            "54\n",
            "<class 'pandas.core.frame.DataFrame'>\n",
            "RangeIndex: 21471 entries, 0 to 21470\n",
            "Data columns (total 13 columns):\n",
            "children               21471 non-null int64\n",
            "days_employed          21471 non-null int64\n",
            "dob_years              21471 non-null int64\n",
            "education              21471 non-null object\n",
            "education_id           21471 non-null int64\n",
            "family_status          21471 non-null object\n",
            "family_status_id       21471 non-null int64\n",
            "gender                 21471 non-null object\n",
            "income_type            21471 non-null object\n",
            "debt                   21471 non-null int64\n",
            "total_income           21471 non-null int64\n",
            "purpose                21471 non-null object\n",
            "education_lowercase    21471 non-null object\n",
            "dtypes: int64(7), object(6)\n",
            "memory usage: 2.1+ MB\n"
          ]
        }
      ],
      "source": [
        "print(data.duplicated().sum())\n",
        "\n",
        "data = data.drop_duplicates().reset_index(drop=True) #удаляем дубликаты\n",
        "data.info()\n"
      ]
    },
    {
      "cell_type": "markdown",
      "metadata": {
        "id": "_u-MYe2s344J"
      },
      "source": [
        "**Вывод**"
      ]
    },
    {
      "cell_type": "markdown",
      "metadata": {
        "id": "KHii231u344J"
      },
      "source": [
        "изменилось общее количество при удалении дубликатов"
      ]
    },
    {
      "cell_type": "markdown",
      "metadata": {
        "id": "FF2C6gUz344J"
      },
      "source": [
        "### Лемматизация"
      ]
    },
    {
      "cell_type": "code",
      "execution_count": null,
      "metadata": {
        "id": "iHDFcBWi344J",
        "outputId": "30a5a9e2-10de-409b-9daa-2b4b65eaa7fc"
      },
      "outputs": [
        {
          "name": "stdout",
          "output_type": "stream",
          "text": [
            "[автомобиль, \\n]                                          972\n",
            "[свадьба, \\n]                                             793\n",
            "[на,  , проведение,  , свадьба, \\n]                       773\n",
            "[сыграть,  , свадьба, \\n]                                 769\n",
            "[операция,  , с,  , недвижимость, \\n]                     675\n",
            "[покупка,  , коммерческий,  , недвижимость, \\n]           662\n",
            "[операция,  , с,  , жилье, \\n]                            652\n",
            "[покупка,  , жилье,  , для,  , сдача, \\n]                 652\n",
            "[операция,  , с,  , коммерческий,  , недвижимость, \\n]    650\n",
            "[покупка,  , жилье, \\n]                                   646\n",
            "[жилье, \\n]                                               646\n",
            "[покупка,  , жилье,  , для,  , семья, \\n]                 638\n",
            "[строительство,  , собственный,  , недвижимость, \\n]      635\n",
            "[недвижимость, \\n]                                        633\n",
            "[операция,  , со,  , свой,  , недвижимость, \\n]           627\n",
            "[строительство,  , жилой,  , недвижимость, \\n]            625\n",
            "[покупка,  , недвижимость, \\n]                            621\n",
            "[покупка,  , свой,  , жилье, \\n]                          620\n",
            "[строительство,  , недвижимость, \\n]                      619\n",
            "[ремонт,  , жилье, \\n]                                    607\n",
            "[покупка,  , жилой,  , недвижимость, \\n]                  606\n",
            "[на,  , покупка,  , свой,  , автомобиль, \\n]              505\n",
            "[заниматься,  , высокий,  , образование, \\n]              496\n",
            "[сделка,  , с,  , подержанный,  , автомобиль, \\n]         486\n",
            "[свой,  , автомобиль, \\n]                                 479\n",
            "[на,  , покупка,  , подержать,  , автомобиль, \\n]         478\n",
            "[на,  , покупка,  , автомобиль, \\n]                       472\n",
            "[приобретение,  , автомобиль, \\n]                         461\n",
            "[дополнительный,  , образование, \\n]                      460\n",
            "[сделка,  , с,  , автомобиль, \\n]                         455\n",
            "[высокий,  , образование, \\n]                             452\n",
            "[получение,  , дополнительный,  , образование, \\n]        447\n",
            "[образование, \\n]                                         447\n",
            "[получение,  , образование, \\n]                           442\n",
            "[профильный,  , образование, \\n]                          436\n",
            "[получение,  , высокий,  , образование, \\n]               426\n",
            "[заниматься,  , образование, \\n]                          408\n",
            "Name: lemmas, dtype: int64\n",
            "Counter({'свадьба': 793, 'на проведение свадьбы': 773, 'сыграть свадьбу': 769, 'операции с недвижимостью': 675, 'покупка коммерческой недвижимости': 662, 'операции с жильем': 652, 'покупка жилья для сдачи': 652, 'операции с коммерческой недвижимостью': 650, 'покупка жилья': 646, 'жилье': 646, 'покупка жилья для семьи': 638, 'строительство собственной недвижимости': 635, 'недвижимость': 633, 'операции со своей недвижимостью': 627, 'строительство жилой недвижимости': 625, 'покупка недвижимости': 621, 'покупка своего жилья': 620, 'строительство недвижимости': 619, 'ремонт жилью': 607, 'покупка жилой недвижимости': 606, 'на покупку своего автомобиля': 505, 'заняться высшим образованием': 496, 'автомобиль': 494, 'сделка с подержанным автомобилем': 486, 'свой автомобиль': 479, 'на покупку подержанного автомобиля': 478, 'автомобили': 478, 'на покупку автомобиля': 472, 'приобретение автомобиля': 461, 'дополнительное образование': 460, 'сделка с автомобилем': 455, 'высшее образование': 452, 'образование': 447, 'получение дополнительного образования': 447, 'получение образования': 442, 'профильное образование': 436, 'получение высшего образования': 426, 'заняться образованием': 408})\n"
          ]
        }
      ],
      "source": [
        "from pymystem3 import Mystem\n",
        "m = Mystem()\n",
        "data['lemmas'] = data['purpose'].apply(lambda text: m.lemmatize(text))\n",
        "print(data['lemmas'].value_counts())\n",
        "#лемматизируем цели\n",
        "from collections import Counter\n",
        "Counter(data['purpose'].apply(m.lemmatize).sum())\n",
        "print(Counter(data['purpose'])) "
      ]
    },
    {
      "cell_type": "markdown",
      "metadata": {
        "id": "wWfvgKHI344J"
      },
      "source": [
        "совершенно очевидно выделяются цели: образование, недвижимость, автомобиль, свадьба"
      ]
    },
    {
      "cell_type": "markdown",
      "metadata": {
        "id": "t--b6CAK344K"
      },
      "source": [
        "### Категоризация данных"
      ]
    },
    {
      "cell_type": "code",
      "execution_count": null,
      "metadata": {
        "id": "bcS69cqa344K",
        "outputId": "c28a5373-1c83-4420-91d5-ef961f877f7b"
      },
      "outputs": [
        {
          "name": "stdout",
          "output_type": "stream",
          "text": [
            "['Недвижимость' 'Автомобиль' 'Образование' 'Свадьба']\n"
          ]
        }
      ],
      "source": [
        "\n",
        " \n",
        "def purposes_categories(purpose): # категоризация по цели\n",
        "    if 'недвижим' in purpose or 'жил' in purpose:\n",
        "            return 'Недвижимость'\n",
        "    elif 'автомобил' in purpose:\n",
        "            return 'Автомобиль'\n",
        "    elif 'образован' in purpose:\n",
        "            return 'Образование'\n",
        "    elif 'свадьб' in purpose:\n",
        "            return 'Свадьба'\n",
        " \n",
        "data['purposes_categories'] = data['purpose'].apply(purposes_categories)\n",
        " \n",
        "print(data['purposes_categories'].unique()) #смотрим значения в столбце\n",
        "\n",
        "#создадим новую таблицу\n",
        "data_category = data[['purposes_categories', 'debt', 'children', 'family_status_id']] \n",
        "\n"
      ]
    },
    {
      "cell_type": "markdown",
      "metadata": {
        "id": "ws-QZQh6344K"
      },
      "source": [
        "**Вывод**"
      ]
    },
    {
      "cell_type": "markdown",
      "metadata": {
        "id": "BuOZQDnj344K"
      },
      "source": [
        "выделили 4 цели кредита"
      ]
    },
    {
      "cell_type": "markdown",
      "metadata": {
        "id": "_1uUMuna344L"
      },
      "source": [
        "- Есть ли зависимость между наличием детей и возвратом кредита в срок?"
      ]
    },
    {
      "cell_type": "code",
      "execution_count": null,
      "metadata": {
        "id": "XEkyNsmo344M",
        "outputId": "e209fbb7-0670-4bea-b43f-e1185ac77167"
      },
      "outputs": [
        {
          "name": "stdout",
          "output_type": "stream",
          "text": [
            "         dob_years                                  \n",
            "children         0       1       2      3     4    5\n",
            "debt                                                \n",
            "0          13044.0  4411.0  1926.0  303.0  37.0  9.0\n",
            "1           1063.0   445.0   202.0   27.0   4.0  NaN\n",
            "доля долга детных purposes_categories    0.031577\n",
            "debt                   0.031577\n",
            "children               0.031577\n",
            "family_status_id       0.031577\n",
            "dtype: float64\n",
            "доля долга бездетных purposes_categories    0.049509\n",
            "debt                   0.049509\n",
            "children               0.049509\n",
            "family_status_id       0.049509\n",
            "dtype: float64\n"
          ]
        }
      ],
      "source": [
        "data_category_child_cor = data[['debt', 'children', 'dob_years']]\n",
        "data_pivot = data_category_child_cor.pivot_table(index=['debt'], columns='children', aggfunc='count')\n",
        "print(data_pivot)\n",
        "\n",
        "data_category_children = data_category[data_category['children'] != 0]\n",
        "data_category_children = data_category_children[data_category_children['debt'] == 1]\n",
        "print('доля долга детных', data_category_children.count()/data_category.count())\n",
        "\n",
        "data_category_no_children = data_category[data_category['children'] == 0]\n",
        "data_category_no_children = data_category_no_children[data_category_no_children['debt'] == 1]\n",
        "\n",
        "print('доля долга бездетных', data_category_no_children.count()/data_category.count())"
      ]
    },
    {
      "cell_type": "markdown",
      "metadata": {
        "id": "-G1mqkNG344M"
      },
      "source": [
        "Доля бездетных с долгом больше, чем доля детных с долгом"
      ]
    },
    {
      "cell_type": "markdown",
      "metadata": {
        "id": "5D4z0ygU344M"
      },
      "source": [
        "Есть ли зависимость между семейным положением и возвратом кредита в срок?"
      ]
    },
    {
      "cell_type": "code",
      "execution_count": null,
      "metadata": {
        "id": "xBDiU9Pj344M",
        "outputId": "1147508c-5175-4a1d-f14e-c232781a5ad8"
      },
      "outputs": [
        {
          "name": "stdout",
          "output_type": "stream",
          "text": [
            "                 total_income                       \n",
            "family_status_id            0     1    2     3     4\n",
            "debt                                                \n",
            "0                       11413  3775  896  1110  2536\n",
            "1                         931   388   63    85   274\n",
            "доля долга замужних/женатых purposes_categories    0.043361\n",
            "debt                   0.043361\n",
            "children               0.043361\n",
            "family_status_id       0.043361\n",
            "dtype: float64\n",
            "доля долга живущих гражданским браком purposes_categories    0.018071\n",
            "debt                   0.018071\n",
            "children               0.018071\n",
            "family_status_id       0.018071\n",
            "dtype: float64\n",
            "доля долга вдовствующих purposes_categories    0.002934\n",
            "debt                   0.002934\n",
            "children               0.002934\n",
            "family_status_id       0.002934\n",
            "dtype: float64\n",
            "доля долга разведенных purposes_categories    0.003959\n",
            "debt                   0.003959\n",
            "children               0.003959\n",
            "family_status_id       0.003959\n",
            "dtype: float64\n",
            "доля долга одиноких purposes_categories    0.012761\n",
            "debt                   0.012761\n",
            "children               0.012761\n",
            "family_status_id       0.012761\n",
            "dtype: float64\n"
          ]
        }
      ],
      "source": [
        "data_category_family_status = data[['debt', 'family_status_id', 'total_income']]\n",
        "data_pivot = data_category_family_status.pivot_table(index=['debt'], columns='family_status_id', aggfunc='count')\n",
        "print(data_pivot)\n",
        "\n",
        "data_category_married = data_category[data_category['family_status_id'] == 0]\n",
        "data_category_married = data_category_married[data_category_married['debt'] == 1]\n",
        "\n",
        "data_category_civil = data_category[data_category['family_status_id'] == 1]\n",
        "data_category_civil = data_category_civil[data_category_civil['debt'] == 1]\n",
        "\n",
        "data_category_widow = data_category[data_category['family_status_id'] == 2]\n",
        "data_category_widow = data_category_widow[data_category_widow['debt'] == 1]\n",
        "\n",
        "data_category_divorced = data_category[data_category['family_status_id'] == 3]\n",
        "data_category_divorced = data_category_divorced[data_category_divorced['debt'] == 1]\n",
        "\n",
        "data_category_single = data_category[data_category['family_status_id'] == 4]\n",
        "data_category_single = data_category_single[data_category_single['debt'] == 1]\n",
        "\n",
        "data_category_debt = data_category[data_category['debt'] == 1]\n",
        "\n",
        "print('доля долга замужних/женатых', data_category_married.count()/data_category.count())\n",
        "print('доля долга живущих гражданским браком', data_category_civil.count()/data_category.count())\n",
        "print('доля долга вдовствующих', data_category_widow.count()/data_category.count())\n",
        "print('доля долга разведенных', data_category_divorced.count()/data_category.count())\n",
        "print('доля долга одиноких', data_category_single.count()/data_category.count())"
      ]
    },
    {
      "cell_type": "markdown",
      "metadata": {
        "id": "MU3TSpr3344N"
      },
      "source": [
        "**Вывод**"
      ]
    },
    {
      "cell_type": "markdown",
      "metadata": {
        "id": "8TTytjtS344N"
      },
      "source": [
        "Большая доля с долгом - те, кто состоят в браке"
      ]
    },
    {
      "cell_type": "markdown",
      "metadata": {
        "id": "FCz488Vn344N"
      },
      "source": [
        "- Есть ли зависимость между уровнем дохода и возвратом кредита в срок?"
      ]
    },
    {
      "cell_type": "code",
      "execution_count": null,
      "metadata": {
        "id": "x1povgDS344N",
        "outputId": "3d2d027a-dc7d-4d3c-9c60-ec2ec75581a0"
      },
      "outputs": [
        {
          "name": "stdout",
          "output_type": "stream",
          "text": [
            "2265604\n",
            "520\n",
            "138973.0\n",
            "высокий          5368\n",
            "ниже среднего    5368\n",
            "низкий доход     5368\n",
            "выше среднего    5367\n",
            "Name: total_income_cat_1, dtype: int64\n",
            "                   total_income                                    \n",
            "total_income_cat_1 низкий доход ниже среднего выше среднего высокий\n",
            "debt                                                               \n",
            "0                          4944          4916          4886    4984\n",
            "1                           424           452           481     384\n"
          ]
        }
      ],
      "source": [
        "print(data['total_income'].max()) #пройдемся по значениям в столбце total_income\n",
        "print(data['total_income'].min()) \n",
        "print(data['total_income'].median())\n",
        "\n",
        "import numpy as np\n",
        "\n",
        "data['total_income_cat_1']=pd.qcut(data.total_income, 4, labels=[\"низкий доход\", \"ниже среднего\", \"выше среднего\", \"высокий\"])\n",
        "\n",
        "print(data['total_income_cat_1'].value_counts())\n",
        "\n",
        "\n",
        "data_category_income = data[['debt', 'total_income_cat_1', 'total_income']]\n",
        "data_pivot = data_category_income.pivot_table(index=['debt'], columns='total_income_cat_1', aggfunc='count')\n",
        "print(data_pivot)\n",
        "\n",
        "\n"
      ]
    },
    {
      "cell_type": "markdown",
      "metadata": {
        "id": "c7785iqs344N"
      },
      "source": [
        "<div class=\"alert alert-info\">\n",
        "сейчас получается примерно одинаковое количество человек всего и человек с долгом в каждой категории </div>\n",
        "\n"
      ]
    },
    {
      "cell_type": "markdown",
      "metadata": {
        "id": "mOt-xjXC344O"
      },
      "source": [
        "- Как разные цели кредита влияют на его возврат в срок?"
      ]
    },
    {
      "cell_type": "code",
      "execution_count": null,
      "metadata": {
        "id": "Wr8cwQUH344P",
        "outputId": "129e50b8-a093-44f1-a667-5ae61e50a4a2"
      },
      "outputs": [
        {
          "name": "stdout",
          "output_type": "stream",
          "text": [
            "                    total_income                                 \n",
            "purposes_categories   Автомобиль Недвижимость Образование Свадьба\n",
            "debt                                                             \n",
            "0                           3905        10032        3644    2149\n",
            "1                            403          782         370     186\n",
            "доля с долгом за недвижимость purposes_categories    0.036421\n",
            "debt                   0.036421\n",
            "children               0.036421\n",
            "family_status_id       0.036421\n",
            "dtype: float64\n",
            "доля с долгом за авто purposes_categories    0.01877\n",
            "debt                   0.01877\n",
            "children               0.01877\n",
            "family_status_id       0.01877\n",
            "dtype: float64\n",
            "доля с долгом за образование purposes_categories    0.017233\n",
            "debt                   0.017233\n",
            "children               0.017233\n",
            "family_status_id       0.017233\n",
            "dtype: float64\n",
            "доля с долгом за свадьбу purposes_categories    0.008663\n",
            "debt                   0.008663\n",
            "children               0.008663\n",
            "family_status_id       0.008663\n",
            "dtype: float64\n"
          ]
        }
      ],
      "source": [
        "data_category_real_estate = data[['debt', 'purposes_categories', 'total_income']]\n",
        "data_pivot = data_category_real_estate.pivot_table(index=['debt'], columns='purposes_categories', aggfunc='count')\n",
        "print(data_pivot)\n",
        "\n",
        "data_category_real_estate = data_category[data_category['purposes_categories'] == 'Недвижимость']\n",
        "data_category_real_estate = data_category_real_estate[data_category_real_estate['debt'] == 1]\n",
        "print('доля с долгом за недвижимость', data_category_real_estate.count()/data_category.count())\n",
        "\n",
        "data_category_car = data_category[data_category['purposes_categories'] == 'Автомобиль']\n",
        "data_category_car = data_category_car[data_category_car['debt'] == 1]\n",
        "print('доля с долгом за авто', data_category_car.count()/data_category.count())\n",
        "\n",
        "data_category_education = data_category[data_category['purposes_categories'] == 'Образование']\n",
        "data_category_education = data_category_education[data_category_education['debt'] == 1]\n",
        "print('доля с долгом за образование', data_category_education.count()/data_category.count())\n",
        "\n",
        "data_category_wedding = data_category[data_category['purposes_categories'] == 'Свадьба']\n",
        "data_category_wedding = data_category_wedding[data_category_wedding['debt'] == 1]\n",
        "print('доля с долгом за свадьбу', data_category_wedding.count()/data_category.count())"
      ]
    },
    {
      "cell_type": "markdown",
      "metadata": {
        "id": "W50YSG2V344P"
      },
      "source": [
        "Большая доля с долгами - у тех, кто брал кредит на недвижимость; меньшая доля - у тех, кто брал кредит на свадьбу"
      ]
    },
    {
      "cell_type": "code",
      "execution_count": null,
      "metadata": {
        "id": "_R0SyH36344P",
        "outputId": "fcb94eb2-bd87-4baa-d7b2-b48bf25626a2"
      },
      "outputs": [
        {
          "name": "stdout",
          "output_type": "stream",
          "text": [
            "0    19730\n",
            "1     1741\n",
            "Name: debt, dtype: int64\n",
            "                    total_income     \n",
            "debt                           0    1\n",
            "purposes_categories                  \n",
            "Автомобиль                  3905  403\n",
            "Недвижимость               10032  782\n",
            "Образование                 3644  370\n",
            "Свадьба                     2149  186\n",
            "         total_income        \n",
            "debt                0       1\n",
            "children                     \n",
            "0             13044.0  1063.0\n",
            "1              4411.0   445.0\n",
            "2              1926.0   202.0\n",
            "3               303.0    27.0\n",
            "4                37.0     4.0\n",
            "5                 9.0     NaN\n",
            "                      total_income     \n",
            "debt                             0    1\n",
            "family_status                          \n",
            "Не женат / не замужем         2536  274\n",
            "в разводе                     1110   85\n",
            "вдовец / вдова                 896   63\n",
            "гражданский брак              3775  388\n",
            "женат / замужем              11413  931\n",
            "                   total_income                                    \n",
            "total_income_cat_1 низкий доход ниже среднего выше среднего высокий\n",
            "debt                                                               \n",
            "0                          4944          4916          4886    4984\n",
            "1                           424           452           481     384\n",
            "                     debt_number  total_number   percent\n",
            "purposes_categories                                     \n",
            "Автомобиль                   403          4308  9.354689\n",
            "Недвижимость                 782         10814  7.231367\n",
            "Образование                  370          4014  9.217738\n",
            "Свадьба                      186          2335  7.965739\n",
            "          debt_number  total_number   percent\n",
            "children                                     \n",
            "0                1063         14107  7.535266\n",
            "1                 445          4856  9.163921\n",
            "2                 202          2128  9.492481\n",
            "3                  27           330  8.181818\n",
            "4                   4            41  9.756098\n",
            "5                   0             9  0.000000\n",
            "                       debt_number  total_number   percent\n",
            "family_status                                             \n",
            "Не женат / не замужем          274          2810  9.750890\n",
            "в разводе                       85          1195  7.112971\n",
            "вдовец / вдова                  63           959  6.569343\n",
            "гражданский брак               388          4163  9.320202\n",
            "женат / замужем                931         12344  7.542126\n",
            "                    debt_number  total_number   percent\n",
            "total_income_cat_1                                     \n",
            "низкий доход                424          5368  7.898659\n",
            "ниже среднего               452          5368  8.420268\n",
            "выше среднего               481          5367  8.962176\n",
            "высокий                     384          5368  7.153502\n"
          ]
        }
      ],
      "source": [
        "print(data['debt'].value_counts())\n",
        "data_category_final_purpose = data[['debt', 'purposes_categories', 'total_income']]\n",
        "data_pivot_purpose = data_category_final_purpose.pivot_table(index=['purposes_categories'], columns='debt', aggfunc='count')\n",
        "print(data_pivot_purpose)\n",
        "\n",
        "data_category_final_children = data[['debt', 'children', 'total_income']]\n",
        "data_pivot_children = data_category_final_children.pivot_table(index=['children'], columns='debt', aggfunc='count')\n",
        "print(data_pivot_children)\n",
        "\n",
        "data_category_final_family = data[['debt', 'family_status', 'total_income']]\n",
        "data_pivot_family = data_category_final_family.pivot_table(index=['family_status'], columns='debt', aggfunc='count')\n",
        "print(data_pivot_family)\n",
        "\n",
        "data_category_income = data[['debt', 'total_income_cat_1', 'total_income']]\n",
        "data_pivot = data_category_income.pivot_table(index=['debt'], columns='total_income_cat_1', aggfunc='count')\n",
        "print(data_pivot)\n",
        "\n",
        "data_pivot_purpose = data.pivot_table(index = 'purposes_categories', values = 'debt', aggfunc = ['sum','count'])\n",
        "data_pivot_purpose.columns = ['debt_number', 'total_number']\n",
        "data_pivot_purpose['percent'] = data_pivot_purpose['debt_number'] / data_pivot_purpose['total_number'] * 100\n",
        "print(data_pivot_purpose)\n",
        "\n",
        "data_pivot_children = data.pivot_table(index = 'children', values = 'debt', aggfunc = ['sum','count'])\n",
        "data_pivot_children.columns = ['debt_number', 'total_number']\n",
        "data_pivot_children['percent'] = data_pivot_children['debt_number'] / data_pivot_children['total_number'] * 100\n",
        "print(data_pivot_children)\n",
        "\n",
        "data_pivot_family = data.pivot_table(index = 'family_status', values = 'debt', aggfunc = ['sum','count'])\n",
        "data_pivot_family.columns = ['debt_number', 'total_number']\n",
        "data_pivot_family['percent'] = data_pivot_family['debt_number'] / data_pivot_family['total_number'] * 100\n",
        "print(data_pivot_family)\n",
        "\n",
        "data_pivot_income = data.pivot_table(index = 'total_income_cat_1', values = 'debt', aggfunc = ['sum','count'])\n",
        "data_pivot_income.columns = ['debt_number', 'total_number']\n",
        "data_pivot_income['percent'] = data_pivot_income['debt_number'] / data_pivot_income['total_number'] * 100\n",
        "print(data_pivot_income)"
      ]
    },
    {
      "cell_type": "markdown",
      "metadata": {
        "id": "osnA-_Zy344R"
      },
      "source": [
        "## Шаг 4. Общий вывод"
      ]
    },
    {
      "cell_type": "markdown",
      "metadata": {
        "id": "A_WoNnYd344R"
      },
      "source": [
        "Общее количество человек с долгом составляет 1741.\n",
        "Итого: имеют задолженность по кредиту: те, кто брал на недвижимость; у кого доход больше медианного; замужем/женат; у кого нет детей.\n",
        "Количество детей согласно данным имеет следующую зависимость: чем больше детей, тем меньше вероятность задолжать по кредиту, однако, скорее всего в этом случае ужесточаются требования банков, поэтому людис большим количеством детей просто-напросто не получают кредиты, а те, кто получают, имеют хорошие финансовые возможности."
      ]
    }
  ],
  "metadata": {
    "ExecuteTimeLog": [
      {
        "duration": 913,
        "start_time": "2021-11-29T09:14:08.170Z"
      },
      {
        "duration": 30,
        "start_time": "2021-11-29T10:47:01.464Z"
      },
      {
        "duration": 12,
        "start_time": "2021-11-29T10:51:03.604Z"
      },
      {
        "duration": 29,
        "start_time": "2021-11-29T10:51:41.484Z"
      },
      {
        "duration": 29,
        "start_time": "2021-11-29T10:52:19.151Z"
      },
      {
        "duration": 29,
        "start_time": "2021-11-29T10:53:13.799Z"
      },
      {
        "duration": 27,
        "start_time": "2021-11-29T10:53:31.687Z"
      },
      {
        "duration": 33,
        "start_time": "2021-11-29T10:53:45.473Z"
      },
      {
        "duration": 29,
        "start_time": "2021-11-29T10:54:06.008Z"
      },
      {
        "duration": 20,
        "start_time": "2021-11-29T12:02:48.922Z"
      },
      {
        "duration": 22,
        "start_time": "2021-11-29T12:03:23.873Z"
      },
      {
        "duration": 20,
        "start_time": "2021-11-29T12:10:24.829Z"
      },
      {
        "duration": 11,
        "start_time": "2021-11-29T12:10:55.750Z"
      },
      {
        "duration": 893,
        "start_time": "2021-11-29T12:11:11.582Z"
      },
      {
        "duration": 10,
        "start_time": "2021-11-29T12:11:12.478Z"
      },
      {
        "duration": 22,
        "start_time": "2021-11-29T12:12:45.010Z"
      },
      {
        "duration": 74,
        "start_time": "2021-11-29T12:14:23.127Z"
      },
      {
        "duration": 87,
        "start_time": "2021-11-29T12:16:40.554Z"
      },
      {
        "duration": 81,
        "start_time": "2021-11-29T12:17:03.368Z"
      },
      {
        "duration": 87,
        "start_time": "2021-11-29T12:18:07.589Z"
      },
      {
        "duration": 88,
        "start_time": "2021-11-29T12:18:42.492Z"
      },
      {
        "duration": 87,
        "start_time": "2021-11-29T12:23:24.510Z"
      },
      {
        "duration": 480,
        "start_time": "2021-11-29T12:57:18.652Z"
      },
      {
        "duration": 91,
        "start_time": "2021-11-29T12:59:10.170Z"
      },
      {
        "duration": 86,
        "start_time": "2021-11-29T12:59:38.608Z"
      },
      {
        "duration": 408,
        "start_time": "2021-11-29T13:00:14.662Z"
      },
      {
        "duration": 5,
        "start_time": "2021-11-29T13:01:18.179Z"
      },
      {
        "duration": 443,
        "start_time": "2021-11-29T13:02:55.148Z"
      },
      {
        "duration": 872,
        "start_time": "2021-11-29T13:03:06.259Z"
      },
      {
        "duration": 23,
        "start_time": "2021-11-29T13:03:07.135Z"
      },
      {
        "duration": 6,
        "start_time": "2021-11-29T13:03:07.162Z"
      },
      {
        "duration": 5,
        "start_time": "2021-11-29T13:03:16.825Z"
      },
      {
        "duration": 18,
        "start_time": "2021-11-29T13:03:40.947Z"
      },
      {
        "duration": 30,
        "start_time": "2021-11-29T13:20:03.815Z"
      },
      {
        "duration": 45,
        "start_time": "2021-11-29T13:20:12.356Z"
      },
      {
        "duration": 675,
        "start_time": "2021-11-29T13:22:44.125Z"
      },
      {
        "duration": 1032,
        "start_time": "2021-11-29T13:24:18.402Z"
      },
      {
        "duration": 22,
        "start_time": "2021-11-29T13:24:19.437Z"
      },
      {
        "duration": 39,
        "start_time": "2021-11-29T13:24:19.462Z"
      },
      {
        "duration": 55,
        "start_time": "2021-11-29T13:24:19.504Z"
      },
      {
        "duration": 86,
        "start_time": "2021-11-29T13:26:47.230Z"
      },
      {
        "duration": 757,
        "start_time": "2021-11-29T13:34:45.572Z"
      },
      {
        "duration": 71,
        "start_time": "2021-11-29T13:34:56.798Z"
      },
      {
        "duration": 2309,
        "start_time": "2021-11-29T13:35:19.188Z"
      },
      {
        "duration": 1444,
        "start_time": "2021-11-29T13:35:21.628Z"
      },
      {
        "duration": 28,
        "start_time": "2021-11-29T13:35:23.075Z"
      },
      {
        "duration": 16,
        "start_time": "2021-11-29T13:35:23.106Z"
      },
      {
        "duration": 93,
        "start_time": "2021-11-29T13:35:23.125Z"
      },
      {
        "duration": 78,
        "start_time": "2021-11-29T13:35:42.001Z"
      },
      {
        "duration": 806,
        "start_time": "2021-11-29T13:36:02.918Z"
      },
      {
        "duration": 430,
        "start_time": "2021-11-29T13:36:37.752Z"
      },
      {
        "duration": 1205,
        "start_time": "2021-11-29T13:36:45.290Z"
      },
      {
        "duration": 22,
        "start_time": "2021-11-29T13:36:46.498Z"
      },
      {
        "duration": 17,
        "start_time": "2021-11-29T13:36:46.524Z"
      },
      {
        "duration": 106,
        "start_time": "2021-11-29T13:36:46.544Z"
      },
      {
        "duration": 88,
        "start_time": "2021-11-29T13:36:51.350Z"
      },
      {
        "duration": 735,
        "start_time": "2021-11-29T13:37:06.265Z"
      },
      {
        "duration": 955,
        "start_time": "2021-11-29T13:37:16.214Z"
      },
      {
        "duration": 33,
        "start_time": "2021-11-29T13:37:17.172Z"
      },
      {
        "duration": 16,
        "start_time": "2021-11-29T13:37:17.208Z"
      },
      {
        "duration": 189,
        "start_time": "2021-11-29T13:37:17.226Z"
      },
      {
        "duration": 132,
        "start_time": "2021-11-29T13:40:56.662Z"
      },
      {
        "duration": 876,
        "start_time": "2021-11-29T13:41:05.105Z"
      },
      {
        "duration": 28,
        "start_time": "2021-11-29T13:41:05.985Z"
      },
      {
        "duration": 19,
        "start_time": "2021-11-29T13:41:06.017Z"
      },
      {
        "duration": 112,
        "start_time": "2021-11-29T13:41:06.040Z"
      },
      {
        "duration": 83,
        "start_time": "2021-11-29T13:41:16.666Z"
      },
      {
        "duration": 1066,
        "start_time": "2021-11-29T13:41:54.306Z"
      },
      {
        "duration": 84,
        "start_time": "2021-11-29T13:42:09.328Z"
      },
      {
        "duration": 119,
        "start_time": "2021-11-29T13:42:21.759Z"
      },
      {
        "duration": 113,
        "start_time": "2021-11-29T13:43:41.699Z"
      },
      {
        "duration": 908,
        "start_time": "2021-11-29T13:43:48.285Z"
      },
      {
        "duration": 20,
        "start_time": "2021-11-29T13:43:49.195Z"
      },
      {
        "duration": 21,
        "start_time": "2021-11-29T13:43:49.218Z"
      },
      {
        "duration": 106,
        "start_time": "2021-11-29T13:43:49.241Z"
      },
      {
        "duration": 83,
        "start_time": "2021-11-29T13:45:01.826Z"
      },
      {
        "duration": 75,
        "start_time": "2021-11-29T13:45:14.317Z"
      },
      {
        "duration": 92,
        "start_time": "2021-11-29T13:46:40.325Z"
      },
      {
        "duration": 887,
        "start_time": "2021-11-29T13:46:47.829Z"
      },
      {
        "duration": 21,
        "start_time": "2021-11-29T13:46:48.719Z"
      },
      {
        "duration": 16,
        "start_time": "2021-11-29T13:46:48.743Z"
      },
      {
        "duration": 115,
        "start_time": "2021-11-29T13:46:48.762Z"
      },
      {
        "duration": 99,
        "start_time": "2021-11-29T13:48:14.017Z"
      },
      {
        "duration": 101,
        "start_time": "2021-11-29T13:48:26.454Z"
      },
      {
        "duration": 890,
        "start_time": "2021-11-29T13:48:48.501Z"
      },
      {
        "duration": 27,
        "start_time": "2021-11-29T13:48:49.402Z"
      },
      {
        "duration": 19,
        "start_time": "2021-11-29T13:48:49.431Z"
      },
      {
        "duration": 105,
        "start_time": "2021-11-29T13:48:49.453Z"
      },
      {
        "duration": 107,
        "start_time": "2021-11-29T13:49:05.437Z"
      },
      {
        "duration": 62,
        "start_time": "2021-11-29T13:49:50.254Z"
      },
      {
        "duration": 58,
        "start_time": "2021-11-29T13:51:58.960Z"
      },
      {
        "duration": 467,
        "start_time": "2021-11-29T13:52:05.527Z"
      },
      {
        "duration": 869,
        "start_time": "2021-11-29T13:52:13.248Z"
      },
      {
        "duration": 28,
        "start_time": "2021-11-29T13:52:14.120Z"
      },
      {
        "duration": 49,
        "start_time": "2021-11-29T13:52:14.152Z"
      },
      {
        "duration": 58,
        "start_time": "2021-11-29T13:52:14.204Z"
      },
      {
        "duration": 714,
        "start_time": "2021-11-29T13:55:15.064Z"
      },
      {
        "duration": 994,
        "start_time": "2021-11-29T13:55:29.085Z"
      },
      {
        "duration": 56,
        "start_time": "2021-11-29T13:55:30.082Z"
      },
      {
        "duration": 30,
        "start_time": "2021-11-29T13:55:30.142Z"
      },
      {
        "duration": 82,
        "start_time": "2021-11-29T13:55:30.175Z"
      },
      {
        "duration": 498,
        "start_time": "2021-11-29T13:55:30.260Z"
      },
      {
        "duration": 347,
        "start_time": "2021-11-29T13:55:36.768Z"
      },
      {
        "duration": 336,
        "start_time": "2021-12-01T13:06:26.329Z"
      },
      {
        "duration": 844,
        "start_time": "2021-12-01T13:06:38.519Z"
      },
      {
        "duration": 22,
        "start_time": "2021-12-01T13:06:39.366Z"
      },
      {
        "duration": 15,
        "start_time": "2021-12-01T13:06:39.391Z"
      },
      {
        "duration": 68,
        "start_time": "2021-12-01T13:06:39.408Z"
      },
      {
        "duration": 307,
        "start_time": "2021-12-01T13:06:39.478Z"
      },
      {
        "duration": 243,
        "start_time": "2021-12-01T13:07:26.018Z"
      },
      {
        "duration": 280,
        "start_time": "2021-12-01T13:07:47.580Z"
      },
      {
        "duration": 637,
        "start_time": "2021-12-01T13:07:54.808Z"
      },
      {
        "duration": 18,
        "start_time": "2021-12-01T13:07:55.448Z"
      },
      {
        "duration": 14,
        "start_time": "2021-12-01T13:07:55.468Z"
      },
      {
        "duration": 37,
        "start_time": "2021-12-01T13:07:55.483Z"
      },
      {
        "duration": 333,
        "start_time": "2021-12-01T13:07:55.522Z"
      },
      {
        "duration": 243,
        "start_time": "2021-12-01T13:07:59.088Z"
      },
      {
        "duration": 4228,
        "start_time": "2021-12-01T13:18:52.887Z"
      },
      {
        "duration": 4345,
        "start_time": "2021-12-01T13:19:24.109Z"
      },
      {
        "duration": 4188,
        "start_time": "2021-12-01T13:19:34.957Z"
      },
      {
        "duration": 633,
        "start_time": "2021-12-02T06:38:22.995Z"
      },
      {
        "duration": 831,
        "start_time": "2021-12-02T06:58:56.431Z"
      },
      {
        "duration": 3350,
        "start_time": "2021-12-02T06:59:16.814Z"
      },
      {
        "duration": 3304,
        "start_time": "2021-12-02T06:59:37.205Z"
      },
      {
        "duration": 3505,
        "start_time": "2021-12-02T07:00:21.157Z"
      },
      {
        "duration": 90,
        "start_time": "2021-12-02T09:58:01.656Z"
      },
      {
        "duration": 44,
        "start_time": "2021-12-02T10:06:16.999Z"
      },
      {
        "duration": 623,
        "start_time": "2021-12-02T10:06:25.256Z"
      },
      {
        "duration": 26,
        "start_time": "2021-12-02T10:06:25.882Z"
      },
      {
        "duration": 14,
        "start_time": "2021-12-02T10:06:25.910Z"
      },
      {
        "duration": 43,
        "start_time": "2021-12-02T10:06:25.926Z"
      },
      {
        "duration": 3734,
        "start_time": "2021-12-02T10:06:25.971Z"
      },
      {
        "duration": 1928,
        "start_time": "2021-12-02T10:06:30.277Z"
      },
      {
        "duration": 1138,
        "start_time": "2021-12-02T10:06:41.351Z"
      },
      {
        "duration": 599,
        "start_time": "2021-12-02T10:06:48.638Z"
      },
      {
        "duration": 19,
        "start_time": "2021-12-02T10:06:49.239Z"
      },
      {
        "duration": 16,
        "start_time": "2021-12-02T10:06:49.260Z"
      },
      {
        "duration": 54,
        "start_time": "2021-12-02T10:06:49.277Z"
      },
      {
        "duration": 3468,
        "start_time": "2021-12-02T10:06:49.333Z"
      },
      {
        "duration": 1322,
        "start_time": "2021-12-02T10:07:01.631Z"
      },
      {
        "duration": 1176,
        "start_time": "2021-12-02T10:07:15.616Z"
      },
      {
        "duration": 642,
        "start_time": "2021-12-02T10:07:22.694Z"
      },
      {
        "duration": 18,
        "start_time": "2021-12-02T10:07:23.338Z"
      },
      {
        "duration": 13,
        "start_time": "2021-12-02T10:07:23.358Z"
      },
      {
        "duration": 48,
        "start_time": "2021-12-02T10:07:23.373Z"
      },
      {
        "duration": 3432,
        "start_time": "2021-12-02T10:07:23.423Z"
      },
      {
        "duration": 1256,
        "start_time": "2021-12-02T10:07:42.646Z"
      },
      {
        "duration": 582,
        "start_time": "2021-12-02T10:08:48.345Z"
      },
      {
        "duration": 17,
        "start_time": "2021-12-02T10:08:48.929Z"
      },
      {
        "duration": 13,
        "start_time": "2021-12-02T10:08:48.949Z"
      },
      {
        "duration": 58,
        "start_time": "2021-12-02T10:08:48.963Z"
      },
      {
        "duration": 3451,
        "start_time": "2021-12-02T10:08:49.023Z"
      },
      {
        "duration": 4263,
        "start_time": "2021-12-02T10:15:03.978Z"
      },
      {
        "duration": 3769,
        "start_time": "2021-12-02T10:15:20.093Z"
      },
      {
        "duration": 3566,
        "start_time": "2021-12-02T10:25:32.000Z"
      },
      {
        "duration": 3608,
        "start_time": "2021-12-02T10:25:45.373Z"
      },
      {
        "duration": 3550,
        "start_time": "2021-12-02T10:25:57.641Z"
      },
      {
        "duration": 3626,
        "start_time": "2021-12-02T10:26:10.979Z"
      },
      {
        "duration": 3502,
        "start_time": "2021-12-02T10:26:22.650Z"
      },
      {
        "duration": 4104,
        "start_time": "2021-12-02T10:27:30.459Z"
      },
      {
        "duration": 4154,
        "start_time": "2021-12-02T10:27:48.968Z"
      },
      {
        "duration": 3477,
        "start_time": "2021-12-02T10:28:13.365Z"
      },
      {
        "duration": 14,
        "start_time": "2021-12-02T10:29:25.795Z"
      },
      {
        "duration": 3484,
        "start_time": "2021-12-02T10:29:30.420Z"
      },
      {
        "duration": 205,
        "start_time": "2021-12-02T10:33:01.233Z"
      },
      {
        "duration": 25,
        "start_time": "2021-12-02T10:33:54.834Z"
      },
      {
        "duration": 19,
        "start_time": "2021-12-02T10:43:12.508Z"
      },
      {
        "duration": 60,
        "start_time": "2021-12-02T10:47:58.319Z"
      },
      {
        "duration": 20,
        "start_time": "2021-12-02T10:48:11.535Z"
      },
      {
        "duration": 20,
        "start_time": "2021-12-02T10:49:32.691Z"
      },
      {
        "duration": 5282,
        "start_time": "2021-12-02T10:50:08.928Z"
      },
      {
        "duration": 215,
        "start_time": "2021-12-02T12:07:43.993Z"
      },
      {
        "duration": 705,
        "start_time": "2021-12-02T12:08:00.175Z"
      },
      {
        "duration": 194,
        "start_time": "2021-12-02T12:08:25.455Z"
      },
      {
        "duration": 20,
        "start_time": "2021-12-02T12:08:40.557Z"
      },
      {
        "duration": 180,
        "start_time": "2021-12-02T12:09:13.476Z"
      },
      {
        "duration": 197,
        "start_time": "2021-12-02T12:10:39.046Z"
      },
      {
        "duration": 288,
        "start_time": "2021-12-02T12:21:30.804Z"
      },
      {
        "duration": 189,
        "start_time": "2021-12-02T12:41:27.616Z"
      },
      {
        "duration": 23,
        "start_time": "2021-12-02T12:42:27.593Z"
      },
      {
        "duration": 4163,
        "start_time": "2021-12-02T12:53:22.013Z"
      },
      {
        "duration": 27,
        "start_time": "2021-12-02T12:53:42.757Z"
      },
      {
        "duration": 8,
        "start_time": "2021-12-02T12:55:47.896Z"
      },
      {
        "duration": 8,
        "start_time": "2021-12-02T12:56:06.975Z"
      },
      {
        "duration": 8,
        "start_time": "2021-12-02T12:57:56.690Z"
      },
      {
        "duration": 14,
        "start_time": "2021-12-02T12:59:35.777Z"
      },
      {
        "duration": 15,
        "start_time": "2021-12-02T13:00:28.011Z"
      },
      {
        "duration": 18,
        "start_time": "2021-12-02T13:01:21.291Z"
      },
      {
        "duration": 20,
        "start_time": "2021-12-02T13:02:02.634Z"
      },
      {
        "duration": 23,
        "start_time": "2021-12-02T13:03:04.396Z"
      },
      {
        "duration": 27,
        "start_time": "2021-12-02T13:06:57.238Z"
      },
      {
        "duration": 21,
        "start_time": "2021-12-02T13:27:07.259Z"
      },
      {
        "duration": 22,
        "start_time": "2021-12-02T13:34:47.470Z"
      },
      {
        "duration": 25,
        "start_time": "2021-12-02T13:35:26.090Z"
      },
      {
        "duration": 13,
        "start_time": "2021-12-02T13:36:31.072Z"
      },
      {
        "duration": 9,
        "start_time": "2021-12-02T13:36:40.567Z"
      },
      {
        "duration": 28,
        "start_time": "2021-12-02T13:37:28.358Z"
      },
      {
        "duration": 33,
        "start_time": "2021-12-02T13:37:51.144Z"
      },
      {
        "duration": 4,
        "start_time": "2021-12-02T13:40:49.664Z"
      },
      {
        "duration": 4,
        "start_time": "2021-12-02T13:41:01.409Z"
      },
      {
        "duration": 17,
        "start_time": "2021-12-02T13:44:58.965Z"
      },
      {
        "duration": 11,
        "start_time": "2021-12-02T13:45:05.082Z"
      },
      {
        "duration": 12,
        "start_time": "2021-12-02T13:47:25.924Z"
      },
      {
        "duration": 178,
        "start_time": "2021-12-02T13:48:53.740Z"
      },
      {
        "duration": 11,
        "start_time": "2021-12-02T13:49:06.138Z"
      },
      {
        "duration": 18,
        "start_time": "2021-12-02T13:50:30.129Z"
      },
      {
        "duration": 196,
        "start_time": "2021-12-02T13:51:15.028Z"
      },
      {
        "duration": 24,
        "start_time": "2021-12-02T13:51:49.648Z"
      },
      {
        "duration": 29,
        "start_time": "2021-12-02T13:54:37.605Z"
      },
      {
        "duration": 58,
        "start_time": "2021-12-02T13:58:12.821Z"
      },
      {
        "duration": 17,
        "start_time": "2021-12-02T13:58:26.431Z"
      },
      {
        "duration": 6,
        "start_time": "2021-12-02T14:02:25.896Z"
      },
      {
        "duration": 58,
        "start_time": "2021-12-02T14:21:17.928Z"
      },
      {
        "duration": 62,
        "start_time": "2021-12-02T14:21:32.005Z"
      },
      {
        "duration": 58,
        "start_time": "2021-12-02T14:22:07.811Z"
      },
      {
        "duration": 66,
        "start_time": "2021-12-02T14:23:48.563Z"
      },
      {
        "duration": 197,
        "start_time": "2021-12-02T14:26:07.307Z"
      },
      {
        "duration": 433,
        "start_time": "2021-12-03T09:02:52.057Z"
      },
      {
        "duration": 837,
        "start_time": "2021-12-03T09:03:14.947Z"
      },
      {
        "duration": 27,
        "start_time": "2021-12-03T09:03:15.786Z"
      },
      {
        "duration": 26,
        "start_time": "2021-12-03T09:03:15.817Z"
      },
      {
        "duration": 59,
        "start_time": "2021-12-03T09:03:15.846Z"
      },
      {
        "duration": 4491,
        "start_time": "2021-12-03T09:03:15.907Z"
      },
      {
        "duration": 828,
        "start_time": "2021-12-03T09:03:20.401Z"
      },
      {
        "duration": 428,
        "start_time": "2021-12-03T09:03:21.231Z"
      },
      {
        "duration": 1690,
        "start_time": "2021-12-03T09:03:19.972Z"
      },
      {
        "duration": 1686,
        "start_time": "2021-12-03T09:03:19.977Z"
      },
      {
        "duration": 1677,
        "start_time": "2021-12-03T09:03:19.987Z"
      },
      {
        "duration": 94,
        "start_time": "2021-12-03T09:04:55.294Z"
      },
      {
        "duration": 106,
        "start_time": "2021-12-03T09:05:05.988Z"
      },
      {
        "duration": 101,
        "start_time": "2021-12-03T09:05:19.355Z"
      },
      {
        "duration": 24,
        "start_time": "2021-12-03T09:05:25.786Z"
      },
      {
        "duration": 25,
        "start_time": "2021-12-03T09:05:53.595Z"
      },
      {
        "duration": 24,
        "start_time": "2021-12-03T09:06:02.283Z"
      },
      {
        "duration": 24,
        "start_time": "2021-12-03T09:07:13.620Z"
      },
      {
        "duration": 24,
        "start_time": "2021-12-03T09:07:34.772Z"
      },
      {
        "duration": 868,
        "start_time": "2021-12-03T09:09:44.421Z"
      },
      {
        "duration": 24,
        "start_time": "2021-12-03T09:09:45.291Z"
      },
      {
        "duration": 19,
        "start_time": "2021-12-03T09:09:45.330Z"
      },
      {
        "duration": 79,
        "start_time": "2021-12-03T09:09:45.351Z"
      },
      {
        "duration": 4496,
        "start_time": "2021-12-03T09:09:45.433Z"
      },
      {
        "duration": 883,
        "start_time": "2021-12-03T09:09:49.932Z"
      },
      {
        "duration": 34,
        "start_time": "2021-12-03T09:09:50.817Z"
      },
      {
        "duration": 50,
        "start_time": "2021-12-03T09:09:50.854Z"
      },
      {
        "duration": 9,
        "start_time": "2021-12-03T09:09:50.932Z"
      },
      {
        "duration": 50,
        "start_time": "2021-12-03T09:09:50.944Z"
      },
      {
        "duration": 24,
        "start_time": "2021-12-03T09:10:34.556Z"
      },
      {
        "duration": 28,
        "start_time": "2021-12-03T09:11:34.659Z"
      },
      {
        "duration": 30,
        "start_time": "2021-12-03T09:13:43.270Z"
      },
      {
        "duration": 31,
        "start_time": "2021-12-03T09:14:05.709Z"
      },
      {
        "duration": 483,
        "start_time": "2021-12-03T09:14:36.695Z"
      },
      {
        "duration": 304,
        "start_time": "2021-12-03T09:14:53.154Z"
      },
      {
        "duration": 1160,
        "start_time": "2021-12-03T09:16:32.121Z"
      },
      {
        "duration": 1407,
        "start_time": "2021-12-03T09:17:26.184Z"
      },
      {
        "duration": 8267,
        "start_time": "2021-12-03T09:24:07.284Z"
      },
      {
        "duration": 3680,
        "start_time": "2021-12-03T09:24:20.081Z"
      },
      {
        "duration": 820,
        "start_time": "2021-12-03T09:24:44.867Z"
      },
      {
        "duration": 24,
        "start_time": "2021-12-03T09:24:45.690Z"
      },
      {
        "duration": 27,
        "start_time": "2021-12-03T09:24:45.717Z"
      },
      {
        "duration": 56,
        "start_time": "2021-12-03T09:24:45.747Z"
      },
      {
        "duration": 4865,
        "start_time": "2021-12-03T09:24:45.829Z"
      },
      {
        "duration": 8843,
        "start_time": "2021-12-03T09:24:50.697Z"
      },
      {
        "duration": 1686,
        "start_time": "2021-12-03T09:24:57.857Z"
      },
      {
        "duration": 1684,
        "start_time": "2021-12-03T09:24:57.861Z"
      },
      {
        "duration": 1683,
        "start_time": "2021-12-03T09:24:57.864Z"
      },
      {
        "duration": 1683,
        "start_time": "2021-12-03T09:24:57.866Z"
      },
      {
        "duration": 29,
        "start_time": "2021-12-03T09:25:35.148Z"
      },
      {
        "duration": 48,
        "start_time": "2021-12-03T09:25:45.299Z"
      },
      {
        "duration": 9,
        "start_time": "2021-12-03T09:25:49.601Z"
      },
      {
        "duration": 46,
        "start_time": "2021-12-03T09:25:54.668Z"
      },
      {
        "duration": 47,
        "start_time": "2021-12-03T09:43:30.829Z"
      },
      {
        "duration": 298,
        "start_time": "2021-12-03T09:47:38.294Z"
      },
      {
        "duration": 16,
        "start_time": "2021-12-03T09:47:56.374Z"
      },
      {
        "duration": 17,
        "start_time": "2021-12-03T09:50:05.593Z"
      },
      {
        "duration": 12,
        "start_time": "2021-12-03T09:50:56.000Z"
      },
      {
        "duration": 12,
        "start_time": "2021-12-03T09:51:00.561Z"
      },
      {
        "duration": 12,
        "start_time": "2021-12-03T09:51:11.735Z"
      },
      {
        "duration": 94,
        "start_time": "2021-12-03T09:59:56.928Z"
      },
      {
        "duration": 7476,
        "start_time": "2021-12-03T10:00:23.709Z"
      },
      {
        "duration": 6903,
        "start_time": "2021-12-03T10:00:56.392Z"
      },
      {
        "duration": 19,
        "start_time": "2021-12-03T10:02:22.155Z"
      },
      {
        "duration": 23,
        "start_time": "2021-12-03T10:02:35.477Z"
      },
      {
        "duration": 6634,
        "start_time": "2021-12-03T10:03:17.569Z"
      },
      {
        "duration": 26,
        "start_time": "2021-12-03T10:03:49.657Z"
      },
      {
        "duration": 29,
        "start_time": "2021-12-03T10:04:23.705Z"
      },
      {
        "duration": 22,
        "start_time": "2021-12-03T10:05:05.402Z"
      },
      {
        "duration": 23,
        "start_time": "2021-12-03T10:05:11.910Z"
      },
      {
        "duration": 102,
        "start_time": "2021-12-03T10:17:11.772Z"
      },
      {
        "duration": 318,
        "start_time": "2021-12-03T10:17:21.797Z"
      },
      {
        "duration": 72,
        "start_time": "2021-12-03T10:21:52.586Z"
      },
      {
        "duration": 73,
        "start_time": "2021-12-03T10:24:42.178Z"
      },
      {
        "duration": 48,
        "start_time": "2021-12-03T10:25:31.353Z"
      },
      {
        "duration": 90,
        "start_time": "2021-12-03T10:25:41.673Z"
      },
      {
        "duration": 45,
        "start_time": "2021-12-03T10:25:47.521Z"
      },
      {
        "duration": 87,
        "start_time": "2021-12-03T10:26:43.138Z"
      },
      {
        "duration": 85,
        "start_time": "2021-12-03T10:54:43.392Z"
      },
      {
        "duration": 68,
        "start_time": "2021-12-03T10:54:55.656Z"
      },
      {
        "duration": 1102,
        "start_time": "2021-12-03T10:55:48.660Z"
      },
      {
        "duration": 25,
        "start_time": "2021-12-03T10:55:49.765Z"
      },
      {
        "duration": 45,
        "start_time": "2021-12-03T10:55:49.793Z"
      },
      {
        "duration": 68,
        "start_time": "2021-12-03T10:55:49.841Z"
      },
      {
        "duration": 4946,
        "start_time": "2021-12-03T10:55:49.930Z"
      },
      {
        "duration": 870,
        "start_time": "2021-12-03T10:55:54.879Z"
      },
      {
        "duration": 24,
        "start_time": "2021-12-03T10:55:55.751Z"
      },
      {
        "duration": 76,
        "start_time": "2021-12-03T10:55:55.778Z"
      },
      {
        "duration": 46,
        "start_time": "2021-12-03T10:55:55.934Z"
      },
      {
        "duration": 88,
        "start_time": "2021-12-03T10:55:55.983Z"
      },
      {
        "duration": 67,
        "start_time": "2021-12-03T10:56:20.039Z"
      },
      {
        "duration": 64,
        "start_time": "2021-12-03T11:01:17.952Z"
      },
      {
        "duration": 6909,
        "start_time": "2021-12-03T11:03:21.449Z"
      },
      {
        "duration": 7534,
        "start_time": "2021-12-03T11:06:40.383Z"
      },
      {
        "duration": 74,
        "start_time": "2021-12-03T11:10:38.263Z"
      },
      {
        "duration": 76,
        "start_time": "2021-12-03T11:14:02.959Z"
      },
      {
        "duration": 7486,
        "start_time": "2021-12-03T11:17:51.521Z"
      },
      {
        "duration": 6887,
        "start_time": "2021-12-03T11:19:03.213Z"
      },
      {
        "duration": 67,
        "start_time": "2021-12-03T11:19:17.437Z"
      },
      {
        "duration": 64,
        "start_time": "2021-12-03T11:25:03.437Z"
      },
      {
        "duration": 60,
        "start_time": "2021-12-03T11:25:26.966Z"
      },
      {
        "duration": 90,
        "start_time": "2021-12-03T11:25:39.414Z"
      },
      {
        "duration": 64,
        "start_time": "2021-12-03T11:25:46.080Z"
      },
      {
        "duration": 66,
        "start_time": "2021-12-03T11:27:19.463Z"
      },
      {
        "duration": 46,
        "start_time": "2021-12-03T11:36:47.315Z"
      },
      {
        "duration": 44,
        "start_time": "2021-12-03T11:39:50.157Z"
      },
      {
        "duration": 44,
        "start_time": "2021-12-03T11:41:06.446Z"
      },
      {
        "duration": 389,
        "start_time": "2021-12-03T11:52:56.882Z"
      },
      {
        "duration": 115,
        "start_time": "2021-12-03T11:53:41.378Z"
      },
      {
        "duration": 395,
        "start_time": "2021-12-03T12:02:10.065Z"
      },
      {
        "duration": 520,
        "start_time": "2021-12-03T12:02:56.613Z"
      },
      {
        "duration": 468,
        "start_time": "2021-12-03T12:03:13.007Z"
      },
      {
        "duration": 391,
        "start_time": "2021-12-03T12:03:41.456Z"
      },
      {
        "duration": 162,
        "start_time": "2021-12-03T12:06:20.002Z"
      },
      {
        "duration": 163,
        "start_time": "2021-12-03T12:06:59.484Z"
      },
      {
        "duration": 161,
        "start_time": "2021-12-03T12:07:47.868Z"
      },
      {
        "duration": 171,
        "start_time": "2021-12-03T12:08:51.611Z"
      },
      {
        "duration": 134,
        "start_time": "2021-12-03T12:35:24.328Z"
      },
      {
        "duration": 7636,
        "start_time": "2021-12-03T12:36:13.068Z"
      },
      {
        "duration": 136,
        "start_time": "2021-12-03T12:36:42.889Z"
      },
      {
        "duration": 142,
        "start_time": "2021-12-03T12:37:45.821Z"
      },
      {
        "duration": 142,
        "start_time": "2021-12-03T12:38:44.642Z"
      },
      {
        "duration": 302,
        "start_time": "2021-12-03T12:39:14.583Z"
      },
      {
        "duration": 281,
        "start_time": "2021-12-03T12:40:32.785Z"
      },
      {
        "duration": 153,
        "start_time": "2021-12-03T12:40:57.099Z"
      },
      {
        "duration": 307,
        "start_time": "2021-12-03T12:41:47.799Z"
      },
      {
        "duration": 14,
        "start_time": "2021-12-03T12:42:16.073Z"
      },
      {
        "duration": 43,
        "start_time": "2021-12-03T12:44:23.709Z"
      },
      {
        "duration": 276,
        "start_time": "2021-12-03T12:45:19.181Z"
      },
      {
        "duration": 285,
        "start_time": "2021-12-03T12:45:28.542Z"
      },
      {
        "duration": 83,
        "start_time": "2021-12-03T12:45:53.031Z"
      },
      {
        "duration": 357,
        "start_time": "2021-12-03T12:45:57.721Z"
      },
      {
        "duration": 296,
        "start_time": "2021-12-03T12:46:05.584Z"
      },
      {
        "duration": 19,
        "start_time": "2021-12-03T12:47:18.719Z"
      },
      {
        "duration": 15,
        "start_time": "2021-12-03T12:49:07.238Z"
      },
      {
        "duration": 16,
        "start_time": "2021-12-03T12:49:20.966Z"
      },
      {
        "duration": 29,
        "start_time": "2021-12-03T12:52:48.746Z"
      },
      {
        "duration": 30,
        "start_time": "2021-12-03T12:53:15.673Z"
      },
      {
        "duration": 32,
        "start_time": "2021-12-03T12:54:06.699Z"
      },
      {
        "duration": 28,
        "start_time": "2021-12-03T12:54:17.530Z"
      },
      {
        "duration": 19,
        "start_time": "2021-12-03T12:54:53.296Z"
      },
      {
        "duration": 28,
        "start_time": "2021-12-03T12:55:58.906Z"
      },
      {
        "duration": 47,
        "start_time": "2021-12-03T12:56:54.403Z"
      },
      {
        "duration": 1268,
        "start_time": "2021-12-03T12:57:08.120Z"
      },
      {
        "duration": 47,
        "start_time": "2021-12-03T12:57:09.392Z"
      },
      {
        "duration": 19,
        "start_time": "2021-12-03T12:57:09.442Z"
      },
      {
        "duration": 80,
        "start_time": "2021-12-03T12:57:09.463Z"
      },
      {
        "duration": 5002,
        "start_time": "2021-12-03T12:57:09.546Z"
      },
      {
        "duration": 843,
        "start_time": "2021-12-03T12:57:14.551Z"
      },
      {
        "duration": 59,
        "start_time": "2021-12-03T12:57:15.398Z"
      },
      {
        "duration": 86,
        "start_time": "2021-12-03T12:57:15.461Z"
      },
      {
        "duration": 89,
        "start_time": "2021-12-03T12:57:15.549Z"
      },
      {
        "duration": 93,
        "start_time": "2021-12-03T12:57:15.640Z"
      },
      {
        "duration": 42,
        "start_time": "2021-12-03T12:57:35.143Z"
      },
      {
        "duration": 445,
        "start_time": "2021-12-03T12:58:49.838Z"
      },
      {
        "duration": 132,
        "start_time": "2021-12-03T12:59:03.529Z"
      },
      {
        "duration": 6484,
        "start_time": "2021-12-03T13:15:41.125Z"
      },
      {
        "duration": 12,
        "start_time": "2021-12-03T13:16:02.459Z"
      },
      {
        "duration": 8,
        "start_time": "2021-12-03T13:16:27.238Z"
      },
      {
        "duration": 70,
        "start_time": "2021-12-03T13:29:39.717Z"
      },
      {
        "duration": 71,
        "start_time": "2021-12-03T13:30:00.623Z"
      },
      {
        "duration": 68,
        "start_time": "2021-12-03T13:30:18.483Z"
      },
      {
        "duration": 46,
        "start_time": "2021-12-03T13:35:38.329Z"
      },
      {
        "duration": 897,
        "start_time": "2021-12-03T13:44:49.457Z"
      },
      {
        "duration": 30,
        "start_time": "2021-12-03T13:44:50.357Z"
      },
      {
        "duration": 58,
        "start_time": "2021-12-03T13:44:50.392Z"
      },
      {
        "duration": 82,
        "start_time": "2021-12-03T13:44:50.453Z"
      },
      {
        "duration": 5636,
        "start_time": "2021-12-03T13:44:50.537Z"
      },
      {
        "duration": 867,
        "start_time": "2021-12-03T13:44:56.176Z"
      },
      {
        "duration": 51,
        "start_time": "2021-12-03T13:44:57.046Z"
      },
      {
        "duration": 98,
        "start_time": "2021-12-03T13:44:57.101Z"
      },
      {
        "duration": 139,
        "start_time": "2021-12-03T13:44:57.204Z"
      },
      {
        "duration": 121,
        "start_time": "2021-12-03T13:44:57.347Z"
      },
      {
        "duration": 9,
        "start_time": "2021-12-03T13:44:57.471Z"
      },
      {
        "duration": 373,
        "start_time": "2021-12-04T17:12:37.333Z"
      },
      {
        "duration": 886,
        "start_time": "2021-12-04T17:12:49.444Z"
      },
      {
        "duration": 25,
        "start_time": "2021-12-04T17:12:50.333Z"
      },
      {
        "duration": 19,
        "start_time": "2021-12-04T17:12:50.361Z"
      },
      {
        "duration": 94,
        "start_time": "2021-12-04T17:12:50.382Z"
      },
      {
        "duration": 4716,
        "start_time": "2021-12-04T17:12:50.478Z"
      },
      {
        "duration": 34,
        "start_time": "2021-12-04T17:12:55.196Z"
      },
      {
        "duration": 54,
        "start_time": "2021-12-04T17:12:55.232Z"
      },
      {
        "duration": 91,
        "start_time": "2021-12-04T17:12:55.289Z"
      },
      {
        "duration": 84,
        "start_time": "2021-12-04T17:12:55.383Z"
      },
      {
        "duration": 80,
        "start_time": "2021-12-04T17:12:55.470Z"
      },
      {
        "duration": 7,
        "start_time": "2021-12-04T17:12:55.552Z"
      },
      {
        "duration": 4880,
        "start_time": "2021-12-04T17:15:37.213Z"
      },
      {
        "duration": 5445,
        "start_time": "2021-12-04T17:16:02.900Z"
      },
      {
        "duration": 4541,
        "start_time": "2021-12-04T17:17:04.262Z"
      },
      {
        "duration": 65,
        "start_time": "2021-12-04T17:19:08.452Z"
      },
      {
        "duration": 66,
        "start_time": "2021-12-04T17:19:46.821Z"
      },
      {
        "duration": 41,
        "start_time": "2021-12-04T17:20:33.495Z"
      },
      {
        "duration": 25,
        "start_time": "2021-12-04T17:54:50.719Z"
      },
      {
        "duration": 1902,
        "start_time": "2021-12-04T17:58:16.264Z"
      },
      {
        "duration": 108,
        "start_time": "2021-12-04T18:00:44.637Z"
      },
      {
        "duration": 1944,
        "start_time": "2021-12-04T18:01:21.797Z"
      },
      {
        "duration": 854,
        "start_time": "2021-12-04T18:01:37.175Z"
      },
      {
        "duration": 1999,
        "start_time": "2021-12-04T18:01:38.035Z"
      },
      {
        "duration": -929,
        "start_time": "2021-12-04T18:01:40.967Z"
      },
      {
        "duration": -929,
        "start_time": "2021-12-04T18:01:40.969Z"
      },
      {
        "duration": -930,
        "start_time": "2021-12-04T18:01:40.972Z"
      },
      {
        "duration": -932,
        "start_time": "2021-12-04T18:01:40.976Z"
      },
      {
        "duration": -934,
        "start_time": "2021-12-04T18:01:40.980Z"
      },
      {
        "duration": -933,
        "start_time": "2021-12-04T18:01:40.982Z"
      },
      {
        "duration": -932,
        "start_time": "2021-12-04T18:01:40.984Z"
      },
      {
        "duration": -932,
        "start_time": "2021-12-04T18:01:40.986Z"
      },
      {
        "duration": -931,
        "start_time": "2021-12-04T18:01:40.987Z"
      },
      {
        "duration": 1996,
        "start_time": "2021-12-04T18:01:44.422Z"
      },
      {
        "duration": 308,
        "start_time": "2021-12-04T18:03:53.372Z"
      },
      {
        "duration": 300,
        "start_time": "2021-12-04T18:06:34.748Z"
      },
      {
        "duration": 2123,
        "start_time": "2021-12-04T18:06:49.433Z"
      },
      {
        "duration": 1967,
        "start_time": "2021-12-04T18:08:54.308Z"
      },
      {
        "duration": 305,
        "start_time": "2021-12-04T18:11:35.219Z"
      },
      {
        "duration": 870,
        "start_time": "2021-12-04T18:12:55.051Z"
      },
      {
        "duration": 394,
        "start_time": "2021-12-04T18:12:55.924Z"
      },
      {
        "duration": -928,
        "start_time": "2021-12-04T18:12:57.249Z"
      },
      {
        "duration": -929,
        "start_time": "2021-12-04T18:12:57.251Z"
      },
      {
        "duration": -929,
        "start_time": "2021-12-04T18:12:57.253Z"
      },
      {
        "duration": -930,
        "start_time": "2021-12-04T18:12:57.255Z"
      },
      {
        "duration": -930,
        "start_time": "2021-12-04T18:12:57.257Z"
      },
      {
        "duration": -933,
        "start_time": "2021-12-04T18:12:57.261Z"
      },
      {
        "duration": -939,
        "start_time": "2021-12-04T18:12:57.269Z"
      },
      {
        "duration": -940,
        "start_time": "2021-12-04T18:12:57.271Z"
      },
      {
        "duration": -940,
        "start_time": "2021-12-04T18:12:57.273Z"
      },
      {
        "duration": 97,
        "start_time": "2021-12-04T18:15:54.353Z"
      },
      {
        "duration": 419,
        "start_time": "2021-12-04T18:16:09.296Z"
      },
      {
        "duration": 371,
        "start_time": "2021-12-04T18:17:34.146Z"
      },
      {
        "duration": 381,
        "start_time": "2021-12-04T18:17:59.523Z"
      },
      {
        "duration": 401,
        "start_time": "2021-12-04T18:18:37.143Z"
      },
      {
        "duration": 7329,
        "start_time": "2021-12-04T18:22:04.514Z"
      },
      {
        "duration": 7410,
        "start_time": "2021-12-04T18:26:31.078Z"
      },
      {
        "duration": 7275,
        "start_time": "2021-12-04T18:28:55.977Z"
      },
      {
        "duration": 29,
        "start_time": "2021-12-04T18:30:32.501Z"
      },
      {
        "duration": 43,
        "start_time": "2021-12-04T18:36:05.288Z"
      },
      {
        "duration": 938,
        "start_time": "2021-12-04T18:36:43.365Z"
      },
      {
        "duration": 36,
        "start_time": "2021-12-04T18:36:44.306Z"
      },
      {
        "duration": 21,
        "start_time": "2021-12-04T18:36:44.345Z"
      },
      {
        "duration": 83,
        "start_time": "2021-12-04T18:36:44.369Z"
      },
      {
        "duration": 4917,
        "start_time": "2021-12-04T18:36:44.455Z"
      },
      {
        "duration": 29,
        "start_time": "2021-12-04T18:36:49.375Z"
      },
      {
        "duration": 78,
        "start_time": "2021-12-04T18:36:49.407Z"
      },
      {
        "duration": 89,
        "start_time": "2021-12-04T18:36:49.490Z"
      },
      {
        "duration": 68,
        "start_time": "2021-12-04T18:36:49.582Z"
      },
      {
        "duration": 80,
        "start_time": "2021-12-04T18:36:49.653Z"
      },
      {
        "duration": 8,
        "start_time": "2021-12-04T18:36:49.737Z"
      },
      {
        "duration": 408,
        "start_time": "2021-12-04T18:39:28.917Z"
      },
      {
        "duration": 332,
        "start_time": "2021-12-04T18:40:00.799Z"
      },
      {
        "duration": 52,
        "start_time": "2021-12-04T18:40:18.837Z"
      },
      {
        "duration": 120,
        "start_time": "2021-12-04T18:40:37.541Z"
      },
      {
        "duration": 300,
        "start_time": "2021-12-04T18:41:14.723Z"
      },
      {
        "duration": 283,
        "start_time": "2021-12-04T18:43:16.771Z"
      },
      {
        "duration": 7,
        "start_time": "2021-12-04T18:43:35.956Z"
      },
      {
        "duration": 123,
        "start_time": "2021-12-05T09:25:13.105Z"
      },
      {
        "duration": 255,
        "start_time": "2021-12-05T09:25:40.232Z"
      },
      {
        "duration": 653,
        "start_time": "2021-12-05T09:25:55.392Z"
      },
      {
        "duration": 20,
        "start_time": "2021-12-05T09:25:56.047Z"
      },
      {
        "duration": 102,
        "start_time": "2021-12-05T09:25:56.069Z"
      },
      {
        "duration": -219,
        "start_time": "2021-12-05T09:25:56.392Z"
      },
      {
        "duration": -233,
        "start_time": "2021-12-05T09:25:56.407Z"
      },
      {
        "duration": -238,
        "start_time": "2021-12-05T09:25:56.413Z"
      },
      {
        "duration": -246,
        "start_time": "2021-12-05T09:25:56.422Z"
      },
      {
        "duration": -247,
        "start_time": "2021-12-05T09:25:56.424Z"
      },
      {
        "duration": -248,
        "start_time": "2021-12-05T09:25:56.426Z"
      },
      {
        "duration": -258,
        "start_time": "2021-12-05T09:25:56.437Z"
      },
      {
        "duration": -259,
        "start_time": "2021-12-05T09:25:56.439Z"
      },
      {
        "duration": -260,
        "start_time": "2021-12-05T09:25:56.441Z"
      },
      {
        "duration": -260,
        "start_time": "2021-12-05T09:25:56.442Z"
      },
      {
        "duration": 92,
        "start_time": "2021-12-05T09:26:01.709Z"
      },
      {
        "duration": 5,
        "start_time": "2021-12-05T09:27:04.572Z"
      },
      {
        "duration": 358,
        "start_time": "2021-12-05T09:28:38.878Z"
      },
      {
        "duration": 319,
        "start_time": "2021-12-05T09:28:54.566Z"
      },
      {
        "duration": 634,
        "start_time": "2021-12-05T09:29:23.418Z"
      },
      {
        "duration": 680,
        "start_time": "2021-12-05T09:29:34.329Z"
      },
      {
        "duration": 17,
        "start_time": "2021-12-05T09:29:35.011Z"
      },
      {
        "duration": 22,
        "start_time": "2021-12-05T09:29:35.030Z"
      },
      {
        "duration": 37,
        "start_time": "2021-12-05T09:29:35.053Z"
      },
      {
        "duration": 3419,
        "start_time": "2021-12-05T09:29:35.091Z"
      },
      {
        "duration": 16,
        "start_time": "2021-12-05T09:29:38.512Z"
      },
      {
        "duration": 45,
        "start_time": "2021-12-05T09:29:38.530Z"
      },
      {
        "duration": 43,
        "start_time": "2021-12-05T09:29:38.577Z"
      },
      {
        "duration": 41,
        "start_time": "2021-12-05T09:29:38.621Z"
      },
      {
        "duration": 40,
        "start_time": "2021-12-05T09:29:38.664Z"
      },
      {
        "duration": 19,
        "start_time": "2021-12-05T09:29:38.705Z"
      },
      {
        "duration": 22,
        "start_time": "2021-12-05T09:30:36.053Z"
      },
      {
        "duration": 335,
        "start_time": "2021-12-05T09:31:09.740Z"
      },
      {
        "duration": 752,
        "start_time": "2021-12-05T09:31:22.138Z"
      },
      {
        "duration": 18,
        "start_time": "2021-12-05T09:31:22.891Z"
      },
      {
        "duration": 13,
        "start_time": "2021-12-05T09:31:22.911Z"
      },
      {
        "duration": 52,
        "start_time": "2021-12-05T09:31:22.926Z"
      },
      {
        "duration": 3550,
        "start_time": "2021-12-05T09:31:22.980Z"
      },
      {
        "duration": 27,
        "start_time": "2021-12-05T09:31:26.532Z"
      },
      {
        "duration": 40,
        "start_time": "2021-12-05T09:31:26.561Z"
      },
      {
        "duration": 56,
        "start_time": "2021-12-05T09:31:26.603Z"
      },
      {
        "duration": 27,
        "start_time": "2021-12-05T09:31:26.661Z"
      },
      {
        "duration": 67,
        "start_time": "2021-12-05T09:31:26.690Z"
      },
      {
        "duration": 319,
        "start_time": "2021-12-05T09:32:13.910Z"
      },
      {
        "duration": 285,
        "start_time": "2021-12-05T09:34:02.925Z"
      },
      {
        "duration": 260,
        "start_time": "2021-12-05T09:34:10.641Z"
      },
      {
        "duration": 274,
        "start_time": "2021-12-05T09:34:22.507Z"
      },
      {
        "duration": 262,
        "start_time": "2021-12-05T09:37:26.440Z"
      },
      {
        "duration": 683,
        "start_time": "2021-12-05T09:37:40.271Z"
      },
      {
        "duration": 19,
        "start_time": "2021-12-05T09:37:40.956Z"
      },
      {
        "duration": 15,
        "start_time": "2021-12-05T09:37:40.977Z"
      },
      {
        "duration": 50,
        "start_time": "2021-12-05T09:37:40.994Z"
      },
      {
        "duration": 3539,
        "start_time": "2021-12-05T09:37:41.046Z"
      },
      {
        "duration": 19,
        "start_time": "2021-12-05T09:37:44.588Z"
      },
      {
        "duration": 54,
        "start_time": "2021-12-05T09:37:44.608Z"
      },
      {
        "duration": 46,
        "start_time": "2021-12-05T09:37:44.665Z"
      },
      {
        "duration": 45,
        "start_time": "2021-12-05T09:37:44.713Z"
      },
      {
        "duration": 47,
        "start_time": "2021-12-05T09:37:44.760Z"
      },
      {
        "duration": 295,
        "start_time": "2021-12-05T09:38:05.010Z"
      },
      {
        "duration": 301,
        "start_time": "2021-12-05T10:59:47.846Z"
      },
      {
        "duration": 297,
        "start_time": "2021-12-05T12:32:01.432Z"
      },
      {
        "duration": 712,
        "start_time": "2021-12-05T12:32:21.032Z"
      },
      {
        "duration": 19,
        "start_time": "2021-12-05T12:32:21.747Z"
      },
      {
        "duration": 15,
        "start_time": "2021-12-05T12:32:21.768Z"
      },
      {
        "duration": 59,
        "start_time": "2021-12-05T12:32:21.785Z"
      },
      {
        "duration": 3418,
        "start_time": "2021-12-05T12:32:21.846Z"
      },
      {
        "duration": 19,
        "start_time": "2021-12-05T12:32:25.266Z"
      },
      {
        "duration": 36,
        "start_time": "2021-12-05T12:32:25.287Z"
      },
      {
        "duration": 59,
        "start_time": "2021-12-05T12:32:25.326Z"
      },
      {
        "duration": 26,
        "start_time": "2021-12-05T12:32:25.387Z"
      },
      {
        "duration": 62,
        "start_time": "2021-12-05T12:32:25.415Z"
      },
      {
        "duration": 316,
        "start_time": "2021-12-05T12:33:51.112Z"
      },
      {
        "duration": 252,
        "start_time": "2021-12-05T12:34:04.519Z"
      },
      {
        "duration": 260,
        "start_time": "2021-12-05T12:34:20.441Z"
      },
      {
        "duration": 673,
        "start_time": "2021-12-05T12:34:44.580Z"
      },
      {
        "duration": 20,
        "start_time": "2021-12-05T12:34:45.255Z"
      },
      {
        "duration": 14,
        "start_time": "2021-12-05T12:34:45.277Z"
      },
      {
        "duration": 60,
        "start_time": "2021-12-05T12:34:45.293Z"
      },
      {
        "duration": 3534,
        "start_time": "2021-12-05T12:34:45.354Z"
      },
      {
        "duration": 17,
        "start_time": "2021-12-05T12:34:48.890Z"
      },
      {
        "duration": 42,
        "start_time": "2021-12-05T12:34:48.909Z"
      },
      {
        "duration": 41,
        "start_time": "2021-12-05T12:34:48.953Z"
      },
      {
        "duration": 25,
        "start_time": "2021-12-05T12:34:48.996Z"
      },
      {
        "duration": 40,
        "start_time": "2021-12-05T12:34:49.044Z"
      },
      {
        "duration": 4,
        "start_time": "2021-12-05T12:34:49.086Z"
      },
      {
        "duration": 308,
        "start_time": "2021-12-05T12:36:10.080Z"
      },
      {
        "duration": 287,
        "start_time": "2021-12-05T12:36:24.220Z"
      },
      {
        "duration": 263,
        "start_time": "2021-12-05T12:38:11.795Z"
      },
      {
        "duration": 716,
        "start_time": "2021-12-05T12:40:03.050Z"
      },
      {
        "duration": 19,
        "start_time": "2021-12-05T12:40:03.769Z"
      },
      {
        "duration": 14,
        "start_time": "2021-12-05T12:40:03.790Z"
      },
      {
        "duration": 58,
        "start_time": "2021-12-05T12:40:03.806Z"
      },
      {
        "duration": 3597,
        "start_time": "2021-12-05T12:40:03.865Z"
      },
      {
        "duration": 19,
        "start_time": "2021-12-05T12:40:07.465Z"
      },
      {
        "duration": 36,
        "start_time": "2021-12-05T12:40:07.486Z"
      },
      {
        "duration": 60,
        "start_time": "2021-12-05T12:40:07.525Z"
      },
      {
        "duration": 27,
        "start_time": "2021-12-05T12:40:07.586Z"
      },
      {
        "duration": 67,
        "start_time": "2021-12-05T12:40:07.615Z"
      },
      {
        "duration": 4,
        "start_time": "2021-12-05T12:40:07.684Z"
      },
      {
        "duration": 536,
        "start_time": "2021-12-05T12:40:53.941Z"
      },
      {
        "duration": 300,
        "start_time": "2021-12-05T12:41:27.431Z"
      },
      {
        "duration": 315,
        "start_time": "2021-12-05T12:41:42.096Z"
      },
      {
        "duration": 284,
        "start_time": "2021-12-05T12:42:01.687Z"
      },
      {
        "duration": 295,
        "start_time": "2021-12-05T12:44:54.799Z"
      },
      {
        "duration": 259,
        "start_time": "2021-12-05T12:45:11.343Z"
      },
      {
        "duration": 726,
        "start_time": "2021-12-05T12:45:31.444Z"
      },
      {
        "duration": 24,
        "start_time": "2021-12-05T12:45:32.173Z"
      },
      {
        "duration": 22,
        "start_time": "2021-12-05T12:45:32.199Z"
      },
      {
        "duration": 59,
        "start_time": "2021-12-05T12:45:32.222Z"
      },
      {
        "duration": 3762,
        "start_time": "2021-12-05T12:45:32.283Z"
      },
      {
        "duration": 19,
        "start_time": "2021-12-05T12:45:36.047Z"
      },
      {
        "duration": 36,
        "start_time": "2021-12-05T12:45:36.068Z"
      },
      {
        "duration": 69,
        "start_time": "2021-12-05T12:45:36.106Z"
      },
      {
        "duration": 31,
        "start_time": "2021-12-05T12:45:36.177Z"
      },
      {
        "duration": 64,
        "start_time": "2021-12-05T12:45:36.210Z"
      },
      {
        "duration": 45,
        "start_time": "2021-12-05T12:45:36.299Z"
      },
      {
        "duration": 18,
        "start_time": "2021-12-05T12:48:02.467Z"
      },
      {
        "duration": 20,
        "start_time": "2021-12-05T12:48:19.738Z"
      },
      {
        "duration": 31,
        "start_time": "2021-12-05T12:49:08.614Z"
      },
      {
        "duration": 47,
        "start_time": "2021-12-05T12:59:48.765Z"
      },
      {
        "duration": 31,
        "start_time": "2021-12-05T13:00:19.414Z"
      },
      {
        "duration": 310,
        "start_time": "2021-12-06T07:27:12.647Z"
      },
      {
        "duration": 908,
        "start_time": "2021-12-06T07:27:19.326Z"
      },
      {
        "duration": 31,
        "start_time": "2021-12-06T07:27:20.236Z"
      },
      {
        "duration": 6799,
        "start_time": "2021-12-06T07:27:20.269Z"
      },
      {
        "duration": -23390,
        "start_time": "2021-12-06T07:27:50.460Z"
      },
      {
        "duration": -23391,
        "start_time": "2021-12-06T07:27:50.463Z"
      },
      {
        "duration": -23393,
        "start_time": "2021-12-06T07:27:50.466Z"
      },
      {
        "duration": -23394,
        "start_time": "2021-12-06T07:27:50.468Z"
      },
      {
        "duration": -23396,
        "start_time": "2021-12-06T07:27:50.471Z"
      },
      {
        "duration": -23401,
        "start_time": "2021-12-06T07:27:50.477Z"
      },
      {
        "duration": -23402,
        "start_time": "2021-12-06T07:27:50.479Z"
      },
      {
        "duration": -23403,
        "start_time": "2021-12-06T07:27:50.481Z"
      },
      {
        "duration": -23404,
        "start_time": "2021-12-06T07:27:50.483Z"
      },
      {
        "duration": 87,
        "start_time": "2021-12-06T07:31:52.010Z"
      },
      {
        "duration": 94,
        "start_time": "2021-12-06T07:31:57.716Z"
      },
      {
        "duration": 109,
        "start_time": "2021-12-06T07:32:02.911Z"
      },
      {
        "duration": 4,
        "start_time": "2021-12-06T07:32:25.124Z"
      },
      {
        "duration": 80,
        "start_time": "2021-12-06T07:32:30.694Z"
      },
      {
        "duration": 80,
        "start_time": "2021-12-06T07:32:44.369Z"
      },
      {
        "duration": 40,
        "start_time": "2021-12-06T07:32:57.696Z"
      },
      {
        "duration": 44,
        "start_time": "2021-12-06T07:33:04.128Z"
      },
      {
        "duration": 19,
        "start_time": "2021-12-06T07:36:11.227Z"
      },
      {
        "duration": 38,
        "start_time": "2021-12-06T07:36:13.151Z"
      },
      {
        "duration": 3817,
        "start_time": "2021-12-06T07:36:58.028Z"
      },
      {
        "duration": 21,
        "start_time": "2021-12-06T07:37:05.328Z"
      },
      {
        "duration": 34,
        "start_time": "2021-12-06T07:37:17.271Z"
      },
      {
        "duration": 17,
        "start_time": "2021-12-06T07:37:46.971Z"
      },
      {
        "duration": 11,
        "start_time": "2021-12-06T07:38:08.597Z"
      },
      {
        "duration": 45,
        "start_time": "2021-12-06T07:38:29.341Z"
      },
      {
        "duration": 9,
        "start_time": "2021-12-06T07:38:33.647Z"
      },
      {
        "duration": 12,
        "start_time": "2021-12-06T07:39:21.101Z"
      },
      {
        "duration": 27,
        "start_time": "2021-12-06T07:39:53.157Z"
      },
      {
        "duration": 45,
        "start_time": "2021-12-06T07:41:25.184Z"
      },
      {
        "duration": 42,
        "start_time": "2021-12-06T07:41:25.968Z"
      },
      {
        "duration": 19,
        "start_time": "2021-12-06T07:55:37.592Z"
      },
      {
        "duration": 22,
        "start_time": "2021-12-06T07:55:41.260Z"
      },
      {
        "duration": 23,
        "start_time": "2021-12-06T07:56:01.765Z"
      },
      {
        "duration": 22,
        "start_time": "2021-12-06T07:56:12.029Z"
      },
      {
        "duration": 306,
        "start_time": "2021-12-06T09:42:22.641Z"
      },
      {
        "duration": 709,
        "start_time": "2021-12-06T09:42:35.950Z"
      },
      {
        "duration": 20,
        "start_time": "2021-12-06T09:42:36.661Z"
      },
      {
        "duration": 27,
        "start_time": "2021-12-06T09:42:36.683Z"
      },
      {
        "duration": 64,
        "start_time": "2021-12-06T09:42:36.712Z"
      },
      {
        "duration": 3546,
        "start_time": "2021-12-06T09:42:36.778Z"
      },
      {
        "duration": 27,
        "start_time": "2021-12-06T09:42:40.326Z"
      },
      {
        "duration": 36,
        "start_time": "2021-12-06T09:42:40.355Z"
      },
      {
        "duration": 56,
        "start_time": "2021-12-06T09:42:40.394Z"
      },
      {
        "duration": 27,
        "start_time": "2021-12-06T09:42:40.452Z"
      },
      {
        "duration": 42,
        "start_time": "2021-12-06T09:42:40.480Z"
      },
      {
        "duration": 59,
        "start_time": "2021-12-06T09:42:40.524Z"
      },
      {
        "duration": 49,
        "start_time": "2021-12-06T10:15:20.932Z"
      },
      {
        "duration": 670,
        "start_time": "2021-12-06T10:15:47.732Z"
      },
      {
        "duration": 32,
        "start_time": "2021-12-06T10:19:55.078Z"
      },
      {
        "duration": 50,
        "start_time": "2021-12-06T10:24:01.541Z"
      },
      {
        "duration": 62,
        "start_time": "2021-12-06T10:25:30.873Z"
      },
      {
        "duration": 78,
        "start_time": "2021-12-06T10:26:23.929Z"
      },
      {
        "duration": 97,
        "start_time": "2021-12-06T10:27:13.857Z"
      },
      {
        "duration": 104,
        "start_time": "2021-12-06T10:29:24.219Z"
      },
      {
        "duration": 122,
        "start_time": "2021-12-06T10:31:06.422Z"
      },
      {
        "duration": 11942,
        "start_time": "2021-12-06T10:32:04.316Z"
      },
      {
        "duration": 12312,
        "start_time": "2021-12-06T10:32:30.596Z"
      },
      {
        "duration": 11978,
        "start_time": "2021-12-06T10:32:45.922Z"
      },
      {
        "duration": 12233,
        "start_time": "2021-12-06T10:33:20.606Z"
      },
      {
        "duration": 62,
        "start_time": "2021-12-06T10:35:36.303Z"
      },
      {
        "duration": 726,
        "start_time": "2021-12-06T10:35:45.428Z"
      },
      {
        "duration": 51,
        "start_time": "2021-12-06T10:35:46.156Z"
      },
      {
        "duration": 631,
        "start_time": "2021-12-06T10:35:46.209Z"
      },
      {
        "duration": 5,
        "start_time": "2021-12-06T10:35:46.837Z"
      },
      {
        "duration": 3,
        "start_time": "2021-12-06T10:35:46.840Z"
      },
      {
        "duration": 1,
        "start_time": "2021-12-06T10:35:46.844Z"
      },
      {
        "duration": -1,
        "start_time": "2021-12-06T10:35:46.847Z"
      },
      {
        "duration": -5,
        "start_time": "2021-12-06T10:35:46.851Z"
      },
      {
        "duration": -7,
        "start_time": "2021-12-06T10:35:46.854Z"
      },
      {
        "duration": -9,
        "start_time": "2021-12-06T10:35:46.858Z"
      },
      {
        "duration": -13,
        "start_time": "2021-12-06T10:35:46.863Z"
      },
      {
        "duration": 90,
        "start_time": "2021-12-06T10:41:17.833Z"
      },
      {
        "duration": 677,
        "start_time": "2021-12-06T10:41:27.402Z"
      },
      {
        "duration": 96,
        "start_time": "2021-12-06T10:41:28.081Z"
      },
      {
        "duration": 15,
        "start_time": "2021-12-06T10:41:28.179Z"
      },
      {
        "duration": 58,
        "start_time": "2021-12-06T10:41:28.197Z"
      },
      {
        "duration": 12026,
        "start_time": "2021-12-06T10:41:28.257Z"
      },
      {
        "duration": 19,
        "start_time": "2021-12-06T10:41:40.286Z"
      },
      {
        "duration": 58,
        "start_time": "2021-12-06T10:41:40.307Z"
      },
      {
        "duration": 44,
        "start_time": "2021-12-06T10:41:40.367Z"
      },
      {
        "duration": 40,
        "start_time": "2021-12-06T10:41:40.412Z"
      },
      {
        "duration": 43,
        "start_time": "2021-12-06T10:41:40.454Z"
      },
      {
        "duration": 151,
        "start_time": "2021-12-06T10:41:40.499Z"
      },
      {
        "duration": 1192,
        "start_time": "2021-12-07T07:24:24.808Z"
      },
      {
        "duration": 213,
        "start_time": "2021-12-07T07:24:26.003Z"
      },
      {
        "duration": 41,
        "start_time": "2021-12-07T07:24:26.220Z"
      },
      {
        "duration": 64,
        "start_time": "2021-12-07T07:24:26.263Z"
      },
      {
        "duration": 17846,
        "start_time": "2021-12-07T07:24:26.329Z"
      },
      {
        "duration": 25,
        "start_time": "2021-12-07T07:24:44.178Z"
      },
      {
        "duration": 77,
        "start_time": "2021-12-07T07:24:44.205Z"
      },
      {
        "duration": 78,
        "start_time": "2021-12-07T07:24:44.285Z"
      },
      {
        "duration": 41,
        "start_time": "2021-12-07T07:24:44.365Z"
      },
      {
        "duration": 91,
        "start_time": "2021-12-07T07:24:44.408Z"
      },
      {
        "duration": 205,
        "start_time": "2021-12-07T07:24:44.501Z"
      }
    ],
    "kernelspec": {
      "display_name": "Python 3 (ipykernel)",
      "language": "python",
      "name": "python3"
    },
    "language_info": {
      "codemirror_mode": {
        "name": "ipython",
        "version": 3
      },
      "file_extension": ".py",
      "mimetype": "text/x-python",
      "name": "python",
      "nbconvert_exporter": "python",
      "pygments_lexer": "ipython3",
      "version": "3.9.5"
    },
    "toc": {
      "base_numbering": 1,
      "nav_menu": {},
      "number_sections": true,
      "sideBar": true,
      "skip_h1_title": true,
      "title_cell": "Table of Contents",
      "title_sidebar": "Contents",
      "toc_cell": false,
      "toc_position": {},
      "toc_section_display": true,
      "toc_window_display": false
    },
    "colab": {
      "name": "Исследование_надёжности_заёмщиков.ipynb",
      "provenance": [],
      "collapsed_sections": []
    }
  },
  "nbformat": 4,
  "nbformat_minor": 0
}