{
  "cells": [
    {
      "cell_type": "markdown",
      "metadata": {
        "id": "iRj_WwW6Es5D"
      },
      "source": [
        "Описание проекта:\n",
        "Из открытых источников доступны исторические данные о продажах игр, оценки пользователей и экспертов, жанры и платформы. Нужно выявить закономерности, определяющие успешность игры . "
      ]
    },
    {
      "cell_type": "markdown",
      "source": [
        "Импортируем библиотеки и посмотрим на данные"
      ],
      "metadata": {
        "id": "IWzKij1EFAKu"
      }
    },
    {
      "cell_type": "code",
      "execution_count": null,
      "metadata": {
        "id": "9YD3Xzb7Es5E"
      },
      "outputs": [],
      "source": [
        "import pandas as pd\n",
        "import numpy as np\n",
        "import matplotlib\n",
        "import matplotlib.pyplot as plt\n",
        "import seaborn as sns\n",
        "from scipy import stats as st\n",
        "import warnings\n",
        "warnings.filterwarnings(\"ignore\", category=np.VisibleDeprecationWarning) "
      ]
    },
    {
      "cell_type": "code",
      "execution_count": null,
      "metadata": {
        "id": "KG4GhHO2Es5G",
        "outputId": "cd4f7c42-d982-419c-a279-5dec47228ea5"
      },
      "outputs": [
        {
          "name": "stdout",
          "output_type": "stream",
          "text": [
            "<class 'pandas.core.frame.DataFrame'>\n",
            "RangeIndex: 16715 entries, 0 to 16714\n",
            "Data columns (total 11 columns):\n",
            "Name               16713 non-null object\n",
            "Platform           16715 non-null object\n",
            "Year_of_Release    16446 non-null float64\n",
            "Genre              16713 non-null object\n",
            "NA_sales           16715 non-null float64\n",
            "EU_sales           16715 non-null float64\n",
            "JP_sales           16715 non-null float64\n",
            "Other_sales        16715 non-null float64\n",
            "Critic_Score       8137 non-null float64\n",
            "User_Score         10014 non-null object\n",
            "Rating             9949 non-null object\n",
            "dtypes: float64(6), object(5)\n",
            "memory usage: 1.4+ MB\n"
          ]
        }
      ],
      "source": [
        "\n",
        "df.info()                 "
      ]
    },
    {
      "cell_type": "code",
      "execution_count": null,
      "metadata": {
        "id": "Pj9GVdiMEs5I"
      },
      "outputs": [],
      "source": [
        "df = df.rename(columns={'Name' : 'name', 'Platform': 'platform', 'Year_of_Release': 'year_of_release', 'Genre': 'genre', 'NA_sales' : 'na_sales', 'EU_sales' : 'eu_sales', 'JP_sales' : 'jp_sales', 'Other_sales' : 'other_sales', 'Critic_Score' : 'critic_score', 'User_Score' : 'user_score', 'Rating' : 'rating'\n",
        "})"
      ]
    },
    {
      "cell_type": "code",
      "execution_count": null,
      "metadata": {
        "id": "_ZZL29hAEs5I",
        "outputId": "d1c1bef5-4710-490c-ceb9-659e2b6dfe50"
      },
      "outputs": [
        {
          "name": "stdout",
          "output_type": "stream",
          "text": [
            "<class 'pandas.core.frame.DataFrame'>\n",
            "RangeIndex: 16715 entries, 0 to 16714\n",
            "Data columns (total 11 columns):\n",
            "name               16713 non-null object\n",
            "platform           16715 non-null object\n",
            "year_of_release    16446 non-null float64\n",
            "genre              16713 non-null object\n",
            "na_sales           16715 non-null float64\n",
            "eu_sales           16715 non-null float64\n",
            "jp_sales           16715 non-null float64\n",
            "other_sales        16715 non-null float64\n",
            "critic_score       8137 non-null float64\n",
            "user_score         10014 non-null object\n",
            "rating             9949 non-null object\n",
            "dtypes: float64(6), object(5)\n",
            "memory usage: 1.4+ MB\n"
          ]
        }
      ],
      "source": [
        "df.info()"
      ]
    },
    {
      "cell_type": "markdown",
      "metadata": {
        "id": "wJ43XcwREs5J"
      },
      "source": [
        "Я изменила тип данных в user_score на числовой, заполнила пропуски в этом столбце средними значениями по жанру игры."
      ]
    },
    {
      "cell_type": "markdown",
      "metadata": {
        "id": "eVUGKvHCEs5J"
      },
      "source": [
        "Отсутствующие значения в рейтинге заполнила аббревиатурой RP - rating pending, то есть рейтинг не присвоен"
      ]
    },
    {
      "cell_type": "code",
      "execution_count": null,
      "metadata": {
        "id": "gTHgT2UYEs5J"
      },
      "outputs": [],
      "source": [
        "df['user_score'] = pd.to_numeric(df['user_score'], errors='coerce')"
      ]
    },
    {
      "cell_type": "code",
      "execution_count": null,
      "metadata": {
        "id": "3VUe_9-sEs5O"
      },
      "outputs": [],
      "source": [
        "df['rating'] = df['rating'].fillna('RP')"
      ]
    },
    {
      "cell_type": "code",
      "execution_count": null,
      "metadata": {
        "id": "gmNeO6FuEs5O",
        "outputId": "230fcc01-9280-4143-d5a7-6e6a8e232895"
      },
      "outputs": [
        {
          "name": "stdout",
          "output_type": "stream",
          "text": [
            "<class 'pandas.core.frame.DataFrame'>\n",
            "RangeIndex: 16715 entries, 0 to 16714\n",
            "Data columns (total 11 columns):\n",
            "name               16713 non-null object\n",
            "platform           16715 non-null object\n",
            "year_of_release    16446 non-null float64\n",
            "genre              16713 non-null object\n",
            "na_sales           16715 non-null float64\n",
            "eu_sales           16715 non-null float64\n",
            "jp_sales           16715 non-null float64\n",
            "other_sales        16715 non-null float64\n",
            "critic_score       8137 non-null float64\n",
            "user_score         7590 non-null float64\n",
            "rating             16715 non-null object\n",
            "dtypes: float64(7), object(4)\n",
            "memory usage: 1.4+ MB\n"
          ]
        }
      ],
      "source": [
        "df.info()"
      ]
    },
    {
      "cell_type": "markdown",
      "metadata": {
        "id": "lWu1J121Es5O"
      },
      "source": [
        "Посчитаем суммарные продажи во всех регионах и запишем их в отдельный столбец."
      ]
    },
    {
      "cell_type": "code",
      "execution_count": null,
      "metadata": {
        "id": "HSt_2ue4Es5O",
        "outputId": "ae5a24cf-51f4-42d4-b323-0a30c63dbcd3"
      },
      "outputs": [
        {
          "data": {
            "text/html": [
              "<div>\n",
              "<style scoped>\n",
              "    .dataframe tbody tr th:only-of-type {\n",
              "        vertical-align: middle;\n",
              "    }\n",
              "\n",
              "    .dataframe tbody tr th {\n",
              "        vertical-align: top;\n",
              "    }\n",
              "\n",
              "    .dataframe thead th {\n",
              "        text-align: right;\n",
              "    }\n",
              "</style>\n",
              "<table border=\"1\" class=\"dataframe\">\n",
              "  <thead>\n",
              "    <tr style=\"text-align: right;\">\n",
              "      <th></th>\n",
              "      <th>name</th>\n",
              "      <th>platform</th>\n",
              "      <th>year_of_release</th>\n",
              "      <th>genre</th>\n",
              "      <th>na_sales</th>\n",
              "      <th>eu_sales</th>\n",
              "      <th>jp_sales</th>\n",
              "      <th>other_sales</th>\n",
              "      <th>critic_score</th>\n",
              "      <th>user_score</th>\n",
              "      <th>rating</th>\n",
              "      <th>na_sum</th>\n",
              "      <th>eu_sum</th>\n",
              "      <th>jp_sum</th>\n",
              "      <th>other_sum</th>\n",
              "      <th>global_sum</th>\n",
              "    </tr>\n",
              "  </thead>\n",
              "  <tbody>\n",
              "    <tr>\n",
              "      <td>0</td>\n",
              "      <td>Wii Sports</td>\n",
              "      <td>Wii</td>\n",
              "      <td>2006.0</td>\n",
              "      <td>Sports</td>\n",
              "      <td>41.36</td>\n",
              "      <td>28.96</td>\n",
              "      <td>3.77</td>\n",
              "      <td>8.45</td>\n",
              "      <td>76.0</td>\n",
              "      <td>8.0</td>\n",
              "      <td>E</td>\n",
              "      <td>4402.35</td>\n",
              "      <td>2424.67</td>\n",
              "      <td>1297.37</td>\n",
              "      <td>791.32</td>\n",
              "      <td>82.54</td>\n",
              "    </tr>\n",
              "    <tr>\n",
              "      <td>1</td>\n",
              "      <td>Super Mario Bros.</td>\n",
              "      <td>NES</td>\n",
              "      <td>1985.0</td>\n",
              "      <td>Platform</td>\n",
              "      <td>29.08</td>\n",
              "      <td>3.58</td>\n",
              "      <td>6.81</td>\n",
              "      <td>0.77</td>\n",
              "      <td>NaN</td>\n",
              "      <td>NaN</td>\n",
              "      <td>RP</td>\n",
              "      <td>4402.35</td>\n",
              "      <td>2424.67</td>\n",
              "      <td>1297.37</td>\n",
              "      <td>791.32</td>\n",
              "      <td>40.24</td>\n",
              "    </tr>\n",
              "    <tr>\n",
              "      <td>2</td>\n",
              "      <td>Mario Kart Wii</td>\n",
              "      <td>Wii</td>\n",
              "      <td>2008.0</td>\n",
              "      <td>Racing</td>\n",
              "      <td>15.68</td>\n",
              "      <td>12.76</td>\n",
              "      <td>3.79</td>\n",
              "      <td>3.29</td>\n",
              "      <td>82.0</td>\n",
              "      <td>8.3</td>\n",
              "      <td>E</td>\n",
              "      <td>4402.35</td>\n",
              "      <td>2424.67</td>\n",
              "      <td>1297.37</td>\n",
              "      <td>791.32</td>\n",
              "      <td>35.52</td>\n",
              "    </tr>\n",
              "    <tr>\n",
              "      <td>3</td>\n",
              "      <td>Wii Sports Resort</td>\n",
              "      <td>Wii</td>\n",
              "      <td>2009.0</td>\n",
              "      <td>Sports</td>\n",
              "      <td>15.61</td>\n",
              "      <td>10.93</td>\n",
              "      <td>3.28</td>\n",
              "      <td>2.95</td>\n",
              "      <td>80.0</td>\n",
              "      <td>8.0</td>\n",
              "      <td>E</td>\n",
              "      <td>4402.35</td>\n",
              "      <td>2424.67</td>\n",
              "      <td>1297.37</td>\n",
              "      <td>791.32</td>\n",
              "      <td>32.77</td>\n",
              "    </tr>\n",
              "    <tr>\n",
              "      <td>4</td>\n",
              "      <td>Pokemon Red/Pokemon Blue</td>\n",
              "      <td>GB</td>\n",
              "      <td>1996.0</td>\n",
              "      <td>Role-Playing</td>\n",
              "      <td>11.27</td>\n",
              "      <td>8.89</td>\n",
              "      <td>10.22</td>\n",
              "      <td>1.00</td>\n",
              "      <td>NaN</td>\n",
              "      <td>NaN</td>\n",
              "      <td>RP</td>\n",
              "      <td>4402.35</td>\n",
              "      <td>2424.67</td>\n",
              "      <td>1297.37</td>\n",
              "      <td>791.32</td>\n",
              "      <td>31.38</td>\n",
              "    </tr>\n",
              "    <tr>\n",
              "      <td>...</td>\n",
              "      <td>...</td>\n",
              "      <td>...</td>\n",
              "      <td>...</td>\n",
              "      <td>...</td>\n",
              "      <td>...</td>\n",
              "      <td>...</td>\n",
              "      <td>...</td>\n",
              "      <td>...</td>\n",
              "      <td>...</td>\n",
              "      <td>...</td>\n",
              "      <td>...</td>\n",
              "      <td>...</td>\n",
              "      <td>...</td>\n",
              "      <td>...</td>\n",
              "      <td>...</td>\n",
              "      <td>...</td>\n",
              "    </tr>\n",
              "    <tr>\n",
              "      <td>16710</td>\n",
              "      <td>Samurai Warriors: Sanada Maru</td>\n",
              "      <td>PS3</td>\n",
              "      <td>2016.0</td>\n",
              "      <td>Action</td>\n",
              "      <td>0.00</td>\n",
              "      <td>0.00</td>\n",
              "      <td>0.01</td>\n",
              "      <td>0.00</td>\n",
              "      <td>NaN</td>\n",
              "      <td>NaN</td>\n",
              "      <td>RP</td>\n",
              "      <td>4402.35</td>\n",
              "      <td>2424.67</td>\n",
              "      <td>1297.37</td>\n",
              "      <td>791.32</td>\n",
              "      <td>0.01</td>\n",
              "    </tr>\n",
              "    <tr>\n",
              "      <td>16711</td>\n",
              "      <td>LMA Manager 2007</td>\n",
              "      <td>X360</td>\n",
              "      <td>2006.0</td>\n",
              "      <td>Sports</td>\n",
              "      <td>0.00</td>\n",
              "      <td>0.01</td>\n",
              "      <td>0.00</td>\n",
              "      <td>0.00</td>\n",
              "      <td>NaN</td>\n",
              "      <td>NaN</td>\n",
              "      <td>RP</td>\n",
              "      <td>4402.35</td>\n",
              "      <td>2424.67</td>\n",
              "      <td>1297.37</td>\n",
              "      <td>791.32</td>\n",
              "      <td>0.01</td>\n",
              "    </tr>\n",
              "    <tr>\n",
              "      <td>16712</td>\n",
              "      <td>Haitaka no Psychedelica</td>\n",
              "      <td>PSV</td>\n",
              "      <td>2016.0</td>\n",
              "      <td>Adventure</td>\n",
              "      <td>0.00</td>\n",
              "      <td>0.00</td>\n",
              "      <td>0.01</td>\n",
              "      <td>0.00</td>\n",
              "      <td>NaN</td>\n",
              "      <td>NaN</td>\n",
              "      <td>RP</td>\n",
              "      <td>4402.35</td>\n",
              "      <td>2424.67</td>\n",
              "      <td>1297.37</td>\n",
              "      <td>791.32</td>\n",
              "      <td>0.01</td>\n",
              "    </tr>\n",
              "    <tr>\n",
              "      <td>16713</td>\n",
              "      <td>Spirits &amp; Spells</td>\n",
              "      <td>GBA</td>\n",
              "      <td>2003.0</td>\n",
              "      <td>Platform</td>\n",
              "      <td>0.01</td>\n",
              "      <td>0.00</td>\n",
              "      <td>0.00</td>\n",
              "      <td>0.00</td>\n",
              "      <td>NaN</td>\n",
              "      <td>NaN</td>\n",
              "      <td>RP</td>\n",
              "      <td>4402.35</td>\n",
              "      <td>2424.67</td>\n",
              "      <td>1297.37</td>\n",
              "      <td>791.32</td>\n",
              "      <td>0.01</td>\n",
              "    </tr>\n",
              "    <tr>\n",
              "      <td>16714</td>\n",
              "      <td>Winning Post 8 2016</td>\n",
              "      <td>PSV</td>\n",
              "      <td>2016.0</td>\n",
              "      <td>Simulation</td>\n",
              "      <td>0.00</td>\n",
              "      <td>0.00</td>\n",
              "      <td>0.01</td>\n",
              "      <td>0.00</td>\n",
              "      <td>NaN</td>\n",
              "      <td>NaN</td>\n",
              "      <td>RP</td>\n",
              "      <td>4402.35</td>\n",
              "      <td>2424.67</td>\n",
              "      <td>1297.37</td>\n",
              "      <td>791.32</td>\n",
              "      <td>0.01</td>\n",
              "    </tr>\n",
              "  </tbody>\n",
              "</table>\n",
              "<p>16715 rows × 16 columns</p>\n",
              "</div>"
            ],
            "text/plain": [
              "                                name platform  year_of_release         genre  \\\n",
              "0                         Wii Sports      Wii           2006.0        Sports   \n",
              "1                  Super Mario Bros.      NES           1985.0      Platform   \n",
              "2                     Mario Kart Wii      Wii           2008.0        Racing   \n",
              "3                  Wii Sports Resort      Wii           2009.0        Sports   \n",
              "4           Pokemon Red/Pokemon Blue       GB           1996.0  Role-Playing   \n",
              "...                              ...      ...              ...           ...   \n",
              "16710  Samurai Warriors: Sanada Maru      PS3           2016.0        Action   \n",
              "16711               LMA Manager 2007     X360           2006.0        Sports   \n",
              "16712        Haitaka no Psychedelica      PSV           2016.0     Adventure   \n",
              "16713               Spirits & Spells      GBA           2003.0      Platform   \n",
              "16714            Winning Post 8 2016      PSV           2016.0    Simulation   \n",
              "\n",
              "       na_sales  eu_sales  jp_sales  other_sales  critic_score  user_score  \\\n",
              "0         41.36     28.96      3.77         8.45          76.0         8.0   \n",
              "1         29.08      3.58      6.81         0.77           NaN         NaN   \n",
              "2         15.68     12.76      3.79         3.29          82.0         8.3   \n",
              "3         15.61     10.93      3.28         2.95          80.0         8.0   \n",
              "4         11.27      8.89     10.22         1.00           NaN         NaN   \n",
              "...         ...       ...       ...          ...           ...         ...   \n",
              "16710      0.00      0.00      0.01         0.00           NaN         NaN   \n",
              "16711      0.00      0.01      0.00         0.00           NaN         NaN   \n",
              "16712      0.00      0.00      0.01         0.00           NaN         NaN   \n",
              "16713      0.01      0.00      0.00         0.00           NaN         NaN   \n",
              "16714      0.00      0.00      0.01         0.00           NaN         NaN   \n",
              "\n",
              "      rating   na_sum   eu_sum   jp_sum  other_sum  global_sum  \n",
              "0          E  4402.35  2424.67  1297.37     791.32       82.54  \n",
              "1         RP  4402.35  2424.67  1297.37     791.32       40.24  \n",
              "2          E  4402.35  2424.67  1297.37     791.32       35.52  \n",
              "3          E  4402.35  2424.67  1297.37     791.32       32.77  \n",
              "4         RP  4402.35  2424.67  1297.37     791.32       31.38  \n",
              "...      ...      ...      ...      ...        ...         ...  \n",
              "16710     RP  4402.35  2424.67  1297.37     791.32        0.01  \n",
              "16711     RP  4402.35  2424.67  1297.37     791.32        0.01  \n",
              "16712     RP  4402.35  2424.67  1297.37     791.32        0.01  \n",
              "16713     RP  4402.35  2424.67  1297.37     791.32        0.01  \n",
              "16714     RP  4402.35  2424.67  1297.37     791.32        0.01  \n",
              "\n",
              "[16715 rows x 16 columns]"
            ]
          },
          "metadata": {},
          "output_type": "display_data"
        }
      ],
      "source": [
        "df['na_sum'] = df['na_sales'].sum()\n",
        "df['eu_sum'] = df['eu_sales'].sum()\n",
        "df['jp_sum'] = df['jp_sales'].sum()\n",
        "df['other_sum'] = df['other_sales'].sum()\n",
        "df['global_sum'] = df['na_sales'] + df['eu_sales'] + df['jp_sales'] + df['other_sales']\n",
        "display(df)"
      ]
    },
    {
      "cell_type": "markdown",
      "metadata": {
        "id": "CVzR_SBoEs5P"
      },
      "source": [
        "Посмотрим, сколько игр выпускалось в разные годы"
      ]
    },
    {
      "cell_type": "code",
      "execution_count": null,
      "metadata": {
        "id": "IJZxchspEs5P",
        "outputId": "c6822cbb-5638-427a-dbe3-8352f4d54e6b"
      },
      "outputs": [
        {
          "data": {
            "text/html": [
              "<div>\n",
              "<style scoped>\n",
              "    .dataframe tbody tr th:only-of-type {\n",
              "        vertical-align: middle;\n",
              "    }\n",
              "\n",
              "    .dataframe tbody tr th {\n",
              "        vertical-align: top;\n",
              "    }\n",
              "\n",
              "    .dataframe thead th {\n",
              "        text-align: right;\n",
              "    }\n",
              "</style>\n",
              "<table border=\"1\" class=\"dataframe\">\n",
              "  <thead>\n",
              "    <tr style=\"text-align: right;\">\n",
              "      <th></th>\n",
              "      <th>year_of_release</th>\n",
              "      <th>name</th>\n",
              "    </tr>\n",
              "  </thead>\n",
              "  <tbody>\n",
              "    <tr>\n",
              "      <td>0</td>\n",
              "      <td>1980.0</td>\n",
              "      <td>9</td>\n",
              "    </tr>\n",
              "    <tr>\n",
              "      <td>1</td>\n",
              "      <td>1981.0</td>\n",
              "      <td>46</td>\n",
              "    </tr>\n",
              "    <tr>\n",
              "      <td>2</td>\n",
              "      <td>1982.0</td>\n",
              "      <td>36</td>\n",
              "    </tr>\n",
              "    <tr>\n",
              "      <td>3</td>\n",
              "      <td>1983.0</td>\n",
              "      <td>17</td>\n",
              "    </tr>\n",
              "    <tr>\n",
              "      <td>4</td>\n",
              "      <td>1984.0</td>\n",
              "      <td>14</td>\n",
              "    </tr>\n",
              "    <tr>\n",
              "      <td>5</td>\n",
              "      <td>1985.0</td>\n",
              "      <td>14</td>\n",
              "    </tr>\n",
              "    <tr>\n",
              "      <td>6</td>\n",
              "      <td>1986.0</td>\n",
              "      <td>21</td>\n",
              "    </tr>\n",
              "    <tr>\n",
              "      <td>7</td>\n",
              "      <td>1987.0</td>\n",
              "      <td>16</td>\n",
              "    </tr>\n",
              "    <tr>\n",
              "      <td>8</td>\n",
              "      <td>1988.0</td>\n",
              "      <td>15</td>\n",
              "    </tr>\n",
              "    <tr>\n",
              "      <td>9</td>\n",
              "      <td>1989.0</td>\n",
              "      <td>17</td>\n",
              "    </tr>\n",
              "    <tr>\n",
              "      <td>10</td>\n",
              "      <td>1990.0</td>\n",
              "      <td>16</td>\n",
              "    </tr>\n",
              "    <tr>\n",
              "      <td>11</td>\n",
              "      <td>1991.0</td>\n",
              "      <td>41</td>\n",
              "    </tr>\n",
              "    <tr>\n",
              "      <td>12</td>\n",
              "      <td>1992.0</td>\n",
              "      <td>43</td>\n",
              "    </tr>\n",
              "    <tr>\n",
              "      <td>13</td>\n",
              "      <td>1993.0</td>\n",
              "      <td>60</td>\n",
              "    </tr>\n",
              "    <tr>\n",
              "      <td>14</td>\n",
              "      <td>1994.0</td>\n",
              "      <td>121</td>\n",
              "    </tr>\n",
              "    <tr>\n",
              "      <td>15</td>\n",
              "      <td>1995.0</td>\n",
              "      <td>219</td>\n",
              "    </tr>\n",
              "    <tr>\n",
              "      <td>16</td>\n",
              "      <td>1996.0</td>\n",
              "      <td>263</td>\n",
              "    </tr>\n",
              "    <tr>\n",
              "      <td>17</td>\n",
              "      <td>1997.0</td>\n",
              "      <td>289</td>\n",
              "    </tr>\n",
              "    <tr>\n",
              "      <td>18</td>\n",
              "      <td>1998.0</td>\n",
              "      <td>379</td>\n",
              "    </tr>\n",
              "    <tr>\n",
              "      <td>19</td>\n",
              "      <td>1999.0</td>\n",
              "      <td>338</td>\n",
              "    </tr>\n",
              "    <tr>\n",
              "      <td>20</td>\n",
              "      <td>2000.0</td>\n",
              "      <td>350</td>\n",
              "    </tr>\n",
              "    <tr>\n",
              "      <td>21</td>\n",
              "      <td>2001.0</td>\n",
              "      <td>482</td>\n",
              "    </tr>\n",
              "    <tr>\n",
              "      <td>22</td>\n",
              "      <td>2002.0</td>\n",
              "      <td>829</td>\n",
              "    </tr>\n",
              "    <tr>\n",
              "      <td>23</td>\n",
              "      <td>2003.0</td>\n",
              "      <td>775</td>\n",
              "    </tr>\n",
              "    <tr>\n",
              "      <td>24</td>\n",
              "      <td>2004.0</td>\n",
              "      <td>762</td>\n",
              "    </tr>\n",
              "    <tr>\n",
              "      <td>25</td>\n",
              "      <td>2005.0</td>\n",
              "      <td>939</td>\n",
              "    </tr>\n",
              "    <tr>\n",
              "      <td>26</td>\n",
              "      <td>2006.0</td>\n",
              "      <td>1006</td>\n",
              "    </tr>\n",
              "    <tr>\n",
              "      <td>27</td>\n",
              "      <td>2007.0</td>\n",
              "      <td>1197</td>\n",
              "    </tr>\n",
              "    <tr>\n",
              "      <td>28</td>\n",
              "      <td>2008.0</td>\n",
              "      <td>1427</td>\n",
              "    </tr>\n",
              "    <tr>\n",
              "      <td>29</td>\n",
              "      <td>2009.0</td>\n",
              "      <td>1426</td>\n",
              "    </tr>\n",
              "    <tr>\n",
              "      <td>30</td>\n",
              "      <td>2010.0</td>\n",
              "      <td>1255</td>\n",
              "    </tr>\n",
              "    <tr>\n",
              "      <td>31</td>\n",
              "      <td>2011.0</td>\n",
              "      <td>1136</td>\n",
              "    </tr>\n",
              "    <tr>\n",
              "      <td>32</td>\n",
              "      <td>2012.0</td>\n",
              "      <td>653</td>\n",
              "    </tr>\n",
              "    <tr>\n",
              "      <td>33</td>\n",
              "      <td>2013.0</td>\n",
              "      <td>544</td>\n",
              "    </tr>\n",
              "    <tr>\n",
              "      <td>34</td>\n",
              "      <td>2014.0</td>\n",
              "      <td>581</td>\n",
              "    </tr>\n",
              "    <tr>\n",
              "      <td>35</td>\n",
              "      <td>2015.0</td>\n",
              "      <td>606</td>\n",
              "    </tr>\n",
              "    <tr>\n",
              "      <td>36</td>\n",
              "      <td>2016.0</td>\n",
              "      <td>502</td>\n",
              "    </tr>\n",
              "  </tbody>\n",
              "</table>\n",
              "</div>"
            ],
            "text/plain": [
              "    year_of_release  name\n",
              "0            1980.0     9\n",
              "1            1981.0    46\n",
              "2            1982.0    36\n",
              "3            1983.0    17\n",
              "4            1984.0    14\n",
              "5            1985.0    14\n",
              "6            1986.0    21\n",
              "7            1987.0    16\n",
              "8            1988.0    15\n",
              "9            1989.0    17\n",
              "10           1990.0    16\n",
              "11           1991.0    41\n",
              "12           1992.0    43\n",
              "13           1993.0    60\n",
              "14           1994.0   121\n",
              "15           1995.0   219\n",
              "16           1996.0   263\n",
              "17           1997.0   289\n",
              "18           1998.0   379\n",
              "19           1999.0   338\n",
              "20           2000.0   350\n",
              "21           2001.0   482\n",
              "22           2002.0   829\n",
              "23           2003.0   775\n",
              "24           2004.0   762\n",
              "25           2005.0   939\n",
              "26           2006.0  1006\n",
              "27           2007.0  1197\n",
              "28           2008.0  1427\n",
              "29           2009.0  1426\n",
              "30           2010.0  1255\n",
              "31           2011.0  1136\n",
              "32           2012.0   653\n",
              "33           2013.0   544\n",
              "34           2014.0   581\n",
              "35           2015.0   606\n",
              "36           2016.0   502"
            ]
          },
          "metadata": {},
          "output_type": "display_data"
        }
      ],
      "source": [
        "game_grouped = df.pivot_table(values='name', index='year_of_release', aggfunc='count').reset_index()\n",
        "display(game_grouped)"
      ]
    },
    {
      "cell_type": "code",
      "execution_count": null,
      "metadata": {
        "id": "7ewWdQfZEs5P",
        "outputId": "e9bd9acc-4806-4519-e39c-160c48f2347c"
      },
      "outputs": [
        {
          "data": {
            "image/png": "[encoded data removed]",
            "text/plain": [
              "<Figure size 432x288 with 1 Axes>"
            ]
          },
          "metadata": {
            "needs_background": "light"
          },
          "output_type": "display_data"
        }
      ],
      "source": [
        "ax1 = game_grouped.plot.scatter(x='year_of_release', y='name')"
      ]
    },
    {
      "cell_type": "markdown",
      "metadata": {
        "id": "FtaFBxElEs5P"
      },
      "source": [
        "Я бы отбросила все, что меньше 100, то есть все периоды до 1993 года включительно"
      ]
    },
    {
      "cell_type": "markdown",
      "metadata": {
        "id": "NhV-GLMKEs5Q"
      },
      "source": [
        "Посмотрим, сколько игр было выпущено на какой платформе"
      ]
    },
    {
      "cell_type": "code",
      "execution_count": null,
      "metadata": {
        "id": "pZ8HdQGTEs5Q",
        "outputId": "963e7e86-48cf-49d7-a634-f15a16a19237"
      },
      "outputs": [
        {
          "data": {
            "text/html": [
              "<div>\n",
              "<style scoped>\n",
              "    .dataframe tbody tr th:only-of-type {\n",
              "        vertical-align: middle;\n",
              "    }\n",
              "\n",
              "    .dataframe tbody tr th {\n",
              "        vertical-align: top;\n",
              "    }\n",
              "\n",
              "    .dataframe thead th {\n",
              "        text-align: right;\n",
              "    }\n",
              "</style>\n",
              "<table border=\"1\" class=\"dataframe\">\n",
              "  <thead>\n",
              "    <tr style=\"text-align: right;\">\n",
              "      <th></th>\n",
              "      <th>platform</th>\n",
              "      <th>name</th>\n",
              "    </tr>\n",
              "  </thead>\n",
              "  <tbody>\n",
              "    <tr>\n",
              "      <td>0</td>\n",
              "      <td>2600</td>\n",
              "      <td>133</td>\n",
              "    </tr>\n",
              "    <tr>\n",
              "      <td>1</td>\n",
              "      <td>3DO</td>\n",
              "      <td>3</td>\n",
              "    </tr>\n",
              "    <tr>\n",
              "      <td>2</td>\n",
              "      <td>3DS</td>\n",
              "      <td>520</td>\n",
              "    </tr>\n",
              "    <tr>\n",
              "      <td>3</td>\n",
              "      <td>DC</td>\n",
              "      <td>52</td>\n",
              "    </tr>\n",
              "    <tr>\n",
              "      <td>4</td>\n",
              "      <td>DS</td>\n",
              "      <td>2151</td>\n",
              "    </tr>\n",
              "    <tr>\n",
              "      <td>5</td>\n",
              "      <td>GB</td>\n",
              "      <td>98</td>\n",
              "    </tr>\n",
              "    <tr>\n",
              "      <td>6</td>\n",
              "      <td>GBA</td>\n",
              "      <td>822</td>\n",
              "    </tr>\n",
              "    <tr>\n",
              "      <td>7</td>\n",
              "      <td>GC</td>\n",
              "      <td>556</td>\n",
              "    </tr>\n",
              "    <tr>\n",
              "      <td>8</td>\n",
              "      <td>GEN</td>\n",
              "      <td>27</td>\n",
              "    </tr>\n",
              "    <tr>\n",
              "      <td>9</td>\n",
              "      <td>GG</td>\n",
              "      <td>1</td>\n",
              "    </tr>\n",
              "    <tr>\n",
              "      <td>10</td>\n",
              "      <td>N64</td>\n",
              "      <td>319</td>\n",
              "    </tr>\n",
              "    <tr>\n",
              "      <td>11</td>\n",
              "      <td>NES</td>\n",
              "      <td>98</td>\n",
              "    </tr>\n",
              "    <tr>\n",
              "      <td>12</td>\n",
              "      <td>NG</td>\n",
              "      <td>12</td>\n",
              "    </tr>\n",
              "    <tr>\n",
              "      <td>13</td>\n",
              "      <td>PC</td>\n",
              "      <td>974</td>\n",
              "    </tr>\n",
              "    <tr>\n",
              "      <td>14</td>\n",
              "      <td>PCFX</td>\n",
              "      <td>1</td>\n",
              "    </tr>\n",
              "    <tr>\n",
              "      <td>15</td>\n",
              "      <td>PS</td>\n",
              "      <td>1197</td>\n",
              "    </tr>\n",
              "    <tr>\n",
              "      <td>16</td>\n",
              "      <td>PS2</td>\n",
              "      <td>2161</td>\n",
              "    </tr>\n",
              "    <tr>\n",
              "      <td>17</td>\n",
              "      <td>PS3</td>\n",
              "      <td>1331</td>\n",
              "    </tr>\n",
              "    <tr>\n",
              "      <td>18</td>\n",
              "      <td>PS4</td>\n",
              "      <td>392</td>\n",
              "    </tr>\n",
              "    <tr>\n",
              "      <td>19</td>\n",
              "      <td>PSP</td>\n",
              "      <td>1209</td>\n",
              "    </tr>\n",
              "    <tr>\n",
              "      <td>20</td>\n",
              "      <td>PSV</td>\n",
              "      <td>430</td>\n",
              "    </tr>\n",
              "    <tr>\n",
              "      <td>21</td>\n",
              "      <td>SAT</td>\n",
              "      <td>173</td>\n",
              "    </tr>\n",
              "    <tr>\n",
              "      <td>22</td>\n",
              "      <td>SCD</td>\n",
              "      <td>6</td>\n",
              "    </tr>\n",
              "    <tr>\n",
              "      <td>23</td>\n",
              "      <td>SNES</td>\n",
              "      <td>239</td>\n",
              "    </tr>\n",
              "    <tr>\n",
              "      <td>24</td>\n",
              "      <td>TG16</td>\n",
              "      <td>2</td>\n",
              "    </tr>\n",
              "    <tr>\n",
              "      <td>25</td>\n",
              "      <td>WS</td>\n",
              "      <td>6</td>\n",
              "    </tr>\n",
              "    <tr>\n",
              "      <td>26</td>\n",
              "      <td>Wii</td>\n",
              "      <td>1320</td>\n",
              "    </tr>\n",
              "    <tr>\n",
              "      <td>27</td>\n",
              "      <td>WiiU</td>\n",
              "      <td>147</td>\n",
              "    </tr>\n",
              "    <tr>\n",
              "      <td>28</td>\n",
              "      <td>X360</td>\n",
              "      <td>1262</td>\n",
              "    </tr>\n",
              "    <tr>\n",
              "      <td>29</td>\n",
              "      <td>XB</td>\n",
              "      <td>824</td>\n",
              "    </tr>\n",
              "    <tr>\n",
              "      <td>30</td>\n",
              "      <td>XOne</td>\n",
              "      <td>247</td>\n",
              "    </tr>\n",
              "  </tbody>\n",
              "</table>\n",
              "</div>"
            ],
            "text/plain": [
              "   platform  name\n",
              "0      2600   133\n",
              "1       3DO     3\n",
              "2       3DS   520\n",
              "3        DC    52\n",
              "4        DS  2151\n",
              "5        GB    98\n",
              "6       GBA   822\n",
              "7        GC   556\n",
              "8       GEN    27\n",
              "9        GG     1\n",
              "10      N64   319\n",
              "11      NES    98\n",
              "12       NG    12\n",
              "13       PC   974\n",
              "14     PCFX     1\n",
              "15       PS  1197\n",
              "16      PS2  2161\n",
              "17      PS3  1331\n",
              "18      PS4   392\n",
              "19      PSP  1209\n",
              "20      PSV   430\n",
              "21      SAT   173\n",
              "22      SCD     6\n",
              "23     SNES   239\n",
              "24     TG16     2\n",
              "25       WS     6\n",
              "26      Wii  1320\n",
              "27     WiiU   147\n",
              "28     X360  1262\n",
              "29       XB   824\n",
              "30     XOne   247"
            ]
          },
          "metadata": {},
          "output_type": "display_data"
        }
      ],
      "source": [
        "platform_grouped = df.pivot_table(values='name', index='platform', aggfunc='count').reset_index()\n",
        "display(platform_grouped)"
      ]
    },
    {
      "cell_type": "code",
      "execution_count": null,
      "metadata": {
        "id": "Vbun0oC3Es5Q",
        "outputId": "ff5f6ce5-01e9-4858-b3a7-b24b1865d0a8"
      },
      "outputs": [
        {
          "data": {
            "text/html": [
              "<div>\n",
              "<style scoped>\n",
              "    .dataframe tbody tr th:only-of-type {\n",
              "        vertical-align: middle;\n",
              "    }\n",
              "\n",
              "    .dataframe tbody tr th {\n",
              "        vertical-align: top;\n",
              "    }\n",
              "\n",
              "    .dataframe thead th {\n",
              "        text-align: right;\n",
              "    }\n",
              "</style>\n",
              "<table border=\"1\" class=\"dataframe\">\n",
              "  <thead>\n",
              "    <tr style=\"text-align: right;\">\n",
              "      <th></th>\n",
              "      <th>index</th>\n",
              "      <th>platform</th>\n",
              "      <th>name</th>\n",
              "    </tr>\n",
              "  </thead>\n",
              "  <tbody>\n",
              "    <tr>\n",
              "      <td>0</td>\n",
              "      <td>16</td>\n",
              "      <td>PS2</td>\n",
              "      <td>2161</td>\n",
              "    </tr>\n",
              "    <tr>\n",
              "      <td>1</td>\n",
              "      <td>4</td>\n",
              "      <td>DS</td>\n",
              "      <td>2151</td>\n",
              "    </tr>\n",
              "    <tr>\n",
              "      <td>2</td>\n",
              "      <td>17</td>\n",
              "      <td>PS3</td>\n",
              "      <td>1331</td>\n",
              "    </tr>\n",
              "    <tr>\n",
              "      <td>3</td>\n",
              "      <td>26</td>\n",
              "      <td>Wii</td>\n",
              "      <td>1320</td>\n",
              "    </tr>\n",
              "    <tr>\n",
              "      <td>4</td>\n",
              "      <td>28</td>\n",
              "      <td>X360</td>\n",
              "      <td>1262</td>\n",
              "    </tr>\n",
              "    <tr>\n",
              "      <td>5</td>\n",
              "      <td>19</td>\n",
              "      <td>PSP</td>\n",
              "      <td>1209</td>\n",
              "    </tr>\n",
              "    <tr>\n",
              "      <td>6</td>\n",
              "      <td>15</td>\n",
              "      <td>PS</td>\n",
              "      <td>1197</td>\n",
              "    </tr>\n",
              "    <tr>\n",
              "      <td>7</td>\n",
              "      <td>13</td>\n",
              "      <td>PC</td>\n",
              "      <td>974</td>\n",
              "    </tr>\n",
              "    <tr>\n",
              "      <td>8</td>\n",
              "      <td>29</td>\n",
              "      <td>XB</td>\n",
              "      <td>824</td>\n",
              "    </tr>\n",
              "    <tr>\n",
              "      <td>9</td>\n",
              "      <td>6</td>\n",
              "      <td>GBA</td>\n",
              "      <td>822</td>\n",
              "    </tr>\n",
              "    <tr>\n",
              "      <td>10</td>\n",
              "      <td>7</td>\n",
              "      <td>GC</td>\n",
              "      <td>556</td>\n",
              "    </tr>\n",
              "    <tr>\n",
              "      <td>11</td>\n",
              "      <td>2</td>\n",
              "      <td>3DS</td>\n",
              "      <td>520</td>\n",
              "    </tr>\n",
              "    <tr>\n",
              "      <td>12</td>\n",
              "      <td>20</td>\n",
              "      <td>PSV</td>\n",
              "      <td>430</td>\n",
              "    </tr>\n",
              "    <tr>\n",
              "      <td>13</td>\n",
              "      <td>18</td>\n",
              "      <td>PS4</td>\n",
              "      <td>392</td>\n",
              "    </tr>\n",
              "    <tr>\n",
              "      <td>14</td>\n",
              "      <td>10</td>\n",
              "      <td>N64</td>\n",
              "      <td>319</td>\n",
              "    </tr>\n",
              "    <tr>\n",
              "      <td>15</td>\n",
              "      <td>30</td>\n",
              "      <td>XOne</td>\n",
              "      <td>247</td>\n",
              "    </tr>\n",
              "    <tr>\n",
              "      <td>16</td>\n",
              "      <td>23</td>\n",
              "      <td>SNES</td>\n",
              "      <td>239</td>\n",
              "    </tr>\n",
              "    <tr>\n",
              "      <td>17</td>\n",
              "      <td>21</td>\n",
              "      <td>SAT</td>\n",
              "      <td>173</td>\n",
              "    </tr>\n",
              "    <tr>\n",
              "      <td>18</td>\n",
              "      <td>27</td>\n",
              "      <td>WiiU</td>\n",
              "      <td>147</td>\n",
              "    </tr>\n",
              "    <tr>\n",
              "      <td>19</td>\n",
              "      <td>0</td>\n",
              "      <td>2600</td>\n",
              "      <td>133</td>\n",
              "    </tr>\n",
              "  </tbody>\n",
              "</table>\n",
              "</div>"
            ],
            "text/plain": [
              "    index platform  name\n",
              "0      16      PS2  2161\n",
              "1       4       DS  2151\n",
              "2      17      PS3  1331\n",
              "3      26      Wii  1320\n",
              "4      28     X360  1262\n",
              "5      19      PSP  1209\n",
              "6      15       PS  1197\n",
              "7      13       PC   974\n",
              "8      29       XB   824\n",
              "9       6      GBA   822\n",
              "10      7       GC   556\n",
              "11      2      3DS   520\n",
              "12     20      PSV   430\n",
              "13     18      PS4   392\n",
              "14     10      N64   319\n",
              "15     30     XOne   247\n",
              "16     23     SNES   239\n",
              "17     21      SAT   173\n",
              "18     27     WiiU   147\n",
              "19      0     2600   133"
            ]
          },
          "metadata": {},
          "output_type": "display_data"
        }
      ],
      "source": [
        "display(platform_grouped.sort_values(by='name', ascending=False).head(20).reset_index()) #выберем топ-20"
      ]
    },
    {
      "cell_type": "markdown",
      "metadata": {
        "id": "d-cyb3xUEs5Q"
      },
      "source": [
        "Думаю, можно выбрать первые 10"
      ]
    },
    {
      "cell_type": "markdown",
      "source": [
        "посмотрим на топ-10 и как у них шли дела"
      ],
      "metadata": {
        "id": "RAEuH13rFvbC"
      }
    },
    {
      "cell_type": "code",
      "execution_count": null,
      "metadata": {
        "id": "W593es4FEs5Q",
        "outputId": "0d3d5de8-3349-4a25-b4f7-5313e027720a"
      },
      "outputs": [
        {
          "data": {
            "text/plain": [
              "<matplotlib.axes._subplots.AxesSubplot at 0x7fb5c91873d0>"
            ]
          },
          "execution_count": 13,
          "metadata": {},
          "output_type": "execute_result"
        },
        {
          "data": {
            "image/png": "[encoded data removed]",
            "text/plain": [
              "<Figure size 432x288 with 1 Axes>"
            ]
          },
          "metadata": {
            "needs_background": "light"
          },
          "output_type": "display_data"
        }
      ],
      "source": [
        "ps_2 = df.query('platform == \"PS2\"')\n",
        "ps_2_grouped = ps_2.pivot_table(values='name', index='year_of_release', aggfunc='count').reset_index()\n",
        "ps_2_grouped.plot(x='year_of_release', y='name', style='o-')\n"
      ]
    },
    {
      "cell_type": "code",
      "execution_count": null,
      "metadata": {
        "id": "zl_A6MFsEs5R"
      },
      "outputs": [],
      "source": [
        "ds = df.query('platform == \"DS\"')\n",
        "ds_grouped = ds.pivot_table(values='name', index='year_of_release', aggfunc='count').reset_index()"
      ]
    },
    {
      "cell_type": "code",
      "execution_count": null,
      "metadata": {
        "id": "cZ47RimsEs5R"
      },
      "outputs": [],
      "source": [
        "ps_3 = df.query('platform == \"PS3\"')\n",
        "ps_3_grouped = ps_3.pivot_table(values='name', index='year_of_release', aggfunc='count').reset_index()"
      ]
    },
    {
      "cell_type": "code",
      "execution_count": null,
      "metadata": {
        "id": "KwSIDBlcEs5R",
        "outputId": "7822b7ae-3e99-49f6-bcb2-48c912837f27"
      },
      "outputs": [
        {
          "data": {
            "text/plain": [
              "<matplotlib.axes._subplots.AxesSubplot at 0x7fb5c079e210>"
            ]
          },
          "execution_count": 16,
          "metadata": {},
          "output_type": "execute_result"
        },
        {
          "data": {
            "image/png": "[encoded data removed]",
            "text/plain": [
              "<Figure size 432x288 with 1 Axes>"
            ]
          },
          "metadata": {
            "needs_background": "light"
          },
          "output_type": "display_data"
        }
      ],
      "source": [
        "ps_2_grouped.plot(x='year_of_release', y='name', style='o-') "
      ]
    },
    {
      "cell_type": "code",
      "execution_count": null,
      "metadata": {
        "id": "llXX1fN2Es5R",
        "outputId": "459c9b6f-3835-4511-df09-371353ed6f1b"
      },
      "outputs": [
        {
          "data": {
            "text/plain": [
              "<matplotlib.axes._subplots.AxesSubplot at 0x7fb5c07257d0>"
            ]
          },
          "execution_count": 17,
          "metadata": {},
          "output_type": "execute_result"
        },
        {
          "data": {
            "image/png": "[encoded data removed]",
            "text/plain": [
              "<Figure size 432x288 with 1 Axes>"
            ]
          },
          "metadata": {
            "needs_background": "light"
          },
          "output_type": "display_data"
        }
      ],
      "source": [
        "ds_grouped.plot(x='year_of_release', y='name', style='o-') "
      ]
    },
    {
      "cell_type": "code",
      "execution_count": null,
      "metadata": {
        "id": "emQ9Ey1FEs5R",
        "outputId": "53a04ec4-68b5-45be-8e60-08721eb72311"
      },
      "outputs": [
        {
          "data": {
            "text/plain": [
              "<matplotlib.axes._subplots.AxesSubplot at 0x7fb5c069d7d0>"
            ]
          },
          "execution_count": 18,
          "metadata": {},
          "output_type": "execute_result"
        },
        {
          "data": {
            "image/png": "[encoded data removed]",
            "text/plain": [
              "<Figure size 432x288 with 1 Axes>"
            ]
          },
          "metadata": {
            "needs_background": "light"
          },
          "output_type": "display_data"
        }
      ],
      "source": [
        "ps_3_grouped.plot(x='year_of_release', y='name', style='o-') "
      ]
    },
    {
      "cell_type": "code",
      "execution_count": null,
      "metadata": {
        "id": "5wgy_Tz4Es5S"
      },
      "outputs": [],
      "source": [
        "wii = df.query('platform == \"Wii\"')\n",
        "wii_grouped = wii.pivot_table(values='name', index='year_of_release', aggfunc='count').reset_index()"
      ]
    },
    {
      "cell_type": "code",
      "execution_count": null,
      "metadata": {
        "id": "z_s1EppZEs5S",
        "outputId": "42562b32-6481-424b-84d3-f0f110fcd3f7"
      },
      "outputs": [
        {
          "data": {
            "text/plain": [
              "<matplotlib.axes._subplots.AxesSubplot at 0x7fb5c05f2350>"
            ]
          },
          "execution_count": 20,
          "metadata": {},
          "output_type": "execute_result"
        },
        {
          "data": {
            "image/png": "[encoded data removed]",
            "text/plain": [
              "<Figure size 432x288 with 1 Axes>"
            ]
          },
          "metadata": {
            "needs_background": "light"
          },
          "output_type": "display_data"
        }
      ],
      "source": [
        "wii_grouped.plot(x='year_of_release', y='name', style='o-') "
      ]
    },
    {
      "cell_type": "code",
      "execution_count": null,
      "metadata": {
        "id": "2pOLZyVVEs5S"
      },
      "outputs": [],
      "source": [
        "x360 = df.query('platform == \"X360\"')\n",
        "x360_grouped = x360.pivot_table(values='name', index='year_of_release', aggfunc='count').reset_index()"
      ]
    },
    {
      "cell_type": "code",
      "execution_count": null,
      "metadata": {
        "id": "S-SN6hHNEs5S",
        "outputId": "ef8a433c-8536-456b-b134-16fa91e37689"
      },
      "outputs": [
        {
          "data": {
            "text/plain": [
              "<matplotlib.axes._subplots.AxesSubplot at 0x7fb5c057ac50>"
            ]
          },
          "execution_count": 22,
          "metadata": {},
          "output_type": "execute_result"
        },
        {
          "data": {
            "image/png": "[encoded data removed]",
            "text/plain": [
              "<Figure size 432x288 with 1 Axes>"
            ]
          },
          "metadata": {
            "needs_background": "light"
          },
          "output_type": "display_data"
        }
      ],
      "source": [
        "x360_grouped.plot(x='year_of_release', y='name', style='o-') "
      ]
    },
    {
      "cell_type": "code",
      "execution_count": null,
      "metadata": {
        "id": "wANpCW7LEs5S"
      },
      "outputs": [],
      "source": [
        "psp = df.query('platform == \"PSP\"')\n",
        "psp_grouped = psp.pivot_table(values='name', index='year_of_release', aggfunc='count').reset_index()"
      ]
    },
    {
      "cell_type": "code",
      "execution_count": null,
      "metadata": {
        "id": "zi1B2ndaEs5S",
        "outputId": "d7faf618-9a58-4f29-f9e5-707c5b801167"
      },
      "outputs": [
        {
          "data": {
            "text/plain": [
              "<matplotlib.axes._subplots.AxesSubplot at 0x7fb5c057ab90>"
            ]
          },
          "execution_count": 24,
          "metadata": {},
          "output_type": "execute_result"
        },
        {
          "data": {
            "image/png": "[encoded data removed]",
            "text/plain": [
              "<Figure size 432x288 with 1 Axes>"
            ]
          },
          "metadata": {
            "needs_background": "light"
          },
          "output_type": "display_data"
        }
      ],
      "source": [
        "psp_grouped.plot(x='year_of_release', y='name', style='o-') "
      ]
    },
    {
      "cell_type": "code",
      "execution_count": null,
      "metadata": {
        "id": "JvBNDUOREs5T"
      },
      "outputs": [],
      "source": [
        "ps = df.query('platform == \"PS\"')\n",
        "ps_grouped = ps.pivot_table(values='name', index='year_of_release', aggfunc='count').reset_index()"
      ]
    },
    {
      "cell_type": "code",
      "execution_count": null,
      "metadata": {
        "id": "N-Qjnz36Es5T",
        "outputId": "2e358a2d-1606-4f29-b58b-aedec342a700"
      },
      "outputs": [
        {
          "data": {
            "text/plain": [
              "<matplotlib.axes._subplots.AxesSubplot at 0x7fb5c04ca2d0>"
            ]
          },
          "execution_count": 26,
          "metadata": {},
          "output_type": "execute_result"
        },
        {
          "data": {
            "image/png": "[encoded data removed]",
            "text/plain": [
              "<Figure size 432x288 with 1 Axes>"
            ]
          },
          "metadata": {
            "needs_background": "light"
          },
          "output_type": "display_data"
        }
      ],
      "source": [
        "ps_grouped.plot(x='year_of_release', y='name', style='o-') "
      ]
    },
    {
      "cell_type": "markdown",
      "metadata": {
        "id": "jEyox_CxEs5T"
      },
      "source": [
        "За какой характерный срок появляются новые и исчезают старые платформы?\n",
        "\n",
        "В среднем продолжительность жизни платформы составляет 5 лет, единственное исключение - PC.\n",
        "\n",
        "Однако судя по графикам, платформы с наибольшим количеством игр к 2016 году уже не актуальны."
      ]
    },
    {
      "cell_type": "markdown",
      "metadata": {
        "id": "NB8sLTj3Es5T"
      },
      "source": [
        "Так как по условиям задачи нужно сделать прогноз на 2017 год, то выберем данные с 2014 по 2016"
      ]
    },
    {
      "cell_type": "code",
      "execution_count": null,
      "metadata": {
        "id": "MzkcycIZEs5T",
        "outputId": "4e61e15e-e1f4-4c90-d50f-200e0f5c5d40"
      },
      "outputs": [
        {
          "data": {
            "text/html": [
              "<div>\n",
              "<style scoped>\n",
              "    .dataframe tbody tr th:only-of-type {\n",
              "        vertical-align: middle;\n",
              "    }\n",
              "\n",
              "    .dataframe tbody tr th {\n",
              "        vertical-align: top;\n",
              "    }\n",
              "\n",
              "    .dataframe thead th {\n",
              "        text-align: right;\n",
              "    }\n",
              "</style>\n",
              "<table border=\"1\" class=\"dataframe\">\n",
              "  <thead>\n",
              "    <tr style=\"text-align: right;\">\n",
              "      <th></th>\n",
              "      <th>index</th>\n",
              "      <th>platform</th>\n",
              "      <th>year_of_release</th>\n",
              "    </tr>\n",
              "  </thead>\n",
              "  <tbody>\n",
              "    <tr>\n",
              "      <td>0</td>\n",
              "      <td>3</td>\n",
              "      <td>PS4</td>\n",
              "      <td>164</td>\n",
              "    </tr>\n",
              "    <tr>\n",
              "      <td>1</td>\n",
              "      <td>8</td>\n",
              "      <td>XOne</td>\n",
              "      <td>87</td>\n",
              "    </tr>\n",
              "    <tr>\n",
              "      <td>2</td>\n",
              "      <td>4</td>\n",
              "      <td>PSV</td>\n",
              "      <td>85</td>\n",
              "    </tr>\n",
              "    <tr>\n",
              "      <td>3</td>\n",
              "      <td>1</td>\n",
              "      <td>PC</td>\n",
              "      <td>54</td>\n",
              "    </tr>\n",
              "    <tr>\n",
              "      <td>4</td>\n",
              "      <td>0</td>\n",
              "      <td>3DS</td>\n",
              "      <td>46</td>\n",
              "    </tr>\n",
              "    <tr>\n",
              "      <td>5</td>\n",
              "      <td>2</td>\n",
              "      <td>PS3</td>\n",
              "      <td>38</td>\n",
              "    </tr>\n",
              "    <tr>\n",
              "      <td>6</td>\n",
              "      <td>6</td>\n",
              "      <td>WiiU</td>\n",
              "      <td>14</td>\n",
              "    </tr>\n",
              "    <tr>\n",
              "      <td>7</td>\n",
              "      <td>7</td>\n",
              "      <td>X360</td>\n",
              "      <td>13</td>\n",
              "    </tr>\n",
              "    <tr>\n",
              "      <td>8</td>\n",
              "      <td>5</td>\n",
              "      <td>Wii</td>\n",
              "      <td>1</td>\n",
              "    </tr>\n",
              "  </tbody>\n",
              "</table>\n",
              "</div>"
            ],
            "text/plain": [
              "   index platform  year_of_release\n",
              "0      3      PS4              164\n",
              "1      8     XOne               87\n",
              "2      4      PSV               85\n",
              "3      1       PC               54\n",
              "4      0      3DS               46\n",
              "5      2      PS3               38\n",
              "6      6     WiiU               14\n",
              "7      7     X360               13\n",
              "8      5      Wii                1"
            ]
          },
          "metadata": {},
          "output_type": "display_data"
        }
      ],
      "source": [
        "platform_year_2016 = df.query('year_of_release == \"2016\"').pivot_table(values='year_of_release', index='platform', aggfunc='count').reset_index()\n",
        "display(platform_year_2016.sort_values(by='year_of_release', ascending=False).reset_index()) "
      ]
    },
    {
      "cell_type": "code",
      "execution_count": null,
      "metadata": {
        "id": "h8Bm0nUgEs5T",
        "outputId": "cb051dcb-efd0-4612-ee27-db15457124de"
      },
      "outputs": [
        {
          "data": {
            "text/html": [
              "<div>\n",
              "<style scoped>\n",
              "    .dataframe tbody tr th:only-of-type {\n",
              "        vertical-align: middle;\n",
              "    }\n",
              "\n",
              "    .dataframe tbody tr th {\n",
              "        vertical-align: top;\n",
              "    }\n",
              "\n",
              "    .dataframe thead th {\n",
              "        text-align: right;\n",
              "    }\n",
              "</style>\n",
              "<table border=\"1\" class=\"dataframe\">\n",
              "  <thead>\n",
              "    <tr style=\"text-align: right;\">\n",
              "      <th></th>\n",
              "      <th>index</th>\n",
              "      <th>platform</th>\n",
              "      <th>year_of_release</th>\n",
              "    </tr>\n",
              "  </thead>\n",
              "  <tbody>\n",
              "    <tr>\n",
              "      <td>0</td>\n",
              "      <td>3</td>\n",
              "      <td>PS4</td>\n",
              "      <td>137</td>\n",
              "    </tr>\n",
              "    <tr>\n",
              "      <td>1</td>\n",
              "      <td>5</td>\n",
              "      <td>PSV</td>\n",
              "      <td>110</td>\n",
              "    </tr>\n",
              "    <tr>\n",
              "      <td>2</td>\n",
              "      <td>0</td>\n",
              "      <td>3DS</td>\n",
              "      <td>86</td>\n",
              "    </tr>\n",
              "    <tr>\n",
              "      <td>3</td>\n",
              "      <td>9</td>\n",
              "      <td>XOne</td>\n",
              "      <td>80</td>\n",
              "    </tr>\n",
              "    <tr>\n",
              "      <td>4</td>\n",
              "      <td>2</td>\n",
              "      <td>PS3</td>\n",
              "      <td>73</td>\n",
              "    </tr>\n",
              "    <tr>\n",
              "      <td>5</td>\n",
              "      <td>1</td>\n",
              "      <td>PC</td>\n",
              "      <td>50</td>\n",
              "    </tr>\n",
              "    <tr>\n",
              "      <td>6</td>\n",
              "      <td>8</td>\n",
              "      <td>X360</td>\n",
              "      <td>35</td>\n",
              "    </tr>\n",
              "    <tr>\n",
              "      <td>7</td>\n",
              "      <td>7</td>\n",
              "      <td>WiiU</td>\n",
              "      <td>28</td>\n",
              "    </tr>\n",
              "    <tr>\n",
              "      <td>8</td>\n",
              "      <td>6</td>\n",
              "      <td>Wii</td>\n",
              "      <td>4</td>\n",
              "    </tr>\n",
              "    <tr>\n",
              "      <td>9</td>\n",
              "      <td>4</td>\n",
              "      <td>PSP</td>\n",
              "      <td>3</td>\n",
              "    </tr>\n",
              "  </tbody>\n",
              "</table>\n",
              "</div>"
            ],
            "text/plain": [
              "   index platform  year_of_release\n",
              "0      3      PS4              137\n",
              "1      5      PSV              110\n",
              "2      0      3DS               86\n",
              "3      9     XOne               80\n",
              "4      2      PS3               73\n",
              "5      1       PC               50\n",
              "6      8     X360               35\n",
              "7      7     WiiU               28\n",
              "8      6      Wii                4\n",
              "9      4      PSP                3"
            ]
          },
          "metadata": {},
          "output_type": "display_data"
        }
      ],
      "source": [
        "platform_year_2015 = df.query('year_of_release == \"2015\"').pivot_table(values='year_of_release', index='platform', aggfunc='count').reset_index()\n",
        "display(platform_year_2015.sort_values(by='year_of_release', ascending=False).reset_index()) "
      ]
    },
    {
      "cell_type": "code",
      "execution_count": null,
      "metadata": {
        "id": "u1wLO6hBEs5U",
        "outputId": "47479a21-e34c-42ba-a506-19f563b872ee"
      },
      "outputs": [
        {
          "data": {
            "text/html": [
              "<div>\n",
              "<style scoped>\n",
              "    .dataframe tbody tr th:only-of-type {\n",
              "        vertical-align: middle;\n",
              "    }\n",
              "\n",
              "    .dataframe tbody tr th {\n",
              "        vertical-align: top;\n",
              "    }\n",
              "\n",
              "    .dataframe thead th {\n",
              "        text-align: right;\n",
              "    }\n",
              "</style>\n",
              "<table border=\"1\" class=\"dataframe\">\n",
              "  <thead>\n",
              "    <tr style=\"text-align: right;\">\n",
              "      <th></th>\n",
              "      <th>index</th>\n",
              "      <th>platform</th>\n",
              "      <th>year_of_release</th>\n",
              "    </tr>\n",
              "  </thead>\n",
              "  <tbody>\n",
              "    <tr>\n",
              "      <td>0</td>\n",
              "      <td>2</td>\n",
              "      <td>PS3</td>\n",
              "      <td>108</td>\n",
              "    </tr>\n",
              "    <tr>\n",
              "      <td>1</td>\n",
              "      <td>5</td>\n",
              "      <td>PSV</td>\n",
              "      <td>100</td>\n",
              "    </tr>\n",
              "    <tr>\n",
              "      <td>2</td>\n",
              "      <td>0</td>\n",
              "      <td>3DS</td>\n",
              "      <td>80</td>\n",
              "    </tr>\n",
              "    <tr>\n",
              "      <td>3</td>\n",
              "      <td>3</td>\n",
              "      <td>PS4</td>\n",
              "      <td>75</td>\n",
              "    </tr>\n",
              "    <tr>\n",
              "      <td>4</td>\n",
              "      <td>8</td>\n",
              "      <td>X360</td>\n",
              "      <td>63</td>\n",
              "    </tr>\n",
              "    <tr>\n",
              "      <td>5</td>\n",
              "      <td>9</td>\n",
              "      <td>XOne</td>\n",
              "      <td>61</td>\n",
              "    </tr>\n",
              "    <tr>\n",
              "      <td>6</td>\n",
              "      <td>1</td>\n",
              "      <td>PC</td>\n",
              "      <td>47</td>\n",
              "    </tr>\n",
              "    <tr>\n",
              "      <td>7</td>\n",
              "      <td>7</td>\n",
              "      <td>WiiU</td>\n",
              "      <td>31</td>\n",
              "    </tr>\n",
              "    <tr>\n",
              "      <td>8</td>\n",
              "      <td>4</td>\n",
              "      <td>PSP</td>\n",
              "      <td>10</td>\n",
              "    </tr>\n",
              "    <tr>\n",
              "      <td>9</td>\n",
              "      <td>6</td>\n",
              "      <td>Wii</td>\n",
              "      <td>6</td>\n",
              "    </tr>\n",
              "  </tbody>\n",
              "</table>\n",
              "</div>"
            ],
            "text/plain": [
              "   index platform  year_of_release\n",
              "0      2      PS3              108\n",
              "1      5      PSV              100\n",
              "2      0      3DS               80\n",
              "3      3      PS4               75\n",
              "4      8     X360               63\n",
              "5      9     XOne               61\n",
              "6      1       PC               47\n",
              "7      7     WiiU               31\n",
              "8      4      PSP               10\n",
              "9      6      Wii                6"
            ]
          },
          "metadata": {},
          "output_type": "display_data"
        }
      ],
      "source": [
        "platform_year_2014 = df.query('year_of_release == \"2014\"').pivot_table(values='year_of_release', index='platform', aggfunc='count').reset_index()\n",
        "display(platform_year_2014.sort_values(by='year_of_release', ascending=False).reset_index()) "
      ]
    },
    {
      "cell_type": "code",
      "execution_count": null,
      "metadata": {
        "id": "piBVSfuZEs5U",
        "outputId": "0b6a1d8c-2b67-4774-e32c-32ba8f4e7438"
      },
      "outputs": [
        {
          "data": {
            "text/html": [
              "<div>\n",
              "<style scoped>\n",
              "    .dataframe tbody tr th:only-of-type {\n",
              "        vertical-align: middle;\n",
              "    }\n",
              "\n",
              "    .dataframe tbody tr th {\n",
              "        vertical-align: top;\n",
              "    }\n",
              "\n",
              "    .dataframe thead th {\n",
              "        text-align: right;\n",
              "    }\n",
              "</style>\n",
              "<table border=\"1\" class=\"dataframe\">\n",
              "  <thead>\n",
              "    <tr style=\"text-align: right;\">\n",
              "      <th></th>\n",
              "      <th>index</th>\n",
              "      <th>platform</th>\n",
              "      <th>year_of_release</th>\n",
              "    </tr>\n",
              "  </thead>\n",
              "  <tbody>\n",
              "    <tr>\n",
              "      <td>0</td>\n",
              "      <td>3</td>\n",
              "      <td>PS3</td>\n",
              "      <td>126</td>\n",
              "    </tr>\n",
              "    <tr>\n",
              "      <td>1</td>\n",
              "      <td>0</td>\n",
              "      <td>3DS</td>\n",
              "      <td>91</td>\n",
              "    </tr>\n",
              "    <tr>\n",
              "      <td>2</td>\n",
              "      <td>9</td>\n",
              "      <td>X360</td>\n",
              "      <td>75</td>\n",
              "    </tr>\n",
              "    <tr>\n",
              "      <td>3</td>\n",
              "      <td>6</td>\n",
              "      <td>PSV</td>\n",
              "      <td>63</td>\n",
              "    </tr>\n",
              "    <tr>\n",
              "      <td>4</td>\n",
              "      <td>5</td>\n",
              "      <td>PSP</td>\n",
              "      <td>54</td>\n",
              "    </tr>\n",
              "    <tr>\n",
              "      <td>5</td>\n",
              "      <td>8</td>\n",
              "      <td>WiiU</td>\n",
              "      <td>42</td>\n",
              "    </tr>\n",
              "    <tr>\n",
              "      <td>6</td>\n",
              "      <td>2</td>\n",
              "      <td>PC</td>\n",
              "      <td>38</td>\n",
              "    </tr>\n",
              "    <tr>\n",
              "      <td>7</td>\n",
              "      <td>10</td>\n",
              "      <td>XOne</td>\n",
              "      <td>19</td>\n",
              "    </tr>\n",
              "    <tr>\n",
              "      <td>8</td>\n",
              "      <td>4</td>\n",
              "      <td>PS4</td>\n",
              "      <td>16</td>\n",
              "    </tr>\n",
              "    <tr>\n",
              "      <td>9</td>\n",
              "      <td>7</td>\n",
              "      <td>Wii</td>\n",
              "      <td>12</td>\n",
              "    </tr>\n",
              "    <tr>\n",
              "      <td>10</td>\n",
              "      <td>1</td>\n",
              "      <td>DS</td>\n",
              "      <td>8</td>\n",
              "    </tr>\n",
              "  </tbody>\n",
              "</table>\n",
              "</div>"
            ],
            "text/plain": [
              "    index platform  year_of_release\n",
              "0       3      PS3              126\n",
              "1       0      3DS               91\n",
              "2       9     X360               75\n",
              "3       6      PSV               63\n",
              "4       5      PSP               54\n",
              "5       8     WiiU               42\n",
              "6       2       PC               38\n",
              "7      10     XOne               19\n",
              "8       4      PS4               16\n",
              "9       7      Wii               12\n",
              "10      1       DS                8"
            ]
          },
          "metadata": {},
          "output_type": "display_data"
        }
      ],
      "source": [
        "platform_year_2013 = df.query('year_of_release == \"2013\"').pivot_table(values='year_of_release', index='platform', aggfunc='count').reset_index()\n",
        "display(platform_year_2013.sort_values(by='year_of_release', ascending=False).reset_index()) "
      ]
    },
    {
      "cell_type": "markdown",
      "metadata": {
        "id": "vCRh44xFEs5U"
      },
      "source": [
        "Для выявления попуолярной и прибыльной платформы я думаю взять данные за последние 3 года, то есть с 2014 по 2016 год."
      ]
    },
    {
      "cell_type": "code",
      "execution_count": null,
      "metadata": {
        "id": "TNCffnLoEs5U",
        "outputId": "582f3d91-e495-4166-8966-0d6444ee3a29"
      },
      "outputs": [
        {
          "data": {
            "text/plain": [
              "<matplotlib.axes._subplots.AxesSubplot at 0x7fb5c045b650>"
            ]
          },
          "execution_count": 31,
          "metadata": {},
          "output_type": "execute_result"
        },
        {
          "data": {
            "image/png": "[encoded data removed]",
            "text/plain": [
              "<Figure size 432x288 with 1 Axes>"
            ]
          },
          "metadata": {
            "needs_background": "light"
          },
          "output_type": "display_data"
        }
      ],
      "source": [
        "ps_4 = df.query('platform == \"PS4\"')\n",
        "ps_4_grouped = ps_4.pivot_table(values='name', index='year_of_release', aggfunc='count').reset_index()\n",
        "ps_4_grouped.plot(x='year_of_release', y='name', style='o-') "
      ]
    },
    {
      "cell_type": "code",
      "execution_count": null,
      "metadata": {
        "id": "2mn6BGcNEs5U",
        "outputId": "387f335f-5808-4c43-f074-5e34596b9d1f"
      },
      "outputs": [
        {
          "data": {
            "text/plain": [
              "<matplotlib.axes._subplots.AxesSubplot at 0x7fb5c03d8990>"
            ]
          },
          "execution_count": 32,
          "metadata": {},
          "output_type": "execute_result"
        },
        {
          "data": {
            "image/png": "[encoded data removed]",
            "text/plain": [
              "<Figure size 432x288 with 1 Axes>"
            ]
          },
          "metadata": {
            "needs_background": "light"
          },
          "output_type": "display_data"
        }
      ],
      "source": [
        "xone = df.query('platform == \"XOne\"')\n",
        "xone_grouped = xone.pivot_table(values='name', index='year_of_release', aggfunc='count').reset_index()\n",
        "xone_grouped.plot(x='year_of_release', y='name', style='o-') "
      ]
    },
    {
      "cell_type": "code",
      "execution_count": null,
      "metadata": {
        "id": "iDvgrqGeEs5U",
        "outputId": "dc1f0d51-d697-4773-ceab-fcf77cca8d98"
      },
      "outputs": [
        {
          "data": {
            "text/plain": [
              "<matplotlib.axes._subplots.AxesSubplot at 0x7fb5c033b350>"
            ]
          },
          "execution_count": 33,
          "metadata": {},
          "output_type": "execute_result"
        },
        {
          "data": {
            "image/png": "[encoded data removed]",
            "text/plain": [
              "<Figure size 432x288 with 1 Axes>"
            ]
          },
          "metadata": {
            "needs_background": "light"
          },
          "output_type": "display_data"
        }
      ],
      "source": [
        "psv = df.query('platform == \"PSV\"')\n",
        "psv_grouped = psv.pivot_table(values='name', index='year_of_release', aggfunc='count').reset_index()\n",
        "psv_grouped.plot(x='year_of_release', y='name', style='o-') "
      ]
    },
    {
      "cell_type": "code",
      "execution_count": null,
      "metadata": {
        "id": "twOVJnH3Es5V",
        "outputId": "c0b34f5b-558b-4e91-ba73-b125065fab5d"
      },
      "outputs": [
        {
          "data": {
            "text/plain": [
              "<matplotlib.axes._subplots.AxesSubplot at 0x7fb5c02b8c50>"
            ]
          },
          "execution_count": 34,
          "metadata": {},
          "output_type": "execute_result"
        },
        {
          "data": {
            "image/png": "[encoded data removed]",
            "text/plain": [
              "<Figure size 432x288 with 1 Axes>"
            ]
          },
          "metadata": {
            "needs_background": "light"
          },
          "output_type": "display_data"
        }
      ],
      "source": [
        "pc = df.query('platform == \"PC\"')\n",
        "pc_grouped = pc.pivot_table(values='name', index='year_of_release', aggfunc='count').reset_index()\n",
        "pc_grouped.plot(x='year_of_release', y='name', style='o-')"
      ]
    },
    {
      "cell_type": "code",
      "execution_count": null,
      "metadata": {
        "id": "MZBfBm0UEs5V",
        "outputId": "b83c7aec-844a-4685-c64d-c6ea711b1be3"
      },
      "outputs": [
        {
          "data": {
            "text/plain": [
              "<matplotlib.axes._subplots.AxesSubplot at 0x7fb5c0239f50>"
            ]
          },
          "execution_count": 35,
          "metadata": {},
          "output_type": "execute_result"
        },
        {
          "data": {
            "image/png": "[encoded data removed]",
            "text/plain": [
              "<Figure size 432x288 with 1 Axes>"
            ]
          },
          "metadata": {
            "needs_background": "light"
          },
          "output_type": "display_data"
        }
      ],
      "source": [
        "ds = df.query('platform == \"3DS\"')\n",
        "ds_grouped = ds.pivot_table(values='name', index='year_of_release', aggfunc='count').reset_index()\n",
        "ds_grouped.plot(x='year_of_release', y='name', style='o-')"
      ]
    },
    {
      "cell_type": "markdown",
      "metadata": {
        "id": "Yr8opcfUEs5V"
      },
      "source": [
        "Как видно из графиков в среднем продолжительность жизни платформы составляет 5 лет. Выбивается только платформа PC, у которой был резкий спад в 2010-х, а дальше опять наметился подъем."
      ]
    },
    {
      "cell_type": "markdown",
      "metadata": {
        "id": "K4zcn00wEs5V"
      },
      "source": [
        "Посмотрим, какие платформы лидируют по продажам"
      ]
    },
    {
      "cell_type": "code",
      "execution_count": null,
      "metadata": {
        "id": "3mry9hysEs5V",
        "outputId": "5448cba2-b1c9-4611-e3c7-56fb2ddc1cba"
      },
      "outputs": [
        {
          "data": {
            "text/html": [
              "<div>\n",
              "<style scoped>\n",
              "    .dataframe tbody tr th:only-of-type {\n",
              "        vertical-align: middle;\n",
              "    }\n",
              "\n",
              "    .dataframe tbody tr th {\n",
              "        vertical-align: top;\n",
              "    }\n",
              "\n",
              "    .dataframe thead th {\n",
              "        text-align: right;\n",
              "    }\n",
              "</style>\n",
              "<table border=\"1\" class=\"dataframe\">\n",
              "  <thead>\n",
              "    <tr style=\"text-align: right;\">\n",
              "      <th></th>\n",
              "      <th>index</th>\n",
              "      <th>platform</th>\n",
              "      <th>global_sum</th>\n",
              "    </tr>\n",
              "  </thead>\n",
              "  <tbody>\n",
              "    <tr>\n",
              "      <td>0</td>\n",
              "      <td>3</td>\n",
              "      <td>PS4</td>\n",
              "      <td>100.00</td>\n",
              "    </tr>\n",
              "    <tr>\n",
              "      <td>1</td>\n",
              "      <td>9</td>\n",
              "      <td>XOne</td>\n",
              "      <td>54.07</td>\n",
              "    </tr>\n",
              "    <tr>\n",
              "      <td>2</td>\n",
              "      <td>2</td>\n",
              "      <td>PS3</td>\n",
              "      <td>47.76</td>\n",
              "    </tr>\n",
              "    <tr>\n",
              "      <td>3</td>\n",
              "      <td>0</td>\n",
              "      <td>3DS</td>\n",
              "      <td>43.76</td>\n",
              "    </tr>\n",
              "    <tr>\n",
              "      <td>4</td>\n",
              "      <td>8</td>\n",
              "      <td>X360</td>\n",
              "      <td>34.74</td>\n",
              "    </tr>\n",
              "    <tr>\n",
              "      <td>5</td>\n",
              "      <td>7</td>\n",
              "      <td>WiiU</td>\n",
              "      <td>22.03</td>\n",
              "    </tr>\n",
              "    <tr>\n",
              "      <td>6</td>\n",
              "      <td>1</td>\n",
              "      <td>PC</td>\n",
              "      <td>13.28</td>\n",
              "    </tr>\n",
              "    <tr>\n",
              "      <td>7</td>\n",
              "      <td>5</td>\n",
              "      <td>PSV</td>\n",
              "      <td>11.90</td>\n",
              "    </tr>\n",
              "    <tr>\n",
              "      <td>8</td>\n",
              "      <td>6</td>\n",
              "      <td>Wii</td>\n",
              "      <td>3.75</td>\n",
              "    </tr>\n",
              "    <tr>\n",
              "      <td>9</td>\n",
              "      <td>4</td>\n",
              "      <td>PSP</td>\n",
              "      <td>0.24</td>\n",
              "    </tr>\n",
              "  </tbody>\n",
              "</table>\n",
              "</div>"
            ],
            "text/plain": [
              "   index platform  global_sum\n",
              "0      3      PS4      100.00\n",
              "1      9     XOne       54.07\n",
              "2      2      PS3       47.76\n",
              "3      0      3DS       43.76\n",
              "4      8     X360       34.74\n",
              "5      7     WiiU       22.03\n",
              "6      1       PC       13.28\n",
              "7      5      PSV       11.90\n",
              "8      6      Wii        3.75\n",
              "9      4      PSP        0.24"
            ]
          },
          "metadata": {},
          "output_type": "display_data"
        }
      ],
      "source": [
        "platform_sales_2014 = df.query('year_of_release == \"2014\"').pivot_table(values='global_sum', index='platform', aggfunc='sum').reset_index()\n",
        "display(platform_sales_2014.sort_values(by='global_sum', ascending=False).reset_index()) "
      ]
    },
    {
      "cell_type": "code",
      "execution_count": null,
      "metadata": {
        "id": "pzCqO4drEs5V",
        "outputId": "bcf0c5a3-21e5-4197-c5ab-a9c59e0ed9ea"
      },
      "outputs": [
        {
          "data": {
            "text/html": [
              "<div>\n",
              "<style scoped>\n",
              "    .dataframe tbody tr th:only-of-type {\n",
              "        vertical-align: middle;\n",
              "    }\n",
              "\n",
              "    .dataframe tbody tr th {\n",
              "        vertical-align: top;\n",
              "    }\n",
              "\n",
              "    .dataframe thead th {\n",
              "        text-align: right;\n",
              "    }\n",
              "</style>\n",
              "<table border=\"1\" class=\"dataframe\">\n",
              "  <thead>\n",
              "    <tr style=\"text-align: right;\">\n",
              "      <th></th>\n",
              "      <th>index</th>\n",
              "      <th>platform</th>\n",
              "      <th>global_sum</th>\n",
              "    </tr>\n",
              "  </thead>\n",
              "  <tbody>\n",
              "    <tr>\n",
              "      <td>0</td>\n",
              "      <td>3</td>\n",
              "      <td>PS4</td>\n",
              "      <td>118.90</td>\n",
              "    </tr>\n",
              "    <tr>\n",
              "      <td>1</td>\n",
              "      <td>9</td>\n",
              "      <td>XOne</td>\n",
              "      <td>60.14</td>\n",
              "    </tr>\n",
              "    <tr>\n",
              "      <td>2</td>\n",
              "      <td>0</td>\n",
              "      <td>3DS</td>\n",
              "      <td>27.78</td>\n",
              "    </tr>\n",
              "    <tr>\n",
              "      <td>3</td>\n",
              "      <td>2</td>\n",
              "      <td>PS3</td>\n",
              "      <td>16.82</td>\n",
              "    </tr>\n",
              "    <tr>\n",
              "      <td>4</td>\n",
              "      <td>7</td>\n",
              "      <td>WiiU</td>\n",
              "      <td>16.35</td>\n",
              "    </tr>\n",
              "    <tr>\n",
              "      <td>5</td>\n",
              "      <td>8</td>\n",
              "      <td>X360</td>\n",
              "      <td>11.96</td>\n",
              "    </tr>\n",
              "    <tr>\n",
              "      <td>6</td>\n",
              "      <td>1</td>\n",
              "      <td>PC</td>\n",
              "      <td>8.52</td>\n",
              "    </tr>\n",
              "    <tr>\n",
              "      <td>7</td>\n",
              "      <td>5</td>\n",
              "      <td>PSV</td>\n",
              "      <td>6.25</td>\n",
              "    </tr>\n",
              "    <tr>\n",
              "      <td>8</td>\n",
              "      <td>6</td>\n",
              "      <td>Wii</td>\n",
              "      <td>1.14</td>\n",
              "    </tr>\n",
              "    <tr>\n",
              "      <td>9</td>\n",
              "      <td>4</td>\n",
              "      <td>PSP</td>\n",
              "      <td>0.12</td>\n",
              "    </tr>\n",
              "  </tbody>\n",
              "</table>\n",
              "</div>"
            ],
            "text/plain": [
              "   index platform  global_sum\n",
              "0      3      PS4      118.90\n",
              "1      9     XOne       60.14\n",
              "2      0      3DS       27.78\n",
              "3      2      PS3       16.82\n",
              "4      7     WiiU       16.35\n",
              "5      8     X360       11.96\n",
              "6      1       PC        8.52\n",
              "7      5      PSV        6.25\n",
              "8      6      Wii        1.14\n",
              "9      4      PSP        0.12"
            ]
          },
          "metadata": {},
          "output_type": "display_data"
        }
      ],
      "source": [
        "platform_sales_2015 = df.query('year_of_release == \"2015\"').pivot_table(values='global_sum', index='platform', aggfunc='sum').reset_index()\n",
        "display(platform_sales_2015.sort_values(by='global_sum', ascending=False).reset_index()) "
      ]
    },
    {
      "cell_type": "code",
      "execution_count": null,
      "metadata": {
        "id": "NDpWlOvWEs5W",
        "outputId": "af3b8d96-9927-4d57-e965-896bc4eeee14"
      },
      "outputs": [
        {
          "data": {
            "text/html": [
              "<div>\n",
              "<style scoped>\n",
              "    .dataframe tbody tr th:only-of-type {\n",
              "        vertical-align: middle;\n",
              "    }\n",
              "\n",
              "    .dataframe tbody tr th {\n",
              "        vertical-align: top;\n",
              "    }\n",
              "\n",
              "    .dataframe thead th {\n",
              "        text-align: right;\n",
              "    }\n",
              "</style>\n",
              "<table border=\"1\" class=\"dataframe\">\n",
              "  <thead>\n",
              "    <tr style=\"text-align: right;\">\n",
              "      <th></th>\n",
              "      <th>index</th>\n",
              "      <th>platform</th>\n",
              "      <th>global_sum</th>\n",
              "    </tr>\n",
              "  </thead>\n",
              "  <tbody>\n",
              "    <tr>\n",
              "      <td>0</td>\n",
              "      <td>3</td>\n",
              "      <td>PS4</td>\n",
              "      <td>69.25</td>\n",
              "    </tr>\n",
              "    <tr>\n",
              "      <td>1</td>\n",
              "      <td>8</td>\n",
              "      <td>XOne</td>\n",
              "      <td>26.15</td>\n",
              "    </tr>\n",
              "    <tr>\n",
              "      <td>2</td>\n",
              "      <td>0</td>\n",
              "      <td>3DS</td>\n",
              "      <td>15.14</td>\n",
              "    </tr>\n",
              "    <tr>\n",
              "      <td>3</td>\n",
              "      <td>1</td>\n",
              "      <td>PC</td>\n",
              "      <td>5.25</td>\n",
              "    </tr>\n",
              "    <tr>\n",
              "      <td>4</td>\n",
              "      <td>6</td>\n",
              "      <td>WiiU</td>\n",
              "      <td>4.60</td>\n",
              "    </tr>\n",
              "    <tr>\n",
              "      <td>5</td>\n",
              "      <td>4</td>\n",
              "      <td>PSV</td>\n",
              "      <td>4.25</td>\n",
              "    </tr>\n",
              "    <tr>\n",
              "      <td>6</td>\n",
              "      <td>2</td>\n",
              "      <td>PS3</td>\n",
              "      <td>3.60</td>\n",
              "    </tr>\n",
              "    <tr>\n",
              "      <td>7</td>\n",
              "      <td>7</td>\n",
              "      <td>X360</td>\n",
              "      <td>1.52</td>\n",
              "    </tr>\n",
              "    <tr>\n",
              "      <td>8</td>\n",
              "      <td>5</td>\n",
              "      <td>Wii</td>\n",
              "      <td>0.18</td>\n",
              "    </tr>\n",
              "  </tbody>\n",
              "</table>\n",
              "</div>"
            ],
            "text/plain": [
              "   index platform  global_sum\n",
              "0      3      PS4       69.25\n",
              "1      8     XOne       26.15\n",
              "2      0      3DS       15.14\n",
              "3      1       PC        5.25\n",
              "4      6     WiiU        4.60\n",
              "5      4      PSV        4.25\n",
              "6      2      PS3        3.60\n",
              "7      7     X360        1.52\n",
              "8      5      Wii        0.18"
            ]
          },
          "metadata": {},
          "output_type": "display_data"
        }
      ],
      "source": [
        "platform_sales_2016 = df.query('year_of_release == \"2016\"').pivot_table(values='global_sum', index='platform', aggfunc='sum').reset_index()\n",
        "display(platform_sales_2016.sort_values(by='global_sum', ascending=False).reset_index()) "
      ]
    },
    {
      "cell_type": "markdown",
      "metadata": {
        "id": "NP8Dr-uzEs5W"
      },
      "source": [
        "С 2014 по 2016 год в лидерах продаж находятся PS4, Xone и 3DS."
      ]
    },
    {
      "cell_type": "code",
      "execution_count": null,
      "metadata": {
        "id": "O0houUnjEs5W",
        "outputId": "206a2f9b-a35f-4d05-ca0f-1035663cd607"
      },
      "outputs": [
        {
          "name": "stdout",
          "output_type": "stream",
          "text": [
            "<class 'pandas.core.frame.DataFrame'>\n",
            "Int64Index: 1689 entries, 31 to 16714\n",
            "Data columns (total 16 columns):\n",
            "name               1689 non-null object\n",
            "platform           1689 non-null object\n",
            "year_of_release    1689 non-null float64\n",
            "genre              1689 non-null object\n",
            "na_sales           1689 non-null float64\n",
            "eu_sales           1689 non-null float64\n",
            "jp_sales           1689 non-null float64\n",
            "other_sales        1689 non-null float64\n",
            "critic_score       718 non-null float64\n",
            "user_score         888 non-null float64\n",
            "rating             1689 non-null object\n",
            "na_sum             1689 non-null float64\n",
            "eu_sum             1689 non-null float64\n",
            "jp_sum             1689 non-null float64\n",
            "other_sum          1689 non-null float64\n",
            "global_sum         1689 non-null float64\n",
            "dtypes: float64(12), object(4)\n",
            "memory usage: 224.3+ KB\n"
          ]
        }
      ],
      "source": [
        "df_current = df.query('year_of_release == \"2014\" or year_of_release == \"2015\" or year_of_release == \"2016\"')\n",
        "df_current.info()"
      ]
    },
    {
      "cell_type": "code",
      "execution_count": null,
      "metadata": {
        "id": "pFnp7CJQEs5W",
        "outputId": "358e39f1-03e4-4acc-e166-170cdf877dc0"
      },
      "outputs": [
        {
          "data": {
            "text/html": [
              "<div>\n",
              "<style scoped>\n",
              "    .dataframe tbody tr th:only-of-type {\n",
              "        vertical-align: middle;\n",
              "    }\n",
              "\n",
              "    .dataframe tbody tr th {\n",
              "        vertical-align: top;\n",
              "    }\n",
              "\n",
              "    .dataframe thead th {\n",
              "        text-align: right;\n",
              "    }\n",
              "</style>\n",
              "<table border=\"1\" class=\"dataframe\">\n",
              "  <thead>\n",
              "    <tr style=\"text-align: right;\">\n",
              "      <th></th>\n",
              "      <th>index</th>\n",
              "      <th>platform</th>\n",
              "      <th>global_sum</th>\n",
              "    </tr>\n",
              "  </thead>\n",
              "  <tbody>\n",
              "    <tr>\n",
              "      <td>0</td>\n",
              "      <td>3</td>\n",
              "      <td>PS4</td>\n",
              "      <td>288.15</td>\n",
              "    </tr>\n",
              "    <tr>\n",
              "      <td>1</td>\n",
              "      <td>9</td>\n",
              "      <td>XOne</td>\n",
              "      <td>140.36</td>\n",
              "    </tr>\n",
              "    <tr>\n",
              "      <td>2</td>\n",
              "      <td>0</td>\n",
              "      <td>3DS</td>\n",
              "      <td>86.68</td>\n",
              "    </tr>\n",
              "    <tr>\n",
              "      <td>3</td>\n",
              "      <td>2</td>\n",
              "      <td>PS3</td>\n",
              "      <td>68.18</td>\n",
              "    </tr>\n",
              "    <tr>\n",
              "      <td>4</td>\n",
              "      <td>8</td>\n",
              "      <td>X360</td>\n",
              "      <td>48.22</td>\n",
              "    </tr>\n",
              "    <tr>\n",
              "      <td>5</td>\n",
              "      <td>7</td>\n",
              "      <td>WiiU</td>\n",
              "      <td>42.98</td>\n",
              "    </tr>\n",
              "    <tr>\n",
              "      <td>6</td>\n",
              "      <td>1</td>\n",
              "      <td>PC</td>\n",
              "      <td>27.05</td>\n",
              "    </tr>\n",
              "    <tr>\n",
              "      <td>7</td>\n",
              "      <td>5</td>\n",
              "      <td>PSV</td>\n",
              "      <td>22.40</td>\n",
              "    </tr>\n",
              "    <tr>\n",
              "      <td>8</td>\n",
              "      <td>6</td>\n",
              "      <td>Wii</td>\n",
              "      <td>5.07</td>\n",
              "    </tr>\n",
              "    <tr>\n",
              "      <td>9</td>\n",
              "      <td>4</td>\n",
              "      <td>PSP</td>\n",
              "      <td>0.36</td>\n",
              "    </tr>\n",
              "  </tbody>\n",
              "</table>\n",
              "</div>"
            ],
            "text/plain": [
              "   index platform  global_sum\n",
              "0      3      PS4      288.15\n",
              "1      9     XOne      140.36\n",
              "2      0      3DS       86.68\n",
              "3      2      PS3       68.18\n",
              "4      8     X360       48.22\n",
              "5      7     WiiU       42.98\n",
              "6      1       PC       27.05\n",
              "7      5      PSV       22.40\n",
              "8      6      Wii        5.07\n",
              "9      4      PSP        0.36"
            ]
          },
          "metadata": {},
          "output_type": "display_data"
        }
      ],
      "source": [
        "platform_sales = df_current.pivot_table(values='global_sum', index='platform', aggfunc='sum').reset_index()\n",
        "display(platform_sales.sort_values(by='global_sum', ascending=False).reset_index()) "
      ]
    },
    {
      "cell_type": "code",
      "execution_count": null,
      "metadata": {
        "id": "6BXRezMqEs5W",
        "outputId": "c86f83d4-695f-49ef-a4fd-de42e341d952"
      },
      "outputs": [
        {
          "data": {
            "text/plain": [
              "<matplotlib.axes._subplots.AxesSubplot at 0x7fb5c021a290>"
            ]
          },
          "execution_count": 41,
          "metadata": {},
          "output_type": "execute_result"
        },
        {
          "data": {
            "image/png": "[encoded data removed]",
            "text/plain": [
              "<Figure size 432x288 with 1 Axes>"
            ]
          },
          "metadata": {
            "needs_background": "light"
          },
          "output_type": "display_data"
        }
      ],
      "source": [
        "df_current.boxplot(column='global_sum', by='platform')"
      ]
    },
    {
      "cell_type": "markdown",
      "metadata": {
        "id": "LIqnw57KEs5X"
      },
      "source": [
        "Большинство продаж лежит в промежутке от 25 до 80, минимальное значение - 0,36, максимальное, соответственно, 288."
      ]
    },
    {
      "cell_type": "markdown",
      "metadata": {
        "id": "GOEbsRTIEs5X"
      },
      "source": [
        "Посмотрим, как влияют рейтинги критиков и пользователей на продажи"
      ]
    },
    {
      "cell_type": "code",
      "execution_count": null,
      "metadata": {
        "id": "7Mk5Y88aEs5X"
      },
      "outputs": [],
      "source": [
        "ps_4_current = df_current.query('platform == \"PS4\"')"
      ]
    },
    {
      "cell_type": "code",
      "execution_count": null,
      "metadata": {
        "id": "0Zq4h_JVEs5X",
        "outputId": "2122961d-7155-4ab2-fd7d-bb9d311df38e"
      },
      "outputs": [
        {
          "data": {
            "text/plain": [
              "<matplotlib.axes._subplots.AxesSubplot at 0x7fb5c0099d50>"
            ]
          },
          "execution_count": 43,
          "metadata": {},
          "output_type": "execute_result"
        },
        {
          "data": {
            "image/png": "[encoded data removed]",
            "text/plain": [
              "<Figure size 432x288 with 1 Axes>"
            ]
          },
          "metadata": {
            "needs_background": "light"
          },
          "output_type": "display_data"
        }
      ],
      "source": [
        "ps_4_current.plot(x='critic_score', y='global_sum', kind='scatter') "
      ]
    },
    {
      "cell_type": "code",
      "execution_count": null,
      "metadata": {
        "id": "-cR2RRebEs5X",
        "outputId": "326d2a64-9cd9-4298-d1a1-1b87aa7c91b9"
      },
      "outputs": [
        {
          "data": {
            "text/plain": [
              "<matplotlib.axes._subplots.AxesSubplot at 0x7fb5c001b450>"
            ]
          },
          "execution_count": 44,
          "metadata": {},
          "output_type": "execute_result"
        },
        {
          "data": {
            "image/png": "[encoded data removed]",
            "text/plain": [
              "<Figure size 432x288 with 1 Axes>"
            ]
          },
          "metadata": {
            "needs_background": "light"
          },
          "output_type": "display_data"
        }
      ],
      "source": [
        "ps_4_current.plot(x='user_score', y='global_sum', kind='scatter') "
      ]
    },
    {
      "cell_type": "code",
      "execution_count": null,
      "metadata": {
        "id": "gTyZK1wUEs5Y",
        "outputId": "f1dab4fe-67f5-42b8-ae63-078b92c1857d"
      },
      "outputs": [
        {
          "name": "stdout",
          "output_type": "stream",
          "text": [
            "0.40266141068104083\n",
            "-0.040131589472697356\n"
          ]
        }
      ],
      "source": [
        "print(ps_4_current['global_sum'].corr(ps_4_current['critic_score']))\n",
        "print(ps_4_current['global_sum'].corr(ps_4_current['user_score']))"
      ]
    },
    {
      "cell_type": "markdown",
      "metadata": {
        "id": "fHVX6Y4sEs5Y"
      },
      "source": [
        "есть слабая прямая зависимость от critic_score к продажам и слабая непрямая связь user_score  к продажам"
      ]
    },
    {
      "cell_type": "markdown",
      "metadata": {
        "id": "VltTd0pYEs5Y"
      },
      "source": [
        "Соотнесите выводы с продажами игр на других платформах."
      ]
    },
    {
      "cell_type": "code",
      "execution_count": null,
      "metadata": {
        "id": "XbREJgboEs5Y"
      },
      "outputs": [],
      "source": [
        "xone_current = df_current.query('platform == \"XOne\"')\n",
        "ds_current = df_current.query('platform == \"3DS\"')"
      ]
    },
    {
      "cell_type": "code",
      "execution_count": null,
      "metadata": {
        "id": "Jl45RSRbEs5Y",
        "outputId": "ff79ce1e-4132-4f1c-8ba5-d4c718a2cffe"
      },
      "outputs": [
        {
          "name": "stdout",
          "output_type": "stream",
          "text": [
            "0.42867694370333226\n",
            "-0.0703839280647581\n"
          ]
        }
      ],
      "source": [
        "print(xone_current['global_sum'].corr(xone_current['critic_score']))\n",
        "print(xone_current['global_sum'].corr(xone_current['user_score']))"
      ]
    },
    {
      "cell_type": "code",
      "execution_count": null,
      "metadata": {
        "id": "bh65N4ECEs5Y",
        "outputId": "c02107ac-f97c-4462-e994-4b8f633096d5"
      },
      "outputs": [
        {
          "name": "stdout",
          "output_type": "stream",
          "text": [
            "0.31411749286905105\n",
            "0.2151932718527028\n"
          ]
        }
      ],
      "source": [
        "print(ds_current['global_sum'].corr(ds_current['critic_score']))\n",
        "print(ds_current['global_sum'].corr(ds_current['user_score']))"
      ]
    },
    {
      "cell_type": "markdown",
      "metadata": {
        "id": "sPMH8dl7Es5Y"
      },
      "source": [
        "есть слабая прямая зависимость от critic_score к продажам и слабая непрямая связь user_score к продажам на платформе Xone, \n",
        "\n",
        "на платформе3ds обе связи слабые и прямые"
      ]
    },
    {
      "cell_type": "markdown",
      "metadata": {
        "id": "ZOJr12PSEs5Z"
      },
      "source": [
        "Посмотрим на самые прибыльные жанры"
      ]
    },
    {
      "cell_type": "code",
      "execution_count": null,
      "metadata": {
        "id": "6_MNdA_4Es5Z",
        "outputId": "69149e35-0929-4b5b-99ee-5d29f25d6a2f"
      },
      "outputs": [
        {
          "data": {
            "text/html": [
              "<div>\n",
              "<style scoped>\n",
              "    .dataframe tbody tr th:only-of-type {\n",
              "        vertical-align: middle;\n",
              "    }\n",
              "\n",
              "    .dataframe tbody tr th {\n",
              "        vertical-align: top;\n",
              "    }\n",
              "\n",
              "    .dataframe thead th {\n",
              "        text-align: right;\n",
              "    }\n",
              "</style>\n",
              "<table border=\"1\" class=\"dataframe\">\n",
              "  <thead>\n",
              "    <tr style=\"text-align: right;\">\n",
              "      <th></th>\n",
              "      <th>index</th>\n",
              "      <th>genre</th>\n",
              "      <th>global_sum</th>\n",
              "    </tr>\n",
              "  </thead>\n",
              "  <tbody>\n",
              "    <tr>\n",
              "      <td>0</td>\n",
              "      <td>0</td>\n",
              "      <td>Action</td>\n",
              "      <td>199.36</td>\n",
              "    </tr>\n",
              "    <tr>\n",
              "      <td>1</td>\n",
              "      <td>8</td>\n",
              "      <td>Shooter</td>\n",
              "      <td>170.94</td>\n",
              "    </tr>\n",
              "    <tr>\n",
              "      <td>2</td>\n",
              "      <td>10</td>\n",
              "      <td>Sports</td>\n",
              "      <td>109.48</td>\n",
              "    </tr>\n",
              "    <tr>\n",
              "      <td>3</td>\n",
              "      <td>7</td>\n",
              "      <td>Role-Playing</td>\n",
              "      <td>101.44</td>\n",
              "    </tr>\n",
              "    <tr>\n",
              "      <td>4</td>\n",
              "      <td>3</td>\n",
              "      <td>Misc</td>\n",
              "      <td>37.55</td>\n",
              "    </tr>\n",
              "    <tr>\n",
              "      <td>5</td>\n",
              "      <td>2</td>\n",
              "      <td>Fighting</td>\n",
              "      <td>28.22</td>\n",
              "    </tr>\n",
              "    <tr>\n",
              "      <td>6</td>\n",
              "      <td>6</td>\n",
              "      <td>Racing</td>\n",
              "      <td>27.52</td>\n",
              "    </tr>\n",
              "    <tr>\n",
              "      <td>7</td>\n",
              "      <td>4</td>\n",
              "      <td>Platform</td>\n",
              "      <td>18.09</td>\n",
              "    </tr>\n",
              "    <tr>\n",
              "      <td>8</td>\n",
              "      <td>1</td>\n",
              "      <td>Adventure</td>\n",
              "      <td>17.55</td>\n",
              "    </tr>\n",
              "    <tr>\n",
              "      <td>9</td>\n",
              "      <td>9</td>\n",
              "      <td>Simulation</td>\n",
              "      <td>13.13</td>\n",
              "    </tr>\n",
              "    <tr>\n",
              "      <td>10</td>\n",
              "      <td>11</td>\n",
              "      <td>Strategy</td>\n",
              "      <td>3.96</td>\n",
              "    </tr>\n",
              "    <tr>\n",
              "      <td>11</td>\n",
              "      <td>5</td>\n",
              "      <td>Puzzle</td>\n",
              "      <td>2.21</td>\n",
              "    </tr>\n",
              "  </tbody>\n",
              "</table>\n",
              "</div>"
            ],
            "text/plain": [
              "    index         genre  global_sum\n",
              "0       0        Action      199.36\n",
              "1       8       Shooter      170.94\n",
              "2      10        Sports      109.48\n",
              "3       7  Role-Playing      101.44\n",
              "4       3          Misc       37.55\n",
              "5       2      Fighting       28.22\n",
              "6       6        Racing       27.52\n",
              "7       4      Platform       18.09\n",
              "8       1     Adventure       17.55\n",
              "9       9    Simulation       13.13\n",
              "10     11      Strategy        3.96\n",
              "11      5        Puzzle        2.21"
            ]
          },
          "metadata": {},
          "output_type": "display_data"
        }
      ],
      "source": [
        "df_genre = df_current.pivot_table(values='global_sum', index='genre', aggfunc='sum').reset_index()\n",
        "display(df_genre.sort_values(by='global_sum', ascending=False).reset_index()) "
      ]
    },
    {
      "cell_type": "markdown",
      "metadata": {
        "id": "4Qf84GA4Es5Z"
      },
      "source": [
        "по продажам сильно выделяются 4 жанра: action, shooter, sports, role-playing; паззлы и стратегии в самом низу"
      ]
    },
    {
      "cell_type": "markdown",
      "metadata": {
        "id": "yJcM3SzJEs5Z"
      },
      "source": [
        "Составим портрет пользователя каждого региона (NA, EU, JP):\n",
        "Самые популярные платформы (топ-5);\n",
        "Самые популярные жанры (топ-5).\n"
      ]
    },
    {
      "cell_type": "code",
      "execution_count": null,
      "metadata": {
        "id": "27l8Q6qSEs5Z",
        "outputId": "2bdc809c-ea5a-44f5-ac32-07021f5f4f40"
      },
      "outputs": [
        {
          "data": {
            "text/html": [
              "<div>\n",
              "<style scoped>\n",
              "    .dataframe tbody tr th:only-of-type {\n",
              "        vertical-align: middle;\n",
              "    }\n",
              "\n",
              "    .dataframe tbody tr th {\n",
              "        vertical-align: top;\n",
              "    }\n",
              "\n",
              "    .dataframe thead th {\n",
              "        text-align: right;\n",
              "    }\n",
              "</style>\n",
              "<table border=\"1\" class=\"dataframe\">\n",
              "  <thead>\n",
              "    <tr style=\"text-align: right;\">\n",
              "      <th></th>\n",
              "      <th>na_sales</th>\n",
              "    </tr>\n",
              "    <tr>\n",
              "      <th>platform</th>\n",
              "      <th></th>\n",
              "    </tr>\n",
              "  </thead>\n",
              "  <tbody>\n",
              "    <tr>\n",
              "      <td>PS4</td>\n",
              "      <td>98.61</td>\n",
              "    </tr>\n",
              "    <tr>\n",
              "      <td>XOne</td>\n",
              "      <td>81.27</td>\n",
              "    </tr>\n",
              "    <tr>\n",
              "      <td>X360</td>\n",
              "      <td>28.30</td>\n",
              "    </tr>\n",
              "    <tr>\n",
              "      <td>3DS</td>\n",
              "      <td>22.64</td>\n",
              "    </tr>\n",
              "    <tr>\n",
              "      <td>PS3</td>\n",
              "      <td>22.05</td>\n",
              "    </tr>\n",
              "  </tbody>\n",
              "</table>\n",
              "</div>"
            ],
            "text/plain": [
              "          na_sales\n",
              "platform          \n",
              "PS4          98.61\n",
              "XOne         81.27\n",
              "X360         28.30\n",
              "3DS          22.64\n",
              "PS3          22.05"
            ]
          },
          "execution_count": 50,
          "metadata": {},
          "output_type": "execute_result"
        }
      ],
      "source": [
        "na_games = df_current.pivot_table(index='platform', values='na_sales', aggfunc=sum)\n",
        "na_games.sort_values('na_sales', ascending=False).head()\n"
      ]
    },
    {
      "cell_type": "markdown",
      "metadata": {
        "id": "RY2zyJN9Es5Z"
      },
      "source": [
        "Самые популярные платформы в Северной Америке: PS4, XOne, X360, 3DS, PS3"
      ]
    },
    {
      "cell_type": "code",
      "execution_count": null,
      "metadata": {
        "id": "oQaZX0llEs5Z",
        "outputId": "d79df035-30b2-4cc4-c81a-636fc9c86df5"
      },
      "outputs": [
        {
          "data": {
            "text/html": [
              "<div>\n",
              "<style scoped>\n",
              "    .dataframe tbody tr th:only-of-type {\n",
              "        vertical-align: middle;\n",
              "    }\n",
              "\n",
              "    .dataframe tbody tr th {\n",
              "        vertical-align: top;\n",
              "    }\n",
              "\n",
              "    .dataframe thead th {\n",
              "        text-align: right;\n",
              "    }\n",
              "</style>\n",
              "<table border=\"1\" class=\"dataframe\">\n",
              "  <thead>\n",
              "    <tr style=\"text-align: right;\">\n",
              "      <th></th>\n",
              "      <th>eu_sales</th>\n",
              "    </tr>\n",
              "    <tr>\n",
              "      <th>platform</th>\n",
              "      <th></th>\n",
              "    </tr>\n",
              "  </thead>\n",
              "  <tbody>\n",
              "    <tr>\n",
              "      <td>PS4</td>\n",
              "      <td>130.04</td>\n",
              "    </tr>\n",
              "    <tr>\n",
              "      <td>XOne</td>\n",
              "      <td>46.25</td>\n",
              "    </tr>\n",
              "    <tr>\n",
              "      <td>PS3</td>\n",
              "      <td>25.54</td>\n",
              "    </tr>\n",
              "    <tr>\n",
              "      <td>PC</td>\n",
              "      <td>17.97</td>\n",
              "    </tr>\n",
              "    <tr>\n",
              "      <td>3DS</td>\n",
              "      <td>16.12</td>\n",
              "    </tr>\n",
              "  </tbody>\n",
              "</table>\n",
              "</div>"
            ],
            "text/plain": [
              "          eu_sales\n",
              "platform          \n",
              "PS4         130.04\n",
              "XOne         46.25\n",
              "PS3          25.54\n",
              "PC           17.97\n",
              "3DS          16.12"
            ]
          },
          "execution_count": 51,
          "metadata": {},
          "output_type": "execute_result"
        }
      ],
      "source": [
        "eu_games = df_current.pivot_table(index='platform', values='eu_sales', aggfunc=sum)\n",
        "eu_games.sort_values('eu_sales', ascending=False).head()\n"
      ]
    },
    {
      "cell_type": "markdown",
      "metadata": {
        "id": "OfUxOq2yEs5a"
      },
      "source": [
        "Самые популярные платформы в Европе: PS4, XOne, PS3, PC, 3DS"
      ]
    },
    {
      "cell_type": "code",
      "execution_count": null,
      "metadata": {
        "id": "oKJbeDvkEs5a",
        "outputId": "f9ab12a7-268d-42dd-f57e-6a777a650833"
      },
      "outputs": [
        {
          "data": {
            "text/html": [
              "<div>\n",
              "<style scoped>\n",
              "    .dataframe tbody tr th:only-of-type {\n",
              "        vertical-align: middle;\n",
              "    }\n",
              "\n",
              "    .dataframe tbody tr th {\n",
              "        vertical-align: top;\n",
              "    }\n",
              "\n",
              "    .dataframe thead th {\n",
              "        text-align: right;\n",
              "    }\n",
              "</style>\n",
              "<table border=\"1\" class=\"dataframe\">\n",
              "  <thead>\n",
              "    <tr style=\"text-align: right;\">\n",
              "      <th></th>\n",
              "      <th>jp_sales</th>\n",
              "    </tr>\n",
              "    <tr>\n",
              "      <th>platform</th>\n",
              "      <th></th>\n",
              "    </tr>\n",
              "  </thead>\n",
              "  <tbody>\n",
              "    <tr>\n",
              "      <td>3DS</td>\n",
              "      <td>44.24</td>\n",
              "    </tr>\n",
              "    <tr>\n",
              "      <td>PS4</td>\n",
              "      <td>15.02</td>\n",
              "    </tr>\n",
              "    <tr>\n",
              "      <td>PSV</td>\n",
              "      <td>14.54</td>\n",
              "    </tr>\n",
              "    <tr>\n",
              "      <td>PS3</td>\n",
              "      <td>11.22</td>\n",
              "    </tr>\n",
              "    <tr>\n",
              "      <td>WiiU</td>\n",
              "      <td>7.31</td>\n",
              "    </tr>\n",
              "  </tbody>\n",
              "</table>\n",
              "</div>"
            ],
            "text/plain": [
              "          jp_sales\n",
              "platform          \n",
              "3DS          44.24\n",
              "PS4          15.02\n",
              "PSV          14.54\n",
              "PS3          11.22\n",
              "WiiU          7.31"
            ]
          },
          "execution_count": 52,
          "metadata": {},
          "output_type": "execute_result"
        }
      ],
      "source": [
        "jp_games = df_current.pivot_table(index='platform', values='jp_sales', aggfunc=sum)\n",
        "jp_games.sort_values('jp_sales', ascending=False).head()\n"
      ]
    },
    {
      "cell_type": "markdown",
      "metadata": {
        "id": "fwCasn_qEs5a"
      },
      "source": [
        "Самые популярные платформы в Японии: 3DS, PS4, PSV, PS3, WiiU"
      ]
    },
    {
      "cell_type": "code",
      "execution_count": null,
      "metadata": {
        "id": "pB4wbaITEs5a",
        "outputId": "66dd9029-f84a-4a45-f620-aa75fa8971d2"
      },
      "outputs": [
        {
          "data": {
            "text/plain": [
              "<matplotlib.axes._subplots.AxesSubplot at 0x7fb5bfed11d0>"
            ]
          },
          "execution_count": 53,
          "metadata": {},
          "output_type": "execute_result"
        },
        {
          "data": {
            "image/png": "[encoded data removed]",
            "text/plain": [
              "<Figure size 432x288 with 1 Axes>"
            ]
          },
          "metadata": {
            "needs_background": "light"
          },
          "output_type": "display_data"
        },
        {
          "data": {
            "image/png": "[encoded data removed]",
            "text/plain": [
              "<Figure size 432x288 with 1 Axes>"
            ]
          },
          "metadata": {
            "needs_background": "light"
          },
          "output_type": "display_data"
        },
        {
          "data": {
            "image/png": "[encoded data removed]",
            "text/plain": [
              "<Figure size 432x288 with 1 Axes>"
            ]
          },
          "metadata": {
            "needs_background": "light"
          },
          "output_type": "display_data"
        }
      ],
      "source": [
        "na_games.plot()\n",
        "eu_games.plot()\n",
        "jp_games.plot()"
      ]
    },
    {
      "cell_type": "code",
      "execution_count": null,
      "metadata": {
        "id": "r5adqyazEs5a",
        "outputId": "619cd193-6756-440b-a07f-73a419aaeabe"
      },
      "outputs": [
        {
          "data": {
            "text/html": [
              "<div>\n",
              "<style scoped>\n",
              "    .dataframe tbody tr th:only-of-type {\n",
              "        vertical-align: middle;\n",
              "    }\n",
              "\n",
              "    .dataframe tbody tr th {\n",
              "        vertical-align: top;\n",
              "    }\n",
              "\n",
              "    .dataframe thead th {\n",
              "        text-align: right;\n",
              "    }\n",
              "</style>\n",
              "<table border=\"1\" class=\"dataframe\">\n",
              "  <thead>\n",
              "    <tr style=\"text-align: right;\">\n",
              "      <th></th>\n",
              "      <th>na_sales</th>\n",
              "    </tr>\n",
              "    <tr>\n",
              "      <th>genre</th>\n",
              "      <th></th>\n",
              "    </tr>\n",
              "  </thead>\n",
              "  <tbody>\n",
              "    <tr>\n",
              "      <td>Shooter</td>\n",
              "      <td>79.02</td>\n",
              "    </tr>\n",
              "    <tr>\n",
              "      <td>Action</td>\n",
              "      <td>72.53</td>\n",
              "    </tr>\n",
              "    <tr>\n",
              "      <td>Sports</td>\n",
              "      <td>46.13</td>\n",
              "    </tr>\n",
              "    <tr>\n",
              "      <td>Role-Playing</td>\n",
              "      <td>33.47</td>\n",
              "    </tr>\n",
              "    <tr>\n",
              "      <td>Misc</td>\n",
              "      <td>15.05</td>\n",
              "    </tr>\n",
              "  </tbody>\n",
              "</table>\n",
              "</div>"
            ],
            "text/plain": [
              "              na_sales\n",
              "genre                 \n",
              "Shooter          79.02\n",
              "Action           72.53\n",
              "Sports           46.13\n",
              "Role-Playing     33.47\n",
              "Misc             15.05"
            ]
          },
          "execution_count": 54,
          "metadata": {},
          "output_type": "execute_result"
        }
      ],
      "source": [
        "na_games_genre = df_current.pivot_table(index='genre', values='na_sales', aggfunc=sum)\n",
        "na_games_genre.sort_values('na_sales', ascending=False).head()"
      ]
    },
    {
      "cell_type": "markdown",
      "metadata": {
        "id": "_LP9X3fzEs5a"
      },
      "source": [
        "Самые популярные жанры в Северной Америке: шутер, экшн, спорт, ролевые игры, разное"
      ]
    },
    {
      "cell_type": "code",
      "execution_count": null,
      "metadata": {
        "id": "sQwBXxeVEs5a",
        "outputId": "9bf4435b-ac31-4e59-aca3-151593480f4f"
      },
      "outputs": [
        {
          "data": {
            "text/html": [
              "<div>\n",
              "<style scoped>\n",
              "    .dataframe tbody tr th:only-of-type {\n",
              "        vertical-align: middle;\n",
              "    }\n",
              "\n",
              "    .dataframe tbody tr th {\n",
              "        vertical-align: top;\n",
              "    }\n",
              "\n",
              "    .dataframe thead th {\n",
              "        text-align: right;\n",
              "    }\n",
              "</style>\n",
              "<table border=\"1\" class=\"dataframe\">\n",
              "  <thead>\n",
              "    <tr style=\"text-align: right;\">\n",
              "      <th></th>\n",
              "      <th>eu_sales</th>\n",
              "    </tr>\n",
              "    <tr>\n",
              "      <th>genre</th>\n",
              "      <th></th>\n",
              "    </tr>\n",
              "  </thead>\n",
              "  <tbody>\n",
              "    <tr>\n",
              "      <td>Action</td>\n",
              "      <td>74.68</td>\n",
              "    </tr>\n",
              "    <tr>\n",
              "      <td>Shooter</td>\n",
              "      <td>65.52</td>\n",
              "    </tr>\n",
              "    <tr>\n",
              "      <td>Sports</td>\n",
              "      <td>45.73</td>\n",
              "    </tr>\n",
              "    <tr>\n",
              "      <td>Role-Playing</td>\n",
              "      <td>28.17</td>\n",
              "    </tr>\n",
              "    <tr>\n",
              "      <td>Racing</td>\n",
              "      <td>14.13</td>\n",
              "    </tr>\n",
              "  </tbody>\n",
              "</table>\n",
              "</div>"
            ],
            "text/plain": [
              "              eu_sales\n",
              "genre                 \n",
              "Action           74.68\n",
              "Shooter          65.52\n",
              "Sports           45.73\n",
              "Role-Playing     28.17\n",
              "Racing           14.13"
            ]
          },
          "execution_count": 55,
          "metadata": {},
          "output_type": "execute_result"
        }
      ],
      "source": [
        "eu_games_genre = df_current.pivot_table(index='genre', values='eu_sales', aggfunc=sum)\n",
        "eu_games_genre.sort_values('eu_sales', ascending=False).head()"
      ]
    },
    {
      "cell_type": "markdown",
      "metadata": {
        "id": "DnfdnudXEs5b"
      },
      "source": [
        "Самые популярные жанры в Европе: экшн, шутер, спорт, ролевые, гонки"
      ]
    },
    {
      "cell_type": "code",
      "execution_count": null,
      "metadata": {
        "id": "QYDS9G26Es5b",
        "outputId": "51fd5916-d7c9-4c19-fca9-07272c793d85"
      },
      "outputs": [
        {
          "data": {
            "text/html": [
              "<div>\n",
              "<style scoped>\n",
              "    .dataframe tbody tr th:only-of-type {\n",
              "        vertical-align: middle;\n",
              "    }\n",
              "\n",
              "    .dataframe tbody tr th {\n",
              "        vertical-align: top;\n",
              "    }\n",
              "\n",
              "    .dataframe thead th {\n",
              "        text-align: right;\n",
              "    }\n",
              "</style>\n",
              "<table border=\"1\" class=\"dataframe\">\n",
              "  <thead>\n",
              "    <tr style=\"text-align: right;\">\n",
              "      <th></th>\n",
              "      <th>jp_sales</th>\n",
              "    </tr>\n",
              "    <tr>\n",
              "      <th>genre</th>\n",
              "      <th></th>\n",
              "    </tr>\n",
              "  </thead>\n",
              "  <tbody>\n",
              "    <tr>\n",
              "      <td>Role-Playing</td>\n",
              "      <td>31.16</td>\n",
              "    </tr>\n",
              "    <tr>\n",
              "      <td>Action</td>\n",
              "      <td>29.58</td>\n",
              "    </tr>\n",
              "    <tr>\n",
              "      <td>Fighting</td>\n",
              "      <td>6.37</td>\n",
              "    </tr>\n",
              "    <tr>\n",
              "      <td>Misc</td>\n",
              "      <td>5.61</td>\n",
              "    </tr>\n",
              "    <tr>\n",
              "      <td>Shooter</td>\n",
              "      <td>4.87</td>\n",
              "    </tr>\n",
              "  </tbody>\n",
              "</table>\n",
              "</div>"
            ],
            "text/plain": [
              "              jp_sales\n",
              "genre                 \n",
              "Role-Playing     31.16\n",
              "Action           29.58\n",
              "Fighting          6.37\n",
              "Misc              5.61\n",
              "Shooter           4.87"
            ]
          },
          "execution_count": 56,
          "metadata": {},
          "output_type": "execute_result"
        }
      ],
      "source": [
        "jp_games_genre = df_current.pivot_table(index='genre', values='jp_sales', aggfunc=sum)\n",
        "jp_games_genre.sort_values('jp_sales', ascending=False).head()"
      ]
    },
    {
      "cell_type": "code",
      "execution_count": null,
      "metadata": {
        "id": "NTn1kj6GEs5b",
        "outputId": "b5169ada-e2ab-4c57-d1d6-c854bcd4a5ad"
      },
      "outputs": [
        {
          "data": {
            "text/plain": [
              "<matplotlib.axes._subplots.AxesSubplot at 0x7fb5bfd9a6d0>"
            ]
          },
          "execution_count": 57,
          "metadata": {},
          "output_type": "execute_result"
        },
        {
          "data": {
            "image/png": "[encoded data removed]",
            "text/plain": [
              "<Figure size 432x288 with 1 Axes>"
            ]
          },
          "metadata": {
            "needs_background": "light"
          },
          "output_type": "display_data"
        },
        {
          "data": {
            "image/png": "[encoded data removed]",
            "text/plain": [
              "<Figure size 432x288 with 1 Axes>"
            ]
          },
          "metadata": {
            "needs_background": "light"
          },
          "output_type": "display_data"
        },
        {
          "data": {
            "image/png": "[encoded data removed]",
            "text/plain": [
              "<Figure size 432x288 with 1 Axes>"
            ]
          },
          "metadata": {
            "needs_background": "light"
          },
          "output_type": "display_data"
        }
      ],
      "source": [
        "na_games_genre.plot()\n",
        "eu_games_genre.plot()\n",
        "jp_games_genre.plot()"
      ]
    },
    {
      "cell_type": "markdown",
      "metadata": {
        "id": "NdtwqZL3Es5b"
      },
      "source": [
        "Самые популярные жанры в Японии: ролевые, экшн, файтинг, разное, шутер.\n",
        "\n",
        "Файтинг вошел в топ-5 только Японии, гонки - в топ-5 только в Европе"
      ]
    },
    {
      "cell_type": "code",
      "execution_count": null,
      "metadata": {
        "id": "8CHQnNQTEs5b",
        "outputId": "a6ef14ed-74f5-4cd0-cec2-6fb48a82d956"
      },
      "outputs": [
        {
          "data": {
            "text/html": [
              "<div>\n",
              "<style scoped>\n",
              "    .dataframe tbody tr th:only-of-type {\n",
              "        vertical-align: middle;\n",
              "    }\n",
              "\n",
              "    .dataframe tbody tr th {\n",
              "        vertical-align: top;\n",
              "    }\n",
              "\n",
              "    .dataframe thead th {\n",
              "        text-align: right;\n",
              "    }\n",
              "</style>\n",
              "<table border=\"1\" class=\"dataframe\">\n",
              "  <thead>\n",
              "    <tr style=\"text-align: right;\">\n",
              "      <th></th>\n",
              "      <th>na_sales</th>\n",
              "    </tr>\n",
              "    <tr>\n",
              "      <th>rating</th>\n",
              "      <th></th>\n",
              "    </tr>\n",
              "  </thead>\n",
              "  <tbody>\n",
              "    <tr>\n",
              "      <td>M</td>\n",
              "      <td>96.42</td>\n",
              "    </tr>\n",
              "    <tr>\n",
              "      <td>RP</td>\n",
              "      <td>64.72</td>\n",
              "    </tr>\n",
              "    <tr>\n",
              "      <td>E</td>\n",
              "      <td>50.74</td>\n",
              "    </tr>\n",
              "    <tr>\n",
              "      <td>T</td>\n",
              "      <td>38.95</td>\n",
              "    </tr>\n",
              "    <tr>\n",
              "      <td>E10+</td>\n",
              "      <td>33.23</td>\n",
              "    </tr>\n",
              "  </tbody>\n",
              "</table>\n",
              "</div>"
            ],
            "text/plain": [
              "        na_sales\n",
              "rating          \n",
              "M          96.42\n",
              "RP         64.72\n",
              "E          50.74\n",
              "T          38.95\n",
              "E10+       33.23"
            ]
          },
          "execution_count": 58,
          "metadata": {},
          "output_type": "execute_result"
        }
      ],
      "source": [
        "na_rating = df_current.pivot_table(index='rating', values='na_sales', aggfunc=sum)\n",
        "na_rating.sort_values('na_sales', ascending=False).head()"
      ]
    },
    {
      "cell_type": "markdown",
      "metadata": {
        "id": "K51TPRT6Es5b"
      },
      "source": [
        "На первом месте в Североной Америке игры с рейтингом М - для взрослых."
      ]
    },
    {
      "cell_type": "code",
      "execution_count": null,
      "metadata": {
        "id": "Nm-a4kVQEs5c",
        "outputId": "04d4bc85-65fd-4ade-9bc7-b9f8f3ebc6c2"
      },
      "outputs": [
        {
          "data": {
            "text/html": [
              "<div>\n",
              "<style scoped>\n",
              "    .dataframe tbody tr th:only-of-type {\n",
              "        vertical-align: middle;\n",
              "    }\n",
              "\n",
              "    .dataframe tbody tr th {\n",
              "        vertical-align: top;\n",
              "    }\n",
              "\n",
              "    .dataframe thead th {\n",
              "        text-align: right;\n",
              "    }\n",
              "</style>\n",
              "<table border=\"1\" class=\"dataframe\">\n",
              "  <thead>\n",
              "    <tr style=\"text-align: right;\">\n",
              "      <th></th>\n",
              "      <th>eu_sales</th>\n",
              "    </tr>\n",
              "    <tr>\n",
              "      <th>rating</th>\n",
              "      <th></th>\n",
              "    </tr>\n",
              "  </thead>\n",
              "  <tbody>\n",
              "    <tr>\n",
              "      <td>M</td>\n",
              "      <td>93.44</td>\n",
              "    </tr>\n",
              "    <tr>\n",
              "      <td>RP</td>\n",
              "      <td>58.95</td>\n",
              "    </tr>\n",
              "    <tr>\n",
              "      <td>E</td>\n",
              "      <td>58.06</td>\n",
              "    </tr>\n",
              "    <tr>\n",
              "      <td>T</td>\n",
              "      <td>34.07</td>\n",
              "    </tr>\n",
              "    <tr>\n",
              "      <td>E10+</td>\n",
              "      <td>26.16</td>\n",
              "    </tr>\n",
              "  </tbody>\n",
              "</table>\n",
              "</div>"
            ],
            "text/plain": [
              "        eu_sales\n",
              "rating          \n",
              "M          93.44\n",
              "RP         58.95\n",
              "E          58.06\n",
              "T          34.07\n",
              "E10+       26.16"
            ]
          },
          "execution_count": 59,
          "metadata": {},
          "output_type": "execute_result"
        }
      ],
      "source": [
        "eu_rating = df_current.pivot_table(index='rating', values='eu_sales', aggfunc=sum)\n",
        "eu_rating.sort_values('eu_sales', ascending=False).head()"
      ]
    },
    {
      "cell_type": "markdown",
      "metadata": {
        "id": "S_fAQ3UCEs5c"
      },
      "source": [
        "На первом месте в Европе игры с рейтингом М - для взрослых."
      ]
    },
    {
      "cell_type": "code",
      "execution_count": null,
      "metadata": {
        "id": "VNGWmM4dEs5c",
        "outputId": "f72fab03-7ab9-49c8-a631-ef9c902a51bd"
      },
      "outputs": [
        {
          "data": {
            "text/html": [
              "<div>\n",
              "<style scoped>\n",
              "    .dataframe tbody tr th:only-of-type {\n",
              "        vertical-align: middle;\n",
              "    }\n",
              "\n",
              "    .dataframe tbody tr th {\n",
              "        vertical-align: top;\n",
              "    }\n",
              "\n",
              "    .dataframe thead th {\n",
              "        text-align: right;\n",
              "    }\n",
              "</style>\n",
              "<table border=\"1\" class=\"dataframe\">\n",
              "  <thead>\n",
              "    <tr style=\"text-align: right;\">\n",
              "      <th></th>\n",
              "      <th>jp_sales</th>\n",
              "    </tr>\n",
              "    <tr>\n",
              "      <th>rating</th>\n",
              "      <th></th>\n",
              "    </tr>\n",
              "  </thead>\n",
              "  <tbody>\n",
              "    <tr>\n",
              "      <td>RP</td>\n",
              "      <td>56.90</td>\n",
              "    </tr>\n",
              "    <tr>\n",
              "      <td>T</td>\n",
              "      <td>14.78</td>\n",
              "    </tr>\n",
              "    <tr>\n",
              "      <td>E</td>\n",
              "      <td>8.94</td>\n",
              "    </tr>\n",
              "    <tr>\n",
              "      <td>M</td>\n",
              "      <td>8.01</td>\n",
              "    </tr>\n",
              "    <tr>\n",
              "      <td>E10+</td>\n",
              "      <td>4.46</td>\n",
              "    </tr>\n",
              "  </tbody>\n",
              "</table>\n",
              "</div>"
            ],
            "text/plain": [
              "        jp_sales\n",
              "rating          \n",
              "RP         56.90\n",
              "T          14.78\n",
              "E           8.94\n",
              "M           8.01\n",
              "E10+        4.46"
            ]
          },
          "execution_count": 60,
          "metadata": {},
          "output_type": "execute_result"
        }
      ],
      "source": [
        "jp_rating = df_current.pivot_table(index='rating', values='jp_sales', aggfunc=sum)\n",
        "jp_rating.sort_values('jp_sales', ascending=False).head()"
      ]
    },
    {
      "cell_type": "markdown",
      "metadata": {
        "id": "NGXml53uEs5c"
      },
      "source": [
        "В Японии на первом месте игры без рейтинга, с существенным отрывом. "
      ]
    },
    {
      "cell_type": "code",
      "execution_count": null,
      "metadata": {
        "id": "7ok3b2GxEs5c",
        "outputId": "6d9df356-34db-4ffb-f531-c1766b657d7b"
      },
      "outputs": [
        {
          "data": {
            "text/plain": [
              "<matplotlib.axes._subplots.AxesSubplot at 0x7fb5bfc0a4d0>"
            ]
          },
          "execution_count": 61,
          "metadata": {},
          "output_type": "execute_result"
        },
        {
          "data": {
            "image/png": "[encoded data removed]",
            "text/plain": [
              "<Figure size 432x288 with 1 Axes>"
            ]
          },
          "metadata": {
            "needs_background": "light"
          },
          "output_type": "display_data"
        },
        {
          "data": {
            "image/png": "[encoded data removed]",
            "text/plain": [
              "<Figure size 432x288 with 1 Axes>"
            ]
          },
          "metadata": {
            "needs_background": "light"
          },
          "output_type": "display_data"
        },
        {
          "data": {
            "image/png": "[encoded data removed]",
            "text/plain": [
              "<Figure size 432x288 with 1 Axes>"
            ]
          },
          "metadata": {
            "needs_background": "light"
          },
          "output_type": "display_data"
        }
      ],
      "source": [
        "na_rating.plot()\n",
        "eu_rating.plot()\n",
        "jp_rating.plot()"
      ]
    },
    {
      "cell_type": "markdown",
      "metadata": {
        "id": "Ggeh5aTHEs5c"
      },
      "source": [
        "<div class=\"alert alert-info\"> в Японии рейтингом игр занимается другая организация (CERO), соответственно, если игра выпущена в Японии, то и рейтинг ей будет присвоен не ESRB\n",
        "</div>"
      ]
    },
    {
      "cell_type": "markdown",
      "metadata": {
        "id": "U51fqg4HEs5d"
      },
      "source": [
        "Нулевая гипотеза формулируется так, чтобы использовать знак равенства.\n",
        "Зададим пороговое значение альфа 0.05.\n",
        "\n"
      ]
    },
    {
      "cell_type": "markdown",
      "metadata": {
        "id": "DkX3ZnjqEs5d"
      },
      "source": [
        "<div class=\"alert alert-info\">Средние пользовательские рейтинги платформ Xbox One и PC одинаковые.\n",
        "</div>"
      ]
    },
    {
      "cell_type": "code",
      "execution_count": null,
      "metadata": {
        "id": "zlGHq866Es5d"
      },
      "outputs": [],
      "source": [
        "df_current = df_current.dropna(subset=['user_score' ]) #удаляем строки с пропусками в user_score"
      ]
    },
    {
      "cell_type": "code",
      "execution_count": null,
      "metadata": {
        "id": "iLSFjx3sEs5e",
        "outputId": "a33907bc-5fd2-4420-d4d3-16e3a2074c05"
      },
      "outputs": [
        {
          "name": "stdout",
          "output_type": "stream",
          "text": [
            "p-значение:  0.10450507919348415\n",
            "Не получилось отвергнуть нулевую гипотезу\n"
          ]
        }
      ],
      "source": [
        "alpha = .05 \n",
        "sample_1 = df_current.query('platform == \"XOne\"')['user_score']\n",
        "sample_2 =df_current.query('platform == \"PC\"')['user_score']\n",
        "results = st.ttest_ind(\n",
        "    sample_1, \n",
        "    sample_2)\n",
        "print('p-значение: ', results.pvalue)\n",
        "\n",
        "if results.pvalue < alpha:\n",
        "    print(\"Отвергаем нулевую гипотезу\")\n",
        "else:\n",
        "    print(\"Не получилось отвергнуть нулевую гипотезу\")"
      ]
    },
    {
      "cell_type": "markdown",
      "metadata": {
        "id": "A9h6RzdEEs5e"
      },
      "source": [
        "<div class=\"alert alert-info\">\n",
        "Вывод: Средние пользовательские рейтинги жанров Action и Sports одинаковые.</div>"
      ]
    },
    {
      "cell_type": "markdown",
      "metadata": {
        "id": "6edQEIFQEs5e"
      },
      "source": [
        "<div class=\"alert alert-info\">Средние пользовательские рейтинги жанров Action и Sports одинаковые.\n",
        "</div>"
      ]
    },
    {
      "cell_type": "code",
      "execution_count": null,
      "metadata": {
        "id": "x9DQLTjyEs5e",
        "outputId": "5fd18a24-6092-4dc0-efce-2fedf0d03bf6"
      },
      "outputs": [
        {
          "name": "stdout",
          "output_type": "stream",
          "text": [
            "p-значение:  2.8711147985105864e-19\n",
            "Отвергаем нулевую гипотезу\n"
          ]
        }
      ],
      "source": [
        "alpha = .05 \n",
        "sample_1 = df_current.query('genre == \"Action\"')['user_score']\n",
        "sample_2 =df_current.query('genre == \"Sports\"')['user_score']\n",
        "results = st.ttest_ind(\n",
        "    sample_1, \n",
        "    sample_2)\n",
        "print('p-значение: ', results.pvalue)\n",
        "\n",
        "if results.pvalue < alpha:\n",
        "    print(\"Отвергаем нулевую гипотезу\")\n",
        "else:\n",
        "    print(\"Не получилось отвергнуть нулевую гипотезу\")"
      ]
    },
    {
      "cell_type": "markdown",
      "metadata": {
        "id": "IqYpwLLSEs5f"
      },
      "source": [
        "<div class=\"alert alert-info\"> Вывод: Средние пользовательские рейтинги жанров Action и Sports отличаются.\n",
        "</div>"
      ]
    },
    {
      "cell_type": "markdown",
      "metadata": {
        "id": "kdBGtPKtEs5f"
      },
      "source": [
        "Вывод:\n",
        "1) игровые платформы очень быстро (в среднем 5 лет) появляются и исчезают\n",
        "\n",
        "2) только PC держится примерно на одном уровне с небольшими скачками\n",
        "\n",
        "3) платформы с самым большим количеством выпущенных игр к 2016 года уже потеряли свою актуальность\n",
        "\n",
        "4) были выбрано наиболее прибыльные платформы с 2014 под 2016 год, к которым отнесены PS4, Xbox One, 3DS\n",
        "\n",
        "5) пользователи в разных регионах мира (Северная Америка, Европа, Япония) выбирают те же самые жанры игр с очень небольшим отличем (в Европе в топ-5 вошли гонки, в Японии в топ-5 вошли бои)\n",
        "\n",
        "6) рейтинг влияет на продажи очень опосредованно: в Северной Америке и в Европе по продажам лидируют игры с рейтингом М - для взрослых, однако это может лишь означать, что самое большое количество покупателей составялют взрослые люди\n",
        "\n",
        "7) самые популярные платформы: PS4, PS3, 3DS - эти платформы вошли в топ-5 всех регионов.\n",
        "\n",
        "Я бы рекомендовала компании делать ставку на самые популярные платформы, а также на игры для PC, так как PC выглядит достаточно стабильно на фоне постоянно появляющихся и исчезающих платформ.\n"
      ]
    }
  ],
  "metadata": {
    "ExecuteTimeLog": [
      {
        "duration": 736,
        "start_time": "2022-01-19T09:29:35.561Z"
      },
      {
        "duration": 62,
        "start_time": "2022-01-19T09:30:17.873Z"
      },
      {
        "duration": 8,
        "start_time": "2022-01-19T09:37:55.369Z"
      },
      {
        "duration": 13,
        "start_time": "2022-01-19T09:38:04.986Z"
      },
      {
        "duration": 8276,
        "start_time": "2022-01-19T09:56:52.077Z"
      },
      {
        "duration": 9,
        "start_time": "2022-01-19T09:59:20.955Z"
      },
      {
        "duration": 13,
        "start_time": "2022-01-19T09:59:22.641Z"
      },
      {
        "duration": 554,
        "start_time": "2022-01-19T09:59:26.107Z"
      },
      {
        "duration": 599,
        "start_time": "2022-01-19T09:59:38.696Z"
      },
      {
        "duration": 7241,
        "start_time": "2022-01-19T10:05:59.976Z"
      },
      {
        "duration": 249,
        "start_time": "2022-01-19T10:06:34.214Z"
      },
      {
        "duration": 3,
        "start_time": "2022-01-19T10:07:04.881Z"
      },
      {
        "duration": 3,
        "start_time": "2022-01-19T10:09:14.482Z"
      },
      {
        "duration": 13,
        "start_time": "2022-01-19T10:12:15.036Z"
      },
      {
        "duration": 541,
        "start_time": "2022-01-19T10:12:32.520Z"
      },
      {
        "duration": 6957,
        "start_time": "2022-01-19T10:20:07.778Z"
      },
      {
        "duration": 274,
        "start_time": "2022-01-19T10:22:44.640Z"
      },
      {
        "duration": 5481,
        "start_time": "2022-01-19T10:23:06.413Z"
      },
      {
        "duration": 5,
        "start_time": "2022-01-19T10:43:54.902Z"
      },
      {
        "duration": 41,
        "start_time": "2022-01-19T10:44:43.782Z"
      },
      {
        "duration": 36,
        "start_time": "2022-01-19T10:46:16.413Z"
      },
      {
        "duration": 37,
        "start_time": "2022-01-19T10:46:28.204Z"
      },
      {
        "duration": 39,
        "start_time": "2022-01-19T10:46:43.198Z"
      },
      {
        "duration": 575,
        "start_time": "2022-01-19T14:34:21.648Z"
      },
      {
        "duration": 25,
        "start_time": "2022-01-19T14:35:12.989Z"
      },
      {
        "duration": 569,
        "start_time": "2022-01-19T14:36:33.725Z"
      },
      {
        "duration": 453,
        "start_time": "2022-01-19T14:37:23.364Z"
      },
      {
        "duration": 30,
        "start_time": "2022-01-19T14:37:31.259Z"
      },
      {
        "duration": 406,
        "start_time": "2022-01-19T14:37:37.359Z"
      },
      {
        "duration": 21,
        "start_time": "2022-01-19T14:39:48.893Z"
      },
      {
        "duration": 11,
        "start_time": "2022-01-19T14:41:45.600Z"
      },
      {
        "duration": 11,
        "start_time": "2022-01-19T14:42:06.293Z"
      },
      {
        "duration": 12,
        "start_time": "2022-01-19T14:44:34.794Z"
      },
      {
        "duration": 758,
        "start_time": "2022-01-20T12:31:28.811Z"
      },
      {
        "duration": 63,
        "start_time": "2022-01-20T12:31:29.572Z"
      },
      {
        "duration": 8,
        "start_time": "2022-01-20T12:31:29.639Z"
      },
      {
        "duration": 13,
        "start_time": "2022-01-20T12:31:29.650Z"
      },
      {
        "duration": 11,
        "start_time": "2022-01-20T12:31:29.666Z"
      },
      {
        "duration": 6,
        "start_time": "2022-01-20T12:31:29.679Z"
      },
      {
        "duration": 84,
        "start_time": "2022-01-20T12:31:29.687Z"
      },
      {
        "duration": 24,
        "start_time": "2022-01-20T12:31:29.774Z"
      },
      {
        "duration": 538,
        "start_time": "2022-01-20T12:31:29.801Z"
      },
      {
        "duration": 22,
        "start_time": "2022-01-20T12:31:30.342Z"
      },
      {
        "duration": 12,
        "start_time": "2022-01-20T12:31:30.366Z"
      },
      {
        "duration": 445,
        "start_time": "2022-01-20T12:36:02.894Z"
      },
      {
        "duration": 460,
        "start_time": "2022-01-20T12:36:57.950Z"
      },
      {
        "duration": 382,
        "start_time": "2022-01-20T12:38:48.336Z"
      },
      {
        "duration": 1423,
        "start_time": "2022-01-20T12:49:54.481Z"
      },
      {
        "duration": 56,
        "start_time": "2022-01-20T12:49:55.907Z"
      },
      {
        "duration": 9,
        "start_time": "2022-01-20T12:49:55.967Z"
      },
      {
        "duration": 15,
        "start_time": "2022-01-20T12:49:55.980Z"
      },
      {
        "duration": 41,
        "start_time": "2022-01-20T12:49:55.998Z"
      },
      {
        "duration": 4,
        "start_time": "2022-01-20T12:49:56.042Z"
      },
      {
        "duration": 45,
        "start_time": "2022-01-20T12:49:56.048Z"
      },
      {
        "duration": 59,
        "start_time": "2022-01-20T12:49:56.098Z"
      },
      {
        "duration": 392,
        "start_time": "2022-01-20T12:49:56.160Z"
      },
      {
        "duration": 22,
        "start_time": "2022-01-20T12:49:56.555Z"
      },
      {
        "duration": 11,
        "start_time": "2022-01-20T12:49:56.580Z"
      },
      {
        "duration": 403,
        "start_time": "2022-01-20T12:49:56.593Z"
      },
      {
        "duration": 424,
        "start_time": "2022-01-20T12:49:56.999Z"
      },
      {
        "duration": 402,
        "start_time": "2022-01-20T12:50:34.228Z"
      },
      {
        "duration": 335,
        "start_time": "2022-01-20T12:51:16.265Z"
      },
      {
        "duration": 332,
        "start_time": "2022-01-20T12:51:27.467Z"
      },
      {
        "duration": 285,
        "start_time": "2022-01-20T12:51:43.179Z"
      },
      {
        "duration": 312,
        "start_time": "2022-01-20T12:51:52.980Z"
      },
      {
        "duration": 271,
        "start_time": "2022-01-20T12:53:04.572Z"
      },
      {
        "duration": 7600,
        "start_time": "2022-01-20T12:53:17.972Z"
      },
      {
        "duration": 293,
        "start_time": "2022-01-20T12:53:40.605Z"
      },
      {
        "duration": 303,
        "start_time": "2022-01-20T12:55:19.118Z"
      },
      {
        "duration": 4,
        "start_time": "2022-01-20T13:03:30.387Z"
      },
      {
        "duration": 295,
        "start_time": "2022-01-20T13:03:34.523Z"
      },
      {
        "duration": 296,
        "start_time": "2022-01-20T13:03:53.762Z"
      },
      {
        "duration": 610,
        "start_time": "2022-01-20T13:04:17.388Z"
      },
      {
        "duration": 667,
        "start_time": "2022-01-20T13:04:25.267Z"
      },
      {
        "duration": 14,
        "start_time": "2022-01-20T13:05:26.893Z"
      },
      {
        "duration": 395,
        "start_time": "2022-01-20T13:06:47.116Z"
      },
      {
        "duration": 364,
        "start_time": "2022-01-20T13:07:04.349Z"
      },
      {
        "duration": 263,
        "start_time": "2022-01-20T13:07:21.654Z"
      },
      {
        "duration": 274,
        "start_time": "2022-01-20T13:07:39.461Z"
      },
      {
        "duration": 415,
        "start_time": "2022-01-20T13:07:51.229Z"
      },
      {
        "duration": 692,
        "start_time": "2022-01-20T13:08:14.533Z"
      },
      {
        "duration": 1422,
        "start_time": "2022-01-20T13:14:17.966Z"
      },
      {
        "duration": 57,
        "start_time": "2022-01-20T13:14:19.391Z"
      },
      {
        "duration": 10,
        "start_time": "2022-01-20T13:14:19.452Z"
      },
      {
        "duration": 16,
        "start_time": "2022-01-20T13:14:19.465Z"
      },
      {
        "duration": 11,
        "start_time": "2022-01-20T13:14:19.483Z"
      },
      {
        "duration": 3,
        "start_time": "2022-01-20T13:14:19.532Z"
      },
      {
        "duration": 54,
        "start_time": "2022-01-20T13:14:19.537Z"
      },
      {
        "duration": 42,
        "start_time": "2022-01-20T13:14:19.594Z"
      },
      {
        "duration": 393,
        "start_time": "2022-01-20T13:14:19.639Z"
      },
      {
        "duration": 24,
        "start_time": "2022-01-20T13:14:20.034Z"
      },
      {
        "duration": 14,
        "start_time": "2022-01-20T13:14:20.061Z"
      },
      {
        "duration": 430,
        "start_time": "2022-01-20T13:14:20.077Z"
      },
      {
        "duration": 275,
        "start_time": "2022-01-20T13:14:20.510Z"
      },
      {
        "duration": 479,
        "start_time": "2022-01-20T13:22:06.106Z"
      },
      {
        "duration": 95,
        "start_time": "2022-01-20T13:22:13.621Z"
      },
      {
        "duration": 522,
        "start_time": "2022-01-20T13:22:24.582Z"
      },
      {
        "duration": 383,
        "start_time": "2022-01-20T13:22:35.070Z"
      },
      {
        "duration": 383,
        "start_time": "2022-01-20T13:22:48.950Z"
      },
      {
        "duration": 17,
        "start_time": "2022-01-20T13:28:11.145Z"
      },
      {
        "duration": 254,
        "start_time": "2022-01-20T13:28:25.745Z"
      },
      {
        "duration": 288,
        "start_time": "2022-01-20T13:32:52.531Z"
      },
      {
        "duration": 294,
        "start_time": "2022-01-20T13:36:59.958Z"
      },
      {
        "duration": 18,
        "start_time": "2022-01-20T13:37:40.446Z"
      },
      {
        "duration": 295,
        "start_time": "2022-01-20T13:38:08.021Z"
      },
      {
        "duration": 288,
        "start_time": "2022-01-20T13:38:28.471Z"
      },
      {
        "duration": 33,
        "start_time": "2022-01-20T13:52:34.462Z"
      },
      {
        "duration": 31,
        "start_time": "2022-01-20T13:59:22.891Z"
      },
      {
        "duration": 7451,
        "start_time": "2022-01-20T14:14:19.618Z"
      },
      {
        "duration": 275,
        "start_time": "2022-01-20T14:14:45.275Z"
      },
      {
        "duration": 289,
        "start_time": "2022-01-20T14:15:05.938Z"
      },
      {
        "duration": 289,
        "start_time": "2022-01-20T14:15:44.188Z"
      },
      {
        "duration": 18,
        "start_time": "2022-01-20T14:16:09.530Z"
      },
      {
        "duration": 301,
        "start_time": "2022-01-20T14:16:13.434Z"
      },
      {
        "duration": 18,
        "start_time": "2022-01-20T14:16:45.251Z"
      },
      {
        "duration": 285,
        "start_time": "2022-01-20T14:16:53.892Z"
      },
      {
        "duration": 20,
        "start_time": "2022-01-20T14:17:23.236Z"
      },
      {
        "duration": 289,
        "start_time": "2022-01-20T14:17:32.412Z"
      },
      {
        "duration": 17,
        "start_time": "2022-01-20T14:17:56.469Z"
      },
      {
        "duration": 301,
        "start_time": "2022-01-20T14:17:58.261Z"
      },
      {
        "duration": 19,
        "start_time": "2022-01-20T14:18:15.796Z"
      },
      {
        "duration": 290,
        "start_time": "2022-01-20T14:18:25.692Z"
      },
      {
        "duration": 18,
        "start_time": "2022-01-20T14:18:47.868Z"
      },
      {
        "duration": 310,
        "start_time": "2022-01-20T14:18:55.596Z"
      },
      {
        "duration": 1408,
        "start_time": "2022-01-20T14:19:33.904Z"
      },
      {
        "duration": 57,
        "start_time": "2022-01-20T14:19:35.315Z"
      },
      {
        "duration": 9,
        "start_time": "2022-01-20T14:19:35.376Z"
      },
      {
        "duration": 17,
        "start_time": "2022-01-20T14:19:35.388Z"
      },
      {
        "duration": 35,
        "start_time": "2022-01-20T14:19:35.408Z"
      },
      {
        "duration": 10,
        "start_time": "2022-01-20T14:19:35.445Z"
      },
      {
        "duration": 51,
        "start_time": "2022-01-20T14:19:35.457Z"
      },
      {
        "duration": 26,
        "start_time": "2022-01-20T14:19:35.533Z"
      },
      {
        "duration": 377,
        "start_time": "2022-01-20T14:19:35.562Z"
      },
      {
        "duration": 23,
        "start_time": "2022-01-20T14:19:35.941Z"
      },
      {
        "duration": 14,
        "start_time": "2022-01-20T14:19:35.966Z"
      },
      {
        "duration": 440,
        "start_time": "2022-01-20T14:19:35.982Z"
      },
      {
        "duration": 1144,
        "start_time": "2022-01-20T14:19:35.281Z"
      },
      {
        "duration": 1137,
        "start_time": "2022-01-20T14:19:35.289Z"
      },
      {
        "duration": 1136,
        "start_time": "2022-01-20T14:19:35.292Z"
      },
      {
        "duration": 1134,
        "start_time": "2022-01-20T14:19:35.295Z"
      },
      {
        "duration": 1134,
        "start_time": "2022-01-20T14:19:35.297Z"
      },
      {
        "duration": 1131,
        "start_time": "2022-01-20T14:19:35.301Z"
      },
      {
        "duration": 1130,
        "start_time": "2022-01-20T14:19:35.304Z"
      },
      {
        "duration": 1129,
        "start_time": "2022-01-20T14:19:35.306Z"
      },
      {
        "duration": 1127,
        "start_time": "2022-01-20T14:19:35.309Z"
      },
      {
        "duration": 1127,
        "start_time": "2022-01-20T14:19:35.311Z"
      },
      {
        "duration": 1125,
        "start_time": "2022-01-20T14:19:35.314Z"
      },
      {
        "duration": 1117,
        "start_time": "2022-01-20T14:19:35.324Z"
      },
      {
        "duration": 1115,
        "start_time": "2022-01-20T14:19:35.327Z"
      },
      {
        "duration": 1399,
        "start_time": "2022-01-20T14:20:25.789Z"
      },
      {
        "duration": 59,
        "start_time": "2022-01-20T14:20:27.191Z"
      },
      {
        "duration": 9,
        "start_time": "2022-01-20T14:20:27.254Z"
      },
      {
        "duration": 16,
        "start_time": "2022-01-20T14:20:27.266Z"
      },
      {
        "duration": 47,
        "start_time": "2022-01-20T14:20:27.285Z"
      },
      {
        "duration": 4,
        "start_time": "2022-01-20T14:20:27.335Z"
      },
      {
        "duration": 49,
        "start_time": "2022-01-20T14:20:27.342Z"
      },
      {
        "duration": 51,
        "start_time": "2022-01-20T14:20:27.396Z"
      },
      {
        "duration": 408,
        "start_time": "2022-01-20T14:20:27.450Z"
      },
      {
        "duration": 23,
        "start_time": "2022-01-20T14:20:27.860Z"
      },
      {
        "duration": 13,
        "start_time": "2022-01-20T14:20:27.885Z"
      },
      {
        "duration": 427,
        "start_time": "2022-01-20T14:20:27.900Z"
      },
      {
        "duration": 17,
        "start_time": "2022-01-20T14:20:28.330Z"
      },
      {
        "duration": 17,
        "start_time": "2022-01-20T14:20:28.350Z"
      },
      {
        "duration": 309,
        "start_time": "2022-01-20T14:20:28.369Z"
      },
      {
        "duration": 322,
        "start_time": "2022-01-20T14:20:28.680Z"
      },
      {
        "duration": 305,
        "start_time": "2022-01-20T14:20:29.005Z"
      },
      {
        "duration": 27,
        "start_time": "2022-01-20T14:20:29.312Z"
      },
      {
        "duration": 376,
        "start_time": "2022-01-20T14:20:29.341Z"
      },
      {
        "duration": 23,
        "start_time": "2022-01-20T14:20:29.720Z"
      },
      {
        "duration": 313,
        "start_time": "2022-01-20T14:20:29.745Z"
      },
      {
        "duration": 18,
        "start_time": "2022-01-20T14:20:30.060Z"
      },
      {
        "duration": 471,
        "start_time": "2022-01-20T14:20:30.082Z"
      },
      {
        "duration": 18,
        "start_time": "2022-01-20T14:20:30.555Z"
      },
      {
        "duration": 343,
        "start_time": "2022-01-20T14:20:30.575Z"
      },
      {
        "duration": 1193,
        "start_time": "2022-01-22T12:46:53.493Z"
      },
      {
        "duration": 49,
        "start_time": "2022-01-22T12:46:54.688Z"
      },
      {
        "duration": 6,
        "start_time": "2022-01-22T12:46:54.742Z"
      },
      {
        "duration": 36,
        "start_time": "2022-01-22T12:46:54.749Z"
      },
      {
        "duration": 28,
        "start_time": "2022-01-22T12:46:54.786Z"
      },
      {
        "duration": 25,
        "start_time": "2022-01-22T12:46:54.816Z"
      },
      {
        "duration": 57,
        "start_time": "2022-01-22T12:46:54.843Z"
      },
      {
        "duration": 17,
        "start_time": "2022-01-22T12:46:54.903Z"
      },
      {
        "duration": 335,
        "start_time": "2022-01-22T12:46:54.922Z"
      },
      {
        "duration": 16,
        "start_time": "2022-01-22T12:46:55.261Z"
      },
      {
        "duration": 16,
        "start_time": "2022-01-22T12:46:55.279Z"
      },
      {
        "duration": 328,
        "start_time": "2022-01-22T12:46:55.297Z"
      },
      {
        "duration": 14,
        "start_time": "2022-01-22T12:46:55.628Z"
      },
      {
        "duration": 37,
        "start_time": "2022-01-22T12:46:55.643Z"
      },
      {
        "duration": 199,
        "start_time": "2022-01-22T12:46:55.682Z"
      },
      {
        "duration": 299,
        "start_time": "2022-01-22T12:46:55.884Z"
      },
      {
        "duration": 306,
        "start_time": "2022-01-22T12:46:56.185Z"
      },
      {
        "duration": 16,
        "start_time": "2022-01-22T12:46:56.493Z"
      },
      {
        "duration": 266,
        "start_time": "2022-01-22T12:46:56.511Z"
      },
      {
        "duration": 15,
        "start_time": "2022-01-22T12:46:56.779Z"
      },
      {
        "duration": 257,
        "start_time": "2022-01-22T12:46:56.796Z"
      },
      {
        "duration": 14,
        "start_time": "2022-01-22T12:46:57.056Z"
      },
      {
        "duration": 280,
        "start_time": "2022-01-22T12:46:57.072Z"
      },
      {
        "duration": 17,
        "start_time": "2022-01-22T12:46:57.354Z"
      },
      {
        "duration": 208,
        "start_time": "2022-01-22T12:46:57.372Z"
      },
      {
        "duration": 15,
        "start_time": "2022-01-22T12:47:48.125Z"
      },
      {
        "duration": 14,
        "start_time": "2022-01-22T12:47:57.307Z"
      },
      {
        "duration": 26,
        "start_time": "2022-01-22T12:48:49.548Z"
      },
      {
        "duration": 17,
        "start_time": "2022-01-22T12:50:38.476Z"
      },
      {
        "duration": 16,
        "start_time": "2022-01-22T12:51:07.928Z"
      },
      {
        "duration": 16,
        "start_time": "2022-01-22T12:51:15.436Z"
      },
      {
        "duration": 28,
        "start_time": "2022-01-22T12:51:25.491Z"
      },
      {
        "duration": 17,
        "start_time": "2022-01-22T12:52:19.564Z"
      },
      {
        "duration": 16,
        "start_time": "2022-01-22T12:53:30.916Z"
      },
      {
        "duration": 1125,
        "start_time": "2022-01-22T12:57:45.295Z"
      },
      {
        "duration": 47,
        "start_time": "2022-01-22T12:57:46.422Z"
      },
      {
        "duration": 5,
        "start_time": "2022-01-22T12:57:46.474Z"
      },
      {
        "duration": 11,
        "start_time": "2022-01-22T12:57:46.481Z"
      },
      {
        "duration": 13,
        "start_time": "2022-01-22T12:57:46.494Z"
      },
      {
        "duration": 3,
        "start_time": "2022-01-22T12:57:46.509Z"
      },
      {
        "duration": 58,
        "start_time": "2022-01-22T12:57:46.515Z"
      },
      {
        "duration": 19,
        "start_time": "2022-01-22T12:57:46.576Z"
      },
      {
        "duration": 297,
        "start_time": "2022-01-22T12:57:46.597Z"
      },
      {
        "duration": 17,
        "start_time": "2022-01-22T12:57:46.895Z"
      },
      {
        "duration": 10,
        "start_time": "2022-01-22T12:57:46.913Z"
      },
      {
        "duration": 316,
        "start_time": "2022-01-22T12:57:46.924Z"
      },
      {
        "duration": 22,
        "start_time": "2022-01-22T12:57:47.242Z"
      },
      {
        "duration": 13,
        "start_time": "2022-01-22T12:57:47.266Z"
      },
      {
        "duration": 184,
        "start_time": "2022-01-22T12:57:47.280Z"
      },
      {
        "duration": 187,
        "start_time": "2022-01-22T12:57:47.465Z"
      },
      {
        "duration": 194,
        "start_time": "2022-01-22T12:57:47.654Z"
      },
      {
        "duration": 16,
        "start_time": "2022-01-22T12:57:47.849Z"
      },
      {
        "duration": 193,
        "start_time": "2022-01-22T12:57:47.867Z"
      },
      {
        "duration": 13,
        "start_time": "2022-01-22T12:57:48.062Z"
      },
      {
        "duration": 198,
        "start_time": "2022-01-22T12:57:48.076Z"
      },
      {
        "duration": 12,
        "start_time": "2022-01-22T12:57:48.276Z"
      },
      {
        "duration": 263,
        "start_time": "2022-01-22T12:57:48.289Z"
      },
      {
        "duration": 17,
        "start_time": "2022-01-22T12:57:48.554Z"
      },
      {
        "duration": 203,
        "start_time": "2022-01-22T12:57:48.572Z"
      },
      {
        "duration": 300,
        "start_time": "2022-01-22T12:57:48.778Z"
      },
      {
        "duration": -68,
        "start_time": "2022-01-22T12:57:49.148Z"
      },
      {
        "duration": -70,
        "start_time": "2022-01-22T12:57:49.151Z"
      },
      {
        "duration": -71,
        "start_time": "2022-01-22T12:57:49.153Z"
      },
      {
        "duration": 1230,
        "start_time": "2022-01-22T12:58:45.984Z"
      },
      {
        "duration": 48,
        "start_time": "2022-01-22T12:58:47.216Z"
      },
      {
        "duration": 5,
        "start_time": "2022-01-22T12:58:47.266Z"
      },
      {
        "duration": 19,
        "start_time": "2022-01-22T12:58:47.273Z"
      },
      {
        "duration": 25,
        "start_time": "2022-01-22T12:58:47.294Z"
      },
      {
        "duration": 5,
        "start_time": "2022-01-22T12:58:47.321Z"
      },
      {
        "duration": 59,
        "start_time": "2022-01-22T12:58:47.328Z"
      },
      {
        "duration": 19,
        "start_time": "2022-01-22T12:58:47.390Z"
      },
      {
        "duration": 306,
        "start_time": "2022-01-22T12:58:47.411Z"
      },
      {
        "duration": 16,
        "start_time": "2022-01-22T12:58:47.719Z"
      },
      {
        "duration": 18,
        "start_time": "2022-01-22T12:58:47.737Z"
      },
      {
        "duration": 335,
        "start_time": "2022-01-22T12:58:47.757Z"
      },
      {
        "duration": 13,
        "start_time": "2022-01-22T12:58:48.094Z"
      },
      {
        "duration": 38,
        "start_time": "2022-01-22T12:58:48.109Z"
      },
      {
        "duration": 263,
        "start_time": "2022-01-22T12:58:48.149Z"
      },
      {
        "duration": 190,
        "start_time": "2022-01-22T12:58:48.413Z"
      },
      {
        "duration": 191,
        "start_time": "2022-01-22T12:58:48.605Z"
      },
      {
        "duration": 13,
        "start_time": "2022-01-22T12:58:48.798Z"
      },
      {
        "duration": 196,
        "start_time": "2022-01-22T12:58:48.812Z"
      },
      {
        "duration": 17,
        "start_time": "2022-01-22T12:58:49.010Z"
      },
      {
        "duration": 204,
        "start_time": "2022-01-22T12:58:49.029Z"
      },
      {
        "duration": 12,
        "start_time": "2022-01-22T12:58:49.235Z"
      },
      {
        "duration": 396,
        "start_time": "2022-01-22T12:58:49.250Z"
      },
      {
        "duration": 24,
        "start_time": "2022-01-22T12:58:49.648Z"
      },
      {
        "duration": 316,
        "start_time": "2022-01-22T12:58:49.674Z"
      },
      {
        "duration": 306,
        "start_time": "2022-01-22T12:58:49.992Z"
      },
      {
        "duration": -43,
        "start_time": "2022-01-22T12:58:50.343Z"
      },
      {
        "duration": -42,
        "start_time": "2022-01-22T12:58:50.344Z"
      },
      {
        "duration": -45,
        "start_time": "2022-01-22T12:58:50.348Z"
      },
      {
        "duration": 256,
        "start_time": "2022-01-22T12:59:42.661Z"
      },
      {
        "duration": 12,
        "start_time": "2022-01-22T13:00:01.555Z"
      },
      {
        "duration": 18,
        "start_time": "2022-01-22T13:01:25.645Z"
      },
      {
        "duration": 17,
        "start_time": "2022-01-22T13:01:44.088Z"
      },
      {
        "duration": 16,
        "start_time": "2022-01-22T13:02:00.409Z"
      },
      {
        "duration": 1184,
        "start_time": "2022-01-22T13:02:23.651Z"
      },
      {
        "duration": 46,
        "start_time": "2022-01-22T13:02:24.837Z"
      },
      {
        "duration": 6,
        "start_time": "2022-01-22T13:02:24.885Z"
      },
      {
        "duration": 10,
        "start_time": "2022-01-22T13:02:24.893Z"
      },
      {
        "duration": 9,
        "start_time": "2022-01-22T13:02:24.905Z"
      },
      {
        "duration": 6,
        "start_time": "2022-01-22T13:02:24.916Z"
      },
      {
        "duration": 72,
        "start_time": "2022-01-22T13:02:24.924Z"
      },
      {
        "duration": 21,
        "start_time": "2022-01-22T13:02:25.000Z"
      },
      {
        "duration": 323,
        "start_time": "2022-01-22T13:02:25.024Z"
      },
      {
        "duration": 26,
        "start_time": "2022-01-22T13:02:25.349Z"
      },
      {
        "duration": 10,
        "start_time": "2022-01-22T13:02:25.377Z"
      },
      {
        "duration": 280,
        "start_time": "2022-01-22T13:02:25.390Z"
      },
      {
        "duration": 15,
        "start_time": "2022-01-22T13:02:25.672Z"
      },
      {
        "duration": 35,
        "start_time": "2022-01-22T13:02:25.689Z"
      },
      {
        "duration": 206,
        "start_time": "2022-01-22T13:02:25.726Z"
      },
      {
        "duration": 186,
        "start_time": "2022-01-22T13:02:25.934Z"
      },
      {
        "duration": 192,
        "start_time": "2022-01-22T13:02:26.122Z"
      },
      {
        "duration": 13,
        "start_time": "2022-01-22T13:02:26.315Z"
      },
      {
        "duration": 186,
        "start_time": "2022-01-22T13:02:26.329Z"
      },
      {
        "duration": 12,
        "start_time": "2022-01-22T13:02:26.517Z"
      },
      {
        "duration": 204,
        "start_time": "2022-01-22T13:02:26.531Z"
      },
      {
        "duration": 24,
        "start_time": "2022-01-22T13:02:26.737Z"
      },
      {
        "duration": 255,
        "start_time": "2022-01-22T13:02:26.765Z"
      },
      {
        "duration": 12,
        "start_time": "2022-01-22T13:02:27.022Z"
      },
      {
        "duration": 196,
        "start_time": "2022-01-22T13:02:27.036Z"
      },
      {
        "duration": 16,
        "start_time": "2022-01-22T13:02:27.233Z"
      },
      {
        "duration": 29,
        "start_time": "2022-01-22T13:02:27.251Z"
      },
      {
        "duration": 22,
        "start_time": "2022-01-22T13:02:27.282Z"
      },
      {
        "duration": 19,
        "start_time": "2022-01-22T13:02:27.306Z"
      },
      {
        "duration": 209,
        "start_time": "2022-01-22T13:04:57.653Z"
      },
      {
        "duration": 188,
        "start_time": "2022-01-22T13:06:38.117Z"
      },
      {
        "duration": 184,
        "start_time": "2022-01-22T13:07:28.098Z"
      },
      {
        "duration": 195,
        "start_time": "2022-01-22T13:08:01.345Z"
      },
      {
        "duration": 71,
        "start_time": "2022-01-22T13:08:40.807Z"
      },
      {
        "duration": 187,
        "start_time": "2022-01-22T13:09:01.655Z"
      },
      {
        "duration": 78,
        "start_time": "2022-01-22T13:09:36.346Z"
      },
      {
        "duration": 75,
        "start_time": "2022-01-22T13:10:10.328Z"
      },
      {
        "duration": 187,
        "start_time": "2022-01-22T13:10:29.600Z"
      },
      {
        "duration": 193,
        "start_time": "2022-01-22T13:21:47.116Z"
      },
      {
        "duration": 324,
        "start_time": "2022-01-22T13:22:12.139Z"
      },
      {
        "duration": 170,
        "start_time": "2022-01-22T13:22:34.158Z"
      },
      {
        "duration": 6370,
        "start_time": "2022-01-22T13:23:28.382Z"
      },
      {
        "duration": 202,
        "start_time": "2022-01-22T13:23:59.971Z"
      },
      {
        "duration": 5209,
        "start_time": "2022-01-22T13:24:38.764Z"
      },
      {
        "duration": 1177,
        "start_time": "2022-01-22T13:25:06.171Z"
      },
      {
        "duration": 47,
        "start_time": "2022-01-22T13:25:07.350Z"
      },
      {
        "duration": 5,
        "start_time": "2022-01-22T13:25:07.401Z"
      },
      {
        "duration": 21,
        "start_time": "2022-01-22T13:25:07.408Z"
      },
      {
        "duration": 7,
        "start_time": "2022-01-22T13:25:07.431Z"
      },
      {
        "duration": 5,
        "start_time": "2022-01-22T13:25:07.439Z"
      },
      {
        "duration": 37,
        "start_time": "2022-01-22T13:25:07.445Z"
      },
      {
        "duration": 17,
        "start_time": "2022-01-22T13:25:07.484Z"
      },
      {
        "duration": 282,
        "start_time": "2022-01-22T13:25:07.503Z"
      },
      {
        "duration": 15,
        "start_time": "2022-01-22T13:25:07.787Z"
      },
      {
        "duration": 9,
        "start_time": "2022-01-22T13:25:07.804Z"
      },
      {
        "duration": 318,
        "start_time": "2022-01-22T13:25:07.815Z"
      },
      {
        "duration": 12,
        "start_time": "2022-01-22T13:25:08.135Z"
      },
      {
        "duration": 26,
        "start_time": "2022-01-22T13:25:08.148Z"
      },
      {
        "duration": 171,
        "start_time": "2022-01-22T13:25:08.175Z"
      },
      {
        "duration": 195,
        "start_time": "2022-01-22T13:25:08.348Z"
      },
      {
        "duration": 208,
        "start_time": "2022-01-22T13:25:08.546Z"
      },
      {
        "duration": 18,
        "start_time": "2022-01-22T13:25:08.760Z"
      },
      {
        "duration": 204,
        "start_time": "2022-01-22T13:25:08.780Z"
      },
      {
        "duration": 16,
        "start_time": "2022-01-22T13:25:08.987Z"
      },
      {
        "duration": 208,
        "start_time": "2022-01-22T13:25:09.004Z"
      },
      {
        "duration": 15,
        "start_time": "2022-01-22T13:25:09.214Z"
      },
      {
        "duration": 340,
        "start_time": "2022-01-22T13:25:09.231Z"
      },
      {
        "duration": 14,
        "start_time": "2022-01-22T13:25:09.573Z"
      },
      {
        "duration": 229,
        "start_time": "2022-01-22T13:25:09.588Z"
      },
      {
        "duration": 16,
        "start_time": "2022-01-22T13:25:09.821Z"
      },
      {
        "duration": 38,
        "start_time": "2022-01-22T13:25:09.839Z"
      },
      {
        "duration": 21,
        "start_time": "2022-01-22T13:25:09.879Z"
      },
      {
        "duration": 16,
        "start_time": "2022-01-22T13:25:09.901Z"
      },
      {
        "duration": 247,
        "start_time": "2022-01-22T13:25:09.919Z"
      },
      {
        "duration": 221,
        "start_time": "2022-01-22T13:25:10.169Z"
      },
      {
        "duration": 205,
        "start_time": "2022-01-22T13:25:10.391Z"
      },
      {
        "duration": 217,
        "start_time": "2022-01-22T13:25:10.598Z"
      },
      {
        "duration": 211,
        "start_time": "2022-01-22T13:25:10.817Z"
      },
      {
        "duration": 197,
        "start_time": "2022-01-22T13:26:31.655Z"
      },
      {
        "duration": 173,
        "start_time": "2022-01-22T13:26:48.268Z"
      },
      {
        "duration": 19,
        "start_time": "2022-01-22T13:35:01.967Z"
      },
      {
        "duration": 18,
        "start_time": "2022-01-22T13:35:21.287Z"
      },
      {
        "duration": 18,
        "start_time": "2022-01-22T13:35:45.197Z"
      },
      {
        "duration": 723,
        "start_time": "2022-01-22T13:40:40.386Z"
      },
      {
        "duration": 215,
        "start_time": "2022-01-22T13:40:48.481Z"
      },
      {
        "duration": 72,
        "start_time": "2022-01-22T13:45:55.618Z"
      },
      {
        "duration": 220,
        "start_time": "2022-01-22T13:46:10.757Z"
      },
      {
        "duration": 21,
        "start_time": "2022-01-22T13:47:22.012Z"
      },
      {
        "duration": 148,
        "start_time": "2022-01-22T13:50:01.772Z"
      },
      {
        "duration": 266,
        "start_time": "2022-01-22T13:58:06.232Z"
      },
      {
        "duration": 324,
        "start_time": "2022-01-22T13:59:16.441Z"
      },
      {
        "duration": 297,
        "start_time": "2022-01-22T13:59:36.808Z"
      },
      {
        "duration": 283,
        "start_time": "2022-01-22T14:00:03.682Z"
      },
      {
        "duration": 388,
        "start_time": "2022-01-22T14:00:10.190Z"
      },
      {
        "duration": 548,
        "start_time": "2022-01-22T14:00:38.788Z"
      },
      {
        "duration": 302,
        "start_time": "2022-01-22T14:00:49.937Z"
      },
      {
        "duration": 4,
        "start_time": "2022-01-22T14:01:50.490Z"
      },
      {
        "duration": 5,
        "start_time": "2022-01-22T14:02:11.377Z"
      },
      {
        "duration": 16,
        "start_time": "2022-01-22T14:04:07.240Z"
      },
      {
        "duration": 5,
        "start_time": "2022-01-22T14:05:57.955Z"
      },
      {
        "duration": 5,
        "start_time": "2022-01-22T14:06:16.484Z"
      },
      {
        "duration": 71,
        "start_time": "2022-01-22T14:07:08.972Z"
      },
      {
        "duration": 5892,
        "start_time": "2022-01-22T14:09:41.528Z"
      },
      {
        "duration": 26,
        "start_time": "2022-01-22T17:40:46.375Z"
      },
      {
        "duration": 190,
        "start_time": "2022-01-22T17:42:02.122Z"
      },
      {
        "duration": 353,
        "start_time": "2022-01-22T17:42:51.491Z"
      },
      {
        "duration": 477,
        "start_time": "2022-01-22T17:43:06.925Z"
      },
      {
        "duration": 303,
        "start_time": "2022-01-22T17:43:32.272Z"
      },
      {
        "duration": 209,
        "start_time": "2022-01-22T17:44:55.921Z"
      },
      {
        "duration": 6,
        "start_time": "2022-01-22T17:45:01.378Z"
      },
      {
        "duration": 309,
        "start_time": "2022-01-22T17:45:03.527Z"
      },
      {
        "duration": 19,
        "start_time": "2022-01-22T17:46:30.384Z"
      },
      {
        "duration": 140,
        "start_time": "2022-01-22T17:46:36.107Z"
      },
      {
        "duration": 5,
        "start_time": "2022-01-22T17:47:44.239Z"
      },
      {
        "duration": 6353,
        "start_time": "2022-01-22T17:47:47.497Z"
      },
      {
        "duration": 410,
        "start_time": "2022-01-22T17:48:52.778Z"
      },
      {
        "duration": 281,
        "start_time": "2022-01-22T17:48:56.901Z"
      },
      {
        "duration": 5,
        "start_time": "2022-01-22T17:49:00.650Z"
      },
      {
        "duration": 5,
        "start_time": "2022-01-22T17:49:02.889Z"
      },
      {
        "duration": 5,
        "start_time": "2022-01-22T17:49:04.594Z"
      },
      {
        "duration": 5548,
        "start_time": "2022-01-22T17:49:09.197Z"
      },
      {
        "duration": 90,
        "start_time": "2022-01-22T17:51:13.120Z"
      },
      {
        "duration": 21,
        "start_time": "2022-01-22T17:51:26.996Z"
      },
      {
        "duration": 1541,
        "start_time": "2022-01-23T07:05:29.060Z"
      },
      {
        "duration": 55,
        "start_time": "2022-01-23T07:05:30.603Z"
      },
      {
        "duration": 8,
        "start_time": "2022-01-23T07:05:30.664Z"
      },
      {
        "duration": 31,
        "start_time": "2022-01-23T07:05:30.675Z"
      },
      {
        "duration": 26,
        "start_time": "2022-01-23T07:05:30.708Z"
      },
      {
        "duration": 12,
        "start_time": "2022-01-23T07:05:30.737Z"
      },
      {
        "duration": 51,
        "start_time": "2022-01-23T07:05:30.754Z"
      },
      {
        "duration": 44,
        "start_time": "2022-01-23T07:05:30.808Z"
      },
      {
        "duration": 409,
        "start_time": "2022-01-23T07:05:30.855Z"
      },
      {
        "duration": 24,
        "start_time": "2022-01-23T07:05:31.266Z"
      },
      {
        "duration": 12,
        "start_time": "2022-01-23T07:05:31.293Z"
      },
      {
        "duration": 309,
        "start_time": "2022-01-23T07:05:31.308Z"
      },
      {
        "duration": 26,
        "start_time": "2022-01-23T07:05:31.619Z"
      },
      {
        "duration": 18,
        "start_time": "2022-01-23T07:05:31.647Z"
      },
      {
        "duration": 289,
        "start_time": "2022-01-23T07:05:31.667Z"
      },
      {
        "duration": 308,
        "start_time": "2022-01-23T07:05:31.959Z"
      },
      {
        "duration": 296,
        "start_time": "2022-01-23T07:05:32.269Z"
      },
      {
        "duration": 18,
        "start_time": "2022-01-23T07:05:32.567Z"
      },
      {
        "duration": 292,
        "start_time": "2022-01-23T07:05:32.587Z"
      },
      {
        "duration": 18,
        "start_time": "2022-01-23T07:05:32.881Z"
      },
      {
        "duration": 325,
        "start_time": "2022-01-23T07:05:32.901Z"
      },
      {
        "duration": 17,
        "start_time": "2022-01-23T07:05:33.235Z"
      },
      {
        "duration": 368,
        "start_time": "2022-01-23T07:05:33.255Z"
      },
      {
        "duration": 22,
        "start_time": "2022-01-23T07:05:33.625Z"
      },
      {
        "duration": 312,
        "start_time": "2022-01-23T07:05:33.649Z"
      },
      {
        "duration": 26,
        "start_time": "2022-01-23T07:05:33.965Z"
      },
      {
        "duration": 51,
        "start_time": "2022-01-23T07:05:33.994Z"
      },
      {
        "duration": 32,
        "start_time": "2022-01-23T07:05:34.047Z"
      },
      {
        "duration": 53,
        "start_time": "2022-01-23T07:05:34.081Z"
      },
      {
        "duration": 315,
        "start_time": "2022-01-23T07:05:34.136Z"
      },
      {
        "duration": 324,
        "start_time": "2022-01-23T07:05:34.454Z"
      },
      {
        "duration": 303,
        "start_time": "2022-01-23T07:05:34.780Z"
      },
      {
        "duration": 319,
        "start_time": "2022-01-23T07:05:35.085Z"
      },
      {
        "duration": 314,
        "start_time": "2022-01-23T07:05:35.407Z"
      },
      {
        "duration": 30,
        "start_time": "2022-01-23T07:05:35.723Z"
      },
      {
        "duration": 26,
        "start_time": "2022-01-23T07:05:35.755Z"
      },
      {
        "duration": 53,
        "start_time": "2022-01-23T07:05:35.783Z"
      },
      {
        "duration": 31,
        "start_time": "2022-01-23T07:05:35.839Z"
      },
      {
        "duration": 248,
        "start_time": "2022-01-23T07:05:35.873Z"
      },
      {
        "duration": 416,
        "start_time": "2022-01-23T07:05:36.124Z"
      },
      {
        "duration": 383,
        "start_time": "2022-01-23T07:05:36.543Z"
      },
      {
        "duration": 7,
        "start_time": "2022-01-23T07:05:36.928Z"
      },
      {
        "duration": 6,
        "start_time": "2022-01-23T07:05:36.937Z"
      },
      {
        "duration": 7,
        "start_time": "2022-01-23T07:05:36.945Z"
      },
      {
        "duration": 28,
        "start_time": "2022-01-23T07:05:36.955Z"
      },
      {
        "duration": 87,
        "start_time": "2022-01-23T07:05:36.985Z"
      },
      {
        "duration": 10,
        "start_time": "2022-01-23T07:07:17.691Z"
      },
      {
        "duration": 419,
        "start_time": "2022-01-23T07:07:34.030Z"
      },
      {
        "duration": 16,
        "start_time": "2022-01-23T07:08:42.067Z"
      },
      {
        "duration": 18,
        "start_time": "2022-01-23T07:08:56.186Z"
      },
      {
        "duration": 25,
        "start_time": "2022-01-23T07:08:58.958Z"
      },
      {
        "duration": 211,
        "start_time": "2022-01-23T07:09:11.167Z"
      },
      {
        "duration": 7,
        "start_time": "2022-01-23T07:10:33.210Z"
      },
      {
        "duration": 406,
        "start_time": "2022-01-23T07:10:34.863Z"
      },
      {
        "duration": 410,
        "start_time": "2022-01-23T07:10:48.849Z"
      },
      {
        "duration": 8,
        "start_time": "2022-01-23T07:11:02.351Z"
      },
      {
        "duration": 9,
        "start_time": "2022-01-23T07:11:52.870Z"
      },
      {
        "duration": 8,
        "start_time": "2022-01-23T07:12:19.614Z"
      },
      {
        "duration": 6,
        "start_time": "2022-01-23T07:12:38.441Z"
      },
      {
        "duration": 376,
        "start_time": "2022-01-23T07:13:01.776Z"
      },
      {
        "duration": 7,
        "start_time": "2022-01-23T07:13:19.896Z"
      },
      {
        "duration": 27,
        "start_time": "2022-01-23T07:13:44.654Z"
      },
      {
        "duration": 296,
        "start_time": "2022-01-23T07:16:16.589Z"
      },
      {
        "duration": 397,
        "start_time": "2022-01-23T07:16:30.254Z"
      },
      {
        "duration": 22,
        "start_time": "2022-01-23T07:16:38.410Z"
      },
      {
        "duration": 24,
        "start_time": "2022-01-23T07:16:59.435Z"
      },
      {
        "duration": 98,
        "start_time": "2022-01-23T07:17:23.353Z"
      },
      {
        "duration": 20,
        "start_time": "2022-01-23T07:17:30.776Z"
      },
      {
        "duration": 91,
        "start_time": "2022-01-23T07:17:51.369Z"
      },
      {
        "duration": 21,
        "start_time": "2022-01-23T07:17:58.855Z"
      },
      {
        "duration": 301,
        "start_time": "2022-01-23T07:18:29.269Z"
      },
      {
        "duration": 21,
        "start_time": "2022-01-23T07:18:44.214Z"
      },
      {
        "duration": 20,
        "start_time": "2022-01-23T07:18:55.729Z"
      },
      {
        "duration": 19,
        "start_time": "2022-01-23T07:19:20.731Z"
      },
      {
        "duration": 19,
        "start_time": "2022-01-23T07:19:53.311Z"
      },
      {
        "duration": 20,
        "start_time": "2022-01-23T07:22:34.768Z"
      },
      {
        "duration": 20,
        "start_time": "2022-01-23T07:23:01.004Z"
      },
      {
        "duration": 20,
        "start_time": "2022-01-23T07:23:30.172Z"
      },
      {
        "duration": 7,
        "start_time": "2022-01-23T07:25:49.027Z"
      },
      {
        "duration": 7,
        "start_time": "2022-01-23T07:26:28.685Z"
      },
      {
        "duration": 297,
        "start_time": "2022-01-23T07:26:45.008Z"
      },
      {
        "duration": 7,
        "start_time": "2022-01-23T07:26:52.490Z"
      },
      {
        "duration": 281,
        "start_time": "2022-01-23T07:28:06.633Z"
      },
      {
        "duration": 8,
        "start_time": "2022-01-23T07:28:14.814Z"
      },
      {
        "duration": 6,
        "start_time": "2022-01-23T07:28:57.309Z"
      },
      {
        "duration": 6,
        "start_time": "2022-01-23T07:29:47.969Z"
      },
      {
        "duration": 7,
        "start_time": "2022-01-23T07:31:05.165Z"
      },
      {
        "duration": 6,
        "start_time": "2022-01-23T07:31:16.183Z"
      },
      {
        "duration": 12,
        "start_time": "2022-01-23T07:33:05.753Z"
      },
      {
        "duration": 285,
        "start_time": "2022-01-23T07:34:15.781Z"
      },
      {
        "duration": 11,
        "start_time": "2022-01-23T07:34:22.571Z"
      },
      {
        "duration": 7,
        "start_time": "2022-01-23T07:34:30.472Z"
      },
      {
        "duration": 10,
        "start_time": "2022-01-23T07:37:44.546Z"
      },
      {
        "duration": 6,
        "start_time": "2022-01-23T07:37:53.435Z"
      },
      {
        "duration": 9,
        "start_time": "2022-01-23T07:38:06.354Z"
      },
      {
        "duration": 9,
        "start_time": "2022-01-23T07:38:28.416Z"
      },
      {
        "duration": 10,
        "start_time": "2022-01-23T07:39:11.302Z"
      },
      {
        "duration": 280,
        "start_time": "2022-01-23T07:43:13.492Z"
      },
      {
        "duration": 3,
        "start_time": "2022-01-23T07:43:43.587Z"
      },
      {
        "duration": 12,
        "start_time": "2022-01-23T07:43:45.475Z"
      },
      {
        "duration": 15,
        "start_time": "2022-01-23T07:44:16.715Z"
      },
      {
        "duration": 12,
        "start_time": "2022-01-23T07:45:26.853Z"
      },
      {
        "duration": 13,
        "start_time": "2022-01-23T07:46:43.686Z"
      },
      {
        "duration": 7,
        "start_time": "2022-01-23T07:50:07.253Z"
      },
      {
        "duration": 8,
        "start_time": "2022-01-23T07:54:09.476Z"
      },
      {
        "duration": 8,
        "start_time": "2022-01-23T07:54:34.918Z"
      },
      {
        "duration": 7,
        "start_time": "2022-01-23T07:54:47.471Z"
      },
      {
        "duration": 14,
        "start_time": "2022-01-23T07:54:51.060Z"
      },
      {
        "duration": 13,
        "start_time": "2022-01-23T07:54:53.489Z"
      },
      {
        "duration": 9,
        "start_time": "2022-01-23T07:59:27.072Z"
      },
      {
        "duration": 9,
        "start_time": "2022-01-23T08:00:29.592Z"
      },
      {
        "duration": 17,
        "start_time": "2022-01-23T08:00:32.725Z"
      },
      {
        "duration": 6,
        "start_time": "2022-01-23T08:00:58.948Z"
      },
      {
        "duration": 488,
        "start_time": "2022-01-23T08:01:07.369Z"
      },
      {
        "duration": 462,
        "start_time": "2022-01-23T08:01:20.937Z"
      },
      {
        "duration": 17,
        "start_time": "2022-01-23T08:02:04.722Z"
      },
      {
        "duration": 7,
        "start_time": "2022-01-23T08:06:48.463Z"
      },
      {
        "duration": 12,
        "start_time": "2022-01-23T08:07:17.170Z"
      },
      {
        "duration": 497,
        "start_time": "2022-01-23T08:08:15.251Z"
      },
      {
        "duration": 302,
        "start_time": "2022-01-23T08:09:22.849Z"
      },
      {
        "duration": 6,
        "start_time": "2022-01-23T08:09:58.475Z"
      },
      {
        "duration": 1556,
        "start_time": "2022-01-23T08:10:40.935Z"
      },
      {
        "duration": 56,
        "start_time": "2022-01-23T08:10:42.493Z"
      },
      {
        "duration": 8,
        "start_time": "2022-01-23T08:10:42.552Z"
      },
      {
        "duration": 14,
        "start_time": "2022-01-23T08:10:42.563Z"
      },
      {
        "duration": 5,
        "start_time": "2022-01-23T08:10:42.580Z"
      },
      {
        "duration": 51,
        "start_time": "2022-01-23T08:10:42.588Z"
      },
      {
        "duration": 9,
        "start_time": "2022-01-23T08:10:42.642Z"
      },
      {
        "duration": 19,
        "start_time": "2022-01-23T08:10:42.655Z"
      },
      {
        "duration": 12,
        "start_time": "2022-01-23T08:10:42.677Z"
      },
      {
        "duration": 2,
        "start_time": "2022-01-23T08:10:42.692Z"
      },
      {
        "duration": 72,
        "start_time": "2022-01-23T08:10:42.697Z"
      },
      {
        "duration": 25,
        "start_time": "2022-01-23T08:10:42.773Z"
      },
      {
        "duration": 445,
        "start_time": "2022-01-23T08:10:42.800Z"
      },
      {
        "duration": 23,
        "start_time": "2022-01-23T08:10:43.248Z"
      },
      {
        "duration": 13,
        "start_time": "2022-01-23T08:10:43.273Z"
      },
      {
        "duration": 312,
        "start_time": "2022-01-23T08:10:43.289Z"
      },
      {
        "duration": 29,
        "start_time": "2022-01-23T08:10:43.604Z"
      },
      {
        "duration": 18,
        "start_time": "2022-01-23T08:10:43.635Z"
      },
      {
        "duration": 304,
        "start_time": "2022-01-23T08:10:43.655Z"
      },
      {
        "duration": 301,
        "start_time": "2022-01-23T08:10:43.961Z"
      },
      {
        "duration": 295,
        "start_time": "2022-01-23T08:10:44.265Z"
      },
      {
        "duration": 17,
        "start_time": "2022-01-23T08:10:44.563Z"
      },
      {
        "duration": 295,
        "start_time": "2022-01-23T08:10:44.586Z"
      },
      {
        "duration": 18,
        "start_time": "2022-01-23T08:10:44.884Z"
      },
      {
        "duration": 315,
        "start_time": "2022-01-23T08:10:44.905Z"
      },
      {
        "duration": 23,
        "start_time": "2022-01-23T08:10:45.222Z"
      },
      {
        "duration": 385,
        "start_time": "2022-01-23T08:10:45.247Z"
      },
      {
        "duration": 18,
        "start_time": "2022-01-23T08:10:45.634Z"
      },
      {
        "duration": 342,
        "start_time": "2022-01-23T08:10:45.654Z"
      },
      {
        "duration": 36,
        "start_time": "2022-01-23T08:10:45.998Z"
      },
      {
        "duration": 25,
        "start_time": "2022-01-23T08:10:46.037Z"
      },
      {
        "duration": 25,
        "start_time": "2022-01-23T08:10:46.065Z"
      },
      {
        "duration": 56,
        "start_time": "2022-01-23T08:10:46.092Z"
      },
      {
        "duration": 330,
        "start_time": "2022-01-23T08:10:46.151Z"
      },
      {
        "duration": 327,
        "start_time": "2022-01-23T08:10:46.483Z"
      },
      {
        "duration": 301,
        "start_time": "2022-01-23T08:10:46.812Z"
      },
      {
        "duration": 319,
        "start_time": "2022-01-23T08:10:47.116Z"
      },
      {
        "duration": 307,
        "start_time": "2022-01-23T08:10:47.437Z"
      },
      {
        "duration": 27,
        "start_time": "2022-01-23T08:10:47.747Z"
      },
      {
        "duration": 56,
        "start_time": "2022-01-23T08:10:47.776Z"
      },
      {
        "duration": 24,
        "start_time": "2022-01-23T08:10:47.834Z"
      },
      {
        "duration": 18,
        "start_time": "2022-01-23T08:10:47.860Z"
      },
      {
        "duration": 21,
        "start_time": "2022-01-23T08:10:47.881Z"
      },
      {
        "duration": 236,
        "start_time": "2022-01-23T08:10:47.932Z"
      },
      {
        "duration": 7,
        "start_time": "2022-01-23T08:10:48.171Z"
      },
      {
        "duration": 434,
        "start_time": "2022-01-23T08:10:48.180Z"
      },
      {
        "duration": 404,
        "start_time": "2022-01-23T08:10:48.616Z"
      },
      {
        "duration": 11,
        "start_time": "2022-01-23T08:10:49.023Z"
      },
      {
        "duration": 10,
        "start_time": "2022-01-23T08:10:49.037Z"
      },
      {
        "duration": 18,
        "start_time": "2022-01-23T08:10:49.050Z"
      },
      {
        "duration": 20,
        "start_time": "2022-01-23T08:10:49.070Z"
      },
      {
        "duration": 41,
        "start_time": "2022-01-23T08:10:49.092Z"
      },
      {
        "duration": 28,
        "start_time": "2022-01-23T08:10:49.136Z"
      },
      {
        "duration": 19,
        "start_time": "2022-01-23T08:10:49.167Z"
      },
      {
        "duration": 34,
        "start_time": "2022-01-23T08:10:49.188Z"
      },
      {
        "duration": 20,
        "start_time": "2022-01-23T08:10:49.232Z"
      },
      {
        "duration": 28,
        "start_time": "2022-01-23T08:10:49.254Z"
      },
      {
        "duration": 28,
        "start_time": "2022-01-23T08:10:49.284Z"
      },
      {
        "duration": 6,
        "start_time": "2022-01-23T08:10:49.332Z"
      },
      {
        "duration": 45,
        "start_time": "2022-01-23T08:10:49.340Z"
      },
      {
        "duration": 17,
        "start_time": "2022-01-23T08:10:49.388Z"
      },
      {
        "duration": 33,
        "start_time": "2022-01-23T08:10:49.407Z"
      },
      {
        "duration": 29,
        "start_time": "2022-01-23T08:10:49.442Z"
      },
      {
        "duration": 27,
        "start_time": "2022-01-23T08:10:49.474Z"
      },
      {
        "duration": 12,
        "start_time": "2022-01-23T08:10:49.503Z"
      },
      {
        "duration": 5,
        "start_time": "2022-01-23T08:11:18.684Z"
      },
      {
        "duration": 421,
        "start_time": "2022-01-23T08:16:21.706Z"
      },
      {
        "duration": 1486,
        "start_time": "2022-01-23T08:16:43.723Z"
      },
      {
        "duration": 57,
        "start_time": "2022-01-23T08:16:47.079Z"
      },
      {
        "duration": 8,
        "start_time": "2022-01-23T08:16:51.346Z"
      },
      {
        "duration": 15,
        "start_time": "2022-01-23T08:16:53.104Z"
      },
      {
        "duration": 14,
        "start_time": "2022-01-23T08:16:58.265Z"
      },
      {
        "duration": 518,
        "start_time": "2022-01-23T08:17:01.446Z"
      },
      {
        "duration": 10,
        "start_time": "2022-01-23T08:17:29.469Z"
      },
      {
        "duration": 10,
        "start_time": "2022-01-23T08:17:35.429Z"
      },
      {
        "duration": 4,
        "start_time": "2022-01-23T08:17:52.618Z"
      },
      {
        "duration": 1485,
        "start_time": "2022-01-23T08:17:58.402Z"
      },
      {
        "duration": 60,
        "start_time": "2022-01-23T08:17:59.890Z"
      },
      {
        "duration": 9,
        "start_time": "2022-01-23T08:17:59.954Z"
      },
      {
        "duration": 15,
        "start_time": "2022-01-23T08:17:59.966Z"
      },
      {
        "duration": 923,
        "start_time": "2022-01-23T08:17:59.984Z"
      },
      {
        "duration": -792,
        "start_time": "2022-01-23T08:18:01.704Z"
      },
      {
        "duration": -793,
        "start_time": "2022-01-23T08:18:01.707Z"
      },
      {
        "duration": -794,
        "start_time": "2022-01-23T08:18:01.709Z"
      },
      {
        "duration": -793,
        "start_time": "2022-01-23T08:18:01.710Z"
      },
      {
        "duration": -794,
        "start_time": "2022-01-23T08:18:01.712Z"
      },
      {
        "duration": -794,
        "start_time": "2022-01-23T08:18:01.714Z"
      },
      {
        "duration": -794,
        "start_time": "2022-01-23T08:18:01.715Z"
      },
      {
        "duration": -794,
        "start_time": "2022-01-23T08:18:01.717Z"
      },
      {
        "duration": -795,
        "start_time": "2022-01-23T08:18:01.719Z"
      },
      {
        "duration": -795,
        "start_time": "2022-01-23T08:18:01.721Z"
      },
      {
        "duration": -797,
        "start_time": "2022-01-23T08:18:01.724Z"
      },
      {
        "duration": -797,
        "start_time": "2022-01-23T08:18:01.726Z"
      },
      {
        "duration": -797,
        "start_time": "2022-01-23T08:18:01.728Z"
      },
      {
        "duration": -797,
        "start_time": "2022-01-23T08:18:01.729Z"
      },
      {
        "duration": -797,
        "start_time": "2022-01-23T08:18:01.731Z"
      },
      {
        "duration": -798,
        "start_time": "2022-01-23T08:18:01.733Z"
      },
      {
        "duration": -804,
        "start_time": "2022-01-23T08:18:01.741Z"
      },
      {
        "duration": -805,
        "start_time": "2022-01-23T08:18:01.743Z"
      },
      {
        "duration": -805,
        "start_time": "2022-01-23T08:18:01.745Z"
      },
      {
        "duration": -806,
        "start_time": "2022-01-23T08:18:01.747Z"
      },
      {
        "duration": -806,
        "start_time": "2022-01-23T08:18:01.749Z"
      },
      {
        "duration": -806,
        "start_time": "2022-01-23T08:18:01.750Z"
      },
      {
        "duration": -806,
        "start_time": "2022-01-23T08:18:01.752Z"
      },
      {
        "duration": -805,
        "start_time": "2022-01-23T08:18:01.753Z"
      },
      {
        "duration": -830,
        "start_time": "2022-01-23T08:18:01.779Z"
      },
      {
        "duration": -830,
        "start_time": "2022-01-23T08:18:01.781Z"
      },
      {
        "duration": -830,
        "start_time": "2022-01-23T08:18:01.783Z"
      },
      {
        "duration": -830,
        "start_time": "2022-01-23T08:18:01.785Z"
      },
      {
        "duration": -830,
        "start_time": "2022-01-23T08:18:01.787Z"
      },
      {
        "duration": -836,
        "start_time": "2022-01-23T08:18:01.794Z"
      },
      {
        "duration": -837,
        "start_time": "2022-01-23T08:18:01.796Z"
      },
      {
        "duration": -837,
        "start_time": "2022-01-23T08:18:01.798Z"
      },
      {
        "duration": -838,
        "start_time": "2022-01-23T08:18:01.800Z"
      },
      {
        "duration": -838,
        "start_time": "2022-01-23T08:18:01.801Z"
      },
      {
        "duration": -838,
        "start_time": "2022-01-23T08:18:01.803Z"
      },
      {
        "duration": -842,
        "start_time": "2022-01-23T08:18:01.808Z"
      },
      {
        "duration": -842,
        "start_time": "2022-01-23T08:18:01.810Z"
      },
      {
        "duration": -853,
        "start_time": "2022-01-23T08:18:01.822Z"
      },
      {
        "duration": -853,
        "start_time": "2022-01-23T08:18:01.824Z"
      },
      {
        "duration": -855,
        "start_time": "2022-01-23T08:18:01.827Z"
      },
      {
        "duration": -875,
        "start_time": "2022-01-23T08:18:01.849Z"
      },
      {
        "duration": -815,
        "start_time": "2022-01-23T08:18:01.851Z"
      },
      {
        "duration": -816,
        "start_time": "2022-01-23T08:18:01.853Z"
      },
      {
        "duration": -816,
        "start_time": "2022-01-23T08:18:01.855Z"
      },
      {
        "duration": -817,
        "start_time": "2022-01-23T08:18:01.857Z"
      },
      {
        "duration": -820,
        "start_time": "2022-01-23T08:18:01.862Z"
      },
      {
        "duration": -847,
        "start_time": "2022-01-23T08:18:01.891Z"
      },
      {
        "duration": -860,
        "start_time": "2022-01-23T08:18:01.905Z"
      },
      {
        "duration": -861,
        "start_time": "2022-01-23T08:18:01.907Z"
      },
      {
        "duration": -862,
        "start_time": "2022-01-23T08:18:01.909Z"
      },
      {
        "duration": -862,
        "start_time": "2022-01-23T08:18:01.911Z"
      },
      {
        "duration": -866,
        "start_time": "2022-01-23T08:18:01.916Z"
      },
      {
        "duration": -870,
        "start_time": "2022-01-23T08:18:01.921Z"
      },
      {
        "duration": -870,
        "start_time": "2022-01-23T08:18:01.923Z"
      },
      {
        "duration": -871,
        "start_time": "2022-01-23T08:18:01.925Z"
      },
      {
        "duration": -872,
        "start_time": "2022-01-23T08:18:01.927Z"
      },
      {
        "duration": -873,
        "start_time": "2022-01-23T08:18:01.929Z"
      },
      {
        "duration": -873,
        "start_time": "2022-01-23T08:18:01.930Z"
      },
      {
        "duration": -879,
        "start_time": "2022-01-23T08:18:01.938Z"
      },
      {
        "duration": -880,
        "start_time": "2022-01-23T08:18:01.940Z"
      },
      {
        "duration": 319,
        "start_time": "2022-01-23T08:18:20.691Z"
      },
      {
        "duration": 1406,
        "start_time": "2022-01-23T08:19:06.580Z"
      },
      {
        "duration": 56,
        "start_time": "2022-01-23T08:19:07.989Z"
      },
      {
        "duration": 8,
        "start_time": "2022-01-23T08:19:08.048Z"
      },
      {
        "duration": 15,
        "start_time": "2022-01-23T08:19:08.059Z"
      },
      {
        "duration": 11,
        "start_time": "2022-01-23T08:19:08.077Z"
      },
      {
        "duration": 41,
        "start_time": "2022-01-23T08:19:08.091Z"
      },
      {
        "duration": 6,
        "start_time": "2022-01-23T08:19:08.135Z"
      },
      {
        "duration": 14,
        "start_time": "2022-01-23T08:19:08.143Z"
      },
      {
        "duration": 18,
        "start_time": "2022-01-23T08:19:08.162Z"
      },
      {
        "duration": 3,
        "start_time": "2022-01-23T08:19:08.183Z"
      },
      {
        "duration": 83,
        "start_time": "2022-01-23T08:19:08.189Z"
      },
      {
        "duration": 29,
        "start_time": "2022-01-23T08:19:08.274Z"
      },
      {
        "duration": 447,
        "start_time": "2022-01-23T08:19:08.305Z"
      },
      {
        "duration": 24,
        "start_time": "2022-01-23T08:19:08.754Z"
      },
      {
        "duration": 15,
        "start_time": "2022-01-23T08:19:08.781Z"
      },
      {
        "duration": 312,
        "start_time": "2022-01-23T08:19:08.798Z"
      },
      {
        "duration": 26,
        "start_time": "2022-01-23T08:19:09.112Z"
      },
      {
        "duration": 19,
        "start_time": "2022-01-23T08:19:09.141Z"
      },
      {
        "duration": 313,
        "start_time": "2022-01-23T08:19:09.163Z"
      },
      {
        "duration": 289,
        "start_time": "2022-01-23T08:19:09.478Z"
      },
      {
        "duration": 308,
        "start_time": "2022-01-23T08:19:09.769Z"
      },
      {
        "duration": 17,
        "start_time": "2022-01-23T08:19:10.079Z"
      },
      {
        "duration": 314,
        "start_time": "2022-01-23T08:19:10.099Z"
      },
      {
        "duration": 30,
        "start_time": "2022-01-23T08:19:10.415Z"
      },
      {
        "duration": 312,
        "start_time": "2022-01-23T08:19:10.447Z"
      },
      {
        "duration": 17,
        "start_time": "2022-01-23T08:19:10.761Z"
      },
      {
        "duration": 393,
        "start_time": "2022-01-23T08:19:10.784Z"
      },
      {
        "duration": 18,
        "start_time": "2022-01-23T08:19:11.180Z"
      },
      {
        "duration": 331,
        "start_time": "2022-01-23T08:19:11.201Z"
      },
      {
        "duration": 24,
        "start_time": "2022-01-23T08:19:11.534Z"
      },
      {
        "duration": 23,
        "start_time": "2022-01-23T08:19:11.560Z"
      },
      {
        "duration": 54,
        "start_time": "2022-01-23T08:19:11.586Z"
      },
      {
        "duration": 26,
        "start_time": "2022-01-23T08:19:11.643Z"
      },
      {
        "duration": 345,
        "start_time": "2022-01-23T08:19:11.671Z"
      },
      {
        "duration": 324,
        "start_time": "2022-01-23T08:19:12.019Z"
      },
      {
        "duration": 306,
        "start_time": "2022-01-23T08:19:12.345Z"
      },
      {
        "duration": 330,
        "start_time": "2022-01-23T08:19:12.653Z"
      },
      {
        "duration": 326,
        "start_time": "2022-01-23T08:19:12.987Z"
      },
      {
        "duration": 34,
        "start_time": "2022-01-23T08:19:13.316Z"
      },
      {
        "duration": 24,
        "start_time": "2022-01-23T08:19:13.353Z"
      },
      {
        "duration": 53,
        "start_time": "2022-01-23T08:19:13.379Z"
      },
      {
        "duration": 18,
        "start_time": "2022-01-23T08:19:13.434Z"
      },
      {
        "duration": 24,
        "start_time": "2022-01-23T08:19:13.454Z"
      },
      {
        "duration": 269,
        "start_time": "2022-01-23T08:19:13.480Z"
      },
      {
        "duration": 7,
        "start_time": "2022-01-23T08:19:13.752Z"
      },
      {
        "duration": 388,
        "start_time": "2022-01-23T08:19:13.761Z"
      },
      {
        "duration": 395,
        "start_time": "2022-01-23T08:19:14.152Z"
      },
      {
        "duration": 8,
        "start_time": "2022-01-23T08:19:14.550Z"
      },
      {
        "duration": 12,
        "start_time": "2022-01-23T08:19:14.561Z"
      },
      {
        "duration": 9,
        "start_time": "2022-01-23T08:19:14.576Z"
      },
      {
        "duration": 48,
        "start_time": "2022-01-23T08:19:14.588Z"
      },
      {
        "duration": 25,
        "start_time": "2022-01-23T08:19:14.638Z"
      },
      {
        "duration": 21,
        "start_time": "2022-01-23T08:19:14.666Z"
      },
      {
        "duration": 57,
        "start_time": "2022-01-23T08:19:14.690Z"
      },
      {
        "duration": 19,
        "start_time": "2022-01-23T08:19:14.749Z"
      },
      {
        "duration": 20,
        "start_time": "2022-01-23T08:19:14.770Z"
      },
      {
        "duration": 54,
        "start_time": "2022-01-23T08:19:14.792Z"
      },
      {
        "duration": 18,
        "start_time": "2022-01-23T08:19:14.848Z"
      },
      {
        "duration": 6,
        "start_time": "2022-01-23T08:19:14.868Z"
      },
      {
        "duration": 6,
        "start_time": "2022-01-23T08:19:14.876Z"
      },
      {
        "duration": 8,
        "start_time": "2022-01-23T08:19:14.885Z"
      },
      {
        "duration": 9,
        "start_time": "2022-01-23T08:19:14.932Z"
      },
      {
        "duration": 10,
        "start_time": "2022-01-23T08:19:14.944Z"
      },
      {
        "duration": 14,
        "start_time": "2022-01-23T08:19:14.957Z"
      },
      {
        "duration": 13,
        "start_time": "2022-01-23T08:19:14.973Z"
      },
      {
        "duration": 12,
        "start_time": "2022-01-23T08:19:31.291Z"
      },
      {
        "duration": 20,
        "start_time": "2022-01-23T08:21:59.070Z"
      },
      {
        "duration": 449,
        "start_time": "2022-01-23T08:22:47.886Z"
      },
      {
        "duration": 20,
        "start_time": "2022-01-23T08:22:54.003Z"
      },
      {
        "duration": 19,
        "start_time": "2022-01-23T08:23:17.248Z"
      },
      {
        "duration": 21,
        "start_time": "2022-01-23T08:23:45.447Z"
      },
      {
        "duration": 1944,
        "start_time": "2022-01-23T15:36:23.714Z"
      },
      {
        "duration": 79,
        "start_time": "2022-01-23T15:36:25.661Z"
      },
      {
        "duration": 10,
        "start_time": "2022-01-23T15:36:25.744Z"
      },
      {
        "duration": 14,
        "start_time": "2022-01-23T15:36:25.758Z"
      },
      {
        "duration": 12,
        "start_time": "2022-01-23T15:36:25.775Z"
      },
      {
        "duration": 47,
        "start_time": "2022-01-23T15:36:25.791Z"
      },
      {
        "duration": 7,
        "start_time": "2022-01-23T15:36:25.841Z"
      },
      {
        "duration": 15,
        "start_time": "2022-01-23T15:36:25.852Z"
      },
      {
        "duration": 837,
        "start_time": "2022-01-23T15:36:25.870Z"
      },
      {
        "duration": -1401,
        "start_time": "2022-01-23T15:36:28.113Z"
      },
      {
        "duration": -1406,
        "start_time": "2022-01-23T15:36:28.120Z"
      },
      {
        "duration": -1406,
        "start_time": "2022-01-23T15:36:28.122Z"
      },
      {
        "duration": -1406,
        "start_time": "2022-01-23T15:36:28.124Z"
      },
      {
        "duration": -1407,
        "start_time": "2022-01-23T15:36:28.127Z"
      },
      {
        "duration": -1408,
        "start_time": "2022-01-23T15:36:28.129Z"
      },
      {
        "duration": -1410,
        "start_time": "2022-01-23T15:36:28.133Z"
      },
      {
        "duration": -1410,
        "start_time": "2022-01-23T15:36:28.136Z"
      },
      {
        "duration": -1411,
        "start_time": "2022-01-23T15:36:28.139Z"
      },
      {
        "duration": -1415,
        "start_time": "2022-01-23T15:36:28.144Z"
      },
      {
        "duration": -1417,
        "start_time": "2022-01-23T15:36:28.148Z"
      },
      {
        "duration": -1418,
        "start_time": "2022-01-23T15:36:28.150Z"
      },
      {
        "duration": -1418,
        "start_time": "2022-01-23T15:36:28.152Z"
      },
      {
        "duration": -1418,
        "start_time": "2022-01-23T15:36:28.154Z"
      },
      {
        "duration": -1420,
        "start_time": "2022-01-23T15:36:28.157Z"
      },
      {
        "duration": -1434,
        "start_time": "2022-01-23T15:36:28.173Z"
      },
      {
        "duration": -1433,
        "start_time": "2022-01-23T15:36:28.175Z"
      },
      {
        "duration": -1434,
        "start_time": "2022-01-23T15:36:28.178Z"
      },
      {
        "duration": -1436,
        "start_time": "2022-01-23T15:36:28.182Z"
      },
      {
        "duration": -1436,
        "start_time": "2022-01-23T15:36:28.184Z"
      },
      {
        "duration": -1439,
        "start_time": "2022-01-23T15:36:28.189Z"
      },
      {
        "duration": -1440,
        "start_time": "2022-01-23T15:36:28.191Z"
      },
      {
        "duration": -1441,
        "start_time": "2022-01-23T15:36:28.193Z"
      },
      {
        "duration": -1441,
        "start_time": "2022-01-23T15:36:28.195Z"
      },
      {
        "duration": -1443,
        "start_time": "2022-01-23T15:36:28.198Z"
      },
      {
        "duration": -1445,
        "start_time": "2022-01-23T15:36:28.202Z"
      },
      {
        "duration": -1445,
        "start_time": "2022-01-23T15:36:28.204Z"
      },
      {
        "duration": -1445,
        "start_time": "2022-01-23T15:36:28.206Z"
      },
      {
        "duration": -1445,
        "start_time": "2022-01-23T15:36:28.208Z"
      },
      {
        "duration": -1445,
        "start_time": "2022-01-23T15:36:28.210Z"
      },
      {
        "duration": -1446,
        "start_time": "2022-01-23T15:36:28.212Z"
      },
      {
        "duration": -1446,
        "start_time": "2022-01-23T15:36:28.214Z"
      },
      {
        "duration": -1448,
        "start_time": "2022-01-23T15:36:28.217Z"
      },
      {
        "duration": -1448,
        "start_time": "2022-01-23T15:36:28.219Z"
      },
      {
        "duration": -1389,
        "start_time": "2022-01-23T15:36:28.221Z"
      },
      {
        "duration": -1390,
        "start_time": "2022-01-23T15:36:28.224Z"
      },
      {
        "duration": -1415,
        "start_time": "2022-01-23T15:36:28.251Z"
      },
      {
        "duration": -1419,
        "start_time": "2022-01-23T15:36:28.256Z"
      },
      {
        "duration": -1420,
        "start_time": "2022-01-23T15:36:28.259Z"
      },
      {
        "duration": -1423,
        "start_time": "2022-01-23T15:36:28.263Z"
      },
      {
        "duration": -1439,
        "start_time": "2022-01-23T15:36:28.281Z"
      },
      {
        "duration": -1442,
        "start_time": "2022-01-23T15:36:28.285Z"
      },
      {
        "duration": -1455,
        "start_time": "2022-01-23T15:36:28.299Z"
      },
      {
        "duration": -1467,
        "start_time": "2022-01-23T15:36:28.313Z"
      },
      {
        "duration": -1472,
        "start_time": "2022-01-23T15:36:28.319Z"
      },
      {
        "duration": -1473,
        "start_time": "2022-01-23T15:36:28.322Z"
      },
      {
        "duration": -1475,
        "start_time": "2022-01-23T15:36:28.325Z"
      },
      {
        "duration": -1475,
        "start_time": "2022-01-23T15:36:28.327Z"
      },
      {
        "duration": -1491,
        "start_time": "2022-01-23T15:36:28.344Z"
      },
      {
        "duration": -1495,
        "start_time": "2022-01-23T15:36:28.350Z"
      },
      {
        "duration": -1506,
        "start_time": "2022-01-23T15:36:28.362Z"
      },
      {
        "duration": -1553,
        "start_time": "2022-01-23T15:36:28.410Z"
      },
      {
        "duration": -1559,
        "start_time": "2022-01-23T15:36:28.418Z"
      },
      {
        "duration": -1560,
        "start_time": "2022-01-23T15:36:28.421Z"
      },
      {
        "duration": -1561,
        "start_time": "2022-01-23T15:36:28.423Z"
      },
      {
        "duration": 296,
        "start_time": "2022-01-23T15:41:38.421Z"
      },
      {
        "duration": 12,
        "start_time": "2022-01-23T15:42:33.613Z"
      },
      {
        "duration": 12,
        "start_time": "2022-01-23T15:42:36.811Z"
      },
      {
        "duration": 594,
        "start_time": "2022-01-23T15:42:38.881Z"
      },
      {
        "duration": 1989,
        "start_time": "2022-01-23T15:44:37.385Z"
      },
      {
        "duration": 62,
        "start_time": "2022-01-23T15:44:39.377Z"
      },
      {
        "duration": 9,
        "start_time": "2022-01-23T15:44:39.443Z"
      },
      {
        "duration": 14,
        "start_time": "2022-01-23T15:44:39.455Z"
      },
      {
        "duration": 13,
        "start_time": "2022-01-23T15:44:39.472Z"
      },
      {
        "duration": 50,
        "start_time": "2022-01-23T15:44:39.487Z"
      },
      {
        "duration": 6,
        "start_time": "2022-01-23T15:44:39.540Z"
      },
      {
        "duration": 13,
        "start_time": "2022-01-23T15:44:39.551Z"
      },
      {
        "duration": 76,
        "start_time": "2022-01-23T15:44:39.567Z"
      },
      {
        "duration": 26,
        "start_time": "2022-01-23T15:44:39.646Z"
      },
      {
        "duration": 461,
        "start_time": "2022-01-23T15:44:39.674Z"
      },
      {
        "duration": 25,
        "start_time": "2022-01-23T15:44:40.137Z"
      },
      {
        "duration": 14,
        "start_time": "2022-01-23T15:44:40.164Z"
      },
      {
        "duration": 335,
        "start_time": "2022-01-23T15:44:40.181Z"
      },
      {
        "duration": 33,
        "start_time": "2022-01-23T15:44:40.519Z"
      },
      {
        "duration": 23,
        "start_time": "2022-01-23T15:44:40.555Z"
      },
      {
        "duration": 439,
        "start_time": "2022-01-23T15:44:40.581Z"
      },
      {
        "duration": 313,
        "start_time": "2022-01-23T15:44:41.032Z"
      },
      {
        "duration": 330,
        "start_time": "2022-01-23T15:44:41.348Z"
      },
      {
        "duration": 26,
        "start_time": "2022-01-23T15:44:41.680Z"
      },
      {
        "duration": 328,
        "start_time": "2022-01-23T15:44:41.708Z"
      },
      {
        "duration": 18,
        "start_time": "2022-01-23T15:44:42.038Z"
      },
      {
        "duration": 334,
        "start_time": "2022-01-23T15:44:42.062Z"
      },
      {
        "duration": 18,
        "start_time": "2022-01-23T15:44:42.400Z"
      },
      {
        "duration": 399,
        "start_time": "2022-01-23T15:44:42.433Z"
      },
      {
        "duration": 19,
        "start_time": "2022-01-23T15:44:42.836Z"
      },
      {
        "duration": 339,
        "start_time": "2022-01-23T15:44:42.857Z"
      },
      {
        "duration": 40,
        "start_time": "2022-01-23T15:44:43.198Z"
      },
      {
        "duration": 25,
        "start_time": "2022-01-23T15:44:43.241Z"
      },
      {
        "duration": 26,
        "start_time": "2022-01-23T15:44:43.268Z"
      },
      {
        "duration": 59,
        "start_time": "2022-01-23T15:44:43.297Z"
      },
      {
        "duration": 350,
        "start_time": "2022-01-23T15:44:43.359Z"
      },
      {
        "duration": 337,
        "start_time": "2022-01-23T15:44:43.712Z"
      },
      {
        "duration": 312,
        "start_time": "2022-01-23T15:44:44.052Z"
      },
      {
        "duration": 327,
        "start_time": "2022-01-23T15:44:44.367Z"
      },
      {
        "duration": 326,
        "start_time": "2022-01-23T15:44:44.697Z"
      },
      {
        "duration": 26,
        "start_time": "2022-01-23T15:44:45.032Z"
      },
      {
        "duration": 26,
        "start_time": "2022-01-23T15:44:45.061Z"
      },
      {
        "duration": 55,
        "start_time": "2022-01-23T15:44:45.090Z"
      },
      {
        "duration": 19,
        "start_time": "2022-01-23T15:44:45.147Z"
      },
      {
        "duration": 26,
        "start_time": "2022-01-23T15:44:45.169Z"
      },
      {
        "duration": 264,
        "start_time": "2022-01-23T15:44:45.198Z"
      },
      {
        "duration": 7,
        "start_time": "2022-01-23T15:44:45.464Z"
      },
      {
        "duration": 486,
        "start_time": "2022-01-23T15:44:45.473Z"
      },
      {
        "duration": 420,
        "start_time": "2022-01-23T15:44:45.961Z"
      },
      {
        "duration": 8,
        "start_time": "2022-01-23T15:44:46.383Z"
      },
      {
        "duration": 21,
        "start_time": "2022-01-23T15:44:46.393Z"
      },
      {
        "duration": 26,
        "start_time": "2022-01-23T15:44:46.416Z"
      },
      {
        "duration": 18,
        "start_time": "2022-01-23T15:44:46.444Z"
      },
      {
        "duration": 30,
        "start_time": "2022-01-23T15:44:46.465Z"
      },
      {
        "duration": 38,
        "start_time": "2022-01-23T15:44:46.497Z"
      },
      {
        "duration": 21,
        "start_time": "2022-01-23T15:44:46.537Z"
      },
      {
        "duration": 28,
        "start_time": "2022-01-23T15:44:46.560Z"
      },
      {
        "duration": 44,
        "start_time": "2022-01-23T15:44:46.591Z"
      },
      {
        "duration": 28,
        "start_time": "2022-01-23T15:44:46.638Z"
      },
      {
        "duration": 35,
        "start_time": "2022-01-23T15:44:46.669Z"
      },
      {
        "duration": 8,
        "start_time": "2022-01-23T15:44:46.732Z"
      },
      {
        "duration": 38,
        "start_time": "2022-01-23T15:44:46.743Z"
      },
      {
        "duration": 27,
        "start_time": "2022-01-23T15:44:46.784Z"
      },
      {
        "duration": 27,
        "start_time": "2022-01-23T15:44:46.834Z"
      },
      {
        "duration": 24,
        "start_time": "2022-01-23T15:44:46.865Z"
      },
      {
        "duration": 44,
        "start_time": "2022-01-23T15:44:46.892Z"
      },
      {
        "duration": 774,
        "start_time": "2022-01-23T15:53:24.360Z"
      },
      {
        "duration": 688,
        "start_time": "2022-01-23T15:55:35.626Z"
      },
      {
        "duration": 304,
        "start_time": "2022-01-23T15:57:43.697Z"
      },
      {
        "duration": 689,
        "start_time": "2022-01-23T15:58:05.594Z"
      },
      {
        "duration": 12736,
        "start_time": "2022-01-23T15:58:42.779Z"
      },
      {
        "duration": 874,
        "start_time": "2022-01-23T15:59:08.109Z"
      },
      {
        "duration": 976,
        "start_time": "2022-01-23T16:16:40.273Z"
      },
      {
        "duration": 618,
        "start_time": "2022-01-23T16:17:08.910Z"
      },
      {
        "duration": 606,
        "start_time": "2022-01-23T16:18:01.488Z"
      },
      {
        "duration": 611,
        "start_time": "2022-01-23T16:23:31.565Z"
      },
      {
        "duration": 337,
        "start_time": "2022-01-23T16:25:43.924Z"
      },
      {
        "duration": 1531,
        "start_time": "2022-01-23T16:26:21.645Z"
      },
      {
        "duration": 67,
        "start_time": "2022-01-23T16:26:23.179Z"
      },
      {
        "duration": 9,
        "start_time": "2022-01-23T16:26:23.250Z"
      },
      {
        "duration": 25,
        "start_time": "2022-01-23T16:26:23.263Z"
      },
      {
        "duration": 12,
        "start_time": "2022-01-23T16:26:23.291Z"
      },
      {
        "duration": 37,
        "start_time": "2022-01-23T16:26:23.305Z"
      },
      {
        "duration": 8,
        "start_time": "2022-01-23T16:26:23.344Z"
      },
      {
        "duration": 15,
        "start_time": "2022-01-23T16:26:23.357Z"
      },
      {
        "duration": 100,
        "start_time": "2022-01-23T16:26:23.377Z"
      },
      {
        "duration": 38,
        "start_time": "2022-01-23T16:26:23.480Z"
      },
      {
        "duration": 417,
        "start_time": "2022-01-23T16:26:23.534Z"
      },
      {
        "duration": 26,
        "start_time": "2022-01-23T16:26:23.954Z"
      },
      {
        "duration": 16,
        "start_time": "2022-01-23T16:26:23.983Z"
      },
      {
        "duration": 318,
        "start_time": "2022-01-23T16:26:24.034Z"
      },
      {
        "duration": 20,
        "start_time": "2022-01-23T16:26:24.355Z"
      },
      {
        "duration": 25,
        "start_time": "2022-01-23T16:26:24.378Z"
      },
      {
        "duration": 454,
        "start_time": "2022-01-23T16:26:24.406Z"
      },
      {
        "duration": 325,
        "start_time": "2022-01-23T16:26:24.863Z"
      },
      {
        "duration": 311,
        "start_time": "2022-01-23T16:26:25.191Z"
      },
      {
        "duration": 31,
        "start_time": "2022-01-23T16:26:25.505Z"
      },
      {
        "duration": 303,
        "start_time": "2022-01-23T16:26:25.539Z"
      },
      {
        "duration": 18,
        "start_time": "2022-01-23T16:26:25.845Z"
      },
      {
        "duration": 335,
        "start_time": "2022-01-23T16:26:25.870Z"
      },
      {
        "duration": 31,
        "start_time": "2022-01-23T16:26:26.210Z"
      },
      {
        "duration": 419,
        "start_time": "2022-01-23T16:26:26.244Z"
      },
      {
        "duration": 19,
        "start_time": "2022-01-23T16:26:26.666Z"
      },
      {
        "duration": 349,
        "start_time": "2022-01-23T16:26:26.688Z"
      },
      {
        "duration": 30,
        "start_time": "2022-01-23T16:26:27.040Z"
      },
      {
        "duration": 61,
        "start_time": "2022-01-23T16:26:27.073Z"
      },
      {
        "duration": 25,
        "start_time": "2022-01-23T16:26:27.136Z"
      },
      {
        "duration": 28,
        "start_time": "2022-01-23T16:26:27.165Z"
      },
      {
        "duration": 372,
        "start_time": "2022-01-23T16:26:27.196Z"
      },
      {
        "duration": 372,
        "start_time": "2022-01-23T16:26:27.571Z"
      },
      {
        "duration": 323,
        "start_time": "2022-01-23T16:26:27.946Z"
      },
      {
        "duration": 348,
        "start_time": "2022-01-23T16:26:28.271Z"
      },
      {
        "duration": 330,
        "start_time": "2022-01-23T16:26:28.622Z"
      },
      {
        "duration": 27,
        "start_time": "2022-01-23T16:26:28.954Z"
      },
      {
        "duration": 51,
        "start_time": "2022-01-23T16:26:28.983Z"
      },
      {
        "duration": 49,
        "start_time": "2022-01-23T16:26:29.038Z"
      },
      {
        "duration": 27,
        "start_time": "2022-01-23T16:26:29.090Z"
      },
      {
        "duration": 37,
        "start_time": "2022-01-23T16:26:29.120Z"
      },
      {
        "duration": 540,
        "start_time": "2022-01-23T16:26:29.160Z"
      },
      {
        "duration": 7,
        "start_time": "2022-01-23T16:26:29.703Z"
      },
      {
        "duration": 431,
        "start_time": "2022-01-23T16:26:29.712Z"
      },
      {
        "duration": 432,
        "start_time": "2022-01-23T16:26:30.146Z"
      },
      {
        "duration": 8,
        "start_time": "2022-01-23T16:26:30.581Z"
      },
      {
        "duration": 34,
        "start_time": "2022-01-23T16:26:30.591Z"
      },
      {
        "duration": 29,
        "start_time": "2022-01-23T16:26:30.627Z"
      },
      {
        "duration": 21,
        "start_time": "2022-01-23T16:26:30.659Z"
      },
      {
        "duration": 34,
        "start_time": "2022-01-23T16:26:30.682Z"
      },
      {
        "duration": 33,
        "start_time": "2022-01-23T16:26:30.721Z"
      },
      {
        "duration": 39,
        "start_time": "2022-01-23T16:26:30.756Z"
      },
      {
        "duration": 59,
        "start_time": "2022-01-23T16:26:30.798Z"
      },
      {
        "duration": 34,
        "start_time": "2022-01-23T16:26:30.860Z"
      },
      {
        "duration": 40,
        "start_time": "2022-01-23T16:26:30.897Z"
      },
      {
        "duration": 24,
        "start_time": "2022-01-23T16:26:30.940Z"
      },
      {
        "duration": 36,
        "start_time": "2022-01-23T16:26:30.968Z"
      },
      {
        "duration": 55,
        "start_time": "2022-01-23T16:26:31.008Z"
      },
      {
        "duration": 31,
        "start_time": "2022-01-23T16:26:31.067Z"
      },
      {
        "duration": 57,
        "start_time": "2022-01-23T16:26:31.101Z"
      },
      {
        "duration": 30,
        "start_time": "2022-01-23T16:26:31.162Z"
      },
      {
        "duration": 435,
        "start_time": "2022-01-23T16:34:05.454Z"
      },
      {
        "duration": 1633,
        "start_time": "2022-01-23T16:37:36.911Z"
      },
      {
        "duration": 61,
        "start_time": "2022-01-23T16:37:38.547Z"
      },
      {
        "duration": 8,
        "start_time": "2022-01-23T16:37:38.611Z"
      },
      {
        "duration": 14,
        "start_time": "2022-01-23T16:37:38.633Z"
      },
      {
        "duration": 12,
        "start_time": "2022-01-23T16:37:38.651Z"
      },
      {
        "duration": 10,
        "start_time": "2022-01-23T16:37:38.666Z"
      },
      {
        "duration": 6,
        "start_time": "2022-01-23T16:37:38.679Z"
      },
      {
        "duration": 50,
        "start_time": "2022-01-23T16:37:38.688Z"
      },
      {
        "duration": 51,
        "start_time": "2022-01-23T16:37:38.742Z"
      },
      {
        "duration": 52,
        "start_time": "2022-01-23T16:37:38.796Z"
      },
      {
        "duration": 424,
        "start_time": "2022-01-23T16:37:38.850Z"
      },
      {
        "duration": 23,
        "start_time": "2022-01-23T16:37:39.276Z"
      },
      {
        "duration": 33,
        "start_time": "2022-01-23T16:37:39.301Z"
      },
      {
        "duration": 312,
        "start_time": "2022-01-23T16:37:39.337Z"
      },
      {
        "duration": 18,
        "start_time": "2022-01-23T16:37:39.652Z"
      },
      {
        "duration": 17,
        "start_time": "2022-01-23T16:37:39.673Z"
      },
      {
        "duration": 339,
        "start_time": "2022-01-23T16:37:39.693Z"
      },
      {
        "duration": 300,
        "start_time": "2022-01-23T16:37:40.034Z"
      },
      {
        "duration": 308,
        "start_time": "2022-01-23T16:37:40.337Z"
      },
      {
        "duration": 18,
        "start_time": "2022-01-23T16:37:40.647Z"
      },
      {
        "duration": 315,
        "start_time": "2022-01-23T16:37:40.668Z"
      },
      {
        "duration": 18,
        "start_time": "2022-01-23T16:37:40.986Z"
      },
      {
        "duration": 446,
        "start_time": "2022-01-23T16:37:41.010Z"
      },
      {
        "duration": 19,
        "start_time": "2022-01-23T16:37:41.460Z"
      },
      {
        "duration": 396,
        "start_time": "2022-01-23T16:37:41.482Z"
      },
      {
        "duration": 19,
        "start_time": "2022-01-23T16:37:41.881Z"
      },
      {
        "duration": 328,
        "start_time": "2022-01-23T16:37:41.902Z"
      },
      {
        "duration": 25,
        "start_time": "2022-01-23T16:37:42.233Z"
      },
      {
        "duration": 27,
        "start_time": "2022-01-23T16:37:42.260Z"
      },
      {
        "duration": 59,
        "start_time": "2022-01-23T16:37:42.290Z"
      },
      {
        "duration": 26,
        "start_time": "2022-01-23T16:37:42.352Z"
      },
      {
        "duration": 357,
        "start_time": "2022-01-23T16:37:42.381Z"
      },
      {
        "duration": 342,
        "start_time": "2022-01-23T16:37:42.740Z"
      },
      {
        "duration": 314,
        "start_time": "2022-01-23T16:37:43.084Z"
      },
      {
        "duration": 337,
        "start_time": "2022-01-23T16:37:43.401Z"
      },
      {
        "duration": 317,
        "start_time": "2022-01-23T16:37:43.740Z"
      },
      {
        "duration": 29,
        "start_time": "2022-01-23T16:37:44.060Z"
      },
      {
        "duration": 59,
        "start_time": "2022-01-23T16:37:44.092Z"
      },
      {
        "duration": 24,
        "start_time": "2022-01-23T16:37:44.154Z"
      },
      {
        "duration": 17,
        "start_time": "2022-01-23T16:37:44.181Z"
      },
      {
        "duration": 53,
        "start_time": "2022-01-23T16:37:44.201Z"
      },
      {
        "duration": 524,
        "start_time": "2022-01-23T16:37:44.257Z"
      },
      {
        "duration": 7,
        "start_time": "2022-01-23T16:37:44.784Z"
      },
      {
        "duration": 437,
        "start_time": "2022-01-23T16:37:44.793Z"
      },
      {
        "duration": 419,
        "start_time": "2022-01-23T16:37:45.233Z"
      },
      {
        "duration": 6,
        "start_time": "2022-01-23T16:37:45.655Z"
      },
      {
        "duration": 11,
        "start_time": "2022-01-23T16:37:45.664Z"
      },
      {
        "duration": 9,
        "start_time": "2022-01-23T16:37:45.677Z"
      },
      {
        "duration": 43,
        "start_time": "2022-01-23T16:37:45.689Z"
      },
      {
        "duration": 26,
        "start_time": "2022-01-23T16:37:45.734Z"
      },
      {
        "duration": 21,
        "start_time": "2022-01-23T16:37:45.762Z"
      },
      {
        "duration": 52,
        "start_time": "2022-01-23T16:37:45.785Z"
      },
      {
        "duration": 21,
        "start_time": "2022-01-23T16:37:45.840Z"
      },
      {
        "duration": 20,
        "start_time": "2022-01-23T16:37:45.864Z"
      },
      {
        "duration": 50,
        "start_time": "2022-01-23T16:37:45.887Z"
      },
      {
        "duration": 21,
        "start_time": "2022-01-23T16:37:45.939Z"
      },
      {
        "duration": 29,
        "start_time": "2022-01-23T16:37:45.963Z"
      },
      {
        "duration": 59,
        "start_time": "2022-01-23T16:37:45.995Z"
      },
      {
        "duration": 27,
        "start_time": "2022-01-23T16:37:46.057Z"
      },
      {
        "duration": 47,
        "start_time": "2022-01-23T16:37:46.087Z"
      },
      {
        "duration": 23,
        "start_time": "2022-01-23T16:37:46.137Z"
      },
      {
        "duration": 656,
        "start_time": "2022-01-23T16:40:05.266Z"
      },
      {
        "duration": 720,
        "start_time": "2022-01-23T16:40:15.083Z"
      },
      {
        "duration": 96,
        "start_time": "2022-01-23T16:41:27.226Z"
      },
      {
        "duration": 102,
        "start_time": "2022-01-23T16:41:41.202Z"
      },
      {
        "duration": -1263,
        "start_time": "2022-01-23T16:41:42.570Z"
      },
      {
        "duration": 505,
        "start_time": "2022-01-23T16:42:28.180Z"
      },
      {
        "duration": 742,
        "start_time": "2022-01-23T16:42:39.315Z"
      },
      {
        "duration": 284,
        "start_time": "2022-01-23T16:42:52.707Z"
      },
      {
        "duration": 542,
        "start_time": "2022-01-23T16:43:04.258Z"
      },
      {
        "duration": 535,
        "start_time": "2022-01-23T16:43:13.957Z"
      },
      {
        "duration": 1714,
        "start_time": "2022-01-23T16:43:54.110Z"
      },
      {
        "duration": 71,
        "start_time": "2022-01-23T16:43:55.826Z"
      },
      {
        "duration": 10,
        "start_time": "2022-01-23T16:43:55.900Z"
      },
      {
        "duration": 35,
        "start_time": "2022-01-23T16:43:55.914Z"
      },
      {
        "duration": 17,
        "start_time": "2022-01-23T16:43:55.952Z"
      },
      {
        "duration": 25,
        "start_time": "2022-01-23T16:43:55.972Z"
      },
      {
        "duration": 32,
        "start_time": "2022-01-23T16:43:56.000Z"
      },
      {
        "duration": 18,
        "start_time": "2022-01-23T16:43:56.035Z"
      },
      {
        "duration": 86,
        "start_time": "2022-01-23T16:43:56.058Z"
      },
      {
        "duration": 36,
        "start_time": "2022-01-23T16:43:56.148Z"
      },
      {
        "duration": 479,
        "start_time": "2022-01-23T16:43:56.188Z"
      },
      {
        "duration": 24,
        "start_time": "2022-01-23T16:43:56.670Z"
      },
      {
        "duration": 39,
        "start_time": "2022-01-23T16:43:56.696Z"
      },
      {
        "duration": 338,
        "start_time": "2022-01-23T16:43:56.738Z"
      },
      {
        "duration": 28,
        "start_time": "2022-01-23T16:43:57.079Z"
      },
      {
        "duration": 43,
        "start_time": "2022-01-23T16:43:57.110Z"
      },
      {
        "duration": 324,
        "start_time": "2022-01-23T16:43:57.156Z"
      },
      {
        "duration": 321,
        "start_time": "2022-01-23T16:43:57.483Z"
      },
      {
        "duration": 340,
        "start_time": "2022-01-23T16:43:57.808Z"
      },
      {
        "duration": 25,
        "start_time": "2022-01-23T16:43:58.151Z"
      },
      {
        "duration": 331,
        "start_time": "2022-01-23T16:43:58.179Z"
      },
      {
        "duration": 28,
        "start_time": "2022-01-23T16:43:58.513Z"
      },
      {
        "duration": 328,
        "start_time": "2022-01-23T16:43:58.544Z"
      },
      {
        "duration": 18,
        "start_time": "2022-01-23T16:43:58.875Z"
      },
      {
        "duration": 406,
        "start_time": "2022-01-23T16:43:58.896Z"
      },
      {
        "duration": 34,
        "start_time": "2022-01-23T16:43:59.305Z"
      },
      {
        "duration": 352,
        "start_time": "2022-01-23T16:43:59.347Z"
      },
      {
        "duration": 42,
        "start_time": "2022-01-23T16:43:59.702Z"
      },
      {
        "duration": 25,
        "start_time": "2022-01-23T16:43:59.747Z"
      },
      {
        "duration": 26,
        "start_time": "2022-01-23T16:43:59.774Z"
      },
      {
        "duration": 31,
        "start_time": "2022-01-23T16:43:59.832Z"
      },
      {
        "duration": 370,
        "start_time": "2022-01-23T16:43:59.865Z"
      },
      {
        "duration": 365,
        "start_time": "2022-01-23T16:44:00.238Z"
      },
      {
        "duration": 350,
        "start_time": "2022-01-23T16:44:00.606Z"
      },
      {
        "duration": 385,
        "start_time": "2022-01-23T16:44:00.959Z"
      },
      {
        "duration": 332,
        "start_time": "2022-01-23T16:44:01.348Z"
      },
      {
        "duration": 29,
        "start_time": "2022-01-23T16:44:01.683Z"
      },
      {
        "duration": 34,
        "start_time": "2022-01-23T16:44:01.733Z"
      },
      {
        "duration": 28,
        "start_time": "2022-01-23T16:44:01.770Z"
      },
      {
        "duration": 45,
        "start_time": "2022-01-23T16:44:01.801Z"
      },
      {
        "duration": 77,
        "start_time": "2022-01-23T16:44:01.849Z"
      },
      {
        "duration": 651,
        "start_time": "2022-01-23T16:44:01.929Z"
      },
      {
        "duration": 7,
        "start_time": "2022-01-23T16:44:02.583Z"
      },
      {
        "duration": 482,
        "start_time": "2022-01-23T16:44:02.593Z"
      },
      {
        "duration": 481,
        "start_time": "2022-01-23T16:44:03.078Z"
      },
      {
        "duration": 9,
        "start_time": "2022-01-23T16:44:03.561Z"
      },
      {
        "duration": 15,
        "start_time": "2022-01-23T16:44:03.573Z"
      },
      {
        "duration": 11,
        "start_time": "2022-01-23T16:44:03.590Z"
      },
      {
        "duration": 36,
        "start_time": "2022-01-23T16:44:03.605Z"
      },
      {
        "duration": 44,
        "start_time": "2022-01-23T16:44:03.644Z"
      },
      {
        "duration": 42,
        "start_time": "2022-01-23T16:44:03.692Z"
      },
      {
        "duration": 29,
        "start_time": "2022-01-23T16:44:03.737Z"
      },
      {
        "duration": 34,
        "start_time": "2022-01-23T16:44:03.769Z"
      },
      {
        "duration": 54,
        "start_time": "2022-01-23T16:44:03.806Z"
      },
      {
        "duration": 36,
        "start_time": "2022-01-23T16:44:03.863Z"
      },
      {
        "duration": 45,
        "start_time": "2022-01-23T16:44:03.902Z"
      },
      {
        "duration": 20,
        "start_time": "2022-01-23T16:44:03.950Z"
      },
      {
        "duration": 23,
        "start_time": "2022-01-23T16:44:03.973Z"
      },
      {
        "duration": 57,
        "start_time": "2022-01-23T16:44:03.999Z"
      },
      {
        "duration": 19,
        "start_time": "2022-01-23T16:44:04.058Z"
      },
      {
        "duration": 19,
        "start_time": "2022-01-23T16:44:04.080Z"
      },
      {
        "duration": 1532,
        "start_time": "2022-01-30T07:45:17.201Z"
      },
      {
        "duration": 57,
        "start_time": "2022-01-30T07:45:18.736Z"
      },
      {
        "duration": 8,
        "start_time": "2022-01-30T07:45:18.796Z"
      },
      {
        "duration": 26,
        "start_time": "2022-01-30T07:45:18.807Z"
      },
      {
        "duration": 11,
        "start_time": "2022-01-30T07:45:18.836Z"
      },
      {
        "duration": 11,
        "start_time": "2022-01-30T07:45:18.849Z"
      },
      {
        "duration": 6,
        "start_time": "2022-01-30T07:45:18.862Z"
      },
      {
        "duration": 15,
        "start_time": "2022-01-30T07:45:18.871Z"
      },
      {
        "duration": 49,
        "start_time": "2022-01-30T07:45:18.925Z"
      },
      {
        "duration": 46,
        "start_time": "2022-01-30T07:45:18.977Z"
      },
      {
        "duration": 393,
        "start_time": "2022-01-30T07:45:19.026Z"
      },
      {
        "duration": 22,
        "start_time": "2022-01-30T07:45:19.424Z"
      },
      {
        "duration": 13,
        "start_time": "2022-01-30T07:45:19.448Z"
      },
      {
        "duration": 306,
        "start_time": "2022-01-30T07:45:19.463Z"
      },
      {
        "duration": 18,
        "start_time": "2022-01-30T07:45:19.772Z"
      },
      {
        "duration": 35,
        "start_time": "2022-01-30T07:45:19.792Z"
      },
      {
        "duration": 285,
        "start_time": "2022-01-30T07:45:19.830Z"
      },
      {
        "duration": 295,
        "start_time": "2022-01-30T07:45:20.118Z"
      },
      {
        "duration": 309,
        "start_time": "2022-01-30T07:45:20.416Z"
      },
      {
        "duration": 17,
        "start_time": "2022-01-30T07:45:20.728Z"
      },
      {
        "duration": 294,
        "start_time": "2022-01-30T07:45:20.747Z"
      },
      {
        "duration": 17,
        "start_time": "2022-01-30T07:45:21.043Z"
      },
      {
        "duration": 321,
        "start_time": "2022-01-30T07:45:21.062Z"
      },
      {
        "duration": 16,
        "start_time": "2022-01-30T07:45:21.386Z"
      },
      {
        "duration": 355,
        "start_time": "2022-01-30T07:45:21.405Z"
      },
      {
        "duration": 19,
        "start_time": "2022-01-30T07:45:21.762Z"
      },
      {
        "duration": 314,
        "start_time": "2022-01-30T07:45:21.786Z"
      },
      {
        "duration": 32,
        "start_time": "2022-01-30T07:45:22.103Z"
      },
      {
        "duration": 23,
        "start_time": "2022-01-30T07:45:22.138Z"
      },
      {
        "duration": 22,
        "start_time": "2022-01-30T07:45:22.163Z"
      },
      {
        "duration": 55,
        "start_time": "2022-01-30T07:45:22.188Z"
      },
      {
        "duration": 324,
        "start_time": "2022-01-30T07:45:22.245Z"
      },
      {
        "duration": 316,
        "start_time": "2022-01-30T07:45:22.571Z"
      },
      {
        "duration": 313,
        "start_time": "2022-01-30T07:45:22.890Z"
      },
      {
        "duration": 341,
        "start_time": "2022-01-30T07:45:23.206Z"
      },
      {
        "duration": 318,
        "start_time": "2022-01-30T07:45:23.550Z"
      },
      {
        "duration": 24,
        "start_time": "2022-01-30T07:45:23.871Z"
      },
      {
        "duration": 32,
        "start_time": "2022-01-30T07:45:23.897Z"
      },
      {
        "duration": 25,
        "start_time": "2022-01-30T07:45:23.931Z"
      },
      {
        "duration": 18,
        "start_time": "2022-01-30T07:45:23.959Z"
      },
      {
        "duration": 24,
        "start_time": "2022-01-30T07:45:23.979Z"
      },
      {
        "duration": 486,
        "start_time": "2022-01-30T07:45:24.005Z"
      },
      {
        "duration": 7,
        "start_time": "2022-01-30T07:45:24.493Z"
      },
      {
        "duration": 444,
        "start_time": "2022-01-30T07:45:24.502Z"
      },
      {
        "duration": 540,
        "start_time": "2022-01-30T07:45:24.949Z"
      },
      {
        "duration": 7,
        "start_time": "2022-01-30T07:45:25.492Z"
      },
      {
        "duration": 11,
        "start_time": "2022-01-30T07:45:25.501Z"
      },
      {
        "duration": 13,
        "start_time": "2022-01-30T07:45:25.514Z"
      },
      {
        "duration": 6,
        "start_time": "2022-01-30T07:45:25.529Z"
      },
      {
        "duration": 23,
        "start_time": "2022-01-30T07:45:25.538Z"
      },
      {
        "duration": 62,
        "start_time": "2022-01-30T07:45:25.563Z"
      },
      {
        "duration": 20,
        "start_time": "2022-01-30T07:45:25.627Z"
      },
      {
        "duration": 25,
        "start_time": "2022-01-30T07:45:25.650Z"
      },
      {
        "duration": 54,
        "start_time": "2022-01-30T07:45:25.677Z"
      },
      {
        "duration": 22,
        "start_time": "2022-01-30T07:45:25.733Z"
      },
      {
        "duration": 74,
        "start_time": "2022-01-30T07:45:25.757Z"
      },
      {
        "duration": 20,
        "start_time": "2022-01-30T07:45:25.833Z"
      },
      {
        "duration": 74,
        "start_time": "2022-01-30T07:45:25.855Z"
      },
      {
        "duration": 21,
        "start_time": "2022-01-30T07:45:25.932Z"
      },
      {
        "duration": 68,
        "start_time": "2022-01-30T07:45:25.955Z"
      },
      {
        "duration": 14,
        "start_time": "2022-01-30T07:45:26.025Z"
      },
      {
        "duration": 1191,
        "start_time": "2022-01-31T16:56:19.767Z"
      },
      {
        "duration": 53,
        "start_time": "2022-01-31T16:56:23.519Z"
      },
      {
        "duration": 6,
        "start_time": "2022-01-31T16:56:27.218Z"
      },
      {
        "duration": 10,
        "start_time": "2022-01-31T16:56:29.162Z"
      },
      {
        "duration": 8,
        "start_time": "2022-01-31T16:56:33.230Z"
      },
      {
        "duration": 4,
        "start_time": "2022-01-31T16:56:58.097Z"
      },
      {
        "duration": 11,
        "start_time": "2022-01-31T16:57:00.294Z"
      },
      {
        "duration": 45,
        "start_time": "2022-01-31T16:57:03.120Z"
      },
      {
        "duration": 24,
        "start_time": "2022-01-31T16:57:10.159Z"
      },
      {
        "duration": 329,
        "start_time": "2022-01-31T16:57:14.130Z"
      },
      {
        "duration": 17,
        "start_time": "2022-01-31T16:57:32.384Z"
      },
      {
        "duration": 11,
        "start_time": "2022-01-31T16:57:36.290Z"
      },
      {
        "duration": 187,
        "start_time": "2022-01-31T16:57:40.472Z"
      },
      {
        "duration": 15,
        "start_time": "2022-01-31T16:57:43.508Z"
      },
      {
        "duration": 18,
        "start_time": "2022-01-31T16:57:46.082Z"
      },
      {
        "duration": 216,
        "start_time": "2022-01-31T16:57:48.285Z"
      },
      {
        "duration": 206,
        "start_time": "2022-01-31T16:57:50.768Z"
      },
      {
        "duration": 188,
        "start_time": "2022-01-31T16:57:53.674Z"
      },
      {
        "duration": 13,
        "start_time": "2022-01-31T16:57:55.992Z"
      },
      {
        "duration": 199,
        "start_time": "2022-01-31T16:57:57.606Z"
      },
      {
        "duration": 14,
        "start_time": "2022-01-31T16:58:09.437Z"
      },
      {
        "duration": 214,
        "start_time": "2022-01-31T16:58:11.638Z"
      },
      {
        "duration": 13,
        "start_time": "2022-01-31T16:58:14.269Z"
      },
      {
        "duration": 273,
        "start_time": "2022-01-31T16:58:15.898Z"
      },
      {
        "duration": 14,
        "start_time": "2022-01-31T16:58:18.263Z"
      },
      {
        "duration": 209,
        "start_time": "2022-01-31T16:58:19.591Z"
      },
      {
        "duration": 17,
        "start_time": "2022-01-31T16:58:35.440Z"
      },
      {
        "duration": 26,
        "start_time": "2022-01-31T16:58:38.612Z"
      },
      {
        "duration": 22,
        "start_time": "2022-01-31T16:58:41.059Z"
      },
      {
        "duration": 17,
        "start_time": "2022-01-31T16:58:43.799Z"
      },
      {
        "duration": 209,
        "start_time": "2022-01-31T16:58:52.933Z"
      },
      {
        "duration": 214,
        "start_time": "2022-01-31T16:58:55.292Z"
      },
      {
        "duration": 185,
        "start_time": "2022-01-31T16:58:57.632Z"
      },
      {
        "duration": 222,
        "start_time": "2022-01-31T16:59:00.019Z"
      },
      {
        "duration": 195,
        "start_time": "2022-01-31T16:59:02.727Z"
      },
      {
        "duration": 20,
        "start_time": "2022-01-31T16:59:08.320Z"
      },
      {
        "duration": 18,
        "start_time": "2022-01-31T16:59:11.036Z"
      },
      {
        "duration": 19,
        "start_time": "2022-01-31T16:59:13.366Z"
      },
      {
        "duration": 13,
        "start_time": "2022-01-31T16:59:21.984Z"
      },
      {
        "duration": 17,
        "start_time": "2022-01-31T16:59:24.182Z"
      },
      {
        "duration": 339,
        "start_time": "2022-01-31T16:59:27.005Z"
      },
      {
        "duration": 6,
        "start_time": "2022-01-31T16:59:43.397Z"
      },
      {
        "duration": 328,
        "start_time": "2022-01-31T17:00:07.493Z"
      },
      {
        "duration": 306,
        "start_time": "2022-01-31T17:00:26.630Z"
      },
      {
        "duration": 6,
        "start_time": "2022-01-31T17:00:30.847Z"
      },
      {
        "duration": 6,
        "start_time": "2022-01-31T17:00:34.374Z"
      },
      {
        "duration": 5,
        "start_time": "2022-01-31T17:00:36.633Z"
      },
      {
        "duration": 6,
        "start_time": "2022-01-31T17:00:38.201Z"
      },
      {
        "duration": 17,
        "start_time": "2022-01-31T17:00:49.643Z"
      },
      {
        "duration": 16,
        "start_time": "2022-01-31T17:01:01.151Z"
      },
      {
        "duration": 18,
        "start_time": "2022-01-31T17:01:06.523Z"
      },
      {
        "duration": 19,
        "start_time": "2022-01-31T17:01:09.642Z"
      },
      {
        "duration": 19,
        "start_time": "2022-01-31T17:01:13.301Z"
      },
      {
        "duration": 19,
        "start_time": "2022-01-31T17:01:16.004Z"
      },
      {
        "duration": 14,
        "start_time": "2022-01-31T17:01:18.991Z"
      },
      {
        "duration": 14,
        "start_time": "2022-01-31T17:04:08.004Z"
      },
      {
        "duration": 15,
        "start_time": "2022-01-31T17:04:10.808Z"
      },
      {
        "duration": 14,
        "start_time": "2022-01-31T17:04:13.414Z"
      },
      {
        "duration": 9,
        "start_time": "2022-01-31T17:06:21.250Z"
      },
      {
        "duration": 9,
        "start_time": "2022-01-31T17:09:15.535Z"
      },
      {
        "duration": 10,
        "start_time": "2022-01-31T17:09:22.285Z"
      },
      {
        "duration": 9,
        "start_time": "2022-01-31T17:09:30.181Z"
      },
      {
        "duration": 1110,
        "start_time": "2022-01-31T17:09:39.060Z"
      },
      {
        "duration": 49,
        "start_time": "2022-01-31T17:09:40.173Z"
      },
      {
        "duration": 5,
        "start_time": "2022-01-31T17:09:40.224Z"
      },
      {
        "duration": 9,
        "start_time": "2022-01-31T17:09:40.231Z"
      },
      {
        "duration": 8,
        "start_time": "2022-01-31T17:09:40.242Z"
      },
      {
        "duration": 8,
        "start_time": "2022-01-31T17:09:40.252Z"
      },
      {
        "duration": 6,
        "start_time": "2022-01-31T17:09:40.262Z"
      },
      {
        "duration": 14,
        "start_time": "2022-01-31T17:09:40.313Z"
      },
      {
        "duration": 37,
        "start_time": "2022-01-31T17:09:40.331Z"
      },
      {
        "duration": 47,
        "start_time": "2022-01-31T17:09:40.370Z"
      },
      {
        "duration": 331,
        "start_time": "2022-01-31T17:09:40.419Z"
      },
      {
        "duration": 17,
        "start_time": "2022-01-31T17:09:40.751Z"
      },
      {
        "duration": 10,
        "start_time": "2022-01-31T17:09:40.769Z"
      },
      {
        "duration": 216,
        "start_time": "2022-01-31T17:09:40.813Z"
      },
      {
        "duration": 12,
        "start_time": "2022-01-31T17:09:41.031Z"
      },
      {
        "duration": 14,
        "start_time": "2022-01-31T17:09:41.045Z"
      },
      {
        "duration": 224,
        "start_time": "2022-01-31T17:09:41.061Z"
      },
      {
        "duration": 316,
        "start_time": "2022-01-31T17:09:41.288Z"
      },
      {
        "duration": 233,
        "start_time": "2022-01-31T17:09:41.606Z"
      },
      {
        "duration": 13,
        "start_time": "2022-01-31T17:09:41.841Z"
      },
      {
        "duration": 213,
        "start_time": "2022-01-31T17:09:41.856Z"
      },
      {
        "duration": 13,
        "start_time": "2022-01-31T17:09:42.071Z"
      },
      {
        "duration": 221,
        "start_time": "2022-01-31T17:09:42.086Z"
      },
      {
        "duration": 13,
        "start_time": "2022-01-31T17:09:42.313Z"
      },
      {
        "duration": 268,
        "start_time": "2022-01-31T17:09:42.328Z"
      },
      {
        "duration": 23,
        "start_time": "2022-01-31T17:09:42.598Z"
      },
      {
        "duration": 220,
        "start_time": "2022-01-31T17:09:42.626Z"
      },
      {
        "duration": 17,
        "start_time": "2022-01-31T17:09:42.848Z"
      },
      {
        "duration": 45,
        "start_time": "2022-01-31T17:09:42.867Z"
      },
      {
        "duration": 22,
        "start_time": "2022-01-31T17:09:42.914Z"
      },
      {
        "duration": 22,
        "start_time": "2022-01-31T17:09:42.938Z"
      },
      {
        "duration": 270,
        "start_time": "2022-01-31T17:09:42.962Z"
      },
      {
        "duration": 236,
        "start_time": "2022-01-31T17:09:43.234Z"
      },
      {
        "duration": 210,
        "start_time": "2022-01-31T17:09:43.472Z"
      },
      {
        "duration": 228,
        "start_time": "2022-01-31T17:09:43.684Z"
      },
      {
        "duration": 226,
        "start_time": "2022-01-31T17:09:43.914Z"
      },
      {
        "duration": 18,
        "start_time": "2022-01-31T17:09:44.142Z"
      },
      {
        "duration": 18,
        "start_time": "2022-01-31T17:09:44.162Z"
      },
      {
        "duration": 45,
        "start_time": "2022-01-31T17:09:44.181Z"
      },
      {
        "duration": 10,
        "start_time": "2022-01-31T17:09:44.228Z"
      },
      {
        "duration": 16,
        "start_time": "2022-01-31T17:09:44.240Z"
      },
      {
        "duration": 373,
        "start_time": "2022-01-31T17:09:44.258Z"
      },
      {
        "duration": 6,
        "start_time": "2022-01-31T17:09:44.634Z"
      },
      {
        "duration": 318,
        "start_time": "2022-01-31T17:09:44.642Z"
      },
      {
        "duration": 316,
        "start_time": "2022-01-31T17:09:44.962Z"
      },
      {
        "duration": 5,
        "start_time": "2022-01-31T17:09:45.280Z"
      },
      {
        "duration": 28,
        "start_time": "2022-01-31T17:09:45.287Z"
      },
      {
        "duration": 7,
        "start_time": "2022-01-31T17:09:45.318Z"
      },
      {
        "duration": 6,
        "start_time": "2022-01-31T17:09:45.327Z"
      },
      {
        "duration": 18,
        "start_time": "2022-01-31T17:09:45.335Z"
      },
      {
        "duration": 63,
        "start_time": "2022-01-31T17:09:45.354Z"
      },
      {
        "duration": 13,
        "start_time": "2022-01-31T17:09:45.419Z"
      },
      {
        "duration": 14,
        "start_time": "2022-01-31T17:09:45.433Z"
      },
      {
        "duration": 13,
        "start_time": "2022-01-31T17:09:45.449Z"
      },
      {
        "duration": 50,
        "start_time": "2022-01-31T17:09:45.464Z"
      },
      {
        "duration": 17,
        "start_time": "2022-01-31T17:09:45.515Z"
      },
      {
        "duration": 14,
        "start_time": "2022-01-31T17:09:45.534Z"
      },
      {
        "duration": 19,
        "start_time": "2022-01-31T17:09:45.550Z"
      },
      {
        "duration": 52,
        "start_time": "2022-01-31T17:09:45.571Z"
      },
      {
        "duration": 10,
        "start_time": "2022-01-31T17:09:45.626Z"
      },
      {
        "duration": 11,
        "start_time": "2022-01-31T17:09:45.638Z"
      },
      {
        "duration": 14381,
        "start_time": "2022-01-31T17:29:28.807Z"
      },
      {
        "duration": 49458,
        "start_time": "2022-01-31T17:29:53.661Z"
      },
      {
        "duration": 137,
        "start_time": "2022-01-31T17:31:36.618Z"
      },
      {
        "duration": 13,
        "start_time": "2022-01-31T17:31:43.546Z"
      },
      {
        "duration": 65002,
        "start_time": "2022-01-31T17:31:55.682Z"
      },
      {
        "duration": 422,
        "start_time": "2022-01-31T17:34:28.894Z"
      },
      {
        "duration": 528,
        "start_time": "2022-01-31T17:37:38.687Z"
      },
      {
        "duration": 537,
        "start_time": "2022-01-31T17:38:35.451Z"
      },
      {
        "duration": 323,
        "start_time": "2022-01-31T17:39:32.127Z"
      },
      {
        "duration": 6956,
        "start_time": "2022-01-31T17:40:16.520Z"
      },
      {
        "duration": 5988,
        "start_time": "2022-01-31T17:40:59.310Z"
      },
      {
        "duration": 331,
        "start_time": "2022-01-31T17:41:19.510Z"
      },
      {
        "duration": 321,
        "start_time": "2022-01-31T17:43:40.278Z"
      },
      {
        "duration": 82,
        "start_time": "2022-01-31T17:45:54.740Z"
      },
      {
        "duration": 74,
        "start_time": "2022-01-31T17:46:12.803Z"
      },
      {
        "duration": 232,
        "start_time": "2022-01-31T17:46:27.883Z"
      },
      {
        "duration": 703,
        "start_time": "2022-01-31T17:48:30.911Z"
      },
      {
        "duration": 34035,
        "start_time": "2022-01-31T17:49:08.761Z"
      },
      {
        "duration": 250,
        "start_time": "2022-01-31T17:50:27.490Z"
      },
      {
        "duration": 1116,
        "start_time": "2022-01-31T17:50:37.328Z"
      },
      {
        "duration": 45,
        "start_time": "2022-01-31T17:50:38.447Z"
      },
      {
        "duration": 18,
        "start_time": "2022-01-31T17:50:38.495Z"
      },
      {
        "duration": 13,
        "start_time": "2022-01-31T17:50:38.515Z"
      },
      {
        "duration": 11,
        "start_time": "2022-01-31T17:50:38.531Z"
      },
      {
        "duration": 11,
        "start_time": "2022-01-31T17:50:38.544Z"
      },
      {
        "duration": 5,
        "start_time": "2022-01-31T17:50:38.557Z"
      },
      {
        "duration": 51,
        "start_time": "2022-01-31T17:50:38.565Z"
      },
      {
        "duration": 35,
        "start_time": "2022-01-31T17:50:38.619Z"
      },
      {
        "duration": 20,
        "start_time": "2022-01-31T17:50:38.656Z"
      },
      {
        "duration": 401,
        "start_time": "2022-01-31T17:50:38.678Z"
      },
      {
        "duration": 15,
        "start_time": "2022-01-31T17:50:39.081Z"
      },
      {
        "duration": 14,
        "start_time": "2022-01-31T17:50:39.098Z"
      },
      {
        "duration": 205,
        "start_time": "2022-01-31T17:50:39.114Z"
      },
      {
        "duration": 13,
        "start_time": "2022-01-31T17:50:39.321Z"
      },
      {
        "duration": 11,
        "start_time": "2022-01-31T17:50:39.336Z"
      },
      {
        "duration": 210,
        "start_time": "2022-01-31T17:50:39.348Z"
      },
      {
        "duration": 198,
        "start_time": "2022-01-31T17:50:39.560Z"
      },
      {
        "duration": 280,
        "start_time": "2022-01-31T17:50:39.760Z"
      },
      {
        "duration": 11,
        "start_time": "2022-01-31T17:50:40.042Z"
      },
      {
        "duration": 321,
        "start_time": "2022-01-31T17:50:40.055Z"
      },
      {
        "duration": 41,
        "start_time": "2022-01-31T17:50:40.379Z"
      },
      {
        "duration": 232,
        "start_time": "2022-01-31T17:50:40.425Z"
      },
      {
        "duration": 14,
        "start_time": "2022-01-31T17:50:40.661Z"
      },
      {
        "duration": 239,
        "start_time": "2022-01-31T17:50:40.677Z"
      },
      {
        "duration": 15,
        "start_time": "2022-01-31T17:50:40.918Z"
      },
      {
        "duration": 304,
        "start_time": "2022-01-31T17:50:40.935Z"
      },
      {
        "duration": 21,
        "start_time": "2022-01-31T17:50:41.241Z"
      },
      {
        "duration": 16,
        "start_time": "2022-01-31T17:50:41.265Z"
      },
      {
        "duration": 46,
        "start_time": "2022-01-31T17:50:41.283Z"
      },
      {
        "duration": 16,
        "start_time": "2022-01-31T17:50:41.331Z"
      },
      {
        "duration": 295,
        "start_time": "2022-01-31T17:50:41.349Z"
      },
      {
        "duration": 266,
        "start_time": "2022-01-31T17:50:41.646Z"
      },
      {
        "duration": 218,
        "start_time": "2022-01-31T17:50:41.914Z"
      },
      {
        "duration": 237,
        "start_time": "2022-01-31T17:50:42.134Z"
      },
      {
        "duration": 227,
        "start_time": "2022-01-31T17:50:42.373Z"
      },
      {
        "duration": 23,
        "start_time": "2022-01-31T17:50:42.602Z"
      },
      {
        "duration": 18,
        "start_time": "2022-01-31T17:50:42.627Z"
      },
      {
        "duration": 18,
        "start_time": "2022-01-31T17:50:42.646Z"
      },
      {
        "duration": 55,
        "start_time": "2022-01-31T17:50:42.665Z"
      },
      {
        "duration": 16,
        "start_time": "2022-01-31T17:50:42.722Z"
      },
      {
        "duration": 376,
        "start_time": "2022-01-31T17:50:42.740Z"
      },
      {
        "duration": 5,
        "start_time": "2022-01-31T17:50:43.118Z"
      },
      {
        "duration": 324,
        "start_time": "2022-01-31T17:50:43.125Z"
      },
      {
        "duration": 311,
        "start_time": "2022-01-31T17:50:43.451Z"
      },
      {
        "duration": 5,
        "start_time": "2022-01-31T17:50:43.764Z"
      },
      {
        "duration": 7,
        "start_time": "2022-01-31T17:50:43.771Z"
      },
      {
        "duration": 33,
        "start_time": "2022-01-31T17:50:43.780Z"
      },
      {
        "duration": 7,
        "start_time": "2022-01-31T17:50:43.815Z"
      },
      {
        "duration": 17,
        "start_time": "2022-01-31T17:50:43.824Z"
      },
      {
        "duration": 15,
        "start_time": "2022-01-31T17:50:43.843Z"
      },
      {
        "duration": 54,
        "start_time": "2022-01-31T17:50:43.860Z"
      },
      {
        "duration": 15,
        "start_time": "2022-01-31T17:50:43.915Z"
      },
      {
        "duration": 351,
        "start_time": "2022-01-31T17:50:43.932Z"
      },
      {
        "duration": 14,
        "start_time": "2022-01-31T17:50:44.284Z"
      },
      {
        "duration": 13,
        "start_time": "2022-01-31T17:50:44.312Z"
      },
      {
        "duration": 35,
        "start_time": "2022-01-31T17:50:44.326Z"
      },
      {
        "duration": 59988,
        "start_time": "2022-01-31T17:50:44.363Z"
      },
      {
        "duration": 441,
        "start_time": "2022-01-31T17:51:44.354Z"
      },
      {
        "duration": 417,
        "start_time": "2022-01-31T17:51:44.797Z"
      },
      {
        "duration": 14,
        "start_time": "2022-01-31T17:51:45.216Z"
      },
      {
        "duration": 14,
        "start_time": "2022-01-31T17:51:45.231Z"
      },
      {
        "duration": 13,
        "start_time": "2022-01-31T17:51:45.247Z"
      },
      {
        "duration": 50,
        "start_time": "2022-01-31T17:51:45.262Z"
      },
      {
        "duration": 9,
        "start_time": "2022-01-31T17:51:45.315Z"
      },
      {
        "duration": 639,
        "start_time": "2022-01-31T17:53:23.042Z"
      },
      {
        "duration": 341,
        "start_time": "2022-01-31T17:53:32.570Z"
      },
      {
        "duration": 252,
        "start_time": "2022-01-31T17:56:22.248Z"
      },
      {
        "duration": 537,
        "start_time": "2022-01-31T17:58:26.908Z"
      },
      {
        "duration": 5727,
        "start_time": "2022-01-31T18:00:46.488Z"
      },
      {
        "duration": 5622,
        "start_time": "2022-01-31T18:01:07.275Z"
      },
      {
        "duration": 244,
        "start_time": "2022-01-31T18:01:44.918Z"
      },
      {
        "duration": 247,
        "start_time": "2022-01-31T18:02:00.299Z"
      },
      {
        "duration": 231,
        "start_time": "2022-01-31T18:02:40.209Z"
      },
      {
        "duration": 483,
        "start_time": "2022-01-31T18:04:34.831Z"
      },
      {
        "duration": 688,
        "start_time": "2022-01-31T18:05:11.702Z"
      },
      {
        "duration": 694,
        "start_time": "2022-01-31T18:05:27.831Z"
      },
      {
        "duration": 790,
        "start_time": "2022-01-31T18:06:13.463Z"
      },
      {
        "duration": 669,
        "start_time": "2022-01-31T18:06:31.987Z"
      },
      {
        "duration": 681,
        "start_time": "2022-01-31T18:08:04.533Z"
      },
      {
        "duration": 5638,
        "start_time": "2022-01-31T20:08:47.540Z"
      },
      {
        "duration": 684,
        "start_time": "2022-01-31T20:09:26.315Z"
      },
      {
        "duration": 619,
        "start_time": "2022-01-31T20:09:45.713Z"
      },
      {
        "duration": 670,
        "start_time": "2022-01-31T20:10:08.750Z"
      },
      {
        "duration": 754,
        "start_time": "2022-01-31T20:10:24.251Z"
      },
      {
        "duration": 1624,
        "start_time": "2022-02-01T08:58:36.837Z"
      },
      {
        "duration": 56,
        "start_time": "2022-02-01T08:58:38.464Z"
      },
      {
        "duration": 12,
        "start_time": "2022-02-01T08:58:38.525Z"
      },
      {
        "duration": 21,
        "start_time": "2022-02-01T08:58:38.540Z"
      },
      {
        "duration": 11,
        "start_time": "2022-02-01T08:58:38.564Z"
      },
      {
        "duration": 19,
        "start_time": "2022-02-01T08:58:38.577Z"
      },
      {
        "duration": 5,
        "start_time": "2022-02-01T08:58:38.599Z"
      },
      {
        "duration": 18,
        "start_time": "2022-02-01T08:58:38.624Z"
      },
      {
        "duration": 81,
        "start_time": "2022-02-01T08:58:38.649Z"
      },
      {
        "duration": 28,
        "start_time": "2022-02-01T08:58:38.734Z"
      },
      {
        "duration": 415,
        "start_time": "2022-02-01T08:58:38.765Z"
      },
      {
        "duration": 41,
        "start_time": "2022-02-01T08:58:39.184Z"
      },
      {
        "duration": 19,
        "start_time": "2022-02-01T08:58:39.229Z"
      },
      {
        "duration": 433,
        "start_time": "2022-02-01T08:58:39.251Z"
      },
      {
        "duration": 19,
        "start_time": "2022-02-01T08:58:39.687Z"
      },
      {
        "duration": 19,
        "start_time": "2022-02-01T08:58:39.725Z"
      },
      {
        "duration": 328,
        "start_time": "2022-02-01T08:58:39.748Z"
      },
      {
        "duration": 317,
        "start_time": "2022-02-01T08:58:40.079Z"
      },
      {
        "duration": 322,
        "start_time": "2022-02-01T08:58:40.398Z"
      },
      {
        "duration": 22,
        "start_time": "2022-02-01T08:58:40.724Z"
      },
      {
        "duration": 311,
        "start_time": "2022-02-01T08:58:40.748Z"
      },
      {
        "duration": 17,
        "start_time": "2022-02-01T08:58:41.061Z"
      },
      {
        "duration": 324,
        "start_time": "2022-02-01T08:58:41.080Z"
      },
      {
        "duration": 34,
        "start_time": "2022-02-01T08:58:41.406Z"
      },
      {
        "duration": 498,
        "start_time": "2022-02-01T08:58:41.442Z"
      },
      {
        "duration": 19,
        "start_time": "2022-02-01T08:58:41.942Z"
      },
      {
        "duration": 335,
        "start_time": "2022-02-01T08:58:41.967Z"
      },
      {
        "duration": 42,
        "start_time": "2022-02-01T08:58:42.307Z"
      },
      {
        "duration": 36,
        "start_time": "2022-02-01T08:58:42.352Z"
      },
      {
        "duration": 64,
        "start_time": "2022-02-01T08:58:42.392Z"
      },
      {
        "duration": 25,
        "start_time": "2022-02-01T08:58:42.458Z"
      },
      {
        "duration": 421,
        "start_time": "2022-02-01T08:58:42.485Z"
      },
      {
        "duration": 348,
        "start_time": "2022-02-01T08:58:42.909Z"
      },
      {
        "duration": 332,
        "start_time": "2022-02-01T08:58:43.260Z"
      },
      {
        "duration": 348,
        "start_time": "2022-02-01T08:58:43.595Z"
      },
      {
        "duration": 317,
        "start_time": "2022-02-01T08:58:43.946Z"
      },
      {
        "duration": 28,
        "start_time": "2022-02-01T08:58:44.266Z"
      },
      {
        "duration": 50,
        "start_time": "2022-02-01T08:58:44.296Z"
      },
      {
        "duration": 29,
        "start_time": "2022-02-01T08:58:44.349Z"
      },
      {
        "duration": 46,
        "start_time": "2022-02-01T08:58:44.381Z"
      },
      {
        "duration": 27,
        "start_time": "2022-02-01T08:58:44.430Z"
      },
      {
        "duration": 539,
        "start_time": "2022-02-01T08:58:44.459Z"
      },
      {
        "duration": 6,
        "start_time": "2022-02-01T08:58:45.000Z"
      },
      {
        "duration": 436,
        "start_time": "2022-02-01T08:58:45.008Z"
      },
      {
        "duration": 428,
        "start_time": "2022-02-01T08:58:45.447Z"
      },
      {
        "duration": 7,
        "start_time": "2022-02-01T08:58:45.877Z"
      },
      {
        "duration": 9,
        "start_time": "2022-02-01T08:58:45.886Z"
      },
      {
        "duration": 31,
        "start_time": "2022-02-01T08:58:45.898Z"
      },
      {
        "duration": 14,
        "start_time": "2022-02-01T08:58:45.932Z"
      },
      {
        "duration": 24,
        "start_time": "2022-02-01T08:58:45.949Z"
      },
      {
        "duration": 52,
        "start_time": "2022-02-01T08:58:45.976Z"
      },
      {
        "duration": 22,
        "start_time": "2022-02-01T08:58:46.032Z"
      },
      {
        "duration": 18,
        "start_time": "2022-02-01T08:58:46.056Z"
      },
      {
        "duration": 946,
        "start_time": "2022-02-01T08:58:46.077Z"
      },
      {
        "duration": 24,
        "start_time": "2022-02-01T08:58:47.026Z"
      },
      {
        "duration": 19,
        "start_time": "2022-02-01T08:58:47.053Z"
      },
      {
        "duration": 57,
        "start_time": "2022-02-01T08:58:47.074Z"
      },
      {
        "duration": 843,
        "start_time": "2022-02-01T08:58:47.134Z"
      },
      {
        "duration": 20,
        "start_time": "2022-02-01T08:58:47.980Z"
      },
      {
        "duration": 44,
        "start_time": "2022-02-01T08:58:48.002Z"
      },
      {
        "duration": 20,
        "start_time": "2022-02-01T08:58:48.049Z"
      },
      {
        "duration": 905,
        "start_time": "2022-02-01T08:58:48.071Z"
      },
      {
        "duration": 14,
        "start_time": "2022-02-01T08:58:48.978Z"
      },
      {
        "duration": 35,
        "start_time": "2022-02-01T08:58:48.995Z"
      },
      {
        "duration": 775,
        "start_time": "2022-02-01T08:59:25.485Z"
      },
      {
        "duration": 728,
        "start_time": "2022-02-01T08:59:48.788Z"
      },
      {
        "duration": 945,
        "start_time": "2022-02-01T09:00:39.019Z"
      },
      {
        "duration": 897,
        "start_time": "2022-02-01T09:04:34.950Z"
      },
      {
        "duration": 1516,
        "start_time": "2022-02-01T09:05:56.776Z"
      },
      {
        "duration": 62,
        "start_time": "2022-02-01T09:05:58.296Z"
      },
      {
        "duration": 9,
        "start_time": "2022-02-01T09:05:58.362Z"
      },
      {
        "duration": 14,
        "start_time": "2022-02-01T09:05:58.374Z"
      },
      {
        "duration": 44,
        "start_time": "2022-02-01T09:05:58.391Z"
      },
      {
        "duration": 17,
        "start_time": "2022-02-01T09:05:58.439Z"
      },
      {
        "duration": 7,
        "start_time": "2022-02-01T09:05:58.458Z"
      },
      {
        "duration": 14,
        "start_time": "2022-02-01T09:05:58.471Z"
      },
      {
        "duration": 90,
        "start_time": "2022-02-01T09:05:58.489Z"
      },
      {
        "duration": 57,
        "start_time": "2022-02-01T09:05:58.583Z"
      },
      {
        "duration": 422,
        "start_time": "2022-02-01T09:05:58.643Z"
      },
      {
        "duration": 24,
        "start_time": "2022-02-01T09:05:59.067Z"
      },
      {
        "duration": 31,
        "start_time": "2022-02-01T09:05:59.094Z"
      },
      {
        "duration": 323,
        "start_time": "2022-02-01T09:05:59.128Z"
      },
      {
        "duration": 18,
        "start_time": "2022-02-01T09:05:59.453Z"
      },
      {
        "duration": 17,
        "start_time": "2022-02-01T09:05:59.473Z"
      },
      {
        "duration": 332,
        "start_time": "2022-02-01T09:05:59.492Z"
      },
      {
        "duration": 316,
        "start_time": "2022-02-01T09:05:59.827Z"
      },
      {
        "duration": 318,
        "start_time": "2022-02-01T09:06:00.146Z"
      },
      {
        "duration": 17,
        "start_time": "2022-02-01T09:06:00.466Z"
      },
      {
        "duration": 326,
        "start_time": "2022-02-01T09:06:00.485Z"
      },
      {
        "duration": 24,
        "start_time": "2022-02-01T09:06:00.814Z"
      },
      {
        "duration": 345,
        "start_time": "2022-02-01T09:06:00.845Z"
      },
      {
        "duration": 30,
        "start_time": "2022-02-01T09:06:01.193Z"
      },
      {
        "duration": 421,
        "start_time": "2022-02-01T09:06:01.227Z"
      },
      {
        "duration": 19,
        "start_time": "2022-02-01T09:06:01.650Z"
      },
      {
        "duration": 345,
        "start_time": "2022-02-01T09:06:01.671Z"
      },
      {
        "duration": 33,
        "start_time": "2022-02-01T09:06:02.019Z"
      },
      {
        "duration": 24,
        "start_time": "2022-02-01T09:06:02.054Z"
      },
      {
        "duration": 64,
        "start_time": "2022-02-01T09:06:02.080Z"
      },
      {
        "duration": 24,
        "start_time": "2022-02-01T09:06:02.146Z"
      },
      {
        "duration": 368,
        "start_time": "2022-02-01T09:06:02.172Z"
      },
      {
        "duration": 345,
        "start_time": "2022-02-01T09:06:02.543Z"
      },
      {
        "duration": 337,
        "start_time": "2022-02-01T09:06:02.890Z"
      },
      {
        "duration": 353,
        "start_time": "2022-02-01T09:06:03.231Z"
      },
      {
        "duration": 341,
        "start_time": "2022-02-01T09:06:03.586Z"
      },
      {
        "duration": 29,
        "start_time": "2022-02-01T09:06:03.930Z"
      },
      {
        "duration": 26,
        "start_time": "2022-02-01T09:06:03.961Z"
      },
      {
        "duration": 60,
        "start_time": "2022-02-01T09:06:03.990Z"
      },
      {
        "duration": 15,
        "start_time": "2022-02-01T09:06:04.053Z"
      },
      {
        "duration": 54,
        "start_time": "2022-02-01T09:06:04.071Z"
      },
      {
        "duration": 523,
        "start_time": "2022-02-01T09:06:04.128Z"
      },
      {
        "duration": 7,
        "start_time": "2022-02-01T09:06:04.653Z"
      },
      {
        "duration": 428,
        "start_time": "2022-02-01T09:06:04.662Z"
      },
      {
        "duration": 442,
        "start_time": "2022-02-01T09:06:05.092Z"
      },
      {
        "duration": 8,
        "start_time": "2022-02-01T09:06:05.537Z"
      },
      {
        "duration": 17,
        "start_time": "2022-02-01T09:06:05.548Z"
      },
      {
        "duration": 8,
        "start_time": "2022-02-01T09:06:05.567Z"
      },
      {
        "duration": 6,
        "start_time": "2022-02-01T09:06:05.577Z"
      },
      {
        "duration": 80,
        "start_time": "2022-02-01T09:06:05.586Z"
      },
      {
        "duration": 20,
        "start_time": "2022-02-01T09:06:05.669Z"
      },
      {
        "duration": 42,
        "start_time": "2022-02-01T09:06:05.692Z"
      },
      {
        "duration": 21,
        "start_time": "2022-02-01T09:06:05.738Z"
      },
      {
        "duration": 891,
        "start_time": "2022-02-01T09:06:05.761Z"
      },
      {
        "duration": 19,
        "start_time": "2022-02-01T09:06:06.655Z"
      },
      {
        "duration": 19,
        "start_time": "2022-02-01T09:06:06.676Z"
      },
      {
        "duration": 23,
        "start_time": "2022-02-01T09:06:06.726Z"
      },
      {
        "duration": 790,
        "start_time": "2022-02-01T09:06:06.752Z"
      },
      {
        "duration": 21,
        "start_time": "2022-02-01T09:06:07.545Z"
      },
      {
        "duration": 19,
        "start_time": "2022-02-01T09:06:07.568Z"
      },
      {
        "duration": 53,
        "start_time": "2022-02-01T09:06:07.590Z"
      },
      {
        "duration": 874,
        "start_time": "2022-02-01T09:06:07.646Z"
      },
      {
        "duration": 18,
        "start_time": "2022-02-01T09:06:08.523Z"
      },
      {
        "duration": 14,
        "start_time": "2022-02-01T09:06:08.544Z"
      },
      {
        "duration": 1090,
        "start_time": "2022-02-01T11:38:25.828Z"
      },
      {
        "duration": 42,
        "start_time": "2022-02-01T11:38:26.920Z"
      },
      {
        "duration": 4,
        "start_time": "2022-02-01T11:38:26.964Z"
      },
      {
        "duration": 7,
        "start_time": "2022-02-01T11:38:26.970Z"
      },
      {
        "duration": 6,
        "start_time": "2022-02-01T11:38:26.979Z"
      },
      {
        "duration": 9,
        "start_time": "2022-02-01T11:38:26.986Z"
      },
      {
        "duration": 3,
        "start_time": "2022-02-01T11:38:26.996Z"
      },
      {
        "duration": 8,
        "start_time": "2022-02-01T11:38:27.002Z"
      },
      {
        "duration": 26,
        "start_time": "2022-02-01T11:38:27.011Z"
      },
      {
        "duration": 38,
        "start_time": "2022-02-01T11:38:27.038Z"
      },
      {
        "duration": 274,
        "start_time": "2022-02-01T11:38:27.078Z"
      },
      {
        "duration": 27,
        "start_time": "2022-02-01T11:38:27.354Z"
      },
      {
        "duration": 9,
        "start_time": "2022-02-01T11:38:27.383Z"
      },
      {
        "duration": 169,
        "start_time": "2022-02-01T11:38:27.394Z"
      },
      {
        "duration": 16,
        "start_time": "2022-02-01T11:38:27.565Z"
      },
      {
        "duration": 11,
        "start_time": "2022-02-01T11:38:27.583Z"
      },
      {
        "duration": 170,
        "start_time": "2022-02-01T11:38:27.595Z"
      },
      {
        "duration": 165,
        "start_time": "2022-02-01T11:38:27.767Z"
      },
      {
        "duration": 174,
        "start_time": "2022-02-01T11:38:27.934Z"
      },
      {
        "duration": 10,
        "start_time": "2022-02-01T11:38:28.110Z"
      },
      {
        "duration": 166,
        "start_time": "2022-02-01T11:38:28.121Z"
      },
      {
        "duration": 10,
        "start_time": "2022-02-01T11:38:28.289Z"
      },
      {
        "duration": 177,
        "start_time": "2022-02-01T11:38:28.304Z"
      },
      {
        "duration": 12,
        "start_time": "2022-02-01T11:38:28.483Z"
      },
      {
        "duration": 219,
        "start_time": "2022-02-01T11:38:28.497Z"
      },
      {
        "duration": 11,
        "start_time": "2022-02-01T11:38:28.717Z"
      },
      {
        "duration": 177,
        "start_time": "2022-02-01T11:38:28.729Z"
      },
      {
        "duration": 15,
        "start_time": "2022-02-01T11:38:28.907Z"
      },
      {
        "duration": 13,
        "start_time": "2022-02-01T11:38:28.924Z"
      },
      {
        "duration": 34,
        "start_time": "2022-02-01T11:38:28.938Z"
      },
      {
        "duration": 13,
        "start_time": "2022-02-01T11:38:28.974Z"
      },
      {
        "duration": 184,
        "start_time": "2022-02-01T11:38:28.989Z"
      },
      {
        "duration": 181,
        "start_time": "2022-02-01T11:38:29.175Z"
      },
      {
        "duration": 169,
        "start_time": "2022-02-01T11:38:29.357Z"
      },
      {
        "duration": 176,
        "start_time": "2022-02-01T11:38:29.528Z"
      },
      {
        "duration": 186,
        "start_time": "2022-02-01T11:38:29.706Z"
      },
      {
        "duration": 17,
        "start_time": "2022-02-01T11:38:29.895Z"
      },
      {
        "duration": 17,
        "start_time": "2022-02-01T11:38:29.913Z"
      },
      {
        "duration": 41,
        "start_time": "2022-02-01T11:38:29.932Z"
      },
      {
        "duration": 11,
        "start_time": "2022-02-01T11:38:29.974Z"
      },
      {
        "duration": 14,
        "start_time": "2022-02-01T11:38:29.987Z"
      },
      {
        "duration": 299,
        "start_time": "2022-02-01T11:38:30.003Z"
      },
      {
        "duration": 4,
        "start_time": "2022-02-01T11:38:30.304Z"
      },
      {
        "duration": 282,
        "start_time": "2022-02-01T11:38:30.310Z"
      },
      {
        "duration": 271,
        "start_time": "2022-02-01T11:38:30.594Z"
      },
      {
        "duration": 5,
        "start_time": "2022-02-01T11:38:30.872Z"
      },
      {
        "duration": 18,
        "start_time": "2022-02-01T11:38:30.879Z"
      },
      {
        "duration": 10,
        "start_time": "2022-02-01T11:38:30.899Z"
      },
      {
        "duration": 30,
        "start_time": "2022-02-01T11:38:30.910Z"
      },
      {
        "duration": 23,
        "start_time": "2022-02-01T11:38:30.942Z"
      },
      {
        "duration": 23,
        "start_time": "2022-02-01T11:38:30.966Z"
      },
      {
        "duration": 18,
        "start_time": "2022-02-01T11:38:30.991Z"
      },
      {
        "duration": 31,
        "start_time": "2022-02-01T11:38:31.011Z"
      },
      {
        "duration": 525,
        "start_time": "2022-02-01T11:38:31.044Z"
      },
      {
        "duration": 13,
        "start_time": "2022-02-01T11:38:31.571Z"
      },
      {
        "duration": 12,
        "start_time": "2022-02-01T11:38:31.585Z"
      },
      {
        "duration": 11,
        "start_time": "2022-02-01T11:38:31.599Z"
      },
      {
        "duration": 457,
        "start_time": "2022-02-01T11:38:31.612Z"
      },
      {
        "duration": 13,
        "start_time": "2022-02-01T11:38:32.070Z"
      },
      {
        "duration": 11,
        "start_time": "2022-02-01T11:38:32.085Z"
      },
      {
        "duration": 13,
        "start_time": "2022-02-01T11:38:32.098Z"
      },
      {
        "duration": 415,
        "start_time": "2022-02-01T11:38:32.112Z"
      },
      {
        "duration": 8,
        "start_time": "2022-02-01T11:38:32.529Z"
      },
      {
        "duration": 8,
        "start_time": "2022-02-01T11:38:32.539Z"
      },
      {
        "duration": 5,
        "start_time": "2022-02-01T11:40:03.392Z"
      },
      {
        "duration": 8,
        "start_time": "2022-02-01T11:40:05.209Z"
      },
      {
        "duration": 8,
        "start_time": "2022-02-01T11:40:11.911Z"
      },
      {
        "duration": 116,
        "start_time": "2022-02-01T11:42:15.006Z"
      },
      {
        "duration": 531,
        "start_time": "2022-02-01T11:42:14.593Z"
      },
      {
        "duration": 527,
        "start_time": "2022-02-01T11:42:14.598Z"
      },
      {
        "duration": 523,
        "start_time": "2022-02-01T11:42:14.603Z"
      },
      {
        "duration": 517,
        "start_time": "2022-02-01T11:42:14.609Z"
      },
      {
        "duration": 513,
        "start_time": "2022-02-01T11:42:14.614Z"
      },
      {
        "duration": 509,
        "start_time": "2022-02-01T11:42:14.619Z"
      },
      {
        "duration": 505,
        "start_time": "2022-02-01T11:42:14.624Z"
      },
      {
        "duration": 502,
        "start_time": "2022-02-01T11:42:14.628Z"
      },
      {
        "duration": 498,
        "start_time": "2022-02-01T11:42:14.632Z"
      },
      {
        "duration": 493,
        "start_time": "2022-02-01T11:42:14.638Z"
      },
      {
        "duration": 489,
        "start_time": "2022-02-01T11:42:14.643Z"
      },
      {
        "duration": 485,
        "start_time": "2022-02-01T11:42:14.648Z"
      },
      {
        "duration": 447,
        "start_time": "2022-02-01T11:42:14.687Z"
      },
      {
        "duration": 442,
        "start_time": "2022-02-01T11:42:14.693Z"
      },
      {
        "duration": 438,
        "start_time": "2022-02-01T11:42:14.698Z"
      },
      {
        "duration": 433,
        "start_time": "2022-02-01T11:42:14.703Z"
      },
      {
        "duration": 429,
        "start_time": "2022-02-01T11:42:14.708Z"
      },
      {
        "duration": 425,
        "start_time": "2022-02-01T11:42:14.713Z"
      },
      {
        "duration": 422,
        "start_time": "2022-02-01T11:42:14.717Z"
      },
      {
        "duration": 418,
        "start_time": "2022-02-01T11:42:14.722Z"
      },
      {
        "duration": 414,
        "start_time": "2022-02-01T11:42:14.727Z"
      },
      {
        "duration": 411,
        "start_time": "2022-02-01T11:42:14.731Z"
      },
      {
        "duration": 407,
        "start_time": "2022-02-01T11:42:14.736Z"
      },
      {
        "duration": 403,
        "start_time": "2022-02-01T11:42:14.740Z"
      },
      {
        "duration": 399,
        "start_time": "2022-02-01T11:42:14.745Z"
      },
      {
        "duration": 395,
        "start_time": "2022-02-01T11:42:14.750Z"
      },
      {
        "duration": 391,
        "start_time": "2022-02-01T11:42:14.755Z"
      },
      {
        "duration": 388,
        "start_time": "2022-02-01T11:42:14.759Z"
      },
      {
        "duration": 312,
        "start_time": "2022-02-01T11:42:15.149Z"
      },
      {
        "duration": 645,
        "start_time": "2022-02-01T11:42:14.818Z"
      },
      {
        "duration": 639,
        "start_time": "2022-02-01T11:42:14.825Z"
      },
      {
        "duration": 635,
        "start_time": "2022-02-01T11:42:14.830Z"
      },
      {
        "duration": 631,
        "start_time": "2022-02-01T11:42:14.835Z"
      },
      {
        "duration": 626,
        "start_time": "2022-02-01T11:42:14.841Z"
      },
      {
        "duration": 622,
        "start_time": "2022-02-01T11:42:14.846Z"
      },
      {
        "duration": 617,
        "start_time": "2022-02-01T11:42:14.851Z"
      },
      {
        "duration": 613,
        "start_time": "2022-02-01T11:42:14.856Z"
      },
      {
        "duration": 609,
        "start_time": "2022-02-01T11:42:14.861Z"
      },
      {
        "duration": 605,
        "start_time": "2022-02-01T11:42:14.866Z"
      },
      {
        "duration": 601,
        "start_time": "2022-02-01T11:42:14.871Z"
      },
      {
        "duration": 597,
        "start_time": "2022-02-01T11:42:14.876Z"
      },
      {
        "duration": 593,
        "start_time": "2022-02-01T11:42:14.881Z"
      },
      {
        "duration": 589,
        "start_time": "2022-02-01T11:42:14.886Z"
      },
      {
        "duration": 584,
        "start_time": "2022-02-01T11:42:14.891Z"
      },
      {
        "duration": 580,
        "start_time": "2022-02-01T11:42:14.896Z"
      },
      {
        "duration": 577,
        "start_time": "2022-02-01T11:42:14.900Z"
      },
      {
        "duration": 571,
        "start_time": "2022-02-01T11:42:14.907Z"
      },
      {
        "duration": 567,
        "start_time": "2022-02-01T11:42:14.911Z"
      },
      {
        "duration": 550,
        "start_time": "2022-02-01T11:42:14.929Z"
      },
      {
        "duration": 546,
        "start_time": "2022-02-01T11:42:14.934Z"
      },
      {
        "duration": 541,
        "start_time": "2022-02-01T11:42:14.940Z"
      },
      {
        "duration": 537,
        "start_time": "2022-02-01T11:42:14.944Z"
      },
      {
        "duration": 532,
        "start_time": "2022-02-01T11:42:14.950Z"
      },
      {
        "duration": 529,
        "start_time": "2022-02-01T11:42:14.954Z"
      },
      {
        "duration": 524,
        "start_time": "2022-02-01T11:42:14.960Z"
      },
      {
        "duration": 520,
        "start_time": "2022-02-01T11:42:14.964Z"
      },
      {
        "duration": 516,
        "start_time": "2022-02-01T11:42:14.969Z"
      },
      {
        "duration": 512,
        "start_time": "2022-02-01T11:42:14.974Z"
      },
      {
        "duration": 507,
        "start_time": "2022-02-01T11:42:14.979Z"
      },
      {
        "duration": 503,
        "start_time": "2022-02-01T11:42:14.984Z"
      },
      {
        "duration": 498,
        "start_time": "2022-02-01T11:42:14.990Z"
      },
      {
        "duration": 495,
        "start_time": "2022-02-01T11:42:14.994Z"
      },
      {
        "duration": 491,
        "start_time": "2022-02-01T11:42:14.999Z"
      },
      {
        "duration": 487,
        "start_time": "2022-02-01T11:42:15.004Z"
      },
      {
        "duration": 483,
        "start_time": "2022-02-01T11:42:15.009Z"
      },
      {
        "duration": 99,
        "start_time": "2022-02-01T11:42:37.957Z"
      },
      {
        "duration": 853,
        "start_time": "2022-02-01T11:42:37.205Z"
      },
      {
        "duration": 848,
        "start_time": "2022-02-01T11:42:37.211Z"
      },
      {
        "duration": 843,
        "start_time": "2022-02-01T11:42:37.217Z"
      },
      {
        "duration": 839,
        "start_time": "2022-02-01T11:42:37.222Z"
      },
      {
        "duration": 834,
        "start_time": "2022-02-01T11:42:37.227Z"
      },
      {
        "duration": 830,
        "start_time": "2022-02-01T11:42:37.232Z"
      },
      {
        "duration": 826,
        "start_time": "2022-02-01T11:42:37.237Z"
      },
      {
        "duration": 821,
        "start_time": "2022-02-01T11:42:37.242Z"
      },
      {
        "duration": 817,
        "start_time": "2022-02-01T11:42:37.247Z"
      },
      {
        "duration": 812,
        "start_time": "2022-02-01T11:42:37.252Z"
      },
      {
        "duration": 807,
        "start_time": "2022-02-01T11:42:37.258Z"
      },
      {
        "duration": 804,
        "start_time": "2022-02-01T11:42:37.262Z"
      },
      {
        "duration": 800,
        "start_time": "2022-02-01T11:42:37.267Z"
      },
      {
        "duration": 795,
        "start_time": "2022-02-01T11:42:37.272Z"
      },
      {
        "duration": 792,
        "start_time": "2022-02-01T11:42:37.276Z"
      },
      {
        "duration": 788,
        "start_time": "2022-02-01T11:42:37.281Z"
      },
      {
        "duration": 785,
        "start_time": "2022-02-01T11:42:37.285Z"
      },
      {
        "duration": 781,
        "start_time": "2022-02-01T11:42:37.290Z"
      },
      {
        "duration": 746,
        "start_time": "2022-02-01T11:42:37.325Z"
      },
      {
        "duration": 741,
        "start_time": "2022-02-01T11:42:37.331Z"
      },
      {
        "duration": 736,
        "start_time": "2022-02-01T11:42:37.337Z"
      },
      {
        "duration": 732,
        "start_time": "2022-02-01T11:42:37.341Z"
      },
      {
        "duration": 728,
        "start_time": "2022-02-01T11:42:37.346Z"
      },
      {
        "duration": 724,
        "start_time": "2022-02-01T11:42:37.351Z"
      },
      {
        "duration": 719,
        "start_time": "2022-02-01T11:42:37.356Z"
      },
      {
        "duration": 716,
        "start_time": "2022-02-01T11:42:37.360Z"
      },
      {
        "duration": 712,
        "start_time": "2022-02-01T11:42:37.365Z"
      },
      {
        "duration": 402,
        "start_time": "2022-02-01T11:42:38.078Z"
      },
      {
        "duration": 749,
        "start_time": "2022-02-01T11:42:37.734Z"
      },
      {
        "duration": 734,
        "start_time": "2022-02-01T11:42:37.749Z"
      },
      {
        "duration": 729,
        "start_time": "2022-02-01T11:42:37.755Z"
      },
      {
        "duration": 724,
        "start_time": "2022-02-01T11:42:37.761Z"
      },
      {
        "duration": 720,
        "start_time": "2022-02-01T11:42:37.766Z"
      },
      {
        "duration": 715,
        "start_time": "2022-02-01T11:42:37.771Z"
      },
      {
        "duration": 711,
        "start_time": "2022-02-01T11:42:37.776Z"
      },
      {
        "duration": 707,
        "start_time": "2022-02-01T11:42:37.781Z"
      },
      {
        "duration": 703,
        "start_time": "2022-02-01T11:42:37.785Z"
      },
      {
        "duration": 698,
        "start_time": "2022-02-01T11:42:37.791Z"
      },
      {
        "duration": 694,
        "start_time": "2022-02-01T11:42:37.795Z"
      },
      {
        "duration": 689,
        "start_time": "2022-02-01T11:42:37.801Z"
      },
      {
        "duration": 686,
        "start_time": "2022-02-01T11:42:37.805Z"
      },
      {
        "duration": 682,
        "start_time": "2022-02-01T11:42:37.810Z"
      },
      {
        "duration": 677,
        "start_time": "2022-02-01T11:42:37.815Z"
      },
      {
        "duration": 673,
        "start_time": "2022-02-01T11:42:37.820Z"
      },
      {
        "duration": 668,
        "start_time": "2022-02-01T11:42:37.825Z"
      },
      {
        "duration": 664,
        "start_time": "2022-02-01T11:42:37.830Z"
      },
      {
        "duration": 660,
        "start_time": "2022-02-01T11:42:37.835Z"
      },
      {
        "duration": 655,
        "start_time": "2022-02-01T11:42:37.840Z"
      },
      {
        "duration": 652,
        "start_time": "2022-02-01T11:42:37.844Z"
      },
      {
        "duration": 630,
        "start_time": "2022-02-01T11:42:37.866Z"
      },
      {
        "duration": 625,
        "start_time": "2022-02-01T11:42:37.872Z"
      },
      {
        "duration": 620,
        "start_time": "2022-02-01T11:42:37.878Z"
      },
      {
        "duration": 616,
        "start_time": "2022-02-01T11:42:37.883Z"
      },
      {
        "duration": 611,
        "start_time": "2022-02-01T11:42:37.888Z"
      },
      {
        "duration": 607,
        "start_time": "2022-02-01T11:42:37.893Z"
      },
      {
        "duration": 603,
        "start_time": "2022-02-01T11:42:37.898Z"
      },
      {
        "duration": 598,
        "start_time": "2022-02-01T11:42:37.903Z"
      },
      {
        "duration": 594,
        "start_time": "2022-02-01T11:42:37.908Z"
      },
      {
        "duration": 589,
        "start_time": "2022-02-01T11:42:37.913Z"
      },
      {
        "duration": 585,
        "start_time": "2022-02-01T11:42:37.918Z"
      },
      {
        "duration": 582,
        "start_time": "2022-02-01T11:42:37.922Z"
      },
      {
        "duration": 578,
        "start_time": "2022-02-01T11:42:37.927Z"
      },
      {
        "duration": 573,
        "start_time": "2022-02-01T11:42:37.932Z"
      },
      {
        "duration": 569,
        "start_time": "2022-02-01T11:42:37.937Z"
      },
      {
        "duration": 566,
        "start_time": "2022-02-01T11:42:37.941Z"
      },
      {
        "duration": 1119,
        "start_time": "2022-02-01T11:42:59.278Z"
      },
      {
        "duration": 42,
        "start_time": "2022-02-01T11:43:00.399Z"
      },
      {
        "duration": 5,
        "start_time": "2022-02-01T11:43:00.443Z"
      },
      {
        "duration": 13,
        "start_time": "2022-02-01T11:43:00.449Z"
      },
      {
        "duration": 10,
        "start_time": "2022-02-01T11:43:00.463Z"
      },
      {
        "duration": 10,
        "start_time": "2022-02-01T11:43:00.474Z"
      },
      {
        "duration": 4,
        "start_time": "2022-02-01T11:43:00.486Z"
      },
      {
        "duration": 15,
        "start_time": "2022-02-01T11:43:00.492Z"
      },
      {
        "duration": 33,
        "start_time": "2022-02-01T11:43:00.508Z"
      },
      {
        "duration": 16,
        "start_time": "2022-02-01T11:43:00.542Z"
      },
      {
        "duration": 297,
        "start_time": "2022-02-01T11:43:00.560Z"
      },
      {
        "duration": 25,
        "start_time": "2022-02-01T11:43:00.859Z"
      },
      {
        "duration": 9,
        "start_time": "2022-02-01T11:43:00.885Z"
      },
      {
        "duration": 181,
        "start_time": "2022-02-01T11:43:00.895Z"
      },
      {
        "duration": 11,
        "start_time": "2022-02-01T11:43:01.078Z"
      },
      {
        "duration": 22,
        "start_time": "2022-02-01T11:43:01.091Z"
      },
      {
        "duration": 181,
        "start_time": "2022-02-01T11:43:01.115Z"
      },
      {
        "duration": 187,
        "start_time": "2022-02-01T11:43:01.297Z"
      },
      {
        "duration": 182,
        "start_time": "2022-02-01T11:43:01.486Z"
      },
      {
        "duration": 12,
        "start_time": "2022-02-01T11:43:01.672Z"
      },
      {
        "duration": 176,
        "start_time": "2022-02-01T11:43:01.686Z"
      },
      {
        "duration": 16,
        "start_time": "2022-02-01T11:43:01.864Z"
      },
      {
        "duration": 162,
        "start_time": "2022-02-01T11:43:01.884Z"
      },
      {
        "duration": 11,
        "start_time": "2022-02-01T11:43:02.048Z"
      },
      {
        "duration": 212,
        "start_time": "2022-02-01T11:43:02.071Z"
      },
      {
        "duration": 13,
        "start_time": "2022-02-01T11:43:02.285Z"
      },
      {
        "duration": 177,
        "start_time": "2022-02-01T11:43:02.300Z"
      },
      {
        "duration": 13,
        "start_time": "2022-02-01T11:43:02.479Z"
      },
      {
        "duration": 13,
        "start_time": "2022-02-01T11:43:02.494Z"
      },
      {
        "duration": 13,
        "start_time": "2022-02-01T11:43:02.509Z"
      },
      {
        "duration": 13,
        "start_time": "2022-02-01T11:43:02.523Z"
      },
      {
        "duration": 200,
        "start_time": "2022-02-01T11:43:02.537Z"
      },
      {
        "duration": 185,
        "start_time": "2022-02-01T11:43:02.738Z"
      },
      {
        "duration": 168,
        "start_time": "2022-02-01T11:43:02.924Z"
      },
      {
        "duration": 180,
        "start_time": "2022-02-01T11:43:03.093Z"
      },
      {
        "duration": 174,
        "start_time": "2022-02-01T11:43:03.275Z"
      },
      {
        "duration": 21,
        "start_time": "2022-02-01T11:43:03.451Z"
      },
      {
        "duration": 13,
        "start_time": "2022-02-01T11:43:03.474Z"
      },
      {
        "duration": 14,
        "start_time": "2022-02-01T11:43:03.488Z"
      },
      {
        "duration": 9,
        "start_time": "2022-02-01T11:43:03.503Z"
      },
      {
        "duration": 13,
        "start_time": "2022-02-01T11:43:03.514Z"
      },
      {
        "duration": 293,
        "start_time": "2022-02-01T11:43:03.529Z"
      },
      {
        "duration": 5,
        "start_time": "2022-02-01T11:43:03.823Z"
      },
      {
        "duration": 275,
        "start_time": "2022-02-01T11:43:03.830Z"
      },
      {
        "duration": 256,
        "start_time": "2022-02-01T11:43:04.106Z"
      },
      {
        "duration": 10,
        "start_time": "2022-02-01T11:43:04.363Z"
      },
      {
        "duration": 8,
        "start_time": "2022-02-01T11:43:04.375Z"
      },
      {
        "duration": 9,
        "start_time": "2022-02-01T11:43:04.384Z"
      },
      {
        "duration": 4,
        "start_time": "2022-02-01T11:43:04.394Z"
      },
      {
        "duration": 15,
        "start_time": "2022-02-01T11:43:04.400Z"
      },
      {
        "duration": 14,
        "start_time": "2022-02-01T11:43:04.417Z"
      },
      {
        "duration": 11,
        "start_time": "2022-02-01T11:43:04.432Z"
      },
      {
        "duration": 35,
        "start_time": "2022-02-01T11:43:04.444Z"
      },
      {
        "duration": 488,
        "start_time": "2022-02-01T11:43:04.480Z"
      },
      {
        "duration": 13,
        "start_time": "2022-02-01T11:43:04.971Z"
      },
      {
        "duration": 26,
        "start_time": "2022-02-01T11:43:04.985Z"
      },
      {
        "duration": 20,
        "start_time": "2022-02-01T11:43:05.012Z"
      },
      {
        "duration": 415,
        "start_time": "2022-02-01T11:43:05.033Z"
      },
      {
        "duration": 12,
        "start_time": "2022-02-01T11:43:05.450Z"
      },
      {
        "duration": 22,
        "start_time": "2022-02-01T11:43:05.463Z"
      },
      {
        "duration": 11,
        "start_time": "2022-02-01T11:43:05.487Z"
      },
      {
        "duration": 404,
        "start_time": "2022-02-01T11:43:05.500Z"
      },
      {
        "duration": 6,
        "start_time": "2022-02-01T11:43:05.906Z"
      },
      {
        "duration": 13,
        "start_time": "2022-02-01T11:43:05.914Z"
      },
      {
        "duration": 20,
        "start_time": "2022-02-01T11:43:05.928Z"
      },
      {
        "duration": 5,
        "start_time": "2022-02-01T11:43:45.631Z"
      },
      {
        "duration": 1033,
        "start_time": "2022-02-01T11:43:52.361Z"
      },
      {
        "duration": 42,
        "start_time": "2022-02-01T11:43:53.396Z"
      },
      {
        "duration": 5,
        "start_time": "2022-02-01T11:43:53.440Z"
      },
      {
        "duration": 10,
        "start_time": "2022-02-01T11:43:53.446Z"
      },
      {
        "duration": 6,
        "start_time": "2022-02-01T11:43:53.458Z"
      },
      {
        "duration": 11,
        "start_time": "2022-02-01T11:43:53.466Z"
      },
      {
        "duration": 4,
        "start_time": "2022-02-01T11:43:53.478Z"
      },
      {
        "duration": 9,
        "start_time": "2022-02-01T11:43:53.484Z"
      },
      {
        "duration": 29,
        "start_time": "2022-02-01T11:43:53.495Z"
      },
      {
        "duration": 15,
        "start_time": "2022-02-01T11:43:53.525Z"
      },
      {
        "duration": 306,
        "start_time": "2022-02-01T11:43:53.541Z"
      },
      {
        "duration": 26,
        "start_time": "2022-02-01T11:43:53.849Z"
      },
      {
        "duration": 8,
        "start_time": "2022-02-01T11:43:53.876Z"
      },
      {
        "duration": 174,
        "start_time": "2022-02-01T11:43:53.886Z"
      },
      {
        "duration": 15,
        "start_time": "2022-02-01T11:43:54.062Z"
      },
      {
        "duration": 10,
        "start_time": "2022-02-01T11:43:54.079Z"
      },
      {
        "duration": 165,
        "start_time": "2022-02-01T11:43:54.090Z"
      },
      {
        "duration": 158,
        "start_time": "2022-02-01T11:43:54.256Z"
      },
      {
        "duration": 167,
        "start_time": "2022-02-01T11:43:54.416Z"
      },
      {
        "duration": 10,
        "start_time": "2022-02-01T11:43:54.585Z"
      },
      {
        "duration": 159,
        "start_time": "2022-02-01T11:43:54.596Z"
      },
      {
        "duration": 15,
        "start_time": "2022-02-01T11:43:54.756Z"
      },
      {
        "duration": 173,
        "start_time": "2022-02-01T11:43:54.776Z"
      },
      {
        "duration": 20,
        "start_time": "2022-02-01T11:43:54.952Z"
      },
      {
        "duration": 224,
        "start_time": "2022-02-01T11:43:54.973Z"
      },
      {
        "duration": 11,
        "start_time": "2022-02-01T11:43:55.199Z"
      },
      {
        "duration": 185,
        "start_time": "2022-02-01T11:43:55.211Z"
      },
      {
        "duration": 15,
        "start_time": "2022-02-01T11:43:55.397Z"
      },
      {
        "duration": 14,
        "start_time": "2022-02-01T11:43:55.413Z"
      },
      {
        "duration": 13,
        "start_time": "2022-02-01T11:43:55.428Z"
      },
      {
        "duration": 38,
        "start_time": "2022-02-01T11:43:55.442Z"
      },
      {
        "duration": 170,
        "start_time": "2022-02-01T11:43:55.481Z"
      },
      {
        "duration": 183,
        "start_time": "2022-02-01T11:43:55.653Z"
      },
      {
        "duration": 170,
        "start_time": "2022-02-01T11:43:55.837Z"
      },
      {
        "duration": 185,
        "start_time": "2022-02-01T11:43:56.009Z"
      },
      {
        "duration": 162,
        "start_time": "2022-02-01T11:43:56.196Z"
      },
      {
        "duration": 23,
        "start_time": "2022-02-01T11:43:56.360Z"
      },
      {
        "duration": 15,
        "start_time": "2022-02-01T11:43:56.384Z"
      },
      {
        "duration": 14,
        "start_time": "2022-02-01T11:43:56.400Z"
      },
      {
        "duration": 9,
        "start_time": "2022-02-01T11:43:56.416Z"
      },
      {
        "duration": 12,
        "start_time": "2022-02-01T11:43:56.426Z"
      },
      {
        "duration": 312,
        "start_time": "2022-02-01T11:43:56.472Z"
      },
      {
        "duration": 4,
        "start_time": "2022-02-01T11:43:56.786Z"
      },
      {
        "duration": 261,
        "start_time": "2022-02-01T11:43:56.791Z"
      },
      {
        "duration": 296,
        "start_time": "2022-02-01T11:43:57.053Z"
      },
      {
        "duration": 4,
        "start_time": "2022-02-01T11:43:57.350Z"
      },
      {
        "duration": 20,
        "start_time": "2022-02-01T11:43:57.355Z"
      },
      {
        "duration": 7,
        "start_time": "2022-02-01T11:43:57.377Z"
      },
      {
        "duration": 5,
        "start_time": "2022-02-01T11:43:57.385Z"
      },
      {
        "duration": 16,
        "start_time": "2022-02-01T11:43:57.391Z"
      },
      {
        "duration": 11,
        "start_time": "2022-02-01T11:43:57.408Z"
      },
      {
        "duration": 11,
        "start_time": "2022-02-01T11:43:57.421Z"
      },
      {
        "duration": 15,
        "start_time": "2022-02-01T11:43:57.433Z"
      },
      {
        "duration": 495,
        "start_time": "2022-02-01T11:43:57.449Z"
      },
      {
        "duration": 12,
        "start_time": "2022-02-01T11:43:57.946Z"
      },
      {
        "duration": 18,
        "start_time": "2022-02-01T11:43:57.960Z"
      },
      {
        "duration": 11,
        "start_time": "2022-02-01T11:43:57.979Z"
      },
      {
        "duration": 426,
        "start_time": "2022-02-01T11:43:57.991Z"
      },
      {
        "duration": 12,
        "start_time": "2022-02-01T11:43:58.418Z"
      },
      {
        "duration": 11,
        "start_time": "2022-02-01T11:43:58.431Z"
      },
      {
        "duration": 29,
        "start_time": "2022-02-01T11:43:58.443Z"
      },
      {
        "duration": 393,
        "start_time": "2022-02-01T11:43:58.473Z"
      },
      {
        "duration": 6,
        "start_time": "2022-02-01T11:43:58.868Z"
      },
      {
        "duration": 13,
        "start_time": "2022-02-01T11:43:58.875Z"
      },
      {
        "duration": 8,
        "start_time": "2022-02-01T11:43:58.889Z"
      },
      {
        "duration": 1021,
        "start_time": "2022-02-01T11:44:50.308Z"
      },
      {
        "duration": 43,
        "start_time": "2022-02-01T11:44:51.330Z"
      },
      {
        "duration": 5,
        "start_time": "2022-02-01T11:44:51.375Z"
      },
      {
        "duration": 10,
        "start_time": "2022-02-01T11:44:51.381Z"
      },
      {
        "duration": 13,
        "start_time": "2022-02-01T11:44:51.393Z"
      },
      {
        "duration": 12,
        "start_time": "2022-02-01T11:44:51.408Z"
      },
      {
        "duration": 11,
        "start_time": "2022-02-01T11:44:51.422Z"
      },
      {
        "duration": 26,
        "start_time": "2022-02-01T11:44:51.436Z"
      },
      {
        "duration": 19,
        "start_time": "2022-02-01T11:44:51.464Z"
      },
      {
        "duration": 274,
        "start_time": "2022-02-01T11:44:51.485Z"
      },
      {
        "duration": 22,
        "start_time": "2022-02-01T11:44:51.760Z"
      },
      {
        "duration": 8,
        "start_time": "2022-02-01T11:44:51.784Z"
      },
      {
        "duration": 173,
        "start_time": "2022-02-01T11:44:51.794Z"
      },
      {
        "duration": 11,
        "start_time": "2022-02-01T11:44:51.972Z"
      },
      {
        "duration": 15,
        "start_time": "2022-02-01T11:44:51.984Z"
      },
      {
        "duration": 162,
        "start_time": "2022-02-01T11:44:52.000Z"
      },
      {
        "duration": 161,
        "start_time": "2022-02-01T11:44:52.164Z"
      },
      {
        "duration": 166,
        "start_time": "2022-02-01T11:44:52.327Z"
      },
      {
        "duration": 11,
        "start_time": "2022-02-01T11:44:52.495Z"
      },
      {
        "duration": 167,
        "start_time": "2022-02-01T11:44:52.507Z"
      },
      {
        "duration": 12,
        "start_time": "2022-02-01T11:44:52.676Z"
      },
      {
        "duration": 172,
        "start_time": "2022-02-01T11:44:52.689Z"
      },
      {
        "duration": 16,
        "start_time": "2022-02-01T11:44:52.865Z"
      },
      {
        "duration": 222,
        "start_time": "2022-02-01T11:44:52.883Z"
      },
      {
        "duration": 12,
        "start_time": "2022-02-01T11:44:53.107Z"
      },
      {
        "duration": 185,
        "start_time": "2022-02-01T11:44:53.120Z"
      },
      {
        "duration": 14,
        "start_time": "2022-02-01T11:44:53.307Z"
      },
      {
        "duration": 14,
        "start_time": "2022-02-01T11:44:53.322Z"
      },
      {
        "duration": 34,
        "start_time": "2022-02-01T11:44:53.338Z"
      },
      {
        "duration": 13,
        "start_time": "2022-02-01T11:44:53.374Z"
      },
      {
        "duration": 181,
        "start_time": "2022-02-01T11:44:53.389Z"
      },
      {
        "duration": 174,
        "start_time": "2022-02-01T11:44:53.572Z"
      },
      {
        "duration": 162,
        "start_time": "2022-02-01T11:44:53.747Z"
      },
      {
        "duration": 178,
        "start_time": "2022-02-01T11:44:53.911Z"
      },
      {
        "duration": 182,
        "start_time": "2022-02-01T11:44:54.090Z"
      },
      {
        "duration": 14,
        "start_time": "2022-02-01T11:44:54.274Z"
      },
      {
        "duration": 13,
        "start_time": "2022-02-01T11:44:54.290Z"
      },
      {
        "duration": 13,
        "start_time": "2022-02-01T11:44:54.304Z"
      },
      {
        "duration": 9,
        "start_time": "2022-02-01T11:44:54.318Z"
      },
      {
        "duration": 12,
        "start_time": "2022-02-01T11:44:54.329Z"
      },
      {
        "duration": 290,
        "start_time": "2022-02-01T11:44:54.342Z"
      },
      {
        "duration": 4,
        "start_time": "2022-02-01T11:44:54.634Z"
      },
      {
        "duration": 324,
        "start_time": "2022-02-01T11:44:54.640Z"
      },
      {
        "duration": 289,
        "start_time": "2022-02-01T11:44:54.966Z"
      },
      {
        "duration": 15,
        "start_time": "2022-02-01T11:44:55.257Z"
      },
      {
        "duration": 9,
        "start_time": "2022-02-01T11:44:55.274Z"
      },
      {
        "duration": 8,
        "start_time": "2022-02-01T11:44:55.285Z"
      },
      {
        "duration": 5,
        "start_time": "2022-02-01T11:44:55.294Z"
      },
      {
        "duration": 18,
        "start_time": "2022-02-01T11:44:55.300Z"
      },
      {
        "duration": 11,
        "start_time": "2022-02-01T11:44:55.319Z"
      },
      {
        "duration": 12,
        "start_time": "2022-02-01T11:44:55.332Z"
      },
      {
        "duration": 34,
        "start_time": "2022-02-01T11:44:55.345Z"
      },
      {
        "duration": 497,
        "start_time": "2022-02-01T11:44:55.380Z"
      },
      {
        "duration": 13,
        "start_time": "2022-02-01T11:44:55.878Z"
      },
      {
        "duration": 14,
        "start_time": "2022-02-01T11:44:55.893Z"
      },
      {
        "duration": 11,
        "start_time": "2022-02-01T11:44:55.908Z"
      },
      {
        "duration": 434,
        "start_time": "2022-02-01T11:44:55.921Z"
      },
      {
        "duration": 19,
        "start_time": "2022-02-01T11:44:56.357Z"
      },
      {
        "duration": 24,
        "start_time": "2022-02-01T11:44:56.377Z"
      },
      {
        "duration": 17,
        "start_time": "2022-02-01T11:44:56.403Z"
      },
      {
        "duration": 418,
        "start_time": "2022-02-01T11:44:56.422Z"
      },
      {
        "duration": 5,
        "start_time": "2022-02-01T11:44:56.841Z"
      },
      {
        "duration": 20,
        "start_time": "2022-02-01T11:44:56.848Z"
      },
      {
        "duration": 23,
        "start_time": "2022-02-01T11:44:56.872Z"
      }
    ],
    "kernelspec": {
      "display_name": "Python 3 (ipykernel)",
      "language": "python",
      "name": "python3"
    },
    "language_info": {
      "codemirror_mode": {
        "name": "ipython",
        "version": 3
      },
      "file_extension": ".py",
      "mimetype": "text/x-python",
      "name": "python",
      "nbconvert_exporter": "python",
      "pygments_lexer": "ipython3",
      "version": "3.9.5"
    },
    "toc": {
      "base_numbering": 1,
      "nav_menu": {},
      "number_sections": true,
      "sideBar": true,
      "skip_h1_title": true,
      "title_cell": "Table of Contents",
      "title_sidebar": "Contents",
      "toc_cell": false,
      "toc_position": {},
      "toc_section_display": true,
      "toc_window_display": false
    },
    "colab": {
      "name": "компьютерные игры.ipynb",
      "provenance": []
    }
  },
  "nbformat": 4,
  "nbformat_minor": 0
}